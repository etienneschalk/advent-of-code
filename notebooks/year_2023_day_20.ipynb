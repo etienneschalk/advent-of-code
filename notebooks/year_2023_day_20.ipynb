{
 "cells": [
  {
   "cell_type": "code",
   "execution_count": null,
   "metadata": {},
   "outputs": [],
   "source": [
    "from graphviz import Digraph  # pyright: ignore[reportMissingTypeStubs]\n",
    "\n",
    "\n",
    "# Create Digraph object\n",
    "dot = Digraph()\n",
    "dot.node(\"A\")\n",
    "dot.node(\"B\")\n",
    "dot.edge(\"A\", \"B\")"
   ]
  },
  {
   "cell_type": "code",
   "execution_count": null,
   "metadata": {},
   "outputs": [],
   "source": [
    "dot"
   ]
  },
  {
   "cell_type": "code",
   "execution_count": null,
   "metadata": {},
   "outputs": [],
   "source": [
    "from pathlib import Path\n",
    "from advent_of_code.common import get_input_file_path\n",
    "from advent_of_code.year_2023.year_2023_day_20 import (\n",
    "    parse_text_to_module_dict,\n",
    ")\n",
    "\n",
    "\n",
    "text = (Path(\"../\") / get_input_file_path(2023, 20)).read_text()\n",
    "start_module_dict = parse_text_to_module_dict(text)"
   ]
  },
  {
   "cell_type": "code",
   "execution_count": null,
   "metadata": {},
   "outputs": [],
   "source": [
    "start_module_dict"
   ]
  },
  {
   "cell_type": "code",
   "execution_count": null,
   "metadata": {},
   "outputs": [],
   "source": [
    "from advent_of_code.year_2023.year_2023_day_20 import ConjunctionModule, FlipFlopModule\n",
    "\n",
    "\n",
    "dot = Digraph()\n",
    "for module in start_module_dict.values():\n",
    "    fillcolor = \"white\"\n",
    "    if isinstance(module, FlipFlopModule):\n",
    "        fillcolor = \"#ccffff\"  # cyan = flipflop\n",
    "    elif isinstance(module, ConjunctionModule):\n",
    "        fillcolor = \"#ffccff\"  # magenta = conjunction\n",
    "    dot.node(f\"{module.name}\", style=\"filled\", fillcolor=fillcolor)\n",
    "    for child in module.destination_names:\n",
    "        dot.edge(module.name, child)\n",
    "dot"
   ]
  },
  {
   "cell_type": "code",
   "execution_count": null,
   "metadata": {},
   "outputs": [],
   "source": [
    "conjunction_module = start_module_dict[\"hb\"]\n",
    "assert isinstance(conjunction_module, ConjunctionModule)\n",
    "conjunction_module.inputs"
   ]
  }
 ],
 "metadata": {
  "kernelspec": {
   "display_name": "advent-of-code-CEbbwEIT-py3.10",
   "language": "python",
   "name": "python3"
  },
  "language_info": {
   "codemirror_mode": {
    "name": "ipython",
    "version": 3
   },
   "file_extension": ".py",
   "mimetype": "text/x-python",
   "name": "python",
   "nbconvert_exporter": "python",
   "pygments_lexer": "ipython3",
   "version": "3.12.1"
  }
 },
 "nbformat": 4,
 "nbformat_minor": 2
}
