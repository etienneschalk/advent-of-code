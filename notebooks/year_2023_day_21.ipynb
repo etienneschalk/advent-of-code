{
 "cells": [
  {
   "cell_type": "code",
   "execution_count": null,
   "metadata": {},
   "outputs": [],
   "source": [
    "import numpy as np \n",
    "import xarray as xr \n"
   ]
  },
  {
   "cell_type": "code",
   "execution_count": null,
   "metadata": {},
   "outputs": [],
   "source": [
    "full_size = True\n",
    "if full_size:\n",
    "    SIDE = 131\n",
    "    MIDDLE = 65\n",
    "else:\n",
    "    SIDE = 11\n",
    "    MIDDLE = 5"
   ]
  },
  {
   "cell_type": "code",
   "execution_count": null,
   "metadata": {},
   "outputs": [],
   "source": [
    "arr = np.zeros((SIDE, SIDE), dtype=np.bool_)\n",
    "assert SIDE // 2 == MIDDLE\n",
    "starting_pos  = MIDDLE\n",
    "arr[MIDDLE][MIDDLE] # starting pos"
   ]
  },
  {
   "cell_type": "code",
   "execution_count": null,
   "metadata": {},
   "outputs": [],
   "source": [
    "xda = xr.DataArray(\n",
    "        arr,\n",
    "        coords={\n",
    "            \"row\": list(range(arr.shape[0])),\n",
    "            \"col\": list(range(arr.shape[1])),\n",
    "        },)\n",
    "xda\n"
   ]
  },
  {
   "cell_type": "code",
   "execution_count": null,
   "metadata": {},
   "outputs": [],
   "source": [
    "def create_diamond_mask(xda) -> xr.DataArray:\n",
    "    diamond_arr = np.abs((xda.row.values[:, None] - (xda.row.size // 2))) + (\n",
    "        np.abs(xda.col.values - (xda.row.size // 2))\n",
    "    )\n",
    "\n",
    "    xda = xda.copy(data=diamond_arr)\n",
    "    assert xda.sel(row=xda.row.size // 2, col=xda.row.size // 2) == 0\n",
    "    diamond_mask = (xda.where(np.abs(xda) <= xda.row.size // 2, -1) >= 0).astype(\n",
    "        np.uint8\n",
    "    )\n",
    "    return diamond_mask"
   ]
  },
  {
   "cell_type": "code",
   "execution_count": null,
   "metadata": {},
   "outputs": [],
   "source": [
    "diamond_arr = np.abs((xda.row.values[:, None] - (xda.row.size // 2))) + (\n",
    "    np.abs(xda.col.values - (xda.row.size // 2))\n",
    ")\n",
    "xda = xda.copy(data=diamond_arr)\n",
    "assert xda.sel(row=xda.row.size // 2, col=xda.row.size // 2) == 0\n",
    "xda"
   ]
  },
  {
   "cell_type": "code",
   "execution_count": null,
   "metadata": {},
   "outputs": [],
   "source": [
    "xda[MIDDLE]"
   ]
  },
  {
   "cell_type": "code",
   "execution_count": null,
   "metadata": {},
   "outputs": [],
   "source": [
    "diamond_mask = (xda.where(np.abs(xda) <= xda.row.size // 2, -1) >= 0).astype(np.uint8)"
   ]
  },
  {
   "cell_type": "code",
   "execution_count": null,
   "metadata": {},
   "outputs": [],
   "source": [
    "top_left = diamond_mask[:MIDDLE, :MIDDLE]\n",
    "top_left"
   ]
  },
  {
   "cell_type": "code",
   "execution_count": null,
   "metadata": {},
   "outputs": [],
   "source": [
    "top_left = diamond_mask[:MIDDLE+1, :MIDDLE+1]\n",
    "top_left"
   ]
  },
  {
   "cell_type": "markdown",
   "metadata": {},
   "source": [
    "## With input"
   ]
  },
  {
   "cell_type": "code",
   "execution_count": null,
   "metadata": {},
   "outputs": [],
   "source": [
    "from pathlib import Path\n",
    "from advent_of_code.common import get_input_file_path\n",
    "from advent_of_code.year_2023.year_2023_day_21 import (\n",
    "    parse_text_input,\n",
    ")\n",
    "\n",
    "\n",
    "text = (Path(\"../\") / get_input_file_path(2023, 21)).read_text()\n",
    "garden = parse_text_input(text)\n",
    "garden"
   ]
  },
  {
   "cell_type": "code",
   "execution_count": null,
   "metadata": {},
   "outputs": [],
   "source": [
    "free = ((garden == b\".\" )| (garden == b\"S\"))"
   ]
  },
  {
   "cell_type": "code",
   "execution_count": null,
   "metadata": {},
   "outputs": [],
   "source": [
    "free.plot()"
   ]
  },
  {
   "cell_type": "code",
   "execution_count": null,
   "metadata": {},
   "outputs": [],
   "source": [
    "(~free).plot()"
   ]
  },
  {
   "cell_type": "code",
   "execution_count": 51,
   "metadata": {},
   "outputs": [
    {
     "name": "stdout",
     "output_type": "stream",
     "text": [
      "Error in callback <function _draw_all_if_interactive at 0x7f6e7fcc5ea0> (for post_execute), with arguments args (),kwargs {}:\n"
     ]
    }
   ],
   "source": [
    "create_diamond_mask(free).plot()"
   ]
  },
  {
   "cell_type": "markdown",
   "metadata": {},
   "source": [
    "### Observation on Data\n",
    "\n",
    "- All edges are free\n",
    "- The middle row and middle cols are free\n",
    "- Presence of a diagonal path\n",
    "\n",
    "Hence the image can be safely divided into 8 half-quadrants"
   ]
  },
  {
   "cell_type": "code",
   "execution_count": null,
   "metadata": {},
   "outputs": [],
   "source": [
    "free"
   ]
  },
  {
   "cell_type": "code",
   "execution_count": null,
   "metadata": {},
   "outputs": [],
   "source": [
    "assert (free[0]).all().item()\n",
    "assert (free[-1]).all().item()\n",
    "assert (free[:, 0]).all().item()\n",
    "assert (free[:, -1]).all().item()\n",
    "assert free[MIDDLE].all().item()\n",
    "assert free[:, MIDDLE].all().item()"
   ]
  },
  {
   "cell_type": "code",
   "execution_count": null,
   "metadata": {},
   "outputs": [],
   "source": [
    "from advent_of_code.year_2023.year_2023_day_21 import get_starting_position, run_steps_details\n",
    "initial_pos = get_starting_position(garden)\n",
    "max_iter = 65 * 2\n",
    "# max_iter = 6\n",
    "\n",
    "history, reached, reached_even_xda, reached_odd_xda= run_steps_details(garden, initial_pos, max_iter)\n",
    "...\n"
   ]
  },
  {
   "cell_type": "code",
   "execution_count": null,
   "metadata": {},
   "outputs": [],
   "source": [
    "import matplotlib.pyplot as plt\n",
    "reached_odd_xda.plot.imshow()"
   ]
  },
  {
   "cell_type": "code",
   "execution_count": null,
   "metadata": {},
   "outputs": [],
   "source": [
    "reached_even_xda.plot.imshow()"
   ]
  },
  {
   "cell_type": "code",
   "execution_count": null,
   "metadata": {},
   "outputs": [],
   "source": []
  },
  {
   "cell_type": "markdown",
   "metadata": {},
   "source": [
    "### Check part 1 can be found again"
   ]
  },
  {
   "cell_type": "code",
   "execution_count": null,
   "metadata": {},
   "outputs": [],
   "source": [
    "max_iter = 64 # we will want the even\n",
    "_, _, reached_even_xda_p1, reached_odd_xda_p1 = run_steps_details(\n",
    "    garden, initial_pos, max_iter\n",
    ")"
   ]
  },
  {
   "cell_type": "code",
   "execution_count": null,
   "metadata": {},
   "outputs": [],
   "source": []
  },
  {
   "cell_type": "code",
   "execution_count": null,
   "metadata": {},
   "outputs": [],
   "source": [
    "diamond_1x1 = create_diamond_mask(reached_even_xda_p1)\n",
    "diamond_1x1.plot.imshow()"
   ]
  },
  {
   "cell_type": "code",
   "execution_count": null,
   "metadata": {},
   "outputs": [],
   "source": [
    "assert reached_even_xda_p1.where(diamond_1x1, 0).sum() == 3740"
   ]
  },
  {
   "cell_type": "markdown",
   "metadata": {},
   "source": [
    "### 1x1"
   ]
  },
  {
   "cell_type": "code",
   "execution_count": null,
   "metadata": {},
   "outputs": [],
   "source": [
    "odd = reached_odd_xda\n",
    "eve = reached_even_xda"
   ]
  },
  {
   "cell_type": "code",
   "execution_count": null,
   "metadata": {},
   "outputs": [],
   "source": [
    "odd.where(create_diamond_mask(odd), 0).sum().item()"
   ]
  },
  {
   "cell_type": "code",
   "execution_count": null,
   "metadata": {},
   "outputs": [],
   "source": [
    "assert eve.where(create_diamond_mask(eve), 0).sum().item() == 3740 \n",
    "# Part 1 also works when using the eve diagram (as 65 = 64 + 1, we juste iterated one more time)"
   ]
  },
  {
   "cell_type": "markdown",
   "metadata": {},
   "source": [
    "### 3x3 concat\n",
    "\n",
    "!!!\n",
    "\n",
    "Note: The step count is EVEN, so even must be placed back at the center of the mosaic\n"
   ]
  },
  {
   "cell_type": "code",
   "execution_count": null,
   "metadata": {},
   "outputs": [],
   "source": [
    "assert MIDDLE + 1 * odd.row.size == 196  # 65 + 1 * 131"
   ]
  },
  {
   "cell_type": "code",
   "execution_count": null,
   "metadata": {},
   "outputs": [],
   "source": [
    "new_coords3 = list(range(3 * odd.row.size))\n",
    "concat3 = xr.concat(\n",
    "    [\n",
    "        xr.concat([eve, odd, eve], dim=\"col\"),\n",
    "        xr.concat([odd, eve, odd], dim=\"col\"),\n",
    "        xr.concat([eve, odd, eve], dim=\"col\"),\n",
    "    ],\n",
    "    dim=\"row\",\n",
    ").assign_coords(dict(row=new_coords3, col=new_coords3))\n",
    "concat3"
   ]
  },
  {
   "cell_type": "code",
   "execution_count": null,
   "metadata": {},
   "outputs": [],
   "source": []
  },
  {
   "cell_type": "code",
   "execution_count": null,
   "metadata": {},
   "outputs": [],
   "source": [
    "concat3.plot.imshow(size=30)"
   ]
  },
  {
   "cell_type": "code",
   "execution_count": null,
   "metadata": {},
   "outputs": [],
   "source": [
    "diamond_3x3 = create_diamond_mask(concat3)\n",
    "diamond_3x3.plot.imshow()"
   ]
  },
  {
   "cell_type": "code",
   "execution_count": null,
   "metadata": {},
   "outputs": [],
   "source": [
    "concat3.where(diamond_3x3, 0).sum().item()"
   ]
  },
  {
   "cell_type": "code",
   "execution_count": null,
   "metadata": {},
   "outputs": [],
   "source": [
    "concat3"
   ]
  },
  {
   "cell_type": "markdown",
   "metadata": {},
   "source": [
    "### 5x5 concat\n",
    "\n",
    "Note: The step count is odd, so odd must be placed back at the center of the mosaic"
   ]
  },
  {
   "cell_type": "code",
   "execution_count": null,
   "metadata": {},
   "outputs": [],
   "source": [
    "assert MIDDLE + 2 * odd.row.size == 327 # 65 + 2 * 131"
   ]
  },
  {
   "cell_type": "code",
   "execution_count": null,
   "metadata": {},
   "outputs": [],
   "source": [
    "new_coords5 = list(range(5 * odd.row.size))\n",
    "concat5 = xr.concat(\n",
    "    [\n",
    "        xr.concat([odd, eve, odd, eve, odd], dim=\"col\"),\n",
    "        xr.concat([eve, odd, eve, odd, eve], dim=\"col\"),\n",
    "        xr.concat([odd, eve, odd, eve, odd], dim=\"col\"),\n",
    "        xr.concat([eve, odd, eve, odd, eve], dim=\"col\"),\n",
    "        xr.concat([odd, eve, odd, eve, odd], dim=\"col\"),\n",
    "    ],\n",
    "    dim=\"row\",\n",
    ").assign_coords(dict(row=new_coords5, col=new_coords5))\n",
    "concat5"
   ]
  },
  {
   "cell_type": "code",
   "execution_count": null,
   "metadata": {},
   "outputs": [],
   "source": [
    "concat5.plot.imshow()"
   ]
  },
  {
   "cell_type": "code",
   "execution_count": null,
   "metadata": {},
   "outputs": [],
   "source": [
    "diamond_5x5 = create_diamond_mask(concat5)\n",
    "diamond_5x5.plot.imshow()"
   ]
  },
  {
   "cell_type": "code",
   "execution_count": null,
   "metadata": {},
   "outputs": [],
   "source": [
    "concat5.where(diamond_5x5, 0).sum().item()"
   ]
  },
  {
   "cell_type": "code",
   "execution_count": null,
   "metadata": {},
   "outputs": [],
   "source": [
    "# Thanks https://www.reddit.com/r/adventofcode/comments/18nevo3/comment/kebm6ak/?utm_source=share&utm_medium=web3x&utm_name=web3xcss&utm_term=1&utm_content=share_button\n",
    "# Not having to lagrange myself\n",
    "# The area growing is x**2, so 3 points are required to interpolate, hence the previous computing\n",
    "# of 1x1, 3x3 and 5x5 grids\n",
    "def evaluate_quadratic_equation(x, y, target):\n",
    "    # Fit a quadratic polynomial (degree=2) through the points\n",
    "    coefficients = np.polyfit(x, y, 2)\n",
    "\n",
    "    # Evaluate the quadratic equation at the given target value\n",
    "    result = np.polyval(coefficients, target)\n",
    "\n",
    "    return round(result)"
   ]
  },
  {
   "cell_type": "code",
   "execution_count": null,
   "metadata": {},
   "outputs": [],
   "source": [
    "import numpy as np\n",
    "\n",
    "x = (0, 1, 2)\n",
    "y = (\n",
    "    odd.where(create_diamond_mask(odd), 0).sum().item(),\n",
    "    concat3.where(diamond_3x3, 0).sum().item(),\n",
    "    concat5.where(diamond_5x5, 0).sum().item())\n"
   ]
  },
  {
   "cell_type": "code",
   "execution_count": null,
   "metadata": {},
   "outputs": [],
   "source": [
    "evaluate_quadratic_equation(x, y, 0) == y[0]"
   ]
  },
  {
   "cell_type": "code",
   "execution_count": null,
   "metadata": {},
   "outputs": [],
   "source": [
    "evaluate_quadratic_equation(x, y, 1) == y[1]"
   ]
  },
  {
   "cell_type": "code",
   "execution_count": null,
   "metadata": {},
   "outputs": [],
   "source": [
    "evaluate_quadratic_equation(x, y, 2) == y[2]"
   ]
  },
  {
   "cell_type": "code",
   "execution_count": null,
   "metadata": {},
   "outputs": [],
   "source": [
    "result = evaluate_quadratic_equation(x, y, 26501365 // 131)"
   ]
  },
  {
   "cell_type": "code",
   "execution_count": null,
   "metadata": {},
   "outputs": [],
   "source": [
    "635572702833258 # Too high\n",
    "# The error was because I forgot to put the even array at the center of the 3x3 mosaic\n",
    "# Each macro step changes the parity"
   ]
  },
  {
   "cell_type": "code",
   "execution_count": null,
   "metadata": {},
   "outputs": [],
   "source": [
    "assert result < 635572702833258"
   ]
  },
  {
   "cell_type": "code",
   "execution_count": null,
   "metadata": {},
   "outputs": [],
   "source": [
    "result"
   ]
  }
 ],
 "metadata": {
  "kernelspec": {
   "display_name": "advent-of-code-CEbbwEIT-py3.10",
   "language": "python",
   "name": "python3"
  },
  "language_info": {
   "codemirror_mode": {
    "name": "ipython",
    "version": 3
   },
   "file_extension": ".py",
   "mimetype": "text/x-python",
   "name": "python",
   "nbconvert_exporter": "python",
   "pygments_lexer": "ipython3",
   "version": "3.10.12"
  }
 },
 "nbformat": 4,
 "nbformat_minor": 2
}
