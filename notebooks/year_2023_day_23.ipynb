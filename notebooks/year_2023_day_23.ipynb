{
 "cells": [
  {
   "cell_type": "code",
   "execution_count": null,
   "metadata": {},
   "outputs": [],
   "source": [
    "from pathlib import Path\n",
    "from advent_of_code.common import get_input_file_path\n",
    "from advent_of_code.year_2023.year_2023_day_23 import (\n",
    "    parse_text_input,\n",
    ")\n",
    "\n",
    "\n"
   ]
  },
  {
   "cell_type": "markdown",
   "metadata": {},
   "source": [
    "## Test data"
   ]
  },
  {
   "cell_type": "code",
   "execution_count": null,
   "metadata": {},
   "outputs": [],
   "source": [
    "EXAMPLE_INPUT = \"\"\"\n",
    "\n",
    "#.#####################\n",
    "#.......#########...###\n",
    "#######.#########.#.###\n",
    "###.....#.>.>.###.#.###\n",
    "###v#####.#v#.###.#.###\n",
    "###.>...#.#.#.....#...#\n",
    "###v###.#.#.#########.#\n",
    "###...#.#.#.......#...#\n",
    "#####.#.#.#######.#.###\n",
    "#.....#.#.#.......#...#\n",
    "#.#####.#.#.#########v#\n",
    "#.#...#...#...###...>.#\n",
    "#.#.#v#######v###.###v#\n",
    "#...#.>.#...>.>.#.###.#\n",
    "#####v#.#.###v#.#.###.#\n",
    "#.....#...#...#.#.#...#\n",
    "#.#########.###.#.#.###\n",
    "#...###...#...#...#.###\n",
    "###.###.#.###v#####v###\n",
    "#...#...#.#.>.>.#.>.###\n",
    "#.###.###.#.###.#.#v###\n",
    "#.....###...###...#...#\n",
    "#####################.#\n",
    "\n",
    "\"\"\""
   ]
  },
  {
   "cell_type": "code",
   "execution_count": null,
   "metadata": {},
   "outputs": [],
   "source": [
    "text = EXAMPLE_INPUT\n",
    "parsed = parse_text_input(text)"
   ]
  },
  {
   "cell_type": "code",
   "execution_count": null,
   "metadata": {},
   "outputs": [],
   "source": [
    "from advent_of_code.year_2023.year_2023_day_23 import compute_exploration_tree, flatten_exploration_tree\n",
    "\n",
    "\n",
    "hiking_trail = hk = parsed\n",
    "starting_position = (1, 2)\n",
    "\n",
    "tree = compute_exploration_tree(hk, starting_position)\n",
    "flat = flatten_exploration_tree(tree)"
   ]
  },
  {
   "cell_type": "code",
   "execution_count": null,
   "metadata": {},
   "outputs": [],
   "source": [
    "from advent_of_code.year_2023.year_2023_day_23 import (\n",
    "    TrailNode,\n",
    "    bruteforce_paths_in_exploration_tree,\n",
    ")\n",
    "\n",
    "\n",
    "def create_flat_simplified(flat: dict):\n",
    "    flat_simplified = {\n",
    "        format_node(v): [format_node(c) for c in v.children] for k, v in flat.items()\n",
    "    }\n",
    "\n",
    "    return flat_simplified\n",
    "\n",
    "\n",
    "def format_node(node: TrailNode) -> str:\n",
    "    return f\"{node.length}\\n{node.starting_position}\""
   ]
  },
  {
   "cell_type": "code",
   "execution_count": null,
   "metadata": {},
   "outputs": [],
   "source": [
    "from advent_of_code.graph_visualization import construct_dot_graph_from_dict\n",
    "\n",
    "flat_simplified = create_flat_simplified(flat)\n",
    "dot = construct_dot_graph_from_dict(flat_simplified)\n",
    "dot"
   ]
  },
  {
   "cell_type": "code",
   "execution_count": null,
   "metadata": {},
   "outputs": [],
   "source": [
    "bf = bruteforce_paths_in_exploration_tree(tree, 0)"
   ]
  },
  {
   "cell_type": "code",
   "execution_count": null,
   "metadata": {},
   "outputs": [],
   "source": [
    "bf"
   ]
  },
  {
   "cell_type": "code",
   "execution_count": null,
   "metadata": {},
   "outputs": [],
   "source": [
    "import re\n",
    "\n",
    "# It works ^^\n",
    "flattened = [int(c) for c in re.findall(\"\\d+\", str(bf))]\n",
    "flattened"
   ]
  },
  {
   "cell_type": "code",
   "execution_count": null,
   "metadata": {},
   "outputs": [],
   "source": [
    "import numpy as np\n",
    "np.array(list(reversed(sorted(flattened)))) - 1"
   ]
  },
  {
   "cell_type": "markdown",
   "metadata": {},
   "source": [
    "## Actual data"
   ]
  },
  {
   "cell_type": "code",
   "execution_count": null,
   "metadata": {},
   "outputs": [],
   "source": [
    "text = (Path(\"../\") / get_input_file_path(2023, 23)).read_text()\n",
    "parsed = parse_text_input(text)"
   ]
  },
  {
   "cell_type": "code",
   "execution_count": null,
   "metadata": {},
   "outputs": [],
   "source": [
    "hiking_trail = hk = parsed\n",
    "starting_position = (1, 2)\n",
    "\n",
    "tree = compute_exploration_tree(hk, starting_position)\n",
    "flat = flatten_exploration_tree(tree)\n",
    "flat_simplified = create_flat_simplified(flat)\n",
    "dot = construct_dot_graph_from_dict(flat_simplified)\n",
    "dot"
   ]
  }
 ],
 "metadata": {
  "kernelspec": {
   "display_name": "advent-of-code-CEbbwEIT-py3.10",
   "language": "python",
   "name": "python3"
  },
  "language_info": {
   "codemirror_mode": {
    "name": "ipython",
    "version": 3
   },
   "file_extension": ".py",
   "mimetype": "text/x-python",
   "name": "python",
   "nbconvert_exporter": "python",
   "pygments_lexer": "ipython3",
   "version": "3.10.12"
  }
 },
 "nbformat": 4,
 "nbformat_minor": 2
}
