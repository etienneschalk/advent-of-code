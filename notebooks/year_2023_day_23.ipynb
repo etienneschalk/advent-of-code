{
 "cells": [
  {
   "cell_type": "code",
   "execution_count": null,
   "metadata": {},
   "outputs": [],
   "source": [
    "from pathlib import Path\n",
    "from advent_of_code.common import get_input_file_path\n",
    "from advent_of_code.year_2023.year_2023_day_23 import (\n",
    "    parse_text_input,\n",
    ")\n",
    "\n",
    "\n"
   ]
  },
  {
   "cell_type": "markdown",
   "metadata": {},
   "source": [
    "## Test data"
   ]
  },
  {
   "cell_type": "markdown",
   "metadata": {},
   "source": [
    "### Part 1"
   ]
  },
  {
   "cell_type": "code",
   "execution_count": null,
   "metadata": {},
   "outputs": [],
   "source": [
    "EXAMPLE_INPUT = \"\"\"\n",
    "\n",
    "#.#####################\n",
    "#.......#########...###\n",
    "#######.#########.#.###\n",
    "###.....#.>.>.###.#.###\n",
    "###v#####.#v#.###.#.###\n",
    "###.>...#.#.#.....#...#\n",
    "###v###.#.#.#########.#\n",
    "###...#.#.#.......#...#\n",
    "#####.#.#.#######.#.###\n",
    "#.....#.#.#.......#...#\n",
    "#.#####.#.#.#########v#\n",
    "#.#...#...#...###...>.#\n",
    "#.#.#v#######v###.###v#\n",
    "#...#.>.#...>.>.#.###.#\n",
    "#####v#.#.###v#.#.###.#\n",
    "#.....#...#...#.#.#...#\n",
    "#.#########.###.#.#.###\n",
    "#...###...#...#...#.###\n",
    "###.###.#.###v#####v###\n",
    "#...#...#.#.>.>.#.>.###\n",
    "#.###.###.#.###.#.#v###\n",
    "#.....###...###...#...#\n",
    "#####################.#\n",
    "\n",
    "\"\"\""
   ]
  },
  {
   "cell_type": "code",
   "execution_count": null,
   "metadata": {},
   "outputs": [],
   "source": [
    "text = EXAMPLE_INPUT\n",
    "parsed = parse_text_input(text)"
   ]
  },
  {
   "cell_type": "code",
   "execution_count": null,
   "metadata": {},
   "outputs": [],
   "source": [
    "from advent_of_code.year_2023.year_2023_day_23 import compute_exploration_tree, flatten_exploration_tree\n",
    "\n",
    "\n",
    "hiking_trail = hk = parsed\n",
    "starting_position = (1, 2)\n",
    "\n",
    "tree = compute_exploration_tree(hk, starting_position)\n",
    "flat = flatten_exploration_tree(tree)"
   ]
  },
  {
   "cell_type": "code",
   "execution_count": null,
   "metadata": {},
   "outputs": [],
   "source": [
    "from advent_of_code.year_2023.year_2023_day_23 import (\n",
    "    TrailNode,\n",
    "    bruteforce_paths_in_exploration_tree,\n",
    ")\n",
    "\n",
    "\n"
   ]
  },
  {
   "cell_type": "code",
   "execution_count": null,
   "metadata": {},
   "outputs": [],
   "source": [
    "from advent_of_code.graph_visualization import construct_dot_graph_from_dict\n",
    "from advent_of_code.year_2023.year_2023_day_23 import create_flat_simplified\n",
    "\n",
    "flat_simplified = create_flat_simplified(flat)\n",
    "dot = construct_dot_graph_from_dict(flat_simplified)\n",
    "dot"
   ]
  },
  {
   "cell_type": "code",
   "execution_count": null,
   "metadata": {},
   "outputs": [],
   "source": [
    "bf = bruteforce_paths_in_exploration_tree(tree, 0)"
   ]
  },
  {
   "cell_type": "code",
   "execution_count": null,
   "metadata": {},
   "outputs": [],
   "source": [
    "bf"
   ]
  },
  {
   "cell_type": "code",
   "execution_count": null,
   "metadata": {},
   "outputs": [],
   "source": [
    "import re\n",
    "\n",
    "# It works ^^\n",
    "flattened = [int(c) for c in re.findall(\"\\d+\", str(bf))]\n",
    "flattened"
   ]
  },
  {
   "cell_type": "code",
   "execution_count": null,
   "metadata": {},
   "outputs": [],
   "source": [
    "import numpy as np\n",
    "np.array(list(reversed(sorted(flattened)))) - 1"
   ]
  },
  {
   "cell_type": "markdown",
   "metadata": {},
   "source": [
    "### Part 2\n",
    "\n",
    "Assumption: In Part 1, we already explored all paths. The explored graph\n",
    "should be reusable and transformed into an undirected graph. No need to backtrack.\n",
    "Note: if bugs arise, verify more formally this assumption."
   ]
  },
  {
   "cell_type": "code",
   "execution_count": null,
   "metadata": {},
   "outputs": [],
   "source": []
  },
  {
   "cell_type": "code",
   "execution_count": null,
   "metadata": {},
   "outputs": [],
   "source": [
    "# from dataclasses import replace\n",
    "\n",
    "# from advent_of_code.year_2023.year_2023_day_23 import make_undirected_graph\n",
    "\n",
    "\n",
    "# make_undirected_graph(flat)\n",
    "# undirected = flat\n",
    "# [cc.starting_position for cc in undirected[(1, 2)].children[0].children]"
   ]
  },
  {
   "cell_type": "code",
   "execution_count": null,
   "metadata": {},
   "outputs": [],
   "source": [
    "# [cc.starting_position for cc in flat[(1, 2)].children[0].children]"
   ]
  },
  {
   "cell_type": "code",
   "execution_count": null,
   "metadata": {},
   "outputs": [],
   "source": [
    "# [cc.starting_position for cc in undirected[(6, 4)].children]"
   ]
  },
  {
   "cell_type": "code",
   "execution_count": null,
   "metadata": {},
   "outputs": [],
   "source": [
    "from advent_of_code.year_2023.year_2023_day_23 import (\n",
    "    create_flat_simplified_tuple,\n",
    "    make_undirected_graph,\n",
    ")\n",
    "\n",
    "\n",
    "flat = create_flat_simplified_tuple(flat)\n",
    "couples = make_undirected_graph(flat, bidirectional=True)\n",
    "couples_for_visu = make_undirected_graph(flat, bidirectional=False)\n",
    "couples\n",
    "couples_mapping = {t[0]: t[1] for t in couples}\n",
    "couples_mapping"
   ]
  },
  {
   "cell_type": "code",
   "execution_count": null,
   "metadata": {},
   "outputs": [],
   "source": []
  },
  {
   "cell_type": "code",
   "execution_count": null,
   "metadata": {},
   "outputs": [],
   "source": [
    "flat"
   ]
  },
  {
   "cell_type": "code",
   "execution_count": null,
   "metadata": {},
   "outputs": [],
   "source": [
    "create_flatset(flat)\n"
   ]
  },
  {
   "cell_type": "code",
   "execution_count": null,
   "metadata": {},
   "outputs": [],
   "source": []
  },
  {
   "cell_type": "code",
   "execution_count": null,
   "metadata": {},
   "outputs": [],
   "source": [
    "len(flat)"
   ]
  },
  {
   "cell_type": "code",
   "execution_count": null,
   "metadata": {},
   "outputs": [],
   "source": [
    "from advent_of_code.graph_visualization import construct_dot_graph_from_couples\n",
    "\n",
    "\n",
    "visu = construct_dot_graph_from_couples(couples_for_visu)\n",
    "visu"
   ]
  },
  {
   "cell_type": "code",
   "execution_count": null,
   "metadata": {},
   "outputs": [],
   "source": [
    "# ddddddddddddddddddddddd"
   ]
  },
  {
   "cell_type": "markdown",
   "metadata": {},
   "source": [
    "## Actual data"
   ]
  },
  {
   "cell_type": "markdown",
   "metadata": {},
   "source": [
    "### Part 1"
   ]
  },
  {
   "cell_type": "code",
   "execution_count": null,
   "metadata": {},
   "outputs": [],
   "source": [
    "text = (Path(\"../\") / get_input_file_path(2023, 23)).read_text()\n",
    "parsed = parse_text_input(text)"
   ]
  },
  {
   "cell_type": "code",
   "execution_count": null,
   "metadata": {},
   "outputs": [],
   "source": [
    "hiking_trail = hk = parsed\n",
    "starting_position = (1, 2)\n",
    "\n",
    "tree = compute_exploration_tree(hk, starting_position)\n",
    "flat = flatten_exploration_tree(tree)\n",
    "flat_simplified = create_flat_simplified(flat)\n",
    "dot = construct_dot_graph_from_dict(flat_simplified)\n",
    "dot"
   ]
  },
  {
   "cell_type": "markdown",
   "metadata": {},
   "source": [
    "### Part 2"
   ]
  },
  {
   "cell_type": "code",
   "execution_count": null,
   "metadata": {},
   "outputs": [],
   "source": [
    "flat = create_flat_simplified_tuple(flat)\n",
    "couples = make_undirected_graph(flat, bidirectional=True)\n",
    "couples_for_visu = make_undirected_graph(flat, bidirectional=False)\n",
    "couples\n",
    "\n",
    "\n",
    "\n",
    "visu = construct_dot_graph_from_couples(couples_for_visu)\n",
    "visu"
   ]
  }
 ],
 "metadata": {
  "kernelspec": {
   "display_name": "advent-of-code-CEbbwEIT-py3.10",
   "language": "python",
   "name": "python3"
  },
  "language_info": {
   "codemirror_mode": {
    "name": "ipython",
    "version": 3
   },
   "file_extension": ".py",
   "mimetype": "text/x-python",
   "name": "python",
   "nbconvert_exporter": "python",
   "pygments_lexer": "ipython3",
   "version": "3.10.12"
  }
 },
 "nbformat": 4,
 "nbformat_minor": 2
}
