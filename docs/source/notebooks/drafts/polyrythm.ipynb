{
 "cells": [
  {
   "cell_type": "code",
   "execution_count": null,
   "metadata": {},
   "outputs": [],
   "source": [
    "from typing import Literal\n",
    "import numpy as np\n",
    "import xarray as xr\n",
    "\n",
    "\n",
    "np.set_printoptions(formatter={\"float\": lambda x: \"{0:0.2f}\".format(x)})"
   ]
  },
  {
   "cell_type": "markdown",
   "metadata": {},
   "source": [
    "## Pitch: construct the Equal Temperament"
   ]
  },
  {
   "cell_type": "code",
   "execution_count": null,
   "metadata": {},
   "outputs": [],
   "source": [
    "from typing import get_args\n",
    "\n",
    "# Reference https://www.youtube.com/watch?v=rhQ8zF4VCnY\n",
    "\n",
    "\n",
    "NoteName = Literal[\"C\", \"C#\", \"D\", \"D#\", \"E\", \"F\", \"F#\", \"G\", \"G#\", \"A\", \"A#\", \"B\"]\n",
    "ALL_NOTES = get_args(NoteName)\n",
    "\n",
    "\n",
    "def construct_equal_temperament_frequency_table(\n",
    "    reference_note_name: NoteName = \"A\",\n",
    "    reference_note_octave: int = 3,\n",
    "    reference_note_frequency: float = 440,\n",
    "    octave_range_min_inclusive: int = -1,\n",
    "    octave_range_max_inclusive: int = 9,\n",
    "    note_names: tuple[NoteName] = ALL_NOTES,\n",
    "):\n",
    "    octaves = np.arange(octave_range_min_inclusive, octave_range_max_inclusive + 1)\n",
    "    # 0 = C (Do) ; 11 = B (Si)\n",
    "    notes = np.array(list(note_names))\n",
    "    position = (\n",
    "        reference_note_octave - octave_range_min_inclusive\n",
    "    ) * notes.size + note_names.index(reference_note_name)\n",
    "    array = xr.DataArray(\n",
    "        np.zeros((octaves.size, notes.size)),\n",
    "        dims=(\"octave\", \"note\"),\n",
    "        coords={\"octave\": octaves, \"note\": notes},\n",
    "    ).stack(z=(\"octave\", \"note\"))\n",
    "    frequencies = reference_note_frequency * np.power(\n",
    "        2, (np.arange(array.size) - position) / 12\n",
    "    )\n",
    "    frequency_table = array.copy(data=frequencies).unstack()\n",
    "    return frequency_table\n",
    "\n",
    "\n",
    "frequency_table = construct_equal_temperament_frequency_table()\n",
    "assert frequency_table.sel(note=\"A\", octave=3) == 440\n",
    "frequency_table"
   ]
  },
  {
   "cell_type": "code",
   "execution_count": null,
   "metadata": {},
   "outputs": [],
   "source": [
    "frequency_table.plot()"
   ]
  },
  {
   "cell_type": "code",
   "execution_count": null,
   "metadata": {},
   "outputs": [],
   "source": [
    "np.log2(frequency_table).plot()"
   ]
  },
  {
   "cell_type": "markdown",
   "metadata": {},
   "source": [
    "## Tempo: construct the polyrythms"
   ]
  },
  {
   "cell_type": "code",
   "execution_count": null,
   "metadata": {},
   "outputs": [],
   "source": [
    "NOTES_COUNT = 25\n",
    "\n",
    "# coords\n",
    "integer_range = np.arange(NOTES_COUNT)\n",
    "# Create notes\n",
    "xr.DataArray(data=integer_range, dims=\"pitch\")\n",
    "\n",
    "# Period in ms\n",
    "T = 1000\n",
    "# Delta period in ms\n",
    "ΔT = 125\n",
    "# Create periods with a small dt\n",
    "periods = 1000 + (ΔT // NOTES_COUNT) * integer_range\n",
    "print(periods)\n",
    "np.lcm.reduce(periods)"
   ]
  },
  {
   "cell_type": "code",
   "execution_count": null,
   "metadata": {},
   "outputs": [],
   "source": [
    "periods_xda = xr.DataArray(data=periods, dims=\"voice\")\n",
    "periods_xda"
   ]
  },
  {
   "cell_type": "code",
   "execution_count": null,
   "metadata": {},
   "outputs": [],
   "source": [
    "t = xr.DataArray(np.arange(0, 15), dims=\"t\")\n",
    "polyrythm = t * periods_xda\n",
    "display(polyrythm)\n",
    "\n",
    "polyrythm.plot.line(y=\"voice\", marker=\"o\", hue=None)"
   ]
  },
  {
   "cell_type": "markdown",
   "metadata": {},
   "source": [
    "## TODO: Construct lines between lowest and highest notes instead of the 25 points ; use observable plot with the line plot."
   ]
  },
  {
   "cell_type": "code",
   "execution_count": null,
   "metadata": {},
   "outputs": [],
   "source": [
    "np.lcm(1000, 1200)"
   ]
  },
  {
   "cell_type": "code",
   "execution_count": null,
   "metadata": {},
   "outputs": [],
   "source": [
    "np.lcm.reduce(periods)"
   ]
  }
 ],
 "metadata": {
  "kernelspec": {
   "display_name": "advent-of-code-CEbbwEIT-py3.12",
   "language": "python",
   "name": "python3"
  },
  "language_info": {
   "codemirror_mode": {
    "name": "ipython",
    "version": 3
   },
   "file_extension": ".py",
   "mimetype": "text/x-python",
   "name": "python",
   "nbconvert_exporter": "python",
   "pygments_lexer": "ipython3",
   "version": "3.12.1"
  }
 },
 "nbformat": 4,
 "nbformat_minor": 2
}
