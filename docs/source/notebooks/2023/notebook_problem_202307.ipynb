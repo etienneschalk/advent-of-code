{
 "cells": [
  {
   "cell_type": "markdown",
   "metadata": {},
   "source": [
    "# Year 2023 Day 07\n",
    "\n",
    "[--- Day 7: Camel Cards ---](https://adventofcode.com/2023/day/7)\n",
    "\n"
   ]
  },
  {
   "cell_type": "markdown",
   "metadata": {},
   "source": [
    "The main goal here is to experiment with unicode card characters. See the [Playing cards in Unicode](https://en.wikipedia.org/wiki/Playing_cards_in_Unicode) Wikipédia article.\n"
   ]
  },
  {
   "cell_type": "code",
   "execution_count": 1,
   "metadata": {
    "execution": {
     "iopub.execute_input": "2024-11-25T22:00:49.077697Z",
     "iopub.status.busy": "2024-11-25T22:00:49.076455Z",
     "iopub.status.idle": "2024-11-25T22:00:49.460832Z",
     "shell.execute_reply": "2024-11-25T22:00:49.459822Z"
    }
   },
   "outputs": [
    {
     "data": {
      "text/html": [
       "<div>\n",
       "<style scoped>\n",
       "    .dataframe tbody tr th:only-of-type {\n",
       "        vertical-align: middle;\n",
       "    }\n",
       "\n",
       "    .dataframe tbody tr th {\n",
       "        vertical-align: top;\n",
       "    }\n",
       "\n",
       "    .dataframe thead th {\n",
       "        text-align: right;\n",
       "    }\n",
       "</style>\n",
       "<table border=\"1\" class=\"dataframe\">\n",
       "  <thead>\n",
       "    <tr style=\"text-align: right;\">\n",
       "      <th></th>\n",
       "      <th>_description</th>\n",
       "      <th>clubs</th>\n",
       "      <th>diamonds</th>\n",
       "      <th>hearts</th>\n",
       "      <th>spades</th>\n",
       "    </tr>\n",
       "  </thead>\n",
       "  <tbody>\n",
       "    <tr>\n",
       "      <th>A</th>\n",
       "      <td>Ace</td>\n",
       "      <td>🃑</td>\n",
       "      <td>🃁</td>\n",
       "      <td>🂱</td>\n",
       "      <td>🂡</td>\n",
       "    </tr>\n",
       "    <tr>\n",
       "      <th>2</th>\n",
       "      <td>Two</td>\n",
       "      <td>🃒</td>\n",
       "      <td>🃂</td>\n",
       "      <td>🂲</td>\n",
       "      <td>🂢</td>\n",
       "    </tr>\n",
       "    <tr>\n",
       "      <th>3</th>\n",
       "      <td>Three</td>\n",
       "      <td>🃓</td>\n",
       "      <td>🃃</td>\n",
       "      <td>🂳</td>\n",
       "      <td>🂣</td>\n",
       "    </tr>\n",
       "    <tr>\n",
       "      <th>4</th>\n",
       "      <td>Four</td>\n",
       "      <td>🃔</td>\n",
       "      <td>🃄</td>\n",
       "      <td>🂴</td>\n",
       "      <td>🂤</td>\n",
       "    </tr>\n",
       "    <tr>\n",
       "      <th>5</th>\n",
       "      <td>Five</td>\n",
       "      <td>🃕</td>\n",
       "      <td>🃅</td>\n",
       "      <td>🂵</td>\n",
       "      <td>🂥</td>\n",
       "    </tr>\n",
       "    <tr>\n",
       "      <th>6</th>\n",
       "      <td>Six</td>\n",
       "      <td>🃖</td>\n",
       "      <td>🃆</td>\n",
       "      <td>🂶</td>\n",
       "      <td>🂦</td>\n",
       "    </tr>\n",
       "    <tr>\n",
       "      <th>7</th>\n",
       "      <td>Seven</td>\n",
       "      <td>🃗</td>\n",
       "      <td>🃇</td>\n",
       "      <td>🂷</td>\n",
       "      <td>🂧</td>\n",
       "    </tr>\n",
       "    <tr>\n",
       "      <th>8</th>\n",
       "      <td>Eight</td>\n",
       "      <td>🃘</td>\n",
       "      <td>🃈</td>\n",
       "      <td>🂸</td>\n",
       "      <td>🂨</td>\n",
       "    </tr>\n",
       "    <tr>\n",
       "      <th>9</th>\n",
       "      <td>Nine</td>\n",
       "      <td>🃙</td>\n",
       "      <td>🃉</td>\n",
       "      <td>🂹</td>\n",
       "      <td>🂩</td>\n",
       "    </tr>\n",
       "    <tr>\n",
       "      <th>T</th>\n",
       "      <td>Ten</td>\n",
       "      <td>🃚</td>\n",
       "      <td>🃊</td>\n",
       "      <td>🂺</td>\n",
       "      <td>🂪</td>\n",
       "    </tr>\n",
       "    <tr>\n",
       "      <th>J</th>\n",
       "      <td>Jack</td>\n",
       "      <td>🃛</td>\n",
       "      <td>🃋</td>\n",
       "      <td>🂻</td>\n",
       "      <td>🂫</td>\n",
       "    </tr>\n",
       "    <tr>\n",
       "      <th>C</th>\n",
       "      <td>Knight</td>\n",
       "      <td>🃜</td>\n",
       "      <td>🃌</td>\n",
       "      <td>🂼</td>\n",
       "      <td>🂬</td>\n",
       "    </tr>\n",
       "    <tr>\n",
       "      <th>Q</th>\n",
       "      <td>Queen</td>\n",
       "      <td>🃝</td>\n",
       "      <td>🃍</td>\n",
       "      <td>🂽</td>\n",
       "      <td>🂭</td>\n",
       "    </tr>\n",
       "    <tr>\n",
       "      <th>K</th>\n",
       "      <td>King</td>\n",
       "      <td>🃞</td>\n",
       "      <td>🃎</td>\n",
       "      <td>🂾</td>\n",
       "      <td>🂮</td>\n",
       "    </tr>\n",
       "  </tbody>\n",
       "</table>\n",
       "</div>"
      ],
      "text/plain": [
       "  _description clubs diamonds hearts spades\n",
       "A          Ace     🃑        🃁      🂱      🂡\n",
       "2          Two     🃒        🃂      🂲      🂢\n",
       "3        Three     🃓        🃃      🂳      🂣\n",
       "4         Four     🃔        🃄      🂴      🂤\n",
       "5         Five     🃕        🃅      🂵      🂥\n",
       "6          Six     🃖        🃆      🂶      🂦\n",
       "7        Seven     🃗        🃇      🂷      🂧\n",
       "8        Eight     🃘        🃈      🂸      🂨\n",
       "9         Nine     🃙        🃉      🂹      🂩\n",
       "T          Ten     🃚        🃊      🂺      🂪\n",
       "J         Jack     🃛        🃋      🂻      🂫\n",
       "C       Knight     🃜        🃌      🂼      🂬\n",
       "Q        Queen     🃝        🃍      🂽      🂭\n",
       "K         King     🃞        🃎      🂾      🂮"
      ]
     },
     "execution_count": 1,
     "metadata": {},
     "output_type": "execute_result"
    }
   ],
   "source": [
    "import pandas as pd\n",
    "\n",
    "\n",
    "card_symbols = {\n",
    "    \"spades\": \"\\U0001f0a1\\U0001f0a2\\U0001f0a3\\U0001f0a4\\U0001f0a5\\U0001f0a6\\U0001f0a7\\U0001f0a8\\U0001f0a9\\U0001f0aa\\U0001f0ab\\U0001f0ac\\U0001f0ad\\U0001f0ae\",\n",
    "    \"hearts\": \"\\U0001f0b1\\U0001f0b2\\U0001f0b3\\U0001f0b4\\U0001f0b5\\U0001f0b6\\U0001f0b7\\U0001f0b8\\U0001f0b9\\U0001f0ba\\U0001f0bb\\U0001f0bc\\U0001f0bd\\U0001f0be\",\n",
    "    \"diamonds\": \"\\U0001f0c1\\U0001f0c2\\U0001f0c3\\U0001f0c4\\U0001f0c5\\U0001f0c6\\U0001f0c7\\U0001f0c8\\U0001f0c9\\U0001f0ca\\U0001f0cb\\U0001f0cc\\U0001f0cd\\U0001f0ce\",\n",
    "    \"clubs\": \"\\U0001f0d1\\U0001f0d2\\U0001f0d3\\U0001f0d4\\U0001f0d5\\U0001f0d6\\U0001f0d7\\U0001f0d8\\U0001f0d9\\U0001f0da\\U0001f0db\\U0001f0dc\\U0001f0dd\\U0001f0de\",\n",
    "}\n",
    "descriptions = \"Ace Two Three Four Five Six Seven Eight Nine Ten Jack Knight Queen King\"\n",
    "df = pd.DataFrame.from_records(\n",
    "    {\n",
    "        **{k: list(v) for k, v in card_symbols.items()},\n",
    "        **{\"_description\": descriptions.split()},\n",
    "    },\n",
    "    index=list(\"A23456789TJCQK\"),\n",
    ")\n",
    "df"
   ]
  },
  {
   "cell_type": "code",
   "execution_count": 2,
   "metadata": {
    "execution": {
     "iopub.execute_input": "2024-11-25T22:00:49.464347Z",
     "iopub.status.busy": "2024-11-25T22:00:49.463994Z",
     "iopub.status.idle": "2024-11-25T22:00:49.554806Z",
     "shell.execute_reply": "2024-11-25T22:00:49.553898Z"
    }
   },
   "outputs": [
    {
     "data": {
      "text/plain": [
       "AdventOfCodeProblem202307(year=2023, day=7)"
      ]
     },
     "execution_count": 2,
     "metadata": {},
     "output_type": "execute_result"
    }
   ],
   "source": [
    "from advent_of_code.common.common import get_example_inputs_file_contents\n",
    "from advent_of_code.y_2023.problem_202307 import AdventOfCodeProblem202307, PuzzleInput\n",
    "\n",
    "\n",
    "problem = AdventOfCodeProblem202307()\n",
    "problem"
   ]
  },
  {
   "cell_type": "code",
   "execution_count": 3,
   "metadata": {
    "execution": {
     "iopub.execute_input": "2024-11-25T22:00:49.557286Z",
     "iopub.status.busy": "2024-11-25T22:00:49.557063Z",
     "iopub.status.idle": "2024-11-25T22:00:49.568818Z",
     "shell.execute_reply": "2024-11-25T22:00:49.568124Z"
    }
   },
   "outputs": [],
   "source": [
    "example_input = get_example_inputs_file_contents(2023)[\"test_problem_202307\"][\n",
    "    \"EXAMPLE_INPUT\"\n",
    "]"
   ]
  },
  {
   "cell_type": "markdown",
   "metadata": {},
   "source": [
    "## With Example Input\n"
   ]
  },
  {
   "cell_type": "code",
   "execution_count": 4,
   "metadata": {
    "execution": {
     "iopub.execute_input": "2024-11-25T22:00:49.571322Z",
     "iopub.status.busy": "2024-11-25T22:00:49.571029Z",
     "iopub.status.idle": "2024-11-25T22:00:49.575016Z",
     "shell.execute_reply": "2024-11-25T22:00:49.574456Z"
    }
   },
   "outputs": [],
   "source": [
    "puzzle_input = problem.parse_text_input(example_input)"
   ]
  },
  {
   "cell_type": "code",
   "execution_count": 5,
   "metadata": {
    "execution": {
     "iopub.execute_input": "2024-11-25T22:00:49.577089Z",
     "iopub.status.busy": "2024-11-25T22:00:49.576829Z",
     "iopub.status.idle": "2024-11-25T22:00:49.585671Z",
     "shell.execute_reply": "2024-11-25T22:00:49.584985Z"
    }
   },
   "outputs": [
    {
     "name": "stdout",
     "output_type": "stream",
     "text": [
      "🂳🂲🂺🂳🂾 765\n",
      "🂺🂵🂵🂻🂵 684\n",
      "🂾🂾🂶🂷🂷 28\n",
      "🂾🂺🂻🂻🂺 220\n",
      "🂽🂽🂽🂻🂱 483\n"
     ]
    }
   ],
   "source": [
    "def repr_unicode_puzzle_input(puzzle_input: PuzzleInput, suit: str = \"hearts\") -> str:\n",
    "    string_builder = []\n",
    "    for hand_and_bid in puzzle_input:\n",
    "        hand, bid = hand_and_bid\n",
    "        string_builder.append(f\"{\"\".join(df[suit].loc[hand].values)} {bid}\")\n",
    "    return \"\\n\".join(string_builder)\n",
    "\n",
    "\n",
    "print(repr_unicode_puzzle_input(puzzle_input))"
   ]
  },
  {
   "cell_type": "markdown",
   "metadata": {},
   "source": [
    "## With Actual Input\n"
   ]
  },
  {
   "cell_type": "code",
   "execution_count": 6,
   "metadata": {
    "execution": {
     "iopub.execute_input": "2024-11-25T22:00:49.588109Z",
     "iopub.status.busy": "2024-11-25T22:00:49.587761Z",
     "iopub.status.idle": "2024-11-25T22:00:49.602416Z",
     "shell.execute_reply": "2024-11-25T22:00:49.601631Z"
    }
   },
   "outputs": [
    {
     "name": "stdout",
     "output_type": "stream",
     "text": [
      "🂶🂻🂱🂲🂲 162\n",
      "🂺🂽🂻🂽🂸 732\n",
      "🂷🂺🂷🂷🂱 882\n",
      "🂶🂾🂶🂶🂾 850\n",
      "🂽🂽🂱🂽🂽 11\n"
     ]
    }
   ],
   "source": [
    "actual_input = problem.parse_input_text_file()\n",
    "\n",
    "print(repr_unicode_puzzle_input(actual_input[:5]))"
   ]
  }
 ],
 "metadata": {
  "kernelspec": {
   "display_name": "advent-of-code-CEbbwEIT-py3.13",
   "language": "python",
   "name": "python3"
  },
  "language_info": {
   "codemirror_mode": {
    "name": "ipython",
    "version": 3
   },
   "file_extension": ".py",
   "mimetype": "text/x-python",
   "name": "python",
   "nbconvert_exporter": "python",
   "pygments_lexer": "ipython3",
   "version": "3.13.0"
  }
 },
 "nbformat": 4,
 "nbformat_minor": 2
}
