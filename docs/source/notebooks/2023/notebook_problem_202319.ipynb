{
 "cells": [
  {
   "cell_type": "markdown",
   "metadata": {},
   "source": [
    "# Year 2023 Day 19\n",
    "\n",
    "[--- Day 19: Aplenty ---](https://adventofcode.com/2023/day/19)\n",
    "\n",
    "\n",
    "The goal of this notebook is multiple:\n",
    "\n",
    "1. Learn how to use use Sankey diagrams with `plotly`\n",
    "2. Visualize the problem's input\n",
    "3. Describe the problem solving procedure\n"
   ]
  },
  {
   "cell_type": "code",
   "execution_count": 1,
   "metadata": {
    "execution": {
     "iopub.execute_input": "2024-11-25T22:02:24.546279Z",
     "iopub.status.busy": "2024-11-25T22:02:24.545519Z",
     "iopub.status.idle": "2024-11-25T22:02:25.298288Z",
     "shell.execute_reply": "2024-11-25T22:02:25.297275Z"
    },
    "metadata": {}
   },
   "outputs": [],
   "source": [
    "import json\n",
    "\n",
    "from IPython.display import Markdown as md\n",
    "\n",
    "from advent_of_code.common.common import get_example_inputs_file_contents\n",
    "from advent_of_code.visualization.plotly_tools import (\n",
    "    ValuedLink,\n",
    "    build_sankey_figure,\n",
    "    to_plotly_sankey_input,\n",
    ")\n",
    "from advent_of_code.y_2023.problem_202319 import (\n",
    "    AdventOfCodeProblem202319,\n",
    "    PartRatingRange,\n",
    "    PartRatingRangeTree,\n",
    "    construct_initial_part_range,\n",
    ")"
   ]
  },
  {
   "cell_type": "code",
   "execution_count": 2,
   "metadata": {
    "execution": {
     "iopub.execute_input": "2024-11-25T22:02:25.300867Z",
     "iopub.status.busy": "2024-11-25T22:02:25.300521Z",
     "iopub.status.idle": "2024-11-25T22:02:25.571506Z",
     "shell.execute_reply": "2024-11-25T22:02:25.570553Z"
    },
    "metadata": {}
   },
   "outputs": [
    {
     "name": "stdout",
     "output_type": "stream",
     "text": [
      "Plotly will render to pio.renderers.default='svg'\n"
     ]
    }
   ],
   "source": [
    "from advent_of_code.visualization.notebooks import attempt_interactive\n",
    "\n",
    "\n",
    "attempt_interactive(True, \"plotly\")"
   ]
  },
  {
   "cell_type": "code",
   "execution_count": 3,
   "metadata": {
    "execution": {
     "iopub.execute_input": "2024-11-25T22:02:25.575227Z",
     "iopub.status.busy": "2024-11-25T22:02:25.574767Z",
     "iopub.status.idle": "2024-11-25T22:02:25.579350Z",
     "shell.execute_reply": "2024-11-25T22:02:25.578551Z"
    },
    "metadata": {}
   },
   "outputs": [],
   "source": [
    "def pretty_print_dict_with_json(json_string: str) -> md:\n",
    "    json_repr = json.dumps(json_string, indent=4)\n",
    "    return md(\n",
    "        f\"\"\"\n",
    "```json\n",
    "{json_repr} \n",
    "```\n",
    "\"\"\"\n",
    "    )"
   ]
  },
  {
   "cell_type": "markdown",
   "metadata": {},
   "source": [
    "## Make a Sankey Diagram with Plotly\n",
    "\n",
    "First, let's start with the example provided in\n",
    "[Plotly: Sankey Diagram](https://plotly.com/python/sankey-diagram/).\n",
    "\n",
    "Then, the goal is to adapt the in-memory representation of the problem's data into something that Plotly can understand and plot.\n",
    "\n",
    "First, a builder can be made for those Plotly diagrams, then, an object converter to convert the in-memory representation of the problem's data into this intermediate data structure.\n",
    "\n",
    "One challenge will be to flatten the tree structure to a list of weighted edges (flat graph representation).\n",
    "\n",
    "The `source, target, value` expected by plotly indicates the need to flatten any tree structure.\n",
    "\n",
    "In the following, the word \"link\" means a graph's directional edge/vertex\n"
   ]
  },
  {
   "cell_type": "code",
   "execution_count": 4,
   "metadata": {
    "execution": {
     "iopub.execute_input": "2024-11-25T22:02:25.581812Z",
     "iopub.status.busy": "2024-11-25T22:02:25.581482Z",
     "iopub.status.idle": "2024-11-25T22:02:27.171092Z",
     "shell.execute_reply": "2024-11-25T22:02:27.170255Z"
    },
    "metadata": {}
   },
   "outputs": [
    {
     "data": {
      "text/plain": [
       "PlotlySankeyInput(labels=['a', 'b', 'c', 'z'], sources=[0, 1, 0, 3], targets=[1, 2, 2, 2], values=[2, 5, 4, 1], node_colors=['rgb(135, 26, 153)', 'rgb(40, 168, 194)', 'rgb(79, 5, 130)', 'rgb(174, 46, 150)'], link_colors=['rgba(135, 26, 153, 0.3)', 'rgba(40, 168, 194, 0.3)', 'rgba(79, 5, 130, 0.3)', 'rgba(174, 46, 150, 0.3)'])"
      ]
     },
     "metadata": {},
     "output_type": "display_data"
    },
    {
     "ename": "ValueError",
     "evalue": "\nImage export using the \"kaleido\" engine requires the kaleido package,\nwhich can be installed using pip:\n    $ pip install -U kaleido\n",
     "output_type": "error",
     "traceback": [
      "\u001b[0;31m---------------------------------------------------------------------------\u001b[0m",
      "\u001b[0;31mValueError\u001b[0m                                Traceback (most recent call last)",
      "File \u001b[0;32m~/.cache/pypoetry/virtualenvs/advent-of-code-CEbbwEIT-py3.13/lib/python3.13/site-packages/IPython/core/formatters.py:925\u001b[0m, in \u001b[0;36mIPythonDisplayFormatter.__call__\u001b[0;34m(self, obj)\u001b[0m\n\u001b[1;32m    923\u001b[0m method \u001b[38;5;241m=\u001b[39m get_real_method(obj, \u001b[38;5;28mself\u001b[39m\u001b[38;5;241m.\u001b[39mprint_method)\n\u001b[1;32m    924\u001b[0m \u001b[38;5;28;01mif\u001b[39;00m method \u001b[38;5;129;01mis\u001b[39;00m \u001b[38;5;129;01mnot\u001b[39;00m \u001b[38;5;28;01mNone\u001b[39;00m:\n\u001b[0;32m--> 925\u001b[0m     \u001b[43mmethod\u001b[49m\u001b[43m(\u001b[49m\u001b[43m)\u001b[49m\n\u001b[1;32m    926\u001b[0m     \u001b[38;5;28;01mreturn\u001b[39;00m \u001b[38;5;28;01mTrue\u001b[39;00m\n",
      "File \u001b[0;32m~/.cache/pypoetry/virtualenvs/advent-of-code-CEbbwEIT-py3.13/lib/python3.13/site-packages/plotly/basedatatypes.py:832\u001b[0m, in \u001b[0;36mBaseFigure._ipython_display_\u001b[0;34m(self)\u001b[0m\n\u001b[1;32m    829\u001b[0m \u001b[38;5;28;01mimport\u001b[39;00m \u001b[38;5;21;01mplotly\u001b[39;00m\u001b[38;5;21;01m.\u001b[39;00m\u001b[38;5;21;01mio\u001b[39;00m \u001b[38;5;28;01mas\u001b[39;00m \u001b[38;5;21;01mpio\u001b[39;00m\n\u001b[1;32m    831\u001b[0m \u001b[38;5;28;01mif\u001b[39;00m pio\u001b[38;5;241m.\u001b[39mrenderers\u001b[38;5;241m.\u001b[39mrender_on_display \u001b[38;5;129;01mand\u001b[39;00m pio\u001b[38;5;241m.\u001b[39mrenderers\u001b[38;5;241m.\u001b[39mdefault:\n\u001b[0;32m--> 832\u001b[0m     \u001b[43mpio\u001b[49m\u001b[38;5;241;43m.\u001b[39;49m\u001b[43mshow\u001b[49m\u001b[43m(\u001b[49m\u001b[38;5;28;43mself\u001b[39;49m\u001b[43m)\u001b[49m\n\u001b[1;32m    833\u001b[0m \u001b[38;5;28;01melse\u001b[39;00m:\n\u001b[1;32m    834\u001b[0m     \u001b[38;5;28mprint\u001b[39m(\u001b[38;5;28mrepr\u001b[39m(\u001b[38;5;28mself\u001b[39m))\n",
      "File \u001b[0;32m~/.cache/pypoetry/virtualenvs/advent-of-code-CEbbwEIT-py3.13/lib/python3.13/site-packages/plotly/io/_renderers.py:386\u001b[0m, in \u001b[0;36mshow\u001b[0;34m(fig, renderer, validate, **kwargs)\u001b[0m\n\u001b[1;32m    383\u001b[0m fig_dict \u001b[38;5;241m=\u001b[39m validate_coerce_fig_to_dict(fig, validate)\n\u001b[1;32m    385\u001b[0m \u001b[38;5;66;03m# Mimetype renderers\u001b[39;00m\n\u001b[0;32m--> 386\u001b[0m bundle \u001b[38;5;241m=\u001b[39m \u001b[43mrenderers\u001b[49m\u001b[38;5;241;43m.\u001b[39;49m\u001b[43m_build_mime_bundle\u001b[49m\u001b[43m(\u001b[49m\u001b[43mfig_dict\u001b[49m\u001b[43m,\u001b[49m\u001b[43m \u001b[49m\u001b[43mrenderers_string\u001b[49m\u001b[38;5;241;43m=\u001b[39;49m\u001b[43mrenderer\u001b[49m\u001b[43m,\u001b[49m\u001b[43m \u001b[49m\u001b[38;5;241;43m*\u001b[39;49m\u001b[38;5;241;43m*\u001b[39;49m\u001b[43mkwargs\u001b[49m\u001b[43m)\u001b[49m\n\u001b[1;32m    387\u001b[0m \u001b[38;5;28;01mif\u001b[39;00m bundle:\n\u001b[1;32m    388\u001b[0m     \u001b[38;5;28;01mif\u001b[39;00m \u001b[38;5;129;01mnot\u001b[39;00m ipython_display:\n",
      "File \u001b[0;32m~/.cache/pypoetry/virtualenvs/advent-of-code-CEbbwEIT-py3.13/lib/python3.13/site-packages/plotly/io/_renderers.py:294\u001b[0m, in \u001b[0;36mRenderersConfig._build_mime_bundle\u001b[0;34m(self, fig_dict, renderers_string, **kwargs)\u001b[0m\n\u001b[1;32m    291\u001b[0m             \u001b[38;5;28;01mif\u001b[39;00m \u001b[38;5;28mhasattr\u001b[39m(renderer, k):\n\u001b[1;32m    292\u001b[0m                 \u001b[38;5;28msetattr\u001b[39m(renderer, k, v)\n\u001b[0;32m--> 294\u001b[0m         bundle\u001b[38;5;241m.\u001b[39mupdate(\u001b[43mrenderer\u001b[49m\u001b[38;5;241;43m.\u001b[39;49m\u001b[43mto_mimebundle\u001b[49m\u001b[43m(\u001b[49m\u001b[43mfig_dict\u001b[49m\u001b[43m)\u001b[49m)\n\u001b[1;32m    296\u001b[0m \u001b[38;5;28;01mreturn\u001b[39;00m bundle\n",
      "File \u001b[0;32m~/.cache/pypoetry/virtualenvs/advent-of-code-CEbbwEIT-py3.13/lib/python3.13/site-packages/plotly/io/_base_renderers.py:126\u001b[0m, in \u001b[0;36mImageRenderer.to_mimebundle\u001b[0;34m(self, fig_dict)\u001b[0m\n\u001b[1;32m    125\u001b[0m \u001b[38;5;28;01mdef\u001b[39;00m \u001b[38;5;21mto_mimebundle\u001b[39m(\u001b[38;5;28mself\u001b[39m, fig_dict):\n\u001b[0;32m--> 126\u001b[0m     image_bytes \u001b[38;5;241m=\u001b[39m \u001b[43mto_image\u001b[49m\u001b[43m(\u001b[49m\n\u001b[1;32m    127\u001b[0m \u001b[43m        \u001b[49m\u001b[43mfig_dict\u001b[49m\u001b[43m,\u001b[49m\n\u001b[1;32m    128\u001b[0m \u001b[43m        \u001b[49m\u001b[38;5;28;43mformat\u001b[39;49m\u001b[38;5;241;43m=\u001b[39;49m\u001b[38;5;28;43mself\u001b[39;49m\u001b[38;5;241;43m.\u001b[39;49m\u001b[43mformat\u001b[49m\u001b[43m,\u001b[49m\n\u001b[1;32m    129\u001b[0m \u001b[43m        \u001b[49m\u001b[43mwidth\u001b[49m\u001b[38;5;241;43m=\u001b[39;49m\u001b[38;5;28;43mself\u001b[39;49m\u001b[38;5;241;43m.\u001b[39;49m\u001b[43mwidth\u001b[49m\u001b[43m,\u001b[49m\n\u001b[1;32m    130\u001b[0m \u001b[43m        \u001b[49m\u001b[43mheight\u001b[49m\u001b[38;5;241;43m=\u001b[39;49m\u001b[38;5;28;43mself\u001b[39;49m\u001b[38;5;241;43m.\u001b[39;49m\u001b[43mheight\u001b[49m\u001b[43m,\u001b[49m\n\u001b[1;32m    131\u001b[0m \u001b[43m        \u001b[49m\u001b[43mscale\u001b[49m\u001b[38;5;241;43m=\u001b[39;49m\u001b[38;5;28;43mself\u001b[39;49m\u001b[38;5;241;43m.\u001b[39;49m\u001b[43mscale\u001b[49m\u001b[43m,\u001b[49m\n\u001b[1;32m    132\u001b[0m \u001b[43m        \u001b[49m\u001b[43mvalidate\u001b[49m\u001b[38;5;241;43m=\u001b[39;49m\u001b[38;5;28;43;01mFalse\u001b[39;49;00m\u001b[43m,\u001b[49m\n\u001b[1;32m    133\u001b[0m \u001b[43m        \u001b[49m\u001b[43mengine\u001b[49m\u001b[38;5;241;43m=\u001b[39;49m\u001b[38;5;28;43mself\u001b[39;49m\u001b[38;5;241;43m.\u001b[39;49m\u001b[43mengine\u001b[49m\u001b[43m,\u001b[49m\n\u001b[1;32m    134\u001b[0m \u001b[43m    \u001b[49m\u001b[43m)\u001b[49m\n\u001b[1;32m    136\u001b[0m     \u001b[38;5;28;01mif\u001b[39;00m \u001b[38;5;28mself\u001b[39m\u001b[38;5;241m.\u001b[39mb64_encode:\n\u001b[1;32m    137\u001b[0m         image_str \u001b[38;5;241m=\u001b[39m base64\u001b[38;5;241m.\u001b[39mb64encode(image_bytes)\u001b[38;5;241m.\u001b[39mdecode(\u001b[38;5;124m\"\u001b[39m\u001b[38;5;124mutf8\u001b[39m\u001b[38;5;124m\"\u001b[39m)\n",
      "File \u001b[0;32m~/.cache/pypoetry/virtualenvs/advent-of-code-CEbbwEIT-py3.13/lib/python3.13/site-packages/plotly/io/_kaleido.py:132\u001b[0m, in \u001b[0;36mto_image\u001b[0;34m(fig, format, width, height, scale, validate, engine)\u001b[0m\n\u001b[1;32m    130\u001b[0m     \u001b[38;5;66;03m# Raise informative error message if Kaleido is not installed\u001b[39;00m\n\u001b[1;32m    131\u001b[0m     \u001b[38;5;28;01mif\u001b[39;00m scope \u001b[38;5;129;01mis\u001b[39;00m \u001b[38;5;28;01mNone\u001b[39;00m:\n\u001b[0;32m--> 132\u001b[0m         \u001b[38;5;28;01mraise\u001b[39;00m \u001b[38;5;167;01mValueError\u001b[39;00m(\n\u001b[1;32m    133\u001b[0m \u001b[38;5;250m            \u001b[39m\u001b[38;5;124;03m\"\"\"\u001b[39;00m\n\u001b[1;32m    134\u001b[0m \u001b[38;5;124;03mImage export using the \"kaleido\" engine requires the kaleido package,\u001b[39;00m\n\u001b[1;32m    135\u001b[0m \u001b[38;5;124;03mwhich can be installed using pip:\u001b[39;00m\n\u001b[1;32m    136\u001b[0m \u001b[38;5;124;03m    $ pip install -U kaleido\u001b[39;00m\n\u001b[1;32m    137\u001b[0m \u001b[38;5;124;03m\"\"\"\u001b[39;00m\n\u001b[1;32m    138\u001b[0m         )\n\u001b[1;32m    140\u001b[0m     \u001b[38;5;66;03m# Validate figure\u001b[39;00m\n\u001b[1;32m    141\u001b[0m     \u001b[38;5;66;03m# ---------------\u001b[39;00m\n\u001b[1;32m    142\u001b[0m     fig_dict \u001b[38;5;241m=\u001b[39m validate_coerce_fig_to_dict(fig, validate)\n",
      "\u001b[0;31mValueError\u001b[0m: \nImage export using the \"kaleido\" engine requires the kaleido package,\nwhich can be installed using pip:\n    $ pip install -U kaleido\n"
     ]
    },
    {
     "ename": "ValueError",
     "evalue": "\nImage export using the \"kaleido\" engine requires the kaleido package,\nwhich can be installed using pip:\n    $ pip install -U kaleido\n",
     "output_type": "error",
     "traceback": [
      "\u001b[0;31m---------------------------------------------------------------------------\u001b[0m",
      "\u001b[0;31mValueError\u001b[0m                                Traceback (most recent call last)",
      "File \u001b[0;32m~/.cache/pypoetry/virtualenvs/advent-of-code-CEbbwEIT-py3.13/lib/python3.13/site-packages/IPython/core/formatters.py:977\u001b[0m, in \u001b[0;36mMimeBundleFormatter.__call__\u001b[0;34m(self, obj, include, exclude)\u001b[0m\n\u001b[1;32m    974\u001b[0m     method \u001b[38;5;241m=\u001b[39m get_real_method(obj, \u001b[38;5;28mself\u001b[39m\u001b[38;5;241m.\u001b[39mprint_method)\n\u001b[1;32m    976\u001b[0m     \u001b[38;5;28;01mif\u001b[39;00m method \u001b[38;5;129;01mis\u001b[39;00m \u001b[38;5;129;01mnot\u001b[39;00m \u001b[38;5;28;01mNone\u001b[39;00m:\n\u001b[0;32m--> 977\u001b[0m         \u001b[38;5;28;01mreturn\u001b[39;00m \u001b[43mmethod\u001b[49m\u001b[43m(\u001b[49m\u001b[43minclude\u001b[49m\u001b[38;5;241;43m=\u001b[39;49m\u001b[43minclude\u001b[49m\u001b[43m,\u001b[49m\u001b[43m \u001b[49m\u001b[43mexclude\u001b[49m\u001b[38;5;241;43m=\u001b[39;49m\u001b[43mexclude\u001b[49m\u001b[43m)\u001b[49m\n\u001b[1;32m    978\u001b[0m     \u001b[38;5;28;01mreturn\u001b[39;00m \u001b[38;5;28;01mNone\u001b[39;00m\n\u001b[1;32m    979\u001b[0m \u001b[38;5;28;01melse\u001b[39;00m:\n",
      "File \u001b[0;32m~/.cache/pypoetry/virtualenvs/advent-of-code-CEbbwEIT-py3.13/lib/python3.13/site-packages/plotly/basedatatypes.py:823\u001b[0m, in \u001b[0;36mBaseFigure._repr_mimebundle_\u001b[0;34m(self, include, exclude, validate, **kwargs)\u001b[0m\n\u001b[1;32m    820\u001b[0m \u001b[38;5;28;01mfrom\u001b[39;00m \u001b[38;5;21;01mplotly\u001b[39;00m\u001b[38;5;21;01m.\u001b[39;00m\u001b[38;5;21;01mio\u001b[39;00m\u001b[38;5;21;01m.\u001b[39;00m\u001b[38;5;21;01m_utils\u001b[39;00m \u001b[38;5;28;01mimport\u001b[39;00m validate_coerce_fig_to_dict\n\u001b[1;32m    822\u001b[0m fig_dict \u001b[38;5;241m=\u001b[39m validate_coerce_fig_to_dict(\u001b[38;5;28mself\u001b[39m, validate)\n\u001b[0;32m--> 823\u001b[0m \u001b[38;5;28;01mreturn\u001b[39;00m \u001b[43mrenderers\u001b[49m\u001b[38;5;241;43m.\u001b[39;49m\u001b[43m_build_mime_bundle\u001b[49m\u001b[43m(\u001b[49m\u001b[43mfig_dict\u001b[49m\u001b[43m,\u001b[49m\u001b[43m \u001b[49m\u001b[43mrenderer_str\u001b[49m\u001b[43m,\u001b[49m\u001b[43m \u001b[49m\u001b[38;5;241;43m*\u001b[39;49m\u001b[38;5;241;43m*\u001b[39;49m\u001b[43mkwargs\u001b[49m\u001b[43m)\u001b[49m\n",
      "File \u001b[0;32m~/.cache/pypoetry/virtualenvs/advent-of-code-CEbbwEIT-py3.13/lib/python3.13/site-packages/plotly/io/_renderers.py:294\u001b[0m, in \u001b[0;36mRenderersConfig._build_mime_bundle\u001b[0;34m(self, fig_dict, renderers_string, **kwargs)\u001b[0m\n\u001b[1;32m    291\u001b[0m             \u001b[38;5;28;01mif\u001b[39;00m \u001b[38;5;28mhasattr\u001b[39m(renderer, k):\n\u001b[1;32m    292\u001b[0m                 \u001b[38;5;28msetattr\u001b[39m(renderer, k, v)\n\u001b[0;32m--> 294\u001b[0m         bundle\u001b[38;5;241m.\u001b[39mupdate(\u001b[43mrenderer\u001b[49m\u001b[38;5;241;43m.\u001b[39;49m\u001b[43mto_mimebundle\u001b[49m\u001b[43m(\u001b[49m\u001b[43mfig_dict\u001b[49m\u001b[43m)\u001b[49m)\n\u001b[1;32m    296\u001b[0m \u001b[38;5;28;01mreturn\u001b[39;00m bundle\n",
      "File \u001b[0;32m~/.cache/pypoetry/virtualenvs/advent-of-code-CEbbwEIT-py3.13/lib/python3.13/site-packages/plotly/io/_base_renderers.py:126\u001b[0m, in \u001b[0;36mImageRenderer.to_mimebundle\u001b[0;34m(self, fig_dict)\u001b[0m\n\u001b[1;32m    125\u001b[0m \u001b[38;5;28;01mdef\u001b[39;00m \u001b[38;5;21mto_mimebundle\u001b[39m(\u001b[38;5;28mself\u001b[39m, fig_dict):\n\u001b[0;32m--> 126\u001b[0m     image_bytes \u001b[38;5;241m=\u001b[39m \u001b[43mto_image\u001b[49m\u001b[43m(\u001b[49m\n\u001b[1;32m    127\u001b[0m \u001b[43m        \u001b[49m\u001b[43mfig_dict\u001b[49m\u001b[43m,\u001b[49m\n\u001b[1;32m    128\u001b[0m \u001b[43m        \u001b[49m\u001b[38;5;28;43mformat\u001b[39;49m\u001b[38;5;241;43m=\u001b[39;49m\u001b[38;5;28;43mself\u001b[39;49m\u001b[38;5;241;43m.\u001b[39;49m\u001b[43mformat\u001b[49m\u001b[43m,\u001b[49m\n\u001b[1;32m    129\u001b[0m \u001b[43m        \u001b[49m\u001b[43mwidth\u001b[49m\u001b[38;5;241;43m=\u001b[39;49m\u001b[38;5;28;43mself\u001b[39;49m\u001b[38;5;241;43m.\u001b[39;49m\u001b[43mwidth\u001b[49m\u001b[43m,\u001b[49m\n\u001b[1;32m    130\u001b[0m \u001b[43m        \u001b[49m\u001b[43mheight\u001b[49m\u001b[38;5;241;43m=\u001b[39;49m\u001b[38;5;28;43mself\u001b[39;49m\u001b[38;5;241;43m.\u001b[39;49m\u001b[43mheight\u001b[49m\u001b[43m,\u001b[49m\n\u001b[1;32m    131\u001b[0m \u001b[43m        \u001b[49m\u001b[43mscale\u001b[49m\u001b[38;5;241;43m=\u001b[39;49m\u001b[38;5;28;43mself\u001b[39;49m\u001b[38;5;241;43m.\u001b[39;49m\u001b[43mscale\u001b[49m\u001b[43m,\u001b[49m\n\u001b[1;32m    132\u001b[0m \u001b[43m        \u001b[49m\u001b[43mvalidate\u001b[49m\u001b[38;5;241;43m=\u001b[39;49m\u001b[38;5;28;43;01mFalse\u001b[39;49;00m\u001b[43m,\u001b[49m\n\u001b[1;32m    133\u001b[0m \u001b[43m        \u001b[49m\u001b[43mengine\u001b[49m\u001b[38;5;241;43m=\u001b[39;49m\u001b[38;5;28;43mself\u001b[39;49m\u001b[38;5;241;43m.\u001b[39;49m\u001b[43mengine\u001b[49m\u001b[43m,\u001b[49m\n\u001b[1;32m    134\u001b[0m \u001b[43m    \u001b[49m\u001b[43m)\u001b[49m\n\u001b[1;32m    136\u001b[0m     \u001b[38;5;28;01mif\u001b[39;00m \u001b[38;5;28mself\u001b[39m\u001b[38;5;241m.\u001b[39mb64_encode:\n\u001b[1;32m    137\u001b[0m         image_str \u001b[38;5;241m=\u001b[39m base64\u001b[38;5;241m.\u001b[39mb64encode(image_bytes)\u001b[38;5;241m.\u001b[39mdecode(\u001b[38;5;124m\"\u001b[39m\u001b[38;5;124mutf8\u001b[39m\u001b[38;5;124m\"\u001b[39m)\n",
      "File \u001b[0;32m~/.cache/pypoetry/virtualenvs/advent-of-code-CEbbwEIT-py3.13/lib/python3.13/site-packages/plotly/io/_kaleido.py:132\u001b[0m, in \u001b[0;36mto_image\u001b[0;34m(fig, format, width, height, scale, validate, engine)\u001b[0m\n\u001b[1;32m    130\u001b[0m     \u001b[38;5;66;03m# Raise informative error message if Kaleido is not installed\u001b[39;00m\n\u001b[1;32m    131\u001b[0m     \u001b[38;5;28;01mif\u001b[39;00m scope \u001b[38;5;129;01mis\u001b[39;00m \u001b[38;5;28;01mNone\u001b[39;00m:\n\u001b[0;32m--> 132\u001b[0m         \u001b[38;5;28;01mraise\u001b[39;00m \u001b[38;5;167;01mValueError\u001b[39;00m(\n\u001b[1;32m    133\u001b[0m \u001b[38;5;250m            \u001b[39m\u001b[38;5;124;03m\"\"\"\u001b[39;00m\n\u001b[1;32m    134\u001b[0m \u001b[38;5;124;03mImage export using the \"kaleido\" engine requires the kaleido package,\u001b[39;00m\n\u001b[1;32m    135\u001b[0m \u001b[38;5;124;03mwhich can be installed using pip:\u001b[39;00m\n\u001b[1;32m    136\u001b[0m \u001b[38;5;124;03m    $ pip install -U kaleido\u001b[39;00m\n\u001b[1;32m    137\u001b[0m \u001b[38;5;124;03m\"\"\"\u001b[39;00m\n\u001b[1;32m    138\u001b[0m         )\n\u001b[1;32m    140\u001b[0m     \u001b[38;5;66;03m# Validate figure\u001b[39;00m\n\u001b[1;32m    141\u001b[0m     \u001b[38;5;66;03m# ---------------\u001b[39;00m\n\u001b[1;32m    142\u001b[0m     fig_dict \u001b[38;5;241m=\u001b[39m validate_coerce_fig_to_dict(fig, validate)\n",
      "\u001b[0;31mValueError\u001b[0m: \nImage export using the \"kaleido\" engine requires the kaleido package,\nwhich can be installed using pip:\n    $ pip install -U kaleido\n"
     ]
    },
    {
     "ename": "ValueError",
     "evalue": "\nImage export using the \"kaleido\" engine requires the kaleido package,\nwhich can be installed using pip:\n    $ pip install -U kaleido\n",
     "output_type": "error",
     "traceback": [
      "\u001b[0;31m---------------------------------------------------------------------------\u001b[0m",
      "\u001b[0;31mValueError\u001b[0m                                Traceback (most recent call last)",
      "File \u001b[0;32m~/.cache/pypoetry/virtualenvs/advent-of-code-CEbbwEIT-py3.13/lib/python3.13/site-packages/IPython/core/formatters.py:347\u001b[0m, in \u001b[0;36mBaseFormatter.__call__\u001b[0;34m(self, obj)\u001b[0m\n\u001b[1;32m    345\u001b[0m     method \u001b[38;5;241m=\u001b[39m get_real_method(obj, \u001b[38;5;28mself\u001b[39m\u001b[38;5;241m.\u001b[39mprint_method)\n\u001b[1;32m    346\u001b[0m     \u001b[38;5;28;01mif\u001b[39;00m method \u001b[38;5;129;01mis\u001b[39;00m \u001b[38;5;129;01mnot\u001b[39;00m \u001b[38;5;28;01mNone\u001b[39;00m:\n\u001b[0;32m--> 347\u001b[0m         \u001b[38;5;28;01mreturn\u001b[39;00m \u001b[43mmethod\u001b[49m\u001b[43m(\u001b[49m\u001b[43m)\u001b[49m\n\u001b[1;32m    348\u001b[0m     \u001b[38;5;28;01mreturn\u001b[39;00m \u001b[38;5;28;01mNone\u001b[39;00m\n\u001b[1;32m    349\u001b[0m \u001b[38;5;28;01melse\u001b[39;00m:\n",
      "File \u001b[0;32m~/.cache/pypoetry/virtualenvs/advent-of-code-CEbbwEIT-py3.13/lib/python3.13/site-packages/plotly/basedatatypes.py:806\u001b[0m, in \u001b[0;36mBaseFigure._repr_html_\u001b[0;34m(self)\u001b[0m\n\u001b[1;32m    802\u001b[0m \u001b[38;5;28;01mdef\u001b[39;00m \u001b[38;5;21m_repr_html_\u001b[39m(\u001b[38;5;28mself\u001b[39m):\n\u001b[1;32m    803\u001b[0m \u001b[38;5;250m    \u001b[39m\u001b[38;5;124;03m\"\"\"\u001b[39;00m\n\u001b[1;32m    804\u001b[0m \u001b[38;5;124;03m    Customize html representation\u001b[39;00m\n\u001b[1;32m    805\u001b[0m \u001b[38;5;124;03m    \"\"\"\u001b[39;00m\n\u001b[0;32m--> 806\u001b[0m     bundle \u001b[38;5;241m=\u001b[39m \u001b[38;5;28;43mself\u001b[39;49m\u001b[38;5;241;43m.\u001b[39;49m\u001b[43m_repr_mimebundle_\u001b[49m\u001b[43m(\u001b[49m\u001b[43m)\u001b[49m\n\u001b[1;32m    807\u001b[0m     \u001b[38;5;28;01mif\u001b[39;00m \u001b[38;5;124m\"\u001b[39m\u001b[38;5;124mtext/html\u001b[39m\u001b[38;5;124m\"\u001b[39m \u001b[38;5;129;01min\u001b[39;00m bundle:\n\u001b[1;32m    808\u001b[0m         \u001b[38;5;28;01mreturn\u001b[39;00m bundle[\u001b[38;5;124m\"\u001b[39m\u001b[38;5;124mtext/html\u001b[39m\u001b[38;5;124m\"\u001b[39m]\n",
      "File \u001b[0;32m~/.cache/pypoetry/virtualenvs/advent-of-code-CEbbwEIT-py3.13/lib/python3.13/site-packages/plotly/basedatatypes.py:823\u001b[0m, in \u001b[0;36mBaseFigure._repr_mimebundle_\u001b[0;34m(self, include, exclude, validate, **kwargs)\u001b[0m\n\u001b[1;32m    820\u001b[0m \u001b[38;5;28;01mfrom\u001b[39;00m \u001b[38;5;21;01mplotly\u001b[39;00m\u001b[38;5;21;01m.\u001b[39;00m\u001b[38;5;21;01mio\u001b[39;00m\u001b[38;5;21;01m.\u001b[39;00m\u001b[38;5;21;01m_utils\u001b[39;00m \u001b[38;5;28;01mimport\u001b[39;00m validate_coerce_fig_to_dict\n\u001b[1;32m    822\u001b[0m fig_dict \u001b[38;5;241m=\u001b[39m validate_coerce_fig_to_dict(\u001b[38;5;28mself\u001b[39m, validate)\n\u001b[0;32m--> 823\u001b[0m \u001b[38;5;28;01mreturn\u001b[39;00m \u001b[43mrenderers\u001b[49m\u001b[38;5;241;43m.\u001b[39;49m\u001b[43m_build_mime_bundle\u001b[49m\u001b[43m(\u001b[49m\u001b[43mfig_dict\u001b[49m\u001b[43m,\u001b[49m\u001b[43m \u001b[49m\u001b[43mrenderer_str\u001b[49m\u001b[43m,\u001b[49m\u001b[43m \u001b[49m\u001b[38;5;241;43m*\u001b[39;49m\u001b[38;5;241;43m*\u001b[39;49m\u001b[43mkwargs\u001b[49m\u001b[43m)\u001b[49m\n",
      "File \u001b[0;32m~/.cache/pypoetry/virtualenvs/advent-of-code-CEbbwEIT-py3.13/lib/python3.13/site-packages/plotly/io/_renderers.py:294\u001b[0m, in \u001b[0;36mRenderersConfig._build_mime_bundle\u001b[0;34m(self, fig_dict, renderers_string, **kwargs)\u001b[0m\n\u001b[1;32m    291\u001b[0m             \u001b[38;5;28;01mif\u001b[39;00m \u001b[38;5;28mhasattr\u001b[39m(renderer, k):\n\u001b[1;32m    292\u001b[0m                 \u001b[38;5;28msetattr\u001b[39m(renderer, k, v)\n\u001b[0;32m--> 294\u001b[0m         bundle\u001b[38;5;241m.\u001b[39mupdate(\u001b[43mrenderer\u001b[49m\u001b[38;5;241;43m.\u001b[39;49m\u001b[43mto_mimebundle\u001b[49m\u001b[43m(\u001b[49m\u001b[43mfig_dict\u001b[49m\u001b[43m)\u001b[49m)\n\u001b[1;32m    296\u001b[0m \u001b[38;5;28;01mreturn\u001b[39;00m bundle\n",
      "File \u001b[0;32m~/.cache/pypoetry/virtualenvs/advent-of-code-CEbbwEIT-py3.13/lib/python3.13/site-packages/plotly/io/_base_renderers.py:126\u001b[0m, in \u001b[0;36mImageRenderer.to_mimebundle\u001b[0;34m(self, fig_dict)\u001b[0m\n\u001b[1;32m    125\u001b[0m \u001b[38;5;28;01mdef\u001b[39;00m \u001b[38;5;21mto_mimebundle\u001b[39m(\u001b[38;5;28mself\u001b[39m, fig_dict):\n\u001b[0;32m--> 126\u001b[0m     image_bytes \u001b[38;5;241m=\u001b[39m \u001b[43mto_image\u001b[49m\u001b[43m(\u001b[49m\n\u001b[1;32m    127\u001b[0m \u001b[43m        \u001b[49m\u001b[43mfig_dict\u001b[49m\u001b[43m,\u001b[49m\n\u001b[1;32m    128\u001b[0m \u001b[43m        \u001b[49m\u001b[38;5;28;43mformat\u001b[39;49m\u001b[38;5;241;43m=\u001b[39;49m\u001b[38;5;28;43mself\u001b[39;49m\u001b[38;5;241;43m.\u001b[39;49m\u001b[43mformat\u001b[49m\u001b[43m,\u001b[49m\n\u001b[1;32m    129\u001b[0m \u001b[43m        \u001b[49m\u001b[43mwidth\u001b[49m\u001b[38;5;241;43m=\u001b[39;49m\u001b[38;5;28;43mself\u001b[39;49m\u001b[38;5;241;43m.\u001b[39;49m\u001b[43mwidth\u001b[49m\u001b[43m,\u001b[49m\n\u001b[1;32m    130\u001b[0m \u001b[43m        \u001b[49m\u001b[43mheight\u001b[49m\u001b[38;5;241;43m=\u001b[39;49m\u001b[38;5;28;43mself\u001b[39;49m\u001b[38;5;241;43m.\u001b[39;49m\u001b[43mheight\u001b[49m\u001b[43m,\u001b[49m\n\u001b[1;32m    131\u001b[0m \u001b[43m        \u001b[49m\u001b[43mscale\u001b[49m\u001b[38;5;241;43m=\u001b[39;49m\u001b[38;5;28;43mself\u001b[39;49m\u001b[38;5;241;43m.\u001b[39;49m\u001b[43mscale\u001b[49m\u001b[43m,\u001b[49m\n\u001b[1;32m    132\u001b[0m \u001b[43m        \u001b[49m\u001b[43mvalidate\u001b[49m\u001b[38;5;241;43m=\u001b[39;49m\u001b[38;5;28;43;01mFalse\u001b[39;49;00m\u001b[43m,\u001b[49m\n\u001b[1;32m    133\u001b[0m \u001b[43m        \u001b[49m\u001b[43mengine\u001b[49m\u001b[38;5;241;43m=\u001b[39;49m\u001b[38;5;28;43mself\u001b[39;49m\u001b[38;5;241;43m.\u001b[39;49m\u001b[43mengine\u001b[49m\u001b[43m,\u001b[49m\n\u001b[1;32m    134\u001b[0m \u001b[43m    \u001b[49m\u001b[43m)\u001b[49m\n\u001b[1;32m    136\u001b[0m     \u001b[38;5;28;01mif\u001b[39;00m \u001b[38;5;28mself\u001b[39m\u001b[38;5;241m.\u001b[39mb64_encode:\n\u001b[1;32m    137\u001b[0m         image_str \u001b[38;5;241m=\u001b[39m base64\u001b[38;5;241m.\u001b[39mb64encode(image_bytes)\u001b[38;5;241m.\u001b[39mdecode(\u001b[38;5;124m\"\u001b[39m\u001b[38;5;124mutf8\u001b[39m\u001b[38;5;124m\"\u001b[39m)\n",
      "File \u001b[0;32m~/.cache/pypoetry/virtualenvs/advent-of-code-CEbbwEIT-py3.13/lib/python3.13/site-packages/plotly/io/_kaleido.py:132\u001b[0m, in \u001b[0;36mto_image\u001b[0;34m(fig, format, width, height, scale, validate, engine)\u001b[0m\n\u001b[1;32m    130\u001b[0m     \u001b[38;5;66;03m# Raise informative error message if Kaleido is not installed\u001b[39;00m\n\u001b[1;32m    131\u001b[0m     \u001b[38;5;28;01mif\u001b[39;00m scope \u001b[38;5;129;01mis\u001b[39;00m \u001b[38;5;28;01mNone\u001b[39;00m:\n\u001b[0;32m--> 132\u001b[0m         \u001b[38;5;28;01mraise\u001b[39;00m \u001b[38;5;167;01mValueError\u001b[39;00m(\n\u001b[1;32m    133\u001b[0m \u001b[38;5;250m            \u001b[39m\u001b[38;5;124;03m\"\"\"\u001b[39;00m\n\u001b[1;32m    134\u001b[0m \u001b[38;5;124;03mImage export using the \"kaleido\" engine requires the kaleido package,\u001b[39;00m\n\u001b[1;32m    135\u001b[0m \u001b[38;5;124;03mwhich can be installed using pip:\u001b[39;00m\n\u001b[1;32m    136\u001b[0m \u001b[38;5;124;03m    $ pip install -U kaleido\u001b[39;00m\n\u001b[1;32m    137\u001b[0m \u001b[38;5;124;03m\"\"\"\u001b[39;00m\n\u001b[1;32m    138\u001b[0m         )\n\u001b[1;32m    140\u001b[0m     \u001b[38;5;66;03m# Validate figure\u001b[39;00m\n\u001b[1;32m    141\u001b[0m     \u001b[38;5;66;03m# ---------------\u001b[39;00m\n\u001b[1;32m    142\u001b[0m     fig_dict \u001b[38;5;241m=\u001b[39m validate_coerce_fig_to_dict(fig, validate)\n",
      "\u001b[0;31mValueError\u001b[0m: \nImage export using the \"kaleido\" engine requires the kaleido package,\nwhich can be installed using pip:\n    $ pip install -U kaleido\n"
     ]
    },
    {
     "data": {
      "text/plain": [
       "Figure({\n",
       "    'data': [{'link': {'color': [rgba(135, 26, 153, 0.3), rgba(40, 168, 194, 0.3),\n",
       "                                 rgba(79, 5, 130, 0.3), rgba(174, 46, 150, 0.3)],\n",
       "                       'source': [0, 1, 0, 3],\n",
       "                       'target': [1, 2, 2, 2],\n",
       "                       'value': [2, 5, 4, 1]},\n",
       "              'node': {'color': [rgb(135, 26, 153), rgb(40, 168, 194), rgb(79, 5,\n",
       "                                 130), rgb(174, 46, 150)],\n",
       "                       'label': [a, b, c, z],\n",
       "                       'line': {'color': 'black', 'width': 0.5},\n",
       "                       'pad': 15,\n",
       "                       'thickness': 20},\n",
       "              'type': 'sankey'}],\n",
       "    'layout': {'font': {'size': 10}, 'template': '...', 'title': {'text': 'Basic Sankey Diagram'}}\n",
       "})"
      ]
     },
     "execution_count": 4,
     "metadata": {},
     "output_type": "execute_result"
    }
   ],
   "source": [
    "valued_links = [\n",
    "    ValuedLink(\"a\", \"b\", 2),\n",
    "    ValuedLink(\"b\", \"c\", 5),\n",
    "    ValuedLink(\"a\", \"c\", 4),\n",
    "    ValuedLink(\"z\", \"c\", 1),\n",
    "]\n",
    "\n",
    "sankey_input = to_plotly_sankey_input(valued_links)\n",
    "display(sankey_input)\n",
    "fig = build_sankey_figure(sankey_input)\n",
    "fig"
   ]
  },
  {
   "cell_type": "markdown",
   "metadata": {},
   "source": [
    "## Adapt the problem's data structure to feed it to Plotly"
   ]
  },
  {
   "cell_type": "code",
   "execution_count": 5,
   "metadata": {
    "execution": {
     "iopub.execute_input": "2024-11-25T22:02:27.173383Z",
     "iopub.status.busy": "2024-11-25T22:02:27.173147Z",
     "iopub.status.idle": "2024-11-25T22:02:27.177744Z",
     "shell.execute_reply": "2024-11-25T22:02:27.177170Z"
    },
    "metadata": {}
   },
   "outputs": [
    {
     "data": {
      "text/plain": [
       "AdventOfCodeProblem202319(year=2023, day=19)"
      ]
     },
     "execution_count": 5,
     "metadata": {},
     "output_type": "execute_result"
    }
   ],
   "source": [
    "problem = AdventOfCodeProblem202319()\n",
    "problem"
   ]
  },
  {
   "cell_type": "code",
   "execution_count": 6,
   "metadata": {
    "execution": {
     "iopub.execute_input": "2024-11-25T22:02:27.179661Z",
     "iopub.status.busy": "2024-11-25T22:02:27.179440Z",
     "iopub.status.idle": "2024-11-25T22:02:27.189139Z",
     "shell.execute_reply": "2024-11-25T22:02:27.188366Z"
    },
    "metadata": {}
   },
   "outputs": [],
   "source": [
    "example_input = get_example_inputs_file_contents(2023)[\"test_problem_202319\"][\n",
    "    \"EXAMPLE_INPUT\"\n",
    "]"
   ]
  },
  {
   "cell_type": "code",
   "execution_count": 7,
   "metadata": {
    "execution": {
     "iopub.execute_input": "2024-11-25T22:02:27.191334Z",
     "iopub.status.busy": "2024-11-25T22:02:27.191065Z",
     "iopub.status.idle": "2024-11-25T22:02:27.195973Z",
     "shell.execute_reply": "2024-11-25T22:02:27.195411Z"
    },
    "metadata": {}
   },
   "outputs": [
    {
     "data": {
      "text/plain": [
       "{'px': Workflow(name='px', rules=(Rule(category='a', operator='<', rating=2006, destination_workflow='qkq'), Rule(category='m', operator='>', rating=2090, destination_workflow='A')), destination_workflow_else='rfg'),\n",
       " 'pv': Workflow(name='pv', rules=(Rule(category='a', operator='>', rating=1716, destination_workflow='R'),), destination_workflow_else='A'),\n",
       " 'lnx': Workflow(name='lnx', rules=(Rule(category='m', operator='>', rating=1548, destination_workflow='A'),), destination_workflow_else='A'),\n",
       " 'rfg': Workflow(name='rfg', rules=(Rule(category='s', operator='<', rating=537, destination_workflow='gd'), Rule(category='x', operator='>', rating=2440, destination_workflow='R')), destination_workflow_else='A'),\n",
       " 'qs': Workflow(name='qs', rules=(Rule(category='s', operator='>', rating=3448, destination_workflow='A'),), destination_workflow_else='lnx'),\n",
       " 'qkq': Workflow(name='qkq', rules=(Rule(category='x', operator='<', rating=1416, destination_workflow='A'),), destination_workflow_else='crn'),\n",
       " 'crn': Workflow(name='crn', rules=(Rule(category='x', operator='>', rating=2662, destination_workflow='A'),), destination_workflow_else='R'),\n",
       " 'in': Workflow(name='in', rules=(Rule(category='s', operator='<', rating=1351, destination_workflow='px'),), destination_workflow_else='qqz'),\n",
       " 'qqz': Workflow(name='qqz', rules=(Rule(category='s', operator='>', rating=2770, destination_workflow='qs'), Rule(category='m', operator='<', rating=1801, destination_workflow='hdj')), destination_workflow_else='R'),\n",
       " 'gd': Workflow(name='gd', rules=(Rule(category='a', operator='>', rating=3333, destination_workflow='R'),), destination_workflow_else='R'),\n",
       " 'hdj': Workflow(name='hdj', rules=(Rule(category='m', operator='>', rating=838, destination_workflow='A'),), destination_workflow_else='pv')}"
      ]
     },
     "execution_count": 7,
     "metadata": {},
     "output_type": "execute_result"
    }
   ],
   "source": [
    "puzzle_input = problem.parse_text_input(example_input)\n",
    "puzzle_input.workflows"
   ]
  },
  {
   "cell_type": "code",
   "execution_count": 8,
   "metadata": {
    "execution": {
     "iopub.execute_input": "2024-11-25T22:02:27.197813Z",
     "iopub.status.busy": "2024-11-25T22:02:27.197578Z",
     "iopub.status.idle": "2024-11-25T22:02:27.201764Z",
     "shell.execute_reply": "2024-11-25T22:02:27.201214Z"
    },
    "metadata": {}
   },
   "outputs": [
    {
     "data": {
      "text/plain": [
       "PartRatingRange(x=range(1, 4001), m=range(1, 4001), a=range(1, 4001), s=range(1, 4001))"
      ]
     },
     "execution_count": 8,
     "metadata": {},
     "output_type": "execute_result"
    }
   ],
   "source": [
    "initial_part_rating_range = construct_initial_part_range()\n",
    "initial_part_rating_range"
   ]
  },
  {
   "cell_type": "code",
   "execution_count": 9,
   "metadata": {
    "execution": {
     "iopub.execute_input": "2024-11-25T22:02:27.203640Z",
     "iopub.status.busy": "2024-11-25T22:02:27.203406Z",
     "iopub.status.idle": "2024-11-25T22:02:27.207754Z",
     "shell.execute_reply": "2024-11-25T22:02:27.207195Z"
    },
    "metadata": {}
   },
   "outputs": [
    {
     "data": {
      "text/plain": [
       "PartRatingRangeTree(mapping=defaultdict(<class 'list'>, {'px': [PartRatingRange(x=range(1, 4001), m=range(1, 4001), a=range(1, 4001), s=range(1, 1351))], 'qqz': [PartRatingRange(x=range(1, 4001), m=range(1, 4001), a=range(1, 4001), s=range(1351, 4001))]}), children={'px': [PartRatingRangeTree(mapping=defaultdict(<class 'list'>, {'qkq': [PartRatingRange(x=range(1, 4001), m=range(1, 4001), a=range(1, 2006), s=range(1, 1351))], 'A': [PartRatingRange(x=range(1, 4001), m=range(2091, 4001), a=range(2006, 4001), s=range(1, 1351))], 'rfg': [PartRatingRange(x=range(1, 4001), m=range(1, 2091), a=range(2006, 4001), s=range(1, 1351))]}), children={'qkq': [PartRatingRangeTree(mapping=defaultdict(<class 'list'>, {'A': [PartRatingRange(x=range(1, 1416), m=range(1, 4001), a=range(1, 2006), s=range(1, 1351))], 'crn': [PartRatingRange(x=range(1416, 4001), m=range(1, 4001), a=range(1, 2006), s=range(1, 1351))]}), children={'A': [], 'crn': [PartRatingRangeTree(mapping=defaultdict(<class 'list'>, {'A': [PartRatingRange(x=range(2663, 4001), m=range(1, 4001), a=range(1, 2006), s=range(1, 1351))], 'R': [PartRatingRange(x=range(1416, 2663), m=range(1, 4001), a=range(1, 2006), s=range(1, 1351))]}), children={'A': [], 'R': []})]})], 'A': [], 'rfg': [PartRatingRangeTree(mapping=defaultdict(<class 'list'>, {'gd': [PartRatingRange(x=range(1, 4001), m=range(1, 2091), a=range(2006, 4001), s=range(1, 537))], 'R': [PartRatingRange(x=range(2441, 4001), m=range(1, 2091), a=range(2006, 4001), s=range(537, 1351))], 'A': [PartRatingRange(x=range(1, 2441), m=range(1, 2091), a=range(2006, 4001), s=range(537, 1351))]}), children={'gd': [PartRatingRangeTree(mapping=defaultdict(<class 'list'>, {'R': [PartRatingRange(x=range(1, 4001), m=range(1, 2091), a=range(3334, 4001), s=range(1, 537)), PartRatingRange(x=range(1, 4001), m=range(1, 2091), a=range(2006, 3334), s=range(1, 537))]}), children={'R': []})], 'R': [], 'A': []})]})], 'qqz': [PartRatingRangeTree(mapping=defaultdict(<class 'list'>, {'qs': [PartRatingRange(x=range(1, 4001), m=range(1, 4001), a=range(1, 4001), s=range(2771, 4001))], 'hdj': [PartRatingRange(x=range(1, 4001), m=range(1, 1801), a=range(1, 4001), s=range(1351, 2771))], 'R': [PartRatingRange(x=range(1, 4001), m=range(1801, 4001), a=range(1, 4001), s=range(1351, 2771))]}), children={'qs': [PartRatingRangeTree(mapping=defaultdict(<class 'list'>, {'A': [PartRatingRange(x=range(1, 4001), m=range(1, 4001), a=range(1, 4001), s=range(3449, 4001))], 'lnx': [PartRatingRange(x=range(1, 4001), m=range(1, 4001), a=range(1, 4001), s=range(2771, 3449))]}), children={'A': [], 'lnx': [PartRatingRangeTree(mapping=defaultdict(<class 'list'>, {'A': [PartRatingRange(x=range(1, 4001), m=range(1549, 4001), a=range(1, 4001), s=range(2771, 3449)), PartRatingRange(x=range(1, 4001), m=range(1, 1549), a=range(1, 4001), s=range(2771, 3449))]}), children={'A': []})]})], 'hdj': [PartRatingRangeTree(mapping=defaultdict(<class 'list'>, {'A': [PartRatingRange(x=range(1, 4001), m=range(839, 1801), a=range(1, 4001), s=range(1351, 2771))], 'pv': [PartRatingRange(x=range(1, 4001), m=range(1, 839), a=range(1, 4001), s=range(1351, 2771))]}), children={'A': [], 'pv': [PartRatingRangeTree(mapping=defaultdict(<class 'list'>, {'R': [PartRatingRange(x=range(1, 4001), m=range(1, 839), a=range(1717, 4001), s=range(1351, 2771))], 'A': [PartRatingRange(x=range(1, 4001), m=range(1, 839), a=range(1, 1717), s=range(1351, 2771))]}), children={'R': [], 'A': []})]})], 'R': []})]})"
      ]
     },
     "execution_count": 9,
     "metadata": {},
     "output_type": "execute_result"
    }
   ],
   "source": [
    "range_tree = puzzle_input.apply_to_range(initial_part_rating_range)\n",
    "range_tree"
   ]
  },
  {
   "cell_type": "code",
   "execution_count": 10,
   "metadata": {
    "execution": {
     "iopub.execute_input": "2024-11-25T22:02:27.209598Z",
     "iopub.status.busy": "2024-11-25T22:02:27.209364Z",
     "iopub.status.idle": "2024-11-25T22:02:27.212632Z",
     "shell.execute_reply": "2024-11-25T22:02:27.212161Z"
    },
    "metadata": {}
   },
   "outputs": [
    {
     "name": "stdout",
     "output_type": "stream",
     "text": [
      "px [PartRatingRange(x=range(1, 4001), m=range(1, 4001), a=range(1, 4001), s=range(1, 1351))]\n",
      "qqz [PartRatingRange(x=range(1, 4001), m=range(1, 4001), a=range(1, 4001), s=range(1351, 4001))]\n"
     ]
    }
   ],
   "source": [
    "for label, rating_range_list in range_tree.mapping.items():\n",
    "    print(label, rating_range_list)"
   ]
  },
  {
   "cell_type": "code",
   "execution_count": 11,
   "metadata": {
    "execution": {
     "iopub.execute_input": "2024-11-25T22:02:27.214406Z",
     "iopub.status.busy": "2024-11-25T22:02:27.214172Z",
     "iopub.status.idle": "2024-11-25T22:02:27.217665Z",
     "shell.execute_reply": "2024-11-25T22:02:27.217188Z"
    },
    "metadata": {}
   },
   "outputs": [],
   "source": [
    "from dataclasses import asdict\n",
    "\n",
    "json_txt = json.dumps(asdict(range_tree), indent=4, default=str)\n",
    "json_dict = json.loads(json_txt)\n",
    "# Path(\"202319.out.json\").write_text(json_repr)"
   ]
  },
  {
   "cell_type": "markdown",
   "metadata": {},
   "source": [
    "Issue: how to find a good way to get a scalar from the \"PartTreeRange\" objects?\n",
    "The cubes are 4D, composed of 4 components x, m, a, s.\n",
    "\n",
    "Example: The flow coming from `rfg` must be split in three, to `gd`, `R` and `A`, with a metric that correctly reflect the proportion of parts flowing.\n"
   ]
  },
  {
   "cell_type": "code",
   "execution_count": 12,
   "metadata": {
    "execution": {
     "iopub.execute_input": "2024-11-25T22:02:27.219641Z",
     "iopub.status.busy": "2024-11-25T22:02:27.219395Z",
     "iopub.status.idle": "2024-11-25T22:02:27.224626Z",
     "shell.execute_reply": "2024-11-25T22:02:27.223854Z"
    },
    "metadata": {}
   },
   "outputs": [
    {
     "data": {
      "text/markdown": [
       "\n",
       "```json\n",
       "{\n",
       "    \"gd\": [\n",
       "        {\n",
       "            \"x\": \"range(1, 4001)\",\n",
       "            \"m\": \"range(1, 2091)\",\n",
       "            \"a\": \"range(2006, 4001)\",\n",
       "            \"s\": \"range(1, 537)\"\n",
       "        }\n",
       "    ],\n",
       "    \"R\": [\n",
       "        {\n",
       "            \"x\": \"range(2441, 4001)\",\n",
       "            \"m\": \"range(1, 2091)\",\n",
       "            \"a\": \"range(2006, 4001)\",\n",
       "            \"s\": \"range(537, 1351)\"\n",
       "        }\n",
       "    ],\n",
       "    \"A\": [\n",
       "        {\n",
       "            \"x\": \"range(1, 2441)\",\n",
       "            \"m\": \"range(1, 2091)\",\n",
       "            \"a\": \"range(2006, 4001)\",\n",
       "            \"s\": \"range(537, 1351)\"\n",
       "        }\n",
       "    ]\n",
       "} \n",
       "```\n"
      ],
      "text/plain": [
       "<IPython.core.display.Markdown object>"
      ]
     },
     "execution_count": 12,
     "metadata": {},
     "output_type": "execute_result"
    }
   ],
   "source": [
    "pretty_print_dict_with_json(\n",
    "    json_dict[\"children\"][\"px\"][0][\"children\"][\"rfg\"][0][\"mapping\"]\n",
    ")"
   ]
  },
  {
   "cell_type": "markdown",
   "metadata": {},
   "source": [
    "A first approach is just to compute the volume of the contiguous cubic sub-space delimitated of the $4000^4$ space formed by the dimensions (x, m, a, s).\n",
    "Luckily, `plotly` will automatically normalize all the weights associated to edges going into the same node, concretely, incoming flows of `(6, 4, 10)` will visually respectively contribute to 30%, 20%, 50%.\n"
   ]
  },
  {
   "cell_type": "code",
   "execution_count": 13,
   "metadata": {
    "execution": {
     "iopub.execute_input": "2024-11-25T22:02:27.226746Z",
     "iopub.status.busy": "2024-11-25T22:02:27.226544Z",
     "iopub.status.idle": "2024-11-25T22:02:27.232595Z",
     "shell.execute_reply": "2024-11-25T22:02:27.231877Z"
    },
    "metadata": {}
   },
   "outputs": [
    {
     "data": {
      "text/plain": [
       "{'gd': 8939515200000, 'R': 5294661372000, 'A': 8281393428000}"
      ]
     },
     "execution_count": 13,
     "metadata": {},
     "output_type": "execute_result"
    }
   ],
   "source": [
    "{\n",
    "    child: rating_ranges[0].volume()\n",
    "    for child, rating_ranges in range_tree.children[\"px\"][0]\n",
    "    .children[\"rfg\"][0]\n",
    "    .mapping.items()\n",
    "}"
   ]
  },
  {
   "cell_type": "markdown",
   "metadata": {},
   "source": [
    "But what to do in case of split flows, when a workflow has multiple subspaces (list of `PartRatingRange` has more than one element)?\n",
    "\n",
    "Example:\n"
   ]
  },
  {
   "cell_type": "code",
   "execution_count": 14,
   "metadata": {
    "execution": {
     "iopub.execute_input": "2024-11-25T22:02:27.234807Z",
     "iopub.status.busy": "2024-11-25T22:02:27.234495Z",
     "iopub.status.idle": "2024-11-25T22:02:27.240118Z",
     "shell.execute_reply": "2024-11-25T22:02:27.239547Z"
    },
    "metadata": {}
   },
   "outputs": [
    {
     "data": {
      "text/markdown": [
       "\n",
       "```json\n",
       "{\n",
       "    \"mapping\": {\n",
       "        \"R\": [\n",
       "            {\n",
       "                \"x\": \"range(1, 4001)\",\n",
       "                \"m\": \"range(1, 2091)\",\n",
       "                \"a\": \"range(3334, 4001)\",\n",
       "                \"s\": \"range(1, 537)\"\n",
       "            },\n",
       "            {\n",
       "                \"x\": \"range(1, 4001)\",\n",
       "                \"m\": \"range(1, 2091)\",\n",
       "                \"a\": \"range(2006, 3334)\",\n",
       "                \"s\": \"range(1, 537)\"\n",
       "            }\n",
       "        ]\n",
       "    },\n",
       "    \"children\": {\n",
       "        \"R\": []\n",
       "    }\n",
       "} \n",
       "```\n"
      ],
      "text/plain": [
       "<IPython.core.display.Markdown object>"
      ]
     },
     "execution_count": 14,
     "metadata": {},
     "output_type": "execute_result"
    }
   ],
   "source": [
    "pretty_print_dict_with_json(\n",
    "    json_dict[\"children\"][\"px\"][0][\"children\"][\"rfg\"][0][\"children\"][\"gd\"][0]\n",
    ")"
   ]
  },
  {
   "cell_type": "markdown",
   "metadata": {},
   "source": [
    "In that case, just add the individual contribution. The subspace associated to the workflow is just non contiguous, composed of several cubes.\n"
   ]
  },
  {
   "cell_type": "code",
   "execution_count": 15,
   "metadata": {
    "execution": {
     "iopub.execute_input": "2024-11-25T22:02:27.242071Z",
     "iopub.status.busy": "2024-11-25T22:02:27.241881Z",
     "iopub.status.idle": "2024-11-25T22:02:27.245811Z",
     "shell.execute_reply": "2024-11-25T22:02:27.245124Z"
    },
    "metadata": {}
   },
   "outputs": [],
   "source": [
    "def compute_flow_values(\n",
    "    mapping: dict[str, list[PartRatingRange]],\n",
    ") -> dict[str, tuple[int, ...]]:\n",
    "    return {\n",
    "        child: tuple(rating_range.volume() for rating_range in rating_ranges)\n",
    "        for child, rating_ranges in mapping.items()\n",
    "    }"
   ]
  },
  {
   "cell_type": "code",
   "execution_count": 16,
   "metadata": {
    "execution": {
     "iopub.execute_input": "2024-11-25T22:02:27.247736Z",
     "iopub.status.busy": "2024-11-25T22:02:27.247509Z",
     "iopub.status.idle": "2024-11-25T22:02:27.252011Z",
     "shell.execute_reply": "2024-11-25T22:02:27.251480Z"
    },
    "metadata": {}
   },
   "outputs": [
    {
     "data": {
      "text/plain": [
       "{'gd': (8939515200000,), 'R': (5294661372000,), 'A': (8281393428000,)}"
      ]
     },
     "execution_count": 16,
     "metadata": {},
     "output_type": "execute_result"
    }
   ],
   "source": [
    "compute_flow_values(range_tree.children[\"px\"][0].children[\"rfg\"][0].mapping)"
   ]
  },
  {
   "cell_type": "code",
   "execution_count": 17,
   "metadata": {
    "execution": {
     "iopub.execute_input": "2024-11-25T22:02:27.254074Z",
     "iopub.status.busy": "2024-11-25T22:02:27.253874Z",
     "iopub.status.idle": "2024-11-25T22:02:27.258203Z",
     "shell.execute_reply": "2024-11-25T22:02:27.257733Z"
    },
    "metadata": {}
   },
   "outputs": [
    {
     "data": {
      "text/plain": [
       "{'R': (2988800320000, 5950714880000)}"
      ]
     },
     "execution_count": 17,
     "metadata": {},
     "output_type": "execute_result"
    }
   ],
   "source": [
    "compute_flow_values(\n",
    "    range_tree.children[\"px\"][0].children[\"rfg\"][0].children[\"gd\"][0].mapping\n",
    ")"
   ]
  },
  {
   "cell_type": "markdown",
   "metadata": {},
   "source": [
    "Now, that the structure can be converted to a tree with integer leaves (the volumes), the Sankey Diagram can be dealt, by iterating depth-first into the `PartRatingRangeTree` structure, and filling a list of `ValuedLink`.\n"
   ]
  },
  {
   "cell_type": "code",
   "execution_count": 18,
   "metadata": {
    "execution": {
     "iopub.execute_input": "2024-11-25T22:02:27.260078Z",
     "iopub.status.busy": "2024-11-25T22:02:27.259880Z",
     "iopub.status.idle": "2024-11-25T22:02:27.264833Z",
     "shell.execute_reply": "2024-11-25T22:02:27.264252Z"
    },
    "metadata": {}
   },
   "outputs": [],
   "source": [
    "def to_valued_links(\n",
    "    tree: PartRatingRangeTree,\n",
    "    source: str,\n",
    "    valued_links: list[ValuedLink],\n",
    "    *,\n",
    "    sum_flows: bool = False,\n",
    ") -> None:\n",
    "    flow_values = compute_flow_values(tree.mapping)\n",
    "    if sum_flows:\n",
    "        flow_total_values = {k: sum(v) for k, v in flow_values.items()}\n",
    "        for target, value in flow_total_values.items():\n",
    "            valued_links.append(ValuedLink(source, target, value))\n",
    "    else:\n",
    "        # More details as multiple flows from same source and target are showed explicitly\n",
    "        # instead of merged. For the example data, this shows for the two links from lnx to A.\n",
    "        for target, values in flow_values.items():\n",
    "            for value in values:\n",
    "                valued_links.append(ValuedLink(source, target, value))\n",
    "\n",
    "    children = tree.children\n",
    "\n",
    "    if children is not None:\n",
    "        for child_label, child_trees in children.items():\n",
    "            for child_tree in child_trees:\n",
    "                to_valued_links(child_tree, child_label, valued_links)"
   ]
  },
  {
   "cell_type": "code",
   "execution_count": 19,
   "metadata": {
    "execution": {
     "iopub.execute_input": "2024-11-25T22:02:27.267396Z",
     "iopub.status.busy": "2024-11-25T22:02:27.267202Z",
     "iopub.status.idle": "2024-11-25T22:02:27.272171Z",
     "shell.execute_reply": "2024-11-25T22:02:27.271680Z"
    },
    "metadata": {}
   },
   "outputs": [
    {
     "data": {
      "text/plain": [
       "[ValuedLink(source='in', target='px', value=86400000000000),\n",
       " ValuedLink(source='in', target='qqz', value=169600000000000),\n",
       " ValuedLink(source='px', target='qkq', value=43308000000000),\n",
       " ValuedLink(source='px', target='A', value=20576430000000),\n",
       " ValuedLink(source='px', target='rfg', value=22515570000000),\n",
       " ValuedLink(source='qkq', target='A', value=15320205000000),\n",
       " ValuedLink(source='qkq', target='crn', value=27987795000000),\n",
       " ValuedLink(source='crn', target='A', value=14486526000000),\n",
       " ValuedLink(source='crn', target='R', value=13501269000000),\n",
       " ValuedLink(source='rfg', target='gd', value=8939515200000),\n",
       " ValuedLink(source='rfg', target='R', value=5294661372000),\n",
       " ValuedLink(source='rfg', target='A', value=8281393428000),\n",
       " ValuedLink(source='gd', target='R', value=2988800320000),\n",
       " ValuedLink(source='gd', target='R', value=5950714880000),\n",
       " ValuedLink(source='qqz', target='qs', value=78720000000000),\n",
       " ValuedLink(source='qqz', target='hdj', value=40896000000000),\n",
       " ValuedLink(source='qqz', target='R', value=49984000000000),\n",
       " ValuedLink(source='qs', target='A', value=35328000000000),\n",
       " ValuedLink(source='qs', target='lnx', value=43392000000000),\n",
       " ValuedLink(source='lnx', target='A', value=26599296000000),\n",
       " ValuedLink(source='lnx', target='A', value=16792704000000),\n",
       " ValuedLink(source='hdj', target='A', value=21856640000000),\n",
       " ValuedLink(source='hdj', target='pv', value=19039360000000),\n",
       " ValuedLink(source='pv', target='R', value=10871474560000),\n",
       " ValuedLink(source='pv', target='A', value=8167885440000)]"
      ]
     },
     "execution_count": 19,
     "metadata": {},
     "output_type": "execute_result"
    }
   ],
   "source": [
    "valued_links = []\n",
    "to_valued_links(range_tree, \"in\", valued_links)\n",
    "valued_links"
   ]
  },
  {
   "cell_type": "markdown",
   "metadata": {},
   "source": [
    "Now that we have got a list of `ValuedLink`, the same conversion function used earlier can be used to feed it into Plotly!\n"
   ]
  },
  {
   "cell_type": "code",
   "execution_count": 20,
   "metadata": {
    "execution": {
     "iopub.execute_input": "2024-11-25T22:02:27.274062Z",
     "iopub.status.busy": "2024-11-25T22:02:27.273828Z",
     "iopub.status.idle": "2024-11-25T22:02:27.681130Z",
     "shell.execute_reply": "2024-11-25T22:02:27.680234Z"
    },
    "metadata": {}
   },
   "outputs": [
    {
     "data": {
      "text/plain": [
       "PlotlySankeyInput(labels=['in', 'px', 'qqz', 'qkq', 'A', 'rfg', 'crn', 'R', 'gd', 'qs', 'hdj', 'lnx', 'pv'], sources=[0, 0, 1, 1, 1, 3, 3, 6, 6, 5, 5, 5, 8, 8, 2, 2, 2, 9, 9, 11, 11, 10, 10, 12, 12], targets=[1, 2, 3, 4, 5, 4, 6, 4, 7, 8, 7, 4, 7, 7, 9, 10, 7, 4, 11, 4, 4, 4, 12, 7, 4], values=[86400000000000, 169600000000000, 43308000000000, 20576430000000, 22515570000000, 15320205000000, 27987795000000, 14486526000000, 13501269000000, 8939515200000, 5294661372000, 8281393428000, 2988800320000, 5950714880000, 78720000000000, 40896000000000, 49984000000000, 35328000000000, 43392000000000, 26599296000000, 16792704000000, 21856640000000, 19039360000000, 10871474560000, 8167885440000], node_colors=['rgba(128,128,128,0.3)', 'rgba(128,128,128,0.3)', 'rgba(128,128,128,0.3)', 'rgba(128,128,128,0.3)', 'rgba(0,255,0,0.3)', 'rgba(128,128,128,0.3)', 'rgba(128,128,128,0.3)', 'rgba(255,0,0,0.3)', 'rgba(128,128,128,0.3)', 'rgba(128,128,128,0.3)', 'rgba(128,128,128,0.3)', 'rgba(128,128,128,0.3)', 'rgba(128,128,128,0.3)'], link_colors=['rgba(128,128,128,0.3)', 'rgba(128,128,128,0.3)', 'rgba(128,128,128,0.3)', 'rgba(0,255,0,0.3)', 'rgba(128,128,128,0.3)', 'rgba(0,255,0,0.3)', 'rgba(128,128,128,0.3)', 'rgba(0,255,0,0.3)', 'rgba(255,0,0,0.3)', 'rgba(128,128,128,0.3)', 'rgba(255,0,0,0.3)', 'rgba(0,255,0,0.3)', 'rgba(255,0,0,0.3)', 'rgba(255,0,0,0.3)', 'rgba(128,128,128,0.3)', 'rgba(128,128,128,0.3)', 'rgba(255,0,0,0.3)', 'rgba(0,255,0,0.3)', 'rgba(128,128,128,0.3)', 'rgba(0,255,0,0.3)', 'rgba(0,255,0,0.3)', 'rgba(0,255,0,0.3)', 'rgba(128,128,128,0.3)', 'rgba(255,0,0,0.3)', 'rgba(0,255,0,0.3)'])"
      ]
     },
     "metadata": {},
     "output_type": "display_data"
    },
    {
     "ename": "ValueError",
     "evalue": "\nImage export using the \"kaleido\" engine requires the kaleido package,\nwhich can be installed using pip:\n    $ pip install -U kaleido\n",
     "output_type": "error",
     "traceback": [
      "\u001b[0;31m---------------------------------------------------------------------------\u001b[0m",
      "\u001b[0;31mValueError\u001b[0m                                Traceback (most recent call last)",
      "Cell \u001b[0;32mIn[20], line 10\u001b[0m\n\u001b[1;32m      4\u001b[0m     fig \u001b[38;5;241m=\u001b[39m build_sankey_figure(\n\u001b[1;32m      5\u001b[0m         sankey_input, title\u001b[38;5;241m=\u001b[39m\u001b[38;5;124m\"\u001b[39m\u001b[38;5;124mExample Parsed Puzzle Input (Problem 202319)\u001b[39m\u001b[38;5;124m\"\u001b[39m\n\u001b[1;32m      6\u001b[0m     )\n\u001b[1;32m      7\u001b[0m     fig\u001b[38;5;241m.\u001b[39mshow()\n\u001b[0;32m---> 10\u001b[0m \u001b[43mshow_example_input\u001b[49m\u001b[43m(\u001b[49m\u001b[43m)\u001b[49m\n",
      "Cell \u001b[0;32mIn[20], line 7\u001b[0m, in \u001b[0;36mshow_example_input\u001b[0;34m()\u001b[0m\n\u001b[1;32m      3\u001b[0m display(sankey_input)\n\u001b[1;32m      4\u001b[0m fig \u001b[38;5;241m=\u001b[39m build_sankey_figure(\n\u001b[1;32m      5\u001b[0m     sankey_input, title\u001b[38;5;241m=\u001b[39m\u001b[38;5;124m\"\u001b[39m\u001b[38;5;124mExample Parsed Puzzle Input (Problem 202319)\u001b[39m\u001b[38;5;124m\"\u001b[39m\n\u001b[1;32m      6\u001b[0m )\n\u001b[0;32m----> 7\u001b[0m \u001b[43mfig\u001b[49m\u001b[38;5;241;43m.\u001b[39;49m\u001b[43mshow\u001b[49m\u001b[43m(\u001b[49m\u001b[43m)\u001b[49m\n",
      "File \u001b[0;32m~/.cache/pypoetry/virtualenvs/advent-of-code-CEbbwEIT-py3.13/lib/python3.13/site-packages/plotly/basedatatypes.py:3410\u001b[0m, in \u001b[0;36mBaseFigure.show\u001b[0;34m(self, *args, **kwargs)\u001b[0m\n\u001b[1;32m   3377\u001b[0m \u001b[38;5;250m\u001b[39m\u001b[38;5;124;03m\"\"\"\u001b[39;00m\n\u001b[1;32m   3378\u001b[0m \u001b[38;5;124;03mShow a figure using either the default renderer(s) or the renderer(s)\u001b[39;00m\n\u001b[1;32m   3379\u001b[0m \u001b[38;5;124;03mspecified by the renderer argument\u001b[39;00m\n\u001b[0;32m   (...)\u001b[0m\n\u001b[1;32m   3406\u001b[0m \u001b[38;5;124;03mNone\u001b[39;00m\n\u001b[1;32m   3407\u001b[0m \u001b[38;5;124;03m\"\"\"\u001b[39;00m\n\u001b[1;32m   3408\u001b[0m \u001b[38;5;28;01mimport\u001b[39;00m \u001b[38;5;21;01mplotly\u001b[39;00m\u001b[38;5;21;01m.\u001b[39;00m\u001b[38;5;21;01mio\u001b[39;00m \u001b[38;5;28;01mas\u001b[39;00m \u001b[38;5;21;01mpio\u001b[39;00m\n\u001b[0;32m-> 3410\u001b[0m \u001b[38;5;28;01mreturn\u001b[39;00m \u001b[43mpio\u001b[49m\u001b[38;5;241;43m.\u001b[39;49m\u001b[43mshow\u001b[49m\u001b[43m(\u001b[49m\u001b[38;5;28;43mself\u001b[39;49m\u001b[43m,\u001b[49m\u001b[43m \u001b[49m\u001b[38;5;241;43m*\u001b[39;49m\u001b[43margs\u001b[49m\u001b[43m,\u001b[49m\u001b[43m \u001b[49m\u001b[38;5;241;43m*\u001b[39;49m\u001b[38;5;241;43m*\u001b[39;49m\u001b[43mkwargs\u001b[49m\u001b[43m)\u001b[49m\n",
      "File \u001b[0;32m~/.cache/pypoetry/virtualenvs/advent-of-code-CEbbwEIT-py3.13/lib/python3.13/site-packages/plotly/io/_renderers.py:386\u001b[0m, in \u001b[0;36mshow\u001b[0;34m(fig, renderer, validate, **kwargs)\u001b[0m\n\u001b[1;32m    383\u001b[0m fig_dict \u001b[38;5;241m=\u001b[39m validate_coerce_fig_to_dict(fig, validate)\n\u001b[1;32m    385\u001b[0m \u001b[38;5;66;03m# Mimetype renderers\u001b[39;00m\n\u001b[0;32m--> 386\u001b[0m bundle \u001b[38;5;241m=\u001b[39m \u001b[43mrenderers\u001b[49m\u001b[38;5;241;43m.\u001b[39;49m\u001b[43m_build_mime_bundle\u001b[49m\u001b[43m(\u001b[49m\u001b[43mfig_dict\u001b[49m\u001b[43m,\u001b[49m\u001b[43m \u001b[49m\u001b[43mrenderers_string\u001b[49m\u001b[38;5;241;43m=\u001b[39;49m\u001b[43mrenderer\u001b[49m\u001b[43m,\u001b[49m\u001b[43m \u001b[49m\u001b[38;5;241;43m*\u001b[39;49m\u001b[38;5;241;43m*\u001b[39;49m\u001b[43mkwargs\u001b[49m\u001b[43m)\u001b[49m\n\u001b[1;32m    387\u001b[0m \u001b[38;5;28;01mif\u001b[39;00m bundle:\n\u001b[1;32m    388\u001b[0m     \u001b[38;5;28;01mif\u001b[39;00m \u001b[38;5;129;01mnot\u001b[39;00m ipython_display:\n",
      "File \u001b[0;32m~/.cache/pypoetry/virtualenvs/advent-of-code-CEbbwEIT-py3.13/lib/python3.13/site-packages/plotly/io/_renderers.py:294\u001b[0m, in \u001b[0;36mRenderersConfig._build_mime_bundle\u001b[0;34m(self, fig_dict, renderers_string, **kwargs)\u001b[0m\n\u001b[1;32m    291\u001b[0m             \u001b[38;5;28;01mif\u001b[39;00m \u001b[38;5;28mhasattr\u001b[39m(renderer, k):\n\u001b[1;32m    292\u001b[0m                 \u001b[38;5;28msetattr\u001b[39m(renderer, k, v)\n\u001b[0;32m--> 294\u001b[0m         bundle\u001b[38;5;241m.\u001b[39mupdate(\u001b[43mrenderer\u001b[49m\u001b[38;5;241;43m.\u001b[39;49m\u001b[43mto_mimebundle\u001b[49m\u001b[43m(\u001b[49m\u001b[43mfig_dict\u001b[49m\u001b[43m)\u001b[49m)\n\u001b[1;32m    296\u001b[0m \u001b[38;5;28;01mreturn\u001b[39;00m bundle\n",
      "File \u001b[0;32m~/.cache/pypoetry/virtualenvs/advent-of-code-CEbbwEIT-py3.13/lib/python3.13/site-packages/plotly/io/_base_renderers.py:126\u001b[0m, in \u001b[0;36mImageRenderer.to_mimebundle\u001b[0;34m(self, fig_dict)\u001b[0m\n\u001b[1;32m    125\u001b[0m \u001b[38;5;28;01mdef\u001b[39;00m \u001b[38;5;21mto_mimebundle\u001b[39m(\u001b[38;5;28mself\u001b[39m, fig_dict):\n\u001b[0;32m--> 126\u001b[0m     image_bytes \u001b[38;5;241m=\u001b[39m \u001b[43mto_image\u001b[49m\u001b[43m(\u001b[49m\n\u001b[1;32m    127\u001b[0m \u001b[43m        \u001b[49m\u001b[43mfig_dict\u001b[49m\u001b[43m,\u001b[49m\n\u001b[1;32m    128\u001b[0m \u001b[43m        \u001b[49m\u001b[38;5;28;43mformat\u001b[39;49m\u001b[38;5;241;43m=\u001b[39;49m\u001b[38;5;28;43mself\u001b[39;49m\u001b[38;5;241;43m.\u001b[39;49m\u001b[43mformat\u001b[49m\u001b[43m,\u001b[49m\n\u001b[1;32m    129\u001b[0m \u001b[43m        \u001b[49m\u001b[43mwidth\u001b[49m\u001b[38;5;241;43m=\u001b[39;49m\u001b[38;5;28;43mself\u001b[39;49m\u001b[38;5;241;43m.\u001b[39;49m\u001b[43mwidth\u001b[49m\u001b[43m,\u001b[49m\n\u001b[1;32m    130\u001b[0m \u001b[43m        \u001b[49m\u001b[43mheight\u001b[49m\u001b[38;5;241;43m=\u001b[39;49m\u001b[38;5;28;43mself\u001b[39;49m\u001b[38;5;241;43m.\u001b[39;49m\u001b[43mheight\u001b[49m\u001b[43m,\u001b[49m\n\u001b[1;32m    131\u001b[0m \u001b[43m        \u001b[49m\u001b[43mscale\u001b[49m\u001b[38;5;241;43m=\u001b[39;49m\u001b[38;5;28;43mself\u001b[39;49m\u001b[38;5;241;43m.\u001b[39;49m\u001b[43mscale\u001b[49m\u001b[43m,\u001b[49m\n\u001b[1;32m    132\u001b[0m \u001b[43m        \u001b[49m\u001b[43mvalidate\u001b[49m\u001b[38;5;241;43m=\u001b[39;49m\u001b[38;5;28;43;01mFalse\u001b[39;49;00m\u001b[43m,\u001b[49m\n\u001b[1;32m    133\u001b[0m \u001b[43m        \u001b[49m\u001b[43mengine\u001b[49m\u001b[38;5;241;43m=\u001b[39;49m\u001b[38;5;28;43mself\u001b[39;49m\u001b[38;5;241;43m.\u001b[39;49m\u001b[43mengine\u001b[49m\u001b[43m,\u001b[49m\n\u001b[1;32m    134\u001b[0m \u001b[43m    \u001b[49m\u001b[43m)\u001b[49m\n\u001b[1;32m    136\u001b[0m     \u001b[38;5;28;01mif\u001b[39;00m \u001b[38;5;28mself\u001b[39m\u001b[38;5;241m.\u001b[39mb64_encode:\n\u001b[1;32m    137\u001b[0m         image_str \u001b[38;5;241m=\u001b[39m base64\u001b[38;5;241m.\u001b[39mb64encode(image_bytes)\u001b[38;5;241m.\u001b[39mdecode(\u001b[38;5;124m\"\u001b[39m\u001b[38;5;124mutf8\u001b[39m\u001b[38;5;124m\"\u001b[39m)\n",
      "File \u001b[0;32m~/.cache/pypoetry/virtualenvs/advent-of-code-CEbbwEIT-py3.13/lib/python3.13/site-packages/plotly/io/_kaleido.py:132\u001b[0m, in \u001b[0;36mto_image\u001b[0;34m(fig, format, width, height, scale, validate, engine)\u001b[0m\n\u001b[1;32m    130\u001b[0m     \u001b[38;5;66;03m# Raise informative error message if Kaleido is not installed\u001b[39;00m\n\u001b[1;32m    131\u001b[0m     \u001b[38;5;28;01mif\u001b[39;00m scope \u001b[38;5;129;01mis\u001b[39;00m \u001b[38;5;28;01mNone\u001b[39;00m:\n\u001b[0;32m--> 132\u001b[0m         \u001b[38;5;28;01mraise\u001b[39;00m \u001b[38;5;167;01mValueError\u001b[39;00m(\n\u001b[1;32m    133\u001b[0m \u001b[38;5;250m            \u001b[39m\u001b[38;5;124;03m\"\"\"\u001b[39;00m\n\u001b[1;32m    134\u001b[0m \u001b[38;5;124;03mImage export using the \"kaleido\" engine requires the kaleido package,\u001b[39;00m\n\u001b[1;32m    135\u001b[0m \u001b[38;5;124;03mwhich can be installed using pip:\u001b[39;00m\n\u001b[1;32m    136\u001b[0m \u001b[38;5;124;03m    $ pip install -U kaleido\u001b[39;00m\n\u001b[1;32m    137\u001b[0m \u001b[38;5;124;03m\"\"\"\u001b[39;00m\n\u001b[1;32m    138\u001b[0m         )\n\u001b[1;32m    140\u001b[0m     \u001b[38;5;66;03m# Validate figure\u001b[39;00m\n\u001b[1;32m    141\u001b[0m     \u001b[38;5;66;03m# ---------------\u001b[39;00m\n\u001b[1;32m    142\u001b[0m     fig_dict \u001b[38;5;241m=\u001b[39m validate_coerce_fig_to_dict(fig, validate)\n",
      "\u001b[0;31mValueError\u001b[0m: \nImage export using the \"kaleido\" engine requires the kaleido package,\nwhich can be installed using pip:\n    $ pip install -U kaleido\n"
     ]
    }
   ],
   "source": [
    "def show_example_input():\n",
    "    sankey_input = to_plotly_sankey_input(valued_links, color_mode=\"problem_202319\")\n",
    "    display(sankey_input)\n",
    "    fig = build_sankey_figure(\n",
    "        sankey_input, title=\"Example Parsed Puzzle Input (Problem 202319)\"\n",
    "    )\n",
    "    fig.show()\n",
    "\n",
    "\n",
    "show_example_input()"
   ]
  },
  {
   "cell_type": "markdown",
   "metadata": {},
   "source": [
    "The result looks similar to this post on Reddit: [\\[2023 Day 19 (part 2)\\] Sankey diagrams are cool](https://www.reddit.com/r/adventofcode/comments/18lyvuv/2023_day_19_part_2_sankey_diagrams_are_cool/)\n"
   ]
  },
  {
   "cell_type": "markdown",
   "metadata": {},
   "source": [
    "Now let's try with my actual personalized input:\n"
   ]
  },
  {
   "cell_type": "code",
   "execution_count": 21,
   "metadata": {
    "execution": {
     "iopub.execute_input": "2024-11-25T22:02:27.683599Z",
     "iopub.status.busy": "2024-11-25T22:02:27.683329Z",
     "iopub.status.idle": "2024-11-25T22:02:28.174681Z",
     "shell.execute_reply": "2024-11-25T22:02:28.173847Z"
    },
    "metadata": {}
   },
   "outputs": [
    {
     "ename": "ValueError",
     "evalue": "\nImage export using the \"kaleido\" engine requires the kaleido package,\nwhich can be installed using pip:\n    $ pip install -U kaleido\n",
     "output_type": "error",
     "traceback": [
      "\u001b[0;31m---------------------------------------------------------------------------\u001b[0m",
      "\u001b[0;31mValueError\u001b[0m                                Traceback (most recent call last)",
      "Cell \u001b[0;32mIn[21], line 17\u001b[0m\n\u001b[1;32m     11\u001b[0m     fig \u001b[38;5;241m=\u001b[39m build_sankey_figure(\n\u001b[1;32m     12\u001b[0m         sankey_input, title\u001b[38;5;241m=\u001b[39m\u001b[38;5;124m\"\u001b[39m\u001b[38;5;124mActual Parsed Puzzle Input (Problem 202319)\u001b[39m\u001b[38;5;124m\"\u001b[39m\n\u001b[1;32m     13\u001b[0m     )\n\u001b[1;32m     14\u001b[0m     fig\u001b[38;5;241m.\u001b[39mshow(width\u001b[38;5;241m=\u001b[39m\u001b[38;5;241m1080\u001b[39m, height\u001b[38;5;241m=\u001b[39m\u001b[38;5;241m1080\u001b[39m)\n\u001b[0;32m---> 17\u001b[0m \u001b[43mshow_actual_input\u001b[49m\u001b[43m(\u001b[49m\u001b[43m)\u001b[49m\n",
      "Cell \u001b[0;32mIn[21], line 14\u001b[0m, in \u001b[0;36mshow_actual_input\u001b[0;34m()\u001b[0m\n\u001b[1;32m     10\u001b[0m sankey_input \u001b[38;5;241m=\u001b[39m to_plotly_sankey_input(valued_links, color_mode\u001b[38;5;241m=\u001b[39m\u001b[38;5;124m\"\u001b[39m\u001b[38;5;124mproblem_202319\u001b[39m\u001b[38;5;124m\"\u001b[39m)\n\u001b[1;32m     11\u001b[0m fig \u001b[38;5;241m=\u001b[39m build_sankey_figure(\n\u001b[1;32m     12\u001b[0m     sankey_input, title\u001b[38;5;241m=\u001b[39m\u001b[38;5;124m\"\u001b[39m\u001b[38;5;124mActual Parsed Puzzle Input (Problem 202319)\u001b[39m\u001b[38;5;124m\"\u001b[39m\n\u001b[1;32m     13\u001b[0m )\n\u001b[0;32m---> 14\u001b[0m \u001b[43mfig\u001b[49m\u001b[38;5;241;43m.\u001b[39;49m\u001b[43mshow\u001b[49m\u001b[43m(\u001b[49m\u001b[43mwidth\u001b[49m\u001b[38;5;241;43m=\u001b[39;49m\u001b[38;5;241;43m1080\u001b[39;49m\u001b[43m,\u001b[49m\u001b[43m \u001b[49m\u001b[43mheight\u001b[49m\u001b[38;5;241;43m=\u001b[39;49m\u001b[38;5;241;43m1080\u001b[39;49m\u001b[43m)\u001b[49m\n",
      "File \u001b[0;32m~/.cache/pypoetry/virtualenvs/advent-of-code-CEbbwEIT-py3.13/lib/python3.13/site-packages/plotly/basedatatypes.py:3410\u001b[0m, in \u001b[0;36mBaseFigure.show\u001b[0;34m(self, *args, **kwargs)\u001b[0m\n\u001b[1;32m   3377\u001b[0m \u001b[38;5;250m\u001b[39m\u001b[38;5;124;03m\"\"\"\u001b[39;00m\n\u001b[1;32m   3378\u001b[0m \u001b[38;5;124;03mShow a figure using either the default renderer(s) or the renderer(s)\u001b[39;00m\n\u001b[1;32m   3379\u001b[0m \u001b[38;5;124;03mspecified by the renderer argument\u001b[39;00m\n\u001b[0;32m   (...)\u001b[0m\n\u001b[1;32m   3406\u001b[0m \u001b[38;5;124;03mNone\u001b[39;00m\n\u001b[1;32m   3407\u001b[0m \u001b[38;5;124;03m\"\"\"\u001b[39;00m\n\u001b[1;32m   3408\u001b[0m \u001b[38;5;28;01mimport\u001b[39;00m \u001b[38;5;21;01mplotly\u001b[39;00m\u001b[38;5;21;01m.\u001b[39;00m\u001b[38;5;21;01mio\u001b[39;00m \u001b[38;5;28;01mas\u001b[39;00m \u001b[38;5;21;01mpio\u001b[39;00m\n\u001b[0;32m-> 3410\u001b[0m \u001b[38;5;28;01mreturn\u001b[39;00m \u001b[43mpio\u001b[49m\u001b[38;5;241;43m.\u001b[39;49m\u001b[43mshow\u001b[49m\u001b[43m(\u001b[49m\u001b[38;5;28;43mself\u001b[39;49m\u001b[43m,\u001b[49m\u001b[43m \u001b[49m\u001b[38;5;241;43m*\u001b[39;49m\u001b[43margs\u001b[49m\u001b[43m,\u001b[49m\u001b[43m \u001b[49m\u001b[38;5;241;43m*\u001b[39;49m\u001b[38;5;241;43m*\u001b[39;49m\u001b[43mkwargs\u001b[49m\u001b[43m)\u001b[49m\n",
      "File \u001b[0;32m~/.cache/pypoetry/virtualenvs/advent-of-code-CEbbwEIT-py3.13/lib/python3.13/site-packages/plotly/io/_renderers.py:386\u001b[0m, in \u001b[0;36mshow\u001b[0;34m(fig, renderer, validate, **kwargs)\u001b[0m\n\u001b[1;32m    383\u001b[0m fig_dict \u001b[38;5;241m=\u001b[39m validate_coerce_fig_to_dict(fig, validate)\n\u001b[1;32m    385\u001b[0m \u001b[38;5;66;03m# Mimetype renderers\u001b[39;00m\n\u001b[0;32m--> 386\u001b[0m bundle \u001b[38;5;241m=\u001b[39m \u001b[43mrenderers\u001b[49m\u001b[38;5;241;43m.\u001b[39;49m\u001b[43m_build_mime_bundle\u001b[49m\u001b[43m(\u001b[49m\u001b[43mfig_dict\u001b[49m\u001b[43m,\u001b[49m\u001b[43m \u001b[49m\u001b[43mrenderers_string\u001b[49m\u001b[38;5;241;43m=\u001b[39;49m\u001b[43mrenderer\u001b[49m\u001b[43m,\u001b[49m\u001b[43m \u001b[49m\u001b[38;5;241;43m*\u001b[39;49m\u001b[38;5;241;43m*\u001b[39;49m\u001b[43mkwargs\u001b[49m\u001b[43m)\u001b[49m\n\u001b[1;32m    387\u001b[0m \u001b[38;5;28;01mif\u001b[39;00m bundle:\n\u001b[1;32m    388\u001b[0m     \u001b[38;5;28;01mif\u001b[39;00m \u001b[38;5;129;01mnot\u001b[39;00m ipython_display:\n",
      "File \u001b[0;32m~/.cache/pypoetry/virtualenvs/advent-of-code-CEbbwEIT-py3.13/lib/python3.13/site-packages/plotly/io/_renderers.py:294\u001b[0m, in \u001b[0;36mRenderersConfig._build_mime_bundle\u001b[0;34m(self, fig_dict, renderers_string, **kwargs)\u001b[0m\n\u001b[1;32m    291\u001b[0m             \u001b[38;5;28;01mif\u001b[39;00m \u001b[38;5;28mhasattr\u001b[39m(renderer, k):\n\u001b[1;32m    292\u001b[0m                 \u001b[38;5;28msetattr\u001b[39m(renderer, k, v)\n\u001b[0;32m--> 294\u001b[0m         bundle\u001b[38;5;241m.\u001b[39mupdate(\u001b[43mrenderer\u001b[49m\u001b[38;5;241;43m.\u001b[39;49m\u001b[43mto_mimebundle\u001b[49m\u001b[43m(\u001b[49m\u001b[43mfig_dict\u001b[49m\u001b[43m)\u001b[49m)\n\u001b[1;32m    296\u001b[0m \u001b[38;5;28;01mreturn\u001b[39;00m bundle\n",
      "File \u001b[0;32m~/.cache/pypoetry/virtualenvs/advent-of-code-CEbbwEIT-py3.13/lib/python3.13/site-packages/plotly/io/_base_renderers.py:126\u001b[0m, in \u001b[0;36mImageRenderer.to_mimebundle\u001b[0;34m(self, fig_dict)\u001b[0m\n\u001b[1;32m    125\u001b[0m \u001b[38;5;28;01mdef\u001b[39;00m \u001b[38;5;21mto_mimebundle\u001b[39m(\u001b[38;5;28mself\u001b[39m, fig_dict):\n\u001b[0;32m--> 126\u001b[0m     image_bytes \u001b[38;5;241m=\u001b[39m \u001b[43mto_image\u001b[49m\u001b[43m(\u001b[49m\n\u001b[1;32m    127\u001b[0m \u001b[43m        \u001b[49m\u001b[43mfig_dict\u001b[49m\u001b[43m,\u001b[49m\n\u001b[1;32m    128\u001b[0m \u001b[43m        \u001b[49m\u001b[38;5;28;43mformat\u001b[39;49m\u001b[38;5;241;43m=\u001b[39;49m\u001b[38;5;28;43mself\u001b[39;49m\u001b[38;5;241;43m.\u001b[39;49m\u001b[43mformat\u001b[49m\u001b[43m,\u001b[49m\n\u001b[1;32m    129\u001b[0m \u001b[43m        \u001b[49m\u001b[43mwidth\u001b[49m\u001b[38;5;241;43m=\u001b[39;49m\u001b[38;5;28;43mself\u001b[39;49m\u001b[38;5;241;43m.\u001b[39;49m\u001b[43mwidth\u001b[49m\u001b[43m,\u001b[49m\n\u001b[1;32m    130\u001b[0m \u001b[43m        \u001b[49m\u001b[43mheight\u001b[49m\u001b[38;5;241;43m=\u001b[39;49m\u001b[38;5;28;43mself\u001b[39;49m\u001b[38;5;241;43m.\u001b[39;49m\u001b[43mheight\u001b[49m\u001b[43m,\u001b[49m\n\u001b[1;32m    131\u001b[0m \u001b[43m        \u001b[49m\u001b[43mscale\u001b[49m\u001b[38;5;241;43m=\u001b[39;49m\u001b[38;5;28;43mself\u001b[39;49m\u001b[38;5;241;43m.\u001b[39;49m\u001b[43mscale\u001b[49m\u001b[43m,\u001b[49m\n\u001b[1;32m    132\u001b[0m \u001b[43m        \u001b[49m\u001b[43mvalidate\u001b[49m\u001b[38;5;241;43m=\u001b[39;49m\u001b[38;5;28;43;01mFalse\u001b[39;49;00m\u001b[43m,\u001b[49m\n\u001b[1;32m    133\u001b[0m \u001b[43m        \u001b[49m\u001b[43mengine\u001b[49m\u001b[38;5;241;43m=\u001b[39;49m\u001b[38;5;28;43mself\u001b[39;49m\u001b[38;5;241;43m.\u001b[39;49m\u001b[43mengine\u001b[49m\u001b[43m,\u001b[49m\n\u001b[1;32m    134\u001b[0m \u001b[43m    \u001b[49m\u001b[43m)\u001b[49m\n\u001b[1;32m    136\u001b[0m     \u001b[38;5;28;01mif\u001b[39;00m \u001b[38;5;28mself\u001b[39m\u001b[38;5;241m.\u001b[39mb64_encode:\n\u001b[1;32m    137\u001b[0m         image_str \u001b[38;5;241m=\u001b[39m base64\u001b[38;5;241m.\u001b[39mb64encode(image_bytes)\u001b[38;5;241m.\u001b[39mdecode(\u001b[38;5;124m\"\u001b[39m\u001b[38;5;124mutf8\u001b[39m\u001b[38;5;124m\"\u001b[39m)\n",
      "File \u001b[0;32m~/.cache/pypoetry/virtualenvs/advent-of-code-CEbbwEIT-py3.13/lib/python3.13/site-packages/plotly/io/_kaleido.py:132\u001b[0m, in \u001b[0;36mto_image\u001b[0;34m(fig, format, width, height, scale, validate, engine)\u001b[0m\n\u001b[1;32m    130\u001b[0m     \u001b[38;5;66;03m# Raise informative error message if Kaleido is not installed\u001b[39;00m\n\u001b[1;32m    131\u001b[0m     \u001b[38;5;28;01mif\u001b[39;00m scope \u001b[38;5;129;01mis\u001b[39;00m \u001b[38;5;28;01mNone\u001b[39;00m:\n\u001b[0;32m--> 132\u001b[0m         \u001b[38;5;28;01mraise\u001b[39;00m \u001b[38;5;167;01mValueError\u001b[39;00m(\n\u001b[1;32m    133\u001b[0m \u001b[38;5;250m            \u001b[39m\u001b[38;5;124;03m\"\"\"\u001b[39;00m\n\u001b[1;32m    134\u001b[0m \u001b[38;5;124;03mImage export using the \"kaleido\" engine requires the kaleido package,\u001b[39;00m\n\u001b[1;32m    135\u001b[0m \u001b[38;5;124;03mwhich can be installed using pip:\u001b[39;00m\n\u001b[1;32m    136\u001b[0m \u001b[38;5;124;03m    $ pip install -U kaleido\u001b[39;00m\n\u001b[1;32m    137\u001b[0m \u001b[38;5;124;03m\"\"\"\u001b[39;00m\n\u001b[1;32m    138\u001b[0m         )\n\u001b[1;32m    140\u001b[0m     \u001b[38;5;66;03m# Validate figure\u001b[39;00m\n\u001b[1;32m    141\u001b[0m     \u001b[38;5;66;03m# ---------------\u001b[39;00m\n\u001b[1;32m    142\u001b[0m     fig_dict \u001b[38;5;241m=\u001b[39m validate_coerce_fig_to_dict(fig, validate)\n",
      "\u001b[0;31mValueError\u001b[0m: \nImage export using the \"kaleido\" engine requires the kaleido package,\nwhich can be installed using pip:\n    $ pip install -U kaleido\n"
     ]
    }
   ],
   "source": [
    "def show_actual_input():\n",
    "    actual_input = problem.parse_input_text_file()\n",
    "\n",
    "    initial_part_rating_range = construct_initial_part_range()\n",
    "    actual_range_tree = actual_input.apply_to_range(initial_part_rating_range)\n",
    "\n",
    "    valued_links = []\n",
    "    to_valued_links(actual_range_tree, \"in\", valued_links)\n",
    "\n",
    "    sankey_input = to_plotly_sankey_input(valued_links, color_mode=\"problem_202319\")\n",
    "    fig = build_sankey_figure(\n",
    "        sankey_input, title=\"Actual Parsed Puzzle Input (Problem 202319)\"\n",
    "    )\n",
    "    fig.show(width=1080, height=1080)\n",
    "\n",
    "\n",
    "show_actual_input()"
   ]
  },
  {
   "cell_type": "markdown",
   "metadata": {},
   "source": [
    "## Open Points\n"
   ]
  },
  {
   "cell_type": "markdown",
   "metadata": {},
   "source": [
    "In all cases, the projection from a 4D subspace associated to a workflow, composed of one or more small cubes, leads to a loss of \"complexity\" in the visual representation. Only a 1D metric is used to represent the workflow contributions.\n",
    "\n",
    "Representing the subspaces would be another challenge in its own. At first, making a version of the code that only sort pieces according to 2 dimensions would help to visualize. For that, some dimensions can be fixed (slicing the 4D cube into 2D). It would be interesting to build such a datacube with `xarray` ; it would have 4 dimensions: `dims = ('x', 'm', 'a', 's')` and a shape of `(4000, 4000, 4000, 4000)`. Slicing it would be easy, eg `xda.isel(a=0, s=0)`.\n",
    "Since the array would be large, only portions of it could be computed. How to parallelize the algorithm, allowing it to be executed only on a sub-space, eg `(:200, :200, :200, :200)`? Is it possible?\n"
   ]
  }
 ],
 "metadata": {
  "kernelspec": {
   "display_name": "advent-of-code-CEbbwEIT-py3.13",
   "language": "python",
   "name": "python3"
  },
  "language_info": {
   "codemirror_mode": {
    "name": "ipython",
    "version": 3
   },
   "file_extension": ".py",
   "mimetype": "text/x-python",
   "name": "python",
   "nbconvert_exporter": "python",
   "pygments_lexer": "ipython3",
   "version": "3.13.0"
  }
 },
 "nbformat": 4,
 "nbformat_minor": 2
}
