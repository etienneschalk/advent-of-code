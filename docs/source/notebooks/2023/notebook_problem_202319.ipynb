{
 "cells": [
  {
   "cell_type": "markdown",
   "metadata": {},
   "source": [
    "# Year 2023 Day 19\n",
    "\n",
    "[--- Day 19: Aplenty ---](https://adventofcode.com/2023/day/19)\n",
    "\n",
    "\n",
    "The goal of this notebook is multiple:\n",
    "\n",
    "1. Learn how to use use Sankey diagrams with `plotly`\n",
    "2. Visualize the problem's input\n",
    "3. Describe the problem solving procedure\n"
   ]
  },
  {
   "cell_type": "code",
   "execution_count": 1,
   "metadata": {
    "execution": {
     "iopub.execute_input": "2024-11-26T21:24:38.134658Z",
     "iopub.status.busy": "2024-11-26T21:24:38.134345Z",
     "iopub.status.idle": "2024-11-26T21:24:38.771559Z",
     "shell.execute_reply": "2024-11-26T21:24:38.770642Z"
    },
    "metadata": {}
   },
   "outputs": [],
   "source": [
    "import json\n",
    "\n",
    "from IPython.display import Markdown as md\n",
    "\n",
    "from advent_of_code.common.common import get_example_inputs_file_contents\n",
    "from advent_of_code.visualization.plotly_tools import (\n",
    "    ValuedLink,\n",
    "    build_sankey_figure,\n",
    "    to_plotly_sankey_input,\n",
    ")\n",
    "from advent_of_code.y_2023.problem_202319 import (\n",
    "    AdventOfCodeProblem202319,\n",
    "    PartRatingRange,\n",
    "    PartRatingRangeTree,\n",
    "    construct_initial_part_range,\n",
    ")"
   ]
  },
  {
   "cell_type": "code",
   "execution_count": 2,
   "metadata": {
    "execution": {
     "iopub.execute_input": "2024-11-26T21:24:38.775788Z",
     "iopub.status.busy": "2024-11-26T21:24:38.775198Z",
     "iopub.status.idle": "2024-11-26T21:24:38.976366Z",
     "shell.execute_reply": "2024-11-26T21:24:38.975550Z"
    },
    "metadata": {}
   },
   "outputs": [
    {
     "name": "stdout",
     "output_type": "stream",
     "text": [
      "Plotly will render to pio.renderers.default='sphinx_gallery'\n"
     ]
    }
   ],
   "source": [
    "from advent_of_code.visualization.notebooks import attempt_interactive\n",
    "\n",
    "\n",
    "attempt_interactive(True, \"plotly\")"
   ]
  },
  {
   "cell_type": "code",
   "execution_count": 3,
   "metadata": {
    "execution": {
     "iopub.execute_input": "2024-11-26T21:24:39.029145Z",
     "iopub.status.busy": "2024-11-26T21:24:39.028714Z",
     "iopub.status.idle": "2024-11-26T21:24:39.033970Z",
     "shell.execute_reply": "2024-11-26T21:24:39.033055Z"
    },
    "metadata": {}
   },
   "outputs": [],
   "source": [
    "def pretty_print_dict_with_json(json_string: str) -> md:\n",
    "    json_repr = json.dumps(json_string, indent=4)\n",
    "    return md(\n",
    "        f\"\"\"\n",
    "```json\n",
    "{json_repr} \n",
    "```\n",
    "\"\"\"\n",
    "    )"
   ]
  },
  {
   "cell_type": "markdown",
   "metadata": {},
   "source": [
    "## Make a Sankey Diagram with Plotly\n",
    "\n",
    "First, let's start with the example provided in\n",
    "[Plotly: Sankey Diagram](https://plotly.com/python/sankey-diagram/).\n",
    "\n",
    "Then, the goal is to adapt the in-memory representation of the problem's data into something that Plotly can understand and plot.\n",
    "\n",
    "First, a builder can be made for those Plotly diagrams, then, an object converter to convert the in-memory representation of the problem's data into this intermediate data structure.\n",
    "\n",
    "One challenge will be to flatten the tree structure to a list of weighted edges (flat graph representation).\n",
    "\n",
    "The `source, target, value` expected by plotly indicates the need to flatten any tree structure.\n",
    "\n",
    "In the following, the word \"link\" means a graph's directional edge/vertex\n"
   ]
  },
  {
   "cell_type": "code",
   "execution_count": 4,
   "metadata": {
    "execution": {
     "iopub.execute_input": "2024-11-26T21:24:39.037672Z",
     "iopub.status.busy": "2024-11-26T21:24:39.037393Z",
     "iopub.status.idle": "2024-11-26T21:24:39.071728Z",
     "shell.execute_reply": "2024-11-26T21:24:39.070741Z"
    },
    "metadata": {}
   },
   "outputs": [
    {
     "data": {
      "text/plain": [
       "PlotlySankeyInput(labels=['a', 'b', 'c', 'z'], sources=[0, 1, 0, 3], targets=[1, 2, 2, 2], values=[2, 5, 4, 1], node_colors=['rgb(211, 248, 19)', 'rgb(8, 117, 110)', 'rgb(198, 186, 175)', 'rgb(237, 37, 2)'], link_colors=['rgba(211, 248, 19, 0.3)', 'rgba(8, 117, 110, 0.3)', 'rgba(198, 186, 175, 0.3)', 'rgba(237, 37, 2, 0.3)'])"
      ]
     },
     "metadata": {},
     "output_type": "display_data"
    },
    {
     "data": {
      "text/html": [
       "<div>            <script src=\"https://cdnjs.cloudflare.com/ajax/libs/mathjax/2.7.5/MathJax.js?config=TeX-AMS-MML_SVG\"></script><script type=\"text/javascript\">if (window.MathJax && window.MathJax.Hub && window.MathJax.Hub.Config) {window.MathJax.Hub.Config({SVG: {font: \"STIX-Web\"}});}</script>                <script type=\"text/javascript\">window.PlotlyConfig = {MathJaxConfig: 'local'};</script>\n",
       "        <script charset=\"utf-8\" src=\"https://cdn.plot.ly/plotly-2.35.2.min.js\"></script>                <div id=\"d45dad53-0ac4-46d6-976d-884aca85c652\" class=\"plotly-graph-div\" style=\"height:525px; width:100%;\"></div>            <script type=\"text/javascript\">                                    window.PLOTLYENV=window.PLOTLYENV || {};                                    if (document.getElementById(\"d45dad53-0ac4-46d6-976d-884aca85c652\")) {                    Plotly.newPlot(                        \"d45dad53-0ac4-46d6-976d-884aca85c652\",                        [{\"link\":{\"color\":[\"rgba(211, 248, 19, 0.3)\",\"rgba(8, 117, 110, 0.3)\",\"rgba(198, 186, 175, 0.3)\",\"rgba(237, 37, 2, 0.3)\"],\"source\":[0,1,0,3],\"target\":[1,2,2,2],\"value\":[2,5,4,1]},\"node\":{\"color\":[\"rgb(211, 248, 19)\",\"rgb(8, 117, 110)\",\"rgb(198, 186, 175)\",\"rgb(237, 37, 2)\"],\"label\":[\"a\",\"b\",\"c\",\"z\"],\"line\":{\"color\":\"black\",\"width\":0.5},\"pad\":15,\"thickness\":20},\"type\":\"sankey\"}],                        {\"template\":{\"data\":{\"histogram2dcontour\":[{\"type\":\"histogram2dcontour\",\"colorbar\":{\"outlinewidth\":0,\"ticks\":\"\"},\"colorscale\":[[0.0,\"#0d0887\"],[0.1111111111111111,\"#46039f\"],[0.2222222222222222,\"#7201a8\"],[0.3333333333333333,\"#9c179e\"],[0.4444444444444444,\"#bd3786\"],[0.5555555555555556,\"#d8576b\"],[0.6666666666666666,\"#ed7953\"],[0.7777777777777778,\"#fb9f3a\"],[0.8888888888888888,\"#fdca26\"],[1.0,\"#f0f921\"]]}],\"choropleth\":[{\"type\":\"choropleth\",\"colorbar\":{\"outlinewidth\":0,\"ticks\":\"\"}}],\"histogram2d\":[{\"type\":\"histogram2d\",\"colorbar\":{\"outlinewidth\":0,\"ticks\":\"\"},\"colorscale\":[[0.0,\"#0d0887\"],[0.1111111111111111,\"#46039f\"],[0.2222222222222222,\"#7201a8\"],[0.3333333333333333,\"#9c179e\"],[0.4444444444444444,\"#bd3786\"],[0.5555555555555556,\"#d8576b\"],[0.6666666666666666,\"#ed7953\"],[0.7777777777777778,\"#fb9f3a\"],[0.8888888888888888,\"#fdca26\"],[1.0,\"#f0f921\"]]}],\"heatmap\":[{\"type\":\"heatmap\",\"colorbar\":{\"outlinewidth\":0,\"ticks\":\"\"},\"colorscale\":[[0.0,\"#0d0887\"],[0.1111111111111111,\"#46039f\"],[0.2222222222222222,\"#7201a8\"],[0.3333333333333333,\"#9c179e\"],[0.4444444444444444,\"#bd3786\"],[0.5555555555555556,\"#d8576b\"],[0.6666666666666666,\"#ed7953\"],[0.7777777777777778,\"#fb9f3a\"],[0.8888888888888888,\"#fdca26\"],[1.0,\"#f0f921\"]]}],\"heatmapgl\":[{\"type\":\"heatmapgl\",\"colorbar\":{\"outlinewidth\":0,\"ticks\":\"\"},\"colorscale\":[[0.0,\"#0d0887\"],[0.1111111111111111,\"#46039f\"],[0.2222222222222222,\"#7201a8\"],[0.3333333333333333,\"#9c179e\"],[0.4444444444444444,\"#bd3786\"],[0.5555555555555556,\"#d8576b\"],[0.6666666666666666,\"#ed7953\"],[0.7777777777777778,\"#fb9f3a\"],[0.8888888888888888,\"#fdca26\"],[1.0,\"#f0f921\"]]}],\"contourcarpet\":[{\"type\":\"contourcarpet\",\"colorbar\":{\"outlinewidth\":0,\"ticks\":\"\"}}],\"contour\":[{\"type\":\"contour\",\"colorbar\":{\"outlinewidth\":0,\"ticks\":\"\"},\"colorscale\":[[0.0,\"#0d0887\"],[0.1111111111111111,\"#46039f\"],[0.2222222222222222,\"#7201a8\"],[0.3333333333333333,\"#9c179e\"],[0.4444444444444444,\"#bd3786\"],[0.5555555555555556,\"#d8576b\"],[0.6666666666666666,\"#ed7953\"],[0.7777777777777778,\"#fb9f3a\"],[0.8888888888888888,\"#fdca26\"],[1.0,\"#f0f921\"]]}],\"surface\":[{\"type\":\"surface\",\"colorbar\":{\"outlinewidth\":0,\"ticks\":\"\"},\"colorscale\":[[0.0,\"#0d0887\"],[0.1111111111111111,\"#46039f\"],[0.2222222222222222,\"#7201a8\"],[0.3333333333333333,\"#9c179e\"],[0.4444444444444444,\"#bd3786\"],[0.5555555555555556,\"#d8576b\"],[0.6666666666666666,\"#ed7953\"],[0.7777777777777778,\"#fb9f3a\"],[0.8888888888888888,\"#fdca26\"],[1.0,\"#f0f921\"]]}],\"mesh3d\":[{\"type\":\"mesh3d\",\"colorbar\":{\"outlinewidth\":0,\"ticks\":\"\"}}],\"scatter\":[{\"fillpattern\":{\"fillmode\":\"overlay\",\"size\":10,\"solidity\":0.2},\"type\":\"scatter\"}],\"parcoords\":[{\"type\":\"parcoords\",\"line\":{\"colorbar\":{\"outlinewidth\":0,\"ticks\":\"\"}}}],\"scatterpolargl\":[{\"type\":\"scatterpolargl\",\"marker\":{\"colorbar\":{\"outlinewidth\":0,\"ticks\":\"\"}}}],\"bar\":[{\"error_x\":{\"color\":\"#2a3f5f\"},\"error_y\":{\"color\":\"#2a3f5f\"},\"marker\":{\"line\":{\"color\":\"#E5ECF6\",\"width\":0.5},\"pattern\":{\"fillmode\":\"overlay\",\"size\":10,\"solidity\":0.2}},\"type\":\"bar\"}],\"scattergeo\":[{\"type\":\"scattergeo\",\"marker\":{\"colorbar\":{\"outlinewidth\":0,\"ticks\":\"\"}}}],\"scatterpolar\":[{\"type\":\"scatterpolar\",\"marker\":{\"colorbar\":{\"outlinewidth\":0,\"ticks\":\"\"}}}],\"histogram\":[{\"marker\":{\"pattern\":{\"fillmode\":\"overlay\",\"size\":10,\"solidity\":0.2}},\"type\":\"histogram\"}],\"scattergl\":[{\"type\":\"scattergl\",\"marker\":{\"colorbar\":{\"outlinewidth\":0,\"ticks\":\"\"}}}],\"scatter3d\":[{\"type\":\"scatter3d\",\"line\":{\"colorbar\":{\"outlinewidth\":0,\"ticks\":\"\"}},\"marker\":{\"colorbar\":{\"outlinewidth\":0,\"ticks\":\"\"}}}],\"scattermapbox\":[{\"type\":\"scattermapbox\",\"marker\":{\"colorbar\":{\"outlinewidth\":0,\"ticks\":\"\"}}}],\"scatterternary\":[{\"type\":\"scatterternary\",\"marker\":{\"colorbar\":{\"outlinewidth\":0,\"ticks\":\"\"}}}],\"scattercarpet\":[{\"type\":\"scattercarpet\",\"marker\":{\"colorbar\":{\"outlinewidth\":0,\"ticks\":\"\"}}}],\"carpet\":[{\"aaxis\":{\"endlinecolor\":\"#2a3f5f\",\"gridcolor\":\"white\",\"linecolor\":\"white\",\"minorgridcolor\":\"white\",\"startlinecolor\":\"#2a3f5f\"},\"baxis\":{\"endlinecolor\":\"#2a3f5f\",\"gridcolor\":\"white\",\"linecolor\":\"white\",\"minorgridcolor\":\"white\",\"startlinecolor\":\"#2a3f5f\"},\"type\":\"carpet\"}],\"table\":[{\"cells\":{\"fill\":{\"color\":\"#EBF0F8\"},\"line\":{\"color\":\"white\"}},\"header\":{\"fill\":{\"color\":\"#C8D4E3\"},\"line\":{\"color\":\"white\"}},\"type\":\"table\"}],\"barpolar\":[{\"marker\":{\"line\":{\"color\":\"#E5ECF6\",\"width\":0.5},\"pattern\":{\"fillmode\":\"overlay\",\"size\":10,\"solidity\":0.2}},\"type\":\"barpolar\"}],\"pie\":[{\"automargin\":true,\"type\":\"pie\"}]},\"layout\":{\"autotypenumbers\":\"strict\",\"colorway\":[\"#636efa\",\"#EF553B\",\"#00cc96\",\"#ab63fa\",\"#FFA15A\",\"#19d3f3\",\"#FF6692\",\"#B6E880\",\"#FF97FF\",\"#FECB52\"],\"font\":{\"color\":\"#2a3f5f\"},\"hovermode\":\"closest\",\"hoverlabel\":{\"align\":\"left\"},\"paper_bgcolor\":\"white\",\"plot_bgcolor\":\"#E5ECF6\",\"polar\":{\"bgcolor\":\"#E5ECF6\",\"angularaxis\":{\"gridcolor\":\"white\",\"linecolor\":\"white\",\"ticks\":\"\"},\"radialaxis\":{\"gridcolor\":\"white\",\"linecolor\":\"white\",\"ticks\":\"\"}},\"ternary\":{\"bgcolor\":\"#E5ECF6\",\"aaxis\":{\"gridcolor\":\"white\",\"linecolor\":\"white\",\"ticks\":\"\"},\"baxis\":{\"gridcolor\":\"white\",\"linecolor\":\"white\",\"ticks\":\"\"},\"caxis\":{\"gridcolor\":\"white\",\"linecolor\":\"white\",\"ticks\":\"\"}},\"coloraxis\":{\"colorbar\":{\"outlinewidth\":0,\"ticks\":\"\"}},\"colorscale\":{\"sequential\":[[0.0,\"#0d0887\"],[0.1111111111111111,\"#46039f\"],[0.2222222222222222,\"#7201a8\"],[0.3333333333333333,\"#9c179e\"],[0.4444444444444444,\"#bd3786\"],[0.5555555555555556,\"#d8576b\"],[0.6666666666666666,\"#ed7953\"],[0.7777777777777778,\"#fb9f3a\"],[0.8888888888888888,\"#fdca26\"],[1.0,\"#f0f921\"]],\"sequentialminus\":[[0.0,\"#0d0887\"],[0.1111111111111111,\"#46039f\"],[0.2222222222222222,\"#7201a8\"],[0.3333333333333333,\"#9c179e\"],[0.4444444444444444,\"#bd3786\"],[0.5555555555555556,\"#d8576b\"],[0.6666666666666666,\"#ed7953\"],[0.7777777777777778,\"#fb9f3a\"],[0.8888888888888888,\"#fdca26\"],[1.0,\"#f0f921\"]],\"diverging\":[[0,\"#8e0152\"],[0.1,\"#c51b7d\"],[0.2,\"#de77ae\"],[0.3,\"#f1b6da\"],[0.4,\"#fde0ef\"],[0.5,\"#f7f7f7\"],[0.6,\"#e6f5d0\"],[0.7,\"#b8e186\"],[0.8,\"#7fbc41\"],[0.9,\"#4d9221\"],[1,\"#276419\"]]},\"xaxis\":{\"gridcolor\":\"white\",\"linecolor\":\"white\",\"ticks\":\"\",\"title\":{\"standoff\":15},\"zerolinecolor\":\"white\",\"automargin\":true,\"zerolinewidth\":2},\"yaxis\":{\"gridcolor\":\"white\",\"linecolor\":\"white\",\"ticks\":\"\",\"title\":{\"standoff\":15},\"zerolinecolor\":\"white\",\"automargin\":true,\"zerolinewidth\":2},\"scene\":{\"xaxis\":{\"backgroundcolor\":\"#E5ECF6\",\"gridcolor\":\"white\",\"linecolor\":\"white\",\"showbackground\":true,\"ticks\":\"\",\"zerolinecolor\":\"white\",\"gridwidth\":2},\"yaxis\":{\"backgroundcolor\":\"#E5ECF6\",\"gridcolor\":\"white\",\"linecolor\":\"white\",\"showbackground\":true,\"ticks\":\"\",\"zerolinecolor\":\"white\",\"gridwidth\":2},\"zaxis\":{\"backgroundcolor\":\"#E5ECF6\",\"gridcolor\":\"white\",\"linecolor\":\"white\",\"showbackground\":true,\"ticks\":\"\",\"zerolinecolor\":\"white\",\"gridwidth\":2}},\"shapedefaults\":{\"line\":{\"color\":\"#2a3f5f\"}},\"annotationdefaults\":{\"arrowcolor\":\"#2a3f5f\",\"arrowhead\":0,\"arrowwidth\":1},\"geo\":{\"bgcolor\":\"white\",\"landcolor\":\"#E5ECF6\",\"subunitcolor\":\"white\",\"showland\":true,\"showlakes\":true,\"lakecolor\":\"white\"},\"title\":{\"x\":0.05},\"mapbox\":{\"style\":\"light\"}}},\"title\":{\"text\":\"Basic Sankey Diagram\"},\"font\":{\"size\":10}},                        {\"responsive\": true}                    )                };                            </script>        </div>"
      ]
     },
     "metadata": {},
     "output_type": "display_data"
    }
   ],
   "source": [
    "valued_links = [\n",
    "    ValuedLink(\"a\", \"b\", 2),\n",
    "    ValuedLink(\"b\", \"c\", 5),\n",
    "    ValuedLink(\"a\", \"c\", 4),\n",
    "    ValuedLink(\"z\", \"c\", 1),\n",
    "]\n",
    "\n",
    "sankey_input = to_plotly_sankey_input(valued_links)\n",
    "display(sankey_input)\n",
    "fig = build_sankey_figure(sankey_input)\n",
    "fig"
   ]
  },
  {
   "cell_type": "markdown",
   "metadata": {},
   "source": [
    "## Adapt the problem's data structure to feed it to Plotly"
   ]
  },
  {
   "cell_type": "code",
   "execution_count": 5,
   "metadata": {
    "execution": {
     "iopub.execute_input": "2024-11-26T21:24:39.075733Z",
     "iopub.status.busy": "2024-11-26T21:24:39.075248Z",
     "iopub.status.idle": "2024-11-26T21:24:39.081130Z",
     "shell.execute_reply": "2024-11-26T21:24:39.080470Z"
    },
    "metadata": {}
   },
   "outputs": [
    {
     "data": {
      "text/plain": [
       "AdventOfCodeProblem202319(year=2023, day=19)"
      ]
     },
     "execution_count": 5,
     "metadata": {},
     "output_type": "execute_result"
    }
   ],
   "source": [
    "problem = AdventOfCodeProblem202319()\n",
    "problem"
   ]
  },
  {
   "cell_type": "code",
   "execution_count": 6,
   "metadata": {
    "execution": {
     "iopub.execute_input": "2024-11-26T21:24:39.083542Z",
     "iopub.status.busy": "2024-11-26T21:24:39.083243Z",
     "iopub.status.idle": "2024-11-26T21:24:39.098425Z",
     "shell.execute_reply": "2024-11-26T21:24:39.097424Z"
    },
    "metadata": {}
   },
   "outputs": [],
   "source": [
    "example_input = get_example_inputs_file_contents(2023)[\"test_problem_202319\"][\n",
    "    \"EXAMPLE_INPUT\"\n",
    "]"
   ]
  },
  {
   "cell_type": "code",
   "execution_count": 7,
   "metadata": {
    "execution": {
     "iopub.execute_input": "2024-11-26T21:24:39.102131Z",
     "iopub.status.busy": "2024-11-26T21:24:39.101582Z",
     "iopub.status.idle": "2024-11-26T21:24:39.109335Z",
     "shell.execute_reply": "2024-11-26T21:24:39.108568Z"
    },
    "metadata": {}
   },
   "outputs": [
    {
     "data": {
      "text/plain": [
       "{'px': Workflow(name='px', rules=(Rule(category='a', operator='<', rating=2006, destination_workflow='qkq'), Rule(category='m', operator='>', rating=2090, destination_workflow='A')), destination_workflow_else='rfg'),\n",
       " 'pv': Workflow(name='pv', rules=(Rule(category='a', operator='>', rating=1716, destination_workflow='R'),), destination_workflow_else='A'),\n",
       " 'lnx': Workflow(name='lnx', rules=(Rule(category='m', operator='>', rating=1548, destination_workflow='A'),), destination_workflow_else='A'),\n",
       " 'rfg': Workflow(name='rfg', rules=(Rule(category='s', operator='<', rating=537, destination_workflow='gd'), Rule(category='x', operator='>', rating=2440, destination_workflow='R')), destination_workflow_else='A'),\n",
       " 'qs': Workflow(name='qs', rules=(Rule(category='s', operator='>', rating=3448, destination_workflow='A'),), destination_workflow_else='lnx'),\n",
       " 'qkq': Workflow(name='qkq', rules=(Rule(category='x', operator='<', rating=1416, destination_workflow='A'),), destination_workflow_else='crn'),\n",
       " 'crn': Workflow(name='crn', rules=(Rule(category='x', operator='>', rating=2662, destination_workflow='A'),), destination_workflow_else='R'),\n",
       " 'in': Workflow(name='in', rules=(Rule(category='s', operator='<', rating=1351, destination_workflow='px'),), destination_workflow_else='qqz'),\n",
       " 'qqz': Workflow(name='qqz', rules=(Rule(category='s', operator='>', rating=2770, destination_workflow='qs'), Rule(category='m', operator='<', rating=1801, destination_workflow='hdj')), destination_workflow_else='R'),\n",
       " 'gd': Workflow(name='gd', rules=(Rule(category='a', operator='>', rating=3333, destination_workflow='R'),), destination_workflow_else='R'),\n",
       " 'hdj': Workflow(name='hdj', rules=(Rule(category='m', operator='>', rating=838, destination_workflow='A'),), destination_workflow_else='pv')}"
      ]
     },
     "execution_count": 7,
     "metadata": {},
     "output_type": "execute_result"
    }
   ],
   "source": [
    "puzzle_input = problem.parse_text_input(example_input)\n",
    "puzzle_input.workflows"
   ]
  },
  {
   "cell_type": "code",
   "execution_count": 8,
   "metadata": {
    "execution": {
     "iopub.execute_input": "2024-11-26T21:24:39.111801Z",
     "iopub.status.busy": "2024-11-26T21:24:39.111494Z",
     "iopub.status.idle": "2024-11-26T21:24:39.117598Z",
     "shell.execute_reply": "2024-11-26T21:24:39.116852Z"
    },
    "metadata": {}
   },
   "outputs": [
    {
     "data": {
      "text/plain": [
       "PartRatingRange(x=range(1, 4001), m=range(1, 4001), a=range(1, 4001), s=range(1, 4001))"
      ]
     },
     "execution_count": 8,
     "metadata": {},
     "output_type": "execute_result"
    }
   ],
   "source": [
    "initial_part_rating_range = construct_initial_part_range()\n",
    "initial_part_rating_range"
   ]
  },
  {
   "cell_type": "code",
   "execution_count": 9,
   "metadata": {
    "execution": {
     "iopub.execute_input": "2024-11-26T21:24:39.120728Z",
     "iopub.status.busy": "2024-11-26T21:24:39.119845Z",
     "iopub.status.idle": "2024-11-26T21:24:39.127582Z",
     "shell.execute_reply": "2024-11-26T21:24:39.126903Z"
    },
    "metadata": {}
   },
   "outputs": [
    {
     "data": {
      "text/plain": [
       "PartRatingRangeTree(mapping=defaultdict(<class 'list'>, {'px': [PartRatingRange(x=range(1, 4001), m=range(1, 4001), a=range(1, 4001), s=range(1, 1351))], 'qqz': [PartRatingRange(x=range(1, 4001), m=range(1, 4001), a=range(1, 4001), s=range(1351, 4001))]}), children={'px': [PartRatingRangeTree(mapping=defaultdict(<class 'list'>, {'qkq': [PartRatingRange(x=range(1, 4001), m=range(1, 4001), a=range(1, 2006), s=range(1, 1351))], 'A': [PartRatingRange(x=range(1, 4001), m=range(2091, 4001), a=range(2006, 4001), s=range(1, 1351))], 'rfg': [PartRatingRange(x=range(1, 4001), m=range(1, 2091), a=range(2006, 4001), s=range(1, 1351))]}), children={'qkq': [PartRatingRangeTree(mapping=defaultdict(<class 'list'>, {'A': [PartRatingRange(x=range(1, 1416), m=range(1, 4001), a=range(1, 2006), s=range(1, 1351))], 'crn': [PartRatingRange(x=range(1416, 4001), m=range(1, 4001), a=range(1, 2006), s=range(1, 1351))]}), children={'A': [], 'crn': [PartRatingRangeTree(mapping=defaultdict(<class 'list'>, {'A': [PartRatingRange(x=range(2663, 4001), m=range(1, 4001), a=range(1, 2006), s=range(1, 1351))], 'R': [PartRatingRange(x=range(1416, 2663), m=range(1, 4001), a=range(1, 2006), s=range(1, 1351))]}), children={'A': [], 'R': []})]})], 'A': [], 'rfg': [PartRatingRangeTree(mapping=defaultdict(<class 'list'>, {'gd': [PartRatingRange(x=range(1, 4001), m=range(1, 2091), a=range(2006, 4001), s=range(1, 537))], 'R': [PartRatingRange(x=range(2441, 4001), m=range(1, 2091), a=range(2006, 4001), s=range(537, 1351))], 'A': [PartRatingRange(x=range(1, 2441), m=range(1, 2091), a=range(2006, 4001), s=range(537, 1351))]}), children={'gd': [PartRatingRangeTree(mapping=defaultdict(<class 'list'>, {'R': [PartRatingRange(x=range(1, 4001), m=range(1, 2091), a=range(3334, 4001), s=range(1, 537)), PartRatingRange(x=range(1, 4001), m=range(1, 2091), a=range(2006, 3334), s=range(1, 537))]}), children={'R': []})], 'R': [], 'A': []})]})], 'qqz': [PartRatingRangeTree(mapping=defaultdict(<class 'list'>, {'qs': [PartRatingRange(x=range(1, 4001), m=range(1, 4001), a=range(1, 4001), s=range(2771, 4001))], 'hdj': [PartRatingRange(x=range(1, 4001), m=range(1, 1801), a=range(1, 4001), s=range(1351, 2771))], 'R': [PartRatingRange(x=range(1, 4001), m=range(1801, 4001), a=range(1, 4001), s=range(1351, 2771))]}), children={'qs': [PartRatingRangeTree(mapping=defaultdict(<class 'list'>, {'A': [PartRatingRange(x=range(1, 4001), m=range(1, 4001), a=range(1, 4001), s=range(3449, 4001))], 'lnx': [PartRatingRange(x=range(1, 4001), m=range(1, 4001), a=range(1, 4001), s=range(2771, 3449))]}), children={'A': [], 'lnx': [PartRatingRangeTree(mapping=defaultdict(<class 'list'>, {'A': [PartRatingRange(x=range(1, 4001), m=range(1549, 4001), a=range(1, 4001), s=range(2771, 3449)), PartRatingRange(x=range(1, 4001), m=range(1, 1549), a=range(1, 4001), s=range(2771, 3449))]}), children={'A': []})]})], 'hdj': [PartRatingRangeTree(mapping=defaultdict(<class 'list'>, {'A': [PartRatingRange(x=range(1, 4001), m=range(839, 1801), a=range(1, 4001), s=range(1351, 2771))], 'pv': [PartRatingRange(x=range(1, 4001), m=range(1, 839), a=range(1, 4001), s=range(1351, 2771))]}), children={'A': [], 'pv': [PartRatingRangeTree(mapping=defaultdict(<class 'list'>, {'R': [PartRatingRange(x=range(1, 4001), m=range(1, 839), a=range(1717, 4001), s=range(1351, 2771))], 'A': [PartRatingRange(x=range(1, 4001), m=range(1, 839), a=range(1, 1717), s=range(1351, 2771))]}), children={'R': [], 'A': []})]})], 'R': []})]})"
      ]
     },
     "execution_count": 9,
     "metadata": {},
     "output_type": "execute_result"
    }
   ],
   "source": [
    "range_tree = puzzle_input.apply_to_range(initial_part_rating_range)\n",
    "range_tree"
   ]
  },
  {
   "cell_type": "code",
   "execution_count": 10,
   "metadata": {
    "execution": {
     "iopub.execute_input": "2024-11-26T21:24:39.130491Z",
     "iopub.status.busy": "2024-11-26T21:24:39.130160Z",
     "iopub.status.idle": "2024-11-26T21:24:39.136623Z",
     "shell.execute_reply": "2024-11-26T21:24:39.135268Z"
    },
    "metadata": {}
   },
   "outputs": [
    {
     "name": "stdout",
     "output_type": "stream",
     "text": [
      "px [PartRatingRange(x=range(1, 4001), m=range(1, 4001), a=range(1, 4001), s=range(1, 1351))]\n",
      "qqz [PartRatingRange(x=range(1, 4001), m=range(1, 4001), a=range(1, 4001), s=range(1351, 4001))]\n"
     ]
    }
   ],
   "source": [
    "for label, rating_range_list in range_tree.mapping.items():\n",
    "    print(label, rating_range_list)"
   ]
  },
  {
   "cell_type": "code",
   "execution_count": 11,
   "metadata": {
    "execution": {
     "iopub.execute_input": "2024-11-26T21:24:39.141016Z",
     "iopub.status.busy": "2024-11-26T21:24:39.140585Z",
     "iopub.status.idle": "2024-11-26T21:24:39.145905Z",
     "shell.execute_reply": "2024-11-26T21:24:39.144888Z"
    },
    "metadata": {}
   },
   "outputs": [],
   "source": [
    "from dataclasses import asdict\n",
    "\n",
    "json_txt = json.dumps(asdict(range_tree), indent=4, default=str)\n",
    "json_dict = json.loads(json_txt)\n",
    "# Path(\"202319.out.json\").write_text(json_repr)"
   ]
  },
  {
   "cell_type": "markdown",
   "metadata": {},
   "source": [
    "Issue: how to find a good way to get a scalar from the \"PartTreeRange\" objects?\n",
    "The cubes are 4D, composed of 4 components x, m, a, s.\n",
    "\n",
    "Example: The flow coming from `rfg` must be split in three, to `gd`, `R` and `A`, with a metric that correctly reflect the proportion of parts flowing.\n"
   ]
  },
  {
   "cell_type": "code",
   "execution_count": 12,
   "metadata": {
    "execution": {
     "iopub.execute_input": "2024-11-26T21:24:39.148179Z",
     "iopub.status.busy": "2024-11-26T21:24:39.147889Z",
     "iopub.status.idle": "2024-11-26T21:24:39.154062Z",
     "shell.execute_reply": "2024-11-26T21:24:39.153126Z"
    },
    "metadata": {}
   },
   "outputs": [
    {
     "data": {
      "text/markdown": [
       "\n",
       "```json\n",
       "{\n",
       "    \"gd\": [\n",
       "        {\n",
       "            \"x\": \"range(1, 4001)\",\n",
       "            \"m\": \"range(1, 2091)\",\n",
       "            \"a\": \"range(2006, 4001)\",\n",
       "            \"s\": \"range(1, 537)\"\n",
       "        }\n",
       "    ],\n",
       "    \"R\": [\n",
       "        {\n",
       "            \"x\": \"range(2441, 4001)\",\n",
       "            \"m\": \"range(1, 2091)\",\n",
       "            \"a\": \"range(2006, 4001)\",\n",
       "            \"s\": \"range(537, 1351)\"\n",
       "        }\n",
       "    ],\n",
       "    \"A\": [\n",
       "        {\n",
       "            \"x\": \"range(1, 2441)\",\n",
       "            \"m\": \"range(1, 2091)\",\n",
       "            \"a\": \"range(2006, 4001)\",\n",
       "            \"s\": \"range(537, 1351)\"\n",
       "        }\n",
       "    ]\n",
       "} \n",
       "```\n"
      ],
      "text/plain": [
       "<IPython.core.display.Markdown object>"
      ]
     },
     "execution_count": 12,
     "metadata": {},
     "output_type": "execute_result"
    }
   ],
   "source": [
    "pretty_print_dict_with_json(\n",
    "    json_dict[\"children\"][\"px\"][0][\"children\"][\"rfg\"][0][\"mapping\"]\n",
    ")"
   ]
  },
  {
   "cell_type": "markdown",
   "metadata": {},
   "source": [
    "A first approach is just to compute the volume of the contiguous cubic sub-space delimitated of the $4000^4$ space formed by the dimensions (x, m, a, s).\n",
    "Luckily, `plotly` will automatically normalize all the weights associated to edges going into the same node, concretely, incoming flows of `(6, 4, 10)` will visually respectively contribute to 30%, 20%, 50%.\n"
   ]
  },
  {
   "cell_type": "code",
   "execution_count": 13,
   "metadata": {
    "execution": {
     "iopub.execute_input": "2024-11-26T21:24:39.157924Z",
     "iopub.status.busy": "2024-11-26T21:24:39.157538Z",
     "iopub.status.idle": "2024-11-26T21:24:39.164471Z",
     "shell.execute_reply": "2024-11-26T21:24:39.163528Z"
    },
    "metadata": {}
   },
   "outputs": [
    {
     "data": {
      "text/plain": [
       "{'gd': 8939515200000, 'R': 5294661372000, 'A': 8281393428000}"
      ]
     },
     "execution_count": 13,
     "metadata": {},
     "output_type": "execute_result"
    }
   ],
   "source": [
    "{\n",
    "    child: rating_ranges[0].volume()\n",
    "    for child, rating_ranges in range_tree.children[\"px\"][0]\n",
    "    .children[\"rfg\"][0]\n",
    "    .mapping.items()\n",
    "}"
   ]
  },
  {
   "cell_type": "markdown",
   "metadata": {},
   "source": [
    "But what to do in case of split flows, when a workflow has multiple subspaces (list of `PartRatingRange` has more than one element)?\n",
    "\n",
    "Example:\n"
   ]
  },
  {
   "cell_type": "code",
   "execution_count": 14,
   "metadata": {
    "execution": {
     "iopub.execute_input": "2024-11-26T21:24:39.167645Z",
     "iopub.status.busy": "2024-11-26T21:24:39.167340Z",
     "iopub.status.idle": "2024-11-26T21:24:39.175027Z",
     "shell.execute_reply": "2024-11-26T21:24:39.174074Z"
    },
    "metadata": {}
   },
   "outputs": [
    {
     "data": {
      "text/markdown": [
       "\n",
       "```json\n",
       "{\n",
       "    \"mapping\": {\n",
       "        \"R\": [\n",
       "            {\n",
       "                \"x\": \"range(1, 4001)\",\n",
       "                \"m\": \"range(1, 2091)\",\n",
       "                \"a\": \"range(3334, 4001)\",\n",
       "                \"s\": \"range(1, 537)\"\n",
       "            },\n",
       "            {\n",
       "                \"x\": \"range(1, 4001)\",\n",
       "                \"m\": \"range(1, 2091)\",\n",
       "                \"a\": \"range(2006, 3334)\",\n",
       "                \"s\": \"range(1, 537)\"\n",
       "            }\n",
       "        ]\n",
       "    },\n",
       "    \"children\": {\n",
       "        \"R\": []\n",
       "    }\n",
       "} \n",
       "```\n"
      ],
      "text/plain": [
       "<IPython.core.display.Markdown object>"
      ]
     },
     "execution_count": 14,
     "metadata": {},
     "output_type": "execute_result"
    }
   ],
   "source": [
    "pretty_print_dict_with_json(\n",
    "    json_dict[\"children\"][\"px\"][0][\"children\"][\"rfg\"][0][\"children\"][\"gd\"][0]\n",
    ")"
   ]
  },
  {
   "cell_type": "markdown",
   "metadata": {},
   "source": [
    "In that case, just add the individual contribution. The subspace associated to the workflow is just non contiguous, composed of several cubes.\n"
   ]
  },
  {
   "cell_type": "code",
   "execution_count": 15,
   "metadata": {
    "execution": {
     "iopub.execute_input": "2024-11-26T21:24:39.178653Z",
     "iopub.status.busy": "2024-11-26T21:24:39.178323Z",
     "iopub.status.idle": "2024-11-26T21:24:39.184167Z",
     "shell.execute_reply": "2024-11-26T21:24:39.183185Z"
    },
    "metadata": {}
   },
   "outputs": [],
   "source": [
    "def compute_flow_values(\n",
    "    mapping: dict[str, list[PartRatingRange]],\n",
    ") -> dict[str, tuple[int, ...]]:\n",
    "    return {\n",
    "        child: tuple(rating_range.volume() for rating_range in rating_ranges)\n",
    "        for child, rating_ranges in mapping.items()\n",
    "    }"
   ]
  },
  {
   "cell_type": "code",
   "execution_count": 16,
   "metadata": {
    "execution": {
     "iopub.execute_input": "2024-11-26T21:24:39.187453Z",
     "iopub.status.busy": "2024-11-26T21:24:39.187096Z",
     "iopub.status.idle": "2024-11-26T21:24:39.194142Z",
     "shell.execute_reply": "2024-11-26T21:24:39.193252Z"
    },
    "metadata": {}
   },
   "outputs": [
    {
     "data": {
      "text/plain": [
       "{'gd': (8939515200000,), 'R': (5294661372000,), 'A': (8281393428000,)}"
      ]
     },
     "execution_count": 16,
     "metadata": {},
     "output_type": "execute_result"
    }
   ],
   "source": [
    "compute_flow_values(range_tree.children[\"px\"][0].children[\"rfg\"][0].mapping)"
   ]
  },
  {
   "cell_type": "code",
   "execution_count": 17,
   "metadata": {
    "execution": {
     "iopub.execute_input": "2024-11-26T21:24:39.196958Z",
     "iopub.status.busy": "2024-11-26T21:24:39.196617Z",
     "iopub.status.idle": "2024-11-26T21:24:39.203036Z",
     "shell.execute_reply": "2024-11-26T21:24:39.202300Z"
    },
    "metadata": {}
   },
   "outputs": [
    {
     "data": {
      "text/plain": [
       "{'R': (2988800320000, 5950714880000)}"
      ]
     },
     "execution_count": 17,
     "metadata": {},
     "output_type": "execute_result"
    }
   ],
   "source": [
    "compute_flow_values(\n",
    "    range_tree.children[\"px\"][0].children[\"rfg\"][0].children[\"gd\"][0].mapping\n",
    ")"
   ]
  },
  {
   "cell_type": "markdown",
   "metadata": {},
   "source": [
    "Now, that the structure can be converted to a tree with integer leaves (the volumes), the Sankey Diagram can be dealt, by iterating depth-first into the `PartRatingRangeTree` structure, and filling a list of `ValuedLink`.\n"
   ]
  },
  {
   "cell_type": "code",
   "execution_count": 18,
   "metadata": {
    "execution": {
     "iopub.execute_input": "2024-11-26T21:24:39.207025Z",
     "iopub.status.busy": "2024-11-26T21:24:39.206714Z",
     "iopub.status.idle": "2024-11-26T21:24:39.212673Z",
     "shell.execute_reply": "2024-11-26T21:24:39.211820Z"
    },
    "metadata": {}
   },
   "outputs": [],
   "source": [
    "def to_valued_links(\n",
    "    tree: PartRatingRangeTree,\n",
    "    source: str,\n",
    "    valued_links: list[ValuedLink],\n",
    "    *,\n",
    "    sum_flows: bool = False,\n",
    ") -> None:\n",
    "    flow_values = compute_flow_values(tree.mapping)\n",
    "    if sum_flows:\n",
    "        flow_total_values = {k: sum(v) for k, v in flow_values.items()}\n",
    "        for target, value in flow_total_values.items():\n",
    "            valued_links.append(ValuedLink(source, target, value))\n",
    "    else:\n",
    "        # More details as multiple flows from same source and target are showed explicitly\n",
    "        # instead of merged. For the example data, this shows for the two links from lnx to A.\n",
    "        for target, values in flow_values.items():\n",
    "            for value in values:\n",
    "                valued_links.append(ValuedLink(source, target, value))\n",
    "\n",
    "    children = tree.children\n",
    "\n",
    "    if children is not None:\n",
    "        for child_label, child_trees in children.items():\n",
    "            for child_tree in child_trees:\n",
    "                to_valued_links(child_tree, child_label, valued_links)"
   ]
  },
  {
   "cell_type": "code",
   "execution_count": 19,
   "metadata": {
    "execution": {
     "iopub.execute_input": "2024-11-26T21:24:39.216162Z",
     "iopub.status.busy": "2024-11-26T21:24:39.215819Z",
     "iopub.status.idle": "2024-11-26T21:24:39.224872Z",
     "shell.execute_reply": "2024-11-26T21:24:39.224017Z"
    },
    "metadata": {}
   },
   "outputs": [
    {
     "data": {
      "text/plain": [
       "[ValuedLink(source='in', target='px', value=86400000000000),\n",
       " ValuedLink(source='in', target='qqz', value=169600000000000),\n",
       " ValuedLink(source='px', target='qkq', value=43308000000000),\n",
       " ValuedLink(source='px', target='A', value=20576430000000),\n",
       " ValuedLink(source='px', target='rfg', value=22515570000000),\n",
       " ValuedLink(source='qkq', target='A', value=15320205000000),\n",
       " ValuedLink(source='qkq', target='crn', value=27987795000000),\n",
       " ValuedLink(source='crn', target='A', value=14486526000000),\n",
       " ValuedLink(source='crn', target='R', value=13501269000000),\n",
       " ValuedLink(source='rfg', target='gd', value=8939515200000),\n",
       " ValuedLink(source='rfg', target='R', value=5294661372000),\n",
       " ValuedLink(source='rfg', target='A', value=8281393428000),\n",
       " ValuedLink(source='gd', target='R', value=2988800320000),\n",
       " ValuedLink(source='gd', target='R', value=5950714880000),\n",
       " ValuedLink(source='qqz', target='qs', value=78720000000000),\n",
       " ValuedLink(source='qqz', target='hdj', value=40896000000000),\n",
       " ValuedLink(source='qqz', target='R', value=49984000000000),\n",
       " ValuedLink(source='qs', target='A', value=35328000000000),\n",
       " ValuedLink(source='qs', target='lnx', value=43392000000000),\n",
       " ValuedLink(source='lnx', target='A', value=26599296000000),\n",
       " ValuedLink(source='lnx', target='A', value=16792704000000),\n",
       " ValuedLink(source='hdj', target='A', value=21856640000000),\n",
       " ValuedLink(source='hdj', target='pv', value=19039360000000),\n",
       " ValuedLink(source='pv', target='R', value=10871474560000),\n",
       " ValuedLink(source='pv', target='A', value=8167885440000)]"
      ]
     },
     "execution_count": 19,
     "metadata": {},
     "output_type": "execute_result"
    }
   ],
   "source": [
    "valued_links = []\n",
    "to_valued_links(range_tree, \"in\", valued_links)\n",
    "valued_links"
   ]
  },
  {
   "cell_type": "markdown",
   "metadata": {},
   "source": [
    "Now that we have got a list of `ValuedLink`, the same conversion function used earlier can be used to feed it into Plotly!\n"
   ]
  },
  {
   "cell_type": "code",
   "execution_count": 20,
   "metadata": {
    "execution": {
     "iopub.execute_input": "2024-11-26T21:24:39.228051Z",
     "iopub.status.busy": "2024-11-26T21:24:39.227518Z",
     "iopub.status.idle": "2024-11-26T21:24:39.249536Z",
     "shell.execute_reply": "2024-11-26T21:24:39.248723Z"
    },
    "metadata": {}
   },
   "outputs": [
    {
     "data": {
      "text/plain": [
       "PlotlySankeyInput(labels=['in', 'px', 'qqz', 'qkq', 'A', 'rfg', 'crn', 'R', 'gd', 'qs', 'hdj', 'lnx', 'pv'], sources=[0, 0, 1, 1, 1, 3, 3, 6, 6, 5, 5, 5, 8, 8, 2, 2, 2, 9, 9, 11, 11, 10, 10, 12, 12], targets=[1, 2, 3, 4, 5, 4, 6, 4, 7, 8, 7, 4, 7, 7, 9, 10, 7, 4, 11, 4, 4, 4, 12, 7, 4], values=[86400000000000, 169600000000000, 43308000000000, 20576430000000, 22515570000000, 15320205000000, 27987795000000, 14486526000000, 13501269000000, 8939515200000, 5294661372000, 8281393428000, 2988800320000, 5950714880000, 78720000000000, 40896000000000, 49984000000000, 35328000000000, 43392000000000, 26599296000000, 16792704000000, 21856640000000, 19039360000000, 10871474560000, 8167885440000], node_colors=['rgba(128,128,128,0.3)', 'rgba(128,128,128,0.3)', 'rgba(128,128,128,0.3)', 'rgba(128,128,128,0.3)', 'rgba(0,255,0,0.3)', 'rgba(128,128,128,0.3)', 'rgba(128,128,128,0.3)', 'rgba(255,0,0,0.3)', 'rgba(128,128,128,0.3)', 'rgba(128,128,128,0.3)', 'rgba(128,128,128,0.3)', 'rgba(128,128,128,0.3)', 'rgba(128,128,128,0.3)'], link_colors=['rgba(128,128,128,0.3)', 'rgba(128,128,128,0.3)', 'rgba(128,128,128,0.3)', 'rgba(0,255,0,0.3)', 'rgba(128,128,128,0.3)', 'rgba(0,255,0,0.3)', 'rgba(128,128,128,0.3)', 'rgba(0,255,0,0.3)', 'rgba(255,0,0,0.3)', 'rgba(128,128,128,0.3)', 'rgba(255,0,0,0.3)', 'rgba(0,255,0,0.3)', 'rgba(255,0,0,0.3)', 'rgba(255,0,0,0.3)', 'rgba(128,128,128,0.3)', 'rgba(128,128,128,0.3)', 'rgba(255,0,0,0.3)', 'rgba(0,255,0,0.3)', 'rgba(128,128,128,0.3)', 'rgba(0,255,0,0.3)', 'rgba(0,255,0,0.3)', 'rgba(0,255,0,0.3)', 'rgba(128,128,128,0.3)', 'rgba(255,0,0,0.3)', 'rgba(0,255,0,0.3)'])"
      ]
     },
     "metadata": {},
     "output_type": "display_data"
    },
    {
     "data": {
      "text/html": [
       "<div>            <script src=\"https://cdnjs.cloudflare.com/ajax/libs/mathjax/2.7.5/MathJax.js?config=TeX-AMS-MML_SVG\"></script><script type=\"text/javascript\">if (window.MathJax && window.MathJax.Hub && window.MathJax.Hub.Config) {window.MathJax.Hub.Config({SVG: {font: \"STIX-Web\"}});}</script>                <script type=\"text/javascript\">window.PlotlyConfig = {MathJaxConfig: 'local'};</script>\n",
       "        <script charset=\"utf-8\" src=\"https://cdn.plot.ly/plotly-2.35.2.min.js\"></script>                <div id=\"04505454-c18f-4cd2-8c42-7ef5078a3b64\" class=\"plotly-graph-div\" style=\"height:525px; width:100%;\"></div>            <script type=\"text/javascript\">                                    window.PLOTLYENV=window.PLOTLYENV || {};                                    if (document.getElementById(\"04505454-c18f-4cd2-8c42-7ef5078a3b64\")) {                    Plotly.newPlot(                        \"04505454-c18f-4cd2-8c42-7ef5078a3b64\",                        [{\"link\":{\"color\":[\"rgba(128,128,128,0.3)\",\"rgba(128,128,128,0.3)\",\"rgba(128,128,128,0.3)\",\"rgba(0,255,0,0.3)\",\"rgba(128,128,128,0.3)\",\"rgba(0,255,0,0.3)\",\"rgba(128,128,128,0.3)\",\"rgba(0,255,0,0.3)\",\"rgba(255,0,0,0.3)\",\"rgba(128,128,128,0.3)\",\"rgba(255,0,0,0.3)\",\"rgba(0,255,0,0.3)\",\"rgba(255,0,0,0.3)\",\"rgba(255,0,0,0.3)\",\"rgba(128,128,128,0.3)\",\"rgba(128,128,128,0.3)\",\"rgba(255,0,0,0.3)\",\"rgba(0,255,0,0.3)\",\"rgba(128,128,128,0.3)\",\"rgba(0,255,0,0.3)\",\"rgba(0,255,0,0.3)\",\"rgba(0,255,0,0.3)\",\"rgba(128,128,128,0.3)\",\"rgba(255,0,0,0.3)\",\"rgba(0,255,0,0.3)\"],\"source\":[0,0,1,1,1,3,3,6,6,5,5,5,8,8,2,2,2,9,9,11,11,10,10,12,12],\"target\":[1,2,3,4,5,4,6,4,7,8,7,4,7,7,9,10,7,4,11,4,4,4,12,7,4],\"value\":[86400000000000,169600000000000,43308000000000,20576430000000,22515570000000,15320205000000,27987795000000,14486526000000,13501269000000,8939515200000,5294661372000,8281393428000,2988800320000,5950714880000,78720000000000,40896000000000,49984000000000,35328000000000,43392000000000,26599296000000,16792704000000,21856640000000,19039360000000,10871474560000,8167885440000]},\"node\":{\"color\":[\"rgba(128,128,128,0.3)\",\"rgba(128,128,128,0.3)\",\"rgba(128,128,128,0.3)\",\"rgba(128,128,128,0.3)\",\"rgba(0,255,0,0.3)\",\"rgba(128,128,128,0.3)\",\"rgba(128,128,128,0.3)\",\"rgba(255,0,0,0.3)\",\"rgba(128,128,128,0.3)\",\"rgba(128,128,128,0.3)\",\"rgba(128,128,128,0.3)\",\"rgba(128,128,128,0.3)\",\"rgba(128,128,128,0.3)\"],\"label\":[\"in\",\"px\",\"qqz\",\"qkq\",\"A\",\"rfg\",\"crn\",\"R\",\"gd\",\"qs\",\"hdj\",\"lnx\",\"pv\"],\"line\":{\"color\":\"black\",\"width\":0.5},\"pad\":15,\"thickness\":20},\"type\":\"sankey\"}],                        {\"template\":{\"data\":{\"histogram2dcontour\":[{\"type\":\"histogram2dcontour\",\"colorbar\":{\"outlinewidth\":0,\"ticks\":\"\"},\"colorscale\":[[0.0,\"#0d0887\"],[0.1111111111111111,\"#46039f\"],[0.2222222222222222,\"#7201a8\"],[0.3333333333333333,\"#9c179e\"],[0.4444444444444444,\"#bd3786\"],[0.5555555555555556,\"#d8576b\"],[0.6666666666666666,\"#ed7953\"],[0.7777777777777778,\"#fb9f3a\"],[0.8888888888888888,\"#fdca26\"],[1.0,\"#f0f921\"]]}],\"choropleth\":[{\"type\":\"choropleth\",\"colorbar\":{\"outlinewidth\":0,\"ticks\":\"\"}}],\"histogram2d\":[{\"type\":\"histogram2d\",\"colorbar\":{\"outlinewidth\":0,\"ticks\":\"\"},\"colorscale\":[[0.0,\"#0d0887\"],[0.1111111111111111,\"#46039f\"],[0.2222222222222222,\"#7201a8\"],[0.3333333333333333,\"#9c179e\"],[0.4444444444444444,\"#bd3786\"],[0.5555555555555556,\"#d8576b\"],[0.6666666666666666,\"#ed7953\"],[0.7777777777777778,\"#fb9f3a\"],[0.8888888888888888,\"#fdca26\"],[1.0,\"#f0f921\"]]}],\"heatmap\":[{\"type\":\"heatmap\",\"colorbar\":{\"outlinewidth\":0,\"ticks\":\"\"},\"colorscale\":[[0.0,\"#0d0887\"],[0.1111111111111111,\"#46039f\"],[0.2222222222222222,\"#7201a8\"],[0.3333333333333333,\"#9c179e\"],[0.4444444444444444,\"#bd3786\"],[0.5555555555555556,\"#d8576b\"],[0.6666666666666666,\"#ed7953\"],[0.7777777777777778,\"#fb9f3a\"],[0.8888888888888888,\"#fdca26\"],[1.0,\"#f0f921\"]]}],\"heatmapgl\":[{\"type\":\"heatmapgl\",\"colorbar\":{\"outlinewidth\":0,\"ticks\":\"\"},\"colorscale\":[[0.0,\"#0d0887\"],[0.1111111111111111,\"#46039f\"],[0.2222222222222222,\"#7201a8\"],[0.3333333333333333,\"#9c179e\"],[0.4444444444444444,\"#bd3786\"],[0.5555555555555556,\"#d8576b\"],[0.6666666666666666,\"#ed7953\"],[0.7777777777777778,\"#fb9f3a\"],[0.8888888888888888,\"#fdca26\"],[1.0,\"#f0f921\"]]}],\"contourcarpet\":[{\"type\":\"contourcarpet\",\"colorbar\":{\"outlinewidth\":0,\"ticks\":\"\"}}],\"contour\":[{\"type\":\"contour\",\"colorbar\":{\"outlinewidth\":0,\"ticks\":\"\"},\"colorscale\":[[0.0,\"#0d0887\"],[0.1111111111111111,\"#46039f\"],[0.2222222222222222,\"#7201a8\"],[0.3333333333333333,\"#9c179e\"],[0.4444444444444444,\"#bd3786\"],[0.5555555555555556,\"#d8576b\"],[0.6666666666666666,\"#ed7953\"],[0.7777777777777778,\"#fb9f3a\"],[0.8888888888888888,\"#fdca26\"],[1.0,\"#f0f921\"]]}],\"surface\":[{\"type\":\"surface\",\"colorbar\":{\"outlinewidth\":0,\"ticks\":\"\"},\"colorscale\":[[0.0,\"#0d0887\"],[0.1111111111111111,\"#46039f\"],[0.2222222222222222,\"#7201a8\"],[0.3333333333333333,\"#9c179e\"],[0.4444444444444444,\"#bd3786\"],[0.5555555555555556,\"#d8576b\"],[0.6666666666666666,\"#ed7953\"],[0.7777777777777778,\"#fb9f3a\"],[0.8888888888888888,\"#fdca26\"],[1.0,\"#f0f921\"]]}],\"mesh3d\":[{\"type\":\"mesh3d\",\"colorbar\":{\"outlinewidth\":0,\"ticks\":\"\"}}],\"scatter\":[{\"fillpattern\":{\"fillmode\":\"overlay\",\"size\":10,\"solidity\":0.2},\"type\":\"scatter\"}],\"parcoords\":[{\"type\":\"parcoords\",\"line\":{\"colorbar\":{\"outlinewidth\":0,\"ticks\":\"\"}}}],\"scatterpolargl\":[{\"type\":\"scatterpolargl\",\"marker\":{\"colorbar\":{\"outlinewidth\":0,\"ticks\":\"\"}}}],\"bar\":[{\"error_x\":{\"color\":\"#2a3f5f\"},\"error_y\":{\"color\":\"#2a3f5f\"},\"marker\":{\"line\":{\"color\":\"#E5ECF6\",\"width\":0.5},\"pattern\":{\"fillmode\":\"overlay\",\"size\":10,\"solidity\":0.2}},\"type\":\"bar\"}],\"scattergeo\":[{\"type\":\"scattergeo\",\"marker\":{\"colorbar\":{\"outlinewidth\":0,\"ticks\":\"\"}}}],\"scatterpolar\":[{\"type\":\"scatterpolar\",\"marker\":{\"colorbar\":{\"outlinewidth\":0,\"ticks\":\"\"}}}],\"histogram\":[{\"marker\":{\"pattern\":{\"fillmode\":\"overlay\",\"size\":10,\"solidity\":0.2}},\"type\":\"histogram\"}],\"scattergl\":[{\"type\":\"scattergl\",\"marker\":{\"colorbar\":{\"outlinewidth\":0,\"ticks\":\"\"}}}],\"scatter3d\":[{\"type\":\"scatter3d\",\"line\":{\"colorbar\":{\"outlinewidth\":0,\"ticks\":\"\"}},\"marker\":{\"colorbar\":{\"outlinewidth\":0,\"ticks\":\"\"}}}],\"scattermapbox\":[{\"type\":\"scattermapbox\",\"marker\":{\"colorbar\":{\"outlinewidth\":0,\"ticks\":\"\"}}}],\"scatterternary\":[{\"type\":\"scatterternary\",\"marker\":{\"colorbar\":{\"outlinewidth\":0,\"ticks\":\"\"}}}],\"scattercarpet\":[{\"type\":\"scattercarpet\",\"marker\":{\"colorbar\":{\"outlinewidth\":0,\"ticks\":\"\"}}}],\"carpet\":[{\"aaxis\":{\"endlinecolor\":\"#2a3f5f\",\"gridcolor\":\"white\",\"linecolor\":\"white\",\"minorgridcolor\":\"white\",\"startlinecolor\":\"#2a3f5f\"},\"baxis\":{\"endlinecolor\":\"#2a3f5f\",\"gridcolor\":\"white\",\"linecolor\":\"white\",\"minorgridcolor\":\"white\",\"startlinecolor\":\"#2a3f5f\"},\"type\":\"carpet\"}],\"table\":[{\"cells\":{\"fill\":{\"color\":\"#EBF0F8\"},\"line\":{\"color\":\"white\"}},\"header\":{\"fill\":{\"color\":\"#C8D4E3\"},\"line\":{\"color\":\"white\"}},\"type\":\"table\"}],\"barpolar\":[{\"marker\":{\"line\":{\"color\":\"#E5ECF6\",\"width\":0.5},\"pattern\":{\"fillmode\":\"overlay\",\"size\":10,\"solidity\":0.2}},\"type\":\"barpolar\"}],\"pie\":[{\"automargin\":true,\"type\":\"pie\"}]},\"layout\":{\"autotypenumbers\":\"strict\",\"colorway\":[\"#636efa\",\"#EF553B\",\"#00cc96\",\"#ab63fa\",\"#FFA15A\",\"#19d3f3\",\"#FF6692\",\"#B6E880\",\"#FF97FF\",\"#FECB52\"],\"font\":{\"color\":\"#2a3f5f\"},\"hovermode\":\"closest\",\"hoverlabel\":{\"align\":\"left\"},\"paper_bgcolor\":\"white\",\"plot_bgcolor\":\"#E5ECF6\",\"polar\":{\"bgcolor\":\"#E5ECF6\",\"angularaxis\":{\"gridcolor\":\"white\",\"linecolor\":\"white\",\"ticks\":\"\"},\"radialaxis\":{\"gridcolor\":\"white\",\"linecolor\":\"white\",\"ticks\":\"\"}},\"ternary\":{\"bgcolor\":\"#E5ECF6\",\"aaxis\":{\"gridcolor\":\"white\",\"linecolor\":\"white\",\"ticks\":\"\"},\"baxis\":{\"gridcolor\":\"white\",\"linecolor\":\"white\",\"ticks\":\"\"},\"caxis\":{\"gridcolor\":\"white\",\"linecolor\":\"white\",\"ticks\":\"\"}},\"coloraxis\":{\"colorbar\":{\"outlinewidth\":0,\"ticks\":\"\"}},\"colorscale\":{\"sequential\":[[0.0,\"#0d0887\"],[0.1111111111111111,\"#46039f\"],[0.2222222222222222,\"#7201a8\"],[0.3333333333333333,\"#9c179e\"],[0.4444444444444444,\"#bd3786\"],[0.5555555555555556,\"#d8576b\"],[0.6666666666666666,\"#ed7953\"],[0.7777777777777778,\"#fb9f3a\"],[0.8888888888888888,\"#fdca26\"],[1.0,\"#f0f921\"]],\"sequentialminus\":[[0.0,\"#0d0887\"],[0.1111111111111111,\"#46039f\"],[0.2222222222222222,\"#7201a8\"],[0.3333333333333333,\"#9c179e\"],[0.4444444444444444,\"#bd3786\"],[0.5555555555555556,\"#d8576b\"],[0.6666666666666666,\"#ed7953\"],[0.7777777777777778,\"#fb9f3a\"],[0.8888888888888888,\"#fdca26\"],[1.0,\"#f0f921\"]],\"diverging\":[[0,\"#8e0152\"],[0.1,\"#c51b7d\"],[0.2,\"#de77ae\"],[0.3,\"#f1b6da\"],[0.4,\"#fde0ef\"],[0.5,\"#f7f7f7\"],[0.6,\"#e6f5d0\"],[0.7,\"#b8e186\"],[0.8,\"#7fbc41\"],[0.9,\"#4d9221\"],[1,\"#276419\"]]},\"xaxis\":{\"gridcolor\":\"white\",\"linecolor\":\"white\",\"ticks\":\"\",\"title\":{\"standoff\":15},\"zerolinecolor\":\"white\",\"automargin\":true,\"zerolinewidth\":2},\"yaxis\":{\"gridcolor\":\"white\",\"linecolor\":\"white\",\"ticks\":\"\",\"title\":{\"standoff\":15},\"zerolinecolor\":\"white\",\"automargin\":true,\"zerolinewidth\":2},\"scene\":{\"xaxis\":{\"backgroundcolor\":\"#E5ECF6\",\"gridcolor\":\"white\",\"linecolor\":\"white\",\"showbackground\":true,\"ticks\":\"\",\"zerolinecolor\":\"white\",\"gridwidth\":2},\"yaxis\":{\"backgroundcolor\":\"#E5ECF6\",\"gridcolor\":\"white\",\"linecolor\":\"white\",\"showbackground\":true,\"ticks\":\"\",\"zerolinecolor\":\"white\",\"gridwidth\":2},\"zaxis\":{\"backgroundcolor\":\"#E5ECF6\",\"gridcolor\":\"white\",\"linecolor\":\"white\",\"showbackground\":true,\"ticks\":\"\",\"zerolinecolor\":\"white\",\"gridwidth\":2}},\"shapedefaults\":{\"line\":{\"color\":\"#2a3f5f\"}},\"annotationdefaults\":{\"arrowcolor\":\"#2a3f5f\",\"arrowhead\":0,\"arrowwidth\":1},\"geo\":{\"bgcolor\":\"white\",\"landcolor\":\"#E5ECF6\",\"subunitcolor\":\"white\",\"showland\":true,\"showlakes\":true,\"lakecolor\":\"white\"},\"title\":{\"x\":0.05},\"mapbox\":{\"style\":\"light\"}}},\"title\":{\"text\":\"Example Parsed Puzzle Input (Problem 202319)\"},\"font\":{\"size\":10}},                        {\"responsive\": true}                    )                };                            </script>        </div>"
      ]
     },
     "metadata": {},
     "output_type": "display_data"
    }
   ],
   "source": [
    "def show_example_input():\n",
    "    sankey_input = to_plotly_sankey_input(valued_links, color_mode=\"problem_202319\")\n",
    "    display(sankey_input)\n",
    "    fig = build_sankey_figure(\n",
    "        sankey_input, title=\"Example Parsed Puzzle Input (Problem 202319)\"\n",
    "    )\n",
    "    fig.show()\n",
    "\n",
    "\n",
    "show_example_input()"
   ]
  },
  {
   "cell_type": "markdown",
   "metadata": {},
   "source": [
    "The result looks similar to this post on Reddit: [\\[2023 Day 19 (part 2)\\] Sankey diagrams are cool](https://www.reddit.com/r/adventofcode/comments/18lyvuv/2023_day_19_part_2_sankey_diagrams_are_cool/)\n"
   ]
  },
  {
   "cell_type": "markdown",
   "metadata": {},
   "source": [
    "Now let's try with my actual personalized input:\n"
   ]
  },
  {
   "cell_type": "code",
   "execution_count": 21,
   "metadata": {
    "execution": {
     "iopub.execute_input": "2024-11-26T21:24:39.252729Z",
     "iopub.status.busy": "2024-11-26T21:24:39.252293Z",
     "iopub.status.idle": "2024-11-26T21:24:39.543672Z",
     "shell.execute_reply": "2024-11-26T21:24:39.542519Z"
    },
    "metadata": {}
   },
   "outputs": [
    {
     "data": {
      "text/html": [
       "<div>            <script src=\"https://cdnjs.cloudflare.com/ajax/libs/mathjax/2.7.5/MathJax.js?config=TeX-AMS-MML_SVG\"></script><script type=\"text/javascript\">if (window.MathJax && window.MathJax.Hub && window.MathJax.Hub.Config) {window.MathJax.Hub.Config({SVG: {font: \"STIX-Web\"}});}</script>                <script type=\"text/javascript\">window.PlotlyConfig = {MathJaxConfig: 'local'};</script>\n",
       "        <script charset=\"utf-8\" src=\"https://cdn.plot.ly/plotly-2.35.2.min.js\"></script>                <div id=\"cdff43a1-b0bf-4918-9ee2-49774b17d02e\" class=\"plotly-graph-div\" style=\"height:525px; width:100%;\"></div>            <script type=\"text/javascript\">                                    window.PLOTLYENV=window.PLOTLYENV || {};                                    if (document.getElementById(\"cdff43a1-b0bf-4918-9ee2-49774b17d02e\")) {                    Plotly.newPlot(                        \"cdff43a1-b0bf-4918-9ee2-49774b17d02e\",                        [{\"link\":{\"color\":[\"rgba(128,128,128,0.3)\",\"rgba(128,128,128,0.3)\",\"rgba(128,128,128,0.3)\",\"rgba(128,128,128,0.3)\",\"rgba(128,128,128,0.3)\",\"rgba(128,128,128,0.3)\",\"rgba(128,128,128,0.3)\",\"rgba(128,128,128,0.3)\",\"rgba(128,128,128,0.3)\",\"rgba(128,128,128,0.3)\",\"rgba(128,128,128,0.3)\",\"rgba(128,128,128,0.3)\",\"rgba(128,128,128,0.3)\",\"rgba(128,128,128,0.3)\",\"rgba(128,128,128,0.3)\",\"rgba(128,128,128,0.3)\",\"rgba(255,0,0,0.3)\",\"rgba(128,128,128,0.3)\",\"rgba(255,0,0,0.3)\",\"rgba(255,0,0,0.3)\",\"rgba(255,0,0,0.3)\",\"rgba(0,255,0,0.3)\",\"rgba(0,255,0,0.3)\",\"rgba(255,0,0,0.3)\",\"rgba(255,0,0,0.3)\",\"rgba(128,128,128,0.3)\",\"rgba(0,255,0,0.3)\",\"rgba(128,128,128,0.3)\",\"rgba(255,0,0,0.3)\",\"rgba(255,0,0,0.3)\",\"rgba(255,0,0,0.3)\",\"rgba(0,255,0,0.3)\",\"rgba(0,255,0,0.3)\",\"rgba(0,255,0,0.3)\",\"rgba(128,128,128,0.3)\",\"rgba(0,255,0,0.3)\",\"rgba(255,0,0,0.3)\",\"rgba(0,255,0,0.3)\",\"rgba(128,128,128,0.3)\",\"rgba(128,128,128,0.3)\",\"rgba(128,128,128,0.3)\",\"rgba(128,128,128,0.3)\",\"rgba(0,255,0,0.3)\",\"rgba(0,255,0,0.3)\",\"rgba(255,0,0,0.3)\",\"rgba(128,128,128,0.3)\",\"rgba(128,128,128,0.3)\",\"rgba(0,255,0,0.3)\",\"rgba(0,255,0,0.3)\",\"rgba(255,0,0,0.3)\",\"rgba(0,255,0,0.3)\",\"rgba(0,255,0,0.3)\",\"rgba(0,255,0,0.3)\",\"rgba(255,0,0,0.3)\",\"rgba(255,0,0,0.3)\",\"rgba(255,0,0,0.3)\",\"rgba(128,128,128,0.3)\",\"rgba(0,255,0,0.3)\",\"rgba(0,255,0,0.3)\",\"rgba(0,255,0,0.3)\",\"rgba(128,128,128,0.3)\",\"rgba(128,128,128,0.3)\",\"rgba(128,128,128,0.3)\",\"rgba(128,128,128,0.3)\",\"rgba(0,255,0,0.3)\",\"rgba(0,255,0,0.3)\",\"rgba(255,0,0,0.3)\",\"rgba(0,255,0,0.3)\",\"rgba(0,255,0,0.3)\",\"rgba(128,128,128,0.3)\",\"rgba(0,255,0,0.3)\",\"rgba(128,128,128,0.3)\",\"rgba(255,0,0,0.3)\",\"rgba(255,0,0,0.3)\",\"rgba(0,255,0,0.3)\",\"rgba(255,0,0,0.3)\",\"rgba(255,0,0,0.3)\",\"rgba(255,0,0,0.3)\",\"rgba(255,0,0,0.3)\",\"rgba(255,0,0,0.3)\",\"rgba(128,128,128,0.3)\",\"rgba(128,128,128,0.3)\",\"rgba(128,128,128,0.3)\",\"rgba(128,128,128,0.3)\",\"rgba(128,128,128,0.3)\",\"rgba(128,128,128,0.3)\",\"rgba(128,128,128,0.3)\",\"rgba(0,255,0,0.3)\",\"rgba(0,255,0,0.3)\",\"rgba(0,255,0,0.3)\",\"rgba(255,0,0,0.3)\",\"rgba(255,0,0,0.3)\",\"rgba(255,0,0,0.3)\",\"rgba(255,0,0,0.3)\",\"rgba(0,255,0,0.3)\",\"rgba(128,128,128,0.3)\",\"rgba(128,128,128,0.3)\",\"rgba(0,255,0,0.3)\",\"rgba(0,255,0,0.3)\",\"rgba(255,0,0,0.3)\",\"rgba(0,255,0,0.3)\",\"rgba(0,255,0,0.3)\",\"rgba(0,255,0,0.3)\",\"rgba(255,0,0,0.3)\",\"rgba(128,128,128,0.3)\",\"rgba(0,255,0,0.3)\",\"rgba(255,0,0,0.3)\",\"rgba(255,0,0,0.3)\",\"rgba(0,255,0,0.3)\",\"rgba(0,255,0,0.3)\",\"rgba(128,128,128,0.3)\",\"rgba(128,128,128,0.3)\",\"rgba(128,128,128,0.3)\",\"rgba(128,128,128,0.3)\",\"rgba(128,128,128,0.3)\",\"rgba(0,255,0,0.3)\",\"rgba(255,0,0,0.3)\",\"rgba(255,0,0,0.3)\",\"rgba(128,128,128,0.3)\",\"rgba(128,128,128,0.3)\",\"rgba(0,255,0,0.3)\",\"rgba(0,255,0,0.3)\",\"rgba(255,0,0,0.3)\",\"rgba(0,255,0,0.3)\",\"rgba(255,0,0,0.3)\",\"rgba(0,255,0,0.3)\",\"rgba(0,255,0,0.3)\",\"rgba(255,0,0,0.3)\",\"rgba(128,128,128,0.3)\",\"rgba(0,255,0,0.3)\",\"rgba(0,255,0,0.3)\",\"rgba(0,255,0,0.3)\",\"rgba(255,0,0,0.3)\",\"rgba(255,0,0,0.3)\",\"rgba(128,128,128,0.3)\",\"rgba(255,0,0,0.3)\",\"rgba(255,0,0,0.3)\",\"rgba(0,255,0,0.3)\",\"rgba(128,128,128,0.3)\",\"rgba(128,128,128,0.3)\",\"rgba(128,128,128,0.3)\",\"rgba(128,128,128,0.3)\",\"rgba(128,128,128,0.3)\",\"rgba(128,128,128,0.3)\",\"rgba(0,255,0,0.3)\",\"rgba(0,255,0,0.3)\",\"rgba(128,128,128,0.3)\",\"rgba(0,255,0,0.3)\",\"rgba(0,255,0,0.3)\",\"rgba(128,128,128,0.3)\",\"rgba(255,0,0,0.3)\",\"rgba(0,255,0,0.3)\",\"rgba(0,255,0,0.3)\",\"rgba(255,0,0,0.3)\",\"rgba(128,128,128,0.3)\",\"rgba(128,128,128,0.3)\",\"rgba(128,128,128,0.3)\",\"rgba(128,128,128,0.3)\",\"rgba(0,255,0,0.3)\",\"rgba(128,128,128,0.3)\",\"rgba(255,0,0,0.3)\",\"rgba(0,255,0,0.3)\",\"rgba(0,255,0,0.3)\",\"rgba(0,255,0,0.3)\",\"rgba(0,255,0,0.3)\",\"rgba(0,255,0,0.3)\",\"rgba(0,255,0,0.3)\",\"rgba(0,255,0,0.3)\",\"rgba(0,255,0,0.3)\",\"rgba(255,0,0,0.3)\",\"rgba(255,0,0,0.3)\",\"rgba(255,0,0,0.3)\",\"rgba(128,128,128,0.3)\",\"rgba(128,128,128,0.3)\",\"rgba(255,0,0,0.3)\",\"rgba(0,255,0,0.3)\",\"rgba(128,128,128,0.3)\",\"rgba(128,128,128,0.3)\",\"rgba(0,255,0,0.3)\",\"rgba(255,0,0,0.3)\",\"rgba(0,255,0,0.3)\",\"rgba(0,255,0,0.3)\",\"rgba(0,255,0,0.3)\",\"rgba(128,128,128,0.3)\",\"rgba(128,128,128,0.3)\",\"rgba(128,128,128,0.3)\",\"rgba(128,128,128,0.3)\",\"rgba(128,128,128,0.3)\",\"rgba(0,255,0,0.3)\",\"rgba(0,255,0,0.3)\",\"rgba(255,0,0,0.3)\",\"rgba(255,0,0,0.3)\",\"rgba(255,0,0,0.3)\",\"rgba(255,0,0,0.3)\",\"rgba(0,255,0,0.3)\",\"rgba(0,255,0,0.3)\",\"rgba(255,0,0,0.3)\",\"rgba(255,0,0,0.3)\",\"rgba(255,0,0,0.3)\",\"rgba(128,128,128,0.3)\",\"rgba(128,128,128,0.3)\",\"rgba(0,255,0,0.3)\",\"rgba(0,255,0,0.3)\",\"rgba(0,255,0,0.3)\",\"rgba(255,0,0,0.3)\",\"rgba(255,0,0,0.3)\",\"rgba(128,128,128,0.3)\",\"rgba(128,128,128,0.3)\",\"rgba(128,128,128,0.3)\",\"rgba(128,128,128,0.3)\",\"rgba(128,128,128,0.3)\",\"rgba(128,128,128,0.3)\",\"rgba(128,128,128,0.3)\",\"rgba(128,128,128,0.3)\",\"rgba(128,128,128,0.3)\",\"rgba(128,128,128,0.3)\",\"rgba(128,128,128,0.3)\",\"rgba(128,128,128,0.3)\",\"rgba(128,128,128,0.3)\",\"rgba(255,0,0,0.3)\",\"rgba(255,0,0,0.3)\",\"rgba(0,255,0,0.3)\",\"rgba(255,0,0,0.3)\",\"rgba(0,255,0,0.3)\",\"rgba(0,255,0,0.3)\",\"rgba(0,255,0,0.3)\",\"rgba(0,255,0,0.3)\",\"rgba(255,0,0,0.3)\",\"rgba(128,128,128,0.3)\",\"rgba(128,128,128,0.3)\",\"rgba(255,0,0,0.3)\",\"rgba(255,0,0,0.3)\",\"rgba(255,0,0,0.3)\",\"rgba(0,255,0,0.3)\",\"rgba(255,0,0,0.3)\",\"rgba(0,255,0,0.3)\",\"rgba(255,0,0,0.3)\",\"rgba(0,255,0,0.3)\",\"rgba(128,128,128,0.3)\",\"rgba(255,0,0,0.3)\",\"rgba(255,0,0,0.3)\",\"rgba(255,0,0,0.3)\",\"rgba(0,255,0,0.3)\",\"rgba(128,128,128,0.3)\",\"rgba(128,128,128,0.3)\",\"rgba(128,128,128,0.3)\",\"rgba(128,128,128,0.3)\",\"rgba(128,128,128,0.3)\",\"rgba(0,255,0,0.3)\",\"rgba(255,0,0,0.3)\",\"rgba(0,255,0,0.3)\",\"rgba(0,255,0,0.3)\",\"rgba(255,0,0,0.3)\",\"rgba(255,0,0,0.3)\",\"rgba(0,255,0,0.3)\",\"rgba(0,255,0,0.3)\",\"rgba(128,128,128,0.3)\",\"rgba(255,0,0,0.3)\",\"rgba(255,0,0,0.3)\",\"rgba(0,255,0,0.3)\",\"rgba(128,128,128,0.3)\",\"rgba(128,128,128,0.3)\",\"rgba(255,0,0,0.3)\",\"rgba(0,255,0,0.3)\",\"rgba(0,255,0,0.3)\",\"rgba(0,255,0,0.3)\",\"rgba(0,255,0,0.3)\",\"rgba(255,0,0,0.3)\",\"rgba(128,128,128,0.3)\",\"rgba(128,128,128,0.3)\",\"rgba(128,128,128,0.3)\",\"rgba(128,128,128,0.3)\",\"rgba(128,128,128,0.3)\",\"rgba(255,0,0,0.3)\",\"rgba(128,128,128,0.3)\",\"rgba(0,255,0,0.3)\",\"rgba(0,255,0,0.3)\",\"rgba(0,255,0,0.3)\",\"rgba(255,0,0,0.3)\",\"rgba(255,0,0,0.3)\",\"rgba(255,0,0,0.3)\",\"rgba(0,255,0,0.3)\",\"rgba(255,0,0,0.3)\",\"rgba(128,128,128,0.3)\",\"rgba(0,255,0,0.3)\",\"rgba(0,255,0,0.3)\",\"rgba(255,0,0,0.3)\",\"rgba(128,128,128,0.3)\",\"rgba(128,128,128,0.3)\",\"rgba(255,0,0,0.3)\",\"rgba(128,128,128,0.3)\",\"rgba(255,0,0,0.3)\",\"rgba(0,255,0,0.3)\",\"rgba(0,255,0,0.3)\",\"rgba(0,255,0,0.3)\",\"rgba(255,0,0,0.3)\",\"rgba(255,0,0,0.3)\",\"rgba(255,0,0,0.3)\",\"rgba(0,255,0,0.3)\",\"rgba(255,0,0,0.3)\",\"rgba(128,128,128,0.3)\",\"rgba(128,128,128,0.3)\",\"rgba(255,0,0,0.3)\",\"rgba(255,0,0,0.3)\",\"rgba(0,255,0,0.3)\",\"rgba(255,0,0,0.3)\",\"rgba(255,0,0,0.3)\",\"rgba(0,255,0,0.3)\",\"rgba(128,128,128,0.3)\",\"rgba(128,128,128,0.3)\",\"rgba(0,255,0,0.3)\",\"rgba(0,255,0,0.3)\",\"rgba(128,128,128,0.3)\",\"rgba(128,128,128,0.3)\",\"rgba(255,0,0,0.3)\",\"rgba(255,0,0,0.3)\",\"rgba(0,255,0,0.3)\",\"rgba(0,255,0,0.3)\",\"rgba(255,0,0,0.3)\",\"rgba(255,0,0,0.3)\",\"rgba(0,255,0,0.3)\",\"rgba(0,255,0,0.3)\",\"rgba(128,128,128,0.3)\",\"rgba(128,128,128,0.3)\",\"rgba(128,128,128,0.3)\",\"rgba(128,128,128,0.3)\",\"rgba(128,128,128,0.3)\",\"rgba(128,128,128,0.3)\",\"rgba(128,128,128,0.3)\",\"rgba(128,128,128,0.3)\",\"rgba(0,255,0,0.3)\",\"rgba(255,0,0,0.3)\",\"rgba(255,0,0,0.3)\",\"rgba(0,255,0,0.3)\",\"rgba(0,255,0,0.3)\",\"rgba(0,255,0,0.3)\",\"rgba(0,255,0,0.3)\",\"rgba(255,0,0,0.3)\",\"rgba(255,0,0,0.3)\",\"rgba(128,128,128,0.3)\",\"rgba(128,128,128,0.3)\",\"rgba(255,0,0,0.3)\",\"rgba(255,0,0,0.3)\",\"rgba(255,0,0,0.3)\",\"rgba(0,255,0,0.3)\",\"rgba(255,0,0,0.3)\",\"rgba(0,255,0,0.3)\",\"rgba(0,255,0,0.3)\",\"rgba(0,255,0,0.3)\",\"rgba(128,128,128,0.3)\",\"rgba(255,0,0,0.3)\",\"rgba(255,0,0,0.3)\",\"rgba(255,0,0,0.3)\",\"rgba(0,255,0,0.3)\",\"rgba(0,255,0,0.3)\",\"rgba(128,128,128,0.3)\",\"rgba(128,128,128,0.3)\",\"rgba(128,128,128,0.3)\",\"rgba(128,128,128,0.3)\",\"rgba(128,128,128,0.3)\",\"rgba(255,0,0,0.3)\",\"rgba(0,255,0,0.3)\",\"rgba(255,0,0,0.3)\",\"rgba(128,128,128,0.3)\",\"rgba(128,128,128,0.3)\",\"rgba(128,128,128,0.3)\",\"rgba(255,0,0,0.3)\",\"rgba(255,0,0,0.3)\",\"rgba(0,255,0,0.3)\",\"rgba(255,0,0,0.3)\",\"rgba(0,255,0,0.3)\",\"rgba(0,255,0,0.3)\",\"rgba(255,0,0,0.3)\",\"rgba(255,0,0,0.3)\",\"rgba(128,128,128,0.3)\",\"rgba(128,128,128,0.3)\",\"rgba(0,255,0,0.3)\",\"rgba(0,255,0,0.3)\",\"rgba(0,255,0,0.3)\",\"rgba(255,0,0,0.3)\",\"rgba(0,255,0,0.3)\",\"rgba(255,0,0,0.3)\",\"rgba(128,128,128,0.3)\",\"rgba(128,128,128,0.3)\",\"rgba(128,128,128,0.3)\",\"rgba(128,128,128,0.3)\",\"rgba(0,255,0,0.3)\",\"rgba(255,0,0,0.3)\",\"rgba(0,255,0,0.3)\",\"rgba(0,255,0,0.3)\",\"rgba(0,255,0,0.3)\",\"rgba(255,0,0,0.3)\",\"rgba(255,0,0,0.3)\",\"rgba(0,255,0,0.3)\",\"rgba(0,255,0,0.3)\",\"rgba(0,255,0,0.3)\",\"rgba(255,0,0,0.3)\",\"rgba(128,128,128,0.3)\",\"rgba(128,128,128,0.3)\",\"rgba(128,128,128,0.3)\",\"rgba(128,128,128,0.3)\",\"rgba(128,128,128,0.3)\",\"rgba(0,255,0,0.3)\",\"rgba(0,255,0,0.3)\",\"rgba(128,128,128,0.3)\",\"rgba(255,0,0,0.3)\",\"rgba(255,0,0,0.3)\",\"rgba(0,255,0,0.3)\",\"rgba(255,0,0,0.3)\",\"rgba(255,0,0,0.3)\",\"rgba(255,0,0,0.3)\",\"rgba(128,128,128,0.3)\",\"rgba(128,128,128,0.3)\",\"rgba(128,128,128,0.3)\",\"rgba(0,255,0,0.3)\",\"rgba(0,255,0,0.3)\",\"rgba(0,255,0,0.3)\",\"rgba(0,255,0,0.3)\",\"rgba(255,0,0,0.3)\",\"rgba(255,0,0,0.3)\",\"rgba(255,0,0,0.3)\",\"rgba(0,255,0,0.3)\",\"rgba(255,0,0,0.3)\",\"rgba(255,0,0,0.3)\",\"rgba(255,0,0,0.3)\",\"rgba(255,0,0,0.3)\",\"rgba(128,128,128,0.3)\",\"rgba(0,255,0,0.3)\",\"rgba(255,0,0,0.3)\",\"rgba(255,0,0,0.3)\",\"rgba(128,128,128,0.3)\",\"rgba(128,128,128,0.3)\",\"rgba(128,128,128,0.3)\",\"rgba(128,128,128,0.3)\",\"rgba(128,128,128,0.3)\",\"rgba(128,128,128,0.3)\",\"rgba(128,128,128,0.3)\",\"rgba(128,128,128,0.3)\",\"rgba(128,128,128,0.3)\",\"rgba(0,255,0,0.3)\",\"rgba(128,128,128,0.3)\",\"rgba(0,255,0,0.3)\",\"rgba(0,255,0,0.3)\",\"rgba(255,0,0,0.3)\",\"rgba(0,255,0,0.3)\",\"rgba(0,255,0,0.3)\",\"rgba(255,0,0,0.3)\",\"rgba(0,255,0,0.3)\",\"rgba(0,255,0,0.3)\",\"rgba(255,0,0,0.3)\",\"rgba(0,255,0,0.3)\",\"rgba(0,255,0,0.3)\",\"rgba(128,128,128,0.3)\",\"rgba(255,0,0,0.3)\",\"rgba(255,0,0,0.3)\",\"rgba(255,0,0,0.3)\",\"rgba(255,0,0,0.3)\",\"rgba(0,255,0,0.3)\",\"rgba(255,0,0,0.3)\",\"rgba(255,0,0,0.3)\",\"rgba(128,128,128,0.3)\",\"rgba(0,255,0,0.3)\",\"rgba(0,255,0,0.3)\",\"rgba(0,255,0,0.3)\",\"rgba(255,0,0,0.3)\",\"rgba(0,255,0,0.3)\",\"rgba(255,0,0,0.3)\",\"rgba(255,0,0,0.3)\",\"rgba(128,128,128,0.3)\",\"rgba(128,128,128,0.3)\",\"rgba(128,128,128,0.3)\",\"rgba(128,128,128,0.3)\",\"rgba(128,128,128,0.3)\",\"rgba(128,128,128,0.3)\",\"rgba(128,128,128,0.3)\",\"rgba(0,255,0,0.3)\",\"rgba(255,0,0,0.3)\",\"rgba(0,255,0,0.3)\",\"rgba(0,255,0,0.3)\",\"rgba(255,0,0,0.3)\",\"rgba(255,0,0,0.3)\",\"rgba(0,255,0,0.3)\",\"rgba(0,255,0,0.3)\",\"rgba(0,255,0,0.3)\",\"rgba(0,255,0,0.3)\",\"rgba(0,255,0,0.3)\",\"rgba(128,128,128,0.3)\",\"rgba(255,0,0,0.3)\",\"rgba(255,0,0,0.3)\",\"rgba(0,255,0,0.3)\",\"rgba(0,255,0,0.3)\",\"rgba(128,128,128,0.3)\",\"rgba(128,128,128,0.3)\",\"rgba(128,128,128,0.3)\",\"rgba(0,255,0,0.3)\",\"rgba(255,0,0,0.3)\",\"rgba(255,0,0,0.3)\",\"rgba(255,0,0,0.3)\",\"rgba(0,255,0,0.3)\",\"rgba(0,255,0,0.3)\",\"rgba(255,0,0,0.3)\",\"rgba(0,255,0,0.3)\",\"rgba(255,0,0,0.3)\",\"rgba(128,128,128,0.3)\",\"rgba(128,128,128,0.3)\",\"rgba(0,255,0,0.3)\",\"rgba(0,255,0,0.3)\",\"rgba(255,0,0,0.3)\",\"rgba(0,255,0,0.3)\",\"rgba(0,255,0,0.3)\",\"rgba(255,0,0,0.3)\",\"rgba(128,128,128,0.3)\",\"rgba(128,128,128,0.3)\",\"rgba(128,128,128,0.3)\",\"rgba(255,0,0,0.3)\",\"rgba(0,255,0,0.3)\",\"rgba(0,255,0,0.3)\",\"rgba(0,255,0,0.3)\",\"rgba(0,255,0,0.3)\",\"rgba(0,255,0,0.3)\",\"rgba(0,255,0,0.3)\",\"rgba(255,0,0,0.3)\",\"rgba(255,0,0,0.3)\",\"rgba(128,128,128,0.3)\",\"rgba(128,128,128,0.3)\",\"rgba(128,128,128,0.3)\",\"rgba(128,128,128,0.3)\",\"rgba(128,128,128,0.3)\",\"rgba(128,128,128,0.3)\",\"rgba(128,128,128,0.3)\",\"rgba(0,255,0,0.3)\",\"rgba(128,128,128,0.3)\",\"rgba(255,0,0,0.3)\",\"rgba(0,255,0,0.3)\",\"rgba(0,255,0,0.3)\",\"rgba(255,0,0,0.3)\",\"rgba(128,128,128,0.3)\",\"rgba(0,255,0,0.3)\",\"rgba(0,255,0,0.3)\",\"rgba(0,255,0,0.3)\",\"rgba(255,0,0,0.3)\",\"rgba(128,128,128,0.3)\",\"rgba(128,128,128,0.3)\",\"rgba(128,128,128,0.3)\",\"rgba(128,128,128,0.3)\",\"rgba(128,128,128,0.3)\",\"rgba(255,0,0,0.3)\",\"rgba(0,255,0,0.3)\",\"rgba(0,255,0,0.3)\",\"rgba(128,128,128,0.3)\",\"rgba(255,0,0,0.3)\",\"rgba(0,255,0,0.3)\",\"rgba(0,255,0,0.3)\",\"rgba(255,0,0,0.3)\",\"rgba(255,0,0,0.3)\",\"rgba(128,128,128,0.3)\",\"rgba(0,255,0,0.3)\",\"rgba(0,255,0,0.3)\",\"rgba(0,255,0,0.3)\",\"rgba(255,0,0,0.3)\",\"rgba(255,0,0,0.3)\",\"rgba(0,255,0,0.3)\",\"rgba(0,255,0,0.3)\",\"rgba(0,255,0,0.3)\",\"rgba(128,128,128,0.3)\",\"rgba(128,128,128,0.3)\",\"rgba(128,128,128,0.3)\",\"rgba(128,128,128,0.3)\",\"rgba(128,128,128,0.3)\",\"rgba(128,128,128,0.3)\",\"rgba(128,128,128,0.3)\",\"rgba(128,128,128,0.3)\",\"rgba(0,255,0,0.3)\",\"rgba(0,255,0,0.3)\",\"rgba(128,128,128,0.3)\",\"rgba(128,128,128,0.3)\",\"rgba(0,255,0,0.3)\",\"rgba(0,255,0,0.3)\",\"rgba(0,255,0,0.3)\",\"rgba(0,255,0,0.3)\",\"rgba(0,255,0,0.3)\",\"rgba(0,255,0,0.3)\",\"rgba(255,0,0,0.3)\",\"rgba(128,128,128,0.3)\",\"rgba(255,0,0,0.3)\",\"rgba(255,0,0,0.3)\",\"rgba(128,128,128,0.3)\",\"rgba(255,0,0,0.3)\",\"rgba(255,0,0,0.3)\",\"rgba(255,0,0,0.3)\",\"rgba(255,0,0,0.3)\",\"rgba(0,255,0,0.3)\",\"rgba(0,255,0,0.3)\",\"rgba(0,255,0,0.3)\",\"rgba(255,0,0,0.3)\",\"rgba(128,128,128,0.3)\",\"rgba(128,128,128,0.3)\",\"rgba(128,128,128,0.3)\",\"rgba(255,0,0,0.3)\",\"rgba(255,0,0,0.3)\",\"rgba(255,0,0,0.3)\",\"rgba(255,0,0,0.3)\",\"rgba(255,0,0,0.3)\",\"rgba(255,0,0,0.3)\",\"rgba(255,0,0,0.3)\",\"rgba(0,255,0,0.3)\",\"rgba(0,255,0,0.3)\",\"rgba(128,128,128,0.3)\",\"rgba(128,128,128,0.3)\",\"rgba(128,128,128,0.3)\",\"rgba(0,255,0,0.3)\",\"rgba(255,0,0,0.3)\",\"rgba(255,0,0,0.3)\",\"rgba(0,255,0,0.3)\",\"rgba(255,0,0,0.3)\",\"rgba(255,0,0,0.3)\",\"rgba(0,255,0,0.3)\",\"rgba(128,128,128,0.3)\",\"rgba(128,128,128,0.3)\",\"rgba(128,128,128,0.3)\",\"rgba(128,128,128,0.3)\",\"rgba(0,255,0,0.3)\",\"rgba(128,128,128,0.3)\",\"rgba(0,255,0,0.3)\",\"rgba(0,255,0,0.3)\",\"rgba(0,255,0,0.3)\",\"rgba(255,0,0,0.3)\",\"rgba(0,255,0,0.3)\",\"rgba(0,255,0,0.3)\",\"rgba(128,128,128,0.3)\",\"rgba(128,128,128,0.3)\",\"rgba(128,128,128,0.3)\",\"rgba(0,255,0,0.3)\",\"rgba(0,255,0,0.3)\",\"rgba(0,255,0,0.3)\",\"rgba(255,0,0,0.3)\",\"rgba(255,0,0,0.3)\",\"rgba(255,0,0,0.3)\",\"rgba(0,255,0,0.3)\",\"rgba(0,255,0,0.3)\",\"rgba(0,255,0,0.3)\",\"rgba(255,0,0,0.3)\",\"rgba(0,255,0,0.3)\",\"rgba(128,128,128,0.3)\",\"rgba(0,255,0,0.3)\",\"rgba(0,255,0,0.3)\",\"rgba(0,255,0,0.3)\",\"rgba(255,0,0,0.3)\",\"rgba(128,128,128,0.3)\",\"rgba(128,128,128,0.3)\",\"rgba(128,128,128,0.3)\",\"rgba(128,128,128,0.3)\",\"rgba(255,0,0,0.3)\",\"rgba(128,128,128,0.3)\",\"rgba(128,128,128,0.3)\",\"rgba(128,128,128,0.3)\",\"rgba(0,255,0,0.3)\",\"rgba(0,255,0,0.3)\",\"rgba(255,0,0,0.3)\",\"rgba(255,0,0,0.3)\",\"rgba(0,255,0,0.3)\",\"rgba(0,255,0,0.3)\",\"rgba(0,255,0,0.3)\",\"rgba(255,0,0,0.3)\",\"rgba(0,255,0,0.3)\",\"rgba(0,255,0,0.3)\",\"rgba(128,128,128,0.3)\",\"rgba(128,128,128,0.3)\",\"rgba(0,255,0,0.3)\",\"rgba(255,0,0,0.3)\",\"rgba(0,255,0,0.3)\",\"rgba(255,0,0,0.3)\",\"rgba(128,128,128,0.3)\",\"rgba(128,128,128,0.3)\",\"rgba(0,255,0,0.3)\",\"rgba(0,255,0,0.3)\",\"rgba(0,255,0,0.3)\",\"rgba(0,255,0,0.3)\",\"rgba(0,255,0,0.3)\",\"rgba(255,0,0,0.3)\",\"rgba(255,0,0,0.3)\",\"rgba(255,0,0,0.3)\",\"rgba(255,0,0,0.3)\",\"rgba(128,128,128,0.3)\",\"rgba(128,128,128,0.3)\",\"rgba(128,128,128,0.3)\",\"rgba(0,255,0,0.3)\",\"rgba(255,0,0,0.3)\",\"rgba(255,0,0,0.3)\",\"rgba(0,255,0,0.3)\",\"rgba(0,255,0,0.3)\",\"rgba(0,255,0,0.3)\",\"rgba(255,0,0,0.3)\",\"rgba(128,128,128,0.3)\",\"rgba(128,128,128,0.3)\",\"rgba(128,128,128,0.3)\",\"rgba(128,128,128,0.3)\",\"rgba(128,128,128,0.3)\",\"rgba(128,128,128,0.3)\",\"rgba(128,128,128,0.3)\",\"rgba(255,0,0,0.3)\",\"rgba(255,0,0,0.3)\",\"rgba(0,255,0,0.3)\",\"rgba(0,255,0,0.3)\",\"rgba(255,0,0,0.3)\",\"rgba(0,255,0,0.3)\",\"rgba(0,255,0,0.3)\",\"rgba(255,0,0,0.3)\",\"rgba(0,255,0,0.3)\",\"rgba(128,128,128,0.3)\",\"rgba(128,128,128,0.3)\",\"rgba(255,0,0,0.3)\",\"rgba(255,0,0,0.3)\",\"rgba(255,0,0,0.3)\",\"rgba(0,255,0,0.3)\",\"rgba(255,0,0,0.3)\",\"rgba(0,255,0,0.3)\",\"rgba(128,128,128,0.3)\",\"rgba(0,255,0,0.3)\",\"rgba(128,128,128,0.3)\",\"rgba(128,128,128,0.3)\",\"rgba(0,255,0,0.3)\",\"rgba(0,255,0,0.3)\",\"rgba(255,0,0,0.3)\",\"rgba(0,255,0,0.3)\",\"rgba(0,255,0,0.3)\",\"rgba(0,255,0,0.3)\",\"rgba(255,0,0,0.3)\",\"rgba(255,0,0,0.3)\",\"rgba(0,255,0,0.3)\",\"rgba(0,255,0,0.3)\",\"rgba(128,128,128,0.3)\",\"rgba(128,128,128,0.3)\",\"rgba(0,255,0,0.3)\",\"rgba(0,255,0,0.3)\",\"rgba(0,255,0,0.3)\",\"rgba(255,0,0,0.3)\",\"rgba(255,0,0,0.3)\",\"rgba(255,0,0,0.3)\",\"rgba(255,0,0,0.3)\",\"rgba(128,128,128,0.3)\",\"rgba(128,128,128,0.3)\",\"rgba(128,128,128,0.3)\",\"rgba(128,128,128,0.3)\",\"rgba(128,128,128,0.3)\",\"rgba(128,128,128,0.3)\",\"rgba(0,255,0,0.3)\",\"rgba(0,255,0,0.3)\",\"rgba(128,128,128,0.3)\",\"rgba(0,255,0,0.3)\",\"rgba(0,255,0,0.3)\",\"rgba(0,255,0,0.3)\",\"rgba(0,255,0,0.3)\",\"rgba(0,255,0,0.3)\",\"rgba(255,0,0,0.3)\",\"rgba(128,128,128,0.3)\",\"rgba(0,255,0,0.3)\",\"rgba(255,0,0,0.3)\",\"rgba(255,0,0,0.3)\",\"rgba(255,0,0,0.3)\",\"rgba(0,255,0,0.3)\",\"rgba(0,255,0,0.3)\",\"rgba(128,128,128,0.3)\",\"rgba(255,0,0,0.3)\",\"rgba(0,255,0,0.3)\",\"rgba(255,0,0,0.3)\",\"rgba(255,0,0,0.3)\",\"rgba(0,255,0,0.3)\",\"rgba(128,128,128,0.3)\",\"rgba(128,128,128,0.3)\",\"rgba(128,128,128,0.3)\",\"rgba(255,0,0,0.3)\",\"rgba(0,255,0,0.3)\",\"rgba(0,255,0,0.3)\",\"rgba(255,0,0,0.3)\",\"rgba(255,0,0,0.3)\",\"rgba(128,128,128,0.3)\",\"rgba(128,128,128,0.3)\",\"rgba(255,0,0,0.3)\",\"rgba(255,0,0,0.3)\",\"rgba(0,255,0,0.3)\",\"rgba(0,255,0,0.3)\",\"rgba(255,0,0,0.3)\",\"rgba(128,128,128,0.3)\",\"rgba(128,128,128,0.3)\",\"rgba(128,128,128,0.3)\",\"rgba(128,128,128,0.3)\",\"rgba(128,128,128,0.3)\",\"rgba(128,128,128,0.3)\",\"rgba(128,128,128,0.3)\",\"rgba(128,128,128,0.3)\",\"rgba(128,128,128,0.3)\",\"rgba(128,128,128,0.3)\",\"rgba(128,128,128,0.3)\",\"rgba(255,0,0,0.3)\",\"rgba(0,255,0,0.3)\",\"rgba(128,128,128,0.3)\",\"rgba(255,0,0,0.3)\",\"rgba(128,128,128,0.3)\",\"rgba(0,255,0,0.3)\",\"rgba(0,255,0,0.3)\",\"rgba(0,255,0,0.3)\",\"rgba(0,255,0,0.3)\",\"rgba(0,255,0,0.3)\",\"rgba(255,0,0,0.3)\",\"rgba(0,255,0,0.3)\",\"rgba(255,0,0,0.3)\",\"rgba(128,128,128,0.3)\",\"rgba(128,128,128,0.3)\",\"rgba(255,0,0,0.3)\",\"rgba(255,0,0,0.3)\",\"rgba(255,0,0,0.3)\",\"rgba(0,255,0,0.3)\",\"rgba(0,255,0,0.3)\",\"rgba(255,0,0,0.3)\",\"rgba(128,128,128,0.3)\",\"rgba(128,128,128,0.3)\",\"rgba(255,0,0,0.3)\",\"rgba(255,0,0,0.3)\",\"rgba(128,128,128,0.3)\",\"rgba(128,128,128,0.3)\",\"rgba(0,255,0,0.3)\",\"rgba(0,255,0,0.3)\",\"rgba(0,255,0,0.3)\",\"rgba(0,255,0,0.3)\",\"rgba(0,255,0,0.3)\",\"rgba(255,0,0,0.3)\",\"rgba(128,128,128,0.3)\",\"rgba(255,0,0,0.3)\",\"rgba(0,255,0,0.3)\",\"rgba(255,0,0,0.3)\",\"rgba(0,255,0,0.3)\",\"rgba(128,128,128,0.3)\",\"rgba(128,128,128,0.3)\",\"rgba(128,128,128,0.3)\",\"rgba(0,255,0,0.3)\",\"rgba(128,128,128,0.3)\",\"rgba(255,0,0,0.3)\",\"rgba(0,255,0,0.3)\",\"rgba(128,128,128,0.3)\",\"rgba(128,128,128,0.3)\",\"rgba(255,0,0,0.3)\",\"rgba(255,0,0,0.3)\",\"rgba(0,255,0,0.3)\",\"rgba(0,255,0,0.3)\",\"rgba(0,255,0,0.3)\",\"rgba(128,128,128,0.3)\",\"rgba(255,0,0,0.3)\",\"rgba(255,0,0,0.3)\",\"rgba(255,0,0,0.3)\",\"rgba(128,128,128,0.3)\",\"rgba(128,128,128,0.3)\",\"rgba(128,128,128,0.3)\",\"rgba(128,128,128,0.3)\",\"rgba(255,0,0,0.3)\",\"rgba(128,128,128,0.3)\",\"rgba(128,128,128,0.3)\",\"rgba(255,0,0,0.3)\",\"rgba(255,0,0,0.3)\",\"rgba(0,255,0,0.3)\",\"rgba(255,0,0,0.3)\",\"rgba(255,0,0,0.3)\",\"rgba(255,0,0,0.3)\",\"rgba(0,255,0,0.3)\",\"rgba(255,0,0,0.3)\",\"rgba(0,255,0,0.3)\",\"rgba(128,128,128,0.3)\",\"rgba(128,128,128,0.3)\",\"rgba(128,128,128,0.3)\",\"rgba(0,255,0,0.3)\",\"rgba(0,255,0,0.3)\",\"rgba(255,0,0,0.3)\",\"rgba(255,0,0,0.3)\",\"rgba(255,0,0,0.3)\",\"rgba(0,255,0,0.3)\",\"rgba(255,0,0,0.3)\",\"rgba(255,0,0,0.3)\",\"rgba(128,128,128,0.3)\",\"rgba(255,0,0,0.3)\",\"rgba(255,0,0,0.3)\",\"rgba(0,255,0,0.3)\",\"rgba(0,255,0,0.3)\",\"rgba(128,128,128,0.3)\",\"rgba(128,128,128,0.3)\",\"rgba(128,128,128,0.3)\",\"rgba(128,128,128,0.3)\",\"rgba(128,128,128,0.3)\",\"rgba(128,128,128,0.3)\",\"rgba(128,128,128,0.3)\",\"rgba(128,128,128,0.3)\",\"rgba(0,255,0,0.3)\",\"rgba(255,0,0,0.3)\",\"rgba(255,0,0,0.3)\",\"rgba(0,255,0,0.3)\",\"rgba(0,255,0,0.3)\",\"rgba(255,0,0,0.3)\",\"rgba(255,0,0,0.3)\",\"rgba(0,255,0,0.3)\",\"rgba(255,0,0,0.3)\",\"rgba(128,128,128,0.3)\",\"rgba(0,255,0,0.3)\",\"rgba(255,0,0,0.3)\",\"rgba(255,0,0,0.3)\",\"rgba(255,0,0,0.3)\",\"rgba(128,128,128,0.3)\",\"rgba(128,128,128,0.3)\",\"rgba(128,128,128,0.3)\",\"rgba(255,0,0,0.3)\",\"rgba(255,0,0,0.3)\",\"rgba(128,128,128,0.3)\",\"rgba(0,255,0,0.3)\",\"rgba(0,255,0,0.3)\",\"rgba(0,255,0,0.3)\",\"rgba(255,0,0,0.3)\",\"rgba(255,0,0,0.3)\",\"rgba(128,128,128,0.3)\",\"rgba(0,255,0,0.3)\",\"rgba(0,255,0,0.3)\",\"rgba(255,0,0,0.3)\",\"rgba(128,128,128,0.3)\",\"rgba(255,0,0,0.3)\",\"rgba(128,128,128,0.3)\",\"rgba(128,128,128,0.3)\",\"rgba(255,0,0,0.3)\",\"rgba(255,0,0,0.3)\",\"rgba(255,0,0,0.3)\",\"rgba(0,255,0,0.3)\",\"rgba(0,255,0,0.3)\",\"rgba(255,0,0,0.3)\",\"rgba(255,0,0,0.3)\",\"rgba(255,0,0,0.3)\",\"rgba(0,255,0,0.3)\",\"rgba(0,255,0,0.3)\",\"rgba(0,255,0,0.3)\",\"rgba(255,0,0,0.3)\",\"rgba(128,128,128,0.3)\",\"rgba(128,128,128,0.3)\",\"rgba(128,128,128,0.3)\",\"rgba(128,128,128,0.3)\",\"rgba(0,255,0,0.3)\",\"rgba(128,128,128,0.3)\",\"rgba(255,0,0,0.3)\",\"rgba(0,255,0,0.3)\",\"rgba(255,0,0,0.3)\",\"rgba(255,0,0,0.3)\",\"rgba(128,128,128,0.3)\",\"rgba(255,0,0,0.3)\",\"rgba(0,255,0,0.3)\",\"rgba(128,128,128,0.3)\",\"rgba(0,255,0,0.3)\",\"rgba(255,0,0,0.3)\",\"rgba(0,255,0,0.3)\",\"rgba(255,0,0,0.3)\",\"rgba(0,255,0,0.3)\",\"rgba(128,128,128,0.3)\",\"rgba(0,255,0,0.3)\",\"rgba(255,0,0,0.3)\",\"rgba(255,0,0,0.3)\",\"rgba(128,128,128,0.3)\",\"rgba(128,128,128,0.3)\",\"rgba(128,128,128,0.3)\",\"rgba(255,0,0,0.3)\",\"rgba(128,128,128,0.3)\",\"rgba(0,255,0,0.3)\",\"rgba(0,255,0,0.3)\",\"rgba(0,255,0,0.3)\",\"rgba(0,255,0,0.3)\",\"rgba(128,128,128,0.3)\",\"rgba(128,128,128,0.3)\",\"rgba(128,128,128,0.3)\",\"rgba(128,128,128,0.3)\",\"rgba(255,0,0,0.3)\",\"rgba(255,0,0,0.3)\",\"rgba(0,255,0,0.3)\",\"rgba(0,255,0,0.3)\",\"rgba(255,0,0,0.3)\",\"rgba(255,0,0,0.3)\",\"rgba(255,0,0,0.3)\",\"rgba(255,0,0,0.3)\",\"rgba(255,0,0,0.3)\",\"rgba(0,255,0,0.3)\",\"rgba(255,0,0,0.3)\",\"rgba(128,128,128,0.3)\",\"rgba(128,128,128,0.3)\",\"rgba(128,128,128,0.3)\",\"rgba(128,128,128,0.3)\",\"rgba(128,128,128,0.3)\",\"rgba(128,128,128,0.3)\",\"rgba(128,128,128,0.3)\",\"rgba(128,128,128,0.3)\",\"rgba(128,128,128,0.3)\",\"rgba(128,128,128,0.3)\",\"rgba(255,0,0,0.3)\",\"rgba(0,255,0,0.3)\",\"rgba(0,255,0,0.3)\",\"rgba(255,0,0,0.3)\",\"rgba(255,0,0,0.3)\",\"rgba(255,0,0,0.3)\",\"rgba(255,0,0,0.3)\",\"rgba(255,0,0,0.3)\",\"rgba(128,128,128,0.3)\",\"rgba(128,128,128,0.3)\",\"rgba(255,0,0,0.3)\",\"rgba(0,255,0,0.3)\",\"rgba(255,0,0,0.3)\",\"rgba(255,0,0,0.3)\",\"rgba(0,255,0,0.3)\",\"rgba(255,0,0,0.3)\",\"rgba(255,0,0,0.3)\",\"rgba(0,255,0,0.3)\",\"rgba(128,128,128,0.3)\",\"rgba(255,0,0,0.3)\",\"rgba(0,255,0,0.3)\",\"rgba(0,255,0,0.3)\",\"rgba(255,0,0,0.3)\",\"rgba(255,0,0,0.3)\",\"rgba(0,255,0,0.3)\",\"rgba(128,128,128,0.3)\",\"rgba(128,128,128,0.3)\",\"rgba(128,128,128,0.3)\",\"rgba(128,128,128,0.3)\",\"rgba(255,0,0,0.3)\",\"rgba(128,128,128,0.3)\",\"rgba(128,128,128,0.3)\",\"rgba(0,255,0,0.3)\",\"rgba(255,0,0,0.3)\",\"rgba(255,0,0,0.3)\",\"rgba(255,0,0,0.3)\",\"rgba(0,255,0,0.3)\",\"rgba(0,255,0,0.3)\",\"rgba(0,255,0,0.3)\",\"rgba(128,128,128,0.3)\",\"rgba(255,0,0,0.3)\",\"rgba(255,0,0,0.3)\",\"rgba(255,0,0,0.3)\",\"rgba(0,255,0,0.3)\",\"rgba(255,0,0,0.3)\",\"rgba(0,255,0,0.3)\",\"rgba(0,255,0,0.3)\",\"rgba(0,255,0,0.3)\",\"rgba(128,128,128,0.3)\",\"rgba(128,128,128,0.3)\",\"rgba(128,128,128,0.3)\",\"rgba(128,128,128,0.3)\",\"rgba(255,0,0,0.3)\",\"rgba(128,128,128,0.3)\",\"rgba(128,128,128,0.3)\",\"rgba(128,128,128,0.3)\",\"rgba(255,0,0,0.3)\",\"rgba(255,0,0,0.3)\",\"rgba(0,255,0,0.3)\",\"rgba(0,255,0,0.3)\",\"rgba(255,0,0,0.3)\",\"rgba(0,255,0,0.3)\",\"rgba(0,255,0,0.3)\",\"rgba(0,255,0,0.3)\",\"rgba(128,128,128,0.3)\",\"rgba(0,255,0,0.3)\",\"rgba(128,128,128,0.3)\",\"rgba(255,0,0,0.3)\",\"rgba(255,0,0,0.3)\",\"rgba(255,0,0,0.3)\",\"rgba(255,0,0,0.3)\",\"rgba(0,255,0,0.3)\",\"rgba(0,255,0,0.3)\",\"rgba(128,128,128,0.3)\",\"rgba(128,128,128,0.3)\",\"rgba(255,0,0,0.3)\",\"rgba(0,255,0,0.3)\",\"rgba(255,0,0,0.3)\",\"rgba(255,0,0,0.3)\",\"rgba(128,128,128,0.3)\",\"rgba(0,255,0,0.3)\",\"rgba(128,128,128,0.3)\",\"rgba(0,255,0,0.3)\",\"rgba(255,0,0,0.3)\",\"rgba(255,0,0,0.3)\",\"rgba(255,0,0,0.3)\",\"rgba(255,0,0,0.3)\",\"rgba(0,255,0,0.3)\",\"rgba(128,128,128,0.3)\",\"rgba(128,128,128,0.3)\",\"rgba(128,128,128,0.3)\",\"rgba(128,128,128,0.3)\",\"rgba(128,128,128,0.3)\",\"rgba(0,255,0,0.3)\",\"rgba(255,0,0,0.3)\",\"rgba(255,0,0,0.3)\",\"rgba(0,255,0,0.3)\",\"rgba(255,0,0,0.3)\",\"rgba(255,0,0,0.3)\",\"rgba(0,255,0,0.3)\",\"rgba(128,128,128,0.3)\",\"rgba(0,255,0,0.3)\",\"rgba(0,255,0,0.3)\",\"rgba(0,255,0,0.3)\",\"rgba(255,0,0,0.3)\",\"rgba(255,0,0,0.3)\",\"rgba(128,128,128,0.3)\",\"rgba(0,255,0,0.3)\",\"rgba(0,255,0,0.3)\",\"rgba(255,0,0,0.3)\",\"rgba(255,0,0,0.3)\",\"rgba(0,255,0,0.3)\",\"rgba(0,255,0,0.3)\",\"rgba(128,128,128,0.3)\",\"rgba(128,128,128,0.3)\",\"rgba(128,128,128,0.3)\",\"rgba(128,128,128,0.3)\",\"rgba(128,128,128,0.3)\",\"rgba(128,128,128,0.3)\",\"rgba(255,0,0,0.3)\",\"rgba(255,0,0,0.3)\",\"rgba(128,128,128,0.3)\",\"rgba(128,128,128,0.3)\",\"rgba(0,255,0,0.3)\",\"rgba(0,255,0,0.3)\",\"rgba(255,0,0,0.3)\",\"rgba(255,0,0,0.3)\",\"rgba(255,0,0,0.3)\",\"rgba(255,0,0,0.3)\",\"rgba(255,0,0,0.3)\",\"rgba(0,255,0,0.3)\",\"rgba(0,255,0,0.3)\",\"rgba(128,128,128,0.3)\",\"rgba(128,128,128,0.3)\",\"rgba(0,255,0,0.3)\",\"rgba(128,128,128,0.3)\",\"rgba(255,0,0,0.3)\",\"rgba(0,255,0,0.3)\",\"rgba(0,255,0,0.3)\",\"rgba(0,255,0,0.3)\",\"rgba(255,0,0,0.3)\",\"rgba(255,0,0,0.3)\",\"rgba(128,128,128,0.3)\",\"rgba(0,255,0,0.3)\",\"rgba(128,128,128,0.3)\",\"rgba(0,255,0,0.3)\",\"rgba(0,255,0,0.3)\",\"rgba(0,255,0,0.3)\",\"rgba(255,0,0,0.3)\",\"rgba(255,0,0,0.3)\",\"rgba(255,0,0,0.3)\",\"rgba(0,255,0,0.3)\",\"rgba(128,128,128,0.3)\",\"rgba(128,128,128,0.3)\",\"rgba(0,255,0,0.3)\",\"rgba(0,255,0,0.3)\",\"rgba(128,128,128,0.3)\",\"rgba(255,0,0,0.3)\",\"rgba(0,255,0,0.3)\",\"rgba(0,255,0,0.3)\",\"rgba(255,0,0,0.3)\",\"rgba(255,0,0,0.3)\",\"rgba(255,0,0,0.3)\",\"rgba(128,128,128,0.3)\",\"rgba(128,128,128,0.3)\",\"rgba(255,0,0,0.3)\",\"rgba(255,0,0,0.3)\",\"rgba(255,0,0,0.3)\",\"rgba(0,255,0,0.3)\",\"rgba(0,255,0,0.3)\",\"rgba(0,255,0,0.3)\",\"rgba(255,0,0,0.3)\",\"rgba(128,128,128,0.3)\",\"rgba(128,128,128,0.3)\",\"rgba(128,128,128,0.3)\",\"rgba(128,128,128,0.3)\",\"rgba(128,128,128,0.3)\",\"rgba(255,0,0,0.3)\",\"rgba(255,0,0,0.3)\",\"rgba(255,0,0,0.3)\",\"rgba(0,255,0,0.3)\",\"rgba(0,255,0,0.3)\",\"rgba(0,255,0,0.3)\",\"rgba(0,255,0,0.3)\",\"rgba(0,255,0,0.3)\",\"rgba(255,0,0,0.3)\",\"rgba(0,255,0,0.3)\",\"rgba(128,128,128,0.3)\",\"rgba(128,128,128,0.3)\",\"rgba(128,128,128,0.3)\",\"rgba(0,255,0,0.3)\",\"rgba(0,255,0,0.3)\",\"rgba(255,0,0,0.3)\",\"rgba(255,0,0,0.3)\",\"rgba(255,0,0,0.3)\",\"rgba(0,255,0,0.3)\",\"rgba(0,255,0,0.3)\",\"rgba(0,255,0,0.3)\",\"rgba(0,255,0,0.3)\",\"rgba(255,0,0,0.3)\",\"rgba(128,128,128,0.3)\",\"rgba(128,128,128,0.3)\",\"rgba(255,0,0,0.3)\",\"rgba(255,0,0,0.3)\",\"rgba(0,255,0,0.3)\",\"rgba(255,0,0,0.3)\",\"rgba(255,0,0,0.3)\",\"rgba(255,0,0,0.3)\",\"rgba(255,0,0,0.3)\",\"rgba(128,128,128,0.3)\",\"rgba(128,128,128,0.3)\",\"rgba(128,128,128,0.3)\",\"rgba(128,128,128,0.3)\",\"rgba(128,128,128,0.3)\",\"rgba(128,128,128,0.3)\",\"rgba(128,128,128,0.3)\",\"rgba(128,128,128,0.3)\",\"rgba(128,128,128,0.3)\",\"rgba(128,128,128,0.3)\",\"rgba(128,128,128,0.3)\",\"rgba(128,128,128,0.3)\",\"rgba(128,128,128,0.3)\",\"rgba(255,0,0,0.3)\",\"rgba(0,255,0,0.3)\",\"rgba(128,128,128,0.3)\",\"rgba(0,255,0,0.3)\",\"rgba(128,128,128,0.3)\",\"rgba(128,128,128,0.3)\",\"rgba(0,255,0,0.3)\",\"rgba(0,255,0,0.3)\",\"rgba(0,255,0,0.3)\",\"rgba(255,0,0,0.3)\",\"rgba(0,255,0,0.3)\",\"rgba(0,255,0,0.3)\",\"rgba(0,255,0,0.3)\",\"rgba(255,0,0,0.3)\",\"rgba(0,255,0,0.3)\",\"rgba(255,0,0,0.3)\",\"rgba(128,128,128,0.3)\",\"rgba(0,255,0,0.3)\",\"rgba(0,255,0,0.3)\",\"rgba(255,0,0,0.3)\",\"rgba(255,0,0,0.3)\",\"rgba(0,255,0,0.3)\",\"rgba(0,255,0,0.3)\",\"rgba(128,128,128,0.3)\",\"rgba(128,128,128,0.3)\",\"rgba(128,128,128,0.3)\",\"rgba(128,128,128,0.3)\",\"rgba(0,255,0,0.3)\",\"rgba(0,255,0,0.3)\",\"rgba(0,255,0,0.3)\",\"rgba(0,255,0,0.3)\",\"rgba(0,255,0,0.3)\",\"rgba(255,0,0,0.3)\",\"rgba(255,0,0,0.3)\",\"rgba(128,128,128,0.3)\",\"rgba(128,128,128,0.3)\",\"rgba(255,0,0,0.3)\",\"rgba(255,0,0,0.3)\",\"rgba(0,255,0,0.3)\",\"rgba(0,255,0,0.3)\",\"rgba(0,255,0,0.3)\",\"rgba(0,255,0,0.3)\",\"rgba(128,128,128,0.3)\",\"rgba(128,128,128,0.3)\",\"rgba(128,128,128,0.3)\",\"rgba(128,128,128,0.3)\",\"rgba(128,128,128,0.3)\",\"rgba(255,0,0,0.3)\",\"rgba(0,255,0,0.3)\",\"rgba(0,255,0,0.3)\",\"rgba(0,255,0,0.3)\",\"rgba(0,255,0,0.3)\",\"rgba(128,128,128,0.3)\",\"rgba(0,255,0,0.3)\",\"rgba(0,255,0,0.3)\",\"rgba(255,0,0,0.3)\",\"rgba(128,128,128,0.3)\",\"rgba(255,0,0,0.3)\",\"rgba(255,0,0,0.3)\",\"rgba(128,128,128,0.3)\",\"rgba(0,255,0,0.3)\",\"rgba(0,255,0,0.3)\",\"rgba(255,0,0,0.3)\",\"rgba(128,128,128,0.3)\",\"rgba(128,128,128,0.3)\",\"rgba(255,0,0,0.3)\",\"rgba(255,0,0,0.3)\",\"rgba(128,128,128,0.3)\",\"rgba(128,128,128,0.3)\",\"rgba(0,255,0,0.3)\",\"rgba(255,0,0,0.3)\",\"rgba(255,0,0,0.3)\",\"rgba(255,0,0,0.3)\",\"rgba(255,0,0,0.3)\",\"rgba(0,255,0,0.3)\",\"rgba(128,128,128,0.3)\",\"rgba(255,0,0,0.3)\",\"rgba(0,255,0,0.3)\",\"rgba(128,128,128,0.3)\",\"rgba(0,255,0,0.3)\",\"rgba(255,0,0,0.3)\",\"rgba(0,255,0,0.3)\",\"rgba(0,255,0,0.3)\",\"rgba(255,0,0,0.3)\",\"rgba(128,128,128,0.3)\",\"rgba(128,128,128,0.3)\",\"rgba(128,128,128,0.3)\",\"rgba(128,128,128,0.3)\",\"rgba(128,128,128,0.3)\",\"rgba(128,128,128,0.3)\",\"rgba(128,128,128,0.3)\",\"rgba(128,128,128,0.3)\",\"rgba(0,255,0,0.3)\",\"rgba(0,255,0,0.3)\",\"rgba(128,128,128,0.3)\",\"rgba(255,0,0,0.3)\",\"rgba(255,0,0,0.3)\",\"rgba(255,0,0,0.3)\",\"rgba(255,0,0,0.3)\",\"rgba(255,0,0,0.3)\",\"rgba(255,0,0,0.3)\",\"rgba(0,255,0,0.3)\",\"rgba(0,255,0,0.3)\",\"rgba(255,0,0,0.3)\",\"rgba(128,128,128,0.3)\",\"rgba(255,0,0,0.3)\",\"rgba(255,0,0,0.3)\",\"rgba(0,255,0,0.3)\",\"rgba(0,255,0,0.3)\",\"rgba(128,128,128,0.3)\",\"rgba(255,0,0,0.3)\",\"rgba(255,0,0,0.3)\",\"rgba(128,128,128,0.3)\",\"rgba(255,0,0,0.3)\",\"rgba(255,0,0,0.3)\",\"rgba(255,0,0,0.3)\",\"rgba(0,255,0,0.3)\",\"rgba(128,128,128,0.3)\",\"rgba(128,128,128,0.3)\",\"rgba(0,255,0,0.3)\",\"rgba(0,255,0,0.3)\",\"rgba(128,128,128,0.3)\",\"rgba(0,255,0,0.3)\",\"rgba(255,0,0,0.3)\",\"rgba(255,0,0,0.3)\",\"rgba(255,0,0,0.3)\",\"rgba(255,0,0,0.3)\",\"rgba(255,0,0,0.3)\",\"rgba(128,128,128,0.3)\",\"rgba(128,128,128,0.3)\",\"rgba(0,255,0,0.3)\",\"rgba(128,128,128,0.3)\",\"rgba(128,128,128,0.3)\",\"rgba(128,128,128,0.3)\",\"rgba(0,255,0,0.3)\",\"rgba(0,255,0,0.3)\",\"rgba(255,0,0,0.3)\",\"rgba(0,255,0,0.3)\",\"rgba(255,0,0,0.3)\",\"rgba(255,0,0,0.3)\",\"rgba(0,255,0,0.3)\",\"rgba(255,0,0,0.3)\",\"rgba(255,0,0,0.3)\",\"rgba(128,128,128,0.3)\",\"rgba(255,0,0,0.3)\",\"rgba(255,0,0,0.3)\",\"rgba(0,255,0,0.3)\",\"rgba(0,255,0,0.3)\",\"rgba(128,128,128,0.3)\",\"rgba(128,128,128,0.3)\",\"rgba(255,0,0,0.3)\",\"rgba(128,128,128,0.3)\",\"rgba(0,255,0,0.3)\",\"rgba(0,255,0,0.3)\",\"rgba(0,255,0,0.3)\",\"rgba(255,0,0,0.3)\",\"rgba(128,128,128,0.3)\",\"rgba(128,128,128,0.3)\",\"rgba(0,255,0,0.3)\",\"rgba(0,255,0,0.3)\",\"rgba(0,255,0,0.3)\",\"rgba(255,0,0,0.3)\",\"rgba(0,255,0,0.3)\",\"rgba(255,0,0,0.3)\",\"rgba(128,128,128,0.3)\",\"rgba(128,128,128,0.3)\",\"rgba(128,128,128,0.3)\",\"rgba(128,128,128,0.3)\",\"rgba(128,128,128,0.3)\",\"rgba(0,255,0,0.3)\",\"rgba(128,128,128,0.3)\",\"rgba(255,0,0,0.3)\",\"rgba(0,255,0,0.3)\",\"rgba(128,128,128,0.3)\",\"rgba(0,255,0,0.3)\",\"rgba(0,255,0,0.3)\",\"rgba(255,0,0,0.3)\",\"rgba(0,255,0,0.3)\",\"rgba(0,255,0,0.3)\",\"rgba(128,128,128,0.3)\",\"rgba(0,255,0,0.3)\",\"rgba(255,0,0,0.3)\",\"rgba(128,128,128,0.3)\",\"rgba(128,128,128,0.3)\",\"rgba(128,128,128,0.3)\",\"rgba(128,128,128,0.3)\",\"rgba(0,255,0,0.3)\",\"rgba(128,128,128,0.3)\",\"rgba(0,255,0,0.3)\",\"rgba(0,255,0,0.3)\",\"rgba(128,128,128,0.3)\",\"rgba(255,0,0,0.3)\",\"rgba(0,255,0,0.3)\",\"rgba(0,255,0,0.3)\",\"rgba(255,0,0,0.3)\",\"rgba(255,0,0,0.3)\",\"rgba(255,0,0,0.3)\",\"rgba(128,128,128,0.3)\",\"rgba(0,255,0,0.3)\",\"rgba(128,128,128,0.3)\",\"rgba(255,0,0,0.3)\",\"rgba(255,0,0,0.3)\",\"rgba(255,0,0,0.3)\",\"rgba(0,255,0,0.3)\",\"rgba(128,128,128,0.3)\",\"rgba(128,128,128,0.3)\",\"rgba(128,128,128,0.3)\",\"rgba(128,128,128,0.3)\",\"rgba(128,128,128,0.3)\",\"rgba(128,128,128,0.3)\",\"rgba(128,128,128,0.3)\",\"rgba(128,128,128,0.3)\",\"rgba(128,128,128,0.3)\",\"rgba(0,255,0,0.3)\",\"rgba(128,128,128,0.3)\",\"rgba(0,255,0,0.3)\",\"rgba(0,255,0,0.3)\",\"rgba(255,0,0,0.3)\",\"rgba(255,0,0,0.3)\",\"rgba(0,255,0,0.3)\",\"rgba(0,255,0,0.3)\",\"rgba(0,255,0,0.3)\",\"rgba(255,0,0,0.3)\",\"rgba(0,255,0,0.3)\",\"rgba(255,0,0,0.3)\",\"rgba(128,128,128,0.3)\",\"rgba(0,255,0,0.3)\",\"rgba(0,255,0,0.3)\",\"rgba(255,0,0,0.3)\",\"rgba(255,0,0,0.3)\",\"rgba(0,255,0,0.3)\",\"rgba(0,255,0,0.3)\",\"rgba(255,0,0,0.3)\",\"rgba(128,128,128,0.3)\",\"rgba(0,255,0,0.3)\",\"rgba(255,0,0,0.3)\",\"rgba(255,0,0,0.3)\",\"rgba(128,128,128,0.3)\",\"rgba(128,128,128,0.3)\",\"rgba(255,0,0,0.3)\",\"rgba(128,128,128,0.3)\",\"rgba(0,255,0,0.3)\",\"rgba(255,0,0,0.3)\",\"rgba(0,255,0,0.3)\",\"rgba(255,0,0,0.3)\",\"rgba(255,0,0,0.3)\",\"rgba(128,128,128,0.3)\",\"rgba(0,255,0,0.3)\",\"rgba(255,0,0,0.3)\",\"rgba(255,0,0,0.3)\",\"rgba(255,0,0,0.3)\",\"rgba(255,0,0,0.3)\",\"rgba(128,128,128,0.3)\",\"rgba(128,128,128,0.3)\",\"rgba(128,128,128,0.3)\",\"rgba(128,128,128,0.3)\",\"rgba(255,0,0,0.3)\",\"rgba(128,128,128,0.3)\",\"rgba(128,128,128,0.3)\",\"rgba(0,255,0,0.3)\",\"rgba(0,255,0,0.3)\",\"rgba(255,0,0,0.3)\",\"rgba(255,0,0,0.3)\",\"rgba(0,255,0,0.3)\",\"rgba(0,255,0,0.3)\",\"rgba(0,255,0,0.3)\",\"rgba(0,255,0,0.3)\",\"rgba(128,128,128,0.3)\",\"rgba(255,0,0,0.3)\",\"rgba(0,255,0,0.3)\",\"rgba(0,255,0,0.3)\",\"rgba(0,255,0,0.3)\",\"rgba(0,255,0,0.3)\",\"rgba(255,0,0,0.3)\",\"rgba(255,0,0,0.3)\",\"rgba(255,0,0,0.3)\",\"rgba(128,128,128,0.3)\",\"rgba(0,255,0,0.3)\",\"rgba(0,255,0,0.3)\",\"rgba(0,255,0,0.3)\",\"rgba(255,0,0,0.3)\",\"rgba(255,0,0,0.3)\",\"rgba(255,0,0,0.3)\",\"rgba(0,255,0,0.3)\",\"rgba(128,128,128,0.3)\",\"rgba(128,128,128,0.3)\",\"rgba(128,128,128,0.3)\",\"rgba(0,255,0,0.3)\",\"rgba(255,0,0,0.3)\",\"rgba(128,128,128,0.3)\",\"rgba(0,255,0,0.3)\",\"rgba(0,255,0,0.3)\",\"rgba(255,0,0,0.3)\",\"rgba(255,0,0,0.3)\",\"rgba(128,128,128,0.3)\",\"rgba(255,0,0,0.3)\",\"rgba(255,0,0,0.3)\",\"rgba(0,255,0,0.3)\",\"rgba(0,255,0,0.3)\",\"rgba(255,0,0,0.3)\",\"rgba(128,128,128,0.3)\",\"rgba(0,255,0,0.3)\",\"rgba(255,0,0,0.3)\",\"rgba(255,0,0,0.3)\",\"rgba(0,255,0,0.3)\",\"rgba(0,255,0,0.3)\",\"rgba(128,128,128,0.3)\",\"rgba(128,128,128,0.3)\",\"rgba(128,128,128,0.3)\",\"rgba(128,128,128,0.3)\",\"rgba(128,128,128,0.3)\",\"rgba(128,128,128,0.3)\",\"rgba(128,128,128,0.3)\",\"rgba(128,128,128,0.3)\",\"rgba(128,128,128,0.3)\",\"rgba(255,0,0,0.3)\",\"rgba(128,128,128,0.3)\",\"rgba(255,0,0,0.3)\",\"rgba(255,0,0,0.3)\",\"rgba(0,255,0,0.3)\",\"rgba(0,255,0,0.3)\",\"rgba(128,128,128,0.3)\",\"rgba(0,255,0,0.3)\",\"rgba(255,0,0,0.3)\",\"rgba(255,0,0,0.3)\",\"rgba(0,255,0,0.3)\",\"rgba(0,255,0,0.3)\",\"rgba(255,0,0,0.3)\",\"rgba(128,128,128,0.3)\",\"rgba(128,128,128,0.3)\",\"rgba(0,255,0,0.3)\",\"rgba(255,0,0,0.3)\",\"rgba(255,0,0,0.3)\",\"rgba(0,255,0,0.3)\",\"rgba(0,255,0,0.3)\",\"rgba(255,0,0,0.3)\",\"rgba(255,0,0,0.3)\",\"rgba(128,128,128,0.3)\",\"rgba(128,128,128,0.3)\",\"rgba(128,128,128,0.3)\",\"rgba(255,0,0,0.3)\",\"rgba(255,0,0,0.3)\",\"rgba(128,128,128,0.3)\",\"rgba(0,255,0,0.3)\",\"rgba(255,0,0,0.3)\",\"rgba(255,0,0,0.3)\",\"rgba(128,128,128,0.3)\",\"rgba(255,0,0,0.3)\",\"rgba(0,255,0,0.3)\",\"rgba(0,255,0,0.3)\",\"rgba(128,128,128,0.3)\",\"rgba(128,128,128,0.3)\",\"rgba(0,255,0,0.3)\",\"rgba(255,0,0,0.3)\",\"rgba(0,255,0,0.3)\",\"rgba(255,0,0,0.3)\",\"rgba(0,255,0,0.3)\",\"rgba(128,128,128,0.3)\",\"rgba(128,128,128,0.3)\",\"rgba(128,128,128,0.3)\",\"rgba(0,255,0,0.3)\",\"rgba(255,0,0,0.3)\",\"rgba(0,255,0,0.3)\",\"rgba(0,255,0,0.3)\",\"rgba(128,128,128,0.3)\",\"rgba(128,128,128,0.3)\",\"rgba(0,255,0,0.3)\",\"rgba(128,128,128,0.3)\",\"rgba(255,0,0,0.3)\",\"rgba(255,0,0,0.3)\",\"rgba(0,255,0,0.3)\",\"rgba(0,255,0,0.3)\",\"rgba(255,0,0,0.3)\",\"rgba(0,255,0,0.3)\",\"rgba(255,0,0,0.3)\",\"rgba(255,0,0,0.3)\",\"rgba(255,0,0,0.3)\",\"rgba(128,128,128,0.3)\",\"rgba(128,128,128,0.3)\",\"rgba(128,128,128,0.3)\",\"rgba(128,128,128,0.3)\",\"rgba(128,128,128,0.3)\",\"rgba(128,128,128,0.3)\",\"rgba(255,0,0,0.3)\",\"rgba(128,128,128,0.3)\",\"rgba(0,255,0,0.3)\",\"rgba(0,255,0,0.3)\",\"rgba(255,0,0,0.3)\",\"rgba(255,0,0,0.3)\",\"rgba(128,128,128,0.3)\",\"rgba(0,255,0,0.3)\",\"rgba(0,255,0,0.3)\",\"rgba(0,255,0,0.3)\",\"rgba(255,0,0,0.3)\",\"rgba(128,128,128,0.3)\",\"rgba(128,128,128,0.3)\",\"rgba(128,128,128,0.3)\",\"rgba(255,0,0,0.3)\",\"rgba(128,128,128,0.3)\",\"rgba(128,128,128,0.3)\",\"rgba(255,0,0,0.3)\",\"rgba(255,0,0,0.3)\",\"rgba(255,0,0,0.3)\",\"rgba(0,255,0,0.3)\",\"rgba(0,255,0,0.3)\",\"rgba(255,0,0,0.3)\",\"rgba(255,0,0,0.3)\",\"rgba(0,255,0,0.3)\",\"rgba(0,255,0,0.3)\",\"rgba(0,255,0,0.3)\",\"rgba(128,128,128,0.3)\",\"rgba(128,128,128,0.3)\",\"rgba(0,255,0,0.3)\",\"rgba(255,0,0,0.3)\",\"rgba(0,255,0,0.3)\",\"rgba(0,255,0,0.3)\",\"rgba(0,255,0,0.3)\",\"rgba(255,0,0,0.3)\",\"rgba(128,128,128,0.3)\",\"rgba(128,128,128,0.3)\",\"rgba(128,128,128,0.3)\",\"rgba(128,128,128,0.3)\",\"rgba(128,128,128,0.3)\",\"rgba(0,255,0,0.3)\",\"rgba(128,128,128,0.3)\",\"rgba(255,0,0,0.3)\",\"rgba(255,0,0,0.3)\",\"rgba(255,0,0,0.3)\",\"rgba(0,255,0,0.3)\",\"rgba(0,255,0,0.3)\",\"rgba(255,0,0,0.3)\",\"rgba(255,0,0,0.3)\",\"rgba(128,128,128,0.3)\",\"rgba(128,128,128,0.3)\",\"rgba(128,128,128,0.3)\",\"rgba(0,255,0,0.3)\",\"rgba(0,255,0,0.3)\",\"rgba(255,0,0,0.3)\",\"rgba(0,255,0,0.3)\",\"rgba(255,0,0,0.3)\",\"rgba(255,0,0,0.3)\",\"rgba(0,255,0,0.3)\",\"rgba(0,255,0,0.3)\",\"rgba(0,255,0,0.3)\",\"rgba(255,0,0,0.3)\",\"rgba(255,0,0,0.3)\",\"rgba(128,128,128,0.3)\",\"rgba(0,255,0,0.3)\",\"rgba(0,255,0,0.3)\",\"rgba(255,0,0,0.3)\",\"rgba(255,0,0,0.3)\",\"rgba(128,128,128,0.3)\",\"rgba(0,255,0,0.3)\",\"rgba(128,128,128,0.3)\",\"rgba(0,255,0,0.3)\",\"rgba(0,255,0,0.3)\",\"rgba(255,0,0,0.3)\",\"rgba(255,0,0,0.3)\",\"rgba(255,0,0,0.3)\",\"rgba(255,0,0,0.3)\",\"rgba(255,0,0,0.3)\",\"rgba(0,255,0,0.3)\",\"rgba(128,128,128,0.3)\",\"rgba(128,128,128,0.3)\",\"rgba(128,128,128,0.3)\",\"rgba(128,128,128,0.3)\",\"rgba(0,255,0,0.3)\",\"rgba(128,128,128,0.3)\",\"rgba(255,0,0,0.3)\",\"rgba(255,0,0,0.3)\",\"rgba(255,0,0,0.3)\",\"rgba(255,0,0,0.3)\",\"rgba(128,128,128,0.3)\",\"rgba(255,0,0,0.3)\",\"rgba(255,0,0,0.3)\",\"rgba(255,0,0,0.3)\",\"rgba(0,255,0,0.3)\",\"rgba(0,255,0,0.3)\",\"rgba(255,0,0,0.3)\",\"rgba(0,255,0,0.3)\",\"rgba(128,128,128,0.3)\",\"rgba(0,255,0,0.3)\",\"rgba(0,255,0,0.3)\",\"rgba(255,0,0,0.3)\",\"rgba(255,0,0,0.3)\"],\"source\":[0,0,1,1,1,1,3,3,3,7,7,7,10,10,10,13,13,13,16,16,16,18,18,18,18,14,14,14,20,20,20,21,21,21,15,15,22,22,11,11,11,23,23,26,26,24,24,27,27,27,28,28,28,28,25,25,25,29,29,29,12,12,12,12,30,30,31,31,31,32,32,32,34,34,34,35,35,33,33,33,8,8,36,36,36,38,38,38,41,41,41,42,42,39,39,39,39,43,43,43,44,44,44,44,40,40,45,45,45,45,37,37,37,37,46,46,50,50,47,47,51,51,51,52,52,48,48,48,48,53,53,53,53,49,49,54,54,54,9,9,9,9,55,55,59,59,59,61,61,60,60,60,62,62,56,56,63,63,63,63,65,65,66,66,66,66,67,67,67,64,64,64,57,57,68,68,69,69,69,70,70,71,71,58,58,72,72,72,74,74,74,75,75,75,75,76,76,76,73,73,73,77,77,77,78,78,4,4,4,79,79,79,79,82,82,82,86,86,86,89,89,89,90,90,91,91,91,91,87,87,92,92,92,92,93,93,88,88,88,94,94,94,94,83,83,83,95,95,95,98,98,99,99,99,96,96,96,100,100,100,97,97,97,101,101,102,102,102,84,84,84,84,103,103,103,103,107,107,108,108,108,108,104,104,109,109,109,105,105,105,105,110,110,110,111,111,111,111,112,112,106,106,106,113,113,114,114,114,85,85,115,115,116,116,117,117,117,117,118,118,118,118,80,80,80,119,119,119,119,122,122,122,126,126,126,123,123,123,123,124,124,124,127,127,127,128,128,128,128,125,125,129,129,129,129,120,120,120,120,130,130,134,134,131,131,131,135,135,135,136,136,137,137,137,132,132,138,138,138,138,139,139,133,133,133,133,140,140,141,141,141,141,142,142,142,143,143,121,121,121,121,144,144,144,144,148,148,148,149,149,149,145,145,145,150,150,151,151,152,152,152,152,146,146,146,147,147,153,153,153,81,81,81,154,154,154,154,157,157,157,157,161,161,161,162,162,162,163,163,163,158,158,158,158,164,164,164,164,159,159,159,159,165,165,165,160,160,160,155,155,155,155,166,166,166,170,170,171,171,171,172,172,172,172,167,167,167,173,173,173,173,168,168,168,174,174,175,175,175,175,176,176,169,169,169,177,177,177,178,178,178,156,156,179,179,181,181,181,181,180,180,180,180,5,5,5,182,182,185,185,187,187,189,189,189,188,188,190,190,190,190,186,186,186,186,191,191,195,195,192,192,196,196,193,193,193,197,197,197,197,194,194,194,194,183,183,183,183,198,198,198,198,202,202,202,202,206,206,206,207,207,207,207,203,203,203,203,208,208,208,208,209,209,209,209,204,204,204,204,210,210,211,211,212,212,212,205,205,205,205,213,213,214,214,215,215,215,199,199,199,199,216,216,220,220,220,220,217,217,218,218,218,221,221,221,222,222,222,222,223,223,219,219,219,224,224,224,224,200,200,200,200,225,225,225,225,229,229,229,230,230,231,231,231,226,226,226,226,232,232,233,233,227,227,227,234,234,234,234,235,235,235,228,228,228,228,236,236,237,237,238,238,238,201,201,201,201,239,239,239,243,243,244,244,244,245,245,240,240,240,240,246,246,246,246,247,247,241,241,241,241,248,248,248,249,249,249,249,250,250,250,242,242,251,251,251,251,252,252,252,184,184,253,253,253,253,255,255,255,259,259,259,256,256,256,257,257,257,260,260,260,260,258,258,258,261,261,261,254,254,262,262,264,264,264,264,263,263,265,265,266,266,266,6,6,6,6,267,267,267,267,271,271,271,275,275,276,276,276,278,278,278,278,279,279,277,277,277,277,280,280,280,281,281,281,272,272,282,282,282,282,284,284,284,285,285,285,283,283,283,286,286,273,273,273,287,287,290,290,288,288,291,291,291,292,292,289,289,293,293,274,274,274,294,294,294,294,297,297,297,298,298,298,298,299,299,295,295,295,300,300,300,301,301,302,302,296,296,303,303,303,303,268,268,268,268,304,304,304,308,308,308,311,311,311,309,309,309,310,310,312,312,312,312,305,305,305,313,313,313,316,316,316,314,314,314,314,317,317,315,315,315,315,318,318,318,318,319,319,319,319,320,320,320,320,306,306,306,321,321,321,324,324,325,325,322,322,322,322,326,326,327,327,323,323,328,328,328,307,307,329,329,329,331,331,332,332,330,330,330,330,333,333,334,334,334,334,335,335,335,336,336,269,269,269,269,337,337,337,337,341,341,341,345,345,345,346,346,346,346,342,342,342,342,347,347,347,348,348,348,343,343,343,349,349,344,344,338,338,338,338,350,350,350,354,354,354,354,355,355,355,351,351,356,356,356,352,352,353,353,339,339,339,339,357,357,357,357,361,361,361,361,362,362,363,363,358,358,358,364,364,365,365,359,359,359,359,366,366,367,367,360,360,360,368,368,368,369,369,369,340,340,340,370,370,370,373,373,373,374,374,374,371,371,375,375,375,372,372,372,372,376,376,376,376,270,270,270,270,377,377,381,381,381,381,383,383,383,383,384,384,382,382,382,378,378,385,385,385,387,387,387,387,386,386,386,386,388,388,388,388,389,389,389,379,379,390,390,390,390,392,392,392,391,391,391,391,393,393,393,394,394,394,394,380,380,380,395,395,395,398,398,398,398,399,399,399,399,396,396,396,396,400,400,400,401,401,401,402,402,402,402,397,397,403,403,403,404,404,404,404,2,2,405,405,405,405,407,407,407,407,411,411,411,415,415,416,416,416,416,418,418,418,418,419,419,419,419,420,420,417,417,417,421,421,421,421,412,412,422,422,424,424,424,425,425,425,425,423,423,423,426,426,427,427,427,413,413,413,413,428,428,432,432,432,429,429,433,433,430,430,434,434,431,431,435,435,414,414,436,436,436,436,438,438,439,439,439,439,437,437,437,437,440,440,441,441,441,408,408,408,408,442,442,442,442,446,446,447,447,447,447,450,450,450,450,448,448,448,451,451,451,451,449,449,449,449,452,452,453,453,443,443,454,454,454,456,456,456,456,455,455,444,444,457,457,457,457,459,459,459,460,460,461,461,458,458,458,462,462,462,462,445,445,463,463,465,465,465,464,464,464,466,466,466,466,467,467,409,409,468,468,468,470,470,473,473,471,471,471,474,474,472,472,475,475,469,469,469,469,476,476,480,480,477,477,481,481,481,478,478,479,479,479,482,482,483,483,410,410,410,410,484,484,484,484,488,488,488,492,492,492,493,493,493,493,489,489,490,490,490,490,494,494,494,494,491,491,495,495,495,485,485,496,496,496,498,498,497,497,497,497,499,499,499,499,486,486,486,486,500,500,500,504,504,504,504,505,505,501,501,501,506,506,506,506,502,502,502,502,503,503,503,503,507,507,507,507,487,487,487,508,508,508,511,511,511,511,509,509,509,512,512,512,510,510,513,513,513,513,406,406,514,514,514,516,516,516,516,519,519,523,523,523,523,520,520,524,524,524,521,521,522,522,522,525,525,525,525,526,526,517,517,517,527,527,527,530,530,528,528,531,531,531,529,529,529,532,532,533,533,518,518,534,534,536,536,536,535,535,535,535,537,537,537,538,538,539,539,539,539,515,515,515,515,540,540,544,544,546,546,546,545,545,545,547,547,547,541,541,548,548,548,548,550,550,550,550,551,551,552,552,549,549,549,549,553,553,554,554,554,554,542,542,542,542,555,555,555,555,559,559,559,559,560,560,556,556,556,561,561,561,562,562,562,563,563,563,563,557,557,564,564,564,564,558,558,558,565,565,565,565,566,566,566,566,543,543,543,543,567,567,567,567,571,571,568,568,568,568,572,572,572,569,569,573,573,570,570],\"target\":[1,2,3,4,5,6,7,8,9,10,11,12,13,14,15,16,17,18,17,17,17,19,19,17,17,20,19,21,17,17,17,19,19,19,22,19,17,19,23,24,25,26,19,19,17,27,28,19,19,17,19,19,19,17,17,17,29,19,19,19,30,31,32,33,19,19,17,19,19,34,19,35,17,17,19,17,17,17,17,17,36,37,38,39,40,41,42,19,19,19,17,17,17,17,19,43,44,19,19,17,19,19,19,17,45,19,17,17,19,19,46,47,48,49,50,19,17,17,51,52,19,19,17,19,17,19,19,17,53,19,19,19,17,17,54,17,17,19,55,56,57,58,59,60,19,19,61,19,19,62,17,19,19,17,63,64,65,66,19,67,17,19,19,19,19,19,19,19,19,17,17,17,68,69,17,19,70,71,19,17,19,19,19,72,73,74,75,76,19,19,17,17,17,17,19,19,17,17,17,77,78,19,19,19,17,17,79,80,81,82,83,84,85,86,87,88,89,90,91,17,17,19,17,19,19,19,19,17,92,93,17,17,17,19,17,19,17,19,94,17,17,17,19,95,96,97,98,99,19,17,19,19,17,17,19,19,100,17,17,19,101,102,17,19,19,19,19,17,103,104,105,106,107,17,108,19,19,19,17,17,17,19,17,109,19,19,17,110,111,17,112,17,19,19,19,17,17,17,19,17,113,114,17,17,19,17,17,19,115,116,19,19,117,118,17,17,19,19,17,17,19,19,119,120,121,122,123,124,125,126,19,17,17,19,19,19,19,17,17,127,128,17,17,17,19,17,19,19,19,129,17,17,17,19,19,130,131,132,133,134,17,19,17,135,136,137,17,17,19,17,19,19,17,17,138,139,19,19,19,17,19,17,140,141,142,143,19,17,19,19,19,17,17,19,19,19,17,144,145,146,147,148,19,19,149,17,17,19,17,17,17,150,151,152,19,19,19,19,17,17,17,19,17,17,17,17,153,19,17,17,154,155,156,157,158,159,160,161,162,19,163,19,19,17,19,19,17,19,19,17,19,19,164,17,17,17,17,19,17,17,165,19,19,19,17,19,17,17,166,167,168,169,170,171,172,19,17,19,19,17,17,19,19,19,19,19,173,17,17,19,19,174,175,176,19,17,17,17,19,19,17,19,17,177,178,19,19,17,19,19,17,179,180,181,17,19,19,19,19,19,19,17,17,182,183,184,185,186,187,188,19,189,17,19,19,17,190,19,19,19,17,191,192,193,194,195,17,19,19,196,17,19,19,17,17,197,19,19,19,17,17,19,19,19,198,199,200,201,202,203,204,205,19,19,206,207,19,19,19,19,19,19,17,208,17,17,209,17,17,17,17,19,19,19,17,210,211,212,17,17,17,17,17,17,17,19,19,213,214,215,19,17,17,19,17,17,19,216,217,218,219,19,220,19,19,19,17,19,19,221,222,223,19,19,19,17,17,17,19,19,19,17,19,224,19,19,19,17,225,226,227,228,17,229,230,231,19,19,17,17,19,19,19,17,19,19,232,233,19,17,19,17,234,235,19,19,19,19,19,17,17,17,17,236,237,238,19,17,17,19,19,19,17,239,240,241,242,243,244,245,17,17,19,19,17,19,19,17,19,246,247,17,17,17,19,17,19,248,19,249,250,19,19,17,19,19,19,17,17,19,19,251,252,19,19,19,17,17,17,17,253,254,255,256,257,258,19,19,259,19,19,19,19,19,17,260,19,17,17,17,19,19,261,17,19,17,17,19,262,263,264,17,19,19,17,17,265,266,17,17,19,19,17,267,268,269,270,271,272,273,274,275,276,277,17,19,278,17,279,19,19,19,19,19,17,19,17,280,281,17,17,17,19,19,17,282,283,17,17,284,285,19,19,19,19,19,17,286,17,19,17,19,287,288,289,19,290,17,19,291,292,17,17,19,19,19,293,17,17,17,294,295,296,297,17,298,299,17,17,19,17,17,17,19,17,19,300,301,302,19,19,17,17,17,19,17,17,303,17,17,19,19,304,305,306,307,308,309,310,311,19,17,17,19,19,17,17,19,17,312,19,17,17,17,313,314,315,17,17,316,19,19,19,17,17,317,19,19,17,318,17,319,320,17,17,17,19,19,17,17,17,19,19,19,17,321,322,323,324,19,325,17,19,17,17,326,17,19,327,19,17,19,17,19,328,19,17,17,329,330,331,17,332,19,19,19,19,333,334,335,336,17,17,19,19,17,17,17,17,17,19,17,337,338,339,340,341,342,343,344,345,346,17,19,19,17,17,17,17,17,347,348,17,19,17,17,19,17,17,19,349,17,19,19,17,17,19,350,351,352,353,17,354,355,19,17,17,17,19,19,19,356,17,17,17,19,17,19,19,19,357,358,359,360,17,361,362,363,17,17,19,19,17,19,19,19,364,19,365,17,17,17,17,19,19,366,367,17,19,17,17,368,19,369,19,17,17,17,17,19,370,371,372,373,374,19,17,17,19,17,17,19,375,19,19,19,17,17,376,19,19,17,17,19,19,377,378,379,380,381,382,17,17,383,384,19,19,17,17,17,17,17,19,19,385,386,19,387,17,19,19,19,17,17,388,19,389,19,19,19,17,17,17,19,390,391,19,19,392,17,19,19,17,17,17,393,394,17,17,17,19,19,19,17,395,396,397,398,399,17,17,17,19,19,19,19,19,17,19,400,401,402,19,19,17,17,17,19,19,19,19,17,403,404,17,17,19,17,17,17,17,405,406,407,408,409,410,411,412,413,414,415,416,417,17,19,418,19,419,420,19,19,19,17,19,19,19,17,19,17,421,19,19,17,17,19,19,422,423,424,425,19,19,19,19,19,17,17,426,427,17,17,19,19,19,19,428,429,430,431,432,17,19,19,19,19,433,19,19,17,434,17,17,435,19,19,17,436,437,17,17,438,439,19,17,17,17,17,19,440,17,19,441,19,17,19,19,17,442,443,444,445,446,447,448,449,19,19,450,17,17,17,17,17,17,19,19,17,451,17,17,19,19,452,17,17,453,17,17,17,19,454,455,19,19,456,19,17,17,17,17,17,457,458,19,459,460,461,19,19,17,19,17,17,19,17,17,462,17,17,19,19,463,464,17,465,19,19,19,17,466,467,19,19,19,17,19,17,468,469,470,471,472,19,473,17,19,474,19,19,17,19,19,475,19,17,476,477,478,479,19,480,19,19,481,17,19,19,17,17,17,482,19,483,17,17,17,19,484,485,486,487,488,489,490,491,492,19,493,19,19,17,17,19,19,19,17,19,17,494,19,19,17,17,19,19,17,495,19,17,17,496,497,17,498,19,17,19,17,17,499,19,17,17,17,17,500,501,502,503,17,504,505,19,19,17,17,19,19,19,19,506,17,19,19,19,19,17,17,17,507,19,19,19,17,17,17,19,508,509,510,19,17,511,19,19,17,17,512,17,17,19,19,17,513,19,17,17,19,19,514,515,516,517,518,519,520,521,522,17,523,17,17,19,19,524,19,17,17,19,19,17,525,526,19,17,17,19,19,17,17,527,528,529,17,17,530,19,17,17,531,17,19,19,532,533,19,17,19,17,19,534,535,536,19,17,19,19,537,538,19,539,17,17,19,19,17,19,17,17,17,540,541,542,543,544,545,17,546,19,19,17,17,547,19,19,19,17,548,549,550,17,551,552,17,17,17,19,19,17,17,19,19,19,553,554,19,17,19,19,19,17,555,556,557,558,559,19,560,17,17,17,19,19,17,17,561,562,563,19,19,17,19,17,17,19,19,19,17,17,564,19,19,17,17,565,19,566,19,19,17,17,17,17,17,19,567,568,569,570,19,571,17,17,17,17,572,17,17,17,19,19,17,19,573,19,19,17,17],\"value\":[91328000000000,164672000000000,55276272000000,14312536016000,14274437904000,7464754080000,24128092728000,13431928608000,17716250664000,15248954604096,3814233826176,5064904297728,7564640429376,4084217384960,3600096789760,2989808831232,2892677024256,1682154573888,1018285365384,856258541856,1115264923992,1062658565862,254833236210,150522795220,214139976596,1828882206720,1380930637824,874404540416,698352517120,569898163200,560631526400,425895314944,274818350576,173690874896,1579993578880,2020103210880,955766607552,624226971328,2062220350464,591626083968,1160387391744,1325472786432,736747564032,716562699264,608910087168,355073399424,236552684544,200693660544,52165722240,102214016640,114258803472,30546616100,18092995690,73654269282,747709347840,269978910516,142699133388,94478601084,26633433540,21587098764,1841783380992,1781303505408,520545344256,921272067072,782814993408,1058968387584,790802901504,577473325056,413027278848,256396904960,144994523744,119153915552,97192315136,68537883264,90666706560,51806050240,67347865312,419730130944,289898353152,211643582976,7276747323384,6155181284616,3663558527832,1872317885184,1740870910368,2402280170424,601159253760,660119103648,865189026896,798167160024,738923983504,358737753920,242421499840,818729054208,516953922048,240108039936,296526868992,130988308032,45913766976,63205964928,193961068416,62816786784,26206208208,13542805584,860727996576,880142913792,338143141512,151795269900,195719040546,175070544618,2681627338728,1537429930452,737310979080,1198813036356,981208470684,1700418868044,653603678508,327604792176,802849732776,734580197676,363193926732,278364451911,161291354133,270347358996,464232838680,444866680440,82085429160,156991374720,53367494760,34635441240,2966882040,5685142680,10080028800,688156913808,510656122548,233458718328,98620986024,178576418196,7857157169484,4981363987068,3127839618792,1749889888656,3942843575972,3914313593512,1655054871764,857506909392,1430281794816,697866962688,732414832128,1375145154572,912959438720,1626209000220,689018069740,686127084832,2381029327152,2600334659916,825599628000,1006454511216,206291918448,342683269488,317030257152,508569370848,504173171502,192231130014,203780646300,106269563400,168795156096,89448618000,84439495392,1063937204820,643791816696,892605638400,1723413047748,1404426571044,838768462014,884644585734,796851194622,270246460806,337328915616,446690930952,350160263670,116915135526,153331325280,956417550480,793472338176,612815689752,143707696468,199894164260,342864302340,102425285256,167526102156,93335926572,27052508000,14753002424,8566259472,90673641520,37093762440,72126760300,268411801728,180766182912,344294353536,65690803584,68295444672,46779934656,129719968896,214574384640,6897935344000,2891512976000,4523087696000,3109056272000,1574723040000,1043513728000,1170642304000,1975027996788,524166721666,609861553546,743230577628,625982693490,605814725670,247451030568,205249841640,290529705420,379312933230,246669760260,232707321000,208799185140,106345261620,57962957910,286333706078,237833015588,147758209842,37329977520,25263722160,75981796556,136166484748,101666530840,379913754668,120096108804,109851690074,52537764818,17697886248,11742272976,27873766032,687151872000,394947936000,492623232000,311451585984,136642220352,239058065664,121454093376,189997492608,63576588636,40458381348,32607250368,159756440112,112404064608,122787431280,71956075320,29475363456,21355992504,305903136000,85657844040,101062251960,137732886984,168170249016,41352062640,21367327200,22938454200,487326208000,312524416000,136089344000,107573760000,277271808000,92441600000,76249600000,41363200000,172930560000,104341248000,29836800000,15594700800,11696025600,19122073600,158342784000,154181632000,54695933952,54971500768,44514197280,56210816000,32973696000,22896432000,24008400000,29584640000,11833856000,14792320000,19347316128,5712692832,3214935360,4698751680,9781200000,14227200000,71536550400,14096451600,21940758000,25208117760,46328432640,4776483600,4889505600,4430462400,580275280000,590367024000,291450480000,288824800000,269805744000,320561280000,131530300200,67084126200,42541153200,28650164400,192096347040,29062446105,83172809160,16229677695,1903503840000,516665328000,471343808000,937475641200,583423926960,241175614680,141428657160,477666160040,209815976840,249993504320,300178023416,106468006272,71020130352,222256734080,112896875000,177048517880,71221800000,82491659250,78586339832,80097615598,52142590500,16281168750,14067900000,38178996856,24808920136,10101835744,5496587096,82855190880,58573466280,34581808800,21314739600,10269959040,16688683440,289566840000,91636232000,78695312000,56766944000,172438680000,117128160000,81681480000,90757200000,47810208000,25419093920,18406930080,15944704368,15765273696,16100229936,12201877600,13217216320,6693429120,7350305760,4363195200,49381308280,29314003720,15976305620,5388849009,8092930949,19923222702,12599142000,16714861720,36841746656,7521620080,8234481896,4169095368,13985077744,22856668912,4418143600,1803529728,764674560,535272192,3148478372,2688482412,2397521112,1983008112,2186087256,283400832000,81585088000,54880670208,51477217792,119900352000,59950176000,65468832000,38081472000,49609120000,24988532976,45302699024,13042904160,8377923840,16660644000,44810609584,23337649764,13436828652,22677434000,22133175584,12022425636,11315224128,8051217168,2162762514,1401644079,1821204891,24329969664,16450377216,14100323328,21590651264,29886566528,13155358944,6113325848,10617881736,1585342237448,1135295011696,1802450446856,778374445240,285933469680,314526816648,206507505880,408063635700,243686899225,53724987435,72898922880,161559888420,111920152260,134583595020,112161736225,87744888000,43780275000,37752140160,15780188160,19366594560,119823556320,34429727160,78557018220,53123167980,29811917700,10322645600,12903307000,25519147920,134671257864,38351552976,66123367200,75380638608,28816959600,23015836800,14290570800,88957079456,41301501176,76248925248,422908699576,451130410080,151192804770,110063097270,174853631920,132473853336,115581214320,78076354360,96777277560,82298385840,18184397616,31991069880,69024452640,24772180680,13629327600,8155253400,217187520480,89570073600,144372816000,93956912000,11228996800,22916320000,16270587200,79314258240,26241374130,45637172400,42893565120,36420693120,12909211380,4444054250,5185751580,3702356920,20180137200,25457035200,40356468999,45331290144,24375338127,27000604512,10576449408,7754236224,10111613211,7170834384,7092890532,1146602730936,655847715920,391247085704,755355645232,254423682900,63845177253,46440688987,26537536564,278169893304,188363246544,78484686060,110829890012,9092816944848,2526575509008,2655045450144,4831458781968,4261358162880,1763456673888,3068002108080,909412115184,854044558704,377191478520,224238603744,252614476440,1063370548240,2004631559840,1044013375160,497224154560,216701396065,246692634055,1807899597360,1157104107252,501928651872,794425806396,791076664800,1016822932560,370455413760,420621251040,508780034352,648324072900,249361175664,259418858688,296535853152,76043022080,129349776640,56599155200,26628930560,25078669416,21043021464,443605956408,179715611520,56888877240,114215361228,1248086698560,705420186768,199576137600,373492486080,817656798672,265056619248,69364903824,96008376816,468882288504,127281896064,126268658280,95223955824,63336466800,34753598280,28178593200,35630155656,31748769990,18184509504,9660520674,143759522304,61771669740,35957109219,23568317985,52321489920,42648336000,32103257472,16686438912,7847879706,5734735680,2983704960,7001997639,25668933336,19655064792,9711889056,14329016640,12547127862,13121805474,13000547340,6654517452,5413184064,1829854152,2468850840,48233873520,24153652224,9597194880,14023656192,8255909376,15897742848,3525500160,6071694720,7334998944,2636874492,4051782756,401148036576,129622664880,77704220160,96945265152,218311856640,182836179936,115176463632,16223068584,19414491912,32022155808,43573720680,86048944200,36761195520,16329680640,24613344000,20422886400,9317941920,7020367200,6894754048,3759228564,2063890192,3611807836,10157888000,14455456000,53529573888,15263891456,28151799808,10323501056,11142686720,3152873856,3532738176,88621308720,63313207440,19276050780,28365570660,49656443760,22289223600,6074697924,10600943436,11688251400,6674686200,3926286000,3207761280,2866936644,5001947028,3566357448,2032638960,32862569576,12043055776,11585724544,6821857544,5075923872,6509800672,4344646704,2477210840,12067121220,4617147742,2591781818,6582066120,3112504500,1063045200,1309505400,1806709986,1293884620,1516553136,18464953920,5280328928,2923039228,1697248584,3471597472,1808731456,1739477332,1183561896,647017416,583461760,466769408,189317217600,102046220640,49081883352,33047164488,83673535680,42537942720,63105739200,33656394240,50017141440,25242295680,8647823520,8647823520,21213511200,41892228000,41943222720,34380952200,12208179060,13513866660,7091690760,3331666800,611938800,1172882700,6190562700,7323303960,20589434118,12259699272,7374777267,8857972695,9563112801,6237998514,4788322803,2554392126,2089957194,1685449350,1044978597,3642329405,2016318590,3199324700,13839548580,19207615908,6796938060,2230794720,2129394960,2682420840,9206503488,5328103560,4673008860,1187119751616,1467925698528,745141026888,174036948264,121879652832,146062123632,334880959016,145831201856,264428866016,155778798336,49812987840,58837079840,84191159088,59059469808,30786319368,48408253488,26023226040,47448173304,27371021832,12102063372,3845515464,5089652820,74737395036,42999597144,28325131452,26618798232,16792722684,31325874120,717513308352,750412390176,429254686656,288258621696,267976866240,42354336928,66931632768,51991850720,355033819008,395378571168,184558290048,170475528960,164577149856,86550532992,144250888320,3510300606120,1743187653792,1057211030772,1154054789316,1942702249320,908567210880,420711459840,238319686080,1018927506276,612300261960,311474481084,586775373264,432152133012,267992288568,128187628568,216120344824,170661755904,56462804256,15785817840,25081910568,73089464304,143030880520,199627723152,68191470648,24814012797,18841274487,13698035283,6356620256,4759357258,7927452666,5081567832,5832253989,375324788304,533242422576,130835049444,78233075280,116438431680,49818231900,63569089728,28952258688,23917083264,23428033380,8886495420,17503703100,349236234504,90125479872,93880708200,190210995360,159025239144,213146519040,107694904800,99870036000,75532504320,137614014720,85023388800,52590625920,40153932000,67540972800,17737902000,9356256000,13059774000,40771684800,26769288000,43654531200,56215504800,14893898880,28760632320,128052368640,67187971200,43079346240,57188436480,39589482240,15786150912,15488299008,37717135488,9375070848,10096230144,8600473728,3723148800,1277837856,2184690528,6576380928,8911918080,29641752000,19443577800,18102641400,18130392000,5221224000,6290136000,12360803400,7082774400,8894878120,9207763280,23840759040,19238587200,10898924400,2491970670,3752848260,2094843870,929410996176,501075441958,108306815370,204394400288,417116497104,211536423936,300758075136,231731387280,103316622720,82068487104,105234160320,74222347680,52274879280,100252691712,44478878976,66804853248,136455052608,164303022528,80759112768,54115145280,14292115200,15136649280,320236184710,75965336304,104873920944,145211594840,104981714830,70042875040,32961352960,19065499560,18016022520,35347721376,9883096608,14816812032,15917706288,5244079104,9572732928,39327720354,37239878130,14907907440,13398415020,24665663214,8259006870,2500425450,3902624820,6061353120,4128392016,2774500992,1943661312,5805979842,2241122070,1589159286,3762153822,69483726390,18229812900,20593276080,29151030090,14001675870,26331020430,11913649020,17237381070,12526089420,13804931010,11421087600,4441068060,1484917980,882739260,7575796800,3845290800,541033740,341705520,11909364480,8683911600,3615721200,2596776000,2471414400,126842206880,77552193408,59801964385,36347119425,30693123070,35335457283,24466507102,13807960250,16885162820,31826359296,20383805568,13841705808,11500322736,17179900416,14646458880,11018273280,3361369914,4275062624,1729099750,6288981264,4104741600,3447982944,7300419696,4199903040,410699310047,318526775100,210310957500,117673988125,141575109013,96980158574,89156035020,82988007440,89929257542,22866102178,28779749293,57864550768,17294930994,14769775780,8673349102,7803260100,2907911664,3481581312,51821458780,19285701318,9331245352,16541753124,25971868440,11266605280,14582985060,6639339798,5058544608,7587816912,58035532230,13628988480,17491514310,29718678340,28316853890,28429555024,54558452416,115317490104,85582124460,44271053856,73356106680,68888163564,24100719120,22328607420,10278247860,6107603580,4500339480,3214528200,13844019420,3393835200,5090752800,38865867048,46716257412,14891136800,11056669074,12918061174,14884233624,29386820232,33445887720,39910218960,78255240000,75320668500,33964100520,22770948480,33453000000,17343782400,12094796800,15363660800,7350604800,3170454560,3806924800,3015798240,5140288640,6954508160,7732816000,7630844800,48613746720,11332259400,15374662380,24885608440,23728138280,6030062388,9344599992,17595081840,6130315800,5472410160,4766292720,3058111560,2414298600,2780337420,1985955300,10080362880,8320986240,4369599360,6273187200,2141536320,1665639360,1990114560,1442112000,937372800,50074037500,27540720625,40059230000,30570850000,9260050000,10243137500,19195650000,4989664000,6385536000,5794594000,1163064000,2302392000,11613781850,15926938775,4958814762,3284269472,3370697616,24986096000,5173932000,4079392080,5819809920,2606058000,1004015600,925222272,638636128,736874058492,253809255816,107065901376,56305573632,340636225215,396237833277,186053341045,37039187230,75529096500,42014600440,28521477000,9507159000,26408775000,11091685500,23211653696,18802946744,216129727242,72016618895,108091487140,161695713888,92113541928,69122613600,50469994560,42103105728,19428714720,11330657280,6866405400,12844217160,57173922576,15622147728,8305231374,11012240250,9443238552,2726751324,1464551816,1987606036,4679886750,3621741750,2710611750,44141799744,62924101632,20136398688,5550822459,11574032652,6880545945,5002695432,3401752140,3169585080,39860287488,14601345024,5335034880,3127434240,2770998720,1538421696,1025614464,1333758720,704658240,474699840,614317440,33180070176,11265533400,11859970056,21803653080,6547974048,4828443048,11892901680,2227416350,3303583800,4379751250,2786724864,1006609461,565845555,2188794168,5387863800,3428640600,979611600,1469417400,1959223200,489805800,979611600,359933050,378486300,241192250,669053880,194027520,339548160,266787840,4371985728,7487984328,1639494648,1024684155,1707806925,3119993470,2278951752,1139475876,949563230,56647168000000,108024832000000,31269236736000,14799072640000,4361831936000,6217026688000,14039887294464,7031020953600,5872576548864,4325751939072,8513049701376,2181029262336,3345808330752,3823448194368,4689601507008,864613232640,459431737344,408309545088,448674747264,378074603520,283224885120,109667875500,93645868500,172451212416,132723147776,45489283072,57645901824,292683885312,155990861952,1940126711808,814507106304,591174512640,1210312691712,170145865728,294645411840,265022742528,2691876593664,4339144359936,1620246373632,1071630220032,866549677440,332481028044,421215668148,696267910656,145662985728,123253295616,106446028032,1828065447936,1437501696000,1073577216000,709798305792,1118267142144,680097096000,398029176000,359375424000,3746298832896,1246989938688,345263814720,534023962560,1800191604032,1946107228864,907280147072,541132956480,351778500480,500502233088,746487705600,396704894976,349782810624,140546387520,204717427200,89266320000,115451107200,204291046080,329732916480,102764586816,101526459264,1499552089344,2826199849728,970218366336,219761944128,185934752640,123637026240,71325514260,114609238380,74453945472,26997234552,9805898880,12379947336,1413099924864,569343345408,561008364000,282748215456,897267253016,515832671848,140902336512,52523862048,89322016896,7743700800000,4665364629200,1305243790400,1084763420400,3237297140000,1633571326750,1193570837250,1679261496000,1378965280000,1858331860000,975453117600,253242636300,249905957035,154969615815,558430797600,141787588800,181465105536,93769625664,501356724000,313406577000,378807536250,190183207500,100969493625,33114048825,54540786300,1037256602250,286948274250,210152844000,144903775500,566901579750,470355022500,85635290070,59268485430,1721510728960,2943853900240,574711661040,444149639010,702649428910,454724630415,118674903545,46314964300,82934930650,1802009286000,1141844614240,843100056000,462143734400,314877307500,313689996000,95872531500,118660221000,123644232000,76323600000,113722164000,57383559000,38488972500,51323625000,67336596000,238566089920,78047683820,145529960660,82125729840,28223649580,22410112640,12770468600,674669932200,410093488200,265994269920,408675662280,222367639770,86531688180,99776334330,166037851320,90536768520,153518868360,49332510480,24736629720,10918753560,5548874760,77863242600,75655625760,2535948800000,1825883136000,1531449600000,591456000000,413043200000,624831436800,906618163200,598367987712,308250175488,281868800000,105017600000,204569600000,104996128000,176872672000,264076800000,148966400000,54630400000,94336000000,901085184000,375699168000,344696761656,204402022344,367547904000,533537280000,243055872000,290481408000,128786112000,246913056000,58889376000,27331416000,42565320000,146023890480,198672871176,76501341696,60962006664,66938673984,32871670260,43629671436,28688003136,38250670848,2991040456000,1880749973256,649352286576,695883972168,1662334960000,445577976000,462686400000,420441120000,618388605120,406639696320,637306658560,243693003840,229148519600,145547081680,408718561680,79323481380,81176095000,68088520500,194494786524,251083189476,224865590400,104857356960,47229362880,85734089760,59058764280,25487912448,11935141992,8375538240,159347184480,261093935520,173537072280,54042274440,33514588800,996293126136,884456847120,357214342144,234438292000,404640491992,99525690000,134912602000,446614159992,154962687264,162272247984,120607751880,93149445312,25505205264,22398225696,21219371712,362394784080,136547410608,60302663568,90107428320,235505854080,57891172500,68997757500,30245184000,10654422480,10571593500,6419972520,25627738500,43370019000,77423789520,26974265976,32149355112,11478026952,10277761200,5649425040,4744141920,33783004800,16232956596,3847576392,6439125780,53887775760,18109826280,9465066000,8644760280,25838497608,12480943440,6580430136,8987904576,379648929660,200193612344,116041430164,160853532840,82431318970,136364077850,54607102550,47400673320,19290971700,15065330280,107165145560,35113685992,57914780792,44234123912,36311814144,26619207504,46207331320,69834098844,23539583880,6775135290,7864930840,8027681310,61331098368000,46693733632000,34836063873024,10686943890624,15808090604352,20985580646400,5484242405664,4133387142720,4232853678240,10506329407488,10479251238912,5354934281856,1913343153216,1807414120512,1403559683328,3552353358048,1931889047616,1208750251104,865655201664,1477947905280,1483846867008,2649540275712,2566417908384,954576110592,711859659264,1447529944416,269582030244,704229660420,145076273304,449456636928,505119473664,5942168878209,2402933268090,2341841744325,2794412880930,1226308462623,1921447534656,941686968768,979760565888,1203053776230,1199879491860,696226371820,276582391344,227070728696,1294247555550,619818977025,427775211750,700019112654,594228442896,359718807450,260100169575,6967810962112,8840279642240,4642954540224,2324856421888,2338373028992,1243527853568,1061053657664,3556039420800,2883447616896,1469350274944,931442329600,2245563003150,537604892595,772871525055,1576709652672,1306737964224,480256025600,218164608000,115103334400,117918361600,21537484637760,15364371855360,5584323435584,4207553703296,8042995618112,13494489019648,4272841422122,3770154195990,2124160047009,695187659439,950806489542,7972955017664,2873429470912,2648104531072,1722524602799,469947274082,680957594031,9018993223680,6345378631680,3351188412000,3007476780000,1292355736320,1367972295360,2058397941600,242894930850,355755201750,694140337800,640058759560,652296976760,797410986240,570561309120,3329541371904,695440441344,1212038615040,1108358203392,641667502080,570371112960,737855887296,158486826432,88828624128,123186865536,3654071394397,1008317176926,412774568064,509160296197,2334696433270,553811712078,418073547353,347489701696,1331198490490,459698406660,287075569068,256723967052,209158519031,208915028322,609387951164,225634721958,173294503804,285846925546,113082300216,210458725402,76105619442,83816761500,65712341016,104259577104,32886717050,16704447550,19443762100,246820908672,165953659392,93131656704,14871727872,47572162560,10378112256,222426637566,145076484861,141657173770,141345006138,50417028060,12609190188,18055413180,72510532220,20335469175,11853484650,36957687725,2341093142840,707267410200,465055201440,694137948816,1151894255280,630557941460,347494329900,211146616200,332405831420,298152110040,292530689100,226081159200,123060611700,65594950200,148024549725,56913187200,87592952175,275308022880,189747178560,98074845360,91672333200,396588202296,297549746520]},\"node\":{\"color\":[\"rgba(128,128,128,0.3)\",\"rgba(128,128,128,0.3)\",\"rgba(128,128,128,0.3)\",\"rgba(128,128,128,0.3)\",\"rgba(128,128,128,0.3)\",\"rgba(128,128,128,0.3)\",\"rgba(128,128,128,0.3)\",\"rgba(128,128,128,0.3)\",\"rgba(128,128,128,0.3)\",\"rgba(128,128,128,0.3)\",\"rgba(128,128,128,0.3)\",\"rgba(128,128,128,0.3)\",\"rgba(128,128,128,0.3)\",\"rgba(128,128,128,0.3)\",\"rgba(128,128,128,0.3)\",\"rgba(128,128,128,0.3)\",\"rgba(128,128,128,0.3)\",\"rgba(255,0,0,0.3)\",\"rgba(128,128,128,0.3)\",\"rgba(0,255,0,0.3)\",\"rgba(128,128,128,0.3)\",\"rgba(128,128,128,0.3)\",\"rgba(128,128,128,0.3)\",\"rgba(128,128,128,0.3)\",\"rgba(128,128,128,0.3)\",\"rgba(128,128,128,0.3)\",\"rgba(128,128,128,0.3)\",\"rgba(128,128,128,0.3)\",\"rgba(128,128,128,0.3)\",\"rgba(128,128,128,0.3)\",\"rgba(128,128,128,0.3)\",\"rgba(128,128,128,0.3)\",\"rgba(128,128,128,0.3)\",\"rgba(128,128,128,0.3)\",\"rgba(128,128,128,0.3)\",\"rgba(128,128,128,0.3)\",\"rgba(128,128,128,0.3)\",\"rgba(128,128,128,0.3)\",\"rgba(128,128,128,0.3)\",\"rgba(128,128,128,0.3)\",\"rgba(128,128,128,0.3)\",\"rgba(128,128,128,0.3)\",\"rgba(128,128,128,0.3)\",\"rgba(128,128,128,0.3)\",\"rgba(128,128,128,0.3)\",\"rgba(128,128,128,0.3)\",\"rgba(128,128,128,0.3)\",\"rgba(128,128,128,0.3)\",\"rgba(128,128,128,0.3)\",\"rgba(128,128,128,0.3)\",\"rgba(128,128,128,0.3)\",\"rgba(128,128,128,0.3)\",\"rgba(128,128,128,0.3)\",\"rgba(128,128,128,0.3)\",\"rgba(128,128,128,0.3)\",\"rgba(128,128,128,0.3)\",\"rgba(128,128,128,0.3)\",\"rgba(128,128,128,0.3)\",\"rgba(128,128,128,0.3)\",\"rgba(128,128,128,0.3)\",\"rgba(128,128,128,0.3)\",\"rgba(128,128,128,0.3)\",\"rgba(128,128,128,0.3)\",\"rgba(128,128,128,0.3)\",\"rgba(128,128,128,0.3)\",\"rgba(128,128,128,0.3)\",\"rgba(128,128,128,0.3)\",\"rgba(128,128,128,0.3)\",\"rgba(128,128,128,0.3)\",\"rgba(128,128,128,0.3)\",\"rgba(128,128,128,0.3)\",\"rgba(128,128,128,0.3)\",\"rgba(128,128,128,0.3)\",\"rgba(128,128,128,0.3)\",\"rgba(128,128,128,0.3)\",\"rgba(128,128,128,0.3)\",\"rgba(128,128,128,0.3)\",\"rgba(128,128,128,0.3)\",\"rgba(128,128,128,0.3)\",\"rgba(128,128,128,0.3)\",\"rgba(128,128,128,0.3)\",\"rgba(128,128,128,0.3)\",\"rgba(128,128,128,0.3)\",\"rgba(128,128,128,0.3)\",\"rgba(128,128,128,0.3)\",\"rgba(128,128,128,0.3)\",\"rgba(128,128,128,0.3)\",\"rgba(128,128,128,0.3)\",\"rgba(128,128,128,0.3)\",\"rgba(128,128,128,0.3)\",\"rgba(128,128,128,0.3)\",\"rgba(128,128,128,0.3)\",\"rgba(128,128,128,0.3)\",\"rgba(128,128,128,0.3)\",\"rgba(128,128,128,0.3)\",\"rgba(128,128,128,0.3)\",\"rgba(128,128,128,0.3)\",\"rgba(128,128,128,0.3)\",\"rgba(128,128,128,0.3)\",\"rgba(128,128,128,0.3)\",\"rgba(128,128,128,0.3)\",\"rgba(128,128,128,0.3)\",\"rgba(128,128,128,0.3)\",\"rgba(128,128,128,0.3)\",\"rgba(128,128,128,0.3)\",\"rgba(128,128,128,0.3)\",\"rgba(128,128,128,0.3)\",\"rgba(128,128,128,0.3)\",\"rgba(128,128,128,0.3)\",\"rgba(128,128,128,0.3)\",\"rgba(128,128,128,0.3)\",\"rgba(128,128,128,0.3)\",\"rgba(128,128,128,0.3)\",\"rgba(128,128,128,0.3)\",\"rgba(128,128,128,0.3)\",\"rgba(128,128,128,0.3)\",\"rgba(128,128,128,0.3)\",\"rgba(128,128,128,0.3)\",\"rgba(128,128,128,0.3)\",\"rgba(128,128,128,0.3)\",\"rgba(128,128,128,0.3)\",\"rgba(128,128,128,0.3)\",\"rgba(128,128,128,0.3)\",\"rgba(128,128,128,0.3)\",\"rgba(128,128,128,0.3)\",\"rgba(128,128,128,0.3)\",\"rgba(128,128,128,0.3)\",\"rgba(128,128,128,0.3)\",\"rgba(128,128,128,0.3)\",\"rgba(128,128,128,0.3)\",\"rgba(128,128,128,0.3)\",\"rgba(128,128,128,0.3)\",\"rgba(128,128,128,0.3)\",\"rgba(128,128,128,0.3)\",\"rgba(128,128,128,0.3)\",\"rgba(128,128,128,0.3)\",\"rgba(128,128,128,0.3)\",\"rgba(128,128,128,0.3)\",\"rgba(128,128,128,0.3)\",\"rgba(128,128,128,0.3)\",\"rgba(128,128,128,0.3)\",\"rgba(128,128,128,0.3)\",\"rgba(128,128,128,0.3)\",\"rgba(128,128,128,0.3)\",\"rgba(128,128,128,0.3)\",\"rgba(128,128,128,0.3)\",\"rgba(128,128,128,0.3)\",\"rgba(128,128,128,0.3)\",\"rgba(128,128,128,0.3)\",\"rgba(128,128,128,0.3)\",\"rgba(128,128,128,0.3)\",\"rgba(128,128,128,0.3)\",\"rgba(128,128,128,0.3)\",\"rgba(128,128,128,0.3)\",\"rgba(128,128,128,0.3)\",\"rgba(128,128,128,0.3)\",\"rgba(128,128,128,0.3)\",\"rgba(128,128,128,0.3)\",\"rgba(128,128,128,0.3)\",\"rgba(128,128,128,0.3)\",\"rgba(128,128,128,0.3)\",\"rgba(128,128,128,0.3)\",\"rgba(128,128,128,0.3)\",\"rgba(128,128,128,0.3)\",\"rgba(128,128,128,0.3)\",\"rgba(128,128,128,0.3)\",\"rgba(128,128,128,0.3)\",\"rgba(128,128,128,0.3)\",\"rgba(128,128,128,0.3)\",\"rgba(128,128,128,0.3)\",\"rgba(128,128,128,0.3)\",\"rgba(128,128,128,0.3)\",\"rgba(128,128,128,0.3)\",\"rgba(128,128,128,0.3)\",\"rgba(128,128,128,0.3)\",\"rgba(128,128,128,0.3)\",\"rgba(128,128,128,0.3)\",\"rgba(128,128,128,0.3)\",\"rgba(128,128,128,0.3)\",\"rgba(128,128,128,0.3)\",\"rgba(128,128,128,0.3)\",\"rgba(128,128,128,0.3)\",\"rgba(128,128,128,0.3)\",\"rgba(128,128,128,0.3)\",\"rgba(128,128,128,0.3)\",\"rgba(128,128,128,0.3)\",\"rgba(128,128,128,0.3)\",\"rgba(128,128,128,0.3)\",\"rgba(128,128,128,0.3)\",\"rgba(128,128,128,0.3)\",\"rgba(128,128,128,0.3)\",\"rgba(128,128,128,0.3)\",\"rgba(128,128,128,0.3)\",\"rgba(128,128,128,0.3)\",\"rgba(128,128,128,0.3)\",\"rgba(128,128,128,0.3)\",\"rgba(128,128,128,0.3)\",\"rgba(128,128,128,0.3)\",\"rgba(128,128,128,0.3)\",\"rgba(128,128,128,0.3)\",\"rgba(128,128,128,0.3)\",\"rgba(128,128,128,0.3)\",\"rgba(128,128,128,0.3)\",\"rgba(128,128,128,0.3)\",\"rgba(128,128,128,0.3)\",\"rgba(128,128,128,0.3)\",\"rgba(128,128,128,0.3)\",\"rgba(128,128,128,0.3)\",\"rgba(128,128,128,0.3)\",\"rgba(128,128,128,0.3)\",\"rgba(128,128,128,0.3)\",\"rgba(128,128,128,0.3)\",\"rgba(128,128,128,0.3)\",\"rgba(128,128,128,0.3)\",\"rgba(128,128,128,0.3)\",\"rgba(128,128,128,0.3)\",\"rgba(128,128,128,0.3)\",\"rgba(128,128,128,0.3)\",\"rgba(128,128,128,0.3)\",\"rgba(128,128,128,0.3)\",\"rgba(128,128,128,0.3)\",\"rgba(128,128,128,0.3)\",\"rgba(128,128,128,0.3)\",\"rgba(128,128,128,0.3)\",\"rgba(128,128,128,0.3)\",\"rgba(128,128,128,0.3)\",\"rgba(128,128,128,0.3)\",\"rgba(128,128,128,0.3)\",\"rgba(128,128,128,0.3)\",\"rgba(128,128,128,0.3)\",\"rgba(128,128,128,0.3)\",\"rgba(128,128,128,0.3)\",\"rgba(128,128,128,0.3)\",\"rgba(128,128,128,0.3)\",\"rgba(128,128,128,0.3)\",\"rgba(128,128,128,0.3)\",\"rgba(128,128,128,0.3)\",\"rgba(128,128,128,0.3)\",\"rgba(128,128,128,0.3)\",\"rgba(128,128,128,0.3)\",\"rgba(128,128,128,0.3)\",\"rgba(128,128,128,0.3)\",\"rgba(128,128,128,0.3)\",\"rgba(128,128,128,0.3)\",\"rgba(128,128,128,0.3)\",\"rgba(128,128,128,0.3)\",\"rgba(128,128,128,0.3)\",\"rgba(128,128,128,0.3)\",\"rgba(128,128,128,0.3)\",\"rgba(128,128,128,0.3)\",\"rgba(128,128,128,0.3)\",\"rgba(128,128,128,0.3)\",\"rgba(128,128,128,0.3)\",\"rgba(128,128,128,0.3)\",\"rgba(128,128,128,0.3)\",\"rgba(128,128,128,0.3)\",\"rgba(128,128,128,0.3)\",\"rgba(128,128,128,0.3)\",\"rgba(128,128,128,0.3)\",\"rgba(128,128,128,0.3)\",\"rgba(128,128,128,0.3)\",\"rgba(128,128,128,0.3)\",\"rgba(128,128,128,0.3)\",\"rgba(128,128,128,0.3)\",\"rgba(128,128,128,0.3)\",\"rgba(128,128,128,0.3)\",\"rgba(128,128,128,0.3)\",\"rgba(128,128,128,0.3)\",\"rgba(128,128,128,0.3)\",\"rgba(128,128,128,0.3)\",\"rgba(128,128,128,0.3)\",\"rgba(128,128,128,0.3)\",\"rgba(128,128,128,0.3)\",\"rgba(128,128,128,0.3)\",\"rgba(128,128,128,0.3)\",\"rgba(128,128,128,0.3)\",\"rgba(128,128,128,0.3)\",\"rgba(128,128,128,0.3)\",\"rgba(128,128,128,0.3)\",\"rgba(128,128,128,0.3)\",\"rgba(128,128,128,0.3)\",\"rgba(128,128,128,0.3)\",\"rgba(128,128,128,0.3)\",\"rgba(128,128,128,0.3)\",\"rgba(128,128,128,0.3)\",\"rgba(128,128,128,0.3)\",\"rgba(128,128,128,0.3)\",\"rgba(128,128,128,0.3)\",\"rgba(128,128,128,0.3)\",\"rgba(128,128,128,0.3)\",\"rgba(128,128,128,0.3)\",\"rgba(128,128,128,0.3)\",\"rgba(128,128,128,0.3)\",\"rgba(128,128,128,0.3)\",\"rgba(128,128,128,0.3)\",\"rgba(128,128,128,0.3)\",\"rgba(128,128,128,0.3)\",\"rgba(128,128,128,0.3)\",\"rgba(128,128,128,0.3)\",\"rgba(128,128,128,0.3)\",\"rgba(128,128,128,0.3)\",\"rgba(128,128,128,0.3)\",\"rgba(128,128,128,0.3)\",\"rgba(128,128,128,0.3)\",\"rgba(128,128,128,0.3)\",\"rgba(128,128,128,0.3)\",\"rgba(128,128,128,0.3)\",\"rgba(128,128,128,0.3)\",\"rgba(128,128,128,0.3)\",\"rgba(128,128,128,0.3)\",\"rgba(128,128,128,0.3)\",\"rgba(128,128,128,0.3)\",\"rgba(128,128,128,0.3)\",\"rgba(128,128,128,0.3)\",\"rgba(128,128,128,0.3)\",\"rgba(128,128,128,0.3)\",\"rgba(128,128,128,0.3)\",\"rgba(128,128,128,0.3)\",\"rgba(128,128,128,0.3)\",\"rgba(128,128,128,0.3)\",\"rgba(128,128,128,0.3)\",\"rgba(128,128,128,0.3)\",\"rgba(128,128,128,0.3)\",\"rgba(128,128,128,0.3)\",\"rgba(128,128,128,0.3)\",\"rgba(128,128,128,0.3)\",\"rgba(128,128,128,0.3)\",\"rgba(128,128,128,0.3)\",\"rgba(128,128,128,0.3)\",\"rgba(128,128,128,0.3)\",\"rgba(128,128,128,0.3)\",\"rgba(128,128,128,0.3)\",\"rgba(128,128,128,0.3)\",\"rgba(128,128,128,0.3)\",\"rgba(128,128,128,0.3)\",\"rgba(128,128,128,0.3)\",\"rgba(128,128,128,0.3)\",\"rgba(128,128,128,0.3)\",\"rgba(128,128,128,0.3)\",\"rgba(128,128,128,0.3)\",\"rgba(128,128,128,0.3)\",\"rgba(128,128,128,0.3)\",\"rgba(128,128,128,0.3)\",\"rgba(128,128,128,0.3)\",\"rgba(128,128,128,0.3)\",\"rgba(128,128,128,0.3)\",\"rgba(128,128,128,0.3)\",\"rgba(128,128,128,0.3)\",\"rgba(128,128,128,0.3)\",\"rgba(128,128,128,0.3)\",\"rgba(128,128,128,0.3)\",\"rgba(128,128,128,0.3)\",\"rgba(128,128,128,0.3)\",\"rgba(128,128,128,0.3)\",\"rgba(128,128,128,0.3)\",\"rgba(128,128,128,0.3)\",\"rgba(128,128,128,0.3)\",\"rgba(128,128,128,0.3)\",\"rgba(128,128,128,0.3)\",\"rgba(128,128,128,0.3)\",\"rgba(128,128,128,0.3)\",\"rgba(128,128,128,0.3)\",\"rgba(128,128,128,0.3)\",\"rgba(128,128,128,0.3)\",\"rgba(128,128,128,0.3)\",\"rgba(128,128,128,0.3)\",\"rgba(128,128,128,0.3)\",\"rgba(128,128,128,0.3)\",\"rgba(128,128,128,0.3)\",\"rgba(128,128,128,0.3)\",\"rgba(128,128,128,0.3)\",\"rgba(128,128,128,0.3)\",\"rgba(128,128,128,0.3)\",\"rgba(128,128,128,0.3)\",\"rgba(128,128,128,0.3)\",\"rgba(128,128,128,0.3)\",\"rgba(128,128,128,0.3)\",\"rgba(128,128,128,0.3)\",\"rgba(128,128,128,0.3)\",\"rgba(128,128,128,0.3)\",\"rgba(128,128,128,0.3)\",\"rgba(128,128,128,0.3)\",\"rgba(128,128,128,0.3)\",\"rgba(128,128,128,0.3)\",\"rgba(128,128,128,0.3)\",\"rgba(128,128,128,0.3)\",\"rgba(128,128,128,0.3)\",\"rgba(128,128,128,0.3)\",\"rgba(128,128,128,0.3)\",\"rgba(128,128,128,0.3)\",\"rgba(128,128,128,0.3)\",\"rgba(128,128,128,0.3)\",\"rgba(128,128,128,0.3)\",\"rgba(128,128,128,0.3)\",\"rgba(128,128,128,0.3)\",\"rgba(128,128,128,0.3)\",\"rgba(128,128,128,0.3)\",\"rgba(128,128,128,0.3)\",\"rgba(128,128,128,0.3)\",\"rgba(128,128,128,0.3)\",\"rgba(128,128,128,0.3)\",\"rgba(128,128,128,0.3)\",\"rgba(128,128,128,0.3)\",\"rgba(128,128,128,0.3)\",\"rgba(128,128,128,0.3)\",\"rgba(128,128,128,0.3)\",\"rgba(128,128,128,0.3)\",\"rgba(128,128,128,0.3)\",\"rgba(128,128,128,0.3)\",\"rgba(128,128,128,0.3)\",\"rgba(128,128,128,0.3)\",\"rgba(128,128,128,0.3)\",\"rgba(128,128,128,0.3)\",\"rgba(128,128,128,0.3)\",\"rgba(128,128,128,0.3)\",\"rgba(128,128,128,0.3)\",\"rgba(128,128,128,0.3)\",\"rgba(128,128,128,0.3)\",\"rgba(128,128,128,0.3)\",\"rgba(128,128,128,0.3)\",\"rgba(128,128,128,0.3)\",\"rgba(128,128,128,0.3)\",\"rgba(128,128,128,0.3)\",\"rgba(128,128,128,0.3)\",\"rgba(128,128,128,0.3)\",\"rgba(128,128,128,0.3)\",\"rgba(128,128,128,0.3)\",\"rgba(128,128,128,0.3)\",\"rgba(128,128,128,0.3)\",\"rgba(128,128,128,0.3)\",\"rgba(128,128,128,0.3)\",\"rgba(128,128,128,0.3)\",\"rgba(128,128,128,0.3)\",\"rgba(128,128,128,0.3)\",\"rgba(128,128,128,0.3)\",\"rgba(128,128,128,0.3)\",\"rgba(128,128,128,0.3)\",\"rgba(128,128,128,0.3)\",\"rgba(128,128,128,0.3)\",\"rgba(128,128,128,0.3)\",\"rgba(128,128,128,0.3)\",\"rgba(128,128,128,0.3)\",\"rgba(128,128,128,0.3)\",\"rgba(128,128,128,0.3)\",\"rgba(128,128,128,0.3)\",\"rgba(128,128,128,0.3)\",\"rgba(128,128,128,0.3)\",\"rgba(128,128,128,0.3)\",\"rgba(128,128,128,0.3)\",\"rgba(128,128,128,0.3)\",\"rgba(128,128,128,0.3)\",\"rgba(128,128,128,0.3)\",\"rgba(128,128,128,0.3)\",\"rgba(128,128,128,0.3)\",\"rgba(128,128,128,0.3)\",\"rgba(128,128,128,0.3)\",\"rgba(128,128,128,0.3)\",\"rgba(128,128,128,0.3)\",\"rgba(128,128,128,0.3)\",\"rgba(128,128,128,0.3)\",\"rgba(128,128,128,0.3)\",\"rgba(128,128,128,0.3)\",\"rgba(128,128,128,0.3)\",\"rgba(128,128,128,0.3)\",\"rgba(128,128,128,0.3)\",\"rgba(128,128,128,0.3)\",\"rgba(128,128,128,0.3)\",\"rgba(128,128,128,0.3)\",\"rgba(128,128,128,0.3)\",\"rgba(128,128,128,0.3)\",\"rgba(128,128,128,0.3)\",\"rgba(128,128,128,0.3)\",\"rgba(128,128,128,0.3)\",\"rgba(128,128,128,0.3)\",\"rgba(128,128,128,0.3)\",\"rgba(128,128,128,0.3)\",\"rgba(128,128,128,0.3)\",\"rgba(128,128,128,0.3)\",\"rgba(128,128,128,0.3)\",\"rgba(128,128,128,0.3)\",\"rgba(128,128,128,0.3)\",\"rgba(128,128,128,0.3)\",\"rgba(128,128,128,0.3)\",\"rgba(128,128,128,0.3)\",\"rgba(128,128,128,0.3)\",\"rgba(128,128,128,0.3)\",\"rgba(128,128,128,0.3)\",\"rgba(128,128,128,0.3)\",\"rgba(128,128,128,0.3)\",\"rgba(128,128,128,0.3)\",\"rgba(128,128,128,0.3)\",\"rgba(128,128,128,0.3)\",\"rgba(128,128,128,0.3)\",\"rgba(128,128,128,0.3)\",\"rgba(128,128,128,0.3)\",\"rgba(128,128,128,0.3)\",\"rgba(128,128,128,0.3)\",\"rgba(128,128,128,0.3)\",\"rgba(128,128,128,0.3)\",\"rgba(128,128,128,0.3)\",\"rgba(128,128,128,0.3)\",\"rgba(128,128,128,0.3)\",\"rgba(128,128,128,0.3)\",\"rgba(128,128,128,0.3)\",\"rgba(128,128,128,0.3)\",\"rgba(128,128,128,0.3)\",\"rgba(128,128,128,0.3)\",\"rgba(128,128,128,0.3)\",\"rgba(128,128,128,0.3)\",\"rgba(128,128,128,0.3)\",\"rgba(128,128,128,0.3)\",\"rgba(128,128,128,0.3)\",\"rgba(128,128,128,0.3)\",\"rgba(128,128,128,0.3)\",\"rgba(128,128,128,0.3)\",\"rgba(128,128,128,0.3)\",\"rgba(128,128,128,0.3)\",\"rgba(128,128,128,0.3)\",\"rgba(128,128,128,0.3)\",\"rgba(128,128,128,0.3)\",\"rgba(128,128,128,0.3)\",\"rgba(128,128,128,0.3)\",\"rgba(128,128,128,0.3)\",\"rgba(128,128,128,0.3)\",\"rgba(128,128,128,0.3)\",\"rgba(128,128,128,0.3)\",\"rgba(128,128,128,0.3)\",\"rgba(128,128,128,0.3)\",\"rgba(128,128,128,0.3)\",\"rgba(128,128,128,0.3)\",\"rgba(128,128,128,0.3)\",\"rgba(128,128,128,0.3)\",\"rgba(128,128,128,0.3)\",\"rgba(128,128,128,0.3)\",\"rgba(128,128,128,0.3)\",\"rgba(128,128,128,0.3)\",\"rgba(128,128,128,0.3)\",\"rgba(128,128,128,0.3)\",\"rgba(128,128,128,0.3)\",\"rgba(128,128,128,0.3)\",\"rgba(128,128,128,0.3)\",\"rgba(128,128,128,0.3)\",\"rgba(128,128,128,0.3)\",\"rgba(128,128,128,0.3)\",\"rgba(128,128,128,0.3)\",\"rgba(128,128,128,0.3)\",\"rgba(128,128,128,0.3)\",\"rgba(128,128,128,0.3)\",\"rgba(128,128,128,0.3)\",\"rgba(128,128,128,0.3)\",\"rgba(128,128,128,0.3)\",\"rgba(128,128,128,0.3)\",\"rgba(128,128,128,0.3)\",\"rgba(128,128,128,0.3)\",\"rgba(128,128,128,0.3)\",\"rgba(128,128,128,0.3)\",\"rgba(128,128,128,0.3)\",\"rgba(128,128,128,0.3)\",\"rgba(128,128,128,0.3)\",\"rgba(128,128,128,0.3)\",\"rgba(128,128,128,0.3)\",\"rgba(128,128,128,0.3)\",\"rgba(128,128,128,0.3)\",\"rgba(128,128,128,0.3)\",\"rgba(128,128,128,0.3)\",\"rgba(128,128,128,0.3)\",\"rgba(128,128,128,0.3)\",\"rgba(128,128,128,0.3)\",\"rgba(128,128,128,0.3)\",\"rgba(128,128,128,0.3)\",\"rgba(128,128,128,0.3)\",\"rgba(128,128,128,0.3)\",\"rgba(128,128,128,0.3)\",\"rgba(128,128,128,0.3)\"],\"label\":[\"in\",\"cff\",\"ljt\",\"hmf\",\"qlt\",\"clh\",\"qfs\",\"rcp\",\"mfd\",\"bxt\",\"bq\",\"fc\",\"lgz\",\"jgj\",\"kf\",\"bpg\",\"nq\",\"R\",\"cx\",\"A\",\"vbm\",\"dp\",\"qjl\",\"cv\",\"qjz\",\"zkh\",\"ssq\",\"hvq\",\"qd\",\"xmr\",\"mpx\",\"lk\",\"mm\",\"gx\",\"css\",\"rd\",\"rl\",\"vk\",\"fd\",\"lhn\",\"bz\",\"qhh\",\"pjp\",\"dr\",\"pcm\",\"gvq\",\"nc\",\"jzf\",\"dz\",\"pdh\",\"prx\",\"rjd\",\"xl\",\"ts\",\"vg\",\"fqq\",\"xh\",\"sd\",\"mj\",\"vx\",\"pl\",\"hf\",\"ntb\",\"bxz\",\"spk\",\"jf\",\"chx\",\"skn\",\"xnq\",\"bsd\",\"nh\",\"gn\",\"vst\",\"jmd\",\"kqf\",\"pr\",\"tb\",\"rqk\",\"ljf\",\"flm\",\"qhq\",\"cn\",\"ss\",\"jcp\",\"mb\",\"jlq\",\"tnt\",\"vgk\",\"qzd\",\"sg\",\"lr\",\"lxd\",\"pnp\",\"zmg\",\"kmp\",\"sst\",\"zp\",\"knd\",\"pt\",\"lp\",\"bl\",\"fj\",\"np\",\"cb\",\"jrz\",\"bk\",\"vz\",\"rt\",\"srq\",\"qfq\",\"ntn\",\"gzh\",\"cgh\",\"dbx\",\"zq\",\"qrh\",\"bd\",\"hs\",\"szb\",\"lj\",\"sb\",\"tjc\",\"hz\",\"qx\",\"ll\",\"xx\",\"mv\",\"trr\",\"fb\",\"trn\",\"xq\",\"dzj\",\"qc\",\"pps\",\"xnb\",\"jp\",\"kc\",\"fgc\",\"zxf\",\"ck\",\"cl\",\"fcl\",\"cgb\",\"mt\",\"vvv\",\"cq\",\"qm\",\"jr\",\"zvd\",\"qr\",\"cr\",\"spl\",\"bn\",\"zck\",\"xzb\",\"vd\",\"xnx\",\"kq\",\"xvz\",\"gc\",\"czx\",\"pf\",\"bm\",\"rk\",\"srj\",\"jk\",\"bp\",\"nk\",\"hts\",\"zg\",\"ctf\",\"zm\",\"nhh\",\"jsn\",\"xf\",\"rkh\",\"lz\",\"kj\",\"sc\",\"shv\",\"sf\",\"sbb\",\"bj\",\"cm\",\"zz\",\"rnc\",\"rz\",\"xp\",\"kt\",\"pzk\",\"tmx\",\"xzq\",\"cp\",\"czl\",\"fmz\",\"nj\",\"dv\",\"dhn\",\"nfl\",\"mg\",\"frb\",\"fpz\",\"gmc\",\"fgf\",\"vjm\",\"dvg\",\"nqp\",\"ln\",\"tl\",\"nmj\",\"gf\",\"pj\",\"sm\",\"txq\",\"dcv\",\"qtx\",\"dn\",\"ft\",\"sr\",\"qs\",\"ttz\",\"xc\",\"qxs\",\"xr\",\"nbh\",\"lhv\",\"thd\",\"lv\",\"fcr\",\"jjf\",\"xz\",\"dpk\",\"bg\",\"jqd\",\"lrt\",\"zvs\",\"td\",\"fdv\",\"ttl\",\"stp\",\"js\",\"pn\",\"rdg\",\"tg\",\"pc\",\"vl\",\"hrk\",\"lvg\",\"mzj\",\"gvj\",\"zjz\",\"md\",\"tgj\",\"lh\",\"qb\",\"pb\",\"kv\",\"mc\",\"bmn\",\"dx\",\"zc\",\"gr\",\"zv\",\"hr\",\"vs\",\"grj\",\"kbp\",\"st\",\"nr\",\"qkl\",\"thz\",\"xv\",\"fxj\",\"xxq\",\"pm\",\"bv\",\"qh\",\"btm\",\"dd\",\"fth\",\"jvn\",\"tz\",\"cbp\",\"dl\",\"qnr\",\"fv\",\"zxn\",\"ms\",\"rs\",\"qst\",\"hgn\",\"jbk\",\"nks\",\"bf\",\"hsz\",\"vj\",\"vlf\",\"bvb\",\"llm\",\"ph\",\"zs\",\"sh\",\"ckc\",\"fq\",\"mz\",\"zl\",\"rbf\",\"dsf\",\"qzq\",\"zbb\",\"ncp\",\"hn\",\"rbm\",\"zr\",\"dqp\",\"tlv\",\"mbg\",\"hpr\",\"jj\",\"qbq\",\"rb\",\"lsv\",\"jl\",\"kz\",\"xs\",\"dmb\",\"zk\",\"vfv\",\"hv\",\"tx\",\"hkv\",\"pjz\",\"bkd\",\"dcr\",\"mnz\",\"hd\",\"hj\",\"hcj\",\"vjf\",\"jht\",\"mdr\",\"ch\",\"btv\",\"gt\",\"db\",\"hpn\",\"dk\",\"pnt\",\"zmc\",\"qt\",\"rvx\",\"pp\",\"dj\",\"zt\",\"fpb\",\"rcd\",\"qqr\",\"qdv\",\"qrr\",\"tpp\",\"mmv\",\"fx\",\"lb\",\"rm\",\"sgn\",\"bch\",\"qlh\",\"mk\",\"jcm\",\"jjh\",\"mf\",\"kbc\",\"gm\",\"vb\",\"pvr\",\"dh\",\"dvb\",\"px\",\"tzb\",\"kpr\",\"mx\",\"qtk\",\"hx\",\"vp\",\"mr\",\"xn\",\"bms\",\"jn\",\"tp\",\"vrt\",\"qp\",\"znm\",\"chr\",\"vqh\",\"fl\",\"rzc\",\"htf\",\"ks\",\"khl\",\"kst\",\"rlz\",\"dg\",\"tqs\",\"mqk\",\"jxx\",\"fcf\",\"mgd\",\"sbg\",\"hpk\",\"qv\",\"sbh\",\"fhm\",\"kd\",\"xb\",\"qf\",\"skz\",\"jx\",\"hhv\",\"vnh\",\"qxb\",\"phh\",\"fbh\",\"vld\",\"dfn\",\"hfh\",\"zkz\",\"ssb\",\"cfh\",\"fk\",\"dst\",\"zzk\",\"kjb\",\"gg\",\"ssj\",\"blr\",\"jg\",\"pq\",\"lzz\",\"cfr\",\"ls\",\"nrj\",\"flt\",\"cln\",\"ddz\",\"pbn\",\"dnn\",\"gpr\",\"pqh\",\"ps\",\"rnz\",\"fgd\",\"tbk\",\"fvs\",\"mdf\",\"tv\",\"hlm\",\"hjv\",\"zf\",\"tsb\",\"rcv\",\"pzg\",\"xvs\",\"knj\",\"zdk\",\"dq\",\"rx\",\"tcn\",\"kmn\",\"bjh\",\"vjt\",\"gv\",\"vcp\",\"dbd\",\"sn\",\"qzv\",\"ngx\",\"xd\",\"rv\",\"dsq\",\"sp\",\"nnq\",\"gtp\",\"nts\",\"lsb\",\"mvg\",\"ltf\",\"fp\",\"mnq\",\"vm\",\"frz\",\"nhc\",\"dfz\",\"ppt\",\"djd\",\"fpq\",\"rql\",\"klc\",\"flj\",\"rn\",\"jqb\",\"dsj\",\"qfd\",\"cjk\",\"lf\",\"gz\",\"czn\",\"th\",\"lmx\",\"dt\",\"xdp\",\"lmd\",\"rr\",\"xj\",\"qmx\",\"sk\",\"vlj\",\"jnv\",\"snk\",\"jt\",\"pg\",\"tdr\",\"qjh\",\"cfj\",\"xsl\",\"kgf\",\"cc\",\"spm\",\"fts\",\"zh\",\"gb\",\"bkb\",\"fvv\",\"jpl\",\"qxv\",\"pcl\",\"mbs\",\"psb\",\"jcr\",\"prd\",\"vtt\",\"nl\",\"mn\",\"pxs\",\"dhj\",\"rpm\",\"kp\",\"tll\",\"vdf\",\"mgl\",\"vq\",\"dtm\",\"rlb\",\"zth\",\"nb\",\"jfq\",\"xjt\",\"rbl\",\"lm\",\"kk\",\"vsj\",\"fn\",\"lhg\",\"dfj\",\"mjj\",\"cfl\",\"sz\",\"pkp\",\"dnt\",\"jm\",\"vmn\",\"prk\",\"xzz\",\"dc\",\"ngs\"],\"line\":{\"color\":\"black\",\"width\":0.5},\"pad\":15,\"thickness\":20},\"type\":\"sankey\"}],                        {\"template\":{\"data\":{\"histogram2dcontour\":[{\"type\":\"histogram2dcontour\",\"colorbar\":{\"outlinewidth\":0,\"ticks\":\"\"},\"colorscale\":[[0.0,\"#0d0887\"],[0.1111111111111111,\"#46039f\"],[0.2222222222222222,\"#7201a8\"],[0.3333333333333333,\"#9c179e\"],[0.4444444444444444,\"#bd3786\"],[0.5555555555555556,\"#d8576b\"],[0.6666666666666666,\"#ed7953\"],[0.7777777777777778,\"#fb9f3a\"],[0.8888888888888888,\"#fdca26\"],[1.0,\"#f0f921\"]]}],\"choropleth\":[{\"type\":\"choropleth\",\"colorbar\":{\"outlinewidth\":0,\"ticks\":\"\"}}],\"histogram2d\":[{\"type\":\"histogram2d\",\"colorbar\":{\"outlinewidth\":0,\"ticks\":\"\"},\"colorscale\":[[0.0,\"#0d0887\"],[0.1111111111111111,\"#46039f\"],[0.2222222222222222,\"#7201a8\"],[0.3333333333333333,\"#9c179e\"],[0.4444444444444444,\"#bd3786\"],[0.5555555555555556,\"#d8576b\"],[0.6666666666666666,\"#ed7953\"],[0.7777777777777778,\"#fb9f3a\"],[0.8888888888888888,\"#fdca26\"],[1.0,\"#f0f921\"]]}],\"heatmap\":[{\"type\":\"heatmap\",\"colorbar\":{\"outlinewidth\":0,\"ticks\":\"\"},\"colorscale\":[[0.0,\"#0d0887\"],[0.1111111111111111,\"#46039f\"],[0.2222222222222222,\"#7201a8\"],[0.3333333333333333,\"#9c179e\"],[0.4444444444444444,\"#bd3786\"],[0.5555555555555556,\"#d8576b\"],[0.6666666666666666,\"#ed7953\"],[0.7777777777777778,\"#fb9f3a\"],[0.8888888888888888,\"#fdca26\"],[1.0,\"#f0f921\"]]}],\"heatmapgl\":[{\"type\":\"heatmapgl\",\"colorbar\":{\"outlinewidth\":0,\"ticks\":\"\"},\"colorscale\":[[0.0,\"#0d0887\"],[0.1111111111111111,\"#46039f\"],[0.2222222222222222,\"#7201a8\"],[0.3333333333333333,\"#9c179e\"],[0.4444444444444444,\"#bd3786\"],[0.5555555555555556,\"#d8576b\"],[0.6666666666666666,\"#ed7953\"],[0.7777777777777778,\"#fb9f3a\"],[0.8888888888888888,\"#fdca26\"],[1.0,\"#f0f921\"]]}],\"contourcarpet\":[{\"type\":\"contourcarpet\",\"colorbar\":{\"outlinewidth\":0,\"ticks\":\"\"}}],\"contour\":[{\"type\":\"contour\",\"colorbar\":{\"outlinewidth\":0,\"ticks\":\"\"},\"colorscale\":[[0.0,\"#0d0887\"],[0.1111111111111111,\"#46039f\"],[0.2222222222222222,\"#7201a8\"],[0.3333333333333333,\"#9c179e\"],[0.4444444444444444,\"#bd3786\"],[0.5555555555555556,\"#d8576b\"],[0.6666666666666666,\"#ed7953\"],[0.7777777777777778,\"#fb9f3a\"],[0.8888888888888888,\"#fdca26\"],[1.0,\"#f0f921\"]]}],\"surface\":[{\"type\":\"surface\",\"colorbar\":{\"outlinewidth\":0,\"ticks\":\"\"},\"colorscale\":[[0.0,\"#0d0887\"],[0.1111111111111111,\"#46039f\"],[0.2222222222222222,\"#7201a8\"],[0.3333333333333333,\"#9c179e\"],[0.4444444444444444,\"#bd3786\"],[0.5555555555555556,\"#d8576b\"],[0.6666666666666666,\"#ed7953\"],[0.7777777777777778,\"#fb9f3a\"],[0.8888888888888888,\"#fdca26\"],[1.0,\"#f0f921\"]]}],\"mesh3d\":[{\"type\":\"mesh3d\",\"colorbar\":{\"outlinewidth\":0,\"ticks\":\"\"}}],\"scatter\":[{\"fillpattern\":{\"fillmode\":\"overlay\",\"size\":10,\"solidity\":0.2},\"type\":\"scatter\"}],\"parcoords\":[{\"type\":\"parcoords\",\"line\":{\"colorbar\":{\"outlinewidth\":0,\"ticks\":\"\"}}}],\"scatterpolargl\":[{\"type\":\"scatterpolargl\",\"marker\":{\"colorbar\":{\"outlinewidth\":0,\"ticks\":\"\"}}}],\"bar\":[{\"error_x\":{\"color\":\"#2a3f5f\"},\"error_y\":{\"color\":\"#2a3f5f\"},\"marker\":{\"line\":{\"color\":\"#E5ECF6\",\"width\":0.5},\"pattern\":{\"fillmode\":\"overlay\",\"size\":10,\"solidity\":0.2}},\"type\":\"bar\"}],\"scattergeo\":[{\"type\":\"scattergeo\",\"marker\":{\"colorbar\":{\"outlinewidth\":0,\"ticks\":\"\"}}}],\"scatterpolar\":[{\"type\":\"scatterpolar\",\"marker\":{\"colorbar\":{\"outlinewidth\":0,\"ticks\":\"\"}}}],\"histogram\":[{\"marker\":{\"pattern\":{\"fillmode\":\"overlay\",\"size\":10,\"solidity\":0.2}},\"type\":\"histogram\"}],\"scattergl\":[{\"type\":\"scattergl\",\"marker\":{\"colorbar\":{\"outlinewidth\":0,\"ticks\":\"\"}}}],\"scatter3d\":[{\"type\":\"scatter3d\",\"line\":{\"colorbar\":{\"outlinewidth\":0,\"ticks\":\"\"}},\"marker\":{\"colorbar\":{\"outlinewidth\":0,\"ticks\":\"\"}}}],\"scattermapbox\":[{\"type\":\"scattermapbox\",\"marker\":{\"colorbar\":{\"outlinewidth\":0,\"ticks\":\"\"}}}],\"scatterternary\":[{\"type\":\"scatterternary\",\"marker\":{\"colorbar\":{\"outlinewidth\":0,\"ticks\":\"\"}}}],\"scattercarpet\":[{\"type\":\"scattercarpet\",\"marker\":{\"colorbar\":{\"outlinewidth\":0,\"ticks\":\"\"}}}],\"carpet\":[{\"aaxis\":{\"endlinecolor\":\"#2a3f5f\",\"gridcolor\":\"white\",\"linecolor\":\"white\",\"minorgridcolor\":\"white\",\"startlinecolor\":\"#2a3f5f\"},\"baxis\":{\"endlinecolor\":\"#2a3f5f\",\"gridcolor\":\"white\",\"linecolor\":\"white\",\"minorgridcolor\":\"white\",\"startlinecolor\":\"#2a3f5f\"},\"type\":\"carpet\"}],\"table\":[{\"cells\":{\"fill\":{\"color\":\"#EBF0F8\"},\"line\":{\"color\":\"white\"}},\"header\":{\"fill\":{\"color\":\"#C8D4E3\"},\"line\":{\"color\":\"white\"}},\"type\":\"table\"}],\"barpolar\":[{\"marker\":{\"line\":{\"color\":\"#E5ECF6\",\"width\":0.5},\"pattern\":{\"fillmode\":\"overlay\",\"size\":10,\"solidity\":0.2}},\"type\":\"barpolar\"}],\"pie\":[{\"automargin\":true,\"type\":\"pie\"}]},\"layout\":{\"autotypenumbers\":\"strict\",\"colorway\":[\"#636efa\",\"#EF553B\",\"#00cc96\",\"#ab63fa\",\"#FFA15A\",\"#19d3f3\",\"#FF6692\",\"#B6E880\",\"#FF97FF\",\"#FECB52\"],\"font\":{\"color\":\"#2a3f5f\"},\"hovermode\":\"closest\",\"hoverlabel\":{\"align\":\"left\"},\"paper_bgcolor\":\"white\",\"plot_bgcolor\":\"#E5ECF6\",\"polar\":{\"bgcolor\":\"#E5ECF6\",\"angularaxis\":{\"gridcolor\":\"white\",\"linecolor\":\"white\",\"ticks\":\"\"},\"radialaxis\":{\"gridcolor\":\"white\",\"linecolor\":\"white\",\"ticks\":\"\"}},\"ternary\":{\"bgcolor\":\"#E5ECF6\",\"aaxis\":{\"gridcolor\":\"white\",\"linecolor\":\"white\",\"ticks\":\"\"},\"baxis\":{\"gridcolor\":\"white\",\"linecolor\":\"white\",\"ticks\":\"\"},\"caxis\":{\"gridcolor\":\"white\",\"linecolor\":\"white\",\"ticks\":\"\"}},\"coloraxis\":{\"colorbar\":{\"outlinewidth\":0,\"ticks\":\"\"}},\"colorscale\":{\"sequential\":[[0.0,\"#0d0887\"],[0.1111111111111111,\"#46039f\"],[0.2222222222222222,\"#7201a8\"],[0.3333333333333333,\"#9c179e\"],[0.4444444444444444,\"#bd3786\"],[0.5555555555555556,\"#d8576b\"],[0.6666666666666666,\"#ed7953\"],[0.7777777777777778,\"#fb9f3a\"],[0.8888888888888888,\"#fdca26\"],[1.0,\"#f0f921\"]],\"sequentialminus\":[[0.0,\"#0d0887\"],[0.1111111111111111,\"#46039f\"],[0.2222222222222222,\"#7201a8\"],[0.3333333333333333,\"#9c179e\"],[0.4444444444444444,\"#bd3786\"],[0.5555555555555556,\"#d8576b\"],[0.6666666666666666,\"#ed7953\"],[0.7777777777777778,\"#fb9f3a\"],[0.8888888888888888,\"#fdca26\"],[1.0,\"#f0f921\"]],\"diverging\":[[0,\"#8e0152\"],[0.1,\"#c51b7d\"],[0.2,\"#de77ae\"],[0.3,\"#f1b6da\"],[0.4,\"#fde0ef\"],[0.5,\"#f7f7f7\"],[0.6,\"#e6f5d0\"],[0.7,\"#b8e186\"],[0.8,\"#7fbc41\"],[0.9,\"#4d9221\"],[1,\"#276419\"]]},\"xaxis\":{\"gridcolor\":\"white\",\"linecolor\":\"white\",\"ticks\":\"\",\"title\":{\"standoff\":15},\"zerolinecolor\":\"white\",\"automargin\":true,\"zerolinewidth\":2},\"yaxis\":{\"gridcolor\":\"white\",\"linecolor\":\"white\",\"ticks\":\"\",\"title\":{\"standoff\":15},\"zerolinecolor\":\"white\",\"automargin\":true,\"zerolinewidth\":2},\"scene\":{\"xaxis\":{\"backgroundcolor\":\"#E5ECF6\",\"gridcolor\":\"white\",\"linecolor\":\"white\",\"showbackground\":true,\"ticks\":\"\",\"zerolinecolor\":\"white\",\"gridwidth\":2},\"yaxis\":{\"backgroundcolor\":\"#E5ECF6\",\"gridcolor\":\"white\",\"linecolor\":\"white\",\"showbackground\":true,\"ticks\":\"\",\"zerolinecolor\":\"white\",\"gridwidth\":2},\"zaxis\":{\"backgroundcolor\":\"#E5ECF6\",\"gridcolor\":\"white\",\"linecolor\":\"white\",\"showbackground\":true,\"ticks\":\"\",\"zerolinecolor\":\"white\",\"gridwidth\":2}},\"shapedefaults\":{\"line\":{\"color\":\"#2a3f5f\"}},\"annotationdefaults\":{\"arrowcolor\":\"#2a3f5f\",\"arrowhead\":0,\"arrowwidth\":1},\"geo\":{\"bgcolor\":\"white\",\"landcolor\":\"#E5ECF6\",\"subunitcolor\":\"white\",\"showland\":true,\"showlakes\":true,\"lakecolor\":\"white\"},\"title\":{\"x\":0.05},\"mapbox\":{\"style\":\"light\"}}},\"title\":{\"text\":\"Actual Parsed Puzzle Input (Problem 202319)\"},\"font\":{\"size\":10}},                        {\"responsive\": true}                    )                };                            </script>        </div>"
      ]
     },
     "metadata": {},
     "output_type": "display_data"
    }
   ],
   "source": [
    "def show_actual_input():\n",
    "    actual_input = problem.parse_input_text_file()\n",
    "\n",
    "    initial_part_rating_range = construct_initial_part_range()\n",
    "    actual_range_tree = actual_input.apply_to_range(initial_part_rating_range)\n",
    "\n",
    "    valued_links = []\n",
    "    to_valued_links(actual_range_tree, \"in\", valued_links)\n",
    "\n",
    "    sankey_input = to_plotly_sankey_input(valued_links, color_mode=\"problem_202319\")\n",
    "    fig = build_sankey_figure(\n",
    "        sankey_input, title=\"Actual Parsed Puzzle Input (Problem 202319)\"\n",
    "    )\n",
    "    fig.show(width=1080, height=1080)\n",
    "\n",
    "\n",
    "show_actual_input()"
   ]
  },
  {
   "cell_type": "markdown",
   "metadata": {},
   "source": [
    "## Open Points\n"
   ]
  },
  {
   "cell_type": "markdown",
   "metadata": {},
   "source": [
    "In all cases, the projection from a 4D subspace associated to a workflow, composed of one or more small cubes, leads to a loss of \"complexity\" in the visual representation. Only a 1D metric is used to represent the workflow contributions.\n",
    "\n",
    "Representing the subspaces would be another challenge in its own. At first, making a version of the code that only sort pieces according to 2 dimensions would help to visualize. For that, some dimensions can be fixed (slicing the 4D cube into 2D). It would be interesting to build such a datacube with `xarray` ; it would have 4 dimensions: `dims = ('x', 'm', 'a', 's')` and a shape of `(4000, 4000, 4000, 4000)`. Slicing it would be easy, eg `xda.isel(a=0, s=0)`.\n",
    "Since the array would be large, only portions of it could be computed. How to parallelize the algorithm, allowing it to be executed only on a sub-space, eg `(:200, :200, :200, :200)`? Is it possible?\n"
   ]
  }
 ],
 "metadata": {
  "kernelspec": {
   "display_name": "advent-of-code-CEbbwEIT-py3.13",
   "language": "python",
   "name": "python3"
  },
  "language_info": {
   "codemirror_mode": {
    "name": "ipython",
    "version": 3
   },
   "file_extension": ".py",
   "mimetype": "text/x-python",
   "name": "python",
   "nbconvert_exporter": "python",
   "pygments_lexer": "ipython3",
   "version": "3.13.0"
  }
 },
 "nbformat": 4,
 "nbformat_minor": 2
}
