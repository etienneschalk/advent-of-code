{
    "cells": [
        {
            "cell_type": "markdown",
            "metadata": {},
            "source": [
                "# Year 2023 Day 19\n",
                "\n",
                "The goal of this notebook is multiple:\n",
                "\n",
                "1. Learn how to use use Sankey diagrams with `plotly`\n",
                "2. Visualize the problem's input\n",
                "3. Describe the problem solving procedure\n"
            ]
        },
        {
            "cell_type": "code",
            "execution_count": null,
            "metadata": {},
            "outputs": [],
            "source": [
                "from dataclasses import dataclass\n",
                "from typing import Literal\n",
                "\n",
                "import numpy as np\n",
                "import pandas as pd\n",
                "import plotly.graph_objects as go\n",
                "import xarray as xr\n",
                "\n",
                "from advent_of_code.common.common import get_example_inputs_file_contents\n",
                "from advent_of_code.visualization.plotly import (\n",
                "    ValuedLink,\n",
                "    build_sankey_figure,\n",
                "    to_plotly_sankey_input,\n",
                ")\n",
                "from advent_of_code.y_2023.problem_202311 import (\n",
                "    create_coord_array,\n",
                ")\n",
                "from advent_of_code.y_2023.problem_202319 import (\n",
                "    AdventOfCodeProblem202319,\n",
                "    PartRatingRange,\n",
                "    PartRatingRangeTree,\n",
                "    construct_initial_part_range,\n",
                ")"
            ]
        },
        {
            "cell_type": "markdown",
            "metadata": {},
            "source": [
                "## Make a Sankey Diagram with Plotly\n",
                "\n",
                "First, let's start with the example provided in\n",
                "[Plotly: Sankey Diagram](https://plotly.com/python/sankey-diagram/).\n",
                "\n",
                "Then, the goal is to adapt the in-memory representation of the problem's data into something that Plotly can understand and plot.\n",
                "\n",
                "First, a builder can be made for those Plotly diagrams, then, an object converter to convert the in-memory representation of the problem's data into this intermediate data structure.\n",
                "\n",
                "One challenge will be to flatten the tree structure to a list of weighted edges (flat graph representation).\n",
                "\n",
                "The `source, target, value` expected by plotly indicates the need to flatten any tree structure.\n",
                "\n",
                "In the following, the word \"link\" means a graph's directional edge/vertex\n"
            ]
        },
        {
            "cell_type": "code",
            "execution_count": null,
            "metadata": {},
            "outputs": [],
            "source": [
                "@dataclass(frozen=True)\n",
                "class ValuedLink:\n",
                "    source: str\n",
                "    target: str\n",
                "    value: int\n",
                "\n",
                "\n",
                "@dataclass(frozen=True)\n",
                "class PlotlySankeyInput:\n",
                "    labels: list[str]\n",
                "    sources: list[int]\n",
                "    targets: list[int]\n",
                "    values: list[int]\n",
                "    node_colors: list[str]\n",
                "    link_colors: list[str]\n",
                "\n",
                "\n",
                "def to_mapping_label_to_index(valued_links: list[ValuedLink]) -> dict[str, int]:\n",
                "    collected_ordered_set: dict[str, None] = {}\n",
                "    for link in valued_links:\n",
                "        collected_ordered_set[link.source] = None\n",
                "        collected_ordered_set[link.target] = None\n",
                "    collected = {k: idx for idx, k in enumerate(collected_ordered_set)}\n",
                "    return collected\n",
                "\n",
                "\n",
                "def to_plotly_sankey_input(\n",
                "    valued_links: list[ValuedLink],\n",
                "    *,\n",
                "    color_mode: Literal[\"random\", \"problem_202319\"] = \"random\",\n",
                ") -> PlotlySankeyInput:\n",
                "    mapping_label_to_index = to_mapping_label_to_index(valued_links)\n",
                "\n",
                "    sources = []\n",
                "    targets = []\n",
                "    values = []\n",
                "\n",
                "    for link in valued_links:\n",
                "        source_idx = mapping_label_to_index[link.source]\n",
                "        target_idx = mapping_label_to_index[link.target]\n",
                "        value = link.value\n",
                "        sources.append(source_idx)\n",
                "        targets.append(target_idx)\n",
                "        values.append(value)\n",
                "\n",
                "    labels = list(mapping_label_to_index)\n",
                "    if color_mode == \"random\":\n",
                "        random_color_array = np.random.randint(256, size=(len(sources), 3))\n",
                "        node_colors = [f\"rgb({r}, {g}, {b})\" for (r, g, b) in random_color_array]\n",
                "        link_colors = [f\"rgba({r}, {g}, {b}, 0.3)\" for (r, g, b) in random_color_array]\n",
                "    elif color_mode == \"problem_202319\":\n",
                "        mapping = {\"A\": \"rgba(0,255,0,0.3)\", \"R\": \"rgba(255,0,0,0.3)\"}\n",
                "        node_colors = [mapping.get(node, \"rgba(128,128,128,0.3)\") for node in labels]\n",
                "        mapping = {labels.index(k): v for k, v in mapping.items()}\n",
                "        link_colors = [\n",
                "            mapping.get(target, \"rgba(128,128,128,0.3)\") for target in targets\n",
                "        ]\n",
                "\n",
                "    else:\n",
                "        raise NotImplementedError\n",
                "    return PlotlySankeyInput(labels, sources, targets, values, node_colors, link_colors)\n",
                "\n",
                "\n",
                "def build_sankey_figure(sankey_input: PlotlySankeyInput) -> go.Figure:\n",
                "    node_style_dict = dict(\n",
                "        pad=15,\n",
                "        thickness=20,\n",
                "        line=dict(color=\"black\", width=0.5),\n",
                "        color=sankey_input.node_colors,\n",
                "    )\n",
                "    fig = go.Figure(\n",
                "        data=[\n",
                "            go.Sankey(\n",
                "                node={**dict(label=sankey_input.labels), **node_style_dict},\n",
                "                link=dict(\n",
                "                    source=sankey_input.sources,\n",
                "                    target=sankey_input.targets,\n",
                "                    value=sankey_input.values,\n",
                "                    color=sankey_input.link_colors,\n",
                "                ),\n",
                "            )\n",
                "        ]\n",
                "    )\n",
                "\n",
                "    fig.update_layout(title_text=\"Basic Sankey Diagram\", font_size=10)\n",
                "    return fig"
            ]
        },
        {
            "cell_type": "code",
            "execution_count": null,
            "metadata": {},
            "outputs": [],
            "source": [
                "valued_links = [\n",
                "    ValuedLink(\"a\", \"b\", 2),\n",
                "    ValuedLink(\"b\", \"c\", 5),\n",
                "    ValuedLink(\"a\", \"c\", 4),\n",
                "    ValuedLink(\"z\", \"c\", 1),\n",
                "]\n",
                "\n",
                "sankey_input = to_plotly_sankey_input(valued_links)\n",
                "display(sankey_input)\n",
                "build_sankey_figure(sankey_input)"
            ]
        },
        {
            "cell_type": "code",
            "execution_count": null,
            "metadata": {},
            "outputs": [],
            "source": [
                "problem = AdventOfCodeProblem202319()\n",
                "problem"
            ]
        },
        {
            "cell_type": "code",
            "execution_count": null,
            "metadata": {},
            "outputs": [],
            "source": [
                "example_input = get_example_inputs_file_contents(2023)[\"test_problem_202319\"][\n",
                "    \"EXAMPLE_INPUT\"\n",
                "]\n",
                "print(example_input)"
            ]
        },
        {
            "cell_type": "code",
            "execution_count": null,
            "metadata": {},
            "outputs": [],
            "source": [
                "puzzle_input = problem.parse_text_input(example_input)\n",
                "puzzle_input"
            ]
        },
        {
            "cell_type": "code",
            "execution_count": null,
            "metadata": {},
            "outputs": [],
            "source": [
                "puzzle_input.workflows"
            ]
        },
        {
            "cell_type": "code",
            "execution_count": null,
            "metadata": {},
            "outputs": [],
            "source": [
                "initial_part_rating_range = construct_initial_part_range()\n",
                "initial_part_rating_range"
            ]
        },
        {
            "cell_type": "code",
            "execution_count": null,
            "metadata": {},
            "outputs": [],
            "source": [
                "range_tree = puzzle_input.apply_to_range(initial_part_rating_range)\n",
                "range_tree"
            ]
        },
        {
            "cell_type": "code",
            "execution_count": null,
            "metadata": {},
            "outputs": [],
            "source": [
                "for label, rating_range_list in range_tree.mapping.items():\n",
                "    print(label, rating_range_list)"
            ]
        },
        {
            "cell_type": "code",
            "execution_count": null,
            "metadata": {},
            "outputs": [],
            "source": [
                "from dataclasses import asdict\n",
                "import json\n",
                "from pathlib import Path\n",
                "\n",
                "json_txt = json.dumps(asdict(range_tree), indent=4, default=str)\n",
                "# Path(\"202319.out.json\").write_text(json_repr)"
            ]
        },
        {
            "cell_type": "code",
            "execution_count": null,
            "metadata": {},
            "outputs": [],
            "source": [
                "print(json_repr)"
            ]
        },
        {
            "cell_type": "code",
            "execution_count": null,
            "metadata": {},
            "outputs": [],
            "source": [
                "json_dict = json.loads(json_txt)"
            ]
        },
        {
            "cell_type": "code",
            "execution_count": null,
            "metadata": {},
            "outputs": [],
            "source": [
                "from IPython.display import Markdown as md\n",
                "\n",
                "\n",
                "def pretty_print_dict_with_json(json_string: str) -> md:\n",
                "    json_repr = json.dumps(json_string, indent=4)\n",
                "    return md(\n",
                "        f\"\"\"\n",
                "```json\n",
                "{json_repr} \n",
                "```\n",
                "\"\"\"\n",
                "    )"
            ]
        },
        {
            "cell_type": "markdown",
            "metadata": {},
            "source": [
                "Issue: how to find a good way to get a scalar from the \"PartTreeRange\" objects?\n",
                "The cubes are 4D, composed of 4 components x, m, a, s.\n",
                "\n",
                "Example: The flow coming from `rfg` must be split in three, to `gd`, `R` and `A`, with a metric that correctly reflect the proportion of parts flowing.\n"
            ]
        },
        {
            "cell_type": "code",
            "execution_count": null,
            "metadata": {},
            "outputs": [],
            "source": [
                "pretty_print_dict_with_json(\n",
                "    json_dict[\"children\"][\"px\"][0][\"children\"][\"rfg\"][0][\"mapping\"]\n",
                ")"
            ]
        },
        {
            "cell_type": "markdown",
            "metadata": {},
            "source": [
                "A first approach is just to compute the volume of the contiguous cubic sub-space delimitated of the $4000^4$ space formed by the dimensions (x, m, a, s).\n",
                "Luckily, `plotly` will automatically normalize all the weights associated to edges going into the same node, concretely, incoming flows of `(6, 4, 10)` will visually respectively contribute to 30%, 20%, 50%.\n"
            ]
        },
        {
            "cell_type": "code",
            "execution_count": null,
            "metadata": {},
            "outputs": [],
            "source": [
                "{\n",
                "    child: rating_ranges[0].volume()\n",
                "    for child, rating_ranges in range_tree.children[\"px\"][0]\n",
                "    .children[\"rfg\"][0]\n",
                "    .mapping.items()\n",
                "}"
            ]
        },
        {
            "cell_type": "markdown",
            "metadata": {},
            "source": [
                "But what to do in case of split flows, when a workflow has multiple subspaces (list of `PartRatingRange` has more than one element)?\n",
                "\n",
                "Example:\n"
            ]
        },
        {
            "cell_type": "code",
            "execution_count": null,
            "metadata": {},
            "outputs": [],
            "source": [
                "pretty_print_dict_with_json(\n",
                "    json_dict[\"children\"][\"px\"][0][\"children\"][\"rfg\"][0][\"children\"][\"gd\"][0]\n",
                ")"
            ]
        },
        {
            "cell_type": "markdown",
            "metadata": {},
            "source": [
                "In that case, just add the individual contribution. The subspace associated to the workflow is just non contiguous, composed of several cubes.\n",
                "\n",
                "Below is the code snippet to compute the volumes:\n"
            ]
        },
        {
            "cell_type": "code",
            "execution_count": null,
            "metadata": {},
            "outputs": [],
            "source": [
                "def compute_flow_values(\n",
                "    mapping: dict[str, list[PartRatingRange]],\n",
                ") -> dict[str, tuple[int, ...]]:\n",
                "    return {\n",
                "        child: tuple(rating_range.volume() for rating_range in rating_ranges)\n",
                "        for child, rating_ranges in mapping.items()\n",
                "    }\n",
                "\n",
                "\n",
                "compute_flow_values(range_tree.children[\"px\"][0].children[\"rfg\"][0].mapping)"
            ]
        },
        {
            "cell_type": "code",
            "execution_count": null,
            "metadata": {},
            "outputs": [],
            "source": [
                "compute_flow_values(\n",
                "    range_tree.children[\"px\"][0].children[\"rfg\"][0].children[\"gd\"][0].mapping\n",
                ")"
            ]
        },
        {
            "cell_type": "markdown",
            "metadata": {},
            "source": [
                "Now, that the structure can be converted to a tree with integer leaves (the volumes), the Sankey Diagram can be dealt, by iterating depth-first into the `PartRatingRangeTree` structure, and filling a list of `ValuedLink`.\n"
            ]
        },
        {
            "cell_type": "code",
            "execution_count": null,
            "metadata": {},
            "outputs": [],
            "source": [
                "def to_valued_links(\n",
                "    tree: PartRatingRangeTree,\n",
                "    source: str,\n",
                "    valued_links: list[ValuedLink],\n",
                "    *,\n",
                "    sum_flows: bool = False,\n",
                ") -> None:\n",
                "    flow_values = compute_flow_values(tree.mapping)\n",
                "    if sum_flows:\n",
                "        flow_total_values = {k: sum(v) for k, v in flow_values.items()}\n",
                "        for target, value in flow_total_values.items():\n",
                "            valued_links.append(ValuedLink(source, target, value))\n",
                "    else:\n",
                "        # More details as multiple flows from same source and target are showed explicitly\n",
                "        # instead of merged. For the example data, this shows for the two links from lnx to A.\n",
                "        for target, values in flow_values.items():\n",
                "            for value in values:\n",
                "                valued_links.append(ValuedLink(source, target, value))\n",
                "\n",
                "    children = tree.children\n",
                "\n",
                "    if children is not None:\n",
                "        for child_label, child_trees in children.items():\n",
                "            for child_tree in child_trees:\n",
                "                to_valued_links(child_tree, child_label, valued_links)\n",
                "\n",
                "\n",
                "valued_links = []\n",
                "to_valued_links(range_tree, \"in\", valued_links)\n",
                "valued_links"
            ]
        },
        {
            "cell_type": "markdown",
            "metadata": {},
            "source": [
                "Now that we have got a list of `ValuedLink`, the same conversion function used earlier can be used to feed it into Plotly!"
            ]
        },
        {
            "cell_type": "code",
            "execution_count": null,
            "metadata": {},
            "outputs": [],
            "source": [
                "sankey_input = to_plotly_sankey_input(valued_links, color_mode=\"problem_202319\")\n",
                "display(sankey_input)\n",
                "build_sankey_figure(sankey_input)"
            ]
        },
        {
            "cell_type": "markdown",
            "metadata": {},
            "source": [
                "The result looks similar to this post on Reddit: [\\[2023 Day 19 (part 2)\\] Sankey diagrams are cool](https://www.reddit.com/r/adventofcode/comments/18lyvuv/2023_day_19_part_2_sankey_diagrams_are_cool/)\n"
            ]
        },
        {
            "cell_type": "markdown",
            "metadata": {},
            "source": [
                "## Open Points\n"
            ]
        },
        {
            "cell_type": "markdown",
            "metadata": {},
            "source": [
                "In all cases, the projection from a 4D subspace associated to a workflow, composed of one or more small cubes, leads to a loss of \"complexity\" in the visual representation. Only a 1D metric is used to represent the workflow contributions.\n",
                "\n",
                "Representing the subspaces would be another challenge in its own. At first, making a version of the code that only sort pieces according to 2 dimensions would help to visualize. For that, some dimensions can be fixed (slicing the 4D cube into 2D). It would be interesting to build such a datacube with `xarray` ; it would have 4 dimensions: `dims = ('x', 'm', 'a', 's')` and a shape of `(4000, 4000, 4000, 4000)`. Slicing it would be easy, eg `xda.isel(a=0, s=0)`.\n",
                "Since the array would be large, only portions of it could be computed. How to parallelize the algorithm, allowing it to be executed only on a sub-space, eg `(:200, :200, :200, :200)`? Is it possible?\n"
            ]
        }
    ],
    "metadata": {
        "kernelspec": {
            "display_name": "advent-of-code-CEbbwEIT-py3.10",
            "language": "python",
            "name": "python3"
        },
        "language_info": {
            "codemirror_mode": {
                "name": "ipython",
                "version": 3
            },
            "file_extension": ".py",
            "mimetype": "text/x-python",
            "name": "python",
            "nbconvert_exporter": "python",
            "pygments_lexer": "ipython3",
            "version": "3.12.1"
        }
    },
    "nbformat": 4,
    "nbformat_minor": 2
}
