{
    "cells": [
        {
            "cell_type": "markdown",
            "metadata": {},
            "source": [
                "# Year 2023 Day 19\n"
            ]
        },
        {
            "cell_type": "code",
            "execution_count": 17,
            "metadata": {},
            "outputs": [],
            "source": [
                "import numpy as np\n",
                "import pandas as pd\n",
                "import xarray as xr\n",
                "from pyobsplot import Plot  # , js # can be used to pass js expr as str\n",
                "\n",
                "from advent_of_code.visualization.observable_plot import visualize_puzzle_input_202311\n",
                "from advent_of_code.y_2023.problem_202311 import (\n",
                "    \n",
                "    create_coord_array,\n",
                ")"
            ]
        },
        {
            "cell_type": "markdown",
            "metadata": {},
            "source": [
                "Note: the following logic can be reused for 202324 (show the vectors aligning progressively)"
            ]
        },
        {
            "cell_type": "code",
            "execution_count": 18,
            "metadata": {},
            "outputs": [
                {
                    "data": {
                        "text/plain": [
                            "AdventOfCodeProblem202319(year=2023, day=19)"
                        ]
                    },
                    "execution_count": 18,
                    "metadata": {},
                    "output_type": "execute_result"
                }
            ],
            "source": [
                "from advent_of_code.y_2023.problem_202319 import AdventOfCodeProblem202319\n",
                "\n",
                "\n",
                "problem = AdventOfCodeProblem202319()\n",
                "problem"
            ]
        },
        {
            "cell_type": "code",
            "execution_count": 19,
            "metadata": {},
            "outputs": [
                {
                    "data": {
                        "text/plain": [
                            "PuzzleInputData(workflows={'fmz': Workflow(name='fmz', rules=(Rule(category='x', operator='<', rating=2152, destination_workflow='R'), Rule(category='s', operator='>', rating=3520, destination_workflow='A'), Rule(category='a', operator='<', rating=3391, destination_workflow='A')), destination_workflow_else='A'), 'qhh': Workflow(name='qhh', rules=(Rule(category='a', operator='>', rating=2045, destination_workflow='A'), Rule(category='s', operator='>', rating=3259, destination_workflow='A')), destination_workflow_else='R'), 'xh': Workflow(name='xh', rules=(Rule(category='m', operator='<', rating=1065, destination_workflow='bxz'),), destination_workflow_else='spk'), 'kmp': Workflow(name='kmp', rules=(Rule(category='m', operator='>', rating=2580, destination_workflow='R'), Rule(category='s', operator='>', rating=3306, destination_workflow='A'), Rule(category='x', operator='<', rating=420, destination_workflow='R')), destination_workflow_else='R'), 'rdg': Workflow(name='rdg', rules=(Rule(category='a', operator='<', rating=2587, destination_workflow='md'),), destination_workflow_else='tgj'), 'mgl': Workflow(name='mgl', rules=(Rule(category='a', operator='>', rating=1649, destination_workflow='dtm'), Rule(category='a', operator='>', rating=774, destination_workflow='R'), Rule(category='a', operator='<', rating=377, destination_workflow='rlb')), destination_workflow_else='zth'), 'sbh': Workflow(name='sbh', rules=(Rule(category='a', operator='<', rating=3287, destination_workflow='mvg'), Rule(category='m', operator='>', rating=1668, destination_workflow='ltf'), Rule(category='s', operator='>', rating=1331, destination_workflow='fp')), destination_workflow_else='mnq'), 'ngx': Workflow(name='ngx', rules=(Rule(category='s', operator='>', rating=2185, destination_workflow='A'),), destination_workflow_else='R'), 'nks': Workflow(name='nks', rules=(Rule(category='a', operator='<', rating=3191, destination_workflow='A'),), destination_workflow_else='A'), 'vbm': Workflow(name='vbm', rules=(Rule(category='s', operator='>', rating=2968, destination_workflow='R'), Rule(category='a', operator='>', rating=1806, destination_workflow='R')), destination_workflow_else='R'), 'hsz': Workflow(name='hsz', rules=(Rule(category='s', operator='>', rating=2971, destination_workflow='bvb'), Rule(category='a', operator='<', rating=2741, destination_workflow='R'), Rule(category='x', operator='<', rating=2544, destination_workflow='llm')), destination_workflow_else='ph'), 'zkz': Workflow(name='zkz', rules=(Rule(category='m', operator='<', rating=3229, destination_workflow='A'), Rule(category='s', operator='<', rating=157, destination_workflow='A'), Rule(category='s', operator='>', rating=270, destination_workflow='R')), destination_workflow_else='R'), 'hs': Workflow(name='hs', rules=(Rule(category='x', operator='>', rating=2050, destination_workflow='R'), Rule(category='a', operator='>', rating=3411, destination_workflow='R'), Rule(category='x', operator='<', rating=1226, destination_workflow='A')), destination_workflow_else='A'), 'kgf': Workflow(name='kgf', rules=(Rule(category='a', operator='<', rating=2181, destination_workflow='R'), Rule(category='a', operator='<', rating=2345, destination_workflow='R')), destination_workflow_else='A'), 'frb': Workflow(name='frb', rules=(Rule(category='m', operator='>', rating=2039, destination_workflow='lhv'), Rule(category='x', operator='>', rating=3596, destination_workflow='thd'), Rule(category='x', operator='<', rating=3416, destination_workflow='lv')), destination_workflow_else='fcr'), 'lv': Workflow(name='lv', rules=(Rule(category='x', operator='<', rating=3370, destination_workflow='lrt'), Rule(category='s', operator='>', rating=3731, destination_workflow='zvs')), destination_workflow_else='A'), 'dfn': Workflow(name='dfn', rules=(Rule(category='s', operator='<', rating=676, destination_workflow='ssb'), Rule(category='x', operator='>', rating=944, destination_workflow='cfh')), destination_workflow_else='R'), 'bmn': Workflow(name='bmn', rules=(Rule(category='a', operator='>', rating=2630, destination_workflow='gr'), Rule(category='a', operator='>', rating=2504, destination_workflow='R')), destination_workflow_else='A'), 'qzd': Workflow(name='qzd', rules=(Rule(category='m', operator='>', rating=2734, destination_workflow='R'), Rule(category='x', operator='>', rating=697, destination_workflow='A')), destination_workflow_else='kmp'), 'nr': Workflow(name='nr', rules=(Rule(category='m', operator='<', rating=1287, destination_workflow='mz'), Rule(category='s', operator='<', rating=2707, destination_workflow='zl'), Rule(category='m', operator='<', rating=1677, destination_workflow='rbf')), destination_workflow_else='dsf'), 'zvs': Workflow(name='zvs', rules=(Rule(category='x', operator='>', rating=3397, destination_workflow='R'), Rule(category='m', operator='>', rating=1824, destination_workflow='R')), destination_workflow_else='R'), 'pf': Workflow(name='pf', rules=(Rule(category='a', operator='<', rating=2838, destination_workflow='A'), Rule(category='m', operator='<', rating=3134, destination_workflow='A')), destination_workflow_else='R'), 'skn': Workflow(name='skn', rules=(Rule(category='s', operator='<', rating=2806, destination_workflow='A'), Rule(category='a', operator='<', rating=1142, destination_workflow='A')), destination_workflow_else='A'), 'pdh': Workflow(name='pdh', rules=(Rule(category='x', operator='<', rating=1798, destination_workflow='R'),), destination_workflow_else='vg'), 'jcm': Workflow(name='jcm', rules=(Rule(category='a', operator='>', rating=3565, destination_workflow='A'), Rule(category='m', operator='>', rating=2079, destination_workflow='R')), destination_workflow_else='R'), 'bkb': Workflow(name='bkb', rules=(Rule(category='x', operator='>', rating=1158, destination_workflow='A'),), destination_workflow_else='R'), 'pcm': Workflow(name='pcm', rules=(Rule(category='x', operator='<', rating=1851, destination_workflow='A'), Rule(category='m', operator='<', rating=1751, destination_workflow='A'), Rule(category='s', operator='>', rating=3851, destination_workflow='A')), destination_workflow_else='R'), 'cfh': Workflow(name='cfh', rules=(Rule(category='a', operator='>', rating=3349, destination_workflow='A'), Rule(category='a', operator='<', rating=3006, destination_workflow='A')), destination_workflow_else='A'), 'rbl': Workflow(name='rbl', rules=(Rule(category='m', operator='>', rating=254, destination_workflow='lhg'), Rule(category='a', operator='<', rating=2231, destination_workflow='dfj')), destination_workflow_else='mjj'), 'hcj': Workflow(name='hcj', rules=(Rule(category='m', operator='<', rating=324, destination_workflow='ch'), Rule(category='a', operator='>', rating=3431, destination_workflow='btv'), Rule(category='m', operator='>', rating=619, destination_workflow='gt')), destination_workflow_else='db'), 'zmg': Workflow(name='zmg', rules=(Rule(category='s', operator='<', rating=3391, destination_workflow='R'),), destination_workflow_else='A'), 'qst': Workflow(name='qst', rules=(Rule(category='a', operator='<', rating=3728, destination_workflow='bf'),), destination_workflow_else='R'), 'vb': Workflow(name='vb', rules=(Rule(category='x', operator='>', rating=1444, destination_workflow='R'), Rule(category='m', operator='>', rating=1765, destination_workflow='R')), destination_workflow_else='A'), 'kv': Workflow(name='kv', rules=(Rule(category='x', operator='>', rating=2691, destination_workflow='A'), Rule(category='x', operator='<', rating=2598, destination_workflow='R')), destination_workflow_else='A'), 'mdr': Workflow(name='mdr', rules=(Rule(category='s', operator='>', rating=2816, destination_workflow='mf'), Rule(category='s', operator='<', rating=2801, destination_workflow='kbc')), destination_workflow_else='gm'), 'jk': Workflow(name='jk', rules=(Rule(category='x', operator='<', rating=612, destination_workflow='A'), Rule(category='x', operator='>', rating=1099, destination_workflow='R')), destination_workflow_else='A'), 'fn': Workflow(name='fn', rules=(Rule(category='a', operator='<', rating=860, destination_workflow='R'),), destination_workflow_else='R'), 'dc': Workflow(name='dc', rules=(Rule(category='a', operator='<', rating=2050, destination_workflow='A'), Rule(category='s', operator='>', rating=1982, destination_workflow='R')), destination_workflow_else='A'), 'ncp': Workflow(name='ncp', rules=(Rule(category='s', operator='>', rating=2691, destination_workflow='R'),), destination_workflow_else='rbm'), 'zvd': Workflow(name='zvd', rules=(Rule(category='s', operator='>', rating=3076, destination_workflow='R'), Rule(category='x', operator='>', rating=1422, destination_workflow='A')), destination_workflow_else='R'), 'vrt': Workflow(name='vrt', rules=(Rule(category='a', operator='<', rating=2793, destination_workflow='R'), Rule(category='x', operator='<', rating=160, destination_workflow='R')), destination_workflow_else='A'), 'jj': Workflow(name='jj', rules=(Rule(category='x', operator='>', rating=790, destination_workflow='R'), Rule(category='x', operator='<', rating=446, destination_workflow='R'), Rule(category='m', operator='<', rating=2015, destination_workflow='R')), destination_workflow_else='A'), 'zjz': Workflow(name='zjz', rules=(Rule(category='x', operator='<', rating=3462, destination_workflow='R'), Rule(category='m', operator='<', rating=272, destination_workflow='A')), destination_workflow_else='A'), 'vlf': Workflow(name='vlf', rules=(Rule(category='a', operator='<', rating=2738, destination_workflow='R'),), destination_workflow_else='fq'), 'kpr': Workflow(name='kpr', rules=(Rule(category='a', operator='>', rating=3349, destination_workflow='qp'),), destination_workflow_else='znm'), 'xzb': Workflow(name='xzb', rules=(Rule(category='a', operator='<', rating=2986, destination_workflow='kq'), Rule(category='a', operator='>', rating=3149, destination_workflow='xvz'), Rule(category='a', operator='>', rating=3050, destination_workflow='gc')), destination_workflow_else='czx'), 'gg': Workflow(name='gg', rules=(Rule(category='s', operator='<', rating=2139, destination_workflow='A'), Rule(category='x', operator='>', rating=1565, destination_workflow='A')), destination_workflow_else='A'), 'tv': Workflow(name='tv', rules=(Rule(category='a', operator='<', rating=3564, destination_workflow='A'), Rule(category='m', operator='<', rating=599, destination_workflow='hjv')), destination_workflow_else='A'), 'fvs': Workflow(name='fvs', rules=(Rule(category='a', operator='<', rating=2854, destination_workflow='R'),), destination_workflow_else='R'), 'xvs': Workflow(name='xvs', rules=(Rule(category='s', operator='>', rating=1856, destination_workflow='R'),), destination_workflow_else='A'), 'pg': Workflow(name='pg', rules=(Rule(category='s', operator='>', rating=774, destination_workflow='R'),), destination_workflow_else='xsl'), 'zxf': Workflow(name='zxf', rules=(Rule(category='a', operator='<', rating=2456, destination_workflow='A'), Rule(category='x', operator='>', rating=2503, destination_workflow='R'), Rule(category='m', operator='>', rating=3721, destination_workflow='A')), destination_workflow_else='A'), 'qmx': Workflow(name='qmx', rules=(Rule(category='s', operator='>', rating=260, destination_workflow='R'), Rule(category='m', operator='>', rating=495, destination_workflow='A'), Rule(category='s', operator='>', rating=141, destination_workflow='R')), destination_workflow_else='A'), 'dj': Workflow(name='dj', rules=(Rule(category='x', operator='<', rating=352, destination_workflow='R'),), destination_workflow_else='A'), 'qlt': Workflow(name='qlt', rules=(Rule(category='a', operator='>', rating=3239, destination_workflow='flm'), Rule(category='a', operator='<', rating=2741, destination_workflow='qhq')), destination_workflow_else='cn'), 'bj': Workflow(name='bj', rules=(Rule(category='a', operator='<', rating=3261, destination_workflow='rnc'),), destination_workflow_else='rz'), 'qf': Workflow(name='qf', rules=(Rule(category='a', operator='>', rating=3523, destination_workflow='pq'),), destination_workflow_else='lzz'), 'js': Workflow(name='js', rules=(Rule(category='m', operator='>', rating=1214, destination_workflow='R'), Rule(category='x', operator='<', rating=3698, destination_workflow='A'), Rule(category='a', operator='>', rating=2628, destination_workflow='hrk')), destination_workflow_else='lvg'), 'xj': Workflow(name='xj', rules=(Rule(category='x', operator='<', rating=2614, destination_workflow='A'), Rule(category='s', operator='>', rating=563, destination_workflow='A')), destination_workflow_else='R'), 'vvv': Workflow(name='vvv', rules=(Rule(category='a', operator='>', rating=2508, destination_workflow='zvd'), Rule(category='a', operator='<', rating=2490, destination_workflow='A'), Rule(category='m', operator='<', rating=3417, destination_workflow='A')), destination_workflow_else='qr'), 'fd': Workflow(name='fd', rules=(Rule(category='x', operator='<', rating=1479, destination_workflow='qhh'), Rule(category='m', operator='>', rating=571, destination_workflow='pjp')), destination_workflow_else='A'), 'hlm': Workflow(name='hlm', rules=(Rule(category='s', operator='>', rating=998, destination_workflow='R'),), destination_workflow_else='R'), 'kp': Workflow(name='kp', rules=(Rule(category='m', operator='<', rating=3528, destination_workflow='R'), Rule(category='s', operator='>', rating=1234, destination_workflow='vdf')), destination_workflow_else='A'), 'zl': Workflow(name='zl', rules=(Rule(category='s', operator='<', rating=2659, destination_workflow='zr'), Rule(category='m', operator='<', rating=1760, destination_workflow='dqp')), destination_workflow_else='tlv'), 'vz': Workflow(name='vz', rules=(Rule(category='x', operator='<', rating=2661, destination_workflow='dbx'), Rule(category='m', operator='>', rating=3637, destination_workflow='zq')), destination_workflow_else='R'), 'tqs': Workflow(name='tqs', rules=(Rule(category='m', operator='>', rating=1877, destination_workflow='A'), Rule(category='s', operator='<', rating=2962, destination_workflow='R'), Rule(category='x', operator='<', rating=599, destination_workflow='A')), destination_workflow_else='A'), 'qt': Workflow(name='qt', rules=(Rule(category='m', operator='>', rating=720, destination_workflow='A'),), destination_workflow_else='R'), 'xjt': Workflow(name='xjt', rules=(Rule(category='x', operator='<', rating=2702, destination_workflow='vsj'), Rule(category='x', operator='>', rating=2842, destination_workflow='A'), Rule(category='x', operator='<', rating=2779, destination_workflow='fn')), destination_workflow_else='R'), 'rd': Workflow(name='rd', rules=(Rule(category='a', operator='<', rating=1509, destination_workflow='R'),), destination_workflow_else='R'), 'fts': Workflow(name='fts', rules=(Rule(category='s', operator='>', rating=1363, destination_workflow='R'), Rule(category='s', operator='>', rating=531, destination_workflow='bkb')), destination_workflow_else='R'), 'hhv': Workflow(name='hhv', rules=(Rule(category='s', operator='<', rating=1493, destination_workflow='fbh'), Rule(category='m', operator='>', rating=180, destination_workflow='A')), destination_workflow_else='A'), 'fcl': Workflow(name='fcl', rules=(Rule(category='m', operator='>', rating=3590, destination_workflow='A'), Rule(category='x', operator='>', rating=1096, destination_workflow='A'), Rule(category='a', operator='>', rating=2458, destination_workflow='A')), destination_workflow_else='R'), 'qhq': Workflow(name='qhq', rules=(Rule(category='a', operator='>', rating=2530, destination_workflow='lj'), Rule(category='a', operator='<', rating=2479, destination_workflow='sb')), destination_workflow_else='tjc'), 'tlv': Workflow(name='tlv', rules=(Rule(category='s', operator='<', rating=2677, destination_workflow='jj'), Rule(category='m', operator='>', rating=2041, destination_workflow='R'), Rule(category='x', operator='<', rating=1117, destination_workflow='qbq')), destination_workflow_else='rb'), 'jsn': Workflow(name='jsn', rules=(Rule(category='x', operator='<', rating=2187, destination_workflow='R'), Rule(category='x', operator='>', rating=2306, destination_workflow='A'), Rule(category='x', operator='>', rating=2235, destination_workflow='A')), destination_workflow_else='R'), 'tll': Workflow(name='tll', rules=(Rule(category='a', operator='>', rating=1931, destination_workflow='A'), Rule(category='m', operator='>', rating=2553, destination_workflow='A')), destination_workflow_else='R'), 'pvr': Workflow(name='pvr', rules=(Rule(category='m', operator='<', rating=1861, destination_workflow='R'), Rule(category='a', operator='>', rating=3483, destination_workflow='A')), destination_workflow_else='R'), 'nbh': Workflow(name='nbh', rules=(Rule(category='a', operator='<', rating=2715, destination_workflow='A'), Rule(category='s', operator='<', rating=3144, destination_workflow='A'), Rule(category='x', operator='<', rating=3691, destination_workflow='A')), destination_workflow_else='R'), 'gx': Workflow(name='gx', rules=(Rule(category='s', operator='<', rating=2810, destination_workflow='R'), Rule(category='s', operator='>', rating=2928, destination_workflow='R')), destination_workflow_else='R'), 'stp': Workflow(name='stp', rules=(Rule(category='a', operator='>', rating=3041, destination_workflow='tg'), Rule(category='a', operator='>', rating=2950, destination_workflow='pc')), destination_workflow_else='vl'), 'szb': Workflow(name='szb', rules=(Rule(category='x', operator='>', rating=1603, destination_workflow='R'), Rule(category='m', operator='<', rating=3376, destination_workflow='A'), Rule(category='a', operator='>', rating=3316, destination_workflow='A')), destination_workflow_else='R'), 'fv': Workflow(name='fv', rules=(Rule(category='s', operator='>', rating=2671, destination_workflow='A'), Rule(category='s', operator='<', rating=2607, destination_workflow='A')), destination_workflow_else='R'), 'jxx': Workflow(name='jxx', rules=(Rule(category='x', operator='>', rating=656, destination_workflow='R'), Rule(category='s', operator='<', rating=2966, destination_workflow='R'), Rule(category='s', operator='>', rating=2970, destination_workflow='R')), destination_workflow_else='R'), 'cq': Workflow(name='cq', rules=(Rule(category='x', operator='<', rating=2198, destination_workflow='cr'), Rule(category='a', operator='>', rating=2497, destination_workflow='spl')), destination_workflow_else='bn'), 'gvj': Workflow(name='gvj', rules=(Rule(category='a', operator='>', rating=2538, destination_workflow='A'), Rule(category='s', operator='<', rating=3751, destination_workflow='A'), Rule(category='s', operator='<', rating=3782, destination_workflow='R')), destination_workflow_else='A'), 'qd': Workflow(name='qd', rules=(Rule(category='m', operator='<', rating=3240, destination_workflow='A'), Rule(category='a', operator='>', rating=1838, destination_workflow='R'), Rule(category='s', operator='<', rating=3924, destination_workflow='A')), destination_workflow_else='A'), 'shv': Workflow(name='shv', rules=(Rule(category='x', operator='>', rating=3654, destination_workflow='sbb'),), destination_workflow_else='R'), 'nmj': Workflow(name='nmj', rules=(Rule(category='m', operator='<', rating=1776, destination_workflow='A'), Rule(category='s', operator='<', rating=3321, destination_workflow='R'), Rule(category='m', operator='<', rating=2195, destination_workflow='A')), destination_workflow_else='A'), 'jjh': Workflow(name='jjh', rules=(Rule(category='a', operator='<', rating=3137, destination_workflow='R'), Rule(category='a', operator='<', rating=3237, destination_workflow='R')), destination_workflow_else='A'), 'rlz': Workflow(name='rlz', rules=(Rule(category='s', operator='>', rating=2956, destination_workflow='A'), Rule(category='s', operator='<', rating=2955, destination_workflow='A')), destination_workflow_else='R'), 'jm': Workflow(name='jm', rules=(Rule(category='m', operator='>', rating=1772, destination_workflow='dc'), Rule(category='m', operator='>', rating=1476, destination_workflow='R'), Rule(category='x', operator='<', rating=2711, destination_workflow='R')), destination_workflow_else='R'), 'nqp': Workflow(name='nqp', rules=(Rule(category='s', operator='>', rating=3530, destination_workflow='A'), Rule(category='m', operator='<', rating=1333, destination_workflow='A')), destination_workflow_else='A'), 'htf': Workflow(name='htf', rules=(Rule(category='s', operator='>', rating=2965, destination_workflow='A'), Rule(category='s', operator='<', rating=2961, destination_workflow='rlz'), Rule(category='s', operator='>', rating=2963, destination_workflow='dg')), destination_workflow_else='tqs'), 'zm': Workflow(name='zm', rules=(Rule(category='a', operator='<', rating=3051, destination_workflow='A'), Rule(category='s', operator='>', rating=3448, destination_workflow='A')), destination_workflow_else='R'), 'mc': Workflow(name='mc', rules=(Rule(category='m', operator='<', rating=959, destination_workflow='zc'), Rule(category='m', operator='>', rating=1897, destination_workflow='A')), destination_workflow_else='R'), 'ln': Workflow(name='ln', rules=(Rule(category='x', operator='>', rating=3887, destination_workflow='A'), Rule(category='m', operator='>', rating=1127, destination_workflow='A'), Rule(category='m', operator='<', rating=737, destination_workflow='A')), destination_workflow_else='R'), 'zr': Workflow(name='zr', rules=(Rule(category='a', operator='<', rating=3138, destination_workflow='R'), Rule(category='x', operator='>', rating=1271, destination_workflow='mbg')), destination_workflow_else='R'), 'lj': Workflow(name='lj', rules=(Rule(category='x', operator='>', rating=2030, destination_workflow='hz'), Rule(category='x', operator='>', rating=804, destination_workflow='qx'), Rule(category='m', operator='>', rating=2999, destination_workflow='ll')), destination_workflow_else='xx'), 'ssj': Workflow(name='ssj', rules=(Rule(category='s', operator='<', rating=1976, destination_workflow='A'),), destination_workflow_else='A'), 'thz': Workflow(name='thz', rules=(Rule(category='x', operator='>', rating=766, destination_workflow='px'), Rule(category='s', operator='>', rating=2976, destination_workflow='tzb'), Rule(category='x', operator='<', rating=503, destination_workflow='kpr')), destination_workflow_else='mx'), 'vjf': Workflow(name='vjf', rules=(Rule(category='m', operator='>', rating=1878, destination_workflow='rvx'), Rule(category='a', operator='<', rating=3087, destination_workflow='pp'), Rule(category='a', operator='>', rating=3656, destination_workflow='dj')), destination_workflow_else='zt'), 'gf': Workflow(name='gf', rules=(Rule(category='m', operator='>', rating=1233, destination_workflow='R'),), destination_workflow_else='R'), 'cbp': Workflow(name='cbp', rules=(Rule(category='s', operator='>', rating=2758, destination_workflow='R'), Rule(category='a', operator='>', rating=3248, destination_workflow='qnr'), Rule(category='x', operator='<', rating=2255, destination_workflow='fv')), destination_workflow_else='R'), 'lm': Workflow(name='lm', rules=(Rule(category='m', operator='>', rating=878, destination_workflow='R'),), destination_workflow_else='cfl'), 'vq': Workflow(name='vq', rules=(Rule(category='m', operator='<', rating=1733, destination_workflow='A'), Rule(category='m', operator='>', rating=1985, destination_workflow='nb'), Rule(category='s', operator='<', rating=993, destination_workflow='A')), destination_workflow_else='jfq'), 'gv': Workflow(name='gv', rules=(Rule(category='m', operator='<', rating=1633, destination_workflow='A'),), destination_workflow_else='sn'), 'rt': Workflow(name='rt', rules=(Rule(category='s', operator='<', rating=3464, destination_workflow='A'),), destination_workflow_else='A'), 'qjl': Workflow(name='qjl', rules=(Rule(category='a', operator='>', rating=1683, destination_workflow='R'),), destination_workflow_else='A'), 'cfl': Workflow(name='cfl', rules=(Rule(category='a', operator='>', rating=2115, destination_workflow='A'), Rule(category='a', operator='>', rating=1855, destination_workflow='R'), Rule(category='m', operator='>', rating=739, destination_workflow='A')), destination_workflow_else='R'), 'rcd': Workflow(name='rcd', rules=(Rule(category='a', operator='<', rating=3401, destination_workflow='A'), Rule(category='m', operator='>', rating=2007, destination_workflow='A')), destination_workflow_else='A'), 'lmx': Workflow(name='lmx', rules=(Rule(category='s', operator='>', rating=1795, destination_workflow='R'), Rule(category='a', operator='<', rating=3764, destination_workflow='R'), Rule(category='x', operator='<', rating=2599, destination_workflow='R')), destination_workflow_else='A'), 'tjc': Workflow(name='tjc', rules=(Rule(category='s', operator='<', rating=3432, destination_workflow='vvv'), Rule(category='s', operator='<', rating=3679, destination_workflow='cq'), Rule(category='x', operator='<', rating=2065, destination_workflow='qm')), destination_workflow_else='jr'), 'kd': Workflow(name='kd', rules=(Rule(category='s', operator='<', rating=403, destination_workflow='vld'),), destination_workflow_else='dfn'), 'kf': Workflow(name='kf', rules=(Rule(category='s', operator='<', rating=3213, destination_workflow='vbm'), Rule(category='a', operator='>', rating=1674, destination_workflow='A')), destination_workflow_else='dp'), 'hfh': Workflow(name='hfh', rules=(Rule(category='s', operator='>', rating=187, destination_workflow='A'), Rule(category='a', operator='>', rating=3393, destination_workflow='A')), destination_workflow_else='A'), 'cln': Workflow(name='cln', rules=(Rule(category='a', operator='>', rating=3043, destination_workflow='gpr'), Rule(category='m', operator='>', rating=2550, destination_workflow='pqh'), Rule(category='s', operator='<', rating=1070, destination_workflow='ps')), destination_workflow_else='rnz'), 'vp': Workflow(name='vp', rules=(Rule(category='s', operator='<', rating=2975, destination_workflow='A'), Rule(category='s', operator='>', rating=3013, destination_workflow='R'), Rule(category='s', operator='<', rating=2993, destination_workflow='A')), destination_workflow_else='R'), 'tdr': Workflow(name='tdr', rules=(Rule(category='a', operator='>', rating=1951, destination_workflow='kgf'),), destination_workflow_else='A'), 'qb': Workflow(name='qb', rules=(Rule(category='s', operator='<', rating=3522, destination_workflow='zv'),), destination_workflow_else='hr'), 'rcp': Workflow(name='rcp', rules=(Rule(category='m', operator='<', rating=2529, destination_workflow='bq'), Rule(category='s', operator='>', rating=3387, destination_workflow='fc')), destination_workflow_else='lgz'), 'hj': Workflow(name='hj', rules=(Rule(category='a', operator='<', rating=3013, destination_workflow='A'),), destination_workflow_else='R'), 'dst': Workflow(name='dst', rules=(Rule(category='s', operator='>', rating=2221, destination_workflow='A'),), destination_workflow_else='ssj'), 'vs': Workflow(name='vs', rules=(Rule(category='a', operator='>', rating=3455, destination_workflow='A'), Rule(category='m', operator='>', rating=1411, destination_workflow='R'), Rule(category='x', operator='<', rating=2959, destination_workflow='R')), destination_workflow_else='A'), 'zt': Workflow(name='zt', rules=(Rule(category='x', operator='<', rating=477, destination_workflow='A'),), destination_workflow_else='A'), 'lsb': Workflow(name='lsb', rules=(Rule(category='a', operator='>', rating=3616, destination_workflow='R'),), destination_workflow_else='A'), 'zxn': Workflow(name='zxn', rules=(Rule(category='a', operator='<', rating=3282, destination_workflow='R'),), destination_workflow_else='A'), 'dsq': Workflow(name='dsq', rules=(Rule(category='s', operator='>', rating=1483, destination_workflow='R'),), destination_workflow_else='R'), 'gzh': Workflow(name='gzh', rules=(Rule(category='x', operator='<', rating=2348, destination_workflow='A'), Rule(category='x', operator='>', rating=3307, destination_workflow='R'), Rule(category='x', operator='>', rating=2917, destination_workflow='R')), destination_workflow_else='R'), 'th': Workflow(name='th', rules=(Rule(category='s', operator='>', rating=2362, destination_workflow='R'), Rule(category='a', operator='<', rating=3642, destination_workflow='A'), Rule(category='m', operator='>', rating=1175, destination_workflow='A')), destination_workflow_else='A'), 'mnz': Workflow(name='mnz', rules=(Rule(category='s', operator='<', rating=2773, destination_workflow='A'), Rule(category='x', operator='<', rating=1683, destination_workflow='R'), Rule(category='m', operator='<', rating=2163, destination_workflow='A')), destination_workflow_else='R'), 'qfs': Workflow(name='qfs', rules=(Rule(category='x', operator='>', rating=2119, destination_workflow='st'), Rule(category='s', operator='<', rating=2790, destination_workflow='nr'), Rule(category='s', operator='<', rating=2921, destination_workflow='qkl')), destination_workflow_else='thz'), 'xnq': Workflow(name='xnq', rules=(Rule(category='x', operator='<', rating=1098, destination_workflow='R'),), destination_workflow_else='A'), 'czl': Workflow(name='czl', rules=(Rule(category='a', operator='<', rating=3492, destination_workflow='R'), Rule(category='m', operator='<', rating=1520, destination_workflow='dhn')), destination_workflow_else='R'), 'ph': Workflow(name='ph', rules=(Rule(category='a', operator='>', rating=2885, destination_workflow='R'),), destination_workflow_else='A'), 'mpx': Workflow(name='mpx', rules=(Rule(category='a', operator='>', rating=1392, destination_workflow='A'),), destination_workflow_else='A'), 'cl': Workflow(name='cl', rules=(Rule(category='s', operator='<', rating=2801, destination_workflow='A'),), destination_workflow_else='R'), 'hgn': Workflow(name='hgn', rules=(Rule(category='m', operator='<', rating=756, destination_workflow='R'),), destination_workflow_else='A'), 'btm': Workflow(name='btm', rules=(Rule(category='a', operator='>', rating=2988, destination_workflow='A'), Rule(category='x', operator='<', rating=3864, destination_workflow='R'), Rule(category='m', operator='<', rating=1372, destination_workflow='jvn')), destination_workflow_else='tz'), 'jr': Workflow(name='jr', rules=(Rule(category='x', operator='>', rating=3188, destination_workflow='R'),), destination_workflow_else='zck'), 'ls': Workflow(name='ls', rules=(Rule(category='m', operator='<', rating=2394, destination_workflow='R'), Rule(category='x', operator='<', rating=1213, destination_workflow='R'), Rule(category='m', operator='>', rating=2494, destination_workflow='R')), destination_workflow_else='A'), 'xd': Workflow(name='xd', rules=(Rule(category='x', operator='<', rating=2427, destination_workflow='A'),), destination_workflow_else='nnq'), 'jcr': Workflow(name='jcr', rules=(Rule(category='a', operator='>', rating=967, destination_workflow='R'), Rule(category='x', operator='<', rating=1751, destination_workflow='A')), destination_workflow_else='R'), 'sn': Workflow(name='sn', rules=(Rule(category='a', operator='<', rating=3153, destination_workflow='R'),), destination_workflow_else='A'), 'rql': Workflow(name='rql', rules=(Rule(category='m', operator='<', rating=3168, destination_workflow='A'), Rule(category='x', operator='>', rating=2596, destination_workflow='R')), destination_workflow_else='R'), 'dcr': Workflow(name='dcr', rules=(Rule(category='x', operator='<', rating=1750, destination_workflow='R'),), destination_workflow_else='R'), 'sbb': Workflow(name='sbb', rules=(Rule(category='x', operator='>', rating=3775, destination_workflow='A'), Rule(category='m', operator='<', rating=3154, destination_workflow='A'), Rule(category='x', operator='>', rating=3698, destination_workflow='A')), destination_workflow_else='A'), 'rbm': Workflow(name='rbm', rules=(Rule(category='s', operator='<', rating=2632, destination_workflow='A'), Rule(category='m', operator='<', rating=834, destination_workflow='R'), Rule(category='m', operator='<', rating=1054, destination_workflow='R')), destination_workflow_else='R'), 'gmc': Workflow(name='gmc', rules=(Rule(category='x', operator='<', rating=3699, destination_workflow='A'), Rule(category='a', operator='<', rating=3675, destination_workflow='nqp'), Rule(category='s', operator='<', rating=3600, destination_workflow='A')), destination_workflow_else='ln'), 'tcn': Workflow(name='tcn', rules=(Rule(category='s', operator='>', rating=1171, destination_workflow='A'), Rule(category='s', operator='<', rating=704, destination_workflow='A'), Rule(category='a', operator='>', rating=3813, destination_workflow='R')), destination_workflow_else='A'), 'frz': Workflow(name='frz', rules=(Rule(category='m', operator='>', rating=2254, destination_workflow='R'),), destination_workflow_else='A'), 'sb': Workflow(name='sb', rules=(Rule(category='m', operator='<', rating=3303, destination_workflow='xq'), Rule(category='a', operator='<', rating=2445, destination_workflow='dzj'), Rule(category='s', operator='>', rating=3171, destination_workflow='qc')), destination_workflow_else='pps'), 'lvg': Workflow(name='lvg', rules=(Rule(category='m', operator='<', rating=937, destination_workflow='R'),), destination_workflow_else='A'), 'mfd': Workflow(name='mfd', rules=(Rule(category='m', operator='<', rating=2168, destination_workflow='rl'),), destination_workflow_else='vk'), 'mg': Workflow(name='mg', rules=(Rule(category='s', operator='>', rating=3286, destination_workflow='dn'), Rule(category='s', operator='>', rating=3191, destination_workflow='ft'), Rule(category='x', operator='<', rating=3608, destination_workflow='sr')), destination_workflow_else='qs'), 'qzq': Workflow(name='qzq', rules=(Rule(category='s', operator='>', rating=2669, destination_workflow='hn'), Rule(category='x', operator='>', rating=421, destination_workflow='A')), destination_workflow_else='R'), 'fpb': Workflow(name='fpb', rules=(Rule(category='s', operator='>', rating=2828, destination_workflow='A'), Rule(category='m', operator='<', rating=1974, destination_workflow='R'), Rule(category='m', operator='>', rating=2023, destination_workflow='R')), destination_workflow_else='R'), 'jn': Workflow(name='jn', rules=(Rule(category='a', operator='>', rating=3652, destination_workflow='A'), Rule(category='m', operator='>', rating=835, destination_workflow='A'), Rule(category='x', operator='>', rating=596, destination_workflow='A')), destination_workflow_else='R'), 'lgz': Workflow(name='lgz', rules=(Rule(category='s', operator='>', rating=3091, destination_workflow='mpx'), Rule(category='a', operator='<', rating=1339, destination_workflow='lk'), Rule(category='a', operator='<', rating=1730, destination_workflow='mm')), destination_workflow_else='gx'), 'qjz': Workflow(name='qjz', rules=(Rule(category='a', operator='<', rating=1454, destination_workflow='hvq'),), destination_workflow_else='qd'), 'zc': Workflow(name='zc', rules=(Rule(category='a', operator='<', rating=2664, destination_workflow='R'), Rule(category='a', operator='>', rating=2742, destination_workflow='R'), Rule(category='a', operator='>', rating=2708, destination_workflow='A')), destination_workflow_else='A'), 'ps': Workflow(name='ps', rules=(Rule(category='a', operator='>', rating=2867, destination_workflow='A'), Rule(category='s', operator='>', rating=585, destination_workflow='R')), destination_workflow_else='tbk'), 'srj': Workflow(name='srj', rules=(Rule(category='m', operator='<', rating=3535, destination_workflow='R'), Rule(category='s', operator='>', rating=3566, destination_workflow='A'), Rule(category='a', operator='<', rating=3190, destination_workflow='R')), destination_workflow_else='R'), 'sk': Workflow(name='sk', rules=(Rule(category='m', operator='>', rating=1728, destination_workflow='jnv'), Rule(category='m', operator='<', rating=698, destination_workflow='snk')), destination_workflow_else='jt'), 'lzz': Workflow(name='lzz', rules=(Rule(category='x', operator='>', rating=1104, destination_workflow='nrj'), Rule(category='m', operator='<', rating=2685, destination_workflow='R'), Rule(category='m', operator='>', rating=3125, destination_workflow='A')), destination_workflow_else='flt'), 'jnv': Workflow(name='jnv', rules=(Rule(category='s', operator='<', rating=1551, destination_workflow='pg'), Rule(category='a', operator='>', rating=1585, destination_workflow='tdr'), Rule(category='x', operator='<', rating=1123, destination_workflow='qjh')), destination_workflow_else='cfj'), 'mr': Workflow(name='mr', rules=(Rule(category='m', operator='<', rating=1914, destination_workflow='R'),), destination_workflow_else='R'), 'cx': Workflow(name='cx', rules=(Rule(category='m', operator='>', rating=931, destination_workflow='A'), Rule(category='s', operator='<', rating=3493, destination_workflow='A'), Rule(category='x', operator='<', rating=2520, destination_workflow='R')), destination_workflow_else='R'), 'lrt': Workflow(name='lrt', rules=(Rule(category='x', operator='>', rating=3327, destination_workflow='A'), Rule(category='m', operator='>', rating=1774, destination_workflow='A'), Rule(category='a', operator='<', rating=2780, destination_workflow='A')), destination_workflow_else='A'), 'hx': Workflow(name='hx', rules=(Rule(category='s', operator='>', rating=2985, destination_workflow='R'), Rule(category='x', operator='>', rating=1578, destination_workflow='A')), destination_workflow_else='A'), 'cfj': Workflow(name='cfj', rules=(Rule(category='a', operator='>', rating=624, destination_workflow='cc'), Rule(category='s', operator='>', rating=1987, destination_workflow='spm')), destination_workflow_else='A'), 'mdf': Workflow(name='mdf', rules=(Rule(category='m', operator='<', rating=1508, destination_workflow='R'),), destination_workflow_else='A'), 'pkp': Workflow(name='pkp', rules=(Rule(category='x', operator='>', rating=2750, destination_workflow='R'), Rule(category='m', operator='<', rating=1095, destination_workflow='A'), Rule(category='a', operator='>', rating=2051, destination_workflow='R')), destination_workflow_else='R'), 'jx': Workflow(name='jx', rules=(Rule(category='s', operator='<', rating=1021, destination_workflow='vnh'), Rule(category='s', operator='<', rating=1563, destination_workflow='A'), Rule(category='x', operator='<', rating=1053, destination_workflow='qxb')), destination_workflow_else='phh'), 'vg': Workflow(name='vg', rules=(Rule(category='m', operator='>', rating=3162, destination_workflow='R'), Rule(category='m', operator='<', rating=2522, destination_workflow='R')), destination_workflow_else='A'), 'zz': Workflow(name='zz', rules=(Rule(category='a', operator='<', rating=3128, destination_workflow='lh'),), destination_workflow_else='qb'), 'jp': Workflow(name='jp', rules=(Rule(category='x', operator='<', rating=1335, destination_workflow='R'), Rule(category='s', operator='<', rating=3280, destination_workflow='R')), destination_workflow_else='A'), 'jzf': Workflow(name='jzf', rules=(Rule(category='x', operator='>', rating=1251, destination_workflow='rjd'),), destination_workflow_else='xl'), 'bsd': Workflow(name='bsd', rules=(Rule(category='m', operator='<', rating=1264, destination_workflow='nh'), Rule(category='s', operator='>', rating=3470, destination_workflow='gn')), destination_workflow_else='A'), 'qs': Workflow(name='qs', rules=(Rule(category='x', operator='>', rating=3783, destination_workflow='R'), Rule(category='m', operator='>', rating=1564, destination_workflow='A')), destination_workflow_else='nbh'), 'sd': Workflow(name='sd', rules=(Rule(category='s', operator='>', rating=3611, destination_workflow='xnq'),), destination_workflow_else='bsd'), 'qrh': Workflow(name='qrh', rules=(Rule(category='a', operator='<', rating=3351, destination_workflow='A'),), destination_workflow_else='A'), 'qjh': Workflow(name='qjh', rules=(Rule(category='a', operator='>', rating=1016, destination_workflow='A'),), destination_workflow_else='R'), 'mbs': Workflow(name='mbs', rules=(Rule(category='s', operator='>', rating=1538, destination_workflow='jcr'), Rule(category='x', operator='>', rating=1578, destination_workflow='prd'), Rule(category='m', operator='>', rating=1097, destination_workflow='A')), destination_workflow_else='vtt'), 'xnb': Workflow(name='xnb', rules=(Rule(category='a', operator='<', rating=2449, destination_workflow='A'),), destination_workflow_else='R'), 'ttl': Workflow(name='ttl', rules=(Rule(category='x', operator='<', rating=3485, destination_workflow='A'), Rule(category='s', operator='<', rating=3613, destination_workflow='R')), destination_workflow_else='A'), 'zk': Workflow(name='zk', rules=(Rule(category='x', operator='>', rating=1459, destination_workflow='A'),), destination_workflow_else='R'), 'qr': Workflow(name='qr', rules=(Rule(category='x', operator='<', rating=1371, destination_workflow='R'), Rule(category='x', operator='<', rating=2251, destination_workflow='R')), destination_workflow_else='R'), 'zzk': Workflow(name='zzk', rules=(Rule(category='s', operator='<', rating=2054, destination_workflow='R'),), destination_workflow_else='blr'), 'jht': Workflow(name='jht', rules=(Rule(category='x', operator='>', rating=1719, destination_workflow='qdv'), Rule(category='x', operator='<', rating=1430, destination_workflow='qrr'), Rule(category='m', operator='<', rating=1821, destination_workflow='tpp')), destination_workflow_else='mmv'), 'll': Workflow(name='ll', rules=(Rule(category='x', operator='<', rating=276, destination_workflow='trr'), Rule(category='a', operator='>', rating=2636, destination_workflow='fb')), destination_workflow_else='R'), 'kmn': Workflow(name='kmn', rules=(Rule(category='s', operator='<', rating=1306, destination_workflow='A'),), destination_workflow_else='R'), 'lb': Workflow(name='lb', rules=(Rule(category='x', operator='<', rating=1890, destination_workflow='R'),), destination_workflow_else='A'), 'cc': Workflow(name='cc', rules=(Rule(category='s', operator='<', rating=2128, destination_workflow='R'), Rule(category='m', operator='>', rating=2570, destination_workflow='A'), Rule(category='x', operator='<', rating=1525, destination_workflow='A')), destination_workflow_else='R'), 'xdp': Workflow(name='xdp', rules=(Rule(category='x', operator='<', rating=2752, destination_workflow='xj'), Rule(category='x', operator='<', rating=2829, destination_workflow='R')), destination_workflow_else='R'), 'pb': Workflow(name='pb', rules=(Rule(category='m', operator='>', rating=1328, destination_workflow='A'), Rule(category='x', operator='>', rating=3126, destination_workflow='A')), destination_workflow_else='dx'), 'clh': Workflow(name='clh', rules=(Rule(category='x', operator='<', rating=2549, destination_workflow='bj'), Rule(category='x', operator='>', rating=3292, destination_workflow='cm')), destination_workflow_else='zz'), 'dv': Workflow(name='dv', rules=(Rule(category='x', operator='<', rating=1801, destination_workflow='A'),), destination_workflow_else='A'), 'nk': Workflow(name='nk', rules=(Rule(category='s', operator='<', rating=3261, destination_workflow='A'), Rule(category='m', operator='<', rating=3021, destination_workflow='A')), destination_workflow_else='jsn'), 'vnh': Workflow(name='vnh', rules=(Rule(category='m', operator='<', rating=551, destination_workflow='A'), Rule(category='a', operator='<', rating=3426, destination_workflow='A'), Rule(category='x', operator='<', rating=1018, destination_workflow='R')), destination_workflow_else='A'), 'qnr': Workflow(name='qnr', rules=(Rule(category='s', operator='>', rating=2657, destination_workflow='A'), Rule(category='s', operator='<', rating=2620, destination_workflow='A')), destination_workflow_else='A'), 'kk': Workflow(name='kk', rules=(Rule(category='x', operator='<', rating=2566, destination_workflow='sz'), Rule(category='m', operator='<', rating=940, destination_workflow='A')), destination_workflow_else='pkp'), 'gz': Workflow(name='gz', rules=(Rule(category='x', operator='>', rating=2827, destination_workflow='A'), Rule(category='m', operator='>', rating=1377, destination_workflow='R'), Rule(category='a', operator='>', rating=3844, destination_workflow='A')), destination_workflow_else='R'), 'jf': Workflow(name='jf', rules=(Rule(category='s', operator='>', rating=3198, destination_workflow='R'),), destination_workflow_else='A'), 'rbf': Workflow(name='rbf', rules=(Rule(category='a', operator='<', rating=3435, destination_workflow='lsv'), Rule(category='x', operator='>', rating=1124, destination_workflow='jl')), destination_workflow_else='kz'), 'pqh': Workflow(name='pqh', rules=(Rule(category='x', operator='<', rating=3580, destination_workflow='fgd'), Rule(category='x', operator='<', rating=3742, destination_workflow='R'), Rule(category='m', operator='<', rating=3446, destination_workflow='R')), destination_workflow_else='R'), 'ssb': Workflow(name='ssb', rules=(Rule(category='s', operator='>', rating=569, destination_workflow='R'),), destination_workflow_else='A'), 'xvz': Workflow(name='xvz', rules=(Rule(category='s', operator='<', rating=3172, destination_workflow='A'), Rule(category='m', operator='>', rating=3249, destination_workflow='srj'), Rule(category='s', operator='<', rating=3675, destination_workflow='R')), destination_workflow_else='A'), 'vst': Workflow(name='vst', rules=(Rule(category='a', operator='<', rating=174, destination_workflow='kqf'), Rule(category='m', operator='<', rating=932, destination_workflow='pr')), destination_workflow_else='tb'), 'dz': Workflow(name='dz', rules=(Rule(category='s', operator='>', rating=3139, destination_workflow='A'), Rule(category='m', operator='>', rating=3016, destination_workflow='R'), Rule(category='s', operator='>', rating=2916, destination_workflow='ts')), destination_workflow_else='A'), 'cm': Workflow(name='cm', rules=(Rule(category='a', operator='>', rating=3220, destination_workflow='nfl'), Rule(category='s', operator='<', rating=3581, destination_workflow='mg'), Rule(category='m', operator='>', rating=1572, destination_workflow='frb')), destination_workflow_else='fpz'), 'lmd': Workflow(name='lmd', rules=(Rule(category='s', operator='<', rating=531, destination_workflow='qmx'),), destination_workflow_else='A'), 'rv': Workflow(name='rv', rules=(Rule(category='s', operator='<', rating=883, destination_workflow='gtp'),), destination_workflow_else='R'), 'mj': Workflow(name='mj', rules=(Rule(category='a', operator='<', rating=271, destination_workflow='vst'),), destination_workflow_else='jmd'), 'flm': Workflow(name='flm', rules=(Rule(category='a', operator='>', rating=3657, destination_workflow='ss'), Rule(category='m', operator='<', rating=3073, destination_workflow='jcp'), Rule(category='a', operator='>', rating=3460, destination_workflow='mb')), destination_workflow_else='jlq'), 'fhm': Workflow(name='fhm', rules=(Rule(category='m', operator='>', rating=707, destination_workflow='skz'), Rule(category='m', operator='>', rating=428, destination_workflow='jx')), destination_workflow_else='hhv'), 'ltf': Workflow(name='ltf', rules=(Rule(category='s', operator='<', rating=1364, destination_workflow='klc'),), destination_workflow_else='flj'), 'xzz': Workflow(name='xzz', rules=(Rule(category='s', operator='<', rating=690, destination_workflow='R'),), destination_workflow_else='R'), 'lsv': Workflow(name='lsv', rules=(Rule(category='x', operator='>', rating=1230, destination_workflow='xs'), Rule(category='x', operator='>', rating=803, destination_workflow='A')), destination_workflow_else='dmb'), 'zck': Workflow(name='zck', rules=(Rule(category='m', operator='>', rating=3301, destination_workflow='A'), Rule(category='a', operator='<', rating=2498, destination_workflow='R')), destination_workflow_else='R'), 'cn': Workflow(name='cn', rules=(Rule(category='x', operator='<', rating=1403, destination_workflow='xzb'), Rule(category='x', operator='<', rating=2407, destination_workflow='vd')), destination_workflow_else='xnx'), 'gr': Workflow(name='gr', rules=(Rule(category='a', operator='<', rating=2709, destination_workflow='R'), Rule(category='s', operator='>', rating=3390, destination_workflow='A')), destination_workflow_else='R'), 'xs': Workflow(name='xs', rules=(Rule(category='a', operator='<', rating=2836, destination_workflow='R'),), destination_workflow_else='A'), 'tx': Workflow(name='tx', rules=(Rule(category='m', operator='>', rating=2065, destination_workflow='pjz'), Rule(category='s', operator='<', rating=2752, destination_workflow='R')), destination_workflow_else='bkd'), 'pl': Workflow(name='pl', rules=(Rule(category='a', operator='>', rating=1136, destination_workflow='ntb'), Rule(category='a', operator='>', rating=976, destination_workflow='R')), destination_workflow_else='A'), 'jqd': Workflow(name='jqd', rules=(Rule(category='a', operator='>', rating=2802, destination_workflow='A'),), destination_workflow_else='R'), 'dp': Workflow(name='dp', rules=(Rule(category='x', operator='<', rating=3525, destination_workflow='A'), Rule(category='m', operator='<', rating=1550, destination_workflow='A')), destination_workflow_else='A'), 'st': Workflow(name='st', rules=(Rule(category='x', operator='>', rating=2959, destination_workflow='xv'), Rule(category='s', operator='<', rating=2858, destination_workflow='fxj'), Rule(category='a', operator='>', rating=2992, destination_workflow='xxq')), destination_workflow_else='pm'), 'gb': Workflow(name='gb', rules=(Rule(category='s', operator='<', rating=1423, destination_workflow='jpl'), Rule(category='s', operator='>', rating=1892, destination_workflow='qxv')), destination_workflow_else='A'), 'xn': Workflow(name='xn', rules=(Rule(category='a', operator='<', rating=3097, destination_workflow='A'), Rule(category='m', operator='<', rating=1316, destination_workflow='jn')), destination_workflow_else='R'), 'mbg': Workflow(name='mbg', rules=(Rule(category='s', operator='>', rating=2618, destination_workflow='A'), Rule(category='x', operator='>', rating=1683, destination_workflow='A')), destination_workflow_else='A'), 'lxd': Workflow(name='lxd', rules=(Rule(category='m', operator='>', rating=3700, destination_workflow='A'), Rule(category='x', operator='>', rating=2578, destination_workflow='A'), Rule(category='a', operator='>', rating=3879, destination_workflow='R')), destination_workflow_else='A'), 'trr': Workflow(name='trr', rules=(Rule(category='s', operator='>', rating=3098, destination_workflow='R'), Rule(category='m', operator='<', rating=3464, destination_workflow='A')), destination_workflow_else='R'), 'dq': Workflow(name='dq', rules=(Rule(category='m', operator='<', rating=3635, destination_workflow='R'), Rule(category='a', operator='<', rating=3845, destination_workflow='tcn')), destination_workflow_else='kmn'), 'jgj': Workflow(name='jgj', rules=(Rule(category='s', operator='<', rating=3138, destination_workflow='nq'), Rule(category='x', operator='>', rating=2896, destination_workflow='R')), destination_workflow_else='cx'), 'vlj': Workflow(name='vlj', rules=(Rule(category='m', operator='>', rating=2155, destination_workflow='nl'), Rule(category='x', operator='>', rating=2944, destination_workflow='mn'), Rule(category='m', operator='<', rating=1230, destination_workflow='pxs')), destination_workflow_else='dhj'), 'bpg': Workflow(name='bpg', rules=(Rule(category='x', operator='<', rating=2614, destination_workflow='qjl'),), destination_workflow_else='A'), 'vcp': Workflow(name='vcp', rules=(Rule(category='s', operator='>', rating=793, destination_workflow='qzv'), Rule(category='s', operator='<', rating=270, destination_workflow='A')), destination_workflow_else='A'), 'qdv': Workflow(name='qdv', rules=(Rule(category='a', operator='>', rating=3325, destination_workflow='R'), Rule(category='m', operator='<', rating=1509, destination_workflow='fx'), Rule(category='s', operator='<', rating=2874, destination_workflow='lb')), destination_workflow_else='rm'), 'jvn': Workflow(name='jvn', rules=(Rule(category='a', operator='>', rating=2675, destination_workflow='R'), Rule(category='m', operator='>', rating=587, destination_workflow='R')), destination_workflow_else='R'), 'fb': Workflow(name='fb', rules=(Rule(category='x', operator='<', rating=533, destination_workflow='R'), Rule(category='x', operator='>', rating=637, destination_workflow='A'), Rule(category='x', operator='<', rating=601, destination_workflow='A')), destination_workflow_else='A'), 'tmx': Workflow(name='tmx', rules=(Rule(category='x', operator='>', rating=1221, destination_workflow='A'), Rule(category='x', operator='>', rating=589, destination_workflow='A'), Rule(category='m', operator='>', rating=1573, destination_workflow='R')), destination_workflow_else='A'), 'chx': Workflow(name='chx', rules=(Rule(category='m', operator='<', rating=534, destination_workflow='A'), Rule(category='a', operator='>', rating=550, destination_workflow='A'), Rule(category='m', operator='<', rating=883, destination_workflow='A')), destination_workflow_else='A'), 'dvb': Workflow(name='dvb', rules=(Rule(category='a', operator='>', rating=2690, destination_workflow='R'), Rule(category='m', operator='<', rating=2075, destination_workflow='R'), Rule(category='x', operator='<', rating=1681, destination_workflow='A')), destination_workflow_else='A'), 'sbg': Workflow(name='sbg', rules=(Rule(category='m', operator='<', rating=1797, destination_workflow='fhm'), Rule(category='s', operator='<', rating=1051, destination_workflow='kd'), Rule(category='s', operator='>', rating=1696, destination_workflow='xb')), destination_workflow_else='qf'), 'sr': Workflow(name='sr', rules=(Rule(category='a', operator='>', rating=2842, destination_workflow='xc'), Rule(category='m', operator='>', rating=1450, destination_workflow='qxs')), destination_workflow_else='xr'), 'pj': Workflow(name='pj', rules=(Rule(category='x', operator='<', rating=3588, destination_workflow='R'),), destination_workflow_else='R'), 'pq': Workflow(name='pq', rules=(Rule(category='m', operator='>', rating=2574, destination_workflow='R'), Rule(category='m', operator='<', rating=2120, destination_workflow='R'), Rule(category='s', operator='>', rating=1308, destination_workflow='cfr')), destination_workflow_else='ls'), 'bf': Workflow(name='bf', rules=(Rule(category='m', operator='<', rating=1629, destination_workflow='R'),), destination_workflow_else='R'), 'prk': Workflow(name='prk', rules=(Rule(category='s', operator='>', rating=685, destination_workflow='R'),), destination_workflow_else='R'), 'nnq': Workflow(name='nnq', rules=(Rule(category='x', operator='<', rating=2468, destination_workflow='A'),), destination_workflow_else='A'), 'jjf': Workflow(name='jjf', rules=(Rule(category='m', operator='>', rating=2326, destination_workflow='A'), Rule(category='x', operator='>', rating=3547, destination_workflow='R')), destination_workflow_else='A'), 'jfq': Workflow(name='jfq', rules=(Rule(category='x', operator='>', rating=3297, destination_workflow='A'), Rule(category='x', operator='>', rating=3146, destination_workflow='A'), Rule(category='m', operator='>', rating=1879, destination_workflow='A')), destination_workflow_else='R'), 'cb': Workflow(name='cb', rules=(Rule(category='m', operator='>', rating=3472, destination_workflow='rt'), Rule(category='s', operator='<', rating=3202, destination_workflow='R'), Rule(category='s', operator='<', rating=3720, destination_workflow='srq')), destination_workflow_else='A'), 'ch': Workflow(name='ch', rules=(Rule(category='x', operator='>', rating=773, destination_workflow='hpn'), Rule(category='s', operator='>', rating=2862, destination_workflow='dk')), destination_workflow_else='R'), 'dn': Workflow(name='dn', rules=(Rule(category='s', operator='<', rating=3447, destination_workflow='A'),), destination_workflow_else='ttz'), 'gpr': Workflow(name='gpr', rules=(Rule(category='s', operator='<', rating=1097, destination_workflow='A'),), destination_workflow_else='A'), 'vl': Workflow(name='vl', rules=(Rule(category='x', operator='>', rating=3762, destination_workflow='A'),), destination_workflow_else='A'), 'mnq': Workflow(name='mnq', rules=(Rule(category='m', operator='>', rating=758, destination_workflow='dt'), Rule(category='a', operator='<', rating=3739, destination_workflow='xdp')), destination_workflow_else='lmd'), 'sz': Workflow(name='sz', rules=(Rule(category='s', operator='<', rating=904, destination_workflow='A'), Rule(category='m', operator='>', rating=864, destination_workflow='A'), Rule(category='s', operator='<', rating=1117, destination_workflow='R')), destination_workflow_else='R'), 'mk': Workflow(name='mk', rules=(Rule(category='s', operator='<', rating=2886, destination_workflow='R'),), destination_workflow_else='R'), 'xp': Workflow(name='xp', rules=(Rule(category='x', operator='>', rating=1234, destination_workflow='A'),), destination_workflow_else='pzk'), 'chr': Workflow(name='chr', rules=(Rule(category='x', operator='>', rating=155, destination_workflow='A'), Rule(category='a', operator='<', rating=3664, destination_workflow='R')), destination_workflow_else='A'), 'xmr': Workflow(name='xmr', rules=(Rule(category='m', operator='>', rating=2700, destination_workflow='A'), Rule(category='m', operator='>', rating=2605, destination_workflow='A')), destination_workflow_else='A'), 'dx': Workflow(name='dx', rules=(Rule(category='s', operator='<', rating=3616, destination_workflow='A'), Rule(category='x', operator='<', rating=2964, destination_workflow='A')), destination_workflow_else='A'), 'jlq': Workflow(name='jlq', rules=(Rule(category='m', operator='>', rating=3540, destination_workflow='qrh'),), destination_workflow_else='bd'), 'zv': Workflow(name='zv', rules=(Rule(category='s', operator='>', rating=3247, destination_workflow='vs'),), destination_workflow_else='R'), 'mz': Workflow(name='mz', rules=(Rule(category='x', operator='<', rating=952, destination_workflow='qzq'), Rule(category='a', operator='>', rating=3348, destination_workflow='zbb')), destination_workflow_else='ncp'), 'bg': Workflow(name='bg', rules=(Rule(category='x', operator='<', rating=3774, destination_workflow='A'),), destination_workflow_else='R'), 'flj': Workflow(name='flj', rules=(Rule(category='s', operator='<', rating=1975, destination_workflow='R'), Rule(category='s', operator='>', rating=2351, destination_workflow='jqb'), Rule(category='s', operator='<', rating=2187, destination_workflow='R')), destination_workflow_else='A'), 'lr': Workflow(name='lr', rules=(Rule(category='m', operator='>', rating=2730, destination_workflow='R'),), destination_workflow_else='A'), 'gn': Workflow(name='gn', rules=(Rule(category='s', operator='<', rating=3532, destination_workflow='A'),), destination_workflow_else='A'), 'jrz': Workflow(name='jrz', rules=(Rule(category='s', operator='>', rating=3277, destination_workflow='R'),), destination_workflow_else='qfq'), 'klc': Workflow(name='klc', rules=(Rule(category='a', operator='>', rating=3744, destination_workflow='R'), Rule(category='s', operator='>', rating=863, destination_workflow='rn')), destination_workflow_else='A'), 'vtt': Workflow(name='vtt', rules=(Rule(category='s', operator='>', rating=745, destination_workflow='A'), Rule(category='x', operator='<', rating=1281, destination_workflow='R'), Rule(category='s', operator='>', rating=377, destination_workflow='R')), destination_workflow_else='R'), 'fgd': Workflow(name='fgd', rules=(Rule(category='s', operator='<', rating=1474, destination_workflow='R'), Rule(category='s', operator='<', rating=1848, destination_workflow='R'), Rule(category='m', operator='>', rating=3506, destination_workflow='A')), destination_workflow_else='R'), 'nhh': Workflow(name='nhh', rules=(Rule(category='a', operator='>', rating=2941, destination_workflow='R'), Rule(category='x', operator='>', rating=1577, destination_workflow='A'), Rule(category='s', operator='>', rating=3756, destination_workflow='A')), destination_workflow_else='A'), 'zth': Workflow(name='zth', rules=(Rule(category='a', operator='<', rating=609, destination_workflow='R'),), destination_workflow_else='A'), 'dbx': Workflow(name='dbx', rules=(Rule(category='s', operator='>', rating=3778, destination_workflow='R'),), destination_workflow_else='A'), 'jl': Workflow(name='jl', rules=(Rule(category='s', operator='<', rating=2759, destination_workflow='zk'), Rule(category='x', operator='>', rating=1470, destination_workflow='R'), Rule(category='x', operator='<', rating=1342, destination_workflow='A')), destination_workflow_else='vfv'), 'fp': Workflow(name='fp', rules=(Rule(category='x', operator='>', rating=2710, destination_workflow='dsj'), Rule(category='s', operator='>', rating=1982, destination_workflow='qfd'), Rule(category='s', operator='<', rating=1593, destination_workflow='cjk')), destination_workflow_else='lf'), 'rzc': Workflow(name='rzc', rules=(Rule(category='m', operator='<', rating=1586, destination_workflow='khl'), Rule(category='m', operator='>', rating=1936, destination_workflow='kst')), destination_workflow_else='R'), 'hjv': Workflow(name='hjv', rules=(Rule(category='m', operator='<', rating=388, destination_workflow='A'), Rule(category='m', operator='<', rating=489, destination_workflow='R'), Rule(category='s', operator='>', rating=1651, destination_workflow='R')), destination_workflow_else='R'), 'dvg': Workflow(name='dvg', rules=(Rule(category='s', operator='>', rating=3895, destination_workflow='A'), Rule(category='a', operator='<', rating=3357, destination_workflow='txq'), Rule(category='m', operator='>', rating=1432, destination_workflow='dcv')), destination_workflow_else='qtx'), 'lk': Workflow(name='lk', rules=(Rule(category='a', operator='>', rating=744, destination_workflow='R'), Rule(category='s', operator='>', rating=2789, destination_workflow='A')), destination_workflow_else='A'), 'pnt': Workflow(name='pnt', rules=(Rule(category='x', operator='<', rating=1063, destination_workflow='R'), Rule(category='a', operator='>', rating=3752, destination_workflow='R')), destination_workflow_else='A'), 'tp': Workflow(name='tp', rules=(Rule(category='m', operator='<', rating=1459, destination_workflow='A'), Rule(category='m', operator='>', rating=1991, destination_workflow='A'), Rule(category='s', operator='>', rating=2990, destination_workflow='R')), destination_workflow_else='A'), 'xc': Workflow(name='xc', rules=(Rule(category='x', operator='>', rating=3432, destination_workflow='A'), Rule(category='s', operator='>', rating=3118, destination_workflow='A')), destination_workflow_else='A'), 'pc': Workflow(name='pc', rules=(Rule(category='a', operator='<', rating=3005, destination_workflow='A'), Rule(category='x', operator='<', rating=3647, destination_workflow='R')), destination_workflow_else='A'), 'zs': Workflow(name='zs', rules=(Rule(category='s', operator='>', rating=2937, destination_workflow='A'), Rule(category='x', operator='<', rating=2579, destination_workflow='R')), destination_workflow_else='A'), 'rx': Workflow(name='rx', rules=(Rule(category='a', operator='>', rating=3530, destination_workflow='A'), Rule(category='x', operator='<', rating=3250, destination_workflow='A')), destination_workflow_else='A'), 'qm': Workflow(name='qm', rules=(Rule(category='m', operator='<', rating=3117, destination_workflow='R'), Rule(category='a', operator='<', rating=2507, destination_workflow='R')), destination_workflow_else='R'), 'kj': Workflow(name='kj', rules=(Rule(category='a', operator='<', rating=3166, destination_workflow='A'), Rule(category='m', operator='<', rating=3615, destination_workflow='R')), destination_workflow_else='A'), 'mn': Workflow(name='mn', rules=(Rule(category='m', operator='<', rating=1266, destination_workflow='mgl'),), destination_workflow_else='vq'), 'vk': Workflow(name='vk', rules=(Rule(category='x', operator='<', rating=983, destination_workflow='nc'), Rule(category='x', operator='<', rating=1546, destination_workflow='jzf'), Rule(category='x', operator='>', rating=1984, destination_workflow='dz')), destination_workflow_else='pdh'), 'zg': Workflow(name='zg', rules=(Rule(category='x', operator='<', rating=2008, destination_workflow='R'), Rule(category='s', operator='>', rating=3072, destination_workflow='kj')), destination_workflow_else='sc'), 'blr': Workflow(name='blr', rules=(Rule(category='a', operator='>', rating=3400, destination_workflow='R'),), destination_workflow_else='R'), 'jbk': Workflow(name='jbk', rules=(Rule(category='s', operator='<', rating=2949, destination_workflow='R'), Rule(category='s', operator='<', rating=2997, destination_workflow='R')), destination_workflow_else='A'), 'dfz': Workflow(name='dfz', rules=(Rule(category='m', operator='<', rating=1517, destination_workflow='R'),), destination_workflow_else='rql'), 'phh': Workflow(name='phh', rules=(Rule(category='m', operator='>', rating=525, destination_workflow='A'),), destination_workflow_else='R'), 'kt': Workflow(name='kt', rules=(Rule(category='m', operator='<', rating=837, destination_workflow='R'),), destination_workflow_else='tmx'), 'ck': Workflow(name='ck', rules=(Rule(category='m', operator='<', rating=3603, destination_workflow='A'),), destination_workflow_else='R'), 'vld': Workflow(name='vld', rules=(Rule(category='x', operator='<', rating=1330, destination_workflow='hfh'),), destination_workflow_else='zkz'), 'qtk': Workflow(name='qtk', rules=(Rule(category='x', operator='<', rating=1506, destination_workflow='R'), Rule(category='x', operator='>', rating=1819, destination_workflow='vp'), Rule(category='s', operator='<', rating=2997, destination_workflow='mr')), destination_workflow_else='R'), 'mgd': Workflow(name='mgd', rules=(Rule(category='x', operator='<', rating=2272, destination_workflow='sk'),), destination_workflow_else='vlj'), 'bz': Workflow(name='bz', rules=(Rule(category='m', operator='>', rating=1635, destination_workflow='gvq'),), destination_workflow_else='A'), 'fcr': Workflow(name='fcr', rules=(Rule(category='m', operator='<', rating=1877, destination_workflow='R'), Rule(category='s', operator='>', rating=3776, destination_workflow='td'), Rule(category='s', operator='>', rating=3652, destination_workflow='fdv')), destination_workflow_else='ttl'), 'qfq': Workflow(name='qfq', rules=(Rule(category='x', operator='>', rating=2581, destination_workflow='A'), Rule(category='s', operator='>', rating=2888, destination_workflow='A')), destination_workflow_else='R'), 'mv': Workflow(name='mv', rules=(Rule(category='x', operator='>', rating=2762, destination_workflow='R'), Rule(category='s', operator='>', rating=3144, destination_workflow='A')), destination_workflow_else='A'), 'dhj': Workflow(name='dhj', rules=(Rule(category='a', operator='<', rating=1461, destination_workflow='dnt'), Rule(category='s', operator='>', rating=1598, destination_workflow='jm'), Rule(category='x', operator='<', rating=2542, destination_workflow='vmn')), destination_workflow_else='prk'), 'nhc': Workflow(name='nhc', rules=(Rule(category='m', operator='<', rating=1945, destination_workflow='R'), Rule(category='a', operator='>', rating=3092, destination_workflow='fpq'), Rule(category='s', operator='>', rating=737, destination_workflow='A')), destination_workflow_else='A'), 'hpk': Workflow(name='hpk', rules=(Rule(category='a', operator='<', rating=3345, destination_workflow='cln'), Rule(category='m', operator='<', rating=2646, destination_workflow='ddz'), Rule(category='m', operator='<', rating=3386, destination_workflow='pbn')), destination_workflow_else='dnn'), 'pt': Workflow(name='pt', rules=(Rule(category='x', operator='<', rating=708, destination_workflow='R'),), destination_workflow_else='A'), 'hr': Workflow(name='hr', rules=(Rule(category='x', operator='>', rating=2940, destination_workflow='grj'),), destination_workflow_else='kbp'), 'fq': Workflow(name='fq', rules=(Rule(category='m', operator='>', rating=2165, destination_workflow='R'), Rule(category='x', operator='>', rating=2581, destination_workflow='A'), Rule(category='x', operator='>', rating=2370, destination_workflow='A')), destination_workflow_else='R'), 'qfd': Workflow(name='qfd', rules=(Rule(category='x', operator='>', rating=2600, destination_workflow='A'), Rule(category='m', operator='<', rating=762, destination_workflow='A')), destination_workflow_else='th'), 'gtp': Workflow(name='gtp', rules=(Rule(category='a', operator='>', rating=3893, destination_workflow='A'), Rule(category='x', operator='<', rating=2304, destination_workflow='R')), destination_workflow_else='A'), 'cp': Workflow(name='cp', rules=(Rule(category='s', operator='<', rating=3476, destination_workflow='dv'),), destination_workflow_else='R'), 'dg': Workflow(name='dg', rules=(Rule(category='x', operator='<', rating=600, destination_workflow='R'), Rule(category='x', operator='<', rating=702, destination_workflow='R')), destination_workflow_else='A'), 'dbd': Workflow(name='dbd', rules=(Rule(category='x', operator='<', rating=2473, destination_workflow='A'),), destination_workflow_else='ngx'), 'xq': Workflow(name='xq', rules=(Rule(category='m', operator='>', rating=2772, destination_workflow='xnb'),), destination_workflow_else='R'), 'dnn': Workflow(name='dnn', rules=(Rule(category='a', operator='<', rating=3753, destination_workflow='zdk'),), destination_workflow_else='dq'), 'bch': Workflow(name='bch', rules=(Rule(category='x', operator='>', rating=1278, destination_workflow='R'),), destination_workflow_else='R'), 'ljf': Workflow(name='ljf', rules=(Rule(category='s', operator='<', rating=3561, destination_workflow='R'),), destination_workflow_else='R'), 'llm': Workflow(name='llm', rules=(Rule(category='x', operator='<', rating=2351, destination_workflow='R'), Rule(category='x', operator='>', rating=2443, destination_workflow='R'), Rule(category='a', operator='<', rating=2834, destination_workflow='R')), destination_workflow_else='A'), 'bn': Workflow(name='bn', rules=(Rule(category='s', operator='>', rating=3530, destination_workflow='R'), Rule(category='m', operator='<', rating=2950, destination_workflow='A'), Rule(category='x', operator='>', rating=2906, destination_workflow='R')), destination_workflow_else='R'), 'ddz': Workflow(name='ddz', rules=(Rule(category='m', operator='<', rating=977, destination_workflow='tv'),), destination_workflow_else='hlm'), 'jg': Workflow(name='jg', rules=(Rule(category='m', operator='>', rating=2428, destination_workflow='A'),), destination_workflow_else='R'), 'dh': Workflow(name='dh', rules=(Rule(category='x', operator='<', rating=1504, destination_workflow='A'), Rule(category='x', operator='<', rating=1808, destination_workflow='A')), destination_workflow_else='R'), 'fk': Workflow(name='fk', rules=(Rule(category='x', operator='>', rating=1147, destination_workflow='gg'),), destination_workflow_else='R'), 'vgk': Workflow(name='vgk', rules=(Rule(category='x', operator='<', rating=798, destination_workflow='pnp'),), destination_workflow_else='zmg'), 'bq': Workflow(name='bq', rules=(Rule(category='a', operator='<', rating=1202, destination_workflow='jgj'), Rule(category='x', operator='>', rating=3072, destination_workflow='kf')), destination_workflow_else='bpg'), 'xsl': Workflow(name='xsl', rules=(Rule(category='m', operator='<', rating=2890, destination_workflow='R'), Rule(category='s', operator='<', rating=274, destination_workflow='A'), Rule(category='s', operator='>', rating=562, destination_workflow='A')), destination_workflow_else='R'), 'tl': Workflow(name='tl', rules=(Rule(category='s', operator='<', rating=3274, destination_workflow='R'), Rule(category='m', operator='<', rating=1126, destination_workflow='R'), Rule(category='a', operator='<', rating=3398, destination_workflow='R')), destination_workflow_else='R'), 'fpq': Workflow(name='fpq', rules=(Rule(category='m', operator='>', rating=2842, destination_workflow='R'), Rule(category='x', operator='<', rating=2854, destination_workflow='R'), Rule(category='a', operator='>', rating=3172, destination_workflow='A')), destination_workflow_else='A'), 'xz': Workflow(name='xz', rules=(Rule(category='x', operator='<', rating=3858, destination_workflow='R'),), destination_workflow_else='A'), 'kbc': Workflow(name='kbc', rules=(Rule(category='m', operator='>', rating=1790, destination_workflow='dh'),), destination_workflow_else='A'), 'xl': Workflow(name='xl', rules=(Rule(category='x', operator='<', rating=1082, destination_workflow='A'),), destination_workflow_else='R'), 'vm': Workflow(name='vm', rules=(Rule(category='m', operator='>', rating=2512, destination_workflow='ppt'), Rule(category='x', operator='>', rating=2784, destination_workflow='A')), destination_workflow_else='djd'), 'hpn': Workflow(name='hpn', rules=(Rule(category='a', operator='<', rating=3438, destination_workflow='A'), Rule(category='x', operator='>', rating=1393, destination_workflow='A')), destination_workflow_else='R'), 'dk': Workflow(name='dk', rules=(Rule(category='s', operator='>', rating=2898, destination_workflow='R'), Rule(category='x', operator='<', rating=426, destination_workflow='R'), Rule(category='m', operator='<', rating=148, destination_workflow='R')), destination_workflow_else='R'), 'fgf': Workflow(name='fgf', rules=(Rule(category='x', operator='>', rating=3616, destination_workflow='tl'), Rule(category='x', operator='>', rating=3451, destination_workflow='R'), Rule(category='m', operator='>', rating=1457, destination_workflow='nmj')), destination_workflow_else='R'), 'qkl': Workflow(name='qkl', rules=(Rule(category='m', operator='<', rating=938, destination_workflow='hcj'), Rule(category='x', operator='<', rating=1045, destination_workflow='vjf'), Rule(category='s', operator='>', rating=2836, destination_workflow='jht')), destination_workflow_else='mdr'), 'qxv': Workflow(name='qxv', rules=(Rule(category='x', operator='<', rating=1319, destination_workflow='R'),), destination_workflow_else='A'), 'fqq': Workflow(name='fqq', rules=(Rule(category='a', operator='<', rating=692, destination_workflow='vx'),), destination_workflow_else='pl'), 'dcv': Workflow(name='dcv', rules=(Rule(category='m', operator='>', rating=2052, destination_workflow='R'),), destination_workflow_else='A'), 'jqb': Workflow(name='jqb', rules=(Rule(category='x', operator='>', rating=2703, destination_workflow='R'), Rule(category='x', operator='<', rating=2586, destination_workflow='R'), Rule(category='s', operator='<', rating=2466, destination_workflow='R')), destination_workflow_else='R'), 'qzv': Workflow(name='qzv', rules=(Rule(category='a', operator='>', rating=3126, destination_workflow='R'),), destination_workflow_else='A'), 'rcv': Workflow(name='rcv', rules=(Rule(category='a', operator='<', rating=3752, destination_workflow='A'), Rule(category='a', operator='>', rating=3900, destination_workflow='A')), destination_workflow_else='R'), 'gm': Workflow(name='gm', rules=(Rule(category='m', operator='<', rating=1858, destination_workflow='R'), Rule(category='a', operator='<', rating=2964, destination_workflow='dvb'), Rule(category='x', operator='<', rating=1488, destination_workflow='A')), destination_workflow_else='A'), 'ntn': Workflow(name='ntn', rules=(Rule(category='a', operator='>', rating=3555, destination_workflow='R'), Rule(category='a', operator='<', rating=3551, destination_workflow='A')), destination_workflow_else='A'), 'qbq': Workflow(name='qbq', rules=(Rule(category='a', operator='>', rating=3358, destination_workflow='A'), Rule(category='s', operator='<', rating=2691, destination_workflow='R'), Rule(category='a', operator='<', rating=2973, destination_workflow='R')), destination_workflow_else='R'), 'rs': Workflow(name='rs', rules=(Rule(category='a', operator='>', rating=3320, destination_workflow='jbk'),), destination_workflow_else='nks'), 'dtm': Workflow(name='dtm', rules=(Rule(category='m', operator='>', rating=488, destination_workflow='R'), Rule(category='x', operator='<', rating=3512, destination_workflow='A'), Rule(category='m', operator='>', rating=290, destination_workflow='R')), destination_workflow_else='R'), 'bl': Workflow(name='bl', rules=(Rule(category='a', operator='>', rating=3316, destination_workflow='R'), Rule(category='s', operator='>', rating=3687, destination_workflow='A')), destination_workflow_else='R'), 'kc': Workflow(name='kc', rules=(Rule(category='s', operator='<', rating=3259, destination_workflow='R'),), destination_workflow_else='A'), 'bkd': Workflow(name='bkd', rules=(Rule(category='m', operator='>', rating=1890, destination_workflow='A'),), destination_workflow_else='A'), 'lp': Workflow(name='lp', rules=(Rule(category='m', operator='<', rating=2919, destination_workflow='A'), Rule(category='x', operator='<', rating=3025, destination_workflow='R')), destination_workflow_else='R'), 'hmf': Workflow(name='hmf', rules=(Rule(category='x', operator='>', rating=2254, destination_workflow='rcp'), Rule(category='a', operator='>', rating=1377, destination_workflow='mfd')), destination_workflow_else='bxt'), 'np': Workflow(name='np', rules=(Rule(category='a', operator='<', rating=3538, destination_workflow='A'), Rule(category='m', operator='>', rating=2716, destination_workflow='A')), destination_workflow_else='R'), 'md': Workflow(name='md', rules=(Rule(category='s', operator='>', rating=3917, destination_workflow='A'), Rule(category='m', operator='<', rating=268, destination_workflow='R'), Rule(category='s', operator='>', rating=3873, destination_workflow='A')), destination_workflow_else='A'), 'dr': Workflow(name='dr', rules=(Rule(category='m', operator='<', rating=1679, destination_workflow='A'), Rule(category='s', operator='<', rating=3669, destination_workflow='A')), destination_workflow_else='R'), 'ft': Workflow(name='ft', rules=(Rule(category='x', operator='>', rating=3762, destination_workflow='A'),), destination_workflow_else='A'), 'xx': Workflow(name='xx', rules=(Rule(category='s', operator='>', rating=3164, destination_workflow='trn'),), destination_workflow_else='R'), 'vqh': Workflow(name='vqh', rules=(Rule(category='a', operator='<', rating=2904, destination_workflow='R'), Rule(category='m', operator='<', rating=532, destination_workflow='R')), destination_workflow_else='R'), 'pjp': Workflow(name='pjp', rules=(Rule(category='a', operator='>', rating=1798, destination_workflow='R'),), destination_workflow_else='R'), 'zmc': Workflow(name='zmc', rules=(Rule(category='s', operator='<', rating=2881, destination_workflow='R'), Rule(category='s', operator='>', rating=2904, destination_workflow='R')), destination_workflow_else='A'), 'qqr': Workflow(name='qqr', rules=(Rule(category='x', operator='<', rating=401, destination_workflow='R'), Rule(category='x', operator='>', rating=747, destination_workflow='R')), destination_workflow_else='A'), 'dpk': Workflow(name='dpk', rules=(Rule(category='a', operator='>', rating=2843, destination_workflow='A'), Rule(category='x', operator='>', rating=3890, destination_workflow='R')), destination_workflow_else='A'), 'qp': Workflow(name='qp', rules=(Rule(category='x', operator='>', rating=273, destination_workflow='A'), Rule(category='s', operator='<', rating=2948, destination_workflow='chr'), Rule(category='m', operator='>', rating=1077, destination_workflow='R')), destination_workflow_else='A'), 'qx': Workflow(name='qx', rules=(Rule(category='a', operator='<', rating=2611, destination_workflow='A'), Rule(category='x', operator='>', rating=1429, destination_workflow='R'), Rule(category='s', operator='>', rating=3125, destination_workflow='A')), destination_workflow_else='R'), 'ms': Workflow(name='ms', rules=(Rule(category='s', operator='>', rating=2990, destination_workflow='A'),), destination_workflow_else='hgn'), 'hv': Workflow(name='hv', rules=(Rule(category='x', operator='<', rating=469, destination_workflow='A'), Rule(category='a', operator='>', rating=3710, destination_workflow='R')), destination_workflow_else='R'), 'xxq': Workflow(name='xxq', rules=(Rule(category='m', operator='<', rating=1223, destination_workflow='ms'), Rule(category='a', operator='<', rating=3516, destination_workflow='rs')), destination_workflow_else='qst'), 'fx': Workflow(name='fx', rules=(Rule(category='m', operator='<', rating=1180, destination_workflow='R'), Rule(category='s', operator='>', rating=2888, destination_workflow='A'), Rule(category='x', operator='>', rating=1914, destination_workflow='R')), destination_workflow_else='A'), 'mzj': Workflow(name='mzj', rules=(Rule(category='a', operator='>', rating=2632, destination_workflow='A'), Rule(category='s', operator='>', rating=3722, destination_workflow='R')), destination_workflow_else='A'), 'spl': Workflow(name='spl', rules=(Rule(category='a', operator='<', rating=2515, destination_workflow='A'),), destination_workflow_else='A'), 'mf': Workflow(name='mf', rules=(Rule(category='a', operator='<', rating=3386, destination_workflow='vb'), Rule(category='a', operator='<', rating=3678, destination_workflow='pvr')), destination_workflow_else='A'), 'rnz': Workflow(name='rnz', rules=(Rule(category='s', operator='>', rating=1644, destination_workflow='fvs'), Rule(category='s', operator='<', rating=1327, destination_workflow='R'), Rule(category='a', operator='>', rating=2795, destination_workflow='R')), destination_workflow_else='mdf'), 'sf': Workflow(name='sf', rules=(Rule(category='x', operator='>', rating=2740, destination_workflow='A'), Rule(category='m', operator='>', rating=3208, destination_workflow='A'), Rule(category='m', operator='>', rating=2878, destination_workflow='R')), destination_workflow_else='R'), 'db': Workflow(name='db', rules=(Rule(category='a', operator='<', rating=2768, destination_workflow='R'),), destination_workflow_else='A'), 'ckc': Workflow(name='ckc', rules=(Rule(category='x', operator='>', rating=2760, destination_workflow='A'),), destination_workflow_else='R'), 'kq': Workflow(name='kq', rules=(Rule(category='x', operator='<', rating=736, destination_workflow='pf'), Rule(category='m', operator='>', rating=2955, destination_workflow='bm'), Rule(category='x', operator='<', rating=1019, destination_workflow='A')), destination_workflow_else='rk'), 'mjj': Workflow(name='mjj', rules=(Rule(category='s', operator='<', rating=1549, destination_workflow='A'), Rule(category='m', operator='<', rating=122, destination_workflow='A'), Rule(category='x', operator='<', rating=2583, destination_workflow='A')), destination_workflow_else='R'), 'dfj': Workflow(name='dfj', rules=(Rule(category='x', operator='>', rating=2717, destination_workflow='A'), Rule(category='x', operator='<', rating=2522, destination_workflow='R')), destination_workflow_else='R'), 'nc': Workflow(name='nc', rules=(Rule(category='a', operator='>', rating=2039, destination_workflow='prx'),), destination_workflow_else='A'), 'cgh': Workflow(name='cgh', rules=(Rule(category='a', operator='<', rating=3531, destination_workflow='A'),), destination_workflow_else='R'), 'tg': Workflow(name='tg', rules=(Rule(category='a', operator='<', rating=3114, destination_workflow='R'),), destination_workflow_else='R'), 'pn': Workflow(name='pn', rules=(Rule(category='x', operator='>', rating=3703, destination_workflow='mzj'), Rule(category='s', operator='<', rating=3689, destination_workflow='A'), Rule(category='a', operator='<', rating=2601, destination_workflow='gvj')), destination_workflow_else='zjz'), 'rnc': Workflow(name='rnc', rules=(Rule(category='s', operator='>', rating=3658, destination_workflow='xp'),), destination_workflow_else='kt'), 'rk': Workflow(name='rk', rules=(Rule(category='s', operator='<', rating=3313, destination_workflow='A'), Rule(category='a', operator='>', rating=2850, destination_workflow='R')), destination_workflow_else='A'), 'spm': Workflow(name='spm', rules=(Rule(category='x', operator='<', rating=1664, destination_workflow='R'),), destination_workflow_else='R'), 'vj': Workflow(name='vj', rules=(Rule(category='m', operator='<', rating=1597, destination_workflow='zs'), Rule(category='x', operator='<', rating=2555, destination_workflow='sh')), destination_workflow_else='ckc'), 'vd': Workflow(name='vd', rules=(Rule(category='x', operator='<', rating=1777, destination_workflow='bp'), Rule(category='a', operator='<', rating=3057, destination_workflow='nk'), Rule(category='m', operator='<', rating=3332, destination_workflow='hts')), destination_workflow_else='zg'), 'vsj': Workflow(name='vsj', rules=(Rule(category='a', operator='>', rating=738, destination_workflow='R'), Rule(category='m', operator='<', rating=564, destination_workflow='R'), Rule(category='x', operator='<', rating=2499, destination_workflow='A')), destination_workflow_else='A'), 'djd': Workflow(name='djd', rules=(Rule(category='m', operator='>', rating=901, destination_workflow='R'), Rule(category='x', operator='>', rating=2691, destination_workflow='A'), Rule(category='m', operator='>', rating=411, destination_workflow='A')), destination_workflow_else='A'), 'btv': Workflow(name='btv', rules=(Rule(category='s', operator='<', rating=2860, destination_workflow='pnt'), Rule(category='a', operator='<', rating=3675, destination_workflow='zmc'), Rule(category='s', operator='<', rating=2882, destination_workflow='R')), destination_workflow_else='A'), 'hf': Workflow(name='hf', rules=(Rule(category='s', operator='<', rating=3577, destination_workflow='A'),), destination_workflow_else='A'), 'css': Workflow(name='css', rules=(Rule(category='x', operator='>', rating=3674, destination_workflow='R'), Rule(category='s', operator='<', rating=2869, destination_workflow='A')), destination_workflow_else='R'), 'qrr': Workflow(name='qrr', rules=(Rule(category='m', operator='>', rating=1460, destination_workflow='sgn'), Rule(category='a', operator='<', rating=3092, destination_workflow='A')), destination_workflow_else='bch'), 'snk': Workflow(name='snk', rules=(Rule(category='a', operator='>', rating=1165, destination_workflow='fts'), Rule(category='a', operator='>', rating=575, destination_workflow='zh')), destination_workflow_else='gb'), 'bp': Workflow(name='bp', rules=(Rule(category='s', operator='<', rating=3164, destination_workflow='ctf'), Rule(category='s', operator='<', rating=3611, destination_workflow='zm')), destination_workflow_else='nhh'), 'rb': Workflow(name='rb', rules=(Rule(category='s', operator='>', rating=2693, destination_workflow='A'), Rule(category='x', operator='>', rating=1622, destination_workflow='R'), Rule(category='m', operator='>', rating=1876, destination_workflow='A')), destination_workflow_else='A'), 'fvv': Workflow(name='fvv', rules=(Rule(category='x', operator='<', rating=659, destination_workflow='R'), Rule(category='a', operator='<', rating=900, destination_workflow='A')), destination_workflow_else='A'), 'mmv': Workflow(name='mmv', rules=(Rule(category='a', operator='>', rating=3301, destination_workflow='jcm'), Rule(category='a', operator='<', rating=2999, destination_workflow='A')), destination_workflow_else='jjh'), 'mx': Workflow(name='mx', rules=(Rule(category='s', operator='<', rating=2954, destination_workflow='rzc'), Rule(category='m', operator='>', rating=1237, destination_workflow='htf')), destination_workflow_else='ks'), 'qc': Workflow(name='qc', rules=(Rule(category='x', operator='>', rating=1490, destination_workflow='zxf'),), destination_workflow_else='ck'), 'rqk': Workflow(name='rqk', rules=(Rule(category='x', operator='<', rating=1761, destination_workflow='A'), Rule(category='s', operator='<', rating=3714, destination_workflow='A')), destination_workflow_else='A'), 'xb': Workflow(name='xb', rules=(Rule(category='m', operator='>', rating=2594, destination_workflow='fk'), Rule(category='m', operator='<', rating=2265, destination_workflow='dst'), Rule(category='x', operator='<', rating=868, destination_workflow='zzk')), destination_workflow_else='kjb'), 'knj': Workflow(name='knj', rules=(Rule(category='s', operator='>', rating=1121, destination_workflow='R'), Rule(category='s', operator='<', rating=500, destination_workflow='R'), Rule(category='a', operator='<', rating=3617, destination_workflow='A')), destination_workflow_else='A'), 'nts': Workflow(name='nts', rules=(Rule(category='a', operator='<', rating=3480, destination_workflow='R'),), destination_workflow_else='R'), 'sh': Workflow(name='sh', rules=(Rule(category='a', operator='>', rating=2629, destination_workflow='R'),), destination_workflow_else='R'), 'cgb': Workflow(name='cgb', rules=(Rule(category='a', operator='<', rating=2458, destination_workflow='R'), Rule(category='x', operator='<', rating=463, destination_workflow='A')), destination_workflow_else='A'), 'dsf': Workflow(name='dsf', rules=(Rule(category='x', operator='<', rating=1316, destination_workflow='tx'),), destination_workflow_else='hkv'), 'dhn': Workflow(name='dhn', rules=(Rule(category='s', operator='>', rating=3590, destination_workflow='A'), Rule(category='m', operator='<', rating=557, destination_workflow='A'), Rule(category='a', operator='<', rating=3565, destination_workflow='R')), destination_workflow_else='A'), 'sst': Workflow(name='sst', rules=(Rule(category='x', operator='<', rating=1814, destination_workflow='pt'), Rule(category='s', operator='>', rating=3481, destination_workflow='lp')), destination_workflow_else='A'), 'qxb': Workflow(name='qxb', rules=(Rule(category='s', operator='<', rating=1990, destination_workflow='A'), Rule(category='m', operator='<', rating=586, destination_workflow='A'), Rule(category='x', operator='<', rating=589, destination_workflow='R')), destination_workflow_else='A'), 'in': Workflow(name='in', rules=(Rule(category='s', operator='>', rating=2573, destination_workflow='cff'),), destination_workflow_else='ljt'), 'ppt': Workflow(name='ppt', rules=(Rule(category='x', operator='<', rating=2690, destination_workflow='A'), Rule(category='m', operator='>', rating=3090, destination_workflow='A')), destination_workflow_else='R'), 'bm': Workflow(name='bm', rules=(Rule(category='x', operator='<', rating=1043, destination_workflow='A'), Rule(category='s', operator='>', rating=3525, destination_workflow='R')), destination_workflow_else='A'), 'zf': Workflow(name='zf', rules=(Rule(category='a', operator='<', rating=3590, destination_workflow='A'), Rule(category='s', operator='<', rating=1529, destination_workflow='rcv'), Rule(category='s', operator='>', rating=2106, destination_workflow='pzg')), destination_workflow_else='xvs'), 'zdk': Workflow(name='zdk', rules=(Rule(category='x', operator='>', rating=3588, destination_workflow='R'),), destination_workflow_else='rx'), 'pzk': Workflow(name='pzk', rules=(Rule(category='x', operator='>', rating=689, destination_workflow='R'), Rule(category='x', operator='>', rating=365, destination_workflow='A')), destination_workflow_else='A'), 'skz': Workflow(name='skz', rules=(Rule(category='a', operator='>', rating=3382, destination_workflow='R'),), destination_workflow_else='A'), 'prd': Workflow(name='prd', rules=(Rule(category='s', operator='<', rating=842, destination_workflow='A'),), destination_workflow_else='R'), 'vx': Workflow(name='vx', rules=(Rule(category='s', operator='<', rating=3173, destination_workflow='A'), Rule(category='a', operator='<', rating=433, destination_workflow='hf')), destination_workflow_else='A'), 'rlb': Workflow(name='rlb', rules=(Rule(category='x', operator='<', rating=3468, destination_workflow='A'),), destination_workflow_else='R'), 'rn': Workflow(name='rn', rules=(Rule(category='m', operator='>', rating=3010, destination_workflow='R'),), destination_workflow_else='A'), 'jt': Workflow(name='jt', rules=(Rule(category='x', operator='<', rating=1002, destination_workflow='pcl'),), destination_workflow_else='mbs'), 'vjm': Workflow(name='vjm', rules=(Rule(category='x', operator='>', rating=3738, destination_workflow='gf'), Rule(category='a', operator='<', rating=3342, destination_workflow='pj'), Rule(category='s', operator='>', rating=3730, destination_workflow='sm')), destination_workflow_else='R'), 'fj': Workflow(name='fj', rules=(Rule(category='x', operator='<', rating=1802, destination_workflow='A'),), destination_workflow_else='A'), 'bd': Workflow(name='bd', rules=(Rule(category='a', operator='>', rating=3359, destination_workflow='hs'),), destination_workflow_else='szb'), 'ssq': Workflow(name='ssq', rules=(Rule(category='s', operator='>', rating=3568, destination_workflow='A'),), destination_workflow_else='R'), 'xnx': Workflow(name='xnx', rules=(Rule(category='x', operator='>', rating=2986, destination_workflow='shv'),), destination_workflow_else='sf'), 'nj': Workflow(name='nj', rules=(Rule(category='s', operator='<', rating=3783, destination_workflow='A'),), destination_workflow_else='A'), 'fl': Workflow(name='fl', rules=(Rule(category='x', operator='>', rating=357, destination_workflow='A'), Rule(category='s', operator='>', rating=2954, destination_workflow='A'), Rule(category='x', operator='>', rating=340, destination_workflow='A')), destination_workflow_else='R'), 'nq': Workflow(name='nq', rules=(Rule(category='m', operator='>', rating=1667, destination_workflow='R'), Rule(category='m', operator='>', rating=943, destination_workflow='R')), destination_workflow_else='R'), 'fbh': Workflow(name='fbh', rules=(Rule(category='m', operator='>', rating=161, destination_workflow='R'), Rule(category='m', operator='<', rating=66, destination_workflow='A'), Rule(category='a', operator='>', rating=3162, destination_workflow='A')), destination_workflow_else='R'), 'cr': Workflow(name='cr', rules=(Rule(category='s', operator='>', rating=3553, destination_workflow='A'),), destination_workflow_else='A'), 'td': Workflow(name='td', rules=(Rule(category='x', operator='>', rating=3477, destination_workflow='A'),), destination_workflow_else='R'), 'qv': Workflow(name='qv', rules=(Rule(category='a', operator='<', rating=3425, destination_workflow='bjh'),), destination_workflow_else='vjt'), 'dl': Workflow(name='dl', rules=(Rule(category='s', operator='>', rating=2671, destination_workflow='zxn'), Rule(category='s', operator='>', rating=2623, destination_workflow='R')), destination_workflow_else='A'), 'zp': Workflow(name='zp', rules=(Rule(category='x', operator='>', rating=2382, destination_workflow='A'), Rule(category='s', operator='>', rating=3255, destination_workflow='bl')), destination_workflow_else='A'), 'bms': Workflow(name='bms', rules=(Rule(category='s', operator='>', rating=3009, destination_workflow='R'), Rule(category='a', operator='>', rating=3294, destination_workflow='tp'), Rule(category='m', operator='<', rating=1038, destination_workflow='A')), destination_workflow_else='vrt'), 'rpm': Workflow(name='rpm', rules=(Rule(category='a', operator='<', rating=1395, destination_workflow='R'),), destination_workflow_else='tll'), 'bk': Workflow(name='bk', rules=(Rule(category='a', operator='>', rating=3546, destination_workflow='ntn'), Rule(category='s', operator='<', rating=2903, destination_workflow='gzh'), Rule(category='m', operator='<', rating=3526, destination_workflow='R')), destination_workflow_else='cgh'), 'tzb': Workflow(name='tzb', rules=(Rule(category='x', operator='>', rating=278, destination_workflow='xn'),), destination_workflow_else='bms'), 'xr': Workflow(name='xr', rules=(Rule(category='x', operator='>', rating=3477, destination_workflow='A'),), destination_workflow_else='A'), 'hts': Workflow(name='hts', rules=(Rule(category='a', operator='>', rating=3143, destination_workflow='xf'), Rule(category='x', operator='<', rating=2007, destination_workflow='rkh')), destination_workflow_else='lz'), 'bxz': Workflow(name='bxz', rules=(Rule(category='s', operator='>', rating=3044, destination_workflow='jf'), Rule(category='a', operator='<', rating=892, destination_workflow='chx'), Rule(category='x', operator='<', rating=848, destination_workflow='A')), destination_workflow_else='skn'), 'px': Workflow(name='px', rules=(Rule(category='m', operator='>', rating=1297, destination_workflow='qtk'),), destination_workflow_else='hx'), 'tsb': Workflow(name='tsb', rules=(Rule(category='x', operator='<', rating=3147, destination_workflow='R'), Rule(category='a', operator='>', rating=3771, destination_workflow='R')), destination_workflow_else='knj'), 'cv': Workflow(name='cv', rules=(Rule(category='s', operator='<', rating=3782, destination_workflow='ssq'),), destination_workflow_else='A'), 'hkv': Workflow(name='hkv', rules=(Rule(category='a', operator='>', rating=3352, destination_workflow='dcr'), Rule(category='s', operator='>', rating=2752, destination_workflow='mnz'), Rule(category='m', operator='>', rating=2010, destination_workflow='hd')), destination_workflow_else='hj'), 'prx': Workflow(name='prx', rules=(Rule(category='m', operator='>', rating=2779, destination_workflow='R'),), destination_workflow_else='R'), 'czx': Workflow(name='czx', rules=(Rule(category='a', operator='>', rating=3022, destination_workflow='A'), Rule(category='a', operator='<', rating=2999, destination_workflow='R')), destination_workflow_else='R'), 'pps': Workflow(name='pps', rules=(Rule(category='x', operator='>', rating=1404, destination_workflow='cl'), Rule(category='x', operator='>', rating=874, destination_workflow='fcl'), Rule(category='s', operator='>', rating=2774, destination_workflow='cgb')), destination_workflow_else='mt'), 'sg': Workflow(name='sg', rules=(Rule(category='x', operator='<', rating=2306, destination_workflow='R'), Rule(category='a', operator='<', rating=3800, destination_workflow='R')), destination_workflow_else='A'), 'kqf': Workflow(name='kqf', rules=(Rule(category='s', operator='>', rating=3605, destination_workflow='A'), Rule(category='s', operator='>', rating=3487, destination_workflow='A')), destination_workflow_else='R'), 'tnt': Workflow(name='tnt', rules=(Rule(category='s', operator='>', rating=3463, destination_workflow='sg'), Rule(category='m', operator='<', rating=3220, destination_workflow='lr')), destination_workflow_else='lxd'), 'hn': Workflow(name='hn', rules=(Rule(category='m', operator='>', rating=702, destination_workflow='R'), Rule(category='x', operator='>', rating=393, destination_workflow='A')), destination_workflow_else='A'), 'pm': Workflow(name='pm', rules=(Rule(category='m', operator='<', rating=1297, destination_workflow='hsz'), Rule(category='m', operator='<', rating=1977, destination_workflow='vj')), destination_workflow_else='vlf'), 'ntb': Workflow(name='ntb', rules=(Rule(category='s', operator='>', rating=3285, destination_workflow='A'),), destination_workflow_else='R'), 'mvg': Workflow(name='mvg', rules=(Rule(category='s', operator='>', rating=1143, destination_workflow='vm'), Rule(category='a', operator='<', rating=2847, destination_workflow='frz'), Rule(category='x', operator='>', rating=2725, destination_workflow='nhc')), destination_workflow_else='dfz'), 'sp': Workflow(name='sp', rules=(Rule(category='a', operator='<', rating=3553, destination_workflow='nts'), Rule(category='a', operator='>', rating=3664, destination_workflow='A')), destination_workflow_else='lsb'), 'srq': Workflow(name='srq', rules=(Rule(category='a', operator='<', rating=3602, destination_workflow='R'), Rule(category='x', operator='>', rating=2352, destination_workflow='A'), Rule(category='a', operator='>', rating=3625, destination_workflow='R')), destination_workflow_else='R'), 'pzg': Workflow(name='pzg', rules=(Rule(category='a', operator='<', rating=3836, destination_workflow='A'),), destination_workflow_else='R'), 'fgc': Workflow(name='fgc', rules=(Rule(category='a', operator='<', rating=2438, destination_workflow='A'), Rule(category='m', operator='<', rating=3741, destination_workflow='R')), destination_workflow_else='R'), 'mm': Workflow(name='mm', rules=(Rule(category='x', operator='>', rating=3140, destination_workflow='css'), Rule(category='m', operator='<', rating=3337, destination_workflow='A')), destination_workflow_else='rd'), 'sm': Workflow(name='sm', rules=(Rule(category='s', operator='<', rating=3765, destination_workflow='R'), Rule(category='a', operator='<', rating=3405, destination_workflow='R')), destination_workflow_else='A'), 'czn': Workflow(name='czn', rules=(Rule(category='x', operator='<', rating=2802, destination_workflow='A'),), destination_workflow_else='A'), 'gvq': Workflow(name='gvq', rules=(Rule(category='m', operator='>', rating=1958, destination_workflow='R'), Rule(category='a', operator='<', rating=1769, destination_workflow='A'), Rule(category='m', operator='<', rating=1786, destination_workflow='R')), destination_workflow_else='A'), 'ttz': Workflow(name='ttz', rules=(Rule(category='x', operator='<', rating=3739, destination_workflow='A'), Rule(category='x', operator='>', rating=3876, destination_workflow='R'), Rule(category='s', operator='>', rating=3519, destination_workflow='A')), destination_workflow_else='A'), 'pr': Workflow(name='pr', rules=(Rule(category='a', operator='<', rating=237, destination_workflow='R'), Rule(category='m', operator='>', rating=431, destination_workflow='R'), Rule(category='x', operator='>', rating=1426, destination_workflow='A')), destination_workflow_else='R'), 'tpp': Workflow(name='tpp', rules=(Rule(category='a', operator='>', rating=3182, destination_workflow='A'), Rule(category='a', operator='<', rating=2707, destination_workflow='A'), Rule(category='x', operator='>', rating=1564, destination_workflow='qlh')), destination_workflow_else='mk'), 'grj': Workflow(name='grj', rules=(Rule(category='s', operator='>', rating=3751, destination_workflow='R'),), destination_workflow_else='R'), 'kz': Workflow(name='kz', rules=(Rule(category='s', operator='>', rating=2741, destination_workflow='A'),), destination_workflow_else='hv'), 'lhv': Workflow(name='lhv', rules=(Rule(category='m', operator='<', rating=2249, destination_workflow='R'), Rule(category='x', operator='<', rating=3698, destination_workflow='jjf'), Rule(category='s', operator='<', rating=3734, destination_workflow='xz')), destination_workflow_else='dpk'), 'nrj': Workflow(name='nrj', rules=(Rule(category='x', operator='<', rating=1806, destination_workflow='A'),), destination_workflow_else='R'), 'jmd': Workflow(name='jmd', rules=(Rule(category='m', operator='>', rating=1473, destination_workflow='R'), Rule(category='x', operator='>', rating=1478, destination_workflow='rqk')), destination_workflow_else='ljf'), 'thd': Workflow(name='thd', rules=(Rule(category='s', operator='<', rating=3799, destination_workflow='A'), Rule(category='a', operator='<', rating=2738, destination_workflow='A'), Rule(category='a', operator='>', rating=2916, destination_workflow='bg')), destination_workflow_else='jqd'), 'nb': Workflow(name='nb', rules=(Rule(category='m', operator='>', rating=2065, destination_workflow='A'),), destination_workflow_else='R'), 'dzj': Workflow(name='dzj', rules=(Rule(category='a', operator='<', rating=2434, destination_workflow='jp'), Rule(category='x', operator='<', rating=2321, destination_workflow='kc')), destination_workflow_else='fgc'), 'xf': Workflow(name='xf', rules=(Rule(category='m', operator='<', rating=2910, destination_workflow='A'),), destination_workflow_else='R'), 'spk': Workflow(name='spk', rules=(Rule(category='s', operator='<', rating=2869, destination_workflow='R'), Rule(category='a', operator='>', rating=800, destination_workflow='R')), destination_workflow_else='R'), 'kbp': Workflow(name='kbp', rules=(Rule(category='m', operator='<', rating=1005, destination_workflow='A'), Rule(category='x', operator='<', rating=2696, destination_workflow='A')), destination_workflow_else='R'), 'xv': Workflow(name='xv', rules=(Rule(category='s', operator='>', rating=2806, destination_workflow='bv'), Rule(category='x', operator='<', rating=3650, destination_workflow='qh')), destination_workflow_else='btm'), 'txq': Workflow(name='txq', rules=(Rule(category='x', operator='<', rating=3535, destination_workflow='A'),), destination_workflow_else='R'), 'nl': Workflow(name='nl', rules=(Rule(category='m', operator='<', rating=2845, destination_workflow='rpm'),), destination_workflow_else='kp'), 'ngs': Workflow(name='ngs', rules=(Rule(category='s', operator='>', rating=1261, destination_workflow='A'),), destination_workflow_else='A'), 'zq': Workflow(name='zq', rules=(Rule(category='m', operator='>', rating=3877, destination_workflow='R'), Rule(category='x', operator='<', rating=3364, destination_workflow='R')), destination_workflow_else='A'), 'pp': Workflow(name='pp', rules=(Rule(category='a', operator='<', rating=2724, destination_workflow='qqr'),), destination_workflow_else='R'), 'xzq': Workflow(name='xzq', rules=(Rule(category='s', operator='>', rating=3590, destination_workflow='nj'),), destination_workflow_else='R'), 'cfr': Workflow(name='cfr', rules=(Rule(category='x', operator='<', rating=848, destination_workflow='A'),), destination_workflow_else='R'), 'lhg': Workflow(name='lhg', rules=(Rule(category='m', operator='>', rating=460, destination_workflow='A'), Rule(category='m', operator='>', rating=326, destination_workflow='R')), destination_workflow_else='A'), 'bjh': Workflow(name='bjh', rules=(Rule(category='x', operator='<', rating=2395, destination_workflow='gv'), Rule(category='s', operator='<', rating=1516, destination_workflow='vcp')), destination_workflow_else='dbd'), 'sgn': Workflow(name='sgn', rules=(Rule(category='s', operator='>', rating=2877, destination_workflow='R'),), destination_workflow_else='R'), 'fcf': Workflow(name='fcf', rules=(Rule(category='x', operator='<', rating=2209, destination_workflow='sbg'), Rule(category='x', operator='>', rating=2955, destination_workflow='hpk'), Rule(category='x', operator='<', rating=2517, destination_workflow='qv')), destination_workflow_else='sbh'), 'zbb': Workflow(name='zbb', rules=(Rule(category='a', operator='<', rating=3658, destination_workflow='R'), Rule(category='m', operator='<', rating=515, destination_workflow='R')), destination_workflow_else='A'), 'tb': Workflow(name='tb', rules=(Rule(category='a', operator='<', rating=218, destination_workflow='A'), Rule(category='a', operator='<', rating=236, destination_workflow='R')), destination_workflow_else='R'), 'sc': Workflow(name='sc', rules=(Rule(category='s', operator='>', rating=2865, destination_workflow='A'), Rule(category='a', operator='>', rating=3148, destination_workflow='R')), destination_workflow_else='A'), 'pbn': Workflow(name='pbn', rules=(Rule(category='x', operator='>', rating=3325, destination_workflow='zf'),), destination_workflow_else='tsb'), 'cff': Workflow(name='cff', rules=(Rule(category='a', operator='<', rating=2422, destination_workflow='hmf'), Rule(category='m', operator='>', rating=2412, destination_workflow='qlt'), Rule(category='s', operator='>', rating=3063, destination_workflow='clh')), destination_workflow_else='qfs'), 'vmn': Workflow(name='vmn', rules=(Rule(category='s', operator='<', rating=947, destination_workflow='A'),), destination_workflow_else='ngs'), 'ss': Workflow(name='ss', rules=(Rule(category='x', operator='>', rating=1459, destination_workflow='tnt'), Rule(category='m', operator='>', rating=3266, destination_workflow='vgk')), destination_workflow_else='qzd'), 'rr': Workflow(name='rr', rules=(Rule(category='s', operator='<', rating=534, destination_workflow='A'), Rule(category='a', operator='>', rating=3473, destination_workflow='A'), Rule(category='a', operator='>', rating=3368, destination_workflow='R')), destination_workflow_else='R'), 'trn': Workflow(name='trn', rules=(Rule(category='m', operator='>', rating=2754, destination_workflow='R'), Rule(category='x', operator='>', rating=449, destination_workflow='R'), Rule(category='a', operator='<', rating=2611, destination_workflow='A')), destination_workflow_else='A'), 'hz': Workflow(name='hz', rules=(Rule(category='a', operator='<', rating=2638, destination_workflow='mv'), Rule(category='a', operator='<', rating=2685, destination_workflow='A')), destination_workflow_else='R'), 'tbk': Workflow(name='tbk', rules=(Rule(category='a', operator='>', rating=2745, destination_workflow='R'), Rule(category='m', operator='<', rating=1366, destination_workflow='R'), Rule(category='s', operator='>', rating=364, destination_workflow='A')), destination_workflow_else='A'), 'zh': Workflow(name='zh', rules=(Rule(category='x', operator='>', rating=1134, destination_workflow='R'),), destination_workflow_else='fvv'), 'rjd': Workflow(name='rjd', rules=(Rule(category='x', operator='>', rating=1412, destination_workflow='A'), Rule(category='a', operator='>', rating=2038, destination_workflow='R')), destination_workflow_else='A'), 'lf': Workflow(name='lf', rules=(Rule(category='a', operator='>', rating=3573, destination_workflow='lmx'), Rule(category='x', operator='<', rating=2614, destination_workflow='A'), Rule(category='a', operator='>', rating=3423, destination_workflow='A')), destination_workflow_else='A'), 'bvb': Workflow(name='bvb', rules=(Rule(category='x', operator='<', rating=2674, destination_workflow='R'), Rule(category='m', operator='<', rating=625, destination_workflow='R')), destination_workflow_else='A'), 'dqp': Workflow(name='dqp', rules=(Rule(category='x', operator='<', rating=987, destination_workflow='R'), Rule(category='a', operator='<', rating=2998, destination_workflow='hpr'), Rule(category='x', operator='>', rating=1420, destination_workflow='A')), destination_workflow_else='R'), 'zkh': Workflow(name='zkh', rules=(Rule(category='a', operator='<', rating=1561, destination_workflow='R'), Rule(category='m', operator='<', rating=3038, destination_workflow='xmr')), destination_workflow_else='R'), 'rvx': Workflow(name='rvx', rules=(Rule(category='m', operator='>', rating=2093, destination_workflow='R'), Rule(category='s', operator='<', rating=2858, destination_workflow='fpb')), destination_workflow_else='rcd'), 'znm': Workflow(name='znm', rules=(Rule(category='x', operator='<', rating=319, destination_workflow='R'), Rule(category='m', operator='>', rating=885, destination_workflow='R'), Rule(category='x', operator='>', rating=386, destination_workflow='vqh')), destination_workflow_else='fl'), 'hvq': Workflow(name='hvq', rules=(Rule(category='s', operator='>', rating=3883, destination_workflow='A'), Rule(category='x', operator='>', rating=2785, destination_workflow='A')), destination_workflow_else='R'), 'rz': Workflow(name='rz', rules=(Rule(category='x', operator='<', rating=1082, destination_workflow='xzq'), Rule(category='a', operator='>', rating=3651, destination_workflow='cp'), Rule(category='x', operator='<', rating=1650, destination_workflow='czl')), destination_workflow_else='fmz'), 'pjz': Workflow(name='pjz', rules=(Rule(category='x', operator='>', rating=538, destination_workflow='A'),), destination_workflow_else='A'), 'qh': Workflow(name='qh', rules=(Rule(category='x', operator='<', rating=3262, destination_workflow='dd'), Rule(category='m', operator='<', rating=899, destination_workflow='R')), destination_workflow_else='fth'), 'vdf': Workflow(name='vdf', rules=(Rule(category='a', operator='>', rating=1051, destination_workflow='A'), Rule(category='x', operator='>', rating=3294, destination_workflow='A')), destination_workflow_else='R'), 'fpz': Workflow(name='fpz', rules=(Rule(category='a', operator='>', rating=2815, destination_workflow='stp'), Rule(category='m', operator='>', rating=701, destination_workflow='js'), Rule(category='s', operator='<', rating=3832, destination_workflow='pn')), destination_workflow_else='rdg'), 'kst': Workflow(name='kst', rules=(Rule(category='a', operator='<', rating=3094, destination_workflow='A'), Rule(category='m', operator='>', rating=2135, destination_workflow='R'), Rule(category='x', operator='<', rating=672, destination_workflow='A')), destination_workflow_else='A'), 'qtx': Workflow(name='qtx', rules=(Rule(category='m', operator='>', rating=683, destination_workflow='R'), Rule(category='s', operator='<', rating=3833, destination_workflow='R')), destination_workflow_else='A'), 'fxj': Workflow(name='fxj', rules=(Rule(category='x', operator='<', rating=2467, destination_workflow='cbp'),), destination_workflow_else='dl'), 'psb': Workflow(name='psb', rules=(Rule(category='m', operator='<', rating=1388, destination_workflow='R'), Rule(category='m', operator='>', rating=1544, destination_workflow='A')), destination_workflow_else='A'), 'pxs': Workflow(name='pxs', rules=(Rule(category='a', operator='<', rating=1718, destination_workflow='xjt'), Rule(category='m', operator='<', rating=643, destination_workflow='rbl'), Rule(category='s', operator='>', rating=1421, destination_workflow='lm')), destination_workflow_else='kk'), 'ljt': Workflow(name='ljt', rules=(Rule(category='a', operator='>', rating=2624, destination_workflow='fcf'),), destination_workflow_else='mgd'), 'nfl': Workflow(name='nfl', rules=(Rule(category='a', operator='>', rating=3489, destination_workflow='gmc'), Rule(category='s', operator='<', rating=3641, destination_workflow='fgf'), Rule(category='s', operator='<', rating=3792, destination_workflow='vjm')), destination_workflow_else='dvg'), 'fc': Workflow(name='fc', rules=(Rule(category='x', operator='>', rating=3056, destination_workflow='cv'), Rule(category='s', operator='>', rating=3793, destination_workflow='qjz')), destination_workflow_else='zkh'), 'mt': Workflow(name='mt', rules=(Rule(category='m', operator='>', rating=3668, destination_workflow='A'),), destination_workflow_else='R'), 'hpr': Workflow(name='hpr', rules=(Rule(category='x', operator='>', rating=1718, destination_workflow='A'),), destination_workflow_else='R'), 'flt': Workflow(name='flt', rules=(Rule(category='a', operator='>', rating=3075, destination_workflow='A'), Rule(category='a', operator='>', rating=2908, destination_workflow='A')), destination_workflow_else='R'), 'ctf': Workflow(name='ctf', rules=(Rule(category='x', operator='>', rating=1609, destination_workflow='A'),), destination_workflow_else='R'), 'dsj': Workflow(name='dsj', rules=(Rule(category='a', operator='<', rating=3751, destination_workflow='R'), Rule(category='m', operator='>', rating=907, destination_workflow='gz')), destination_workflow_else='czn'), 'bv': Workflow(name='bv', rules=(Rule(category='s', operator='>', rating=2915, destination_workflow='R'),), destination_workflow_else='A'), 'tz': Workflow(name='tz', rules=(Rule(category='m', operator='<', rating=1810, destination_workflow='A'), Rule(category='a', operator='<', rating=2686, destination_workflow='A')), destination_workflow_else='R'), 'mb': Workflow(name='mb', rules=(Rule(category='a', operator='>', rating=3565, destination_workflow='cb'), Rule(category='a', operator='<', rating=3520, destination_workflow='jrz'), Rule(category='s', operator='<', rating=3371, destination_workflow='bk')), destination_workflow_else='vz'), 'vjt': Workflow(name='vjt', rules=(Rule(category='x', operator='>', rating=2364, destination_workflow='xd'), Rule(category='a', operator='>', rating=3766, destination_workflow='rv'), Rule(category='m', operator='>', rating=1489, destination_workflow='dsq')), destination_workflow_else='sp'), 'qxs': Workflow(name='qxs', rules=(Rule(category='x', operator='<', rating=3426, destination_workflow='R'), Rule(category='s', operator='<', rating=3113, destination_workflow='A'), Rule(category='s', operator='<', rating=3164, destination_workflow='R')), destination_workflow_else='R'), 'mqk': Workflow(name='mqk', rules=(Rule(category='x', operator='>', rating=667, destination_workflow='R'), Rule(category='m', operator='<', rating=172, destination_workflow='R')), destination_workflow_else='A'), 'rl': Workflow(name='rl', rules=(Rule(category='m', operator='<', rating=1092, destination_workflow='fd'), Rule(category='x', operator='>', rating=1086, destination_workflow='lhn')), destination_workflow_else='bz'), 'fdv': Workflow(name='fdv', rules=(Rule(category='m', operator='>', rating=1942, destination_workflow='R'),), destination_workflow_else='A'), 'rm': Workflow(name='rm', rules=(Rule(category='m', operator='>', rating=1957, destination_workflow='A'),), destination_workflow_else='A'), 'lhn': Workflow(name='lhn', rules=(Rule(category='s', operator='<', rating=3198, destination_workflow='R'), Rule(category='s', operator='<', rating=3592, destination_workflow='A'), Rule(category='s', operator='<', rating=3775, destination_workflow='dr')), destination_workflow_else='pcm'), 'hd': Workflow(name='hd', rules=(Rule(category='a', operator='<', rating=2845, destination_workflow='R'), Rule(category='s', operator='<', rating=2732, destination_workflow='R')), destination_workflow_else='R'), 'jpl': Workflow(name='jpl', rules=(Rule(category='a', operator='>', rating=264, destination_workflow='R'),), destination_workflow_else='A'), 'vfv': Workflow(name='vfv', rules=(Rule(category='s', operator='<', rating=2778, destination_workflow='A'),), destination_workflow_else='R'), 'ks': Workflow(name='ks', rules=(Rule(category='m', operator='<', rating=457, destination_workflow='mqk'),), destination_workflow_else='jxx'), 'fth': Workflow(name='fth', rules=(Rule(category='a', operator='<', rating=2956, destination_workflow='A'),), destination_workflow_else='R'), 'dt': Workflow(name='dt', rules=(Rule(category='x', operator='>', rating=2769, destination_workflow='A'), Rule(category='a', operator='>', rating=3731, destination_workflow='R')), destination_workflow_else='rr'), 'khl': Workflow(name='khl', rules=(Rule(category='s', operator='>', rating=2935, destination_workflow='R'), Rule(category='s', operator='<', rating=2926, destination_workflow='A'), Rule(category='x', operator='<', rating=592, destination_workflow='R')), destination_workflow_else='A'), 'dd': Workflow(name='dd', rules=(Rule(category='m', operator='>', rating=876, destination_workflow='A'), Rule(category='a', operator='<', rating=3338, destination_workflow='A'), Rule(category='s', operator='>', rating=2716, destination_workflow='A')), destination_workflow_else='A'), 'pcl': Workflow(name='pcl', rules=(Rule(category='m', operator='>', rating=1041, destination_workflow='psb'),), destination_workflow_else='A'), 'knd': Workflow(name='knd', rules=(Rule(category='m', operator='<', rating=2644, destination_workflow='fj'), Rule(category='x', operator='>', rating=2165, destination_workflow='np')), destination_workflow_else='R'), 'gt': Workflow(name='gt', rules=(Rule(category='m', operator='<', rating=827, destination_workflow='qt'), Rule(category='x', operator='<', rating=929, destination_workflow='R')), destination_workflow_else='A'), 'cjk': Workflow(name='cjk', rules=(Rule(category='a', operator='<', rating=3687, destination_workflow='A'), Rule(category='m', operator='>', rating=647, destination_workflow='R'), Rule(category='m', operator='<', rating=243, destination_workflow='R')), destination_workflow_else='R'), 'jcp': Workflow(name='jcp', rules=(Rule(category='m', operator='>', rating=2784, destination_workflow='sst'), Rule(category='a', operator='<', rating=3426, destination_workflow='zp')), destination_workflow_else='knd'), 'tgj': Workflow(name='tgj', rules=(Rule(category='m', operator='<', rating=337, destination_workflow='R'), Rule(category='a', operator='>', rating=2693, destination_workflow='R')), destination_workflow_else='R'), 'nh': Workflow(name='nh', rules=(Rule(category='m', operator='>', rating=555, destination_workflow='R'),), destination_workflow_else='A'), 'lh': Workflow(name='lh', rules=(Rule(category='x', operator='>', rating=2825, destination_workflow='pb'), Rule(category='a', operator='>', rating=2849, destination_workflow='kv'), Rule(category='x', operator='<', rating=2675, destination_workflow='mc')), destination_workflow_else='bmn'), 'dmb': Workflow(name='dmb', rules=(Rule(category='x', operator='>', rating=421, destination_workflow='R'),), destination_workflow_else='R'), 'kjb': Workflow(name='kjb', rules=(Rule(category='x', operator='>', rating=1695, destination_workflow='jg'),), destination_workflow_else='A'), 'dnt': Workflow(name='dnt', rules=(Rule(category='s', operator='>', rating=1307, destination_workflow='A'), Rule(category='m', operator='<', rating=1721, destination_workflow='xzz'), Rule(category='s', operator='>', rating=494, destination_workflow='R')), destination_workflow_else='R'), 'pnp': Workflow(name='pnp', rules=(Rule(category='a', operator='<', rating=3835, destination_workflow='R'), Rule(category='x', operator='<', rating=438, destination_workflow='A'), Rule(category='a', operator='>', rating=3901, destination_workflow='R')), destination_workflow_else='R'), 'hrk': Workflow(name='hrk', rules=(Rule(category='m', operator='>', rating=916, destination_workflow='R'), Rule(category='m', operator='<', rating=842, destination_workflow='R'), Rule(category='s', operator='<', rating=3857, destination_workflow='A')), destination_workflow_else='R'), 'qlh': Workflow(name='qlh', rules=(Rule(category='a', operator='>', rating=2916, destination_workflow='R'),), destination_workflow_else='A'), 'gc': Workflow(name='gc', rules=(Rule(category='s', operator='<', rating=3185, destination_workflow='R'), Rule(category='s', operator='<', rating=3485, destination_workflow='jk'), Rule(category='s', operator='<', rating=3827, destination_workflow='A')), destination_workflow_else='R'), 'ts': Workflow(name='ts', rules=(Rule(category='m', operator='<', rating=2719, destination_workflow='A'), Rule(category='s', operator='<', rating=3037, destination_workflow='R'), Rule(category='a', operator='>', rating=2063, destination_workflow='A')), destination_workflow_else='A'), 'bxt': Workflow(name='bxt', rules=(Rule(category='m', operator='>', rating=2226, destination_workflow='fqq'), Rule(category='s', operator='<', rating=3295, destination_workflow='xh'), Rule(category='a', operator='>', rating=494, destination_workflow='sd')), destination_workflow_else='mj'), 'lz': Workflow(name='lz', rules=(Rule(category='s', operator='<', rating=3205, destination_workflow='R'),), destination_workflow_else='A'), 'rkh': Workflow(name='rkh', rules=(Rule(category='s', operator='>', rating=3298, destination_workflow='R'), Rule(category='a', operator='<', rating=3086, destination_workflow='R'), Rule(category='s', operator='>', rating=2875, destination_workflow='A')), destination_workflow_else='A')}, part_ratings=[PartRating(x=53, m=706, a=908, s=10), PartRating(x=518, m=1763, a=669, s=832), PartRating(x=745, m=1031, a=529, s=1094), PartRating(x=92, m=724, a=1146, s=1), PartRating(x=221, m=945, a=188, s=280), PartRating(x=225, m=1271, a=1124, s=311), PartRating(x=2080, m=834, a=2731, s=93), PartRating(x=293, m=22, a=1850, s=1550), PartRating(x=166, m=67, a=2239, s=785), PartRating(x=2479, m=198, a=600, s=11), PartRating(x=496, m=696, a=1081, s=47), PartRating(x=128, m=1915, a=822, s=290), PartRating(x=2287, m=411, a=1959, s=551), PartRating(x=661, m=1318, a=1169, s=1799), PartRating(x=250, m=2851, a=113, s=142), PartRating(x=2334, m=166, a=383, s=1021), PartRating(x=668, m=815, a=194, s=1103), PartRating(x=651, m=258, a=2192, s=2322), PartRating(x=1170, m=1099, a=235, s=1183), PartRating(x=1901, m=1337, a=1672, s=1234), PartRating(x=3, m=424, a=3285, s=2127), PartRating(x=213, m=223, a=1549, s=196), PartRating(x=2729, m=1952, a=392, s=524), PartRating(x=26, m=790, a=1913, s=765), PartRating(x=546, m=607, a=218, s=68), PartRating(x=131, m=895, a=837, s=1086), PartRating(x=274, m=808, a=2483, s=1090), PartRating(x=1682, m=2367, a=3375, s=446), PartRating(x=258, m=717, a=1109, s=2045), PartRating(x=581, m=1334, a=2265, s=422), PartRating(x=410, m=2743, a=3308, s=305), PartRating(x=542, m=2556, a=1104, s=1774), PartRating(x=195, m=1205, a=120, s=571), PartRating(x=1613, m=816, a=1180, s=606), PartRating(x=512, m=3, a=2, s=713), PartRating(x=8, m=251, a=159, s=1830), PartRating(x=659, m=921, a=343, s=1642), PartRating(x=412, m=1227, a=1098, s=3350), PartRating(x=376, m=1165, a=1162, s=1524), PartRating(x=113, m=643, a=356, s=406), PartRating(x=1544, m=18, a=2845, s=1447), PartRating(x=692, m=2900, a=49, s=125), PartRating(x=1549, m=1257, a=2565, s=475), PartRating(x=433, m=1155, a=1206, s=746), PartRating(x=301, m=1527, a=89, s=1344), PartRating(x=2264, m=1514, a=290, s=747), PartRating(x=397, m=1052, a=725, s=1329), PartRating(x=97, m=695, a=1213, s=1915), PartRating(x=1740, m=3424, a=97, s=3028), PartRating(x=211, m=1826, a=44, s=299), PartRating(x=725, m=3005, a=221, s=68), PartRating(x=1061, m=1058, a=247, s=701), PartRating(x=615, m=1968, a=75, s=2522), PartRating(x=60, m=320, a=340, s=2586), PartRating(x=157, m=1847, a=1349, s=298), PartRating(x=3438, m=695, a=2623, s=801), PartRating(x=1775, m=551, a=344, s=211), PartRating(x=2311, m=5, a=2269, s=1867), PartRating(x=914, m=199, a=983, s=846), PartRating(x=1035, m=1873, a=1040, s=2527), PartRating(x=1276, m=706, a=542, s=118), PartRating(x=1980, m=3487, a=266, s=405), PartRating(x=1661, m=153, a=1083, s=935), PartRating(x=333, m=2639, a=162, s=1149), PartRating(x=502, m=456, a=1803, s=8), PartRating(x=498, m=971, a=12, s=135), PartRating(x=1031, m=1045, a=169, s=409), PartRating(x=815, m=1124, a=1956, s=222), PartRating(x=870, m=792, a=593, s=982), PartRating(x=821, m=644, a=5, s=79), PartRating(x=709, m=1023, a=2115, s=1823), PartRating(x=1446, m=1261, a=1343, s=940), PartRating(x=156, m=2366, a=1235, s=143), PartRating(x=15, m=154, a=879, s=2009), PartRating(x=1815, m=1095, a=396, s=119), PartRating(x=166, m=383, a=1926, s=371), PartRating(x=2006, m=2490, a=491, s=1612), PartRating(x=2936, m=735, a=160, s=756), PartRating(x=1145, m=921, a=668, s=67), PartRating(x=3256, m=2353, a=672, s=235), PartRating(x=3, m=1727, a=1889, s=608), PartRating(x=137, m=18, a=820, s=899), PartRating(x=1495, m=356, a=32, s=3077), PartRating(x=223, m=535, a=1169, s=290), PartRating(x=491, m=1384, a=2760, s=1715), PartRating(x=24, m=441, a=352, s=428), PartRating(x=2045, m=342, a=2921, s=3447), PartRating(x=352, m=1975, a=1086, s=740), PartRating(x=685, m=1759, a=619, s=3086), PartRating(x=172, m=3238, a=2573, s=1739), PartRating(x=342, m=311, a=770, s=1594), PartRating(x=482, m=960, a=357, s=3234), PartRating(x=129, m=8, a=1302, s=1683), PartRating(x=2582, m=584, a=2405, s=2935), PartRating(x=1139, m=3043, a=735, s=1128), PartRating(x=1665, m=2277, a=272, s=915), PartRating(x=472, m=2355, a=2508, s=285), PartRating(x=137, m=571, a=1995, s=3237), PartRating(x=2529, m=2131, a=459, s=587), PartRating(x=403, m=111, a=1923, s=757), PartRating(x=1539, m=278, a=2723, s=422), PartRating(x=419, m=650, a=736, s=2491), PartRating(x=5, m=71, a=885, s=445), PartRating(x=961, m=933, a=811, s=2442), PartRating(x=197, m=1327, a=2544, s=543), PartRating(x=629, m=1585, a=911, s=2727), PartRating(x=195, m=162, a=615, s=37), PartRating(x=409, m=2857, a=678, s=2310), PartRating(x=29, m=422, a=311, s=477), PartRating(x=2644, m=1270, a=2536, s=221), PartRating(x=255, m=2447, a=1433, s=1231), PartRating(x=822, m=2110, a=528, s=1246), PartRating(x=87, m=2524, a=478, s=38), PartRating(x=1461, m=489, a=87, s=1821), PartRating(x=694, m=1612, a=1056, s=241), PartRating(x=725, m=1007, a=1867, s=33), PartRating(x=482, m=1282, a=110, s=926), PartRating(x=392, m=716, a=684, s=95), PartRating(x=29, m=683, a=1294, s=681), PartRating(x=594, m=1878, a=2117, s=33), PartRating(x=488, m=1058, a=187, s=2150), PartRating(x=76, m=1020, a=1571, s=1224), PartRating(x=2675, m=353, a=223, s=41), PartRating(x=115, m=1165, a=1346, s=307), PartRating(x=1249, m=527, a=703, s=2603), PartRating(x=1803, m=1667, a=50, s=226), PartRating(x=193, m=520, a=77, s=761), PartRating(x=2917, m=936, a=1966, s=2314), PartRating(x=388, m=15, a=3355, s=742), PartRating(x=3258, m=97, a=961, s=2108), PartRating(x=44, m=508, a=63, s=1369), PartRating(x=2669, m=1486, a=917, s=2768), PartRating(x=78, m=3505, a=2201, s=36), PartRating(x=270, m=831, a=2645, s=348), PartRating(x=4, m=1432, a=271, s=1574), PartRating(x=96, m=100, a=1797, s=545), PartRating(x=2625, m=93, a=662, s=178), PartRating(x=71, m=1386, a=1805, s=1039), PartRating(x=342, m=907, a=1556, s=1712), PartRating(x=1152, m=524, a=1207, s=586), PartRating(x=441, m=1274, a=1282, s=1374), PartRating(x=1701, m=103, a=420, s=2658), PartRating(x=223, m=120, a=1099, s=1186), PartRating(x=852, m=10, a=1380, s=1136), PartRating(x=3087, m=50, a=1648, s=1805), PartRating(x=569, m=1578, a=330, s=52), PartRating(x=2011, m=284, a=141, s=332), PartRating(x=321, m=1488, a=95, s=1524), PartRating(x=678, m=145, a=2229, s=167), PartRating(x=1971, m=198, a=1405, s=278), PartRating(x=3075, m=833, a=1836, s=688), PartRating(x=718, m=176, a=1943, s=3507), PartRating(x=1136, m=20, a=752, s=1663), PartRating(x=425, m=939, a=106, s=546), PartRating(x=24, m=88, a=2692, s=1980), PartRating(x=738, m=919, a=2233, s=389), PartRating(x=1955, m=517, a=191, s=596), PartRating(x=186, m=1864, a=3163, s=325), PartRating(x=294, m=2125, a=595, s=2345), PartRating(x=320, m=591, a=385, s=335), PartRating(x=468, m=307, a=1674, s=1166), PartRating(x=1291, m=1508, a=231, s=758), PartRating(x=715, m=2147, a=485, s=1376), PartRating(x=386, m=236, a=190, s=190), PartRating(x=261, m=1774, a=140, s=3186), PartRating(x=711, m=1599, a=895, s=496), PartRating(x=658, m=394, a=11, s=375), PartRating(x=1847, m=2236, a=2044, s=715), PartRating(x=497, m=1462, a=548, s=1383), PartRating(x=584, m=124, a=1655, s=1728), PartRating(x=115, m=1486, a=101, s=200), PartRating(x=20, m=1103, a=1861, s=704), PartRating(x=1544, m=1439, a=1077, s=1119), PartRating(x=132, m=18, a=345, s=2717), PartRating(x=2454, m=1455, a=991, s=66), PartRating(x=1581, m=1343, a=94, s=26), PartRating(x=1495, m=664, a=20, s=671), PartRating(x=99, m=1846, a=2815, s=898), PartRating(x=583, m=1588, a=2102, s=1799), PartRating(x=266, m=59, a=267, s=683), PartRating(x=2885, m=955, a=691, s=1786), PartRating(x=346, m=74, a=490, s=1126), PartRating(x=1044, m=806, a=388, s=8), PartRating(x=73, m=80, a=975, s=281), PartRating(x=132, m=1041, a=544, s=734), PartRating(x=346, m=1693, a=501, s=185), PartRating(x=827, m=1183, a=385, s=140), PartRating(x=94, m=304, a=216, s=398), PartRating(x=67, m=576, a=76, s=1267), PartRating(x=1642, m=52, a=50, s=1308), PartRating(x=2551, m=746, a=3136, s=455), PartRating(x=291, m=1112, a=1445, s=472), PartRating(x=388, m=292, a=82, s=3715), PartRating(x=2849, m=52, a=1385, s=926), PartRating(x=948, m=891, a=912, s=687), PartRating(x=984, m=3303, a=1191, s=3152), PartRating(x=74, m=1770, a=744, s=689), PartRating(x=273, m=427, a=774, s=451), PartRating(x=86, m=3295, a=830, s=548), PartRating(x=1475, m=2237, a=984, s=147)])"
                        ]
                    },
                    "execution_count": 19,
                    "metadata": {},
                    "output_type": "execute_result"
                }
            ],
            "source": [
                "puzzle_input = problem.parse_input_text_file()\n",
                "puzzle_input"
            ]
        },
        {
            "cell_type": "code",
            "execution_count": 20,
            "metadata": {},
            "outputs": [
                {
                    "data": {
                        "text/plain": [
                            "{'mapping': {'px': {'x': 'range(1, 4001)',\n",
                            "   'm': 'range(1, 4001)',\n",
                            "   'a': 'range(1, 4001)',\n",
                            "   's': 'range(1, 1351)'},\n",
                            "  'qqz': {'x': 'range(1, 4001)',\n",
                            "   'm': 'range(1, 4001)',\n",
                            "   'a': 'range(1, 4001)',\n",
                            "   's': 'range(1351, 4001)'}},\n",
                            " 'children': {'px': {'mapping': {'qkq': {'x': 'range(1, 4001)',\n",
                            "     'm': 'range(1, 4001)',\n",
                            "     'a': 'range(1, 2006)',\n",
                            "     's': 'range(1, 1351)'},\n",
                            "    'A': {'x': 'range(1, 4001)',\n",
                            "     'm': 'range(2091, 4001)',\n",
                            "     'a': 'range(2006, 4001)',\n",
                            "     's': 'range(1, 1351)'},\n",
                            "    'rfg': {'x': 'range(1, 4001)',\n",
                            "     'm': 'range(1, 2091)',\n",
                            "     'a': 'range(2006, 4001)',\n",
                            "     's': 'range(1, 1351)'}},\n",
                            "   'children': {'qkq': {'mapping': {'A': {'x': 'range(1, 1416)',\n",
                            "       'm': 'range(1, 4001)',\n",
                            "       'a': 'range(1, 2006)',\n",
                            "       's': 'range(1, 1351)'},\n",
                            "      'crn': {'x': 'range(1416, 4001)',\n",
                            "       'm': 'range(1, 4001)',\n",
                            "       'a': 'range(1, 2006)',\n",
                            "       's': 'range(1, 1351)'}},\n",
                            "     'children': {'A': None,\n",
                            "      'crn': {'mapping': {'A': {'x': 'range(2663, 4001)',\n",
                            "         'm': 'range(1, 4001)',\n",
                            "         'a': 'range(1, 2006)',\n",
                            "         's': 'range(1, 1351)'},\n",
                            "        'R': {'x': 'range(1416, 2663)',\n",
                            "         'm': 'range(1, 4001)',\n",
                            "         'a': 'range(1, 2006)',\n",
                            "         's': 'range(1, 1351)'}},\n",
                            "       'children': {'A': None, 'R': None}}}},\n",
                            "    'A': None,\n",
                            "    'rfg': {'mapping': {'gd': {'x': 'range(1, 4001)',\n",
                            "       'm': 'range(1, 2091)',\n",
                            "       'a': 'range(2006, 4001)',\n",
                            "       's': 'range(1, 537)'},\n",
                            "      'R': {'x': 'range(2441, 4001)',\n",
                            "       'm': 'range(1, 2091)',\n",
                            "       'a': 'range(2006, 4001)',\n",
                            "       's': 'range(537, 1351)'},\n",
                            "      'A': {'x': 'range(1, 2441)',\n",
                            "       'm': 'range(1, 2091)',\n",
                            "       'a': 'range(2006, 4001)',\n",
                            "       's': 'range(537, 1351)'}},\n",
                            "     'children': {'gd': {'mapping': {'R': {'x': 'range(1, 4001)',\n",
                            "         'm': 'range(1, 2091)',\n",
                            "         'a': 'range(2006, 3334)',\n",
                            "         's': 'range(1, 537)'}},\n",
                            "       'children': {'R': None}},\n",
                            "      'R': None,\n",
                            "      'A': None}}}},\n",
                            "  'qqz': {'mapping': {'qs': {'x': 'range(1, 4001)',\n",
                            "     'm': 'range(1, 4001)',\n",
                            "     'a': 'range(1, 4001)',\n",
                            "     's': 'range(2771, 4001)'},\n",
                            "    'hdj': {'x': 'range(1, 4001)',\n",
                            "     'm': 'range(1, 1801)',\n",
                            "     'a': 'range(1, 4001)',\n",
                            "     's': 'range(1351, 2771)'},\n",
                            "    'R': {'x': 'range(1, 4001)',\n",
                            "     'm': 'range(1801, 4001)',\n",
                            "     'a': 'range(1, 4001)',\n",
                            "     's': 'range(1351, 2771)'}},\n",
                            "   'children': {'qs': {'mapping': {'A': {'x': 'range(1, 4001)',\n",
                            "       'm': 'range(1, 4001)',\n",
                            "       'a': 'range(1, 4001)',\n",
                            "       's': 'range(3449, 4001)'},\n",
                            "      'lnx': {'x': 'range(1, 4001)',\n",
                            "       'm': 'range(1, 4001)',\n",
                            "       'a': 'range(1, 4001)',\n",
                            "       's': 'range(2771, 3449)'}},\n",
                            "     'children': {'A': None,\n",
                            "      'lnx': {'mapping': {'A': {'x': 'range(1, 4001)',\n",
                            "         'm': 'range(1, 1549)',\n",
                            "         'a': 'range(1, 4001)',\n",
                            "         's': 'range(2771, 3449)'}},\n",
                            "       'children': {'A': None}}}},\n",
                            "    'hdj': {'mapping': {'A': {'x': 'range(1, 4001)',\n",
                            "       'm': 'range(839, 1801)',\n",
                            "       'a': 'range(1, 4001)',\n",
                            "       's': 'range(1351, 2771)'},\n",
                            "      'pv': {'x': 'range(1, 4001)',\n",
                            "       'm': 'range(1, 839)',\n",
                            "       'a': 'range(1, 4001)',\n",
                            "       's': 'range(1351, 2771)'}},\n",
                            "     'children': {'A': None,\n",
                            "      'pv': {'mapping': {'R': {'x': 'range(1, 4001)',\n",
                            "         'm': 'range(1, 839)',\n",
                            "         'a': 'range(1717, 4001)',\n",
                            "         's': 'range(1351, 2771)'},\n",
                            "        'A': {'x': 'range(1, 4001)',\n",
                            "         'm': 'range(1, 839)',\n",
                            "         'a': 'range(1, 1717)',\n",
                            "         's': 'range(1351, 2771)'}},\n",
                            "       'children': {'R': None, 'A': None}}}},\n",
                            "    'R': None}}}}"
                        ]
                    },
                    "execution_count": 20,
                    "metadata": {},
                    "output_type": "execute_result"
                }
            ],
            "source": [
                "import json\n",
                "from pathlib import Path\n",
                "\n",
                "path_str = \"../../../../generated/advent_of_code/year_2023/day_19/text/part_1_input.json\"\n",
                "tree = json.loads(Path(path_str).read_text())\n",
                "tree    "
            ]
        },
        {
            "cell_type": "code",
            "execution_count": 21,
            "metadata": {},
            "outputs": [
                {
                    "data": {
                        "text/plain": [
                            "{'px': {'x': 'range(1, 4001)',\n",
                            "  'm': 'range(1, 4001)',\n",
                            "  'a': 'range(1, 4001)',\n",
                            "  's': 'range(1, 1351)'},\n",
                            " 'qqz': {'x': 'range(1, 4001)',\n",
                            "  'm': 'range(1, 4001)',\n",
                            "  'a': 'range(1, 4001)',\n",
                            "  's': 'range(1351, 4001)'}}"
                        ]
                    },
                    "execution_count": 21,
                    "metadata": {},
                    "output_type": "execute_result"
                }
            ],
            "source": [
                "{k: v for k, v in tree[\"mapping\"].items() }"
            ]
        },
        {
            "cell_type": "code",
            "execution_count": 22,
            "metadata": {},
            "outputs": [
                {
                    "data": {
                        "application/vnd.plotly.v1+json": {
                            "config": {
                                "plotlyServerURL": "https://plot.ly"
                            },
                            "data": [
                                {
                                    "link": {
                                        "source": [
                                            0,
                                            1,
                                            0,
                                            2,
                                            3,
                                            3
                                        ],
                                        "target": [
                                            2,
                                            3,
                                            3,
                                            4,
                                            4,
                                            5
                                        ],
                                        "value": [
                                            8,
                                            4,
                                            8,
                                            8,
                                            4,
                                            2
                                        ]
                                    },
                                    "node": {
                                        "color": "blue",
                                        "label": [
                                            "A1",
                                            "A2",
                                            "B1",
                                            "B2",
                                            "C1",
                                            "C2"
                                        ],
                                        "line": {
                                            "color": "black",
                                            "width": 0.5
                                        },
                                        "pad": 15,
                                        "thickness": 20
                                    },
                                    "type": "sankey"
                                }
                            ],
                            "layout": {
                                "font": {
                                    "size": 10
                                },
                                "template": {
                                    "data": {
                                        "bar": [
                                            {
                                                "error_x": {
                                                    "color": "#2a3f5f"
                                                },
                                                "error_y": {
                                                    "color": "#2a3f5f"
                                                },
                                                "marker": {
                                                    "line": {
                                                        "color": "#E5ECF6",
                                                        "width": 0.5
                                                    },
                                                    "pattern": {
                                                        "fillmode": "overlay",
                                                        "size": 10,
                                                        "solidity": 0.2
                                                    }
                                                },
                                                "type": "bar"
                                            }
                                        ],
                                        "barpolar": [
                                            {
                                                "marker": {
                                                    "line": {
                                                        "color": "#E5ECF6",
                                                        "width": 0.5
                                                    },
                                                    "pattern": {
                                                        "fillmode": "overlay",
                                                        "size": 10,
                                                        "solidity": 0.2
                                                    }
                                                },
                                                "type": "barpolar"
                                            }
                                        ],
                                        "carpet": [
                                            {
                                                "aaxis": {
                                                    "endlinecolor": "#2a3f5f",
                                                    "gridcolor": "white",
                                                    "linecolor": "white",
                                                    "minorgridcolor": "white",
                                                    "startlinecolor": "#2a3f5f"
                                                },
                                                "baxis": {
                                                    "endlinecolor": "#2a3f5f",
                                                    "gridcolor": "white",
                                                    "linecolor": "white",
                                                    "minorgridcolor": "white",
                                                    "startlinecolor": "#2a3f5f"
                                                },
                                                "type": "carpet"
                                            }
                                        ],
                                        "choropleth": [
                                            {
                                                "colorbar": {
                                                    "outlinewidth": 0,
                                                    "ticks": ""
                                                },
                                                "type": "choropleth"
                                            }
                                        ],
                                        "contour": [
                                            {
                                                "colorbar": {
                                                    "outlinewidth": 0,
                                                    "ticks": ""
                                                },
                                                "colorscale": [
                                                    [
                                                        0,
                                                        "#0d0887"
                                                    ],
                                                    [
                                                        0.1111111111111111,
                                                        "#46039f"
                                                    ],
                                                    [
                                                        0.2222222222222222,
                                                        "#7201a8"
                                                    ],
                                                    [
                                                        0.3333333333333333,
                                                        "#9c179e"
                                                    ],
                                                    [
                                                        0.4444444444444444,
                                                        "#bd3786"
                                                    ],
                                                    [
                                                        0.5555555555555556,
                                                        "#d8576b"
                                                    ],
                                                    [
                                                        0.6666666666666666,
                                                        "#ed7953"
                                                    ],
                                                    [
                                                        0.7777777777777778,
                                                        "#fb9f3a"
                                                    ],
                                                    [
                                                        0.8888888888888888,
                                                        "#fdca26"
                                                    ],
                                                    [
                                                        1,
                                                        "#f0f921"
                                                    ]
                                                ],
                                                "type": "contour"
                                            }
                                        ],
                                        "contourcarpet": [
                                            {
                                                "colorbar": {
                                                    "outlinewidth": 0,
                                                    "ticks": ""
                                                },
                                                "type": "contourcarpet"
                                            }
                                        ],
                                        "heatmap": [
                                            {
                                                "colorbar": {
                                                    "outlinewidth": 0,
                                                    "ticks": ""
                                                },
                                                "colorscale": [
                                                    [
                                                        0,
                                                        "#0d0887"
                                                    ],
                                                    [
                                                        0.1111111111111111,
                                                        "#46039f"
                                                    ],
                                                    [
                                                        0.2222222222222222,
                                                        "#7201a8"
                                                    ],
                                                    [
                                                        0.3333333333333333,
                                                        "#9c179e"
                                                    ],
                                                    [
                                                        0.4444444444444444,
                                                        "#bd3786"
                                                    ],
                                                    [
                                                        0.5555555555555556,
                                                        "#d8576b"
                                                    ],
                                                    [
                                                        0.6666666666666666,
                                                        "#ed7953"
                                                    ],
                                                    [
                                                        0.7777777777777778,
                                                        "#fb9f3a"
                                                    ],
                                                    [
                                                        0.8888888888888888,
                                                        "#fdca26"
                                                    ],
                                                    [
                                                        1,
                                                        "#f0f921"
                                                    ]
                                                ],
                                                "type": "heatmap"
                                            }
                                        ],
                                        "heatmapgl": [
                                            {
                                                "colorbar": {
                                                    "outlinewidth": 0,
                                                    "ticks": ""
                                                },
                                                "colorscale": [
                                                    [
                                                        0,
                                                        "#0d0887"
                                                    ],
                                                    [
                                                        0.1111111111111111,
                                                        "#46039f"
                                                    ],
                                                    [
                                                        0.2222222222222222,
                                                        "#7201a8"
                                                    ],
                                                    [
                                                        0.3333333333333333,
                                                        "#9c179e"
                                                    ],
                                                    [
                                                        0.4444444444444444,
                                                        "#bd3786"
                                                    ],
                                                    [
                                                        0.5555555555555556,
                                                        "#d8576b"
                                                    ],
                                                    [
                                                        0.6666666666666666,
                                                        "#ed7953"
                                                    ],
                                                    [
                                                        0.7777777777777778,
                                                        "#fb9f3a"
                                                    ],
                                                    [
                                                        0.8888888888888888,
                                                        "#fdca26"
                                                    ],
                                                    [
                                                        1,
                                                        "#f0f921"
                                                    ]
                                                ],
                                                "type": "heatmapgl"
                                            }
                                        ],
                                        "histogram": [
                                            {
                                                "marker": {
                                                    "pattern": {
                                                        "fillmode": "overlay",
                                                        "size": 10,
                                                        "solidity": 0.2
                                                    }
                                                },
                                                "type": "histogram"
                                            }
                                        ],
                                        "histogram2d": [
                                            {
                                                "colorbar": {
                                                    "outlinewidth": 0,
                                                    "ticks": ""
                                                },
                                                "colorscale": [
                                                    [
                                                        0,
                                                        "#0d0887"
                                                    ],
                                                    [
                                                        0.1111111111111111,
                                                        "#46039f"
                                                    ],
                                                    [
                                                        0.2222222222222222,
                                                        "#7201a8"
                                                    ],
                                                    [
                                                        0.3333333333333333,
                                                        "#9c179e"
                                                    ],
                                                    [
                                                        0.4444444444444444,
                                                        "#bd3786"
                                                    ],
                                                    [
                                                        0.5555555555555556,
                                                        "#d8576b"
                                                    ],
                                                    [
                                                        0.6666666666666666,
                                                        "#ed7953"
                                                    ],
                                                    [
                                                        0.7777777777777778,
                                                        "#fb9f3a"
                                                    ],
                                                    [
                                                        0.8888888888888888,
                                                        "#fdca26"
                                                    ],
                                                    [
                                                        1,
                                                        "#f0f921"
                                                    ]
                                                ],
                                                "type": "histogram2d"
                                            }
                                        ],
                                        "histogram2dcontour": [
                                            {
                                                "colorbar": {
                                                    "outlinewidth": 0,
                                                    "ticks": ""
                                                },
                                                "colorscale": [
                                                    [
                                                        0,
                                                        "#0d0887"
                                                    ],
                                                    [
                                                        0.1111111111111111,
                                                        "#46039f"
                                                    ],
                                                    [
                                                        0.2222222222222222,
                                                        "#7201a8"
                                                    ],
                                                    [
                                                        0.3333333333333333,
                                                        "#9c179e"
                                                    ],
                                                    [
                                                        0.4444444444444444,
                                                        "#bd3786"
                                                    ],
                                                    [
                                                        0.5555555555555556,
                                                        "#d8576b"
                                                    ],
                                                    [
                                                        0.6666666666666666,
                                                        "#ed7953"
                                                    ],
                                                    [
                                                        0.7777777777777778,
                                                        "#fb9f3a"
                                                    ],
                                                    [
                                                        0.8888888888888888,
                                                        "#fdca26"
                                                    ],
                                                    [
                                                        1,
                                                        "#f0f921"
                                                    ]
                                                ],
                                                "type": "histogram2dcontour"
                                            }
                                        ],
                                        "mesh3d": [
                                            {
                                                "colorbar": {
                                                    "outlinewidth": 0,
                                                    "ticks": ""
                                                },
                                                "type": "mesh3d"
                                            }
                                        ],
                                        "parcoords": [
                                            {
                                                "line": {
                                                    "colorbar": {
                                                        "outlinewidth": 0,
                                                        "ticks": ""
                                                    }
                                                },
                                                "type": "parcoords"
                                            }
                                        ],
                                        "pie": [
                                            {
                                                "automargin": true,
                                                "type": "pie"
                                            }
                                        ],
                                        "scatter": [
                                            {
                                                "fillpattern": {
                                                    "fillmode": "overlay",
                                                    "size": 10,
                                                    "solidity": 0.2
                                                },
                                                "type": "scatter"
                                            }
                                        ],
                                        "scatter3d": [
                                            {
                                                "line": {
                                                    "colorbar": {
                                                        "outlinewidth": 0,
                                                        "ticks": ""
                                                    }
                                                },
                                                "marker": {
                                                    "colorbar": {
                                                        "outlinewidth": 0,
                                                        "ticks": ""
                                                    }
                                                },
                                                "type": "scatter3d"
                                            }
                                        ],
                                        "scattercarpet": [
                                            {
                                                "marker": {
                                                    "colorbar": {
                                                        "outlinewidth": 0,
                                                        "ticks": ""
                                                    }
                                                },
                                                "type": "scattercarpet"
                                            }
                                        ],
                                        "scattergeo": [
                                            {
                                                "marker": {
                                                    "colorbar": {
                                                        "outlinewidth": 0,
                                                        "ticks": ""
                                                    }
                                                },
                                                "type": "scattergeo"
                                            }
                                        ],
                                        "scattergl": [
                                            {
                                                "marker": {
                                                    "colorbar": {
                                                        "outlinewidth": 0,
                                                        "ticks": ""
                                                    }
                                                },
                                                "type": "scattergl"
                                            }
                                        ],
                                        "scattermapbox": [
                                            {
                                                "marker": {
                                                    "colorbar": {
                                                        "outlinewidth": 0,
                                                        "ticks": ""
                                                    }
                                                },
                                                "type": "scattermapbox"
                                            }
                                        ],
                                        "scatterpolar": [
                                            {
                                                "marker": {
                                                    "colorbar": {
                                                        "outlinewidth": 0,
                                                        "ticks": ""
                                                    }
                                                },
                                                "type": "scatterpolar"
                                            }
                                        ],
                                        "scatterpolargl": [
                                            {
                                                "marker": {
                                                    "colorbar": {
                                                        "outlinewidth": 0,
                                                        "ticks": ""
                                                    }
                                                },
                                                "type": "scatterpolargl"
                                            }
                                        ],
                                        "scatterternary": [
                                            {
                                                "marker": {
                                                    "colorbar": {
                                                        "outlinewidth": 0,
                                                        "ticks": ""
                                                    }
                                                },
                                                "type": "scatterternary"
                                            }
                                        ],
                                        "surface": [
                                            {
                                                "colorbar": {
                                                    "outlinewidth": 0,
                                                    "ticks": ""
                                                },
                                                "colorscale": [
                                                    [
                                                        0,
                                                        "#0d0887"
                                                    ],
                                                    [
                                                        0.1111111111111111,
                                                        "#46039f"
                                                    ],
                                                    [
                                                        0.2222222222222222,
                                                        "#7201a8"
                                                    ],
                                                    [
                                                        0.3333333333333333,
                                                        "#9c179e"
                                                    ],
                                                    [
                                                        0.4444444444444444,
                                                        "#bd3786"
                                                    ],
                                                    [
                                                        0.5555555555555556,
                                                        "#d8576b"
                                                    ],
                                                    [
                                                        0.6666666666666666,
                                                        "#ed7953"
                                                    ],
                                                    [
                                                        0.7777777777777778,
                                                        "#fb9f3a"
                                                    ],
                                                    [
                                                        0.8888888888888888,
                                                        "#fdca26"
                                                    ],
                                                    [
                                                        1,
                                                        "#f0f921"
                                                    ]
                                                ],
                                                "type": "surface"
                                            }
                                        ],
                                        "table": [
                                            {
                                                "cells": {
                                                    "fill": {
                                                        "color": "#EBF0F8"
                                                    },
                                                    "line": {
                                                        "color": "white"
                                                    }
                                                },
                                                "header": {
                                                    "fill": {
                                                        "color": "#C8D4E3"
                                                    },
                                                    "line": {
                                                        "color": "white"
                                                    }
                                                },
                                                "type": "table"
                                            }
                                        ]
                                    },
                                    "layout": {
                                        "annotationdefaults": {
                                            "arrowcolor": "#2a3f5f",
                                            "arrowhead": 0,
                                            "arrowwidth": 1
                                        },
                                        "autotypenumbers": "strict",
                                        "coloraxis": {
                                            "colorbar": {
                                                "outlinewidth": 0,
                                                "ticks": ""
                                            }
                                        },
                                        "colorscale": {
                                            "diverging": [
                                                [
                                                    0,
                                                    "#8e0152"
                                                ],
                                                [
                                                    0.1,
                                                    "#c51b7d"
                                                ],
                                                [
                                                    0.2,
                                                    "#de77ae"
                                                ],
                                                [
                                                    0.3,
                                                    "#f1b6da"
                                                ],
                                                [
                                                    0.4,
                                                    "#fde0ef"
                                                ],
                                                [
                                                    0.5,
                                                    "#f7f7f7"
                                                ],
                                                [
                                                    0.6,
                                                    "#e6f5d0"
                                                ],
                                                [
                                                    0.7,
                                                    "#b8e186"
                                                ],
                                                [
                                                    0.8,
                                                    "#7fbc41"
                                                ],
                                                [
                                                    0.9,
                                                    "#4d9221"
                                                ],
                                                [
                                                    1,
                                                    "#276419"
                                                ]
                                            ],
                                            "sequential": [
                                                [
                                                    0,
                                                    "#0d0887"
                                                ],
                                                [
                                                    0.1111111111111111,
                                                    "#46039f"
                                                ],
                                                [
                                                    0.2222222222222222,
                                                    "#7201a8"
                                                ],
                                                [
                                                    0.3333333333333333,
                                                    "#9c179e"
                                                ],
                                                [
                                                    0.4444444444444444,
                                                    "#bd3786"
                                                ],
                                                [
                                                    0.5555555555555556,
                                                    "#d8576b"
                                                ],
                                                [
                                                    0.6666666666666666,
                                                    "#ed7953"
                                                ],
                                                [
                                                    0.7777777777777778,
                                                    "#fb9f3a"
                                                ],
                                                [
                                                    0.8888888888888888,
                                                    "#fdca26"
                                                ],
                                                [
                                                    1,
                                                    "#f0f921"
                                                ]
                                            ],
                                            "sequentialminus": [
                                                [
                                                    0,
                                                    "#0d0887"
                                                ],
                                                [
                                                    0.1111111111111111,
                                                    "#46039f"
                                                ],
                                                [
                                                    0.2222222222222222,
                                                    "#7201a8"
                                                ],
                                                [
                                                    0.3333333333333333,
                                                    "#9c179e"
                                                ],
                                                [
                                                    0.4444444444444444,
                                                    "#bd3786"
                                                ],
                                                [
                                                    0.5555555555555556,
                                                    "#d8576b"
                                                ],
                                                [
                                                    0.6666666666666666,
                                                    "#ed7953"
                                                ],
                                                [
                                                    0.7777777777777778,
                                                    "#fb9f3a"
                                                ],
                                                [
                                                    0.8888888888888888,
                                                    "#fdca26"
                                                ],
                                                [
                                                    1,
                                                    "#f0f921"
                                                ]
                                            ]
                                        },
                                        "colorway": [
                                            "#636efa",
                                            "#EF553B",
                                            "#00cc96",
                                            "#ab63fa",
                                            "#FFA15A",
                                            "#19d3f3",
                                            "#FF6692",
                                            "#B6E880",
                                            "#FF97FF",
                                            "#FECB52"
                                        ],
                                        "font": {
                                            "color": "#2a3f5f"
                                        },
                                        "geo": {
                                            "bgcolor": "white",
                                            "lakecolor": "white",
                                            "landcolor": "#E5ECF6",
                                            "showlakes": true,
                                            "showland": true,
                                            "subunitcolor": "white"
                                        },
                                        "hoverlabel": {
                                            "align": "left"
                                        },
                                        "hovermode": "closest",
                                        "mapbox": {
                                            "style": "light"
                                        },
                                        "paper_bgcolor": "white",
                                        "plot_bgcolor": "#E5ECF6",
                                        "polar": {
                                            "angularaxis": {
                                                "gridcolor": "white",
                                                "linecolor": "white",
                                                "ticks": ""
                                            },
                                            "bgcolor": "#E5ECF6",
                                            "radialaxis": {
                                                "gridcolor": "white",
                                                "linecolor": "white",
                                                "ticks": ""
                                            }
                                        },
                                        "scene": {
                                            "xaxis": {
                                                "backgroundcolor": "#E5ECF6",
                                                "gridcolor": "white",
                                                "gridwidth": 2,
                                                "linecolor": "white",
                                                "showbackground": true,
                                                "ticks": "",
                                                "zerolinecolor": "white"
                                            },
                                            "yaxis": {
                                                "backgroundcolor": "#E5ECF6",
                                                "gridcolor": "white",
                                                "gridwidth": 2,
                                                "linecolor": "white",
                                                "showbackground": true,
                                                "ticks": "",
                                                "zerolinecolor": "white"
                                            },
                                            "zaxis": {
                                                "backgroundcolor": "#E5ECF6",
                                                "gridcolor": "white",
                                                "gridwidth": 2,
                                                "linecolor": "white",
                                                "showbackground": true,
                                                "ticks": "",
                                                "zerolinecolor": "white"
                                            }
                                        },
                                        "shapedefaults": {
                                            "line": {
                                                "color": "#2a3f5f"
                                            }
                                        },
                                        "ternary": {
                                            "aaxis": {
                                                "gridcolor": "white",
                                                "linecolor": "white",
                                                "ticks": ""
                                            },
                                            "baxis": {
                                                "gridcolor": "white",
                                                "linecolor": "white",
                                                "ticks": ""
                                            },
                                            "bgcolor": "#E5ECF6",
                                            "caxis": {
                                                "gridcolor": "white",
                                                "linecolor": "white",
                                                "ticks": ""
                                            }
                                        },
                                        "title": {
                                            "x": 0.05
                                        },
                                        "xaxis": {
                                            "automargin": true,
                                            "gridcolor": "white",
                                            "linecolor": "white",
                                            "ticks": "",
                                            "title": {
                                                "standoff": 15
                                            },
                                            "zerolinecolor": "white",
                                            "zerolinewidth": 2
                                        },
                                        "yaxis": {
                                            "automargin": true,
                                            "gridcolor": "white",
                                            "linecolor": "white",
                                            "ticks": "",
                                            "title": {
                                                "standoff": 15
                                            },
                                            "zerolinecolor": "white",
                                            "zerolinewidth": 2
                                        }
                                    }
                                },
                                "title": {
                                    "text": "Basic Sankey Diagram"
                                }
                            }
                        }
                    },
                    "metadata": {},
                    "output_type": "display_data"
                }
            ],
            "source": [
                "import plotly.graph_objects as go\n",
                "\n",
                "fig = go.Figure(\n",
                "    data=[\n",
                "        go.Sankey(\n",
                "            node=dict(\n",
                "                pad=15,\n",
                "                thickness=20,\n",
                "                line=dict(color=\"black\", width=0.5),\n",
                "                label=[\"A1\", \"A2\", \"B1\", \"B2\", \"C1\", \"C2\"],\n",
                "                color=\"blue\",\n",
                "            ),\n",
                "            link=dict(\n",
                "                source=[\n",
                "                    0,\n",
                "                    1,\n",
                "                    0,\n",
                "                    2,\n",
                "                    3,\n",
                "                    3,\n",
                "                ],  # indices correspond to labels, eg A1, A2, A1, B1, ...\n",
                "                target=[2, 3, 3, 4, 4, 5],\n",
                "                value=[8, 4, 8, 8, 4, 2],\n",
                "            ),\n",
                "        )\n",
                "    ]\n",
                ")\n",
                "\n",
                "fig.update_layout(title_text=\"Basic Sankey Diagram\", font_size=10)\n",
                "fig.show()"
            ]
        },
        {
            "cell_type": "code",
            "execution_count": 23,
            "metadata": {},
            "outputs": [
                {
                    "data": {
                        "application/vnd.plotly.v1+json": {
                            "config": {
                                "plotlyServerURL": "https://plot.ly"
                            },
                            "data": [
                                {
                                    "link": {
                                        "source": [
                                            0,
                                            1,
                                            0,
                                            2,
                                            3,
                                            3
                                        ],
                                        "target": [
                                            2,
                                            3,
                                            3,
                                            4,
                                            4,
                                            5
                                        ],
                                        "value": [
                                            8,
                                            4,
                                            8,
                                            8,
                                            4,
                                            2
                                        ]
                                    },
                                    "node": {
                                        "color": "blue",
                                        "label": [
                                            "A1",
                                            "A2",
                                            "B1",
                                            "B2",
                                            "C1",
                                            "C2"
                                        ],
                                        "line": {
                                            "color": "black",
                                            "width": 0.5
                                        },
                                        "pad": 15,
                                        "thickness": 20
                                    },
                                    "type": "sankey"
                                }
                            ],
                            "layout": {
                                "font": {
                                    "size": 10
                                },
                                "template": {
                                    "data": {
                                        "bar": [
                                            {
                                                "error_x": {
                                                    "color": "#2a3f5f"
                                                },
                                                "error_y": {
                                                    "color": "#2a3f5f"
                                                },
                                                "marker": {
                                                    "line": {
                                                        "color": "#E5ECF6",
                                                        "width": 0.5
                                                    },
                                                    "pattern": {
                                                        "fillmode": "overlay",
                                                        "size": 10,
                                                        "solidity": 0.2
                                                    }
                                                },
                                                "type": "bar"
                                            }
                                        ],
                                        "barpolar": [
                                            {
                                                "marker": {
                                                    "line": {
                                                        "color": "#E5ECF6",
                                                        "width": 0.5
                                                    },
                                                    "pattern": {
                                                        "fillmode": "overlay",
                                                        "size": 10,
                                                        "solidity": 0.2
                                                    }
                                                },
                                                "type": "barpolar"
                                            }
                                        ],
                                        "carpet": [
                                            {
                                                "aaxis": {
                                                    "endlinecolor": "#2a3f5f",
                                                    "gridcolor": "white",
                                                    "linecolor": "white",
                                                    "minorgridcolor": "white",
                                                    "startlinecolor": "#2a3f5f"
                                                },
                                                "baxis": {
                                                    "endlinecolor": "#2a3f5f",
                                                    "gridcolor": "white",
                                                    "linecolor": "white",
                                                    "minorgridcolor": "white",
                                                    "startlinecolor": "#2a3f5f"
                                                },
                                                "type": "carpet"
                                            }
                                        ],
                                        "choropleth": [
                                            {
                                                "colorbar": {
                                                    "outlinewidth": 0,
                                                    "ticks": ""
                                                },
                                                "type": "choropleth"
                                            }
                                        ],
                                        "contour": [
                                            {
                                                "colorbar": {
                                                    "outlinewidth": 0,
                                                    "ticks": ""
                                                },
                                                "colorscale": [
                                                    [
                                                        0,
                                                        "#0d0887"
                                                    ],
                                                    [
                                                        0.1111111111111111,
                                                        "#46039f"
                                                    ],
                                                    [
                                                        0.2222222222222222,
                                                        "#7201a8"
                                                    ],
                                                    [
                                                        0.3333333333333333,
                                                        "#9c179e"
                                                    ],
                                                    [
                                                        0.4444444444444444,
                                                        "#bd3786"
                                                    ],
                                                    [
                                                        0.5555555555555556,
                                                        "#d8576b"
                                                    ],
                                                    [
                                                        0.6666666666666666,
                                                        "#ed7953"
                                                    ],
                                                    [
                                                        0.7777777777777778,
                                                        "#fb9f3a"
                                                    ],
                                                    [
                                                        0.8888888888888888,
                                                        "#fdca26"
                                                    ],
                                                    [
                                                        1,
                                                        "#f0f921"
                                                    ]
                                                ],
                                                "type": "contour"
                                            }
                                        ],
                                        "contourcarpet": [
                                            {
                                                "colorbar": {
                                                    "outlinewidth": 0,
                                                    "ticks": ""
                                                },
                                                "type": "contourcarpet"
                                            }
                                        ],
                                        "heatmap": [
                                            {
                                                "colorbar": {
                                                    "outlinewidth": 0,
                                                    "ticks": ""
                                                },
                                                "colorscale": [
                                                    [
                                                        0,
                                                        "#0d0887"
                                                    ],
                                                    [
                                                        0.1111111111111111,
                                                        "#46039f"
                                                    ],
                                                    [
                                                        0.2222222222222222,
                                                        "#7201a8"
                                                    ],
                                                    [
                                                        0.3333333333333333,
                                                        "#9c179e"
                                                    ],
                                                    [
                                                        0.4444444444444444,
                                                        "#bd3786"
                                                    ],
                                                    [
                                                        0.5555555555555556,
                                                        "#d8576b"
                                                    ],
                                                    [
                                                        0.6666666666666666,
                                                        "#ed7953"
                                                    ],
                                                    [
                                                        0.7777777777777778,
                                                        "#fb9f3a"
                                                    ],
                                                    [
                                                        0.8888888888888888,
                                                        "#fdca26"
                                                    ],
                                                    [
                                                        1,
                                                        "#f0f921"
                                                    ]
                                                ],
                                                "type": "heatmap"
                                            }
                                        ],
                                        "heatmapgl": [
                                            {
                                                "colorbar": {
                                                    "outlinewidth": 0,
                                                    "ticks": ""
                                                },
                                                "colorscale": [
                                                    [
                                                        0,
                                                        "#0d0887"
                                                    ],
                                                    [
                                                        0.1111111111111111,
                                                        "#46039f"
                                                    ],
                                                    [
                                                        0.2222222222222222,
                                                        "#7201a8"
                                                    ],
                                                    [
                                                        0.3333333333333333,
                                                        "#9c179e"
                                                    ],
                                                    [
                                                        0.4444444444444444,
                                                        "#bd3786"
                                                    ],
                                                    [
                                                        0.5555555555555556,
                                                        "#d8576b"
                                                    ],
                                                    [
                                                        0.6666666666666666,
                                                        "#ed7953"
                                                    ],
                                                    [
                                                        0.7777777777777778,
                                                        "#fb9f3a"
                                                    ],
                                                    [
                                                        0.8888888888888888,
                                                        "#fdca26"
                                                    ],
                                                    [
                                                        1,
                                                        "#f0f921"
                                                    ]
                                                ],
                                                "type": "heatmapgl"
                                            }
                                        ],
                                        "histogram": [
                                            {
                                                "marker": {
                                                    "pattern": {
                                                        "fillmode": "overlay",
                                                        "size": 10,
                                                        "solidity": 0.2
                                                    }
                                                },
                                                "type": "histogram"
                                            }
                                        ],
                                        "histogram2d": [
                                            {
                                                "colorbar": {
                                                    "outlinewidth": 0,
                                                    "ticks": ""
                                                },
                                                "colorscale": [
                                                    [
                                                        0,
                                                        "#0d0887"
                                                    ],
                                                    [
                                                        0.1111111111111111,
                                                        "#46039f"
                                                    ],
                                                    [
                                                        0.2222222222222222,
                                                        "#7201a8"
                                                    ],
                                                    [
                                                        0.3333333333333333,
                                                        "#9c179e"
                                                    ],
                                                    [
                                                        0.4444444444444444,
                                                        "#bd3786"
                                                    ],
                                                    [
                                                        0.5555555555555556,
                                                        "#d8576b"
                                                    ],
                                                    [
                                                        0.6666666666666666,
                                                        "#ed7953"
                                                    ],
                                                    [
                                                        0.7777777777777778,
                                                        "#fb9f3a"
                                                    ],
                                                    [
                                                        0.8888888888888888,
                                                        "#fdca26"
                                                    ],
                                                    [
                                                        1,
                                                        "#f0f921"
                                                    ]
                                                ],
                                                "type": "histogram2d"
                                            }
                                        ],
                                        "histogram2dcontour": [
                                            {
                                                "colorbar": {
                                                    "outlinewidth": 0,
                                                    "ticks": ""
                                                },
                                                "colorscale": [
                                                    [
                                                        0,
                                                        "#0d0887"
                                                    ],
                                                    [
                                                        0.1111111111111111,
                                                        "#46039f"
                                                    ],
                                                    [
                                                        0.2222222222222222,
                                                        "#7201a8"
                                                    ],
                                                    [
                                                        0.3333333333333333,
                                                        "#9c179e"
                                                    ],
                                                    [
                                                        0.4444444444444444,
                                                        "#bd3786"
                                                    ],
                                                    [
                                                        0.5555555555555556,
                                                        "#d8576b"
                                                    ],
                                                    [
                                                        0.6666666666666666,
                                                        "#ed7953"
                                                    ],
                                                    [
                                                        0.7777777777777778,
                                                        "#fb9f3a"
                                                    ],
                                                    [
                                                        0.8888888888888888,
                                                        "#fdca26"
                                                    ],
                                                    [
                                                        1,
                                                        "#f0f921"
                                                    ]
                                                ],
                                                "type": "histogram2dcontour"
                                            }
                                        ],
                                        "mesh3d": [
                                            {
                                                "colorbar": {
                                                    "outlinewidth": 0,
                                                    "ticks": ""
                                                },
                                                "type": "mesh3d"
                                            }
                                        ],
                                        "parcoords": [
                                            {
                                                "line": {
                                                    "colorbar": {
                                                        "outlinewidth": 0,
                                                        "ticks": ""
                                                    }
                                                },
                                                "type": "parcoords"
                                            }
                                        ],
                                        "pie": [
                                            {
                                                "automargin": true,
                                                "type": "pie"
                                            }
                                        ],
                                        "scatter": [
                                            {
                                                "fillpattern": {
                                                    "fillmode": "overlay",
                                                    "size": 10,
                                                    "solidity": 0.2
                                                },
                                                "type": "scatter"
                                            }
                                        ],
                                        "scatter3d": [
                                            {
                                                "line": {
                                                    "colorbar": {
                                                        "outlinewidth": 0,
                                                        "ticks": ""
                                                    }
                                                },
                                                "marker": {
                                                    "colorbar": {
                                                        "outlinewidth": 0,
                                                        "ticks": ""
                                                    }
                                                },
                                                "type": "scatter3d"
                                            }
                                        ],
                                        "scattercarpet": [
                                            {
                                                "marker": {
                                                    "colorbar": {
                                                        "outlinewidth": 0,
                                                        "ticks": ""
                                                    }
                                                },
                                                "type": "scattercarpet"
                                            }
                                        ],
                                        "scattergeo": [
                                            {
                                                "marker": {
                                                    "colorbar": {
                                                        "outlinewidth": 0,
                                                        "ticks": ""
                                                    }
                                                },
                                                "type": "scattergeo"
                                            }
                                        ],
                                        "scattergl": [
                                            {
                                                "marker": {
                                                    "colorbar": {
                                                        "outlinewidth": 0,
                                                        "ticks": ""
                                                    }
                                                },
                                                "type": "scattergl"
                                            }
                                        ],
                                        "scattermapbox": [
                                            {
                                                "marker": {
                                                    "colorbar": {
                                                        "outlinewidth": 0,
                                                        "ticks": ""
                                                    }
                                                },
                                                "type": "scattermapbox"
                                            }
                                        ],
                                        "scatterpolar": [
                                            {
                                                "marker": {
                                                    "colorbar": {
                                                        "outlinewidth": 0,
                                                        "ticks": ""
                                                    }
                                                },
                                                "type": "scatterpolar"
                                            }
                                        ],
                                        "scatterpolargl": [
                                            {
                                                "marker": {
                                                    "colorbar": {
                                                        "outlinewidth": 0,
                                                        "ticks": ""
                                                    }
                                                },
                                                "type": "scatterpolargl"
                                            }
                                        ],
                                        "scatterternary": [
                                            {
                                                "marker": {
                                                    "colorbar": {
                                                        "outlinewidth": 0,
                                                        "ticks": ""
                                                    }
                                                },
                                                "type": "scatterternary"
                                            }
                                        ],
                                        "surface": [
                                            {
                                                "colorbar": {
                                                    "outlinewidth": 0,
                                                    "ticks": ""
                                                },
                                                "colorscale": [
                                                    [
                                                        0,
                                                        "#0d0887"
                                                    ],
                                                    [
                                                        0.1111111111111111,
                                                        "#46039f"
                                                    ],
                                                    [
                                                        0.2222222222222222,
                                                        "#7201a8"
                                                    ],
                                                    [
                                                        0.3333333333333333,
                                                        "#9c179e"
                                                    ],
                                                    [
                                                        0.4444444444444444,
                                                        "#bd3786"
                                                    ],
                                                    [
                                                        0.5555555555555556,
                                                        "#d8576b"
                                                    ],
                                                    [
                                                        0.6666666666666666,
                                                        "#ed7953"
                                                    ],
                                                    [
                                                        0.7777777777777778,
                                                        "#fb9f3a"
                                                    ],
                                                    [
                                                        0.8888888888888888,
                                                        "#fdca26"
                                                    ],
                                                    [
                                                        1,
                                                        "#f0f921"
                                                    ]
                                                ],
                                                "type": "surface"
                                            }
                                        ],
                                        "table": [
                                            {
                                                "cells": {
                                                    "fill": {
                                                        "color": "#EBF0F8"
                                                    },
                                                    "line": {
                                                        "color": "white"
                                                    }
                                                },
                                                "header": {
                                                    "fill": {
                                                        "color": "#C8D4E3"
                                                    },
                                                    "line": {
                                                        "color": "white"
                                                    }
                                                },
                                                "type": "table"
                                            }
                                        ]
                                    },
                                    "layout": {
                                        "annotationdefaults": {
                                            "arrowcolor": "#2a3f5f",
                                            "arrowhead": 0,
                                            "arrowwidth": 1
                                        },
                                        "autotypenumbers": "strict",
                                        "coloraxis": {
                                            "colorbar": {
                                                "outlinewidth": 0,
                                                "ticks": ""
                                            }
                                        },
                                        "colorscale": {
                                            "diverging": [
                                                [
                                                    0,
                                                    "#8e0152"
                                                ],
                                                [
                                                    0.1,
                                                    "#c51b7d"
                                                ],
                                                [
                                                    0.2,
                                                    "#de77ae"
                                                ],
                                                [
                                                    0.3,
                                                    "#f1b6da"
                                                ],
                                                [
                                                    0.4,
                                                    "#fde0ef"
                                                ],
                                                [
                                                    0.5,
                                                    "#f7f7f7"
                                                ],
                                                [
                                                    0.6,
                                                    "#e6f5d0"
                                                ],
                                                [
                                                    0.7,
                                                    "#b8e186"
                                                ],
                                                [
                                                    0.8,
                                                    "#7fbc41"
                                                ],
                                                [
                                                    0.9,
                                                    "#4d9221"
                                                ],
                                                [
                                                    1,
                                                    "#276419"
                                                ]
                                            ],
                                            "sequential": [
                                                [
                                                    0,
                                                    "#0d0887"
                                                ],
                                                [
                                                    0.1111111111111111,
                                                    "#46039f"
                                                ],
                                                [
                                                    0.2222222222222222,
                                                    "#7201a8"
                                                ],
                                                [
                                                    0.3333333333333333,
                                                    "#9c179e"
                                                ],
                                                [
                                                    0.4444444444444444,
                                                    "#bd3786"
                                                ],
                                                [
                                                    0.5555555555555556,
                                                    "#d8576b"
                                                ],
                                                [
                                                    0.6666666666666666,
                                                    "#ed7953"
                                                ],
                                                [
                                                    0.7777777777777778,
                                                    "#fb9f3a"
                                                ],
                                                [
                                                    0.8888888888888888,
                                                    "#fdca26"
                                                ],
                                                [
                                                    1,
                                                    "#f0f921"
                                                ]
                                            ],
                                            "sequentialminus": [
                                                [
                                                    0,
                                                    "#0d0887"
                                                ],
                                                [
                                                    0.1111111111111111,
                                                    "#46039f"
                                                ],
                                                [
                                                    0.2222222222222222,
                                                    "#7201a8"
                                                ],
                                                [
                                                    0.3333333333333333,
                                                    "#9c179e"
                                                ],
                                                [
                                                    0.4444444444444444,
                                                    "#bd3786"
                                                ],
                                                [
                                                    0.5555555555555556,
                                                    "#d8576b"
                                                ],
                                                [
                                                    0.6666666666666666,
                                                    "#ed7953"
                                                ],
                                                [
                                                    0.7777777777777778,
                                                    "#fb9f3a"
                                                ],
                                                [
                                                    0.8888888888888888,
                                                    "#fdca26"
                                                ],
                                                [
                                                    1,
                                                    "#f0f921"
                                                ]
                                            ]
                                        },
                                        "colorway": [
                                            "#636efa",
                                            "#EF553B",
                                            "#00cc96",
                                            "#ab63fa",
                                            "#FFA15A",
                                            "#19d3f3",
                                            "#FF6692",
                                            "#B6E880",
                                            "#FF97FF",
                                            "#FECB52"
                                        ],
                                        "font": {
                                            "color": "#2a3f5f"
                                        },
                                        "geo": {
                                            "bgcolor": "white",
                                            "lakecolor": "white",
                                            "landcolor": "#E5ECF6",
                                            "showlakes": true,
                                            "showland": true,
                                            "subunitcolor": "white"
                                        },
                                        "hoverlabel": {
                                            "align": "left"
                                        },
                                        "hovermode": "closest",
                                        "mapbox": {
                                            "style": "light"
                                        },
                                        "paper_bgcolor": "white",
                                        "plot_bgcolor": "#E5ECF6",
                                        "polar": {
                                            "angularaxis": {
                                                "gridcolor": "white",
                                                "linecolor": "white",
                                                "ticks": ""
                                            },
                                            "bgcolor": "#E5ECF6",
                                            "radialaxis": {
                                                "gridcolor": "white",
                                                "linecolor": "white",
                                                "ticks": ""
                                            }
                                        },
                                        "scene": {
                                            "xaxis": {
                                                "backgroundcolor": "#E5ECF6",
                                                "gridcolor": "white",
                                                "gridwidth": 2,
                                                "linecolor": "white",
                                                "showbackground": true,
                                                "ticks": "",
                                                "zerolinecolor": "white"
                                            },
                                            "yaxis": {
                                                "backgroundcolor": "#E5ECF6",
                                                "gridcolor": "white",
                                                "gridwidth": 2,
                                                "linecolor": "white",
                                                "showbackground": true,
                                                "ticks": "",
                                                "zerolinecolor": "white"
                                            },
                                            "zaxis": {
                                                "backgroundcolor": "#E5ECF6",
                                                "gridcolor": "white",
                                                "gridwidth": 2,
                                                "linecolor": "white",
                                                "showbackground": true,
                                                "ticks": "",
                                                "zerolinecolor": "white"
                                            }
                                        },
                                        "shapedefaults": {
                                            "line": {
                                                "color": "#2a3f5f"
                                            }
                                        },
                                        "ternary": {
                                            "aaxis": {
                                                "gridcolor": "white",
                                                "linecolor": "white",
                                                "ticks": ""
                                            },
                                            "baxis": {
                                                "gridcolor": "white",
                                                "linecolor": "white",
                                                "ticks": ""
                                            },
                                            "bgcolor": "#E5ECF6",
                                            "caxis": {
                                                "gridcolor": "white",
                                                "linecolor": "white",
                                                "ticks": ""
                                            }
                                        },
                                        "title": {
                                            "x": 0.05
                                        },
                                        "xaxis": {
                                            "automargin": true,
                                            "gridcolor": "white",
                                            "linecolor": "white",
                                            "ticks": "",
                                            "title": {
                                                "standoff": 15
                                            },
                                            "zerolinecolor": "white",
                                            "zerolinewidth": 2
                                        },
                                        "yaxis": {
                                            "automargin": true,
                                            "gridcolor": "white",
                                            "linecolor": "white",
                                            "ticks": "",
                                            "title": {
                                                "standoff": 15
                                            },
                                            "zerolinecolor": "white",
                                            "zerolinewidth": 2
                                        }
                                    }
                                },
                                "title": {
                                    "text": "Basic Sankey Diagram"
                                }
                            }
                        }
                    },
                    "metadata": {},
                    "output_type": "display_data"
                }
            ],
            "source": [
                "import plotly.graph_objects as go\n",
                "\n",
                "fig = go.Figure(\n",
                "    data=[\n",
                "        go.Sankey(\n",
                "            node=dict(\n",
                "                pad=15,\n",
                "                thickness=20,\n",
                "                line=dict(color=\"black\", width=0.5),\n",
                "                label=[\"A1\", \"A2\", \"B1\", \"B2\", \"C1\", \"C2\"],\n",
                "                color=\"blue\",\n",
                "            ),\n",
                "            link=dict(\n",
                "                source=[\n",
                "                    0,\n",
                "                    1,\n",
                "                    0,\n",
                "                    2,\n",
                "                    3,\n",
                "                    3,\n",
                "                ],  # indices correspond to labels, eg A1, A2, A1, B1, ...\n",
                "                target=[2, 3, 3, 4, 4, 5],\n",
                "                value=[8, 4, 8, 8, 4, 2],\n",
                "            ),\n",
                "        )\n",
                "    ]\n",
                ")\n",
                "\n",
                "fig.update_layout(title_text=\"Basic Sankey Diagram\", font_size=10)\n",
                "fig.show()"
            ]
        },
        {
            "cell_type": "code",
            "execution_count": 24,
            "metadata": {},
            "outputs": [
                {
                    "ename": "AttributeError",
                    "evalue": "'bool' object has no attribute 'astype'",
                    "output_type": "error",
                    "traceback": [
                        "\u001b[0;31m---------------------------------------------------------------------------\u001b[0m",
                        "\u001b[0;31mAttributeError\u001b[0m                            Traceback (most recent call last)",
                        "Cell \u001b[0;32mIn[24], line 1\u001b[0m\n\u001b[0;32m----> 1\u001b[0m \u001b[43mvisualize_puzzle_input_202311\u001b[49m\u001b[43m(\u001b[49m\u001b[43mpuzzle_input\u001b[49m\u001b[43m)\u001b[49m\n",
                        "File \u001b[0;32m~/dev/advent-of-code/advent_of_code/visualization/observable_plot.py:19\u001b[0m, in \u001b[0;36mvisualize_puzzle_input_202311\u001b[0;34m(space_xda, dark_mode, with_rules, with_graph, coord_array, edge_density, with_chunk_graph)\u001b[0m\n\u001b[1;32m      9\u001b[0m \u001b[38;5;28;01mdef\u001b[39;00m \u001b[38;5;21mvisualize_puzzle_input_202311\u001b[39m(\n\u001b[1;32m     10\u001b[0m     space_xda: xr\u001b[38;5;241m.\u001b[39mDataArray,\n\u001b[1;32m     11\u001b[0m     \u001b[38;5;241m*\u001b[39m,\n\u001b[0;32m   (...)\u001b[0m\n\u001b[1;32m     17\u001b[0m     with_chunk_graph: \u001b[38;5;28mbool\u001b[39m \u001b[38;5;241m=\u001b[39m \u001b[38;5;28;01mFalse\u001b[39;00m,\n\u001b[1;32m     18\u001b[0m ):\n\u001b[0;32m---> 19\u001b[0m     grid \u001b[38;5;241m=\u001b[39m \u001b[43m(\u001b[49m\u001b[43mspace_xda\u001b[49m\u001b[43m \u001b[49m\u001b[38;5;241;43m==\u001b[39;49m\u001b[43m \u001b[49m\u001b[38;5;28;43mord\u001b[39;49m\u001b[43m(\u001b[49m\u001b[38;5;124;43m\"\u001b[39;49m\u001b[38;5;124;43m#\u001b[39;49m\u001b[38;5;124;43m\"\u001b[39;49m\u001b[43m)\u001b[49m\u001b[43m)\u001b[49m\u001b[38;5;241;43m.\u001b[39;49m\u001b[43mastype\u001b[49m(\u001b[38;5;28mint\u001b[39m) \u001b[38;5;241m*\u001b[39m \u001b[38;5;241m255\u001b[39m\n\u001b[1;32m     20\u001b[0m     marks \u001b[38;5;241m=\u001b[39m []\n\u001b[1;32m     21\u001b[0m     marks\u001b[38;5;241m.\u001b[39mappend(\n\u001b[1;32m     22\u001b[0m         Plot\u001b[38;5;241m.\u001b[39maxisX({\u001b[38;5;124m\"\u001b[39m\u001b[38;5;124manchor\u001b[39m\u001b[38;5;124m\"\u001b[39m: \u001b[38;5;124m\"\u001b[39m\u001b[38;5;124mtop\u001b[39m\u001b[38;5;124m\"\u001b[39m}),\n\u001b[1;32m     23\u001b[0m     )\n",
                        "\u001b[0;31mAttributeError\u001b[0m: 'bool' object has no attribute 'astype'"
                    ]
                }
            ],
            "source": [
                "visualize_puzzle_input_202311(puzzle_input)"
            ]
        },
        {
            "cell_type": "code",
            "execution_count": null,
            "metadata": {},
            "outputs": [],
            "source": [
                "visualize_puzzle_input_202311(puzzle_input, with_rules=True)"
            ]
        },
        {
            "cell_type": "markdown",
            "metadata": {},
            "source": [
                "Let's count how many nodes there are in this graph:"
            ]
        },
        {
            "cell_type": "code",
            "execution_count": null,
            "metadata": {},
            "outputs": [],
            "source": [
                "coord_array = create_coord_array(puzzle_input)\n",
                "node_count = coord_array[\"z\"].size\n",
                "node_count"
            ]
        },
        {
            "cell_type": "markdown",
            "metadata": {},
            "source": [
                "Now we can calculate the number of edges in the related [Complete graph](https://en.wikipedia.org/wiki/Complete_graph), where every pair of node is connected:"
            ]
        },
        {
            "cell_type": "code",
            "execution_count": null,
            "metadata": {},
            "outputs": [],
            "source": [
                "n = node_count\n",
                "edge_count = n * (n - 1) // 2  # 2 among n\n",
                "edge_count"
            ]
        },
        {
            "cell_type": "markdown",
            "metadata": {},
            "source": [
                "The amount is very high, hence in the visualisation, only a fraction is shown"
            ]
        },
        {
            "cell_type": "code",
            "execution_count": null,
            "metadata": {},
            "outputs": [],
            "source": [
                "visualize_puzzle_input_202311(\n",
                "    puzzle_input,\n",
                "    with_rules=True,\n",
                "    with_graph=True,\n",
                "    coord_array=coord_array,\n",
                "    edge_density=0.005,\n",
                ")"
            ]
        },
        {
            "cell_type": "code",
            "execution_count": null,
            "metadata": {},
            "outputs": [],
            "source": [
                "visualize_puzzle_input_202311(\n",
                "    puzzle_input,\n",
                "    with_rules=True,\n",
                "    with_graph=True,\n",
                "    coord_array=coord_array,\n",
                "    edge_density=0.03,\n",
                ")"
            ]
        },
        {
            "cell_type": "markdown",
            "metadata": {},
            "source": [
                "We can visually see that there are a lot of distances to compute. The plot is filled with edges. Here is an edge of density of 0.1, we can see that the plot is almost filled with the drawing color:"
            ]
        },
        {
            "cell_type": "code",
            "execution_count": null,
            "metadata": {},
            "outputs": [],
            "source": [
                "visualize_puzzle_input_202311(\n",
                "    puzzle_input,\n",
                "    with_rules=True,\n",
                "    with_graph=True,\n",
                "    coord_array=coord_array,\n",
                "    edge_density=0.1,\n",
                ")"
            ]
        },
        {
            "cell_type": "markdown",
            "metadata": {},
            "source": [
                "The key to expansion is to assign to every chunk a node (it creates a [Lattice graph](https://en.wikipedia.org/wiki/Lattice_graph)).\n",
                "Then the same logic can be applied on chunks instead of stars, and the distance\n",
                "becomes the sum of both adjacency matrix, with the chunk one multiplied by\n",
                "the expansion coefficient"
            ]
        },
        {
            "cell_type": "code",
            "execution_count": null,
            "metadata": {},
            "outputs": [],
            "source": [
                "visualize_puzzle_input_202311(\n",
                "    puzzle_input,\n",
                "    with_rules=True,\n",
                "    with_chunk_graph=True,\n",
                ")"
            ]
        }
    ],
    "metadata": {
        "kernelspec": {
            "display_name": "advent-of-code-CEbbwEIT-py3.10",
            "language": "python",
            "name": "python3"
        },
        "language_info": {
            "codemirror_mode": {
                "name": "ipython",
                "version": 3
            },
            "file_extension": ".py",
            "mimetype": "text/x-python",
            "name": "python",
            "nbconvert_exporter": "python",
            "pygments_lexer": "ipython3",
            "version": "3.12.1"
        }
    },
    "nbformat": 4,
    "nbformat_minor": 2
}
