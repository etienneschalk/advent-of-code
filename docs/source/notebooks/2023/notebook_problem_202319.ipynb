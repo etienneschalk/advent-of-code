{
    "cells": [
        {
            "cell_type": "markdown",
            "metadata": {},
            "source": [
                "# Year 2023 Day 19\n",
                "\n",
                "The goal of this notebook is multiple:\n",
                "\n",
                "1. Learn how to use use Sankey diagrams with `plotly`\n",
                "2. Visualize the problem's input\n",
                "3. Describe the problem solving procedure\n"
            ]
        },
        {
            "cell_type": "code",
            "execution_count": 21,
            "metadata": {},
            "outputs": [],
            "source": [
                "import plotly.graph_objects as go\n",
                "\n",
                "from advent_of_code.common.common import get_example_inputs_file_contents\n",
                "from advent_of_code.visualization.plotly import (\n",
                "    ValuedLink,\n",
                "    build_sankey_figure,\n",
                "    to_plotly_sankey_input,\n",
                ")\n",
                "from advent_of_code.y_2023.problem_202319 import (\n",
                "    AdventOfCodeProblem202319,\n",
                "    PartRatingRange,\n",
                "    PartRatingRangeTree,\n",
                "    construct_initial_part_range,\n",
                ")"
            ]
        },
        {
            "cell_type": "markdown",
            "metadata": {},
            "source": [
                "## Make a Sankey Diagram with Plotly\n",
                "\n",
                "First, let's start with the example provided in\n",
                "[Plotly: Sankey Diagram](https://plotly.com/python/sankey-diagram/).\n",
                "\n",
                "Then, the goal is to adapt the in-memory representation of the problem's data into something that Plotly can understand and plot.\n",
                "\n",
                "First, a builder can be made for those Plotly diagrams, then, an object converter to convert the in-memory representation of the problem's data into this intermediate data structure.\n",
                "\n",
                "One challenge will be to flatten the tree structure to a list of weighted edges (flat graph representation).\n",
                "\n",
                "The `source, target, value` expected by plotly indicates the need to flatten any tree structure.\n",
                "\n",
                "In the following, the word \"link\" means a graph's directional edge/vertex\n"
            ]
        },
        {
            "cell_type": "code",
            "execution_count": 22,
            "metadata": {},
            "outputs": [
                {
                    "data": {
                        "text/plain": [
                            "PlotlySankeyInput(labels=['a', 'b', 'c', 'z'], sources=[0, 1, 0, 3], targets=[1, 2, 2, 2], values=[2, 5, 4, 1], node_colors=['rgb(148, 51, 166)', 'rgb(147, 225, 178)', 'rgb(185, 187, 86)', 'rgb(172, 153, 16)'], link_colors=['rgba(148, 51, 166, 0.3)', 'rgba(147, 225, 178, 0.3)', 'rgba(185, 187, 86, 0.3)', 'rgba(172, 153, 16, 0.3)'])"
                        ]
                    },
                    "metadata": {},
                    "output_type": "display_data"
                },
                {
                    "data": {
                        "application/vnd.plotly.v1+json": {
                            "config": {
                                "plotlyServerURL": "https://plot.ly"
                            },
                            "data": [
                                {
                                    "link": {
                                        "color": [
                                            "rgba(148, 51, 166, 0.3)",
                                            "rgba(147, 225, 178, 0.3)",
                                            "rgba(185, 187, 86, 0.3)",
                                            "rgba(172, 153, 16, 0.3)"
                                        ],
                                        "source": [
                                            0,
                                            1,
                                            0,
                                            3
                                        ],
                                        "target": [
                                            1,
                                            2,
                                            2,
                                            2
                                        ],
                                        "value": [
                                            2,
                                            5,
                                            4,
                                            1
                                        ]
                                    },
                                    "node": {
                                        "color": [
                                            "rgb(148, 51, 166)",
                                            "rgb(147, 225, 178)",
                                            "rgb(185, 187, 86)",
                                            "rgb(172, 153, 16)"
                                        ],
                                        "label": [
                                            "a",
                                            "b",
                                            "c",
                                            "z"
                                        ],
                                        "line": {
                                            "color": "black",
                                            "width": 0.5
                                        },
                                        "pad": 15,
                                        "thickness": 20
                                    },
                                    "type": "sankey"
                                }
                            ],
                            "layout": {
                                "font": {
                                    "size": 10
                                },
                                "template": {
                                    "data": {
                                        "bar": [
                                            {
                                                "error_x": {
                                                    "color": "#2a3f5f"
                                                },
                                                "error_y": {
                                                    "color": "#2a3f5f"
                                                },
                                                "marker": {
                                                    "line": {
                                                        "color": "#E5ECF6",
                                                        "width": 0.5
                                                    },
                                                    "pattern": {
                                                        "fillmode": "overlay",
                                                        "size": 10,
                                                        "solidity": 0.2
                                                    }
                                                },
                                                "type": "bar"
                                            }
                                        ],
                                        "barpolar": [
                                            {
                                                "marker": {
                                                    "line": {
                                                        "color": "#E5ECF6",
                                                        "width": 0.5
                                                    },
                                                    "pattern": {
                                                        "fillmode": "overlay",
                                                        "size": 10,
                                                        "solidity": 0.2
                                                    }
                                                },
                                                "type": "barpolar"
                                            }
                                        ],
                                        "carpet": [
                                            {
                                                "aaxis": {
                                                    "endlinecolor": "#2a3f5f",
                                                    "gridcolor": "white",
                                                    "linecolor": "white",
                                                    "minorgridcolor": "white",
                                                    "startlinecolor": "#2a3f5f"
                                                },
                                                "baxis": {
                                                    "endlinecolor": "#2a3f5f",
                                                    "gridcolor": "white",
                                                    "linecolor": "white",
                                                    "minorgridcolor": "white",
                                                    "startlinecolor": "#2a3f5f"
                                                },
                                                "type": "carpet"
                                            }
                                        ],
                                        "choropleth": [
                                            {
                                                "colorbar": {
                                                    "outlinewidth": 0,
                                                    "ticks": ""
                                                },
                                                "type": "choropleth"
                                            }
                                        ],
                                        "contour": [
                                            {
                                                "colorbar": {
                                                    "outlinewidth": 0,
                                                    "ticks": ""
                                                },
                                                "colorscale": [
                                                    [
                                                        0,
                                                        "#0d0887"
                                                    ],
                                                    [
                                                        0.1111111111111111,
                                                        "#46039f"
                                                    ],
                                                    [
                                                        0.2222222222222222,
                                                        "#7201a8"
                                                    ],
                                                    [
                                                        0.3333333333333333,
                                                        "#9c179e"
                                                    ],
                                                    [
                                                        0.4444444444444444,
                                                        "#bd3786"
                                                    ],
                                                    [
                                                        0.5555555555555556,
                                                        "#d8576b"
                                                    ],
                                                    [
                                                        0.6666666666666666,
                                                        "#ed7953"
                                                    ],
                                                    [
                                                        0.7777777777777778,
                                                        "#fb9f3a"
                                                    ],
                                                    [
                                                        0.8888888888888888,
                                                        "#fdca26"
                                                    ],
                                                    [
                                                        1,
                                                        "#f0f921"
                                                    ]
                                                ],
                                                "type": "contour"
                                            }
                                        ],
                                        "contourcarpet": [
                                            {
                                                "colorbar": {
                                                    "outlinewidth": 0,
                                                    "ticks": ""
                                                },
                                                "type": "contourcarpet"
                                            }
                                        ],
                                        "heatmap": [
                                            {
                                                "colorbar": {
                                                    "outlinewidth": 0,
                                                    "ticks": ""
                                                },
                                                "colorscale": [
                                                    [
                                                        0,
                                                        "#0d0887"
                                                    ],
                                                    [
                                                        0.1111111111111111,
                                                        "#46039f"
                                                    ],
                                                    [
                                                        0.2222222222222222,
                                                        "#7201a8"
                                                    ],
                                                    [
                                                        0.3333333333333333,
                                                        "#9c179e"
                                                    ],
                                                    [
                                                        0.4444444444444444,
                                                        "#bd3786"
                                                    ],
                                                    [
                                                        0.5555555555555556,
                                                        "#d8576b"
                                                    ],
                                                    [
                                                        0.6666666666666666,
                                                        "#ed7953"
                                                    ],
                                                    [
                                                        0.7777777777777778,
                                                        "#fb9f3a"
                                                    ],
                                                    [
                                                        0.8888888888888888,
                                                        "#fdca26"
                                                    ],
                                                    [
                                                        1,
                                                        "#f0f921"
                                                    ]
                                                ],
                                                "type": "heatmap"
                                            }
                                        ],
                                        "heatmapgl": [
                                            {
                                                "colorbar": {
                                                    "outlinewidth": 0,
                                                    "ticks": ""
                                                },
                                                "colorscale": [
                                                    [
                                                        0,
                                                        "#0d0887"
                                                    ],
                                                    [
                                                        0.1111111111111111,
                                                        "#46039f"
                                                    ],
                                                    [
                                                        0.2222222222222222,
                                                        "#7201a8"
                                                    ],
                                                    [
                                                        0.3333333333333333,
                                                        "#9c179e"
                                                    ],
                                                    [
                                                        0.4444444444444444,
                                                        "#bd3786"
                                                    ],
                                                    [
                                                        0.5555555555555556,
                                                        "#d8576b"
                                                    ],
                                                    [
                                                        0.6666666666666666,
                                                        "#ed7953"
                                                    ],
                                                    [
                                                        0.7777777777777778,
                                                        "#fb9f3a"
                                                    ],
                                                    [
                                                        0.8888888888888888,
                                                        "#fdca26"
                                                    ],
                                                    [
                                                        1,
                                                        "#f0f921"
                                                    ]
                                                ],
                                                "type": "heatmapgl"
                                            }
                                        ],
                                        "histogram": [
                                            {
                                                "marker": {
                                                    "pattern": {
                                                        "fillmode": "overlay",
                                                        "size": 10,
                                                        "solidity": 0.2
                                                    }
                                                },
                                                "type": "histogram"
                                            }
                                        ],
                                        "histogram2d": [
                                            {
                                                "colorbar": {
                                                    "outlinewidth": 0,
                                                    "ticks": ""
                                                },
                                                "colorscale": [
                                                    [
                                                        0,
                                                        "#0d0887"
                                                    ],
                                                    [
                                                        0.1111111111111111,
                                                        "#46039f"
                                                    ],
                                                    [
                                                        0.2222222222222222,
                                                        "#7201a8"
                                                    ],
                                                    [
                                                        0.3333333333333333,
                                                        "#9c179e"
                                                    ],
                                                    [
                                                        0.4444444444444444,
                                                        "#bd3786"
                                                    ],
                                                    [
                                                        0.5555555555555556,
                                                        "#d8576b"
                                                    ],
                                                    [
                                                        0.6666666666666666,
                                                        "#ed7953"
                                                    ],
                                                    [
                                                        0.7777777777777778,
                                                        "#fb9f3a"
                                                    ],
                                                    [
                                                        0.8888888888888888,
                                                        "#fdca26"
                                                    ],
                                                    [
                                                        1,
                                                        "#f0f921"
                                                    ]
                                                ],
                                                "type": "histogram2d"
                                            }
                                        ],
                                        "histogram2dcontour": [
                                            {
                                                "colorbar": {
                                                    "outlinewidth": 0,
                                                    "ticks": ""
                                                },
                                                "colorscale": [
                                                    [
                                                        0,
                                                        "#0d0887"
                                                    ],
                                                    [
                                                        0.1111111111111111,
                                                        "#46039f"
                                                    ],
                                                    [
                                                        0.2222222222222222,
                                                        "#7201a8"
                                                    ],
                                                    [
                                                        0.3333333333333333,
                                                        "#9c179e"
                                                    ],
                                                    [
                                                        0.4444444444444444,
                                                        "#bd3786"
                                                    ],
                                                    [
                                                        0.5555555555555556,
                                                        "#d8576b"
                                                    ],
                                                    [
                                                        0.6666666666666666,
                                                        "#ed7953"
                                                    ],
                                                    [
                                                        0.7777777777777778,
                                                        "#fb9f3a"
                                                    ],
                                                    [
                                                        0.8888888888888888,
                                                        "#fdca26"
                                                    ],
                                                    [
                                                        1,
                                                        "#f0f921"
                                                    ]
                                                ],
                                                "type": "histogram2dcontour"
                                            }
                                        ],
                                        "mesh3d": [
                                            {
                                                "colorbar": {
                                                    "outlinewidth": 0,
                                                    "ticks": ""
                                                },
                                                "type": "mesh3d"
                                            }
                                        ],
                                        "parcoords": [
                                            {
                                                "line": {
                                                    "colorbar": {
                                                        "outlinewidth": 0,
                                                        "ticks": ""
                                                    }
                                                },
                                                "type": "parcoords"
                                            }
                                        ],
                                        "pie": [
                                            {
                                                "automargin": true,
                                                "type": "pie"
                                            }
                                        ],
                                        "scatter": [
                                            {
                                                "fillpattern": {
                                                    "fillmode": "overlay",
                                                    "size": 10,
                                                    "solidity": 0.2
                                                },
                                                "type": "scatter"
                                            }
                                        ],
                                        "scatter3d": [
                                            {
                                                "line": {
                                                    "colorbar": {
                                                        "outlinewidth": 0,
                                                        "ticks": ""
                                                    }
                                                },
                                                "marker": {
                                                    "colorbar": {
                                                        "outlinewidth": 0,
                                                        "ticks": ""
                                                    }
                                                },
                                                "type": "scatter3d"
                                            }
                                        ],
                                        "scattercarpet": [
                                            {
                                                "marker": {
                                                    "colorbar": {
                                                        "outlinewidth": 0,
                                                        "ticks": ""
                                                    }
                                                },
                                                "type": "scattercarpet"
                                            }
                                        ],
                                        "scattergeo": [
                                            {
                                                "marker": {
                                                    "colorbar": {
                                                        "outlinewidth": 0,
                                                        "ticks": ""
                                                    }
                                                },
                                                "type": "scattergeo"
                                            }
                                        ],
                                        "scattergl": [
                                            {
                                                "marker": {
                                                    "colorbar": {
                                                        "outlinewidth": 0,
                                                        "ticks": ""
                                                    }
                                                },
                                                "type": "scattergl"
                                            }
                                        ],
                                        "scattermapbox": [
                                            {
                                                "marker": {
                                                    "colorbar": {
                                                        "outlinewidth": 0,
                                                        "ticks": ""
                                                    }
                                                },
                                                "type": "scattermapbox"
                                            }
                                        ],
                                        "scatterpolar": [
                                            {
                                                "marker": {
                                                    "colorbar": {
                                                        "outlinewidth": 0,
                                                        "ticks": ""
                                                    }
                                                },
                                                "type": "scatterpolar"
                                            }
                                        ],
                                        "scatterpolargl": [
                                            {
                                                "marker": {
                                                    "colorbar": {
                                                        "outlinewidth": 0,
                                                        "ticks": ""
                                                    }
                                                },
                                                "type": "scatterpolargl"
                                            }
                                        ],
                                        "scatterternary": [
                                            {
                                                "marker": {
                                                    "colorbar": {
                                                        "outlinewidth": 0,
                                                        "ticks": ""
                                                    }
                                                },
                                                "type": "scatterternary"
                                            }
                                        ],
                                        "surface": [
                                            {
                                                "colorbar": {
                                                    "outlinewidth": 0,
                                                    "ticks": ""
                                                },
                                                "colorscale": [
                                                    [
                                                        0,
                                                        "#0d0887"
                                                    ],
                                                    [
                                                        0.1111111111111111,
                                                        "#46039f"
                                                    ],
                                                    [
                                                        0.2222222222222222,
                                                        "#7201a8"
                                                    ],
                                                    [
                                                        0.3333333333333333,
                                                        "#9c179e"
                                                    ],
                                                    [
                                                        0.4444444444444444,
                                                        "#bd3786"
                                                    ],
                                                    [
                                                        0.5555555555555556,
                                                        "#d8576b"
                                                    ],
                                                    [
                                                        0.6666666666666666,
                                                        "#ed7953"
                                                    ],
                                                    [
                                                        0.7777777777777778,
                                                        "#fb9f3a"
                                                    ],
                                                    [
                                                        0.8888888888888888,
                                                        "#fdca26"
                                                    ],
                                                    [
                                                        1,
                                                        "#f0f921"
                                                    ]
                                                ],
                                                "type": "surface"
                                            }
                                        ],
                                        "table": [
                                            {
                                                "cells": {
                                                    "fill": {
                                                        "color": "#EBF0F8"
                                                    },
                                                    "line": {
                                                        "color": "white"
                                                    }
                                                },
                                                "header": {
                                                    "fill": {
                                                        "color": "#C8D4E3"
                                                    },
                                                    "line": {
                                                        "color": "white"
                                                    }
                                                },
                                                "type": "table"
                                            }
                                        ]
                                    },
                                    "layout": {
                                        "annotationdefaults": {
                                            "arrowcolor": "#2a3f5f",
                                            "arrowhead": 0,
                                            "arrowwidth": 1
                                        },
                                        "autotypenumbers": "strict",
                                        "coloraxis": {
                                            "colorbar": {
                                                "outlinewidth": 0,
                                                "ticks": ""
                                            }
                                        },
                                        "colorscale": {
                                            "diverging": [
                                                [
                                                    0,
                                                    "#8e0152"
                                                ],
                                                [
                                                    0.1,
                                                    "#c51b7d"
                                                ],
                                                [
                                                    0.2,
                                                    "#de77ae"
                                                ],
                                                [
                                                    0.3,
                                                    "#f1b6da"
                                                ],
                                                [
                                                    0.4,
                                                    "#fde0ef"
                                                ],
                                                [
                                                    0.5,
                                                    "#f7f7f7"
                                                ],
                                                [
                                                    0.6,
                                                    "#e6f5d0"
                                                ],
                                                [
                                                    0.7,
                                                    "#b8e186"
                                                ],
                                                [
                                                    0.8,
                                                    "#7fbc41"
                                                ],
                                                [
                                                    0.9,
                                                    "#4d9221"
                                                ],
                                                [
                                                    1,
                                                    "#276419"
                                                ]
                                            ],
                                            "sequential": [
                                                [
                                                    0,
                                                    "#0d0887"
                                                ],
                                                [
                                                    0.1111111111111111,
                                                    "#46039f"
                                                ],
                                                [
                                                    0.2222222222222222,
                                                    "#7201a8"
                                                ],
                                                [
                                                    0.3333333333333333,
                                                    "#9c179e"
                                                ],
                                                [
                                                    0.4444444444444444,
                                                    "#bd3786"
                                                ],
                                                [
                                                    0.5555555555555556,
                                                    "#d8576b"
                                                ],
                                                [
                                                    0.6666666666666666,
                                                    "#ed7953"
                                                ],
                                                [
                                                    0.7777777777777778,
                                                    "#fb9f3a"
                                                ],
                                                [
                                                    0.8888888888888888,
                                                    "#fdca26"
                                                ],
                                                [
                                                    1,
                                                    "#f0f921"
                                                ]
                                            ],
                                            "sequentialminus": [
                                                [
                                                    0,
                                                    "#0d0887"
                                                ],
                                                [
                                                    0.1111111111111111,
                                                    "#46039f"
                                                ],
                                                [
                                                    0.2222222222222222,
                                                    "#7201a8"
                                                ],
                                                [
                                                    0.3333333333333333,
                                                    "#9c179e"
                                                ],
                                                [
                                                    0.4444444444444444,
                                                    "#bd3786"
                                                ],
                                                [
                                                    0.5555555555555556,
                                                    "#d8576b"
                                                ],
                                                [
                                                    0.6666666666666666,
                                                    "#ed7953"
                                                ],
                                                [
                                                    0.7777777777777778,
                                                    "#fb9f3a"
                                                ],
                                                [
                                                    0.8888888888888888,
                                                    "#fdca26"
                                                ],
                                                [
                                                    1,
                                                    "#f0f921"
                                                ]
                                            ]
                                        },
                                        "colorway": [
                                            "#636efa",
                                            "#EF553B",
                                            "#00cc96",
                                            "#ab63fa",
                                            "#FFA15A",
                                            "#19d3f3",
                                            "#FF6692",
                                            "#B6E880",
                                            "#FF97FF",
                                            "#FECB52"
                                        ],
                                        "font": {
                                            "color": "#2a3f5f"
                                        },
                                        "geo": {
                                            "bgcolor": "white",
                                            "lakecolor": "white",
                                            "landcolor": "#E5ECF6",
                                            "showlakes": true,
                                            "showland": true,
                                            "subunitcolor": "white"
                                        },
                                        "hoverlabel": {
                                            "align": "left"
                                        },
                                        "hovermode": "closest",
                                        "mapbox": {
                                            "style": "light"
                                        },
                                        "paper_bgcolor": "white",
                                        "plot_bgcolor": "#E5ECF6",
                                        "polar": {
                                            "angularaxis": {
                                                "gridcolor": "white",
                                                "linecolor": "white",
                                                "ticks": ""
                                            },
                                            "bgcolor": "#E5ECF6",
                                            "radialaxis": {
                                                "gridcolor": "white",
                                                "linecolor": "white",
                                                "ticks": ""
                                            }
                                        },
                                        "scene": {
                                            "xaxis": {
                                                "backgroundcolor": "#E5ECF6",
                                                "gridcolor": "white",
                                                "gridwidth": 2,
                                                "linecolor": "white",
                                                "showbackground": true,
                                                "ticks": "",
                                                "zerolinecolor": "white"
                                            },
                                            "yaxis": {
                                                "backgroundcolor": "#E5ECF6",
                                                "gridcolor": "white",
                                                "gridwidth": 2,
                                                "linecolor": "white",
                                                "showbackground": true,
                                                "ticks": "",
                                                "zerolinecolor": "white"
                                            },
                                            "zaxis": {
                                                "backgroundcolor": "#E5ECF6",
                                                "gridcolor": "white",
                                                "gridwidth": 2,
                                                "linecolor": "white",
                                                "showbackground": true,
                                                "ticks": "",
                                                "zerolinecolor": "white"
                                            }
                                        },
                                        "shapedefaults": {
                                            "line": {
                                                "color": "#2a3f5f"
                                            }
                                        },
                                        "ternary": {
                                            "aaxis": {
                                                "gridcolor": "white",
                                                "linecolor": "white",
                                                "ticks": ""
                                            },
                                            "baxis": {
                                                "gridcolor": "white",
                                                "linecolor": "white",
                                                "ticks": ""
                                            },
                                            "bgcolor": "#E5ECF6",
                                            "caxis": {
                                                "gridcolor": "white",
                                                "linecolor": "white",
                                                "ticks": ""
                                            }
                                        },
                                        "title": {
                                            "x": 0.05
                                        },
                                        "xaxis": {
                                            "automargin": true,
                                            "gridcolor": "white",
                                            "linecolor": "white",
                                            "ticks": "",
                                            "title": {
                                                "standoff": 15
                                            },
                                            "zerolinecolor": "white",
                                            "zerolinewidth": 2
                                        },
                                        "yaxis": {
                                            "automargin": true,
                                            "gridcolor": "white",
                                            "linecolor": "white",
                                            "ticks": "",
                                            "title": {
                                                "standoff": 15
                                            },
                                            "zerolinecolor": "white",
                                            "zerolinewidth": 2
                                        }
                                    }
                                },
                                "title": {
                                    "text": "Basic Sankey Diagram"
                                }
                            }
                        }
                    },
                    "metadata": {},
                    "output_type": "display_data"
                }
            ],
            "source": [
                "valued_links = [\n",
                "    ValuedLink(\"a\", \"b\", 2),\n",
                "    ValuedLink(\"b\", \"c\", 5),\n",
                "    ValuedLink(\"a\", \"c\", 4),\n",
                "    ValuedLink(\"z\", \"c\", 1),\n",
                "]\n",
                "\n",
                "sankey_input = to_plotly_sankey_input(valued_links)\n",
                "display(sankey_input)\n",
                "build_sankey_figure(sankey_input)"
            ]
        },
        {
            "cell_type": "code",
            "execution_count": 23,
            "metadata": {},
            "outputs": [
                {
                    "data": {
                        "text/plain": [
                            "AdventOfCodeProblem202319(year=2023, day=19)"
                        ]
                    },
                    "execution_count": 23,
                    "metadata": {},
                    "output_type": "execute_result"
                }
            ],
            "source": [
                "problem = AdventOfCodeProblem202319()\n",
                "problem"
            ]
        },
        {
            "cell_type": "code",
            "execution_count": 24,
            "metadata": {},
            "outputs": [],
            "source": [
                "example_input = get_example_inputs_file_contents(2023)[\"test_problem_202319\"][\n",
                "    \"EXAMPLE_INPUT\"\n",
                "]"
            ]
        },
        {
            "cell_type": "code",
            "execution_count": 25,
            "metadata": {},
            "outputs": [
                {
                    "data": {
                        "text/plain": [
                            "{'px': Workflow(name='px', rules=(Rule(category='a', operator='<', rating=2006, destination_workflow='qkq'), Rule(category='m', operator='>', rating=2090, destination_workflow='A')), destination_workflow_else='rfg'),\n",
                            " 'pv': Workflow(name='pv', rules=(Rule(category='a', operator='>', rating=1716, destination_workflow='R'),), destination_workflow_else='A'),\n",
                            " 'lnx': Workflow(name='lnx', rules=(Rule(category='m', operator='>', rating=1548, destination_workflow='A'),), destination_workflow_else='A'),\n",
                            " 'rfg': Workflow(name='rfg', rules=(Rule(category='s', operator='<', rating=537, destination_workflow='gd'), Rule(category='x', operator='>', rating=2440, destination_workflow='R')), destination_workflow_else='A'),\n",
                            " 'qs': Workflow(name='qs', rules=(Rule(category='s', operator='>', rating=3448, destination_workflow='A'),), destination_workflow_else='lnx'),\n",
                            " 'qkq': Workflow(name='qkq', rules=(Rule(category='x', operator='<', rating=1416, destination_workflow='A'),), destination_workflow_else='crn'),\n",
                            " 'crn': Workflow(name='crn', rules=(Rule(category='x', operator='>', rating=2662, destination_workflow='A'),), destination_workflow_else='R'),\n",
                            " 'in': Workflow(name='in', rules=(Rule(category='s', operator='<', rating=1351, destination_workflow='px'),), destination_workflow_else='qqz'),\n",
                            " 'qqz': Workflow(name='qqz', rules=(Rule(category='s', operator='>', rating=2770, destination_workflow='qs'), Rule(category='m', operator='<', rating=1801, destination_workflow='hdj')), destination_workflow_else='R'),\n",
                            " 'gd': Workflow(name='gd', rules=(Rule(category='a', operator='>', rating=3333, destination_workflow='R'),), destination_workflow_else='R'),\n",
                            " 'hdj': Workflow(name='hdj', rules=(Rule(category='m', operator='>', rating=838, destination_workflow='A'),), destination_workflow_else='pv')}"
                        ]
                    },
                    "execution_count": 25,
                    "metadata": {},
                    "output_type": "execute_result"
                }
            ],
            "source": [
                "puzzle_input = problem.parse_text_input(example_input)\n",
                "puzzle_input.workflows"
            ]
        },
        {
            "cell_type": "code",
            "execution_count": 26,
            "metadata": {},
            "outputs": [
                {
                    "data": {
                        "text/plain": [
                            "PartRatingRange(x=range(1, 4001), m=range(1, 4001), a=range(1, 4001), s=range(1, 4001))"
                        ]
                    },
                    "execution_count": 26,
                    "metadata": {},
                    "output_type": "execute_result"
                }
            ],
            "source": [
                "initial_part_rating_range = construct_initial_part_range()\n",
                "initial_part_rating_range"
            ]
        },
        {
            "cell_type": "code",
            "execution_count": 27,
            "metadata": {},
            "outputs": [
                {
                    "data": {
                        "text/plain": [
                            "PartRatingRangeTree(mapping=defaultdict(<class 'list'>, {'px': [PartRatingRange(x=range(1, 4001), m=range(1, 4001), a=range(1, 4001), s=range(1, 1351))], 'qqz': [PartRatingRange(x=range(1, 4001), m=range(1, 4001), a=range(1, 4001), s=range(1351, 4001))]}), children={'px': [PartRatingRangeTree(mapping=defaultdict(<class 'list'>, {'qkq': [PartRatingRange(x=range(1, 4001), m=range(1, 4001), a=range(1, 2006), s=range(1, 1351))], 'A': [PartRatingRange(x=range(1, 4001), m=range(2091, 4001), a=range(2006, 4001), s=range(1, 1351))], 'rfg': [PartRatingRange(x=range(1, 4001), m=range(1, 2091), a=range(2006, 4001), s=range(1, 1351))]}), children={'qkq': [PartRatingRangeTree(mapping=defaultdict(<class 'list'>, {'A': [PartRatingRange(x=range(1, 1416), m=range(1, 4001), a=range(1, 2006), s=range(1, 1351))], 'crn': [PartRatingRange(x=range(1416, 4001), m=range(1, 4001), a=range(1, 2006), s=range(1, 1351))]}), children={'A': [], 'crn': [PartRatingRangeTree(mapping=defaultdict(<class 'list'>, {'A': [PartRatingRange(x=range(2663, 4001), m=range(1, 4001), a=range(1, 2006), s=range(1, 1351))], 'R': [PartRatingRange(x=range(1416, 2663), m=range(1, 4001), a=range(1, 2006), s=range(1, 1351))]}), children={'A': [], 'R': []})]})], 'A': [], 'rfg': [PartRatingRangeTree(mapping=defaultdict(<class 'list'>, {'gd': [PartRatingRange(x=range(1, 4001), m=range(1, 2091), a=range(2006, 4001), s=range(1, 537))], 'R': [PartRatingRange(x=range(2441, 4001), m=range(1, 2091), a=range(2006, 4001), s=range(537, 1351))], 'A': [PartRatingRange(x=range(1, 2441), m=range(1, 2091), a=range(2006, 4001), s=range(537, 1351))]}), children={'gd': [PartRatingRangeTree(mapping=defaultdict(<class 'list'>, {'R': [PartRatingRange(x=range(1, 4001), m=range(1, 2091), a=range(3334, 4001), s=range(1, 537)), PartRatingRange(x=range(1, 4001), m=range(1, 2091), a=range(2006, 3334), s=range(1, 537))]}), children={'R': []})], 'R': [], 'A': []})]})], 'qqz': [PartRatingRangeTree(mapping=defaultdict(<class 'list'>, {'qs': [PartRatingRange(x=range(1, 4001), m=range(1, 4001), a=range(1, 4001), s=range(2771, 4001))], 'hdj': [PartRatingRange(x=range(1, 4001), m=range(1, 1801), a=range(1, 4001), s=range(1351, 2771))], 'R': [PartRatingRange(x=range(1, 4001), m=range(1801, 4001), a=range(1, 4001), s=range(1351, 2771))]}), children={'qs': [PartRatingRangeTree(mapping=defaultdict(<class 'list'>, {'A': [PartRatingRange(x=range(1, 4001), m=range(1, 4001), a=range(1, 4001), s=range(3449, 4001))], 'lnx': [PartRatingRange(x=range(1, 4001), m=range(1, 4001), a=range(1, 4001), s=range(2771, 3449))]}), children={'A': [], 'lnx': [PartRatingRangeTree(mapping=defaultdict(<class 'list'>, {'A': [PartRatingRange(x=range(1, 4001), m=range(1549, 4001), a=range(1, 4001), s=range(2771, 3449)), PartRatingRange(x=range(1, 4001), m=range(1, 1549), a=range(1, 4001), s=range(2771, 3449))]}), children={'A': []})]})], 'hdj': [PartRatingRangeTree(mapping=defaultdict(<class 'list'>, {'A': [PartRatingRange(x=range(1, 4001), m=range(839, 1801), a=range(1, 4001), s=range(1351, 2771))], 'pv': [PartRatingRange(x=range(1, 4001), m=range(1, 839), a=range(1, 4001), s=range(1351, 2771))]}), children={'A': [], 'pv': [PartRatingRangeTree(mapping=defaultdict(<class 'list'>, {'R': [PartRatingRange(x=range(1, 4001), m=range(1, 839), a=range(1717, 4001), s=range(1351, 2771))], 'A': [PartRatingRange(x=range(1, 4001), m=range(1, 839), a=range(1, 1717), s=range(1351, 2771))]}), children={'R': [], 'A': []})]})], 'R': []})]})"
                        ]
                    },
                    "execution_count": 27,
                    "metadata": {},
                    "output_type": "execute_result"
                }
            ],
            "source": [
                "range_tree = puzzle_input.apply_to_range(initial_part_rating_range)\n",
                "range_tree"
            ]
        },
        {
            "cell_type": "code",
            "execution_count": 28,
            "metadata": {},
            "outputs": [
                {
                    "name": "stdout",
                    "output_type": "stream",
                    "text": [
                        "px [PartRatingRange(x=range(1, 4001), m=range(1, 4001), a=range(1, 4001), s=range(1, 1351))]\n",
                        "qqz [PartRatingRange(x=range(1, 4001), m=range(1, 4001), a=range(1, 4001), s=range(1351, 4001))]\n"
                    ]
                }
            ],
            "source": [
                "for label, rating_range_list in range_tree.mapping.items():\n",
                "    print(label, rating_range_list)"
            ]
        },
        {
            "cell_type": "code",
            "execution_count": 29,
            "metadata": {},
            "outputs": [],
            "source": [
                "from dataclasses import asdict\n",
                "import json\n",
                "from pathlib import Path\n",
                "\n",
                "json_txt = json.dumps(asdict(range_tree), indent=4, default=str)\n",
                "json_dict = json.loads(json_txt)\n",
                "# Path(\"202319.out.json\").write_text(json_repr)"
            ]
        },
        {
            "cell_type": "markdown",
            "metadata": {},
            "source": [
                "Issue: how to find a good way to get a scalar from the \"PartTreeRange\" objects?\n",
                "The cubes are 4D, composed of 4 components x, m, a, s.\n",
                "\n",
                "Example: The flow coming from `rfg` must be split in three, to `gd`, `R` and `A`, with a metric that correctly reflect the proportion of parts flowing.\n"
            ]
        },
        {
            "cell_type": "code",
            "execution_count": 30,
            "metadata": {},
            "outputs": [
                {
                    "ename": "NameError",
                    "evalue": "name 'pretty_print_dict_with_json' is not defined",
                    "output_type": "error",
                    "traceback": [
                        "\u001b[0;31m---------------------------------------------------------------------------\u001b[0m",
                        "\u001b[0;31mNameError\u001b[0m                                 Traceback (most recent call last)",
                        "Cell \u001b[0;32mIn[30], line 1\u001b[0m\n\u001b[0;32m----> 1\u001b[0m \u001b[43mpretty_print_dict_with_json\u001b[49m(\n\u001b[1;32m      2\u001b[0m     json_dict[\u001b[38;5;124m\"\u001b[39m\u001b[38;5;124mchildren\u001b[39m\u001b[38;5;124m\"\u001b[39m][\u001b[38;5;124m\"\u001b[39m\u001b[38;5;124mpx\u001b[39m\u001b[38;5;124m\"\u001b[39m][\u001b[38;5;241m0\u001b[39m][\u001b[38;5;124m\"\u001b[39m\u001b[38;5;124mchildren\u001b[39m\u001b[38;5;124m\"\u001b[39m][\u001b[38;5;124m\"\u001b[39m\u001b[38;5;124mrfg\u001b[39m\u001b[38;5;124m\"\u001b[39m][\u001b[38;5;241m0\u001b[39m][\u001b[38;5;124m\"\u001b[39m\u001b[38;5;124mmapping\u001b[39m\u001b[38;5;124m\"\u001b[39m]\n\u001b[1;32m      3\u001b[0m )\n",
                        "\u001b[0;31mNameError\u001b[0m: name 'pretty_print_dict_with_json' is not defined"
                    ]
                }
            ],
            "source": [
                "pretty_print_dict_with_json(\n",
                "    json_dict[\"children\"][\"px\"][0][\"children\"][\"rfg\"][0][\"mapping\"]\n",
                ")"
            ]
        },
        {
            "cell_type": "markdown",
            "metadata": {},
            "source": [
                "A first approach is just to compute the volume of the contiguous cubic sub-space delimitated of the $4000^4$ space formed by the dimensions (x, m, a, s).\n",
                "Luckily, `plotly` will automatically normalize all the weights associated to edges going into the same node, concretely, incoming flows of `(6, 4, 10)` will visually respectively contribute to 30%, 20%, 50%.\n"
            ]
        },
        {
            "cell_type": "code",
            "execution_count": null,
            "metadata": {},
            "outputs": [],
            "source": [
                "{\n",
                "    child: rating_ranges[0].volume()\n",
                "    for child, rating_ranges in range_tree.children[\"px\"][0]\n",
                "    .children[\"rfg\"][0]\n",
                "    .mapping.items()\n",
                "}"
            ]
        },
        {
            "cell_type": "markdown",
            "metadata": {},
            "source": [
                "But what to do in case of split flows, when a workflow has multiple subspaces (list of `PartRatingRange` has more than one element)?\n",
                "\n",
                "Example:\n"
            ]
        },
        {
            "cell_type": "code",
            "execution_count": null,
            "metadata": {},
            "outputs": [],
            "source": [
                "pretty_print_dict_with_json(\n",
                "    json_dict[\"children\"][\"px\"][0][\"children\"][\"rfg\"][0][\"children\"][\"gd\"][0]\n",
                ")"
            ]
        },
        {
            "cell_type": "markdown",
            "metadata": {},
            "source": [
                "In that case, just add the individual contribution. The subspace associated to the workflow is just non contiguous, composed of several cubes.\n"
            ]
        },
        {
            "cell_type": "code",
            "execution_count": null,
            "metadata": {},
            "outputs": [],
            "source": [
                "def compute_flow_values(\n",
                "    mapping: dict[str, list[PartRatingRange]],\n",
                ") -> dict[str, tuple[int, ...]]:\n",
                "    return {\n",
                "        child: tuple(rating_range.volume() for rating_range in rating_ranges)\n",
                "        for child, rating_ranges in mapping.items()\n",
                "    }"
            ]
        },
        {
            "cell_type": "code",
            "execution_count": null,
            "metadata": {},
            "outputs": [],
            "source": [
                "compute_flow_values(range_tree.children[\"px\"][0].children[\"rfg\"][0].mapping)"
            ]
        },
        {
            "cell_type": "code",
            "execution_count": null,
            "metadata": {},
            "outputs": [],
            "source": [
                "compute_flow_values(\n",
                "    range_tree.children[\"px\"][0].children[\"rfg\"][0].children[\"gd\"][0].mapping\n",
                ")"
            ]
        },
        {
            "cell_type": "markdown",
            "metadata": {},
            "source": [
                "Now, that the structure can be converted to a tree with integer leaves (the volumes), the Sankey Diagram can be dealt, by iterating depth-first into the `PartRatingRangeTree` structure, and filling a list of `ValuedLink`.\n"
            ]
        },
        {
            "cell_type": "code",
            "execution_count": null,
            "metadata": {},
            "outputs": [],
            "source": [
                "def to_valued_links(\n",
                "    tree: PartRatingRangeTree,\n",
                "    source: str,\n",
                "    valued_links: list[ValuedLink],\n",
                "    *,\n",
                "    sum_flows: bool = False,\n",
                ") -> None:\n",
                "    flow_values = compute_flow_values(tree.mapping)\n",
                "    if sum_flows:\n",
                "        flow_total_values = {k: sum(v) for k, v in flow_values.items()}\n",
                "        for target, value in flow_total_values.items():\n",
                "            valued_links.append(ValuedLink(source, target, value))\n",
                "    else:\n",
                "        # More details as multiple flows from same source and target are showed explicitly\n",
                "        # instead of merged. For the example data, this shows for the two links from lnx to A.\n",
                "        for target, values in flow_values.items():\n",
                "            for value in values:\n",
                "                valued_links.append(ValuedLink(source, target, value))\n",
                "\n",
                "    children = tree.children\n",
                "\n",
                "    if children is not None:\n",
                "        for child_label, child_trees in children.items():\n",
                "            for child_tree in child_trees:\n",
                "                to_valued_links(child_tree, child_label, valued_links)"
            ]
        },
        {
            "cell_type": "code",
            "execution_count": null,
            "metadata": {},
            "outputs": [],
            "source": [
                "valued_links = []\n",
                "to_valued_links(range_tree, \"in\", valued_links)\n",
                "valued_links"
            ]
        },
        {
            "cell_type": "markdown",
            "metadata": {},
            "source": [
                "Now that we have got a list of `ValuedLink`, the same conversion function used earlier can be used to feed it into Plotly!\n"
            ]
        },
        {
            "cell_type": "code",
            "execution_count": null,
            "metadata": {},
            "outputs": [],
            "source": [
                "sankey_input = to_plotly_sankey_input(valued_links, color_mode=\"problem_202319\")\n",
                "display(sankey_input)\n",
                "build_sankey_figure(sankey_input)"
            ]
        },
        {
            "cell_type": "markdown",
            "metadata": {},
            "source": [
                "The result looks similar to this post on Reddit: [\\[2023 Day 19 (part 2)\\] Sankey diagrams are cool](https://www.reddit.com/r/adventofcode/comments/18lyvuv/2023_day_19_part_2_sankey_diagrams_are_cool/)\n"
            ]
        },
        {
            "cell_type": "markdown",
            "metadata": {},
            "source": [
                "## Open Points\n"
            ]
        },
        {
            "cell_type": "markdown",
            "metadata": {},
            "source": [
                "In all cases, the projection from a 4D subspace associated to a workflow, composed of one or more small cubes, leads to a loss of \"complexity\" in the visual representation. Only a 1D metric is used to represent the workflow contributions.\n",
                "\n",
                "Representing the subspaces would be another challenge in its own. At first, making a version of the code that only sort pieces according to 2 dimensions would help to visualize. For that, some dimensions can be fixed (slicing the 4D cube into 2D). It would be interesting to build such a datacube with `xarray` ; it would have 4 dimensions: `dims = ('x', 'm', 'a', 's')` and a shape of `(4000, 4000, 4000, 4000)`. Slicing it would be easy, eg `xda.isel(a=0, s=0)`.\n",
                "Since the array would be large, only portions of it could be computed. How to parallelize the algorithm, allowing it to be executed only on a sub-space, eg `(:200, :200, :200, :200)`? Is it possible?\n"
            ]
        }
    ],
    "metadata": {
        "kernelspec": {
            "display_name": "advent-of-code-CEbbwEIT-py3.10",
            "language": "python",
            "name": "python3"
        },
        "language_info": {
            "codemirror_mode": {
                "name": "ipython",
                "version": 3
            },
            "file_extension": ".py",
            "mimetype": "text/x-python",
            "name": "python",
            "nbconvert_exporter": "python",
            "pygments_lexer": "ipython3",
            "version": "3.12.1"
        }
    },
    "nbformat": 4,
    "nbformat_minor": 2
}
