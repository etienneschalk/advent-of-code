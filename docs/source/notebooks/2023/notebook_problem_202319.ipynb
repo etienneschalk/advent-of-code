{
 "cells": [
  {
   "cell_type": "markdown",
   "metadata": {},
   "source": [
    "# Year 2023 Day 19\n",
    "\n",
    "[--- Day 19: Aplenty ---](https://adventofcode.com/2023/day/19)\n",
    "\n",
    "\n",
    "The goal of this notebook is multiple:\n",
    "\n",
    "1. Learn how to use use Sankey diagrams with `plotly`\n",
    "2. Visualize the problem's input\n",
    "3. Describe the problem solving procedure\n"
   ]
  },
  {
   "cell_type": "code",
   "execution_count": null,
   "metadata": {
    "execution": {
     "iopub.execute_input": "2024-11-25T23:11:25.859532Z",
     "iopub.status.busy": "2024-11-25T23:11:25.859062Z",
     "iopub.status.idle": "2024-11-25T23:11:26.426450Z",
     "shell.execute_reply": "2024-11-25T23:11:26.425555Z"
    },
    "metadata": {}
   },
   "outputs": [],
   "source": [
    "import json\n",
    "\n",
    "from IPython.display import Markdown as md\n",
    "\n",
    "from advent_of_code.common.common import get_example_inputs_file_contents\n",
    "from advent_of_code.visualization.plotly_tools import (\n",
    "    ValuedLink,\n",
    "    build_sankey_figure,\n",
    "    to_plotly_sankey_input,\n",
    ")\n",
    "from advent_of_code.y_2023.problem_202319 import (\n",
    "    AdventOfCodeProblem202319,\n",
    "    PartRatingRange,\n",
    "    PartRatingRangeTree,\n",
    "    construct_initial_part_range,\n",
    ")"
   ]
  },
  {
   "cell_type": "code",
   "execution_count": null,
   "metadata": {
    "execution": {
     "iopub.execute_input": "2024-11-25T23:11:26.430017Z",
     "iopub.status.busy": "2024-11-25T23:11:26.429539Z",
     "iopub.status.idle": "2024-11-25T23:11:26.584458Z",
     "shell.execute_reply": "2024-11-25T23:11:26.583680Z"
    },
    "metadata": {}
   },
   "outputs": [],
   "source": [
    "from advent_of_code.visualization.notebooks import attempt_interactive\n",
    "\n",
    "\n",
    "attempt_interactive(True, \"plotly\")"
   ]
  },
  {
   "cell_type": "code",
   "execution_count": null,
   "metadata": {
    "execution": {
     "iopub.execute_input": "2024-11-25T23:11:26.587335Z",
     "iopub.status.busy": "2024-11-25T23:11:26.587070Z",
     "iopub.status.idle": "2024-11-25T23:11:26.590821Z",
     "shell.execute_reply": "2024-11-25T23:11:26.590162Z"
    },
    "metadata": {}
   },
   "outputs": [],
   "source": [
    "def pretty_print_dict_with_json(json_string: str) -> md:\n",
    "    json_repr = json.dumps(json_string, indent=4)\n",
    "    return md(\n",
    "        f\"\"\"\n",
    "```json\n",
    "{json_repr} \n",
    "```\n",
    "\"\"\"\n",
    "    )"
   ]
  },
  {
   "cell_type": "markdown",
   "metadata": {},
   "source": [
    "## Make a Sankey Diagram with Plotly\n",
    "\n",
    "First, let's start with the example provided in\n",
    "[Plotly: Sankey Diagram](https://plotly.com/python/sankey-diagram/).\n",
    "\n",
    "Then, the goal is to adapt the in-memory representation of the problem's data into something that Plotly can understand and plot.\n",
    "\n",
    "First, a builder can be made for those Plotly diagrams, then, an object converter to convert the in-memory representation of the problem's data into this intermediate data structure.\n",
    "\n",
    "One challenge will be to flatten the tree structure to a list of weighted edges (flat graph representation).\n",
    "\n",
    "The `source, target, value` expected by plotly indicates the need to flatten any tree structure.\n",
    "\n",
    "In the following, the word \"link\" means a graph's directional edge/vertex\n"
   ]
  },
  {
   "cell_type": "code",
   "execution_count": null,
   "metadata": {
    "execution": {
     "iopub.execute_input": "2024-11-25T23:11:26.593614Z",
     "iopub.status.busy": "2024-11-25T23:11:26.593356Z",
     "iopub.status.idle": "2024-11-25T23:11:41.019136Z",
     "shell.execute_reply": "2024-11-25T23:11:41.018472Z"
    },
    "metadata": {}
   },
   "outputs": [],
   "source": [
    "valued_links = [\n",
    "    ValuedLink(\"a\", \"b\", 2),\n",
    "    ValuedLink(\"b\", \"c\", 5),\n",
    "    ValuedLink(\"a\", \"c\", 4),\n",
    "    ValuedLink(\"z\", \"c\", 1),\n",
    "]\n",
    "\n",
    "sankey_input = to_plotly_sankey_input(valued_links)\n",
    "display(sankey_input)\n",
    "fig = build_sankey_figure(sankey_input)\n",
    "fig"
   ]
  },
  {
   "cell_type": "markdown",
   "metadata": {},
   "source": [
    "## Adapt the problem's data structure to feed it to Plotly"
   ]
  },
  {
   "cell_type": "code",
   "execution_count": null,
   "metadata": {
    "execution": {
     "iopub.execute_input": "2024-11-25T23:11:41.021666Z",
     "iopub.status.busy": "2024-11-25T23:11:41.021407Z",
     "iopub.status.idle": "2024-11-25T23:11:41.026096Z",
     "shell.execute_reply": "2024-11-25T23:11:41.025428Z"
    },
    "metadata": {}
   },
   "outputs": [],
   "source": [
    "problem = AdventOfCodeProblem202319()\n",
    "problem"
   ]
  },
  {
   "cell_type": "code",
   "execution_count": null,
   "metadata": {
    "execution": {
     "iopub.execute_input": "2024-11-25T23:11:41.028328Z",
     "iopub.status.busy": "2024-11-25T23:11:41.028099Z",
     "iopub.status.idle": "2024-11-25T23:11:41.038190Z",
     "shell.execute_reply": "2024-11-25T23:11:41.037406Z"
    },
    "metadata": {}
   },
   "outputs": [],
   "source": [
    "example_input = get_example_inputs_file_contents(2023)[\"test_problem_202319\"][\n",
    "    \"EXAMPLE_INPUT\"\n",
    "]"
   ]
  },
  {
   "cell_type": "code",
   "execution_count": null,
   "metadata": {
    "execution": {
     "iopub.execute_input": "2024-11-25T23:11:41.040162Z",
     "iopub.status.busy": "2024-11-25T23:11:41.039927Z",
     "iopub.status.idle": "2024-11-25T23:11:41.044870Z",
     "shell.execute_reply": "2024-11-25T23:11:41.044283Z"
    },
    "metadata": {}
   },
   "outputs": [],
   "source": [
    "puzzle_input = problem.parse_text_input(example_input)\n",
    "puzzle_input.workflows"
   ]
  },
  {
   "cell_type": "code",
   "execution_count": null,
   "metadata": {
    "execution": {
     "iopub.execute_input": "2024-11-25T23:11:41.046912Z",
     "iopub.status.busy": "2024-11-25T23:11:41.046685Z",
     "iopub.status.idle": "2024-11-25T23:11:41.050872Z",
     "shell.execute_reply": "2024-11-25T23:11:41.050326Z"
    },
    "metadata": {}
   },
   "outputs": [],
   "source": [
    "initial_part_rating_range = construct_initial_part_range()\n",
    "initial_part_rating_range"
   ]
  },
  {
   "cell_type": "code",
   "execution_count": null,
   "metadata": {
    "execution": {
     "iopub.execute_input": "2024-11-25T23:11:41.052924Z",
     "iopub.status.busy": "2024-11-25T23:11:41.052705Z",
     "iopub.status.idle": "2024-11-25T23:11:41.057666Z",
     "shell.execute_reply": "2024-11-25T23:11:41.057050Z"
    },
    "metadata": {}
   },
   "outputs": [],
   "source": [
    "range_tree = puzzle_input.apply_to_range(initial_part_rating_range)\n",
    "range_tree"
   ]
  },
  {
   "cell_type": "code",
   "execution_count": null,
   "metadata": {
    "execution": {
     "iopub.execute_input": "2024-11-25T23:11:41.059642Z",
     "iopub.status.busy": "2024-11-25T23:11:41.059451Z",
     "iopub.status.idle": "2024-11-25T23:11:41.062942Z",
     "shell.execute_reply": "2024-11-25T23:11:41.062460Z"
    },
    "metadata": {}
   },
   "outputs": [],
   "source": [
    "for label, rating_range_list in range_tree.mapping.items():\n",
    "    print(label, rating_range_list)"
   ]
  },
  {
   "cell_type": "code",
   "execution_count": null,
   "metadata": {
    "execution": {
     "iopub.execute_input": "2024-11-25T23:11:41.064900Z",
     "iopub.status.busy": "2024-11-25T23:11:41.064707Z",
     "iopub.status.idle": "2024-11-25T23:11:41.068354Z",
     "shell.execute_reply": "2024-11-25T23:11:41.067777Z"
    },
    "metadata": {}
   },
   "outputs": [],
   "source": [
    "from dataclasses import asdict\n",
    "\n",
    "json_txt = json.dumps(asdict(range_tree), indent=4, default=str)\n",
    "json_dict = json.loads(json_txt)\n",
    "# Path(\"202319.out.json\").write_text(json_repr)"
   ]
  },
  {
   "cell_type": "markdown",
   "metadata": {},
   "source": [
    "Issue: how to find a good way to get a scalar from the \"PartTreeRange\" objects?\n",
    "The cubes are 4D, composed of 4 components x, m, a, s.\n",
    "\n",
    "Example: The flow coming from `rfg` must be split in three, to `gd`, `R` and `A`, with a metric that correctly reflect the proportion of parts flowing.\n"
   ]
  },
  {
   "cell_type": "code",
   "execution_count": null,
   "metadata": {
    "execution": {
     "iopub.execute_input": "2024-11-25T23:11:41.070319Z",
     "iopub.status.busy": "2024-11-25T23:11:41.070126Z",
     "iopub.status.idle": "2024-11-25T23:11:41.074266Z",
     "shell.execute_reply": "2024-11-25T23:11:41.073797Z"
    },
    "metadata": {}
   },
   "outputs": [],
   "source": [
    "pretty_print_dict_with_json(\n",
    "    json_dict[\"children\"][\"px\"][0][\"children\"][\"rfg\"][0][\"mapping\"]\n",
    ")"
   ]
  },
  {
   "cell_type": "markdown",
   "metadata": {},
   "source": [
    "A first approach is just to compute the volume of the contiguous cubic sub-space delimitated of the $4000^4$ space formed by the dimensions (x, m, a, s).\n",
    "Luckily, `plotly` will automatically normalize all the weights associated to edges going into the same node, concretely, incoming flows of `(6, 4, 10)` will visually respectively contribute to 30%, 20%, 50%.\n"
   ]
  },
  {
   "cell_type": "code",
   "execution_count": null,
   "metadata": {
    "execution": {
     "iopub.execute_input": "2024-11-25T23:11:41.076135Z",
     "iopub.status.busy": "2024-11-25T23:11:41.075932Z",
     "iopub.status.idle": "2024-11-25T23:11:41.080815Z",
     "shell.execute_reply": "2024-11-25T23:11:41.080142Z"
    },
    "metadata": {}
   },
   "outputs": [],
   "source": [
    "{\n",
    "    child: rating_ranges[0].volume()\n",
    "    for child, rating_ranges in range_tree.children[\"px\"][0]\n",
    "    .children[\"rfg\"][0]\n",
    "    .mapping.items()\n",
    "}"
   ]
  },
  {
   "cell_type": "markdown",
   "metadata": {},
   "source": [
    "But what to do in case of split flows, when a workflow has multiple subspaces (list of `PartRatingRange` has more than one element)?\n",
    "\n",
    "Example:\n"
   ]
  },
  {
   "cell_type": "code",
   "execution_count": null,
   "metadata": {
    "execution": {
     "iopub.execute_input": "2024-11-25T23:11:41.082868Z",
     "iopub.status.busy": "2024-11-25T23:11:41.082667Z",
     "iopub.status.idle": "2024-11-25T23:11:41.086824Z",
     "shell.execute_reply": "2024-11-25T23:11:41.086160Z"
    },
    "metadata": {}
   },
   "outputs": [],
   "source": [
    "pretty_print_dict_with_json(\n",
    "    json_dict[\"children\"][\"px\"][0][\"children\"][\"rfg\"][0][\"children\"][\"gd\"][0]\n",
    ")"
   ]
  },
  {
   "cell_type": "markdown",
   "metadata": {},
   "source": [
    "In that case, just add the individual contribution. The subspace associated to the workflow is just non contiguous, composed of several cubes.\n"
   ]
  },
  {
   "cell_type": "code",
   "execution_count": null,
   "metadata": {
    "execution": {
     "iopub.execute_input": "2024-11-25T23:11:41.088835Z",
     "iopub.status.busy": "2024-11-25T23:11:41.088641Z",
     "iopub.status.idle": "2024-11-25T23:11:41.092244Z",
     "shell.execute_reply": "2024-11-25T23:11:41.091739Z"
    },
    "metadata": {}
   },
   "outputs": [],
   "source": [
    "def compute_flow_values(\n",
    "    mapping: dict[str, list[PartRatingRange]],\n",
    ") -> dict[str, tuple[int, ...]]:\n",
    "    return {\n",
    "        child: tuple(rating_range.volume() for rating_range in rating_ranges)\n",
    "        for child, rating_ranges in mapping.items()\n",
    "    }"
   ]
  },
  {
   "cell_type": "code",
   "execution_count": null,
   "metadata": {
    "execution": {
     "iopub.execute_input": "2024-11-25T23:11:41.094107Z",
     "iopub.status.busy": "2024-11-25T23:11:41.093912Z",
     "iopub.status.idle": "2024-11-25T23:11:41.098318Z",
     "shell.execute_reply": "2024-11-25T23:11:41.097784Z"
    },
    "metadata": {}
   },
   "outputs": [],
   "source": [
    "compute_flow_values(range_tree.children[\"px\"][0].children[\"rfg\"][0].mapping)"
   ]
  },
  {
   "cell_type": "code",
   "execution_count": null,
   "metadata": {
    "execution": {
     "iopub.execute_input": "2024-11-25T23:11:41.100226Z",
     "iopub.status.busy": "2024-11-25T23:11:41.099988Z",
     "iopub.status.idle": "2024-11-25T23:11:41.104451Z",
     "shell.execute_reply": "2024-11-25T23:11:41.103851Z"
    },
    "metadata": {}
   },
   "outputs": [],
   "source": [
    "compute_flow_values(\n",
    "    range_tree.children[\"px\"][0].children[\"rfg\"][0].children[\"gd\"][0].mapping\n",
    ")"
   ]
  },
  {
   "cell_type": "markdown",
   "metadata": {},
   "source": [
    "Now, that the structure can be converted to a tree with integer leaves (the volumes), the Sankey Diagram can be dealt, by iterating depth-first into the `PartRatingRangeTree` structure, and filling a list of `ValuedLink`.\n"
   ]
  },
  {
   "cell_type": "code",
   "execution_count": null,
   "metadata": {
    "execution": {
     "iopub.execute_input": "2024-11-25T23:11:41.106456Z",
     "iopub.status.busy": "2024-11-25T23:11:41.106261Z",
     "iopub.status.idle": "2024-11-25T23:11:41.110947Z",
     "shell.execute_reply": "2024-11-25T23:11:41.110445Z"
    },
    "metadata": {}
   },
   "outputs": [],
   "source": [
    "def to_valued_links(\n",
    "    tree: PartRatingRangeTree,\n",
    "    source: str,\n",
    "    valued_links: list[ValuedLink],\n",
    "    *,\n",
    "    sum_flows: bool = False,\n",
    ") -> None:\n",
    "    flow_values = compute_flow_values(tree.mapping)\n",
    "    if sum_flows:\n",
    "        flow_total_values = {k: sum(v) for k, v in flow_values.items()}\n",
    "        for target, value in flow_total_values.items():\n",
    "            valued_links.append(ValuedLink(source, target, value))\n",
    "    else:\n",
    "        # More details as multiple flows from same source and target are showed explicitly\n",
    "        # instead of merged. For the example data, this shows for the two links from lnx to A.\n",
    "        for target, values in flow_values.items():\n",
    "            for value in values:\n",
    "                valued_links.append(ValuedLink(source, target, value))\n",
    "\n",
    "    children = tree.children\n",
    "\n",
    "    if children is not None:\n",
    "        for child_label, child_trees in children.items():\n",
    "            for child_tree in child_trees:\n",
    "                to_valued_links(child_tree, child_label, valued_links)"
   ]
  },
  {
   "cell_type": "code",
   "execution_count": null,
   "metadata": {
    "execution": {
     "iopub.execute_input": "2024-11-25T23:11:41.112795Z",
     "iopub.status.busy": "2024-11-25T23:11:41.112601Z",
     "iopub.status.idle": "2024-11-25T23:11:41.117498Z",
     "shell.execute_reply": "2024-11-25T23:11:41.116927Z"
    },
    "metadata": {}
   },
   "outputs": [],
   "source": [
    "valued_links = []\n",
    "to_valued_links(range_tree, \"in\", valued_links)\n",
    "valued_links"
   ]
  },
  {
   "cell_type": "markdown",
   "metadata": {},
   "source": [
    "Now that we have got a list of `ValuedLink`, the same conversion function used earlier can be used to feed it into Plotly!\n"
   ]
  },
  {
   "cell_type": "code",
   "execution_count": null,
   "metadata": {
    "execution": {
     "iopub.execute_input": "2024-11-25T23:11:41.119409Z",
     "iopub.status.busy": "2024-11-25T23:11:41.119213Z",
     "iopub.status.idle": "2024-11-25T23:11:45.998004Z",
     "shell.execute_reply": "2024-11-25T23:11:45.997136Z"
    },
    "metadata": {}
   },
   "outputs": [],
   "source": [
    "def show_example_input():\n",
    "    sankey_input = to_plotly_sankey_input(valued_links, color_mode=\"problem_202319\")\n",
    "    display(sankey_input)\n",
    "    fig = build_sankey_figure(\n",
    "        sankey_input, title=\"Example Parsed Puzzle Input (Problem 202319)\"\n",
    "    )\n",
    "    fig.show()\n",
    "\n",
    "\n",
    "show_example_input()"
   ]
  },
  {
   "cell_type": "markdown",
   "metadata": {},
   "source": [
    "The result looks similar to this post on Reddit: [\\[2023 Day 19 (part 2)\\] Sankey diagrams are cool](https://www.reddit.com/r/adventofcode/comments/18lyvuv/2023_day_19_part_2_sankey_diagrams_are_cool/)\n"
   ]
  },
  {
   "cell_type": "markdown",
   "metadata": {},
   "source": [
    "Now let's try with my actual personalized input:\n"
   ]
  },
  {
   "cell_type": "code",
   "execution_count": null,
   "metadata": {
    "execution": {
     "iopub.execute_input": "2024-11-25T23:11:46.000476Z",
     "iopub.status.busy": "2024-11-25T23:11:46.000221Z",
     "iopub.status.idle": "2024-11-25T23:11:50.980819Z",
     "shell.execute_reply": "2024-11-25T23:11:50.979869Z"
    },
    "metadata": {}
   },
   "outputs": [],
   "source": [
    "def show_actual_input():\n",
    "    actual_input = problem.parse_input_text_file()\n",
    "\n",
    "    initial_part_rating_range = construct_initial_part_range()\n",
    "    actual_range_tree = actual_input.apply_to_range(initial_part_rating_range)\n",
    "\n",
    "    valued_links = []\n",
    "    to_valued_links(actual_range_tree, \"in\", valued_links)\n",
    "\n",
    "    sankey_input = to_plotly_sankey_input(valued_links, color_mode=\"problem_202319\")\n",
    "    fig = build_sankey_figure(\n",
    "        sankey_input, title=\"Actual Parsed Puzzle Input (Problem 202319)\"\n",
    "    )\n",
    "    fig.show(width=1080, height=1080)\n",
    "\n",
    "\n",
    "show_actual_input()"
   ]
  },
  {
   "cell_type": "markdown",
   "metadata": {},
   "source": [
    "## Open Points\n"
   ]
  },
  {
   "cell_type": "markdown",
   "metadata": {},
   "source": [
    "In all cases, the projection from a 4D subspace associated to a workflow, composed of one or more small cubes, leads to a loss of \"complexity\" in the visual representation. Only a 1D metric is used to represent the workflow contributions.\n",
    "\n",
    "Representing the subspaces would be another challenge in its own. At first, making a version of the code that only sort pieces according to 2 dimensions would help to visualize. For that, some dimensions can be fixed (slicing the 4D cube into 2D). It would be interesting to build such a datacube with `xarray` ; it would have 4 dimensions: `dims = ('x', 'm', 'a', 's')` and a shape of `(4000, 4000, 4000, 4000)`. Slicing it would be easy, eg `xda.isel(a=0, s=0)`.\n",
    "Since the array would be large, only portions of it could be computed. How to parallelize the algorithm, allowing it to be executed only on a sub-space, eg `(:200, :200, :200, :200)`? Is it possible?\n"
   ]
  }
 ],
 "metadata": {
  "kernelspec": {
   "display_name": "advent-of-code-CEbbwEIT-py3.13",
   "language": "python",
   "name": "python3"
  },
  "language_info": {
   "codemirror_mode": {
    "name": "ipython",
    "version": 3
   },
   "file_extension": ".py",
   "mimetype": "text/x-python",
   "name": "python",
   "nbconvert_exporter": "python",
   "pygments_lexer": "ipython3",
   "version": "3.13.0"
  }
 },
 "nbformat": 4,
 "nbformat_minor": 2
}
