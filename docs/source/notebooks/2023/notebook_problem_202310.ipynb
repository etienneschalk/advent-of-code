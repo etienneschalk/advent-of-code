{
    "cells": [
        {
            "cell_type": "markdown",
            "metadata": {},
            "source": [
                "# Year 2023 Day 10\n"
            ]
        },
        {
            "cell_type": "markdown",
            "metadata": {},
            "source": [
                "The main goal here is to show the different steps in the labyrinth resolution.\n",
                "\n",
                "Experiment with the Observable Plot's Text mark, to add a Text mark over a Raster mark ((see example in https://observablehq.com/plot/marks/raster))\n"
            ]
        },
        {
            "cell_type": "code",
            "execution_count": null,
            "metadata": {},
            "outputs": [],
            "source": [
                "from advent_of_code.common.common import get_example_inputs_file_contents\n",
                "from advent_of_code.y_2023.problem_202310 import AdventOfCodeProblem202310, PuzzleInput\n",
                "from advent_of_code.y_2023.problem_202310 import get_pipe_to_pattern_mapping\n",
                "\n",
                "from typing import Any\n",
                "from pyobsplot import Plot\n",
                "\n",
                "\n",
                "from typing import Any, Callable\n",
                "\n",
                "import numpy as np\n",
                "import pandas as pd\n",
                "import xarray as xr\n",
                "from pyobsplot import Obsplot, Plot\n",
                "\n",
                "from advent_of_code.y_2023.problem_202311 import get_compartiments"
            ]
        },
        {
            "cell_type": "code",
            "execution_count": null,
            "metadata": {},
            "outputs": [],
            "source": [
                "problem = AdventOfCodeProblem202310(config_accumulate_outputs=True)\n",
                "problem"
            ]
        },
        {
            "cell_type": "markdown",
            "metadata": {},
            "source": [
                "## Visualization Code\n"
            ]
        },
        {
            "cell_type": "code",
            "execution_count": null,
            "metadata": {},
            "outputs": [],
            "source": [
                "# See https://juba.github.io/pyobsplot/usage.html#renderers\n",
                "# This is a singleton instance of observable plot, allowing further customization like\n",
                "# changing the renderer from 'widget' to 'json'.\n",
                "op = Obsplot(renderer=\"jsdom\", theme=\"current\")  # Literal['current','light','dark']\n",
                "# op = Obsplot(renderer=\"jsdom\", theme=\"dark\")\n",
                "# op = Obsplot(renderer=\"widget\")\n",
                "\n",
                "\n",
                "def build_base_xarray_plot(\n",
                "    xda: xr.DataArray,\n",
                "    callback: Callable[[list[Any]], None],\n",
                "    *,\n",
                "    dark_mode: bool = True,\n",
                "    scale: float = 1,\n",
                "    width: int = 140 * 4,\n",
                "    **kwargs,\n",
                "):\n",
                "    # Callback is a consumer of list of marks that enrich it.\n",
                "    # grid = (xda == ord(\"#\")).astype(int) * 255\n",
                "    grid = xda\n",
                "    marks = []\n",
                "    marks.append(\n",
                "        Plot.axisX({\"anchor\": \"top\"}),  # type:ignore\n",
                "    )\n",
                "\n",
                "    marks.append(\n",
                "        Plot.raster(  # type:ignore\n",
                "            grid.values.reshape(-1).tolist(),\n",
                "            {\n",
                "                \"width\": grid.col.size,\n",
                "                \"height\": grid.row.size,\n",
                "                \"imageRendering\": \"pixelated\",\n",
                "            },\n",
                "        ),\n",
                "    )\n",
                "\n",
                "    callback(marks)\n",
                "\n",
                "    if dark_mode:\n",
                "        style = {\n",
                "            \"backgroundColor\": \"#111111\",\n",
                "            \"color\": \"#eeeeee\",\n",
                "        }\n",
                "    else:\n",
                "        style = {}\n",
                "\n",
                "    mr = kwargs.get(\"marginRight\", 0)\n",
                "    ml = kwargs.get(\"marginLeft\", 0)\n",
                "    return op(  # type:ignore\n",
                "        {\n",
                "            **{\n",
                "                # weight seems to break aspectRatio\n",
                "                # whereas width does not, hence it is kept.\n",
                "                # \"height\": 140 * 4 * scale,\n",
                "                \"width\": width * scale + mr + ml,\n",
                "                \"color\": {\"scheme\": \"magma\"},\n",
                "                \"x\": {\"domain\": [0, grid.col.size], \"label\": \"column\"},\n",
                "                \"y\": {\"domain\": [grid.row.size, 0], \"label\": \"row\"},\n",
                "                \"marks\": marks,\n",
                "                \"style\": style,\n",
                "                \"aspectRatio\": 1,\n",
                "            },\n",
                "            **kwargs,\n",
                "        }\n",
                "    )\n",
                "\n",
                "\n",
                "def visualize_puzzle_input_202310(\n",
                "    xda: xr.DataArray,\n",
                "    *,\n",
                "    text_xda: xr.DataArray | None = None,\n",
                "    **kwargs: Any,\n",
                "):\n",
                "    def callback(marks: list[Any]) -> None:\n",
                "        if text_xda is not None:\n",
                "            grid = xda\n",
                "            df = text_xda.stack(z=(\"row\", \"col\")).to_pandas()\n",
                "            data = df.values.tolist()\n",
                "            rows = [idx[0] + 0.5 for idx in df.index]\n",
                "            cols = [idx[1] + 0.5 for idx in df.index]\n",
                "            marks.append(g\n",
                "                Plot.text(  # type:ignore\n",
                "                    data,\n",
                "                    {\n",
                "                        \"text\": Plot.identity,\n",
                "                        \"x\": cols,\n",
                "                        \"y\": rows,\n",
                "                        \"color\": \"white\",\n",
                "                        \"fontSize\": 38 * kwargs[\"width\"] / 600 * 13 / grid[\"col\"].size,\n",
                "                    },\n",
                "                )\n",
                "            )\n",
                "\n",
                "    return build_base_xarray_plot(xda, callback, margin=0, **kwargs)"
            ]
        },
        {
            "cell_type": "markdown",
            "metadata": {},
            "source": [
                "## With Example Input\n"
            ]
        },
        {
            "cell_type": "code",
            "execution_count": null,
            "metadata": {},
            "outputs": [],
            "source": [
                "example_inputs_2023 = get_example_inputs_file_contents(2023)[\"test_problem_202310\"]\n",
                "list(example_inputs_2023.keys())"
            ]
        },
        {
            "cell_type": "code",
            "execution_count": null,
            "metadata": {},
            "outputs": [],
            "source": [
                "import pandas as pd\n",
                "import xarray as xr\n",
                "\n",
                "from advent_of_code.y_2023.problem_202310 import render_2d_array_to_text\n",
                "\n",
                "puzzle_input = problem.parse_text_input(\n",
                "    example_inputs_2023[\"EXAMPLE_INPUT_PART_2_1_1a\"]\n",
                ")\n",
                "# puzzle_input = problem.parse_text_input(example_inputs_2023[\"EXAMPLE_INPUT_2_1\"])\n",
                "maze = puzzle_input\n",
                "minimum_distances = problem.compute_minimum_distances(maze)\n",
                "result, outputs_accumulator = problem.compute_tiles_enclosed_by_loop_part_2(\n",
                "    maze, minimum_distances\n",
                ")\n",
                "display(pd.Series(outputs_accumulator.keys()))\n",
                "\n",
                "print(\"Text Input\")\n",
                "print(render_2d_array_to_text(outputs_accumulator[\"maze\"]))"
            ]
        },
        {
            "cell_type": "code",
            "execution_count": null,
            "metadata": {},
            "outputs": [],
            "source": [
                "def visualize_puzzle_input(outputs_accumulator, with_text: bool = True, **kwargs):\n",
                "    min_dist_xda = xr.DataArray(\n",
                "        outputs_accumulator[\"minimum_distances\"], dims=[\"row\", \"col\"]\n",
                "    )\n",
                "    visualize_puzzle_input_202310(\n",
                "        min_dist_xda,\n",
                "        color=dict(legend=True, scheme=\"magma\"),\n",
                "        title=\"Minimum Distances\",\n",
                "        **kwargs,\n",
                "    )\n",
                "\n",
                "    main_loop_xda = xr.DataArray(outputs_accumulator[\"main_loop\"], dims=[\"row\", \"col\"])\n",
                "    if with_text:\n",
                "        text_xda = xr.DataArray(outputs_accumulator[\"maze\"], dims=(\"row\", \"col\"))\n",
                "    else:\n",
                "        text_xda = None\n",
                "    visualize_puzzle_input_202310(\n",
                "        main_loop_xda,\n",
                "        text_xda=text_xda,\n",
                "        color=dict(legend=True, scheme=\"Observable10\"),\n",
                "        title=\"Main Loop\",\n",
                "        **kwargs,\n",
                "    )\n",
                "\n",
                "    raster_3x_xda = xr.DataArray(outputs_accumulator[\"raster_3x\"], dims=[\"row\", \"col\"])\n",
                "    visualize_puzzle_input_202310(\n",
                "        raster_3x_xda,\n",
                "        color=dict(legend=True, scheme=\"Observable10\"),\n",
                "        title=\"Raster 3x\",\n",
                "        **kwargs,\n",
                "    )\n",
                "\n",
                "    filled_xda = xr.DataArray(outputs_accumulator[\"filled\"], dims=[\"row\", \"col\"])\n",
                "    visualize_puzzle_input_202310(\n",
                "        filled_xda,\n",
                "        color=dict(legend=True, scheme=\"Observable10\"),\n",
                "        title=\"Filled (flood fill)\",\n",
                "        **kwargs,\n",
                "    )\n",
                "\n",
                "    coarsened_img_xda = xr.DataArray(\n",
                "        outputs_accumulator[\"coarsened_img\"], dims=[\"row\", \"col\"]\n",
                "    )\n",
                "    visualize_puzzle_input_202310(\n",
                "        coarsened_img_xda,\n",
                "        color=dict(legend=True, scheme=\"Observable10\"),\n",
                "        title=\"Coarsened 3x\",\n",
                "        **kwargs,\n",
                "    )"
            ]
        },
        {
            "cell_type": "code",
            "execution_count": null,
            "metadata": {},
            "outputs": [],
            "source": [
                "main_loop_xda = xr.DataArray(outputs_accumulator[\"main_loop\"], dims=[\"row\", \"col\"])\n",
                "text_xda = xr.DataArray(outputs_accumulator[\"maze\"], dims=(\"row\", \"col\"))\n",
                "\n",
                "visualize_puzzle_input_202310(\n",
                "    main_loop_xda,\n",
                "    text_xda=text_xda,\n",
                "    color=dict(legend=True, scheme=\"Observable10\"),\n",
                "    title=\"Main Loop\",\n",
                "    width=200,\n",
                ")"
            ]
        },
        {
            "cell_type": "markdown",
            "metadata": {},
            "source": [
                "The trick is to replace in pipe symbol of the Main loop by a 3x3 macro-pixel materializing this symbol:\n"
            ]
        },
        {
            "cell_type": "code",
            "execution_count": null,
            "metadata": {},
            "outputs": [],
            "source": [
                "mapping = get_pipe_to_pattern_mapping()\n",
                "mapping_xda = xr.Dataset(\n",
                "    {k: xr.DataArray(v, dims=(\"row\", \"col\")) for k, v in mapping.items()}\n",
                ").to_array(dim=\"pipe\")\n",
                "mapping_xda.plot(y=\"row\", x=\"col\", col=\"pipe\", yincrease=False)"
            ]
        },
        {
            "cell_type": "code",
            "execution_count": null,
            "metadata": {},
            "outputs": [],
            "source": [
                "raster_3x_xda = xr.DataArray(outputs_accumulator[\"raster_3x\"], dims=[\"row\", \"col\"])\n",
                "visualize_puzzle_input_202310(\n",
                "    raster_3x_xda,\n",
                "    color=dict(legend=True, scheme=\"Observable10\"),\n",
                "    title=\"(After) Raster 3x\",\n",
                "    width=200,\n",
                ")"
            ]
        },
        {
            "cell_type": "markdown",
            "metadata": {},
            "source": [
                "Then, this new raster truly materializes the pipe network.\n"
            ]
        },
        {
            "cell_type": "markdown",
            "metadata": {},
            "source": [
                "To find the inside area is now easy: use a [Flood Fill](https://en.wikipedia.org/wiki/Flood_fill) algorithm, for instance implemented by scipy: [skimage.morphology.flood_fill](https://scikit-image.org/docs/stable/api/skimage.morphology.html#skimage.morphology.flood_fill).\n"
            ]
        },
        {
            "cell_type": "code",
            "execution_count": null,
            "metadata": {},
            "outputs": [],
            "source": [
                "filled_xda = xr.DataArray(outputs_accumulator[\"filled\"], dims=[\"row\", \"col\"])\n",
                "visualize_puzzle_input_202310(\n",
                "    filled_xda,\n",
                "    color=dict(legend=True, scheme=\"Observable10\"),\n",
                "    title=\"Filled (flood fill)\",\n",
                "    width=200,\n",
                ")"
            ]
        },
        {
            "cell_type": "markdown",
            "metadata": {},
            "source": [
                "The final trick is to go back to the original raster, knowing which pixels are filled.\n",
                "A pixel is considered as filled if its corresponding 3x3 macro-pixel is entirely filled. This excludes the macro-pixels representing pipe from the count.\n"
            ]
        },
        {
            "cell_type": "code",
            "execution_count": null,
            "metadata": {},
            "outputs": [],
            "source": [
                "coarsened_img_xda = xr.DataArray(\n",
                "    outputs_accumulator[\"coarsened_img\"], dims=[\"row\", \"col\"]\n",
                ")\n",
                "visualize_puzzle_input_202310(\n",
                "    coarsened_img_xda,\n",
                "    color=dict(legend=True, scheme=\"Observable10\"),\n",
                "    title=\"Coarsened 3x\",\n",
                "    width=200,\n",
                ")"
            ]
        },
        {
            "cell_type": "code",
            "execution_count": null,
            "metadata": {},
            "outputs": [],
            "source": [
                "maze = problem.parse_text_input(example_inputs_2023[\"EXAMPLE_INPUT_2_1\"])\n",
                "result, outputs_accumulator = problem.compute_tiles_enclosed_by_loop_part_2(\n",
                "    maze, problem.compute_minimum_distances(maze)\n",
                ")\n",
                "\n",
                "print(\"Text Input\")\n",
                "print(render_2d_array_to_text(outputs_accumulator[\"maze\"]))\n",
                "\n",
                "visualize_puzzle_input(outputs_accumulator, width=200)"
            ]
        },
        {
            "cell_type": "code",
            "execution_count": null,
            "metadata": {},
            "outputs": [],
            "source": [
                "maze = problem.parse_text_input(example_inputs_2023[\"EXAMPLE_INPUT_PART_2_1_1a\"])\n",
                "result, outputs_accumulator = problem.compute_tiles_enclosed_by_loop_part_2(\n",
                "    maze, problem.compute_minimum_distances(maze)\n",
                ")\n",
                "\n",
                "print(\"Text Input\")\n",
                "print(render_2d_array_to_text(outputs_accumulator[\"maze\"]))\n",
                "\n",
                "visualize_puzzle_input(outputs_accumulator, width=200)"
            ]
        },
        {
            "cell_type": "markdown",
            "metadata": {},
            "source": [
                "## With Actual Input\n"
            ]
        },
        {
            "cell_type": "code",
            "execution_count": null,
            "metadata": {},
            "outputs": [],
            "source": [
                "def visualize_actual_input(problem: AdventOfCodeProblem202310):\n",
                "    maze = problem.parse_input_text_file()\n",
                "\n",
                "    minimum_distances = problem.compute_minimum_distances(maze)\n",
                "    result, outputs_accumulator = problem.compute_tiles_enclosed_by_loop_part_2(\n",
                "        maze, minimum_distances\n",
                "    )\n",
                "\n",
                "    visualize_puzzle_input(\n",
                "        outputs_accumulator,\n",
                "        width=maze.shape[0] * 3,\n",
                "        height=maze.shape[0] * 3,\n",
                "        with_text=False,\n",
                "    )\n",
                "\n",
                "\n",
                "visualize_actual_input(problem)"
            ]
        }
    ],
    "metadata": {
        "kernelspec": {
            "display_name": "advent-of-code-CEbbwEIT-py3.10",
            "language": "python",
            "name": "python3"
        },
        "language_info": {
            "codemirror_mode": {
                "name": "ipython",
                "version": 3
            },
            "file_extension": ".py",
            "mimetype": "text/x-python",
            "name": "python",
            "nbconvert_exporter": "python",
            "pygments_lexer": "ipython3",
            "version": "3.12.1"
        }
    },
    "nbformat": 4,
    "nbformat_minor": 2
}
