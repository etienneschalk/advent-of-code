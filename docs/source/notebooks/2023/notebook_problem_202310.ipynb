{
 "cells": [
  {
   "cell_type": "markdown",
   "metadata": {},
   "source": [
    "# Year 2023 Day 10\n",
    "\n",
    "[--- Day 10: Pipe Maze ---](https://adventofcode.com/2023/day/10)\n",
    "\n"
   ]
  },
  {
   "cell_type": "markdown",
   "metadata": {},
   "source": [
    "The main goal here is to show the different steps in the labyrinth resolution.\n",
    "\n",
    "Experiment with the Observable Plot's Text mark, to add a Text mark over a Raster mark ((see example in https://observablehq.com/plot/marks/raster))\n"
   ]
  },
  {
   "cell_type": "code",
   "execution_count": 1,
   "metadata": {
    "execution": {
     "iopub.execute_input": "2024-05-27T08:54:20.676859Z",
     "iopub.status.busy": "2024-05-27T08:54:20.676439Z",
     "iopub.status.idle": "2024-05-27T08:54:23.730457Z",
     "shell.execute_reply": "2024-05-27T08:54:23.729243Z"
    }
   },
   "outputs": [],
   "source": [
    "from typing import Any\n",
    "\n",
    "import pandas as pd\n",
    "import xarray as xr\n",
    "from pyobsplot import Plot\n",
    "\n",
    "from advent_of_code.common.common import get_example_inputs_file_contents\n",
    "from advent_of_code.visualization.observable_plot import (\n",
    "    build_base_xarray_plot,\n",
    ")\n",
    "from advent_of_code.y_2023.problem_202310 import (\n",
    "    AdventOfCodeProblem202310,\n",
    "    get_pipe_to_pattern_mapping,\n",
    "    render_2d_array_to_text,\n",
    ")"
   ]
  },
  {
   "cell_type": "code",
   "execution_count": 2,
   "metadata": {
    "execution": {
     "iopub.execute_input": "2024-05-27T08:54:23.734312Z",
     "iopub.status.busy": "2024-05-27T08:54:23.733643Z",
     "iopub.status.idle": "2024-05-27T08:54:23.745045Z",
     "shell.execute_reply": "2024-05-27T08:54:23.744200Z"
    }
   },
   "outputs": [
    {
     "data": {
      "text/plain": [
       "AdventOfCodeProblem202310(year=2023, day=10, config_verbose=False, config_save_img=False, config_save_txt=False, config_save_img_for_video=False, config_accumulate_outputs=True)"
      ]
     },
     "execution_count": 2,
     "metadata": {},
     "output_type": "execute_result"
    }
   ],
   "source": [
    "problem = AdventOfCodeProblem202310(config_accumulate_outputs=True)\n",
    "problem"
   ]
  },
  {
   "cell_type": "markdown",
   "metadata": {},
   "source": [
    "## Visualization Code\n",
    "\n",
    "The following function enriches the base xarray visualization function with Observable Plot, by adding the possibility to add a text-representation of the array on the plot.\n",
    "\n",
    "This is useful for a combined visualization of a raster and its values."
   ]
  },
  {
   "cell_type": "code",
   "execution_count": 3,
   "metadata": {
    "execution": {
     "iopub.execute_input": "2024-05-27T08:54:23.749337Z",
     "iopub.status.busy": "2024-05-27T08:54:23.748917Z",
     "iopub.status.idle": "2024-05-27T08:54:23.753581Z",
     "shell.execute_reply": "2024-05-27T08:54:23.752961Z"
    }
   },
   "outputs": [],
   "source": [
    "from advent_of_code.visualization.observable_plot import visualize_puzzle_input_202310"
   ]
  },
  {
   "cell_type": "markdown",
   "metadata": {},
   "source": [
    "## With Example Inputs"
   ]
  },
  {
   "cell_type": "markdown",
   "metadata": {},
   "source": [
    "### Example input from part 2 (`EXAMPLE_INPUT_PART_2_1_1a`)"
   ]
  },
  {
   "cell_type": "markdown",
   "metadata": {},
   "source": [
    "#### Problem solving explanation\n",
    "\n",
    "In the following, we visualize step by step the data structures helping to solve the problem."
   ]
  },
  {
   "cell_type": "code",
   "execution_count": 4,
   "metadata": {
    "execution": {
     "iopub.execute_input": "2024-05-27T08:54:23.757590Z",
     "iopub.status.busy": "2024-05-27T08:54:23.757125Z",
     "iopub.status.idle": "2024-05-27T08:54:23.766404Z",
     "shell.execute_reply": "2024-05-27T08:54:23.765864Z"
    }
   },
   "outputs": [
    {
     "data": {
      "text/plain": [
       "['EXAMPLE_INPUT_1_1',\n",
       " 'EXAMPLE_INPUT_1_2',\n",
       " 'EXAMPLE_INPUT_1_3',\n",
       " 'EXAMPLE_INPUT_2_1',\n",
       " 'EXAMPLE_INPUT_2_2',\n",
       " 'EXAMPLE_DISTANCES_1',\n",
       " 'EXAMPLE_DISTANCES_2',\n",
       " 'EXAMPLE_INPUT_PART_2_1_1a',\n",
       " 'EXAMPLE_INPUT_PART_2_1_1b',\n",
       " 'EXAMPLE_INPUT_PART_2_1_2',\n",
       " 'EXAMPLE_INPUT_PART_2_1_TEST',\n",
       " 'EXAMPLE_INPUT_PART_2_2_1',\n",
       " 'EXAMPLE_INPUT_PART_2_2_2',\n",
       " 'EXAMPLE_INPUT_PART_2_3_1',\n",
       " 'EXAMPLE_INPUT_PART_2_3_2']"
      ]
     },
     "execution_count": 4,
     "metadata": {},
     "output_type": "execute_result"
    }
   ],
   "source": [
    "example_inputs_2023 = get_example_inputs_file_contents(2023)[\"test_problem_202310\"]\n",
    "list(example_inputs_2023.keys())"
   ]
  },
  {
   "cell_type": "code",
   "execution_count": 5,
   "metadata": {
    "execution": {
     "iopub.execute_input": "2024-05-27T08:54:23.770864Z",
     "iopub.status.busy": "2024-05-27T08:54:23.770465Z",
     "iopub.status.idle": "2024-05-27T08:54:23.803326Z",
     "shell.execute_reply": "2024-05-27T08:54:23.802280Z"
    }
   },
   "outputs": [
    {
     "name": "stdout",
     "output_type": "stream",
     "text": [
      "Current recursion limit:\n",
      "3000\n",
      "New recursion limit:\n",
      "15000\n",
      "Skipped top\n",
      "Skipped left\n"
     ]
    },
    {
     "data": {
      "text/plain": [
       "0                 maze\n",
       "1    minimum_distances\n",
       "2            main_loop\n",
       "3            raster_3x\n",
       "4               filled\n",
       "5        coarsened_img\n",
       "dtype: object"
      ]
     },
     "metadata": {},
     "output_type": "display_data"
    },
    {
     "name": "stdout",
     "output_type": "stream",
     "text": [
      "Text Input\n",
      "░░░░░░░░░░░░░\n",
      "░░░░░░░░░░░░░\n",
      "░░S───────┐░░\n",
      "░░│┌─────┐│░░\n",
      "░░││░░░░░││░░\n",
      "░░││░░░░░││░░\n",
      "░░│└─┐░┌─┘│░░\n",
      "░░│░░│░│░░│░░\n",
      "░░└──┘░└──┘░░\n",
      "░░░░░░░░░░░░░\n",
      "░░░░░░░░░░░░░\n"
     ]
    }
   ],
   "source": [
    "puzzle_input = problem.parse_text_input(\n",
    "    example_inputs_2023[\"EXAMPLE_INPUT_PART_2_1_1a\"]\n",
    ")\n",
    "maze = puzzle_input\n",
    "minimum_distances = problem.compute_minimum_distances(maze)\n",
    "result, outputs_accumulator = problem.compute_tiles_enclosed_by_loop_part_2(\n",
    "    maze, minimum_distances\n",
    ")\n",
    "display(pd.Series(outputs_accumulator.keys()))\n",
    "\n",
    "print(\"Text Input\")\n",
    "print(render_2d_array_to_text(outputs_accumulator[\"maze\"]))"
   ]
  },
  {
   "cell_type": "markdown",
   "metadata": {},
   "source": [
    "First, the main loop must be identified. The heatmap of minimal distance from starting point can be used for this. "
   ]
  },
  {
   "cell_type": "code",
   "execution_count": 6,
   "metadata": {
    "execution": {
     "iopub.execute_input": "2024-05-27T08:54:23.806102Z",
     "iopub.status.busy": "2024-05-27T08:54:23.805848Z",
     "iopub.status.idle": "2024-05-27T08:54:23.897404Z",
     "shell.execute_reply": "2024-05-27T08:54:23.896478Z"
    }
   },
   "outputs": [
    {
     "data": {
      "text/html": [
       "<figure class=\"plot-d6a7b5-figure\" style=\"max-width: initial; padding: 0px 5px 5px 5px; color: currentColor; background-color: transparent;\"><h2 style=\"line-height: 28px; font-size: 20px; font-weight: 600; margin: 0px;\">Minimum Distances</h2><svg class=\"plot-d6a7b5-ramp\" font-family=\"system-ui, sans-serif\" font-size=\"10\" width=\"240\" height=\"50\" viewBox=\"0 0 240 50\" xmlns=\"http://www.w3.org/2000/svg\" xmlns:xlink=\"http://www.w3.org/1999/xlink\" style=\"color: currentColor; background-color: transparent;\"><style>:where(.plot-d6a7b5-ramp) {\n",
       "  display: block;\n",
       "  height: auto;\n",
       "  height: intrinsic;\n",
       "  max-width: 100%;\n",
       "  overflow: visible;\n",
       "}\n",
       ":where(.plot-d6a7b5-ramp text) {\n",
       "  white-space: pre;\n",
       "}</style><image x=\"0\" y=\"18\" width=\"240\" height=\"10\" preserveAspectRatio=\"none\" href=\"data:image/png;base64,iVBORw0KGgoAAAANSUhEUgAAAQAAAAABCAYAAAAxWXB3AAAABmJLR0QA/wD/AP+gvaeTAAAAvklEQVQ4jW2SSwLEMAhCgc79r+ws/Leu8gQ0TVICPyMIkAAEZzlTAB6QAqv2dWrNntXSn+WXh+QHRPQguLQHMhVnTtDQvZPW7KcYTAbDHaaOtYqILLbH7EvGkUVlJ1c250ftbFs7+nq+1T7t2ytnw7djHzuyVrO+2c35HZOZGaZuPT/ryFOtMWeomRfLf8dkKH0A5TXvNS8qOC6H6kfgerjUdh0HPHQtf9XL00vToQ/moYVupc/8V7Olac2Y9R/4sC65xxNF4gAAAABJRU5ErkJggg==\"></image><g transform=\"translate(0,28)\" fill=\"none\" text-anchor=\"middle\" font-variant=\"tabular-nums\"><g class=\"tick\" opacity=\"1\" transform=\"translate(10.5,0)\"><line stroke=\"currentColor\" y2=\"6\" y1=\"-10\"></line><text fill=\"currentColor\" y=\"9\" dy=\"0.71em\">0</text></g><g class=\"tick\" opacity=\"1\" transform=\"translate(60.5,0)\"><line stroke=\"currentColor\" y2=\"6\" y1=\"-10\"></line><text fill=\"currentColor\" y=\"9\" dy=\"0.71em\">5</text></g><g class=\"tick\" opacity=\"1\" transform=\"translate(110.5,0)\"><line stroke=\"currentColor\" y2=\"6\" y1=\"-10\"></line><text fill=\"currentColor\" y=\"9\" dy=\"0.71em\">10</text></g><g class=\"tick\" opacity=\"1\" transform=\"translate(160.5,0)\"><line stroke=\"currentColor\" y2=\"6\" y1=\"-10\"></line><text fill=\"currentColor\" y=\"9\" dy=\"0.71em\">15</text></g><g class=\"tick\" opacity=\"1\" transform=\"translate(210.5,0)\"><line stroke=\"currentColor\" y2=\"6\" y1=\"-10\"></line><text fill=\"currentColor\" y=\"9\" dy=\"0.71em\">20</text></g></g></svg><svg class=\"plot-d6a7b5\" fill=\"currentColor\" font-family=\"system-ui, sans-serif\" font-size=\"10\" text-anchor=\"middle\" width=\"200\" height=\"168.46153846153845\" viewBox=\"0 0 200 168.46153846153845\" style=\"background-color: rgb(17, 17, 17); color: rgb(238, 238, 238);\" xmlns=\"http://www.w3.org/2000/svg\" xmlns:xlink=\"http://www.w3.org/1999/xlink\"><style>:where(.plot-d6a7b5) {\n",
       "  --plot-background: white;\n",
       "  display: block;\n",
       "  height: auto;\n",
       "  height: intrinsic;\n",
       "  max-width: 100%;\n",
       "}\n",
       ":where(.plot-d6a7b5 text),\n",
       ":where(.plot-d6a7b5 tspan) {\n",
       "  white-space: pre;\n",
       "}</style><g aria-label=\"y-axis tick\" aria-hidden=\"true\" fill=\"none\" stroke=\"currentColor\"><path transform=\"translate(0,153.14685314685315)\" d=\"M0,0L-6,0\"></path><path transform=\"translate(0,122.51748251748252)\" d=\"M0,0L-6,0\"></path><path transform=\"translate(0,91.88811188811188)\" d=\"M0,0L-6,0\"></path><path transform=\"translate(0,61.25874125874126)\" d=\"M0,0L-6,0\"></path><path transform=\"translate(0,30.62937062937063)\" d=\"M0,0L-6,0\"></path><path transform=\"translate(0,0)\" d=\"M0,0L-6,0\"></path></g><g aria-label=\"y-axis tick label\" text-anchor=\"end\" font-variant=\"tabular-nums\" transform=\"translate(-9,0)\"><text y=\"0.32em\" transform=\"translate(0,153.14685314685315)\">10</text><text y=\"0.32em\" transform=\"translate(0,122.51748251748252)\">8</text><text y=\"0.32em\" transform=\"translate(0,91.88811188811188)\">6</text><text y=\"0.32em\" transform=\"translate(0,61.25874125874126)\">4</text><text y=\"0.32em\" transform=\"translate(0,30.62937062937063)\">2</text><text y=\"0.32em\" transform=\"translate(0,0)\">0</text></g><g aria-label=\"y-axis label\" text-anchor=\"start\" transform=\"translate(3,3)\"><text y=\"0.71em\" transform=\"translate(0,0)\">↓ row</text></g><g aria-label=\"x-axis tick\" aria-hidden=\"true\" fill=\"none\" stroke=\"currentColor\"><path transform=\"translate(0,0)\" d=\"M0,0L0,-6\"></path><path transform=\"translate(76.92307692307693,0)\" d=\"M0,0L0,-6\"></path><path transform=\"translate(153.84615384615387,0)\" d=\"M0,0L0,-6\"></path></g><g aria-label=\"x-axis tick label\" font-variant=\"tabular-nums\" transform=\"translate(0,-9)\"><text transform=\"translate(0,0)\">0</text><text transform=\"translate(76.92307692307693,0)\">5</text><text transform=\"translate(153.84615384615387,0)\">10</text></g><g aria-label=\"x-axis label\" text-anchor=\"end\" transform=\"translate(-3,3)\"><text y=\"0.71em\" transform=\"translate(200,0)\">column →</text></g><g aria-label=\"raster\"><image transform=\"translate(0,0) scale(1,1)\" width=\"200\" height=\"168.46153846153845\" preserveAspectRatio=\"none\" image-rendering=\"pixelated\" href=\"data:image/png;base64,iVBORw0KGgoAAAANSUhEUgAAAA0AAAALCAYAAACksgdhAAAABmJLR0QA/wD/AP+gvaeTAAAA+ElEQVQokb3RsUrDUBTG8f+1N/dKakhybyqlPkGH4uwinRx9Axe3UgRfwMUHEBfdnJwUV2fBxcnN2VkwDdpASm4lcRArEpcunuksP87H+YQn12uWnJVlAYD8XuYfGVG7T6B6hHSxlcW0fEIlMVoQazh+PvuNonafl9EmsuMhjI/oKEjWwMbUieV8+NS8FKgeZSoITm8bcWblFUZVTRTSpZjKBgAQ2QSj5k1kK8t77rjf2uPNKXYfLyhv9iGJIJ0QKbdAi++Zls/g7prth0sy5wFQv+bo4Ql6cES8Wv4RT0kONsbEGjL3VV2dFeSHO5SpoJjOfuL+W7mfXgxA093RaCkAAAAASUVORK5CYII=\"></image></g></svg></figure>"
      ],
      "text/plain": [
       "<IPython.core.display.HTML object>"
      ]
     },
     "metadata": {},
     "output_type": "display_data"
    }
   ],
   "source": [
    "min_dist_xda = xr.DataArray(\n",
    "    outputs_accumulator[\"minimum_distances\"], dims=[\"row\", \"col\"]\n",
    ")\n",
    "\n",
    "visualize_puzzle_input_202310(\n",
    "    min_dist_xda,\n",
    "    color=dict(legend=True, scheme=\"magma\"),\n",
    "    title=\"Minimum Distances\",\n",
    "    width=200,\n",
    ")"
   ]
  },
  {
   "cell_type": "markdown",
   "metadata": {},
   "source": [
    "All pipes are identified by strictly positive integers ; the starting position has a special value of $-1$, and empty space is denoted by $0$."
   ]
  },
  {
   "cell_type": "code",
   "execution_count": 7,
   "metadata": {
    "execution": {
     "iopub.execute_input": "2024-05-27T08:54:23.902818Z",
     "iopub.status.busy": "2024-05-27T08:54:23.902259Z",
     "iopub.status.idle": "2024-05-27T08:54:23.964538Z",
     "shell.execute_reply": "2024-05-27T08:54:23.963368Z"
    }
   },
   "outputs": [
    {
     "data": {
      "text/html": [
       "<figure class=\"plot-d6a7b5-figure\" style=\"max-width: initial; padding: 0px 5px 5px 5px; color: currentColor; background-color: transparent;\"><h2 style=\"line-height: 28px; font-size: 20px; font-weight: 600; margin: 0px;\">Minimum Distances (with values)</h2><svg class=\"plot-d6a7b5-ramp\" font-family=\"system-ui, sans-serif\" font-size=\"10\" width=\"240\" height=\"50\" viewBox=\"0 0 240 50\" xmlns=\"http://www.w3.org/2000/svg\" xmlns:xlink=\"http://www.w3.org/1999/xlink\" style=\"color: currentColor; background-color: transparent;\"><style>:where(.plot-d6a7b5-ramp) {\n",
       "  display: block;\n",
       "  height: auto;\n",
       "  height: intrinsic;\n",
       "  max-width: 100%;\n",
       "  overflow: visible;\n",
       "}\n",
       ":where(.plot-d6a7b5-ramp text) {\n",
       "  white-space: pre;\n",
       "}</style><image x=\"0\" y=\"18\" width=\"240\" height=\"10\" preserveAspectRatio=\"none\" href=\"data:image/png;base64,iVBORw0KGgoAAAANSUhEUgAAAQAAAAABCAYAAAAxWXB3AAAABmJLR0QA/wD/AP+gvaeTAAAAvklEQVQ4jW2SSwLEMAhCgc79r+ws/Leu8gQ0TVICPyMIkAAEZzlTAB6QAqv2dWrNntXSn+WXh+QHRPQguLQHMhVnTtDQvZPW7KcYTAbDHaaOtYqILLbH7EvGkUVlJ1c250ftbFs7+nq+1T7t2ytnw7djHzuyVrO+2c35HZOZGaZuPT/ryFOtMWeomRfLf8dkKH0A5TXvNS8qOC6H6kfgerjUdh0HPHQtf9XL00vToQ/moYVupc/8V7Olac2Y9R/4sC65xxNF4gAAAABJRU5ErkJggg==\"></image><g transform=\"translate(0,28)\" fill=\"none\" text-anchor=\"middle\" font-variant=\"tabular-nums\"><g class=\"tick\" opacity=\"1\" transform=\"translate(10.5,0)\"><line stroke=\"currentColor\" y2=\"6\" y1=\"-10\"></line><text fill=\"currentColor\" y=\"9\" dy=\"0.71em\">0</text></g><g class=\"tick\" opacity=\"1\" transform=\"translate(60.5,0)\"><line stroke=\"currentColor\" y2=\"6\" y1=\"-10\"></line><text fill=\"currentColor\" y=\"9\" dy=\"0.71em\">5</text></g><g class=\"tick\" opacity=\"1\" transform=\"translate(110.5,0)\"><line stroke=\"currentColor\" y2=\"6\" y1=\"-10\"></line><text fill=\"currentColor\" y=\"9\" dy=\"0.71em\">10</text></g><g class=\"tick\" opacity=\"1\" transform=\"translate(160.5,0)\"><line stroke=\"currentColor\" y2=\"6\" y1=\"-10\"></line><text fill=\"currentColor\" y=\"9\" dy=\"0.71em\">15</text></g><g class=\"tick\" opacity=\"1\" transform=\"translate(210.5,0)\"><line stroke=\"currentColor\" y2=\"6\" y1=\"-10\"></line><text fill=\"currentColor\" y=\"9\" dy=\"0.71em\">20</text></g></g></svg><svg class=\"plot-d6a7b5\" fill=\"currentColor\" font-family=\"system-ui, sans-serif\" font-size=\"10\" text-anchor=\"middle\" width=\"200\" height=\"168.46153846153845\" viewBox=\"0 0 200 168.46153846153845\" style=\"background-color: rgb(17, 17, 17); color: rgb(238, 238, 238);\" xmlns=\"http://www.w3.org/2000/svg\" xmlns:xlink=\"http://www.w3.org/1999/xlink\"><style>:where(.plot-d6a7b5) {\n",
       "  --plot-background: white;\n",
       "  display: block;\n",
       "  height: auto;\n",
       "  height: intrinsic;\n",
       "  max-width: 100%;\n",
       "}\n",
       ":where(.plot-d6a7b5 text),\n",
       ":where(.plot-d6a7b5 tspan) {\n",
       "  white-space: pre;\n",
       "}</style><g aria-label=\"y-axis tick\" aria-hidden=\"true\" fill=\"none\" stroke=\"currentColor\"><path transform=\"translate(0,153.14685314685315)\" d=\"M0,0L-6,0\"></path><path transform=\"translate(0,122.51748251748252)\" d=\"M0,0L-6,0\"></path><path transform=\"translate(0,91.88811188811188)\" d=\"M0,0L-6,0\"></path><path transform=\"translate(0,61.25874125874126)\" d=\"M0,0L-6,0\"></path><path transform=\"translate(0,30.62937062937063)\" d=\"M0,0L-6,0\"></path><path transform=\"translate(0,0)\" d=\"M0,0L-6,0\"></path></g><g aria-label=\"y-axis tick label\" text-anchor=\"end\" font-variant=\"tabular-nums\" transform=\"translate(-9,0)\"><text y=\"0.32em\" transform=\"translate(0,153.14685314685315)\">10</text><text y=\"0.32em\" transform=\"translate(0,122.51748251748252)\">8</text><text y=\"0.32em\" transform=\"translate(0,91.88811188811188)\">6</text><text y=\"0.32em\" transform=\"translate(0,61.25874125874126)\">4</text><text y=\"0.32em\" transform=\"translate(0,30.62937062937063)\">2</text><text y=\"0.32em\" transform=\"translate(0,0)\">0</text></g><g aria-label=\"y-axis label\" text-anchor=\"start\" transform=\"translate(3,3)\"><text y=\"0.71em\" transform=\"translate(0,0)\">↓ row</text></g><g aria-label=\"x-axis tick\" aria-hidden=\"true\" fill=\"none\" stroke=\"currentColor\"><path transform=\"translate(0,0)\" d=\"M0,0L0,-6\"></path><path transform=\"translate(76.92307692307693,0)\" d=\"M0,0L0,-6\"></path><path transform=\"translate(153.84615384615387,0)\" d=\"M0,0L0,-6\"></path></g><g aria-label=\"x-axis tick label\" font-variant=\"tabular-nums\" transform=\"translate(0,-9)\"><text transform=\"translate(0,0)\">0</text><text transform=\"translate(76.92307692307693,0)\">5</text><text transform=\"translate(153.84615384615387,0)\">10</text></g><g aria-label=\"x-axis label\" text-anchor=\"end\" transform=\"translate(-3,3)\"><text y=\"0.71em\" transform=\"translate(200,0)\">column →</text></g><g aria-label=\"raster\"><image transform=\"translate(0,0) scale(1,1)\" width=\"200\" height=\"168.46153846153845\" preserveAspectRatio=\"none\" image-rendering=\"pixelated\" href=\"data:image/png;base64,iVBORw0KGgoAAAANSUhEUgAAAA0AAAALCAYAAACksgdhAAAABmJLR0QA/wD/AP+gvaeTAAAA+ElEQVQokb3RsUrDUBTG8f+1N/dKakhybyqlPkGH4uwinRx9Axe3UgRfwMUHEBfdnJwUV2fBxcnN2VkwDdpASm4lcRArEpcunuksP87H+YQn12uWnJVlAYD8XuYfGVG7T6B6hHSxlcW0fEIlMVoQazh+PvuNonafl9EmsuMhjI/oKEjWwMbUieV8+NS8FKgeZSoITm8bcWblFUZVTRTSpZjKBgAQ2QSj5k1kK8t77rjf2uPNKXYfLyhv9iGJIJ0QKbdAi++Zls/g7prth0sy5wFQv+bo4Ql6cES8Wv4RT0kONsbEGjL3VV2dFeSHO5SpoJjOfuL+W7mfXgxA093RaCkAAAAASUVORK5CYII=\"></image></g><g aria-label=\"text\" font-size=\"12.666666666666666\" font-variant=\"tabular-nums\"><text y=\"0.32em\" transform=\"translate(7.6923076923076925,7.6573426573426575)\">0</text><text y=\"0.32em\" transform=\"translate(23.076923076923077,7.6573426573426575)\">0</text><text y=\"0.32em\" transform=\"translate(38.46153846153847,7.6573426573426575)\">0</text><text y=\"0.32em\" transform=\"translate(53.84615384615385,7.6573426573426575)\">0</text><text y=\"0.32em\" transform=\"translate(69.23076923076923,7.6573426573426575)\">0</text><text y=\"0.32em\" transform=\"translate(84.61538461538461,7.6573426573426575)\">0</text><text y=\"0.32em\" transform=\"translate(100,7.6573426573426575)\">0</text><text y=\"0.32em\" transform=\"translate(115.38461538461537,7.6573426573426575)\">0</text><text y=\"0.32em\" transform=\"translate(130.76923076923077,7.6573426573426575)\">0</text><text y=\"0.32em\" transform=\"translate(146.15384615384613,7.6573426573426575)\">0</text><text y=\"0.32em\" transform=\"translate(161.53846153846155,7.6573426573426575)\">0</text><text y=\"0.32em\" transform=\"translate(176.9230769230769,7.6573426573426575)\">0</text><text y=\"0.32em\" transform=\"translate(192.30769230769232,7.6573426573426575)\">0</text><text y=\"0.32em\" transform=\"translate(7.6923076923076925,22.97202797202797)\">0</text><text y=\"0.32em\" transform=\"translate(23.076923076923077,22.97202797202797)\">0</text><text y=\"0.32em\" transform=\"translate(38.46153846153847,22.97202797202797)\">0</text><text y=\"0.32em\" transform=\"translate(53.84615384615385,22.97202797202797)\">0</text><text y=\"0.32em\" transform=\"translate(69.23076923076923,22.97202797202797)\">0</text><text y=\"0.32em\" transform=\"translate(84.61538461538461,22.97202797202797)\">0</text><text y=\"0.32em\" transform=\"translate(100,22.97202797202797)\">0</text><text y=\"0.32em\" transform=\"translate(115.38461538461537,22.97202797202797)\">0</text><text y=\"0.32em\" transform=\"translate(130.76923076923077,22.97202797202797)\">0</text><text y=\"0.32em\" transform=\"translate(146.15384615384613,22.97202797202797)\">0</text><text y=\"0.32em\" transform=\"translate(161.53846153846155,22.97202797202797)\">0</text><text y=\"0.32em\" transform=\"translate(176.9230769230769,22.97202797202797)\">0</text><text y=\"0.32em\" transform=\"translate(192.30769230769232,22.97202797202797)\">0</text><text y=\"0.32em\" transform=\"translate(7.6923076923076925,38.28671328671329)\">0</text><text y=\"0.32em\" transform=\"translate(23.076923076923077,38.28671328671329)\">0</text><text y=\"0.32em\" transform=\"translate(38.46153846153847,38.28671328671329)\">-1</text><text y=\"0.32em\" transform=\"translate(53.84615384615385,38.28671328671329)\">1</text><text y=\"0.32em\" transform=\"translate(69.23076923076923,38.28671328671329)\">2</text><text y=\"0.32em\" transform=\"translate(84.61538461538461,38.28671328671329)\">3</text><text y=\"0.32em\" transform=\"translate(100,38.28671328671329)\">4</text><text y=\"0.32em\" transform=\"translate(115.38461538461537,38.28671328671329)\">5</text><text y=\"0.32em\" transform=\"translate(130.76923076923077,38.28671328671329)\">6</text><text y=\"0.32em\" transform=\"translate(146.15384615384613,38.28671328671329)\">7</text><text y=\"0.32em\" transform=\"translate(161.53846153846155,38.28671328671329)\">8</text><text y=\"0.32em\" transform=\"translate(176.9230769230769,38.28671328671329)\">0</text><text y=\"0.32em\" transform=\"translate(192.30769230769232,38.28671328671329)\">0</text><text y=\"0.32em\" transform=\"translate(7.6923076923076925,53.6013986013986)\">0</text><text y=\"0.32em\" transform=\"translate(23.076923076923077,53.6013986013986)\">0</text><text y=\"0.32em\" transform=\"translate(38.46153846153847,53.6013986013986)\">1</text><text y=\"0.32em\" transform=\"translate(53.84615384615385,53.6013986013986)\">16</text><text y=\"0.32em\" transform=\"translate(69.23076923076923,53.6013986013986)\">17</text><text y=\"0.32em\" transform=\"translate(84.61538461538461,53.6013986013986)\">18</text><text y=\"0.32em\" transform=\"translate(100,53.6013986013986)\">19</text><text y=\"0.32em\" transform=\"translate(115.38461538461537,53.6013986013986)\">20</text><text y=\"0.32em\" transform=\"translate(130.76923076923077,53.6013986013986)\">21</text><text y=\"0.32em\" transform=\"translate(146.15384615384613,53.6013986013986)\">22</text><text y=\"0.32em\" transform=\"translate(161.53846153846155,53.6013986013986)\">9</text><text y=\"0.32em\" transform=\"translate(176.9230769230769,53.6013986013986)\">0</text><text y=\"0.32em\" transform=\"translate(192.30769230769232,53.6013986013986)\">0</text><text y=\"0.32em\" transform=\"translate(7.6923076923076925,68.91608391608392)\">0</text><text y=\"0.32em\" transform=\"translate(23.076923076923077,68.91608391608392)\">0</text><text y=\"0.32em\" transform=\"translate(38.46153846153847,68.91608391608392)\">2</text><text y=\"0.32em\" transform=\"translate(53.84615384615385,68.91608391608392)\">15</text><text y=\"0.32em\" transform=\"translate(69.23076923076923,68.91608391608392)\">0</text><text y=\"0.32em\" transform=\"translate(84.61538461538461,68.91608391608392)\">0</text><text y=\"0.32em\" transform=\"translate(100,68.91608391608392)\">0</text><text y=\"0.32em\" transform=\"translate(115.38461538461537,68.91608391608392)\">0</text><text y=\"0.32em\" transform=\"translate(130.76923076923077,68.91608391608392)\">0</text><text y=\"0.32em\" transform=\"translate(146.15384615384613,68.91608391608392)\">23</text><text y=\"0.32em\" transform=\"translate(161.53846153846155,68.91608391608392)\">10</text><text y=\"0.32em\" transform=\"translate(176.9230769230769,68.91608391608392)\">0</text><text y=\"0.32em\" transform=\"translate(192.30769230769232,68.91608391608392)\">0</text><text y=\"0.32em\" transform=\"translate(7.6923076923076925,84.23076923076923)\">0</text><text y=\"0.32em\" transform=\"translate(23.076923076923077,84.23076923076923)\">0</text><text y=\"0.32em\" transform=\"translate(38.46153846153847,84.23076923076923)\">3</text><text y=\"0.32em\" transform=\"translate(53.84615384615385,84.23076923076923)\">14</text><text y=\"0.32em\" transform=\"translate(69.23076923076923,84.23076923076923)\">0</text><text y=\"0.32em\" transform=\"translate(84.61538461538461,84.23076923076923)\">0</text><text y=\"0.32em\" transform=\"translate(100,84.23076923076923)\">0</text><text y=\"0.32em\" transform=\"translate(115.38461538461537,84.23076923076923)\">0</text><text y=\"0.32em\" transform=\"translate(130.76923076923077,84.23076923076923)\">0</text><text y=\"0.32em\" transform=\"translate(146.15384615384613,84.23076923076923)\">22</text><text y=\"0.32em\" transform=\"translate(161.53846153846155,84.23076923076923)\">11</text><text y=\"0.32em\" transform=\"translate(176.9230769230769,84.23076923076923)\">0</text><text y=\"0.32em\" transform=\"translate(192.30769230769232,84.23076923076923)\">0</text><text y=\"0.32em\" transform=\"translate(7.6923076923076925,99.54545454545455)\">0</text><text y=\"0.32em\" transform=\"translate(23.076923076923077,99.54545454545455)\">0</text><text y=\"0.32em\" transform=\"translate(38.46153846153847,99.54545454545455)\">4</text><text y=\"0.32em\" transform=\"translate(53.84615384615385,99.54545454545455)\">13</text><text y=\"0.32em\" transform=\"translate(69.23076923076923,99.54545454545455)\">12</text><text y=\"0.32em\" transform=\"translate(84.61538461538461,99.54545454545455)\">11</text><text y=\"0.32em\" transform=\"translate(100,99.54545454545455)\">0</text><text y=\"0.32em\" transform=\"translate(115.38461538461537,99.54545454545455)\">19</text><text y=\"0.32em\" transform=\"translate(130.76923076923077,99.54545454545455)\">20</text><text y=\"0.32em\" transform=\"translate(146.15384615384613,99.54545454545455)\">21</text><text y=\"0.32em\" transform=\"translate(161.53846153846155,99.54545454545455)\">12</text><text y=\"0.32em\" transform=\"translate(176.9230769230769,99.54545454545455)\">0</text><text y=\"0.32em\" transform=\"translate(192.30769230769232,99.54545454545455)\">0</text><text y=\"0.32em\" transform=\"translate(7.6923076923076925,114.86013986013984)\">0</text><text y=\"0.32em\" transform=\"translate(23.076923076923077,114.86013986013984)\">0</text><text y=\"0.32em\" transform=\"translate(38.46153846153847,114.86013986013984)\">5</text><text y=\"0.32em\" transform=\"translate(53.84615384615385,114.86013986013984)\">0</text><text y=\"0.32em\" transform=\"translate(69.23076923076923,114.86013986013984)\">0</text><text y=\"0.32em\" transform=\"translate(84.61538461538461,114.86013986013984)\">10</text><text y=\"0.32em\" transform=\"translate(100,114.86013986013984)\">0</text><text y=\"0.32em\" transform=\"translate(115.38461538461537,114.86013986013984)\">18</text><text y=\"0.32em\" transform=\"translate(130.76923076923077,114.86013986013984)\">0</text><text y=\"0.32em\" transform=\"translate(146.15384615384613,114.86013986013984)\">0</text><text y=\"0.32em\" transform=\"translate(161.53846153846155,114.86013986013984)\">13</text><text y=\"0.32em\" transform=\"translate(176.9230769230769,114.86013986013984)\">0</text><text y=\"0.32em\" transform=\"translate(192.30769230769232,114.86013986013984)\">0</text><text y=\"0.32em\" transform=\"translate(7.6923076923076925,130.17482517482517)\">0</text><text y=\"0.32em\" transform=\"translate(23.076923076923077,130.17482517482517)\">0</text><text y=\"0.32em\" transform=\"translate(38.46153846153847,130.17482517482517)\">6</text><text y=\"0.32em\" transform=\"translate(53.84615384615385,130.17482517482517)\">7</text><text y=\"0.32em\" transform=\"translate(69.23076923076923,130.17482517482517)\">8</text><text y=\"0.32em\" transform=\"translate(84.61538461538461,130.17482517482517)\">9</text><text y=\"0.32em\" transform=\"translate(100,130.17482517482517)\">0</text><text y=\"0.32em\" transform=\"translate(115.38461538461537,130.17482517482517)\">17</text><text y=\"0.32em\" transform=\"translate(130.76923076923077,130.17482517482517)\">16</text><text y=\"0.32em\" transform=\"translate(146.15384615384613,130.17482517482517)\">15</text><text y=\"0.32em\" transform=\"translate(161.53846153846155,130.17482517482517)\">14</text><text y=\"0.32em\" transform=\"translate(176.9230769230769,130.17482517482517)\">0</text><text y=\"0.32em\" transform=\"translate(192.30769230769232,130.17482517482517)\">0</text><text y=\"0.32em\" transform=\"translate(7.6923076923076925,145.48951048951048)\">0</text><text y=\"0.32em\" transform=\"translate(23.076923076923077,145.48951048951048)\">0</text><text y=\"0.32em\" transform=\"translate(38.46153846153847,145.48951048951048)\">0</text><text y=\"0.32em\" transform=\"translate(53.84615384615385,145.48951048951048)\">0</text><text y=\"0.32em\" transform=\"translate(69.23076923076923,145.48951048951048)\">0</text><text y=\"0.32em\" transform=\"translate(84.61538461538461,145.48951048951048)\">0</text><text y=\"0.32em\" transform=\"translate(100,145.48951048951048)\">0</text><text y=\"0.32em\" transform=\"translate(115.38461538461537,145.48951048951048)\">0</text><text y=\"0.32em\" transform=\"translate(130.76923076923077,145.48951048951048)\">0</text><text y=\"0.32em\" transform=\"translate(146.15384615384613,145.48951048951048)\">0</text><text y=\"0.32em\" transform=\"translate(161.53846153846155,145.48951048951048)\">0</text><text y=\"0.32em\" transform=\"translate(176.9230769230769,145.48951048951048)\">0</text><text y=\"0.32em\" transform=\"translate(192.30769230769232,145.48951048951048)\">0</text><text y=\"0.32em\" transform=\"translate(7.6923076923076925,160.8041958041958)\">0</text><text y=\"0.32em\" transform=\"translate(23.076923076923077,160.8041958041958)\">0</text><text y=\"0.32em\" transform=\"translate(38.46153846153847,160.8041958041958)\">0</text><text y=\"0.32em\" transform=\"translate(53.84615384615385,160.8041958041958)\">0</text><text y=\"0.32em\" transform=\"translate(69.23076923076923,160.8041958041958)\">0</text><text y=\"0.32em\" transform=\"translate(84.61538461538461,160.8041958041958)\">0</text><text y=\"0.32em\" transform=\"translate(100,160.8041958041958)\">0</text><text y=\"0.32em\" transform=\"translate(115.38461538461537,160.8041958041958)\">0</text><text y=\"0.32em\" transform=\"translate(130.76923076923077,160.8041958041958)\">0</text><text y=\"0.32em\" transform=\"translate(146.15384615384613,160.8041958041958)\">0</text><text y=\"0.32em\" transform=\"translate(161.53846153846155,160.8041958041958)\">0</text><text y=\"0.32em\" transform=\"translate(176.9230769230769,160.8041958041958)\">0</text><text y=\"0.32em\" transform=\"translate(192.30769230769232,160.8041958041958)\">0</text></g></svg></figure>"
      ],
      "text/plain": [
       "<IPython.core.display.HTML object>"
      ]
     },
     "metadata": {},
     "output_type": "display_data"
    }
   ],
   "source": [
    "min_dist_text_xda = xr.DataArray(\n",
    "    outputs_accumulator[\"minimum_distances\"], dims=(\"row\", \"col\")\n",
    ")\n",
    "visualize_puzzle_input_202310(\n",
    "    min_dist_xda,\n",
    "    text_xda=min_dist_text_xda,\n",
    "    color=dict(legend=True, scheme=\"magma\"),\n",
    "    title=\"Minimum Distances (with values)\",\n",
    "    width=200,\n",
    ")"
   ]
  },
  {
   "cell_type": "markdown",
   "metadata": {},
   "source": [
    "The main loop can now be identified using the minimum distances."
   ]
  },
  {
   "cell_type": "code",
   "execution_count": 8,
   "metadata": {
    "execution": {
     "iopub.execute_input": "2024-05-27T08:54:23.969079Z",
     "iopub.status.busy": "2024-05-27T08:54:23.968635Z",
     "iopub.status.idle": "2024-05-27T08:54:24.025424Z",
     "shell.execute_reply": "2024-05-27T08:54:24.024551Z"
    }
   },
   "outputs": [
    {
     "data": {
      "text/html": [
       "<figure class=\"plot-d6a7b5-figure\" style=\"max-width: initial; padding: 0px 5px 5px 5px; color: currentColor; background-color: transparent;\"><h2 style=\"line-height: 28px; font-size: 20px; font-weight: 600; margin: 0px;\">(Before) Main Loop</h2><div class=\"plot-d6a7b5-swatches plot-d6a7b5-swatches-wrap\"><span class=\"plot-d6a7b5-swatch\"><svg width=\"15\" height=\"15\" fill=\"#4269d0\" xmlns=\"http://www.w3.org/2000/svg\" xmlns:xlink=\"http://www.w3.org/1999/xlink\" style=\"color: currentColor; background-color: transparent;\"><rect width=\"100%\" height=\"100%\"></rect></svg>─</span><span class=\"plot-d6a7b5-swatch\"><svg width=\"15\" height=\"15\" fill=\"#efb118\" xmlns=\"http://www.w3.org/2000/svg\" xmlns:xlink=\"http://www.w3.org/1999/xlink\" style=\"color: currentColor; background-color: transparent;\"><rect width=\"100%\" height=\"100%\"></rect></svg>│</span><span class=\"plot-d6a7b5-swatch\"><svg width=\"15\" height=\"15\" fill=\"#ff725c\" xmlns=\"http://www.w3.org/2000/svg\" xmlns:xlink=\"http://www.w3.org/1999/xlink\" style=\"color: currentColor; background-color: transparent;\"><rect width=\"100%\" height=\"100%\"></rect></svg>┌</span><span class=\"plot-d6a7b5-swatch\"><svg width=\"15\" height=\"15\" fill=\"#6cc5b0\" xmlns=\"http://www.w3.org/2000/svg\" xmlns:xlink=\"http://www.w3.org/1999/xlink\" style=\"color: currentColor; background-color: transparent;\"><rect width=\"100%\" height=\"100%\"></rect></svg>┐</span><span class=\"plot-d6a7b5-swatch\"><svg width=\"15\" height=\"15\" fill=\"#3ca951\" xmlns=\"http://www.w3.org/2000/svg\" xmlns:xlink=\"http://www.w3.org/1999/xlink\" style=\"color: currentColor; background-color: transparent;\"><rect width=\"100%\" height=\"100%\"></rect></svg>└</span><span class=\"plot-d6a7b5-swatch\"><svg width=\"15\" height=\"15\" fill=\"#ff8ab7\" xmlns=\"http://www.w3.org/2000/svg\" xmlns:xlink=\"http://www.w3.org/1999/xlink\" style=\"color: currentColor; background-color: transparent;\"><rect width=\"100%\" height=\"100%\"></rect></svg>┘</span><span class=\"plot-d6a7b5-swatch\"><svg width=\"15\" height=\"15\" fill=\"#a463f2\" xmlns=\"http://www.w3.org/2000/svg\" xmlns:xlink=\"http://www.w3.org/1999/xlink\" style=\"color: currentColor; background-color: transparent;\"><rect width=\"100%\" height=\"100%\"></rect></svg>░</span><style>:where(.plot-d6a7b5-swatches) {\n",
       "  font-family: system-ui, sans-serif;\n",
       "  font-size: 10px;\n",
       "  margin-bottom: 0.5em;\n",
       "}\n",
       ":where(.plot-d6a7b5-swatch > svg) {\n",
       "  margin-right: 0.5em;\n",
       "  overflow: visible;\n",
       "}\n",
       ":where(.plot-d6a7b5-swatches-wrap) {\n",
       "  display: flex;\n",
       "  align-items: center;\n",
       "  min-height: 33px;\n",
       "  flex-wrap: wrap;\n",
       "}\n",
       ":where(.plot-d6a7b5-swatches-wrap .plot-d6a7b5-swatch) {\n",
       "  display: inline-flex;\n",
       "  align-items: center;\n",
       "  margin-right: 1em;\n",
       "}</style></div><svg class=\"plot-d6a7b5\" fill=\"currentColor\" font-family=\"system-ui, sans-serif\" font-size=\"10\" text-anchor=\"middle\" width=\"200\" height=\"168.46153846153845\" viewBox=\"0 0 200 168.46153846153845\" style=\"background-color: rgb(17, 17, 17); color: rgb(238, 238, 238);\" xmlns=\"http://www.w3.org/2000/svg\" xmlns:xlink=\"http://www.w3.org/1999/xlink\"><style>:where(.plot-d6a7b5) {\n",
       "  --plot-background: white;\n",
       "  display: block;\n",
       "  height: auto;\n",
       "  height: intrinsic;\n",
       "  max-width: 100%;\n",
       "}\n",
       ":where(.plot-d6a7b5 text),\n",
       ":where(.plot-d6a7b5 tspan) {\n",
       "  white-space: pre;\n",
       "}</style><g aria-label=\"y-axis tick\" aria-hidden=\"true\" fill=\"none\" stroke=\"currentColor\"><path transform=\"translate(0,153.14685314685315)\" d=\"M0,0L-6,0\"></path><path transform=\"translate(0,122.51748251748252)\" d=\"M0,0L-6,0\"></path><path transform=\"translate(0,91.88811188811188)\" d=\"M0,0L-6,0\"></path><path transform=\"translate(0,61.25874125874126)\" d=\"M0,0L-6,0\"></path><path transform=\"translate(0,30.62937062937063)\" d=\"M0,0L-6,0\"></path><path transform=\"translate(0,0)\" d=\"M0,0L-6,0\"></path></g><g aria-label=\"y-axis tick label\" text-anchor=\"end\" font-variant=\"tabular-nums\" transform=\"translate(-9,0)\"><text y=\"0.32em\" transform=\"translate(0,153.14685314685315)\">10</text><text y=\"0.32em\" transform=\"translate(0,122.51748251748252)\">8</text><text y=\"0.32em\" transform=\"translate(0,91.88811188811188)\">6</text><text y=\"0.32em\" transform=\"translate(0,61.25874125874126)\">4</text><text y=\"0.32em\" transform=\"translate(0,30.62937062937063)\">2</text><text y=\"0.32em\" transform=\"translate(0,0)\">0</text></g><g aria-label=\"y-axis label\" text-anchor=\"start\" transform=\"translate(3,3)\"><text y=\"0.71em\" transform=\"translate(0,0)\">↓ row</text></g><g aria-label=\"x-axis tick\" aria-hidden=\"true\" fill=\"none\" stroke=\"currentColor\"><path transform=\"translate(0,0)\" d=\"M0,0L0,-6\"></path><path transform=\"translate(76.92307692307693,0)\" d=\"M0,0L0,-6\"></path><path transform=\"translate(153.84615384615387,0)\" d=\"M0,0L0,-6\"></path></g><g aria-label=\"x-axis tick label\" font-variant=\"tabular-nums\" transform=\"translate(0,-9)\"><text transform=\"translate(0,0)\">0</text><text transform=\"translate(76.92307692307693,0)\">5</text><text transform=\"translate(153.84615384615387,0)\">10</text></g><g aria-label=\"x-axis label\" text-anchor=\"end\" transform=\"translate(-3,3)\"><text y=\"0.71em\" transform=\"translate(200,0)\">column →</text></g><g aria-label=\"raster\"><image transform=\"translate(0,0) scale(1,1)\" width=\"200\" height=\"168.46153846153845\" preserveAspectRatio=\"none\" image-rendering=\"pixelated\" href=\"data:image/png;base64,iVBORw0KGgoAAAANSUhEUgAAAA0AAAALCAYAAACksgdhAAAABmJLR0QA/wD/AP+gvaeTAAAAl0lEQVQokWNckvzpPwOJgIlUDQwMDAwsMEY0fxaD8/cSnAq1Yh4wWMxzQrXpg/0ehr2cPTg1NL/JwLQJpjFp0zQMTd5vPFD4ZPkJRZPvD0uGeWz3GE4k7WNgYID4cx7bPQaBm/Nxa8rYtZAh6ZcS3P0f7PcwJP1SYlh60xpFE9xPvj8sGdjY7kFsgJqMTYyBgYGBkW6RCwDYEDIPAugfNwAAAABJRU5ErkJggg==\"></image></g><g aria-label=\"text\" font-size=\"12.666666666666666\"><text y=\"0.32em\" transform=\"translate(7.6923076923076925,7.6573426573426575)\">░</text><text y=\"0.32em\" transform=\"translate(23.076923076923077,7.6573426573426575)\">░</text><text y=\"0.32em\" transform=\"translate(38.46153846153847,7.6573426573426575)\">░</text><text y=\"0.32em\" transform=\"translate(53.84615384615385,7.6573426573426575)\">░</text><text y=\"0.32em\" transform=\"translate(69.23076923076923,7.6573426573426575)\">░</text><text y=\"0.32em\" transform=\"translate(84.61538461538461,7.6573426573426575)\">░</text><text y=\"0.32em\" transform=\"translate(100,7.6573426573426575)\">░</text><text y=\"0.32em\" transform=\"translate(115.38461538461537,7.6573426573426575)\">░</text><text y=\"0.32em\" transform=\"translate(130.76923076923077,7.6573426573426575)\">░</text><text y=\"0.32em\" transform=\"translate(146.15384615384613,7.6573426573426575)\">░</text><text y=\"0.32em\" transform=\"translate(161.53846153846155,7.6573426573426575)\">░</text><text y=\"0.32em\" transform=\"translate(176.9230769230769,7.6573426573426575)\">░</text><text y=\"0.32em\" transform=\"translate(192.30769230769232,7.6573426573426575)\">░</text><text y=\"0.32em\" transform=\"translate(7.6923076923076925,22.97202797202797)\">░</text><text y=\"0.32em\" transform=\"translate(23.076923076923077,22.97202797202797)\">░</text><text y=\"0.32em\" transform=\"translate(38.46153846153847,22.97202797202797)\">░</text><text y=\"0.32em\" transform=\"translate(53.84615384615385,22.97202797202797)\">░</text><text y=\"0.32em\" transform=\"translate(69.23076923076923,22.97202797202797)\">░</text><text y=\"0.32em\" transform=\"translate(84.61538461538461,22.97202797202797)\">░</text><text y=\"0.32em\" transform=\"translate(100,22.97202797202797)\">░</text><text y=\"0.32em\" transform=\"translate(115.38461538461537,22.97202797202797)\">░</text><text y=\"0.32em\" transform=\"translate(130.76923076923077,22.97202797202797)\">░</text><text y=\"0.32em\" transform=\"translate(146.15384615384613,22.97202797202797)\">░</text><text y=\"0.32em\" transform=\"translate(161.53846153846155,22.97202797202797)\">░</text><text y=\"0.32em\" transform=\"translate(176.9230769230769,22.97202797202797)\">░</text><text y=\"0.32em\" transform=\"translate(192.30769230769232,22.97202797202797)\">░</text><text y=\"0.32em\" transform=\"translate(7.6923076923076925,38.28671328671329)\">░</text><text y=\"0.32em\" transform=\"translate(23.076923076923077,38.28671328671329)\">░</text><text y=\"0.32em\" transform=\"translate(38.46153846153847,38.28671328671329)\">S</text><text y=\"0.32em\" transform=\"translate(53.84615384615385,38.28671328671329)\">─</text><text y=\"0.32em\" transform=\"translate(69.23076923076923,38.28671328671329)\">─</text><text y=\"0.32em\" transform=\"translate(84.61538461538461,38.28671328671329)\">─</text><text y=\"0.32em\" transform=\"translate(100,38.28671328671329)\">─</text><text y=\"0.32em\" transform=\"translate(115.38461538461537,38.28671328671329)\">─</text><text y=\"0.32em\" transform=\"translate(130.76923076923077,38.28671328671329)\">─</text><text y=\"0.32em\" transform=\"translate(146.15384615384613,38.28671328671329)\">─</text><text y=\"0.32em\" transform=\"translate(161.53846153846155,38.28671328671329)\">┐</text><text y=\"0.32em\" transform=\"translate(176.9230769230769,38.28671328671329)\">░</text><text y=\"0.32em\" transform=\"translate(192.30769230769232,38.28671328671329)\">░</text><text y=\"0.32em\" transform=\"translate(7.6923076923076925,53.6013986013986)\">░</text><text y=\"0.32em\" transform=\"translate(23.076923076923077,53.6013986013986)\">░</text><text y=\"0.32em\" transform=\"translate(38.46153846153847,53.6013986013986)\">│</text><text y=\"0.32em\" transform=\"translate(53.84615384615385,53.6013986013986)\">┌</text><text y=\"0.32em\" transform=\"translate(69.23076923076923,53.6013986013986)\">─</text><text y=\"0.32em\" transform=\"translate(84.61538461538461,53.6013986013986)\">─</text><text y=\"0.32em\" transform=\"translate(100,53.6013986013986)\">─</text><text y=\"0.32em\" transform=\"translate(115.38461538461537,53.6013986013986)\">─</text><text y=\"0.32em\" transform=\"translate(130.76923076923077,53.6013986013986)\">─</text><text y=\"0.32em\" transform=\"translate(146.15384615384613,53.6013986013986)\">┐</text><text y=\"0.32em\" transform=\"translate(161.53846153846155,53.6013986013986)\">│</text><text y=\"0.32em\" transform=\"translate(176.9230769230769,53.6013986013986)\">░</text><text y=\"0.32em\" transform=\"translate(192.30769230769232,53.6013986013986)\">░</text><text y=\"0.32em\" transform=\"translate(7.6923076923076925,68.91608391608392)\">░</text><text y=\"0.32em\" transform=\"translate(23.076923076923077,68.91608391608392)\">░</text><text y=\"0.32em\" transform=\"translate(38.46153846153847,68.91608391608392)\">│</text><text y=\"0.32em\" transform=\"translate(53.84615384615385,68.91608391608392)\">│</text><text y=\"0.32em\" transform=\"translate(69.23076923076923,68.91608391608392)\">░</text><text y=\"0.32em\" transform=\"translate(84.61538461538461,68.91608391608392)\">░</text><text y=\"0.32em\" transform=\"translate(100,68.91608391608392)\">░</text><text y=\"0.32em\" transform=\"translate(115.38461538461537,68.91608391608392)\">░</text><text y=\"0.32em\" transform=\"translate(130.76923076923077,68.91608391608392)\">░</text><text y=\"0.32em\" transform=\"translate(146.15384615384613,68.91608391608392)\">│</text><text y=\"0.32em\" transform=\"translate(161.53846153846155,68.91608391608392)\">│</text><text y=\"0.32em\" transform=\"translate(176.9230769230769,68.91608391608392)\">░</text><text y=\"0.32em\" transform=\"translate(192.30769230769232,68.91608391608392)\">░</text><text y=\"0.32em\" transform=\"translate(7.6923076923076925,84.23076923076923)\">░</text><text y=\"0.32em\" transform=\"translate(23.076923076923077,84.23076923076923)\">░</text><text y=\"0.32em\" transform=\"translate(38.46153846153847,84.23076923076923)\">│</text><text y=\"0.32em\" transform=\"translate(53.84615384615385,84.23076923076923)\">│</text><text y=\"0.32em\" transform=\"translate(69.23076923076923,84.23076923076923)\">░</text><text y=\"0.32em\" transform=\"translate(84.61538461538461,84.23076923076923)\">░</text><text y=\"0.32em\" transform=\"translate(100,84.23076923076923)\">░</text><text y=\"0.32em\" transform=\"translate(115.38461538461537,84.23076923076923)\">░</text><text y=\"0.32em\" transform=\"translate(130.76923076923077,84.23076923076923)\">░</text><text y=\"0.32em\" transform=\"translate(146.15384615384613,84.23076923076923)\">│</text><text y=\"0.32em\" transform=\"translate(161.53846153846155,84.23076923076923)\">│</text><text y=\"0.32em\" transform=\"translate(176.9230769230769,84.23076923076923)\">░</text><text y=\"0.32em\" transform=\"translate(192.30769230769232,84.23076923076923)\">░</text><text y=\"0.32em\" transform=\"translate(7.6923076923076925,99.54545454545455)\">░</text><text y=\"0.32em\" transform=\"translate(23.076923076923077,99.54545454545455)\">░</text><text y=\"0.32em\" transform=\"translate(38.46153846153847,99.54545454545455)\">│</text><text y=\"0.32em\" transform=\"translate(53.84615384615385,99.54545454545455)\">└</text><text y=\"0.32em\" transform=\"translate(69.23076923076923,99.54545454545455)\">─</text><text y=\"0.32em\" transform=\"translate(84.61538461538461,99.54545454545455)\">┐</text><text y=\"0.32em\" transform=\"translate(100,99.54545454545455)\">░</text><text y=\"0.32em\" transform=\"translate(115.38461538461537,99.54545454545455)\">┌</text><text y=\"0.32em\" transform=\"translate(130.76923076923077,99.54545454545455)\">─</text><text y=\"0.32em\" transform=\"translate(146.15384615384613,99.54545454545455)\">┘</text><text y=\"0.32em\" transform=\"translate(161.53846153846155,99.54545454545455)\">│</text><text y=\"0.32em\" transform=\"translate(176.9230769230769,99.54545454545455)\">░</text><text y=\"0.32em\" transform=\"translate(192.30769230769232,99.54545454545455)\">░</text><text y=\"0.32em\" transform=\"translate(7.6923076923076925,114.86013986013984)\">░</text><text y=\"0.32em\" transform=\"translate(23.076923076923077,114.86013986013984)\">░</text><text y=\"0.32em\" transform=\"translate(38.46153846153847,114.86013986013984)\">│</text><text y=\"0.32em\" transform=\"translate(53.84615384615385,114.86013986013984)\">░</text><text y=\"0.32em\" transform=\"translate(69.23076923076923,114.86013986013984)\">░</text><text y=\"0.32em\" transform=\"translate(84.61538461538461,114.86013986013984)\">│</text><text y=\"0.32em\" transform=\"translate(100,114.86013986013984)\">░</text><text y=\"0.32em\" transform=\"translate(115.38461538461537,114.86013986013984)\">│</text><text y=\"0.32em\" transform=\"translate(130.76923076923077,114.86013986013984)\">░</text><text y=\"0.32em\" transform=\"translate(146.15384615384613,114.86013986013984)\">░</text><text y=\"0.32em\" transform=\"translate(161.53846153846155,114.86013986013984)\">│</text><text y=\"0.32em\" transform=\"translate(176.9230769230769,114.86013986013984)\">░</text><text y=\"0.32em\" transform=\"translate(192.30769230769232,114.86013986013984)\">░</text><text y=\"0.32em\" transform=\"translate(7.6923076923076925,130.17482517482517)\">░</text><text y=\"0.32em\" transform=\"translate(23.076923076923077,130.17482517482517)\">░</text><text y=\"0.32em\" transform=\"translate(38.46153846153847,130.17482517482517)\">└</text><text y=\"0.32em\" transform=\"translate(53.84615384615385,130.17482517482517)\">─</text><text y=\"0.32em\" transform=\"translate(69.23076923076923,130.17482517482517)\">─</text><text y=\"0.32em\" transform=\"translate(84.61538461538461,130.17482517482517)\">┘</text><text y=\"0.32em\" transform=\"translate(100,130.17482517482517)\">░</text><text y=\"0.32em\" transform=\"translate(115.38461538461537,130.17482517482517)\">└</text><text y=\"0.32em\" transform=\"translate(130.76923076923077,130.17482517482517)\">─</text><text y=\"0.32em\" transform=\"translate(146.15384615384613,130.17482517482517)\">─</text><text y=\"0.32em\" transform=\"translate(161.53846153846155,130.17482517482517)\">┘</text><text y=\"0.32em\" transform=\"translate(176.9230769230769,130.17482517482517)\">░</text><text y=\"0.32em\" transform=\"translate(192.30769230769232,130.17482517482517)\">░</text><text y=\"0.32em\" transform=\"translate(7.6923076923076925,145.48951048951048)\">░</text><text y=\"0.32em\" transform=\"translate(23.076923076923077,145.48951048951048)\">░</text><text y=\"0.32em\" transform=\"translate(38.46153846153847,145.48951048951048)\">░</text><text y=\"0.32em\" transform=\"translate(53.84615384615385,145.48951048951048)\">░</text><text y=\"0.32em\" transform=\"translate(69.23076923076923,145.48951048951048)\">░</text><text y=\"0.32em\" transform=\"translate(84.61538461538461,145.48951048951048)\">░</text><text y=\"0.32em\" transform=\"translate(100,145.48951048951048)\">░</text><text y=\"0.32em\" transform=\"translate(115.38461538461537,145.48951048951048)\">░</text><text y=\"0.32em\" transform=\"translate(130.76923076923077,145.48951048951048)\">░</text><text y=\"0.32em\" transform=\"translate(146.15384615384613,145.48951048951048)\">░</text><text y=\"0.32em\" transform=\"translate(161.53846153846155,145.48951048951048)\">░</text><text y=\"0.32em\" transform=\"translate(176.9230769230769,145.48951048951048)\">░</text><text y=\"0.32em\" transform=\"translate(192.30769230769232,145.48951048951048)\">░</text><text y=\"0.32em\" transform=\"translate(7.6923076923076925,160.8041958041958)\">░</text><text y=\"0.32em\" transform=\"translate(23.076923076923077,160.8041958041958)\">░</text><text y=\"0.32em\" transform=\"translate(38.46153846153847,160.8041958041958)\">░</text><text y=\"0.32em\" transform=\"translate(53.84615384615385,160.8041958041958)\">░</text><text y=\"0.32em\" transform=\"translate(69.23076923076923,160.8041958041958)\">░</text><text y=\"0.32em\" transform=\"translate(84.61538461538461,160.8041958041958)\">░</text><text y=\"0.32em\" transform=\"translate(100,160.8041958041958)\">░</text><text y=\"0.32em\" transform=\"translate(115.38461538461537,160.8041958041958)\">░</text><text y=\"0.32em\" transform=\"translate(130.76923076923077,160.8041958041958)\">░</text><text y=\"0.32em\" transform=\"translate(146.15384615384613,160.8041958041958)\">░</text><text y=\"0.32em\" transform=\"translate(161.53846153846155,160.8041958041958)\">░</text><text y=\"0.32em\" transform=\"translate(176.9230769230769,160.8041958041958)\">░</text><text y=\"0.32em\" transform=\"translate(192.30769230769232,160.8041958041958)\">░</text></g></svg></figure>"
      ],
      "text/plain": [
       "<IPython.core.display.HTML object>"
      ]
     },
     "metadata": {},
     "output_type": "display_data"
    }
   ],
   "source": [
    "main_loop_xda = xr.DataArray(outputs_accumulator[\"main_loop\"], dims=[\"row\", \"col\"])\n",
    "text_xda = xr.DataArray(outputs_accumulator[\"maze\"], dims=(\"row\", \"col\"))\n",
    "\n",
    "visualize_puzzle_input_202310(\n",
    "    main_loop_xda,\n",
    "    text_xda=text_xda,\n",
    "    color=dict(legend=True, scheme=\"Observable10\"),\n",
    "    title=\"(Before) Main Loop\",\n",
    "    width=200,\n",
    ")"
   ]
  },
  {
   "cell_type": "markdown",
   "metadata": {},
   "source": [
    "The trick is to replace in pipe symbol of the Main loop by a 3x3 macro-pixel materializing this symbol:\n"
   ]
  },
  {
   "cell_type": "code",
   "execution_count": 9,
   "metadata": {
    "execution": {
     "iopub.execute_input": "2024-05-27T08:54:24.029533Z",
     "iopub.status.busy": "2024-05-27T08:54:24.029195Z",
     "iopub.status.idle": "2024-05-27T08:54:26.006649Z",
     "shell.execute_reply": "2024-05-27T08:54:26.005186Z"
    }
   },
   "outputs": [
    {
     "data": {
      "text/plain": [
       "<xarray.plot.facetgrid.FacetGrid at 0x7ff2948d5d00>"
      ]
     },
     "execution_count": 9,
     "metadata": {},
     "output_type": "execute_result"
    },
    {
     "data": {
      "image/png": "[encoded data removed]",
      "text/plain": [
       "<Figure size 2200x300 with 8 Axes>"
      ]
     },
     "metadata": {},
     "output_type": "display_data"
    }
   ],
   "source": [
    "mapping = get_pipe_to_pattern_mapping()\n",
    "mapping_xda = xr.Dataset(\n",
    "    {k: xr.DataArray(v, dims=(\"row\", \"col\")) for k, v in mapping.items()}\n",
    ").to_array(dim=\"pipe\")\n",
    "mapping_xda.plot(y=\"row\", x=\"col\", col=\"pipe\", yincrease=False)"
   ]
  },
  {
   "cell_type": "code",
   "execution_count": 10,
   "metadata": {
    "execution": {
     "iopub.execute_input": "2024-05-27T08:54:26.011575Z",
     "iopub.status.busy": "2024-05-27T08:54:26.010764Z",
     "iopub.status.idle": "2024-05-27T08:54:26.052278Z",
     "shell.execute_reply": "2024-05-27T08:54:26.050596Z"
    }
   },
   "outputs": [
    {
     "data": {
      "text/html": [
       "<figure class=\"plot-d6a7b5-figure\" style=\"max-width: initial; padding: 0px 5px 5px 5px; color: currentColor; background-color: transparent;\"><h2 style=\"line-height: 28px; font-size: 20px; font-weight: 600; margin: 0px;\">(After) Raster 3x</h2><div class=\"plot-d6a7b5-swatches plot-d6a7b5-swatches-wrap\"><span class=\"plot-d6a7b5-swatch\"><svg width=\"15\" height=\"15\" fill=\"#440154\" xmlns=\"http://www.w3.org/2000/svg\" xmlns:xlink=\"http://www.w3.org/1999/xlink\" style=\"color: currentColor; background-color: transparent;\"><rect width=\"100%\" height=\"100%\"></rect></svg>false</span><span class=\"plot-d6a7b5-swatch\"><svg width=\"15\" height=\"15\" fill=\"#fde725\" xmlns=\"http://www.w3.org/2000/svg\" xmlns:xlink=\"http://www.w3.org/1999/xlink\" style=\"color: currentColor; background-color: transparent;\"><rect width=\"100%\" height=\"100%\"></rect></svg>true</span><style>:where(.plot-d6a7b5-swatches) {\n",
       "  font-family: system-ui, sans-serif;\n",
       "  font-size: 10px;\n",
       "  margin-bottom: 0.5em;\n",
       "}\n",
       ":where(.plot-d6a7b5-swatch > svg) {\n",
       "  margin-right: 0.5em;\n",
       "  overflow: visible;\n",
       "}\n",
       ":where(.plot-d6a7b5-swatches-wrap) {\n",
       "  display: flex;\n",
       "  align-items: center;\n",
       "  min-height: 33px;\n",
       "  flex-wrap: wrap;\n",
       "}\n",
       ":where(.plot-d6a7b5-swatches-wrap .plot-d6a7b5-swatch) {\n",
       "  display: inline-flex;\n",
       "  align-items: center;\n",
       "  margin-right: 1em;\n",
       "}</style></div><svg class=\"plot-d6a7b5\" fill=\"currentColor\" font-family=\"system-ui, sans-serif\" font-size=\"10\" text-anchor=\"middle\" width=\"200\" height=\"168.46153846153845\" viewBox=\"0 0 200 168.46153846153845\" style=\"background-color: rgb(17, 17, 17); color: rgb(238, 238, 238);\" xmlns=\"http://www.w3.org/2000/svg\" xmlns:xlink=\"http://www.w3.org/1999/xlink\"><style>:where(.plot-d6a7b5) {\n",
       "  --plot-background: white;\n",
       "  display: block;\n",
       "  height: auto;\n",
       "  height: intrinsic;\n",
       "  max-width: 100%;\n",
       "}\n",
       ":where(.plot-d6a7b5 text),\n",
       ":where(.plot-d6a7b5 tspan) {\n",
       "  white-space: pre;\n",
       "}</style><g aria-label=\"y-axis tick\" aria-hidden=\"true\" fill=\"none\" stroke=\"currentColor\"><path transform=\"translate(0,153.14685314685315)\" d=\"M0,0L-6,0\"></path><path transform=\"translate(0,127.62237762237761)\" d=\"M0,0L-6,0\"></path><path transform=\"translate(0,102.0979020979021)\" d=\"M0,0L-6,0\"></path><path transform=\"translate(0,76.57342657342657)\" d=\"M0,0L-6,0\"></path><path transform=\"translate(0,51.04895104895105)\" d=\"M0,0L-6,0\"></path><path transform=\"translate(0,25.524475524475523)\" d=\"M0,0L-6,0\"></path><path transform=\"translate(0,0)\" d=\"M0,0L-6,0\"></path></g><g aria-label=\"y-axis tick label\" text-anchor=\"end\" font-variant=\"tabular-nums\" transform=\"translate(-9,0)\"><text y=\"0.32em\" transform=\"translate(0,153.14685314685315)\">30</text><text y=\"0.32em\" transform=\"translate(0,127.62237762237761)\">25</text><text y=\"0.32em\" transform=\"translate(0,102.0979020979021)\">20</text><text y=\"0.32em\" transform=\"translate(0,76.57342657342657)\">15</text><text y=\"0.32em\" transform=\"translate(0,51.04895104895105)\">10</text><text y=\"0.32em\" transform=\"translate(0,25.524475524475523)\">5</text><text y=\"0.32em\" transform=\"translate(0,0)\">0</text></g><g aria-label=\"y-axis label\" text-anchor=\"start\" transform=\"translate(3,3)\"><text y=\"0.71em\" transform=\"translate(0,0)\">↓ row</text></g><g aria-label=\"x-axis tick\" aria-hidden=\"true\" fill=\"none\" stroke=\"currentColor\"><path transform=\"translate(0,0)\" d=\"M0,0L0,-6\"></path><path transform=\"translate(102.56410256410255,0)\" d=\"M0,0L0,-6\"></path></g><g aria-label=\"x-axis tick label\" font-variant=\"tabular-nums\" transform=\"translate(0,-9)\"><text transform=\"translate(0,0)\">0</text><text transform=\"translate(102.56410256410255,0)\">20</text></g><g aria-label=\"x-axis label\" text-anchor=\"end\" transform=\"translate(-3,3)\"><text y=\"0.71em\" transform=\"translate(200,0)\">column →</text></g><g aria-label=\"raster\"><image transform=\"translate(0,0) scale(1,1)\" width=\"200\" height=\"168.46153846153845\" preserveAspectRatio=\"none\" image-rendering=\"pixelated\" href=\"data:image/png;base64,iVBORw0KGgoAAAANSUhEUgAAACcAAAAhCAYAAABa+rIoAAAABmJLR0QA/wD/AP+gvaeTAAAAk0lEQVRYhe2X0QmAMAxEjTiFS7iE4AIu6xgu4Rr664dJ00vFCPd+Q8srRw4qs6xnl5T+awELyqFQDiW13GANt2N/XWAZJ3VmypUORyk9/r+x3mkZsTcNt1zNpRY1j0wdK+VQKIdCOZSqntM66qn/WpS2W04rYEsiWtqpY6UcSmq54kJEti66scIfPwjlUCiHklruAsUrHV8fQICTAAAAAElFTkSuQmCC\"></image></g></svg></figure>"
      ],
      "text/plain": [
       "<IPython.core.display.HTML object>"
      ]
     },
     "metadata": {},
     "output_type": "display_data"
    }
   ],
   "source": [
    "raster_3x_xda = xr.DataArray(outputs_accumulator[\"raster_3x\"], dims=[\"row\", \"col\"])\n",
    "visualize_puzzle_input_202310(\n",
    "    raster_3x_xda,\n",
    "    color=dict(legend=True, scheme=\"viridis\"),\n",
    "    title=\"(After) Raster 3x\",\n",
    "    width=200,\n",
    ")"
   ]
  },
  {
   "cell_type": "markdown",
   "metadata": {},
   "source": [
    "Then, this new raster truly materializes the pipe network.\n"
   ]
  },
  {
   "cell_type": "markdown",
   "metadata": {},
   "source": [
    "To find the inside area is now easy: use a [Flood Fill](https://en.wikipedia.org/wiki/Flood_fill) algorithm, for instance implemented by scipy: [skimage.morphology.flood_fill](https://scikit-image.org/docs/stable/api/skimage.morphology.html#skimage.morphology.flood_fill).\n"
   ]
  },
  {
   "cell_type": "code",
   "execution_count": 11,
   "metadata": {
    "execution": {
     "iopub.execute_input": "2024-05-27T08:54:26.057164Z",
     "iopub.status.busy": "2024-05-27T08:54:26.056646Z",
     "iopub.status.idle": "2024-05-27T08:54:26.101948Z",
     "shell.execute_reply": "2024-05-27T08:54:26.100807Z"
    }
   },
   "outputs": [
    {
     "data": {
      "text/html": [
       "<figure class=\"plot-d6a7b5-figure\" style=\"max-width: initial; padding: 0px 5px 5px 5px; color: currentColor; background-color: transparent;\"><h2 style=\"line-height: 28px; font-size: 20px; font-weight: 600; margin: 0px;\">Filled (flood fill)</h2><div class=\"plot-d6a7b5-swatches plot-d6a7b5-swatches-wrap\"><span class=\"plot-d6a7b5-swatch\"><svg width=\"15\" height=\"15\" fill=\"#4269d0\" xmlns=\"http://www.w3.org/2000/svg\" xmlns:xlink=\"http://www.w3.org/1999/xlink\" style=\"color: currentColor; background-color: transparent;\"><rect width=\"100%\" height=\"100%\"></rect></svg>0</span><span class=\"plot-d6a7b5-swatch\"><svg width=\"15\" height=\"15\" fill=\"#efb118\" xmlns=\"http://www.w3.org/2000/svg\" xmlns:xlink=\"http://www.w3.org/1999/xlink\" style=\"color: currentColor; background-color: transparent;\"><rect width=\"100%\" height=\"100%\"></rect></svg>128</span><span class=\"plot-d6a7b5-swatch\"><svg width=\"15\" height=\"15\" fill=\"#ff725c\" xmlns=\"http://www.w3.org/2000/svg\" xmlns:xlink=\"http://www.w3.org/1999/xlink\" style=\"color: currentColor; background-color: transparent;\"><rect width=\"100%\" height=\"100%\"></rect></svg>255</span><style>:where(.plot-d6a7b5-swatches) {\n",
       "  font-family: system-ui, sans-serif;\n",
       "  font-size: 10px;\n",
       "  margin-bottom: 0.5em;\n",
       "}\n",
       ":where(.plot-d6a7b5-swatch > svg) {\n",
       "  margin-right: 0.5em;\n",
       "  overflow: visible;\n",
       "}\n",
       ":where(.plot-d6a7b5-swatches-wrap) {\n",
       "  display: flex;\n",
       "  align-items: center;\n",
       "  min-height: 33px;\n",
       "  flex-wrap: wrap;\n",
       "}\n",
       ":where(.plot-d6a7b5-swatches-wrap .plot-d6a7b5-swatch) {\n",
       "  display: inline-flex;\n",
       "  align-items: center;\n",
       "  margin-right: 1em;\n",
       "}</style></div><svg class=\"plot-d6a7b5\" fill=\"currentColor\" font-family=\"system-ui, sans-serif\" font-size=\"10\" text-anchor=\"middle\" width=\"200\" height=\"168.46153846153845\" viewBox=\"0 0 200 168.46153846153845\" style=\"background-color: rgb(17, 17, 17); color: rgb(238, 238, 238);\" xmlns=\"http://www.w3.org/2000/svg\" xmlns:xlink=\"http://www.w3.org/1999/xlink\"><style>:where(.plot-d6a7b5) {\n",
       "  --plot-background: white;\n",
       "  display: block;\n",
       "  height: auto;\n",
       "  height: intrinsic;\n",
       "  max-width: 100%;\n",
       "}\n",
       ":where(.plot-d6a7b5 text),\n",
       ":where(.plot-d6a7b5 tspan) {\n",
       "  white-space: pre;\n",
       "}</style><g aria-label=\"y-axis tick\" aria-hidden=\"true\" fill=\"none\" stroke=\"currentColor\"><path transform=\"translate(0,153.14685314685315)\" d=\"M0,0L-6,0\"></path><path transform=\"translate(0,127.62237762237761)\" d=\"M0,0L-6,0\"></path><path transform=\"translate(0,102.0979020979021)\" d=\"M0,0L-6,0\"></path><path transform=\"translate(0,76.57342657342657)\" d=\"M0,0L-6,0\"></path><path transform=\"translate(0,51.04895104895105)\" d=\"M0,0L-6,0\"></path><path transform=\"translate(0,25.524475524475523)\" d=\"M0,0L-6,0\"></path><path transform=\"translate(0,0)\" d=\"M0,0L-6,0\"></path></g><g aria-label=\"y-axis tick label\" text-anchor=\"end\" font-variant=\"tabular-nums\" transform=\"translate(-9,0)\"><text y=\"0.32em\" transform=\"translate(0,153.14685314685315)\">30</text><text y=\"0.32em\" transform=\"translate(0,127.62237762237761)\">25</text><text y=\"0.32em\" transform=\"translate(0,102.0979020979021)\">20</text><text y=\"0.32em\" transform=\"translate(0,76.57342657342657)\">15</text><text y=\"0.32em\" transform=\"translate(0,51.04895104895105)\">10</text><text y=\"0.32em\" transform=\"translate(0,25.524475524475523)\">5</text><text y=\"0.32em\" transform=\"translate(0,0)\">0</text></g><g aria-label=\"y-axis label\" text-anchor=\"start\" transform=\"translate(3,3)\"><text y=\"0.71em\" transform=\"translate(0,0)\">↓ row</text></g><g aria-label=\"x-axis tick\" aria-hidden=\"true\" fill=\"none\" stroke=\"currentColor\"><path transform=\"translate(0,0)\" d=\"M0,0L0,-6\"></path><path transform=\"translate(102.56410256410255,0)\" d=\"M0,0L0,-6\"></path></g><g aria-label=\"x-axis tick label\" font-variant=\"tabular-nums\" transform=\"translate(0,-9)\"><text transform=\"translate(0,0)\">0</text><text transform=\"translate(102.56410256410255,0)\">20</text></g><g aria-label=\"x-axis label\" text-anchor=\"end\" transform=\"translate(-3,3)\"><text y=\"0.71em\" transform=\"translate(200,0)\">column →</text></g><g aria-label=\"raster\"><image transform=\"translate(0,0) scale(1,1)\" width=\"200\" height=\"168.46153846153845\" preserveAspectRatio=\"none\" image-rendering=\"pixelated\" href=\"data:image/png;base64,iVBORw0KGgoAAAANSUhEUgAAACcAAAAhCAYAAABa+rIoAAAABmJLR0QA/wD/AP+gvaeTAAAAoklEQVRYhe2XMRJAMBBFl9HolG6j4EiO4TJ6CieiU9KmkJX8MNbMf+02L/OT3U22jvUhRsm/FtCgHArlUEzLFVqxWrrXBbZm8tZUORGRdu8flXGZy0Gt/zdWl7tTxhCaRrCciH4/Qom5x6ZjpRwK5VAohxLV53w96qr/PTGXg+V8XV2bHKlz2XSslEMxLXf7IFJWpdQ1K+OPH4RyKJRDMS13AhNBHSRrI469AAAAAElFTkSuQmCC\"></image></g></svg></figure>"
      ],
      "text/plain": [
       "<IPython.core.display.HTML object>"
      ]
     },
     "metadata": {},
     "output_type": "display_data"
    }
   ],
   "source": [
    "filled_xda = xr.DataArray(outputs_accumulator[\"filled\"], dims=[\"row\", \"col\"])\n",
    "visualize_puzzle_input_202310(\n",
    "    filled_xda,\n",
    "    color=dict(legend=True, scheme=\"Observable10\"),\n",
    "    title=\"Filled (flood fill)\",\n",
    "    width=200,\n",
    ")"
   ]
  },
  {
   "cell_type": "markdown",
   "metadata": {},
   "source": [
    "The final trick is to go back to the original raster, knowing which pixels are filled.\n",
    "A pixel is considered as filled if its corresponding 3x3 macro-pixel is entirely filled. This excludes the macro-pixels representing pipe from the count.\n"
   ]
  },
  {
   "cell_type": "code",
   "execution_count": 12,
   "metadata": {
    "execution": {
     "iopub.execute_input": "2024-05-27T08:54:26.107042Z",
     "iopub.status.busy": "2024-05-27T08:54:26.106484Z",
     "iopub.status.idle": "2024-05-27T08:54:26.134717Z",
     "shell.execute_reply": "2024-05-27T08:54:26.133563Z"
    }
   },
   "outputs": [
    {
     "data": {
      "text/html": [
       "<figure class=\"plot-d6a7b5-figure\" style=\"max-width: initial; padding: 0px 5px 5px 5px; color: currentColor; background-color: transparent;\"><h2 style=\"line-height: 28px; font-size: 20px; font-weight: 600; margin: 0px;\">Coarsened 3x</h2><div class=\"plot-d6a7b5-swatches plot-d6a7b5-swatches-wrap\"><span class=\"plot-d6a7b5-swatch\"><svg width=\"15\" height=\"15\" fill=\"#440154\" xmlns=\"http://www.w3.org/2000/svg\" xmlns:xlink=\"http://www.w3.org/1999/xlink\" style=\"color: currentColor; background-color: transparent;\"><rect width=\"100%\" height=\"100%\"></rect></svg>false</span><span class=\"plot-d6a7b5-swatch\"><svg width=\"15\" height=\"15\" fill=\"#fde725\" xmlns=\"http://www.w3.org/2000/svg\" xmlns:xlink=\"http://www.w3.org/1999/xlink\" style=\"color: currentColor; background-color: transparent;\"><rect width=\"100%\" height=\"100%\"></rect></svg>true</span><style>:where(.plot-d6a7b5-swatches) {\n",
       "  font-family: system-ui, sans-serif;\n",
       "  font-size: 10px;\n",
       "  margin-bottom: 0.5em;\n",
       "}\n",
       ":where(.plot-d6a7b5-swatch > svg) {\n",
       "  margin-right: 0.5em;\n",
       "  overflow: visible;\n",
       "}\n",
       ":where(.plot-d6a7b5-swatches-wrap) {\n",
       "  display: flex;\n",
       "  align-items: center;\n",
       "  min-height: 33px;\n",
       "  flex-wrap: wrap;\n",
       "}\n",
       ":where(.plot-d6a7b5-swatches-wrap .plot-d6a7b5-swatch) {\n",
       "  display: inline-flex;\n",
       "  align-items: center;\n",
       "  margin-right: 1em;\n",
       "}</style></div><svg class=\"plot-d6a7b5\" fill=\"currentColor\" font-family=\"system-ui, sans-serif\" font-size=\"10\" text-anchor=\"middle\" width=\"200\" height=\"168.46153846153845\" viewBox=\"0 0 200 168.46153846153845\" style=\"background-color: rgb(17, 17, 17); color: rgb(238, 238, 238);\" xmlns=\"http://www.w3.org/2000/svg\" xmlns:xlink=\"http://www.w3.org/1999/xlink\"><style>:where(.plot-d6a7b5) {\n",
       "  --plot-background: white;\n",
       "  display: block;\n",
       "  height: auto;\n",
       "  height: intrinsic;\n",
       "  max-width: 100%;\n",
       "}\n",
       ":where(.plot-d6a7b5 text),\n",
       ":where(.plot-d6a7b5 tspan) {\n",
       "  white-space: pre;\n",
       "}</style><g aria-label=\"y-axis tick\" aria-hidden=\"true\" fill=\"none\" stroke=\"currentColor\"><path transform=\"translate(0,153.14685314685315)\" d=\"M0,0L-6,0\"></path><path transform=\"translate(0,122.51748251748252)\" d=\"M0,0L-6,0\"></path><path transform=\"translate(0,91.88811188811188)\" d=\"M0,0L-6,0\"></path><path transform=\"translate(0,61.25874125874126)\" d=\"M0,0L-6,0\"></path><path transform=\"translate(0,30.62937062937063)\" d=\"M0,0L-6,0\"></path><path transform=\"translate(0,0)\" d=\"M0,0L-6,0\"></path></g><g aria-label=\"y-axis tick label\" text-anchor=\"end\" font-variant=\"tabular-nums\" transform=\"translate(-9,0)\"><text y=\"0.32em\" transform=\"translate(0,153.14685314685315)\">10</text><text y=\"0.32em\" transform=\"translate(0,122.51748251748252)\">8</text><text y=\"0.32em\" transform=\"translate(0,91.88811188811188)\">6</text><text y=\"0.32em\" transform=\"translate(0,61.25874125874126)\">4</text><text y=\"0.32em\" transform=\"translate(0,30.62937062937063)\">2</text><text y=\"0.32em\" transform=\"translate(0,0)\">0</text></g><g aria-label=\"y-axis label\" text-anchor=\"start\" transform=\"translate(3,3)\"><text y=\"0.71em\" transform=\"translate(0,0)\">↓ row</text></g><g aria-label=\"x-axis tick\" aria-hidden=\"true\" fill=\"none\" stroke=\"currentColor\"><path transform=\"translate(0,0)\" d=\"M0,0L0,-6\"></path><path transform=\"translate(76.92307692307693,0)\" d=\"M0,0L0,-6\"></path><path transform=\"translate(153.84615384615387,0)\" d=\"M0,0L0,-6\"></path></g><g aria-label=\"x-axis tick label\" font-variant=\"tabular-nums\" transform=\"translate(0,-9)\"><text transform=\"translate(0,0)\">0</text><text transform=\"translate(76.92307692307693,0)\">5</text><text transform=\"translate(153.84615384615387,0)\">10</text></g><g aria-label=\"x-axis label\" text-anchor=\"end\" transform=\"translate(-3,3)\"><text y=\"0.71em\" transform=\"translate(200,0)\">column →</text></g><g aria-label=\"raster\"><image transform=\"translate(0,0) scale(1,1)\" width=\"200\" height=\"168.46153846153845\" preserveAspectRatio=\"none\" image-rendering=\"pixelated\" href=\"data:image/png;base64,iVBORw0KGgoAAAANSUhEUgAAAA0AAAALCAYAAACksgdhAAAABmJLR0QA/wD/AP+gvaeTAAAAJklEQVQokWN0YQz5z0AiYCJVw6gmXJp2PrvIsPPZRQZCYoyDO54AxI4NBU5uDwoAAAAASUVORK5CYII=\"></image></g></svg></figure>"
      ],
      "text/plain": [
       "<IPython.core.display.HTML object>"
      ]
     },
     "metadata": {},
     "output_type": "display_data"
    }
   ],
   "source": [
    "coarsened_img_xda = xr.DataArray(\n",
    "    outputs_accumulator[\"coarsened_img\"], dims=[\"row\", \"col\"]\n",
    ")\n",
    "visualize_puzzle_input_202310(\n",
    "    coarsened_img_xda == 255,\n",
    "    color=dict(legend=True, scheme=\"viridis\"),\n",
    "    title=\"Coarsened 3x\",\n",
    "    width=200,\n",
    ")"
   ]
  },
  {
   "cell_type": "markdown",
   "metadata": {},
   "source": [
    "#### Recapitulation\n",
    "\n",
    "In the following, we display all the representations of the successive intermediate data structures helping to solve the problem."
   ]
  },
  {
   "cell_type": "code",
   "execution_count": 13,
   "metadata": {
    "execution": {
     "iopub.execute_input": "2024-05-27T08:54:26.139770Z",
     "iopub.status.busy": "2024-05-27T08:54:26.139158Z",
     "iopub.status.idle": "2024-05-27T08:54:26.154716Z",
     "shell.execute_reply": "2024-05-27T08:54:26.153558Z"
    }
   },
   "outputs": [],
   "source": [
    "def visualize_puzzle_input(outputs_accumulator, with_text: bool = True, **kwargs):\n",
    "    min_dist_xda = xr.DataArray(\n",
    "        outputs_accumulator[\"minimum_distances\"], dims=[\"row\", \"col\"]\n",
    "    )\n",
    "    visualize_puzzle_input_202310(\n",
    "        min_dist_xda,\n",
    "        color=dict(legend=True, scheme=\"magma\"),\n",
    "        title=\"Minimum Distances\",\n",
    "        **kwargs,\n",
    "    )\n",
    "\n",
    "    if with_text:\n",
    "        min_dist_text_xda = xr.DataArray(\n",
    "            outputs_accumulator[\"minimum_distances\"], dims=(\"row\", \"col\")\n",
    "        )\n",
    "        visualize_puzzle_input_202310(\n",
    "            min_dist_xda,\n",
    "            text_xda=min_dist_text_xda,\n",
    "            color=dict(legend=True, scheme=\"magma\"),\n",
    "            title=\"Minimum Distances (with values)\",\n",
    "            **kwargs,\n",
    "        )\n",
    "\n",
    "    main_loop_xda = xr.DataArray(outputs_accumulator[\"main_loop\"], dims=[\"row\", \"col\"])\n",
    "    if with_text:\n",
    "        text_xda = xr.DataArray(outputs_accumulator[\"maze\"], dims=(\"row\", \"col\"))\n",
    "    else:\n",
    "        text_xda = None\n",
    "    visualize_puzzle_input_202310(\n",
    "        main_loop_xda,\n",
    "        text_xda=text_xda,\n",
    "        color=dict(legend=True, scheme=\"Observable10\"),\n",
    "        title=\"Main Loop\",\n",
    "        **kwargs,\n",
    "    )\n",
    "\n",
    "    raster_3x_xda = xr.DataArray(outputs_accumulator[\"raster_3x\"], dims=[\"row\", \"col\"])\n",
    "    visualize_puzzle_input_202310(\n",
    "        raster_3x_xda,\n",
    "        color=dict(legend=True, scheme=\"viridis\"),\n",
    "        title=\"Raster 3x\",\n",
    "        **kwargs,\n",
    "    )\n",
    "\n",
    "    filled_xda = xr.DataArray(outputs_accumulator[\"filled\"], dims=[\"row\", \"col\"])\n",
    "    visualize_puzzle_input_202310(\n",
    "        filled_xda,\n",
    "        color=dict(legend=True, scheme=\"Observable10\"),\n",
    "        title=\"Filled (flood fill)\",\n",
    "        **kwargs,\n",
    "    )\n",
    "\n",
    "    coarsened_img_xda = xr.DataArray(\n",
    "        outputs_accumulator[\"coarsened_img\"], dims=[\"row\", \"col\"]\n",
    "    )\n",
    "    visualize_puzzle_input_202310(\n",
    "        coarsened_img_xda == 255,\n",
    "        color=dict(legend=True, scheme=\"viridis\"),\n",
    "        title=\"Coarsened 3x\",\n",
    "        **kwargs,\n",
    "    )"
   ]
  },
  {
   "cell_type": "code",
   "execution_count": 14,
   "metadata": {
    "execution": {
     "iopub.execute_input": "2024-05-27T08:54:26.159813Z",
     "iopub.status.busy": "2024-05-27T08:54:26.158941Z",
     "iopub.status.idle": "2024-05-27T08:54:26.378625Z",
     "shell.execute_reply": "2024-05-27T08:54:26.377345Z"
    }
   },
   "outputs": [
    {
     "name": "stdout",
     "output_type": "stream",
     "text": [
      "Current recursion limit:\n",
      "15000\n",
      "New recursion limit:\n",
      "15000\n",
      "Skipped top\n",
      "Skipped left\n",
      "Text Input\n",
      "░░░░░░░░░░░░░\n",
      "░░░░░░░░░░░░░\n",
      "░░S───────┐░░\n",
      "░░│┌─────┐│░░\n",
      "░░││░░░░░││░░\n",
      "░░││░░░░░││░░\n",
      "░░│└─┐░┌─┘│░░\n",
      "░░│░░│░│░░│░░\n",
      "░░└──┘░└──┘░░\n",
      "░░░░░░░░░░░░░\n",
      "░░░░░░░░░░░░░\n"
     ]
    },
    {
     "data": {
      "text/html": [
       "<figure class=\"plot-d6a7b5-figure\" style=\"max-width: initial; padding: 0px 5px 5px 5px; color: currentColor; background-color: transparent;\"><h2 style=\"line-height: 28px; font-size: 20px; font-weight: 600; margin: 0px;\">Minimum Distances</h2><svg class=\"plot-d6a7b5-ramp\" font-family=\"system-ui, sans-serif\" font-size=\"10\" width=\"240\" height=\"50\" viewBox=\"0 0 240 50\" xmlns=\"http://www.w3.org/2000/svg\" xmlns:xlink=\"http://www.w3.org/1999/xlink\" style=\"color: currentColor; background-color: transparent;\"><style>:where(.plot-d6a7b5-ramp) {\n",
       "  display: block;\n",
       "  height: auto;\n",
       "  height: intrinsic;\n",
       "  max-width: 100%;\n",
       "  overflow: visible;\n",
       "}\n",
       ":where(.plot-d6a7b5-ramp text) {\n",
       "  white-space: pre;\n",
       "}</style><image x=\"0\" y=\"18\" width=\"240\" height=\"10\" preserveAspectRatio=\"none\" href=\"data:image/png;base64,iVBORw0KGgoAAAANSUhEUgAAAQAAAAABCAYAAAAxWXB3AAAABmJLR0QA/wD/AP+gvaeTAAAAvklEQVQ4jW2SSwLEMAhCgc79r+ws/Leu8gQ0TVICPyMIkAAEZzlTAB6QAqv2dWrNntXSn+WXh+QHRPQguLQHMhVnTtDQvZPW7KcYTAbDHaaOtYqILLbH7EvGkUVlJ1c250ftbFs7+nq+1T7t2ytnw7djHzuyVrO+2c35HZOZGaZuPT/ryFOtMWeomRfLf8dkKH0A5TXvNS8qOC6H6kfgerjUdh0HPHQtf9XL00vToQ/moYVupc/8V7Olac2Y9R/4sC65xxNF4gAAAABJRU5ErkJggg==\"></image><g transform=\"translate(0,28)\" fill=\"none\" text-anchor=\"middle\" font-variant=\"tabular-nums\"><g class=\"tick\" opacity=\"1\" transform=\"translate(10.5,0)\"><line stroke=\"currentColor\" y2=\"6\" y1=\"-10\"></line><text fill=\"currentColor\" y=\"9\" dy=\"0.71em\">0</text></g><g class=\"tick\" opacity=\"1\" transform=\"translate(60.5,0)\"><line stroke=\"currentColor\" y2=\"6\" y1=\"-10\"></line><text fill=\"currentColor\" y=\"9\" dy=\"0.71em\">5</text></g><g class=\"tick\" opacity=\"1\" transform=\"translate(110.5,0)\"><line stroke=\"currentColor\" y2=\"6\" y1=\"-10\"></line><text fill=\"currentColor\" y=\"9\" dy=\"0.71em\">10</text></g><g class=\"tick\" opacity=\"1\" transform=\"translate(160.5,0)\"><line stroke=\"currentColor\" y2=\"6\" y1=\"-10\"></line><text fill=\"currentColor\" y=\"9\" dy=\"0.71em\">15</text></g><g class=\"tick\" opacity=\"1\" transform=\"translate(210.5,0)\"><line stroke=\"currentColor\" y2=\"6\" y1=\"-10\"></line><text fill=\"currentColor\" y=\"9\" dy=\"0.71em\">20</text></g></g></svg><svg class=\"plot-d6a7b5\" fill=\"currentColor\" font-family=\"system-ui, sans-serif\" font-size=\"10\" text-anchor=\"middle\" width=\"200\" height=\"168.46153846153845\" viewBox=\"0 0 200 168.46153846153845\" style=\"background-color: rgb(17, 17, 17); color: rgb(238, 238, 238);\" xmlns=\"http://www.w3.org/2000/svg\" xmlns:xlink=\"http://www.w3.org/1999/xlink\"><style>:where(.plot-d6a7b5) {\n",
       "  --plot-background: white;\n",
       "  display: block;\n",
       "  height: auto;\n",
       "  height: intrinsic;\n",
       "  max-width: 100%;\n",
       "}\n",
       ":where(.plot-d6a7b5 text),\n",
       ":where(.plot-d6a7b5 tspan) {\n",
       "  white-space: pre;\n",
       "}</style><g aria-label=\"y-axis tick\" aria-hidden=\"true\" fill=\"none\" stroke=\"currentColor\"><path transform=\"translate(0,153.14685314685315)\" d=\"M0,0L-6,0\"></path><path transform=\"translate(0,122.51748251748252)\" d=\"M0,0L-6,0\"></path><path transform=\"translate(0,91.88811188811188)\" d=\"M0,0L-6,0\"></path><path transform=\"translate(0,61.25874125874126)\" d=\"M0,0L-6,0\"></path><path transform=\"translate(0,30.62937062937063)\" d=\"M0,0L-6,0\"></path><path transform=\"translate(0,0)\" d=\"M0,0L-6,0\"></path></g><g aria-label=\"y-axis tick label\" text-anchor=\"end\" font-variant=\"tabular-nums\" transform=\"translate(-9,0)\"><text y=\"0.32em\" transform=\"translate(0,153.14685314685315)\">10</text><text y=\"0.32em\" transform=\"translate(0,122.51748251748252)\">8</text><text y=\"0.32em\" transform=\"translate(0,91.88811188811188)\">6</text><text y=\"0.32em\" transform=\"translate(0,61.25874125874126)\">4</text><text y=\"0.32em\" transform=\"translate(0,30.62937062937063)\">2</text><text y=\"0.32em\" transform=\"translate(0,0)\">0</text></g><g aria-label=\"y-axis label\" text-anchor=\"start\" transform=\"translate(3,3)\"><text y=\"0.71em\" transform=\"translate(0,0)\">↓ row</text></g><g aria-label=\"x-axis tick\" aria-hidden=\"true\" fill=\"none\" stroke=\"currentColor\"><path transform=\"translate(0,0)\" d=\"M0,0L0,-6\"></path><path transform=\"translate(76.92307692307693,0)\" d=\"M0,0L0,-6\"></path><path transform=\"translate(153.84615384615387,0)\" d=\"M0,0L0,-6\"></path></g><g aria-label=\"x-axis tick label\" font-variant=\"tabular-nums\" transform=\"translate(0,-9)\"><text transform=\"translate(0,0)\">0</text><text transform=\"translate(76.92307692307693,0)\">5</text><text transform=\"translate(153.84615384615387,0)\">10</text></g><g aria-label=\"x-axis label\" text-anchor=\"end\" transform=\"translate(-3,3)\"><text y=\"0.71em\" transform=\"translate(200,0)\">column →</text></g><g aria-label=\"raster\"><image transform=\"translate(0,0) scale(1,1)\" width=\"200\" height=\"168.46153846153845\" preserveAspectRatio=\"none\" image-rendering=\"pixelated\" href=\"data:image/png;base64,iVBORw0KGgoAAAANSUhEUgAAAA0AAAALCAYAAACksgdhAAAABmJLR0QA/wD/AP+gvaeTAAAA+ElEQVQokb3RsUrDUBTG8f+1N/dKakhybyqlPkGH4uwinRx9Axe3UgRfwMUHEBfdnJwUV2fBxcnN2VkwDdpASm4lcRArEpcunuksP87H+YQn12uWnJVlAYD8XuYfGVG7T6B6hHSxlcW0fEIlMVoQazh+PvuNonafl9EmsuMhjI/oKEjWwMbUieV8+NS8FKgeZSoITm8bcWblFUZVTRTSpZjKBgAQ2QSj5k1kK8t77rjf2uPNKXYfLyhv9iGJIJ0QKbdAi++Zls/g7prth0sy5wFQv+bo4Ql6cES8Wv4RT0kONsbEGjL3VV2dFeSHO5SpoJjOfuL+W7mfXgxA093RaCkAAAAASUVORK5CYII=\"></image></g></svg></figure>"
      ],
      "text/plain": [
       "<IPython.core.display.HTML object>"
      ]
     },
     "metadata": {},
     "output_type": "display_data"
    },
    {
     "data": {
      "text/html": [
       "<figure class=\"plot-d6a7b5-figure\" style=\"max-width: initial; padding: 0px 5px 5px 5px; color: currentColor; background-color: transparent;\"><h2 style=\"line-height: 28px; font-size: 20px; font-weight: 600; margin: 0px;\">Minimum Distances (with values)</h2><svg class=\"plot-d6a7b5-ramp\" font-family=\"system-ui, sans-serif\" font-size=\"10\" width=\"240\" height=\"50\" viewBox=\"0 0 240 50\" xmlns=\"http://www.w3.org/2000/svg\" xmlns:xlink=\"http://www.w3.org/1999/xlink\" style=\"color: currentColor; background-color: transparent;\"><style>:where(.plot-d6a7b5-ramp) {\n",
       "  display: block;\n",
       "  height: auto;\n",
       "  height: intrinsic;\n",
       "  max-width: 100%;\n",
       "  overflow: visible;\n",
       "}\n",
       ":where(.plot-d6a7b5-ramp text) {\n",
       "  white-space: pre;\n",
       "}</style><image x=\"0\" y=\"18\" width=\"240\" height=\"10\" preserveAspectRatio=\"none\" href=\"data:image/png;base64,iVBORw0KGgoAAAANSUhEUgAAAQAAAAABCAYAAAAxWXB3AAAABmJLR0QA/wD/AP+gvaeTAAAAvklEQVQ4jW2SSwLEMAhCgc79r+ws/Leu8gQ0TVICPyMIkAAEZzlTAB6QAqv2dWrNntXSn+WXh+QHRPQguLQHMhVnTtDQvZPW7KcYTAbDHaaOtYqILLbH7EvGkUVlJ1c250ftbFs7+nq+1T7t2ytnw7djHzuyVrO+2c35HZOZGaZuPT/ryFOtMWeomRfLf8dkKH0A5TXvNS8qOC6H6kfgerjUdh0HPHQtf9XL00vToQ/moYVupc/8V7Olac2Y9R/4sC65xxNF4gAAAABJRU5ErkJggg==\"></image><g transform=\"translate(0,28)\" fill=\"none\" text-anchor=\"middle\" font-variant=\"tabular-nums\"><g class=\"tick\" opacity=\"1\" transform=\"translate(10.5,0)\"><line stroke=\"currentColor\" y2=\"6\" y1=\"-10\"></line><text fill=\"currentColor\" y=\"9\" dy=\"0.71em\">0</text></g><g class=\"tick\" opacity=\"1\" transform=\"translate(60.5,0)\"><line stroke=\"currentColor\" y2=\"6\" y1=\"-10\"></line><text fill=\"currentColor\" y=\"9\" dy=\"0.71em\">5</text></g><g class=\"tick\" opacity=\"1\" transform=\"translate(110.5,0)\"><line stroke=\"currentColor\" y2=\"6\" y1=\"-10\"></line><text fill=\"currentColor\" y=\"9\" dy=\"0.71em\">10</text></g><g class=\"tick\" opacity=\"1\" transform=\"translate(160.5,0)\"><line stroke=\"currentColor\" y2=\"6\" y1=\"-10\"></line><text fill=\"currentColor\" y=\"9\" dy=\"0.71em\">15</text></g><g class=\"tick\" opacity=\"1\" transform=\"translate(210.5,0)\"><line stroke=\"currentColor\" y2=\"6\" y1=\"-10\"></line><text fill=\"currentColor\" y=\"9\" dy=\"0.71em\">20</text></g></g></svg><svg class=\"plot-d6a7b5\" fill=\"currentColor\" font-family=\"system-ui, sans-serif\" font-size=\"10\" text-anchor=\"middle\" width=\"200\" height=\"168.46153846153845\" viewBox=\"0 0 200 168.46153846153845\" style=\"background-color: rgb(17, 17, 17); color: rgb(238, 238, 238);\" xmlns=\"http://www.w3.org/2000/svg\" xmlns:xlink=\"http://www.w3.org/1999/xlink\"><style>:where(.plot-d6a7b5) {\n",
       "  --plot-background: white;\n",
       "  display: block;\n",
       "  height: auto;\n",
       "  height: intrinsic;\n",
       "  max-width: 100%;\n",
       "}\n",
       ":where(.plot-d6a7b5 text),\n",
       ":where(.plot-d6a7b5 tspan) {\n",
       "  white-space: pre;\n",
       "}</style><g aria-label=\"y-axis tick\" aria-hidden=\"true\" fill=\"none\" stroke=\"currentColor\"><path transform=\"translate(0,153.14685314685315)\" d=\"M0,0L-6,0\"></path><path transform=\"translate(0,122.51748251748252)\" d=\"M0,0L-6,0\"></path><path transform=\"translate(0,91.88811188811188)\" d=\"M0,0L-6,0\"></path><path transform=\"translate(0,61.25874125874126)\" d=\"M0,0L-6,0\"></path><path transform=\"translate(0,30.62937062937063)\" d=\"M0,0L-6,0\"></path><path transform=\"translate(0,0)\" d=\"M0,0L-6,0\"></path></g><g aria-label=\"y-axis tick label\" text-anchor=\"end\" font-variant=\"tabular-nums\" transform=\"translate(-9,0)\"><text y=\"0.32em\" transform=\"translate(0,153.14685314685315)\">10</text><text y=\"0.32em\" transform=\"translate(0,122.51748251748252)\">8</text><text y=\"0.32em\" transform=\"translate(0,91.88811188811188)\">6</text><text y=\"0.32em\" transform=\"translate(0,61.25874125874126)\">4</text><text y=\"0.32em\" transform=\"translate(0,30.62937062937063)\">2</text><text y=\"0.32em\" transform=\"translate(0,0)\">0</text></g><g aria-label=\"y-axis label\" text-anchor=\"start\" transform=\"translate(3,3)\"><text y=\"0.71em\" transform=\"translate(0,0)\">↓ row</text></g><g aria-label=\"x-axis tick\" aria-hidden=\"true\" fill=\"none\" stroke=\"currentColor\"><path transform=\"translate(0,0)\" d=\"M0,0L0,-6\"></path><path transform=\"translate(76.92307692307693,0)\" d=\"M0,0L0,-6\"></path><path transform=\"translate(153.84615384615387,0)\" d=\"M0,0L0,-6\"></path></g><g aria-label=\"x-axis tick label\" font-variant=\"tabular-nums\" transform=\"translate(0,-9)\"><text transform=\"translate(0,0)\">0</text><text transform=\"translate(76.92307692307693,0)\">5</text><text transform=\"translate(153.84615384615387,0)\">10</text></g><g aria-label=\"x-axis label\" text-anchor=\"end\" transform=\"translate(-3,3)\"><text y=\"0.71em\" transform=\"translate(200,0)\">column →</text></g><g aria-label=\"raster\"><image transform=\"translate(0,0) scale(1,1)\" width=\"200\" height=\"168.46153846153845\" preserveAspectRatio=\"none\" image-rendering=\"pixelated\" href=\"data:image/png;base64,iVBORw0KGgoAAAANSUhEUgAAAA0AAAALCAYAAACksgdhAAAABmJLR0QA/wD/AP+gvaeTAAAA+ElEQVQokb3RsUrDUBTG8f+1N/dKakhybyqlPkGH4uwinRx9Axe3UgRfwMUHEBfdnJwUV2fBxcnN2VkwDdpASm4lcRArEpcunuksP87H+YQn12uWnJVlAYD8XuYfGVG7T6B6hHSxlcW0fEIlMVoQazh+PvuNonafl9EmsuMhjI/oKEjWwMbUieV8+NS8FKgeZSoITm8bcWblFUZVTRTSpZjKBgAQ2QSj5k1kK8t77rjf2uPNKXYfLyhv9iGJIJ0QKbdAi++Zls/g7prth0sy5wFQv+bo4Ql6cES8Wv4RT0kONsbEGjL3VV2dFeSHO5SpoJjOfuL+W7mfXgxA093RaCkAAAAASUVORK5CYII=\"></image></g><g aria-label=\"text\" font-size=\"12.666666666666666\" font-variant=\"tabular-nums\"><text y=\"0.32em\" transform=\"translate(7.6923076923076925,7.6573426573426575)\">0</text><text y=\"0.32em\" transform=\"translate(23.076923076923077,7.6573426573426575)\">0</text><text y=\"0.32em\" transform=\"translate(38.46153846153847,7.6573426573426575)\">0</text><text y=\"0.32em\" transform=\"translate(53.84615384615385,7.6573426573426575)\">0</text><text y=\"0.32em\" transform=\"translate(69.23076923076923,7.6573426573426575)\">0</text><text y=\"0.32em\" transform=\"translate(84.61538461538461,7.6573426573426575)\">0</text><text y=\"0.32em\" transform=\"translate(100,7.6573426573426575)\">0</text><text y=\"0.32em\" transform=\"translate(115.38461538461537,7.6573426573426575)\">0</text><text y=\"0.32em\" transform=\"translate(130.76923076923077,7.6573426573426575)\">0</text><text y=\"0.32em\" transform=\"translate(146.15384615384613,7.6573426573426575)\">0</text><text y=\"0.32em\" transform=\"translate(161.53846153846155,7.6573426573426575)\">0</text><text y=\"0.32em\" transform=\"translate(176.9230769230769,7.6573426573426575)\">0</text><text y=\"0.32em\" transform=\"translate(192.30769230769232,7.6573426573426575)\">0</text><text y=\"0.32em\" transform=\"translate(7.6923076923076925,22.97202797202797)\">0</text><text y=\"0.32em\" transform=\"translate(23.076923076923077,22.97202797202797)\">0</text><text y=\"0.32em\" transform=\"translate(38.46153846153847,22.97202797202797)\">0</text><text y=\"0.32em\" transform=\"translate(53.84615384615385,22.97202797202797)\">0</text><text y=\"0.32em\" transform=\"translate(69.23076923076923,22.97202797202797)\">0</text><text y=\"0.32em\" transform=\"translate(84.61538461538461,22.97202797202797)\">0</text><text y=\"0.32em\" transform=\"translate(100,22.97202797202797)\">0</text><text y=\"0.32em\" transform=\"translate(115.38461538461537,22.97202797202797)\">0</text><text y=\"0.32em\" transform=\"translate(130.76923076923077,22.97202797202797)\">0</text><text y=\"0.32em\" transform=\"translate(146.15384615384613,22.97202797202797)\">0</text><text y=\"0.32em\" transform=\"translate(161.53846153846155,22.97202797202797)\">0</text><text y=\"0.32em\" transform=\"translate(176.9230769230769,22.97202797202797)\">0</text><text y=\"0.32em\" transform=\"translate(192.30769230769232,22.97202797202797)\">0</text><text y=\"0.32em\" transform=\"translate(7.6923076923076925,38.28671328671329)\">0</text><text y=\"0.32em\" transform=\"translate(23.076923076923077,38.28671328671329)\">0</text><text y=\"0.32em\" transform=\"translate(38.46153846153847,38.28671328671329)\">-1</text><text y=\"0.32em\" transform=\"translate(53.84615384615385,38.28671328671329)\">1</text><text y=\"0.32em\" transform=\"translate(69.23076923076923,38.28671328671329)\">2</text><text y=\"0.32em\" transform=\"translate(84.61538461538461,38.28671328671329)\">3</text><text y=\"0.32em\" transform=\"translate(100,38.28671328671329)\">4</text><text y=\"0.32em\" transform=\"translate(115.38461538461537,38.28671328671329)\">5</text><text y=\"0.32em\" transform=\"translate(130.76923076923077,38.28671328671329)\">6</text><text y=\"0.32em\" transform=\"translate(146.15384615384613,38.28671328671329)\">7</text><text y=\"0.32em\" transform=\"translate(161.53846153846155,38.28671328671329)\">8</text><text y=\"0.32em\" transform=\"translate(176.9230769230769,38.28671328671329)\">0</text><text y=\"0.32em\" transform=\"translate(192.30769230769232,38.28671328671329)\">0</text><text y=\"0.32em\" transform=\"translate(7.6923076923076925,53.6013986013986)\">0</text><text y=\"0.32em\" transform=\"translate(23.076923076923077,53.6013986013986)\">0</text><text y=\"0.32em\" transform=\"translate(38.46153846153847,53.6013986013986)\">1</text><text y=\"0.32em\" transform=\"translate(53.84615384615385,53.6013986013986)\">16</text><text y=\"0.32em\" transform=\"translate(69.23076923076923,53.6013986013986)\">17</text><text y=\"0.32em\" transform=\"translate(84.61538461538461,53.6013986013986)\">18</text><text y=\"0.32em\" transform=\"translate(100,53.6013986013986)\">19</text><text y=\"0.32em\" transform=\"translate(115.38461538461537,53.6013986013986)\">20</text><text y=\"0.32em\" transform=\"translate(130.76923076923077,53.6013986013986)\">21</text><text y=\"0.32em\" transform=\"translate(146.15384615384613,53.6013986013986)\">22</text><text y=\"0.32em\" transform=\"translate(161.53846153846155,53.6013986013986)\">9</text><text y=\"0.32em\" transform=\"translate(176.9230769230769,53.6013986013986)\">0</text><text y=\"0.32em\" transform=\"translate(192.30769230769232,53.6013986013986)\">0</text><text y=\"0.32em\" transform=\"translate(7.6923076923076925,68.91608391608392)\">0</text><text y=\"0.32em\" transform=\"translate(23.076923076923077,68.91608391608392)\">0</text><text y=\"0.32em\" transform=\"translate(38.46153846153847,68.91608391608392)\">2</text><text y=\"0.32em\" transform=\"translate(53.84615384615385,68.91608391608392)\">15</text><text y=\"0.32em\" transform=\"translate(69.23076923076923,68.91608391608392)\">0</text><text y=\"0.32em\" transform=\"translate(84.61538461538461,68.91608391608392)\">0</text><text y=\"0.32em\" transform=\"translate(100,68.91608391608392)\">0</text><text y=\"0.32em\" transform=\"translate(115.38461538461537,68.91608391608392)\">0</text><text y=\"0.32em\" transform=\"translate(130.76923076923077,68.91608391608392)\">0</text><text y=\"0.32em\" transform=\"translate(146.15384615384613,68.91608391608392)\">23</text><text y=\"0.32em\" transform=\"translate(161.53846153846155,68.91608391608392)\">10</text><text y=\"0.32em\" transform=\"translate(176.9230769230769,68.91608391608392)\">0</text><text y=\"0.32em\" transform=\"translate(192.30769230769232,68.91608391608392)\">0</text><text y=\"0.32em\" transform=\"translate(7.6923076923076925,84.23076923076923)\">0</text><text y=\"0.32em\" transform=\"translate(23.076923076923077,84.23076923076923)\">0</text><text y=\"0.32em\" transform=\"translate(38.46153846153847,84.23076923076923)\">3</text><text y=\"0.32em\" transform=\"translate(53.84615384615385,84.23076923076923)\">14</text><text y=\"0.32em\" transform=\"translate(69.23076923076923,84.23076923076923)\">0</text><text y=\"0.32em\" transform=\"translate(84.61538461538461,84.23076923076923)\">0</text><text y=\"0.32em\" transform=\"translate(100,84.23076923076923)\">0</text><text y=\"0.32em\" transform=\"translate(115.38461538461537,84.23076923076923)\">0</text><text y=\"0.32em\" transform=\"translate(130.76923076923077,84.23076923076923)\">0</text><text y=\"0.32em\" transform=\"translate(146.15384615384613,84.23076923076923)\">22</text><text y=\"0.32em\" transform=\"translate(161.53846153846155,84.23076923076923)\">11</text><text y=\"0.32em\" transform=\"translate(176.9230769230769,84.23076923076923)\">0</text><text y=\"0.32em\" transform=\"translate(192.30769230769232,84.23076923076923)\">0</text><text y=\"0.32em\" transform=\"translate(7.6923076923076925,99.54545454545455)\">0</text><text y=\"0.32em\" transform=\"translate(23.076923076923077,99.54545454545455)\">0</text><text y=\"0.32em\" transform=\"translate(38.46153846153847,99.54545454545455)\">4</text><text y=\"0.32em\" transform=\"translate(53.84615384615385,99.54545454545455)\">13</text><text y=\"0.32em\" transform=\"translate(69.23076923076923,99.54545454545455)\">12</text><text y=\"0.32em\" transform=\"translate(84.61538461538461,99.54545454545455)\">11</text><text y=\"0.32em\" transform=\"translate(100,99.54545454545455)\">0</text><text y=\"0.32em\" transform=\"translate(115.38461538461537,99.54545454545455)\">19</text><text y=\"0.32em\" transform=\"translate(130.76923076923077,99.54545454545455)\">20</text><text y=\"0.32em\" transform=\"translate(146.15384615384613,99.54545454545455)\">21</text><text y=\"0.32em\" transform=\"translate(161.53846153846155,99.54545454545455)\">12</text><text y=\"0.32em\" transform=\"translate(176.9230769230769,99.54545454545455)\">0</text><text y=\"0.32em\" transform=\"translate(192.30769230769232,99.54545454545455)\">0</text><text y=\"0.32em\" transform=\"translate(7.6923076923076925,114.86013986013984)\">0</text><text y=\"0.32em\" transform=\"translate(23.076923076923077,114.86013986013984)\">0</text><text y=\"0.32em\" transform=\"translate(38.46153846153847,114.86013986013984)\">5</text><text y=\"0.32em\" transform=\"translate(53.84615384615385,114.86013986013984)\">0</text><text y=\"0.32em\" transform=\"translate(69.23076923076923,114.86013986013984)\">0</text><text y=\"0.32em\" transform=\"translate(84.61538461538461,114.86013986013984)\">10</text><text y=\"0.32em\" transform=\"translate(100,114.86013986013984)\">0</text><text y=\"0.32em\" transform=\"translate(115.38461538461537,114.86013986013984)\">18</text><text y=\"0.32em\" transform=\"translate(130.76923076923077,114.86013986013984)\">0</text><text y=\"0.32em\" transform=\"translate(146.15384615384613,114.86013986013984)\">0</text><text y=\"0.32em\" transform=\"translate(161.53846153846155,114.86013986013984)\">13</text><text y=\"0.32em\" transform=\"translate(176.9230769230769,114.86013986013984)\">0</text><text y=\"0.32em\" transform=\"translate(192.30769230769232,114.86013986013984)\">0</text><text y=\"0.32em\" transform=\"translate(7.6923076923076925,130.17482517482517)\">0</text><text y=\"0.32em\" transform=\"translate(23.076923076923077,130.17482517482517)\">0</text><text y=\"0.32em\" transform=\"translate(38.46153846153847,130.17482517482517)\">6</text><text y=\"0.32em\" transform=\"translate(53.84615384615385,130.17482517482517)\">7</text><text y=\"0.32em\" transform=\"translate(69.23076923076923,130.17482517482517)\">8</text><text y=\"0.32em\" transform=\"translate(84.61538461538461,130.17482517482517)\">9</text><text y=\"0.32em\" transform=\"translate(100,130.17482517482517)\">0</text><text y=\"0.32em\" transform=\"translate(115.38461538461537,130.17482517482517)\">17</text><text y=\"0.32em\" transform=\"translate(130.76923076923077,130.17482517482517)\">16</text><text y=\"0.32em\" transform=\"translate(146.15384615384613,130.17482517482517)\">15</text><text y=\"0.32em\" transform=\"translate(161.53846153846155,130.17482517482517)\">14</text><text y=\"0.32em\" transform=\"translate(176.9230769230769,130.17482517482517)\">0</text><text y=\"0.32em\" transform=\"translate(192.30769230769232,130.17482517482517)\">0</text><text y=\"0.32em\" transform=\"translate(7.6923076923076925,145.48951048951048)\">0</text><text y=\"0.32em\" transform=\"translate(23.076923076923077,145.48951048951048)\">0</text><text y=\"0.32em\" transform=\"translate(38.46153846153847,145.48951048951048)\">0</text><text y=\"0.32em\" transform=\"translate(53.84615384615385,145.48951048951048)\">0</text><text y=\"0.32em\" transform=\"translate(69.23076923076923,145.48951048951048)\">0</text><text y=\"0.32em\" transform=\"translate(84.61538461538461,145.48951048951048)\">0</text><text y=\"0.32em\" transform=\"translate(100,145.48951048951048)\">0</text><text y=\"0.32em\" transform=\"translate(115.38461538461537,145.48951048951048)\">0</text><text y=\"0.32em\" transform=\"translate(130.76923076923077,145.48951048951048)\">0</text><text y=\"0.32em\" transform=\"translate(146.15384615384613,145.48951048951048)\">0</text><text y=\"0.32em\" transform=\"translate(161.53846153846155,145.48951048951048)\">0</text><text y=\"0.32em\" transform=\"translate(176.9230769230769,145.48951048951048)\">0</text><text y=\"0.32em\" transform=\"translate(192.30769230769232,145.48951048951048)\">0</text><text y=\"0.32em\" transform=\"translate(7.6923076923076925,160.8041958041958)\">0</text><text y=\"0.32em\" transform=\"translate(23.076923076923077,160.8041958041958)\">0</text><text y=\"0.32em\" transform=\"translate(38.46153846153847,160.8041958041958)\">0</text><text y=\"0.32em\" transform=\"translate(53.84615384615385,160.8041958041958)\">0</text><text y=\"0.32em\" transform=\"translate(69.23076923076923,160.8041958041958)\">0</text><text y=\"0.32em\" transform=\"translate(84.61538461538461,160.8041958041958)\">0</text><text y=\"0.32em\" transform=\"translate(100,160.8041958041958)\">0</text><text y=\"0.32em\" transform=\"translate(115.38461538461537,160.8041958041958)\">0</text><text y=\"0.32em\" transform=\"translate(130.76923076923077,160.8041958041958)\">0</text><text y=\"0.32em\" transform=\"translate(146.15384615384613,160.8041958041958)\">0</text><text y=\"0.32em\" transform=\"translate(161.53846153846155,160.8041958041958)\">0</text><text y=\"0.32em\" transform=\"translate(176.9230769230769,160.8041958041958)\">0</text><text y=\"0.32em\" transform=\"translate(192.30769230769232,160.8041958041958)\">0</text></g></svg></figure>"
      ],
      "text/plain": [
       "<IPython.core.display.HTML object>"
      ]
     },
     "metadata": {},
     "output_type": "display_data"
    },
    {
     "data": {
      "text/html": [
       "<figure class=\"plot-d6a7b5-figure\" style=\"max-width: initial; padding: 0px 5px 5px 5px; color: currentColor; background-color: transparent;\"><h2 style=\"line-height: 28px; font-size: 20px; font-weight: 600; margin: 0px;\">Main Loop</h2><div class=\"plot-d6a7b5-swatches plot-d6a7b5-swatches-wrap\"><span class=\"plot-d6a7b5-swatch\"><svg width=\"15\" height=\"15\" fill=\"#4269d0\" xmlns=\"http://www.w3.org/2000/svg\" xmlns:xlink=\"http://www.w3.org/1999/xlink\" style=\"color: currentColor; background-color: transparent;\"><rect width=\"100%\" height=\"100%\"></rect></svg>─</span><span class=\"plot-d6a7b5-swatch\"><svg width=\"15\" height=\"15\" fill=\"#efb118\" xmlns=\"http://www.w3.org/2000/svg\" xmlns:xlink=\"http://www.w3.org/1999/xlink\" style=\"color: currentColor; background-color: transparent;\"><rect width=\"100%\" height=\"100%\"></rect></svg>│</span><span class=\"plot-d6a7b5-swatch\"><svg width=\"15\" height=\"15\" fill=\"#ff725c\" xmlns=\"http://www.w3.org/2000/svg\" xmlns:xlink=\"http://www.w3.org/1999/xlink\" style=\"color: currentColor; background-color: transparent;\"><rect width=\"100%\" height=\"100%\"></rect></svg>┌</span><span class=\"plot-d6a7b5-swatch\"><svg width=\"15\" height=\"15\" fill=\"#6cc5b0\" xmlns=\"http://www.w3.org/2000/svg\" xmlns:xlink=\"http://www.w3.org/1999/xlink\" style=\"color: currentColor; background-color: transparent;\"><rect width=\"100%\" height=\"100%\"></rect></svg>┐</span><span class=\"plot-d6a7b5-swatch\"><svg width=\"15\" height=\"15\" fill=\"#3ca951\" xmlns=\"http://www.w3.org/2000/svg\" xmlns:xlink=\"http://www.w3.org/1999/xlink\" style=\"color: currentColor; background-color: transparent;\"><rect width=\"100%\" height=\"100%\"></rect></svg>└</span><span class=\"plot-d6a7b5-swatch\"><svg width=\"15\" height=\"15\" fill=\"#ff8ab7\" xmlns=\"http://www.w3.org/2000/svg\" xmlns:xlink=\"http://www.w3.org/1999/xlink\" style=\"color: currentColor; background-color: transparent;\"><rect width=\"100%\" height=\"100%\"></rect></svg>┘</span><span class=\"plot-d6a7b5-swatch\"><svg width=\"15\" height=\"15\" fill=\"#a463f2\" xmlns=\"http://www.w3.org/2000/svg\" xmlns:xlink=\"http://www.w3.org/1999/xlink\" style=\"color: currentColor; background-color: transparent;\"><rect width=\"100%\" height=\"100%\"></rect></svg>░</span><style>:where(.plot-d6a7b5-swatches) {\n",
       "  font-family: system-ui, sans-serif;\n",
       "  font-size: 10px;\n",
       "  margin-bottom: 0.5em;\n",
       "}\n",
       ":where(.plot-d6a7b5-swatch > svg) {\n",
       "  margin-right: 0.5em;\n",
       "  overflow: visible;\n",
       "}\n",
       ":where(.plot-d6a7b5-swatches-wrap) {\n",
       "  display: flex;\n",
       "  align-items: center;\n",
       "  min-height: 33px;\n",
       "  flex-wrap: wrap;\n",
       "}\n",
       ":where(.plot-d6a7b5-swatches-wrap .plot-d6a7b5-swatch) {\n",
       "  display: inline-flex;\n",
       "  align-items: center;\n",
       "  margin-right: 1em;\n",
       "}</style></div><svg class=\"plot-d6a7b5\" fill=\"currentColor\" font-family=\"system-ui, sans-serif\" font-size=\"10\" text-anchor=\"middle\" width=\"200\" height=\"168.46153846153845\" viewBox=\"0 0 200 168.46153846153845\" style=\"background-color: rgb(17, 17, 17); color: rgb(238, 238, 238);\" xmlns=\"http://www.w3.org/2000/svg\" xmlns:xlink=\"http://www.w3.org/1999/xlink\"><style>:where(.plot-d6a7b5) {\n",
       "  --plot-background: white;\n",
       "  display: block;\n",
       "  height: auto;\n",
       "  height: intrinsic;\n",
       "  max-width: 100%;\n",
       "}\n",
       ":where(.plot-d6a7b5 text),\n",
       ":where(.plot-d6a7b5 tspan) {\n",
       "  white-space: pre;\n",
       "}</style><g aria-label=\"y-axis tick\" aria-hidden=\"true\" fill=\"none\" stroke=\"currentColor\"><path transform=\"translate(0,153.14685314685315)\" d=\"M0,0L-6,0\"></path><path transform=\"translate(0,122.51748251748252)\" d=\"M0,0L-6,0\"></path><path transform=\"translate(0,91.88811188811188)\" d=\"M0,0L-6,0\"></path><path transform=\"translate(0,61.25874125874126)\" d=\"M0,0L-6,0\"></path><path transform=\"translate(0,30.62937062937063)\" d=\"M0,0L-6,0\"></path><path transform=\"translate(0,0)\" d=\"M0,0L-6,0\"></path></g><g aria-label=\"y-axis tick label\" text-anchor=\"end\" font-variant=\"tabular-nums\" transform=\"translate(-9,0)\"><text y=\"0.32em\" transform=\"translate(0,153.14685314685315)\">10</text><text y=\"0.32em\" transform=\"translate(0,122.51748251748252)\">8</text><text y=\"0.32em\" transform=\"translate(0,91.88811188811188)\">6</text><text y=\"0.32em\" transform=\"translate(0,61.25874125874126)\">4</text><text y=\"0.32em\" transform=\"translate(0,30.62937062937063)\">2</text><text y=\"0.32em\" transform=\"translate(0,0)\">0</text></g><g aria-label=\"y-axis label\" text-anchor=\"start\" transform=\"translate(3,3)\"><text y=\"0.71em\" transform=\"translate(0,0)\">↓ row</text></g><g aria-label=\"x-axis tick\" aria-hidden=\"true\" fill=\"none\" stroke=\"currentColor\"><path transform=\"translate(0,0)\" d=\"M0,0L0,-6\"></path><path transform=\"translate(76.92307692307693,0)\" d=\"M0,0L0,-6\"></path><path transform=\"translate(153.84615384615387,0)\" d=\"M0,0L0,-6\"></path></g><g aria-label=\"x-axis tick label\" font-variant=\"tabular-nums\" transform=\"translate(0,-9)\"><text transform=\"translate(0,0)\">0</text><text transform=\"translate(76.92307692307693,0)\">5</text><text transform=\"translate(153.84615384615387,0)\">10</text></g><g aria-label=\"x-axis label\" text-anchor=\"end\" transform=\"translate(-3,3)\"><text y=\"0.71em\" transform=\"translate(200,0)\">column →</text></g><g aria-label=\"raster\"><image transform=\"translate(0,0) scale(1,1)\" width=\"200\" height=\"168.46153846153845\" preserveAspectRatio=\"none\" image-rendering=\"pixelated\" href=\"data:image/png;base64,iVBORw0KGgoAAAANSUhEUgAAAA0AAAALCAYAAACksgdhAAAABmJLR0QA/wD/AP+gvaeTAAAAl0lEQVQokWNckvzpPwOJgIlUDQwMDAwsMEY0fxaD8/cSnAq1Yh4wWMxzQrXpg/0ehr2cPTg1NL/JwLQJpjFp0zQMTd5vPFD4ZPkJRZPvD0uGeWz3GE4k7WNgYID4cx7bPQaBm/Nxa8rYtZAh6ZcS3P0f7PcwJP1SYlh60xpFE9xPvj8sGdjY7kFsgJqMTYyBgYGBkW6RCwDYEDIPAugfNwAAAABJRU5ErkJggg==\"></image></g><g aria-label=\"text\" font-size=\"12.666666666666666\"><text y=\"0.32em\" transform=\"translate(7.6923076923076925,7.6573426573426575)\">░</text><text y=\"0.32em\" transform=\"translate(23.076923076923077,7.6573426573426575)\">░</text><text y=\"0.32em\" transform=\"translate(38.46153846153847,7.6573426573426575)\">░</text><text y=\"0.32em\" transform=\"translate(53.84615384615385,7.6573426573426575)\">░</text><text y=\"0.32em\" transform=\"translate(69.23076923076923,7.6573426573426575)\">░</text><text y=\"0.32em\" transform=\"translate(84.61538461538461,7.6573426573426575)\">░</text><text y=\"0.32em\" transform=\"translate(100,7.6573426573426575)\">░</text><text y=\"0.32em\" transform=\"translate(115.38461538461537,7.6573426573426575)\">░</text><text y=\"0.32em\" transform=\"translate(130.76923076923077,7.6573426573426575)\">░</text><text y=\"0.32em\" transform=\"translate(146.15384615384613,7.6573426573426575)\">░</text><text y=\"0.32em\" transform=\"translate(161.53846153846155,7.6573426573426575)\">░</text><text y=\"0.32em\" transform=\"translate(176.9230769230769,7.6573426573426575)\">░</text><text y=\"0.32em\" transform=\"translate(192.30769230769232,7.6573426573426575)\">░</text><text y=\"0.32em\" transform=\"translate(7.6923076923076925,22.97202797202797)\">░</text><text y=\"0.32em\" transform=\"translate(23.076923076923077,22.97202797202797)\">░</text><text y=\"0.32em\" transform=\"translate(38.46153846153847,22.97202797202797)\">░</text><text y=\"0.32em\" transform=\"translate(53.84615384615385,22.97202797202797)\">░</text><text y=\"0.32em\" transform=\"translate(69.23076923076923,22.97202797202797)\">░</text><text y=\"0.32em\" transform=\"translate(84.61538461538461,22.97202797202797)\">░</text><text y=\"0.32em\" transform=\"translate(100,22.97202797202797)\">░</text><text y=\"0.32em\" transform=\"translate(115.38461538461537,22.97202797202797)\">░</text><text y=\"0.32em\" transform=\"translate(130.76923076923077,22.97202797202797)\">░</text><text y=\"0.32em\" transform=\"translate(146.15384615384613,22.97202797202797)\">░</text><text y=\"0.32em\" transform=\"translate(161.53846153846155,22.97202797202797)\">░</text><text y=\"0.32em\" transform=\"translate(176.9230769230769,22.97202797202797)\">░</text><text y=\"0.32em\" transform=\"translate(192.30769230769232,22.97202797202797)\">░</text><text y=\"0.32em\" transform=\"translate(7.6923076923076925,38.28671328671329)\">░</text><text y=\"0.32em\" transform=\"translate(23.076923076923077,38.28671328671329)\">░</text><text y=\"0.32em\" transform=\"translate(38.46153846153847,38.28671328671329)\">S</text><text y=\"0.32em\" transform=\"translate(53.84615384615385,38.28671328671329)\">─</text><text y=\"0.32em\" transform=\"translate(69.23076923076923,38.28671328671329)\">─</text><text y=\"0.32em\" transform=\"translate(84.61538461538461,38.28671328671329)\">─</text><text y=\"0.32em\" transform=\"translate(100,38.28671328671329)\">─</text><text y=\"0.32em\" transform=\"translate(115.38461538461537,38.28671328671329)\">─</text><text y=\"0.32em\" transform=\"translate(130.76923076923077,38.28671328671329)\">─</text><text y=\"0.32em\" transform=\"translate(146.15384615384613,38.28671328671329)\">─</text><text y=\"0.32em\" transform=\"translate(161.53846153846155,38.28671328671329)\">┐</text><text y=\"0.32em\" transform=\"translate(176.9230769230769,38.28671328671329)\">░</text><text y=\"0.32em\" transform=\"translate(192.30769230769232,38.28671328671329)\">░</text><text y=\"0.32em\" transform=\"translate(7.6923076923076925,53.6013986013986)\">░</text><text y=\"0.32em\" transform=\"translate(23.076923076923077,53.6013986013986)\">░</text><text y=\"0.32em\" transform=\"translate(38.46153846153847,53.6013986013986)\">│</text><text y=\"0.32em\" transform=\"translate(53.84615384615385,53.6013986013986)\">┌</text><text y=\"0.32em\" transform=\"translate(69.23076923076923,53.6013986013986)\">─</text><text y=\"0.32em\" transform=\"translate(84.61538461538461,53.6013986013986)\">─</text><text y=\"0.32em\" transform=\"translate(100,53.6013986013986)\">─</text><text y=\"0.32em\" transform=\"translate(115.38461538461537,53.6013986013986)\">─</text><text y=\"0.32em\" transform=\"translate(130.76923076923077,53.6013986013986)\">─</text><text y=\"0.32em\" transform=\"translate(146.15384615384613,53.6013986013986)\">┐</text><text y=\"0.32em\" transform=\"translate(161.53846153846155,53.6013986013986)\">│</text><text y=\"0.32em\" transform=\"translate(176.9230769230769,53.6013986013986)\">░</text><text y=\"0.32em\" transform=\"translate(192.30769230769232,53.6013986013986)\">░</text><text y=\"0.32em\" transform=\"translate(7.6923076923076925,68.91608391608392)\">░</text><text y=\"0.32em\" transform=\"translate(23.076923076923077,68.91608391608392)\">░</text><text y=\"0.32em\" transform=\"translate(38.46153846153847,68.91608391608392)\">│</text><text y=\"0.32em\" transform=\"translate(53.84615384615385,68.91608391608392)\">│</text><text y=\"0.32em\" transform=\"translate(69.23076923076923,68.91608391608392)\">░</text><text y=\"0.32em\" transform=\"translate(84.61538461538461,68.91608391608392)\">░</text><text y=\"0.32em\" transform=\"translate(100,68.91608391608392)\">░</text><text y=\"0.32em\" transform=\"translate(115.38461538461537,68.91608391608392)\">░</text><text y=\"0.32em\" transform=\"translate(130.76923076923077,68.91608391608392)\">░</text><text y=\"0.32em\" transform=\"translate(146.15384615384613,68.91608391608392)\">│</text><text y=\"0.32em\" transform=\"translate(161.53846153846155,68.91608391608392)\">│</text><text y=\"0.32em\" transform=\"translate(176.9230769230769,68.91608391608392)\">░</text><text y=\"0.32em\" transform=\"translate(192.30769230769232,68.91608391608392)\">░</text><text y=\"0.32em\" transform=\"translate(7.6923076923076925,84.23076923076923)\">░</text><text y=\"0.32em\" transform=\"translate(23.076923076923077,84.23076923076923)\">░</text><text y=\"0.32em\" transform=\"translate(38.46153846153847,84.23076923076923)\">│</text><text y=\"0.32em\" transform=\"translate(53.84615384615385,84.23076923076923)\">│</text><text y=\"0.32em\" transform=\"translate(69.23076923076923,84.23076923076923)\">░</text><text y=\"0.32em\" transform=\"translate(84.61538461538461,84.23076923076923)\">░</text><text y=\"0.32em\" transform=\"translate(100,84.23076923076923)\">░</text><text y=\"0.32em\" transform=\"translate(115.38461538461537,84.23076923076923)\">░</text><text y=\"0.32em\" transform=\"translate(130.76923076923077,84.23076923076923)\">░</text><text y=\"0.32em\" transform=\"translate(146.15384615384613,84.23076923076923)\">│</text><text y=\"0.32em\" transform=\"translate(161.53846153846155,84.23076923076923)\">│</text><text y=\"0.32em\" transform=\"translate(176.9230769230769,84.23076923076923)\">░</text><text y=\"0.32em\" transform=\"translate(192.30769230769232,84.23076923076923)\">░</text><text y=\"0.32em\" transform=\"translate(7.6923076923076925,99.54545454545455)\">░</text><text y=\"0.32em\" transform=\"translate(23.076923076923077,99.54545454545455)\">░</text><text y=\"0.32em\" transform=\"translate(38.46153846153847,99.54545454545455)\">│</text><text y=\"0.32em\" transform=\"translate(53.84615384615385,99.54545454545455)\">└</text><text y=\"0.32em\" transform=\"translate(69.23076923076923,99.54545454545455)\">─</text><text y=\"0.32em\" transform=\"translate(84.61538461538461,99.54545454545455)\">┐</text><text y=\"0.32em\" transform=\"translate(100,99.54545454545455)\">░</text><text y=\"0.32em\" transform=\"translate(115.38461538461537,99.54545454545455)\">┌</text><text y=\"0.32em\" transform=\"translate(130.76923076923077,99.54545454545455)\">─</text><text y=\"0.32em\" transform=\"translate(146.15384615384613,99.54545454545455)\">┘</text><text y=\"0.32em\" transform=\"translate(161.53846153846155,99.54545454545455)\">│</text><text y=\"0.32em\" transform=\"translate(176.9230769230769,99.54545454545455)\">░</text><text y=\"0.32em\" transform=\"translate(192.30769230769232,99.54545454545455)\">░</text><text y=\"0.32em\" transform=\"translate(7.6923076923076925,114.86013986013984)\">░</text><text y=\"0.32em\" transform=\"translate(23.076923076923077,114.86013986013984)\">░</text><text y=\"0.32em\" transform=\"translate(38.46153846153847,114.86013986013984)\">│</text><text y=\"0.32em\" transform=\"translate(53.84615384615385,114.86013986013984)\">░</text><text y=\"0.32em\" transform=\"translate(69.23076923076923,114.86013986013984)\">░</text><text y=\"0.32em\" transform=\"translate(84.61538461538461,114.86013986013984)\">│</text><text y=\"0.32em\" transform=\"translate(100,114.86013986013984)\">░</text><text y=\"0.32em\" transform=\"translate(115.38461538461537,114.86013986013984)\">│</text><text y=\"0.32em\" transform=\"translate(130.76923076923077,114.86013986013984)\">░</text><text y=\"0.32em\" transform=\"translate(146.15384615384613,114.86013986013984)\">░</text><text y=\"0.32em\" transform=\"translate(161.53846153846155,114.86013986013984)\">│</text><text y=\"0.32em\" transform=\"translate(176.9230769230769,114.86013986013984)\">░</text><text y=\"0.32em\" transform=\"translate(192.30769230769232,114.86013986013984)\">░</text><text y=\"0.32em\" transform=\"translate(7.6923076923076925,130.17482517482517)\">░</text><text y=\"0.32em\" transform=\"translate(23.076923076923077,130.17482517482517)\">░</text><text y=\"0.32em\" transform=\"translate(38.46153846153847,130.17482517482517)\">└</text><text y=\"0.32em\" transform=\"translate(53.84615384615385,130.17482517482517)\">─</text><text y=\"0.32em\" transform=\"translate(69.23076923076923,130.17482517482517)\">─</text><text y=\"0.32em\" transform=\"translate(84.61538461538461,130.17482517482517)\">┘</text><text y=\"0.32em\" transform=\"translate(100,130.17482517482517)\">░</text><text y=\"0.32em\" transform=\"translate(115.38461538461537,130.17482517482517)\">└</text><text y=\"0.32em\" transform=\"translate(130.76923076923077,130.17482517482517)\">─</text><text y=\"0.32em\" transform=\"translate(146.15384615384613,130.17482517482517)\">─</text><text y=\"0.32em\" transform=\"translate(161.53846153846155,130.17482517482517)\">┘</text><text y=\"0.32em\" transform=\"translate(176.9230769230769,130.17482517482517)\">░</text><text y=\"0.32em\" transform=\"translate(192.30769230769232,130.17482517482517)\">░</text><text y=\"0.32em\" transform=\"translate(7.6923076923076925,145.48951048951048)\">░</text><text y=\"0.32em\" transform=\"translate(23.076923076923077,145.48951048951048)\">░</text><text y=\"0.32em\" transform=\"translate(38.46153846153847,145.48951048951048)\">░</text><text y=\"0.32em\" transform=\"translate(53.84615384615385,145.48951048951048)\">░</text><text y=\"0.32em\" transform=\"translate(69.23076923076923,145.48951048951048)\">░</text><text y=\"0.32em\" transform=\"translate(84.61538461538461,145.48951048951048)\">░</text><text y=\"0.32em\" transform=\"translate(100,145.48951048951048)\">░</text><text y=\"0.32em\" transform=\"translate(115.38461538461537,145.48951048951048)\">░</text><text y=\"0.32em\" transform=\"translate(130.76923076923077,145.48951048951048)\">░</text><text y=\"0.32em\" transform=\"translate(146.15384615384613,145.48951048951048)\">░</text><text y=\"0.32em\" transform=\"translate(161.53846153846155,145.48951048951048)\">░</text><text y=\"0.32em\" transform=\"translate(176.9230769230769,145.48951048951048)\">░</text><text y=\"0.32em\" transform=\"translate(192.30769230769232,145.48951048951048)\">░</text><text y=\"0.32em\" transform=\"translate(7.6923076923076925,160.8041958041958)\">░</text><text y=\"0.32em\" transform=\"translate(23.076923076923077,160.8041958041958)\">░</text><text y=\"0.32em\" transform=\"translate(38.46153846153847,160.8041958041958)\">░</text><text y=\"0.32em\" transform=\"translate(53.84615384615385,160.8041958041958)\">░</text><text y=\"0.32em\" transform=\"translate(69.23076923076923,160.8041958041958)\">░</text><text y=\"0.32em\" transform=\"translate(84.61538461538461,160.8041958041958)\">░</text><text y=\"0.32em\" transform=\"translate(100,160.8041958041958)\">░</text><text y=\"0.32em\" transform=\"translate(115.38461538461537,160.8041958041958)\">░</text><text y=\"0.32em\" transform=\"translate(130.76923076923077,160.8041958041958)\">░</text><text y=\"0.32em\" transform=\"translate(146.15384615384613,160.8041958041958)\">░</text><text y=\"0.32em\" transform=\"translate(161.53846153846155,160.8041958041958)\">░</text><text y=\"0.32em\" transform=\"translate(176.9230769230769,160.8041958041958)\">░</text><text y=\"0.32em\" transform=\"translate(192.30769230769232,160.8041958041958)\">░</text></g></svg></figure>"
      ],
      "text/plain": [
       "<IPython.core.display.HTML object>"
      ]
     },
     "metadata": {},
     "output_type": "display_data"
    },
    {
     "data": {
      "text/html": [
       "<figure class=\"plot-d6a7b5-figure\" style=\"max-width: initial; padding: 0px 5px 5px 5px; color: currentColor; background-color: transparent;\"><h2 style=\"line-height: 28px; font-size: 20px; font-weight: 600; margin: 0px;\">Raster 3x</h2><div class=\"plot-d6a7b5-swatches plot-d6a7b5-swatches-wrap\"><span class=\"plot-d6a7b5-swatch\"><svg width=\"15\" height=\"15\" fill=\"#440154\" xmlns=\"http://www.w3.org/2000/svg\" xmlns:xlink=\"http://www.w3.org/1999/xlink\" style=\"color: currentColor; background-color: transparent;\"><rect width=\"100%\" height=\"100%\"></rect></svg>false</span><span class=\"plot-d6a7b5-swatch\"><svg width=\"15\" height=\"15\" fill=\"#fde725\" xmlns=\"http://www.w3.org/2000/svg\" xmlns:xlink=\"http://www.w3.org/1999/xlink\" style=\"color: currentColor; background-color: transparent;\"><rect width=\"100%\" height=\"100%\"></rect></svg>true</span><style>:where(.plot-d6a7b5-swatches) {\n",
       "  font-family: system-ui, sans-serif;\n",
       "  font-size: 10px;\n",
       "  margin-bottom: 0.5em;\n",
       "}\n",
       ":where(.plot-d6a7b5-swatch > svg) {\n",
       "  margin-right: 0.5em;\n",
       "  overflow: visible;\n",
       "}\n",
       ":where(.plot-d6a7b5-swatches-wrap) {\n",
       "  display: flex;\n",
       "  align-items: center;\n",
       "  min-height: 33px;\n",
       "  flex-wrap: wrap;\n",
       "}\n",
       ":where(.plot-d6a7b5-swatches-wrap .plot-d6a7b5-swatch) {\n",
       "  display: inline-flex;\n",
       "  align-items: center;\n",
       "  margin-right: 1em;\n",
       "}</style></div><svg class=\"plot-d6a7b5\" fill=\"currentColor\" font-family=\"system-ui, sans-serif\" font-size=\"10\" text-anchor=\"middle\" width=\"200\" height=\"168.46153846153845\" viewBox=\"0 0 200 168.46153846153845\" style=\"background-color: rgb(17, 17, 17); color: rgb(238, 238, 238);\" xmlns=\"http://www.w3.org/2000/svg\" xmlns:xlink=\"http://www.w3.org/1999/xlink\"><style>:where(.plot-d6a7b5) {\n",
       "  --plot-background: white;\n",
       "  display: block;\n",
       "  height: auto;\n",
       "  height: intrinsic;\n",
       "  max-width: 100%;\n",
       "}\n",
       ":where(.plot-d6a7b5 text),\n",
       ":where(.plot-d6a7b5 tspan) {\n",
       "  white-space: pre;\n",
       "}</style><g aria-label=\"y-axis tick\" aria-hidden=\"true\" fill=\"none\" stroke=\"currentColor\"><path transform=\"translate(0,153.14685314685315)\" d=\"M0,0L-6,0\"></path><path transform=\"translate(0,127.62237762237761)\" d=\"M0,0L-6,0\"></path><path transform=\"translate(0,102.0979020979021)\" d=\"M0,0L-6,0\"></path><path transform=\"translate(0,76.57342657342657)\" d=\"M0,0L-6,0\"></path><path transform=\"translate(0,51.04895104895105)\" d=\"M0,0L-6,0\"></path><path transform=\"translate(0,25.524475524475523)\" d=\"M0,0L-6,0\"></path><path transform=\"translate(0,0)\" d=\"M0,0L-6,0\"></path></g><g aria-label=\"y-axis tick label\" text-anchor=\"end\" font-variant=\"tabular-nums\" transform=\"translate(-9,0)\"><text y=\"0.32em\" transform=\"translate(0,153.14685314685315)\">30</text><text y=\"0.32em\" transform=\"translate(0,127.62237762237761)\">25</text><text y=\"0.32em\" transform=\"translate(0,102.0979020979021)\">20</text><text y=\"0.32em\" transform=\"translate(0,76.57342657342657)\">15</text><text y=\"0.32em\" transform=\"translate(0,51.04895104895105)\">10</text><text y=\"0.32em\" transform=\"translate(0,25.524475524475523)\">5</text><text y=\"0.32em\" transform=\"translate(0,0)\">0</text></g><g aria-label=\"y-axis label\" text-anchor=\"start\" transform=\"translate(3,3)\"><text y=\"0.71em\" transform=\"translate(0,0)\">↓ row</text></g><g aria-label=\"x-axis tick\" aria-hidden=\"true\" fill=\"none\" stroke=\"currentColor\"><path transform=\"translate(0,0)\" d=\"M0,0L0,-6\"></path><path transform=\"translate(102.56410256410255,0)\" d=\"M0,0L0,-6\"></path></g><g aria-label=\"x-axis tick label\" font-variant=\"tabular-nums\" transform=\"translate(0,-9)\"><text transform=\"translate(0,0)\">0</text><text transform=\"translate(102.56410256410255,0)\">20</text></g><g aria-label=\"x-axis label\" text-anchor=\"end\" transform=\"translate(-3,3)\"><text y=\"0.71em\" transform=\"translate(200,0)\">column →</text></g><g aria-label=\"raster\"><image transform=\"translate(0,0) scale(1,1)\" width=\"200\" height=\"168.46153846153845\" preserveAspectRatio=\"none\" image-rendering=\"pixelated\" href=\"data:image/png;base64,iVBORw0KGgoAAAANSUhEUgAAACcAAAAhCAYAAABa+rIoAAAABmJLR0QA/wD/AP+gvaeTAAAAk0lEQVRYhe2X0QmAMAxEjTiFS7iE4AIu6xgu4Rr664dJ00vFCPd+Q8srRw4qs6xnl5T+awELyqFQDiW13GANt2N/XWAZJ3VmypUORyk9/r+x3mkZsTcNt1zNpRY1j0wdK+VQKIdCOZSqntM66qn/WpS2W04rYEsiWtqpY6UcSmq54kJEti66scIfPwjlUCiHklruAsUrHV8fQICTAAAAAElFTkSuQmCC\"></image></g></svg></figure>"
      ],
      "text/plain": [
       "<IPython.core.display.HTML object>"
      ]
     },
     "metadata": {},
     "output_type": "display_data"
    },
    {
     "data": {
      "text/html": [
       "<figure class=\"plot-d6a7b5-figure\" style=\"max-width: initial; padding: 0px 5px 5px 5px; color: currentColor; background-color: transparent;\"><h2 style=\"line-height: 28px; font-size: 20px; font-weight: 600; margin: 0px;\">Filled (flood fill)</h2><div class=\"plot-d6a7b5-swatches plot-d6a7b5-swatches-wrap\"><span class=\"plot-d6a7b5-swatch\"><svg width=\"15\" height=\"15\" fill=\"#4269d0\" xmlns=\"http://www.w3.org/2000/svg\" xmlns:xlink=\"http://www.w3.org/1999/xlink\" style=\"color: currentColor; background-color: transparent;\"><rect width=\"100%\" height=\"100%\"></rect></svg>0</span><span class=\"plot-d6a7b5-swatch\"><svg width=\"15\" height=\"15\" fill=\"#efb118\" xmlns=\"http://www.w3.org/2000/svg\" xmlns:xlink=\"http://www.w3.org/1999/xlink\" style=\"color: currentColor; background-color: transparent;\"><rect width=\"100%\" height=\"100%\"></rect></svg>128</span><span class=\"plot-d6a7b5-swatch\"><svg width=\"15\" height=\"15\" fill=\"#ff725c\" xmlns=\"http://www.w3.org/2000/svg\" xmlns:xlink=\"http://www.w3.org/1999/xlink\" style=\"color: currentColor; background-color: transparent;\"><rect width=\"100%\" height=\"100%\"></rect></svg>255</span><style>:where(.plot-d6a7b5-swatches) {\n",
       "  font-family: system-ui, sans-serif;\n",
       "  font-size: 10px;\n",
       "  margin-bottom: 0.5em;\n",
       "}\n",
       ":where(.plot-d6a7b5-swatch > svg) {\n",
       "  margin-right: 0.5em;\n",
       "  overflow: visible;\n",
       "}\n",
       ":where(.plot-d6a7b5-swatches-wrap) {\n",
       "  display: flex;\n",
       "  align-items: center;\n",
       "  min-height: 33px;\n",
       "  flex-wrap: wrap;\n",
       "}\n",
       ":where(.plot-d6a7b5-swatches-wrap .plot-d6a7b5-swatch) {\n",
       "  display: inline-flex;\n",
       "  align-items: center;\n",
       "  margin-right: 1em;\n",
       "}</style></div><svg class=\"plot-d6a7b5\" fill=\"currentColor\" font-family=\"system-ui, sans-serif\" font-size=\"10\" text-anchor=\"middle\" width=\"200\" height=\"168.46153846153845\" viewBox=\"0 0 200 168.46153846153845\" style=\"background-color: rgb(17, 17, 17); color: rgb(238, 238, 238);\" xmlns=\"http://www.w3.org/2000/svg\" xmlns:xlink=\"http://www.w3.org/1999/xlink\"><style>:where(.plot-d6a7b5) {\n",
       "  --plot-background: white;\n",
       "  display: block;\n",
       "  height: auto;\n",
       "  height: intrinsic;\n",
       "  max-width: 100%;\n",
       "}\n",
       ":where(.plot-d6a7b5 text),\n",
       ":where(.plot-d6a7b5 tspan) {\n",
       "  white-space: pre;\n",
       "}</style><g aria-label=\"y-axis tick\" aria-hidden=\"true\" fill=\"none\" stroke=\"currentColor\"><path transform=\"translate(0,153.14685314685315)\" d=\"M0,0L-6,0\"></path><path transform=\"translate(0,127.62237762237761)\" d=\"M0,0L-6,0\"></path><path transform=\"translate(0,102.0979020979021)\" d=\"M0,0L-6,0\"></path><path transform=\"translate(0,76.57342657342657)\" d=\"M0,0L-6,0\"></path><path transform=\"translate(0,51.04895104895105)\" d=\"M0,0L-6,0\"></path><path transform=\"translate(0,25.524475524475523)\" d=\"M0,0L-6,0\"></path><path transform=\"translate(0,0)\" d=\"M0,0L-6,0\"></path></g><g aria-label=\"y-axis tick label\" text-anchor=\"end\" font-variant=\"tabular-nums\" transform=\"translate(-9,0)\"><text y=\"0.32em\" transform=\"translate(0,153.14685314685315)\">30</text><text y=\"0.32em\" transform=\"translate(0,127.62237762237761)\">25</text><text y=\"0.32em\" transform=\"translate(0,102.0979020979021)\">20</text><text y=\"0.32em\" transform=\"translate(0,76.57342657342657)\">15</text><text y=\"0.32em\" transform=\"translate(0,51.04895104895105)\">10</text><text y=\"0.32em\" transform=\"translate(0,25.524475524475523)\">5</text><text y=\"0.32em\" transform=\"translate(0,0)\">0</text></g><g aria-label=\"y-axis label\" text-anchor=\"start\" transform=\"translate(3,3)\"><text y=\"0.71em\" transform=\"translate(0,0)\">↓ row</text></g><g aria-label=\"x-axis tick\" aria-hidden=\"true\" fill=\"none\" stroke=\"currentColor\"><path transform=\"translate(0,0)\" d=\"M0,0L0,-6\"></path><path transform=\"translate(102.56410256410255,0)\" d=\"M0,0L0,-6\"></path></g><g aria-label=\"x-axis tick label\" font-variant=\"tabular-nums\" transform=\"translate(0,-9)\"><text transform=\"translate(0,0)\">0</text><text transform=\"translate(102.56410256410255,0)\">20</text></g><g aria-label=\"x-axis label\" text-anchor=\"end\" transform=\"translate(-3,3)\"><text y=\"0.71em\" transform=\"translate(200,0)\">column →</text></g><g aria-label=\"raster\"><image transform=\"translate(0,0) scale(1,1)\" width=\"200\" height=\"168.46153846153845\" preserveAspectRatio=\"none\" image-rendering=\"pixelated\" href=\"data:image/png;base64,iVBORw0KGgoAAAANSUhEUgAAACcAAAAhCAYAAABa+rIoAAAABmJLR0QA/wD/AP+gvaeTAAAAoklEQVRYhe2XMRJAMBBFl9HolG6j4EiO4TJ6CieiU9KmkJX8MNbMf+02L/OT3U22jvUhRsm/FtCgHArlUEzLFVqxWrrXBbZm8tZUORGRdu8flXGZy0Gt/zdWl7tTxhCaRrCciH4/Qom5x6ZjpRwK5VAohxLV53w96qr/PTGXg+V8XV2bHKlz2XSslEMxLXf7IFJWpdQ1K+OPH4RyKJRDMS13AhNBHSRrI469AAAAAElFTkSuQmCC\"></image></g></svg></figure>"
      ],
      "text/plain": [
       "<IPython.core.display.HTML object>"
      ]
     },
     "metadata": {},
     "output_type": "display_data"
    },
    {
     "data": {
      "text/html": [
       "<figure class=\"plot-d6a7b5-figure\" style=\"max-width: initial; padding: 0px 5px 5px 5px; color: currentColor; background-color: transparent;\"><h2 style=\"line-height: 28px; font-size: 20px; font-weight: 600; margin: 0px;\">Coarsened 3x</h2><div class=\"plot-d6a7b5-swatches plot-d6a7b5-swatches-wrap\"><span class=\"plot-d6a7b5-swatch\"><svg width=\"15\" height=\"15\" fill=\"#440154\" xmlns=\"http://www.w3.org/2000/svg\" xmlns:xlink=\"http://www.w3.org/1999/xlink\" style=\"color: currentColor; background-color: transparent;\"><rect width=\"100%\" height=\"100%\"></rect></svg>false</span><span class=\"plot-d6a7b5-swatch\"><svg width=\"15\" height=\"15\" fill=\"#fde725\" xmlns=\"http://www.w3.org/2000/svg\" xmlns:xlink=\"http://www.w3.org/1999/xlink\" style=\"color: currentColor; background-color: transparent;\"><rect width=\"100%\" height=\"100%\"></rect></svg>true</span><style>:where(.plot-d6a7b5-swatches) {\n",
       "  font-family: system-ui, sans-serif;\n",
       "  font-size: 10px;\n",
       "  margin-bottom: 0.5em;\n",
       "}\n",
       ":where(.plot-d6a7b5-swatch > svg) {\n",
       "  margin-right: 0.5em;\n",
       "  overflow: visible;\n",
       "}\n",
       ":where(.plot-d6a7b5-swatches-wrap) {\n",
       "  display: flex;\n",
       "  align-items: center;\n",
       "  min-height: 33px;\n",
       "  flex-wrap: wrap;\n",
       "}\n",
       ":where(.plot-d6a7b5-swatches-wrap .plot-d6a7b5-swatch) {\n",
       "  display: inline-flex;\n",
       "  align-items: center;\n",
       "  margin-right: 1em;\n",
       "}</style></div><svg class=\"plot-d6a7b5\" fill=\"currentColor\" font-family=\"system-ui, sans-serif\" font-size=\"10\" text-anchor=\"middle\" width=\"200\" height=\"168.46153846153845\" viewBox=\"0 0 200 168.46153846153845\" style=\"background-color: rgb(17, 17, 17); color: rgb(238, 238, 238);\" xmlns=\"http://www.w3.org/2000/svg\" xmlns:xlink=\"http://www.w3.org/1999/xlink\"><style>:where(.plot-d6a7b5) {\n",
       "  --plot-background: white;\n",
       "  display: block;\n",
       "  height: auto;\n",
       "  height: intrinsic;\n",
       "  max-width: 100%;\n",
       "}\n",
       ":where(.plot-d6a7b5 text),\n",
       ":where(.plot-d6a7b5 tspan) {\n",
       "  white-space: pre;\n",
       "}</style><g aria-label=\"y-axis tick\" aria-hidden=\"true\" fill=\"none\" stroke=\"currentColor\"><path transform=\"translate(0,153.14685314685315)\" d=\"M0,0L-6,0\"></path><path transform=\"translate(0,122.51748251748252)\" d=\"M0,0L-6,0\"></path><path transform=\"translate(0,91.88811188811188)\" d=\"M0,0L-6,0\"></path><path transform=\"translate(0,61.25874125874126)\" d=\"M0,0L-6,0\"></path><path transform=\"translate(0,30.62937062937063)\" d=\"M0,0L-6,0\"></path><path transform=\"translate(0,0)\" d=\"M0,0L-6,0\"></path></g><g aria-label=\"y-axis tick label\" text-anchor=\"end\" font-variant=\"tabular-nums\" transform=\"translate(-9,0)\"><text y=\"0.32em\" transform=\"translate(0,153.14685314685315)\">10</text><text y=\"0.32em\" transform=\"translate(0,122.51748251748252)\">8</text><text y=\"0.32em\" transform=\"translate(0,91.88811188811188)\">6</text><text y=\"0.32em\" transform=\"translate(0,61.25874125874126)\">4</text><text y=\"0.32em\" transform=\"translate(0,30.62937062937063)\">2</text><text y=\"0.32em\" transform=\"translate(0,0)\">0</text></g><g aria-label=\"y-axis label\" text-anchor=\"start\" transform=\"translate(3,3)\"><text y=\"0.71em\" transform=\"translate(0,0)\">↓ row</text></g><g aria-label=\"x-axis tick\" aria-hidden=\"true\" fill=\"none\" stroke=\"currentColor\"><path transform=\"translate(0,0)\" d=\"M0,0L0,-6\"></path><path transform=\"translate(76.92307692307693,0)\" d=\"M0,0L0,-6\"></path><path transform=\"translate(153.84615384615387,0)\" d=\"M0,0L0,-6\"></path></g><g aria-label=\"x-axis tick label\" font-variant=\"tabular-nums\" transform=\"translate(0,-9)\"><text transform=\"translate(0,0)\">0</text><text transform=\"translate(76.92307692307693,0)\">5</text><text transform=\"translate(153.84615384615387,0)\">10</text></g><g aria-label=\"x-axis label\" text-anchor=\"end\" transform=\"translate(-3,3)\"><text y=\"0.71em\" transform=\"translate(200,0)\">column →</text></g><g aria-label=\"raster\"><image transform=\"translate(0,0) scale(1,1)\" width=\"200\" height=\"168.46153846153845\" preserveAspectRatio=\"none\" image-rendering=\"pixelated\" href=\"data:image/png;base64,iVBORw0KGgoAAAANSUhEUgAAAA0AAAALCAYAAACksgdhAAAABmJLR0QA/wD/AP+gvaeTAAAAJklEQVQokWN0YQz5z0AiYCJVw6gmXJp2PrvIsPPZRQZCYoyDO54AxI4NBU5uDwoAAAAASUVORK5CYII=\"></image></g></svg></figure>"
      ],
      "text/plain": [
       "<IPython.core.display.HTML object>"
      ]
     },
     "metadata": {},
     "output_type": "display_data"
    }
   ],
   "source": [
    "maze = problem.parse_text_input(example_inputs_2023[\"EXAMPLE_INPUT_PART_2_1_1a\"])\n",
    "result, outputs_accumulator = problem.compute_tiles_enclosed_by_loop_part_2(\n",
    "    maze, problem.compute_minimum_distances(maze)\n",
    ")\n",
    "\n",
    "print(\"Text Input\")\n",
    "print(render_2d_array_to_text(outputs_accumulator[\"maze\"]))\n",
    "\n",
    "visualize_puzzle_input(outputs_accumulator, width=200)"
   ]
  },
  {
   "cell_type": "markdown",
   "metadata": {},
   "source": [
    "### Example input from part 1 (`EXAMPLE_INPUT_2_1`)\n",
    "\n",
    "\n",
    "Same visualization procedure.\n"
   ]
  },
  {
   "cell_type": "code",
   "execution_count": 15,
   "metadata": {
    "execution": {
     "iopub.execute_input": "2024-05-27T08:54:26.384537Z",
     "iopub.status.busy": "2024-05-27T08:54:26.383063Z",
     "iopub.status.idle": "2024-05-27T08:54:26.539523Z",
     "shell.execute_reply": "2024-05-27T08:54:26.538710Z"
    }
   },
   "outputs": [
    {
     "name": "stdout",
     "output_type": "stream",
     "text": [
      "Current recursion limit:\n",
      "15000\n",
      "New recursion limit:\n",
      "15000\n",
      "Skipped top\n",
      "Skipped left\n",
      "Text Input\n",
      "░░░░░░░\n",
      "░░░┌┐░░\n",
      "░░┌┘│░░\n",
      "░S┘░└┐░\n",
      "░│┌──┘░\n",
      "░└┘░░░░\n",
      "░░░░░░░\n"
     ]
    },
    {
     "data": {
      "text/html": [
       "<figure class=\"plot-d6a7b5-figure\" style=\"max-width: initial; padding: 0px 5px 5px 5px; color: currentColor; background-color: transparent;\"><h2 style=\"line-height: 28px; font-size: 20px; font-weight: 600; margin: 0px;\">Minimum Distances</h2><svg class=\"plot-d6a7b5-ramp\" font-family=\"system-ui, sans-serif\" font-size=\"10\" width=\"240\" height=\"50\" viewBox=\"0 0 240 50\" xmlns=\"http://www.w3.org/2000/svg\" xmlns:xlink=\"http://www.w3.org/1999/xlink\" style=\"color: currentColor; background-color: transparent;\"><style>:where(.plot-d6a7b5-ramp) {\n",
       "  display: block;\n",
       "  height: auto;\n",
       "  height: intrinsic;\n",
       "  max-width: 100%;\n",
       "  overflow: visible;\n",
       "}\n",
       ":where(.plot-d6a7b5-ramp text) {\n",
       "  white-space: pre;\n",
       "}</style><image x=\"0\" y=\"18\" width=\"240\" height=\"10\" preserveAspectRatio=\"none\" href=\"data:image/png;base64,iVBORw0KGgoAAAANSUhEUgAAAQAAAAABCAYAAAAxWXB3AAAABmJLR0QA/wD/AP+gvaeTAAAAvklEQVQ4jW2SSwLEMAhCgc79r+ws/Leu8gQ0TVICPyMIkAAEZzlTAB6QAqv2dWrNntXSn+WXh+QHRPQguLQHMhVnTtDQvZPW7KcYTAbDHaaOtYqILLbH7EvGkUVlJ1c250ftbFs7+nq+1T7t2ytnw7djHzuyVrO+2c35HZOZGaZuPT/ryFOtMWeomRfLf8dkKH0A5TXvNS8qOC6H6kfgerjUdh0HPHQtf9XL00vToQ/moYVupc/8V7Olac2Y9R/4sC65xxNF4gAAAABJRU5ErkJggg==\"></image><g transform=\"translate(0,28)\" fill=\"none\" text-anchor=\"middle\" font-variant=\"tabular-nums\"><g class=\"tick\" opacity=\"1\" transform=\"translate(27.5,0)\"><line stroke=\"currentColor\" y2=\"6\" y1=\"-10\"></line><text fill=\"currentColor\" y=\"9\" dy=\"0.71em\">0</text></g><g class=\"tick\" opacity=\"1\" transform=\"translate(80.5,0)\"><line stroke=\"currentColor\" y2=\"6\" y1=\"-10\"></line><text fill=\"currentColor\" y=\"9\" dy=\"0.71em\">2</text></g><g class=\"tick\" opacity=\"1\" transform=\"translate(133.5,0)\"><line stroke=\"currentColor\" y2=\"6\" y1=\"-10\"></line><text fill=\"currentColor\" y=\"9\" dy=\"0.71em\">4</text></g><g class=\"tick\" opacity=\"1\" transform=\"translate(187.5,0)\"><line stroke=\"currentColor\" y2=\"6\" y1=\"-10\"></line><text fill=\"currentColor\" y=\"9\" dy=\"0.71em\">6</text></g><g class=\"tick\" opacity=\"1\" transform=\"translate(240.5,0)\"><line stroke=\"currentColor\" y2=\"6\" y1=\"-10\"></line><text fill=\"currentColor\" y=\"9\" dy=\"0.71em\">8</text></g></g></svg><svg class=\"plot-d6a7b5\" fill=\"currentColor\" font-family=\"system-ui, sans-serif\" font-size=\"10\" text-anchor=\"middle\" width=\"200\" height=\"190\" viewBox=\"0 0 200 190\" style=\"background-color: rgb(17, 17, 17); color: rgb(238, 238, 238);\" xmlns=\"http://www.w3.org/2000/svg\" xmlns:xlink=\"http://www.w3.org/1999/xlink\"><style>:where(.plot-d6a7b5) {\n",
       "  --plot-background: white;\n",
       "  display: block;\n",
       "  height: auto;\n",
       "  height: intrinsic;\n",
       "  max-width: 100%;\n",
       "}\n",
       ":where(.plot-d6a7b5 text),\n",
       ":where(.plot-d6a7b5 tspan) {\n",
       "  white-space: pre;\n",
       "}</style><g aria-label=\"y-axis tick\" aria-hidden=\"true\" fill=\"none\" stroke=\"currentColor\"><path transform=\"translate(0,190)\" d=\"M0,0L-6,0\"></path><path transform=\"translate(0,162.85714285714286)\" d=\"M0,0L-6,0\"></path><path transform=\"translate(0,135.71428571428572)\" d=\"M0,0L-6,0\"></path><path transform=\"translate(0,108.57142857142857)\" d=\"M0,0L-6,0\"></path><path transform=\"translate(0,81.42857142857143)\" d=\"M0,0L-6,0\"></path><path transform=\"translate(0,54.285714285714285)\" d=\"M0,0L-6,0\"></path><path transform=\"translate(0,27.142857142857142)\" d=\"M0,0L-6,0\"></path><path transform=\"translate(0,0)\" d=\"M0,0L-6,0\"></path></g><g aria-label=\"y-axis tick label\" text-anchor=\"end\" font-variant=\"tabular-nums\" transform=\"translate(-9,0)\"><text y=\"0.32em\" transform=\"translate(0,190)\">7</text><text y=\"0.32em\" transform=\"translate(0,162.85714285714286)\">6</text><text y=\"0.32em\" transform=\"translate(0,135.71428571428572)\">5</text><text y=\"0.32em\" transform=\"translate(0,108.57142857142857)\">4</text><text y=\"0.32em\" transform=\"translate(0,81.42857142857143)\">3</text><text y=\"0.32em\" transform=\"translate(0,54.285714285714285)\">2</text><text y=\"0.32em\" transform=\"translate(0,27.142857142857142)\">1</text><text y=\"0.32em\" transform=\"translate(0,0)\">0</text></g><g aria-label=\"y-axis label\" text-anchor=\"start\" transform=\"translate(3,3)\"><text y=\"0.71em\" transform=\"translate(0,0)\">↓ row</text></g><g aria-label=\"x-axis tick\" aria-hidden=\"true\" fill=\"none\" stroke=\"currentColor\"><path transform=\"translate(0,0)\" d=\"M0,0L0,-6\"></path><path transform=\"translate(57.14285714285714,0)\" d=\"M0,0L0,-6\"></path><path transform=\"translate(114.28571428571428,0)\" d=\"M0,0L0,-6\"></path><path transform=\"translate(171.42857142857142,0)\" d=\"M0,0L0,-6\"></path></g><g aria-label=\"x-axis tick label\" font-variant=\"tabular-nums\" transform=\"translate(0,-9)\"><text transform=\"translate(0,0)\">0</text><text transform=\"translate(57.14285714285714,0)\">2</text><text transform=\"translate(114.28571428571428,0)\">4</text><text transform=\"translate(171.42857142857142,0)\">6</text></g><g aria-label=\"x-axis label\" text-anchor=\"end\" transform=\"translate(-3,3)\"><text y=\"0.71em\" transform=\"translate(200,0)\">column →</text></g><g aria-label=\"raster\"><image transform=\"translate(0,0) scale(1,1)\" width=\"200\" height=\"190\" preserveAspectRatio=\"none\" image-rendering=\"pixelated\" href=\"data:image/png;base64,iVBORw0KGgoAAAANSUhEUgAAAAcAAAAHCAYAAADEUlfTAAAABmJLR0QA/wD/AP+gvaeTAAAAeklEQVQImWOU4Lf9z4ADMCFzthqaMNwMVMCUjBJwYbj4no+Bx4wbVfLFx+MMlz58Zah6sI+B0USV4cm7JgYGBgYGFgYGBgYX/iKGTsPfDCoKCgz/z9yGG8fCwMDAoCfAzXDx/T8G7/NnGBjWMzAwMFxlYGBgYGDE51oA7/oeGGVzNCEAAAAASUVORK5CYII=\"></image></g></svg></figure>"
      ],
      "text/plain": [
       "<IPython.core.display.HTML object>"
      ]
     },
     "metadata": {},
     "output_type": "display_data"
    },
    {
     "data": {
      "text/html": [
       "<figure class=\"plot-d6a7b5-figure\" style=\"max-width: initial; padding: 0px 5px 5px 5px; color: currentColor; background-color: transparent;\"><h2 style=\"line-height: 28px; font-size: 20px; font-weight: 600; margin: 0px;\">Minimum Distances (with values)</h2><svg class=\"plot-d6a7b5-ramp\" font-family=\"system-ui, sans-serif\" font-size=\"10\" width=\"240\" height=\"50\" viewBox=\"0 0 240 50\" xmlns=\"http://www.w3.org/2000/svg\" xmlns:xlink=\"http://www.w3.org/1999/xlink\" style=\"color: currentColor; background-color: transparent;\"><style>:where(.plot-d6a7b5-ramp) {\n",
       "  display: block;\n",
       "  height: auto;\n",
       "  height: intrinsic;\n",
       "  max-width: 100%;\n",
       "  overflow: visible;\n",
       "}\n",
       ":where(.plot-d6a7b5-ramp text) {\n",
       "  white-space: pre;\n",
       "}</style><image x=\"0\" y=\"18\" width=\"240\" height=\"10\" preserveAspectRatio=\"none\" href=\"data:image/png;base64,iVBORw0KGgoAAAANSUhEUgAAAQAAAAABCAYAAAAxWXB3AAAABmJLR0QA/wD/AP+gvaeTAAAAvklEQVQ4jW2SSwLEMAhCgc79r+ws/Leu8gQ0TVICPyMIkAAEZzlTAB6QAqv2dWrNntXSn+WXh+QHRPQguLQHMhVnTtDQvZPW7KcYTAbDHaaOtYqILLbH7EvGkUVlJ1c250ftbFs7+nq+1T7t2ytnw7djHzuyVrO+2c35HZOZGaZuPT/ryFOtMWeomRfLf8dkKH0A5TXvNS8qOC6H6kfgerjUdh0HPHQtf9XL00vToQ/moYVupc/8V7Olac2Y9R/4sC65xxNF4gAAAABJRU5ErkJggg==\"></image><g transform=\"translate(0,28)\" fill=\"none\" text-anchor=\"middle\" font-variant=\"tabular-nums\"><g class=\"tick\" opacity=\"1\" transform=\"translate(27.5,0)\"><line stroke=\"currentColor\" y2=\"6\" y1=\"-10\"></line><text fill=\"currentColor\" y=\"9\" dy=\"0.71em\">0</text></g><g class=\"tick\" opacity=\"1\" transform=\"translate(80.5,0)\"><line stroke=\"currentColor\" y2=\"6\" y1=\"-10\"></line><text fill=\"currentColor\" y=\"9\" dy=\"0.71em\">2</text></g><g class=\"tick\" opacity=\"1\" transform=\"translate(133.5,0)\"><line stroke=\"currentColor\" y2=\"6\" y1=\"-10\"></line><text fill=\"currentColor\" y=\"9\" dy=\"0.71em\">4</text></g><g class=\"tick\" opacity=\"1\" transform=\"translate(187.5,0)\"><line stroke=\"currentColor\" y2=\"6\" y1=\"-10\"></line><text fill=\"currentColor\" y=\"9\" dy=\"0.71em\">6</text></g><g class=\"tick\" opacity=\"1\" transform=\"translate(240.5,0)\"><line stroke=\"currentColor\" y2=\"6\" y1=\"-10\"></line><text fill=\"currentColor\" y=\"9\" dy=\"0.71em\">8</text></g></g></svg><svg class=\"plot-d6a7b5\" fill=\"currentColor\" font-family=\"system-ui, sans-serif\" font-size=\"10\" text-anchor=\"middle\" width=\"200\" height=\"190\" viewBox=\"0 0 200 190\" style=\"background-color: rgb(17, 17, 17); color: rgb(238, 238, 238);\" xmlns=\"http://www.w3.org/2000/svg\" xmlns:xlink=\"http://www.w3.org/1999/xlink\"><style>:where(.plot-d6a7b5) {\n",
       "  --plot-background: white;\n",
       "  display: block;\n",
       "  height: auto;\n",
       "  height: intrinsic;\n",
       "  max-width: 100%;\n",
       "}\n",
       ":where(.plot-d6a7b5 text),\n",
       ":where(.plot-d6a7b5 tspan) {\n",
       "  white-space: pre;\n",
       "}</style><g aria-label=\"y-axis tick\" aria-hidden=\"true\" fill=\"none\" stroke=\"currentColor\"><path transform=\"translate(0,190)\" d=\"M0,0L-6,0\"></path><path transform=\"translate(0,162.85714285714286)\" d=\"M0,0L-6,0\"></path><path transform=\"translate(0,135.71428571428572)\" d=\"M0,0L-6,0\"></path><path transform=\"translate(0,108.57142857142857)\" d=\"M0,0L-6,0\"></path><path transform=\"translate(0,81.42857142857143)\" d=\"M0,0L-6,0\"></path><path transform=\"translate(0,54.285714285714285)\" d=\"M0,0L-6,0\"></path><path transform=\"translate(0,27.142857142857142)\" d=\"M0,0L-6,0\"></path><path transform=\"translate(0,0)\" d=\"M0,0L-6,0\"></path></g><g aria-label=\"y-axis tick label\" text-anchor=\"end\" font-variant=\"tabular-nums\" transform=\"translate(-9,0)\"><text y=\"0.32em\" transform=\"translate(0,190)\">7</text><text y=\"0.32em\" transform=\"translate(0,162.85714285714286)\">6</text><text y=\"0.32em\" transform=\"translate(0,135.71428571428572)\">5</text><text y=\"0.32em\" transform=\"translate(0,108.57142857142857)\">4</text><text y=\"0.32em\" transform=\"translate(0,81.42857142857143)\">3</text><text y=\"0.32em\" transform=\"translate(0,54.285714285714285)\">2</text><text y=\"0.32em\" transform=\"translate(0,27.142857142857142)\">1</text><text y=\"0.32em\" transform=\"translate(0,0)\">0</text></g><g aria-label=\"y-axis label\" text-anchor=\"start\" transform=\"translate(3,3)\"><text y=\"0.71em\" transform=\"translate(0,0)\">↓ row</text></g><g aria-label=\"x-axis tick\" aria-hidden=\"true\" fill=\"none\" stroke=\"currentColor\"><path transform=\"translate(0,0)\" d=\"M0,0L0,-6\"></path><path transform=\"translate(57.14285714285714,0)\" d=\"M0,0L0,-6\"></path><path transform=\"translate(114.28571428571428,0)\" d=\"M0,0L0,-6\"></path><path transform=\"translate(171.42857142857142,0)\" d=\"M0,0L0,-6\"></path></g><g aria-label=\"x-axis tick label\" font-variant=\"tabular-nums\" transform=\"translate(0,-9)\"><text transform=\"translate(0,0)\">0</text><text transform=\"translate(57.14285714285714,0)\">2</text><text transform=\"translate(114.28571428571428,0)\">4</text><text transform=\"translate(171.42857142857142,0)\">6</text></g><g aria-label=\"x-axis label\" text-anchor=\"end\" transform=\"translate(-3,3)\"><text y=\"0.71em\" transform=\"translate(200,0)\">column →</text></g><g aria-label=\"raster\"><image transform=\"translate(0,0) scale(1,1)\" width=\"200\" height=\"190\" preserveAspectRatio=\"none\" image-rendering=\"pixelated\" href=\"data:image/png;base64,iVBORw0KGgoAAAANSUhEUgAAAAcAAAAHCAYAAADEUlfTAAAABmJLR0QA/wD/AP+gvaeTAAAAeklEQVQImWOU4Lf9z4ADMCFzthqaMNwMVMCUjBJwYbj4no+Bx4wbVfLFx+MMlz58Zah6sI+B0USV4cm7JgYGBgYGFgYGBgYX/iKGTsPfDCoKCgz/z9yGG8fCwMDAoCfAzXDx/T8G7/NnGBjWMzAwMFxlYGBgYGDE51oA7/oeGGVzNCEAAAAASUVORK5CYII=\"></image></g><g aria-label=\"text\" font-size=\"23.523809523809522\" font-variant=\"tabular-nums\"><text y=\"0.32em\" transform=\"translate(14.285714285714285,13.571428571428571)\">0</text><text y=\"0.32em\" transform=\"translate(42.857142857142854,13.571428571428571)\">0</text><text y=\"0.32em\" transform=\"translate(71.42857142857143,13.571428571428571)\">0</text><text y=\"0.32em\" transform=\"translate(100,13.571428571428571)\">0</text><text y=\"0.32em\" transform=\"translate(128.57142857142858,13.571428571428571)\">0</text><text y=\"0.32em\" transform=\"translate(157.14285714285714,13.571428571428571)\">0</text><text y=\"0.32em\" transform=\"translate(185.71428571428572,13.571428571428571)\">0</text><text y=\"0.32em\" transform=\"translate(14.285714285714285,40.714285714285715)\">0</text><text y=\"0.32em\" transform=\"translate(42.857142857142854,40.714285714285715)\">0</text><text y=\"0.32em\" transform=\"translate(71.42857142857143,40.714285714285715)\">0</text><text y=\"0.32em\" transform=\"translate(100,40.714285714285715)\">4</text><text y=\"0.32em\" transform=\"translate(128.57142857142858,40.714285714285715)\">5</text><text y=\"0.32em\" transform=\"translate(157.14285714285714,40.714285714285715)\">0</text><text y=\"0.32em\" transform=\"translate(185.71428571428572,40.714285714285715)\">0</text><text y=\"0.32em\" transform=\"translate(14.285714285714285,67.85714285714286)\">0</text><text y=\"0.32em\" transform=\"translate(42.857142857142854,67.85714285714286)\">0</text><text y=\"0.32em\" transform=\"translate(71.42857142857143,67.85714285714286)\">2</text><text y=\"0.32em\" transform=\"translate(100,67.85714285714286)\">3</text><text y=\"0.32em\" transform=\"translate(128.57142857142858,67.85714285714286)\">6</text><text y=\"0.32em\" transform=\"translate(157.14285714285714,67.85714285714286)\">0</text><text y=\"0.32em\" transform=\"translate(185.71428571428572,67.85714285714286)\">0</text><text y=\"0.32em\" transform=\"translate(14.285714285714285,95)\">0</text><text y=\"0.32em\" transform=\"translate(42.857142857142854,95)\">-1</text><text y=\"0.32em\" transform=\"translate(71.42857142857143,95)\">1</text><text y=\"0.32em\" transform=\"translate(100,95)\">0</text><text y=\"0.32em\" transform=\"translate(128.57142857142858,95)\">7</text><text y=\"0.32em\" transform=\"translate(157.14285714285714,95)\">8</text><text y=\"0.32em\" transform=\"translate(185.71428571428572,95)\">0</text><text y=\"0.32em\" transform=\"translate(14.285714285714285,122.14285714285715)\">0</text><text y=\"0.32em\" transform=\"translate(42.857142857142854,122.14285714285715)\">1</text><text y=\"0.32em\" transform=\"translate(71.42857142857143,122.14285714285715)\">4</text><text y=\"0.32em\" transform=\"translate(100,122.14285714285715)\">5</text><text y=\"0.32em\" transform=\"translate(128.57142857142858,122.14285714285715)\">6</text><text y=\"0.32em\" transform=\"translate(157.14285714285714,122.14285714285715)\">7</text><text y=\"0.32em\" transform=\"translate(185.71428571428572,122.14285714285715)\">0</text><text y=\"0.32em\" transform=\"translate(14.285714285714285,149.28571428571428)\">0</text><text y=\"0.32em\" transform=\"translate(42.857142857142854,149.28571428571428)\">2</text><text y=\"0.32em\" transform=\"translate(71.42857142857143,149.28571428571428)\">3</text><text y=\"0.32em\" transform=\"translate(100,149.28571428571428)\">0</text><text y=\"0.32em\" transform=\"translate(128.57142857142858,149.28571428571428)\">0</text><text y=\"0.32em\" transform=\"translate(157.14285714285714,149.28571428571428)\">0</text><text y=\"0.32em\" transform=\"translate(185.71428571428572,149.28571428571428)\">0</text><text y=\"0.32em\" transform=\"translate(14.285714285714285,176.42857142857144)\">0</text><text y=\"0.32em\" transform=\"translate(42.857142857142854,176.42857142857144)\">0</text><text y=\"0.32em\" transform=\"translate(71.42857142857143,176.42857142857144)\">0</text><text y=\"0.32em\" transform=\"translate(100,176.42857142857144)\">0</text><text y=\"0.32em\" transform=\"translate(128.57142857142858,176.42857142857144)\">0</text><text y=\"0.32em\" transform=\"translate(157.14285714285714,176.42857142857144)\">0</text><text y=\"0.32em\" transform=\"translate(185.71428571428572,176.42857142857144)\">0</text></g></svg></figure>"
      ],
      "text/plain": [
       "<IPython.core.display.HTML object>"
      ]
     },
     "metadata": {},
     "output_type": "display_data"
    },
    {
     "data": {
      "text/html": [
       "<figure class=\"plot-d6a7b5-figure\" style=\"max-width: initial; padding: 0px 5px 5px 5px; color: currentColor; background-color: transparent;\"><h2 style=\"line-height: 28px; font-size: 20px; font-weight: 600; margin: 0px;\">Main Loop</h2><div class=\"plot-d6a7b5-swatches plot-d6a7b5-swatches-wrap\"><span class=\"plot-d6a7b5-swatch\"><svg width=\"15\" height=\"15\" fill=\"#4269d0\" xmlns=\"http://www.w3.org/2000/svg\" xmlns:xlink=\"http://www.w3.org/1999/xlink\" style=\"color: currentColor; background-color: transparent;\"><rect width=\"100%\" height=\"100%\"></rect></svg>─</span><span class=\"plot-d6a7b5-swatch\"><svg width=\"15\" height=\"15\" fill=\"#efb118\" xmlns=\"http://www.w3.org/2000/svg\" xmlns:xlink=\"http://www.w3.org/1999/xlink\" style=\"color: currentColor; background-color: transparent;\"><rect width=\"100%\" height=\"100%\"></rect></svg>│</span><span class=\"plot-d6a7b5-swatch\"><svg width=\"15\" height=\"15\" fill=\"#ff725c\" xmlns=\"http://www.w3.org/2000/svg\" xmlns:xlink=\"http://www.w3.org/1999/xlink\" style=\"color: currentColor; background-color: transparent;\"><rect width=\"100%\" height=\"100%\"></rect></svg>┌</span><span class=\"plot-d6a7b5-swatch\"><svg width=\"15\" height=\"15\" fill=\"#6cc5b0\" xmlns=\"http://www.w3.org/2000/svg\" xmlns:xlink=\"http://www.w3.org/1999/xlink\" style=\"color: currentColor; background-color: transparent;\"><rect width=\"100%\" height=\"100%\"></rect></svg>┐</span><span class=\"plot-d6a7b5-swatch\"><svg width=\"15\" height=\"15\" fill=\"#3ca951\" xmlns=\"http://www.w3.org/2000/svg\" xmlns:xlink=\"http://www.w3.org/1999/xlink\" style=\"color: currentColor; background-color: transparent;\"><rect width=\"100%\" height=\"100%\"></rect></svg>└</span><span class=\"plot-d6a7b5-swatch\"><svg width=\"15\" height=\"15\" fill=\"#ff8ab7\" xmlns=\"http://www.w3.org/2000/svg\" xmlns:xlink=\"http://www.w3.org/1999/xlink\" style=\"color: currentColor; background-color: transparent;\"><rect width=\"100%\" height=\"100%\"></rect></svg>┘</span><span class=\"plot-d6a7b5-swatch\"><svg width=\"15\" height=\"15\" fill=\"#a463f2\" xmlns=\"http://www.w3.org/2000/svg\" xmlns:xlink=\"http://www.w3.org/1999/xlink\" style=\"color: currentColor; background-color: transparent;\"><rect width=\"100%\" height=\"100%\"></rect></svg>░</span><style>:where(.plot-d6a7b5-swatches) {\n",
       "  font-family: system-ui, sans-serif;\n",
       "  font-size: 10px;\n",
       "  margin-bottom: 0.5em;\n",
       "}\n",
       ":where(.plot-d6a7b5-swatch > svg) {\n",
       "  margin-right: 0.5em;\n",
       "  overflow: visible;\n",
       "}\n",
       ":where(.plot-d6a7b5-swatches-wrap) {\n",
       "  display: flex;\n",
       "  align-items: center;\n",
       "  min-height: 33px;\n",
       "  flex-wrap: wrap;\n",
       "}\n",
       ":where(.plot-d6a7b5-swatches-wrap .plot-d6a7b5-swatch) {\n",
       "  display: inline-flex;\n",
       "  align-items: center;\n",
       "  margin-right: 1em;\n",
       "}</style></div><svg class=\"plot-d6a7b5\" fill=\"currentColor\" font-family=\"system-ui, sans-serif\" font-size=\"10\" text-anchor=\"middle\" width=\"200\" height=\"190\" viewBox=\"0 0 200 190\" style=\"background-color: rgb(17, 17, 17); color: rgb(238, 238, 238);\" xmlns=\"http://www.w3.org/2000/svg\" xmlns:xlink=\"http://www.w3.org/1999/xlink\"><style>:where(.plot-d6a7b5) {\n",
       "  --plot-background: white;\n",
       "  display: block;\n",
       "  height: auto;\n",
       "  height: intrinsic;\n",
       "  max-width: 100%;\n",
       "}\n",
       ":where(.plot-d6a7b5 text),\n",
       ":where(.plot-d6a7b5 tspan) {\n",
       "  white-space: pre;\n",
       "}</style><g aria-label=\"y-axis tick\" aria-hidden=\"true\" fill=\"none\" stroke=\"currentColor\"><path transform=\"translate(0,190)\" d=\"M0,0L-6,0\"></path><path transform=\"translate(0,162.85714285714286)\" d=\"M0,0L-6,0\"></path><path transform=\"translate(0,135.71428571428572)\" d=\"M0,0L-6,0\"></path><path transform=\"translate(0,108.57142857142857)\" d=\"M0,0L-6,0\"></path><path transform=\"translate(0,81.42857142857143)\" d=\"M0,0L-6,0\"></path><path transform=\"translate(0,54.285714285714285)\" d=\"M0,0L-6,0\"></path><path transform=\"translate(0,27.142857142857142)\" d=\"M0,0L-6,0\"></path><path transform=\"translate(0,0)\" d=\"M0,0L-6,0\"></path></g><g aria-label=\"y-axis tick label\" text-anchor=\"end\" font-variant=\"tabular-nums\" transform=\"translate(-9,0)\"><text y=\"0.32em\" transform=\"translate(0,190)\">7</text><text y=\"0.32em\" transform=\"translate(0,162.85714285714286)\">6</text><text y=\"0.32em\" transform=\"translate(0,135.71428571428572)\">5</text><text y=\"0.32em\" transform=\"translate(0,108.57142857142857)\">4</text><text y=\"0.32em\" transform=\"translate(0,81.42857142857143)\">3</text><text y=\"0.32em\" transform=\"translate(0,54.285714285714285)\">2</text><text y=\"0.32em\" transform=\"translate(0,27.142857142857142)\">1</text><text y=\"0.32em\" transform=\"translate(0,0)\">0</text></g><g aria-label=\"y-axis label\" text-anchor=\"start\" transform=\"translate(3,3)\"><text y=\"0.71em\" transform=\"translate(0,0)\">↓ row</text></g><g aria-label=\"x-axis tick\" aria-hidden=\"true\" fill=\"none\" stroke=\"currentColor\"><path transform=\"translate(0,0)\" d=\"M0,0L0,-6\"></path><path transform=\"translate(57.14285714285714,0)\" d=\"M0,0L0,-6\"></path><path transform=\"translate(114.28571428571428,0)\" d=\"M0,0L0,-6\"></path><path transform=\"translate(171.42857142857142,0)\" d=\"M0,0L0,-6\"></path></g><g aria-label=\"x-axis tick label\" font-variant=\"tabular-nums\" transform=\"translate(0,-9)\"><text transform=\"translate(0,0)\">0</text><text transform=\"translate(57.14285714285714,0)\">2</text><text transform=\"translate(114.28571428571428,0)\">4</text><text transform=\"translate(171.42857142857142,0)\">6</text></g><g aria-label=\"x-axis label\" text-anchor=\"end\" transform=\"translate(-3,3)\"><text y=\"0.71em\" transform=\"translate(200,0)\">column →</text></g><g aria-label=\"raster\"><image transform=\"translate(0,0) scale(1,1)\" width=\"200\" height=\"190\" preserveAspectRatio=\"none\" image-rendering=\"pixelated\" href=\"data:image/png;base64,iVBORw0KGgoAAAANSUhEUgAAAAcAAAAHCAYAAADEUlfTAAAABmJLR0QA/wD/AP+gvaeTAAAAbklEQVQImWNckvzpPwMOwITMiebPYjiRtA9TMpo/i4FBIpqh+U0GqiRMYulNawbfH5Zw3UwMDAwMH+z3MDC8WMowj+0eA9uBeobJR9kZGBgYGFgYGBgYfH9YMhyWiGZIuqnEwMDAwLAUSjPicy0Amc8fjv/I1REAAAAASUVORK5CYII=\"></image></g><g aria-label=\"text\" font-size=\"23.523809523809522\"><text y=\"0.32em\" transform=\"translate(14.285714285714285,13.571428571428571)\">░</text><text y=\"0.32em\" transform=\"translate(42.857142857142854,13.571428571428571)\">░</text><text y=\"0.32em\" transform=\"translate(71.42857142857143,13.571428571428571)\">░</text><text y=\"0.32em\" transform=\"translate(100,13.571428571428571)\">░</text><text y=\"0.32em\" transform=\"translate(128.57142857142858,13.571428571428571)\">░</text><text y=\"0.32em\" transform=\"translate(157.14285714285714,13.571428571428571)\">░</text><text y=\"0.32em\" transform=\"translate(185.71428571428572,13.571428571428571)\">░</text><text y=\"0.32em\" transform=\"translate(14.285714285714285,40.714285714285715)\">░</text><text y=\"0.32em\" transform=\"translate(42.857142857142854,40.714285714285715)\">░</text><text y=\"0.32em\" transform=\"translate(71.42857142857143,40.714285714285715)\">░</text><text y=\"0.32em\" transform=\"translate(100,40.714285714285715)\">┌</text><text y=\"0.32em\" transform=\"translate(128.57142857142858,40.714285714285715)\">┐</text><text y=\"0.32em\" transform=\"translate(157.14285714285714,40.714285714285715)\">░</text><text y=\"0.32em\" transform=\"translate(185.71428571428572,40.714285714285715)\">░</text><text y=\"0.32em\" transform=\"translate(14.285714285714285,67.85714285714286)\">░</text><text y=\"0.32em\" transform=\"translate(42.857142857142854,67.85714285714286)\">░</text><text y=\"0.32em\" transform=\"translate(71.42857142857143,67.85714285714286)\">┌</text><text y=\"0.32em\" transform=\"translate(100,67.85714285714286)\">┘</text><text y=\"0.32em\" transform=\"translate(128.57142857142858,67.85714285714286)\">│</text><text y=\"0.32em\" transform=\"translate(157.14285714285714,67.85714285714286)\">░</text><text y=\"0.32em\" transform=\"translate(185.71428571428572,67.85714285714286)\">░</text><text y=\"0.32em\" transform=\"translate(14.285714285714285,95)\">░</text><text y=\"0.32em\" transform=\"translate(42.857142857142854,95)\">S</text><text y=\"0.32em\" transform=\"translate(71.42857142857143,95)\">┘</text><text y=\"0.32em\" transform=\"translate(100,95)\">░</text><text y=\"0.32em\" transform=\"translate(128.57142857142858,95)\">└</text><text y=\"0.32em\" transform=\"translate(157.14285714285714,95)\">┐</text><text y=\"0.32em\" transform=\"translate(185.71428571428572,95)\">░</text><text y=\"0.32em\" transform=\"translate(14.285714285714285,122.14285714285715)\">░</text><text y=\"0.32em\" transform=\"translate(42.857142857142854,122.14285714285715)\">│</text><text y=\"0.32em\" transform=\"translate(71.42857142857143,122.14285714285715)\">┌</text><text y=\"0.32em\" transform=\"translate(100,122.14285714285715)\">─</text><text y=\"0.32em\" transform=\"translate(128.57142857142858,122.14285714285715)\">─</text><text y=\"0.32em\" transform=\"translate(157.14285714285714,122.14285714285715)\">┘</text><text y=\"0.32em\" transform=\"translate(185.71428571428572,122.14285714285715)\">░</text><text y=\"0.32em\" transform=\"translate(14.285714285714285,149.28571428571428)\">░</text><text y=\"0.32em\" transform=\"translate(42.857142857142854,149.28571428571428)\">└</text><text y=\"0.32em\" transform=\"translate(71.42857142857143,149.28571428571428)\">┘</text><text y=\"0.32em\" transform=\"translate(100,149.28571428571428)\">░</text><text y=\"0.32em\" transform=\"translate(128.57142857142858,149.28571428571428)\">░</text><text y=\"0.32em\" transform=\"translate(157.14285714285714,149.28571428571428)\">░</text><text y=\"0.32em\" transform=\"translate(185.71428571428572,149.28571428571428)\">░</text><text y=\"0.32em\" transform=\"translate(14.285714285714285,176.42857142857144)\">░</text><text y=\"0.32em\" transform=\"translate(42.857142857142854,176.42857142857144)\">░</text><text y=\"0.32em\" transform=\"translate(71.42857142857143,176.42857142857144)\">░</text><text y=\"0.32em\" transform=\"translate(100,176.42857142857144)\">░</text><text y=\"0.32em\" transform=\"translate(128.57142857142858,176.42857142857144)\">░</text><text y=\"0.32em\" transform=\"translate(157.14285714285714,176.42857142857144)\">░</text><text y=\"0.32em\" transform=\"translate(185.71428571428572,176.42857142857144)\">░</text></g></svg></figure>"
      ],
      "text/plain": [
       "<IPython.core.display.HTML object>"
      ]
     },
     "metadata": {},
     "output_type": "display_data"
    },
    {
     "data": {
      "text/html": [
       "<figure class=\"plot-d6a7b5-figure\" style=\"max-width: initial; padding: 0px 5px 5px 5px; color: currentColor; background-color: transparent;\"><h2 style=\"line-height: 28px; font-size: 20px; font-weight: 600; margin: 0px;\">Raster 3x</h2><div class=\"plot-d6a7b5-swatches plot-d6a7b5-swatches-wrap\"><span class=\"plot-d6a7b5-swatch\"><svg width=\"15\" height=\"15\" fill=\"#440154\" xmlns=\"http://www.w3.org/2000/svg\" xmlns:xlink=\"http://www.w3.org/1999/xlink\" style=\"color: currentColor; background-color: transparent;\"><rect width=\"100%\" height=\"100%\"></rect></svg>false</span><span class=\"plot-d6a7b5-swatch\"><svg width=\"15\" height=\"15\" fill=\"#fde725\" xmlns=\"http://www.w3.org/2000/svg\" xmlns:xlink=\"http://www.w3.org/1999/xlink\" style=\"color: currentColor; background-color: transparent;\"><rect width=\"100%\" height=\"100%\"></rect></svg>true</span><style>:where(.plot-d6a7b5-swatches) {\n",
       "  font-family: system-ui, sans-serif;\n",
       "  font-size: 10px;\n",
       "  margin-bottom: 0.5em;\n",
       "}\n",
       ":where(.plot-d6a7b5-swatch > svg) {\n",
       "  margin-right: 0.5em;\n",
       "  overflow: visible;\n",
       "}\n",
       ":where(.plot-d6a7b5-swatches-wrap) {\n",
       "  display: flex;\n",
       "  align-items: center;\n",
       "  min-height: 33px;\n",
       "  flex-wrap: wrap;\n",
       "}\n",
       ":where(.plot-d6a7b5-swatches-wrap .plot-d6a7b5-swatch) {\n",
       "  display: inline-flex;\n",
       "  align-items: center;\n",
       "  margin-right: 1em;\n",
       "}</style></div><svg class=\"plot-d6a7b5\" fill=\"currentColor\" font-family=\"system-ui, sans-serif\" font-size=\"10\" text-anchor=\"middle\" width=\"200\" height=\"190\" viewBox=\"0 0 200 190\" style=\"background-color: rgb(17, 17, 17); color: rgb(238, 238, 238);\" xmlns=\"http://www.w3.org/2000/svg\" xmlns:xlink=\"http://www.w3.org/1999/xlink\"><style>:where(.plot-d6a7b5) {\n",
       "  --plot-background: white;\n",
       "  display: block;\n",
       "  height: auto;\n",
       "  height: intrinsic;\n",
       "  max-width: 100%;\n",
       "}\n",
       ":where(.plot-d6a7b5 text),\n",
       ":where(.plot-d6a7b5 tspan) {\n",
       "  white-space: pre;\n",
       "}</style><g aria-label=\"y-axis tick\" aria-hidden=\"true\" fill=\"none\" stroke=\"currentColor\"><path transform=\"translate(0,180.95238095238093)\" d=\"M0,0L-6,0\"></path><path transform=\"translate(0,135.71428571428572)\" d=\"M0,0L-6,0\"></path><path transform=\"translate(0,90.47619047619047)\" d=\"M0,0L-6,0\"></path><path transform=\"translate(0,45.238095238095234)\" d=\"M0,0L-6,0\"></path><path transform=\"translate(0,0)\" d=\"M0,0L-6,0\"></path></g><g aria-label=\"y-axis tick label\" text-anchor=\"end\" font-variant=\"tabular-nums\" transform=\"translate(-9,0)\"><text y=\"0.32em\" transform=\"translate(0,180.95238095238093)\">20</text><text y=\"0.32em\" transform=\"translate(0,135.71428571428572)\">15</text><text y=\"0.32em\" transform=\"translate(0,90.47619047619047)\">10</text><text y=\"0.32em\" transform=\"translate(0,45.238095238095234)\">5</text><text y=\"0.32em\" transform=\"translate(0,0)\">0</text></g><g aria-label=\"y-axis label\" text-anchor=\"start\" transform=\"translate(3,3)\"><text y=\"0.71em\" transform=\"translate(0,0)\">↓ row</text></g><g aria-label=\"x-axis tick\" aria-hidden=\"true\" fill=\"none\" stroke=\"currentColor\"><path transform=\"translate(0,0)\" d=\"M0,0L0,-6\"></path><path transform=\"translate(95.23809523809523,0)\" d=\"M0,0L0,-6\"></path><path transform=\"translate(190.47619047619045,0)\" d=\"M0,0L0,-6\"></path></g><g aria-label=\"x-axis tick label\" font-variant=\"tabular-nums\" transform=\"translate(0,-9)\"><text transform=\"translate(0,0)\">0</text><text transform=\"translate(95.23809523809523,0)\">10</text><text transform=\"translate(190.47619047619045,0)\">20</text></g><g aria-label=\"x-axis label\" text-anchor=\"end\" transform=\"translate(-3,3)\"><text y=\"0.71em\" transform=\"translate(200,0)\">column →</text></g><g aria-label=\"raster\"><image transform=\"translate(0,0) scale(1,1)\" width=\"200\" height=\"190\" preserveAspectRatio=\"none\" image-rendering=\"pixelated\" href=\"data:image/png;base64,iVBORw0KGgoAAAANSUhEUgAAABUAAAAVCAYAAACpF6WWAAAABmJLR0QA/wD/AP+gvaeTAAAAaElEQVQ4jWN0YQz5z0BlwERtA4eWoSzEKtz57CIK311KH6daklzqLqWP1zCyDCUW4PU+upepYigDA/6wwwXo431ivYysDt03WL1PyMvI8tgcMRr71AdYXUqut3EaSo530cHQKU9pYigAfsEX9JvyuFoAAAAASUVORK5CYII=\"></image></g></svg></figure>"
      ],
      "text/plain": [
       "<IPython.core.display.HTML object>"
      ]
     },
     "metadata": {},
     "output_type": "display_data"
    },
    {
     "data": {
      "text/html": [
       "<figure class=\"plot-d6a7b5-figure\" style=\"max-width: initial; padding: 0px 5px 5px 5px; color: currentColor; background-color: transparent;\"><h2 style=\"line-height: 28px; font-size: 20px; font-weight: 600; margin: 0px;\">Filled (flood fill)</h2><div class=\"plot-d6a7b5-swatches plot-d6a7b5-swatches-wrap\"><span class=\"plot-d6a7b5-swatch\"><svg width=\"15\" height=\"15\" fill=\"#4269d0\" xmlns=\"http://www.w3.org/2000/svg\" xmlns:xlink=\"http://www.w3.org/1999/xlink\" style=\"color: currentColor; background-color: transparent;\"><rect width=\"100%\" height=\"100%\"></rect></svg>0</span><span class=\"plot-d6a7b5-swatch\"><svg width=\"15\" height=\"15\" fill=\"#efb118\" xmlns=\"http://www.w3.org/2000/svg\" xmlns:xlink=\"http://www.w3.org/1999/xlink\" style=\"color: currentColor; background-color: transparent;\"><rect width=\"100%\" height=\"100%\"></rect></svg>128</span><span class=\"plot-d6a7b5-swatch\"><svg width=\"15\" height=\"15\" fill=\"#ff725c\" xmlns=\"http://www.w3.org/2000/svg\" xmlns:xlink=\"http://www.w3.org/1999/xlink\" style=\"color: currentColor; background-color: transparent;\"><rect width=\"100%\" height=\"100%\"></rect></svg>255</span><style>:where(.plot-d6a7b5-swatches) {\n",
       "  font-family: system-ui, sans-serif;\n",
       "  font-size: 10px;\n",
       "  margin-bottom: 0.5em;\n",
       "}\n",
       ":where(.plot-d6a7b5-swatch > svg) {\n",
       "  margin-right: 0.5em;\n",
       "  overflow: visible;\n",
       "}\n",
       ":where(.plot-d6a7b5-swatches-wrap) {\n",
       "  display: flex;\n",
       "  align-items: center;\n",
       "  min-height: 33px;\n",
       "  flex-wrap: wrap;\n",
       "}\n",
       ":where(.plot-d6a7b5-swatches-wrap .plot-d6a7b5-swatch) {\n",
       "  display: inline-flex;\n",
       "  align-items: center;\n",
       "  margin-right: 1em;\n",
       "}</style></div><svg class=\"plot-d6a7b5\" fill=\"currentColor\" font-family=\"system-ui, sans-serif\" font-size=\"10\" text-anchor=\"middle\" width=\"200\" height=\"190\" viewBox=\"0 0 200 190\" style=\"background-color: rgb(17, 17, 17); color: rgb(238, 238, 238);\" xmlns=\"http://www.w3.org/2000/svg\" xmlns:xlink=\"http://www.w3.org/1999/xlink\"><style>:where(.plot-d6a7b5) {\n",
       "  --plot-background: white;\n",
       "  display: block;\n",
       "  height: auto;\n",
       "  height: intrinsic;\n",
       "  max-width: 100%;\n",
       "}\n",
       ":where(.plot-d6a7b5 text),\n",
       ":where(.plot-d6a7b5 tspan) {\n",
       "  white-space: pre;\n",
       "}</style><g aria-label=\"y-axis tick\" aria-hidden=\"true\" fill=\"none\" stroke=\"currentColor\"><path transform=\"translate(0,180.95238095238093)\" d=\"M0,0L-6,0\"></path><path transform=\"translate(0,135.71428571428572)\" d=\"M0,0L-6,0\"></path><path transform=\"translate(0,90.47619047619047)\" d=\"M0,0L-6,0\"></path><path transform=\"translate(0,45.238095238095234)\" d=\"M0,0L-6,0\"></path><path transform=\"translate(0,0)\" d=\"M0,0L-6,0\"></path></g><g aria-label=\"y-axis tick label\" text-anchor=\"end\" font-variant=\"tabular-nums\" transform=\"translate(-9,0)\"><text y=\"0.32em\" transform=\"translate(0,180.95238095238093)\">20</text><text y=\"0.32em\" transform=\"translate(0,135.71428571428572)\">15</text><text y=\"0.32em\" transform=\"translate(0,90.47619047619047)\">10</text><text y=\"0.32em\" transform=\"translate(0,45.238095238095234)\">5</text><text y=\"0.32em\" transform=\"translate(0,0)\">0</text></g><g aria-label=\"y-axis label\" text-anchor=\"start\" transform=\"translate(3,3)\"><text y=\"0.71em\" transform=\"translate(0,0)\">↓ row</text></g><g aria-label=\"x-axis tick\" aria-hidden=\"true\" fill=\"none\" stroke=\"currentColor\"><path transform=\"translate(0,0)\" d=\"M0,0L0,-6\"></path><path transform=\"translate(95.23809523809523,0)\" d=\"M0,0L0,-6\"></path><path transform=\"translate(190.47619047619045,0)\" d=\"M0,0L0,-6\"></path></g><g aria-label=\"x-axis tick label\" font-variant=\"tabular-nums\" transform=\"translate(0,-9)\"><text transform=\"translate(0,0)\">0</text><text transform=\"translate(95.23809523809523,0)\">10</text><text transform=\"translate(190.47619047619045,0)\">20</text></g><g aria-label=\"x-axis label\" text-anchor=\"end\" transform=\"translate(-3,3)\"><text y=\"0.71em\" transform=\"translate(200,0)\">column →</text></g><g aria-label=\"raster\"><image transform=\"translate(0,0) scale(1,1)\" width=\"200\" height=\"190\" preserveAspectRatio=\"none\" image-rendering=\"pixelated\" href=\"data:image/png;base64,iVBORw0KGgoAAAANSUhEUgAAABUAAAAVCAYAAACpF6WWAAAABmJLR0QA/wD/AP+gvaeTAAAAcUlEQVQ4jWN8v1HiPwOVARO1DRxahrIQq1DgoAsK/4P9HpxqSXKp8/cSBufvJQTV0d/76F6miqEMDAxEeRcd0Mf7xHoZWR16SsDqfUJeRpbfy9mDIU//2MfmCooNZWDAn3NwAfp5n1xvwwDjaCFNdQAAL2gcGNSR1ekAAAAASUVORK5CYII=\"></image></g></svg></figure>"
      ],
      "text/plain": [
       "<IPython.core.display.HTML object>"
      ]
     },
     "metadata": {},
     "output_type": "display_data"
    },
    {
     "data": {
      "text/html": [
       "<figure class=\"plot-d6a7b5-figure\" style=\"max-width: initial; padding: 0px 5px 5px 5px; color: currentColor; background-color: transparent;\"><h2 style=\"line-height: 28px; font-size: 20px; font-weight: 600; margin: 0px;\">Coarsened 3x</h2><div class=\"plot-d6a7b5-swatches plot-d6a7b5-swatches-wrap\"><span class=\"plot-d6a7b5-swatch\"><svg width=\"15\" height=\"15\" fill=\"#440154\" xmlns=\"http://www.w3.org/2000/svg\" xmlns:xlink=\"http://www.w3.org/1999/xlink\" style=\"color: currentColor; background-color: transparent;\"><rect width=\"100%\" height=\"100%\"></rect></svg>false</span><span class=\"plot-d6a7b5-swatch\"><svg width=\"15\" height=\"15\" fill=\"#fde725\" xmlns=\"http://www.w3.org/2000/svg\" xmlns:xlink=\"http://www.w3.org/1999/xlink\" style=\"color: currentColor; background-color: transparent;\"><rect width=\"100%\" height=\"100%\"></rect></svg>true</span><style>:where(.plot-d6a7b5-swatches) {\n",
       "  font-family: system-ui, sans-serif;\n",
       "  font-size: 10px;\n",
       "  margin-bottom: 0.5em;\n",
       "}\n",
       ":where(.plot-d6a7b5-swatch > svg) {\n",
       "  margin-right: 0.5em;\n",
       "  overflow: visible;\n",
       "}\n",
       ":where(.plot-d6a7b5-swatches-wrap) {\n",
       "  display: flex;\n",
       "  align-items: center;\n",
       "  min-height: 33px;\n",
       "  flex-wrap: wrap;\n",
       "}\n",
       ":where(.plot-d6a7b5-swatches-wrap .plot-d6a7b5-swatch) {\n",
       "  display: inline-flex;\n",
       "  align-items: center;\n",
       "  margin-right: 1em;\n",
       "}</style></div><svg class=\"plot-d6a7b5\" fill=\"currentColor\" font-family=\"system-ui, sans-serif\" font-size=\"10\" text-anchor=\"middle\" width=\"200\" height=\"190\" viewBox=\"0 0 200 190\" style=\"background-color: rgb(17, 17, 17); color: rgb(238, 238, 238);\" xmlns=\"http://www.w3.org/2000/svg\" xmlns:xlink=\"http://www.w3.org/1999/xlink\"><style>:where(.plot-d6a7b5) {\n",
       "  --plot-background: white;\n",
       "  display: block;\n",
       "  height: auto;\n",
       "  height: intrinsic;\n",
       "  max-width: 100%;\n",
       "}\n",
       ":where(.plot-d6a7b5 text),\n",
       ":where(.plot-d6a7b5 tspan) {\n",
       "  white-space: pre;\n",
       "}</style><g aria-label=\"y-axis tick\" aria-hidden=\"true\" fill=\"none\" stroke=\"currentColor\"><path transform=\"translate(0,190)\" d=\"M0,0L-6,0\"></path><path transform=\"translate(0,162.85714285714286)\" d=\"M0,0L-6,0\"></path><path transform=\"translate(0,135.71428571428572)\" d=\"M0,0L-6,0\"></path><path transform=\"translate(0,108.57142857142857)\" d=\"M0,0L-6,0\"></path><path transform=\"translate(0,81.42857142857143)\" d=\"M0,0L-6,0\"></path><path transform=\"translate(0,54.285714285714285)\" d=\"M0,0L-6,0\"></path><path transform=\"translate(0,27.142857142857142)\" d=\"M0,0L-6,0\"></path><path transform=\"translate(0,0)\" d=\"M0,0L-6,0\"></path></g><g aria-label=\"y-axis tick label\" text-anchor=\"end\" font-variant=\"tabular-nums\" transform=\"translate(-9,0)\"><text y=\"0.32em\" transform=\"translate(0,190)\">7</text><text y=\"0.32em\" transform=\"translate(0,162.85714285714286)\">6</text><text y=\"0.32em\" transform=\"translate(0,135.71428571428572)\">5</text><text y=\"0.32em\" transform=\"translate(0,108.57142857142857)\">4</text><text y=\"0.32em\" transform=\"translate(0,81.42857142857143)\">3</text><text y=\"0.32em\" transform=\"translate(0,54.285714285714285)\">2</text><text y=\"0.32em\" transform=\"translate(0,27.142857142857142)\">1</text><text y=\"0.32em\" transform=\"translate(0,0)\">0</text></g><g aria-label=\"y-axis label\" text-anchor=\"start\" transform=\"translate(3,3)\"><text y=\"0.71em\" transform=\"translate(0,0)\">↓ row</text></g><g aria-label=\"x-axis tick\" aria-hidden=\"true\" fill=\"none\" stroke=\"currentColor\"><path transform=\"translate(0,0)\" d=\"M0,0L0,-6\"></path><path transform=\"translate(57.14285714285714,0)\" d=\"M0,0L0,-6\"></path><path transform=\"translate(114.28571428571428,0)\" d=\"M0,0L0,-6\"></path><path transform=\"translate(171.42857142857142,0)\" d=\"M0,0L0,-6\"></path></g><g aria-label=\"x-axis tick label\" font-variant=\"tabular-nums\" transform=\"translate(0,-9)\"><text transform=\"translate(0,0)\">0</text><text transform=\"translate(57.14285714285714,0)\">2</text><text transform=\"translate(114.28571428571428,0)\">4</text><text transform=\"translate(171.42857142857142,0)\">6</text></g><g aria-label=\"x-axis label\" text-anchor=\"end\" transform=\"translate(-3,3)\"><text y=\"0.71em\" transform=\"translate(200,0)\">column →</text></g><g aria-label=\"raster\"><image transform=\"translate(0,0) scale(1,1)\" width=\"200\" height=\"190\" preserveAspectRatio=\"none\" image-rendering=\"pixelated\" href=\"data:image/png;base64,iVBORw0KGgoAAAANSUhEUgAAAAcAAAAHCAYAAADEUlfTAAAABmJLR0QA/wD/AP+gvaeTAAAAIElEQVQImWN0YQz5z4ADMOGSIE1y57OLuCXdpfSpZCcAZnAEpmp8MQYAAAAASUVORK5CYII=\"></image></g></svg></figure>"
      ],
      "text/plain": [
       "<IPython.core.display.HTML object>"
      ]
     },
     "metadata": {},
     "output_type": "display_data"
    }
   ],
   "source": [
    "maze = problem.parse_text_input(example_inputs_2023[\"EXAMPLE_INPUT_2_1\"])\n",
    "result, outputs_accumulator = problem.compute_tiles_enclosed_by_loop_part_2(\n",
    "    maze, problem.compute_minimum_distances(maze)\n",
    ")\n",
    "\n",
    "print(\"Text Input\")\n",
    "print(render_2d_array_to_text(outputs_accumulator[\"maze\"]))\n",
    "\n",
    "visualize_puzzle_input(outputs_accumulator, width=200)"
   ]
  },
  {
   "cell_type": "markdown",
   "metadata": {},
   "source": [
    "## With Actual Input\n",
    "\n",
    "Same visualization procedure.\n"
   ]
  },
  {
   "cell_type": "code",
   "execution_count": 16,
   "metadata": {
    "execution": {
     "iopub.execute_input": "2024-05-27T08:54:26.544111Z",
     "iopub.status.busy": "2024-05-27T08:54:26.543521Z",
     "iopub.status.idle": "2024-05-27T08:54:28.684911Z",
     "shell.execute_reply": "2024-05-27T08:54:28.684003Z"
    }
   },
   "outputs": [
    {
     "name": "stdout",
     "output_type": "stream",
     "text": [
      "Current recursion limit:\n",
      "15000\n",
      "New recursion limit:\n",
      "15000\n"
     ]
    },
    {
     "name": "stdout",
     "output_type": "stream",
     "text": [
      "Skipped left\n",
      "Skipped right\n"
     ]
    },
    {
     "data": {
      "text/html": [
       "<figure class=\"plot-d6a7b5-figure\" style=\"max-width: initial; padding: 0px 5px 5px 5px; color: currentColor; background-color: transparent;\"><h2 style=\"line-height: 28px; font-size: 20px; font-weight: 600; margin: 0px;\">Minimum Distances</h2><svg class=\"plot-d6a7b5-ramp\" font-family=\"system-ui, sans-serif\" font-size=\"10\" width=\"240\" height=\"50\" viewBox=\"0 0 240 50\" xmlns=\"http://www.w3.org/2000/svg\" xmlns:xlink=\"http://www.w3.org/1999/xlink\" style=\"color: currentColor; background-color: transparent;\"><style>:where(.plot-d6a7b5-ramp) {\n",
       "  display: block;\n",
       "  height: auto;\n",
       "  height: intrinsic;\n",
       "  max-width: 100%;\n",
       "  overflow: visible;\n",
       "}\n",
       ":where(.plot-d6a7b5-ramp text) {\n",
       "  white-space: pre;\n",
       "}</style><image x=\"0\" y=\"18\" width=\"240\" height=\"10\" preserveAspectRatio=\"none\" href=\"data:image/png;base64,iVBORw0KGgoAAAANSUhEUgAAAQAAAAABCAYAAAAxWXB3AAAABmJLR0QA/wD/AP+gvaeTAAAAvklEQVQ4jW2SSwLEMAhCgc79r+ws/Leu8gQ0TVICPyMIkAAEZzlTAB6QAqv2dWrNntXSn+WXh+QHRPQguLQHMhVnTtDQvZPW7KcYTAbDHaaOtYqILLbH7EvGkUVlJ1c250ftbFs7+nq+1T7t2ytnw7djHzuyVrO+2c35HZOZGaZuPT/ryFOtMWeomRfLf8dkKH0A5TXvNS8qOC6H6kfgerjUdh0HPHQtf9XL00vToQ/moYVupc/8V7Olac2Y9R/4sC65xxNF4gAAAABJRU5ErkJggg==\"></image><g transform=\"translate(0,28)\" fill=\"none\" text-anchor=\"middle\" font-variant=\"tabular-nums\"><g class=\"tick\" opacity=\"1\" transform=\"translate(0.5,0)\"><line stroke=\"currentColor\" y2=\"6\" y1=\"-10\"></line><text fill=\"currentColor\" y=\"9\" dy=\"0.71em\">0</text></g><g class=\"tick\" opacity=\"1\" transform=\"translate(73.5,0)\"><line stroke=\"currentColor\" y2=\"6\" y1=\"-10\"></line><text fill=\"currentColor\" y=\"9\" dy=\"0.71em\">2,000</text></g><g class=\"tick\" opacity=\"1\" transform=\"translate(145.5,0)\"><line stroke=\"currentColor\" y2=\"6\" y1=\"-10\"></line><text fill=\"currentColor\" y=\"9\" dy=\"0.71em\">4,000</text></g><g class=\"tick\" opacity=\"1\" transform=\"translate(218.5,0)\"><line stroke=\"currentColor\" y2=\"6\" y1=\"-10\"></line><text fill=\"currentColor\" y=\"9\" dy=\"0.71em\">6,000</text></g></g></svg><svg class=\"plot-d6a7b5\" fill=\"currentColor\" font-family=\"system-ui, sans-serif\" font-size=\"10\" text-anchor=\"middle\" width=\"426\" height=\"426\" viewBox=\"0 0 426 426\" style=\"background-color: rgb(17, 17, 17); color: rgb(238, 238, 238);\" xmlns=\"http://www.w3.org/2000/svg\" xmlns:xlink=\"http://www.w3.org/1999/xlink\"><style>:where(.plot-d6a7b5) {\n",
       "  --plot-background: white;\n",
       "  display: block;\n",
       "  height: auto;\n",
       "  height: intrinsic;\n",
       "  max-width: 100%;\n",
       "}\n",
       ":where(.plot-d6a7b5 text),\n",
       ":where(.plot-d6a7b5 tspan) {\n",
       "  white-space: pre;\n",
       "}</style><g aria-label=\"y-axis tick\" aria-hidden=\"true\" fill=\"none\" stroke=\"currentColor\"><path transform=\"translate(0,420)\" d=\"M0,0L-6,0\"></path><path transform=\"translate(0,390)\" d=\"M0,0L-6,0\"></path><path transform=\"translate(0,360)\" d=\"M0,0L-6,0\"></path><path transform=\"translate(0,330)\" d=\"M0,0L-6,0\"></path><path transform=\"translate(0,300)\" d=\"M0,0L-6,0\"></path><path transform=\"translate(0,270)\" d=\"M0,0L-6,0\"></path><path transform=\"translate(0,240)\" d=\"M0,0L-6,0\"></path><path transform=\"translate(0,210)\" d=\"M0,0L-6,0\"></path><path transform=\"translate(0,180)\" d=\"M0,0L-6,0\"></path><path transform=\"translate(0,150)\" d=\"M0,0L-6,0\"></path><path transform=\"translate(0,120)\" d=\"M0,0L-6,0\"></path><path transform=\"translate(0,90)\" d=\"M0,0L-6,0\"></path><path transform=\"translate(0,60)\" d=\"M0,0L-6,0\"></path><path transform=\"translate(0,30)\" d=\"M0,0L-6,0\"></path><path transform=\"translate(0,0)\" d=\"M0,0L-6,0\"></path></g><g aria-label=\"y-axis tick label\" text-anchor=\"end\" font-variant=\"tabular-nums\" transform=\"translate(-9,0)\"><text y=\"0.32em\" transform=\"translate(0,420)\">140</text><text y=\"0.32em\" transform=\"translate(0,390)\">130</text><text y=\"0.32em\" transform=\"translate(0,360)\">120</text><text y=\"0.32em\" transform=\"translate(0,330)\">110</text><text y=\"0.32em\" transform=\"translate(0,300)\">100</text><text y=\"0.32em\" transform=\"translate(0,270)\">90</text><text y=\"0.32em\" transform=\"translate(0,240)\">80</text><text y=\"0.32em\" transform=\"translate(0,210)\">70</text><text y=\"0.32em\" transform=\"translate(0,180)\">60</text><text y=\"0.32em\" transform=\"translate(0,150)\">50</text><text y=\"0.32em\" transform=\"translate(0,120)\">40</text><text y=\"0.32em\" transform=\"translate(0,90)\">30</text><text y=\"0.32em\" transform=\"translate(0,60)\">20</text><text y=\"0.32em\" transform=\"translate(0,30)\">10</text><text y=\"0.32em\" transform=\"translate(0,0)\">0</text></g><g aria-label=\"y-axis label\" text-anchor=\"start\" transform=\"translate(3,3)\"><text y=\"0.71em\" transform=\"translate(0,0)\">↓ row</text></g><g aria-label=\"x-axis tick\" aria-hidden=\"true\" fill=\"none\" stroke=\"currentColor\"><path transform=\"translate(0,0)\" d=\"M0,0L0,-6\"></path><path transform=\"translate(60,0)\" d=\"M0,0L0,-6\"></path><path transform=\"translate(120,0)\" d=\"M0,0L0,-6\"></path><path transform=\"translate(180,0)\" d=\"M0,0L0,-6\"></path><path transform=\"translate(240,0)\" d=\"M0,0L0,-6\"></path><path transform=\"translate(300,0)\" d=\"M0,0L0,-6\"></path><path transform=\"translate(360,0)\" d=\"M0,0L0,-6\"></path><path transform=\"translate(420,0)\" d=\"M0,0L0,-6\"></path></g><g aria-label=\"x-axis tick label\" font-variant=\"tabular-nums\" transform=\"translate(0,-9)\"><text transform=\"translate(0,0)\">0</text><text transform=\"translate(60,0)\">20</text><text transform=\"translate(120,0)\">40</text><text transform=\"translate(180,0)\">60</text><text transform=\"translate(240,0)\">80</text><text transform=\"translate(300,0)\">100</text><text transform=\"translate(360,0)\">120</text><text transform=\"translate(420,0)\">140</text></g><g aria-label=\"x-axis label\" text-anchor=\"end\" transform=\"translate(-3,3)\"><text y=\"0.71em\" transform=\"translate(426,0)\">column →</text></g><g aria-label=\"raster\"><image transform=\"translate(0,0) scale(1,1)\" width=\"426\" height=\"426\" preserveAspectRatio=\"none\" image-rendering=\"pixelated\" href=\"data:image/png;base64,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\"></image></g></svg></figure>"
      ],
      "text/plain": [
       "<IPython.core.display.HTML object>"
      ]
     },
     "metadata": {},
     "output_type": "display_data"
    },
    {
     "data": {
      "text/html": [
       "<figure class=\"plot-d6a7b5-figure\" style=\"max-width: initial; padding: 0px 5px 5px 5px; color: currentColor; background-color: transparent;\"><h2 style=\"line-height: 28px; font-size: 20px; font-weight: 600; margin: 0px;\">Main Loop</h2><div class=\"plot-d6a7b5-swatches plot-d6a7b5-swatches-wrap\"><span class=\"plot-d6a7b5-swatch\"><svg width=\"15\" height=\"15\" fill=\"#4269d0\" xmlns=\"http://www.w3.org/2000/svg\" xmlns:xlink=\"http://www.w3.org/1999/xlink\" style=\"color: currentColor; background-color: transparent;\"><rect width=\"100%\" height=\"100%\"></rect></svg>─</span><span class=\"plot-d6a7b5-swatch\"><svg width=\"15\" height=\"15\" fill=\"#efb118\" xmlns=\"http://www.w3.org/2000/svg\" xmlns:xlink=\"http://www.w3.org/1999/xlink\" style=\"color: currentColor; background-color: transparent;\"><rect width=\"100%\" height=\"100%\"></rect></svg>│</span><span class=\"plot-d6a7b5-swatch\"><svg width=\"15\" height=\"15\" fill=\"#ff725c\" xmlns=\"http://www.w3.org/2000/svg\" xmlns:xlink=\"http://www.w3.org/1999/xlink\" style=\"color: currentColor; background-color: transparent;\"><rect width=\"100%\" height=\"100%\"></rect></svg>┌</span><span class=\"plot-d6a7b5-swatch\"><svg width=\"15\" height=\"15\" fill=\"#6cc5b0\" xmlns=\"http://www.w3.org/2000/svg\" xmlns:xlink=\"http://www.w3.org/1999/xlink\" style=\"color: currentColor; background-color: transparent;\"><rect width=\"100%\" height=\"100%\"></rect></svg>┐</span><span class=\"plot-d6a7b5-swatch\"><svg width=\"15\" height=\"15\" fill=\"#3ca951\" xmlns=\"http://www.w3.org/2000/svg\" xmlns:xlink=\"http://www.w3.org/1999/xlink\" style=\"color: currentColor; background-color: transparent;\"><rect width=\"100%\" height=\"100%\"></rect></svg>└</span><span class=\"plot-d6a7b5-swatch\"><svg width=\"15\" height=\"15\" fill=\"#ff8ab7\" xmlns=\"http://www.w3.org/2000/svg\" xmlns:xlink=\"http://www.w3.org/1999/xlink\" style=\"color: currentColor; background-color: transparent;\"><rect width=\"100%\" height=\"100%\"></rect></svg>┘</span><span class=\"plot-d6a7b5-swatch\"><svg width=\"15\" height=\"15\" fill=\"#a463f2\" xmlns=\"http://www.w3.org/2000/svg\" xmlns:xlink=\"http://www.w3.org/1999/xlink\" style=\"color: currentColor; background-color: transparent;\"><rect width=\"100%\" height=\"100%\"></rect></svg>░</span><style>:where(.plot-d6a7b5-swatches) {\n",
       "  font-family: system-ui, sans-serif;\n",
       "  font-size: 10px;\n",
       "  margin-bottom: 0.5em;\n",
       "}\n",
       ":where(.plot-d6a7b5-swatch > svg) {\n",
       "  margin-right: 0.5em;\n",
       "  overflow: visible;\n",
       "}\n",
       ":where(.plot-d6a7b5-swatches-wrap) {\n",
       "  display: flex;\n",
       "  align-items: center;\n",
       "  min-height: 33px;\n",
       "  flex-wrap: wrap;\n",
       "}\n",
       ":where(.plot-d6a7b5-swatches-wrap .plot-d6a7b5-swatch) {\n",
       "  display: inline-flex;\n",
       "  align-items: center;\n",
       "  margin-right: 1em;\n",
       "}</style></div><svg class=\"plot-d6a7b5\" fill=\"currentColor\" font-family=\"system-ui, sans-serif\" font-size=\"10\" text-anchor=\"middle\" width=\"426\" height=\"426\" viewBox=\"0 0 426 426\" style=\"background-color: rgb(17, 17, 17); color: rgb(238, 238, 238);\" xmlns=\"http://www.w3.org/2000/svg\" xmlns:xlink=\"http://www.w3.org/1999/xlink\"><style>:where(.plot-d6a7b5) {\n",
       "  --plot-background: white;\n",
       "  display: block;\n",
       "  height: auto;\n",
       "  height: intrinsic;\n",
       "  max-width: 100%;\n",
       "}\n",
       ":where(.plot-d6a7b5 text),\n",
       ":where(.plot-d6a7b5 tspan) {\n",
       "  white-space: pre;\n",
       "}</style><g aria-label=\"y-axis tick\" aria-hidden=\"true\" fill=\"none\" stroke=\"currentColor\"><path transform=\"translate(0,420)\" d=\"M0,0L-6,0\"></path><path transform=\"translate(0,390)\" d=\"M0,0L-6,0\"></path><path transform=\"translate(0,360)\" d=\"M0,0L-6,0\"></path><path transform=\"translate(0,330)\" d=\"M0,0L-6,0\"></path><path transform=\"translate(0,300)\" d=\"M0,0L-6,0\"></path><path transform=\"translate(0,270)\" d=\"M0,0L-6,0\"></path><path transform=\"translate(0,240)\" d=\"M0,0L-6,0\"></path><path transform=\"translate(0,210)\" d=\"M0,0L-6,0\"></path><path transform=\"translate(0,180)\" d=\"M0,0L-6,0\"></path><path transform=\"translate(0,150)\" d=\"M0,0L-6,0\"></path><path transform=\"translate(0,120)\" d=\"M0,0L-6,0\"></path><path transform=\"translate(0,90)\" d=\"M0,0L-6,0\"></path><path transform=\"translate(0,60)\" d=\"M0,0L-6,0\"></path><path transform=\"translate(0,30)\" d=\"M0,0L-6,0\"></path><path transform=\"translate(0,0)\" d=\"M0,0L-6,0\"></path></g><g aria-label=\"y-axis tick label\" text-anchor=\"end\" font-variant=\"tabular-nums\" transform=\"translate(-9,0)\"><text y=\"0.32em\" transform=\"translate(0,420)\">140</text><text y=\"0.32em\" transform=\"translate(0,390)\">130</text><text y=\"0.32em\" transform=\"translate(0,360)\">120</text><text y=\"0.32em\" transform=\"translate(0,330)\">110</text><text y=\"0.32em\" transform=\"translate(0,300)\">100</text><text y=\"0.32em\" transform=\"translate(0,270)\">90</text><text y=\"0.32em\" transform=\"translate(0,240)\">80</text><text y=\"0.32em\" transform=\"translate(0,210)\">70</text><text y=\"0.32em\" transform=\"translate(0,180)\">60</text><text y=\"0.32em\" transform=\"translate(0,150)\">50</text><text y=\"0.32em\" transform=\"translate(0,120)\">40</text><text y=\"0.32em\" transform=\"translate(0,90)\">30</text><text y=\"0.32em\" transform=\"translate(0,60)\">20</text><text y=\"0.32em\" transform=\"translate(0,30)\">10</text><text y=\"0.32em\" transform=\"translate(0,0)\">0</text></g><g aria-label=\"y-axis label\" text-anchor=\"start\" transform=\"translate(3,3)\"><text y=\"0.71em\" transform=\"translate(0,0)\">↓ row</text></g><g aria-label=\"x-axis tick\" aria-hidden=\"true\" fill=\"none\" stroke=\"currentColor\"><path transform=\"translate(0,0)\" d=\"M0,0L0,-6\"></path><path transform=\"translate(60,0)\" d=\"M0,0L0,-6\"></path><path transform=\"translate(120,0)\" d=\"M0,0L0,-6\"></path><path transform=\"translate(180,0)\" d=\"M0,0L0,-6\"></path><path transform=\"translate(240,0)\" d=\"M0,0L0,-6\"></path><path transform=\"translate(300,0)\" d=\"M0,0L0,-6\"></path><path transform=\"translate(360,0)\" d=\"M0,0L0,-6\"></path><path transform=\"translate(420,0)\" d=\"M0,0L0,-6\"></path></g><g aria-label=\"x-axis tick label\" font-variant=\"tabular-nums\" transform=\"translate(0,-9)\"><text transform=\"translate(0,0)\">0</text><text transform=\"translate(60,0)\">20</text><text transform=\"translate(120,0)\">40</text><text transform=\"translate(180,0)\">60</text><text transform=\"translate(240,0)\">80</text><text transform=\"translate(300,0)\">100</text><text transform=\"translate(360,0)\">120</text><text transform=\"translate(420,0)\">140</text></g><g aria-label=\"x-axis label\" text-anchor=\"end\" transform=\"translate(-3,3)\"><text y=\"0.71em\" transform=\"translate(426,0)\">column →</text></g><g aria-label=\"raster\"><image transform=\"translate(0,0) scale(1,1)\" width=\"426\" height=\"426\" preserveAspectRatio=\"none\" image-rendering=\"pixelated\" href=\"data:image/png;base64,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\"></image></g></svg></figure>"
      ],
      "text/plain": [
       "<IPython.core.display.HTML object>"
      ]
     },
     "metadata": {},
     "output_type": "display_data"
    },
    {
     "data": {
      "text/html": [
       "<figure class=\"plot-d6a7b5-figure\" style=\"max-width: initial; padding: 0px 5px 5px 5px; color: currentColor; background-color: transparent;\"><h2 style=\"line-height: 28px; font-size: 20px; font-weight: 600; margin: 0px;\">Raster 3x</h2><div class=\"plot-d6a7b5-swatches plot-d6a7b5-swatches-wrap\"><span class=\"plot-d6a7b5-swatch\"><svg width=\"15\" height=\"15\" fill=\"#440154\" xmlns=\"http://www.w3.org/2000/svg\" xmlns:xlink=\"http://www.w3.org/1999/xlink\" style=\"color: currentColor; background-color: transparent;\"><rect width=\"100%\" height=\"100%\"></rect></svg>false</span><span class=\"plot-d6a7b5-swatch\"><svg width=\"15\" height=\"15\" fill=\"#fde725\" xmlns=\"http://www.w3.org/2000/svg\" xmlns:xlink=\"http://www.w3.org/1999/xlink\" style=\"color: currentColor; background-color: transparent;\"><rect width=\"100%\" height=\"100%\"></rect></svg>true</span><style>:where(.plot-d6a7b5-swatches) {\n",
       "  font-family: system-ui, sans-serif;\n",
       "  font-size: 10px;\n",
       "  margin-bottom: 0.5em;\n",
       "}\n",
       ":where(.plot-d6a7b5-swatch > svg) {\n",
       "  margin-right: 0.5em;\n",
       "  overflow: visible;\n",
       "}\n",
       ":where(.plot-d6a7b5-swatches-wrap) {\n",
       "  display: flex;\n",
       "  align-items: center;\n",
       "  min-height: 33px;\n",
       "  flex-wrap: wrap;\n",
       "}\n",
       ":where(.plot-d6a7b5-swatches-wrap .plot-d6a7b5-swatch) {\n",
       "  display: inline-flex;\n",
       "  align-items: center;\n",
       "  margin-right: 1em;\n",
       "}</style></div><svg class=\"plot-d6a7b5\" fill=\"currentColor\" font-family=\"system-ui, sans-serif\" font-size=\"10\" text-anchor=\"middle\" width=\"426\" height=\"426\" viewBox=\"0 0 426 426\" style=\"background-color: rgb(17, 17, 17); color: rgb(238, 238, 238);\" xmlns=\"http://www.w3.org/2000/svg\" xmlns:xlink=\"http://www.w3.org/1999/xlink\"><style>:where(.plot-d6a7b5) {\n",
       "  --plot-background: white;\n",
       "  display: block;\n",
       "  height: auto;\n",
       "  height: intrinsic;\n",
       "  max-width: 100%;\n",
       "}\n",
       ":where(.plot-d6a7b5 text),\n",
       ":where(.plot-d6a7b5 tspan) {\n",
       "  white-space: pre;\n",
       "}</style><g aria-label=\"y-axis tick\" aria-hidden=\"true\" fill=\"none\" stroke=\"currentColor\"><path transform=\"translate(0,400)\" d=\"M0,0L-6,0\"></path><path transform=\"translate(0,350)\" d=\"M0,0L-6,0\"></path><path transform=\"translate(0,300)\" d=\"M0,0L-6,0\"></path><path transform=\"translate(0,250)\" d=\"M0,0L-6,0\"></path><path transform=\"translate(0,200)\" d=\"M0,0L-6,0\"></path><path transform=\"translate(0,150)\" d=\"M0,0L-6,0\"></path><path transform=\"translate(0,100)\" d=\"M0,0L-6,0\"></path><path transform=\"translate(0,50)\" d=\"M0,0L-6,0\"></path><path transform=\"translate(0,0)\" d=\"M0,0L-6,0\"></path></g><g aria-label=\"y-axis tick label\" text-anchor=\"end\" font-variant=\"tabular-nums\" transform=\"translate(-9,0)\"><text y=\"0.32em\" transform=\"translate(0,400)\">400</text><text y=\"0.32em\" transform=\"translate(0,350)\">350</text><text y=\"0.32em\" transform=\"translate(0,300)\">300</text><text y=\"0.32em\" transform=\"translate(0,250)\">250</text><text y=\"0.32em\" transform=\"translate(0,200)\">200</text><text y=\"0.32em\" transform=\"translate(0,150)\">150</text><text y=\"0.32em\" transform=\"translate(0,100)\">100</text><text y=\"0.32em\" transform=\"translate(0,50)\">50</text><text y=\"0.32em\" transform=\"translate(0,0)\">0</text></g><g aria-label=\"y-axis label\" text-anchor=\"start\" transform=\"translate(3,3)\"><text y=\"0.71em\" transform=\"translate(0,0)\">↓ row</text></g><g aria-label=\"x-axis tick\" aria-hidden=\"true\" fill=\"none\" stroke=\"currentColor\"><path transform=\"translate(0,0)\" d=\"M0,0L0,-6\"></path><path transform=\"translate(100,0)\" d=\"M0,0L0,-6\"></path><path transform=\"translate(200,0)\" d=\"M0,0L0,-6\"></path><path transform=\"translate(300,0)\" d=\"M0,0L0,-6\"></path><path transform=\"translate(400,0)\" d=\"M0,0L0,-6\"></path></g><g aria-label=\"x-axis tick label\" font-variant=\"tabular-nums\" transform=\"translate(0,-9)\"><text transform=\"translate(0,0)\">0</text><text transform=\"translate(100,0)\">100</text><text transform=\"translate(200,0)\">200</text><text transform=\"translate(300,0)\">300</text><text transform=\"translate(400,0)\">400</text></g><g aria-label=\"x-axis label\" text-anchor=\"end\" transform=\"translate(-3,3)\"><text y=\"0.71em\" transform=\"translate(426,0)\">column →</text></g><g aria-label=\"raster\"><image transform=\"translate(0,0) scale(1,1)\" width=\"426\" height=\"426\" preserveAspectRatio=\"none\" image-rendering=\"pixelated\" href=\"data:image/png;base64,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\"></image></g></svg></figure>"
      ],
      "text/plain": [
       "<IPython.core.display.HTML object>"
      ]
     },
     "metadata": {},
     "output_type": "display_data"
    },
    {
     "data": {
      "text/html": [
       "<figure class=\"plot-d6a7b5-figure\" style=\"max-width: initial; padding: 0px 5px 5px 5px; color: currentColor; background-color: transparent;\"><h2 style=\"line-height: 28px; font-size: 20px; font-weight: 600; margin: 0px;\">Filled (flood fill)</h2><div class=\"plot-d6a7b5-swatches plot-d6a7b5-swatches-wrap\"><span class=\"plot-d6a7b5-swatch\"><svg width=\"15\" height=\"15\" fill=\"#4269d0\" xmlns=\"http://www.w3.org/2000/svg\" xmlns:xlink=\"http://www.w3.org/1999/xlink\" style=\"color: currentColor; background-color: transparent;\"><rect width=\"100%\" height=\"100%\"></rect></svg>0</span><span class=\"plot-d6a7b5-swatch\"><svg width=\"15\" height=\"15\" fill=\"#efb118\" xmlns=\"http://www.w3.org/2000/svg\" xmlns:xlink=\"http://www.w3.org/1999/xlink\" style=\"color: currentColor; background-color: transparent;\"><rect width=\"100%\" height=\"100%\"></rect></svg>128</span><span class=\"plot-d6a7b5-swatch\"><svg width=\"15\" height=\"15\" fill=\"#ff725c\" xmlns=\"http://www.w3.org/2000/svg\" xmlns:xlink=\"http://www.w3.org/1999/xlink\" style=\"color: currentColor; background-color: transparent;\"><rect width=\"100%\" height=\"100%\"></rect></svg>255</span><style>:where(.plot-d6a7b5-swatches) {\n",
       "  font-family: system-ui, sans-serif;\n",
       "  font-size: 10px;\n",
       "  margin-bottom: 0.5em;\n",
       "}\n",
       ":where(.plot-d6a7b5-swatch > svg) {\n",
       "  margin-right: 0.5em;\n",
       "  overflow: visible;\n",
       "}\n",
       ":where(.plot-d6a7b5-swatches-wrap) {\n",
       "  display: flex;\n",
       "  align-items: center;\n",
       "  min-height: 33px;\n",
       "  flex-wrap: wrap;\n",
       "}\n",
       ":where(.plot-d6a7b5-swatches-wrap .plot-d6a7b5-swatch) {\n",
       "  display: inline-flex;\n",
       "  align-items: center;\n",
       "  margin-right: 1em;\n",
       "}</style></div><svg class=\"plot-d6a7b5\" fill=\"currentColor\" font-family=\"system-ui, sans-serif\" font-size=\"10\" text-anchor=\"middle\" width=\"426\" height=\"426\" viewBox=\"0 0 426 426\" style=\"background-color: rgb(17, 17, 17); color: rgb(238, 238, 238);\" xmlns=\"http://www.w3.org/2000/svg\" xmlns:xlink=\"http://www.w3.org/1999/xlink\"><style>:where(.plot-d6a7b5) {\n",
       "  --plot-background: white;\n",
       "  display: block;\n",
       "  height: auto;\n",
       "  height: intrinsic;\n",
       "  max-width: 100%;\n",
       "}\n",
       ":where(.plot-d6a7b5 text),\n",
       ":where(.plot-d6a7b5 tspan) {\n",
       "  white-space: pre;\n",
       "}</style><g aria-label=\"y-axis tick\" aria-hidden=\"true\" fill=\"none\" stroke=\"currentColor\"><path transform=\"translate(0,400)\" d=\"M0,0L-6,0\"></path><path transform=\"translate(0,350)\" d=\"M0,0L-6,0\"></path><path transform=\"translate(0,300)\" d=\"M0,0L-6,0\"></path><path transform=\"translate(0,250)\" d=\"M0,0L-6,0\"></path><path transform=\"translate(0,200)\" d=\"M0,0L-6,0\"></path><path transform=\"translate(0,150)\" d=\"M0,0L-6,0\"></path><path transform=\"translate(0,100)\" d=\"M0,0L-6,0\"></path><path transform=\"translate(0,50)\" d=\"M0,0L-6,0\"></path><path transform=\"translate(0,0)\" d=\"M0,0L-6,0\"></path></g><g aria-label=\"y-axis tick label\" text-anchor=\"end\" font-variant=\"tabular-nums\" transform=\"translate(-9,0)\"><text y=\"0.32em\" transform=\"translate(0,400)\">400</text><text y=\"0.32em\" transform=\"translate(0,350)\">350</text><text y=\"0.32em\" transform=\"translate(0,300)\">300</text><text y=\"0.32em\" transform=\"translate(0,250)\">250</text><text y=\"0.32em\" transform=\"translate(0,200)\">200</text><text y=\"0.32em\" transform=\"translate(0,150)\">150</text><text y=\"0.32em\" transform=\"translate(0,100)\">100</text><text y=\"0.32em\" transform=\"translate(0,50)\">50</text><text y=\"0.32em\" transform=\"translate(0,0)\">0</text></g><g aria-label=\"y-axis label\" text-anchor=\"start\" transform=\"translate(3,3)\"><text y=\"0.71em\" transform=\"translate(0,0)\">↓ row</text></g><g aria-label=\"x-axis tick\" aria-hidden=\"true\" fill=\"none\" stroke=\"currentColor\"><path transform=\"translate(0,0)\" d=\"M0,0L0,-6\"></path><path transform=\"translate(100,0)\" d=\"M0,0L0,-6\"></path><path transform=\"translate(200,0)\" d=\"M0,0L0,-6\"></path><path transform=\"translate(300,0)\" d=\"M0,0L0,-6\"></path><path transform=\"translate(400,0)\" d=\"M0,0L0,-6\"></path></g><g aria-label=\"x-axis tick label\" font-variant=\"tabular-nums\" transform=\"translate(0,-9)\"><text transform=\"translate(0,0)\">0</text><text transform=\"translate(100,0)\">100</text><text transform=\"translate(200,0)\">200</text><text transform=\"translate(300,0)\">300</text><text transform=\"translate(400,0)\">400</text></g><g aria-label=\"x-axis label\" text-anchor=\"end\" transform=\"translate(-3,3)\"><text y=\"0.71em\" transform=\"translate(426,0)\">column →</text></g><g aria-label=\"raster\"><image transform=\"translate(0,0) scale(1,1)\" width=\"426\" height=\"426\" preserveAspectRatio=\"none\" image-rendering=\"pixelated\" href=\"data:image/png;base64,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\"></image></g></svg></figure>"
      ],
      "text/plain": [
       "<IPython.core.display.HTML object>"
      ]
     },
     "metadata": {},
     "output_type": "display_data"
    },
    {
     "data": {
      "text/html": [
       "<figure class=\"plot-d6a7b5-figure\" style=\"max-width: initial; padding: 0px 5px 5px 5px; color: currentColor; background-color: transparent;\"><h2 style=\"line-height: 28px; font-size: 20px; font-weight: 600; margin: 0px;\">Coarsened 3x</h2><div class=\"plot-d6a7b5-swatches plot-d6a7b5-swatches-wrap\"><span class=\"plot-d6a7b5-swatch\"><svg width=\"15\" height=\"15\" fill=\"#440154\" xmlns=\"http://www.w3.org/2000/svg\" xmlns:xlink=\"http://www.w3.org/1999/xlink\" style=\"color: currentColor; background-color: transparent;\"><rect width=\"100%\" height=\"100%\"></rect></svg>false</span><span class=\"plot-d6a7b5-swatch\"><svg width=\"15\" height=\"15\" fill=\"#fde725\" xmlns=\"http://www.w3.org/2000/svg\" xmlns:xlink=\"http://www.w3.org/1999/xlink\" style=\"color: currentColor; background-color: transparent;\"><rect width=\"100%\" height=\"100%\"></rect></svg>true</span><style>:where(.plot-d6a7b5-swatches) {\n",
       "  font-family: system-ui, sans-serif;\n",
       "  font-size: 10px;\n",
       "  margin-bottom: 0.5em;\n",
       "}\n",
       ":where(.plot-d6a7b5-swatch > svg) {\n",
       "  margin-right: 0.5em;\n",
       "  overflow: visible;\n",
       "}\n",
       ":where(.plot-d6a7b5-swatches-wrap) {\n",
       "  display: flex;\n",
       "  align-items: center;\n",
       "  min-height: 33px;\n",
       "  flex-wrap: wrap;\n",
       "}\n",
       ":where(.plot-d6a7b5-swatches-wrap .plot-d6a7b5-swatch) {\n",
       "  display: inline-flex;\n",
       "  align-items: center;\n",
       "  margin-right: 1em;\n",
       "}</style></div><svg class=\"plot-d6a7b5\" fill=\"currentColor\" font-family=\"system-ui, sans-serif\" font-size=\"10\" text-anchor=\"middle\" width=\"426\" height=\"426\" viewBox=\"0 0 426 426\" style=\"background-color: rgb(17, 17, 17); color: rgb(238, 238, 238);\" xmlns=\"http://www.w3.org/2000/svg\" xmlns:xlink=\"http://www.w3.org/1999/xlink\"><style>:where(.plot-d6a7b5) {\n",
       "  --plot-background: white;\n",
       "  display: block;\n",
       "  height: auto;\n",
       "  height: intrinsic;\n",
       "  max-width: 100%;\n",
       "}\n",
       ":where(.plot-d6a7b5 text),\n",
       ":where(.plot-d6a7b5 tspan) {\n",
       "  white-space: pre;\n",
       "}</style><g aria-label=\"y-axis tick\" aria-hidden=\"true\" fill=\"none\" stroke=\"currentColor\"><path transform=\"translate(0,420)\" d=\"M0,0L-6,0\"></path><path transform=\"translate(0,390)\" d=\"M0,0L-6,0\"></path><path transform=\"translate(0,360)\" d=\"M0,0L-6,0\"></path><path transform=\"translate(0,330)\" d=\"M0,0L-6,0\"></path><path transform=\"translate(0,300)\" d=\"M0,0L-6,0\"></path><path transform=\"translate(0,270)\" d=\"M0,0L-6,0\"></path><path transform=\"translate(0,240)\" d=\"M0,0L-6,0\"></path><path transform=\"translate(0,210)\" d=\"M0,0L-6,0\"></path><path transform=\"translate(0,180)\" d=\"M0,0L-6,0\"></path><path transform=\"translate(0,150)\" d=\"M0,0L-6,0\"></path><path transform=\"translate(0,120)\" d=\"M0,0L-6,0\"></path><path transform=\"translate(0,90)\" d=\"M0,0L-6,0\"></path><path transform=\"translate(0,60)\" d=\"M0,0L-6,0\"></path><path transform=\"translate(0,30)\" d=\"M0,0L-6,0\"></path><path transform=\"translate(0,0)\" d=\"M0,0L-6,0\"></path></g><g aria-label=\"y-axis tick label\" text-anchor=\"end\" font-variant=\"tabular-nums\" transform=\"translate(-9,0)\"><text y=\"0.32em\" transform=\"translate(0,420)\">140</text><text y=\"0.32em\" transform=\"translate(0,390)\">130</text><text y=\"0.32em\" transform=\"translate(0,360)\">120</text><text y=\"0.32em\" transform=\"translate(0,330)\">110</text><text y=\"0.32em\" transform=\"translate(0,300)\">100</text><text y=\"0.32em\" transform=\"translate(0,270)\">90</text><text y=\"0.32em\" transform=\"translate(0,240)\">80</text><text y=\"0.32em\" transform=\"translate(0,210)\">70</text><text y=\"0.32em\" transform=\"translate(0,180)\">60</text><text y=\"0.32em\" transform=\"translate(0,150)\">50</text><text y=\"0.32em\" transform=\"translate(0,120)\">40</text><text y=\"0.32em\" transform=\"translate(0,90)\">30</text><text y=\"0.32em\" transform=\"translate(0,60)\">20</text><text y=\"0.32em\" transform=\"translate(0,30)\">10</text><text y=\"0.32em\" transform=\"translate(0,0)\">0</text></g><g aria-label=\"y-axis label\" text-anchor=\"start\" transform=\"translate(3,3)\"><text y=\"0.71em\" transform=\"translate(0,0)\">↓ row</text></g><g aria-label=\"x-axis tick\" aria-hidden=\"true\" fill=\"none\" stroke=\"currentColor\"><path transform=\"translate(0,0)\" d=\"M0,0L0,-6\"></path><path transform=\"translate(60,0)\" d=\"M0,0L0,-6\"></path><path transform=\"translate(120,0)\" d=\"M0,0L0,-6\"></path><path transform=\"translate(180,0)\" d=\"M0,0L0,-6\"></path><path transform=\"translate(240,0)\" d=\"M0,0L0,-6\"></path><path transform=\"translate(300,0)\" d=\"M0,0L0,-6\"></path><path transform=\"translate(360,0)\" d=\"M0,0L0,-6\"></path><path transform=\"translate(420,0)\" d=\"M0,0L0,-6\"></path></g><g aria-label=\"x-axis tick label\" font-variant=\"tabular-nums\" transform=\"translate(0,-9)\"><text transform=\"translate(0,0)\">0</text><text transform=\"translate(60,0)\">20</text><text transform=\"translate(120,0)\">40</text><text transform=\"translate(180,0)\">60</text><text transform=\"translate(240,0)\">80</text><text transform=\"translate(300,0)\">100</text><text transform=\"translate(360,0)\">120</text><text transform=\"translate(420,0)\">140</text></g><g aria-label=\"x-axis label\" text-anchor=\"end\" transform=\"translate(-3,3)\"><text y=\"0.71em\" transform=\"translate(426,0)\">column →</text></g><g aria-label=\"raster\"><image transform=\"translate(0,0) scale(1,1)\" width=\"426\" height=\"426\" preserveAspectRatio=\"none\" image-rendering=\"pixelated\" href=\"data:image/png;base64,iVBORw0KGgoAAAANSUhEUgAAAI4AAACOCAYAAADn/TAIAAAABmJLR0QA/wD/AP+gvaeTAAAELklEQVR4nO3d3XHbMBBFYSqTKtSEm8iMGkizLsNNuI3kSTM0h7+XC2AvcL5XJ7ZsHC5ISpYffx5//03ARb9aPwB4IhxICAcSwoGEcCAhHEgIBxLCgYRwICEcSAgHEsKBhHAgIRxICAcSwoGEcCAhHEgIBxLCgYRwICEcSAgHEsKBhHAgIRxICAcSwoGEcCAhHEgIBxLCgYRwICEcSAgHEsKBpPtwPr+/bv+7s59jJI/e3nX08/trej0/Wj+M7nU3cVpHM59OPU8qi3BqLUDE15mH2zrikizCWS5AqZD2Frrn6aGwCGepxZFc62u6BGoZTinKokUvtMv2ZhPO2gLVXLStr+Wy0NFShzNfrLUFOrtodwJ7/9/X86PqNpL96qy7+zgRuBd0LPXEiXTlqCWaY8OEQwyx7MLJuN+PyC6c+eRwj8j58duFM1dq+zmzoNFPT7ixDqeEs1dUzoseodtw1BuGJYKoNcFq6uY+Tqt7L6Pe8+lm4rQ6aR4xmmnqKJxp+vn0wNbHstl6XFkf71s3W1Upo25FR7qaONGuHPXZJ0S0360fQKQ700F52cT860VNJZcJx1Y1sxaPwyK2MNxWFb2ljLZFvQ0XztZl+97VzfJjRy8wU2R/4dYSW9XM0YK9IykRjhuLiZPl13PXps+oLK6q9o7qu0c8IWgsJk5Wo25T02QcjvIuFFmnS9bHtcc2nOWvqxzdwFu7sZZlwRwnV+qrqlp3UdWAHBc8SuqJU2thIk6wR7visriqymoZykgTKPXEqWWkSREl9TnOVXsv5Lry/yNsPQaXZ7+PpJ44Vxfy9fxIuyh3o84mdTjOP+Tez39Sh1MT5znXDB9OqcvoqxPGLdwhwym5SOp5ltvvxA95HyfyfEOZLHtPgyifswW7y/Goy9mzR/Xai7eWHxuR3cQpMS1a/U65syHPcY68z1NK3kh0OI/ZM2w4V986P/o9BN0n2BDhZHkTJPcpMzdEOGfe+LpGGO5TZs7uqmpL1icPsz6uuywmztmrnoxbwd0bexm/p2nqaOLs6fWob8li4tzV8kXqWSfGXSnDKf3DbnHnOerzZZEyHIdtpeZjzBhVynBKiPjhl/wce9tpxgOp25NjTojLspk4V19w1TKajFtLtG4nTi+yTk6biZNdiz9p3ZJlOEeL1OI+Tau/AdEKW1VDWbehMywnjkI9eqOO+q2XnmaeKnuGnTjOR3sG6SdOzZNO16O/hfThRL2ss/UL0tU/vJZVyq2qt22kt+9nmpJOnFZ/pJVt8byU4dyxtyUcBVlzKrhPoJRbFfLrbuKgDsKBhHAgIRxICAcSwoGEcCAhHEgIBxLCgYRwICEcSAgHEsKBhHAgIRxICAcSwoGEcCAhHEgIBxLCgYRwICEcSAgHEsKBhHAgIRxICAcSwoGEcCAhHEgIBxLCgYRwIPkPz0nOlGdDtTMAAAAASUVORK5CYII=\"></image></g></svg></figure>"
      ],
      "text/plain": [
       "<IPython.core.display.HTML object>"
      ]
     },
     "metadata": {},
     "output_type": "display_data"
    }
   ],
   "source": [
    "def visualize_actual_input(problem: AdventOfCodeProblem202310):\n",
    "    maze = problem.parse_input_text_file()\n",
    "\n",
    "    minimum_distances = problem.compute_minimum_distances(maze)\n",
    "    result, outputs_accumulator = problem.compute_tiles_enclosed_by_loop_part_2(\n",
    "        maze, minimum_distances\n",
    "    )\n",
    "\n",
    "    visualize_puzzle_input(\n",
    "        outputs_accumulator,\n",
    "        width=maze.shape[0] * 3,\n",
    "        height=maze.shape[0] * 3,\n",
    "        with_text=False,\n",
    "    )\n",
    "\n",
    "\n",
    "visualize_actual_input(problem)"
   ]
  }
 ],
 "metadata": {
  "kernelspec": {
   "display_name": "advent-of-code-CEbbwEIT-py3.10",
   "language": "python",
   "name": "python3"
  },
  "language_info": {
   "codemirror_mode": {
    "name": "ipython",
    "version": 3
   },
   "file_extension": ".py",
   "mimetype": "text/x-python",
   "name": "python",
   "nbconvert_exporter": "python",
   "pygments_lexer": "ipython3",
   "version": "3.12.1"
  }
 },
 "nbformat": 4,
 "nbformat_minor": 2
}
