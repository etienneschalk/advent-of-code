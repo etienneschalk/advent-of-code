{
    "cells": [
        {
            "cell_type": "markdown",
            "metadata": {},
            "source": [
                "# Year 2023 Day 10\n"
            ]
        },
        {
            "cell_type": "markdown",
            "metadata": {},
            "source": [
                "The main goal here is to show the different steps in the labyrinth resolution.\n",
                "\n",
                "Experiment with the Observable Plot's Text mark, to add a Text mark over a Raster mark ((see example in https://observablehq.com/plot/marks/raster))\n"
            ]
        },
        {
            "cell_type": "code",
            "execution_count": null,
            "metadata": {},
            "outputs": [],
            "source": [
                "from typing import Any\n",
                "\n",
                "import pandas as pd\n",
                "import xarray as xr\n",
                "from pyobsplot import Plot\n",
                "\n",
                "from advent_of_code.common.common import get_example_inputs_file_contents\n",
                "from advent_of_code.visualization.observable_plot import (\n",
                "    build_base_xarray_plot,\n",
                ")\n",
                "from advent_of_code.y_2023.problem_202310 import (\n",
                "    AdventOfCodeProblem202310,\n",
                "    get_pipe_to_pattern_mapping,\n",
                "    render_2d_array_to_text,\n",
                ")"
            ]
        },
        {
            "cell_type": "code",
            "execution_count": null,
            "metadata": {},
            "outputs": [],
            "source": [
                "problem = AdventOfCodeProblem202310(config_accumulate_outputs=True)\n",
                "problem"
            ]
        },
        {
            "cell_type": "markdown",
            "metadata": {},
            "source": [
                "## Visualization Code\n",
                "\n",
                "The following function enriches the base xarray visualization function with Observable Plot, by adding the possibility to add a text-representation of the array on the plot.\n",
                "\n",
                "This is useful for a combined visualization of a raster and its values."
            ]
        },
        {
            "cell_type": "code",
            "execution_count": null,
            "metadata": {},
            "outputs": [],
            "source": [
                "def visualize_puzzle_input_202310(\n",
                "    xda: xr.DataArray,\n",
                "    *,\n",
                "    text_xda: xr.DataArray | None = None,\n",
                "    **kwargs: Any,\n",
                "):\n",
                "    def callback(marks: list[Any]) -> None:\n",
                "        if text_xda is not None:\n",
                "            df = text_xda.stack(z=(\"row\", \"col\")).to_pandas()\n",
                "            data = df.values.tolist()\n",
                "            rows = [idx[0] + 0.5 for idx in df.index]\n",
                "            cols = [idx[1] + 0.5 for idx in df.index]\n",
                "            marks.append(\n",
                "                Plot.text(  # type:ignore\n",
                "                    data,\n",
                "                    {\n",
                "                        \"text\": Plot.identity,  # type: ignore\n",
                "                        \"x\": cols,\n",
                "                        \"y\": rows,\n",
                "                        \"color\": \"white\",\n",
                "                        \"fontSize\": 38 * kwargs[\"width\"] / 600 * 13 / xda[\"col\"].size,\n",
                "                    },\n",
                "                )\n",
                "            )\n",
                "\n",
                "    return build_base_xarray_plot(\n",
                "        xda, callback, margin=0, do_convert_ascii_array_to_uint8=False, **kwargs\n",
                "    )"
            ]
        },
        {
            "cell_type": "markdown",
            "metadata": {},
            "source": [
                "## With Example Inputs"
            ]
        },
        {
            "cell_type": "markdown",
            "metadata": {},
            "source": [
                "### Example input from part 2 (`EXAMPLE_INPUT_PART_2_1_1a`)"
            ]
        },
        {
            "cell_type": "markdown",
            "metadata": {},
            "source": [
                "#### Problem solving explanation\n",
                "\n",
                "In the following, we visualize step by step the data structures helping to solve the problem."
            ]
        },
        {
            "cell_type": "code",
            "execution_count": null,
            "metadata": {},
            "outputs": [],
            "source": [
                "example_inputs_2023 = get_example_inputs_file_contents(2023)[\"test_problem_202310\"]\n",
                "list(example_inputs_2023.keys())"
            ]
        },
        {
            "cell_type": "code",
            "execution_count": null,
            "metadata": {},
            "outputs": [],
            "source": [
                "puzzle_input = problem.parse_text_input(\n",
                "    example_inputs_2023[\"EXAMPLE_INPUT_PART_2_1_1a\"]\n",
                ")\n",
                "maze = puzzle_input\n",
                "minimum_distances = problem.compute_minimum_distances(maze)\n",
                "result, outputs_accumulator = problem.compute_tiles_enclosed_by_loop_part_2(\n",
                "    maze, minimum_distances\n",
                ")\n",
                "display(pd.Series(outputs_accumulator.keys()))\n",
                "\n",
                "print(\"Text Input\")\n",
                "print(render_2d_array_to_text(outputs_accumulator[\"maze\"]))"
            ]
        },
        {
            "cell_type": "markdown",
            "metadata": {},
            "source": [
                "First, the main loop must be identified. The heatmap of minimal distance from starting point can be used for this. "
            ]
        },
        {
            "cell_type": "code",
            "execution_count": null,
            "metadata": {},
            "outputs": [],
            "source": [
                "min_dist_xda = xr.DataArray(\n",
                "    outputs_accumulator[\"minimum_distances\"], dims=[\"row\", \"col\"]\n",
                ")\n",
                "\n",
                "visualize_puzzle_input_202310(\n",
                "    min_dist_xda,\n",
                "    color=dict(legend=True, scheme=\"magma\"),\n",
                "    title=\"Minimum Distances\",\n",
                "    width=200,\n",
                ")"
            ]
        },
        {
            "cell_type": "markdown",
            "metadata": {},
            "source": [
                "All pipes are identified by strictly positive integers ; the starting position has a special value of $-1$, and empty space is denoted by $0$."
            ]
        },
        {
            "cell_type": "code",
            "execution_count": null,
            "metadata": {},
            "outputs": [],
            "source": [
                "min_dist_text_xda = xr.DataArray(\n",
                "    outputs_accumulator[\"minimum_distances\"], dims=(\"row\", \"col\")\n",
                ")\n",
                "visualize_puzzle_input_202310(\n",
                "    min_dist_xda,\n",
                "    text_xda=min_dist_text_xda,\n",
                "    color=dict(legend=True, scheme=\"magma\"),\n",
                "    title=\"Minimum Distances (with values)\",\n",
                "    width=200,\n",
                ")"
            ]
        },
        {
            "cell_type": "markdown",
            "metadata": {},
            "source": [
                "The main loop can now be identified using the minimum distances."
            ]
        },
        {
            "cell_type": "code",
            "execution_count": null,
            "metadata": {},
            "outputs": [],
            "source": [
                "main_loop_xda = xr.DataArray(outputs_accumulator[\"main_loop\"], dims=[\"row\", \"col\"])\n",
                "text_xda = xr.DataArray(outputs_accumulator[\"maze\"], dims=(\"row\", \"col\"))\n",
                "\n",
                "visualize_puzzle_input_202310(\n",
                "    main_loop_xda,\n",
                "    text_xda=text_xda,\n",
                "    color=dict(legend=True, scheme=\"Observable10\"),\n",
                "    title=\"(Before) Main Loop\",\n",
                "    width=200,\n",
                ")"
            ]
        },
        {
            "cell_type": "markdown",
            "metadata": {},
            "source": [
                "The trick is to replace in pipe symbol of the Main loop by a 3x3 macro-pixel materializing this symbol:\n"
            ]
        },
        {
            "cell_type": "code",
            "execution_count": null,
            "metadata": {},
            "outputs": [],
            "source": [
                "mapping = get_pipe_to_pattern_mapping()\n",
                "mapping_xda = xr.Dataset(\n",
                "    {k: xr.DataArray(v, dims=(\"row\", \"col\")) for k, v in mapping.items()}\n",
                ").to_array(dim=\"pipe\")\n",
                "mapping_xda.plot(y=\"row\", x=\"col\", col=\"pipe\", yincrease=False)"
            ]
        },
        {
            "cell_type": "code",
            "execution_count": null,
            "metadata": {},
            "outputs": [],
            "source": [
                "raster_3x_xda = xr.DataArray(outputs_accumulator[\"raster_3x\"], dims=[\"row\", \"col\"])\n",
                "visualize_puzzle_input_202310(\n",
                "    raster_3x_xda,\n",
                "    color=dict(legend=True, scheme=\"viridis\"),\n",
                "    title=\"(After) Raster 3x\",\n",
                "    width=200,\n",
                ")"
            ]
        },
        {
            "cell_type": "markdown",
            "metadata": {},
            "source": [
                "Then, this new raster truly materializes the pipe network.\n"
            ]
        },
        {
            "cell_type": "markdown",
            "metadata": {},
            "source": [
                "To find the inside area is now easy: use a [Flood Fill](https://en.wikipedia.org/wiki/Flood_fill) algorithm, for instance implemented by scipy: [skimage.morphology.flood_fill](https://scikit-image.org/docs/stable/api/skimage.morphology.html#skimage.morphology.flood_fill).\n"
            ]
        },
        {
            "cell_type": "code",
            "execution_count": null,
            "metadata": {},
            "outputs": [],
            "source": [
                "filled_xda = xr.DataArray(outputs_accumulator[\"filled\"], dims=[\"row\", \"col\"])\n",
                "visualize_puzzle_input_202310(\n",
                "    filled_xda,\n",
                "    color=dict(legend=True, scheme=\"Observable10\"),\n",
                "    title=\"Filled (flood fill)\",\n",
                "    width=200,\n",
                ")"
            ]
        },
        {
            "cell_type": "markdown",
            "metadata": {},
            "source": [
                "The final trick is to go back to the original raster, knowing which pixels are filled.\n",
                "A pixel is considered as filled if its corresponding 3x3 macro-pixel is entirely filled. This excludes the macro-pixels representing pipe from the count.\n"
            ]
        },
        {
            "cell_type": "code",
            "execution_count": null,
            "metadata": {},
            "outputs": [],
            "source": [
                "coarsened_img_xda = xr.DataArray(\n",
                "    outputs_accumulator[\"coarsened_img\"], dims=[\"row\", \"col\"]\n",
                ")\n",
                "visualize_puzzle_input_202310(\n",
                "    coarsened_img_xda == 255,\n",
                "    color=dict(legend=True, scheme=\"viridis\"),\n",
                "    title=\"Coarsened 3x\",\n",
                "    width=200,\n",
                ")"
            ]
        },
        {
            "cell_type": "markdown",
            "metadata": {},
            "source": [
                "#### Recapitulation\n",
                "\n",
                "In the following, we display all the representations of the successive intermediate data structures helping to solve the problem."
            ]
        },
        {
            "cell_type": "code",
            "execution_count": null,
            "metadata": {},
            "outputs": [],
            "source": [
                "def visualize_puzzle_input(outputs_accumulator, with_text: bool = True, **kwargs):\n",
                "    min_dist_xda = xr.DataArray(\n",
                "        outputs_accumulator[\"minimum_distances\"], dims=[\"row\", \"col\"]\n",
                "    )\n",
                "    visualize_puzzle_input_202310(\n",
                "        min_dist_xda,\n",
                "        color=dict(legend=True, scheme=\"magma\"),\n",
                "        title=\"Minimum Distances\",\n",
                "        **kwargs,\n",
                "    )\n",
                "\n",
                "    min_dist_text_xda = xr.DataArray(\n",
                "        outputs_accumulator[\"minimum_distances\"], dims=(\"row\", \"col\")\n",
                "    )\n",
                "    visualize_puzzle_input_202310(\n",
                "        min_dist_xda,\n",
                "        text_xda=min_dist_text_xda,\n",
                "        color=dict(legend=True, scheme=\"magma\"),\n",
                "        title=\"Minimum Distances (with values)\",\n",
                "        **kwargs,\n",
                "    )\n",
                "\n",
                "    main_loop_xda = xr.DataArray(outputs_accumulator[\"main_loop\"], dims=[\"row\", \"col\"])\n",
                "    if with_text:\n",
                "        text_xda = xr.DataArray(outputs_accumulator[\"maze\"], dims=(\"row\", \"col\"))\n",
                "    else:\n",
                "        text_xda = None\n",
                "    visualize_puzzle_input_202310(\n",
                "        main_loop_xda,\n",
                "        text_xda=text_xda,\n",
                "        color=dict(legend=True, scheme=\"Observable10\"),\n",
                "        title=\"Main Loop\",\n",
                "        **kwargs,\n",
                "    )\n",
                "\n",
                "    raster_3x_xda = xr.DataArray(outputs_accumulator[\"raster_3x\"], dims=[\"row\", \"col\"])\n",
                "    visualize_puzzle_input_202310(\n",
                "        raster_3x_xda,\n",
                "        color=dict(legend=True, scheme=\"viridis\"),\n",
                "        title=\"Raster 3x\",\n",
                "        **kwargs,\n",
                "    )\n",
                "\n",
                "    filled_xda = xr.DataArray(outputs_accumulator[\"filled\"], dims=[\"row\", \"col\"])\n",
                "    visualize_puzzle_input_202310(\n",
                "        filled_xda,\n",
                "        color=dict(legend=True, scheme=\"Observable10\"),\n",
                "        title=\"Filled (flood fill)\",\n",
                "        **kwargs,\n",
                "    )\n",
                "\n",
                "    coarsened_img_xda = xr.DataArray(\n",
                "        outputs_accumulator[\"coarsened_img\"], dims=[\"row\", \"col\"]\n",
                "    )\n",
                "    visualize_puzzle_input_202310(\n",
                "        coarsened_img_xda == 255,\n",
                "        color=dict(legend=True, scheme=\"viridis\"),\n",
                "        title=\"Coarsened 3x\",\n",
                "        **kwargs,\n",
                "    )"
            ]
        },
        {
            "cell_type": "markdown",
            "metadata": {},
            "source": [
                "### Example input from part 1 (`EXAMPLE_INPUT_2_1`)\n",
                "\n",
                "\n",
                "Same visualization procedure.\n"
            ]
        },
        {
            "cell_type": "code",
            "execution_count": null,
            "metadata": {},
            "outputs": [],
            "source": [
                "maze = problem.parse_text_input(example_inputs_2023[\"EXAMPLE_INPUT_2_1\"])\n",
                "result, outputs_accumulator = problem.compute_tiles_enclosed_by_loop_part_2(\n",
                "    maze, problem.compute_minimum_distances(maze)\n",
                ")\n",
                "\n",
                "print(\"Text Input\")\n",
                "print(render_2d_array_to_text(outputs_accumulator[\"maze\"]))\n",
                "\n",
                "visualize_puzzle_input(outputs_accumulator, width=200)"
            ]
        },
        {
            "cell_type": "code",
            "execution_count": null,
            "metadata": {},
            "outputs": [],
            "source": [
                "maze = problem.parse_text_input(example_inputs_2023[\"EXAMPLE_INPUT_PART_2_1_1a\"])\n",
                "result, outputs_accumulator = problem.compute_tiles_enclosed_by_loop_part_2(\n",
                "    maze, problem.compute_minimum_distances(maze)\n",
                ")\n",
                "\n",
                "print(\"Text Input\")\n",
                "print(render_2d_array_to_text(outputs_accumulator[\"maze\"]))\n",
                "\n",
                "visualize_puzzle_input(outputs_accumulator, width=200)"
            ]
        },
        {
            "cell_type": "markdown",
            "metadata": {},
            "source": [
                "## With Actual Input\n",
                "\n",
                "Same visualization procedure.\n"
            ]
        },
        {
            "cell_type": "code",
            "execution_count": null,
            "metadata": {},
            "outputs": [],
            "source": [
                "def visualize_actual_input(problem: AdventOfCodeProblem202310):\n",
                "    maze = problem.parse_input_text_file()\n",
                "\n",
                "    minimum_distances = problem.compute_minimum_distances(maze)\n",
                "    result, outputs_accumulator = problem.compute_tiles_enclosed_by_loop_part_2(\n",
                "        maze, minimum_distances\n",
                "    )\n",
                "\n",
                "    visualize_puzzle_input(\n",
                "        outputs_accumulator,\n",
                "        width=maze.shape[0] * 3,\n",
                "        height=maze.shape[0] * 3,\n",
                "        with_text=False,\n",
                "    )\n",
                "\n",
                "\n",
                "visualize_actual_input(problem)"
            ]
        }
    ],
    "metadata": {
        "kernelspec": {
            "display_name": "advent-of-code-CEbbwEIT-py3.10",
            "language": "python",
            "name": "python3"
        },
        "language_info": {
            "codemirror_mode": {
                "name": "ipython",
                "version": 3
            },
            "file_extension": ".py",
            "mimetype": "text/x-python",
            "name": "python",
            "nbconvert_exporter": "python",
            "pygments_lexer": "ipython3",
            "version": "3.12.1"
        }
    },
    "nbformat": 4,
    "nbformat_minor": 2
}
