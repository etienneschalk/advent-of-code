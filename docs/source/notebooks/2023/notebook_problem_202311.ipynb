{
    "cells": [
        {
            "cell_type": "markdown",
            "metadata": {},
            "source": [
                "# Year 2023 Day 11\n"
            ]
        },
        {
            "cell_type": "markdown",
            "metadata": {},
            "source": [
                "The goal of this notebook is multiple:\n",
                "\n",
                "1. Learn how to use Observable Plot with its python wrapper `pyobsplot`\n",
                "2. Visualize the problem's input\n",
                "3. Describe the problem solving procedure\n"
            ]
        },
        {
            "cell_type": "code",
            "execution_count": null,
            "metadata": {},
            "outputs": [],
            "source": [
                "from advent_of_code.visualization.observable_plot import visualize_puzzle_input_202311\n",
                "from advent_of_code.y_2023.problem_202311 import (\n",
                "    AdventOfCodeProblem202311,\n",
                "    create_coord_array,\n",
                ")"
            ]
        },
        {
            "cell_type": "markdown",
            "metadata": {},
            "source": [
                "### Input Visualization\n"
            ]
        },
        {
            "cell_type": "code",
            "execution_count": null,
            "metadata": {},
            "outputs": [],
            "source": [
                "problem = AdventOfCodeProblem202311()\n",
                "problem"
            ]
        },
        {
            "cell_type": "code",
            "execution_count": null,
            "metadata": {},
            "outputs": [],
            "source": [
                "puzzle_input = problem.parse_input_text_file()\n",
                "puzzle_input"
            ]
        },
        {
            "cell_type": "code",
            "execution_count": null,
            "metadata": {},
            "outputs": [],
            "source": [
                "visualize_puzzle_input_202311(puzzle_input)"
            ]
        },
        {
            "cell_type": "code",
            "execution_count": null,
            "metadata": {},
            "outputs": [],
            "source": [
                "visualize_puzzle_input_202311(puzzle_input, with_rules=True)"
            ]
        },
        {
            "cell_type": "markdown",
            "metadata": {},
            "source": [
                "Let's count how many nodes there are in this graph:\n"
            ]
        },
        {
            "cell_type": "code",
            "execution_count": null,
            "metadata": {},
            "outputs": [],
            "source": [
                "coord_array = create_coord_array(puzzle_input)\n",
                "node_count = coord_array[\"z\"].size\n",
                "node_count"
            ]
        },
        {
            "cell_type": "markdown",
            "metadata": {},
            "source": [
                "Now we can calculate the number of edges in the related [Complete graph](https://en.wikipedia.org/wiki/Complete_graph), where every pair of node is connected:\n"
            ]
        },
        {
            "cell_type": "code",
            "execution_count": null,
            "metadata": {},
            "outputs": [],
            "source": [
                "n = node_count\n",
                "edge_count = n * (n - 1) // 2  # 2 among n\n",
                "edge_count"
            ]
        },
        {
            "cell_type": "markdown",
            "metadata": {},
            "source": [
                "The amount is very high, hence in the visualisation, only a fraction is shown\n"
            ]
        },
        {
            "cell_type": "code",
            "execution_count": null,
            "metadata": {},
            "outputs": [],
            "source": [
                "visualize_puzzle_input_202311(\n",
                "    puzzle_input,\n",
                "    with_rules=True,\n",
                "    with_graph=True,\n",
                "    coord_array=coord_array,\n",
                "    edge_density=0.005,\n",
                ")"
            ]
        },
        {
            "cell_type": "code",
            "execution_count": null,
            "metadata": {},
            "outputs": [],
            "source": [
                "visualize_puzzle_input_202311(\n",
                "    puzzle_input,\n",
                "    with_rules=True,\n",
                "    with_graph=True,\n",
                "    coord_array=coord_array,\n",
                "    edge_density=0.03,\n",
                ")"
            ]
        },
        {
            "cell_type": "markdown",
            "metadata": {},
            "source": [
                "We can visually see that there are a lot of distances to compute. The plot is filled with edges. Here is an edge of density of 0.1, we can see that the plot is almost filled with the drawing color:\n"
            ]
        },
        {
            "cell_type": "code",
            "execution_count": null,
            "metadata": {},
            "outputs": [],
            "source": [
                "visualize_puzzle_input_202311(\n",
                "    puzzle_input,\n",
                "    with_rules=True,\n",
                "    with_graph=True,\n",
                "    coord_array=coord_array,\n",
                "    edge_density=0.1,\n",
                ")"
            ]
        },
        {
            "cell_type": "markdown",
            "metadata": {},
            "source": [
                "The key to expansion is to assign to every chunk a node (it creates a [Lattice graph](https://en.wikipedia.org/wiki/Lattice_graph)).\n",
                "Then the same logic can be applied on chunks instead of stars, and the distance\n",
                "becomes the sum of both adjacency matrix, with the chunks adjacency matrix multiplied by\n",
                "the expansion coefficient\n"
            ]
        },
        {
            "cell_type": "code",
            "execution_count": null,
            "metadata": {},
            "outputs": [],
            "source": [
                "visualize_puzzle_input_202311(\n",
                "    puzzle_input,\n",
                "    with_rules=True,\n",
                "    with_chunk_graph=True,\n",
                ")"
            ]
        },
        {
            "cell_type": "markdown",
            "metadata": {},
            "source": [
                "## Problem Solving\n"
            ]
        },
        {
            "cell_type": "code",
            "execution_count": null,
            "metadata": {},
            "outputs": [],
            "source": [
                "from advent_of_code.y_2023.problem_202311 import (\n",
                "    compute_proximity_matrix_from_coord_array,\n",
                "    create_chunk_coord_array,\n",
                "    get_expansion_coef_part_2,\n",
                ")\n",
                "import pandas as pd"
            ]
        },
        {
            "cell_type": "markdown",
            "metadata": {},
            "source": [
                "First, let's visualize again the puzzle input, an boolean array containing the stars.\n"
            ]
        },
        {
            "cell_type": "code",
            "execution_count": null,
            "metadata": {},
            "outputs": [],
            "source": [
                "space_xda = puzzle_input\n",
                "visualize_puzzle_input_202311(puzzle_input)"
            ]
        },
        {
            "cell_type": "markdown",
            "metadata": {},
            "source": [
                "Then, create an array containing all the coordinates of the stars in the puzzle input\n"
            ]
        },
        {
            "cell_type": "code",
            "execution_count": null,
            "metadata": {},
            "outputs": [],
            "source": [
                "coord_array = create_coord_array(space_xda)\n",
                "coord_array.to_pandas()"
            ]
        },
        {
            "cell_type": "markdown",
            "metadata": {},
            "source": [
                "Each star is contained in a chunk. Similarly, create an array containing all the _chunks_ coordinates.\n"
            ]
        },
        {
            "cell_type": "code",
            "execution_count": null,
            "metadata": {},
            "outputs": [],
            "source": [
                "chunk_coord_array = create_chunk_coord_array(space_xda, coord_array)\n",
                "chunk_coord_array.to_pandas()"
            ]
        },
        {
            "cell_type": "markdown",
            "metadata": {},
            "source": [
                "Now, let's compute the _proximity matrix_ for stars, $P_{stars}$\n"
            ]
        },
        {
            "cell_type": "code",
            "execution_count": null,
            "metadata": {},
            "outputs": [],
            "source": [
                "proximity_matrix_stars = compute_proximity_matrix_from_coord_array(coord_array)\n",
                "proximity_matrix_stars.to_pandas()"
            ]
        },
        {
            "cell_type": "markdown",
            "metadata": {},
            "source": [
                "Then, compute the _proximity matrix_ for chunks, $P_{chunks}$\n"
            ]
        },
        {
            "cell_type": "code",
            "execution_count": null,
            "metadata": {},
            "outputs": [],
            "source": [
                "proximity_matrix_chunks = compute_proximity_matrix_from_coord_array(chunk_coord_array)\n",
                "proximity_matrix_chunks.to_pandas()"
            ]
        },
        {
            "cell_type": "markdown",
            "metadata": {},
            "source": [
                "The expansion coefficient $e_{coef}$ is given by the problem description\n"
            ]
        },
        {
            "cell_type": "code",
            "execution_count": null,
            "metadata": {},
            "outputs": [],
            "source": [
                "expansion_coef = get_expansion_coef_part_2()\n",
                "expansion_coef"
            ]
        },
        {
            "cell_type": "markdown",
            "metadata": {},
            "source": [
                "The _total proximity matrix_ can then be computed with this expression:\n",
                "\n",
                "$$\n",
                "P_{total} = P_{stars} + e_{coef} .  P_{chunks}\n",
                "$$\n"
            ]
        },
        {
            "cell_type": "code",
            "execution_count": null,
            "metadata": {},
            "outputs": [],
            "source": [
                "total_proximity = proximity_matrix_stars + expansion_coef * proximity_matrix_chunks\n",
                "total_proximity.to_pandas()"
            ]
        },
        {
            "cell_type": "markdown",
            "metadata": {},
            "source": [
                "Finally, the answer to the problem can be obtained by summing either the lower or upper triangular matrix extracted from $P_{total}$.\n"
            ]
        }
    ],
    "metadata": {
        "kernelspec": {
            "display_name": "advent-of-code-CEbbwEIT-py3.10",
            "language": "python",
            "name": "python3"
        },
        "language_info": {
            "codemirror_mode": {
                "name": "ipython",
                "version": 3
            },
            "file_extension": ".py",
            "mimetype": "text/x-python",
            "name": "python",
            "nbconvert_exporter": "python",
            "pygments_lexer": "ipython3",
            "version": "3.12.1"
        }
    },
    "nbformat": 4,
    "nbformat_minor": 2
}
