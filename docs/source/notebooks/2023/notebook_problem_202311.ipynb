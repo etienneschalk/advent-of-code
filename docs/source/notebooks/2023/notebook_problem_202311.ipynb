{
    "cells": [
        {
            "cell_type": "markdown",
            "metadata": {},
            "source": [
                "# Year 2023 Day 11\n"
            ]
        },
        {
            "cell_type": "code",
            "execution_count": null,
            "metadata": {},
            "outputs": [],
            "source": [
                "import numpy as np\n",
                "import pandas as pd\n",
                "import xarray as xr\n",
                "from pyobsplot import Plot  # , js # can be used to pass js expr as str\n",
                "\n",
                "from advent_of_code.visualization.observable_plot import visualize_puzzle_input_202311\n",
                "from advent_of_code.y_2023.problem_202311 import (\n",
                "    AdventOfCodeProblem202311,\n",
                "    create_coord_array,\n",
                ")"
            ]
        },
        {
            "cell_type": "markdown",
            "metadata": {},
            "source": [
                "Note: the following logic can be reused for 202324 (show the vectors aligning progressively)"
            ]
        },
        {
            "cell_type": "code",
            "execution_count": null,
            "metadata": {},
            "outputs": [],
            "source": [
                "problem = AdventOfCodeProblem202311()\n",
                "problem"
            ]
        },
        {
            "cell_type": "code",
            "execution_count": null,
            "metadata": {},
            "outputs": [],
            "source": [
                "puzzle_input = problem.parse_input_text_file()\n",
                "puzzle_input"
            ]
        },
        {
            "cell_type": "code",
            "execution_count": null,
            "metadata": {},
            "outputs": [],
            "source": [
                "visualize_puzzle_input_202311(puzzle_input)"
            ]
        },
        {
            "cell_type": "code",
            "execution_count": null,
            "metadata": {},
            "outputs": [],
            "source": [
                "visualize_puzzle_input_202311(puzzle_input, with_rules=True)"
            ]
        },
        {
            "cell_type": "markdown",
            "metadata": {},
            "source": [
                "Let's count how many nodes there are in this graph:"
            ]
        },
        {
            "cell_type": "code",
            "execution_count": null,
            "metadata": {},
            "outputs": [],
            "source": [
                "coord_array = create_coord_array(puzzle_input)\n",
                "node_count = coord_array[\"z\"].size\n",
                "node_count"
            ]
        },
        {
            "cell_type": "markdown",
            "metadata": {},
            "source": [
                "Now we can calculate the number of edges in the related [Complete graph](https://en.wikipedia.org/wiki/Complete_graph), where every pair of node is connected:"
            ]
        },
        {
            "cell_type": "code",
            "execution_count": null,
            "metadata": {},
            "outputs": [],
            "source": [
                "n = node_count\n",
                "edge_count = n * (n - 1) // 2  # 2 among n\n",
                "edge_count"
            ]
        },
        {
            "cell_type": "markdown",
            "metadata": {},
            "source": [
                "The amount is very high, hence in the visualisation, only a fraction is shown"
            ]
        },
        {
            "cell_type": "code",
            "execution_count": null,
            "metadata": {},
            "outputs": [],
            "source": [
                "visualize_puzzle_input_202311(\n",
                "    puzzle_input,\n",
                "    with_rules=True,\n",
                "    with_graph=True,\n",
                "    coord_array=coord_array,\n",
                "    edge_density=0.005,\n",
                ")"
            ]
        },
        {
            "cell_type": "code",
            "execution_count": null,
            "metadata": {},
            "outputs": [],
            "source": [
                "visualize_puzzle_input_202311(\n",
                "    puzzle_input,\n",
                "    with_rules=True,\n",
                "    with_graph=True,\n",
                "    coord_array=coord_array,\n",
                "    edge_density=0.03,\n",
                ")"
            ]
        },
        {
            "cell_type": "markdown",
            "metadata": {},
            "source": [
                "We can visually see that there are a lot of distances to compute. The plot is filled with edges. Here is an edge of density of 0.1, we can see that the plot is almost filled with the drawing color:"
            ]
        },
        {
            "cell_type": "code",
            "execution_count": null,
            "metadata": {},
            "outputs": [],
            "source": [
                "visualize_puzzle_input_202311(\n",
                "    puzzle_input,\n",
                "    with_rules=True,\n",
                "    with_graph=True,\n",
                "    coord_array=coord_array,\n",
                "    edge_density=0.1,\n",
                ")"
            ]
        },
        {
            "cell_type": "markdown",
            "metadata": {},
            "source": [
                "The key to expansion is to assign to every chunk a node (it creates a [Lattice graph](https://en.wikipedia.org/wiki/Lattice_graph)).\n",
                "Then the same logic can be applied on chunks instead of stars, and the distance\n",
                "becomes the sum of both adjacency matrix, with the chunk one multiplied by\n",
                "the expansion coefficient"
            ]
        },
        {
            "cell_type": "code",
            "execution_count": null,
            "metadata": {},
            "outputs": [],
            "source": [
                "visualize_puzzle_input_202311(\n",
                "    puzzle_input,\n",
                "    with_rules=True,\n",
                "    with_chunk_graph=True,\n",
                ")"
            ]
        }
    ],
    "metadata": {
        "kernelspec": {
            "display_name": "advent-of-code-CEbbwEIT-py3.10",
            "language": "python",
            "name": "python3"
        },
        "language_info": {
            "codemirror_mode": {
                "name": "ipython",
                "version": 3
            },
            "file_extension": ".py",
            "mimetype": "text/x-python",
            "name": "python",
            "nbconvert_exporter": "python",
            "pygments_lexer": "ipython3",
            "version": "3.12.1"
        }
    },
    "nbformat": 4,
    "nbformat_minor": 2
}
