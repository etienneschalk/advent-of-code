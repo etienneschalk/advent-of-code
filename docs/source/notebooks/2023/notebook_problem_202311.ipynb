{
    "cells": [
        {
            "cell_type": "markdown",
            "metadata": {},
            "source": [
                "# Year 2023 Day 11\n"
            ]
        },
        {
            "cell_type": "code",
            "execution_count": null,
            "metadata": {},
            "outputs": [],
            "source": [
                "import numpy as np\n",
                "import pandas as pd\n",
                "from pyobsplot import Plot # , js # can be used to pass js expr as str \n",
                "import xarray as xr\n"
            ]
        },
        {
            "cell_type": "markdown",
            "metadata": {},
            "source": [
                "Note: the following logic can be reused for 202324 (show the vectors aligning progressively)"
            ]
        },
        {
            "cell_type": "code",
            "execution_count": null,
            "metadata": {},
            "outputs": [],
            "source": [
                "from advent_of_code.y_2023.problem_202311 import AdventOfCodeProblem202311\n",
                "\n",
                "problem = AdventOfCodeProblem202311()\n",
                "problem"
            ]
        },
        {
            "cell_type": "code",
            "execution_count": null,
            "metadata": {},
            "outputs": [],
            "source": [
                "puzzle_input = problem.parse_input_text_file()\n",
                "puzzle_input"
            ]
        },
        {
            "cell_type": "code",
            "execution_count": null,
            "metadata": {},
            "outputs": [],
            "source": [
                "grid = (puzzle_input == ord(\"#\")).astype(int) * 255\n",
                "grid"
            ]
        },
        {
            "cell_type": "code",
            "execution_count": null,
            "metadata": {},
            "outputs": [],
            "source": [
                "from advent_of_code.y_2023.problem_202311 import get_compartiments\n",
                "\n",
                "\n"
            ]
        },
        {
            "cell_type": "code",
            "execution_count": null,
            "metadata": {},
            "outputs": [],
            "source": [
                "from advent_of_code.y_2023.problem_202311 import (\n",
                "    compute_adjacency_matrix,\n",
                "    create_coord_array,\n",
                ")\n",
                "\n",
                "\n",
                "def visualize_puzzle_input(\n",
                "    space_xda: xr.DataArray,\n",
                "    with_rules: bool = False,\n",
                "    with_graph: bool = False,\n",
                "    coord_array: xr.DataArray | None = None,\n",
                "    edge_density: float | None = None,\n",
                "):\n",
                "    marks = []\n",
                "    marks.append(\n",
                "        Plot.axisX({\"anchor\": \"top\"}),\n",
                "    )\n",
                "    marks.append(\n",
                "        Plot.raster(\n",
                "            grid.values.reshape(-1),\n",
                "            {\n",
                "                \"width\": grid.col.size,\n",
                "                \"height\": grid.row.size,\n",
                "                \"imageRendering\": \"pixelated\",\n",
                "            },\n",
                "        ),\n",
                "    )\n",
                "\n",
                "    if with_graph:\n",
                "        if coord_array is None:\n",
                "            raise ValueError(\n",
                "                \"coord_array was not given, it is needed to visualize the graph\"\n",
                "            )\n",
                "        if edge_density is None:\n",
                "            edge_density = 1\n",
                "\n",
                "        coord_array = coord_array + 0.5\n",
                "\n",
                "        lines = []\n",
                "        for idx, pair_source in enumerate(coord_array.values.tolist()):\n",
                "            for pair_target in coord_array.values[idx + 1 :].tolist():\n",
                "                lines.append([pair_source, pair_target])\n",
                "\n",
                "        # Only display a subset of all the links\n",
                "        period = int(1 / edge_density)\n",
                "        lines = lines[::period]\n",
                "\n",
                "        table = {\n",
                "            \"x1\": [],\n",
                "            \"y1\": [],\n",
                "            \"x2\": [],\n",
                "            \"y2\": [],\n",
                "        }\n",
                "\n",
                "        for line in lines:\n",
                "            table[\"y1\"].append(line[0][0])\n",
                "            table[\"x1\"].append(line[0][1])\n",
                "            table[\"y2\"].append(line[1][0])\n",
                "            table[\"x2\"].append(line[1][1])\n",
                "\n",
                "        table = pd.DataFrame.from_dict(table)\n",
                "        marks.append(\n",
                "            Plot.link(\n",
                "                table,\n",
                "                {\n",
                "                    \"x1\": \"x1\",\n",
                "                    \"y1\": \"y1\",\n",
                "                    \"x2\": \"x2\",\n",
                "                    \"y2\": \"y2\",\n",
                "                    \"stroke\": \"white\",\n",
                "                    \"strokeWidth\": 0.3,\n",
                "                },\n",
                "            )\n",
                "        )\n",
                "\n",
                "    if with_rules:\n",
                "        row_chunks = get_compartiments(space_xda, \"row\", \"col\")\n",
                "        col_chunks = get_compartiments(space_xda, \"col\", \"row\")\n",
                "\n",
                "        marks.append(\n",
                "            Plot.ruleY(\n",
                "                [chunk.start - 0.5 for chunk in list(row_chunks.values())[1:]],\n",
                "                {\"stroke\": \"red\"},\n",
                "            ),\n",
                "        )\n",
                "        marks.append(\n",
                "            Plot.ruleX(\n",
                "                [chunk.start - 0.5 for chunk in list(col_chunks.values())[1:]],\n",
                "                {\"stroke\": \"red\"},\n",
                "            ),\n",
                "        )\n",
                "\n",
                "    return Plot.plot(\n",
                "        {\n",
                "            \"height\": 140 * 4,\n",
                "            \"width\": 140 * 4,\n",
                "            \"color\": {\"scheme\": \"magma\"},\n",
                "            \"x\": {\"domain\": [0, grid.col.size], \"label\": \"column\"},\n",
                "            \"y\": {\"domain\": [grid.row.size, 0], \"label\": \"row\"},\n",
                "            \"marks\": marks,\n",
                "        }\n",
                "    )"
            ]
        },
        {
            "cell_type": "code",
            "execution_count": null,
            "metadata": {},
            "outputs": [],
            "source": [
                "visualize_puzzle_input(puzzle_input)"
            ]
        },
        {
            "cell_type": "code",
            "execution_count": null,
            "metadata": {},
            "outputs": [],
            "source": [
                "visualize_puzzle_input(puzzle_input, with_rules=True)"
            ]
        },
        {
            "cell_type": "markdown",
            "metadata": {},
            "source": [
                "Let's count how many nodes there are in this graph:"
            ]
        },
        {
            "cell_type": "code",
            "execution_count": null,
            "metadata": {},
            "outputs": [],
            "source": [
                "coord_array = create_coord_array(puzzle_input)\n",
                "node_count = coord_array[\"z\"].size\n",
                "node_count"
            ]
        },
        {
            "cell_type": "markdown",
            "metadata": {},
            "source": [
                "Now we can calculate the number of edges in the related [Complete graph](https://en.wikipedia.org/wiki/Complete_graph), where every pair of node is connected:"
            ]
        },
        {
            "cell_type": "code",
            "execution_count": null,
            "metadata": {},
            "outputs": [],
            "source": [
                "n = node_count\n",
                "edge_count = n*(n-1)//2 # 2 among n\n",
                "edge_count"
            ]
        },
        {
            "cell_type": "markdown",
            "metadata": {},
            "source": [
                "The amount is very high, hence in the visualisation, only a fraction is shown"
            ]
        },
        {
            "cell_type": "code",
            "execution_count": null,
            "metadata": {},
            "outputs": [],
            "source": [
                "visualize_puzzle_input(\n",
                "    puzzle_input, with_rules=True, with_graph=True, coord_array=coord_array, edge_density=0.005\n",
                ")"
            ]
        },
        {
            "cell_type": "code",
            "execution_count": null,
            "metadata": {},
            "outputs": [],
            "source": [
                "visualize_puzzle_input(\n",
                "    puzzle_input,\n",
                "    with_rules=True,\n",
                "    with_graph=True,\n",
                "    coord_array=coord_array,\n",
                "    edge_density=0.03,\n",
                ")"
            ]
        },
        {
            "cell_type": "markdown",
            "metadata": {},
            "source": [
                "The key to expansion is to assign to every chunk a node (it creates a [Lattice graph](https://en.wikipedia.org/wiki/Lattice_graph)).\n",
                "Then the same logic can be applied on chunks instead of stars, and the distance\n",
                "becomes the sum of both adjacency matrix, with the chunk one multiplied by\n",
                "the expansion coefficient"
            ]
        }
    ],
    "metadata": {
        "kernelspec": {
            "display_name": "advent-of-code-CEbbwEIT-py3.10",
            "language": "python",
            "name": "python3"
        },
        "language_info": {
            "codemirror_mode": {
                "name": "ipython",
                "version": 3
            },
            "file_extension": ".py",
            "mimetype": "text/x-python",
            "name": "python",
            "nbconvert_exporter": "python",
            "pygments_lexer": "ipython3",
            "version": "3.12.1"
        }
    },
    "nbformat": 4,
    "nbformat_minor": 2
}
