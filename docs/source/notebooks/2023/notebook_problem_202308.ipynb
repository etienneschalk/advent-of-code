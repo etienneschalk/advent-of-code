{
 "cells": [
  {
   "cell_type": "markdown",
   "metadata": {},
   "source": [
    "# Year 2023 Day 08\n",
    "\n",
    "[--- Day 8: Haunted Wasteland ---](https://adventofcode.com/2023/day/8)\n"
   ]
  },
  {
   "cell_type": "code",
   "execution_count": 1,
   "metadata": {
    "execution": {
     "iopub.execute_input": "2024-05-27T08:54:18.284942Z",
     "iopub.status.busy": "2024-05-27T08:54:18.284068Z",
     "iopub.status.idle": "2024-05-27T08:54:18.909211Z",
     "shell.execute_reply": "2024-05-27T08:54:18.908198Z"
    },
    "metadata": {}
   },
   "outputs": [],
   "source": [
    "import numpy as np\n",
    "from graphviz import Digraph  # pyright: ignore[reportMissingTypeStubs]\n",
    "\n",
    "from advent_of_code.common.common import get_example_inputs_file_contents\n",
    "from advent_of_code.y_2023.problem_202308 import (\n",
    "    AdventOfCodeProblem202308,\n",
    "    Network,\n",
    "    detect_loop,\n",
    ")"
   ]
  },
  {
   "cell_type": "code",
   "execution_count": 2,
   "metadata": {
    "execution": {
     "iopub.execute_input": "2024-05-27T08:54:18.912837Z",
     "iopub.status.busy": "2024-05-27T08:54:18.912089Z",
     "iopub.status.idle": "2024-05-27T08:54:18.919929Z",
     "shell.execute_reply": "2024-05-27T08:54:18.918889Z"
    }
   },
   "outputs": [
    {
     "data": {
      "text/plain": [
       "AdventOfCodeProblem202308(year=2023, day=8)"
      ]
     },
     "execution_count": 2,
     "metadata": {},
     "output_type": "execute_result"
    }
   ],
   "source": [
    "problem = AdventOfCodeProblem202308()\n",
    "problem"
   ]
  },
  {
   "cell_type": "code",
   "execution_count": 3,
   "metadata": {
    "execution": {
     "iopub.execute_input": "2024-05-27T08:54:18.923275Z",
     "iopub.status.busy": "2024-05-27T08:54:18.922862Z",
     "iopub.status.idle": "2024-05-27T08:54:18.931135Z",
     "shell.execute_reply": "2024-05-27T08:54:18.930385Z"
    }
   },
   "outputs": [
    {
     "data": {
      "text/plain": [
       "['EXAMPLE_INPUT_1', 'EXAMPLE_INPUT_2', 'EXAMPLE_INPUT_PART_2']"
      ]
     },
     "execution_count": 3,
     "metadata": {},
     "output_type": "execute_result"
    }
   ],
   "source": [
    "example_inputs = get_example_inputs_file_contents(2023)[\"test_problem_202308\"]\n",
    "list(example_inputs.keys())"
   ]
  },
  {
   "cell_type": "code",
   "execution_count": 4,
   "metadata": {
    "execution": {
     "iopub.execute_input": "2024-05-27T08:54:18.933791Z",
     "iopub.status.busy": "2024-05-27T08:54:18.933561Z",
     "iopub.status.idle": "2024-05-27T08:54:18.937097Z",
     "shell.execute_reply": "2024-05-27T08:54:18.936192Z"
    }
   },
   "outputs": [],
   "source": [
    "source_end_letter = \"A\"\n",
    "target_end_letter = \"Z\""
   ]
  },
  {
   "cell_type": "markdown",
   "metadata": {},
   "source": [
    "## With Example Input\n"
   ]
  },
  {
   "cell_type": "code",
   "execution_count": 5,
   "metadata": {
    "execution": {
     "iopub.execute_input": "2024-05-27T08:54:18.940988Z",
     "iopub.status.busy": "2024-05-27T08:54:18.940683Z",
     "iopub.status.idle": "2024-05-27T08:54:18.944822Z",
     "shell.execute_reply": "2024-05-27T08:54:18.943829Z"
    }
   },
   "outputs": [],
   "source": [
    "example_input_part_2 = problem.parse_text_input(example_inputs[\"EXAMPLE_INPUT_PART_2\"])"
   ]
  },
  {
   "cell_type": "markdown",
   "metadata": {},
   "source": [
    "Simplified version of the problem solving code, focusing on gathering the history (logging) for latter visualization.\n"
   ]
  },
  {
   "cell_type": "code",
   "execution_count": 6,
   "metadata": {
    "execution": {
     "iopub.execute_input": "2024-05-27T08:54:18.947964Z",
     "iopub.status.busy": "2024-05-27T08:54:18.947391Z",
     "iopub.status.idle": "2024-05-27T08:54:18.952955Z",
     "shell.execute_reply": "2024-05-27T08:54:18.952328Z"
    }
   },
   "outputs": [],
   "source": [
    "def find_loops(network: Network):\n",
    "    sources = tuple(\n",
    "        sorted(key for key in network.nodes.keys() if key.endswith(source_end_letter))\n",
    "    )\n",
    "    histories: dict[str, list[tuple[str, int]]] = {}\n",
    "    for source_node in sources:\n",
    "        histories[source_node] = detect_loop(network, source_node, target_end_letter)\n",
    "\n",
    "    # Find lowest common multiple for all loop lengths\n",
    "    steps = np.lcm.reduce([len(h) for h in histories.values()])\n",
    "\n",
    "    return steps, histories"
   ]
  },
  {
   "cell_type": "markdown",
   "metadata": {},
   "source": [
    "Converts the problem solving code's history to a Dot graph.\n"
   ]
  },
  {
   "cell_type": "code",
   "execution_count": 7,
   "metadata": {
    "execution": {
     "iopub.execute_input": "2024-05-27T08:54:18.955709Z",
     "iopub.status.busy": "2024-05-27T08:54:18.955447Z",
     "iopub.status.idle": "2024-05-27T08:54:18.960601Z",
     "shell.execute_reply": "2024-05-27T08:54:18.959574Z"
    }
   },
   "outputs": [],
   "source": [
    "def dot_graph(\n",
    "    histories: dict[str, list[tuple[str, int]]], target_end_letter: str = \"Z\"\n",
    "):\n",
    "    dot = Digraph()\n",
    "\n",
    "    for history in histories.values():\n",
    "        previous_node = history[0][0]\n",
    "        fillcolor = \"#ffccff\"  # magenta = starting node\n",
    "        dot.node(f\"{previous_node}\", style=\"filled\", fillcolor=fillcolor)\n",
    "\n",
    "        for current_node, _ in history[1:]:\n",
    "            fillcolor = \"white\"\n",
    "            if current_node.endswith(target_end_letter):\n",
    "                fillcolor = \"#ccffff\"  # cyan = end node\n",
    "            dot.node(f\"{current_node}\", style=\"filled\", fillcolor=fillcolor)\n",
    "            dot.edge(previous_node, current_node)\n",
    "            previous_node = current_node\n",
    "\n",
    "    return dot"
   ]
  },
  {
   "cell_type": "code",
   "execution_count": 8,
   "metadata": {
    "execution": {
     "iopub.execute_input": "2024-05-27T08:54:18.963307Z",
     "iopub.status.busy": "2024-05-27T08:54:18.962758Z",
     "iopub.status.idle": "2024-05-27T08:54:19.011382Z",
     "shell.execute_reply": "2024-05-27T08:54:19.010689Z"
    }
   },
   "outputs": [
    {
     "data": {
      "image/svg+xml": [
       "<?xml version=\"1.0\" encoding=\"UTF-8\" standalone=\"no\"?>\n",
       "<!DOCTYPE svg PUBLIC \"-//W3C//DTD SVG 1.1//EN\"\n",
       " \"http://www.w3.org/Graphics/SVG/1.1/DTD/svg11.dtd\">\n",
       "<!-- Generated by graphviz version 2.43.0 (0)\n",
       " -->\n",
       "<!-- Title: %3 Pages: 1 -->\n",
       "<svg width=\"142pt\" height=\"260pt\"\n",
       " viewBox=\"0.00 0.00 142.49 260.00\" xmlns=\"http://www.w3.org/2000/svg\" xmlns:xlink=\"http://www.w3.org/1999/xlink\">\n",
       "<g id=\"graph0\" class=\"graph\" transform=\"scale(1 1) rotate(0) translate(4 256)\">\n",
       "<title>%3</title>\n",
       "<polygon fill=\"white\" stroke=\"transparent\" points=\"-4,4 -4,-256 138.49,-256 138.49,4 -4,4\"/>\n",
       "<!-- 11A -->\n",
       "<g id=\"node1\" class=\"node\">\n",
       "<title>11A</title>\n",
       "<ellipse fill=\"#ffccff\" stroke=\"black\" cx=\"29.25\" cy=\"-234\" rx=\"28.7\" ry=\"18\"/>\n",
       "<text text-anchor=\"middle\" x=\"29.25\" y=\"-230.3\" font-family=\"Times,serif\" font-size=\"14.00\">11A</text>\n",
       "</g>\n",
       "<!-- 11B -->\n",
       "<g id=\"node2\" class=\"node\">\n",
       "<title>11B</title>\n",
       "<ellipse fill=\"white\" stroke=\"black\" cx=\"29.25\" cy=\"-162\" rx=\"29.5\" ry=\"18\"/>\n",
       "<text text-anchor=\"middle\" x=\"29.25\" y=\"-158.3\" font-family=\"Times,serif\" font-size=\"14.00\">11B</text>\n",
       "</g>\n",
       "<!-- 11A&#45;&gt;11B -->\n",
       "<g id=\"edge1\" class=\"edge\">\n",
       "<title>11A&#45;&gt;11B</title>\n",
       "<path fill=\"none\" stroke=\"black\" d=\"M29.25,-215.7C29.25,-207.98 29.25,-198.71 29.25,-190.11\"/>\n",
       "<polygon fill=\"black\" stroke=\"black\" points=\"32.75,-190.1 29.25,-180.1 25.75,-190.1 32.75,-190.1\"/>\n",
       "</g>\n",
       "<!-- 11Z -->\n",
       "<g id=\"node3\" class=\"node\">\n",
       "<title>11Z</title>\n",
       "<ellipse fill=\"#ccffff\" stroke=\"black\" cx=\"29.25\" cy=\"-90\" rx=\"28.7\" ry=\"18\"/>\n",
       "<text text-anchor=\"middle\" x=\"29.25\" y=\"-86.3\" font-family=\"Times,serif\" font-size=\"14.00\">11Z</text>\n",
       "</g>\n",
       "<!-- 11B&#45;&gt;11Z -->\n",
       "<g id=\"edge2\" class=\"edge\">\n",
       "<title>11B&#45;&gt;11Z</title>\n",
       "<path fill=\"none\" stroke=\"black\" d=\"M29.25,-143.7C29.25,-135.98 29.25,-126.71 29.25,-118.11\"/>\n",
       "<polygon fill=\"black\" stroke=\"black\" points=\"32.75,-118.1 29.25,-108.1 25.75,-118.1 32.75,-118.1\"/>\n",
       "</g>\n",
       "<!-- 22A -->\n",
       "<g id=\"node4\" class=\"node\">\n",
       "<title>22A</title>\n",
       "<ellipse fill=\"#ffccff\" stroke=\"black\" cx=\"105.25\" cy=\"-234\" rx=\"28.7\" ry=\"18\"/>\n",
       "<text text-anchor=\"middle\" x=\"105.25\" y=\"-230.3\" font-family=\"Times,serif\" font-size=\"14.00\">22A</text>\n",
       "</g>\n",
       "<!-- 22B -->\n",
       "<g id=\"node5\" class=\"node\">\n",
       "<title>22B</title>\n",
       "<ellipse fill=\"white\" stroke=\"black\" cx=\"105.25\" cy=\"-162\" rx=\"29.5\" ry=\"18\"/>\n",
       "<text text-anchor=\"middle\" x=\"105.25\" y=\"-158.3\" font-family=\"Times,serif\" font-size=\"14.00\">22B</text>\n",
       "</g>\n",
       "<!-- 22A&#45;&gt;22B -->\n",
       "<g id=\"edge3\" class=\"edge\">\n",
       "<title>22A&#45;&gt;22B</title>\n",
       "<path fill=\"none\" stroke=\"black\" d=\"M105.25,-215.7C105.25,-207.98 105.25,-198.71 105.25,-190.11\"/>\n",
       "<polygon fill=\"black\" stroke=\"black\" points=\"108.75,-190.1 105.25,-180.1 101.75,-190.1 108.75,-190.1\"/>\n",
       "</g>\n",
       "<!-- 22C -->\n",
       "<g id=\"node6\" class=\"node\">\n",
       "<title>22C</title>\n",
       "<ellipse fill=\"white\" stroke=\"black\" cx=\"105.25\" cy=\"-90\" rx=\"29.5\" ry=\"18\"/>\n",
       "<text text-anchor=\"middle\" x=\"105.25\" y=\"-86.3\" font-family=\"Times,serif\" font-size=\"14.00\">22C</text>\n",
       "</g>\n",
       "<!-- 22B&#45;&gt;22C -->\n",
       "<g id=\"edge4\" class=\"edge\">\n",
       "<title>22B&#45;&gt;22C</title>\n",
       "<path fill=\"none\" stroke=\"black\" d=\"M105.25,-143.7C105.25,-135.98 105.25,-126.71 105.25,-118.11\"/>\n",
       "<polygon fill=\"black\" stroke=\"black\" points=\"108.75,-118.1 105.25,-108.1 101.75,-118.1 108.75,-118.1\"/>\n",
       "</g>\n",
       "<!-- 22Z -->\n",
       "<g id=\"node7\" class=\"node\">\n",
       "<title>22Z</title>\n",
       "<ellipse fill=\"#ccffff\" stroke=\"black\" cx=\"105.25\" cy=\"-18\" rx=\"28.7\" ry=\"18\"/>\n",
       "<text text-anchor=\"middle\" x=\"105.25\" y=\"-14.3\" font-family=\"Times,serif\" font-size=\"14.00\">22Z</text>\n",
       "</g>\n",
       "<!-- 22C&#45;&gt;22Z -->\n",
       "<g id=\"edge5\" class=\"edge\">\n",
       "<title>22C&#45;&gt;22Z</title>\n",
       "<path fill=\"none\" stroke=\"black\" d=\"M105.25,-71.7C105.25,-63.98 105.25,-54.71 105.25,-46.11\"/>\n",
       "<polygon fill=\"black\" stroke=\"black\" points=\"108.75,-46.1 105.25,-36.1 101.75,-46.1 108.75,-46.1\"/>\n",
       "</g>\n",
       "</g>\n",
       "</svg>\n"
      ],
      "text/plain": [
       "<graphviz.graphs.Digraph at 0x7f0deedf3980>"
      ]
     },
     "execution_count": 8,
     "metadata": {},
     "output_type": "execute_result"
    }
   ],
   "source": [
    "_, histories = find_loops(example_input_part_2)\n",
    "dot_graph(histories)"
   ]
  },
  {
   "cell_type": "markdown",
   "metadata": {},
   "source": [
    "## With Actual Input\n",
    "\n",
    "Visualize the graph created by walking the actual problem's input graph.\n"
   ]
  },
  {
   "cell_type": "code",
   "execution_count": 9,
   "metadata": {
    "execution": {
     "iopub.execute_input": "2024-05-27T08:54:19.014684Z",
     "iopub.status.busy": "2024-05-27T08:54:19.014439Z",
     "iopub.status.idle": "2024-05-27T08:54:19.071593Z",
     "shell.execute_reply": "2024-05-27T08:54:19.070925Z"
    }
   },
   "outputs": [],
   "source": [
    "_, histories = find_loops(problem.parse_input_text_file())"
   ]
  },
  {
   "cell_type": "code",
   "execution_count": 10,
   "metadata": {
    "execution": {
     "iopub.execute_input": "2024-05-27T08:54:19.074472Z",
     "iopub.status.busy": "2024-05-27T08:54:19.074216Z",
     "iopub.status.idle": "2024-05-27T08:54:19.081284Z",
     "shell.execute_reply": "2024-05-27T08:54:19.080445Z"
    }
   },
   "outputs": [
    {
     "name": "stdout",
     "output_type": "stream",
     "text": [
      "6 paths starting from: dict_keys(['AAA', 'MHA', 'NBA', 'TTA', 'VVA', 'XSA'])\n",
      "Average path length: 16229\n"
     ]
    }
   ],
   "source": [
    "lengths = {k: len(v[:-1]) for    k, v in histories.items()}\n",
    "print(f\"{len(histories)} paths starting from: {histories.keys()}\")\n",
    "print(f\"Average path length: {int(np.mean(np.array(list(lengths.values()))))}\")"
   ]
  },
  {
   "cell_type": "markdown",
   "metadata": {},
   "source": [
    "The paths are too long to be visualized with graphviz!\n"
   ]
  }
 ],
 "metadata": {
  "kernelspec": {
   "display_name": "advent-of-code-CEbbwEIT-py3.10",
   "language": "python",
   "name": "python3"
  },
  "language_info": {
   "codemirror_mode": {
    "name": "ipython",
    "version": 3
   },
   "file_extension": ".py",
   "mimetype": "text/x-python",
   "name": "python",
   "nbconvert_exporter": "python",
   "pygments_lexer": "ipython3",
   "version": "3.12.1"
  }
 },
 "nbformat": 4,
 "nbformat_minor": 2
}
