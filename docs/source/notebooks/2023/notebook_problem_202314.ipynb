{
 "cells": [
  {
   "cell_type": "markdown",
   "metadata": {},
   "source": [
    "# Year 2023 Day 14\n",
    "\n",
    "[--- Day 14: Parabolic Reflector Dish ---](https://adventofcode.com/2023/day/14)\n"
   ]
  },
  {
   "cell_type": "code",
   "execution_count": null,
   "metadata": {
    "execution": {
     "iopub.execute_input": "2024-05-27T08:54:10.036368Z",
     "iopub.status.busy": "2024-05-27T08:54:10.036112Z",
     "iopub.status.idle": "2024-05-27T08:54:11.117093Z",
     "shell.execute_reply": "2024-05-27T08:54:11.115999Z"
    },
    "metadata": {}
   },
   "outputs": [],
   "source": [
    "import pandas as pd\n",
    "\n",
    "import xarray as xr"
   ]
  },
  {
   "cell_type": "code",
   "execution_count": null,
   "metadata": {},
   "outputs": [],
   "source": [
    "from advent_of_code.y_2023.problem_202314 import AdventOfCodeProblem202314\n",
    "\n",
    "\n",
    "problem = AdventOfCodeProblem202314()"
   ]
  },
  {
   "cell_type": "code",
   "execution_count": null,
   "metadata": {},
   "outputs": [],
   "source": [
    "history_xda = problem.log_part_2(\n",
    "    problem.parse_input_text_file(), max_full_rotations_count=200, verbose=False\n",
    ")[\"board_history\"]\n",
    "history_xda = history_xda.assign_coords(dict(time=range(0, history_xda[\"time\"].size)))\n",
    "history_xda.sizes"
   ]
  },
  {
   "cell_type": "code",
   "execution_count": null,
   "metadata": {},
   "outputs": [],
   "source": [
    "history_xda_012 = xr.where(\n",
    "    history_xda == ord(\"#\"), 2, xr.where(history_xda == ord(\"O\"), 1, 0)\n",
    ")"
   ]
  },
  {
   "cell_type": "markdown",
   "metadata": {},
   "source": [
    "The initial state. Rocks (orange pixels) are dispersed through the board (mentioned as parabolic reflector dish in the problem description)\n"
   ]
  },
  {
   "cell_type": "code",
   "execution_count": null,
   "metadata": {},
   "outputs": [],
   "source": [
    "history_xda_012.sel(time=0).plot(cmap=\"hot\")"
   ]
  },
  {
   "cell_type": "markdown",
   "metadata": {},
   "source": [
    "Let's plot the next states of the simulation. The tilt cycle is the following: North, West, South, East. This is emphasized by the facetting (4 columns for the 4 directions).\n"
   ]
  },
  {
   "cell_type": "code",
   "execution_count": null,
   "metadata": {},
   "outputs": [],
   "source": [
    "history_xda_012.sel(time=range(1, 1 + 3 * 4)).plot(\n",
    "    col=\"time\", x=\"col\", y=\"row\", yincrease=False, col_wrap=4, cmap=\"hot\"\n",
    ")"
   ]
  },
  {
   "cell_type": "markdown",
   "metadata": {},
   "source": [
    "We can see that the rocks are now significantly more aligned at each state. Indeed each state is the \"equilibrium\" state due to gravity favoring the tilting direction.\n",
    "\n",
    "The goal of the problem's part 2 is to detect the first cycle leading to a repetition in the rocks configuration, and then determining the period, being the number of cycles needed to achieve the same rocks configuration. Indeed, the requested number of simulation steps is extremely high to be ran in a reasonable time (1000000000). So, finding such a period will allow to not compute the actual number of cycles wanted in the problem description, but only a significantly smaller subset of it.\n",
    "\n",
    "This is not a bruteforce problem, but one of the \"simulation with cycle\" problems. Several problems exhibit this philosophy of finding a period of repeating states in a simulation.\n"
   ]
  },
  {
   "cell_type": "code",
   "execution_count": null,
   "metadata": {},
   "outputs": [],
   "source": [
    "result = problem.solve_part_2_details(problem.parse_input_text_file())"
   ]
  },
  {
   "cell_type": "markdown",
   "metadata": {},
   "source": [
    "$t_0$ is the first time (in other words, simulation step) at which a period of repeating states starts.\n",
    "\n",
    "$T$ is this period.\n"
   ]
  },
  {
   "cell_type": "code",
   "execution_count": null,
   "metadata": {},
   "outputs": [],
   "source": [
    "t0 = result[\"start\"]\n",
    "T = result[\"period\"]\n",
    "\n",
    "print(\"Cycle start:\", t0, \";\", \"Cycle period:\", T)"
   ]
  },
  {
   "cell_type": "markdown",
   "metadata": {},
   "source": [
    "The following plot shows that the same rock configuration is achieved at least two times, for all directions.\n"
   ]
  },
  {
   "cell_type": "code",
   "execution_count": null,
   "metadata": {},
   "outputs": [],
   "source": [
    "history_xda_012.sel(\n",
    "    time=[(t0 + n * T) * 4 + offset for n in range(2) for offset in range(4)]\n",
    ").plot(col=\"time\", col_wrap=4, cmap=\"hot\")"
   ]
  },
  {
   "cell_type": "markdown",
   "metadata": {},
   "source": [
    "Formal verification that the states plot above are identical:\n"
   ]
  },
  {
   "cell_type": "code",
   "execution_count": null,
   "metadata": {},
   "outputs": [],
   "source": [
    "print(\n",
    "    [\n",
    "        (\n",
    "            history_xda_012.sel(time=t0 * 4 + offset)\n",
    "            == history_xda_012.sel(time=(t0 + T) * 4 + offset)\n",
    "        )\n",
    "        .all()\n",
    "        .item()\n",
    "        for offset in range(4)\n",
    "    ]\n",
    ")"
   ]
  },
  {
   "cell_type": "markdown",
   "metadata": {},
   "source": [
    "We can visualize the transition from _transitory state_ (régime transitoire) to _permanent state_ (régime permanent) by hashing the various board states. Hashing is a projection from some space to a finite space (a range of integer values). This projection is then easy to visualize for a human, as the complexity (a 2D array) is reduced to a single dimension. Hashing can be seen as assigning a mark to a student's assignment, but without an ordering.\n",
    "\n",
    "Using the hash of the successive states produces a sort of time-dependant signal, well-suited to visualize the periodic property of this problem's simulation.\n"
   ]
  },
  {
   "cell_type": "code",
   "execution_count": null,
   "metadata": {},
   "outputs": [],
   "source": [
    "hashed = {\n",
    "    time: hash(str(history_xda_012.sel(time=time).values.reshape(-1).tolist()))\n",
    "    for time in range(history_xda[\"time\"].size)\n",
    "}\n",
    "df = pd.DataFrame.from_dict(hashed, orient=\"index\", columns=[\"hash\"])\n",
    "df = df.reset_index(names=[\"time\"])\n",
    "df"
   ]
  },
  {
   "cell_type": "code",
   "execution_count": null,
   "metadata": {},
   "outputs": [],
   "source": [
    "from advent_of_code.visualization.observable_plot import ObservablePlotBuilder\n",
    "from pyobsplot import Plot\n",
    "\n",
    "initial_kwargs = {\n",
    "    \"marginLeft\": 45,\n",
    "    \"y\": dict(\n",
    "        tickFormat=\".0e\",\n",
    "        nice=True,\n",
    "        ticks=10,\n",
    "    ),\n",
    "    \"width\": 1200,\n",
    "    \"style\": {\"backgroundColor\": \"#222\"},\n",
    "}\n",
    "plotter = ObservablePlotBuilder(initial_kwargs=initial_kwargs)\n",
    "\n",
    "plotter_ = (\n",
    "    plotter.copy()\n",
    "    .stack(lambda: [Plot.ruleX([0], {\"stroke\": \"white\"})])\n",
    "    .stack(lambda: [Plot.ruleY([0], {\"stroke\": \"white\"})])\n",
    "    .stack(\n",
    "        lambda: [\n",
    "            Plot.ruleX(\n",
    "                list(range(0, df[\"time\"].size, 4)),\n",
    "                {\"strokeOpacity\": 0.2},\n",
    "            )\n",
    "        ]\n",
    "    )\n",
    "    .stack(\n",
    "        lambda: [\n",
    "            Plot.line(df[: (t0 * 4)], {\"x\": \"time\", \"y\": \"hash\", \"stroke\": \"orange\"})\n",
    "        ]\n",
    "    )\n",
    "    .stack(\n",
    "        lambda: [\n",
    "            Plot.line(\n",
    "                df[t0 * 4 :],\n",
    "                {\"x\": \"time\", \"y\": \"hash\", \"stroke\": \"#0f0\"},\n",
    "            )\n",
    "        ]\n",
    "    )\n",
    "    .stack(lambda: [Plot.ruleX([t0 * 4], {\"stroke\": \"red\", \"strokeWidth\": 4})])\n",
    "    .stack(\n",
    "        lambda: [\n",
    "            Plot.ruleX([(t0 + i * T) * 4], {\"stroke\": \"red\", \"strokeWidth\": 4})\n",
    "            for i in range(3)\n",
    "        ]\n",
    "    )\n",
    ")\n",
    "plotter_.plot(verbose=True)"
   ]
  },
  {
   "cell_type": "markdown",
   "metadata": {},
   "source": [
    "So, there is no need to compute 1000000000 cycles, as stated in the problem's description. The \"load signal\" is periodic and starting early in the simulation, so once the period has been identified, there is enough information to know the state at any time superior to the $t_0$ at which the periodicity starts.\n",
    "\n",
    "The formula is:\n",
    "\n",
    "$$\n",
    "s = (t - t_0) \\% T\n",
    "$$\n",
    "\n",
    "where %s% is the offset, starting from $t_0$, giving the step to get the load value from.\n",
    "\n",
    "By assigning the number of wanted cycles (1000000000) to $t$, we can determine the total load by looking values in the period.\n"
   ]
  },
  {
   "cell_type": "code",
   "execution_count": null,
   "metadata": {},
   "outputs": [],
   "source": [
    "t = 1000000000\n",
    "\n",
    "plotter_.copy().stack(\n",
    "    (\n",
    "        lambda: [\n",
    "            Plot.ruleX(\n",
    "                [((t0 + ((t - t0) % T)) * 4)], {\"stroke\": \"magenta\", \"strokeWidth\": 4}\n",
    "            )\n",
    "        ]\n",
    "    )\n",
    ").plot()"
   ]
  }
 ],
 "metadata": {
  "kernelspec": {
   "display_name": "advent-of-code-CEbbwEIT-py3.10",
   "language": "python",
   "name": "python3"
  },
  "language_info": {
   "codemirror_mode": {
    "name": "ipython",
    "version": 3
   },
   "file_extension": ".py",
   "mimetype": "text/x-python",
   "name": "python",
   "nbconvert_exporter": "python",
   "pygments_lexer": "ipython3",
   "version": "3.12.1"
  }
 },
 "nbformat": 4,
 "nbformat_minor": 2
}
