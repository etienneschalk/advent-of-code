{
 "cells": [
  {
   "cell_type": "markdown",
   "metadata": {},
   "source": [
    "# Year 2023 Day 03\n",
    "\n",
    "[--- Day 3: Gear Ratios ---](https://adventofcode.com/2023/day/3)\n"
   ]
  },
  {
   "cell_type": "markdown",
   "metadata": {},
   "source": [
    "## Motive\n",
    "\n",
    "Here, the [Text Mark](https://observablehq.com/plot/marks/text) is put in the spotlight.\n",
    "\n",
    "Also, an attempt is made to refactor the visualization code in order to get a more flexible API. The main idea is to step-up from raw functions with too many keyword arguments to a lazy-builder pattern, creating an open-ended lazy task graph on which it is easy to add other plotting steps. This can be seen as a layer system, to layer marks on top of each other, while being able to reuse a common stack. This comes handy in situation where we want to compose _orthogonally_ multiple marks together. The concrete example in this notebook will be the \"neighborhood\" visualization, that can be pasted over different initial raster visualizations (like a base map).\n",
    "\n",
    "To improve the abstraction, the vocabulary from all cartography APIs could be reused.\n",
    "\n",
    "## Related puzzles\n",
    "\n",
    "The Observable Plot visualization library is used.\n",
    "\n",
    "The [Text Mark](https://observablehq.com/plot/marks/text) is also used in:\n",
    "\n",
    "- [Notebook 202310](./notebook_problem_202310.html) (_Pipe Maze_) to add values on top of a [Raster Mark](https://observablehq.com/plot/marks/raster)\n",
    "- [Notebook 202324](./notebook_problem_202324.html) (_Never Tell Me The Odds_) to annotate vectors (the [Link Mark](https://observablehq.com/plot/marks/link)) with a time value\n"
   ]
  },
  {
   "cell_type": "code",
   "execution_count": 1,
   "metadata": {
    "execution": {
     "iopub.execute_input": "2024-05-15T21:13:33.481587Z",
     "iopub.status.busy": "2024-05-15T21:13:33.481235Z",
     "iopub.status.idle": "2024-05-15T21:13:34.131950Z",
     "shell.execute_reply": "2024-05-15T21:13:34.131038Z"
    },
    "metadata": {}
   },
   "outputs": [],
   "source": [
    "from typing import Any, Callable\n",
    "\n",
    "import numpy as np\n",
    "import pandas as pd\n",
    "import xarray as xr\n",
    "from pyobsplot import Plot"
   ]
  },
  {
   "cell_type": "code",
   "execution_count": 2,
   "metadata": {
    "execution": {
     "iopub.execute_input": "2024-05-15T21:13:34.135435Z",
     "iopub.status.busy": "2024-05-15T21:13:34.134902Z",
     "iopub.status.idle": "2024-05-15T21:13:34.152399Z",
     "shell.execute_reply": "2024-05-15T21:13:34.151671Z"
    }
   },
   "outputs": [
    {
     "data": {
      "text/plain": [
       "AdventOfCodeProblem202303(year=2023, day=3)"
      ]
     },
     "execution_count": 2,
     "metadata": {},
     "output_type": "execute_result"
    }
   ],
   "source": [
    "from advent_of_code.y_2023.problem_202303 import AdventOfCodeProblem202303\n",
    "\n",
    "problem = AdventOfCodeProblem202303()\n",
    "problem"
   ]
  },
  {
   "cell_type": "markdown",
   "metadata": {},
   "source": [
    "## Visualization Code\n"
   ]
  },
  {
   "cell_type": "markdown",
   "metadata": {},
   "source": [
    "## With Example Input\n"
   ]
  },
  {
   "cell_type": "code",
   "execution_count": 3,
   "metadata": {
    "execution": {
     "iopub.execute_input": "2024-05-15T21:13:36.850003Z",
     "iopub.status.busy": "2024-05-15T21:13:36.849626Z",
     "iopub.status.idle": "2024-05-15T21:13:36.860601Z",
     "shell.execute_reply": "2024-05-15T21:13:36.859704Z"
    }
   },
   "outputs": [],
   "source": [
    "from advent_of_code.common.common import get_example_inputs_file_contents\n",
    "\n",
    "example_input = get_example_inputs_file_contents(2023)[\"test_problem_202303\"][\n",
    "    \"EXAMPLE_INPUT\"\n",
    "]\n",
    "parsed_example_input = xr.DataArray(\n",
    "    problem.parse_text_input(example_input), dims=(\"row\", \"col\")\n",
    ")"
   ]
  },
  {
   "cell_type": "code",
   "execution_count": 5,
   "metadata": {
    "execution": {
     "iopub.execute_input": "2024-05-15T21:13:36.863925Z",
     "iopub.status.busy": "2024-05-15T21:13:36.863591Z",
     "iopub.status.idle": "2024-05-15T21:13:36.879864Z",
     "shell.execute_reply": "2024-05-15T21:13:36.878882Z"
    }
   },
   "outputs": [],
   "source": [
    "from advent_of_code.visualization.observable_plot import ascii_2d_numpy_array_plotter\n",
    "\n",
    "\n",
    "example_input_plotter = ascii_2d_numpy_array_plotter(\n",
    "    parsed_example_input,\n",
    "    obfuscate=False,\n",
    "    text=True,\n",
    "    width=300,\n",
    "    height=300,\n",
    ")"
   ]
  },
  {
   "cell_type": "code",
   "execution_count": null,
   "metadata": {
    "execution": {
     "iopub.execute_input": "2024-05-15T21:13:36.883135Z",
     "iopub.status.busy": "2024-05-15T21:13:36.882809Z",
     "iopub.status.idle": "2024-05-15T21:13:36.955912Z",
     "shell.execute_reply": "2024-05-15T21:13:36.955150Z"
    }
   },
   "outputs": [],
   "source": [
    "example_input_plotter.plot()"
   ]
  },
  {
   "cell_type": "markdown",
   "metadata": {},
   "source": [
    "Symbols are defined as being non-numerical and different from the dot character.\n"
   ]
  },
  {
   "cell_type": "code",
   "execution_count": null,
   "metadata": {
    "execution": {
     "iopub.execute_input": "2024-05-15T21:13:36.959064Z",
     "iopub.status.busy": "2024-05-15T21:13:36.958725Z",
     "iopub.status.idle": "2024-05-15T21:13:36.963270Z",
     "shell.execute_reply": "2024-05-15T21:13:36.962411Z"
    }
   },
   "outputs": [],
   "source": [
    "def symbols_xda(xda: xr.DataArray) -> xr.DataArray:\n",
    "    return ((xda != ord(\".\")) * 1) & ~xda.isin(list(range(ord(\"1\"), ord(\"9\") + 1)))"
   ]
  },
  {
   "cell_type": "code",
   "execution_count": null,
   "metadata": {
    "execution": {
     "iopub.execute_input": "2024-05-15T21:13:36.966280Z",
     "iopub.status.busy": "2024-05-15T21:13:36.965920Z",
     "iopub.status.idle": "2024-05-15T21:13:36.989717Z",
     "shell.execute_reply": "2024-05-15T21:13:36.988822Z"
    }
   },
   "outputs": [],
   "source": [
    "example_input_symbols_plotter = ascii_2d_numpy_array_plotter(\n",
    "    symbols_xda(parsed_example_input),\n",
    "    obfuscate=False,\n",
    "    text=False,\n",
    "    scheme=\"viridis\",\n",
    "    width=300,\n",
    "    height=300,\n",
    ")\n",
    "example_input_symbols_plotter.plot()"
   ]
  },
  {
   "cell_type": "markdown",
   "metadata": {},
   "source": [
    "We are interested in all numbers in the neighborhood of the symbols. The neighborhood is a 3x3 box with the symbol in its center.\n"
   ]
  },
  {
   "cell_type": "code",
   "execution_count": null,
   "metadata": {
    "execution": {
     "iopub.execute_input": "2024-05-15T21:13:36.992808Z",
     "iopub.status.busy": "2024-05-15T21:13:36.992472Z",
     "iopub.status.idle": "2024-05-15T21:13:37.000463Z",
     "shell.execute_reply": "2024-05-15T21:13:36.999796Z"
    }
   },
   "outputs": [],
   "source": [
    "def rect_df(\n",
    "    symbols_xda: xr.DataArray,\n",
    "    *,\n",
    "    offset: float = 0.3,\n",
    "    x1_target: str = \"x1\",\n",
    "    x2_target: str = \"x2\",\n",
    "    y1_target: str = \"y1\",\n",
    "    y2_target: str = \"y2\",\n",
    ") -> pd.DataFrame:\n",
    "    df = symbols_xda.stack(y=(\"row\", \"col\")).to_pandas()\n",
    "    df = df[df == 1]\n",
    "\n",
    "    rows_1 = [idx[0] - (offset + 0.5) for idx in df.index]\n",
    "    rows_2 = [idx[0] + (offset + 1.5) for idx in df.index]\n",
    "    cols_1 = [idx[1] - (offset + 0.5) for idx in df.index]\n",
    "    cols_2 = [idx[1] + (offset + 1.5) for idx in df.index]\n",
    "\n",
    "    rect_df = pd.DataFrame.from_records(\n",
    "        {\n",
    "            x1_target: cols_1,\n",
    "            x2_target: cols_2,\n",
    "            y1_target: rows_1,\n",
    "            y2_target: rows_2,\n",
    "        }\n",
    "    )\n",
    "    return rect_df"
   ]
  },
  {
   "cell_type": "code",
   "execution_count": null,
   "metadata": {
    "execution": {
     "iopub.execute_input": "2024-05-15T21:13:37.002850Z",
     "iopub.status.busy": "2024-05-15T21:13:37.002649Z",
     "iopub.status.idle": "2024-05-15T21:13:37.007384Z",
     "shell.execute_reply": "2024-05-15T21:13:37.006525Z"
    }
   },
   "outputs": [],
   "source": [
    "def neighborhood_mark_layer(\n",
    "    xda: xr.DataArray,\n",
    "    *,\n",
    "    color: str = \"red\",\n",
    "    stroke_width: int = 2,\n",
    ") -> Callable[[], list[Any]]:\n",
    "    def callback() -> list[Any]:\n",
    "        x1_target = \"x1\"\n",
    "        x2_target = \"x2\"\n",
    "        y1_target = \"y1\"\n",
    "        y2_target = \"y2\"\n",
    "\n",
    "        return [\n",
    "            Plot.rect(  # type:ignore\n",
    "                rect_df(\n",
    "                    xda,\n",
    "                    x1_target=x1_target,\n",
    "                    x2_target=x2_target,\n",
    "                    y1_target=y1_target,\n",
    "                    y2_target=y2_target,\n",
    "                ),\n",
    "                {\n",
    "                    x1_target: \"x1\",\n",
    "                    y1_target: \"y1\",\n",
    "                    x2_target: \"x2\",\n",
    "                    y2_target: \"y2\",\n",
    "                    \"stroke\": color,\n",
    "                    \"strokeWidth\": stroke_width,\n",
    "                },\n",
    "            ),\n",
    "        ]\n",
    "\n",
    "    return callback"
   ]
  },
  {
   "cell_type": "code",
   "execution_count": null,
   "metadata": {
    "execution": {
     "iopub.execute_input": "2024-05-15T21:13:37.009913Z",
     "iopub.status.busy": "2024-05-15T21:13:37.009645Z",
     "iopub.status.idle": "2024-05-15T21:13:37.041117Z",
     "shell.execute_reply": "2024-05-15T21:13:37.040484Z"
    }
   },
   "outputs": [],
   "source": [
    "example_input_symbols_plotter.copy().stack(\n",
    "    neighborhood_mark_layer(symbols_xda(parsed_example_input))\n",
    ").plot()"
   ]
  },
  {
   "cell_type": "code",
   "execution_count": null,
   "metadata": {
    "execution": {
     "iopub.execute_input": "2024-05-15T21:13:37.043815Z",
     "iopub.status.busy": "2024-05-15T21:13:37.043312Z",
     "iopub.status.idle": "2024-05-15T21:13:37.084608Z",
     "shell.execute_reply": "2024-05-15T21:13:37.083602Z"
    }
   },
   "outputs": [],
   "source": [
    "example_input_plotter.copy().stack(\n",
    "    neighborhood_mark_layer(symbols_xda(parsed_example_input))\n",
    ").plot()"
   ]
  },
  {
   "cell_type": "markdown",
   "metadata": {},
   "source": [
    "In Part 1, the _part numbers_ are all numbers intersecting with the symbols' neighborhoods.\n"
   ]
  },
  {
   "cell_type": "code",
   "execution_count": null,
   "metadata": {
    "execution": {
     "iopub.execute_input": "2024-05-15T21:13:37.087384Z",
     "iopub.status.busy": "2024-05-15T21:13:37.087107Z",
     "iopub.status.idle": "2024-05-15T21:13:37.092843Z",
     "shell.execute_reply": "2024-05-15T21:13:37.092151Z"
    }
   },
   "outputs": [],
   "source": [
    "from advent_of_code.y_2023.problem_202303 import find_part_numbers\n",
    "\n",
    "part_numbers = find_part_numbers(parsed_example_input.values)\n",
    "part_numbers"
   ]
  },
  {
   "cell_type": "markdown",
   "metadata": {},
   "source": [
    "In Part 2, we are only interested by gears, represented by the `*`-symbol, if they are adjacent to exactly two _part numbers_.\n"
   ]
  },
  {
   "cell_type": "code",
   "execution_count": null,
   "metadata": {
    "execution": {
     "iopub.execute_input": "2024-05-15T21:13:37.095549Z",
     "iopub.status.busy": "2024-05-15T21:13:37.095084Z",
     "iopub.status.idle": "2024-05-15T21:13:37.100016Z",
     "shell.execute_reply": "2024-05-15T21:13:37.099296Z"
    }
   },
   "outputs": [],
   "source": [
    "from advent_of_code.y_2023.problem_202303 import find_part_numbers_and_gears\n",
    "\n",
    "\n",
    "gear_part_numbers_tuples = find_part_numbers_and_gears(parsed_example_input.values)\n",
    "gear_part_numbers_tuples"
   ]
  },
  {
   "cell_type": "code",
   "execution_count": null,
   "metadata": {
    "execution": {
     "iopub.execute_input": "2024-05-15T21:13:37.102756Z",
     "iopub.status.busy": "2024-05-15T21:13:37.102451Z",
     "iopub.status.idle": "2024-05-15T21:13:37.105990Z",
     "shell.execute_reply": "2024-05-15T21:13:37.105082Z"
    }
   },
   "outputs": [],
   "source": [
    "def gears(puzzle_input: xr.DataArray) -> xr.DataArray:\n",
    "    return puzzle_input == ord(\"*\")"
   ]
  },
  {
   "cell_type": "code",
   "execution_count": null,
   "metadata": {
    "execution": {
     "iopub.execute_input": "2024-05-15T21:13:37.108332Z",
     "iopub.status.busy": "2024-05-15T21:13:37.108083Z",
     "iopub.status.idle": "2024-05-15T21:13:37.150533Z",
     "shell.execute_reply": "2024-05-15T21:13:37.149681Z"
    }
   },
   "outputs": [],
   "source": [
    "example_input_plotter.copy().stack(\n",
    "    neighborhood_mark_layer(gears(parsed_example_input))\n",
    ").plot()"
   ]
  },
  {
   "cell_type": "markdown",
   "metadata": {},
   "source": [
    "The top and bottom gears touch exactly two numbers. The middle gear is excluded from the solution as it only touches one number.\n"
   ]
  },
  {
   "cell_type": "markdown",
   "metadata": {},
   "source": [
    "## With Actual Input\n"
   ]
  },
  {
   "cell_type": "code",
   "execution_count": null,
   "metadata": {
    "execution": {
     "iopub.execute_input": "2024-05-15T21:13:37.153439Z",
     "iopub.status.busy": "2024-05-15T21:13:37.153099Z",
     "iopub.status.idle": "2024-05-15T21:13:37.162683Z",
     "shell.execute_reply": "2024-05-15T21:13:37.161957Z"
    }
   },
   "outputs": [],
   "source": [
    "parsed_actual_input = xr.DataArray(problem.parse_input_text_file(), dims=(\"row\", \"col\"))\n",
    "parsed_actual_input"
   ]
  },
  {
   "cell_type": "code",
   "execution_count": null,
   "metadata": {
    "execution": {
     "iopub.execute_input": "2024-05-15T21:13:37.165774Z",
     "iopub.status.busy": "2024-05-15T21:13:37.165413Z",
     "iopub.status.idle": "2024-05-15T21:13:37.176713Z",
     "shell.execute_reply": "2024-05-15T21:13:37.175847Z"
    }
   },
   "outputs": [],
   "source": [
    "plot_width = parsed_actual_input[\"col\"].size * 3\n",
    "\n",
    "actual_input_plotter = ascii_2d_numpy_array_plotter(\n",
    "    parsed_actual_input,\n",
    "    obfuscate=True,\n",
    "    text=False,\n",
    "    width=plot_width,\n",
    "    height=plot_width,\n",
    "    scheme=\"viridis\",\n",
    "    aspectRatio=1,\n",
    ")"
   ]
  },
  {
   "cell_type": "code",
   "execution_count": null,
   "metadata": {
    "execution": {
     "iopub.execute_input": "2024-05-15T21:13:37.179620Z",
     "iopub.status.busy": "2024-05-15T21:13:37.179309Z",
     "iopub.status.idle": "2024-05-15T21:13:37.271527Z",
     "shell.execute_reply": "2024-05-15T21:13:37.270641Z"
    }
   },
   "outputs": [],
   "source": [
    "actual_input_plotter.plot()"
   ]
  },
  {
   "cell_type": "code",
   "execution_count": null,
   "metadata": {
    "execution": {
     "iopub.execute_input": "2024-05-15T21:13:37.275315Z",
     "iopub.status.busy": "2024-05-15T21:13:37.274958Z",
     "iopub.status.idle": "2024-05-15T21:13:37.348709Z",
     "shell.execute_reply": "2024-05-15T21:13:37.347851Z"
    }
   },
   "outputs": [],
   "source": [
    "actual_input_plotter.copy(\n",
    "    raster_xda=symbols_xda(parsed_actual_input),\n",
    ").plot()"
   ]
  },
  {
   "cell_type": "markdown",
   "metadata": {},
   "source": [
    "Numbers of interest for part 1:\n"
   ]
  },
  {
   "cell_type": "code",
   "execution_count": null,
   "metadata": {
    "execution": {
     "iopub.execute_input": "2024-05-15T21:13:37.351916Z",
     "iopub.status.busy": "2024-05-15T21:13:37.351581Z",
     "iopub.status.idle": "2024-05-15T21:13:37.502251Z",
     "shell.execute_reply": "2024-05-15T21:13:37.501229Z"
    }
   },
   "outputs": [],
   "source": [
    "actual_input_plotter.copy().stack(\n",
    "    neighborhood_mark_layer(symbols_xda(parsed_actual_input))\n",
    ").plot()"
   ]
  },
  {
   "cell_type": "markdown",
   "metadata": {},
   "source": [
    "Gear candidates for part 2:\n"
   ]
  },
  {
   "cell_type": "code",
   "execution_count": null,
   "metadata": {
    "execution": {
     "iopub.execute_input": "2024-05-15T21:13:37.505900Z",
     "iopub.status.busy": "2024-05-15T21:13:37.505546Z",
     "iopub.status.idle": "2024-05-15T21:13:37.615976Z",
     "shell.execute_reply": "2024-05-15T21:13:37.615108Z"
    }
   },
   "outputs": [],
   "source": [
    "actual_input_plotter.copy().stack(\n",
    "    neighborhood_mark_layer(gears(parsed_actual_input))\n",
    ").plot()"
   ]
  }
 ],
 "metadata": {
  "kernelspec": {
   "display_name": "advent-of-code-CEbbwEIT-py3.10",
   "language": "python",
   "name": "python3"
  },
  "language_info": {
   "codemirror_mode": {
    "name": "ipython",
    "version": 3
   },
   "file_extension": ".py",
   "mimetype": "text/x-python",
   "name": "python",
   "nbconvert_exporter": "python",
   "pygments_lexer": "ipython3",
   "version": "3.12.1"
  }
 },
 "nbformat": 4,
 "nbformat_minor": 2
}
