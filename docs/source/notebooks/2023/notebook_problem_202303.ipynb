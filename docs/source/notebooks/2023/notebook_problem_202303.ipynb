{
 "cells": [
  {
   "cell_type": "markdown",
   "metadata": {},
   "source": [
    "# Year 2023 Day 03\n",
    "\n",
    "[--- Day 3: Gear Ratios ---](https://adventofcode.com/2023/day/3)\n"
   ]
  },
  {
   "cell_type": "markdown",
   "metadata": {},
   "source": [
    "## Motive\n",
    "\n",
    "Here, the [Text Mark](https://observablehq.com/plot/marks/text) is put in the spotlight.\n",
    "\n",
    "Also, an attempt is made to refactor the visualization code in order to get a more flexible API. The main idea is to step-up from raw functions with too many keyword arguments to a lazy-builder pattern, creating an open-ended lazy task graph on which it is easy to add other plotting steps. This can be seen as a layer system, to layer marks on top of each other, while being able to reuse a common stack. This comes handy in situation where we want to compose _orthogonally_ multiple marks together. The concrete example in this notebook will be the \"neighborhood\" visualization, that can be pasted over different initial raster visualizations (like a base map).\n",
    "\n",
    "To improve the abstraction, the vocabulary from all cartography APIs could be reused.\n",
    "\n",
    "## Related puzzles\n",
    "\n",
    "The Observable Plot visualization library is used.\n",
    "\n",
    "The [Text Mark](https://observablehq.com/plot/marks/text) is also used in:\n",
    "\n",
    "- [Notebook 202310](./notebook_problem_202310.html) (_Pipe Maze_) to add values on top of a [Raster Mark](https://observablehq.com/plot/marks/raster)\n",
    "- [Notebook 202324](./notebook_problem_202324.html) (_Never Tell Me The Odds_) to annotate vectors (the [Link Mark](https://observablehq.com/plot/marks/link)) with a time value\n"
   ]
  },
  {
   "cell_type": "code",
   "execution_count": 1,
   "metadata": {
    "execution": {
     "iopub.execute_input": "2024-11-25T23:09:51.352386Z",
     "iopub.status.busy": "2024-11-25T23:09:51.351786Z",
     "iopub.status.idle": "2024-11-25T23:09:52.379793Z",
     "shell.execute_reply": "2024-11-25T23:09:52.378736Z"
    },
    "metadata": {}
   },
   "outputs": [],
   "source": [
    "from typing import Any, Callable\n",
    "\n",
    "import pandas as pd\n",
    "import xarray as xr\n",
    "from pyobsplot import Plot"
   ]
  },
  {
   "cell_type": "code",
   "execution_count": 2,
   "metadata": {
    "execution": {
     "iopub.execute_input": "2024-11-25T23:09:52.383554Z",
     "iopub.status.busy": "2024-11-25T23:09:52.382617Z",
     "iopub.status.idle": "2024-11-25T23:09:52.426183Z",
     "shell.execute_reply": "2024-11-25T23:09:52.425078Z"
    }
   },
   "outputs": [
    {
     "data": {
      "text/plain": [
       "AdventOfCodeProblem202303(year=2023, day=3)"
      ]
     },
     "execution_count": 2,
     "metadata": {},
     "output_type": "execute_result"
    }
   ],
   "source": [
    "from advent_of_code.y_2023.problem_202303 import AdventOfCodeProblem202303\n",
    "\n",
    "problem = AdventOfCodeProblem202303()\n",
    "problem"
   ]
  },
  {
   "cell_type": "markdown",
   "metadata": {},
   "source": [
    "## Visualization Code\n"
   ]
  },
  {
   "cell_type": "markdown",
   "metadata": {},
   "source": [
    "## With Example Input\n"
   ]
  },
  {
   "cell_type": "code",
   "execution_count": 3,
   "metadata": {
    "execution": {
     "iopub.execute_input": "2024-11-25T23:09:52.527377Z",
     "iopub.status.busy": "2024-11-25T23:09:52.527109Z",
     "iopub.status.idle": "2024-11-25T23:09:52.543269Z",
     "shell.execute_reply": "2024-11-25T23:09:52.542306Z"
    }
   },
   "outputs": [],
   "source": [
    "from advent_of_code.common.common import get_example_inputs_file_contents\n",
    "\n",
    "example_input = get_example_inputs_file_contents(2023)[\"test_problem_202303\"][\n",
    "    \"EXAMPLE_INPUT\"\n",
    "]\n",
    "parsed_example_input = xr.DataArray(\n",
    "    problem.parse_text_input(example_input), dims=(\"row\", \"col\")\n",
    ")"
   ]
  },
  {
   "cell_type": "code",
   "execution_count": 4,
   "metadata": {
    "execution": {
     "iopub.execute_input": "2024-11-25T23:09:52.552285Z",
     "iopub.status.busy": "2024-11-25T23:09:52.549706Z",
     "iopub.status.idle": "2024-11-25T23:09:52.578318Z",
     "shell.execute_reply": "2024-11-25T23:09:52.577490Z"
    }
   },
   "outputs": [],
   "source": [
    "from advent_of_code.visualization.observable_plot import ascii_2d_numpy_array_plotter\n",
    "\n",
    "\n",
    "example_input_plotter = ascii_2d_numpy_array_plotter(\n",
    "    parsed_example_input,\n",
    "    obfuscate=False,\n",
    "    text=True,\n",
    "    width=300,\n",
    "    height=300,\n",
    ")"
   ]
  },
  {
   "cell_type": "code",
   "execution_count": 5,
   "metadata": {
    "execution": {
     "iopub.execute_input": "2024-11-25T23:09:52.581041Z",
     "iopub.status.busy": "2024-11-25T23:09:52.580462Z",
     "iopub.status.idle": "2024-11-25T23:09:55.207476Z",
     "shell.execute_reply": "2024-11-25T23:09:55.206541Z"
    }
   },
   "outputs": [
    {
     "name": "stdout",
     "output_type": "stream",
     "text": [
      "Layer #0 <function ObservablePlotXarrayBuilder.create_raster_background_marks.<locals>.callback at 0x7f27c250d940>\n",
      "Layer #1 <function text_mark_producer.<locals>.callback at 0x7f27c250da80>\n"
     ]
    },
    {
     "data": {
      "text/html": [
       "<figure class=\"plot-d6a7b5-figure\" style=\"max-width: initial; padding: 0px 5px 5px 5px; color: currentColor; background-color: transparent;\" typstbg=\"transparent\" typstfg=\"currentColor\" typstcaption=\"currentColor\"><div class=\"plot-d6a7b5-swatches plot-d6a7b5-swatches-wrap\"><style>:where(.plot-d6a7b5-swatches) {\n",
       "  font-family: system-ui, sans-serif;\n",
       "  font-size: 10px;\n",
       "  margin-bottom: 0.5em;\n",
       "}\n",
       ":where(.plot-d6a7b5-swatch > svg) {\n",
       "  margin-right: 0.5em;\n",
       "  overflow: visible;\n",
       "}\n",
       ":where(.plot-d6a7b5-swatches-wrap) {\n",
       "  display: flex;\n",
       "  align-items: center;\n",
       "  min-height: 33px;\n",
       "  flex-wrap: wrap;\n",
       "}\n",
       ":where(.plot-d6a7b5-swatches-wrap .plot-d6a7b5-swatch) {\n",
       "  display: inline-flex;\n",
       "  align-items: center;\n",
       "  margin-right: 1em;\n",
       "}</style><span class=\"plot-d6a7b5-swatch\"><svg width=\"15\" height=\"15\" fill=\"#4e79a7\" xmlns=\"http://www.w3.org/2000/svg\" xmlns:xlink=\"http://www.w3.org/1999/xlink\" style=\"color: currentColor; background-color: transparent;\"><rect width=\"100%\" height=\"100%\"></rect></svg>#</span><span class=\"plot-d6a7b5-swatch\"><svg width=\"15\" height=\"15\" fill=\"#f28e2c\" xmlns=\"http://www.w3.org/2000/svg\" xmlns:xlink=\"http://www.w3.org/1999/xlink\" style=\"color: currentColor; background-color: transparent;\"><rect width=\"100%\" height=\"100%\"></rect></svg>$</span><span class=\"plot-d6a7b5-swatch\"><svg width=\"15\" height=\"15\" fill=\"#e15759\" xmlns=\"http://www.w3.org/2000/svg\" xmlns:xlink=\"http://www.w3.org/1999/xlink\" style=\"color: currentColor; background-color: transparent;\"><rect width=\"100%\" height=\"100%\"></rect></svg>*</span><span class=\"plot-d6a7b5-swatch\"><svg width=\"15\" height=\"15\" fill=\"#76b7b2\" xmlns=\"http://www.w3.org/2000/svg\" xmlns:xlink=\"http://www.w3.org/1999/xlink\" style=\"color: currentColor; background-color: transparent;\"><rect width=\"100%\" height=\"100%\"></rect></svg>+</span><span class=\"plot-d6a7b5-swatch\"><svg width=\"15\" height=\"15\" fill=\"#59a14f\" xmlns=\"http://www.w3.org/2000/svg\" xmlns:xlink=\"http://www.w3.org/1999/xlink\" style=\"color: currentColor; background-color: transparent;\"><rect width=\"100%\" height=\"100%\"></rect></svg>.</span><span class=\"plot-d6a7b5-swatch\"><svg width=\"15\" height=\"15\" fill=\"#edc949\" xmlns=\"http://www.w3.org/2000/svg\" xmlns:xlink=\"http://www.w3.org/1999/xlink\" style=\"color: currentColor; background-color: transparent;\"><rect width=\"100%\" height=\"100%\"></rect></svg>N</span></div><svg class=\"plot-d6a7b5\" fill=\"currentColor\" font-family=\"system-ui, sans-serif\" font-size=\"10\" text-anchor=\"middle\" width=\"300\" height=\"300\" viewBox=\"0 0 300 300\" style=\"background-color: rgb(17, 17, 17); color: rgb(238, 238, 238);\" xmlns=\"http://www.w3.org/2000/svg\" xmlns:xlink=\"http://www.w3.org/1999/xlink\"><style>:where(.plot-d6a7b5) {\n",
       "  --plot-background: white;\n",
       "  display: block;\n",
       "  height: auto;\n",
       "  height: intrinsic;\n",
       "  max-width: 100%;\n",
       "}\n",
       ":where(.plot-d6a7b5 text),\n",
       ":where(.plot-d6a7b5 tspan) {\n",
       "  white-space: pre;\n",
       "}</style><g aria-label=\"y-axis tick\" aria-hidden=\"true\" fill=\"none\" stroke=\"currentColor\"><path transform=\"translate(0,300)\" d=\"M0,0L-6,0\"></path><path transform=\"translate(0,275)\" d=\"M0,0L-6,0\"></path><path transform=\"translate(0,250)\" d=\"M0,0L-6,0\"></path><path transform=\"translate(0,225)\" d=\"M0,0L-6,0\"></path><path transform=\"translate(0,200)\" d=\"M0,0L-6,0\"></path><path transform=\"translate(0,175)\" d=\"M0,0L-6,0\"></path><path transform=\"translate(0,150)\" d=\"M0,0L-6,0\"></path><path transform=\"translate(0,125)\" d=\"M0,0L-6,0\"></path><path transform=\"translate(0,100)\" d=\"M0,0L-6,0\"></path><path transform=\"translate(0,75)\" d=\"M0,0L-6,0\"></path><path transform=\"translate(0,50)\" d=\"M0,0L-6,0\"></path><path transform=\"translate(0,25)\" d=\"M0,0L-6,0\"></path><path transform=\"translate(0,0)\" d=\"M0,0L-6,0\"></path></g><g aria-label=\"y-axis tick label\" text-anchor=\"end\" font-variant=\"tabular-nums\" transform=\"translate(-9,0)\"><text y=\"0.32em\" transform=\"translate(0,300)\">12</text><text y=\"0.32em\" transform=\"translate(0,275)\">11</text><text y=\"0.32em\" transform=\"translate(0,250)\">10</text><text y=\"0.32em\" transform=\"translate(0,225)\">9</text><text y=\"0.32em\" transform=\"translate(0,200)\">8</text><text y=\"0.32em\" transform=\"translate(0,175)\">7</text><text y=\"0.32em\" transform=\"translate(0,150)\">6</text><text y=\"0.32em\" transform=\"translate(0,125)\">5</text><text y=\"0.32em\" transform=\"translate(0,100)\">4</text><text y=\"0.32em\" transform=\"translate(0,75)\">3</text><text y=\"0.32em\" transform=\"translate(0,50)\">2</text><text y=\"0.32em\" transform=\"translate(0,25)\">1</text><text y=\"0.32em\" transform=\"translate(0,0)\">0</text></g><g aria-label=\"x-axis tick\" aria-hidden=\"true\" fill=\"none\" stroke=\"currentColor\"><path transform=\"translate(0,0)\" d=\"M0,0L0,-6\"></path><path transform=\"translate(125,0)\" d=\"M0,0L0,-6\"></path><path transform=\"translate(250,0)\" d=\"M0,0L0,-6\"></path></g><g aria-label=\"x-axis tick label\" font-variant=\"tabular-nums\" transform=\"translate(0,-9)\"><text transform=\"translate(0,0)\">0</text><text transform=\"translate(125,0)\">5</text><text transform=\"translate(250,0)\">10</text></g><g aria-label=\"raster\"><image transform=\"translate(0,0) scale(1,1)\" width=\"300\" height=\"300\" preserveAspectRatio=\"none\" image-rendering=\"pixelated\" href=\"data:image/png;base64,iVBORw0KGgoAAAANSUhEUgAAAAwAAAAMCAYAAABWdVznAAAABmJLR0QA/wD/AP+gvaeTAAAApElEQVQokWOMXOj/n4EEwMLAwMAwReMXXCDnBhsDLjEGBgYGRnQbOrZxMVR4fcNvAwxM0fjFwKDxi4EBjy0YNiCDrzciGLg1VuD3w5c+AbiT0BXDNSB7igGqWFYsmeHxq7lww2BqMP0Ad/NcFIUoNqB7DLsBWGxgYGBgmPn2LkO6sDJDxzYuhhwMHyBpgJn2m0GWgeEGAwNP0QeGKVhsxhus2AAAGXc/MRaSRnwAAAAASUVORK5CYII=\"></image></g><g aria-label=\"text\" font-size=\"20.583333333333332\"><text y=\"0.32em\" transform=\"translate(12.5,12.5)\">.</text><text y=\"0.32em\" transform=\"translate(37.5,12.5)\">.</text><text y=\"0.32em\" transform=\"translate(62.5,12.5)\">.</text><text y=\"0.32em\" transform=\"translate(87.5,12.5)\">.</text><text y=\"0.32em\" transform=\"translate(112.5,12.5)\">.</text><text y=\"0.32em\" transform=\"translate(137.5,12.5)\">.</text><text y=\"0.32em\" transform=\"translate(162.5,12.5)\">.</text><text y=\"0.32em\" transform=\"translate(187.5,12.5)\">.</text><text y=\"0.32em\" transform=\"translate(212.5,12.5)\">.</text><text y=\"0.32em\" transform=\"translate(237.5,12.5)\">.</text><text y=\"0.32em\" transform=\"translate(262.5,12.5)\">.</text><text y=\"0.32em\" transform=\"translate(287.5,12.5)\">.</text><text y=\"0.32em\" transform=\"translate(12.5,37.5)\">.</text><text y=\"0.32em\" transform=\"translate(37.5,37.5)\">4</text><text y=\"0.32em\" transform=\"translate(62.5,37.5)\">6</text><text y=\"0.32em\" transform=\"translate(87.5,37.5)\">7</text><text y=\"0.32em\" transform=\"translate(112.5,37.5)\">.</text><text y=\"0.32em\" transform=\"translate(137.5,37.5)\">.</text><text y=\"0.32em\" transform=\"translate(162.5,37.5)\">1</text><text y=\"0.32em\" transform=\"translate(187.5,37.5)\">1</text><text y=\"0.32em\" transform=\"translate(212.5,37.5)\">4</text><text y=\"0.32em\" transform=\"translate(237.5,37.5)\">.</text><text y=\"0.32em\" transform=\"translate(262.5,37.5)\">.</text><text y=\"0.32em\" transform=\"translate(287.5,37.5)\">.</text><text y=\"0.32em\" transform=\"translate(12.5,62.5)\">.</text><text y=\"0.32em\" transform=\"translate(37.5,62.5)\">.</text><text y=\"0.32em\" transform=\"translate(62.5,62.5)\">.</text><text y=\"0.32em\" transform=\"translate(87.5,62.5)\">.</text><text y=\"0.32em\" transform=\"translate(112.5,62.5)\">*</text><text y=\"0.32em\" transform=\"translate(137.5,62.5)\">.</text><text y=\"0.32em\" transform=\"translate(162.5,62.5)\">.</text><text y=\"0.32em\" transform=\"translate(187.5,62.5)\">.</text><text y=\"0.32em\" transform=\"translate(212.5,62.5)\">.</text><text y=\"0.32em\" transform=\"translate(237.5,62.5)\">.</text><text y=\"0.32em\" transform=\"translate(262.5,62.5)\">.</text><text y=\"0.32em\" transform=\"translate(287.5,62.5)\">.</text><text y=\"0.32em\" transform=\"translate(12.5,87.5)\">.</text><text y=\"0.32em\" transform=\"translate(37.5,87.5)\">.</text><text y=\"0.32em\" transform=\"translate(62.5,87.5)\">.</text><text y=\"0.32em\" transform=\"translate(87.5,87.5)\">3</text><text y=\"0.32em\" transform=\"translate(112.5,87.5)\">5</text><text y=\"0.32em\" transform=\"translate(137.5,87.5)\">.</text><text y=\"0.32em\" transform=\"translate(162.5,87.5)\">.</text><text y=\"0.32em\" transform=\"translate(187.5,87.5)\">6</text><text y=\"0.32em\" transform=\"translate(212.5,87.5)\">3</text><text y=\"0.32em\" transform=\"translate(237.5,87.5)\">3</text><text y=\"0.32em\" transform=\"translate(262.5,87.5)\">.</text><text y=\"0.32em\" transform=\"translate(287.5,87.5)\">.</text><text y=\"0.32em\" transform=\"translate(12.5,112.5)\">.</text><text y=\"0.32em\" transform=\"translate(37.5,112.5)\">.</text><text y=\"0.32em\" transform=\"translate(62.5,112.5)\">.</text><text y=\"0.32em\" transform=\"translate(87.5,112.5)\">.</text><text y=\"0.32em\" transform=\"translate(112.5,112.5)\">.</text><text y=\"0.32em\" transform=\"translate(137.5,112.5)\">.</text><text y=\"0.32em\" transform=\"translate(162.5,112.5)\">.</text><text y=\"0.32em\" transform=\"translate(187.5,112.5)\">#</text><text y=\"0.32em\" transform=\"translate(212.5,112.5)\">.</text><text y=\"0.32em\" transform=\"translate(237.5,112.5)\">.</text><text y=\"0.32em\" transform=\"translate(262.5,112.5)\">.</text><text y=\"0.32em\" transform=\"translate(287.5,112.5)\">.</text><text y=\"0.32em\" transform=\"translate(12.5,137.5)\">.</text><text y=\"0.32em\" transform=\"translate(37.5,137.5)\">6</text><text y=\"0.32em\" transform=\"translate(62.5,137.5)\">1</text><text y=\"0.32em\" transform=\"translate(87.5,137.5)\">7</text><text y=\"0.32em\" transform=\"translate(112.5,137.5)\">*</text><text y=\"0.32em\" transform=\"translate(137.5,137.5)\">.</text><text y=\"0.32em\" transform=\"translate(162.5,137.5)\">.</text><text y=\"0.32em\" transform=\"translate(187.5,137.5)\">.</text><text y=\"0.32em\" transform=\"translate(212.5,137.5)\">.</text><text y=\"0.32em\" transform=\"translate(237.5,137.5)\">.</text><text y=\"0.32em\" transform=\"translate(262.5,137.5)\">.</text><text y=\"0.32em\" transform=\"translate(287.5,137.5)\">.</text><text y=\"0.32em\" transform=\"translate(12.5,162.5)\">.</text><text y=\"0.32em\" transform=\"translate(37.5,162.5)\">.</text><text y=\"0.32em\" transform=\"translate(62.5,162.5)\">.</text><text y=\"0.32em\" transform=\"translate(87.5,162.5)\">.</text><text y=\"0.32em\" transform=\"translate(112.5,162.5)\">.</text><text y=\"0.32em\" transform=\"translate(137.5,162.5)\">.</text><text y=\"0.32em\" transform=\"translate(162.5,162.5)\">+</text><text y=\"0.32em\" transform=\"translate(187.5,162.5)\">.</text><text y=\"0.32em\" transform=\"translate(212.5,162.5)\">5</text><text y=\"0.32em\" transform=\"translate(237.5,162.5)\">8</text><text y=\"0.32em\" transform=\"translate(262.5,162.5)\">.</text><text y=\"0.32em\" transform=\"translate(287.5,162.5)\">.</text><text y=\"0.32em\" transform=\"translate(12.5,187.5)\">.</text><text y=\"0.32em\" transform=\"translate(37.5,187.5)\">.</text><text y=\"0.32em\" transform=\"translate(62.5,187.5)\">.</text><text y=\"0.32em\" transform=\"translate(87.5,187.5)\">5</text><text y=\"0.32em\" transform=\"translate(112.5,187.5)\">9</text><text y=\"0.32em\" transform=\"translate(137.5,187.5)\">2</text><text y=\"0.32em\" transform=\"translate(162.5,187.5)\">.</text><text y=\"0.32em\" transform=\"translate(187.5,187.5)\">.</text><text y=\"0.32em\" transform=\"translate(212.5,187.5)\">.</text><text y=\"0.32em\" transform=\"translate(237.5,187.5)\">.</text><text y=\"0.32em\" transform=\"translate(262.5,187.5)\">.</text><text y=\"0.32em\" transform=\"translate(287.5,187.5)\">.</text><text y=\"0.32em\" transform=\"translate(12.5,212.5)\">.</text><text y=\"0.32em\" transform=\"translate(37.5,212.5)\">.</text><text y=\"0.32em\" transform=\"translate(62.5,212.5)\">.</text><text y=\"0.32em\" transform=\"translate(87.5,212.5)\">.</text><text y=\"0.32em\" transform=\"translate(112.5,212.5)\">.</text><text y=\"0.32em\" transform=\"translate(137.5,212.5)\">.</text><text y=\"0.32em\" transform=\"translate(162.5,212.5)\">.</text><text y=\"0.32em\" transform=\"translate(187.5,212.5)\">7</text><text y=\"0.32em\" transform=\"translate(212.5,212.5)\">5</text><text y=\"0.32em\" transform=\"translate(237.5,212.5)\">5</text><text y=\"0.32em\" transform=\"translate(262.5,212.5)\">.</text><text y=\"0.32em\" transform=\"translate(287.5,212.5)\">.</text><text y=\"0.32em\" transform=\"translate(12.5,237.5)\">.</text><text y=\"0.32em\" transform=\"translate(37.5,237.5)\">.</text><text y=\"0.32em\" transform=\"translate(62.5,237.5)\">.</text><text y=\"0.32em\" transform=\"translate(87.5,237.5)\">.</text><text y=\"0.32em\" transform=\"translate(112.5,237.5)\">$</text><text y=\"0.32em\" transform=\"translate(137.5,237.5)\">.</text><text y=\"0.32em\" transform=\"translate(162.5,237.5)\">*</text><text y=\"0.32em\" transform=\"translate(187.5,237.5)\">.</text><text y=\"0.32em\" transform=\"translate(212.5,237.5)\">.</text><text y=\"0.32em\" transform=\"translate(237.5,237.5)\">.</text><text y=\"0.32em\" transform=\"translate(262.5,237.5)\">.</text><text y=\"0.32em\" transform=\"translate(287.5,237.5)\">.</text><text y=\"0.32em\" transform=\"translate(12.5,262.5)\">.</text><text y=\"0.32em\" transform=\"translate(37.5,262.5)\">.</text><text y=\"0.32em\" transform=\"translate(62.5,262.5)\">6</text><text y=\"0.32em\" transform=\"translate(87.5,262.5)\">6</text><text y=\"0.32em\" transform=\"translate(112.5,262.5)\">4</text><text y=\"0.32em\" transform=\"translate(137.5,262.5)\">.</text><text y=\"0.32em\" transform=\"translate(162.5,262.5)\">5</text><text y=\"0.32em\" transform=\"translate(187.5,262.5)\">9</text><text y=\"0.32em\" transform=\"translate(212.5,262.5)\">8</text><text y=\"0.32em\" transform=\"translate(237.5,262.5)\">.</text><text y=\"0.32em\" transform=\"translate(262.5,262.5)\">.</text><text y=\"0.32em\" transform=\"translate(287.5,262.5)\">.</text><text y=\"0.32em\" transform=\"translate(12.5,287.5)\">.</text><text y=\"0.32em\" transform=\"translate(37.5,287.5)\">.</text><text y=\"0.32em\" transform=\"translate(62.5,287.5)\">.</text><text y=\"0.32em\" transform=\"translate(87.5,287.5)\">.</text><text y=\"0.32em\" transform=\"translate(112.5,287.5)\">.</text><text y=\"0.32em\" transform=\"translate(137.5,287.5)\">.</text><text y=\"0.32em\" transform=\"translate(162.5,287.5)\">.</text><text y=\"0.32em\" transform=\"translate(187.5,287.5)\">.</text><text y=\"0.32em\" transform=\"translate(212.5,287.5)\">.</text><text y=\"0.32em\" transform=\"translate(237.5,287.5)\">.</text><text y=\"0.32em\" transform=\"translate(262.5,287.5)\">.</text><text y=\"0.32em\" transform=\"translate(287.5,287.5)\">.</text></g></svg></figure>"
      ],
      "text/plain": [
       "<IPython.core.display.HTML object>"
      ]
     },
     "metadata": {},
     "output_type": "display_data"
    }
   ],
   "source": [
    "example_input_plotter.plot()"
   ]
  },
  {
   "cell_type": "markdown",
   "metadata": {},
   "source": [
    "Symbols are defined as being non-numerical and different from the dot character.\n"
   ]
  },
  {
   "cell_type": "code",
   "execution_count": 6,
   "metadata": {
    "execution": {
     "iopub.execute_input": "2024-11-25T23:09:55.210314Z",
     "iopub.status.busy": "2024-11-25T23:09:55.210021Z",
     "iopub.status.idle": "2024-11-25T23:09:55.214135Z",
     "shell.execute_reply": "2024-11-25T23:09:55.213333Z"
    }
   },
   "outputs": [],
   "source": [
    "def symbols_xda(xda: xr.DataArray) -> xr.DataArray:\n",
    "    return ((xda != ord(\".\")) * 1) & ~xda.isin(list(range(ord(\"1\"), ord(\"9\") + 1)))"
   ]
  },
  {
   "cell_type": "code",
   "execution_count": 7,
   "metadata": {
    "execution": {
     "iopub.execute_input": "2024-11-25T23:09:55.217056Z",
     "iopub.status.busy": "2024-11-25T23:09:55.216711Z",
     "iopub.status.idle": "2024-11-25T23:09:55.243780Z",
     "shell.execute_reply": "2024-11-25T23:09:55.242669Z"
    }
   },
   "outputs": [
    {
     "name": "stdout",
     "output_type": "stream",
     "text": [
      "Layer #0 <function ObservablePlotXarrayBuilder.create_raster_background_marks.<locals>.callback at 0x7f27c25960c0>\n",
      "Layer #1 <function text_mark_producer.<locals>.callback at 0x7f27c2596020>\n"
     ]
    },
    {
     "data": {
      "text/html": [
       "<figure class=\"plot-d6a7b5-figure\" style=\"max-width: initial; padding: 0px 5px 5px 5px; color: currentColor; background-color: transparent;\" typstbg=\"transparent\" typstfg=\"currentColor\" typstcaption=\"currentColor\"><div class=\"plot-d6a7b5-swatches plot-d6a7b5-swatches-wrap\"><style>:where(.plot-d6a7b5-swatches) {\n",
       "  font-family: system-ui, sans-serif;\n",
       "  font-size: 10px;\n",
       "  margin-bottom: 0.5em;\n",
       "}\n",
       ":where(.plot-d6a7b5-swatch > svg) {\n",
       "  margin-right: 0.5em;\n",
       "  overflow: visible;\n",
       "}\n",
       ":where(.plot-d6a7b5-swatches-wrap) {\n",
       "  display: flex;\n",
       "  align-items: center;\n",
       "  min-height: 33px;\n",
       "  flex-wrap: wrap;\n",
       "}\n",
       ":where(.plot-d6a7b5-swatches-wrap .plot-d6a7b5-swatch) {\n",
       "  display: inline-flex;\n",
       "  align-items: center;\n",
       "  margin-right: 1em;\n",
       "}</style><span class=\"plot-d6a7b5-swatch\"><svg width=\"15\" height=\"15\" fill=\"#440154\" xmlns=\"http://www.w3.org/2000/svg\" xmlns:xlink=\"http://www.w3.org/1999/xlink\" style=\"color: currentColor; background-color: transparent;\"><rect width=\"100%\" height=\"100%\"></rect></svg>0</span><span class=\"plot-d6a7b5-swatch\"><svg width=\"15\" height=\"15\" fill=\"#fde725\" xmlns=\"http://www.w3.org/2000/svg\" xmlns:xlink=\"http://www.w3.org/1999/xlink\" style=\"color: currentColor; background-color: transparent;\"><rect width=\"100%\" height=\"100%\"></rect></svg>1</span></div><svg class=\"plot-d6a7b5\" fill=\"currentColor\" font-family=\"system-ui, sans-serif\" font-size=\"10\" text-anchor=\"middle\" width=\"300\" height=\"300\" viewBox=\"0 0 300 300\" style=\"background-color: rgb(17, 17, 17); color: rgb(238, 238, 238);\" xmlns=\"http://www.w3.org/2000/svg\" xmlns:xlink=\"http://www.w3.org/1999/xlink\"><style>:where(.plot-d6a7b5) {\n",
       "  --plot-background: white;\n",
       "  display: block;\n",
       "  height: auto;\n",
       "  height: intrinsic;\n",
       "  max-width: 100%;\n",
       "}\n",
       ":where(.plot-d6a7b5 text),\n",
       ":where(.plot-d6a7b5 tspan) {\n",
       "  white-space: pre;\n",
       "}</style><g aria-label=\"y-axis tick\" aria-hidden=\"true\" fill=\"none\" stroke=\"currentColor\"><path transform=\"translate(0,300)\" d=\"M0,0L-6,0\"></path><path transform=\"translate(0,275)\" d=\"M0,0L-6,0\"></path><path transform=\"translate(0,250)\" d=\"M0,0L-6,0\"></path><path transform=\"translate(0,225)\" d=\"M0,0L-6,0\"></path><path transform=\"translate(0,200)\" d=\"M0,0L-6,0\"></path><path transform=\"translate(0,175)\" d=\"M0,0L-6,0\"></path><path transform=\"translate(0,150)\" d=\"M0,0L-6,0\"></path><path transform=\"translate(0,125)\" d=\"M0,0L-6,0\"></path><path transform=\"translate(0,100)\" d=\"M0,0L-6,0\"></path><path transform=\"translate(0,75)\" d=\"M0,0L-6,0\"></path><path transform=\"translate(0,50)\" d=\"M0,0L-6,0\"></path><path transform=\"translate(0,25)\" d=\"M0,0L-6,0\"></path><path transform=\"translate(0,0)\" d=\"M0,0L-6,0\"></path></g><g aria-label=\"y-axis tick label\" text-anchor=\"end\" font-variant=\"tabular-nums\" transform=\"translate(-9,0)\"><text y=\"0.32em\" transform=\"translate(0,300)\">12</text><text y=\"0.32em\" transform=\"translate(0,275)\">11</text><text y=\"0.32em\" transform=\"translate(0,250)\">10</text><text y=\"0.32em\" transform=\"translate(0,225)\">9</text><text y=\"0.32em\" transform=\"translate(0,200)\">8</text><text y=\"0.32em\" transform=\"translate(0,175)\">7</text><text y=\"0.32em\" transform=\"translate(0,150)\">6</text><text y=\"0.32em\" transform=\"translate(0,125)\">5</text><text y=\"0.32em\" transform=\"translate(0,100)\">4</text><text y=\"0.32em\" transform=\"translate(0,75)\">3</text><text y=\"0.32em\" transform=\"translate(0,50)\">2</text><text y=\"0.32em\" transform=\"translate(0,25)\">1</text><text y=\"0.32em\" transform=\"translate(0,0)\">0</text></g><g aria-label=\"x-axis tick\" aria-hidden=\"true\" fill=\"none\" stroke=\"currentColor\"><path transform=\"translate(0,0)\" d=\"M0,0L0,-6\"></path><path transform=\"translate(125,0)\" d=\"M0,0L0,-6\"></path><path transform=\"translate(250,0)\" d=\"M0,0L0,-6\"></path></g><g aria-label=\"x-axis tick label\" font-variant=\"tabular-nums\" transform=\"translate(0,-9)\"><text transform=\"translate(0,0)\">0</text><text transform=\"translate(125,0)\">5</text><text transform=\"translate(250,0)\">10</text></g><g aria-label=\"raster\"><image transform=\"translate(0,0) scale(1,1)\" width=\"300\" height=\"300\" preserveAspectRatio=\"none\" image-rendering=\"pixelated\" href=\"data:image/png;base64,iVBORw0KGgoAAAANSUhEUgAAAAwAAAAMCAYAAABWdVznAAAABmJLR0QA/wD/AP+gvaeTAAAAO0lEQVQokWN0YQz5z0ACYCJFMVYNO59dJE2Du5Q++U7CZhteJ2GzDaeTcPkFp5Nw+YV6wYrLSYw0j2kABZcUJ8yc7akAAAAASUVORK5CYII=\"></image></g></svg></figure>"
      ],
      "text/plain": [
       "<IPython.core.display.HTML object>"
      ]
     },
     "metadata": {},
     "output_type": "display_data"
    }
   ],
   "source": [
    "example_input_symbols_plotter = ascii_2d_numpy_array_plotter(\n",
    "    symbols_xda(parsed_example_input),\n",
    "    obfuscate=False,\n",
    "    text=False,\n",
    "    scheme=\"viridis\",\n",
    "    width=300,\n",
    "    height=300,\n",
    ")\n",
    "example_input_symbols_plotter.plot()"
   ]
  },
  {
   "cell_type": "markdown",
   "metadata": {},
   "source": [
    "We are interested in all numbers in the neighborhood of the symbols. The neighborhood is a 3x3 box with the symbol in its center.\n"
   ]
  },
  {
   "cell_type": "code",
   "execution_count": 8,
   "metadata": {
    "execution": {
     "iopub.execute_input": "2024-11-25T23:09:55.252426Z",
     "iopub.status.busy": "2024-11-25T23:09:55.251690Z",
     "iopub.status.idle": "2024-11-25T23:09:55.261710Z",
     "shell.execute_reply": "2024-11-25T23:09:55.260597Z"
    }
   },
   "outputs": [],
   "source": [
    "def rect_df(\n",
    "    symbols_xda: xr.DataArray,\n",
    "    *,\n",
    "    offset: float = 0.3,\n",
    "    x1_target: str = \"x1\",\n",
    "    x2_target: str = \"x2\",\n",
    "    y1_target: str = \"y1\",\n",
    "    y2_target: str = \"y2\",\n",
    ") -> pd.DataFrame:\n",
    "    df = symbols_xda.stack(y=(\"row\", \"col\")).to_pandas()\n",
    "    df = df[df == 1]\n",
    "\n",
    "    rows_1 = [idx[0] - (offset + 0.5) for idx in df.index]\n",
    "    rows_2 = [idx[0] + (offset + 1.5) for idx in df.index]\n",
    "    cols_1 = [idx[1] - (offset + 0.5) for idx in df.index]\n",
    "    cols_2 = [idx[1] + (offset + 1.5) for idx in df.index]\n",
    "\n",
    "    rect_df = pd.DataFrame.from_records(\n",
    "        {\n",
    "            x1_target: cols_1,\n",
    "            x2_target: cols_2,\n",
    "            y1_target: rows_1,\n",
    "            y2_target: rows_2,\n",
    "        }\n",
    "    )\n",
    "    return rect_df"
   ]
  },
  {
   "cell_type": "code",
   "execution_count": 9,
   "metadata": {
    "execution": {
     "iopub.execute_input": "2024-11-25T23:09:55.265963Z",
     "iopub.status.busy": "2024-11-25T23:09:55.265377Z",
     "iopub.status.idle": "2024-11-25T23:09:55.274047Z",
     "shell.execute_reply": "2024-11-25T23:09:55.272997Z"
    }
   },
   "outputs": [],
   "source": [
    "def neighborhood_mark_layer(\n",
    "    xda: xr.DataArray,\n",
    "    *,\n",
    "    color: str = \"red\",\n",
    "    stroke_width: int = 2,\n",
    ") -> Callable[[], list[Any]]:\n",
    "    def callback() -> list[Any]:\n",
    "        x1_target = \"x1\"\n",
    "        x2_target = \"x2\"\n",
    "        y1_target = \"y1\"\n",
    "        y2_target = \"y2\"\n",
    "\n",
    "        return [\n",
    "            Plot.rect(  # type:ignore\n",
    "                rect_df(\n",
    "                    xda,\n",
    "                    x1_target=x1_target,\n",
    "                    x2_target=x2_target,\n",
    "                    y1_target=y1_target,\n",
    "                    y2_target=y2_target,\n",
    "                ),\n",
    "                {\n",
    "                    x1_target: \"x1\",\n",
    "                    y1_target: \"y1\",\n",
    "                    x2_target: \"x2\",\n",
    "                    y2_target: \"y2\",\n",
    "                    \"stroke\": color,\n",
    "                    \"strokeWidth\": stroke_width,\n",
    "                },\n",
    "            ),\n",
    "        ]\n",
    "\n",
    "    return callback"
   ]
  },
  {
   "cell_type": "code",
   "execution_count": 10,
   "metadata": {
    "execution": {
     "iopub.execute_input": "2024-11-25T23:09:55.279022Z",
     "iopub.status.busy": "2024-11-25T23:09:55.278681Z",
     "iopub.status.idle": "2024-11-25T23:09:55.340418Z",
     "shell.execute_reply": "2024-11-25T23:09:55.339349Z"
    }
   },
   "outputs": [
    {
     "name": "stdout",
     "output_type": "stream",
     "text": [
      "Layer #0 <function ObservablePlotXarrayBuilder.create_raster_background_marks.<locals>.callback at 0x7f27c25962a0>\n",
      "Layer #1 <function text_mark_producer.<locals>.callback at 0x7f27c2596020>\n",
      "Layer #2 <function neighborhood_mark_layer.<locals>.callback at 0x7f27c2596520>\n"
     ]
    },
    {
     "data": {
      "text/html": [
       "<figure class=\"plot-d6a7b5-figure\" style=\"max-width: initial; padding: 0px 5px 5px 5px; color: currentColor; background-color: transparent;\" typstbg=\"transparent\" typstfg=\"currentColor\" typstcaption=\"currentColor\"><div class=\"plot-d6a7b5-swatches plot-d6a7b5-swatches-wrap\"><style>:where(.plot-d6a7b5-swatches) {\n",
       "  font-family: system-ui, sans-serif;\n",
       "  font-size: 10px;\n",
       "  margin-bottom: 0.5em;\n",
       "}\n",
       ":where(.plot-d6a7b5-swatch > svg) {\n",
       "  margin-right: 0.5em;\n",
       "  overflow: visible;\n",
       "}\n",
       ":where(.plot-d6a7b5-swatches-wrap) {\n",
       "  display: flex;\n",
       "  align-items: center;\n",
       "  min-height: 33px;\n",
       "  flex-wrap: wrap;\n",
       "}\n",
       ":where(.plot-d6a7b5-swatches-wrap .plot-d6a7b5-swatch) {\n",
       "  display: inline-flex;\n",
       "  align-items: center;\n",
       "  margin-right: 1em;\n",
       "}</style><span class=\"plot-d6a7b5-swatch\"><svg width=\"15\" height=\"15\" fill=\"#440154\" xmlns=\"http://www.w3.org/2000/svg\" xmlns:xlink=\"http://www.w3.org/1999/xlink\" style=\"color: currentColor; background-color: transparent;\"><rect width=\"100%\" height=\"100%\"></rect></svg>0</span><span class=\"plot-d6a7b5-swatch\"><svg width=\"15\" height=\"15\" fill=\"#fde725\" xmlns=\"http://www.w3.org/2000/svg\" xmlns:xlink=\"http://www.w3.org/1999/xlink\" style=\"color: currentColor; background-color: transparent;\"><rect width=\"100%\" height=\"100%\"></rect></svg>1</span></div><svg class=\"plot-d6a7b5\" fill=\"currentColor\" font-family=\"system-ui, sans-serif\" font-size=\"10\" text-anchor=\"middle\" width=\"300\" height=\"300\" viewBox=\"0 0 300 300\" style=\"background-color: rgb(17, 17, 17); color: rgb(238, 238, 238);\" xmlns=\"http://www.w3.org/2000/svg\" xmlns:xlink=\"http://www.w3.org/1999/xlink\"><style>:where(.plot-d6a7b5) {\n",
       "  --plot-background: white;\n",
       "  display: block;\n",
       "  height: auto;\n",
       "  height: intrinsic;\n",
       "  max-width: 100%;\n",
       "}\n",
       ":where(.plot-d6a7b5 text),\n",
       ":where(.plot-d6a7b5 tspan) {\n",
       "  white-space: pre;\n",
       "}</style><g aria-label=\"y-axis tick\" aria-hidden=\"true\" fill=\"none\" stroke=\"currentColor\"><path transform=\"translate(0,300)\" d=\"M0,0L-6,0\"></path><path transform=\"translate(0,275)\" d=\"M0,0L-6,0\"></path><path transform=\"translate(0,250)\" d=\"M0,0L-6,0\"></path><path transform=\"translate(0,225)\" d=\"M0,0L-6,0\"></path><path transform=\"translate(0,200)\" d=\"M0,0L-6,0\"></path><path transform=\"translate(0,175)\" d=\"M0,0L-6,0\"></path><path transform=\"translate(0,150)\" d=\"M0,0L-6,0\"></path><path transform=\"translate(0,125)\" d=\"M0,0L-6,0\"></path><path transform=\"translate(0,100)\" d=\"M0,0L-6,0\"></path><path transform=\"translate(0,75)\" d=\"M0,0L-6,0\"></path><path transform=\"translate(0,50)\" d=\"M0,0L-6,0\"></path><path transform=\"translate(0,25)\" d=\"M0,0L-6,0\"></path><path transform=\"translate(0,0)\" d=\"M0,0L-6,0\"></path></g><g aria-label=\"y-axis tick label\" text-anchor=\"end\" font-variant=\"tabular-nums\" transform=\"translate(-9,0)\"><text y=\"0.32em\" transform=\"translate(0,300)\">12</text><text y=\"0.32em\" transform=\"translate(0,275)\">11</text><text y=\"0.32em\" transform=\"translate(0,250)\">10</text><text y=\"0.32em\" transform=\"translate(0,225)\">9</text><text y=\"0.32em\" transform=\"translate(0,200)\">8</text><text y=\"0.32em\" transform=\"translate(0,175)\">7</text><text y=\"0.32em\" transform=\"translate(0,150)\">6</text><text y=\"0.32em\" transform=\"translate(0,125)\">5</text><text y=\"0.32em\" transform=\"translate(0,100)\">4</text><text y=\"0.32em\" transform=\"translate(0,75)\">3</text><text y=\"0.32em\" transform=\"translate(0,50)\">2</text><text y=\"0.32em\" transform=\"translate(0,25)\">1</text><text y=\"0.32em\" transform=\"translate(0,0)\">0</text></g><g aria-label=\"x-axis tick\" aria-hidden=\"true\" fill=\"none\" stroke=\"currentColor\"><path transform=\"translate(0,0)\" d=\"M0,0L0,-6\"></path><path transform=\"translate(125,0)\" d=\"M0,0L0,-6\"></path><path transform=\"translate(250,0)\" d=\"M0,0L0,-6\"></path></g><g aria-label=\"x-axis tick label\" font-variant=\"tabular-nums\" transform=\"translate(0,-9)\"><text transform=\"translate(0,0)\">0</text><text transform=\"translate(125,0)\">5</text><text transform=\"translate(250,0)\">10</text></g><g aria-label=\"raster\"><image transform=\"translate(0,0) scale(1,1)\" width=\"300\" height=\"300\" preserveAspectRatio=\"none\" image-rendering=\"pixelated\" href=\"data:image/png;base64,iVBORw0KGgoAAAANSUhEUgAAAAwAAAAMCAYAAABWdVznAAAABmJLR0QA/wD/AP+gvaeTAAAAO0lEQVQokWN0YQz5z0ACYCJFMVYNO59dJE2Du5Q++U7CZhteJ2GzDaeTcPkFp5Nw+YV6wYrLSYw0j2kABZcUJ8yc7akAAAAASUVORK5CYII=\"></image></g><g aria-label=\"rect\" fill=\"none\" stroke=\"red\" stroke-width=\"2\"><rect x=\"80\" y=\"29.999999999999996\" width=\"65\" height=\"65\"></rect><rect x=\"155.00000000000003\" y=\"80\" width=\"65\" height=\"65\"></rect><rect x=\"80\" y=\"105.00000000000001\" width=\"65\" height=\"64.99999999999999\"></rect><rect x=\"130\" y=\"130\" width=\"65\" height=\"65\"></rect><rect x=\"80\" y=\"204.99999999999997\" width=\"65\" height=\"65.00000000000003\"></rect><rect x=\"130\" y=\"204.99999999999997\" width=\"65\" height=\"65.00000000000003\"></rect></g></svg></figure>"
      ],
      "text/plain": [
       "<IPython.core.display.HTML object>"
      ]
     },
     "metadata": {},
     "output_type": "display_data"
    }
   ],
   "source": [
    "example_input_symbols_plotter.copy().stack(\n",
    "    neighborhood_mark_layer(symbols_xda(parsed_example_input))\n",
    ").plot()"
   ]
  },
  {
   "cell_type": "code",
   "execution_count": 11,
   "metadata": {
    "execution": {
     "iopub.execute_input": "2024-11-25T23:09:55.344620Z",
     "iopub.status.busy": "2024-11-25T23:09:55.343985Z",
     "iopub.status.idle": "2024-11-25T23:09:55.416403Z",
     "shell.execute_reply": "2024-11-25T23:09:55.415246Z"
    }
   },
   "outputs": [
    {
     "name": "stdout",
     "output_type": "stream",
     "text": [
      "Layer #0 <function ObservablePlotXarrayBuilder.create_raster_background_marks.<locals>.callback at 0x7f27c25739c0>\n",
      "Layer #1 <function text_mark_producer.<locals>.callback at 0x7f27c250da80>\n",
      "Layer #2 <function neighborhood_mark_layer.<locals>.callback at 0x7f27c2573c40>\n"
     ]
    },
    {
     "data": {
      "text/html": [
       "<figure class=\"plot-d6a7b5-figure\" style=\"max-width: initial; padding: 0px 5px 5px 5px; color: currentColor; background-color: transparent;\" typstbg=\"transparent\" typstfg=\"currentColor\" typstcaption=\"currentColor\"><div class=\"plot-d6a7b5-swatches plot-d6a7b5-swatches-wrap\"><style>:where(.plot-d6a7b5-swatches) {\n",
       "  font-family: system-ui, sans-serif;\n",
       "  font-size: 10px;\n",
       "  margin-bottom: 0.5em;\n",
       "}\n",
       ":where(.plot-d6a7b5-swatch > svg) {\n",
       "  margin-right: 0.5em;\n",
       "  overflow: visible;\n",
       "}\n",
       ":where(.plot-d6a7b5-swatches-wrap) {\n",
       "  display: flex;\n",
       "  align-items: center;\n",
       "  min-height: 33px;\n",
       "  flex-wrap: wrap;\n",
       "}\n",
       ":where(.plot-d6a7b5-swatches-wrap .plot-d6a7b5-swatch) {\n",
       "  display: inline-flex;\n",
       "  align-items: center;\n",
       "  margin-right: 1em;\n",
       "}</style><span class=\"plot-d6a7b5-swatch\"><svg width=\"15\" height=\"15\" fill=\"#4e79a7\" xmlns=\"http://www.w3.org/2000/svg\" xmlns:xlink=\"http://www.w3.org/1999/xlink\" style=\"color: currentColor; background-color: transparent;\"><rect width=\"100%\" height=\"100%\"></rect></svg>#</span><span class=\"plot-d6a7b5-swatch\"><svg width=\"15\" height=\"15\" fill=\"#f28e2c\" xmlns=\"http://www.w3.org/2000/svg\" xmlns:xlink=\"http://www.w3.org/1999/xlink\" style=\"color: currentColor; background-color: transparent;\"><rect width=\"100%\" height=\"100%\"></rect></svg>$</span><span class=\"plot-d6a7b5-swatch\"><svg width=\"15\" height=\"15\" fill=\"#e15759\" xmlns=\"http://www.w3.org/2000/svg\" xmlns:xlink=\"http://www.w3.org/1999/xlink\" style=\"color: currentColor; background-color: transparent;\"><rect width=\"100%\" height=\"100%\"></rect></svg>*</span><span class=\"plot-d6a7b5-swatch\"><svg width=\"15\" height=\"15\" fill=\"#76b7b2\" xmlns=\"http://www.w3.org/2000/svg\" xmlns:xlink=\"http://www.w3.org/1999/xlink\" style=\"color: currentColor; background-color: transparent;\"><rect width=\"100%\" height=\"100%\"></rect></svg>+</span><span class=\"plot-d6a7b5-swatch\"><svg width=\"15\" height=\"15\" fill=\"#59a14f\" xmlns=\"http://www.w3.org/2000/svg\" xmlns:xlink=\"http://www.w3.org/1999/xlink\" style=\"color: currentColor; background-color: transparent;\"><rect width=\"100%\" height=\"100%\"></rect></svg>.</span><span class=\"plot-d6a7b5-swatch\"><svg width=\"15\" height=\"15\" fill=\"#edc949\" xmlns=\"http://www.w3.org/2000/svg\" xmlns:xlink=\"http://www.w3.org/1999/xlink\" style=\"color: currentColor; background-color: transparent;\"><rect width=\"100%\" height=\"100%\"></rect></svg>N</span></div><svg class=\"plot-d6a7b5\" fill=\"currentColor\" font-family=\"system-ui, sans-serif\" font-size=\"10\" text-anchor=\"middle\" width=\"300\" height=\"300\" viewBox=\"0 0 300 300\" style=\"background-color: rgb(17, 17, 17); color: rgb(238, 238, 238);\" xmlns=\"http://www.w3.org/2000/svg\" xmlns:xlink=\"http://www.w3.org/1999/xlink\"><style>:where(.plot-d6a7b5) {\n",
       "  --plot-background: white;\n",
       "  display: block;\n",
       "  height: auto;\n",
       "  height: intrinsic;\n",
       "  max-width: 100%;\n",
       "}\n",
       ":where(.plot-d6a7b5 text),\n",
       ":where(.plot-d6a7b5 tspan) {\n",
       "  white-space: pre;\n",
       "}</style><g aria-label=\"y-axis tick\" aria-hidden=\"true\" fill=\"none\" stroke=\"currentColor\"><path transform=\"translate(0,300)\" d=\"M0,0L-6,0\"></path><path transform=\"translate(0,275)\" d=\"M0,0L-6,0\"></path><path transform=\"translate(0,250)\" d=\"M0,0L-6,0\"></path><path transform=\"translate(0,225)\" d=\"M0,0L-6,0\"></path><path transform=\"translate(0,200)\" d=\"M0,0L-6,0\"></path><path transform=\"translate(0,175)\" d=\"M0,0L-6,0\"></path><path transform=\"translate(0,150)\" d=\"M0,0L-6,0\"></path><path transform=\"translate(0,125)\" d=\"M0,0L-6,0\"></path><path transform=\"translate(0,100)\" d=\"M0,0L-6,0\"></path><path transform=\"translate(0,75)\" d=\"M0,0L-6,0\"></path><path transform=\"translate(0,50)\" d=\"M0,0L-6,0\"></path><path transform=\"translate(0,25)\" d=\"M0,0L-6,0\"></path><path transform=\"translate(0,0)\" d=\"M0,0L-6,0\"></path></g><g aria-label=\"y-axis tick label\" text-anchor=\"end\" font-variant=\"tabular-nums\" transform=\"translate(-9,0)\"><text y=\"0.32em\" transform=\"translate(0,300)\">12</text><text y=\"0.32em\" transform=\"translate(0,275)\">11</text><text y=\"0.32em\" transform=\"translate(0,250)\">10</text><text y=\"0.32em\" transform=\"translate(0,225)\">9</text><text y=\"0.32em\" transform=\"translate(0,200)\">8</text><text y=\"0.32em\" transform=\"translate(0,175)\">7</text><text y=\"0.32em\" transform=\"translate(0,150)\">6</text><text y=\"0.32em\" transform=\"translate(0,125)\">5</text><text y=\"0.32em\" transform=\"translate(0,100)\">4</text><text y=\"0.32em\" transform=\"translate(0,75)\">3</text><text y=\"0.32em\" transform=\"translate(0,50)\">2</text><text y=\"0.32em\" transform=\"translate(0,25)\">1</text><text y=\"0.32em\" transform=\"translate(0,0)\">0</text></g><g aria-label=\"x-axis tick\" aria-hidden=\"true\" fill=\"none\" stroke=\"currentColor\"><path transform=\"translate(0,0)\" d=\"M0,0L0,-6\"></path><path transform=\"translate(125,0)\" d=\"M0,0L0,-6\"></path><path transform=\"translate(250,0)\" d=\"M0,0L0,-6\"></path></g><g aria-label=\"x-axis tick label\" font-variant=\"tabular-nums\" transform=\"translate(0,-9)\"><text transform=\"translate(0,0)\">0</text><text transform=\"translate(125,0)\">5</text><text transform=\"translate(250,0)\">10</text></g><g aria-label=\"raster\"><image transform=\"translate(0,0) scale(1,1)\" width=\"300\" height=\"300\" preserveAspectRatio=\"none\" image-rendering=\"pixelated\" href=\"data:image/png;base64,iVBORw0KGgoAAAANSUhEUgAAAAwAAAAMCAYAAABWdVznAAAABmJLR0QA/wD/AP+gvaeTAAAApElEQVQokWOMXOj/n4EEwMLAwMAwReMXXCDnBhsDLjEGBgYGRnQbOrZxMVR4fcNvAwxM0fjFwKDxi4EBjy0YNiCDrzciGLg1VuD3w5c+AbiT0BXDNSB7igGqWFYsmeHxq7lww2BqMP0Ad/NcFIUoNqB7DLsBWGxgYGBgmPn2LkO6sDJDxzYuhhwMHyBpgJn2m0GWgeEGAwNP0QeGKVhsxhus2AAAGXc/MRaSRnwAAAAASUVORK5CYII=\"></image></g><g aria-label=\"text\" font-size=\"20.583333333333332\"><text y=\"0.32em\" transform=\"translate(12.5,12.5)\">.</text><text y=\"0.32em\" transform=\"translate(37.5,12.5)\">.</text><text y=\"0.32em\" transform=\"translate(62.5,12.5)\">.</text><text y=\"0.32em\" transform=\"translate(87.5,12.5)\">.</text><text y=\"0.32em\" transform=\"translate(112.5,12.5)\">.</text><text y=\"0.32em\" transform=\"translate(137.5,12.5)\">.</text><text y=\"0.32em\" transform=\"translate(162.5,12.5)\">.</text><text y=\"0.32em\" transform=\"translate(187.5,12.5)\">.</text><text y=\"0.32em\" transform=\"translate(212.5,12.5)\">.</text><text y=\"0.32em\" transform=\"translate(237.5,12.5)\">.</text><text y=\"0.32em\" transform=\"translate(262.5,12.5)\">.</text><text y=\"0.32em\" transform=\"translate(287.5,12.5)\">.</text><text y=\"0.32em\" transform=\"translate(12.5,37.5)\">.</text><text y=\"0.32em\" transform=\"translate(37.5,37.5)\">4</text><text y=\"0.32em\" transform=\"translate(62.5,37.5)\">6</text><text y=\"0.32em\" transform=\"translate(87.5,37.5)\">7</text><text y=\"0.32em\" transform=\"translate(112.5,37.5)\">.</text><text y=\"0.32em\" transform=\"translate(137.5,37.5)\">.</text><text y=\"0.32em\" transform=\"translate(162.5,37.5)\">1</text><text y=\"0.32em\" transform=\"translate(187.5,37.5)\">1</text><text y=\"0.32em\" transform=\"translate(212.5,37.5)\">4</text><text y=\"0.32em\" transform=\"translate(237.5,37.5)\">.</text><text y=\"0.32em\" transform=\"translate(262.5,37.5)\">.</text><text y=\"0.32em\" transform=\"translate(287.5,37.5)\">.</text><text y=\"0.32em\" transform=\"translate(12.5,62.5)\">.</text><text y=\"0.32em\" transform=\"translate(37.5,62.5)\">.</text><text y=\"0.32em\" transform=\"translate(62.5,62.5)\">.</text><text y=\"0.32em\" transform=\"translate(87.5,62.5)\">.</text><text y=\"0.32em\" transform=\"translate(112.5,62.5)\">*</text><text y=\"0.32em\" transform=\"translate(137.5,62.5)\">.</text><text y=\"0.32em\" transform=\"translate(162.5,62.5)\">.</text><text y=\"0.32em\" transform=\"translate(187.5,62.5)\">.</text><text y=\"0.32em\" transform=\"translate(212.5,62.5)\">.</text><text y=\"0.32em\" transform=\"translate(237.5,62.5)\">.</text><text y=\"0.32em\" transform=\"translate(262.5,62.5)\">.</text><text y=\"0.32em\" transform=\"translate(287.5,62.5)\">.</text><text y=\"0.32em\" transform=\"translate(12.5,87.5)\">.</text><text y=\"0.32em\" transform=\"translate(37.5,87.5)\">.</text><text y=\"0.32em\" transform=\"translate(62.5,87.5)\">.</text><text y=\"0.32em\" transform=\"translate(87.5,87.5)\">3</text><text y=\"0.32em\" transform=\"translate(112.5,87.5)\">5</text><text y=\"0.32em\" transform=\"translate(137.5,87.5)\">.</text><text y=\"0.32em\" transform=\"translate(162.5,87.5)\">.</text><text y=\"0.32em\" transform=\"translate(187.5,87.5)\">6</text><text y=\"0.32em\" transform=\"translate(212.5,87.5)\">3</text><text y=\"0.32em\" transform=\"translate(237.5,87.5)\">3</text><text y=\"0.32em\" transform=\"translate(262.5,87.5)\">.</text><text y=\"0.32em\" transform=\"translate(287.5,87.5)\">.</text><text y=\"0.32em\" transform=\"translate(12.5,112.5)\">.</text><text y=\"0.32em\" transform=\"translate(37.5,112.5)\">.</text><text y=\"0.32em\" transform=\"translate(62.5,112.5)\">.</text><text y=\"0.32em\" transform=\"translate(87.5,112.5)\">.</text><text y=\"0.32em\" transform=\"translate(112.5,112.5)\">.</text><text y=\"0.32em\" transform=\"translate(137.5,112.5)\">.</text><text y=\"0.32em\" transform=\"translate(162.5,112.5)\">.</text><text y=\"0.32em\" transform=\"translate(187.5,112.5)\">#</text><text y=\"0.32em\" transform=\"translate(212.5,112.5)\">.</text><text y=\"0.32em\" transform=\"translate(237.5,112.5)\">.</text><text y=\"0.32em\" transform=\"translate(262.5,112.5)\">.</text><text y=\"0.32em\" transform=\"translate(287.5,112.5)\">.</text><text y=\"0.32em\" transform=\"translate(12.5,137.5)\">.</text><text y=\"0.32em\" transform=\"translate(37.5,137.5)\">6</text><text y=\"0.32em\" transform=\"translate(62.5,137.5)\">1</text><text y=\"0.32em\" transform=\"translate(87.5,137.5)\">7</text><text y=\"0.32em\" transform=\"translate(112.5,137.5)\">*</text><text y=\"0.32em\" transform=\"translate(137.5,137.5)\">.</text><text y=\"0.32em\" transform=\"translate(162.5,137.5)\">.</text><text y=\"0.32em\" transform=\"translate(187.5,137.5)\">.</text><text y=\"0.32em\" transform=\"translate(212.5,137.5)\">.</text><text y=\"0.32em\" transform=\"translate(237.5,137.5)\">.</text><text y=\"0.32em\" transform=\"translate(262.5,137.5)\">.</text><text y=\"0.32em\" transform=\"translate(287.5,137.5)\">.</text><text y=\"0.32em\" transform=\"translate(12.5,162.5)\">.</text><text y=\"0.32em\" transform=\"translate(37.5,162.5)\">.</text><text y=\"0.32em\" transform=\"translate(62.5,162.5)\">.</text><text y=\"0.32em\" transform=\"translate(87.5,162.5)\">.</text><text y=\"0.32em\" transform=\"translate(112.5,162.5)\">.</text><text y=\"0.32em\" transform=\"translate(137.5,162.5)\">.</text><text y=\"0.32em\" transform=\"translate(162.5,162.5)\">+</text><text y=\"0.32em\" transform=\"translate(187.5,162.5)\">.</text><text y=\"0.32em\" transform=\"translate(212.5,162.5)\">5</text><text y=\"0.32em\" transform=\"translate(237.5,162.5)\">8</text><text y=\"0.32em\" transform=\"translate(262.5,162.5)\">.</text><text y=\"0.32em\" transform=\"translate(287.5,162.5)\">.</text><text y=\"0.32em\" transform=\"translate(12.5,187.5)\">.</text><text y=\"0.32em\" transform=\"translate(37.5,187.5)\">.</text><text y=\"0.32em\" transform=\"translate(62.5,187.5)\">.</text><text y=\"0.32em\" transform=\"translate(87.5,187.5)\">5</text><text y=\"0.32em\" transform=\"translate(112.5,187.5)\">9</text><text y=\"0.32em\" transform=\"translate(137.5,187.5)\">2</text><text y=\"0.32em\" transform=\"translate(162.5,187.5)\">.</text><text y=\"0.32em\" transform=\"translate(187.5,187.5)\">.</text><text y=\"0.32em\" transform=\"translate(212.5,187.5)\">.</text><text y=\"0.32em\" transform=\"translate(237.5,187.5)\">.</text><text y=\"0.32em\" transform=\"translate(262.5,187.5)\">.</text><text y=\"0.32em\" transform=\"translate(287.5,187.5)\">.</text><text y=\"0.32em\" transform=\"translate(12.5,212.5)\">.</text><text y=\"0.32em\" transform=\"translate(37.5,212.5)\">.</text><text y=\"0.32em\" transform=\"translate(62.5,212.5)\">.</text><text y=\"0.32em\" transform=\"translate(87.5,212.5)\">.</text><text y=\"0.32em\" transform=\"translate(112.5,212.5)\">.</text><text y=\"0.32em\" transform=\"translate(137.5,212.5)\">.</text><text y=\"0.32em\" transform=\"translate(162.5,212.5)\">.</text><text y=\"0.32em\" transform=\"translate(187.5,212.5)\">7</text><text y=\"0.32em\" transform=\"translate(212.5,212.5)\">5</text><text y=\"0.32em\" transform=\"translate(237.5,212.5)\">5</text><text y=\"0.32em\" transform=\"translate(262.5,212.5)\">.</text><text y=\"0.32em\" transform=\"translate(287.5,212.5)\">.</text><text y=\"0.32em\" transform=\"translate(12.5,237.5)\">.</text><text y=\"0.32em\" transform=\"translate(37.5,237.5)\">.</text><text y=\"0.32em\" transform=\"translate(62.5,237.5)\">.</text><text y=\"0.32em\" transform=\"translate(87.5,237.5)\">.</text><text y=\"0.32em\" transform=\"translate(112.5,237.5)\">$</text><text y=\"0.32em\" transform=\"translate(137.5,237.5)\">.</text><text y=\"0.32em\" transform=\"translate(162.5,237.5)\">*</text><text y=\"0.32em\" transform=\"translate(187.5,237.5)\">.</text><text y=\"0.32em\" transform=\"translate(212.5,237.5)\">.</text><text y=\"0.32em\" transform=\"translate(237.5,237.5)\">.</text><text y=\"0.32em\" transform=\"translate(262.5,237.5)\">.</text><text y=\"0.32em\" transform=\"translate(287.5,237.5)\">.</text><text y=\"0.32em\" transform=\"translate(12.5,262.5)\">.</text><text y=\"0.32em\" transform=\"translate(37.5,262.5)\">.</text><text y=\"0.32em\" transform=\"translate(62.5,262.5)\">6</text><text y=\"0.32em\" transform=\"translate(87.5,262.5)\">6</text><text y=\"0.32em\" transform=\"translate(112.5,262.5)\">4</text><text y=\"0.32em\" transform=\"translate(137.5,262.5)\">.</text><text y=\"0.32em\" transform=\"translate(162.5,262.5)\">5</text><text y=\"0.32em\" transform=\"translate(187.5,262.5)\">9</text><text y=\"0.32em\" transform=\"translate(212.5,262.5)\">8</text><text y=\"0.32em\" transform=\"translate(237.5,262.5)\">.</text><text y=\"0.32em\" transform=\"translate(262.5,262.5)\">.</text><text y=\"0.32em\" transform=\"translate(287.5,262.5)\">.</text><text y=\"0.32em\" transform=\"translate(12.5,287.5)\">.</text><text y=\"0.32em\" transform=\"translate(37.5,287.5)\">.</text><text y=\"0.32em\" transform=\"translate(62.5,287.5)\">.</text><text y=\"0.32em\" transform=\"translate(87.5,287.5)\">.</text><text y=\"0.32em\" transform=\"translate(112.5,287.5)\">.</text><text y=\"0.32em\" transform=\"translate(137.5,287.5)\">.</text><text y=\"0.32em\" transform=\"translate(162.5,287.5)\">.</text><text y=\"0.32em\" transform=\"translate(187.5,287.5)\">.</text><text y=\"0.32em\" transform=\"translate(212.5,287.5)\">.</text><text y=\"0.32em\" transform=\"translate(237.5,287.5)\">.</text><text y=\"0.32em\" transform=\"translate(262.5,287.5)\">.</text><text y=\"0.32em\" transform=\"translate(287.5,287.5)\">.</text></g><g aria-label=\"rect\" fill=\"none\" stroke=\"red\" stroke-width=\"2\"><rect x=\"80\" y=\"29.999999999999996\" width=\"65\" height=\"65\"></rect><rect x=\"155.00000000000003\" y=\"80\" width=\"65\" height=\"65\"></rect><rect x=\"80\" y=\"105.00000000000001\" width=\"65\" height=\"64.99999999999999\"></rect><rect x=\"130\" y=\"130\" width=\"65\" height=\"65\"></rect><rect x=\"80\" y=\"204.99999999999997\" width=\"65\" height=\"65.00000000000003\"></rect><rect x=\"130\" y=\"204.99999999999997\" width=\"65\" height=\"65.00000000000003\"></rect></g></svg></figure>"
      ],
      "text/plain": [
       "<IPython.core.display.HTML object>"
      ]
     },
     "metadata": {},
     "output_type": "display_data"
    }
   ],
   "source": [
    "example_input_plotter.copy().stack(\n",
    "    neighborhood_mark_layer(symbols_xda(parsed_example_input))\n",
    ").plot()"
   ]
  },
  {
   "cell_type": "markdown",
   "metadata": {},
   "source": [
    "In Part 1, the _part numbers_ are all numbers intersecting with the symbols' neighborhoods.\n"
   ]
  },
  {
   "cell_type": "code",
   "execution_count": 12,
   "metadata": {
    "execution": {
     "iopub.execute_input": "2024-11-25T23:09:55.420680Z",
     "iopub.status.busy": "2024-11-25T23:09:55.419712Z",
     "iopub.status.idle": "2024-11-25T23:09:55.429208Z",
     "shell.execute_reply": "2024-11-25T23:09:55.428209Z"
    }
   },
   "outputs": [
    {
     "data": {
      "text/plain": [
       "[467, 35, 633, 617, 592, 755, 664, 598]"
      ]
     },
     "execution_count": 12,
     "metadata": {},
     "output_type": "execute_result"
    }
   ],
   "source": [
    "from advent_of_code.y_2023.problem_202303 import find_part_numbers\n",
    "\n",
    "part_numbers = find_part_numbers(parsed_example_input.values)\n",
    "part_numbers"
   ]
  },
  {
   "cell_type": "markdown",
   "metadata": {},
   "source": [
    "In Part 2, we are only interested by gears, represented by the `*`-symbol, if they are adjacent to exactly two _part numbers_.\n"
   ]
  },
  {
   "cell_type": "code",
   "execution_count": 13,
   "metadata": {
    "execution": {
     "iopub.execute_input": "2024-11-25T23:09:55.433172Z",
     "iopub.status.busy": "2024-11-25T23:09:55.432663Z",
     "iopub.status.idle": "2024-11-25T23:09:55.441132Z",
     "shell.execute_reply": "2024-11-25T23:09:55.440065Z"
    }
   },
   "outputs": [
    {
     "data": {
      "text/plain": [
       "[(467, 35), (755, 598)]"
      ]
     },
     "execution_count": 13,
     "metadata": {},
     "output_type": "execute_result"
    }
   ],
   "source": [
    "from advent_of_code.y_2023.problem_202303 import find_part_numbers_and_gears\n",
    "\n",
    "\n",
    "gear_part_numbers_tuples = find_part_numbers_and_gears(parsed_example_input.values)\n",
    "gear_part_numbers_tuples"
   ]
  },
  {
   "cell_type": "code",
   "execution_count": 14,
   "metadata": {
    "execution": {
     "iopub.execute_input": "2024-11-25T23:09:55.445212Z",
     "iopub.status.busy": "2024-11-25T23:09:55.444708Z",
     "iopub.status.idle": "2024-11-25T23:09:55.449986Z",
     "shell.execute_reply": "2024-11-25T23:09:55.449138Z"
    }
   },
   "outputs": [],
   "source": [
    "def gears(puzzle_input: xr.DataArray) -> xr.DataArray:\n",
    "    return puzzle_input == ord(\"*\")"
   ]
  },
  {
   "cell_type": "code",
   "execution_count": 15,
   "metadata": {
    "execution": {
     "iopub.execute_input": "2024-11-25T23:09:55.452694Z",
     "iopub.status.busy": "2024-11-25T23:09:55.452341Z",
     "iopub.status.idle": "2024-11-25T23:09:55.507287Z",
     "shell.execute_reply": "2024-11-25T23:09:55.506293Z"
    }
   },
   "outputs": [
    {
     "name": "stdout",
     "output_type": "stream",
     "text": [
      "Layer #0 <function ObservablePlotXarrayBuilder.create_raster_background_marks.<locals>.callback at 0x7f27c2573ba0>\n",
      "Layer #1 <function text_mark_producer.<locals>.callback at 0x7f27c250da80>\n",
      "Layer #2 <function neighborhood_mark_layer.<locals>.callback at 0x7f27c2573b00>\n"
     ]
    },
    {
     "data": {
      "text/html": [
       "<figure class=\"plot-d6a7b5-figure\" style=\"max-width: initial; padding: 0px 5px 5px 5px; color: currentColor; background-color: transparent;\" typstbg=\"transparent\" typstfg=\"currentColor\" typstcaption=\"currentColor\"><div class=\"plot-d6a7b5-swatches plot-d6a7b5-swatches-wrap\"><style>:where(.plot-d6a7b5-swatches) {\n",
       "  font-family: system-ui, sans-serif;\n",
       "  font-size: 10px;\n",
       "  margin-bottom: 0.5em;\n",
       "}\n",
       ":where(.plot-d6a7b5-swatch > svg) {\n",
       "  margin-right: 0.5em;\n",
       "  overflow: visible;\n",
       "}\n",
       ":where(.plot-d6a7b5-swatches-wrap) {\n",
       "  display: flex;\n",
       "  align-items: center;\n",
       "  min-height: 33px;\n",
       "  flex-wrap: wrap;\n",
       "}\n",
       ":where(.plot-d6a7b5-swatches-wrap .plot-d6a7b5-swatch) {\n",
       "  display: inline-flex;\n",
       "  align-items: center;\n",
       "  margin-right: 1em;\n",
       "}</style><span class=\"plot-d6a7b5-swatch\"><svg width=\"15\" height=\"15\" fill=\"#4e79a7\" xmlns=\"http://www.w3.org/2000/svg\" xmlns:xlink=\"http://www.w3.org/1999/xlink\" style=\"color: currentColor; background-color: transparent;\"><rect width=\"100%\" height=\"100%\"></rect></svg>#</span><span class=\"plot-d6a7b5-swatch\"><svg width=\"15\" height=\"15\" fill=\"#f28e2c\" xmlns=\"http://www.w3.org/2000/svg\" xmlns:xlink=\"http://www.w3.org/1999/xlink\" style=\"color: currentColor; background-color: transparent;\"><rect width=\"100%\" height=\"100%\"></rect></svg>$</span><span class=\"plot-d6a7b5-swatch\"><svg width=\"15\" height=\"15\" fill=\"#e15759\" xmlns=\"http://www.w3.org/2000/svg\" xmlns:xlink=\"http://www.w3.org/1999/xlink\" style=\"color: currentColor; background-color: transparent;\"><rect width=\"100%\" height=\"100%\"></rect></svg>*</span><span class=\"plot-d6a7b5-swatch\"><svg width=\"15\" height=\"15\" fill=\"#76b7b2\" xmlns=\"http://www.w3.org/2000/svg\" xmlns:xlink=\"http://www.w3.org/1999/xlink\" style=\"color: currentColor; background-color: transparent;\"><rect width=\"100%\" height=\"100%\"></rect></svg>+</span><span class=\"plot-d6a7b5-swatch\"><svg width=\"15\" height=\"15\" fill=\"#59a14f\" xmlns=\"http://www.w3.org/2000/svg\" xmlns:xlink=\"http://www.w3.org/1999/xlink\" style=\"color: currentColor; background-color: transparent;\"><rect width=\"100%\" height=\"100%\"></rect></svg>.</span><span class=\"plot-d6a7b5-swatch\"><svg width=\"15\" height=\"15\" fill=\"#edc949\" xmlns=\"http://www.w3.org/2000/svg\" xmlns:xlink=\"http://www.w3.org/1999/xlink\" style=\"color: currentColor; background-color: transparent;\"><rect width=\"100%\" height=\"100%\"></rect></svg>N</span></div><svg class=\"plot-d6a7b5\" fill=\"currentColor\" font-family=\"system-ui, sans-serif\" font-size=\"10\" text-anchor=\"middle\" width=\"300\" height=\"300\" viewBox=\"0 0 300 300\" style=\"background-color: rgb(17, 17, 17); color: rgb(238, 238, 238);\" xmlns=\"http://www.w3.org/2000/svg\" xmlns:xlink=\"http://www.w3.org/1999/xlink\"><style>:where(.plot-d6a7b5) {\n",
       "  --plot-background: white;\n",
       "  display: block;\n",
       "  height: auto;\n",
       "  height: intrinsic;\n",
       "  max-width: 100%;\n",
       "}\n",
       ":where(.plot-d6a7b5 text),\n",
       ":where(.plot-d6a7b5 tspan) {\n",
       "  white-space: pre;\n",
       "}</style><g aria-label=\"y-axis tick\" aria-hidden=\"true\" fill=\"none\" stroke=\"currentColor\"><path transform=\"translate(0,300)\" d=\"M0,0L-6,0\"></path><path transform=\"translate(0,275)\" d=\"M0,0L-6,0\"></path><path transform=\"translate(0,250)\" d=\"M0,0L-6,0\"></path><path transform=\"translate(0,225)\" d=\"M0,0L-6,0\"></path><path transform=\"translate(0,200)\" d=\"M0,0L-6,0\"></path><path transform=\"translate(0,175)\" d=\"M0,0L-6,0\"></path><path transform=\"translate(0,150)\" d=\"M0,0L-6,0\"></path><path transform=\"translate(0,125)\" d=\"M0,0L-6,0\"></path><path transform=\"translate(0,100)\" d=\"M0,0L-6,0\"></path><path transform=\"translate(0,75)\" d=\"M0,0L-6,0\"></path><path transform=\"translate(0,50)\" d=\"M0,0L-6,0\"></path><path transform=\"translate(0,25)\" d=\"M0,0L-6,0\"></path><path transform=\"translate(0,0)\" d=\"M0,0L-6,0\"></path></g><g aria-label=\"y-axis tick label\" text-anchor=\"end\" font-variant=\"tabular-nums\" transform=\"translate(-9,0)\"><text y=\"0.32em\" transform=\"translate(0,300)\">12</text><text y=\"0.32em\" transform=\"translate(0,275)\">11</text><text y=\"0.32em\" transform=\"translate(0,250)\">10</text><text y=\"0.32em\" transform=\"translate(0,225)\">9</text><text y=\"0.32em\" transform=\"translate(0,200)\">8</text><text y=\"0.32em\" transform=\"translate(0,175)\">7</text><text y=\"0.32em\" transform=\"translate(0,150)\">6</text><text y=\"0.32em\" transform=\"translate(0,125)\">5</text><text y=\"0.32em\" transform=\"translate(0,100)\">4</text><text y=\"0.32em\" transform=\"translate(0,75)\">3</text><text y=\"0.32em\" transform=\"translate(0,50)\">2</text><text y=\"0.32em\" transform=\"translate(0,25)\">1</text><text y=\"0.32em\" transform=\"translate(0,0)\">0</text></g><g aria-label=\"x-axis tick\" aria-hidden=\"true\" fill=\"none\" stroke=\"currentColor\"><path transform=\"translate(0,0)\" d=\"M0,0L0,-6\"></path><path transform=\"translate(125,0)\" d=\"M0,0L0,-6\"></path><path transform=\"translate(250,0)\" d=\"M0,0L0,-6\"></path></g><g aria-label=\"x-axis tick label\" font-variant=\"tabular-nums\" transform=\"translate(0,-9)\"><text transform=\"translate(0,0)\">0</text><text transform=\"translate(125,0)\">5</text><text transform=\"translate(250,0)\">10</text></g><g aria-label=\"raster\"><image transform=\"translate(0,0) scale(1,1)\" width=\"300\" height=\"300\" preserveAspectRatio=\"none\" image-rendering=\"pixelated\" href=\"data:image/png;base64,iVBORw0KGgoAAAANSUhEUgAAAAwAAAAMCAYAAABWdVznAAAABmJLR0QA/wD/AP+gvaeTAAAApElEQVQokWOMXOj/n4EEwMLAwMAwReMXXCDnBhsDLjEGBgYGRnQbOrZxMVR4fcNvAwxM0fjFwKDxi4EBjy0YNiCDrzciGLg1VuD3w5c+AbiT0BXDNSB7igGqWFYsmeHxq7lww2BqMP0Ad/NcFIUoNqB7DLsBWGxgYGBgmPn2LkO6sDJDxzYuhhwMHyBpgJn2m0GWgeEGAwNP0QeGKVhsxhus2AAAGXc/MRaSRnwAAAAASUVORK5CYII=\"></image></g><g aria-label=\"text\" font-size=\"20.583333333333332\"><text y=\"0.32em\" transform=\"translate(12.5,12.5)\">.</text><text y=\"0.32em\" transform=\"translate(37.5,12.5)\">.</text><text y=\"0.32em\" transform=\"translate(62.5,12.5)\">.</text><text y=\"0.32em\" transform=\"translate(87.5,12.5)\">.</text><text y=\"0.32em\" transform=\"translate(112.5,12.5)\">.</text><text y=\"0.32em\" transform=\"translate(137.5,12.5)\">.</text><text y=\"0.32em\" transform=\"translate(162.5,12.5)\">.</text><text y=\"0.32em\" transform=\"translate(187.5,12.5)\">.</text><text y=\"0.32em\" transform=\"translate(212.5,12.5)\">.</text><text y=\"0.32em\" transform=\"translate(237.5,12.5)\">.</text><text y=\"0.32em\" transform=\"translate(262.5,12.5)\">.</text><text y=\"0.32em\" transform=\"translate(287.5,12.5)\">.</text><text y=\"0.32em\" transform=\"translate(12.5,37.5)\">.</text><text y=\"0.32em\" transform=\"translate(37.5,37.5)\">4</text><text y=\"0.32em\" transform=\"translate(62.5,37.5)\">6</text><text y=\"0.32em\" transform=\"translate(87.5,37.5)\">7</text><text y=\"0.32em\" transform=\"translate(112.5,37.5)\">.</text><text y=\"0.32em\" transform=\"translate(137.5,37.5)\">.</text><text y=\"0.32em\" transform=\"translate(162.5,37.5)\">1</text><text y=\"0.32em\" transform=\"translate(187.5,37.5)\">1</text><text y=\"0.32em\" transform=\"translate(212.5,37.5)\">4</text><text y=\"0.32em\" transform=\"translate(237.5,37.5)\">.</text><text y=\"0.32em\" transform=\"translate(262.5,37.5)\">.</text><text y=\"0.32em\" transform=\"translate(287.5,37.5)\">.</text><text y=\"0.32em\" transform=\"translate(12.5,62.5)\">.</text><text y=\"0.32em\" transform=\"translate(37.5,62.5)\">.</text><text y=\"0.32em\" transform=\"translate(62.5,62.5)\">.</text><text y=\"0.32em\" transform=\"translate(87.5,62.5)\">.</text><text y=\"0.32em\" transform=\"translate(112.5,62.5)\">*</text><text y=\"0.32em\" transform=\"translate(137.5,62.5)\">.</text><text y=\"0.32em\" transform=\"translate(162.5,62.5)\">.</text><text y=\"0.32em\" transform=\"translate(187.5,62.5)\">.</text><text y=\"0.32em\" transform=\"translate(212.5,62.5)\">.</text><text y=\"0.32em\" transform=\"translate(237.5,62.5)\">.</text><text y=\"0.32em\" transform=\"translate(262.5,62.5)\">.</text><text y=\"0.32em\" transform=\"translate(287.5,62.5)\">.</text><text y=\"0.32em\" transform=\"translate(12.5,87.5)\">.</text><text y=\"0.32em\" transform=\"translate(37.5,87.5)\">.</text><text y=\"0.32em\" transform=\"translate(62.5,87.5)\">.</text><text y=\"0.32em\" transform=\"translate(87.5,87.5)\">3</text><text y=\"0.32em\" transform=\"translate(112.5,87.5)\">5</text><text y=\"0.32em\" transform=\"translate(137.5,87.5)\">.</text><text y=\"0.32em\" transform=\"translate(162.5,87.5)\">.</text><text y=\"0.32em\" transform=\"translate(187.5,87.5)\">6</text><text y=\"0.32em\" transform=\"translate(212.5,87.5)\">3</text><text y=\"0.32em\" transform=\"translate(237.5,87.5)\">3</text><text y=\"0.32em\" transform=\"translate(262.5,87.5)\">.</text><text y=\"0.32em\" transform=\"translate(287.5,87.5)\">.</text><text y=\"0.32em\" transform=\"translate(12.5,112.5)\">.</text><text y=\"0.32em\" transform=\"translate(37.5,112.5)\">.</text><text y=\"0.32em\" transform=\"translate(62.5,112.5)\">.</text><text y=\"0.32em\" transform=\"translate(87.5,112.5)\">.</text><text y=\"0.32em\" transform=\"translate(112.5,112.5)\">.</text><text y=\"0.32em\" transform=\"translate(137.5,112.5)\">.</text><text y=\"0.32em\" transform=\"translate(162.5,112.5)\">.</text><text y=\"0.32em\" transform=\"translate(187.5,112.5)\">#</text><text y=\"0.32em\" transform=\"translate(212.5,112.5)\">.</text><text y=\"0.32em\" transform=\"translate(237.5,112.5)\">.</text><text y=\"0.32em\" transform=\"translate(262.5,112.5)\">.</text><text y=\"0.32em\" transform=\"translate(287.5,112.5)\">.</text><text y=\"0.32em\" transform=\"translate(12.5,137.5)\">.</text><text y=\"0.32em\" transform=\"translate(37.5,137.5)\">6</text><text y=\"0.32em\" transform=\"translate(62.5,137.5)\">1</text><text y=\"0.32em\" transform=\"translate(87.5,137.5)\">7</text><text y=\"0.32em\" transform=\"translate(112.5,137.5)\">*</text><text y=\"0.32em\" transform=\"translate(137.5,137.5)\">.</text><text y=\"0.32em\" transform=\"translate(162.5,137.5)\">.</text><text y=\"0.32em\" transform=\"translate(187.5,137.5)\">.</text><text y=\"0.32em\" transform=\"translate(212.5,137.5)\">.</text><text y=\"0.32em\" transform=\"translate(237.5,137.5)\">.</text><text y=\"0.32em\" transform=\"translate(262.5,137.5)\">.</text><text y=\"0.32em\" transform=\"translate(287.5,137.5)\">.</text><text y=\"0.32em\" transform=\"translate(12.5,162.5)\">.</text><text y=\"0.32em\" transform=\"translate(37.5,162.5)\">.</text><text y=\"0.32em\" transform=\"translate(62.5,162.5)\">.</text><text y=\"0.32em\" transform=\"translate(87.5,162.5)\">.</text><text y=\"0.32em\" transform=\"translate(112.5,162.5)\">.</text><text y=\"0.32em\" transform=\"translate(137.5,162.5)\">.</text><text y=\"0.32em\" transform=\"translate(162.5,162.5)\">+</text><text y=\"0.32em\" transform=\"translate(187.5,162.5)\">.</text><text y=\"0.32em\" transform=\"translate(212.5,162.5)\">5</text><text y=\"0.32em\" transform=\"translate(237.5,162.5)\">8</text><text y=\"0.32em\" transform=\"translate(262.5,162.5)\">.</text><text y=\"0.32em\" transform=\"translate(287.5,162.5)\">.</text><text y=\"0.32em\" transform=\"translate(12.5,187.5)\">.</text><text y=\"0.32em\" transform=\"translate(37.5,187.5)\">.</text><text y=\"0.32em\" transform=\"translate(62.5,187.5)\">.</text><text y=\"0.32em\" transform=\"translate(87.5,187.5)\">5</text><text y=\"0.32em\" transform=\"translate(112.5,187.5)\">9</text><text y=\"0.32em\" transform=\"translate(137.5,187.5)\">2</text><text y=\"0.32em\" transform=\"translate(162.5,187.5)\">.</text><text y=\"0.32em\" transform=\"translate(187.5,187.5)\">.</text><text y=\"0.32em\" transform=\"translate(212.5,187.5)\">.</text><text y=\"0.32em\" transform=\"translate(237.5,187.5)\">.</text><text y=\"0.32em\" transform=\"translate(262.5,187.5)\">.</text><text y=\"0.32em\" transform=\"translate(287.5,187.5)\">.</text><text y=\"0.32em\" transform=\"translate(12.5,212.5)\">.</text><text y=\"0.32em\" transform=\"translate(37.5,212.5)\">.</text><text y=\"0.32em\" transform=\"translate(62.5,212.5)\">.</text><text y=\"0.32em\" transform=\"translate(87.5,212.5)\">.</text><text y=\"0.32em\" transform=\"translate(112.5,212.5)\">.</text><text y=\"0.32em\" transform=\"translate(137.5,212.5)\">.</text><text y=\"0.32em\" transform=\"translate(162.5,212.5)\">.</text><text y=\"0.32em\" transform=\"translate(187.5,212.5)\">7</text><text y=\"0.32em\" transform=\"translate(212.5,212.5)\">5</text><text y=\"0.32em\" transform=\"translate(237.5,212.5)\">5</text><text y=\"0.32em\" transform=\"translate(262.5,212.5)\">.</text><text y=\"0.32em\" transform=\"translate(287.5,212.5)\">.</text><text y=\"0.32em\" transform=\"translate(12.5,237.5)\">.</text><text y=\"0.32em\" transform=\"translate(37.5,237.5)\">.</text><text y=\"0.32em\" transform=\"translate(62.5,237.5)\">.</text><text y=\"0.32em\" transform=\"translate(87.5,237.5)\">.</text><text y=\"0.32em\" transform=\"translate(112.5,237.5)\">$</text><text y=\"0.32em\" transform=\"translate(137.5,237.5)\">.</text><text y=\"0.32em\" transform=\"translate(162.5,237.5)\">*</text><text y=\"0.32em\" transform=\"translate(187.5,237.5)\">.</text><text y=\"0.32em\" transform=\"translate(212.5,237.5)\">.</text><text y=\"0.32em\" transform=\"translate(237.5,237.5)\">.</text><text y=\"0.32em\" transform=\"translate(262.5,237.5)\">.</text><text y=\"0.32em\" transform=\"translate(287.5,237.5)\">.</text><text y=\"0.32em\" transform=\"translate(12.5,262.5)\">.</text><text y=\"0.32em\" transform=\"translate(37.5,262.5)\">.</text><text y=\"0.32em\" transform=\"translate(62.5,262.5)\">6</text><text y=\"0.32em\" transform=\"translate(87.5,262.5)\">6</text><text y=\"0.32em\" transform=\"translate(112.5,262.5)\">4</text><text y=\"0.32em\" transform=\"translate(137.5,262.5)\">.</text><text y=\"0.32em\" transform=\"translate(162.5,262.5)\">5</text><text y=\"0.32em\" transform=\"translate(187.5,262.5)\">9</text><text y=\"0.32em\" transform=\"translate(212.5,262.5)\">8</text><text y=\"0.32em\" transform=\"translate(237.5,262.5)\">.</text><text y=\"0.32em\" transform=\"translate(262.5,262.5)\">.</text><text y=\"0.32em\" transform=\"translate(287.5,262.5)\">.</text><text y=\"0.32em\" transform=\"translate(12.5,287.5)\">.</text><text y=\"0.32em\" transform=\"translate(37.5,287.5)\">.</text><text y=\"0.32em\" transform=\"translate(62.5,287.5)\">.</text><text y=\"0.32em\" transform=\"translate(87.5,287.5)\">.</text><text y=\"0.32em\" transform=\"translate(112.5,287.5)\">.</text><text y=\"0.32em\" transform=\"translate(137.5,287.5)\">.</text><text y=\"0.32em\" transform=\"translate(162.5,287.5)\">.</text><text y=\"0.32em\" transform=\"translate(187.5,287.5)\">.</text><text y=\"0.32em\" transform=\"translate(212.5,287.5)\">.</text><text y=\"0.32em\" transform=\"translate(237.5,287.5)\">.</text><text y=\"0.32em\" transform=\"translate(262.5,287.5)\">.</text><text y=\"0.32em\" transform=\"translate(287.5,287.5)\">.</text></g><g aria-label=\"rect\" fill=\"none\" stroke=\"red\" stroke-width=\"2\"><rect x=\"80\" y=\"29.999999999999996\" width=\"65\" height=\"65\"></rect><rect x=\"80\" y=\"105.00000000000001\" width=\"65\" height=\"64.99999999999999\"></rect><rect x=\"130\" y=\"204.99999999999997\" width=\"65\" height=\"65.00000000000003\"></rect></g></svg></figure>"
      ],
      "text/plain": [
       "<IPython.core.display.HTML object>"
      ]
     },
     "metadata": {},
     "output_type": "display_data"
    }
   ],
   "source": [
    "example_input_plotter.copy().stack(\n",
    "    neighborhood_mark_layer(gears(parsed_example_input))\n",
    ").plot()"
   ]
  },
  {
   "cell_type": "markdown",
   "metadata": {},
   "source": [
    "The top and bottom gears touch exactly two numbers. The middle gear is excluded from the solution as it only touches one number.\n"
   ]
  },
  {
   "cell_type": "markdown",
   "metadata": {},
   "source": [
    "## With Actual Input\n"
   ]
  },
  {
   "cell_type": "code",
   "execution_count": 16,
   "metadata": {
    "execution": {
     "iopub.execute_input": "2024-11-25T23:09:55.509649Z",
     "iopub.status.busy": "2024-11-25T23:09:55.509413Z",
     "iopub.status.idle": "2024-11-25T23:09:55.522750Z",
     "shell.execute_reply": "2024-11-25T23:09:55.522117Z"
    }
   },
   "outputs": [
    {
     "data": {
      "text/html": [
       "<div><svg style=\"position: absolute; width: 0; height: 0; overflow: hidden\">\n",
       "<defs>\n",
       "<symbol id=\"icon-database\" viewBox=\"0 0 32 32\">\n",
       "<path d=\"M16 0c-8.837 0-16 2.239-16 5v4c0 2.761 7.163 5 16 5s16-2.239 16-5v-4c0-2.761-7.163-5-16-5z\"></path>\n",
       "<path d=\"M16 17c-8.837 0-16-2.239-16-5v6c0 2.761 7.163 5 16 5s16-2.239 16-5v-6c0 2.761-7.163 5-16 5z\"></path>\n",
       "<path d=\"M16 26c-8.837 0-16-2.239-16-5v6c0 2.761 7.163 5 16 5s16-2.239 16-5v-6c0 2.761-7.163 5-16 5z\"></path>\n",
       "</symbol>\n",
       "<symbol id=\"icon-file-text2\" viewBox=\"0 0 32 32\">\n",
       "<path d=\"M28.681 7.159c-0.694-0.947-1.662-2.053-2.724-3.116s-2.169-2.030-3.116-2.724c-1.612-1.182-2.393-1.319-2.841-1.319h-15.5c-1.378 0-2.5 1.121-2.5 2.5v27c0 1.378 1.122 2.5 2.5 2.5h23c1.378 0 2.5-1.122 2.5-2.5v-19.5c0-0.448-0.137-1.23-1.319-2.841zM24.543 5.457c0.959 0.959 1.712 1.825 2.268 2.543h-4.811v-4.811c0.718 0.556 1.584 1.309 2.543 2.268zM28 29.5c0 0.271-0.229 0.5-0.5 0.5h-23c-0.271 0-0.5-0.229-0.5-0.5v-27c0-0.271 0.229-0.5 0.5-0.5 0 0 15.499-0 15.5 0v7c0 0.552 0.448 1 1 1h7v19.5z\"></path>\n",
       "<path d=\"M23 26h-14c-0.552 0-1-0.448-1-1s0.448-1 1-1h14c0.552 0 1 0.448 1 1s-0.448 1-1 1z\"></path>\n",
       "<path d=\"M23 22h-14c-0.552 0-1-0.448-1-1s0.448-1 1-1h14c0.552 0 1 0.448 1 1s-0.448 1-1 1z\"></path>\n",
       "<path d=\"M23 18h-14c-0.552 0-1-0.448-1-1s0.448-1 1-1h14c0.552 0 1 0.448 1 1s-0.448 1-1 1z\"></path>\n",
       "</symbol>\n",
       "</defs>\n",
       "</svg>\n",
       "<style>/* CSS stylesheet for displaying xarray objects in jupyterlab.\n",
       " *\n",
       " */\n",
       "\n",
       ":root {\n",
       "  --xr-font-color0: var(--jp-content-font-color0, rgba(0, 0, 0, 1));\n",
       "  --xr-font-color2: var(--jp-content-font-color2, rgba(0, 0, 0, 0.54));\n",
       "  --xr-font-color3: var(--jp-content-font-color3, rgba(0, 0, 0, 0.38));\n",
       "  --xr-border-color: var(--jp-border-color2, #e0e0e0);\n",
       "  --xr-disabled-color: var(--jp-layout-color3, #bdbdbd);\n",
       "  --xr-background-color: var(--jp-layout-color0, white);\n",
       "  --xr-background-color-row-even: var(--jp-layout-color1, white);\n",
       "  --xr-background-color-row-odd: var(--jp-layout-color2, #eeeeee);\n",
       "}\n",
       "\n",
       "html[theme=\"dark\"],\n",
       "html[data-theme=\"dark\"],\n",
       "body[data-theme=\"dark\"],\n",
       "body.vscode-dark {\n",
       "  --xr-font-color0: rgba(255, 255, 255, 1);\n",
       "  --xr-font-color2: rgba(255, 255, 255, 0.54);\n",
       "  --xr-font-color3: rgba(255, 255, 255, 0.38);\n",
       "  --xr-border-color: #1f1f1f;\n",
       "  --xr-disabled-color: #515151;\n",
       "  --xr-background-color: #111111;\n",
       "  --xr-background-color-row-even: #111111;\n",
       "  --xr-background-color-row-odd: #313131;\n",
       "}\n",
       "\n",
       ".xr-wrap {\n",
       "  display: block !important;\n",
       "  min-width: 300px;\n",
       "  max-width: 700px;\n",
       "}\n",
       "\n",
       ".xr-text-repr-fallback {\n",
       "  /* fallback to plain text repr when CSS is not injected (untrusted notebook) */\n",
       "  display: none;\n",
       "}\n",
       "\n",
       ".xr-header {\n",
       "  padding-top: 6px;\n",
       "  padding-bottom: 6px;\n",
       "  margin-bottom: 4px;\n",
       "  border-bottom: solid 1px var(--xr-border-color);\n",
       "}\n",
       "\n",
       ".xr-header > div,\n",
       ".xr-header > ul {\n",
       "  display: inline;\n",
       "  margin-top: 0;\n",
       "  margin-bottom: 0;\n",
       "}\n",
       "\n",
       ".xr-obj-type,\n",
       ".xr-array-name {\n",
       "  margin-left: 2px;\n",
       "  margin-right: 10px;\n",
       "}\n",
       "\n",
       ".xr-obj-type {\n",
       "  color: var(--xr-font-color2);\n",
       "}\n",
       "\n",
       ".xr-sections {\n",
       "  padding-left: 0 !important;\n",
       "  display: grid;\n",
       "  grid-template-columns: 150px auto auto 1fr 0 20px 0 20px;\n",
       "}\n",
       "\n",
       ".xr-section-item {\n",
       "  display: contents;\n",
       "}\n",
       "\n",
       ".xr-section-item input {\n",
       "  display: inline-block;\n",
       "  opacity: 0;\n",
       "  height: 0;\n",
       "}\n",
       "\n",
       ".xr-section-item input + label {\n",
       "  color: var(--xr-disabled-color);\n",
       "}\n",
       "\n",
       ".xr-section-item input:enabled + label {\n",
       "  cursor: pointer;\n",
       "  color: var(--xr-font-color2);\n",
       "}\n",
       "\n",
       ".xr-section-item input:focus + label {\n",
       "  border: 2px solid var(--xr-font-color0);\n",
       "}\n",
       "\n",
       ".xr-section-item input:enabled + label:hover {\n",
       "  color: var(--xr-font-color0);\n",
       "}\n",
       "\n",
       ".xr-section-summary {\n",
       "  grid-column: 1;\n",
       "  color: var(--xr-font-color2);\n",
       "  font-weight: 500;\n",
       "}\n",
       "\n",
       ".xr-section-summary > span {\n",
       "  display: inline-block;\n",
       "  padding-left: 0.5em;\n",
       "}\n",
       "\n",
       ".xr-section-summary-in:disabled + label {\n",
       "  color: var(--xr-font-color2);\n",
       "}\n",
       "\n",
       ".xr-section-summary-in + label:before {\n",
       "  display: inline-block;\n",
       "  content: \"►\";\n",
       "  font-size: 11px;\n",
       "  width: 15px;\n",
       "  text-align: center;\n",
       "}\n",
       "\n",
       ".xr-section-summary-in:disabled + label:before {\n",
       "  color: var(--xr-disabled-color);\n",
       "}\n",
       "\n",
       ".xr-section-summary-in:checked + label:before {\n",
       "  content: \"▼\";\n",
       "}\n",
       "\n",
       ".xr-section-summary-in:checked + label > span {\n",
       "  display: none;\n",
       "}\n",
       "\n",
       ".xr-section-summary,\n",
       ".xr-section-inline-details {\n",
       "  padding-top: 4px;\n",
       "  padding-bottom: 4px;\n",
       "}\n",
       "\n",
       ".xr-section-inline-details {\n",
       "  grid-column: 2 / -1;\n",
       "}\n",
       "\n",
       ".xr-section-details {\n",
       "  display: none;\n",
       "  grid-column: 1 / -1;\n",
       "  margin-bottom: 5px;\n",
       "}\n",
       "\n",
       ".xr-section-summary-in:checked ~ .xr-section-details {\n",
       "  display: contents;\n",
       "}\n",
       "\n",
       ".xr-array-wrap {\n",
       "  grid-column: 1 / -1;\n",
       "  display: grid;\n",
       "  grid-template-columns: 20px auto;\n",
       "}\n",
       "\n",
       ".xr-array-wrap > label {\n",
       "  grid-column: 1;\n",
       "  vertical-align: top;\n",
       "}\n",
       "\n",
       ".xr-preview {\n",
       "  color: var(--xr-font-color3);\n",
       "}\n",
       "\n",
       ".xr-array-preview,\n",
       ".xr-array-data {\n",
       "  padding: 0 5px !important;\n",
       "  grid-column: 2;\n",
       "}\n",
       "\n",
       ".xr-array-data,\n",
       ".xr-array-in:checked ~ .xr-array-preview {\n",
       "  display: none;\n",
       "}\n",
       "\n",
       ".xr-array-in:checked ~ .xr-array-data,\n",
       ".xr-array-preview {\n",
       "  display: inline-block;\n",
       "}\n",
       "\n",
       ".xr-dim-list {\n",
       "  display: inline-block !important;\n",
       "  list-style: none;\n",
       "  padding: 0 !important;\n",
       "  margin: 0;\n",
       "}\n",
       "\n",
       ".xr-dim-list li {\n",
       "  display: inline-block;\n",
       "  padding: 0;\n",
       "  margin: 0;\n",
       "}\n",
       "\n",
       ".xr-dim-list:before {\n",
       "  content: \"(\";\n",
       "}\n",
       "\n",
       ".xr-dim-list:after {\n",
       "  content: \")\";\n",
       "}\n",
       "\n",
       ".xr-dim-list li:not(:last-child):after {\n",
       "  content: \",\";\n",
       "  padding-right: 5px;\n",
       "}\n",
       "\n",
       ".xr-has-index {\n",
       "  font-weight: bold;\n",
       "}\n",
       "\n",
       ".xr-var-list,\n",
       ".xr-var-item {\n",
       "  display: contents;\n",
       "}\n",
       "\n",
       ".xr-var-item > div,\n",
       ".xr-var-item label,\n",
       ".xr-var-item > .xr-var-name span {\n",
       "  background-color: var(--xr-background-color-row-even);\n",
       "  margin-bottom: 0;\n",
       "}\n",
       "\n",
       ".xr-var-item > .xr-var-name:hover span {\n",
       "  padding-right: 5px;\n",
       "}\n",
       "\n",
       ".xr-var-list > li:nth-child(odd) > div,\n",
       ".xr-var-list > li:nth-child(odd) > label,\n",
       ".xr-var-list > li:nth-child(odd) > .xr-var-name span {\n",
       "  background-color: var(--xr-background-color-row-odd);\n",
       "}\n",
       "\n",
       ".xr-var-name {\n",
       "  grid-column: 1;\n",
       "}\n",
       "\n",
       ".xr-var-dims {\n",
       "  grid-column: 2;\n",
       "}\n",
       "\n",
       ".xr-var-dtype {\n",
       "  grid-column: 3;\n",
       "  text-align: right;\n",
       "  color: var(--xr-font-color2);\n",
       "}\n",
       "\n",
       ".xr-var-preview {\n",
       "  grid-column: 4;\n",
       "}\n",
       "\n",
       ".xr-index-preview {\n",
       "  grid-column: 2 / 5;\n",
       "  color: var(--xr-font-color2);\n",
       "}\n",
       "\n",
       ".xr-var-name,\n",
       ".xr-var-dims,\n",
       ".xr-var-dtype,\n",
       ".xr-preview,\n",
       ".xr-attrs dt {\n",
       "  white-space: nowrap;\n",
       "  overflow: hidden;\n",
       "  text-overflow: ellipsis;\n",
       "  padding-right: 10px;\n",
       "}\n",
       "\n",
       ".xr-var-name:hover,\n",
       ".xr-var-dims:hover,\n",
       ".xr-var-dtype:hover,\n",
       ".xr-attrs dt:hover {\n",
       "  overflow: visible;\n",
       "  width: auto;\n",
       "  z-index: 1;\n",
       "}\n",
       "\n",
       ".xr-var-attrs,\n",
       ".xr-var-data,\n",
       ".xr-index-data {\n",
       "  display: none;\n",
       "  background-color: var(--xr-background-color) !important;\n",
       "  padding-bottom: 5px !important;\n",
       "}\n",
       "\n",
       ".xr-var-attrs-in:checked ~ .xr-var-attrs,\n",
       ".xr-var-data-in:checked ~ .xr-var-data,\n",
       ".xr-index-data-in:checked ~ .xr-index-data {\n",
       "  display: block;\n",
       "}\n",
       "\n",
       ".xr-var-data > table {\n",
       "  float: right;\n",
       "}\n",
       "\n",
       ".xr-var-name span,\n",
       ".xr-var-data,\n",
       ".xr-index-name div,\n",
       ".xr-index-data,\n",
       ".xr-attrs {\n",
       "  padding-left: 25px !important;\n",
       "}\n",
       "\n",
       ".xr-attrs,\n",
       ".xr-var-attrs,\n",
       ".xr-var-data,\n",
       ".xr-index-data {\n",
       "  grid-column: 1 / -1;\n",
       "}\n",
       "\n",
       "dl.xr-attrs {\n",
       "  padding: 0;\n",
       "  margin: 0;\n",
       "  display: grid;\n",
       "  grid-template-columns: 125px auto;\n",
       "}\n",
       "\n",
       ".xr-attrs dt,\n",
       ".xr-attrs dd {\n",
       "  padding: 0;\n",
       "  margin: 0;\n",
       "  float: left;\n",
       "  padding-right: 10px;\n",
       "  width: auto;\n",
       "}\n",
       "\n",
       ".xr-attrs dt {\n",
       "  font-weight: normal;\n",
       "  grid-column: 1;\n",
       "}\n",
       "\n",
       ".xr-attrs dt:hover span {\n",
       "  display: inline-block;\n",
       "  background: var(--xr-background-color);\n",
       "  padding-right: 10px;\n",
       "}\n",
       "\n",
       ".xr-attrs dd {\n",
       "  grid-column: 2;\n",
       "  white-space: pre-wrap;\n",
       "  word-break: break-all;\n",
       "}\n",
       "\n",
       ".xr-icon-database,\n",
       ".xr-icon-file-text2,\n",
       ".xr-no-icon {\n",
       "  display: inline-block;\n",
       "  vertical-align: middle;\n",
       "  width: 1em;\n",
       "  height: 1.5em !important;\n",
       "  stroke-width: 0;\n",
       "  stroke: currentColor;\n",
       "  fill: currentColor;\n",
       "}\n",
       "</style><pre class='xr-text-repr-fallback'>&lt;xarray.DataArray (row: 142, col: 142)&gt; Size: 20kB\n",
       "array([[46, 46, 46, ..., 46, 46, 46],\n",
       "       [46, 46, 46, ..., 46, 46, 46],\n",
       "       [46, 53, 54, ..., 46, 46, 46],\n",
       "       ...,\n",
       "       [46, 46, 46, ..., 46, 46, 46],\n",
       "       [46, 57, 53, ..., 52, 54, 46],\n",
       "       [46, 46, 46, ..., 46, 46, 46]], dtype=uint8)\n",
       "Dimensions without coordinates: row, col</pre><div class='xr-wrap' style='display:none'><div class='xr-header'><div class='xr-obj-type'>xarray.DataArray</div><div class='xr-array-name'></div><ul class='xr-dim-list'><li><span>row</span>: 142</li><li><span>col</span>: 142</li></ul></div><ul class='xr-sections'><li class='xr-section-item'><div class='xr-array-wrap'><input id='section-8af09b17-d78a-4d28-90c3-a027d32456ec' class='xr-array-in' type='checkbox' checked><label for='section-8af09b17-d78a-4d28-90c3-a027d32456ec' title='Show/hide data repr'><svg class='icon xr-icon-database'><use xlink:href='#icon-database'></use></svg></label><div class='xr-array-preview xr-preview'><span>46 46 46 46 46 46 46 46 46 46 46 ... 46 46 46 46 46 46 46 46 46 46 46</span></div><div class='xr-array-data'><pre>array([[46, 46, 46, ..., 46, 46, 46],\n",
       "       [46, 46, 46, ..., 46, 46, 46],\n",
       "       [46, 53, 54, ..., 46, 46, 46],\n",
       "       ...,\n",
       "       [46, 46, 46, ..., 46, 46, 46],\n",
       "       [46, 57, 53, ..., 52, 54, 46],\n",
       "       [46, 46, 46, ..., 46, 46, 46]], dtype=uint8)</pre></div></div></li><li class='xr-section-item'><input id='section-e902b5bc-86d3-4649-870a-4314669a60b3' class='xr-section-summary-in' type='checkbox' disabled ><label for='section-e902b5bc-86d3-4649-870a-4314669a60b3' class='xr-section-summary'  title='Expand/collapse section'>Coordinates: <span>(0)</span></label><div class='xr-section-inline-details'></div><div class='xr-section-details'><ul class='xr-var-list'></ul></div></li><li class='xr-section-item'><input id='section-0c45d5b5-b73d-41da-b996-5f48f026bd23' class='xr-section-summary-in' type='checkbox' disabled ><label for='section-0c45d5b5-b73d-41da-b996-5f48f026bd23' class='xr-section-summary'  title='Expand/collapse section'>Indexes: <span>(0)</span></label><div class='xr-section-inline-details'></div><div class='xr-section-details'><ul class='xr-var-list'></ul></div></li><li class='xr-section-item'><input id='section-082f39cd-0b1f-4469-9658-57e5a0ee58aa' class='xr-section-summary-in' type='checkbox' disabled ><label for='section-082f39cd-0b1f-4469-9658-57e5a0ee58aa' class='xr-section-summary'  title='Expand/collapse section'>Attributes: <span>(0)</span></label><div class='xr-section-inline-details'></div><div class='xr-section-details'><dl class='xr-attrs'></dl></div></li></ul></div></div>"
      ],
      "text/plain": [
       "<xarray.DataArray (row: 142, col: 142)> Size: 20kB\n",
       "array([[46, 46, 46, ..., 46, 46, 46],\n",
       "       [46, 46, 46, ..., 46, 46, 46],\n",
       "       [46, 53, 54, ..., 46, 46, 46],\n",
       "       ...,\n",
       "       [46, 46, 46, ..., 46, 46, 46],\n",
       "       [46, 57, 53, ..., 52, 54, 46],\n",
       "       [46, 46, 46, ..., 46, 46, 46]], dtype=uint8)\n",
       "Dimensions without coordinates: row, col"
      ]
     },
     "execution_count": 16,
     "metadata": {},
     "output_type": "execute_result"
    }
   ],
   "source": [
    "parsed_actual_input = xr.DataArray(problem.parse_input_text_file(), dims=(\"row\", \"col\"))\n",
    "parsed_actual_input"
   ]
  },
  {
   "cell_type": "code",
   "execution_count": 17,
   "metadata": {
    "execution": {
     "iopub.execute_input": "2024-11-25T23:09:55.525520Z",
     "iopub.status.busy": "2024-11-25T23:09:55.525265Z",
     "iopub.status.idle": "2024-11-25T23:09:55.531865Z",
     "shell.execute_reply": "2024-11-25T23:09:55.531351Z"
    }
   },
   "outputs": [],
   "source": [
    "plot_width = parsed_actual_input[\"col\"].size * 3\n",
    "\n",
    "actual_input_plotter = ascii_2d_numpy_array_plotter(\n",
    "    parsed_actual_input,\n",
    "    obfuscate=True,\n",
    "    text=False,\n",
    "    width=plot_width,\n",
    "    height=plot_width,\n",
    "    scheme=\"viridis\",\n",
    "    aspectRatio=1,\n",
    ")"
   ]
  },
  {
   "cell_type": "code",
   "execution_count": 18,
   "metadata": {
    "execution": {
     "iopub.execute_input": "2024-11-25T23:09:55.534289Z",
     "iopub.status.busy": "2024-11-25T23:09:55.534096Z",
     "iopub.status.idle": "2024-11-25T23:09:55.640899Z",
     "shell.execute_reply": "2024-11-25T23:09:55.640284Z"
    }
   },
   "outputs": [
    {
     "name": "stdout",
     "output_type": "stream",
     "text": [
      "Layer #0 <function ObservablePlotXarrayBuilder.create_raster_background_marks.<locals>.callback at 0x7f28116b3d80>\n",
      "Layer #1 <function text_mark_producer.<locals>.callback at 0x7f27c26a1f80>\n"
     ]
    },
    {
     "data": {
      "text/html": [
       "<figure class=\"plot-d6a7b5-figure\" style=\"max-width: initial; padding: 0px 5px 5px 5px; color: currentColor; background-color: transparent;\" typstbg=\"transparent\" typstfg=\"currentColor\" typstcaption=\"currentColor\"><div class=\"plot-d6a7b5-swatches plot-d6a7b5-swatches-wrap\"><style>:where(.plot-d6a7b5-swatches) {\n",
       "  font-family: system-ui, sans-serif;\n",
       "  font-size: 10px;\n",
       "  margin-bottom: 0.5em;\n",
       "}\n",
       ":where(.plot-d6a7b5-swatch > svg) {\n",
       "  margin-right: 0.5em;\n",
       "  overflow: visible;\n",
       "}\n",
       ":where(.plot-d6a7b5-swatches-wrap) {\n",
       "  display: flex;\n",
       "  align-items: center;\n",
       "  min-height: 33px;\n",
       "  flex-wrap: wrap;\n",
       "}\n",
       ":where(.plot-d6a7b5-swatches-wrap .plot-d6a7b5-swatch) {\n",
       "  display: inline-flex;\n",
       "  align-items: center;\n",
       "  margin-right: 1em;\n",
       "}</style><span class=\"plot-d6a7b5-swatch\"><svg width=\"15\" height=\"15\" fill=\"#440154\" xmlns=\"http://www.w3.org/2000/svg\" xmlns:xlink=\"http://www.w3.org/1999/xlink\" style=\"color: currentColor; background-color: transparent;\"><rect width=\"100%\" height=\"100%\"></rect></svg>#</span><span class=\"plot-d6a7b5-swatch\"><svg width=\"15\" height=\"15\" fill=\"#481f70\" xmlns=\"http://www.w3.org/2000/svg\" xmlns:xlink=\"http://www.w3.org/1999/xlink\" style=\"color: currentColor; background-color: transparent;\"><rect width=\"100%\" height=\"100%\"></rect></svg>$</span><span class=\"plot-d6a7b5-swatch\"><svg width=\"15\" height=\"15\" fill=\"#443983\" xmlns=\"http://www.w3.org/2000/svg\" xmlns:xlink=\"http://www.w3.org/1999/xlink\" style=\"color: currentColor; background-color: transparent;\"><rect width=\"100%\" height=\"100%\"></rect></svg>%</span><span class=\"plot-d6a7b5-swatch\"><svg width=\"15\" height=\"15\" fill=\"#3b528b\" xmlns=\"http://www.w3.org/2000/svg\" xmlns:xlink=\"http://www.w3.org/1999/xlink\" style=\"color: currentColor; background-color: transparent;\"><rect width=\"100%\" height=\"100%\"></rect></svg>&amp;</span><span class=\"plot-d6a7b5-swatch\"><svg width=\"15\" height=\"15\" fill=\"#31688e\" xmlns=\"http://www.w3.org/2000/svg\" xmlns:xlink=\"http://www.w3.org/1999/xlink\" style=\"color: currentColor; background-color: transparent;\"><rect width=\"100%\" height=\"100%\"></rect></svg>*</span><span class=\"plot-d6a7b5-swatch\"><svg width=\"15\" height=\"15\" fill=\"#287c8e\" xmlns=\"http://www.w3.org/2000/svg\" xmlns:xlink=\"http://www.w3.org/1999/xlink\" style=\"color: currentColor; background-color: transparent;\"><rect width=\"100%\" height=\"100%\"></rect></svg>+</span><span class=\"plot-d6a7b5-swatch\"><svg width=\"15\" height=\"15\" fill=\"#21918c\" xmlns=\"http://www.w3.org/2000/svg\" xmlns:xlink=\"http://www.w3.org/1999/xlink\" style=\"color: currentColor; background-color: transparent;\"><rect width=\"100%\" height=\"100%\"></rect></svg>-</span><span class=\"plot-d6a7b5-swatch\"><svg width=\"15\" height=\"15\" fill=\"#20a486\" xmlns=\"http://www.w3.org/2000/svg\" xmlns:xlink=\"http://www.w3.org/1999/xlink\" style=\"color: currentColor; background-color: transparent;\"><rect width=\"100%\" height=\"100%\"></rect></svg>.</span><span class=\"plot-d6a7b5-swatch\"><svg width=\"15\" height=\"15\" fill=\"#35b779\" xmlns=\"http://www.w3.org/2000/svg\" xmlns:xlink=\"http://www.w3.org/1999/xlink\" style=\"color: currentColor; background-color: transparent;\"><rect width=\"100%\" height=\"100%\"></rect></svg>/</span><span class=\"plot-d6a7b5-swatch\"><svg width=\"15\" height=\"15\" fill=\"#5ec962\" xmlns=\"http://www.w3.org/2000/svg\" xmlns:xlink=\"http://www.w3.org/1999/xlink\" style=\"color: currentColor; background-color: transparent;\"><rect width=\"100%\" height=\"100%\"></rect></svg>0</span><span class=\"plot-d6a7b5-swatch\"><svg width=\"15\" height=\"15\" fill=\"#90d743\" xmlns=\"http://www.w3.org/2000/svg\" xmlns:xlink=\"http://www.w3.org/1999/xlink\" style=\"color: currentColor; background-color: transparent;\"><rect width=\"100%\" height=\"100%\"></rect></svg>=</span><span class=\"plot-d6a7b5-swatch\"><svg width=\"15\" height=\"15\" fill=\"#c8e020\" xmlns=\"http://www.w3.org/2000/svg\" xmlns:xlink=\"http://www.w3.org/1999/xlink\" style=\"color: currentColor; background-color: transparent;\"><rect width=\"100%\" height=\"100%\"></rect></svg>@</span><span class=\"plot-d6a7b5-swatch\"><svg width=\"15\" height=\"15\" fill=\"#fde725\" xmlns=\"http://www.w3.org/2000/svg\" xmlns:xlink=\"http://www.w3.org/1999/xlink\" style=\"color: currentColor; background-color: transparent;\"><rect width=\"100%\" height=\"100%\"></rect></svg>N</span></div><svg class=\"plot-d6a7b5\" fill=\"currentColor\" font-family=\"system-ui, sans-serif\" font-size=\"10\" text-anchor=\"middle\" width=\"426\" height=\"426\" viewBox=\"0 0 426 426\" style=\"background-color: rgb(17, 17, 17); color: rgb(238, 238, 238);\" xmlns=\"http://www.w3.org/2000/svg\" xmlns:xlink=\"http://www.w3.org/1999/xlink\"><style>:where(.plot-d6a7b5) {\n",
       "  --plot-background: white;\n",
       "  display: block;\n",
       "  height: auto;\n",
       "  height: intrinsic;\n",
       "  max-width: 100%;\n",
       "}\n",
       ":where(.plot-d6a7b5 text),\n",
       ":where(.plot-d6a7b5 tspan) {\n",
       "  white-space: pre;\n",
       "}</style><g aria-label=\"y-axis tick\" aria-hidden=\"true\" fill=\"none\" stroke=\"currentColor\"><path transform=\"translate(0,420)\" d=\"M0,0L-6,0\"></path><path transform=\"translate(0,360)\" d=\"M0,0L-6,0\"></path><path transform=\"translate(0,300)\" d=\"M0,0L-6,0\"></path><path transform=\"translate(0,240)\" d=\"M0,0L-6,0\"></path><path transform=\"translate(0,180)\" d=\"M0,0L-6,0\"></path><path transform=\"translate(0,120)\" d=\"M0,0L-6,0\"></path><path transform=\"translate(0,60)\" d=\"M0,0L-6,0\"></path><path transform=\"translate(0,0)\" d=\"M0,0L-6,0\"></path></g><g aria-label=\"y-axis tick label\" text-anchor=\"end\" font-variant=\"tabular-nums\" transform=\"translate(-9,0)\"><text y=\"0.32em\" transform=\"translate(0,420)\">140</text><text y=\"0.32em\" transform=\"translate(0,360)\">120</text><text y=\"0.32em\" transform=\"translate(0,300)\">100</text><text y=\"0.32em\" transform=\"translate(0,240)\">80</text><text y=\"0.32em\" transform=\"translate(0,180)\">60</text><text y=\"0.32em\" transform=\"translate(0,120)\">40</text><text y=\"0.32em\" transform=\"translate(0,60)\">20</text><text y=\"0.32em\" transform=\"translate(0,0)\">0</text></g><g aria-label=\"x-axis tick\" aria-hidden=\"true\" fill=\"none\" stroke=\"currentColor\"><path transform=\"translate(0,0)\" d=\"M0,0L0,-6\"></path><path transform=\"translate(60,0)\" d=\"M0,0L0,-6\"></path><path transform=\"translate(120,0)\" d=\"M0,0L0,-6\"></path><path transform=\"translate(180,0)\" d=\"M0,0L0,-6\"></path><path transform=\"translate(240,0)\" d=\"M0,0L0,-6\"></path><path transform=\"translate(300,0)\" d=\"M0,0L0,-6\"></path><path transform=\"translate(360,0)\" d=\"M0,0L0,-6\"></path><path transform=\"translate(420,0)\" d=\"M0,0L0,-6\"></path></g><g aria-label=\"x-axis tick label\" font-variant=\"tabular-nums\" transform=\"translate(0,-9)\"><text transform=\"translate(0,0)\">0</text><text transform=\"translate(60,0)\">20</text><text transform=\"translate(120,0)\">40</text><text transform=\"translate(180,0)\">60</text><text transform=\"translate(240,0)\">80</text><text transform=\"translate(300,0)\">100</text><text transform=\"translate(360,0)\">120</text><text transform=\"translate(420,0)\">140</text></g><g aria-label=\"raster\"><image transform=\"translate(0,0) scale(1,1)\" width=\"426\" height=\"426\" preserveAspectRatio=\"none\" image-rendering=\"pixelated\" href=\"data:image/png;base64,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\"></image></g></svg></figure>"
      ],
      "text/plain": [
       "<IPython.core.display.HTML object>"
      ]
     },
     "metadata": {},
     "output_type": "display_data"
    }
   ],
   "source": [
    "actual_input_plotter.plot()"
   ]
  },
  {
   "cell_type": "code",
   "execution_count": 19,
   "metadata": {
    "execution": {
     "iopub.execute_input": "2024-11-25T23:09:55.642900Z",
     "iopub.status.busy": "2024-11-25T23:09:55.642662Z",
     "iopub.status.idle": "2024-11-25T23:09:55.731734Z",
     "shell.execute_reply": "2024-11-25T23:09:55.730943Z"
    }
   },
   "outputs": [
    {
     "name": "stdout",
     "output_type": "stream",
     "text": [
      "Layer #0 <function ObservablePlotXarrayBuilder.create_raster_background_marks.<locals>.callback at 0x7f27c2595080>\n",
      "Layer #1 <function text_mark_producer.<locals>.callback at 0x7f27c26a1f80>\n"
     ]
    },
    {
     "data": {
      "text/html": [
       "<figure class=\"plot-d6a7b5-figure\" style=\"max-width: initial; padding: 0px 5px 5px 5px; color: currentColor; background-color: transparent;\" typstbg=\"transparent\" typstfg=\"currentColor\" typstcaption=\"currentColor\"><div class=\"plot-d6a7b5-swatches plot-d6a7b5-swatches-wrap\"><style>:where(.plot-d6a7b5-swatches) {\n",
       "  font-family: system-ui, sans-serif;\n",
       "  font-size: 10px;\n",
       "  margin-bottom: 0.5em;\n",
       "}\n",
       ":where(.plot-d6a7b5-swatch > svg) {\n",
       "  margin-right: 0.5em;\n",
       "  overflow: visible;\n",
       "}\n",
       ":where(.plot-d6a7b5-swatches-wrap) {\n",
       "  display: flex;\n",
       "  align-items: center;\n",
       "  min-height: 33px;\n",
       "  flex-wrap: wrap;\n",
       "}\n",
       ":where(.plot-d6a7b5-swatches-wrap .plot-d6a7b5-swatch) {\n",
       "  display: inline-flex;\n",
       "  align-items: center;\n",
       "  margin-right: 1em;\n",
       "}</style><span class=\"plot-d6a7b5-swatch\"><svg width=\"15\" height=\"15\" fill=\"#440154\" xmlns=\"http://www.w3.org/2000/svg\" xmlns:xlink=\"http://www.w3.org/1999/xlink\" style=\"color: currentColor; background-color: transparent;\"><rect width=\"100%\" height=\"100%\"></rect></svg>0</span><span class=\"plot-d6a7b5-swatch\"><svg width=\"15\" height=\"15\" fill=\"#fde725\" xmlns=\"http://www.w3.org/2000/svg\" xmlns:xlink=\"http://www.w3.org/1999/xlink\" style=\"color: currentColor; background-color: transparent;\"><rect width=\"100%\" height=\"100%\"></rect></svg>1</span></div><svg class=\"plot-d6a7b5\" fill=\"currentColor\" font-family=\"system-ui, sans-serif\" font-size=\"10\" text-anchor=\"middle\" width=\"426\" height=\"426\" viewBox=\"0 0 426 426\" style=\"background-color: rgb(17, 17, 17); color: rgb(238, 238, 238);\" xmlns=\"http://www.w3.org/2000/svg\" xmlns:xlink=\"http://www.w3.org/1999/xlink\"><style>:where(.plot-d6a7b5) {\n",
       "  --plot-background: white;\n",
       "  display: block;\n",
       "  height: auto;\n",
       "  height: intrinsic;\n",
       "  max-width: 100%;\n",
       "}\n",
       ":where(.plot-d6a7b5 text),\n",
       ":where(.plot-d6a7b5 tspan) {\n",
       "  white-space: pre;\n",
       "}</style><g aria-label=\"y-axis tick\" aria-hidden=\"true\" fill=\"none\" stroke=\"currentColor\"><path transform=\"translate(0,420)\" d=\"M0,0L-6,0\"></path><path transform=\"translate(0,360)\" d=\"M0,0L-6,0\"></path><path transform=\"translate(0,300)\" d=\"M0,0L-6,0\"></path><path transform=\"translate(0,240)\" d=\"M0,0L-6,0\"></path><path transform=\"translate(0,180)\" d=\"M0,0L-6,0\"></path><path transform=\"translate(0,120)\" d=\"M0,0L-6,0\"></path><path transform=\"translate(0,60)\" d=\"M0,0L-6,0\"></path><path transform=\"translate(0,0)\" d=\"M0,0L-6,0\"></path></g><g aria-label=\"y-axis tick label\" text-anchor=\"end\" font-variant=\"tabular-nums\" transform=\"translate(-9,0)\"><text y=\"0.32em\" transform=\"translate(0,420)\">140</text><text y=\"0.32em\" transform=\"translate(0,360)\">120</text><text y=\"0.32em\" transform=\"translate(0,300)\">100</text><text y=\"0.32em\" transform=\"translate(0,240)\">80</text><text y=\"0.32em\" transform=\"translate(0,180)\">60</text><text y=\"0.32em\" transform=\"translate(0,120)\">40</text><text y=\"0.32em\" transform=\"translate(0,60)\">20</text><text y=\"0.32em\" transform=\"translate(0,0)\">0</text></g><g aria-label=\"x-axis tick\" aria-hidden=\"true\" fill=\"none\" stroke=\"currentColor\"><path transform=\"translate(0,0)\" d=\"M0,0L0,-6\"></path><path transform=\"translate(60,0)\" d=\"M0,0L0,-6\"></path><path transform=\"translate(120,0)\" d=\"M0,0L0,-6\"></path><path transform=\"translate(180,0)\" d=\"M0,0L0,-6\"></path><path transform=\"translate(240,0)\" d=\"M0,0L0,-6\"></path><path transform=\"translate(300,0)\" d=\"M0,0L0,-6\"></path><path transform=\"translate(360,0)\" d=\"M0,0L0,-6\"></path><path transform=\"translate(420,0)\" d=\"M0,0L0,-6\"></path></g><g aria-label=\"x-axis tick label\" font-variant=\"tabular-nums\" transform=\"translate(0,-9)\"><text transform=\"translate(0,0)\">0</text><text transform=\"translate(60,0)\">20</text><text transform=\"translate(120,0)\">40</text><text transform=\"translate(180,0)\">60</text><text transform=\"translate(240,0)\">80</text><text transform=\"translate(300,0)\">100</text><text transform=\"translate(360,0)\">120</text><text transform=\"translate(420,0)\">140</text></g><g aria-label=\"raster\"><image transform=\"translate(0,0) scale(1,1)\" width=\"426\" height=\"426\" preserveAspectRatio=\"none\" image-rendering=\"pixelated\" href=\"data:image/png;base64,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\"></image></g></svg></figure>"
      ],
      "text/plain": [
       "<IPython.core.display.HTML object>"
      ]
     },
     "metadata": {},
     "output_type": "display_data"
    }
   ],
   "source": [
    "actual_input_plotter.copy(\n",
    "    raster_xda=symbols_xda(parsed_actual_input),\n",
    ").plot()"
   ]
  },
  {
   "cell_type": "markdown",
   "metadata": {},
   "source": [
    "Numbers of interest for part 1:\n"
   ]
  },
  {
   "cell_type": "code",
   "execution_count": 20,
   "metadata": {
    "execution": {
     "iopub.execute_input": "2024-11-25T23:09:55.734111Z",
     "iopub.status.busy": "2024-11-25T23:09:55.733868Z",
     "iopub.status.idle": "2024-11-25T23:09:55.864879Z",
     "shell.execute_reply": "2024-11-25T23:09:55.864057Z"
    }
   },
   "outputs": [
    {
     "name": "stdout",
     "output_type": "stream",
     "text": [
      "Layer #0 <function ObservablePlotXarrayBuilder.create_raster_background_marks.<locals>.callback at 0x7f27c2534c20>\n",
      "Layer #1 <function text_mark_producer.<locals>.callback at 0x7f27c26a1f80>\n",
      "Layer #2 <function neighborhood_mark_layer.<locals>.callback at 0x7f27c25963e0>\n"
     ]
    },
    {
     "data": {
      "text/html": [
       "<figure class=\"plot-d6a7b5-figure\" style=\"max-width: initial; padding: 0px 5px 5px 5px; color: currentColor; background-color: transparent;\" typstbg=\"transparent\" typstfg=\"currentColor\" typstcaption=\"currentColor\"><div class=\"plot-d6a7b5-swatches plot-d6a7b5-swatches-wrap\"><style>:where(.plot-d6a7b5-swatches) {\n",
       "  font-family: system-ui, sans-serif;\n",
       "  font-size: 10px;\n",
       "  margin-bottom: 0.5em;\n",
       "}\n",
       ":where(.plot-d6a7b5-swatch > svg) {\n",
       "  margin-right: 0.5em;\n",
       "  overflow: visible;\n",
       "}\n",
       ":where(.plot-d6a7b5-swatches-wrap) {\n",
       "  display: flex;\n",
       "  align-items: center;\n",
       "  min-height: 33px;\n",
       "  flex-wrap: wrap;\n",
       "}\n",
       ":where(.plot-d6a7b5-swatches-wrap .plot-d6a7b5-swatch) {\n",
       "  display: inline-flex;\n",
       "  align-items: center;\n",
       "  margin-right: 1em;\n",
       "}</style><span class=\"plot-d6a7b5-swatch\"><svg width=\"15\" height=\"15\" fill=\"#440154\" xmlns=\"http://www.w3.org/2000/svg\" xmlns:xlink=\"http://www.w3.org/1999/xlink\" style=\"color: currentColor; background-color: transparent;\"><rect width=\"100%\" height=\"100%\"></rect></svg>#</span><span class=\"plot-d6a7b5-swatch\"><svg width=\"15\" height=\"15\" fill=\"#481f70\" xmlns=\"http://www.w3.org/2000/svg\" xmlns:xlink=\"http://www.w3.org/1999/xlink\" style=\"color: currentColor; background-color: transparent;\"><rect width=\"100%\" height=\"100%\"></rect></svg>$</span><span class=\"plot-d6a7b5-swatch\"><svg width=\"15\" height=\"15\" fill=\"#443983\" xmlns=\"http://www.w3.org/2000/svg\" xmlns:xlink=\"http://www.w3.org/1999/xlink\" style=\"color: currentColor; background-color: transparent;\"><rect width=\"100%\" height=\"100%\"></rect></svg>%</span><span class=\"plot-d6a7b5-swatch\"><svg width=\"15\" height=\"15\" fill=\"#3b528b\" xmlns=\"http://www.w3.org/2000/svg\" xmlns:xlink=\"http://www.w3.org/1999/xlink\" style=\"color: currentColor; background-color: transparent;\"><rect width=\"100%\" height=\"100%\"></rect></svg>&amp;</span><span class=\"plot-d6a7b5-swatch\"><svg width=\"15\" height=\"15\" fill=\"#31688e\" xmlns=\"http://www.w3.org/2000/svg\" xmlns:xlink=\"http://www.w3.org/1999/xlink\" style=\"color: currentColor; background-color: transparent;\"><rect width=\"100%\" height=\"100%\"></rect></svg>*</span><span class=\"plot-d6a7b5-swatch\"><svg width=\"15\" height=\"15\" fill=\"#287c8e\" xmlns=\"http://www.w3.org/2000/svg\" xmlns:xlink=\"http://www.w3.org/1999/xlink\" style=\"color: currentColor; background-color: transparent;\"><rect width=\"100%\" height=\"100%\"></rect></svg>+</span><span class=\"plot-d6a7b5-swatch\"><svg width=\"15\" height=\"15\" fill=\"#21918c\" xmlns=\"http://www.w3.org/2000/svg\" xmlns:xlink=\"http://www.w3.org/1999/xlink\" style=\"color: currentColor; background-color: transparent;\"><rect width=\"100%\" height=\"100%\"></rect></svg>-</span><span class=\"plot-d6a7b5-swatch\"><svg width=\"15\" height=\"15\" fill=\"#20a486\" xmlns=\"http://www.w3.org/2000/svg\" xmlns:xlink=\"http://www.w3.org/1999/xlink\" style=\"color: currentColor; background-color: transparent;\"><rect width=\"100%\" height=\"100%\"></rect></svg>.</span><span class=\"plot-d6a7b5-swatch\"><svg width=\"15\" height=\"15\" fill=\"#35b779\" xmlns=\"http://www.w3.org/2000/svg\" xmlns:xlink=\"http://www.w3.org/1999/xlink\" style=\"color: currentColor; background-color: transparent;\"><rect width=\"100%\" height=\"100%\"></rect></svg>/</span><span class=\"plot-d6a7b5-swatch\"><svg width=\"15\" height=\"15\" fill=\"#5ec962\" xmlns=\"http://www.w3.org/2000/svg\" xmlns:xlink=\"http://www.w3.org/1999/xlink\" style=\"color: currentColor; background-color: transparent;\"><rect width=\"100%\" height=\"100%\"></rect></svg>0</span><span class=\"plot-d6a7b5-swatch\"><svg width=\"15\" height=\"15\" fill=\"#90d743\" xmlns=\"http://www.w3.org/2000/svg\" xmlns:xlink=\"http://www.w3.org/1999/xlink\" style=\"color: currentColor; background-color: transparent;\"><rect width=\"100%\" height=\"100%\"></rect></svg>=</span><span class=\"plot-d6a7b5-swatch\"><svg width=\"15\" height=\"15\" fill=\"#c8e020\" xmlns=\"http://www.w3.org/2000/svg\" xmlns:xlink=\"http://www.w3.org/1999/xlink\" style=\"color: currentColor; background-color: transparent;\"><rect width=\"100%\" height=\"100%\"></rect></svg>@</span><span class=\"plot-d6a7b5-swatch\"><svg width=\"15\" height=\"15\" fill=\"#fde725\" xmlns=\"http://www.w3.org/2000/svg\" xmlns:xlink=\"http://www.w3.org/1999/xlink\" style=\"color: currentColor; background-color: transparent;\"><rect width=\"100%\" height=\"100%\"></rect></svg>N</span></div><svg class=\"plot-d6a7b5\" fill=\"currentColor\" font-family=\"system-ui, sans-serif\" font-size=\"10\" text-anchor=\"middle\" width=\"426\" height=\"426\" viewBox=\"0 0 426 426\" style=\"background-color: rgb(17, 17, 17); color: rgb(238, 238, 238);\" xmlns=\"http://www.w3.org/2000/svg\" xmlns:xlink=\"http://www.w3.org/1999/xlink\"><style>:where(.plot-d6a7b5) {\n",
       "  --plot-background: white;\n",
       "  display: block;\n",
       "  height: auto;\n",
       "  height: intrinsic;\n",
       "  max-width: 100%;\n",
       "}\n",
       ":where(.plot-d6a7b5 text),\n",
       ":where(.plot-d6a7b5 tspan) {\n",
       "  white-space: pre;\n",
       "}</style><g aria-label=\"y-axis tick\" aria-hidden=\"true\" fill=\"none\" stroke=\"currentColor\"><path transform=\"translate(0,420)\" d=\"M0,0L-6,0\"></path><path transform=\"translate(0,360)\" d=\"M0,0L-6,0\"></path><path transform=\"translate(0,300)\" d=\"M0,0L-6,0\"></path><path transform=\"translate(0,240)\" d=\"M0,0L-6,0\"></path><path transform=\"translate(0,180)\" d=\"M0,0L-6,0\"></path><path transform=\"translate(0,120)\" d=\"M0,0L-6,0\"></path><path transform=\"translate(0,60)\" d=\"M0,0L-6,0\"></path><path transform=\"translate(0,0)\" d=\"M0,0L-6,0\"></path></g><g aria-label=\"y-axis tick label\" text-anchor=\"end\" font-variant=\"tabular-nums\" transform=\"translate(-9,0)\"><text y=\"0.32em\" transform=\"translate(0,420)\">140</text><text y=\"0.32em\" transform=\"translate(0,360)\">120</text><text y=\"0.32em\" transform=\"translate(0,300)\">100</text><text y=\"0.32em\" transform=\"translate(0,240)\">80</text><text y=\"0.32em\" transform=\"translate(0,180)\">60</text><text y=\"0.32em\" transform=\"translate(0,120)\">40</text><text y=\"0.32em\" transform=\"translate(0,60)\">20</text><text y=\"0.32em\" transform=\"translate(0,0)\">0</text></g><g aria-label=\"x-axis tick\" aria-hidden=\"true\" fill=\"none\" stroke=\"currentColor\"><path transform=\"translate(0,0)\" d=\"M0,0L0,-6\"></path><path transform=\"translate(60,0)\" d=\"M0,0L0,-6\"></path><path transform=\"translate(120,0)\" d=\"M0,0L0,-6\"></path><path transform=\"translate(180,0)\" d=\"M0,0L0,-6\"></path><path transform=\"translate(240,0)\" d=\"M0,0L0,-6\"></path><path transform=\"translate(300,0)\" d=\"M0,0L0,-6\"></path><path transform=\"translate(360,0)\" d=\"M0,0L0,-6\"></path><path transform=\"translate(420,0)\" d=\"M0,0L0,-6\"></path></g><g aria-label=\"x-axis tick label\" font-variant=\"tabular-nums\" transform=\"translate(0,-9)\"><text transform=\"translate(0,0)\">0</text><text transform=\"translate(60,0)\">20</text><text transform=\"translate(120,0)\">40</text><text transform=\"translate(180,0)\">60</text><text transform=\"translate(240,0)\">80</text><text transform=\"translate(300,0)\">100</text><text transform=\"translate(360,0)\">120</text><text transform=\"translate(420,0)\">140</text></g><g aria-label=\"raster\"><image transform=\"translate(0,0) scale(1,1)\" width=\"426\" height=\"426\" preserveAspectRatio=\"none\" image-rendering=\"pixelated\" href=\"data:image/png;base64,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\"></image></g><g aria-label=\"rect\" fill=\"none\" stroke=\"red\" stroke-width=\"2\"><rect x=\"78.60000000000001\" y=\"3.5999999999999996\" width=\"7.799999999999997\" height=\"7.800000000000001\"></rect><rect x=\"147.60000000000002\" y=\"3.5999999999999996\" width=\"7.7999999999999545\" height=\"7.800000000000001\"></rect><rect x=\"234.60000000000002\" y=\"3.5999999999999996\" width=\"7.799999999999983\" height=\"7.800000000000001\"></rect><rect x=\"297.6\" y=\"3.5999999999999996\" width=\"7.7999999999999545\" height=\"7.800000000000001\"></rect><rect x=\"315.6\" y=\"3.5999999999999996\" width=\"7.7999999999999545\" height=\"7.800000000000001\"></rect><rect x=\"345.6\" y=\"3.5999999999999996\" width=\"7.7999999999999545\" height=\"7.800000000000001\"></rect><rect x=\"381.6\" y=\"3.5999999999999996\" width=\"7.800000000000011\" height=\"7.800000000000001\"></rect><rect x=\"189.6\" y=\"6.6000000000000005\" width=\"7.800000000000011\" height=\"7.799999999999998\"></rect><rect x=\"204.60000000000002\" y=\"6.6000000000000005\" width=\"7.799999999999983\" height=\"7.799999999999998\"></rect><rect x=\"231.60000000000002\" y=\"6.6000000000000005\" width=\"7.799999999999983\" height=\"7.799999999999998\"></rect><rect x=\"327.59999999999997\" y=\"6.6000000000000005\" width=\"7.800000000000011\" height=\"7.799999999999998\"></rect><rect x=\"342.6\" y=\"6.6000000000000005\" width=\"7.800000000000011\" height=\"7.799999999999998\"></rect><rect x=\"363.59999999999997\" y=\"6.6000000000000005\" width=\"7.800000000000011\" height=\"7.799999999999998\"></rect><rect x=\"396.59999999999997\" y=\"6.6000000000000005\" width=\"7.800000000000068\" height=\"7.799999999999998\"></rect><rect x=\"15.6\" y=\"9.6\" width=\"7.799999999999999\" height=\"7.8000000000000025\"></rect><rect x=\"30.6\" y=\"9.6\" width=\"7.799999999999997\" height=\"7.8000000000000025\"></rect><rect x=\"60.6\" y=\"9.6\" width=\"7.800000000000004\" height=\"7.8000000000000025\"></rect><rect x=\"78.60000000000001\" y=\"9.6\" width=\"7.799999999999997\" height=\"7.8000000000000025\"></rect><rect x=\"114.60000000000001\" y=\"9.6\" width=\"7.799999999999997\" height=\"7.8000000000000025\"></rect><rect x=\"135.60000000000002\" y=\"9.6\" width=\"7.799999999999983\" height=\"7.8000000000000025\"></rect><rect x=\"201.60000000000002\" y=\"9.6\" width=\"7.7999999999999545\" height=\"7.8000000000000025\"></rect><rect x=\"240.60000000000002\" y=\"9.6\" width=\"7.799999999999983\" height=\"7.8000000000000025\"></rect><rect x=\"273.6\" y=\"9.6\" width=\"7.7999999999999545\" height=\"7.8000000000000025\"></rect><rect x=\"321.6\" y=\"9.6\" width=\"7.7999999999999545\" height=\"7.8000000000000025\"></rect><rect x=\"12.600000000000001\" y=\"12.600000000000001\" width=\"7.799999999999997\" height=\"7.799999999999997\"></rect><rect x=\"153.6\" y=\"12.600000000000001\" width=\"7.800000000000011\" height=\"7.799999999999997\"></rect><rect x=\"171.6\" y=\"12.600000000000001\" width=\"7.800000000000011\" height=\"7.799999999999997\"></rect><rect x=\"228.60000000000002\" y=\"12.600000000000001\" width=\"7.7999999999999545\" height=\"7.799999999999997\"></rect><rect x=\"252.6\" y=\"12.600000000000001\" width=\"7.799999999999983\" height=\"7.799999999999997\"></rect><rect x=\"408.59999999999997\" y=\"12.600000000000001\" width=\"7.800000000000068\" height=\"7.799999999999997\"></rect><rect x=\"33.599999999999994\" y=\"15.6\" width=\"7.800000000000011\" height=\"7.799999999999999\"></rect><rect x=\"99.60000000000001\" y=\"15.6\" width=\"7.799999999999997\" height=\"7.799999999999999\"></rect><rect x=\"195.6\" y=\"15.6\" width=\"7.799999999999983\" height=\"7.799999999999999\"></rect><rect x=\"222.6\" y=\"15.6\" width=\"7.799999999999983\" height=\"7.799999999999999\"></rect><rect x=\"354.6\" y=\"15.6\" width=\"7.7999999999999545\" height=\"7.799999999999999\"></rect><rect x=\"363.59999999999997\" y=\"15.6\" width=\"7.800000000000011\" height=\"7.799999999999999\"></rect><rect x=\"60.6\" y=\"18.6\" width=\"7.800000000000004\" height=\"7.800000000000001\"></rect><rect x=\"78.60000000000001\" y=\"18.6\" width=\"7.799999999999997\" height=\"7.800000000000001\"></rect><rect x=\"171.6\" y=\"18.6\" width=\"7.800000000000011\" height=\"7.800000000000001\"></rect><rect x=\"309.6\" y=\"18.6\" width=\"7.7999999999999545\" height=\"7.800000000000001\"></rect><rect x=\"339.6\" y=\"18.6\" width=\"7.800000000000011\" height=\"7.800000000000001\"></rect><rect x=\"390.59999999999997\" y=\"18.6\" width=\"7.800000000000068\" height=\"7.800000000000001\"></rect><rect x=\"405.59999999999997\" y=\"18.6\" width=\"7.800000000000068\" height=\"7.800000000000001\"></rect><rect x=\"21.6\" y=\"21.6\" width=\"7.800000000000001\" height=\"7.800000000000001\"></rect><rect x=\"33.599999999999994\" y=\"21.6\" width=\"7.800000000000011\" height=\"7.800000000000001\"></rect><rect x=\"36.6\" y=\"21.6\" width=\"7.799999999999997\" height=\"7.800000000000001\"></rect><rect x=\"48.6\" y=\"21.6\" width=\"7.800000000000004\" height=\"7.800000000000001\"></rect><rect x=\"165.60000000000002\" y=\"21.6\" width=\"7.7999999999999545\" height=\"7.800000000000001\"></rect><rect x=\"270.6\" y=\"21.6\" width=\"7.800000000000011\" height=\"7.800000000000001\"></rect><rect x=\"282.6\" y=\"21.6\" width=\"7.7999999999999545\" height=\"7.800000000000001\"></rect><rect x=\"402.59999999999997\" y=\"21.6\" width=\"7.800000000000068\" height=\"7.800000000000001\"></rect><rect x=\"177.6\" y=\"24.599999999999998\" width=\"7.799999999999983\" height=\"7.800000000000008\"></rect><rect x=\"216.6\" y=\"24.599999999999998\" width=\"7.799999999999983\" height=\"7.800000000000008\"></rect><rect x=\"264.6\" y=\"24.599999999999998\" width=\"7.7999999999999545\" height=\"7.800000000000008\"></rect><rect x=\"354.6\" y=\"24.599999999999998\" width=\"7.7999999999999545\" height=\"7.800000000000008\"></rect><rect x=\"12.600000000000001\" y=\"27.599999999999998\" width=\"7.799999999999997\" height=\"7.800000000000001\"></rect><rect x=\"27.599999999999998\" y=\"27.599999999999998\" width=\"7.800000000000001\" height=\"7.800000000000001\"></rect><rect x=\"66.6\" y=\"27.599999999999998\" width=\"7.800000000000011\" height=\"7.800000000000001\"></rect><rect x=\"114.60000000000001\" y=\"27.599999999999998\" width=\"7.799999999999997\" height=\"7.800000000000001\"></rect><rect x=\"243.6\" y=\"27.599999999999998\" width=\"7.800000000000011\" height=\"7.800000000000001\"></rect><rect x=\"291.59999999999997\" y=\"27.599999999999998\" width=\"7.800000000000011\" height=\"7.800000000000001\"></rect><rect x=\"309.6\" y=\"27.599999999999998\" width=\"7.7999999999999545\" height=\"7.800000000000001\"></rect><rect x=\"372.6\" y=\"27.599999999999998\" width=\"7.800000000000011\" height=\"7.800000000000001\"></rect><rect x=\"147.60000000000002\" y=\"30.6\" width=\"7.7999999999999545\" height=\"7.799999999999997\"></rect><rect x=\"195.6\" y=\"30.6\" width=\"7.799999999999983\" height=\"7.799999999999997\"></rect><rect x=\"333.6\" y=\"30.6\" width=\"7.7999999999999545\" height=\"7.799999999999997\"></rect><rect x=\"345.6\" y=\"30.6\" width=\"7.7999999999999545\" height=\"7.799999999999997\"></rect><rect x=\"387.59999999999997\" y=\"30.6\" width=\"7.800000000000068\" height=\"7.799999999999997\"></rect><rect x=\"81.6\" y=\"33.599999999999994\" width=\"7.800000000000011\" height=\"7.800000000000011\"></rect><rect x=\"162.60000000000002\" y=\"33.599999999999994\" width=\"7.7999999999999545\" height=\"7.800000000000011\"></rect><rect x=\"195.6\" y=\"33.599999999999994\" width=\"7.799999999999983\" height=\"7.800000000000011\"></rect><rect x=\"201.60000000000002\" y=\"33.599999999999994\" width=\"7.7999999999999545\" height=\"7.800000000000011\"></rect><rect x=\"213.6\" y=\"33.599999999999994\" width=\"7.799999999999983\" height=\"7.800000000000011\"></rect><rect x=\"234.60000000000002\" y=\"33.599999999999994\" width=\"7.799999999999983\" height=\"7.800000000000011\"></rect><rect x=\"261.6\" y=\"33.599999999999994\" width=\"7.7999999999999545\" height=\"7.800000000000011\"></rect><rect x=\"312.6\" y=\"33.599999999999994\" width=\"7.7999999999999545\" height=\"7.800000000000011\"></rect><rect x=\"15.6\" y=\"36.6\" width=\"7.799999999999999\" height=\"7.799999999999997\"></rect><rect x=\"39.6\" y=\"36.6\" width=\"7.799999999999997\" height=\"7.799999999999997\"></rect><rect x=\"72.6\" y=\"36.6\" width=\"7.800000000000011\" height=\"7.799999999999997\"></rect><rect x=\"87.60000000000001\" y=\"36.6\" width=\"7.799999999999997\" height=\"7.799999999999997\"></rect><rect x=\"102.60000000000001\" y=\"36.6\" width=\"7.799999999999983\" height=\"7.799999999999997\"></rect><rect x=\"174.6\" y=\"36.6\" width=\"7.800000000000011\" height=\"7.799999999999997\"></rect><rect x=\"405.59999999999997\" y=\"36.6\" width=\"7.800000000000068\" height=\"7.799999999999997\"></rect><rect x=\"51.599999999999994\" y=\"39.6\" width=\"7.800000000000011\" height=\"7.799999999999997\"></rect><rect x=\"66.6\" y=\"39.6\" width=\"7.800000000000011\" height=\"7.799999999999997\"></rect><rect x=\"126.6\" y=\"39.6\" width=\"7.799999999999983\" height=\"7.799999999999997\"></rect><rect x=\"171.6\" y=\"39.6\" width=\"7.800000000000011\" height=\"7.799999999999997\"></rect><rect x=\"333.6\" y=\"39.6\" width=\"7.7999999999999545\" height=\"7.799999999999997\"></rect><rect x=\"345.6\" y=\"39.6\" width=\"7.7999999999999545\" height=\"7.799999999999997\"></rect><rect x=\"357.6\" y=\"39.6\" width=\"7.7999999999999545\" height=\"7.799999999999997\"></rect><rect x=\"63.6\" y=\"42.599999999999994\" width=\"7.800000000000004\" height=\"7.800000000000011\"></rect><rect x=\"162.60000000000002\" y=\"42.599999999999994\" width=\"7.7999999999999545\" height=\"7.800000000000011\"></rect><rect x=\"198.60000000000002\" y=\"42.599999999999994\" width=\"7.7999999999999545\" height=\"7.800000000000011\"></rect><rect x=\"291.59999999999997\" y=\"42.599999999999994\" width=\"7.800000000000011\" height=\"7.800000000000011\"></rect><rect x=\"333.6\" y=\"42.599999999999994\" width=\"7.7999999999999545\" height=\"7.800000000000011\"></rect><rect x=\"357.6\" y=\"42.599999999999994\" width=\"7.7999999999999545\" height=\"7.800000000000011\"></rect><rect x=\"30.6\" y=\"45.6\" width=\"7.799999999999997\" height=\"7.799999999999997\"></rect><rect x=\"90.6\" y=\"45.6\" width=\"7.799999999999997\" height=\"7.799999999999997\"></rect><rect x=\"111.60000000000002\" y=\"45.6\" width=\"7.7999999999999545\" height=\"7.799999999999997\"></rect><rect x=\"147.60000000000002\" y=\"45.6\" width=\"7.7999999999999545\" height=\"7.799999999999997\"></rect><rect x=\"177.6\" y=\"45.6\" width=\"7.799999999999983\" height=\"7.799999999999997\"></rect><rect x=\"216.6\" y=\"45.6\" width=\"7.799999999999983\" height=\"7.799999999999997\"></rect><rect x=\"261.6\" y=\"45.6\" width=\"7.7999999999999545\" height=\"7.799999999999997\"></rect><rect x=\"309.6\" y=\"45.6\" width=\"7.7999999999999545\" height=\"7.799999999999997\"></rect><rect x=\"33.599999999999994\" y=\"48.6\" width=\"7.800000000000011\" height=\"7.800000000000004\"></rect><rect x=\"360.59999999999997\" y=\"48.6\" width=\"7.800000000000011\" height=\"7.800000000000004\"></rect><rect x=\"402.59999999999997\" y=\"48.6\" width=\"7.800000000000068\" height=\"7.800000000000004\"></rect><rect x=\"27.599999999999998\" y=\"51.599999999999994\" width=\"7.800000000000001\" height=\"7.800000000000011\"></rect><rect x=\"78.60000000000001\" y=\"51.599999999999994\" width=\"7.799999999999997\" height=\"7.800000000000011\"></rect><rect x=\"132.60000000000002\" y=\"51.599999999999994\" width=\"7.799999999999983\" height=\"7.800000000000011\"></rect><rect x=\"378.6\" y=\"51.599999999999994\" width=\"7.800000000000011\" height=\"7.800000000000011\"></rect><rect x=\"399.59999999999997\" y=\"51.599999999999994\" width=\"7.800000000000068\" height=\"7.800000000000011\"></rect><rect x=\"306.6\" y=\"54.6\" width=\"7.800000000000011\" height=\"7.799999999999997\"></rect><rect x=\"12.600000000000001\" y=\"57.599999999999994\" width=\"7.799999999999997\" height=\"7.800000000000011\"></rect><rect x=\"18.6\" y=\"57.599999999999994\" width=\"7.800000000000001\" height=\"7.800000000000011\"></rect><rect x=\"45.6\" y=\"57.599999999999994\" width=\"7.799999999999997\" height=\"7.800000000000011\"></rect><rect x=\"90.6\" y=\"57.599999999999994\" width=\"7.799999999999997\" height=\"7.800000000000011\"></rect><rect x=\"96.60000000000001\" y=\"57.599999999999994\" width=\"7.799999999999983\" height=\"7.800000000000011\"></rect><rect x=\"174.6\" y=\"57.599999999999994\" width=\"7.800000000000011\" height=\"7.800000000000011\"></rect><rect x=\"180.60000000000002\" y=\"57.599999999999994\" width=\"7.7999999999999545\" height=\"7.800000000000011\"></rect><rect x=\"189.6\" y=\"57.599999999999994\" width=\"7.800000000000011\" height=\"7.800000000000011\"></rect><rect x=\"237.60000000000002\" y=\"57.599999999999994\" width=\"7.799999999999983\" height=\"7.800000000000011\"></rect><rect x=\"291.59999999999997\" y=\"57.599999999999994\" width=\"7.800000000000011\" height=\"7.800000000000011\"></rect><rect x=\"315.6\" y=\"57.599999999999994\" width=\"7.7999999999999545\" height=\"7.800000000000011\"></rect><rect x=\"369.6\" y=\"57.599999999999994\" width=\"7.7999999999999545\" height=\"7.800000000000011\"></rect><rect x=\"387.59999999999997\" y=\"57.599999999999994\" width=\"7.800000000000068\" height=\"7.800000000000011\"></rect><rect x=\"9.6\" y=\"60.6\" width=\"7.8000000000000025\" height=\"7.800000000000004\"></rect><rect x=\"69.60000000000001\" y=\"60.6\" width=\"7.799999999999997\" height=\"7.800000000000004\"></rect><rect x=\"153.6\" y=\"60.6\" width=\"7.800000000000011\" height=\"7.800000000000004\"></rect><rect x=\"192.6\" y=\"60.6\" width=\"7.800000000000011\" height=\"7.800000000000004\"></rect><rect x=\"123.6\" y=\"63.6\" width=\"7.799999999999983\" height=\"7.800000000000004\"></rect><rect x=\"144.60000000000002\" y=\"63.6\" width=\"7.7999999999999545\" height=\"7.800000000000004\"></rect><rect x=\"201.60000000000002\" y=\"63.6\" width=\"7.7999999999999545\" height=\"7.800000000000004\"></rect><rect x=\"243.6\" y=\"63.6\" width=\"7.800000000000011\" height=\"7.800000000000004\"></rect><rect x=\"309.6\" y=\"63.6\" width=\"7.7999999999999545\" height=\"7.800000000000004\"></rect><rect x=\"18.6\" y=\"66.6\" width=\"7.800000000000001\" height=\"7.800000000000011\"></rect><rect x=\"87.60000000000001\" y=\"66.6\" width=\"7.799999999999997\" height=\"7.800000000000011\"></rect><rect x=\"162.60000000000002\" y=\"66.6\" width=\"7.7999999999999545\" height=\"7.800000000000011\"></rect><rect x=\"171.6\" y=\"66.6\" width=\"7.800000000000011\" height=\"7.800000000000011\"></rect><rect x=\"273.6\" y=\"66.6\" width=\"7.7999999999999545\" height=\"7.800000000000011\"></rect><rect x=\"336.6\" y=\"66.6\" width=\"7.800000000000011\" height=\"7.800000000000011\"></rect><rect x=\"369.6\" y=\"66.6\" width=\"7.7999999999999545\" height=\"7.800000000000011\"></rect><rect x=\"105.60000000000001\" y=\"69.60000000000001\" width=\"7.799999999999983\" height=\"7.799999999999997\"></rect><rect x=\"183.60000000000002\" y=\"69.60000000000001\" width=\"7.7999999999999545\" height=\"7.799999999999997\"></rect><rect x=\"351.6\" y=\"69.60000000000001\" width=\"7.7999999999999545\" height=\"7.799999999999997\"></rect><rect x=\"15.6\" y=\"72.6\" width=\"7.799999999999999\" height=\"7.800000000000011\"></rect><rect x=\"54.6\" y=\"72.6\" width=\"7.799999999999997\" height=\"7.800000000000011\"></rect><rect x=\"78.60000000000001\" y=\"72.6\" width=\"7.799999999999997\" height=\"7.800000000000011\"></rect><rect x=\"120.60000000000001\" y=\"72.6\" width=\"7.799999999999997\" height=\"7.800000000000011\"></rect><rect x=\"228.60000000000002\" y=\"72.6\" width=\"7.7999999999999545\" height=\"7.800000000000011\"></rect><rect x=\"234.60000000000002\" y=\"72.6\" width=\"7.799999999999983\" height=\"7.800000000000011\"></rect><rect x=\"255.6\" y=\"72.6\" width=\"7.799999999999983\" height=\"7.800000000000011\"></rect><rect x=\"285.6\" y=\"72.6\" width=\"7.7999999999999545\" height=\"7.800000000000011\"></rect><rect x=\"327.59999999999997\" y=\"72.6\" width=\"7.800000000000011\" height=\"7.800000000000011\"></rect><rect x=\"360.59999999999997\" y=\"72.6\" width=\"7.800000000000011\" height=\"7.800000000000011\"></rect><rect x=\"384.59999999999997\" y=\"72.6\" width=\"7.800000000000068\" height=\"7.800000000000011\"></rect><rect x=\"18.6\" y=\"75.6\" width=\"7.800000000000001\" height=\"7.800000000000011\"></rect><rect x=\"75.6\" y=\"75.6\" width=\"7.800000000000011\" height=\"7.800000000000011\"></rect><rect x=\"93.6\" y=\"75.6\" width=\"7.799999999999997\" height=\"7.800000000000011\"></rect><rect x=\"111.60000000000002\" y=\"75.6\" width=\"7.7999999999999545\" height=\"7.800000000000011\"></rect><rect x=\"168.60000000000002\" y=\"75.6\" width=\"7.799999999999983\" height=\"7.800000000000011\"></rect><rect x=\"219.6\" y=\"75.6\" width=\"7.799999999999983\" height=\"7.800000000000011\"></rect><rect x=\"255.6\" y=\"75.6\" width=\"7.799999999999983\" height=\"7.800000000000011\"></rect><rect x=\"267.6\" y=\"75.6\" width=\"7.800000000000011\" height=\"7.800000000000011\"></rect><rect x=\"282.6\" y=\"75.6\" width=\"7.7999999999999545\" height=\"7.800000000000011\"></rect><rect x=\"48.6\" y=\"78.60000000000001\" width=\"7.800000000000004\" height=\"7.799999999999997\"></rect><rect x=\"105.60000000000001\" y=\"78.60000000000001\" width=\"7.799999999999983\" height=\"7.799999999999997\"></rect><rect x=\"135.60000000000002\" y=\"78.60000000000001\" width=\"7.799999999999983\" height=\"7.799999999999997\"></rect><rect x=\"150.60000000000002\" y=\"78.60000000000001\" width=\"7.799999999999983\" height=\"7.799999999999997\"></rect><rect x=\"192.6\" y=\"78.60000000000001\" width=\"7.800000000000011\" height=\"7.799999999999997\"></rect><rect x=\"306.6\" y=\"78.60000000000001\" width=\"7.800000000000011\" height=\"7.799999999999997\"></rect><rect x=\"372.6\" y=\"78.60000000000001\" width=\"7.800000000000011\" height=\"7.799999999999997\"></rect><rect x=\"396.59999999999997\" y=\"78.60000000000001\" width=\"7.800000000000068\" height=\"7.799999999999997\"></rect><rect x=\"414.59999999999997\" y=\"78.60000000000001\" width=\"7.800000000000068\" height=\"7.799999999999997\"></rect><rect x=\"231.60000000000002\" y=\"81.6\" width=\"7.799999999999983\" height=\"7.800000000000011\"></rect><rect x=\"342.6\" y=\"81.6\" width=\"7.800000000000011\" height=\"7.800000000000011\"></rect><rect x=\"378.6\" y=\"81.6\" width=\"7.800000000000011\" height=\"7.800000000000011\"></rect><rect x=\"405.59999999999997\" y=\"81.6\" width=\"7.800000000000068\" height=\"7.800000000000011\"></rect><rect x=\"75.6\" y=\"84.6\" width=\"7.800000000000011\" height=\"7.800000000000011\"></rect><rect x=\"105.60000000000001\" y=\"84.6\" width=\"7.799999999999983\" height=\"7.800000000000011\"></rect><rect x=\"207.6\" y=\"84.6\" width=\"7.800000000000011\" height=\"7.800000000000011\"></rect><rect x=\"276.6\" y=\"84.6\" width=\"7.7999999999999545\" height=\"7.800000000000011\"></rect><rect x=\"285.6\" y=\"84.6\" width=\"7.7999999999999545\" height=\"7.800000000000011\"></rect><rect x=\"378.6\" y=\"84.6\" width=\"7.800000000000011\" height=\"7.800000000000011\"></rect><rect x=\"9.6\" y=\"87.60000000000001\" width=\"7.8000000000000025\" height=\"7.799999999999997\"></rect><rect x=\"51.599999999999994\" y=\"87.60000000000001\" width=\"7.800000000000011\" height=\"7.799999999999997\"></rect><rect x=\"60.6\" y=\"87.60000000000001\" width=\"7.800000000000004\" height=\"7.799999999999997\"></rect><rect x=\"111.60000000000002\" y=\"87.60000000000001\" width=\"7.7999999999999545\" height=\"7.799999999999997\"></rect><rect x=\"180.60000000000002\" y=\"87.60000000000001\" width=\"7.7999999999999545\" height=\"7.799999999999997\"></rect><rect x=\"210.6\" y=\"87.60000000000001\" width=\"7.800000000000011\" height=\"7.799999999999997\"></rect><rect x=\"309.6\" y=\"87.60000000000001\" width=\"7.7999999999999545\" height=\"7.799999999999997\"></rect><rect x=\"396.59999999999997\" y=\"87.60000000000001\" width=\"7.800000000000068\" height=\"7.799999999999997\"></rect><rect x=\"42.599999999999994\" y=\"90.6\" width=\"7.800000000000011\" height=\"7.799999999999997\"></rect><rect x=\"345.6\" y=\"90.6\" width=\"7.7999999999999545\" height=\"7.799999999999997\"></rect><rect x=\"363.59999999999997\" y=\"90.6\" width=\"7.800000000000011\" height=\"7.799999999999997\"></rect><rect x=\"207.6\" y=\"93.6\" width=\"7.800000000000011\" height=\"7.799999999999997\"></rect><rect x=\"216.6\" y=\"93.6\" width=\"7.799999999999983\" height=\"7.799999999999997\"></rect><rect x=\"243.6\" y=\"93.6\" width=\"7.800000000000011\" height=\"7.799999999999997\"></rect><rect x=\"30.6\" y=\"96.60000000000001\" width=\"7.799999999999997\" height=\"7.799999999999983\"></rect><rect x=\"162.60000000000002\" y=\"96.60000000000001\" width=\"7.7999999999999545\" height=\"7.799999999999983\"></rect><rect x=\"264.6\" y=\"96.60000000000001\" width=\"7.7999999999999545\" height=\"7.799999999999983\"></rect><rect x=\"273.6\" y=\"96.60000000000001\" width=\"7.7999999999999545\" height=\"7.799999999999983\"></rect><rect x=\"288.59999999999997\" y=\"96.60000000000001\" width=\"7.800000000000011\" height=\"7.799999999999983\"></rect><rect x=\"306.6\" y=\"96.60000000000001\" width=\"7.800000000000011\" height=\"7.799999999999983\"></rect><rect x=\"330.59999999999997\" y=\"96.60000000000001\" width=\"7.800000000000011\" height=\"7.799999999999983\"></rect><rect x=\"21.6\" y=\"99.60000000000001\" width=\"7.800000000000001\" height=\"7.799999999999997\"></rect><rect x=\"75.6\" y=\"99.60000000000001\" width=\"7.800000000000011\" height=\"7.799999999999997\"></rect><rect x=\"120.60000000000001\" y=\"99.60000000000001\" width=\"7.799999999999997\" height=\"7.799999999999997\"></rect><rect x=\"144.60000000000002\" y=\"99.60000000000001\" width=\"7.7999999999999545\" height=\"7.799999999999997\"></rect><rect x=\"369.6\" y=\"99.60000000000001\" width=\"7.7999999999999545\" height=\"7.799999999999997\"></rect><rect x=\"78.60000000000001\" y=\"102.60000000000001\" width=\"7.799999999999997\" height=\"7.799999999999983\"></rect><rect x=\"93.6\" y=\"102.60000000000001\" width=\"7.799999999999997\" height=\"7.799999999999983\"></rect><rect x=\"114.60000000000001\" y=\"102.60000000000001\" width=\"7.799999999999997\" height=\"7.799999999999983\"></rect><rect x=\"135.60000000000002\" y=\"102.60000000000001\" width=\"7.799999999999983\" height=\"7.799999999999983\"></rect><rect x=\"198.60000000000002\" y=\"102.60000000000001\" width=\"7.7999999999999545\" height=\"7.799999999999983\"></rect><rect x=\"351.6\" y=\"102.60000000000001\" width=\"7.7999999999999545\" height=\"7.799999999999983\"></rect><rect x=\"402.59999999999997\" y=\"102.60000000000001\" width=\"7.800000000000068\" height=\"7.799999999999983\"></rect><rect x=\"27.599999999999998\" y=\"105.60000000000001\" width=\"7.800000000000001\" height=\"7.799999999999983\"></rect><rect x=\"57.599999999999994\" y=\"105.60000000000001\" width=\"7.800000000000011\" height=\"7.799999999999983\"></rect><rect x=\"138.6\" y=\"105.60000000000001\" width=\"7.800000000000011\" height=\"7.799999999999983\"></rect><rect x=\"255.6\" y=\"105.60000000000001\" width=\"7.799999999999983\" height=\"7.799999999999983\"></rect><rect x=\"261.6\" y=\"105.60000000000001\" width=\"7.7999999999999545\" height=\"7.799999999999983\"></rect><rect x=\"360.59999999999997\" y=\"105.60000000000001\" width=\"7.800000000000011\" height=\"7.799999999999983\"></rect><rect x=\"162.60000000000002\" y=\"108.6\" width=\"7.7999999999999545\" height=\"7.799999999999997\"></rect><rect x=\"180.60000000000002\" y=\"108.6\" width=\"7.7999999999999545\" height=\"7.799999999999997\"></rect><rect x=\"285.6\" y=\"108.6\" width=\"7.7999999999999545\" height=\"7.799999999999997\"></rect><rect x=\"306.6\" y=\"108.6\" width=\"7.800000000000011\" height=\"7.799999999999997\"></rect><rect x=\"333.6\" y=\"108.6\" width=\"7.7999999999999545\" height=\"7.799999999999997\"></rect><rect x=\"18.6\" y=\"111.60000000000002\" width=\"7.800000000000001\" height=\"7.7999999999999545\"></rect><rect x=\"96.60000000000001\" y=\"111.60000000000002\" width=\"7.799999999999983\" height=\"7.7999999999999545\"></rect><rect x=\"111.60000000000002\" y=\"111.60000000000002\" width=\"7.7999999999999545\" height=\"7.7999999999999545\"></rect><rect x=\"147.60000000000002\" y=\"111.60000000000002\" width=\"7.7999999999999545\" height=\"7.7999999999999545\"></rect><rect x=\"228.60000000000002\" y=\"111.60000000000002\" width=\"7.7999999999999545\" height=\"7.7999999999999545\"></rect><rect x=\"255.6\" y=\"111.60000000000002\" width=\"7.799999999999983\" height=\"7.7999999999999545\"></rect><rect x=\"402.59999999999997\" y=\"111.60000000000002\" width=\"7.800000000000068\" height=\"7.7999999999999545\"></rect><rect x=\"48.6\" y=\"114.60000000000001\" width=\"7.800000000000004\" height=\"7.799999999999997\"></rect><rect x=\"63.6\" y=\"114.60000000000001\" width=\"7.800000000000004\" height=\"7.799999999999997\"></rect><rect x=\"90.6\" y=\"114.60000000000001\" width=\"7.799999999999997\" height=\"7.799999999999997\"></rect><rect x=\"111.60000000000002\" y=\"114.60000000000001\" width=\"7.7999999999999545\" height=\"7.799999999999997\"></rect><rect x=\"276.6\" y=\"114.60000000000001\" width=\"7.7999999999999545\" height=\"7.799999999999997\"></rect><rect x=\"342.6\" y=\"114.60000000000001\" width=\"7.800000000000011\" height=\"7.799999999999997\"></rect><rect x=\"363.59999999999997\" y=\"114.60000000000001\" width=\"7.800000000000011\" height=\"7.799999999999997\"></rect><rect x=\"78.60000000000001\" y=\"117.60000000000001\" width=\"7.799999999999997\" height=\"7.799999999999983\"></rect><rect x=\"84.6\" y=\"117.60000000000001\" width=\"7.800000000000011\" height=\"7.799999999999983\"></rect><rect x=\"132.60000000000002\" y=\"117.60000000000001\" width=\"7.799999999999983\" height=\"7.799999999999983\"></rect><rect x=\"306.6\" y=\"117.60000000000001\" width=\"7.800000000000011\" height=\"7.799999999999983\"></rect><rect x=\"369.6\" y=\"117.60000000000001\" width=\"7.7999999999999545\" height=\"7.799999999999983\"></rect><rect x=\"9.6\" y=\"120.60000000000001\" width=\"7.8000000000000025\" height=\"7.799999999999997\"></rect><rect x=\"48.6\" y=\"120.60000000000001\" width=\"7.800000000000004\" height=\"7.799999999999997\"></rect><rect x=\"105.60000000000001\" y=\"120.60000000000001\" width=\"7.799999999999983\" height=\"7.799999999999997\"></rect><rect x=\"183.60000000000002\" y=\"120.60000000000001\" width=\"7.7999999999999545\" height=\"7.799999999999997\"></rect><rect x=\"327.59999999999997\" y=\"120.60000000000001\" width=\"7.800000000000011\" height=\"7.799999999999997\"></rect><rect x=\"387.59999999999997\" y=\"120.60000000000001\" width=\"7.800000000000068\" height=\"7.799999999999997\"></rect><rect x=\"402.59999999999997\" y=\"120.60000000000001\" width=\"7.800000000000068\" height=\"7.799999999999997\"></rect><rect x=\"3.5999999999999996\" y=\"123.6\" width=\"7.800000000000001\" height=\"7.799999999999983\"></rect><rect x=\"48.6\" y=\"123.6\" width=\"7.800000000000004\" height=\"7.799999999999983\"></rect><rect x=\"141.6\" y=\"123.6\" width=\"7.799999999999983\" height=\"7.799999999999983\"></rect><rect x=\"177.6\" y=\"123.6\" width=\"7.799999999999983\" height=\"7.799999999999983\"></rect><rect x=\"363.59999999999997\" y=\"123.6\" width=\"7.800000000000011\" height=\"7.799999999999983\"></rect><rect x=\"30.6\" y=\"126.6\" width=\"7.799999999999997\" height=\"7.799999999999983\"></rect><rect x=\"93.6\" y=\"126.6\" width=\"7.799999999999997\" height=\"7.799999999999983\"></rect><rect x=\"141.6\" y=\"126.6\" width=\"7.799999999999983\" height=\"7.799999999999983\"></rect><rect x=\"150.60000000000002\" y=\"126.6\" width=\"7.799999999999983\" height=\"7.799999999999983\"></rect><rect x=\"183.60000000000002\" y=\"126.6\" width=\"7.7999999999999545\" height=\"7.799999999999983\"></rect><rect x=\"210.6\" y=\"126.6\" width=\"7.800000000000011\" height=\"7.799999999999983\"></rect><rect x=\"234.60000000000002\" y=\"126.6\" width=\"7.799999999999983\" height=\"7.799999999999983\"></rect><rect x=\"321.6\" y=\"126.6\" width=\"7.7999999999999545\" height=\"7.799999999999983\"></rect><rect x=\"351.6\" y=\"126.6\" width=\"7.7999999999999545\" height=\"7.799999999999983\"></rect><rect x=\"12.600000000000001\" y=\"129.60000000000002\" width=\"7.799999999999997\" height=\"7.7999999999999545\"></rect><rect x=\"90.6\" y=\"129.60000000000002\" width=\"7.799999999999997\" height=\"7.7999999999999545\"></rect><rect x=\"123.6\" y=\"129.60000000000002\" width=\"7.799999999999983\" height=\"7.7999999999999545\"></rect><rect x=\"246.6\" y=\"129.60000000000002\" width=\"7.800000000000011\" height=\"7.7999999999999545\"></rect><rect x=\"258.59999999999997\" y=\"129.60000000000002\" width=\"7.800000000000011\" height=\"7.7999999999999545\"></rect><rect x=\"291.59999999999997\" y=\"129.60000000000002\" width=\"7.800000000000011\" height=\"7.7999999999999545\"></rect><rect x=\"339.6\" y=\"129.60000000000002\" width=\"7.800000000000011\" height=\"7.7999999999999545\"></rect><rect x=\"372.6\" y=\"129.60000000000002\" width=\"7.800000000000011\" height=\"7.7999999999999545\"></rect><rect x=\"393.59999999999997\" y=\"129.60000000000002\" width=\"7.800000000000068\" height=\"7.7999999999999545\"></rect><rect x=\"75.6\" y=\"132.60000000000002\" width=\"7.800000000000011\" height=\"7.799999999999983\"></rect><rect x=\"84.6\" y=\"132.60000000000002\" width=\"7.800000000000011\" height=\"7.799999999999983\"></rect><rect x=\"114.60000000000001\" y=\"132.60000000000002\" width=\"7.799999999999997\" height=\"7.799999999999983\"></rect><rect x=\"129.60000000000002\" y=\"132.60000000000002\" width=\"7.7999999999999545\" height=\"7.799999999999983\"></rect><rect x=\"192.6\" y=\"132.60000000000002\" width=\"7.800000000000011\" height=\"7.799999999999983\"></rect><rect x=\"312.6\" y=\"132.60000000000002\" width=\"7.7999999999999545\" height=\"7.799999999999983\"></rect><rect x=\"321.6\" y=\"132.60000000000002\" width=\"7.7999999999999545\" height=\"7.799999999999983\"></rect><rect x=\"327.59999999999997\" y=\"132.60000000000002\" width=\"7.800000000000011\" height=\"7.799999999999983\"></rect><rect x=\"96.60000000000001\" y=\"135.60000000000002\" width=\"7.799999999999983\" height=\"7.799999999999983\"></rect><rect x=\"210.6\" y=\"135.60000000000002\" width=\"7.800000000000011\" height=\"7.799999999999983\"></rect><rect x=\"336.6\" y=\"135.60000000000002\" width=\"7.800000000000011\" height=\"7.799999999999983\"></rect><rect x=\"402.59999999999997\" y=\"135.60000000000002\" width=\"7.800000000000068\" height=\"7.799999999999983\"></rect><rect x=\"24.599999999999998\" y=\"138.6\" width=\"7.800000000000008\" height=\"7.800000000000011\"></rect><rect x=\"36.6\" y=\"138.6\" width=\"7.799999999999997\" height=\"7.800000000000011\"></rect><rect x=\"54.6\" y=\"138.6\" width=\"7.799999999999997\" height=\"7.800000000000011\"></rect><rect x=\"72.6\" y=\"138.6\" width=\"7.800000000000011\" height=\"7.800000000000011\"></rect><rect x=\"102.60000000000001\" y=\"138.6\" width=\"7.799999999999983\" height=\"7.800000000000011\"></rect><rect x=\"177.6\" y=\"138.6\" width=\"7.799999999999983\" height=\"7.800000000000011\"></rect><rect x=\"255.6\" y=\"138.6\" width=\"7.799999999999983\" height=\"7.800000000000011\"></rect><rect x=\"300.6\" y=\"138.6\" width=\"7.800000000000011\" height=\"7.800000000000011\"></rect><rect x=\"381.6\" y=\"138.6\" width=\"7.800000000000011\" height=\"7.800000000000011\"></rect><rect x=\"87.60000000000001\" y=\"141.6\" width=\"7.799999999999997\" height=\"7.799999999999983\"></rect><rect x=\"150.60000000000002\" y=\"141.6\" width=\"7.799999999999983\" height=\"7.799999999999983\"></rect><rect x=\"195.6\" y=\"141.6\" width=\"7.799999999999983\" height=\"7.799999999999983\"></rect><rect x=\"240.60000000000002\" y=\"141.6\" width=\"7.799999999999983\" height=\"7.799999999999983\"></rect><rect x=\"267.6\" y=\"141.6\" width=\"7.800000000000011\" height=\"7.799999999999983\"></rect><rect x=\"351.6\" y=\"141.6\" width=\"7.7999999999999545\" height=\"7.799999999999983\"></rect><rect x=\"33.599999999999994\" y=\"144.60000000000002\" width=\"7.800000000000011\" height=\"7.7999999999999545\"></rect><rect x=\"141.6\" y=\"144.60000000000002\" width=\"7.799999999999983\" height=\"7.7999999999999545\"></rect><rect x=\"162.60000000000002\" y=\"144.60000000000002\" width=\"7.7999999999999545\" height=\"7.7999999999999545\"></rect><rect x=\"345.6\" y=\"144.60000000000002\" width=\"7.7999999999999545\" height=\"7.7999999999999545\"></rect><rect x=\"372.6\" y=\"144.60000000000002\" width=\"7.800000000000011\" height=\"7.7999999999999545\"></rect><rect x=\"408.59999999999997\" y=\"144.60000000000002\" width=\"7.800000000000068\" height=\"7.7999999999999545\"></rect><rect x=\"30.6\" y=\"147.60000000000002\" width=\"7.799999999999997\" height=\"7.7999999999999545\"></rect><rect x=\"72.6\" y=\"147.60000000000002\" width=\"7.800000000000011\" height=\"7.7999999999999545\"></rect><rect x=\"126.6\" y=\"147.60000000000002\" width=\"7.799999999999983\" height=\"7.7999999999999545\"></rect><rect x=\"201.60000000000002\" y=\"147.60000000000002\" width=\"7.7999999999999545\" height=\"7.7999999999999545\"></rect><rect x=\"261.6\" y=\"147.60000000000002\" width=\"7.7999999999999545\" height=\"7.7999999999999545\"></rect><rect x=\"282.6\" y=\"147.60000000000002\" width=\"7.7999999999999545\" height=\"7.7999999999999545\"></rect><rect x=\"309.6\" y=\"147.60000000000002\" width=\"7.7999999999999545\" height=\"7.7999999999999545\"></rect><rect x=\"336.6\" y=\"147.60000000000002\" width=\"7.800000000000011\" height=\"7.7999999999999545\"></rect><rect x=\"390.59999999999997\" y=\"147.60000000000002\" width=\"7.800000000000068\" height=\"7.7999999999999545\"></rect><rect x=\"15.6\" y=\"150.60000000000002\" width=\"7.799999999999999\" height=\"7.799999999999983\"></rect><rect x=\"93.6\" y=\"150.60000000000002\" width=\"7.799999999999997\" height=\"7.799999999999983\"></rect><rect x=\"267.6\" y=\"150.60000000000002\" width=\"7.800000000000011\" height=\"7.799999999999983\"></rect><rect x=\"318.6\" y=\"150.60000000000002\" width=\"7.7999999999999545\" height=\"7.799999999999983\"></rect><rect x=\"54.6\" y=\"153.6\" width=\"7.799999999999997\" height=\"7.800000000000011\"></rect><rect x=\"108.6\" y=\"153.6\" width=\"7.799999999999997\" height=\"7.800000000000011\"></rect><rect x=\"234.60000000000002\" y=\"153.6\" width=\"7.799999999999983\" height=\"7.800000000000011\"></rect><rect x=\"240.60000000000002\" y=\"153.6\" width=\"7.799999999999983\" height=\"7.800000000000011\"></rect><rect x=\"255.6\" y=\"153.6\" width=\"7.799999999999983\" height=\"7.800000000000011\"></rect><rect x=\"324.59999999999997\" y=\"153.6\" width=\"7.800000000000011\" height=\"7.800000000000011\"></rect><rect x=\"333.6\" y=\"153.6\" width=\"7.7999999999999545\" height=\"7.800000000000011\"></rect><rect x=\"360.59999999999997\" y=\"153.6\" width=\"7.800000000000011\" height=\"7.800000000000011\"></rect><rect x=\"375.6\" y=\"153.6\" width=\"7.800000000000011\" height=\"7.800000000000011\"></rect><rect x=\"135.60000000000002\" y=\"156.6\" width=\"7.799999999999983\" height=\"7.800000000000011\"></rect><rect x=\"144.60000000000002\" y=\"156.6\" width=\"7.7999999999999545\" height=\"7.800000000000011\"></rect><rect x=\"219.6\" y=\"156.6\" width=\"7.799999999999983\" height=\"7.800000000000011\"></rect><rect x=\"285.6\" y=\"156.6\" width=\"7.7999999999999545\" height=\"7.800000000000011\"></rect><rect x=\"336.6\" y=\"156.6\" width=\"7.800000000000011\" height=\"7.800000000000011\"></rect><rect x=\"33.599999999999994\" y=\"159.6\" width=\"7.800000000000011\" height=\"7.799999999999983\"></rect><rect x=\"66.6\" y=\"159.6\" width=\"7.800000000000011\" height=\"7.799999999999983\"></rect><rect x=\"99.60000000000001\" y=\"159.6\" width=\"7.799999999999997\" height=\"7.799999999999983\"></rect><rect x=\"186.60000000000002\" y=\"159.6\" width=\"7.799999999999983\" height=\"7.799999999999983\"></rect><rect x=\"237.60000000000002\" y=\"159.6\" width=\"7.799999999999983\" height=\"7.799999999999983\"></rect><rect x=\"330.59999999999997\" y=\"159.6\" width=\"7.800000000000011\" height=\"7.799999999999983\"></rect><rect x=\"348.6\" y=\"159.6\" width=\"7.7999999999999545\" height=\"7.799999999999983\"></rect><rect x=\"198.60000000000002\" y=\"162.60000000000002\" width=\"7.7999999999999545\" height=\"7.7999999999999545\"></rect><rect x=\"228.60000000000002\" y=\"162.60000000000002\" width=\"7.7999999999999545\" height=\"7.7999999999999545\"></rect><rect x=\"273.6\" y=\"162.60000000000002\" width=\"7.7999999999999545\" height=\"7.7999999999999545\"></rect><rect x=\"18.6\" y=\"165.60000000000002\" width=\"7.800000000000001\" height=\"7.7999999999999545\"></rect><rect x=\"60.6\" y=\"165.60000000000002\" width=\"7.800000000000004\" height=\"7.7999999999999545\"></rect><rect x=\"84.6\" y=\"165.60000000000002\" width=\"7.800000000000011\" height=\"7.7999999999999545\"></rect><rect x=\"105.60000000000001\" y=\"165.60000000000002\" width=\"7.799999999999983\" height=\"7.7999999999999545\"></rect><rect x=\"111.60000000000002\" y=\"165.60000000000002\" width=\"7.7999999999999545\" height=\"7.7999999999999545\"></rect><rect x=\"156.6\" y=\"165.60000000000002\" width=\"7.800000000000011\" height=\"7.7999999999999545\"></rect><rect x=\"171.6\" y=\"165.60000000000002\" width=\"7.800000000000011\" height=\"7.7999999999999545\"></rect><rect x=\"195.6\" y=\"165.60000000000002\" width=\"7.799999999999983\" height=\"7.7999999999999545\"></rect><rect x=\"294.59999999999997\" y=\"165.60000000000002\" width=\"7.800000000000011\" height=\"7.7999999999999545\"></rect><rect x=\"312.6\" y=\"165.60000000000002\" width=\"7.7999999999999545\" height=\"7.7999999999999545\"></rect><rect x=\"333.6\" y=\"165.60000000000002\" width=\"7.7999999999999545\" height=\"7.7999999999999545\"></rect><rect x=\"402.59999999999997\" y=\"165.60000000000002\" width=\"7.800000000000068\" height=\"7.7999999999999545\"></rect><rect x=\"3.5999999999999996\" y=\"168.60000000000002\" width=\"7.800000000000001\" height=\"7.799999999999983\"></rect><rect x=\"27.599999999999998\" y=\"168.60000000000002\" width=\"7.800000000000001\" height=\"7.799999999999983\"></rect><rect x=\"132.60000000000002\" y=\"168.60000000000002\" width=\"7.799999999999983\" height=\"7.799999999999983\"></rect><rect x=\"222.6\" y=\"168.60000000000002\" width=\"7.799999999999983\" height=\"7.799999999999983\"></rect><rect x=\"291.59999999999997\" y=\"168.60000000000002\" width=\"7.800000000000011\" height=\"7.799999999999983\"></rect><rect x=\"390.59999999999997\" y=\"168.60000000000002\" width=\"7.800000000000068\" height=\"7.799999999999983\"></rect><rect x=\"393.59999999999997\" y=\"168.60000000000002\" width=\"7.800000000000068\" height=\"7.799999999999983\"></rect><rect x=\"405.59999999999997\" y=\"168.60000000000002\" width=\"7.800000000000068\" height=\"7.799999999999983\"></rect><rect x=\"9.6\" y=\"171.6\" width=\"7.8000000000000025\" height=\"7.800000000000011\"></rect><rect x=\"156.6\" y=\"171.6\" width=\"7.800000000000011\" height=\"7.800000000000011\"></rect><rect x=\"204.60000000000002\" y=\"171.6\" width=\"7.799999999999983\" height=\"7.800000000000011\"></rect><rect x=\"216.6\" y=\"171.6\" width=\"7.799999999999983\" height=\"7.800000000000011\"></rect><rect x=\"330.59999999999997\" y=\"171.6\" width=\"7.800000000000011\" height=\"7.800000000000011\"></rect><rect x=\"372.6\" y=\"171.6\" width=\"7.800000000000011\" height=\"7.800000000000011\"></rect><rect x=\"387.59999999999997\" y=\"171.6\" width=\"7.800000000000068\" height=\"7.800000000000011\"></rect><rect x=\"51.599999999999994\" y=\"174.6\" width=\"7.800000000000011\" height=\"7.800000000000011\"></rect><rect x=\"75.6\" y=\"174.6\" width=\"7.800000000000011\" height=\"7.800000000000011\"></rect><rect x=\"78.60000000000001\" y=\"174.6\" width=\"7.799999999999997\" height=\"7.800000000000011\"></rect><rect x=\"120.60000000000001\" y=\"174.6\" width=\"7.799999999999997\" height=\"7.800000000000011\"></rect><rect x=\"207.6\" y=\"174.6\" width=\"7.800000000000011\" height=\"7.800000000000011\"></rect><rect x=\"246.6\" y=\"174.6\" width=\"7.800000000000011\" height=\"7.800000000000011\"></rect><rect x=\"276.6\" y=\"174.6\" width=\"7.7999999999999545\" height=\"7.800000000000011\"></rect><rect x=\"378.6\" y=\"174.6\" width=\"7.800000000000011\" height=\"7.800000000000011\"></rect><rect x=\"393.59999999999997\" y=\"174.6\" width=\"7.800000000000068\" height=\"7.800000000000011\"></rect><rect x=\"51.599999999999994\" y=\"177.6\" width=\"7.800000000000011\" height=\"7.799999999999983\"></rect><rect x=\"90.6\" y=\"177.6\" width=\"7.799999999999997\" height=\"7.799999999999983\"></rect><rect x=\"108.6\" y=\"177.6\" width=\"7.799999999999997\" height=\"7.799999999999983\"></rect><rect x=\"150.60000000000002\" y=\"177.6\" width=\"7.799999999999983\" height=\"7.799999999999983\"></rect><rect x=\"249.6\" y=\"177.6\" width=\"7.799999999999983\" height=\"7.799999999999983\"></rect><rect x=\"309.6\" y=\"177.6\" width=\"7.7999999999999545\" height=\"7.799999999999983\"></rect><rect x=\"72.6\" y=\"180.60000000000002\" width=\"7.800000000000011\" height=\"7.7999999999999545\"></rect><rect x=\"144.60000000000002\" y=\"180.60000000000002\" width=\"7.7999999999999545\" height=\"7.7999999999999545\"></rect><rect x=\"180.60000000000002\" y=\"180.60000000000002\" width=\"7.7999999999999545\" height=\"7.7999999999999545\"></rect><rect x=\"195.6\" y=\"180.60000000000002\" width=\"7.799999999999983\" height=\"7.7999999999999545\"></rect><rect x=\"258.59999999999997\" y=\"180.60000000000002\" width=\"7.800000000000011\" height=\"7.7999999999999545\"></rect><rect x=\"369.6\" y=\"180.60000000000002\" width=\"7.7999999999999545\" height=\"7.7999999999999545\"></rect><rect x=\"405.59999999999997\" y=\"180.60000000000002\" width=\"7.800000000000068\" height=\"7.7999999999999545\"></rect><rect x=\"24.599999999999998\" y=\"183.60000000000002\" width=\"7.800000000000008\" height=\"7.7999999999999545\"></rect><rect x=\"108.6\" y=\"183.60000000000002\" width=\"7.799999999999997\" height=\"7.7999999999999545\"></rect><rect x=\"144.60000000000002\" y=\"183.60000000000002\" width=\"7.7999999999999545\" height=\"7.7999999999999545\"></rect><rect x=\"165.60000000000002\" y=\"183.60000000000002\" width=\"7.7999999999999545\" height=\"7.7999999999999545\"></rect><rect x=\"234.60000000000002\" y=\"183.60000000000002\" width=\"7.799999999999983\" height=\"7.7999999999999545\"></rect><rect x=\"273.6\" y=\"183.60000000000002\" width=\"7.7999999999999545\" height=\"7.7999999999999545\"></rect><rect x=\"321.6\" y=\"183.60000000000002\" width=\"7.7999999999999545\" height=\"7.7999999999999545\"></rect><rect x=\"351.6\" y=\"183.60000000000002\" width=\"7.7999999999999545\" height=\"7.7999999999999545\"></rect><rect x=\"372.6\" y=\"183.60000000000002\" width=\"7.800000000000011\" height=\"7.7999999999999545\"></rect><rect x=\"12.600000000000001\" y=\"186.60000000000002\" width=\"7.799999999999997\" height=\"7.799999999999983\"></rect><rect x=\"45.6\" y=\"186.60000000000002\" width=\"7.799999999999997\" height=\"7.799999999999983\"></rect><rect x=\"102.60000000000001\" y=\"186.60000000000002\" width=\"7.799999999999983\" height=\"7.799999999999983\"></rect><rect x=\"156.6\" y=\"186.60000000000002\" width=\"7.800000000000011\" height=\"7.799999999999983\"></rect><rect x=\"213.6\" y=\"186.60000000000002\" width=\"7.799999999999983\" height=\"7.799999999999983\"></rect><rect x=\"339.6\" y=\"186.60000000000002\" width=\"7.800000000000011\" height=\"7.799999999999983\"></rect><rect x=\"360.59999999999997\" y=\"186.60000000000002\" width=\"7.800000000000011\" height=\"7.799999999999983\"></rect><rect x=\"42.599999999999994\" y=\"189.6\" width=\"7.800000000000011\" height=\"7.800000000000011\"></rect><rect x=\"117.60000000000001\" y=\"189.6\" width=\"7.799999999999983\" height=\"7.800000000000011\"></rect><rect x=\"147.60000000000002\" y=\"189.6\" width=\"7.7999999999999545\" height=\"7.800000000000011\"></rect><rect x=\"186.60000000000002\" y=\"189.6\" width=\"7.799999999999983\" height=\"7.800000000000011\"></rect><rect x=\"264.6\" y=\"189.6\" width=\"7.7999999999999545\" height=\"7.800000000000011\"></rect><rect x=\"288.59999999999997\" y=\"189.6\" width=\"7.800000000000011\" height=\"7.800000000000011\"></rect><rect x=\"390.59999999999997\" y=\"189.6\" width=\"7.800000000000068\" height=\"7.800000000000011\"></rect><rect x=\"399.59999999999997\" y=\"189.6\" width=\"7.800000000000068\" height=\"7.800000000000011\"></rect><rect x=\"87.60000000000001\" y=\"192.6\" width=\"7.799999999999997\" height=\"7.800000000000011\"></rect><rect x=\"231.60000000000002\" y=\"192.6\" width=\"7.799999999999983\" height=\"7.800000000000011\"></rect><rect x=\"318.6\" y=\"192.6\" width=\"7.7999999999999545\" height=\"7.800000000000011\"></rect><rect x=\"48.6\" y=\"195.6\" width=\"7.800000000000004\" height=\"7.799999999999983\"></rect><rect x=\"66.6\" y=\"195.6\" width=\"7.800000000000011\" height=\"7.799999999999983\"></rect><rect x=\"228.60000000000002\" y=\"195.6\" width=\"7.7999999999999545\" height=\"7.799999999999983\"></rect><rect x=\"252.6\" y=\"195.6\" width=\"7.799999999999983\" height=\"7.799999999999983\"></rect><rect x=\"372.6\" y=\"195.6\" width=\"7.800000000000011\" height=\"7.799999999999983\"></rect><rect x=\"21.6\" y=\"198.60000000000002\" width=\"7.800000000000001\" height=\"7.7999999999999545\"></rect><rect x=\"30.6\" y=\"198.60000000000002\" width=\"7.799999999999997\" height=\"7.7999999999999545\"></rect><rect x=\"78.60000000000001\" y=\"198.60000000000002\" width=\"7.799999999999997\" height=\"7.7999999999999545\"></rect><rect x=\"141.6\" y=\"198.60000000000002\" width=\"7.799999999999983\" height=\"7.7999999999999545\"></rect><rect x=\"171.6\" y=\"198.60000000000002\" width=\"7.800000000000011\" height=\"7.7999999999999545\"></rect><rect x=\"192.6\" y=\"198.60000000000002\" width=\"7.800000000000011\" height=\"7.7999999999999545\"></rect><rect x=\"210.6\" y=\"198.60000000000002\" width=\"7.800000000000011\" height=\"7.7999999999999545\"></rect><rect x=\"285.6\" y=\"198.60000000000002\" width=\"7.7999999999999545\" height=\"7.7999999999999545\"></rect><rect x=\"9.6\" y=\"201.60000000000002\" width=\"7.8000000000000025\" height=\"7.7999999999999545\"></rect><rect x=\"27.599999999999998\" y=\"201.60000000000002\" width=\"7.800000000000001\" height=\"7.7999999999999545\"></rect><rect x=\"54.6\" y=\"201.60000000000002\" width=\"7.799999999999997\" height=\"7.7999999999999545\"></rect><rect x=\"72.6\" y=\"201.60000000000002\" width=\"7.800000000000011\" height=\"7.7999999999999545\"></rect><rect x=\"126.6\" y=\"201.60000000000002\" width=\"7.799999999999983\" height=\"7.7999999999999545\"></rect><rect x=\"165.60000000000002\" y=\"201.60000000000002\" width=\"7.7999999999999545\" height=\"7.7999999999999545\"></rect><rect x=\"267.6\" y=\"201.60000000000002\" width=\"7.800000000000011\" height=\"7.7999999999999545\"></rect><rect x=\"327.59999999999997\" y=\"201.60000000000002\" width=\"7.800000000000011\" height=\"7.7999999999999545\"></rect><rect x=\"399.59999999999997\" y=\"201.60000000000002\" width=\"7.800000000000068\" height=\"7.7999999999999545\"></rect><rect x=\"132.60000000000002\" y=\"204.60000000000002\" width=\"7.799999999999983\" height=\"7.799999999999983\"></rect><rect x=\"171.6\" y=\"204.60000000000002\" width=\"7.800000000000011\" height=\"7.799999999999983\"></rect><rect x=\"258.59999999999997\" y=\"204.60000000000002\" width=\"7.800000000000011\" height=\"7.799999999999983\"></rect><rect x=\"276.6\" y=\"204.60000000000002\" width=\"7.7999999999999545\" height=\"7.799999999999983\"></rect><rect x=\"306.6\" y=\"204.60000000000002\" width=\"7.800000000000011\" height=\"7.799999999999983\"></rect><rect x=\"345.6\" y=\"204.60000000000002\" width=\"7.7999999999999545\" height=\"7.799999999999983\"></rect><rect x=\"393.59999999999997\" y=\"204.60000000000002\" width=\"7.800000000000068\" height=\"7.799999999999983\"></rect><rect x=\"60.6\" y=\"207.6\" width=\"7.800000000000004\" height=\"7.800000000000011\"></rect><rect x=\"93.6\" y=\"207.6\" width=\"7.799999999999997\" height=\"7.800000000000011\"></rect><rect x=\"111.60000000000002\" y=\"207.6\" width=\"7.7999999999999545\" height=\"7.800000000000011\"></rect><rect x=\"198.60000000000002\" y=\"207.6\" width=\"7.7999999999999545\" height=\"7.800000000000011\"></rect><rect x=\"219.6\" y=\"207.6\" width=\"7.799999999999983\" height=\"7.800000000000011\"></rect><rect x=\"243.6\" y=\"207.6\" width=\"7.800000000000011\" height=\"7.800000000000011\"></rect><rect x=\"258.59999999999997\" y=\"207.6\" width=\"7.800000000000011\" height=\"7.800000000000011\"></rect><rect x=\"339.6\" y=\"207.6\" width=\"7.800000000000011\" height=\"7.800000000000011\"></rect><rect x=\"357.6\" y=\"207.6\" width=\"7.7999999999999545\" height=\"7.800000000000011\"></rect><rect x=\"12.600000000000001\" y=\"210.6\" width=\"7.799999999999997\" height=\"7.800000000000011\"></rect><rect x=\"267.6\" y=\"210.6\" width=\"7.800000000000011\" height=\"7.800000000000011\"></rect><rect x=\"351.6\" y=\"210.6\" width=\"7.7999999999999545\" height=\"7.800000000000011\"></rect><rect x=\"12.600000000000001\" y=\"213.6\" width=\"7.799999999999997\" height=\"7.799999999999983\"></rect><rect x=\"24.599999999999998\" y=\"213.6\" width=\"7.800000000000008\" height=\"7.799999999999983\"></rect><rect x=\"75.6\" y=\"213.6\" width=\"7.800000000000011\" height=\"7.799999999999983\"></rect><rect x=\"114.60000000000001\" y=\"213.6\" width=\"7.799999999999997\" height=\"7.799999999999983\"></rect><rect x=\"117.60000000000001\" y=\"213.6\" width=\"7.799999999999983\" height=\"7.799999999999983\"></rect><rect x=\"138.6\" y=\"213.6\" width=\"7.800000000000011\" height=\"7.799999999999983\"></rect><rect x=\"156.6\" y=\"213.6\" width=\"7.800000000000011\" height=\"7.799999999999983\"></rect><rect x=\"321.6\" y=\"213.6\" width=\"7.7999999999999545\" height=\"7.799999999999983\"></rect><rect x=\"327.59999999999997\" y=\"213.6\" width=\"7.800000000000011\" height=\"7.799999999999983\"></rect><rect x=\"33.599999999999994\" y=\"216.6\" width=\"7.800000000000011\" height=\"7.799999999999983\"></rect><rect x=\"102.60000000000001\" y=\"216.6\" width=\"7.799999999999983\" height=\"7.799999999999983\"></rect><rect x=\"147.60000000000002\" y=\"216.6\" width=\"7.7999999999999545\" height=\"7.799999999999983\"></rect><rect x=\"165.60000000000002\" y=\"216.6\" width=\"7.7999999999999545\" height=\"7.799999999999983\"></rect><rect x=\"195.6\" y=\"216.6\" width=\"7.799999999999983\" height=\"7.799999999999983\"></rect><rect x=\"204.60000000000002\" y=\"216.6\" width=\"7.799999999999983\" height=\"7.799999999999983\"></rect><rect x=\"237.60000000000002\" y=\"216.6\" width=\"7.799999999999983\" height=\"7.799999999999983\"></rect><rect x=\"333.6\" y=\"216.6\" width=\"7.7999999999999545\" height=\"7.799999999999983\"></rect><rect x=\"39.6\" y=\"219.6\" width=\"7.799999999999997\" height=\"7.799999999999983\"></rect><rect x=\"60.6\" y=\"219.6\" width=\"7.800000000000004\" height=\"7.799999999999983\"></rect><rect x=\"87.60000000000001\" y=\"219.6\" width=\"7.799999999999997\" height=\"7.799999999999983\"></rect><rect x=\"153.6\" y=\"219.6\" width=\"7.800000000000011\" height=\"7.799999999999983\"></rect><rect x=\"174.6\" y=\"219.6\" width=\"7.800000000000011\" height=\"7.799999999999983\"></rect><rect x=\"258.59999999999997\" y=\"219.6\" width=\"7.800000000000011\" height=\"7.799999999999983\"></rect><rect x=\"282.6\" y=\"219.6\" width=\"7.7999999999999545\" height=\"7.799999999999983\"></rect><rect x=\"300.6\" y=\"219.6\" width=\"7.800000000000011\" height=\"7.799999999999983\"></rect><rect x=\"381.6\" y=\"219.6\" width=\"7.800000000000011\" height=\"7.799999999999983\"></rect><rect x=\"9.6\" y=\"222.6\" width=\"7.8000000000000025\" height=\"7.799999999999983\"></rect><rect x=\"99.60000000000001\" y=\"222.6\" width=\"7.799999999999997\" height=\"7.799999999999983\"></rect><rect x=\"123.6\" y=\"222.6\" width=\"7.799999999999983\" height=\"7.799999999999983\"></rect><rect x=\"171.6\" y=\"222.6\" width=\"7.800000000000011\" height=\"7.799999999999983\"></rect><rect x=\"267.6\" y=\"222.6\" width=\"7.800000000000011\" height=\"7.799999999999983\"></rect><rect x=\"348.6\" y=\"222.6\" width=\"7.7999999999999545\" height=\"7.799999999999983\"></rect><rect x=\"360.59999999999997\" y=\"222.6\" width=\"7.800000000000011\" height=\"7.799999999999983\"></rect><rect x=\"78.60000000000001\" y=\"225.60000000000002\" width=\"7.799999999999997\" height=\"7.7999999999999545\"></rect><rect x=\"150.60000000000002\" y=\"225.60000000000002\" width=\"7.799999999999983\" height=\"7.7999999999999545\"></rect><rect x=\"192.6\" y=\"225.60000000000002\" width=\"7.800000000000011\" height=\"7.7999999999999545\"></rect><rect x=\"213.6\" y=\"225.60000000000002\" width=\"7.799999999999983\" height=\"7.7999999999999545\"></rect><rect x=\"234.60000000000002\" y=\"225.60000000000002\" width=\"7.799999999999983\" height=\"7.7999999999999545\"></rect><rect x=\"15.6\" y=\"228.60000000000002\" width=\"7.799999999999999\" height=\"7.7999999999999545\"></rect><rect x=\"36.6\" y=\"228.60000000000002\" width=\"7.799999999999997\" height=\"7.7999999999999545\"></rect><rect x=\"39.6\" y=\"228.60000000000002\" width=\"7.799999999999997\" height=\"7.7999999999999545\"></rect><rect x=\"42.599999999999994\" y=\"228.60000000000002\" width=\"7.800000000000011\" height=\"7.7999999999999545\"></rect><rect x=\"57.599999999999994\" y=\"228.60000000000002\" width=\"7.800000000000011\" height=\"7.7999999999999545\"></rect><rect x=\"78.60000000000001\" y=\"228.60000000000002\" width=\"7.799999999999997\" height=\"7.7999999999999545\"></rect><rect x=\"240.60000000000002\" y=\"228.60000000000002\" width=\"7.799999999999983\" height=\"7.7999999999999545\"></rect><rect x=\"381.6\" y=\"228.60000000000002\" width=\"7.800000000000011\" height=\"7.7999999999999545\"></rect><rect x=\"228.60000000000002\" y=\"231.60000000000002\" width=\"7.7999999999999545\" height=\"7.799999999999983\"></rect><rect x=\"300.6\" y=\"231.60000000000002\" width=\"7.800000000000011\" height=\"7.799999999999983\"></rect><rect x=\"342.6\" y=\"231.60000000000002\" width=\"7.800000000000011\" height=\"7.799999999999983\"></rect><rect x=\"372.6\" y=\"231.60000000000002\" width=\"7.800000000000011\" height=\"7.799999999999983\"></rect><rect x=\"402.59999999999997\" y=\"231.60000000000002\" width=\"7.800000000000068\" height=\"7.799999999999983\"></rect><rect x=\"18.6\" y=\"234.60000000000002\" width=\"7.800000000000001\" height=\"7.799999999999983\"></rect><rect x=\"90.6\" y=\"234.60000000000002\" width=\"7.799999999999997\" height=\"7.799999999999983\"></rect><rect x=\"183.60000000000002\" y=\"234.60000000000002\" width=\"7.7999999999999545\" height=\"7.799999999999983\"></rect><rect x=\"213.6\" y=\"234.60000000000002\" width=\"7.799999999999983\" height=\"7.799999999999983\"></rect><rect x=\"231.60000000000002\" y=\"234.60000000000002\" width=\"7.799999999999983\" height=\"7.799999999999983\"></rect><rect x=\"279.6\" y=\"234.60000000000002\" width=\"7.7999999999999545\" height=\"7.799999999999983\"></rect><rect x=\"294.59999999999997\" y=\"234.60000000000002\" width=\"7.800000000000011\" height=\"7.799999999999983\"></rect><rect x=\"57.599999999999994\" y=\"237.60000000000002\" width=\"7.800000000000011\" height=\"7.799999999999983\"></rect><rect x=\"105.60000000000001\" y=\"237.60000000000002\" width=\"7.799999999999983\" height=\"7.799999999999983\"></rect><rect x=\"120.60000000000001\" y=\"237.60000000000002\" width=\"7.799999999999997\" height=\"7.799999999999983\"></rect><rect x=\"138.6\" y=\"237.60000000000002\" width=\"7.800000000000011\" height=\"7.799999999999983\"></rect><rect x=\"276.6\" y=\"237.60000000000002\" width=\"7.7999999999999545\" height=\"7.799999999999983\"></rect><rect x=\"294.59999999999997\" y=\"237.60000000000002\" width=\"7.800000000000011\" height=\"7.799999999999983\"></rect><rect x=\"327.59999999999997\" y=\"237.60000000000002\" width=\"7.800000000000011\" height=\"7.799999999999983\"></rect><rect x=\"66.6\" y=\"240.60000000000002\" width=\"7.800000000000011\" height=\"7.799999999999983\"></rect><rect x=\"153.6\" y=\"240.60000000000002\" width=\"7.800000000000011\" height=\"7.799999999999983\"></rect><rect x=\"180.60000000000002\" y=\"240.60000000000002\" width=\"7.7999999999999545\" height=\"7.799999999999983\"></rect><rect x=\"231.60000000000002\" y=\"240.60000000000002\" width=\"7.799999999999983\" height=\"7.799999999999983\"></rect><rect x=\"243.6\" y=\"240.60000000000002\" width=\"7.800000000000011\" height=\"7.799999999999983\"></rect><rect x=\"261.6\" y=\"240.60000000000002\" width=\"7.7999999999999545\" height=\"7.799999999999983\"></rect><rect x=\"288.59999999999997\" y=\"240.60000000000002\" width=\"7.800000000000011\" height=\"7.799999999999983\"></rect><rect x=\"342.6\" y=\"240.60000000000002\" width=\"7.800000000000011\" height=\"7.799999999999983\"></rect><rect x=\"360.59999999999997\" y=\"240.60000000000002\" width=\"7.800000000000011\" height=\"7.799999999999983\"></rect><rect x=\"12.600000000000001\" y=\"243.6\" width=\"7.799999999999997\" height=\"7.800000000000011\"></rect><rect x=\"90.6\" y=\"243.6\" width=\"7.799999999999997\" height=\"7.800000000000011\"></rect><rect x=\"162.60000000000002\" y=\"243.6\" width=\"7.7999999999999545\" height=\"7.800000000000011\"></rect><rect x=\"213.6\" y=\"243.6\" width=\"7.799999999999983\" height=\"7.800000000000011\"></rect><rect x=\"330.59999999999997\" y=\"243.6\" width=\"7.800000000000011\" height=\"7.800000000000011\"></rect><rect x=\"42.599999999999994\" y=\"246.6\" width=\"7.800000000000011\" height=\"7.800000000000011\"></rect><rect x=\"63.6\" y=\"246.6\" width=\"7.800000000000004\" height=\"7.800000000000011\"></rect><rect x=\"81.6\" y=\"246.6\" width=\"7.800000000000011\" height=\"7.800000000000011\"></rect><rect x=\"186.60000000000002\" y=\"246.6\" width=\"7.799999999999983\" height=\"7.800000000000011\"></rect><rect x=\"192.6\" y=\"246.6\" width=\"7.800000000000011\" height=\"7.800000000000011\"></rect><rect x=\"315.6\" y=\"246.6\" width=\"7.7999999999999545\" height=\"7.800000000000011\"></rect><rect x=\"324.59999999999997\" y=\"246.6\" width=\"7.800000000000011\" height=\"7.800000000000011\"></rect><rect x=\"369.6\" y=\"246.6\" width=\"7.7999999999999545\" height=\"7.800000000000011\"></rect><rect x=\"30.6\" y=\"249.6\" width=\"7.799999999999997\" height=\"7.799999999999983\"></rect><rect x=\"42.599999999999994\" y=\"249.6\" width=\"7.800000000000011\" height=\"7.799999999999983\"></rect><rect x=\"90.6\" y=\"249.6\" width=\"7.799999999999997\" height=\"7.799999999999983\"></rect><rect x=\"264.6\" y=\"249.6\" width=\"7.7999999999999545\" height=\"7.799999999999983\"></rect><rect x=\"270.6\" y=\"249.6\" width=\"7.800000000000011\" height=\"7.799999999999983\"></rect><rect x=\"330.59999999999997\" y=\"249.6\" width=\"7.800000000000011\" height=\"7.799999999999983\"></rect><rect x=\"105.60000000000001\" y=\"252.6\" width=\"7.799999999999983\" height=\"7.799999999999983\"></rect><rect x=\"126.6\" y=\"252.6\" width=\"7.799999999999983\" height=\"7.799999999999983\"></rect><rect x=\"156.6\" y=\"252.6\" width=\"7.800000000000011\" height=\"7.799999999999983\"></rect><rect x=\"162.60000000000002\" y=\"252.6\" width=\"7.7999999999999545\" height=\"7.799999999999983\"></rect><rect x=\"207.6\" y=\"252.6\" width=\"7.800000000000011\" height=\"7.799999999999983\"></rect><rect x=\"234.60000000000002\" y=\"252.6\" width=\"7.799999999999983\" height=\"7.799999999999983\"></rect><rect x=\"279.6\" y=\"252.6\" width=\"7.7999999999999545\" height=\"7.799999999999983\"></rect><rect x=\"336.6\" y=\"252.6\" width=\"7.800000000000011\" height=\"7.799999999999983\"></rect><rect x=\"201.60000000000002\" y=\"255.6\" width=\"7.7999999999999545\" height=\"7.799999999999983\"></rect><rect x=\"405.59999999999997\" y=\"255.6\" width=\"7.800000000000068\" height=\"7.799999999999983\"></rect><rect x=\"15.6\" y=\"258.59999999999997\" width=\"7.799999999999999\" height=\"7.800000000000011\"></rect><rect x=\"33.599999999999994\" y=\"258.59999999999997\" width=\"7.800000000000011\" height=\"7.800000000000011\"></rect><rect x=\"81.6\" y=\"258.59999999999997\" width=\"7.800000000000011\" height=\"7.800000000000011\"></rect><rect x=\"144.60000000000002\" y=\"258.59999999999997\" width=\"7.7999999999999545\" height=\"7.800000000000011\"></rect><rect x=\"285.6\" y=\"258.59999999999997\" width=\"7.7999999999999545\" height=\"7.800000000000011\"></rect><rect x=\"324.59999999999997\" y=\"258.59999999999997\" width=\"7.800000000000011\" height=\"7.800000000000011\"></rect><rect x=\"381.6\" y=\"258.59999999999997\" width=\"7.800000000000011\" height=\"7.800000000000011\"></rect><rect x=\"60.6\" y=\"261.6\" width=\"7.800000000000004\" height=\"7.7999999999999545\"></rect><rect x=\"171.6\" y=\"261.6\" width=\"7.800000000000011\" height=\"7.7999999999999545\"></rect><rect x=\"186.60000000000002\" y=\"261.6\" width=\"7.799999999999983\" height=\"7.7999999999999545\"></rect><rect x=\"249.6\" y=\"261.6\" width=\"7.799999999999983\" height=\"7.7999999999999545\"></rect><rect x=\"306.6\" y=\"261.6\" width=\"7.800000000000011\" height=\"7.7999999999999545\"></rect><rect x=\"363.59999999999997\" y=\"261.6\" width=\"7.800000000000011\" height=\"7.7999999999999545\"></rect><rect x=\"372.6\" y=\"261.6\" width=\"7.800000000000011\" height=\"7.7999999999999545\"></rect><rect x=\"402.59999999999997\" y=\"261.6\" width=\"7.800000000000068\" height=\"7.7999999999999545\"></rect><rect x=\"9.6\" y=\"264.6\" width=\"7.8000000000000025\" height=\"7.7999999999999545\"></rect><rect x=\"18.6\" y=\"264.6\" width=\"7.800000000000001\" height=\"7.7999999999999545\"></rect><rect x=\"228.60000000000002\" y=\"264.6\" width=\"7.7999999999999545\" height=\"7.7999999999999545\"></rect><rect x=\"261.6\" y=\"264.6\" width=\"7.7999999999999545\" height=\"7.7999999999999545\"></rect><rect x=\"333.6\" y=\"264.6\" width=\"7.7999999999999545\" height=\"7.7999999999999545\"></rect><rect x=\"336.6\" y=\"264.6\" width=\"7.800000000000011\" height=\"7.7999999999999545\"></rect><rect x=\"378.6\" y=\"264.6\" width=\"7.800000000000011\" height=\"7.7999999999999545\"></rect><rect x=\"396.59999999999997\" y=\"264.6\" width=\"7.800000000000068\" height=\"7.7999999999999545\"></rect><rect x=\"114.60000000000001\" y=\"267.6\" width=\"7.799999999999997\" height=\"7.800000000000011\"></rect><rect x=\"135.60000000000002\" y=\"267.6\" width=\"7.799999999999983\" height=\"7.800000000000011\"></rect><rect x=\"159.6\" y=\"267.6\" width=\"7.799999999999983\" height=\"7.800000000000011\"></rect><rect x=\"165.60000000000002\" y=\"267.6\" width=\"7.7999999999999545\" height=\"7.800000000000011\"></rect><rect x=\"198.60000000000002\" y=\"267.6\" width=\"7.7999999999999545\" height=\"7.800000000000011\"></rect><rect x=\"246.6\" y=\"267.6\" width=\"7.800000000000011\" height=\"7.800000000000011\"></rect><rect x=\"249.6\" y=\"267.6\" width=\"7.799999999999983\" height=\"7.800000000000011\"></rect><rect x=\"315.6\" y=\"267.6\" width=\"7.7999999999999545\" height=\"7.800000000000011\"></rect><rect x=\"345.6\" y=\"267.6\" width=\"7.7999999999999545\" height=\"7.800000000000011\"></rect><rect x=\"399.59999999999997\" y=\"267.6\" width=\"7.800000000000068\" height=\"7.800000000000011\"></rect><rect x=\"9.6\" y=\"270.6\" width=\"7.8000000000000025\" height=\"7.800000000000011\"></rect><rect x=\"30.6\" y=\"270.6\" width=\"7.799999999999997\" height=\"7.800000000000011\"></rect><rect x=\"90.6\" y=\"270.6\" width=\"7.799999999999997\" height=\"7.800000000000011\"></rect><rect x=\"138.6\" y=\"270.6\" width=\"7.800000000000011\" height=\"7.800000000000011\"></rect><rect x=\"222.6\" y=\"270.6\" width=\"7.799999999999983\" height=\"7.800000000000011\"></rect><rect x=\"306.6\" y=\"270.6\" width=\"7.800000000000011\" height=\"7.800000000000011\"></rect><rect x=\"339.6\" y=\"270.6\" width=\"7.800000000000011\" height=\"7.800000000000011\"></rect><rect x=\"27.599999999999998\" y=\"273.6\" width=\"7.800000000000001\" height=\"7.7999999999999545\"></rect><rect x=\"39.6\" y=\"273.6\" width=\"7.799999999999997\" height=\"7.7999999999999545\"></rect><rect x=\"60.6\" y=\"273.6\" width=\"7.800000000000004\" height=\"7.7999999999999545\"></rect><rect x=\"120.60000000000001\" y=\"273.6\" width=\"7.799999999999997\" height=\"7.7999999999999545\"></rect><rect x=\"180.60000000000002\" y=\"273.6\" width=\"7.7999999999999545\" height=\"7.7999999999999545\"></rect><rect x=\"273.6\" y=\"273.6\" width=\"7.7999999999999545\" height=\"7.7999999999999545\"></rect><rect x=\"276.6\" y=\"273.6\" width=\"7.7999999999999545\" height=\"7.7999999999999545\"></rect><rect x=\"297.6\" y=\"273.6\" width=\"7.7999999999999545\" height=\"7.7999999999999545\"></rect><rect x=\"336.6\" y=\"273.6\" width=\"7.800000000000011\" height=\"7.7999999999999545\"></rect><rect x=\"42.599999999999994\" y=\"276.6\" width=\"7.800000000000011\" height=\"7.7999999999999545\"></rect><rect x=\"69.60000000000001\" y=\"276.6\" width=\"7.799999999999997\" height=\"7.7999999999999545\"></rect><rect x=\"75.6\" y=\"276.6\" width=\"7.800000000000011\" height=\"7.7999999999999545\"></rect><rect x=\"99.60000000000001\" y=\"276.6\" width=\"7.799999999999997\" height=\"7.7999999999999545\"></rect><rect x=\"153.6\" y=\"276.6\" width=\"7.800000000000011\" height=\"7.7999999999999545\"></rect><rect x=\"243.6\" y=\"276.6\" width=\"7.800000000000011\" height=\"7.7999999999999545\"></rect><rect x=\"141.6\" y=\"279.6\" width=\"7.799999999999983\" height=\"7.7999999999999545\"></rect><rect x=\"144.60000000000002\" y=\"279.6\" width=\"7.7999999999999545\" height=\"7.7999999999999545\"></rect><rect x=\"192.6\" y=\"279.6\" width=\"7.800000000000011\" height=\"7.7999999999999545\"></rect><rect x=\"285.6\" y=\"279.6\" width=\"7.7999999999999545\" height=\"7.7999999999999545\"></rect><rect x=\"321.6\" y=\"279.6\" width=\"7.7999999999999545\" height=\"7.7999999999999545\"></rect><rect x=\"378.6\" y=\"279.6\" width=\"7.800000000000011\" height=\"7.7999999999999545\"></rect><rect x=\"30.6\" y=\"282.6\" width=\"7.799999999999997\" height=\"7.7999999999999545\"></rect><rect x=\"66.6\" y=\"282.6\" width=\"7.800000000000011\" height=\"7.7999999999999545\"></rect><rect x=\"90.6\" y=\"282.6\" width=\"7.799999999999997\" height=\"7.7999999999999545\"></rect><rect x=\"171.6\" y=\"282.6\" width=\"7.800000000000011\" height=\"7.7999999999999545\"></rect><rect x=\"237.60000000000002\" y=\"282.6\" width=\"7.799999999999983\" height=\"7.7999999999999545\"></rect><rect x=\"267.6\" y=\"282.6\" width=\"7.800000000000011\" height=\"7.7999999999999545\"></rect><rect x=\"291.59999999999997\" y=\"282.6\" width=\"7.800000000000011\" height=\"7.7999999999999545\"></rect><rect x=\"363.59999999999997\" y=\"282.6\" width=\"7.800000000000011\" height=\"7.7999999999999545\"></rect><rect x=\"384.59999999999997\" y=\"282.6\" width=\"7.800000000000068\" height=\"7.7999999999999545\"></rect><rect x=\"33.599999999999994\" y=\"285.6\" width=\"7.800000000000011\" height=\"7.7999999999999545\"></rect><rect x=\"123.6\" y=\"285.6\" width=\"7.799999999999983\" height=\"7.7999999999999545\"></rect><rect x=\"174.6\" y=\"285.6\" width=\"7.800000000000011\" height=\"7.7999999999999545\"></rect><rect x=\"204.60000000000002\" y=\"285.6\" width=\"7.799999999999983\" height=\"7.7999999999999545\"></rect><rect x=\"231.60000000000002\" y=\"285.6\" width=\"7.799999999999983\" height=\"7.7999999999999545\"></rect><rect x=\"330.59999999999997\" y=\"285.6\" width=\"7.800000000000011\" height=\"7.7999999999999545\"></rect><rect x=\"357.6\" y=\"285.6\" width=\"7.7999999999999545\" height=\"7.7999999999999545\"></rect><rect x=\"405.59999999999997\" y=\"285.6\" width=\"7.800000000000068\" height=\"7.7999999999999545\"></rect><rect x=\"135.60000000000002\" y=\"288.59999999999997\" width=\"7.799999999999983\" height=\"7.800000000000011\"></rect><rect x=\"210.6\" y=\"288.59999999999997\" width=\"7.800000000000011\" height=\"7.800000000000011\"></rect><rect x=\"279.6\" y=\"288.59999999999997\" width=\"7.7999999999999545\" height=\"7.800000000000011\"></rect><rect x=\"330.59999999999997\" y=\"288.59999999999997\" width=\"7.800000000000011\" height=\"7.800000000000011\"></rect><rect x=\"393.59999999999997\" y=\"288.59999999999997\" width=\"7.800000000000068\" height=\"7.800000000000011\"></rect><rect x=\"48.6\" y=\"291.59999999999997\" width=\"7.800000000000004\" height=\"7.800000000000011\"></rect><rect x=\"78.60000000000001\" y=\"291.59999999999997\" width=\"7.799999999999997\" height=\"7.800000000000011\"></rect><rect x=\"99.60000000000001\" y=\"291.59999999999997\" width=\"7.799999999999997\" height=\"7.800000000000011\"></rect><rect x=\"153.6\" y=\"291.59999999999997\" width=\"7.800000000000011\" height=\"7.800000000000011\"></rect><rect x=\"246.6\" y=\"291.59999999999997\" width=\"7.800000000000011\" height=\"7.800000000000011\"></rect><rect x=\"336.6\" y=\"291.59999999999997\" width=\"7.800000000000011\" height=\"7.800000000000011\"></rect><rect x=\"21.6\" y=\"294.59999999999997\" width=\"7.800000000000001\" height=\"7.800000000000011\"></rect><rect x=\"36.6\" y=\"294.59999999999997\" width=\"7.799999999999997\" height=\"7.800000000000011\"></rect><rect x=\"192.6\" y=\"294.59999999999997\" width=\"7.800000000000011\" height=\"7.800000000000011\"></rect><rect x=\"252.6\" y=\"294.59999999999997\" width=\"7.799999999999983\" height=\"7.800000000000011\"></rect><rect x=\"291.59999999999997\" y=\"294.59999999999997\" width=\"7.800000000000011\" height=\"7.800000000000011\"></rect><rect x=\"297.6\" y=\"294.59999999999997\" width=\"7.7999999999999545\" height=\"7.800000000000011\"></rect><rect x=\"324.59999999999997\" y=\"294.59999999999997\" width=\"7.800000000000011\" height=\"7.800000000000011\"></rect><rect x=\"216.6\" y=\"297.6\" width=\"7.799999999999983\" height=\"7.7999999999999545\"></rect><rect x=\"231.60000000000002\" y=\"297.6\" width=\"7.799999999999983\" height=\"7.7999999999999545\"></rect><rect x=\"249.6\" y=\"297.6\" width=\"7.799999999999983\" height=\"7.7999999999999545\"></rect><rect x=\"306.6\" y=\"297.6\" width=\"7.800000000000011\" height=\"7.7999999999999545\"></rect><rect x=\"390.59999999999997\" y=\"297.6\" width=\"7.800000000000068\" height=\"7.7999999999999545\"></rect><rect x=\"33.599999999999994\" y=\"300.6\" width=\"7.800000000000011\" height=\"7.800000000000011\"></rect><rect x=\"48.6\" y=\"300.6\" width=\"7.800000000000004\" height=\"7.800000000000011\"></rect><rect x=\"261.6\" y=\"300.6\" width=\"7.7999999999999545\" height=\"7.800000000000011\"></rect><rect x=\"354.6\" y=\"300.6\" width=\"7.7999999999999545\" height=\"7.800000000000011\"></rect><rect x=\"372.6\" y=\"300.6\" width=\"7.800000000000011\" height=\"7.800000000000011\"></rect><rect x=\"405.59999999999997\" y=\"300.6\" width=\"7.800000000000068\" height=\"7.800000000000011\"></rect><rect x=\"36.6\" y=\"303.6\" width=\"7.799999999999997\" height=\"7.800000000000011\"></rect><rect x=\"48.6\" y=\"303.6\" width=\"7.800000000000004\" height=\"7.800000000000011\"></rect><rect x=\"120.60000000000001\" y=\"303.6\" width=\"7.799999999999997\" height=\"7.800000000000011\"></rect><rect x=\"171.6\" y=\"303.6\" width=\"7.800000000000011\" height=\"7.800000000000011\"></rect><rect x=\"192.6\" y=\"303.6\" width=\"7.800000000000011\" height=\"7.800000000000011\"></rect><rect x=\"198.60000000000002\" y=\"303.6\" width=\"7.7999999999999545\" height=\"7.800000000000011\"></rect><rect x=\"213.6\" y=\"303.6\" width=\"7.799999999999983\" height=\"7.800000000000011\"></rect><rect x=\"270.6\" y=\"303.6\" width=\"7.800000000000011\" height=\"7.800000000000011\"></rect><rect x=\"288.59999999999997\" y=\"303.6\" width=\"7.800000000000011\" height=\"7.800000000000011\"></rect><rect x=\"309.6\" y=\"303.6\" width=\"7.7999999999999545\" height=\"7.800000000000011\"></rect><rect x=\"378.6\" y=\"303.6\" width=\"7.800000000000011\" height=\"7.800000000000011\"></rect><rect x=\"405.59999999999997\" y=\"303.6\" width=\"7.800000000000068\" height=\"7.800000000000011\"></rect><rect x=\"60.6\" y=\"306.6\" width=\"7.800000000000004\" height=\"7.800000000000011\"></rect><rect x=\"78.60000000000001\" y=\"306.6\" width=\"7.799999999999997\" height=\"7.800000000000011\"></rect><rect x=\"105.60000000000001\" y=\"306.6\" width=\"7.799999999999983\" height=\"7.800000000000011\"></rect><rect x=\"141.6\" y=\"306.6\" width=\"7.799999999999983\" height=\"7.800000000000011\"></rect><rect x=\"177.6\" y=\"306.6\" width=\"7.799999999999983\" height=\"7.800000000000011\"></rect><rect x=\"342.6\" y=\"306.6\" width=\"7.800000000000011\" height=\"7.800000000000011\"></rect><rect x=\"9.6\" y=\"309.6\" width=\"7.8000000000000025\" height=\"7.7999999999999545\"></rect><rect x=\"153.6\" y=\"309.6\" width=\"7.800000000000011\" height=\"7.7999999999999545\"></rect><rect x=\"246.6\" y=\"309.6\" width=\"7.800000000000011\" height=\"7.7999999999999545\"></rect><rect x=\"327.59999999999997\" y=\"309.6\" width=\"7.800000000000011\" height=\"7.7999999999999545\"></rect><rect x=\"357.6\" y=\"309.6\" width=\"7.7999999999999545\" height=\"7.7999999999999545\"></rect><rect x=\"69.60000000000001\" y=\"312.6\" width=\"7.799999999999997\" height=\"7.7999999999999545\"></rect><rect x=\"78.60000000000001\" y=\"312.6\" width=\"7.799999999999997\" height=\"7.7999999999999545\"></rect><rect x=\"219.6\" y=\"312.6\" width=\"7.799999999999983\" height=\"7.7999999999999545\"></rect><rect x=\"234.60000000000002\" y=\"312.6\" width=\"7.799999999999983\" height=\"7.7999999999999545\"></rect><rect x=\"273.6\" y=\"312.6\" width=\"7.7999999999999545\" height=\"7.7999999999999545\"></rect><rect x=\"312.6\" y=\"312.6\" width=\"7.7999999999999545\" height=\"7.7999999999999545\"></rect><rect x=\"210.6\" y=\"315.6\" width=\"7.800000000000011\" height=\"7.7999999999999545\"></rect><rect x=\"312.6\" y=\"315.6\" width=\"7.7999999999999545\" height=\"7.7999999999999545\"></rect><rect x=\"342.6\" y=\"315.6\" width=\"7.800000000000011\" height=\"7.7999999999999545\"></rect><rect x=\"9.6\" y=\"318.6\" width=\"7.8000000000000025\" height=\"7.7999999999999545\"></rect><rect x=\"45.6\" y=\"318.6\" width=\"7.799999999999997\" height=\"7.7999999999999545\"></rect><rect x=\"162.60000000000002\" y=\"318.6\" width=\"7.7999999999999545\" height=\"7.7999999999999545\"></rect><rect x=\"168.60000000000002\" y=\"318.6\" width=\"7.799999999999983\" height=\"7.7999999999999545\"></rect><rect x=\"171.6\" y=\"318.6\" width=\"7.800000000000011\" height=\"7.7999999999999545\"></rect><rect x=\"192.6\" y=\"318.6\" width=\"7.800000000000011\" height=\"7.7999999999999545\"></rect><rect x=\"246.6\" y=\"318.6\" width=\"7.800000000000011\" height=\"7.7999999999999545\"></rect><rect x=\"252.6\" y=\"318.6\" width=\"7.799999999999983\" height=\"7.7999999999999545\"></rect><rect x=\"318.6\" y=\"318.6\" width=\"7.7999999999999545\" height=\"7.7999999999999545\"></rect><rect x=\"360.59999999999997\" y=\"318.6\" width=\"7.800000000000011\" height=\"7.7999999999999545\"></rect><rect x=\"387.59999999999997\" y=\"318.6\" width=\"7.800000000000068\" height=\"7.7999999999999545\"></rect><rect x=\"57.599999999999994\" y=\"321.6\" width=\"7.800000000000011\" height=\"7.7999999999999545\"></rect><rect x=\"60.6\" y=\"321.6\" width=\"7.800000000000004\" height=\"7.7999999999999545\"></rect><rect x=\"84.6\" y=\"321.6\" width=\"7.800000000000011\" height=\"7.7999999999999545\"></rect><rect x=\"141.6\" y=\"321.6\" width=\"7.799999999999983\" height=\"7.7999999999999545\"></rect><rect x=\"192.6\" y=\"321.6\" width=\"7.800000000000011\" height=\"7.7999999999999545\"></rect><rect x=\"309.6\" y=\"321.6\" width=\"7.7999999999999545\" height=\"7.7999999999999545\"></rect><rect x=\"33.599999999999994\" y=\"324.59999999999997\" width=\"7.800000000000011\" height=\"7.800000000000011\"></rect><rect x=\"51.599999999999994\" y=\"324.59999999999997\" width=\"7.800000000000011\" height=\"7.800000000000011\"></rect><rect x=\"81.6\" y=\"324.59999999999997\" width=\"7.800000000000011\" height=\"7.800000000000011\"></rect><rect x=\"141.6\" y=\"324.59999999999997\" width=\"7.799999999999983\" height=\"7.800000000000011\"></rect><rect x=\"225.60000000000002\" y=\"324.59999999999997\" width=\"7.7999999999999545\" height=\"7.800000000000011\"></rect><rect x=\"279.6\" y=\"324.59999999999997\" width=\"7.7999999999999545\" height=\"7.800000000000011\"></rect><rect x=\"387.59999999999997\" y=\"324.59999999999997\" width=\"7.800000000000068\" height=\"7.800000000000011\"></rect><rect x=\"405.59999999999997\" y=\"324.59999999999997\" width=\"7.800000000000068\" height=\"7.800000000000011\"></rect><rect x=\"3.5999999999999996\" y=\"327.59999999999997\" width=\"7.800000000000001\" height=\"7.800000000000011\"></rect><rect x=\"93.6\" y=\"327.59999999999997\" width=\"7.799999999999997\" height=\"7.800000000000011\"></rect><rect x=\"102.60000000000001\" y=\"327.59999999999997\" width=\"7.799999999999983\" height=\"7.800000000000011\"></rect><rect x=\"126.6\" y=\"327.59999999999997\" width=\"7.799999999999983\" height=\"7.800000000000011\"></rect><rect x=\"132.60000000000002\" y=\"327.59999999999997\" width=\"7.799999999999983\" height=\"7.800000000000011\"></rect><rect x=\"207.6\" y=\"327.59999999999997\" width=\"7.800000000000011\" height=\"7.800000000000011\"></rect><rect x=\"261.6\" y=\"327.59999999999997\" width=\"7.7999999999999545\" height=\"7.800000000000011\"></rect><rect x=\"291.59999999999997\" y=\"327.59999999999997\" width=\"7.800000000000011\" height=\"7.800000000000011\"></rect><rect x=\"330.59999999999997\" y=\"327.59999999999997\" width=\"7.800000000000011\" height=\"7.800000000000011\"></rect><rect x=\"351.6\" y=\"327.59999999999997\" width=\"7.7999999999999545\" height=\"7.800000000000011\"></rect><rect x=\"72.6\" y=\"330.59999999999997\" width=\"7.800000000000011\" height=\"7.800000000000011\"></rect><rect x=\"114.60000000000001\" y=\"330.59999999999997\" width=\"7.799999999999997\" height=\"7.800000000000011\"></rect><rect x=\"150.60000000000002\" y=\"330.59999999999997\" width=\"7.799999999999983\" height=\"7.800000000000011\"></rect><rect x=\"168.60000000000002\" y=\"330.59999999999997\" width=\"7.799999999999983\" height=\"7.800000000000011\"></rect><rect x=\"249.6\" y=\"330.59999999999997\" width=\"7.799999999999983\" height=\"7.800000000000011\"></rect><rect x=\"264.6\" y=\"330.59999999999997\" width=\"7.7999999999999545\" height=\"7.800000000000011\"></rect><rect x=\"333.6\" y=\"330.59999999999997\" width=\"7.7999999999999545\" height=\"7.800000000000011\"></rect><rect x=\"369.6\" y=\"330.59999999999997\" width=\"7.7999999999999545\" height=\"7.800000000000011\"></rect><rect x=\"198.60000000000002\" y=\"333.6\" width=\"7.7999999999999545\" height=\"7.7999999999999545\"></rect><rect x=\"261.6\" y=\"333.6\" width=\"7.7999999999999545\" height=\"7.7999999999999545\"></rect><rect x=\"270.6\" y=\"333.6\" width=\"7.800000000000011\" height=\"7.7999999999999545\"></rect><rect x=\"393.59999999999997\" y=\"333.6\" width=\"7.800000000000068\" height=\"7.7999999999999545\"></rect><rect x=\"15.6\" y=\"336.6\" width=\"7.799999999999999\" height=\"7.800000000000011\"></rect><rect x=\"42.599999999999994\" y=\"336.6\" width=\"7.800000000000011\" height=\"7.800000000000011\"></rect><rect x=\"60.6\" y=\"336.6\" width=\"7.800000000000004\" height=\"7.800000000000011\"></rect><rect x=\"147.60000000000002\" y=\"336.6\" width=\"7.7999999999999545\" height=\"7.800000000000011\"></rect><rect x=\"228.60000000000002\" y=\"336.6\" width=\"7.7999999999999545\" height=\"7.800000000000011\"></rect><rect x=\"288.59999999999997\" y=\"336.6\" width=\"7.800000000000011\" height=\"7.800000000000011\"></rect><rect x=\"354.6\" y=\"336.6\" width=\"7.7999999999999545\" height=\"7.800000000000011\"></rect><rect x=\"102.60000000000001\" y=\"339.6\" width=\"7.799999999999983\" height=\"7.800000000000011\"></rect><rect x=\"108.6\" y=\"339.6\" width=\"7.799999999999997\" height=\"7.800000000000011\"></rect><rect x=\"129.60000000000002\" y=\"339.6\" width=\"7.7999999999999545\" height=\"7.800000000000011\"></rect><rect x=\"147.60000000000002\" y=\"339.6\" width=\"7.7999999999999545\" height=\"7.800000000000011\"></rect><rect x=\"165.60000000000002\" y=\"339.6\" width=\"7.7999999999999545\" height=\"7.800000000000011\"></rect><rect x=\"306.6\" y=\"339.6\" width=\"7.800000000000011\" height=\"7.800000000000011\"></rect><rect x=\"399.59999999999997\" y=\"339.6\" width=\"7.800000000000068\" height=\"7.800000000000011\"></rect><rect x=\"81.6\" y=\"342.6\" width=\"7.800000000000011\" height=\"7.800000000000011\"></rect><rect x=\"213.6\" y=\"342.6\" width=\"7.799999999999983\" height=\"7.800000000000011\"></rect><rect x=\"318.6\" y=\"342.6\" width=\"7.7999999999999545\" height=\"7.800000000000011\"></rect><rect x=\"339.6\" y=\"342.6\" width=\"7.800000000000011\" height=\"7.800000000000011\"></rect><rect x=\"24.599999999999998\" y=\"345.6\" width=\"7.800000000000008\" height=\"7.7999999999999545\"></rect><rect x=\"48.6\" y=\"345.6\" width=\"7.800000000000004\" height=\"7.7999999999999545\"></rect><rect x=\"66.6\" y=\"345.6\" width=\"7.800000000000011\" height=\"7.7999999999999545\"></rect><rect x=\"111.60000000000002\" y=\"345.6\" width=\"7.7999999999999545\" height=\"7.7999999999999545\"></rect><rect x=\"249.6\" y=\"345.6\" width=\"7.799999999999983\" height=\"7.7999999999999545\"></rect><rect x=\"267.6\" y=\"345.6\" width=\"7.800000000000011\" height=\"7.7999999999999545\"></rect><rect x=\"285.6\" y=\"345.6\" width=\"7.7999999999999545\" height=\"7.7999999999999545\"></rect><rect x=\"300.6\" y=\"345.6\" width=\"7.800000000000011\" height=\"7.7999999999999545\"></rect><rect x=\"30.6\" y=\"348.6\" width=\"7.799999999999997\" height=\"7.7999999999999545\"></rect><rect x=\"105.60000000000001\" y=\"348.6\" width=\"7.799999999999983\" height=\"7.7999999999999545\"></rect><rect x=\"135.60000000000002\" y=\"348.6\" width=\"7.799999999999983\" height=\"7.7999999999999545\"></rect><rect x=\"144.60000000000002\" y=\"348.6\" width=\"7.7999999999999545\" height=\"7.7999999999999545\"></rect><rect x=\"333.6\" y=\"348.6\" width=\"7.7999999999999545\" height=\"7.7999999999999545\"></rect><rect x=\"372.6\" y=\"348.6\" width=\"7.800000000000011\" height=\"7.7999999999999545\"></rect><rect x=\"399.59999999999997\" y=\"348.6\" width=\"7.800000000000068\" height=\"7.7999999999999545\"></rect><rect x=\"12.600000000000001\" y=\"351.6\" width=\"7.799999999999997\" height=\"7.7999999999999545\"></rect><rect x=\"27.599999999999998\" y=\"351.6\" width=\"7.800000000000001\" height=\"7.7999999999999545\"></rect><rect x=\"48.6\" y=\"351.6\" width=\"7.800000000000004\" height=\"7.7999999999999545\"></rect><rect x=\"240.60000000000002\" y=\"351.6\" width=\"7.799999999999983\" height=\"7.7999999999999545\"></rect><rect x=\"408.59999999999997\" y=\"351.6\" width=\"7.800000000000068\" height=\"7.7999999999999545\"></rect><rect x=\"12.600000000000001\" y=\"354.6\" width=\"7.799999999999997\" height=\"7.7999999999999545\"></rect><rect x=\"36.6\" y=\"354.6\" width=\"7.799999999999997\" height=\"7.7999999999999545\"></rect><rect x=\"105.60000000000001\" y=\"354.6\" width=\"7.799999999999983\" height=\"7.7999999999999545\"></rect><rect x=\"156.6\" y=\"354.6\" width=\"7.800000000000011\" height=\"7.7999999999999545\"></rect><rect x=\"177.6\" y=\"354.6\" width=\"7.799999999999983\" height=\"7.7999999999999545\"></rect><rect x=\"222.6\" y=\"354.6\" width=\"7.799999999999983\" height=\"7.7999999999999545\"></rect><rect x=\"228.60000000000002\" y=\"354.6\" width=\"7.7999999999999545\" height=\"7.7999999999999545\"></rect><rect x=\"258.59999999999997\" y=\"354.6\" width=\"7.800000000000011\" height=\"7.7999999999999545\"></rect><rect x=\"390.59999999999997\" y=\"354.6\" width=\"7.800000000000068\" height=\"7.7999999999999545\"></rect><rect x=\"21.6\" y=\"357.6\" width=\"7.800000000000001\" height=\"7.7999999999999545\"></rect><rect x=\"60.6\" y=\"357.6\" width=\"7.800000000000004\" height=\"7.7999999999999545\"></rect><rect x=\"198.60000000000002\" y=\"357.6\" width=\"7.7999999999999545\" height=\"7.7999999999999545\"></rect><rect x=\"279.6\" y=\"357.6\" width=\"7.7999999999999545\" height=\"7.7999999999999545\"></rect><rect x=\"315.6\" y=\"357.6\" width=\"7.7999999999999545\" height=\"7.7999999999999545\"></rect><rect x=\"360.59999999999997\" y=\"357.6\" width=\"7.800000000000011\" height=\"7.7999999999999545\"></rect><rect x=\"399.59999999999997\" y=\"357.6\" width=\"7.800000000000068\" height=\"7.7999999999999545\"></rect><rect x=\"69.60000000000001\" y=\"360.59999999999997\" width=\"7.799999999999997\" height=\"7.800000000000011\"></rect><rect x=\"93.6\" y=\"360.59999999999997\" width=\"7.799999999999997\" height=\"7.800000000000011\"></rect><rect x=\"132.60000000000002\" y=\"360.59999999999997\" width=\"7.799999999999983\" height=\"7.800000000000011\"></rect><rect x=\"192.6\" y=\"360.59999999999997\" width=\"7.800000000000011\" height=\"7.800000000000011\"></rect><rect x=\"246.6\" y=\"360.59999999999997\" width=\"7.800000000000011\" height=\"7.800000000000011\"></rect><rect x=\"282.6\" y=\"360.59999999999997\" width=\"7.7999999999999545\" height=\"7.800000000000011\"></rect><rect x=\"357.6\" y=\"360.59999999999997\" width=\"7.7999999999999545\" height=\"7.800000000000011\"></rect><rect x=\"378.6\" y=\"360.59999999999997\" width=\"7.800000000000011\" height=\"7.800000000000011\"></rect><rect x=\"27.599999999999998\" y=\"363.59999999999997\" width=\"7.800000000000001\" height=\"7.800000000000011\"></rect><rect x=\"87.60000000000001\" y=\"363.59999999999997\" width=\"7.799999999999997\" height=\"7.800000000000011\"></rect><rect x=\"300.6\" y=\"363.59999999999997\" width=\"7.800000000000011\" height=\"7.800000000000011\"></rect><rect x=\"369.6\" y=\"363.59999999999997\" width=\"7.7999999999999545\" height=\"7.800000000000011\"></rect><rect x=\"15.6\" y=\"366.6\" width=\"7.799999999999999\" height=\"7.7999999999999545\"></rect><rect x=\"60.6\" y=\"366.6\" width=\"7.800000000000004\" height=\"7.7999999999999545\"></rect><rect x=\"129.60000000000002\" y=\"366.6\" width=\"7.7999999999999545\" height=\"7.7999999999999545\"></rect><rect x=\"363.59999999999997\" y=\"366.6\" width=\"7.800000000000011\" height=\"7.7999999999999545\"></rect><rect x=\"399.59999999999997\" y=\"366.6\" width=\"7.800000000000068\" height=\"7.7999999999999545\"></rect><rect x=\"102.60000000000001\" y=\"369.6\" width=\"7.799999999999983\" height=\"7.7999999999999545\"></rect><rect x=\"120.60000000000001\" y=\"369.6\" width=\"7.799999999999997\" height=\"7.7999999999999545\"></rect><rect x=\"141.6\" y=\"369.6\" width=\"7.799999999999983\" height=\"7.7999999999999545\"></rect><rect x=\"204.60000000000002\" y=\"369.6\" width=\"7.799999999999983\" height=\"7.7999999999999545\"></rect><rect x=\"246.6\" y=\"369.6\" width=\"7.800000000000011\" height=\"7.7999999999999545\"></rect><rect x=\"270.6\" y=\"369.6\" width=\"7.800000000000011\" height=\"7.7999999999999545\"></rect><rect x=\"333.6\" y=\"369.6\" width=\"7.7999999999999545\" height=\"7.7999999999999545\"></rect><rect x=\"339.6\" y=\"369.6\" width=\"7.800000000000011\" height=\"7.7999999999999545\"></rect><rect x=\"369.6\" y=\"369.6\" width=\"7.7999999999999545\" height=\"7.7999999999999545\"></rect><rect x=\"60.6\" y=\"372.6\" width=\"7.800000000000004\" height=\"7.800000000000011\"></rect><rect x=\"183.60000000000002\" y=\"372.6\" width=\"7.7999999999999545\" height=\"7.800000000000011\"></rect><rect x=\"198.60000000000002\" y=\"372.6\" width=\"7.7999999999999545\" height=\"7.800000000000011\"></rect><rect x=\"222.6\" y=\"372.6\" width=\"7.799999999999983\" height=\"7.800000000000011\"></rect><rect x=\"243.6\" y=\"372.6\" width=\"7.800000000000011\" height=\"7.800000000000011\"></rect><rect x=\"285.6\" y=\"372.6\" width=\"7.7999999999999545\" height=\"7.800000000000011\"></rect><rect x=\"333.6\" y=\"372.6\" width=\"7.7999999999999545\" height=\"7.800000000000011\"></rect><rect x=\"357.6\" y=\"372.6\" width=\"7.7999999999999545\" height=\"7.800000000000011\"></rect><rect x=\"405.59999999999997\" y=\"372.6\" width=\"7.800000000000068\" height=\"7.800000000000011\"></rect><rect x=\"24.599999999999998\" y=\"375.6\" width=\"7.800000000000008\" height=\"7.800000000000011\"></rect><rect x=\"42.599999999999994\" y=\"375.6\" width=\"7.800000000000011\" height=\"7.800000000000011\"></rect><rect x=\"57.599999999999994\" y=\"375.6\" width=\"7.800000000000011\" height=\"7.800000000000011\"></rect><rect x=\"150.60000000000002\" y=\"375.6\" width=\"7.799999999999983\" height=\"7.800000000000011\"></rect><rect x=\"297.6\" y=\"375.6\" width=\"7.7999999999999545\" height=\"7.800000000000011\"></rect><rect x=\"381.6\" y=\"375.6\" width=\"7.800000000000011\" height=\"7.800000000000011\"></rect><rect x=\"405.59999999999997\" y=\"375.6\" width=\"7.800000000000068\" height=\"7.800000000000011\"></rect><rect x=\"27.599999999999998\" y=\"378.6\" width=\"7.800000000000001\" height=\"7.800000000000011\"></rect><rect x=\"87.60000000000001\" y=\"378.6\" width=\"7.799999999999997\" height=\"7.800000000000011\"></rect><rect x=\"126.6\" y=\"378.6\" width=\"7.799999999999983\" height=\"7.800000000000011\"></rect><rect x=\"255.6\" y=\"378.6\" width=\"7.799999999999983\" height=\"7.800000000000011\"></rect><rect x=\"288.59999999999997\" y=\"378.6\" width=\"7.800000000000011\" height=\"7.800000000000011\"></rect><rect x=\"324.59999999999997\" y=\"378.6\" width=\"7.800000000000011\" height=\"7.800000000000011\"></rect><rect x=\"390.59999999999997\" y=\"378.6\" width=\"7.800000000000068\" height=\"7.800000000000011\"></rect><rect x=\"69.60000000000001\" y=\"381.6\" width=\"7.799999999999997\" height=\"7.800000000000011\"></rect><rect x=\"108.6\" y=\"381.6\" width=\"7.799999999999997\" height=\"7.800000000000011\"></rect><rect x=\"258.59999999999997\" y=\"381.6\" width=\"7.800000000000011\" height=\"7.800000000000011\"></rect><rect x=\"297.6\" y=\"381.6\" width=\"7.7999999999999545\" height=\"7.800000000000011\"></rect><rect x=\"327.59999999999997\" y=\"381.6\" width=\"7.800000000000011\" height=\"7.800000000000011\"></rect><rect x=\"375.6\" y=\"381.6\" width=\"7.800000000000011\" height=\"7.800000000000011\"></rect><rect x=\"78.60000000000001\" y=\"384.59999999999997\" width=\"7.799999999999997\" height=\"7.800000000000068\"></rect><rect x=\"177.6\" y=\"384.59999999999997\" width=\"7.799999999999983\" height=\"7.800000000000068\"></rect><rect x=\"213.6\" y=\"384.59999999999997\" width=\"7.799999999999983\" height=\"7.800000000000068\"></rect><rect x=\"282.6\" y=\"384.59999999999997\" width=\"7.7999999999999545\" height=\"7.800000000000068\"></rect><rect x=\"351.6\" y=\"384.59999999999997\" width=\"7.7999999999999545\" height=\"7.800000000000068\"></rect><rect x=\"369.6\" y=\"384.59999999999997\" width=\"7.7999999999999545\" height=\"7.800000000000068\"></rect><rect x=\"399.59999999999997\" y=\"384.59999999999997\" width=\"7.800000000000068\" height=\"7.800000000000068\"></rect><rect x=\"9.6\" y=\"387.59999999999997\" width=\"7.8000000000000025\" height=\"7.800000000000068\"></rect><rect x=\"33.599999999999994\" y=\"387.59999999999997\" width=\"7.800000000000011\" height=\"7.800000000000068\"></rect><rect x=\"153.6\" y=\"387.59999999999997\" width=\"7.800000000000011\" height=\"7.800000000000068\"></rect><rect x=\"252.6\" y=\"387.59999999999997\" width=\"7.799999999999983\" height=\"7.800000000000068\"></rect><rect x=\"276.6\" y=\"387.59999999999997\" width=\"7.7999999999999545\" height=\"7.800000000000068\"></rect><rect x=\"321.6\" y=\"387.59999999999997\" width=\"7.7999999999999545\" height=\"7.800000000000068\"></rect><rect x=\"345.6\" y=\"387.59999999999997\" width=\"7.7999999999999545\" height=\"7.800000000000068\"></rect><rect x=\"375.6\" y=\"387.59999999999997\" width=\"7.800000000000011\" height=\"7.800000000000068\"></rect><rect x=\"387.59999999999997\" y=\"387.59999999999997\" width=\"7.800000000000068\" height=\"7.800000000000068\"></rect><rect x=\"15.6\" y=\"390.59999999999997\" width=\"7.799999999999999\" height=\"7.800000000000068\"></rect><rect x=\"102.60000000000001\" y=\"390.59999999999997\" width=\"7.799999999999983\" height=\"7.800000000000068\"></rect><rect x=\"192.6\" y=\"390.59999999999997\" width=\"7.800000000000011\" height=\"7.800000000000068\"></rect><rect x=\"270.6\" y=\"390.59999999999997\" width=\"7.800000000000011\" height=\"7.800000000000068\"></rect><rect x=\"315.6\" y=\"390.59999999999997\" width=\"7.7999999999999545\" height=\"7.800000000000068\"></rect><rect x=\"333.6\" y=\"390.59999999999997\" width=\"7.7999999999999545\" height=\"7.800000000000068\"></rect><rect x=\"78.60000000000001\" y=\"393.59999999999997\" width=\"7.799999999999997\" height=\"7.800000000000068\"></rect><rect x=\"231.60000000000002\" y=\"393.59999999999997\" width=\"7.799999999999983\" height=\"7.800000000000068\"></rect><rect x=\"339.6\" y=\"393.59999999999997\" width=\"7.800000000000011\" height=\"7.800000000000068\"></rect><rect x=\"366.6\" y=\"393.59999999999997\" width=\"7.7999999999999545\" height=\"7.800000000000068\"></rect><rect x=\"396.59999999999997\" y=\"393.59999999999997\" width=\"7.800000000000068\" height=\"7.800000000000068\"></rect><rect x=\"39.6\" y=\"396.59999999999997\" width=\"7.799999999999997\" height=\"7.800000000000068\"></rect><rect x=\"54.6\" y=\"396.59999999999997\" width=\"7.799999999999997\" height=\"7.800000000000068\"></rect><rect x=\"69.60000000000001\" y=\"396.59999999999997\" width=\"7.799999999999997\" height=\"7.800000000000068\"></rect><rect x=\"84.6\" y=\"396.59999999999997\" width=\"7.800000000000011\" height=\"7.800000000000068\"></rect><rect x=\"258.59999999999997\" y=\"396.59999999999997\" width=\"7.800000000000011\" height=\"7.800000000000068\"></rect><rect x=\"285.6\" y=\"396.59999999999997\" width=\"7.7999999999999545\" height=\"7.800000000000068\"></rect><rect x=\"390.59999999999997\" y=\"396.59999999999997\" width=\"7.800000000000068\" height=\"7.800000000000068\"></rect><rect x=\"18.6\" y=\"399.59999999999997\" width=\"7.800000000000001\" height=\"7.800000000000068\"></rect><rect x=\"42.599999999999994\" y=\"399.59999999999997\" width=\"7.800000000000011\" height=\"7.800000000000068\"></rect><rect x=\"135.60000000000002\" y=\"399.59999999999997\" width=\"7.799999999999983\" height=\"7.800000000000068\"></rect><rect x=\"156.6\" y=\"399.59999999999997\" width=\"7.800000000000011\" height=\"7.800000000000068\"></rect><rect x=\"177.6\" y=\"399.59999999999997\" width=\"7.799999999999983\" height=\"7.800000000000068\"></rect><rect x=\"186.60000000000002\" y=\"399.59999999999997\" width=\"7.799999999999983\" height=\"7.800000000000068\"></rect><rect x=\"219.6\" y=\"399.59999999999997\" width=\"7.799999999999983\" height=\"7.800000000000068\"></rect><rect x=\"273.6\" y=\"399.59999999999997\" width=\"7.7999999999999545\" height=\"7.800000000000068\"></rect><rect x=\"294.59999999999997\" y=\"399.59999999999997\" width=\"7.800000000000011\" height=\"7.800000000000068\"></rect><rect x=\"351.6\" y=\"399.59999999999997\" width=\"7.7999999999999545\" height=\"7.800000000000068\"></rect><rect x=\"126.6\" y=\"402.59999999999997\" width=\"7.799999999999983\" height=\"7.800000000000068\"></rect><rect x=\"153.6\" y=\"402.59999999999997\" width=\"7.800000000000011\" height=\"7.800000000000068\"></rect><rect x=\"162.60000000000002\" y=\"402.59999999999997\" width=\"7.7999999999999545\" height=\"7.800000000000068\"></rect><rect x=\"237.60000000000002\" y=\"402.59999999999997\" width=\"7.799999999999983\" height=\"7.800000000000068\"></rect><rect x=\"270.6\" y=\"402.59999999999997\" width=\"7.800000000000011\" height=\"7.800000000000068\"></rect><rect x=\"369.6\" y=\"402.59999999999997\" width=\"7.7999999999999545\" height=\"7.800000000000068\"></rect><rect x=\"411.59999999999997\" y=\"402.59999999999997\" width=\"7.800000000000068\" height=\"7.800000000000068\"></rect><rect x=\"66.6\" y=\"405.59999999999997\" width=\"7.800000000000011\" height=\"7.800000000000068\"></rect><rect x=\"342.6\" y=\"405.59999999999997\" width=\"7.800000000000011\" height=\"7.800000000000068\"></rect><rect x=\"360.59999999999997\" y=\"405.59999999999997\" width=\"7.800000000000011\" height=\"7.800000000000068\"></rect><rect x=\"408.59999999999997\" y=\"405.59999999999997\" width=\"7.800000000000068\" height=\"7.800000000000068\"></rect><rect x=\"21.6\" y=\"408.59999999999997\" width=\"7.800000000000001\" height=\"7.800000000000068\"></rect><rect x=\"105.60000000000001\" y=\"408.59999999999997\" width=\"7.799999999999983\" height=\"7.800000000000068\"></rect><rect x=\"174.6\" y=\"408.59999999999997\" width=\"7.800000000000011\" height=\"7.800000000000068\"></rect><rect x=\"189.6\" y=\"408.59999999999997\" width=\"7.800000000000011\" height=\"7.800000000000068\"></rect><rect x=\"222.6\" y=\"408.59999999999997\" width=\"7.799999999999983\" height=\"7.800000000000068\"></rect><rect x=\"327.59999999999997\" y=\"408.59999999999997\" width=\"7.800000000000011\" height=\"7.800000000000068\"></rect><rect x=\"369.6\" y=\"408.59999999999997\" width=\"7.7999999999999545\" height=\"7.800000000000068\"></rect><rect x=\"54.6\" y=\"411.59999999999997\" width=\"7.799999999999997\" height=\"7.800000000000068\"></rect><rect x=\"111.60000000000002\" y=\"411.59999999999997\" width=\"7.7999999999999545\" height=\"7.800000000000068\"></rect><rect x=\"129.60000000000002\" y=\"411.59999999999997\" width=\"7.7999999999999545\" height=\"7.800000000000068\"></rect><rect x=\"156.6\" y=\"411.59999999999997\" width=\"7.800000000000011\" height=\"7.800000000000068\"></rect><rect x=\"267.6\" y=\"411.59999999999997\" width=\"7.800000000000011\" height=\"7.800000000000068\"></rect><rect x=\"297.6\" y=\"411.59999999999997\" width=\"7.7999999999999545\" height=\"7.800000000000068\"></rect><rect x=\"309.6\" y=\"411.59999999999997\" width=\"7.7999999999999545\" height=\"7.800000000000068\"></rect><rect x=\"369.6\" y=\"411.59999999999997\" width=\"7.7999999999999545\" height=\"7.800000000000068\"></rect><rect x=\"48.6\" y=\"414.59999999999997\" width=\"7.800000000000004\" height=\"7.800000000000068\"></rect><rect x=\"87.60000000000001\" y=\"414.59999999999997\" width=\"7.799999999999997\" height=\"7.800000000000068\"></rect><rect x=\"240.60000000000002\" y=\"414.59999999999997\" width=\"7.799999999999983\" height=\"7.800000000000068\"></rect><rect x=\"243.6\" y=\"414.59999999999997\" width=\"7.800000000000011\" height=\"7.800000000000068\"></rect><rect x=\"387.59999999999997\" y=\"414.59999999999997\" width=\"7.800000000000068\" height=\"7.800000000000068\"></rect><rect x=\"408.59999999999997\" y=\"414.59999999999997\" width=\"7.800000000000068\" height=\"7.800000000000068\"></rect><rect x=\"327.59999999999997\" y=\"417.59999999999997\" width=\"7.800000000000011\" height=\"7.800000000000068\"></rect><rect x=\"369.6\" y=\"417.59999999999997\" width=\"7.7999999999999545\" height=\"7.800000000000068\"></rect></g></svg></figure>"
      ],
      "text/plain": [
       "<IPython.core.display.HTML object>"
      ]
     },
     "metadata": {},
     "output_type": "display_data"
    }
   ],
   "source": [
    "actual_input_plotter.copy().stack(\n",
    "    neighborhood_mark_layer(symbols_xda(parsed_actual_input))\n",
    ").plot()"
   ]
  },
  {
   "cell_type": "markdown",
   "metadata": {},
   "source": [
    "Gear candidates for part 2:\n"
   ]
  },
  {
   "cell_type": "code",
   "execution_count": 21,
   "metadata": {
    "execution": {
     "iopub.execute_input": "2024-11-25T23:09:55.868547Z",
     "iopub.status.busy": "2024-11-25T23:09:55.868288Z",
     "iopub.status.idle": "2024-11-25T23:09:55.991530Z",
     "shell.execute_reply": "2024-11-25T23:09:55.990271Z"
    }
   },
   "outputs": [
    {
     "name": "stdout",
     "output_type": "stream",
     "text": [
      "Layer #0 <function ObservablePlotXarrayBuilder.create_raster_background_marks.<locals>.callback at 0x7f27c2535b20>\n",
      "Layer #1 <function text_mark_producer.<locals>.callback at 0x7f27c26a1f80>\n",
      "Layer #2 <function neighborhood_mark_layer.<locals>.callback at 0x7f27c2535bc0>\n"
     ]
    },
    {
     "data": {
      "text/html": [
       "<figure class=\"plot-d6a7b5-figure\" style=\"max-width: initial; padding: 0px 5px 5px 5px; color: currentColor; background-color: transparent;\" typstbg=\"transparent\" typstfg=\"currentColor\" typstcaption=\"currentColor\"><div class=\"plot-d6a7b5-swatches plot-d6a7b5-swatches-wrap\"><style>:where(.plot-d6a7b5-swatches) {\n",
       "  font-family: system-ui, sans-serif;\n",
       "  font-size: 10px;\n",
       "  margin-bottom: 0.5em;\n",
       "}\n",
       ":where(.plot-d6a7b5-swatch > svg) {\n",
       "  margin-right: 0.5em;\n",
       "  overflow: visible;\n",
       "}\n",
       ":where(.plot-d6a7b5-swatches-wrap) {\n",
       "  display: flex;\n",
       "  align-items: center;\n",
       "  min-height: 33px;\n",
       "  flex-wrap: wrap;\n",
       "}\n",
       ":where(.plot-d6a7b5-swatches-wrap .plot-d6a7b5-swatch) {\n",
       "  display: inline-flex;\n",
       "  align-items: center;\n",
       "  margin-right: 1em;\n",
       "}</style><span class=\"plot-d6a7b5-swatch\"><svg width=\"15\" height=\"15\" fill=\"#440154\" xmlns=\"http://www.w3.org/2000/svg\" xmlns:xlink=\"http://www.w3.org/1999/xlink\" style=\"color: currentColor; background-color: transparent;\"><rect width=\"100%\" height=\"100%\"></rect></svg>#</span><span class=\"plot-d6a7b5-swatch\"><svg width=\"15\" height=\"15\" fill=\"#481f70\" xmlns=\"http://www.w3.org/2000/svg\" xmlns:xlink=\"http://www.w3.org/1999/xlink\" style=\"color: currentColor; background-color: transparent;\"><rect width=\"100%\" height=\"100%\"></rect></svg>$</span><span class=\"plot-d6a7b5-swatch\"><svg width=\"15\" height=\"15\" fill=\"#443983\" xmlns=\"http://www.w3.org/2000/svg\" xmlns:xlink=\"http://www.w3.org/1999/xlink\" style=\"color: currentColor; background-color: transparent;\"><rect width=\"100%\" height=\"100%\"></rect></svg>%</span><span class=\"plot-d6a7b5-swatch\"><svg width=\"15\" height=\"15\" fill=\"#3b528b\" xmlns=\"http://www.w3.org/2000/svg\" xmlns:xlink=\"http://www.w3.org/1999/xlink\" style=\"color: currentColor; background-color: transparent;\"><rect width=\"100%\" height=\"100%\"></rect></svg>&amp;</span><span class=\"plot-d6a7b5-swatch\"><svg width=\"15\" height=\"15\" fill=\"#31688e\" xmlns=\"http://www.w3.org/2000/svg\" xmlns:xlink=\"http://www.w3.org/1999/xlink\" style=\"color: currentColor; background-color: transparent;\"><rect width=\"100%\" height=\"100%\"></rect></svg>*</span><span class=\"plot-d6a7b5-swatch\"><svg width=\"15\" height=\"15\" fill=\"#287c8e\" xmlns=\"http://www.w3.org/2000/svg\" xmlns:xlink=\"http://www.w3.org/1999/xlink\" style=\"color: currentColor; background-color: transparent;\"><rect width=\"100%\" height=\"100%\"></rect></svg>+</span><span class=\"plot-d6a7b5-swatch\"><svg width=\"15\" height=\"15\" fill=\"#21918c\" xmlns=\"http://www.w3.org/2000/svg\" xmlns:xlink=\"http://www.w3.org/1999/xlink\" style=\"color: currentColor; background-color: transparent;\"><rect width=\"100%\" height=\"100%\"></rect></svg>-</span><span class=\"plot-d6a7b5-swatch\"><svg width=\"15\" height=\"15\" fill=\"#20a486\" xmlns=\"http://www.w3.org/2000/svg\" xmlns:xlink=\"http://www.w3.org/1999/xlink\" style=\"color: currentColor; background-color: transparent;\"><rect width=\"100%\" height=\"100%\"></rect></svg>.</span><span class=\"plot-d6a7b5-swatch\"><svg width=\"15\" height=\"15\" fill=\"#35b779\" xmlns=\"http://www.w3.org/2000/svg\" xmlns:xlink=\"http://www.w3.org/1999/xlink\" style=\"color: currentColor; background-color: transparent;\"><rect width=\"100%\" height=\"100%\"></rect></svg>/</span><span class=\"plot-d6a7b5-swatch\"><svg width=\"15\" height=\"15\" fill=\"#5ec962\" xmlns=\"http://www.w3.org/2000/svg\" xmlns:xlink=\"http://www.w3.org/1999/xlink\" style=\"color: currentColor; background-color: transparent;\"><rect width=\"100%\" height=\"100%\"></rect></svg>0</span><span class=\"plot-d6a7b5-swatch\"><svg width=\"15\" height=\"15\" fill=\"#90d743\" xmlns=\"http://www.w3.org/2000/svg\" xmlns:xlink=\"http://www.w3.org/1999/xlink\" style=\"color: currentColor; background-color: transparent;\"><rect width=\"100%\" height=\"100%\"></rect></svg>=</span><span class=\"plot-d6a7b5-swatch\"><svg width=\"15\" height=\"15\" fill=\"#c8e020\" xmlns=\"http://www.w3.org/2000/svg\" xmlns:xlink=\"http://www.w3.org/1999/xlink\" style=\"color: currentColor; background-color: transparent;\"><rect width=\"100%\" height=\"100%\"></rect></svg>@</span><span class=\"plot-d6a7b5-swatch\"><svg width=\"15\" height=\"15\" fill=\"#fde725\" xmlns=\"http://www.w3.org/2000/svg\" xmlns:xlink=\"http://www.w3.org/1999/xlink\" style=\"color: currentColor; background-color: transparent;\"><rect width=\"100%\" height=\"100%\"></rect></svg>N</span></div><svg class=\"plot-d6a7b5\" fill=\"currentColor\" font-family=\"system-ui, sans-serif\" font-size=\"10\" text-anchor=\"middle\" width=\"426\" height=\"426\" viewBox=\"0 0 426 426\" style=\"background-color: rgb(17, 17, 17); color: rgb(238, 238, 238);\" xmlns=\"http://www.w3.org/2000/svg\" xmlns:xlink=\"http://www.w3.org/1999/xlink\"><style>:where(.plot-d6a7b5) {\n",
       "  --plot-background: white;\n",
       "  display: block;\n",
       "  height: auto;\n",
       "  height: intrinsic;\n",
       "  max-width: 100%;\n",
       "}\n",
       ":where(.plot-d6a7b5 text),\n",
       ":where(.plot-d6a7b5 tspan) {\n",
       "  white-space: pre;\n",
       "}</style><g aria-label=\"y-axis tick\" aria-hidden=\"true\" fill=\"none\" stroke=\"currentColor\"><path transform=\"translate(0,420)\" d=\"M0,0L-6,0\"></path><path transform=\"translate(0,360)\" d=\"M0,0L-6,0\"></path><path transform=\"translate(0,300)\" d=\"M0,0L-6,0\"></path><path transform=\"translate(0,240)\" d=\"M0,0L-6,0\"></path><path transform=\"translate(0,180)\" d=\"M0,0L-6,0\"></path><path transform=\"translate(0,120)\" d=\"M0,0L-6,0\"></path><path transform=\"translate(0,60)\" d=\"M0,0L-6,0\"></path><path transform=\"translate(0,0)\" d=\"M0,0L-6,0\"></path></g><g aria-label=\"y-axis tick label\" text-anchor=\"end\" font-variant=\"tabular-nums\" transform=\"translate(-9,0)\"><text y=\"0.32em\" transform=\"translate(0,420)\">140</text><text y=\"0.32em\" transform=\"translate(0,360)\">120</text><text y=\"0.32em\" transform=\"translate(0,300)\">100</text><text y=\"0.32em\" transform=\"translate(0,240)\">80</text><text y=\"0.32em\" transform=\"translate(0,180)\">60</text><text y=\"0.32em\" transform=\"translate(0,120)\">40</text><text y=\"0.32em\" transform=\"translate(0,60)\">20</text><text y=\"0.32em\" transform=\"translate(0,0)\">0</text></g><g aria-label=\"x-axis tick\" aria-hidden=\"true\" fill=\"none\" stroke=\"currentColor\"><path transform=\"translate(0,0)\" d=\"M0,0L0,-6\"></path><path transform=\"translate(60,0)\" d=\"M0,0L0,-6\"></path><path transform=\"translate(120,0)\" d=\"M0,0L0,-6\"></path><path transform=\"translate(180,0)\" d=\"M0,0L0,-6\"></path><path transform=\"translate(240,0)\" d=\"M0,0L0,-6\"></path><path transform=\"translate(300,0)\" d=\"M0,0L0,-6\"></path><path transform=\"translate(360,0)\" d=\"M0,0L0,-6\"></path><path transform=\"translate(420,0)\" d=\"M0,0L0,-6\"></path></g><g aria-label=\"x-axis tick label\" font-variant=\"tabular-nums\" transform=\"translate(0,-9)\"><text transform=\"translate(0,0)\">0</text><text transform=\"translate(60,0)\">20</text><text transform=\"translate(120,0)\">40</text><text transform=\"translate(180,0)\">60</text><text transform=\"translate(240,0)\">80</text><text transform=\"translate(300,0)\">100</text><text transform=\"translate(360,0)\">120</text><text transform=\"translate(420,0)\">140</text></g><g aria-label=\"raster\"><image transform=\"translate(0,0) scale(1,1)\" width=\"426\" height=\"426\" preserveAspectRatio=\"none\" image-rendering=\"pixelated\" href=\"data:image/png;base64,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\"></image></g><g aria-label=\"rect\" fill=\"none\" stroke=\"red\" stroke-width=\"2\"><rect x=\"234.60000000000002\" y=\"3.5999999999999996\" width=\"7.799999999999983\" height=\"7.800000000000001\"></rect><rect x=\"297.6\" y=\"3.5999999999999996\" width=\"7.7999999999999545\" height=\"7.800000000000001\"></rect><rect x=\"315.6\" y=\"3.5999999999999996\" width=\"7.7999999999999545\" height=\"7.800000000000001\"></rect><rect x=\"204.60000000000002\" y=\"6.6000000000000005\" width=\"7.799999999999983\" height=\"7.799999999999998\"></rect><rect x=\"363.59999999999997\" y=\"6.6000000000000005\" width=\"7.800000000000011\" height=\"7.799999999999998\"></rect><rect x=\"396.59999999999997\" y=\"6.6000000000000005\" width=\"7.800000000000068\" height=\"7.799999999999998\"></rect><rect x=\"15.6\" y=\"9.6\" width=\"7.799999999999999\" height=\"7.8000000000000025\"></rect><rect x=\"30.6\" y=\"9.6\" width=\"7.799999999999997\" height=\"7.8000000000000025\"></rect><rect x=\"321.6\" y=\"9.6\" width=\"7.7999999999999545\" height=\"7.8000000000000025\"></rect><rect x=\"153.6\" y=\"12.600000000000001\" width=\"7.800000000000011\" height=\"7.799999999999997\"></rect><rect x=\"252.6\" y=\"12.600000000000001\" width=\"7.799999999999983\" height=\"7.799999999999997\"></rect><rect x=\"408.59999999999997\" y=\"12.600000000000001\" width=\"7.800000000000068\" height=\"7.799999999999997\"></rect><rect x=\"354.6\" y=\"15.6\" width=\"7.7999999999999545\" height=\"7.799999999999999\"></rect><rect x=\"60.6\" y=\"18.6\" width=\"7.800000000000004\" height=\"7.800000000000001\"></rect><rect x=\"309.6\" y=\"18.6\" width=\"7.7999999999999545\" height=\"7.800000000000001\"></rect><rect x=\"339.6\" y=\"18.6\" width=\"7.800000000000011\" height=\"7.800000000000001\"></rect><rect x=\"390.59999999999997\" y=\"18.6\" width=\"7.800000000000068\" height=\"7.800000000000001\"></rect><rect x=\"405.59999999999997\" y=\"18.6\" width=\"7.800000000000068\" height=\"7.800000000000001\"></rect><rect x=\"165.60000000000002\" y=\"21.6\" width=\"7.7999999999999545\" height=\"7.800000000000001\"></rect><rect x=\"216.6\" y=\"24.599999999999998\" width=\"7.799999999999983\" height=\"7.800000000000008\"></rect><rect x=\"27.599999999999998\" y=\"27.599999999999998\" width=\"7.800000000000001\" height=\"7.800000000000001\"></rect><rect x=\"114.60000000000001\" y=\"27.599999999999998\" width=\"7.799999999999997\" height=\"7.800000000000001\"></rect><rect x=\"372.6\" y=\"27.599999999999998\" width=\"7.800000000000011\" height=\"7.800000000000001\"></rect><rect x=\"333.6\" y=\"30.6\" width=\"7.7999999999999545\" height=\"7.799999999999997\"></rect><rect x=\"387.59999999999997\" y=\"30.6\" width=\"7.800000000000068\" height=\"7.799999999999997\"></rect><rect x=\"162.60000000000002\" y=\"33.599999999999994\" width=\"7.7999999999999545\" height=\"7.800000000000011\"></rect><rect x=\"201.60000000000002\" y=\"33.599999999999994\" width=\"7.7999999999999545\" height=\"7.800000000000011\"></rect><rect x=\"39.6\" y=\"36.6\" width=\"7.799999999999997\" height=\"7.799999999999997\"></rect><rect x=\"87.60000000000001\" y=\"36.6\" width=\"7.799999999999997\" height=\"7.799999999999997\"></rect><rect x=\"102.60000000000001\" y=\"36.6\" width=\"7.799999999999983\" height=\"7.799999999999997\"></rect><rect x=\"126.6\" y=\"39.6\" width=\"7.799999999999983\" height=\"7.799999999999997\"></rect><rect x=\"345.6\" y=\"39.6\" width=\"7.7999999999999545\" height=\"7.799999999999997\"></rect><rect x=\"63.6\" y=\"42.599999999999994\" width=\"7.800000000000004\" height=\"7.800000000000011\"></rect><rect x=\"198.60000000000002\" y=\"42.599999999999994\" width=\"7.7999999999999545\" height=\"7.800000000000011\"></rect><rect x=\"333.6\" y=\"42.599999999999994\" width=\"7.7999999999999545\" height=\"7.800000000000011\"></rect><rect x=\"111.60000000000002\" y=\"45.6\" width=\"7.7999999999999545\" height=\"7.799999999999997\"></rect><rect x=\"177.6\" y=\"45.6\" width=\"7.799999999999983\" height=\"7.799999999999997\"></rect><rect x=\"216.6\" y=\"45.6\" width=\"7.799999999999983\" height=\"7.799999999999997\"></rect><rect x=\"33.599999999999994\" y=\"48.6\" width=\"7.800000000000011\" height=\"7.800000000000004\"></rect><rect x=\"402.59999999999997\" y=\"48.6\" width=\"7.800000000000068\" height=\"7.800000000000004\"></rect><rect x=\"306.6\" y=\"54.6\" width=\"7.800000000000011\" height=\"7.799999999999997\"></rect><rect x=\"90.6\" y=\"57.599999999999994\" width=\"7.799999999999997\" height=\"7.800000000000011\"></rect><rect x=\"96.60000000000001\" y=\"57.599999999999994\" width=\"7.799999999999983\" height=\"7.800000000000011\"></rect><rect x=\"174.6\" y=\"57.599999999999994\" width=\"7.800000000000011\" height=\"7.800000000000011\"></rect><rect x=\"189.6\" y=\"57.599999999999994\" width=\"7.800000000000011\" height=\"7.800000000000011\"></rect><rect x=\"237.60000000000002\" y=\"57.599999999999994\" width=\"7.799999999999983\" height=\"7.800000000000011\"></rect><rect x=\"291.59999999999997\" y=\"57.599999999999994\" width=\"7.800000000000011\" height=\"7.800000000000011\"></rect><rect x=\"315.6\" y=\"57.599999999999994\" width=\"7.7999999999999545\" height=\"7.800000000000011\"></rect><rect x=\"9.6\" y=\"60.6\" width=\"7.8000000000000025\" height=\"7.800000000000004\"></rect><rect x=\"123.6\" y=\"63.6\" width=\"7.799999999999983\" height=\"7.800000000000004\"></rect><rect x=\"144.60000000000002\" y=\"63.6\" width=\"7.7999999999999545\" height=\"7.800000000000004\"></rect><rect x=\"309.6\" y=\"63.6\" width=\"7.7999999999999545\" height=\"7.800000000000004\"></rect><rect x=\"18.6\" y=\"66.6\" width=\"7.800000000000001\" height=\"7.800000000000011\"></rect><rect x=\"162.60000000000002\" y=\"66.6\" width=\"7.7999999999999545\" height=\"7.800000000000011\"></rect><rect x=\"105.60000000000001\" y=\"69.60000000000001\" width=\"7.799999999999983\" height=\"7.799999999999997\"></rect><rect x=\"54.6\" y=\"72.6\" width=\"7.799999999999997\" height=\"7.800000000000011\"></rect><rect x=\"120.60000000000001\" y=\"72.6\" width=\"7.799999999999997\" height=\"7.800000000000011\"></rect><rect x=\"234.60000000000002\" y=\"72.6\" width=\"7.799999999999983\" height=\"7.800000000000011\"></rect><rect x=\"255.6\" y=\"72.6\" width=\"7.799999999999983\" height=\"7.800000000000011\"></rect><rect x=\"327.59999999999997\" y=\"72.6\" width=\"7.800000000000011\" height=\"7.800000000000011\"></rect><rect x=\"360.59999999999997\" y=\"72.6\" width=\"7.800000000000011\" height=\"7.800000000000011\"></rect><rect x=\"93.6\" y=\"75.6\" width=\"7.799999999999997\" height=\"7.800000000000011\"></rect><rect x=\"168.60000000000002\" y=\"75.6\" width=\"7.799999999999983\" height=\"7.800000000000011\"></rect><rect x=\"219.6\" y=\"75.6\" width=\"7.799999999999983\" height=\"7.800000000000011\"></rect><rect x=\"267.6\" y=\"75.6\" width=\"7.800000000000011\" height=\"7.800000000000011\"></rect><rect x=\"282.6\" y=\"75.6\" width=\"7.7999999999999545\" height=\"7.800000000000011\"></rect><rect x=\"48.6\" y=\"78.60000000000001\" width=\"7.800000000000004\" height=\"7.799999999999997\"></rect><rect x=\"150.60000000000002\" y=\"78.60000000000001\" width=\"7.799999999999983\" height=\"7.799999999999997\"></rect><rect x=\"378.6\" y=\"81.6\" width=\"7.800000000000011\" height=\"7.800000000000011\"></rect><rect x=\"276.6\" y=\"84.6\" width=\"7.7999999999999545\" height=\"7.800000000000011\"></rect><rect x=\"9.6\" y=\"87.60000000000001\" width=\"7.8000000000000025\" height=\"7.799999999999997\"></rect><rect x=\"60.6\" y=\"87.60000000000001\" width=\"7.800000000000004\" height=\"7.799999999999997\"></rect><rect x=\"111.60000000000002\" y=\"87.60000000000001\" width=\"7.7999999999999545\" height=\"7.799999999999997\"></rect><rect x=\"180.60000000000002\" y=\"87.60000000000001\" width=\"7.7999999999999545\" height=\"7.799999999999997\"></rect><rect x=\"210.6\" y=\"87.60000000000001\" width=\"7.800000000000011\" height=\"7.799999999999997\"></rect><rect x=\"363.59999999999997\" y=\"90.6\" width=\"7.800000000000011\" height=\"7.799999999999997\"></rect><rect x=\"243.6\" y=\"93.6\" width=\"7.800000000000011\" height=\"7.799999999999997\"></rect><rect x=\"273.6\" y=\"96.60000000000001\" width=\"7.7999999999999545\" height=\"7.799999999999983\"></rect><rect x=\"306.6\" y=\"96.60000000000001\" width=\"7.800000000000011\" height=\"7.799999999999983\"></rect><rect x=\"330.59999999999997\" y=\"96.60000000000001\" width=\"7.800000000000011\" height=\"7.799999999999983\"></rect><rect x=\"75.6\" y=\"99.60000000000001\" width=\"7.800000000000011\" height=\"7.799999999999997\"></rect><rect x=\"369.6\" y=\"99.60000000000001\" width=\"7.7999999999999545\" height=\"7.799999999999997\"></rect><rect x=\"114.60000000000001\" y=\"102.60000000000001\" width=\"7.799999999999997\" height=\"7.799999999999983\"></rect><rect x=\"135.60000000000002\" y=\"102.60000000000001\" width=\"7.799999999999983\" height=\"7.799999999999983\"></rect><rect x=\"198.60000000000002\" y=\"102.60000000000001\" width=\"7.7999999999999545\" height=\"7.799999999999983\"></rect><rect x=\"351.6\" y=\"102.60000000000001\" width=\"7.7999999999999545\" height=\"7.799999999999983\"></rect><rect x=\"27.599999999999998\" y=\"105.60000000000001\" width=\"7.800000000000001\" height=\"7.799999999999983\"></rect><rect x=\"57.599999999999994\" y=\"105.60000000000001\" width=\"7.800000000000011\" height=\"7.799999999999983\"></rect><rect x=\"261.6\" y=\"105.60000000000001\" width=\"7.7999999999999545\" height=\"7.799999999999983\"></rect><rect x=\"180.60000000000002\" y=\"108.6\" width=\"7.7999999999999545\" height=\"7.799999999999997\"></rect><rect x=\"285.6\" y=\"108.6\" width=\"7.7999999999999545\" height=\"7.799999999999997\"></rect><rect x=\"306.6\" y=\"108.6\" width=\"7.800000000000011\" height=\"7.799999999999997\"></rect><rect x=\"96.60000000000001\" y=\"111.60000000000002\" width=\"7.799999999999983\" height=\"7.7999999999999545\"></rect><rect x=\"111.60000000000002\" y=\"111.60000000000002\" width=\"7.7999999999999545\" height=\"7.7999999999999545\"></rect><rect x=\"228.60000000000002\" y=\"111.60000000000002\" width=\"7.7999999999999545\" height=\"7.7999999999999545\"></rect><rect x=\"255.6\" y=\"111.60000000000002\" width=\"7.799999999999983\" height=\"7.7999999999999545\"></rect><rect x=\"63.6\" y=\"114.60000000000001\" width=\"7.800000000000004\" height=\"7.799999999999997\"></rect><rect x=\"276.6\" y=\"114.60000000000001\" width=\"7.7999999999999545\" height=\"7.799999999999997\"></rect><rect x=\"342.6\" y=\"114.60000000000001\" width=\"7.800000000000011\" height=\"7.799999999999997\"></rect><rect x=\"78.60000000000001\" y=\"117.60000000000001\" width=\"7.799999999999997\" height=\"7.799999999999983\"></rect><rect x=\"306.6\" y=\"117.60000000000001\" width=\"7.800000000000011\" height=\"7.799999999999983\"></rect><rect x=\"9.6\" y=\"120.60000000000001\" width=\"7.8000000000000025\" height=\"7.799999999999997\"></rect><rect x=\"183.60000000000002\" y=\"120.60000000000001\" width=\"7.7999999999999545\" height=\"7.799999999999997\"></rect><rect x=\"387.59999999999997\" y=\"120.60000000000001\" width=\"7.800000000000068\" height=\"7.799999999999997\"></rect><rect x=\"402.59999999999997\" y=\"120.60000000000001\" width=\"7.800000000000068\" height=\"7.799999999999997\"></rect><rect x=\"48.6\" y=\"123.6\" width=\"7.800000000000004\" height=\"7.799999999999983\"></rect><rect x=\"30.6\" y=\"126.6\" width=\"7.799999999999997\" height=\"7.799999999999983\"></rect><rect x=\"150.60000000000002\" y=\"126.6\" width=\"7.799999999999983\" height=\"7.799999999999983\"></rect><rect x=\"234.60000000000002\" y=\"126.6\" width=\"7.799999999999983\" height=\"7.799999999999983\"></rect><rect x=\"321.6\" y=\"126.6\" width=\"7.7999999999999545\" height=\"7.799999999999983\"></rect><rect x=\"123.6\" y=\"129.60000000000002\" width=\"7.799999999999983\" height=\"7.7999999999999545\"></rect><rect x=\"246.6\" y=\"129.60000000000002\" width=\"7.800000000000011\" height=\"7.7999999999999545\"></rect><rect x=\"258.59999999999997\" y=\"129.60000000000002\" width=\"7.800000000000011\" height=\"7.7999999999999545\"></rect><rect x=\"291.59999999999997\" y=\"129.60000000000002\" width=\"7.800000000000011\" height=\"7.7999999999999545\"></rect><rect x=\"372.6\" y=\"129.60000000000002\" width=\"7.800000000000011\" height=\"7.7999999999999545\"></rect><rect x=\"393.59999999999997\" y=\"129.60000000000002\" width=\"7.800000000000068\" height=\"7.7999999999999545\"></rect><rect x=\"192.6\" y=\"132.60000000000002\" width=\"7.800000000000011\" height=\"7.799999999999983\"></rect><rect x=\"210.6\" y=\"135.60000000000002\" width=\"7.800000000000011\" height=\"7.799999999999983\"></rect><rect x=\"24.599999999999998\" y=\"138.6\" width=\"7.800000000000008\" height=\"7.800000000000011\"></rect><rect x=\"36.6\" y=\"138.6\" width=\"7.799999999999997\" height=\"7.800000000000011\"></rect><rect x=\"54.6\" y=\"138.6\" width=\"7.799999999999997\" height=\"7.800000000000011\"></rect><rect x=\"177.6\" y=\"138.6\" width=\"7.799999999999983\" height=\"7.800000000000011\"></rect><rect x=\"300.6\" y=\"138.6\" width=\"7.800000000000011\" height=\"7.800000000000011\"></rect><rect x=\"381.6\" y=\"138.6\" width=\"7.800000000000011\" height=\"7.800000000000011\"></rect><rect x=\"240.60000000000002\" y=\"141.6\" width=\"7.799999999999983\" height=\"7.799999999999983\"></rect><rect x=\"30.6\" y=\"147.60000000000002\" width=\"7.799999999999997\" height=\"7.7999999999999545\"></rect><rect x=\"72.6\" y=\"147.60000000000002\" width=\"7.800000000000011\" height=\"7.7999999999999545\"></rect><rect x=\"126.6\" y=\"147.60000000000002\" width=\"7.799999999999983\" height=\"7.7999999999999545\"></rect><rect x=\"282.6\" y=\"147.60000000000002\" width=\"7.7999999999999545\" height=\"7.7999999999999545\"></rect><rect x=\"309.6\" y=\"147.60000000000002\" width=\"7.7999999999999545\" height=\"7.7999999999999545\"></rect><rect x=\"336.6\" y=\"147.60000000000002\" width=\"7.800000000000011\" height=\"7.7999999999999545\"></rect><rect x=\"15.6\" y=\"150.60000000000002\" width=\"7.799999999999999\" height=\"7.799999999999983\"></rect><rect x=\"93.6\" y=\"150.60000000000002\" width=\"7.799999999999997\" height=\"7.799999999999983\"></rect><rect x=\"144.60000000000002\" y=\"156.6\" width=\"7.7999999999999545\" height=\"7.800000000000011\"></rect><rect x=\"219.6\" y=\"156.6\" width=\"7.799999999999983\" height=\"7.800000000000011\"></rect><rect x=\"285.6\" y=\"156.6\" width=\"7.7999999999999545\" height=\"7.800000000000011\"></rect><rect x=\"66.6\" y=\"159.6\" width=\"7.800000000000011\" height=\"7.799999999999983\"></rect><rect x=\"99.60000000000001\" y=\"159.6\" width=\"7.799999999999997\" height=\"7.799999999999983\"></rect><rect x=\"348.6\" y=\"159.6\" width=\"7.7999999999999545\" height=\"7.799999999999983\"></rect><rect x=\"273.6\" y=\"162.60000000000002\" width=\"7.7999999999999545\" height=\"7.7999999999999545\"></rect><rect x=\"18.6\" y=\"165.60000000000002\" width=\"7.800000000000001\" height=\"7.7999999999999545\"></rect><rect x=\"60.6\" y=\"165.60000000000002\" width=\"7.800000000000004\" height=\"7.7999999999999545\"></rect><rect x=\"156.6\" y=\"165.60000000000002\" width=\"7.800000000000011\" height=\"7.7999999999999545\"></rect><rect x=\"195.6\" y=\"165.60000000000002\" width=\"7.799999999999983\" height=\"7.7999999999999545\"></rect><rect x=\"27.599999999999998\" y=\"168.60000000000002\" width=\"7.800000000000001\" height=\"7.799999999999983\"></rect><rect x=\"132.60000000000002\" y=\"168.60000000000002\" width=\"7.799999999999983\" height=\"7.799999999999983\"></rect><rect x=\"222.6\" y=\"168.60000000000002\" width=\"7.799999999999983\" height=\"7.799999999999983\"></rect><rect x=\"291.59999999999997\" y=\"168.60000000000002\" width=\"7.800000000000011\" height=\"7.799999999999983\"></rect><rect x=\"405.59999999999997\" y=\"168.60000000000002\" width=\"7.800000000000068\" height=\"7.799999999999983\"></rect><rect x=\"9.6\" y=\"171.6\" width=\"7.8000000000000025\" height=\"7.800000000000011\"></rect><rect x=\"246.6\" y=\"174.6\" width=\"7.800000000000011\" height=\"7.800000000000011\"></rect><rect x=\"378.6\" y=\"174.6\" width=\"7.800000000000011\" height=\"7.800000000000011\"></rect><rect x=\"51.599999999999994\" y=\"177.6\" width=\"7.800000000000011\" height=\"7.799999999999983\"></rect><rect x=\"90.6\" y=\"177.6\" width=\"7.799999999999997\" height=\"7.799999999999983\"></rect><rect x=\"144.60000000000002\" y=\"180.60000000000002\" width=\"7.7999999999999545\" height=\"7.7999999999999545\"></rect><rect x=\"195.6\" y=\"180.60000000000002\" width=\"7.799999999999983\" height=\"7.7999999999999545\"></rect><rect x=\"258.59999999999997\" y=\"180.60000000000002\" width=\"7.800000000000011\" height=\"7.7999999999999545\"></rect><rect x=\"234.60000000000002\" y=\"183.60000000000002\" width=\"7.799999999999983\" height=\"7.7999999999999545\"></rect><rect x=\"273.6\" y=\"183.60000000000002\" width=\"7.7999999999999545\" height=\"7.7999999999999545\"></rect><rect x=\"12.600000000000001\" y=\"186.60000000000002\" width=\"7.799999999999997\" height=\"7.799999999999983\"></rect><rect x=\"213.6\" y=\"186.60000000000002\" width=\"7.799999999999983\" height=\"7.799999999999983\"></rect><rect x=\"264.6\" y=\"189.6\" width=\"7.7999999999999545\" height=\"7.800000000000011\"></rect><rect x=\"288.59999999999997\" y=\"189.6\" width=\"7.800000000000011\" height=\"7.800000000000011\"></rect><rect x=\"390.59999999999997\" y=\"189.6\" width=\"7.800000000000068\" height=\"7.800000000000011\"></rect><rect x=\"87.60000000000001\" y=\"192.6\" width=\"7.799999999999997\" height=\"7.800000000000011\"></rect><rect x=\"318.6\" y=\"192.6\" width=\"7.7999999999999545\" height=\"7.800000000000011\"></rect><rect x=\"48.6\" y=\"195.6\" width=\"7.800000000000004\" height=\"7.799999999999983\"></rect><rect x=\"228.60000000000002\" y=\"195.6\" width=\"7.7999999999999545\" height=\"7.799999999999983\"></rect><rect x=\"372.6\" y=\"195.6\" width=\"7.800000000000011\" height=\"7.799999999999983\"></rect><rect x=\"9.6\" y=\"201.60000000000002\" width=\"7.8000000000000025\" height=\"7.7999999999999545\"></rect><rect x=\"27.599999999999998\" y=\"201.60000000000002\" width=\"7.800000000000001\" height=\"7.7999999999999545\"></rect><rect x=\"72.6\" y=\"201.60000000000002\" width=\"7.800000000000011\" height=\"7.7999999999999545\"></rect><rect x=\"126.6\" y=\"201.60000000000002\" width=\"7.799999999999983\" height=\"7.7999999999999545\"></rect><rect x=\"267.6\" y=\"201.60000000000002\" width=\"7.800000000000011\" height=\"7.7999999999999545\"></rect><rect x=\"327.59999999999997\" y=\"201.60000000000002\" width=\"7.800000000000011\" height=\"7.7999999999999545\"></rect><rect x=\"399.59999999999997\" y=\"201.60000000000002\" width=\"7.800000000000068\" height=\"7.7999999999999545\"></rect><rect x=\"306.6\" y=\"204.60000000000002\" width=\"7.800000000000011\" height=\"7.799999999999983\"></rect><rect x=\"393.59999999999997\" y=\"204.60000000000002\" width=\"7.800000000000068\" height=\"7.799999999999983\"></rect><rect x=\"93.6\" y=\"207.6\" width=\"7.799999999999997\" height=\"7.800000000000011\"></rect><rect x=\"198.60000000000002\" y=\"207.6\" width=\"7.7999999999999545\" height=\"7.800000000000011\"></rect><rect x=\"258.59999999999997\" y=\"207.6\" width=\"7.800000000000011\" height=\"7.800000000000011\"></rect><rect x=\"339.6\" y=\"207.6\" width=\"7.800000000000011\" height=\"7.800000000000011\"></rect><rect x=\"75.6\" y=\"213.6\" width=\"7.800000000000011\" height=\"7.799999999999983\"></rect><rect x=\"117.60000000000001\" y=\"213.6\" width=\"7.799999999999983\" height=\"7.799999999999983\"></rect><rect x=\"138.6\" y=\"213.6\" width=\"7.800000000000011\" height=\"7.799999999999983\"></rect><rect x=\"156.6\" y=\"213.6\" width=\"7.800000000000011\" height=\"7.799999999999983\"></rect><rect x=\"102.60000000000001\" y=\"216.6\" width=\"7.799999999999983\" height=\"7.799999999999983\"></rect><rect x=\"195.6\" y=\"216.6\" width=\"7.799999999999983\" height=\"7.799999999999983\"></rect><rect x=\"39.6\" y=\"219.6\" width=\"7.799999999999997\" height=\"7.799999999999983\"></rect><rect x=\"258.59999999999997\" y=\"219.6\" width=\"7.800000000000011\" height=\"7.799999999999983\"></rect><rect x=\"282.6\" y=\"219.6\" width=\"7.7999999999999545\" height=\"7.799999999999983\"></rect><rect x=\"381.6\" y=\"219.6\" width=\"7.800000000000011\" height=\"7.799999999999983\"></rect><rect x=\"213.6\" y=\"225.60000000000002\" width=\"7.799999999999983\" height=\"7.7999999999999545\"></rect><rect x=\"342.6\" y=\"231.60000000000002\" width=\"7.800000000000011\" height=\"7.799999999999983\"></rect><rect x=\"372.6\" y=\"231.60000000000002\" width=\"7.800000000000011\" height=\"7.799999999999983\"></rect><rect x=\"90.6\" y=\"234.60000000000002\" width=\"7.799999999999997\" height=\"7.799999999999983\"></rect><rect x=\"213.6\" y=\"234.60000000000002\" width=\"7.799999999999983\" height=\"7.799999999999983\"></rect><rect x=\"279.6\" y=\"234.60000000000002\" width=\"7.7999999999999545\" height=\"7.799999999999983\"></rect><rect x=\"105.60000000000001\" y=\"237.60000000000002\" width=\"7.799999999999983\" height=\"7.799999999999983\"></rect><rect x=\"294.59999999999997\" y=\"237.60000000000002\" width=\"7.800000000000011\" height=\"7.799999999999983\"></rect><rect x=\"153.6\" y=\"240.60000000000002\" width=\"7.800000000000011\" height=\"7.799999999999983\"></rect><rect x=\"180.60000000000002\" y=\"240.60000000000002\" width=\"7.7999999999999545\" height=\"7.799999999999983\"></rect><rect x=\"261.6\" y=\"240.60000000000002\" width=\"7.7999999999999545\" height=\"7.799999999999983\"></rect><rect x=\"213.6\" y=\"243.6\" width=\"7.799999999999983\" height=\"7.800000000000011\"></rect><rect x=\"81.6\" y=\"246.6\" width=\"7.800000000000011\" height=\"7.800000000000011\"></rect><rect x=\"369.6\" y=\"246.6\" width=\"7.7999999999999545\" height=\"7.800000000000011\"></rect><rect x=\"42.599999999999994\" y=\"249.6\" width=\"7.800000000000011\" height=\"7.799999999999983\"></rect><rect x=\"90.6\" y=\"249.6\" width=\"7.799999999999997\" height=\"7.799999999999983\"></rect><rect x=\"105.60000000000001\" y=\"252.6\" width=\"7.799999999999983\" height=\"7.799999999999983\"></rect><rect x=\"126.6\" y=\"252.6\" width=\"7.799999999999983\" height=\"7.799999999999983\"></rect><rect x=\"162.60000000000002\" y=\"252.6\" width=\"7.7999999999999545\" height=\"7.799999999999983\"></rect><rect x=\"207.6\" y=\"252.6\" width=\"7.800000000000011\" height=\"7.799999999999983\"></rect><rect x=\"234.60000000000002\" y=\"252.6\" width=\"7.799999999999983\" height=\"7.799999999999983\"></rect><rect x=\"15.6\" y=\"258.59999999999997\" width=\"7.799999999999999\" height=\"7.800000000000011\"></rect><rect x=\"144.60000000000002\" y=\"258.59999999999997\" width=\"7.7999999999999545\" height=\"7.800000000000011\"></rect><rect x=\"285.6\" y=\"258.59999999999997\" width=\"7.7999999999999545\" height=\"7.800000000000011\"></rect><rect x=\"60.6\" y=\"261.6\" width=\"7.800000000000004\" height=\"7.7999999999999545\"></rect><rect x=\"186.60000000000002\" y=\"261.6\" width=\"7.799999999999983\" height=\"7.7999999999999545\"></rect><rect x=\"306.6\" y=\"261.6\" width=\"7.800000000000011\" height=\"7.7999999999999545\"></rect><rect x=\"372.6\" y=\"261.6\" width=\"7.800000000000011\" height=\"7.7999999999999545\"></rect><rect x=\"9.6\" y=\"264.6\" width=\"7.8000000000000025\" height=\"7.7999999999999545\"></rect><rect x=\"228.60000000000002\" y=\"264.6\" width=\"7.7999999999999545\" height=\"7.7999999999999545\"></rect><rect x=\"336.6\" y=\"264.6\" width=\"7.800000000000011\" height=\"7.7999999999999545\"></rect><rect x=\"378.6\" y=\"264.6\" width=\"7.800000000000011\" height=\"7.7999999999999545\"></rect><rect x=\"396.59999999999997\" y=\"264.6\" width=\"7.800000000000068\" height=\"7.7999999999999545\"></rect><rect x=\"114.60000000000001\" y=\"267.6\" width=\"7.799999999999997\" height=\"7.800000000000011\"></rect><rect x=\"249.6\" y=\"267.6\" width=\"7.799999999999983\" height=\"7.800000000000011\"></rect><rect x=\"9.6\" y=\"270.6\" width=\"7.8000000000000025\" height=\"7.800000000000011\"></rect><rect x=\"30.6\" y=\"270.6\" width=\"7.799999999999997\" height=\"7.800000000000011\"></rect><rect x=\"90.6\" y=\"270.6\" width=\"7.799999999999997\" height=\"7.800000000000011\"></rect><rect x=\"138.6\" y=\"270.6\" width=\"7.800000000000011\" height=\"7.800000000000011\"></rect><rect x=\"222.6\" y=\"270.6\" width=\"7.799999999999983\" height=\"7.800000000000011\"></rect><rect x=\"306.6\" y=\"270.6\" width=\"7.800000000000011\" height=\"7.800000000000011\"></rect><rect x=\"339.6\" y=\"270.6\" width=\"7.800000000000011\" height=\"7.800000000000011\"></rect><rect x=\"60.6\" y=\"273.6\" width=\"7.800000000000004\" height=\"7.7999999999999545\"></rect><rect x=\"153.6\" y=\"276.6\" width=\"7.800000000000011\" height=\"7.7999999999999545\"></rect><rect x=\"144.60000000000002\" y=\"279.6\" width=\"7.7999999999999545\" height=\"7.7999999999999545\"></rect><rect x=\"192.6\" y=\"279.6\" width=\"7.800000000000011\" height=\"7.7999999999999545\"></rect><rect x=\"321.6\" y=\"279.6\" width=\"7.7999999999999545\" height=\"7.7999999999999545\"></rect><rect x=\"378.6\" y=\"279.6\" width=\"7.800000000000011\" height=\"7.7999999999999545\"></rect><rect x=\"66.6\" y=\"282.6\" width=\"7.800000000000011\" height=\"7.7999999999999545\"></rect><rect x=\"90.6\" y=\"282.6\" width=\"7.799999999999997\" height=\"7.7999999999999545\"></rect><rect x=\"267.6\" y=\"282.6\" width=\"7.800000000000011\" height=\"7.7999999999999545\"></rect><rect x=\"291.59999999999997\" y=\"282.6\" width=\"7.800000000000011\" height=\"7.7999999999999545\"></rect><rect x=\"174.6\" y=\"285.6\" width=\"7.800000000000011\" height=\"7.7999999999999545\"></rect><rect x=\"204.60000000000002\" y=\"285.6\" width=\"7.799999999999983\" height=\"7.7999999999999545\"></rect><rect x=\"231.60000000000002\" y=\"285.6\" width=\"7.799999999999983\" height=\"7.7999999999999545\"></rect><rect x=\"357.6\" y=\"285.6\" width=\"7.7999999999999545\" height=\"7.7999999999999545\"></rect><rect x=\"405.59999999999997\" y=\"285.6\" width=\"7.800000000000068\" height=\"7.7999999999999545\"></rect><rect x=\"135.60000000000002\" y=\"288.59999999999997\" width=\"7.799999999999983\" height=\"7.800000000000011\"></rect><rect x=\"210.6\" y=\"288.59999999999997\" width=\"7.800000000000011\" height=\"7.800000000000011\"></rect><rect x=\"78.60000000000001\" y=\"291.59999999999997\" width=\"7.799999999999997\" height=\"7.800000000000011\"></rect><rect x=\"99.60000000000001\" y=\"291.59999999999997\" width=\"7.799999999999997\" height=\"7.800000000000011\"></rect><rect x=\"21.6\" y=\"294.59999999999997\" width=\"7.800000000000001\" height=\"7.800000000000011\"></rect><rect x=\"192.6\" y=\"294.59999999999997\" width=\"7.800000000000011\" height=\"7.800000000000011\"></rect><rect x=\"252.6\" y=\"294.59999999999997\" width=\"7.799999999999983\" height=\"7.800000000000011\"></rect><rect x=\"297.6\" y=\"294.59999999999997\" width=\"7.7999999999999545\" height=\"7.800000000000011\"></rect><rect x=\"324.59999999999997\" y=\"294.59999999999997\" width=\"7.800000000000011\" height=\"7.800000000000011\"></rect><rect x=\"216.6\" y=\"297.6\" width=\"7.799999999999983\" height=\"7.7999999999999545\"></rect><rect x=\"231.60000000000002\" y=\"297.6\" width=\"7.799999999999983\" height=\"7.7999999999999545\"></rect><rect x=\"261.6\" y=\"300.6\" width=\"7.7999999999999545\" height=\"7.800000000000011\"></rect><rect x=\"354.6\" y=\"300.6\" width=\"7.7999999999999545\" height=\"7.800000000000011\"></rect><rect x=\"36.6\" y=\"303.6\" width=\"7.799999999999997\" height=\"7.800000000000011\"></rect><rect x=\"378.6\" y=\"303.6\" width=\"7.800000000000011\" height=\"7.800000000000011\"></rect><rect x=\"60.6\" y=\"306.6\" width=\"7.800000000000004\" height=\"7.800000000000011\"></rect><rect x=\"105.60000000000001\" y=\"306.6\" width=\"7.799999999999983\" height=\"7.800000000000011\"></rect><rect x=\"342.6\" y=\"306.6\" width=\"7.800000000000011\" height=\"7.800000000000011\"></rect><rect x=\"246.6\" y=\"309.6\" width=\"7.800000000000011\" height=\"7.7999999999999545\"></rect><rect x=\"273.6\" y=\"312.6\" width=\"7.7999999999999545\" height=\"7.7999999999999545\"></rect><rect x=\"9.6\" y=\"318.6\" width=\"7.8000000000000025\" height=\"7.7999999999999545\"></rect><rect x=\"162.60000000000002\" y=\"318.6\" width=\"7.7999999999999545\" height=\"7.7999999999999545\"></rect><rect x=\"252.6\" y=\"318.6\" width=\"7.799999999999983\" height=\"7.7999999999999545\"></rect><rect x=\"387.59999999999997\" y=\"318.6\" width=\"7.800000000000068\" height=\"7.7999999999999545\"></rect><rect x=\"84.6\" y=\"321.6\" width=\"7.800000000000011\" height=\"7.7999999999999545\"></rect><rect x=\"141.6\" y=\"321.6\" width=\"7.799999999999983\" height=\"7.7999999999999545\"></rect><rect x=\"33.599999999999994\" y=\"324.59999999999997\" width=\"7.800000000000011\" height=\"7.800000000000011\"></rect><rect x=\"279.6\" y=\"324.59999999999997\" width=\"7.7999999999999545\" height=\"7.800000000000011\"></rect><rect x=\"387.59999999999997\" y=\"324.59999999999997\" width=\"7.800000000000068\" height=\"7.800000000000011\"></rect><rect x=\"405.59999999999997\" y=\"324.59999999999997\" width=\"7.800000000000068\" height=\"7.800000000000011\"></rect><rect x=\"102.60000000000001\" y=\"327.59999999999997\" width=\"7.799999999999983\" height=\"7.800000000000011\"></rect><rect x=\"126.6\" y=\"327.59999999999997\" width=\"7.799999999999983\" height=\"7.800000000000011\"></rect><rect x=\"132.60000000000002\" y=\"327.59999999999997\" width=\"7.799999999999983\" height=\"7.800000000000011\"></rect><rect x=\"291.59999999999997\" y=\"327.59999999999997\" width=\"7.800000000000011\" height=\"7.800000000000011\"></rect><rect x=\"72.6\" y=\"330.59999999999997\" width=\"7.800000000000011\" height=\"7.800000000000011\"></rect><rect x=\"168.60000000000002\" y=\"330.59999999999997\" width=\"7.799999999999983\" height=\"7.800000000000011\"></rect><rect x=\"264.6\" y=\"330.59999999999997\" width=\"7.7999999999999545\" height=\"7.800000000000011\"></rect><rect x=\"333.6\" y=\"330.59999999999997\" width=\"7.7999999999999545\" height=\"7.800000000000011\"></rect><rect x=\"369.6\" y=\"330.59999999999997\" width=\"7.7999999999999545\" height=\"7.800000000000011\"></rect><rect x=\"198.60000000000002\" y=\"333.6\" width=\"7.7999999999999545\" height=\"7.7999999999999545\"></rect><rect x=\"270.6\" y=\"333.6\" width=\"7.800000000000011\" height=\"7.7999999999999545\"></rect><rect x=\"393.59999999999997\" y=\"333.6\" width=\"7.800000000000068\" height=\"7.7999999999999545\"></rect><rect x=\"15.6\" y=\"336.6\" width=\"7.799999999999999\" height=\"7.800000000000011\"></rect><rect x=\"42.599999999999994\" y=\"336.6\" width=\"7.800000000000011\" height=\"7.800000000000011\"></rect><rect x=\"60.6\" y=\"336.6\" width=\"7.800000000000004\" height=\"7.800000000000011\"></rect><rect x=\"228.60000000000002\" y=\"336.6\" width=\"7.7999999999999545\" height=\"7.800000000000011\"></rect><rect x=\"288.59999999999997\" y=\"336.6\" width=\"7.800000000000011\" height=\"7.800000000000011\"></rect><rect x=\"354.6\" y=\"336.6\" width=\"7.7999999999999545\" height=\"7.800000000000011\"></rect><rect x=\"102.60000000000001\" y=\"339.6\" width=\"7.799999999999983\" height=\"7.800000000000011\"></rect><rect x=\"147.60000000000002\" y=\"339.6\" width=\"7.7999999999999545\" height=\"7.800000000000011\"></rect><rect x=\"306.6\" y=\"339.6\" width=\"7.800000000000011\" height=\"7.800000000000011\"></rect><rect x=\"213.6\" y=\"342.6\" width=\"7.799999999999983\" height=\"7.800000000000011\"></rect><rect x=\"339.6\" y=\"342.6\" width=\"7.800000000000011\" height=\"7.800000000000011\"></rect><rect x=\"267.6\" y=\"345.6\" width=\"7.800000000000011\" height=\"7.7999999999999545\"></rect><rect x=\"105.60000000000001\" y=\"348.6\" width=\"7.799999999999983\" height=\"7.7999999999999545\"></rect><rect x=\"144.60000000000002\" y=\"348.6\" width=\"7.7999999999999545\" height=\"7.7999999999999545\"></rect><rect x=\"372.6\" y=\"348.6\" width=\"7.800000000000011\" height=\"7.7999999999999545\"></rect><rect x=\"399.59999999999997\" y=\"348.6\" width=\"7.800000000000068\" height=\"7.7999999999999545\"></rect><rect x=\"12.600000000000001\" y=\"354.6\" width=\"7.799999999999997\" height=\"7.7999999999999545\"></rect><rect x=\"36.6\" y=\"354.6\" width=\"7.799999999999997\" height=\"7.7999999999999545\"></rect><rect x=\"156.6\" y=\"354.6\" width=\"7.800000000000011\" height=\"7.7999999999999545\"></rect><rect x=\"177.6\" y=\"354.6\" width=\"7.799999999999983\" height=\"7.7999999999999545\"></rect><rect x=\"258.59999999999997\" y=\"354.6\" width=\"7.800000000000011\" height=\"7.7999999999999545\"></rect><rect x=\"60.6\" y=\"357.6\" width=\"7.800000000000004\" height=\"7.7999999999999545\"></rect><rect x=\"198.60000000000002\" y=\"357.6\" width=\"7.7999999999999545\" height=\"7.7999999999999545\"></rect><rect x=\"315.6\" y=\"357.6\" width=\"7.7999999999999545\" height=\"7.7999999999999545\"></rect><rect x=\"360.59999999999997\" y=\"357.6\" width=\"7.800000000000011\" height=\"7.7999999999999545\"></rect><rect x=\"93.6\" y=\"360.59999999999997\" width=\"7.799999999999997\" height=\"7.800000000000011\"></rect><rect x=\"192.6\" y=\"360.59999999999997\" width=\"7.800000000000011\" height=\"7.800000000000011\"></rect><rect x=\"246.6\" y=\"360.59999999999997\" width=\"7.800000000000011\" height=\"7.800000000000011\"></rect><rect x=\"282.6\" y=\"360.59999999999997\" width=\"7.7999999999999545\" height=\"7.800000000000011\"></rect><rect x=\"378.6\" y=\"360.59999999999997\" width=\"7.800000000000011\" height=\"7.800000000000011\"></rect><rect x=\"27.599999999999998\" y=\"363.59999999999997\" width=\"7.800000000000001\" height=\"7.800000000000011\"></rect><rect x=\"15.6\" y=\"366.6\" width=\"7.799999999999999\" height=\"7.7999999999999545\"></rect><rect x=\"399.59999999999997\" y=\"366.6\" width=\"7.800000000000068\" height=\"7.7999999999999545\"></rect><rect x=\"120.60000000000001\" y=\"369.6\" width=\"7.799999999999997\" height=\"7.7999999999999545\"></rect><rect x=\"204.60000000000002\" y=\"369.6\" width=\"7.799999999999983\" height=\"7.7999999999999545\"></rect><rect x=\"246.6\" y=\"369.6\" width=\"7.800000000000011\" height=\"7.7999999999999545\"></rect><rect x=\"270.6\" y=\"369.6\" width=\"7.800000000000011\" height=\"7.7999999999999545\"></rect><rect x=\"339.6\" y=\"369.6\" width=\"7.800000000000011\" height=\"7.7999999999999545\"></rect><rect x=\"198.60000000000002\" y=\"372.6\" width=\"7.7999999999999545\" height=\"7.800000000000011\"></rect><rect x=\"222.6\" y=\"372.6\" width=\"7.799999999999983\" height=\"7.800000000000011\"></rect><rect x=\"42.599999999999994\" y=\"375.6\" width=\"7.800000000000011\" height=\"7.800000000000011\"></rect><rect x=\"57.599999999999994\" y=\"375.6\" width=\"7.800000000000011\" height=\"7.800000000000011\"></rect><rect x=\"150.60000000000002\" y=\"375.6\" width=\"7.799999999999983\" height=\"7.800000000000011\"></rect><rect x=\"87.60000000000001\" y=\"378.6\" width=\"7.799999999999997\" height=\"7.800000000000011\"></rect><rect x=\"126.6\" y=\"378.6\" width=\"7.799999999999983\" height=\"7.800000000000011\"></rect><rect x=\"255.6\" y=\"378.6\" width=\"7.799999999999983\" height=\"7.800000000000011\"></rect><rect x=\"288.59999999999997\" y=\"378.6\" width=\"7.800000000000011\" height=\"7.800000000000011\"></rect><rect x=\"69.60000000000001\" y=\"381.6\" width=\"7.799999999999997\" height=\"7.800000000000011\"></rect><rect x=\"108.6\" y=\"381.6\" width=\"7.799999999999997\" height=\"7.800000000000011\"></rect><rect x=\"177.6\" y=\"384.59999999999997\" width=\"7.799999999999983\" height=\"7.800000000000068\"></rect><rect x=\"369.6\" y=\"384.59999999999997\" width=\"7.7999999999999545\" height=\"7.800000000000068\"></rect><rect x=\"399.59999999999997\" y=\"384.59999999999997\" width=\"7.800000000000068\" height=\"7.800000000000068\"></rect><rect x=\"153.6\" y=\"387.59999999999997\" width=\"7.800000000000011\" height=\"7.800000000000068\"></rect><rect x=\"252.6\" y=\"387.59999999999997\" width=\"7.799999999999983\" height=\"7.800000000000068\"></rect><rect x=\"276.6\" y=\"387.59999999999997\" width=\"7.7999999999999545\" height=\"7.800000000000068\"></rect><rect x=\"387.59999999999997\" y=\"387.59999999999997\" width=\"7.800000000000068\" height=\"7.800000000000068\"></rect><rect x=\"102.60000000000001\" y=\"390.59999999999997\" width=\"7.799999999999983\" height=\"7.800000000000068\"></rect><rect x=\"270.6\" y=\"390.59999999999997\" width=\"7.800000000000011\" height=\"7.800000000000068\"></rect><rect x=\"315.6\" y=\"390.59999999999997\" width=\"7.7999999999999545\" height=\"7.800000000000068\"></rect><rect x=\"231.60000000000002\" y=\"393.59999999999997\" width=\"7.799999999999983\" height=\"7.800000000000068\"></rect><rect x=\"339.6\" y=\"393.59999999999997\" width=\"7.800000000000011\" height=\"7.800000000000068\"></rect><rect x=\"54.6\" y=\"396.59999999999997\" width=\"7.799999999999997\" height=\"7.800000000000068\"></rect><rect x=\"69.60000000000001\" y=\"396.59999999999997\" width=\"7.799999999999997\" height=\"7.800000000000068\"></rect><rect x=\"84.6\" y=\"396.59999999999997\" width=\"7.800000000000011\" height=\"7.800000000000068\"></rect><rect x=\"258.59999999999997\" y=\"396.59999999999997\" width=\"7.800000000000011\" height=\"7.800000000000068\"></rect><rect x=\"42.599999999999994\" y=\"399.59999999999997\" width=\"7.800000000000011\" height=\"7.800000000000068\"></rect><rect x=\"135.60000000000002\" y=\"399.59999999999997\" width=\"7.799999999999983\" height=\"7.800000000000068\"></rect><rect x=\"156.6\" y=\"399.59999999999997\" width=\"7.800000000000011\" height=\"7.800000000000068\"></rect><rect x=\"294.59999999999997\" y=\"399.59999999999997\" width=\"7.800000000000011\" height=\"7.800000000000068\"></rect><rect x=\"162.60000000000002\" y=\"402.59999999999997\" width=\"7.7999999999999545\" height=\"7.800000000000068\"></rect><rect x=\"270.6\" y=\"402.59999999999997\" width=\"7.800000000000011\" height=\"7.800000000000068\"></rect><rect x=\"66.6\" y=\"405.59999999999997\" width=\"7.800000000000011\" height=\"7.800000000000068\"></rect><rect x=\"408.59999999999997\" y=\"405.59999999999997\" width=\"7.800000000000068\" height=\"7.800000000000068\"></rect><rect x=\"189.6\" y=\"408.59999999999997\" width=\"7.800000000000011\" height=\"7.800000000000068\"></rect><rect x=\"222.6\" y=\"408.59999999999997\" width=\"7.799999999999983\" height=\"7.800000000000068\"></rect><rect x=\"156.6\" y=\"411.59999999999997\" width=\"7.800000000000011\" height=\"7.800000000000068\"></rect><rect x=\"267.6\" y=\"411.59999999999997\" width=\"7.800000000000011\" height=\"7.800000000000068\"></rect><rect x=\"309.6\" y=\"411.59999999999997\" width=\"7.7999999999999545\" height=\"7.800000000000068\"></rect><rect x=\"87.60000000000001\" y=\"414.59999999999997\" width=\"7.799999999999997\" height=\"7.800000000000068\"></rect><rect x=\"243.6\" y=\"414.59999999999997\" width=\"7.800000000000011\" height=\"7.800000000000068\"></rect><rect x=\"387.59999999999997\" y=\"414.59999999999997\" width=\"7.800000000000068\" height=\"7.800000000000068\"></rect></g></svg></figure>"
      ],
      "text/plain": [
       "<IPython.core.display.HTML object>"
      ]
     },
     "metadata": {},
     "output_type": "display_data"
    }
   ],
   "source": [
    "actual_input_plotter.copy().stack(\n",
    "    neighborhood_mark_layer(gears(parsed_actual_input))\n",
    ").plot()"
   ]
  }
 ],
 "metadata": {
  "kernelspec": {
   "display_name": "advent-of-code-CEbbwEIT-py3.13",
   "language": "python",
   "name": "python3"
  },
  "language_info": {
   "codemirror_mode": {
    "name": "ipython",
    "version": 3
   },
   "file_extension": ".py",
   "mimetype": "text/x-python",
   "name": "python",
   "nbconvert_exporter": "python",
   "pygments_lexer": "ipython3",
   "version": "3.13.0"
  }
 },
 "nbformat": 4,
 "nbformat_minor": 2
}
