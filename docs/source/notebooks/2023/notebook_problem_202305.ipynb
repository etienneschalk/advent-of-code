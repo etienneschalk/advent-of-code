{
    "cells": [
        {
            "cell_type": "markdown",
            "metadata": {},
            "source": [
                "# Year 2023 Day 05\n"
            ]
        },
        {
            "cell_type": "code",
            "execution_count": 212,
            "metadata": {
                "metadata": {}
            },
            "outputs": [],
            "source": [
                "import json\n",
                "\n",
                "import pandas as pd\n",
                "import plotly.graph_objects as go\n",
                "import plotly.io as pio\n",
                "from IPython.display import Markdown as md\n",
                "from pyobsplot import Obsplot, Plot\n",
                "\n",
                "from advent_of_code.common.common import get_example_inputs_file_contents\n",
                "from advent_of_code.visualization.plotly import (\n",
                "    ValuedLink,\n",
                "    build_sankey_figure,\n",
                "    to_plotly_sankey_input,\n",
                ")\n",
                "from advent_of_code.y_2023.problem_202305 import AdventOfCodeProblem202305, Almanac"
            ]
        },
        {
            "cell_type": "code",
            "execution_count": 213,
            "metadata": {},
            "outputs": [],
            "source": [
                "op = Obsplot(renderer=\"jsdom\", theme=\"dark\")  # Literal['current','light','dark']"
            ]
        },
        {
            "cell_type": "code",
            "execution_count": 214,
            "metadata": {},
            "outputs": [
                {
                    "data": {
                        "text/plain": [
                            "AdventOfCodeProblem202305(year=2023, day=5)"
                        ]
                    },
                    "execution_count": 214,
                    "metadata": {},
                    "output_type": "execute_result"
                }
            ],
            "source": [
                "problem = AdventOfCodeProblem202305()\n",
                "problem"
            ]
        },
        {
            "cell_type": "code",
            "execution_count": 215,
            "metadata": {},
            "outputs": [],
            "source": [
                "# test_input = example_inputs_2023.retrieve(__file__)\n",
                "# almanac = parse_almanac(test_input)\n",
                "\n",
                "example_input = get_example_inputs_file_contents(2023)[\"test_problem_202305\"][\n",
                "    \"EXAMPLE_INPUT\"\n",
                "]"
            ]
        },
        {
            "cell_type": "markdown",
            "metadata": {},
            "source": [
                "## With Example Input\n"
            ]
        },
        {
            "cell_type": "code",
            "execution_count": 216,
            "metadata": {},
            "outputs": [],
            "source": [
                "almanac = problem.parse_text_input(example_input)"
            ]
        },
        {
            "cell_type": "code",
            "execution_count": 217,
            "metadata": {},
            "outputs": [
                {
                    "data": {
                        "text/plain": [
                            "Almanac(seeds=[79, 14, 55, 13], maps=[AlmanacMap(source_category='seed', destination_category='soil', ranges=[AlmanacRange(destination_range_start=50, source_range_start=98, range_length=2), AlmanacRange(destination_range_start=52, source_range_start=50, range_length=48)]), AlmanacMap(source_category='soil', destination_category='fertilizer', ranges=[AlmanacRange(destination_range_start=0, source_range_start=15, range_length=37), AlmanacRange(destination_range_start=37, source_range_start=52, range_length=2), AlmanacRange(destination_range_start=39, source_range_start=0, range_length=15)]), AlmanacMap(source_category='fertilizer', destination_category='water', ranges=[AlmanacRange(destination_range_start=49, source_range_start=53, range_length=8), AlmanacRange(destination_range_start=0, source_range_start=11, range_length=42), AlmanacRange(destination_range_start=42, source_range_start=0, range_length=7), AlmanacRange(destination_range_start=57, source_range_start=7, range_length=4)]), AlmanacMap(source_category='water', destination_category='light', ranges=[AlmanacRange(destination_range_start=88, source_range_start=18, range_length=7), AlmanacRange(destination_range_start=18, source_range_start=25, range_length=70)]), AlmanacMap(source_category='light', destination_category='temperature', ranges=[AlmanacRange(destination_range_start=45, source_range_start=77, range_length=23), AlmanacRange(destination_range_start=81, source_range_start=45, range_length=19), AlmanacRange(destination_range_start=68, source_range_start=64, range_length=13)]), AlmanacMap(source_category='temperature', destination_category='humidity', ranges=[AlmanacRange(destination_range_start=0, source_range_start=69, range_length=1), AlmanacRange(destination_range_start=1, source_range_start=0, range_length=69)]), AlmanacMap(source_category='humidity', destination_category='location', ranges=[AlmanacRange(destination_range_start=60, source_range_start=56, range_length=37), AlmanacRange(destination_range_start=56, source_range_start=93, range_length=4)])])"
                        ]
                    },
                    "execution_count": 217,
                    "metadata": {},
                    "output_type": "execute_result"
                }
            ],
            "source": [
                "almanac"
            ]
        },
        {
            "cell_type": "code",
            "execution_count": 218,
            "metadata": {},
            "outputs": [
                {
                    "data": {
                        "text/plain": [
                            "[AlmanacMap(source_category='seed', destination_category='soil', ranges=[AlmanacRange(destination_range_start=50, source_range_start=98, range_length=2), AlmanacRange(destination_range_start=52, source_range_start=50, range_length=48)]),\n",
                            " AlmanacMap(source_category='soil', destination_category='fertilizer', ranges=[AlmanacRange(destination_range_start=0, source_range_start=15, range_length=37), AlmanacRange(destination_range_start=37, source_range_start=52, range_length=2), AlmanacRange(destination_range_start=39, source_range_start=0, range_length=15)]),\n",
                            " AlmanacMap(source_category='fertilizer', destination_category='water', ranges=[AlmanacRange(destination_range_start=49, source_range_start=53, range_length=8), AlmanacRange(destination_range_start=0, source_range_start=11, range_length=42), AlmanacRange(destination_range_start=42, source_range_start=0, range_length=7), AlmanacRange(destination_range_start=57, source_range_start=7, range_length=4)]),\n",
                            " AlmanacMap(source_category='water', destination_category='light', ranges=[AlmanacRange(destination_range_start=88, source_range_start=18, range_length=7), AlmanacRange(destination_range_start=18, source_range_start=25, range_length=70)]),\n",
                            " AlmanacMap(source_category='light', destination_category='temperature', ranges=[AlmanacRange(destination_range_start=45, source_range_start=77, range_length=23), AlmanacRange(destination_range_start=81, source_range_start=45, range_length=19), AlmanacRange(destination_range_start=68, source_range_start=64, range_length=13)]),\n",
                            " AlmanacMap(source_category='temperature', destination_category='humidity', ranges=[AlmanacRange(destination_range_start=0, source_range_start=69, range_length=1), AlmanacRange(destination_range_start=1, source_range_start=0, range_length=69)]),\n",
                            " AlmanacMap(source_category='humidity', destination_category='location', ranges=[AlmanacRange(destination_range_start=60, source_range_start=56, range_length=37), AlmanacRange(destination_range_start=56, source_range_start=93, range_length=4)])]"
                        ]
                    },
                    "execution_count": 218,
                    "metadata": {},
                    "output_type": "execute_result"
                }
            ],
            "source": [
                "almanac.maps"
            ]
        },
        {
            "cell_type": "code",
            "execution_count": 219,
            "metadata": {},
            "outputs": [
                {
                    "data": {
                        "text/plain": [
                            "['seed',\n",
                            " 'soil',\n",
                            " 'fertilizer',\n",
                            " 'water',\n",
                            " 'light',\n",
                            " 'temperature',\n",
                            " 'humidity',\n",
                            " 'location']"
                        ]
                    },
                    "execution_count": 219,
                    "metadata": {},
                    "output_type": "execute_result"
                }
            ],
            "source": [
                "categories = [am.source_category for am in almanac.maps] + [\n",
                "    almanac.maps[-1].destination_category\n",
                "]\n",
                "categories"
            ]
        },
        {
            "cell_type": "code",
            "execution_count": 220,
            "metadata": {},
            "outputs": [
                {
                    "data": {
                        "text/html": [
                            "<div>\n",
                            "<style scoped>\n",
                            "    .dataframe tbody tr th:only-of-type {\n",
                            "        vertical-align: middle;\n",
                            "    }\n",
                            "\n",
                            "    .dataframe tbody tr th {\n",
                            "        vertical-align: top;\n",
                            "    }\n",
                            "\n",
                            "    .dataframe thead th {\n",
                            "        text-align: right;\n",
                            "    }\n",
                            "</style>\n",
                            "<table border=\"1\" class=\"dataframe\">\n",
                            "  <thead>\n",
                            "    <tr style=\"text-align: right;\">\n",
                            "      <th></th>\n",
                            "      <th>x1</th>\n",
                            "      <th>y1</th>\n",
                            "      <th>x2</th>\n",
                            "      <th>y2</th>\n",
                            "    </tr>\n",
                            "  </thead>\n",
                            "  <tbody>\n",
                            "    <tr>\n",
                            "      <th>0</th>\n",
                            "      <td>98</td>\n",
                            "      <td>seed</td>\n",
                            "      <td>50</td>\n",
                            "      <td>soil</td>\n",
                            "    </tr>\n",
                            "    <tr>\n",
                            "      <th>1</th>\n",
                            "      <td>100</td>\n",
                            "      <td>seed</td>\n",
                            "      <td>52</td>\n",
                            "      <td>soil</td>\n",
                            "    </tr>\n",
                            "    <tr>\n",
                            "      <th>2</th>\n",
                            "      <td>50</td>\n",
                            "      <td>seed</td>\n",
                            "      <td>52</td>\n",
                            "      <td>soil</td>\n",
                            "    </tr>\n",
                            "    <tr>\n",
                            "      <th>3</th>\n",
                            "      <td>98</td>\n",
                            "      <td>seed</td>\n",
                            "      <td>100</td>\n",
                            "      <td>soil</td>\n",
                            "    </tr>\n",
                            "  </tbody>\n",
                            "</table>\n",
                            "</div>"
                        ],
                        "text/plain": [
                            "    x1    y1   x2    y2\n",
                            "0   98  seed   50  soil\n",
                            "1  100  seed   52  soil\n",
                            "2   50  seed   52  soil\n",
                            "3   98  seed  100  soil"
                        ]
                    },
                    "execution_count": 220,
                    "metadata": {},
                    "output_type": "execute_result"
                }
            ],
            "source": [
                "def create_lines_df(almanac: Almanac) -> pd.DataFrame:\n",
                "    lines = []\n",
                "\n",
                "    for idx, am in enumerate(almanac.maps):\n",
                "        for r in am.ranges:\n",
                "            x1_start = r.source_range_start\n",
                "            x2_start = r.destination_range_start\n",
                "            x1_end = x1_start + r.range_length\n",
                "            x2_end = x2_start + r.range_length\n",
                "            y1 = idx\n",
                "            y2 = idx + 1\n",
                "\n",
                "            use_category_names = True\n",
                "            if use_category_names:\n",
                "                y1 = categories[y1]\n",
                "                y2 = categories[y2]\n",
                "            for x1, x2 in ((x1_start, x2_start), (x1_end, x2_end)):\n",
                "                lines.append((x1, y1, x2, y2))\n",
                "\n",
                "    lines_df = pd.DataFrame(lines, columns=[\"x1\", \"y1\", \"x2\", \"y2\"])\n",
                "    return lines_df\n",
                "\n",
                "\n",
                "lines_df = create_lines_df(almanac)\n",
                "lines_df[:4]"
            ]
        },
        {
            "cell_type": "code",
            "execution_count": 221,
            "metadata": {},
            "outputs": [
                {
                    "data": {
                        "image/svg+xml": [
                            "<svg xmlns=\"http://www.w3.org/2000/svg\" xmlns:xlink=\"http://www.w3.org/1999/xlink\" class=\"plot-d6a7b5\" fill=\"currentColor\" font-family=\"system-ui, sans-serif\" font-size=\"10\" text-anchor=\"middle\" width=\"640\" height=\"500\" viewBox=\"0 0 640 500\" style=\"color: white; background-color: black;\"><style>:where(.plot-d6a7b5) {\n",
                            "  --plot-background: white;\n",
                            "  display: block;\n",
                            "  height: auto;\n",
                            "  height: intrinsic;\n",
                            "  max-width: 100%;\n",
                            "}\n",
                            ":where(.plot-d6a7b5 text),\n",
                            ":where(.plot-d6a7b5 tspan) {\n",
                            "  white-space: pre;\n",
                            "}</style><g aria-label=\"y-axis tick\" aria-hidden=\"true\" fill=\"none\" stroke=\"currentColor\" transform=\"translate(0,28)\"><path transform=\"translate(100,21)\" d=\"M0,0L-6,0\"/><path transform=\"translate(100,77)\" d=\"M0,0L-6,0\"/><path transform=\"translate(100,133)\" d=\"M0,0L-6,0\"/><path transform=\"translate(100,189)\" d=\"M0,0L-6,0\"/><path transform=\"translate(100,245)\" d=\"M0,0L-6,0\"/><path transform=\"translate(100,301)\" d=\"M0,0L-6,0\"/><path transform=\"translate(100,357)\" d=\"M0,0L-6,0\"/><path transform=\"translate(100,413)\" d=\"M0,0L-6,0\"/></g><g aria-label=\"y-axis tick label\" text-anchor=\"end\" transform=\"translate(-9,28)\"><text y=\"0.32em\" transform=\"translate(100,21)\">seed</text><text y=\"0.32em\" transform=\"translate(100,77)\">soil</text><text y=\"0.32em\" transform=\"translate(100,133)\">fertilizer</text><text y=\"0.32em\" transform=\"translate(100,189)\">water</text><text y=\"0.32em\" transform=\"translate(100,245)\">light</text><text y=\"0.32em\" transform=\"translate(100,301)\">temperature</text><text y=\"0.32em\" transform=\"translate(100,357)\">humidity</text><text y=\"0.32em\" transform=\"translate(100,413)\">location</text></g><g aria-label=\"y-axis label\" transform=\"translate(-97,0)\"><text y=\"0.71em\" transform=\"translate(100,245) rotate(-90)\">Category</text></g><g aria-label=\"x-axis tick\" aria-hidden=\"true\" fill=\"none\" stroke=\"currentColor\"><path transform=\"translate(100,470)\" d=\"M0,0L0,6\"/><path transform=\"translate(204,470)\" d=\"M0,0L0,6\"/><path transform=\"translate(308,470)\" d=\"M0,0L0,6\"/><path transform=\"translate(412,470)\" d=\"M0,0L0,6\"/><path transform=\"translate(516,470)\" d=\"M0,0L0,6\"/><path transform=\"translate(620,470)\" d=\"M0,0L0,6\"/></g><g aria-label=\"x-axis tick label\" font-variant=\"tabular-nums\" transform=\"translate(0,9)\"><text y=\"0.71em\" transform=\"translate(100,470)\">0</text><text y=\"0.71em\" transform=\"translate(204,470)\">20</text><text y=\"0.71em\" transform=\"translate(308,470)\">40</text><text y=\"0.71em\" transform=\"translate(412,470)\">60</text><text y=\"0.71em\" transform=\"translate(516,470)\">80</text><text y=\"0.71em\" transform=\"translate(620,470)\">100</text></g><g aria-label=\"x-axis label\" text-anchor=\"end\" transform=\"translate(17,27)\"><text transform=\"translate(620,470)\">Identifier number →</text></g><g aria-label=\"link\" fill=\"none\" stroke=\"currentColor\" stroke-opacity=\"0.3\" stroke-miterlimit=\"1\" transform=\"translate(0,28)\"><marker viewBox=\"-5 -5 10 10\" markerWidth=\"6.67\" markerHeight=\"6.67\" orient=\"auto\" fill=\"none\" stroke=\"currentColor\" stroke-width=\"1.5\" stroke-linecap=\"round\" stroke-linejoin=\"round\" id=\"plot-marker-1\"><path d=\"M-1.5,-3l3,3l-3,3\"/></marker><path d=\"M609.6,21L360,77\" marker-end=\"url(#plot-marker-1)\"/><path d=\"M620,21L370.4,77\" marker-end=\"url(#plot-marker-1)\"/><path d=\"M360,21L370.4,77\" marker-end=\"url(#plot-marker-1)\"/><path d=\"M609.6,21L620,77\" marker-end=\"url(#plot-marker-1)\"/><path d=\"M178,77L100,133\" marker-end=\"url(#plot-marker-1)\"/><path d=\"M370.4,77L292.4,133\" marker-end=\"url(#plot-marker-1)\"/><path d=\"M370.4,77L292.4,133\" marker-end=\"url(#plot-marker-1)\"/><path d=\"M380.8,77L302.8,133\" marker-end=\"url(#plot-marker-1)\"/><path d=\"M100,77L302.8,133\" marker-end=\"url(#plot-marker-1)\"/><path d=\"M178,77L380.8,133\" marker-end=\"url(#plot-marker-1)\"/><path d=\"M375.6,133L354.8,189\" marker-end=\"url(#plot-marker-1)\"/><path d=\"M417.2,133L396.4,189\" marker-end=\"url(#plot-marker-1)\"/><path d=\"M157.2,133L100,189\" marker-end=\"url(#plot-marker-1)\"/><path d=\"M375.6,133L318.4,189\" marker-end=\"url(#plot-marker-1)\"/><path d=\"M100,133L318.4,189\" marker-end=\"url(#plot-marker-1)\"/><path d=\"M136.4,133L354.8,189\" marker-end=\"url(#plot-marker-1)\"/><path d=\"M136.4,133L396.4,189\" marker-end=\"url(#plot-marker-1)\"/><path d=\"M157.2,133L417.2,189\" marker-end=\"url(#plot-marker-1)\"/><path d=\"M193.6,189L557.6,245\" marker-end=\"url(#plot-marker-1)\"/><path d=\"M230,189L594,245\" marker-end=\"url(#plot-marker-1)\"/><path d=\"M230,189L193.6,245\" marker-end=\"url(#plot-marker-1)\"/><path d=\"M594,189L557.6,245\" marker-end=\"url(#plot-marker-1)\"/><path d=\"M500.4,245L334,301\" marker-end=\"url(#plot-marker-1)\"/><path d=\"M620,245L453.6,301\" marker-end=\"url(#plot-marker-1)\"/><path d=\"M334,245L521.2,301\" marker-end=\"url(#plot-marker-1)\"/><path d=\"M432.8,245L620,301\" marker-end=\"url(#plot-marker-1)\"/><path d=\"M432.8,245L453.6,301\" marker-end=\"url(#plot-marker-1)\"/><path d=\"M500.4,245L521.2,301\" marker-end=\"url(#plot-marker-1)\"/><path d=\"M458.8,301L100,357\" marker-end=\"url(#plot-marker-1)\"/><path d=\"M464,301L105.2,357\" marker-end=\"url(#plot-marker-1)\"/><path d=\"M100,301L105.2,357\" marker-end=\"url(#plot-marker-1)\"/><path d=\"M458.8,301L464,357\" marker-end=\"url(#plot-marker-1)\"/><path d=\"M391.2,357L412,413\" marker-end=\"url(#plot-marker-1)\"/><path d=\"M583.6,357L604.4,413\" marker-end=\"url(#plot-marker-1)\"/><path d=\"M583.6,357L391.2,413\" marker-end=\"url(#plot-marker-1)\"/><path d=\"M604.4,357L412,413\" marker-end=\"url(#plot-marker-1)\"/></g></svg>"
                        ],
                        "text/plain": [
                            "<IPython.core.display.SVG object>"
                        ]
                    },
                    "metadata": {},
                    "output_type": "display_data"
                }
            ],
            "source": [
                "def show_links(lines_df: pd.DataFrame):\n",
                "    # lines_df : DataFrame with columns x1\ty1\tx2\ty2\n",
                "    return op( # type: ignore\n",
                "        dict(\n",
                "            height=500,\n",
                "            marginLeft=100,  # make room for the y-axis\n",
                "            x=dict(label=\"Identifier number\", tickFormat=\".0s\"),\n",
                "            y=dict(\n",
                "                label=\"Category\",\n",
                "                domain=categories,\n",
                "                type=\"band\",\n",
                "                padding=0,\n",
                "            ),\n",
                "            marks=[\n",
                "                Plot.link(\n",
                "                    lines_df,\n",
                "                    dict(\n",
                "                        x1=lines_df[\"x1\"].to_list(),\n",
                "                        y1=lines_df[\"y1\"].to_list(),\n",
                "                        x2=lines_df[\"x2\"].to_list(),\n",
                "                        y2=lines_df[\"y2\"].to_list(),\n",
                "                        markerEnd=\"arrow\",\n",
                "                        stroke=\"currentColor\",\n",
                "                        strokeOpacity=0.3,\n",
                "                    ),\n",
                "                ),\n",
                "            ],\n",
                "        )\n",
                "    )\n",
                "\n",
                "\n",
                "show_links(lines_df)"
            ]
        },
        {
            "cell_type": "markdown",
            "metadata": {},
            "source": [
                "TODO Use the Link mark https://observablehq.com/plot/marks/link\n",
                "\n",
                "y = [seed, soil..., humidity] = [0, 1, ...] with [`reverse=True`](https://observablehq.com/plot/features/scales) option\n",
                "x = constant for all filter = input range\n",
                "\n",
                "See the reference: https://www.reddit.com/r/adventofcode/comments/18b82w0/2023_day_5_part_2_visualizing_all_the_mapping/\n"
            ]
        },
        {
            "cell_type": "markdown",
            "metadata": {},
            "source": [
                "## With Actual Input\n"
            ]
        },
        {
            "cell_type": "code",
            "execution_count": 222,
            "metadata": {},
            "outputs": [
                {
                    "data": {
                        "image/svg+xml": [
                            "<svg xmlns=\"http://www.w3.org/2000/svg\" xmlns:xlink=\"http://www.w3.org/1999/xlink\" class=\"plot-d6a7b5\" fill=\"currentColor\" font-family=\"system-ui, sans-serif\" font-size=\"10\" text-anchor=\"middle\" width=\"640\" height=\"500\" viewBox=\"0 0 640 500\" style=\"color: white; background-color: black;\"><style>:where(.plot-d6a7b5) {\n",
                            "  --plot-background: white;\n",
                            "  display: block;\n",
                            "  height: auto;\n",
                            "  height: intrinsic;\n",
                            "  max-width: 100%;\n",
                            "}\n",
                            ":where(.plot-d6a7b5 text),\n",
                            ":where(.plot-d6a7b5 tspan) {\n",
                            "  white-space: pre;\n",
                            "}</style><g aria-label=\"y-axis tick\" aria-hidden=\"true\" fill=\"none\" stroke=\"currentColor\" transform=\"translate(0,28)\"><path transform=\"translate(100,21)\" d=\"M0,0L-6,0\"/><path transform=\"translate(100,77)\" d=\"M0,0L-6,0\"/><path transform=\"translate(100,133)\" d=\"M0,0L-6,0\"/><path transform=\"translate(100,189)\" d=\"M0,0L-6,0\"/><path transform=\"translate(100,245)\" d=\"M0,0L-6,0\"/><path transform=\"translate(100,301)\" d=\"M0,0L-6,0\"/><path transform=\"translate(100,357)\" d=\"M0,0L-6,0\"/><path transform=\"translate(100,413)\" d=\"M0,0L-6,0\"/></g><g aria-label=\"y-axis tick label\" text-anchor=\"end\" transform=\"translate(-9,28)\"><text y=\"0.32em\" transform=\"translate(100,21)\">seed</text><text y=\"0.32em\" transform=\"translate(100,77)\">soil</text><text y=\"0.32em\" transform=\"translate(100,133)\">fertilizer</text><text y=\"0.32em\" transform=\"translate(100,189)\">water</text><text y=\"0.32em\" transform=\"translate(100,245)\">light</text><text y=\"0.32em\" transform=\"translate(100,301)\">temperature</text><text y=\"0.32em\" transform=\"translate(100,357)\">humidity</text><text y=\"0.32em\" transform=\"translate(100,413)\">location</text></g><g aria-label=\"y-axis label\" transform=\"translate(-97,0)\"><text y=\"0.71em\" transform=\"translate(100,245) rotate(-90)\">Category</text></g><g aria-label=\"x-axis tick\" aria-hidden=\"true\" fill=\"none\" stroke=\"currentColor\"><path transform=\"translate(100,470)\" d=\"M0,0L0,6\"/><path transform=\"translate(160.5359673500061,470)\" d=\"M0,0L0,6\"/><path transform=\"translate(221.0719347000122,470)\" d=\"M0,0L0,6\"/><path transform=\"translate(281.6079020500183,470)\" d=\"M0,0L0,6\"/><path transform=\"translate(342.1438694000244,470)\" d=\"M0,0L0,6\"/><path transform=\"translate(402.6798367500305,470)\" d=\"M0,0L0,6\"/><path transform=\"translate(463.2158041000366,470)\" d=\"M0,0L0,6\"/><path transform=\"translate(523.7517714500427,470)\" d=\"M0,0L0,6\"/><path transform=\"translate(584.2877388000488,470)\" d=\"M0,0L0,6\"/></g><g aria-label=\"x-axis tick label\" font-variant=\"tabular-nums\" transform=\"translate(0,9)\"><text y=\"0.71em\" transform=\"translate(100,470)\">0G</text><text y=\"0.71em\" transform=\"translate(160.5359673500061,470)\">1G</text><text y=\"0.71em\" transform=\"translate(221.0719347000122,470)\">1G</text><text y=\"0.71em\" transform=\"translate(281.6079020500183,470)\">2G</text><text y=\"0.71em\" transform=\"translate(342.1438694000244,470)\">2G</text><text y=\"0.71em\" transform=\"translate(402.6798367500305,470)\">3G</text><text y=\"0.71em\" transform=\"translate(463.2158041000366,470)\">3G</text><text y=\"0.71em\" transform=\"translate(523.7517714500427,470)\">4G</text><text y=\"0.71em\" transform=\"translate(584.2877388000488,470)\">4G</text></g><g aria-label=\"x-axis label\" text-anchor=\"end\" transform=\"translate(17,27)\"><text transform=\"translate(620,470)\">Identifier number →</text></g><g aria-label=\"link\" fill=\"none\" stroke=\"currentColor\" stroke-opacity=\"0.3\" stroke-miterlimit=\"1\" transform=\"translate(0,28)\"><marker viewBox=\"-5 -5 10 10\" markerWidth=\"6.67\" markerHeight=\"6.67\" orient=\"auto\" fill=\"none\" stroke=\"currentColor\" stroke-width=\"1.5\" stroke-linecap=\"round\" stroke-linejoin=\"round\" id=\"plot-marker-2\"><path d=\"M-1.5,-3l3,3l-3,3\"/></marker><path d=\"M235.827,21L224.022,77\" marker-end=\"url(#plot-marker-2)\"/><path d=\"M328.395,21L316.59,77\" marker-end=\"url(#plot-marker-2)\"/><path d=\"M100,21L316.59,77\" marker-end=\"url(#plot-marker-2)\"/><path d=\"M103.723,21L320.313,77\" marker-end=\"url(#plot-marker-2)\"/><path d=\"M169.745,21L186.005,77\" marker-end=\"url(#plot-marker-2)\"/><path d=\"M207.762,21L224.022,77\" marker-end=\"url(#plot-marker-2)\"/><path d=\"M161.663,21L320.313,77\" marker-end=\"url(#plot-marker-2)\"/><path d=\"M169.745,21L328.395,77\" marker-end=\"url(#plot-marker-2)\"/><path d=\"M207.762,21L157.94,77\" marker-end=\"url(#plot-marker-2)\"/><path d=\"M235.827,21L186.005,77\" marker-end=\"url(#plot-marker-2)\"/><path d=\"M103.723,21L100,77\" marker-end=\"url(#plot-marker-2)\"/><path d=\"M161.663,21L157.94,77\" marker-end=\"url(#plot-marker-2)\"/><path d=\"M555.55,77L584.068,133\" marker-end=\"url(#plot-marker-2)\"/><path d=\"M568.11,77L596.628,133\" marker-end=\"url(#plot-marker-2)\"/><path d=\"M350.491,77L459.403,133\" marker-end=\"url(#plot-marker-2)\"/><path d=\"M366.584,77L475.496,133\" marker-end=\"url(#plot-marker-2)\"/><path d=\"M478.743,77L295.611,133\" marker-end=\"url(#plot-marker-2)\"/><path d=\"M494.497,77L311.365,133\" marker-end=\"url(#plot-marker-2)\"/><path d=\"M366.584,77L188.387,133\" marker-end=\"url(#plot-marker-2)\"/><path d=\"M376.885,77L198.688,133\" marker-end=\"url(#plot-marker-2)\"/><path d=\"M112.263,77L103.693,133\" marker-end=\"url(#plot-marker-2)\"/><path d=\"M115.016,77L106.447,133\" marker-end=\"url(#plot-marker-2)\"/><path d=\"M475.145,77L337.688,133\" marker-end=\"url(#plot-marker-2)\"/><path d=\"M478.743,77L341.286,133\" marker-end=\"url(#plot-marker-2)\"/><path d=\"M198.895,77L396.069,133\" marker-end=\"url(#plot-marker-2)\"/><path d=\"M223.905,77L421.079,133\" marker-end=\"url(#plot-marker-2)\"/><path d=\"M494.497,77L596.628,133\" marker-end=\"url(#plot-marker-2)\"/><path d=\"M496.167,77L598.298,133\" marker-end=\"url(#plot-marker-2)\"/><path d=\"M496.167,77L311.365,133\" marker-end=\"url(#plot-marker-2)\"/><path d=\"M508.042,77L323.24,133\" marker-end=\"url(#plot-marker-2)\"/><path d=\"M115.016,77L122.329,133\" marker-end=\"url(#plot-marker-2)\"/><path d=\"M120.196,77L127.509,133\" marker-end=\"url(#plot-marker-2)\"/><path d=\"M304.408,77L198.688,133\" marker-end=\"url(#plot-marker-2)\"/><path d=\"M306.407,77L200.687,133\" marker-end=\"url(#plot-marker-2)\"/><path d=\"M100,77L127.509,133\" marker-end=\"url(#plot-marker-2)\"/><path d=\"M112.263,77L139.771,133\" marker-end=\"url(#plot-marker-2)\"/><path d=\"M188.387,77L475.496,133\" marker-end=\"url(#plot-marker-2)\"/><path d=\"M198.895,77L486.004,133\" marker-end=\"url(#plot-marker-2)\"/><path d=\"M230.007,77L445.705,133\" marker-end=\"url(#plot-marker-2)\"/><path d=\"M231.011,77L446.708,133\" marker-end=\"url(#plot-marker-2)\"/><path d=\"M616.547,77L430.149,133\" marker-end=\"url(#plot-marker-2)\"/><path d=\"M620,77L433.602,133\" marker-end=\"url(#plot-marker-2)\"/><path d=\"M299.504,77L433.602,133\" marker-end=\"url(#plot-marker-2)\"/><path d=\"M304.408,77L438.507,133\" marker-end=\"url(#plot-marker-2)\"/><path d=\"M584.623,77L341.286,133\" marker-end=\"url(#plot-marker-2)\"/><path d=\"M606.986,77L363.65,133\" marker-end=\"url(#plot-marker-2)\"/><path d=\"M137.273,77L100,133\" marker-end=\"url(#plot-marker-2)\"/><path d=\"M139.771,77L102.498,133\" marker-end=\"url(#plot-marker-2)\"/><path d=\"M376.885,77L516.211,133\" marker-end=\"url(#plot-marker-2)\"/><path d=\"M436.073,77L575.399,133\" marker-end=\"url(#plot-marker-2)\"/><path d=\"M452.325,77L367.834,133\" marker-end=\"url(#plot-marker-2)\"/><path d=\"M475.145,77L390.655,133\" marker-end=\"url(#plot-marker-2)\"/><path d=\"M554.847,77L327.068,133\" marker-end=\"url(#plot-marker-2)\"/><path d=\"M555.55,77L327.771,133\" marker-end=\"url(#plot-marker-2)\"/><path d=\"M608.594,77L267.816,133\" marker-end=\"url(#plot-marker-2)\"/><path d=\"M612.363,77L271.584,133\" marker-end=\"url(#plot-marker-2)\"/><path d=\"M306.407,77L598.298,133\" marker-end=\"url(#plot-marker-2)\"/><path d=\"M328.109,77L620,133\" marker-end=\"url(#plot-marker-2)\"/><path d=\"M612.363,77L363.65,133\" marker-end=\"url(#plot-marker-2)\"/><path d=\"M616.547,77L367.834,133\" marker-end=\"url(#plot-marker-2)\"/><path d=\"M508.042,77L217.2,133\" marker-end=\"url(#plot-marker-2)\"/><path d=\"M514.994,77L224.151,133\" marker-end=\"url(#plot-marker-2)\"/><path d=\"M229.32,77L337.001,133\" marker-end=\"url(#plot-marker-2)\"/><path d=\"M230.007,77L337.688,133\" marker-end=\"url(#plot-marker-2)\"/><path d=\"M124.896,77L102.498,133\" marker-end=\"url(#plot-marker-2)\"/><path d=\"M126.092,77L103.693,133\" marker-end=\"url(#plot-marker-2)\"/><path d=\"M436.073,77L251.107,133\" marker-end=\"url(#plot-marker-2)\"/><path d=\"M452.325,77L267.358,133\" marker-end=\"url(#plot-marker-2)\"/><path d=\"M275.477,77L271.584,133\" marker-end=\"url(#plot-marker-2)\"/><path d=\"M299.504,77L295.611,133\" marker-end=\"url(#plot-marker-2)\"/><path d=\"M120.196,77L117.629,133\" marker-end=\"url(#plot-marker-2)\"/><path d=\"M124.896,77L122.329,133\" marker-end=\"url(#plot-marker-2)\"/><path d=\"M259.61,77L575.399,133\" marker-end=\"url(#plot-marker-2)\"/><path d=\"M268.279,77L584.068,133\" marker-end=\"url(#plot-marker-2)\"/><path d=\"M541.949,77L421.079,133\" marker-end=\"url(#plot-marker-2)\"/><path d=\"M551.019,77L430.149,133\" marker-end=\"url(#plot-marker-2)\"/><path d=\"M328.109,77L446.708,133\" marker-end=\"url(#plot-marker-2)\"/><path d=\"M340.804,77L459.403,133\" marker-end=\"url(#plot-marker-2)\"/><path d=\"M223.905,77L390.655,133\" marker-end=\"url(#plot-marker-2)\"/><path d=\"M229.32,77L396.069,133\" marker-end=\"url(#plot-marker-2)\"/><path d=\"M514.994,77L224.151,133\" marker-end=\"url(#plot-marker-2)\"/><path d=\"M541.949,77L251.107,133\" marker-end=\"url(#plot-marker-2)\"/><path d=\"M126.092,77L106.447,133\" marker-end=\"url(#plot-marker-2)\"/><path d=\"M137.273,77L117.629,133\" marker-end=\"url(#plot-marker-2)\"/><path d=\"M268.279,77L438.507,133\" marker-end=\"url(#plot-marker-2)\"/><path d=\"M275.477,77L445.705,133\" marker-end=\"url(#plot-marker-2)\"/><path d=\"M568.11,77L200.687,133\" marker-end=\"url(#plot-marker-2)\"/><path d=\"M584.623,77L217.2,133\" marker-end=\"url(#plot-marker-2)\"/><path d=\"M350.034,77L267.358,133\" marker-end=\"url(#plot-marker-2)\"/><path d=\"M350.491,77L267.816,133\" marker-end=\"url(#plot-marker-2)\"/><path d=\"M551.019,77L323.24,133\" marker-end=\"url(#plot-marker-2)\"/><path d=\"M554.847,77L327.068,133\" marker-end=\"url(#plot-marker-2)\"/><path d=\"M231.011,77L486.004,133\" marker-end=\"url(#plot-marker-2)\"/><path d=\"M259.61,77L514.603,133\" marker-end=\"url(#plot-marker-2)\"/><path d=\"M340.804,77L327.771,133\" marker-end=\"url(#plot-marker-2)\"/><path d=\"M350.034,77L337.001,133\" marker-end=\"url(#plot-marker-2)\"/><path d=\"M606.986,77L514.603,133\" marker-end=\"url(#plot-marker-2)\"/><path d=\"M608.594,77L516.211,133\" marker-end=\"url(#plot-marker-2)\"/><path d=\"M100,133L106.347,189\" marker-end=\"url(#plot-marker-2)\"/><path d=\"M105.151,133L111.499,189\" marker-end=\"url(#plot-marker-2)\"/><path d=\"M418.261,133L380.535,189\" marker-end=\"url(#plot-marker-2)\"/><path d=\"M428.054,133L390.328,189\" marker-end=\"url(#plot-marker-2)\"/><path d=\"M380.535,133L617.397,189\" marker-end=\"url(#plot-marker-2)\"/><path d=\"M383.138,133L620,189\" marker-end=\"url(#plot-marker-2)\"/><path d=\"M560.284,133L524.29,189\" marker-end=\"url(#plot-marker-2)\"/><path d=\"M562.638,133L526.644,189\" marker-end=\"url(#plot-marker-2)\"/><path d=\"M187.496,133L241.474,189\" marker-end=\"url(#plot-marker-2)\"/><path d=\"M191.888,133L245.866,189\" marker-end=\"url(#plot-marker-2)\"/><path d=\"M359.957,133L192.759,189\" marker-end=\"url(#plot-marker-2)\"/><path d=\"M373.731,133L206.532,189\" marker-end=\"url(#plot-marker-2)\"/><path d=\"M608.866,133L446.264,189\" marker-end=\"url(#plot-marker-2)\"/><path d=\"M620,133L457.397,189\" marker-end=\"url(#plot-marker-2)\"/><path d=\"M451.526,133L553.162,189\" marker-end=\"url(#plot-marker-2)\"/><path d=\"M515.762,133L617.397,189\" marker-end=\"url(#plot-marker-2)\"/><path d=\"M523.05,133L406.735,189\" marker-end=\"url(#plot-marker-2)\"/><path d=\"M560.284,133L443.969,189\" marker-end=\"url(#plot-marker-2)\"/><path d=\"M172.959,133L226.937,189\" marker-end=\"url(#plot-marker-2)\"/><path d=\"M187.496,133L241.474,189\" marker-end=\"url(#plot-marker-2)\"/><path d=\"M348.179,133L294.463,189\" marker-end=\"url(#plot-marker-2)\"/><path d=\"M352.747,133L299.031,189\" marker-end=\"url(#plot-marker-2)\"/><path d=\"M352.747,133L100,189\" marker-end=\"url(#plot-marker-2)\"/><path d=\"M355.675,133L102.928,189\" marker-end=\"url(#plot-marker-2)\"/><path d=\"M165.341,133L369.81,189\" marker-end=\"url(#plot-marker-2)\"/><path d=\"M172.959,133L377.428,189\" marker-end=\"url(#plot-marker-2)\"/><path d=\"M586.082,133L526.644,189\" marker-end=\"url(#plot-marker-2)\"/><path d=\"M599.747,133L540.309,189\" marker-end=\"url(#plot-marker-2)\"/><path d=\"M562.638,133L540.309,189\" marker-end=\"url(#plot-marker-2)\"/><path d=\"M575.491,133L553.162,189\" marker-end=\"url(#plot-marker-2)\"/><path d=\"M162.468,133L366.937,189\" marker-end=\"url(#plot-marker-2)\"/><path d=\"M165.341,133L369.81,189\" marker-end=\"url(#plot-marker-2)\"/><path d=\"M109.718,133L119.768,189\" marker-end=\"url(#plot-marker-2)\"/><path d=\"M131.204,133L141.253,189\" marker-end=\"url(#plot-marker-2)\"/><path d=\"M296.674,133L141.253,189\" marker-end=\"url(#plot-marker-2)\"/><path d=\"M348.179,133L192.759,189\" marker-end=\"url(#plot-marker-2)\"/><path d=\"M105.151,133L289.896,189\" marker-end=\"url(#plot-marker-2)\"/><path d=\"M109.718,133L294.463,189\" marker-end=\"url(#plot-marker-2)\"/><path d=\"M383.138,133L467.988,189\" marker-end=\"url(#plot-marker-2)\"/><path d=\"M418.261,133L503.112,189\" marker-end=\"url(#plot-marker-2)\"/><path d=\"M131.204,133L261.8,189\" marker-end=\"url(#plot-marker-2)\"/><path d=\"M131.888,133L262.484,189\" marker-end=\"url(#plot-marker-2)\"/><path d=\"M515.762,133L390.328,189\" marker-end=\"url(#plot-marker-2)\"/><path d=\"M523.05,133L397.616,189\" marker-end=\"url(#plot-marker-2)\"/><path d=\"M575.491,133L457.397,189\" marker-end=\"url(#plot-marker-2)\"/><path d=\"M586.082,133L467.988,189\" marker-end=\"url(#plot-marker-2)\"/><path d=\"M141.336,133L111.499,189\" marker-end=\"url(#plot-marker-2)\"/><path d=\"M149.605,133L119.768,189\" marker-end=\"url(#plot-marker-2)\"/><path d=\"M131.888,133L311.894,189\" marker-end=\"url(#plot-marker-2)\"/><path d=\"M141.336,133L321.342,189\" marker-end=\"url(#plot-marker-2)\"/><path d=\"M263.653,133L333.916,189\" marker-end=\"url(#plot-marker-2)\"/><path d=\"M296.674,133L366.937,189\" marker-end=\"url(#plot-marker-2)\"/><path d=\"M208.662,133L321.342,189\" marker-end=\"url(#plot-marker-2)\"/><path d=\"M217.538,133L330.218,189\" marker-end=\"url(#plot-marker-2)\"/><path d=\"M191.888,133L289.245,189\" marker-end=\"url(#plot-marker-2)\"/><path d=\"M192.539,133L289.896,189\" marker-end=\"url(#plot-marker-2)\"/><path d=\"M149.605,133L299.031,189\" marker-end=\"url(#plot-marker-2)\"/><path d=\"M162.468,133L311.894,189\" marker-end=\"url(#plot-marker-2)\"/><path d=\"M438.885,133L503.112,189\" marker-end=\"url(#plot-marker-2)\"/><path d=\"M451.526,133L515.753,189\" marker-end=\"url(#plot-marker-2)\"/><path d=\"M373.731,133L330.218,189\" marker-end=\"url(#plot-marker-2)\"/><path d=\"M377.428,133L333.916,189\" marker-end=\"url(#plot-marker-2)\"/><path d=\"M192.539,133L206.532,189\" marker-end=\"url(#plot-marker-2)\"/><path d=\"M208.662,133L222.655,189\" marker-end=\"url(#plot-marker-2)\"/><path d=\"M236.891,133L262.484,189\" marker-end=\"url(#plot-marker-2)\"/><path d=\"M263.653,133L289.245,189\" marker-end=\"url(#plot-marker-2)\"/><path d=\"M599.747,133L397.616,189\" marker-end=\"url(#plot-marker-2)\"/><path d=\"M608.866,133L406.735,189\" marker-end=\"url(#plot-marker-2)\"/><path d=\"M428.054,133L443.969,189\" marker-end=\"url(#plot-marker-2)\"/><path d=\"M430.348,133L446.264,189\" marker-end=\"url(#plot-marker-2)\"/><path d=\"M233.472,133L102.928,189\" marker-end=\"url(#plot-marker-2)\"/><path d=\"M236.891,133L106.347,189\" marker-end=\"url(#plot-marker-2)\"/><path d=\"M217.538,133L245.866,189\" marker-end=\"url(#plot-marker-2)\"/><path d=\"M233.472,133L261.8,189\" marker-end=\"url(#plot-marker-2)\"/><path d=\"M355.675,133L222.655,189\" marker-end=\"url(#plot-marker-2)\"/><path d=\"M359.957,133L226.937,189\" marker-end=\"url(#plot-marker-2)\"/><path d=\"M430.348,133L515.753,189\" marker-end=\"url(#plot-marker-2)\"/><path d=\"M438.885,133L524.29,189\" marker-end=\"url(#plot-marker-2)\"/><path d=\"M124.456,189L108.705,245\" marker-end=\"url(#plot-marker-2)\"/><path d=\"M129.185,189L113.434,245\" marker-end=\"url(#plot-marker-2)\"/><path d=\"M195.775,189L326.495,245\" marker-end=\"url(#plot-marker-2)\"/><path d=\"M198.051,189L328.77,245\" marker-end=\"url(#plot-marker-2)\"/><path d=\"M420.511,189L234.375,245\" marker-end=\"url(#plot-marker-2)\"/><path d=\"M422.957,189L236.821,245\" marker-end=\"url(#plot-marker-2)\"/><path d=\"M265.433,189L160.067,245\" marker-end=\"url(#plot-marker-2)\"/><path d=\"M272.066,189L166.7,245\" marker-end=\"url(#plot-marker-2)\"/><path d=\"M577.796,189L377.142,245\" marker-end=\"url(#plot-marker-2)\"/><path d=\"M587.396,189L386.742,245\" marker-end=\"url(#plot-marker-2)\"/><path d=\"M539.889,189L447.771,245\" marker-end=\"url(#plot-marker-2)\"/><path d=\"M569.578,189L477.459,245\" marker-end=\"url(#plot-marker-2)\"/><path d=\"M333.822,189L410.779,245\" marker-end=\"url(#plot-marker-2)\"/><path d=\"M370.814,189L447.771,245\" marker-end=\"url(#plot-marker-2)\"/><path d=\"M228.991,189L353.543,245\" marker-end=\"url(#plot-marker-2)\"/><path d=\"M230.788,189L355.34,245\" marker-end=\"url(#plot-marker-2)\"/><path d=\"M313.086,189L311.521,245\" marker-end=\"url(#plot-marker-2)\"/><path d=\"M325.812,189L324.247,245\" marker-end=\"url(#plot-marker-2)\"/><path d=\"M230.788,189L527.22,245\" marker-end=\"url(#plot-marker-2)\"/><path d=\"M254.237,189L550.669,245\" marker-end=\"url(#plot-marker-2)\"/><path d=\"M604.818,189L181.758,245\" marker-end=\"url(#plot-marker-2)\"/><path d=\"M620,189L196.94,245\" marker-end=\"url(#plot-marker-2)\"/><path d=\"M494.277,189L324.247,245\" marker-end=\"url(#plot-marker-2)\"/><path d=\"M495.031,189L325.001,245\" marker-end=\"url(#plot-marker-2)\"/><path d=\"M280.023,189L173.998,245\" marker-end=\"url(#plot-marker-2)\"/><path d=\"M287.784,189L181.758,245\" marker-end=\"url(#plot-marker-2)\"/><path d=\"M198.051,189L338.8,245\" marker-end=\"url(#plot-marker-2)\"/><path d=\"M204.783,189L345.533,245\" marker-end=\"url(#plot-marker-2)\"/><path d=\"M489.53,189L619.669,245\" marker-end=\"url(#plot-marker-2)\"/><path d=\"M489.604,189L619.743,245\" marker-end=\"url(#plot-marker-2)\"/><path d=\"M422.957,189L281.425,245\" marker-end=\"url(#plot-marker-2)\"/><path d=\"M424.41,189L282.878,245\" marker-end=\"url(#plot-marker-2)\"/><path d=\"M160.845,189L264.241,245\" marker-end=\"url(#plot-marker-2)\"/><path d=\"M178.03,189L281.425,245\" marker-end=\"url(#plot-marker-2)\"/><path d=\"M129.185,189L113.434,245\" marker-end=\"url(#plot-marker-2)\"/><path d=\"M133.805,189L118.054,245\" marker-end=\"url(#plot-marker-2)\"/><path d=\"M380.454,189L196.94,245\" marker-end=\"url(#plot-marker-2)\"/><path d=\"M417.888,189L234.375,245\" marker-end=\"url(#plot-marker-2)\"/><path d=\"M370.814,189L386.742,245\" marker-end=\"url(#plot-marker-2)\"/><path d=\"M378.422,189L394.35,245\" marker-end=\"url(#plot-marker-2)\"/><path d=\"M569.578,189L405.545,245\" marker-end=\"url(#plot-marker-2)\"/><path d=\"M573.76,189L409.727,245\" marker-end=\"url(#plot-marker-2)\"/><path d=\"M573.76,189L522.318,245\" marker-end=\"url(#plot-marker-2)\"/><path d=\"M575.041,189L523.599,245\" marker-end=\"url(#plot-marker-2)\"/><path d=\"M274.757,189L168.732,245\" marker-end=\"url(#plot-marker-2)\"/><path d=\"M280.023,189L173.998,245\" marker-end=\"url(#plot-marker-2)\"/><path d=\"M493.225,189L409.727,245\" marker-end=\"url(#plot-marker-2)\"/><path d=\"M494.277,189L410.779,245\" marker-end=\"url(#plot-marker-2)\"/><path d=\"M462.062,189L592.201,245\" marker-end=\"url(#plot-marker-2)\"/><path d=\"M489.53,189L619.669,245\" marker-end=\"url(#plot-marker-2)\"/><path d=\"M417.888,189L583.356,245\" marker-end=\"url(#plot-marker-2)\"/><path d=\"M420.511,189L585.979,245\" marker-end=\"url(#plot-marker-2)\"/><path d=\"M189.554,189L585.979,245\" marker-end=\"url(#plot-marker-2)\"/><path d=\"M195.775,189L592.201,245\" marker-end=\"url(#plot-marker-2)\"/><path d=\"M272.066,189L261.028,245\" marker-end=\"url(#plot-marker-2)\"/><path d=\"M274.757,189L263.72,245\" marker-end=\"url(#plot-marker-2)\"/><path d=\"M378.422,189L166.7,245\" marker-end=\"url(#plot-marker-2)\"/><path d=\"M380.454,189L168.732,245\" marker-end=\"url(#plot-marker-2)\"/><path d=\"M160.067,189L263.72,245\" marker-end=\"url(#plot-marker-2)\"/><path d=\"M160.588,189L264.241,245\" marker-end=\"url(#plot-marker-2)\"/><path d=\"M325.812,189L345.533,245\" marker-end=\"url(#plot-marker-2)\"/><path d=\"M333.822,189L353.543,245\" marker-end=\"url(#plot-marker-2)\"/><path d=\"M178.03,189L328.77,245\" marker-end=\"url(#plot-marker-2)\"/><path d=\"M188.06,189L338.8,245\" marker-end=\"url(#plot-marker-2)\"/><path d=\"M495.031,189L477.459,245\" marker-end=\"url(#plot-marker-2)\"/><path d=\"M539.889,189L522.318,245\" marker-end=\"url(#plot-marker-2)\"/><path d=\"M489.604,189L523.599,245\" marker-end=\"url(#plot-marker-2)\"/><path d=\"M493.225,189L527.22,245\" marker-end=\"url(#plot-marker-2)\"/><path d=\"M254.237,189L394.35,245\" marker-end=\"url(#plot-marker-2)\"/><path d=\"M265.433,189L405.545,245\" marker-end=\"url(#plot-marker-2)\"/><path d=\"M188.06,189L325.001,245\" marker-end=\"url(#plot-marker-2)\"/><path d=\"M189.554,189L326.495,245\" marker-end=\"url(#plot-marker-2)\"/><path d=\"M115.751,189L100,245\" marker-end=\"url(#plot-marker-2)\"/><path d=\"M124.456,189L108.705,245\" marker-end=\"url(#plot-marker-2)\"/><path d=\"M424.41,189L362.763,245\" marker-end=\"url(#plot-marker-2)\"/><path d=\"M429.374,189L367.728,245\" marker-end=\"url(#plot-marker-2)\"/><path d=\"M587.396,189L367.728,245\" marker-end=\"url(#plot-marker-2)\"/><path d=\"M594.055,189L374.387,245\" marker-end=\"url(#plot-marker-2)\"/><path d=\"M160.588,189L619.743,245\" marker-end=\"url(#plot-marker-2)\"/><path d=\"M160.845,189L620,245\" marker-end=\"url(#plot-marker-2)\"/><path d=\"M100,189L118.054,245\" marker-end=\"url(#plot-marker-2)\"/><path d=\"M115.751,189L133.805,245\" marker-end=\"url(#plot-marker-2)\"/><path d=\"M601.477,189L308.181,245\" marker-end=\"url(#plot-marker-2)\"/><path d=\"M604.818,189L311.521,245\" marker-end=\"url(#plot-marker-2)\"/><path d=\"M429.374,189L550.669,245\" marker-end=\"url(#plot-marker-2)\"/><path d=\"M462.062,189L583.356,245\" marker-end=\"url(#plot-marker-2)\"/><path d=\"M575.041,189L374.387,245\" marker-end=\"url(#plot-marker-2)\"/><path d=\"M577.796,189L377.142,245\" marker-end=\"url(#plot-marker-2)\"/><path d=\"M594.055,189L355.34,245\" marker-end=\"url(#plot-marker-2)\"/><path d=\"M601.477,189L362.763,245\" marker-end=\"url(#plot-marker-2)\"/><path d=\"M287.784,189L282.878,245\" marker-end=\"url(#plot-marker-2)\"/><path d=\"M313.086,189L308.181,245\" marker-end=\"url(#plot-marker-2)\"/><path d=\"M204.783,189L236.821,245\" marker-end=\"url(#plot-marker-2)\"/><path d=\"M228.991,189L261.028,245\" marker-end=\"url(#plot-marker-2)\"/><path d=\"M357.148,245L372.046,301\" marker-end=\"url(#plot-marker-2)\"/><path d=\"M360.37,245L375.268,301\" marker-end=\"url(#plot-marker-2)\"/><path d=\"M246.628,245L161.362,301\" marker-end=\"url(#plot-marker-2)\"/><path d=\"M258.736,245L173.47,301\" marker-end=\"url(#plot-marker-2)\"/><path d=\"M494.652,245L375.268,301\" marker-end=\"url(#plot-marker-2)\"/><path d=\"M500.681,245L381.297,301\" marker-end=\"url(#plot-marker-2)\"/><path d=\"M105.848,245L173.47,301\" marker-end=\"url(#plot-marker-2)\"/><path d=\"M154.734,245L222.355,301\" marker-end=\"url(#plot-marker-2)\"/><path d=\"M258.736,245L395.537,301\" marker-end=\"url(#plot-marker-2)\"/><path d=\"M289.625,245L426.426,301\" marker-end=\"url(#plot-marker-2)\"/><path d=\"M207.463,245L426.426,301\" marker-end=\"url(#plot-marker-2)\"/><path d=\"M246.628,245L465.591,301\" marker-end=\"url(#plot-marker-2)\"/><path d=\"M154.734,245L479.105,301\" marker-end=\"url(#plot-marker-2)\"/><path d=\"M163.205,245L487.576,301\" marker-end=\"url(#plot-marker-2)\"/><path d=\"M356.602,245L279.551,301\" marker-end=\"url(#plot-marker-2)\"/><path d=\"M357.148,245L280.097,301\" marker-end=\"url(#plot-marker-2)\"/><path d=\"M609.692,245L596.448,301\" marker-end=\"url(#plot-marker-2)\"/><path d=\"M620,245L606.756,301\" marker-end=\"url(#plot-marker-2)\"/><path d=\"M500.681,245L347.808,301\" marker-end=\"url(#plot-marker-2)\"/><path d=\"M512.281,245L359.408,301\" marker-end=\"url(#plot-marker-2)\"/><path d=\"M383.804,245L280.097,301\" marker-end=\"url(#plot-marker-2)\"/><path d=\"M408.719,245L305.013,301\" marker-end=\"url(#plot-marker-2)\"/><path d=\"M163.205,245L478.365,301\" marker-end=\"url(#plot-marker-2)\"/><path d=\"M163.945,245L479.105,301\" marker-end=\"url(#plot-marker-2)\"/><path d=\"M289.625,245L109.048,301\" marker-end=\"url(#plot-marker-2)\"/><path d=\"M341.939,245L161.362,301\" marker-end=\"url(#plot-marker-2)\"/><path d=\"M455.634,245L381.297,301\" marker-end=\"url(#plot-marker-2)\"/><path d=\"M469.875,245L395.537,301\" marker-end=\"url(#plot-marker-2)\"/><path d=\"M408.719,245L105.646,301\" marker-end=\"url(#plot-marker-2)\"/><path d=\"M412.121,245L109.048,301\" marker-end=\"url(#plot-marker-2)\"/><path d=\"M341.939,245L247.133,301\" marker-end=\"url(#plot-marker-2)\"/><path d=\"M356.256,245L261.451,301\" marker-end=\"url(#plot-marker-2)\"/><path d=\"M100,245L487.576,301\" marker-end=\"url(#plot-marker-2)\"/><path d=\"M100.202,245L487.779,301\" marker-end=\"url(#plot-marker-2)\"/><path d=\"M360.37,245L487.779,301\" marker-end=\"url(#plot-marker-2)\"/><path d=\"M383.804,245L511.212,301\" marker-end=\"url(#plot-marker-2)\"/><path d=\"M469.875,245L222.355,301\" marker-end=\"url(#plot-marker-2)\"/><path d=\"M494.652,245L247.133,301\" marker-end=\"url(#plot-marker-2)\"/><path d=\"M412.121,245L465.591,301\" marker-end=\"url(#plot-marker-2)\"/><path d=\"M424.895,245L478.365,301\" marker-end=\"url(#plot-marker-2)\"/><path d=\"M442.996,245L359.408,301\" marker-end=\"url(#plot-marker-2)\"/><path d=\"M455.634,245L372.046,301\" marker-end=\"url(#plot-marker-2)\"/><path d=\"M424.895,245L261.451,301\" marker-end=\"url(#plot-marker-2)\"/><path d=\"M442.996,245L279.551,301\" marker-end=\"url(#plot-marker-2)\"/><path d=\"M596.448,245L606.756,301\" marker-end=\"url(#plot-marker-2)\"/><path d=\"M609.692,245L620,301\" marker-end=\"url(#plot-marker-2)\"/><path d=\"M164.668,245L305.013,301\" marker-end=\"url(#plot-marker-2)\"/><path d=\"M207.463,245L347.808,301\" marker-end=\"url(#plot-marker-2)\"/><path d=\"M163.945,245L511.212,301\" marker-end=\"url(#plot-marker-2)\"/><path d=\"M164.668,245L511.935,301\" marker-end=\"url(#plot-marker-2)\"/><path d=\"M100.202,245L100,301\" marker-end=\"url(#plot-marker-2)\"/><path d=\"M105.848,245L105.646,301\" marker-end=\"url(#plot-marker-2)\"/><path d=\"M356.256,245L511.935,301\" marker-end=\"url(#plot-marker-2)\"/><path d=\"M356.602,245L512.281,301\" marker-end=\"url(#plot-marker-2)\"/><path d=\"M477.25,301L534.138,357\" marker-end=\"url(#plot-marker-2)\"/><path d=\"M563.112,301L620,357\" marker-end=\"url(#plot-marker-2)\"/><path d=\"M210.791,301L293.158,357\" marker-end=\"url(#plot-marker-2)\"/><path d=\"M226.76,301L309.127,357\" marker-end=\"url(#plot-marker-2)\"/><path d=\"M563.112,301L477.25,357\" marker-end=\"url(#plot-marker-2)\"/><path d=\"M620,301L534.138,357\" marker-end=\"url(#plot-marker-2)\"/><path d=\"M297.215,301L131.121,357\" marker-end=\"url(#plot-marker-2)\"/><path d=\"M309.127,301L143.033,357\" marker-end=\"url(#plot-marker-2)\"/><path d=\"M234.018,301L143.033,357\" marker-end=\"url(#plot-marker-2)\"/><path d=\"M297.215,301L206.23,357\" marker-end=\"url(#plot-marker-2)\"/><path d=\"M100,301L206.23,357\" marker-end=\"url(#plot-marker-2)\"/><path d=\"M186.928,301L293.158,357\" marker-end=\"url(#plot-marker-2)\"/><path d=\"M186.928,301L107.258,357\" marker-end=\"url(#plot-marker-2)\"/><path d=\"M210.791,301L131.121,357\" marker-end=\"url(#plot-marker-2)\"/><path d=\"M226.76,301L100,357\" marker-end=\"url(#plot-marker-2)\"/><path d=\"M234.018,301L107.258,357\" marker-end=\"url(#plot-marker-2)\"/><path d=\"M420.798,357L442.213,413\" marker-end=\"url(#plot-marker-2)\"/><path d=\"M445.648,357L467.063,413\" marker-end=\"url(#plot-marker-2)\"/><path d=\"M288.13,357L345.567,413\" marker-end=\"url(#plot-marker-2)\"/><path d=\"M384.775,357L442.213,413\" marker-end=\"url(#plot-marker-2)\"/><path d=\"M596.435,357L127.307,413\" marker-end=\"url(#plot-marker-2)\"/><path d=\"M597.128,357L128,413\" marker-end=\"url(#plot-marker-2)\"/><path d=\"M384.775,357L172.063,413\" marker-end=\"url(#plot-marker-2)\"/><path d=\"M420.798,357L208.086,413\" marker-end=\"url(#plot-marker-2)\"/><path d=\"M445.648,357L467.063,413\" marker-end=\"url(#plot-marker-2)\"/><path d=\"M470.542,357L491.957,413\" marker-end=\"url(#plot-marker-2)\"/><path d=\"M515.932,357L253.476,413\" marker-end=\"url(#plot-marker-2)\"/><path d=\"M518.603,357L256.147,413\" marker-end=\"url(#plot-marker-2)\"/><path d=\"M598.737,357L116.729,413\" marker-end=\"url(#plot-marker-2)\"/><path d=\"M609.315,357L127.307,413\" marker-end=\"url(#plot-marker-2)\"/><path d=\"M106.009,357L128,413\" marker-end=\"url(#plot-marker-2)\"/><path d=\"M150.072,357L172.063,413\" marker-end=\"url(#plot-marker-2)\"/><path d=\"M269.889,357L327.327,413\" marker-end=\"url(#plot-marker-2)\"/><path d=\"M288.13,357L345.567,413\" marker-end=\"url(#plot-marker-2)\"/><path d=\"M150.072,357L100,413\" marker-end=\"url(#plot-marker-2)\"/><path d=\"M166.801,357L116.729,413\" marker-end=\"url(#plot-marker-2)\"/><path d=\"M518.603,357L491.957,413\" marker-end=\"url(#plot-marker-2)\"/><path d=\"M596.435,357L569.788,413\" marker-end=\"url(#plot-marker-2)\"/><path d=\"M470.542,357L208.086,413\" marker-end=\"url(#plot-marker-2)\"/><path d=\"M515.932,357L253.476,413\" marker-end=\"url(#plot-marker-2)\"/><path d=\"M166.801,357L571.398,413\" marker-end=\"url(#plot-marker-2)\"/><path d=\"M204.719,357L609.315,413\" marker-end=\"url(#plot-marker-2)\"/><path d=\"M204.719,357L262.156,413\" marker-end=\"url(#plot-marker-2)\"/><path d=\"M269.889,357L327.327,413\" marker-end=\"url(#plot-marker-2)\"/><path d=\"M100,357L256.147,413\" marker-end=\"url(#plot-marker-2)\"/><path d=\"M106.009,357L262.156,413\" marker-end=\"url(#plot-marker-2)\"/><path d=\"M597.128,357L569.788,413\" marker-end=\"url(#plot-marker-2)\"/><path d=\"M598.737,357L571.398,413\" marker-end=\"url(#plot-marker-2)\"/></g></svg>"
                        ],
                        "text/plain": [
                            "<IPython.core.display.SVG object>"
                        ]
                    },
                    "metadata": {},
                    "output_type": "display_data"
                }
            ],
            "source": [
                "almanac = problem.parse_input_text_file()\n",
                "lines_df = create_lines_df(almanac)\n",
                "show_links(lines_df)"
            ]
        }
    ],
    "metadata": {
        "kernelspec": {
            "display_name": "advent-of-code-CEbbwEIT-py3.10",
            "language": "python",
            "name": "python3"
        },
        "language_info": {
            "codemirror_mode": {
                "name": "ipython",
                "version": 3
            },
            "file_extension": ".py",
            "mimetype": "text/x-python",
            "name": "python",
            "nbconvert_exporter": "python",
            "pygments_lexer": "ipython3",
            "version": "3.12.1"
        }
    },
    "nbformat": 4,
    "nbformat_minor": 2
}
