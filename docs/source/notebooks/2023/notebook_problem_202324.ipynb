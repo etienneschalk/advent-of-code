{
    "cells": [
        {
            "cell_type": "markdown",
            "metadata": {},
            "source": [
                "# Year 2023 Day 24\n"
            ]
        },
        {
            "cell_type": "markdown",
            "metadata": {},
            "source": [
                "TODO Use Link Mark to materialize vectors https://observablehq.com/plot/marks/link\n",
                "Reuse notebook 202311\n",
                "Use 2d simplification for vector explanation then pythreejs\n",
                "for interactive 3d visu, maybe evn anim?\n",
                "\n",
                "Note: might also be perfect for visualizing the inputs from 202322 (falling bricks)\n",
                "\n",
                "See https://pythreejs.readthedocs.io/en/stable/examples/Geometries.html fo threejs examples\n",
                "\n",
                "See https://pythreejs.readthedocs.io/en/stable/examples/Geometries.html\n",
                "and https://github.com/jupyter-widgets/pythreejs/blob/ebf601e805547e3ae6f656d3fe4ff89aa5ab2dac/examples/Geometries.ipynb\n",
                "for example of successful notebook pre-rendering with pythreejs widgets\n",
                "\n",
                "Note: This works when the notebook is left empty and then computed during the sphinx build\n",
                "It does not work if it is pre-ran manually\n",
                "So, the integration of notebook generation in the build process (GitHub action) is unavoidable,\n",
                "at least for some that does not require heavy dependencies (unlike graphviz for instance)\n",
                "Hopefully, JS-leaning notebooks using pythreejs and pyobservable plot should be easier to build."
            ]
        },
        {
            "cell_type": "code",
            "execution_count": null,
            "metadata": {},
            "outputs": [],
            "source": [
                "from pythreejs import *\n",
                "from IPython.display import display\n",
                "from math import pi\n",
                "\n",
                "from pythreejs._example_helper import use_example_model_ids\n",
                "\n",
                "use_example_model_ids()"
            ]
        },
        {
            "cell_type": "code",
            "execution_count": null,
            "metadata": {},
            "outputs": [],
            "source": [
                "BoxGeometry(\n",
                "    width=5, height=10, depth=15, widthSegments=5, heightSegments=10, depthSegments=15\n",
                ")\n",
                "\n",
                "# Not working in the browser html version :'("
            ]
        }
    ],
    "metadata": {
        "kernelspec": {
            "display_name": "advent-of-code-CEbbwEIT-py3.10",
            "language": "python",
            "name": "python3"
        },
        "language_info": {
            "codemirror_mode": {
                "name": "ipython",
                "version": 3
            },
            "file_extension": ".py",
            "mimetype": "text/x-python",
            "name": "python",
            "nbconvert_exporter": "python",
            "pygments_lexer": "ipython3",
            "version": "3.12.1"
        }
    },
    "nbformat": 4,
    "nbformat_minor": 2
}
