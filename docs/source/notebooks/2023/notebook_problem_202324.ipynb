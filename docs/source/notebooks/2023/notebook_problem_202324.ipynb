{
 "cells": [
  {
   "cell_type": "markdown",
   "metadata": {},
   "source": [
    "# Year 2023 Day 24\n"
   ]
  },
  {
   "cell_type": "markdown",
   "metadata": {},
   "source": [
    "TODO Use Link Mark to materialize vectors https://observablehq.com/plot/marks/link\n",
    "Reuse notebook 202311\n",
    "Use 2d simplification for vector explanation then pythreejs\n",
    "for interactive 3d visu, maybe evn anim?\n",
    "\n",
    "Note: might also be perfect for visualizing the inputs from 202322 (falling bricks)\n",
    "\n",
    "See https://pythreejs.readthedocs.io/en/stable/examples/Geometries.html fo threejs examples\n",
    "\n",
    "See https://pythreejs.readthedocs.io/en/stable/examples/Geometries.html\n",
    "and https://github.com/jupyter-widgets/pythreejs/blob/ebf601e805547e3ae6f656d3fe4ff89aa5ab2dac/examples/Geometries.ipynb\n",
    "for example of successful notebook pre-rendering with pythreejs widgets\n",
    "\n",
    "Note: This works when the notebook is left empty and then computed during the sphinx build\n",
    "It does not work if it is pre-ran manually\n",
    "So, the integration of notebook generation in the build process (GitHub action) is unavoidable,\n",
    "at least for some that does not require heavy dependencies (unlike graphviz for instance)\n",
    "Hopefully, JS-leaning notebooks using pythreejs and pyobservable plot should be easier to build.\n"
   ]
  },
  {
   "cell_type": "code",
   "execution_count": 454,
   "metadata": {},
   "outputs": [],
   "source": [
    "from pyobsplot import Obsplot, Plot\n",
    "\n",
    "\n",
    "op = Obsplot(renderer=\"jsdom\", theme=\"dark\")  # Literal['current','light','dark']"
   ]
  },
  {
   "cell_type": "code",
   "execution_count": 455,
   "metadata": {},
   "outputs": [
    {
     "data": {
      "text/plain": [
       "AdventOfCodeProblem202324(year=2023, day=24)"
      ]
     },
     "execution_count": 455,
     "metadata": {},
     "output_type": "execute_result"
    }
   ],
   "source": [
    "from advent_of_code.common.common import get_example_inputs_file_contents\n",
    "from advent_of_code.y_2023.problem_202324 import AdventOfCodeProblem202324\n",
    "\n",
    "\n",
    "problem = AdventOfCodeProblem202324()\n",
    "problem"
   ]
  },
  {
   "cell_type": "markdown",
   "metadata": {},
   "source": [
    "## Part 1\n",
    "\n",
    "In Part 1, the z-axis is ignored.\n"
   ]
  },
  {
   "cell_type": "markdown",
   "metadata": {},
   "source": [
    "### With Example Input\n"
   ]
  },
  {
   "cell_type": "code",
   "execution_count": 456,
   "metadata": {},
   "outputs": [],
   "source": [
    "example_input = get_example_inputs_file_contents(2023)[\"test_problem_202324\"][\n",
    "    \"EXAMPLE_INPUT\"\n",
    "]"
   ]
  },
  {
   "cell_type": "code",
   "execution_count": 457,
   "metadata": {},
   "outputs": [
    {
     "data": {
      "text/plain": [
       "[Hailstone(position=array([19, 13, 30]), velocity=array([-2,  1, -2])),\n",
       " Hailstone(position=array([18, 19, 22]), velocity=array([-1, -1, -2])),\n",
       " Hailstone(position=array([20, 25, 34]), velocity=array([-2, -2, -4])),\n",
       " Hailstone(position=array([12, 31, 28]), velocity=array([-1, -2, -1])),\n",
       " Hailstone(position=array([20, 19, 15]), velocity=array([ 1, -5, -3]))]"
      ]
     },
     "execution_count": 457,
     "metadata": {},
     "output_type": "execute_result"
    }
   ],
   "source": [
    "example_hailstones = problem.parse_text_input(example_input)\n",
    "example_hailstones"
   ]
  },
  {
   "cell_type": "code",
   "execution_count": 458,
   "metadata": {},
   "outputs": [
    {
     "data": {
      "text/html": [
       "<div>\n",
       "<style scoped>\n",
       "    .dataframe tbody tr th:only-of-type {\n",
       "        vertical-align: middle;\n",
       "    }\n",
       "\n",
       "    .dataframe tbody tr th {\n",
       "        vertical-align: top;\n",
       "    }\n",
       "\n",
       "    .dataframe thead th {\n",
       "        text-align: right;\n",
       "    }\n",
       "</style>\n",
       "<table border=\"1\" class=\"dataframe\">\n",
       "  <thead>\n",
       "    <tr style=\"text-align: right;\">\n",
       "      <th></th>\n",
       "      <th>x1</th>\n",
       "      <th>y1</th>\n",
       "      <th>x2</th>\n",
       "      <th>y2</th>\n",
       "      <th>time_in_ns</th>\n",
       "    </tr>\n",
       "  </thead>\n",
       "  <tbody>\n",
       "    <tr>\n",
       "      <th>0</th>\n",
       "      <td>19</td>\n",
       "      <td>13</td>\n",
       "      <td>17</td>\n",
       "      <td>14</td>\n",
       "      <td>1</td>\n",
       "    </tr>\n",
       "    <tr>\n",
       "      <th>1</th>\n",
       "      <td>18</td>\n",
       "      <td>19</td>\n",
       "      <td>17</td>\n",
       "      <td>18</td>\n",
       "      <td>1</td>\n",
       "    </tr>\n",
       "    <tr>\n",
       "      <th>2</th>\n",
       "      <td>20</td>\n",
       "      <td>25</td>\n",
       "      <td>18</td>\n",
       "      <td>23</td>\n",
       "      <td>1</td>\n",
       "    </tr>\n",
       "    <tr>\n",
       "      <th>3</th>\n",
       "      <td>12</td>\n",
       "      <td>31</td>\n",
       "      <td>11</td>\n",
       "      <td>29</td>\n",
       "      <td>1</td>\n",
       "    </tr>\n",
       "    <tr>\n",
       "      <th>4</th>\n",
       "      <td>20</td>\n",
       "      <td>19</td>\n",
       "      <td>21</td>\n",
       "      <td>14</td>\n",
       "      <td>1</td>\n",
       "    </tr>\n",
       "  </tbody>\n",
       "</table>\n",
       "</div>"
      ],
      "text/plain": [
       "   x1  y1  x2  y2  time_in_ns\n",
       "0  19  13  17  14           1\n",
       "1  18  19  17  18           1\n",
       "2  20  25  18  23           1\n",
       "3  12  31  11  29           1\n",
       "4  20  19  21  14           1"
      ]
     },
     "execution_count": 458,
     "metadata": {},
     "output_type": "execute_result"
    }
   ],
   "source": [
    "import pandas as pd\n",
    "\n",
    "from advent_of_code.y_2023.problem_202324 import Hailstone\n",
    "\n",
    "\n",
    "def compute_vectors(hailstones: list[Hailstone], *, time_in_ns: int = 1):\n",
    "    return pd.DataFrame(\n",
    "        [\n",
    "            (h.px, h.py, h.px + time_in_ns * h.vx, h.py + time_in_ns * h.vy, time_in_ns)\n",
    "            for h in hailstones\n",
    "        ],\n",
    "        columns=[\"x1\", \"y1\", \"x2\", \"y2\", \"time_in_ns\"],\n",
    "    )\n",
    "\n",
    "\n",
    "example_vectors = compute_vectors(example_hailstones, time_in_ns=1)\n",
    "example_vectors"
   ]
  },
  {
   "cell_type": "code",
   "execution_count": 459,
   "metadata": {},
   "outputs": [],
   "source": [
    "def show_links(\n",
    "    lines_df: pd.DataFrame,\n",
    "    *,\n",
    "    rock_df: pd.DataFrame | None = None,\n",
    "    width=400,\n",
    "    strokeWidth=2,\n",
    "    x_domain_test_area=(7, 27),\n",
    "    y_domain_test_area=(7, 27),\n",
    "    do_highlight_text=False,\n",
    "):\n",
    "    # lines_df : DataFrame with columns x1\ty1\tx2\ty2\n",
    "    marks = [\n",
    "        Plot.link(\n",
    "            lines_df,\n",
    "            dict(\n",
    "                x1=lines_df[\"x1\"].to_list(),\n",
    "                y1=lines_df[\"y1\"].to_list(),\n",
    "                x2=lines_df[\"x2\"].to_list(),\n",
    "                y2=lines_df[\"y2\"].to_list(),\n",
    "                markerEnd=\"arrow\",\n",
    "                strokeOpacity=1,\n",
    "                curve=\"linear\",\n",
    "                strokeWidth=strokeWidth,\n",
    "                stroke=lines_df[\"time_in_ns\"].to_list(),\n",
    "            ),\n",
    "        ),\n",
    "        Plot.rect(\n",
    "            pd.DataFrame.from_records(\n",
    "                {\n",
    "                    \"x1\": [x_domain_test_area[0]],\n",
    "                    \"x2\": [x_domain_test_area[1]],\n",
    "                    \"y1\": [y_domain_test_area[0]],\n",
    "                    \"y2\": [y_domain_test_area[1]],\n",
    "                }\n",
    "            ),\n",
    "            {\n",
    "                \"x1\": \"x1\",\n",
    "                \"y1\": \"y1\",\n",
    "                \"x2\": \"x2\",\n",
    "                \"y2\": \"y2\",\n",
    "                \"stroke\": \"currentColor\",\n",
    "            },\n",
    "        ),\n",
    "        Plot.text(\n",
    "            lines_df,\n",
    "            {\n",
    "                \"x\": lines_df[\"x2\"].to_list(),\n",
    "                \"y\": lines_df[\"y2\"].to_list(),\n",
    "                \"text\": lines_df[\"time_in_ns\"].to_list(),\n",
    "                \"fill\": \"currentColor\",\n",
    "                \"stroke\": \"black\",\n",
    "                \"dy\": -12,\n",
    "                \"filter\": \"highlight\" if do_highlight_text else None,\n",
    "            },\n",
    "        ),\n",
    "    ]\n",
    "\n",
    "    if rock_df is not None:\n",
    "        strokeDasharray = \"3\"\n",
    "\n",
    "        marks.append(\n",
    "            Plot.link(\n",
    "                rock_df,\n",
    "                dict(\n",
    "                    x1=rock_df[\"x1\"].to_list(),\n",
    "                    y1=rock_df[\"y1\"].to_list(),\n",
    "                    x2=rock_df[\"x2\"].to_list(),\n",
    "                    y2=rock_df[\"y2\"].to_list(),\n",
    "                    markerEnd=\"arrow\",\n",
    "                    strokeOpacity=1,\n",
    "                    curve=\"linear\",\n",
    "                    strokeWidth=2,\n",
    "                    strokeDasharray=strokeDasharray,\n",
    "                    # stroke=rock_df[\"time_in_ns\"].to_list(),\n",
    "                    stroke=\"red\",\n",
    "                ),\n",
    "            ),\n",
    "        )\n",
    "\n",
    "    scheme = \"Observable10\"\n",
    "    return op(  # type: ignore\n",
    "        dict(\n",
    "            grid=True,\n",
    "            x=dict(\n",
    "                label=\"x\",\n",
    "                tickFormat=\".0s\",\n",
    "                nice=True,\n",
    "                # domain=list(x_domain),\n",
    "            ),\n",
    "            y=dict(\n",
    "                label=\"y\",\n",
    "                tickFormat=\".0s\",\n",
    "                nice=True,\n",
    "                # domain=list(y_domain),\n",
    "            ),\n",
    "            color={\"type\": \"categorical\", \"scheme\": scheme},\n",
    "            marks=marks,\n",
    "            aspectRatio=1,\n",
    "            width=width,\n",
    "        )\n",
    "    )"
   ]
  },
  {
   "cell_type": "markdown",
   "metadata": {},
   "source": [
    "The first diagram shows the position vectors, relative to their initial position, as defined in the example input.\n",
    "Their direction is indicated by the arrow symbol.\n",
    "A small floating text indicates the time for which the position was computed; $t=1$ in this first plot.\n",
    "\n",
    "The test area, defined by $x = [7, 27]$ and $y = [7, 27]$ is materialized by a white box.\n"
   ]
  },
  {
   "cell_type": "code",
   "execution_count": 460,
   "metadata": {},
   "outputs": [
    {
     "data": {
      "image/svg+xml": [
       "<svg xmlns=\"http://www.w3.org/2000/svg\" xmlns:xlink=\"http://www.w3.org/1999/xlink\" class=\"plot-d6a7b5\" fill=\"currentColor\" font-family=\"system-ui, sans-serif\" font-size=\"10\" text-anchor=\"middle\" width=\"400\" height=\"451.8181818181818\" viewBox=\"0 0 400 451.8181818181818\" style=\"color: white; background-color: black;\"><style>:where(.plot-d6a7b5) {\n",
       "  --plot-background: white;\n",
       "  display: block;\n",
       "  height: auto;\n",
       "  height: intrinsic;\n",
       "  max-width: 100%;\n",
       "}\n",
       ":where(.plot-d6a7b5 text),\n",
       ":where(.plot-d6a7b5 tspan) {\n",
       "  white-space: pre;\n",
       "}</style><g aria-label=\"y-grid\" aria-hidden=\"true\" stroke=\"currentColor\" stroke-opacity=\"0.1\"><line x1=\"40\" x2=\"380\" y1=\"421.8181818181818\" y2=\"421.8181818181818\"/><line x1=\"40\" x2=\"380\" y1=\"390.90909090909093\" y2=\"390.90909090909093\"/><line x1=\"40\" x2=\"380\" y1=\"360\" y2=\"360\"/><line x1=\"40\" x2=\"380\" y1=\"329.09090909090907\" y2=\"329.09090909090907\"/><line x1=\"40\" x2=\"380\" y1=\"298.18181818181813\" y2=\"298.18181818181813\"/><line x1=\"40\" x2=\"380\" y1=\"267.27272727272725\" y2=\"267.27272727272725\"/><line x1=\"40\" x2=\"380\" y1=\"236.36363636363635\" y2=\"236.36363636363635\"/><line x1=\"40\" x2=\"380\" y1=\"205.45454545454547\" y2=\"205.45454545454547\"/><line x1=\"40\" x2=\"380\" y1=\"174.54545454545453\" y2=\"174.54545454545453\"/><line x1=\"40\" x2=\"380\" y1=\"143.63636363636363\" y2=\"143.63636363636363\"/><line x1=\"40\" x2=\"380\" y1=\"112.7272727272727\" y2=\"112.7272727272727\"/><line x1=\"40\" x2=\"380\" y1=\"81.81818181818181\" y2=\"81.81818181818181\"/><line x1=\"40\" x2=\"380\" y1=\"50.90909090909089\" y2=\"50.90909090909089\"/><line x1=\"40\" x2=\"380\" y1=\"20\" y2=\"20\"/></g><g aria-label=\"y-axis tick\" aria-hidden=\"true\" fill=\"none\" stroke=\"currentColor\"><path transform=\"translate(40,421.8181818181818)\" d=\"M0,0L-6,0\"/><path transform=\"translate(40,390.90909090909093)\" d=\"M0,0L-6,0\"/><path transform=\"translate(40,360)\" d=\"M0,0L-6,0\"/><path transform=\"translate(40,329.09090909090907)\" d=\"M0,0L-6,0\"/><path transform=\"translate(40,298.18181818181813)\" d=\"M0,0L-6,0\"/><path transform=\"translate(40,267.27272727272725)\" d=\"M0,0L-6,0\"/><path transform=\"translate(40,236.36363636363635)\" d=\"M0,0L-6,0\"/><path transform=\"translate(40,205.45454545454547)\" d=\"M0,0L-6,0\"/><path transform=\"translate(40,174.54545454545453)\" d=\"M0,0L-6,0\"/><path transform=\"translate(40,143.63636363636363)\" d=\"M0,0L-6,0\"/><path transform=\"translate(40,112.7272727272727)\" d=\"M0,0L-6,0\"/><path transform=\"translate(40,81.81818181818181)\" d=\"M0,0L-6,0\"/><path transform=\"translate(40,50.90909090909089)\" d=\"M0,0L-6,0\"/><path transform=\"translate(40,20)\" d=\"M0,0L-6,0\"/></g><g aria-label=\"y-axis tick label\" text-anchor=\"end\" font-variant=\"tabular-nums\" transform=\"translate(-9,0)\"><text y=\"0.32em\" transform=\"translate(40,421.8181818181818)\">6</text><text y=\"0.32em\" transform=\"translate(40,390.90909090909093)\">8</text><text y=\"0.32em\" transform=\"translate(40,360)\">10</text><text y=\"0.32em\" transform=\"translate(40,329.09090909090907)\">12</text><text y=\"0.32em\" transform=\"translate(40,298.18181818181813)\">14</text><text y=\"0.32em\" transform=\"translate(40,267.27272727272725)\">16</text><text y=\"0.32em\" transform=\"translate(40,236.36363636363635)\">18</text><text y=\"0.32em\" transform=\"translate(40,205.45454545454547)\">20</text><text y=\"0.32em\" transform=\"translate(40,174.54545454545453)\">22</text><text y=\"0.32em\" transform=\"translate(40,143.63636363636363)\">24</text><text y=\"0.32em\" transform=\"translate(40,112.7272727272727)\">26</text><text y=\"0.32em\" transform=\"translate(40,81.81818181818181)\">28</text><text y=\"0.32em\" transform=\"translate(40,50.90909090909089)\">30</text><text y=\"0.32em\" transform=\"translate(40,20)\">32</text></g><g aria-label=\"y-axis label\" text-anchor=\"start\" transform=\"translate(-37,-17)\"><text y=\"0.71em\" transform=\"translate(40,20)\">↑ y</text></g><g aria-label=\"x-grid\" aria-hidden=\"true\" stroke=\"currentColor\" stroke-opacity=\"0.1\"><line x1=\"101.81818181818181\" x2=\"101.81818181818181\" y1=\"20\" y2=\"421.8181818181818\"/><line x1=\"179.0909090909091\" x2=\"179.0909090909091\" y1=\"20\" y2=\"421.8181818181818\"/><line x1=\"256.3636363636364\" x2=\"256.3636363636364\" y1=\"20\" y2=\"421.8181818181818\"/><line x1=\"333.6363636363636\" x2=\"333.6363636363636\" y1=\"20\" y2=\"421.8181818181818\"/></g><g aria-label=\"x-axis tick\" aria-hidden=\"true\" fill=\"none\" stroke=\"currentColor\"><path transform=\"translate(101.81818181818181,421.8181818181818)\" d=\"M0,0L0,6\"/><path transform=\"translate(179.0909090909091,421.8181818181818)\" d=\"M0,0L0,6\"/><path transform=\"translate(256.3636363636364,421.8181818181818)\" d=\"M0,0L0,6\"/><path transform=\"translate(333.6363636363636,421.8181818181818)\" d=\"M0,0L0,6\"/></g><g aria-label=\"x-axis tick label\" font-variant=\"tabular-nums\" transform=\"translate(0,9)\"><text y=\"0.71em\" transform=\"translate(101.81818181818181,421.8181818181818)\">10</text><text y=\"0.71em\" transform=\"translate(179.0909090909091,421.8181818181818)\">15</text><text y=\"0.71em\" transform=\"translate(256.3636363636364,421.8181818181818)\">20</text><text y=\"0.71em\" transform=\"translate(333.6363636363636,421.8181818181818)\">25</text></g><g aria-label=\"x-axis label\" text-anchor=\"end\" transform=\"translate(17,27)\"><text transform=\"translate(380,421.8181818181818)\">x →</text></g><g aria-label=\"link\" fill=\"none\" stroke-width=\"2\" stroke-miterlimit=\"1\"><marker viewBox=\"-5 -5 10 10\" markerWidth=\"6.67\" markerHeight=\"6.67\" orient=\"auto\" fill=\"none\" stroke=\"#4269d0\" stroke-width=\"1.5\" stroke-linecap=\"round\" stroke-linejoin=\"round\" id=\"plot-marker-1\"><path d=\"M-1.5,-3l3,3l-3,3\"/></marker><path d=\"M240.909,313.636L210,298.182\" stroke=\"#4269d0\" marker-end=\"url(#plot-marker-1)\"/><path d=\"M225.455,220.909L210,236.364\" stroke=\"#4269d0\" marker-end=\"url(#plot-marker-1)\"/><path d=\"M256.364,128.182L225.455,159.091\" stroke=\"#4269d0\" marker-end=\"url(#plot-marker-1)\"/><path d=\"M132.727,35.455L117.273,66.364\" stroke=\"#4269d0\" marker-end=\"url(#plot-marker-1)\"/><path d=\"M256.364,220.909L271.818,298.182\" stroke=\"#4269d0\" marker-end=\"url(#plot-marker-1)\"/></g><g aria-label=\"rect\" fill=\"none\" stroke=\"currentColor\"><rect x=\"55.45454545454546\" y=\"97.27272727272725\" width=\"309.0909090909091\" height=\"309.0909090909091\"/></g><g aria-label=\"text\" stroke=\"black\" stroke-width=\"3\" stroke-linejoin=\"round\" paint-order=\"stroke\" font-variant=\"tabular-nums\" transform=\"translate(0,-12)\"><text y=\"0.32em\" transform=\"translate(210,298.18181818181813)\">1</text><text y=\"0.32em\" transform=\"translate(210,236.36363636363635)\">1</text><text y=\"0.32em\" transform=\"translate(225.45454545454544,159.09090909090907)\">1</text><text y=\"0.32em\" transform=\"translate(117.27272727272727,66.36363636363637)\">1</text><text y=\"0.32em\" transform=\"translate(271.8181818181818,298.18181818181813)\">1</text></g></svg>"
      ],
      "text/plain": [
       "<IPython.core.display.SVG object>"
      ]
     },
     "metadata": {},
     "output_type": "display_data"
    }
   ],
   "source": [
    "show_links(compute_vectors(example_hailstones, time_in_ns=1))"
   ]
  },
  {
   "cell_type": "markdown",
   "metadata": {},
   "source": [
    "In the next plot, the successive relative position vectors are shown for $t=1, t=10, t=30$\n"
   ]
  },
  {
   "cell_type": "code",
   "execution_count": 461,
   "metadata": {},
   "outputs": [
    {
     "data": {
      "image/svg+xml": [
       "<svg xmlns=\"http://www.w3.org/2000/svg\" xmlns:xlink=\"http://www.w3.org/1999/xlink\" class=\"plot-d6a7b5\" fill=\"currentColor\" font-family=\"system-ui, sans-serif\" font-size=\"10\" text-anchor=\"middle\" width=\"400\" height=\"730\" viewBox=\"0 0 400 730\" style=\"color: white; background-color: black;\"><style>:where(.plot-d6a7b5) {\n",
       "  --plot-background: white;\n",
       "  display: block;\n",
       "  height: auto;\n",
       "  height: intrinsic;\n",
       "  max-width: 100%;\n",
       "}\n",
       ":where(.plot-d6a7b5 text),\n",
       ":where(.plot-d6a7b5 tspan) {\n",
       "  white-space: pre;\n",
       "}</style><g aria-label=\"y-grid\" aria-hidden=\"true\" stroke=\"currentColor\" stroke-opacity=\"0.1\"><line x1=\"40\" x2=\"380\" y1=\"700\" y2=\"700\"/><line x1=\"40\" x2=\"380\" y1=\"651.4285714285714\" y2=\"651.4285714285714\"/><line x1=\"40\" x2=\"380\" y1=\"602.8571428571429\" y2=\"602.8571428571429\"/><line x1=\"40\" x2=\"380\" y1=\"554.2857142857143\" y2=\"554.2857142857143\"/><line x1=\"40\" x2=\"380\" y1=\"505.7142857142857\" y2=\"505.7142857142857\"/><line x1=\"40\" x2=\"380\" y1=\"457.1428571428571\" y2=\"457.1428571428571\"/><line x1=\"40\" x2=\"380\" y1=\"408.57142857142856\" y2=\"408.57142857142856\"/><line x1=\"40\" x2=\"380\" y1=\"360\" y2=\"360\"/><line x1=\"40\" x2=\"380\" y1=\"311.42857142857144\" y2=\"311.42857142857144\"/><line x1=\"40\" x2=\"380\" y1=\"262.85714285714283\" y2=\"262.85714285714283\"/><line x1=\"40\" x2=\"380\" y1=\"214.28571428571428\" y2=\"214.28571428571428\"/><line x1=\"40\" x2=\"380\" y1=\"165.71428571428572\" y2=\"165.71428571428572\"/><line x1=\"40\" x2=\"380\" y1=\"117.14285714285717\" y2=\"117.14285714285717\"/><line x1=\"40\" x2=\"380\" y1=\"68.57142857142856\" y2=\"68.57142857142856\"/><line x1=\"40\" x2=\"380\" y1=\"20\" y2=\"20\"/></g><g aria-label=\"y-axis tick\" aria-hidden=\"true\" fill=\"none\" stroke=\"currentColor\"><path transform=\"translate(40,700)\" d=\"M0,0L-6,0\"/><path transform=\"translate(40,651.4285714285714)\" d=\"M0,0L-6,0\"/><path transform=\"translate(40,602.8571428571429)\" d=\"M0,0L-6,0\"/><path transform=\"translate(40,554.2857142857143)\" d=\"M0,0L-6,0\"/><path transform=\"translate(40,505.7142857142857)\" d=\"M0,0L-6,0\"/><path transform=\"translate(40,457.1428571428571)\" d=\"M0,0L-6,0\"/><path transform=\"translate(40,408.57142857142856)\" d=\"M0,0L-6,0\"/><path transform=\"translate(40,360)\" d=\"M0,0L-6,0\"/><path transform=\"translate(40,311.42857142857144)\" d=\"M0,0L-6,0\"/><path transform=\"translate(40,262.85714285714283)\" d=\"M0,0L-6,0\"/><path transform=\"translate(40,214.28571428571428)\" d=\"M0,0L-6,0\"/><path transform=\"translate(40,165.71428571428572)\" d=\"M0,0L-6,0\"/><path transform=\"translate(40,117.14285714285717)\" d=\"M0,0L-6,0\"/><path transform=\"translate(40,68.57142857142856)\" d=\"M0,0L-6,0\"/><path transform=\"translate(40,20)\" d=\"M0,0L-6,0\"/></g><g aria-label=\"y-axis tick label\" text-anchor=\"end\" font-variant=\"tabular-nums\" transform=\"translate(-9,0)\"><text y=\"0.32em\" transform=\"translate(40,700)\">−35</text><text y=\"0.32em\" transform=\"translate(40,651.4285714285714)\">−30</text><text y=\"0.32em\" transform=\"translate(40,602.8571428571429)\">−25</text><text y=\"0.32em\" transform=\"translate(40,554.2857142857143)\">−20</text><text y=\"0.32em\" transform=\"translate(40,505.7142857142857)\">−15</text><text y=\"0.32em\" transform=\"translate(40,457.1428571428571)\">−10</text><text y=\"0.32em\" transform=\"translate(40,408.57142857142856)\">−5</text><text y=\"0.32em\" transform=\"translate(40,360)\">0</text><text y=\"0.32em\" transform=\"translate(40,311.42857142857144)\">5</text><text y=\"0.32em\" transform=\"translate(40,262.85714285714283)\">10</text><text y=\"0.32em\" transform=\"translate(40,214.28571428571428)\">15</text><text y=\"0.32em\" transform=\"translate(40,165.71428571428572)\">20</text><text y=\"0.32em\" transform=\"translate(40,117.14285714285717)\">25</text><text y=\"0.32em\" transform=\"translate(40,68.57142857142856)\">30</text><text y=\"0.32em\" transform=\"translate(40,20)\">35</text></g><g aria-label=\"y-axis label\" text-anchor=\"start\" transform=\"translate(-37,-17)\"><text y=\"0.71em\" transform=\"translate(40,20)\">↑ y</text></g><g aria-label=\"x-grid\" aria-hidden=\"true\" stroke=\"currentColor\" stroke-opacity=\"0.1\"><line x1=\"88.57142857142858\" x2=\"88.57142857142858\" y1=\"20\" y2=\"700\"/><line x1=\"185.71428571428572\" x2=\"185.71428571428572\" y1=\"20\" y2=\"700\"/><line x1=\"282.8571428571429\" x2=\"282.8571428571429\" y1=\"20\" y2=\"700\"/><line x1=\"380\" x2=\"380\" y1=\"20\" y2=\"700\"/></g><g aria-label=\"x-axis tick\" aria-hidden=\"true\" fill=\"none\" stroke=\"currentColor\"><path transform=\"translate(88.57142857142858,700)\" d=\"M0,0L0,6\"/><path transform=\"translate(185.71428571428572,700)\" d=\"M0,0L0,6\"/><path transform=\"translate(282.8571428571429,700)\" d=\"M0,0L0,6\"/><path transform=\"translate(380,700)\" d=\"M0,0L0,6\"/></g><g aria-label=\"x-axis tick label\" font-variant=\"tabular-nums\" transform=\"translate(0,9)\"><text y=\"0.71em\" transform=\"translate(88.57142857142858,700)\">0</text><text y=\"0.71em\" transform=\"translate(185.71428571428572,700)\">10</text><text y=\"0.71em\" transform=\"translate(282.8571428571429,700)\">20</text><text y=\"0.71em\" transform=\"translate(380,700)\">30</text></g><g aria-label=\"x-axis label\" text-anchor=\"end\" transform=\"translate(17,27)\"><text transform=\"translate(380,700)\">x →</text></g><g aria-label=\"link\" fill=\"none\" stroke-miterlimit=\"1\"><marker viewBox=\"-5 -5 10 10\" markerWidth=\"6.67\" markerHeight=\"6.67\" orient=\"auto\" fill=\"none\" stroke=\"#efb118\" stroke-width=\"1.5\" stroke-linecap=\"round\" stroke-linejoin=\"round\" id=\"plot-marker-2\"><path d=\"M-1.5,-3l3,3l-3,3\"/></marker><path d=\"M273.143,233.714L78.857,136.571\" stroke=\"#efb118\" marker-end=\"url(#plot-marker-2)\"/><path d=\"M263.429,175.429L166.286,272.571\" stroke=\"#efb118\" marker-end=\"url(#plot-marker-2)\"/><path d=\"M282.857,117.143L88.571,311.429\" stroke=\"#efb118\" marker-end=\"url(#plot-marker-2)\"/><path d=\"M205.143,58.857L108,253.143\" stroke=\"#efb118\" marker-end=\"url(#plot-marker-2)\"/><path d=\"M282.857,175.429L380,661.143\" stroke=\"#efb118\" marker-end=\"url(#plot-marker-2)\"/><marker viewBox=\"-5 -5 10 10\" markerWidth=\"6.67\" markerHeight=\"6.67\" orient=\"auto\" fill=\"none\" stroke=\"#4269d0\" stroke-width=\"1.5\" stroke-linecap=\"round\" stroke-linejoin=\"round\" id=\"plot-marker-3\"><path d=\"M-1.5,-3l3,3l-3,3\"/></marker><path d=\"M273.143,233.714L253.714,224\" stroke=\"#4269d0\" marker-end=\"url(#plot-marker-3)\"/><path d=\"M263.429,175.429L253.714,185.143\" stroke=\"#4269d0\" marker-end=\"url(#plot-marker-3)\"/><path d=\"M282.857,117.143L263.429,136.571\" stroke=\"#4269d0\" marker-end=\"url(#plot-marker-3)\"/><path d=\"M205.143,58.857L195.429,78.286\" stroke=\"#4269d0\" marker-end=\"url(#plot-marker-3)\"/><path d=\"M282.857,175.429L292.571,224\" stroke=\"#4269d0\" marker-end=\"url(#plot-marker-3)\"/></g><g aria-label=\"rect\" fill=\"none\" stroke=\"currentColor\"><rect x=\"156.57142857142856\" y=\"97.71428571428575\" width=\"194.28571428571433\" height=\"194.28571428571425\"/></g><g aria-label=\"text\" stroke=\"black\" stroke-width=\"3\" stroke-linejoin=\"round\" paint-order=\"stroke\" font-variant=\"tabular-nums\" transform=\"translate(0,-12)\"><text y=\"0.32em\" transform=\"translate(78.85714285714286,136.57142857142853)\">10</text><text y=\"0.32em\" transform=\"translate(166.28571428571428,272.57142857142856)\">10</text><text y=\"0.32em\" transform=\"translate(88.57142857142858,311.42857142857144)\">10</text><text y=\"0.32em\" transform=\"translate(108,253.14285714285714)\">10</text><text y=\"0.32em\" transform=\"translate(380,661.1428571428571)\">10</text><text y=\"0.32em\" transform=\"translate(253.71428571428572,224.00000000000003)\">1</text><text y=\"0.32em\" transform=\"translate(253.71428571428572,185.14285714285717)\">1</text><text y=\"0.32em\" transform=\"translate(263.42857142857144,136.57142857142853)\">1</text><text y=\"0.32em\" transform=\"translate(195.42857142857144,78.2857142857143)\">1</text><text y=\"0.32em\" transform=\"translate(292.57142857142856,224.00000000000003)\">1</text></g></svg>"
      ],
      "text/plain": [
       "<IPython.core.display.SVG object>"
      ]
     },
     "metadata": {},
     "output_type": "display_data"
    }
   ],
   "source": [
    "show_links(\n",
    "    pd.concat([compute_vectors(example_hailstones, time_in_ns=t) for t in [10, 1]]),\n",
    "    strokeWidth=1,\n",
    ")"
   ]
  },
  {
   "cell_type": "markdown",
   "metadata": {},
   "source": [
    "We can visually assess that 2 hailstones' future paths cross inside the boundary of the test area, as mentioned in the problem input.\n"
   ]
  },
  {
   "cell_type": "code",
   "execution_count": 462,
   "metadata": {},
   "outputs": [
    {
     "data": {
      "image/svg+xml": [
       "<svg xmlns=\"http://www.w3.org/2000/svg\" xmlns:xlink=\"http://www.w3.org/1999/xlink\" class=\"plot-d6a7b5\" fill=\"currentColor\" font-family=\"system-ui, sans-serif\" font-size=\"10\" text-anchor=\"middle\" width=\"400\" height=\"730\" viewBox=\"0 0 400 730\" style=\"color: white; background-color: black;\"><style>:where(.plot-d6a7b5) {\n",
       "  --plot-background: white;\n",
       "  display: block;\n",
       "  height: auto;\n",
       "  height: intrinsic;\n",
       "  max-width: 100%;\n",
       "}\n",
       ":where(.plot-d6a7b5 text),\n",
       ":where(.plot-d6a7b5 tspan) {\n",
       "  white-space: pre;\n",
       "}</style><g aria-label=\"y-grid\" aria-hidden=\"true\" stroke=\"currentColor\" stroke-opacity=\"0.1\"><line x1=\"40\" x2=\"380\" y1=\"700\" y2=\"700\"/><line x1=\"40\" x2=\"380\" y1=\"666\" y2=\"666\"/><line x1=\"40\" x2=\"380\" y1=\"632\" y2=\"632\"/><line x1=\"40\" x2=\"380\" y1=\"598\" y2=\"598\"/><line x1=\"40\" x2=\"380\" y1=\"564\" y2=\"564\"/><line x1=\"40\" x2=\"380\" y1=\"530\" y2=\"530\"/><line x1=\"40\" x2=\"380\" y1=\"495.99999999999994\" y2=\"495.99999999999994\"/><line x1=\"40\" x2=\"380\" y1=\"462\" y2=\"462\"/><line x1=\"40\" x2=\"380\" y1=\"428\" y2=\"428\"/><line x1=\"40\" x2=\"380\" y1=\"394.00000000000006\" y2=\"394.00000000000006\"/><line x1=\"40\" x2=\"380\" y1=\"360\" y2=\"360\"/><line x1=\"40\" x2=\"380\" y1=\"325.99999999999994\" y2=\"325.99999999999994\"/><line x1=\"40\" x2=\"380\" y1=\"292\" y2=\"292\"/><line x1=\"40\" x2=\"380\" y1=\"258\" y2=\"258\"/><line x1=\"40\" x2=\"380\" y1=\"224.00000000000003\" y2=\"224.00000000000003\"/><line x1=\"40\" x2=\"380\" y1=\"190\" y2=\"190\"/><line x1=\"40\" x2=\"380\" y1=\"155.99999999999997\" y2=\"155.99999999999997\"/><line x1=\"40\" x2=\"380\" y1=\"122.00000000000001\" y2=\"122.00000000000001\"/><line x1=\"40\" x2=\"380\" y1=\"87.99999999999999\" y2=\"87.99999999999999\"/><line x1=\"40\" x2=\"380\" y1=\"54.00000000000003\" y2=\"54.00000000000003\"/><line x1=\"40\" x2=\"380\" y1=\"20\" y2=\"20\"/></g><g aria-label=\"y-axis tick\" aria-hidden=\"true\" fill=\"none\" stroke=\"currentColor\"><path transform=\"translate(40,700)\" d=\"M0,0L-6,0\"/><path transform=\"translate(40,666)\" d=\"M0,0L-6,0\"/><path transform=\"translate(40,632)\" d=\"M0,0L-6,0\"/><path transform=\"translate(40,598)\" d=\"M0,0L-6,0\"/><path transform=\"translate(40,564)\" d=\"M0,0L-6,0\"/><path transform=\"translate(40,530)\" d=\"M0,0L-6,0\"/><path transform=\"translate(40,495.99999999999994)\" d=\"M0,0L-6,0\"/><path transform=\"translate(40,462)\" d=\"M0,0L-6,0\"/><path transform=\"translate(40,428)\" d=\"M0,0L-6,0\"/><path transform=\"translate(40,394.00000000000006)\" d=\"M0,0L-6,0\"/><path transform=\"translate(40,360)\" d=\"M0,0L-6,0\"/><path transform=\"translate(40,325.99999999999994)\" d=\"M0,0L-6,0\"/><path transform=\"translate(40,292)\" d=\"M0,0L-6,0\"/><path transform=\"translate(40,258)\" d=\"M0,0L-6,0\"/><path transform=\"translate(40,224.00000000000003)\" d=\"M0,0L-6,0\"/><path transform=\"translate(40,190)\" d=\"M0,0L-6,0\"/><path transform=\"translate(40,155.99999999999997)\" d=\"M0,0L-6,0\"/><path transform=\"translate(40,122.00000000000001)\" d=\"M0,0L-6,0\"/><path transform=\"translate(40,87.99999999999999)\" d=\"M0,0L-6,0\"/><path transform=\"translate(40,54.00000000000003)\" d=\"M0,0L-6,0\"/><path transform=\"translate(40,20)\" d=\"M0,0L-6,0\"/></g><g aria-label=\"y-axis tick label\" text-anchor=\"end\" font-variant=\"tabular-nums\" transform=\"translate(-9,0)\"><text y=\"0.32em\" transform=\"translate(40,700)\">−140</text><text y=\"0.32em\" transform=\"translate(40,666)\">−130</text><text y=\"0.32em\" transform=\"translate(40,632)\">−120</text><text y=\"0.32em\" transform=\"translate(40,598)\">−110</text><text y=\"0.32em\" transform=\"translate(40,564)\">−100</text><text y=\"0.32em\" transform=\"translate(40,530)\">−90</text><text y=\"0.32em\" transform=\"translate(40,495.99999999999994)\">−80</text><text y=\"0.32em\" transform=\"translate(40,462)\">−70</text><text y=\"0.32em\" transform=\"translate(40,428)\">−60</text><text y=\"0.32em\" transform=\"translate(40,394.00000000000006)\">−50</text><text y=\"0.32em\" transform=\"translate(40,360)\">−40</text><text y=\"0.32em\" transform=\"translate(40,325.99999999999994)\">−30</text><text y=\"0.32em\" transform=\"translate(40,292)\">−20</text><text y=\"0.32em\" transform=\"translate(40,258)\">−10</text><text y=\"0.32em\" transform=\"translate(40,224.00000000000003)\">0</text><text y=\"0.32em\" transform=\"translate(40,190)\">10</text><text y=\"0.32em\" transform=\"translate(40,155.99999999999997)\">20</text><text y=\"0.32em\" transform=\"translate(40,122.00000000000001)\">30</text><text y=\"0.32em\" transform=\"translate(40,87.99999999999999)\">40</text><text y=\"0.32em\" transform=\"translate(40,54.00000000000003)\">50</text><text y=\"0.32em\" transform=\"translate(40,20)\">60</text></g><g aria-label=\"y-axis label\" text-anchor=\"start\" transform=\"translate(-37,-17)\"><text y=\"0.71em\" transform=\"translate(40,20)\">↑ y</text></g><g aria-label=\"x-grid\" aria-hidden=\"true\" stroke=\"currentColor\" stroke-opacity=\"0.1\"><line x1=\"74\" x2=\"74\" y1=\"20\" y2=\"700\"/><line x1=\"142\" x2=\"142\" y1=\"20\" y2=\"700\"/><line x1=\"210\" x2=\"210\" y1=\"20\" y2=\"700\"/><line x1=\"278\" x2=\"278\" y1=\"20\" y2=\"700\"/><line x1=\"346\" x2=\"346\" y1=\"20\" y2=\"700\"/></g><g aria-label=\"x-axis tick\" aria-hidden=\"true\" fill=\"none\" stroke=\"currentColor\"><path transform=\"translate(74,700)\" d=\"M0,0L0,6\"/><path transform=\"translate(142,700)\" d=\"M0,0L0,6\"/><path transform=\"translate(210,700)\" d=\"M0,0L0,6\"/><path transform=\"translate(278,700)\" d=\"M0,0L0,6\"/><path transform=\"translate(346,700)\" d=\"M0,0L0,6\"/></g><g aria-label=\"x-axis tick label\" font-variant=\"tabular-nums\" transform=\"translate(0,9)\"><text y=\"0.71em\" transform=\"translate(74,700)\">−40</text><text y=\"0.71em\" transform=\"translate(142,700)\">−20</text><text y=\"0.71em\" transform=\"translate(210,700)\">0</text><text y=\"0.71em\" transform=\"translate(278,700)\">20</text><text y=\"0.71em\" transform=\"translate(346,700)\">40</text></g><g aria-label=\"x-axis label\" text-anchor=\"end\" transform=\"translate(17,27)\"><text transform=\"translate(380,700)\">x →</text></g><g aria-label=\"link\" fill=\"none\" stroke-miterlimit=\"1\"><marker viewBox=\"-5 -5 10 10\" markerWidth=\"6.67\" markerHeight=\"6.67\" orient=\"auto\" fill=\"none\" stroke=\"#ff725c\" stroke-width=\"1.5\" stroke-linecap=\"round\" stroke-linejoin=\"round\" id=\"plot-marker-4\"><path d=\"M-1.5,-3l3,3l-3,3\"/></marker><path d=\"M274.6,179.8L70.6,77.8\" stroke=\"#ff725c\" marker-end=\"url(#plot-marker-4)\"/><path d=\"M271.2,159.4L169.2,261.4\" stroke=\"#ff725c\" marker-end=\"url(#plot-marker-4)\"/><path d=\"M278,139L74,343\" stroke=\"#ff725c\" marker-end=\"url(#plot-marker-4)\"/><path d=\"M250.8,118.6L148.8,322.6\" stroke=\"#ff725c\" marker-end=\"url(#plot-marker-4)\"/><path d=\"M278,159.4L380,669.4\" stroke=\"#ff725c\" marker-end=\"url(#plot-marker-4)\"/><marker viewBox=\"-5 -5 10 10\" markerWidth=\"6.67\" markerHeight=\"6.67\" orient=\"auto\" fill=\"none\" stroke=\"#efb118\" stroke-width=\"1.5\" stroke-linecap=\"round\" stroke-linejoin=\"round\" id=\"plot-marker-5\"><path d=\"M-1.5,-3l3,3l-3,3\"/></marker><path d=\"M274.6,179.8L206.6,145.8\" stroke=\"#efb118\" marker-end=\"url(#plot-marker-5)\"/><path d=\"M271.2,159.4L237.2,193.4\" stroke=\"#efb118\" marker-end=\"url(#plot-marker-5)\"/><path d=\"M278,139L210,207\" stroke=\"#efb118\" marker-end=\"url(#plot-marker-5)\"/><path d=\"M250.8,118.6L216.8,186.6\" stroke=\"#efb118\" marker-end=\"url(#plot-marker-5)\"/><path d=\"M278,159.4L312,329.4\" stroke=\"#efb118\" marker-end=\"url(#plot-marker-5)\"/><marker viewBox=\"-5 -5 10 10\" markerWidth=\"6.67\" markerHeight=\"6.67\" orient=\"auto\" fill=\"none\" stroke=\"#4269d0\" stroke-width=\"1.5\" stroke-linecap=\"round\" stroke-linejoin=\"round\" id=\"plot-marker-6\"><path d=\"M-1.5,-3l3,3l-3,3\"/></marker><path d=\"M274.6,179.8L267.8,176.4\" stroke=\"#4269d0\" marker-end=\"url(#plot-marker-6)\"/><path d=\"M271.2,159.4L267.8,162.8\" stroke=\"#4269d0\" marker-end=\"url(#plot-marker-6)\"/><path d=\"M278,139L271.2,145.8\" stroke=\"#4269d0\" marker-end=\"url(#plot-marker-6)\"/><path d=\"M250.8,118.6L247.4,125.4\" stroke=\"#4269d0\" marker-end=\"url(#plot-marker-6)\"/><path d=\"M278,159.4L281.4,176.4\" stroke=\"#4269d0\" marker-end=\"url(#plot-marker-6)\"/></g><g aria-label=\"rect\" fill=\"none\" stroke=\"currentColor\"><rect x=\"233.8\" y=\"132.20000000000002\" width=\"68\" height=\"67.99999999999997\"/></g><g aria-label=\"text\" stroke=\"black\" stroke-width=\"3\" stroke-linejoin=\"round\" paint-order=\"stroke\" font-variant=\"tabular-nums\" transform=\"translate(0,-12)\"><text y=\"0.32em\" transform=\"translate(70.6,77.79999999999997)\">30</text><text y=\"0.32em\" transform=\"translate(169.20000000000002,261.4)\">30</text><text y=\"0.32em\" transform=\"translate(74,343)\">30</text><text y=\"0.32em\" transform=\"translate(148.8,322.59999999999997)\">30</text><text y=\"0.32em\" transform=\"translate(380,669.4)\">30</text><text y=\"0.32em\" transform=\"translate(206.6,145.8)\">10</text><text y=\"0.32em\" transform=\"translate(237.2,193.4)\">10</text><text y=\"0.32em\" transform=\"translate(210,207.00000000000003)\">10</text><text y=\"0.32em\" transform=\"translate(216.79999999999998,186.6)\">10</text><text y=\"0.32em\" transform=\"translate(312,329.4)\">10</text><text y=\"0.32em\" transform=\"translate(267.8,176.4)\">1</text><text y=\"0.32em\" transform=\"translate(267.8,162.79999999999998)\">1</text><text y=\"0.32em\" transform=\"translate(271.20000000000005,145.8)\">1</text><text y=\"0.32em\" transform=\"translate(247.39999999999998,125.4)\">1</text><text y=\"0.32em\" transform=\"translate(281.40000000000003,176.4)\">1</text></g></svg>"
      ],
      "text/plain": [
       "<IPython.core.display.SVG object>"
      ]
     },
     "metadata": {},
     "output_type": "display_data"
    }
   ],
   "source": [
    "show_links(\n",
    "    pd.concat([compute_vectors(example_hailstones, time_in_ns=t) for t in [30, 10, 1]]),\n",
    "    strokeWidth=1,\n",
    ")"
   ]
  },
  {
   "cell_type": "markdown",
   "metadata": {},
   "source": [
    "Finally, this plot is similar to the first one, but computed with `t=100` instead of `t=1`.\n"
   ]
  },
  {
   "cell_type": "code",
   "execution_count": 463,
   "metadata": {},
   "outputs": [
    {
     "data": {
      "image/svg+xml": [
       "<svg xmlns=\"http://www.w3.org/2000/svg\" xmlns:xlink=\"http://www.w3.org/1999/xlink\" class=\"plot-d6a7b5\" fill=\"currentColor\" font-family=\"system-ui, sans-serif\" font-size=\"10\" text-anchor=\"middle\" width=\"400\" height=\"681.4285714285714\" viewBox=\"0 0 400 681.4285714285714\" style=\"color: white; background-color: black;\"><style>:where(.plot-d6a7b5) {\n",
       "  --plot-background: white;\n",
       "  display: block;\n",
       "  height: auto;\n",
       "  height: intrinsic;\n",
       "  max-width: 100%;\n",
       "}\n",
       ":where(.plot-d6a7b5 text),\n",
       ":where(.plot-d6a7b5 tspan) {\n",
       "  white-space: pre;\n",
       "}</style><g aria-label=\"y-grid\" aria-hidden=\"true\" stroke=\"currentColor\" stroke-opacity=\"0.1\"><line x1=\"40\" x2=\"380\" y1=\"651.4285714285714\" y2=\"651.4285714285714\"/><line x1=\"40\" x2=\"380\" y1=\"602.8571428571429\" y2=\"602.8571428571429\"/><line x1=\"40\" x2=\"380\" y1=\"554.2857142857143\" y2=\"554.2857142857143\"/><line x1=\"40\" x2=\"380\" y1=\"505.7142857142857\" y2=\"505.7142857142857\"/><line x1=\"40\" x2=\"380\" y1=\"457.1428571428571\" y2=\"457.1428571428571\"/><line x1=\"40\" x2=\"380\" y1=\"408.5714285714286\" y2=\"408.5714285714286\"/><line x1=\"40\" x2=\"380\" y1=\"360\" y2=\"360\"/><line x1=\"40\" x2=\"380\" y1=\"311.42857142857144\" y2=\"311.42857142857144\"/><line x1=\"40\" x2=\"380\" y1=\"262.85714285714283\" y2=\"262.85714285714283\"/><line x1=\"40\" x2=\"380\" y1=\"214.2857142857143\" y2=\"214.2857142857143\"/><line x1=\"40\" x2=\"380\" y1=\"165.7142857142857\" y2=\"165.7142857142857\"/><line x1=\"40\" x2=\"380\" y1=\"117.14285714285715\" y2=\"117.14285714285715\"/><line x1=\"40\" x2=\"380\" y1=\"68.57142857142854\" y2=\"68.57142857142854\"/><line x1=\"40\" x2=\"380\" y1=\"20\" y2=\"20\"/></g><g aria-label=\"y-axis tick\" aria-hidden=\"true\" fill=\"none\" stroke=\"currentColor\"><path transform=\"translate(40,651.4285714285714)\" d=\"M0,0L-6,0\"/><path transform=\"translate(40,602.8571428571429)\" d=\"M0,0L-6,0\"/><path transform=\"translate(40,554.2857142857143)\" d=\"M0,0L-6,0\"/><path transform=\"translate(40,505.7142857142857)\" d=\"M0,0L-6,0\"/><path transform=\"translate(40,457.1428571428571)\" d=\"M0,0L-6,0\"/><path transform=\"translate(40,408.5714285714286)\" d=\"M0,0L-6,0\"/><path transform=\"translate(40,360)\" d=\"M0,0L-6,0\"/><path transform=\"translate(40,311.42857142857144)\" d=\"M0,0L-6,0\"/><path transform=\"translate(40,262.85714285714283)\" d=\"M0,0L-6,0\"/><path transform=\"translate(40,214.2857142857143)\" d=\"M0,0L-6,0\"/><path transform=\"translate(40,165.7142857142857)\" d=\"M0,0L-6,0\"/><path transform=\"translate(40,117.14285714285715)\" d=\"M0,0L-6,0\"/><path transform=\"translate(40,68.57142857142854)\" d=\"M0,0L-6,0\"/><path transform=\"translate(40,20)\" d=\"M0,0L-6,0\"/></g><g aria-label=\"y-axis tick label\" text-anchor=\"end\" font-variant=\"tabular-nums\" transform=\"translate(-9,0)\"><text y=\"0.32em\" transform=\"translate(40,651.4285714285714)\">−500</text><text y=\"0.32em\" transform=\"translate(40,602.8571428571429)\">−450</text><text y=\"0.32em\" transform=\"translate(40,554.2857142857143)\">−400</text><text y=\"0.32em\" transform=\"translate(40,505.7142857142857)\">−350</text><text y=\"0.32em\" transform=\"translate(40,457.1428571428571)\">−300</text><text y=\"0.32em\" transform=\"translate(40,408.5714285714286)\">−250</text><text y=\"0.32em\" transform=\"translate(40,360)\">−200</text><text y=\"0.32em\" transform=\"translate(40,311.42857142857144)\">−150</text><text y=\"0.32em\" transform=\"translate(40,262.85714285714283)\">−100</text><text y=\"0.32em\" transform=\"translate(40,214.2857142857143)\">−50</text><text y=\"0.32em\" transform=\"translate(40,165.7142857142857)\">0</text><text y=\"0.32em\" transform=\"translate(40,117.14285714285715)\">50</text><text y=\"0.32em\" transform=\"translate(40,68.57142857142854)\">100</text><text y=\"0.32em\" transform=\"translate(40,20)\">150</text></g><g aria-label=\"y-axis label\" text-anchor=\"start\" transform=\"translate(-37,-17)\"><text y=\"0.71em\" transform=\"translate(40,20)\">↑ y</text></g><g aria-label=\"x-grid\" aria-hidden=\"true\" stroke=\"currentColor\" stroke-opacity=\"0.1\"><line x1=\"40\" x2=\"40\" y1=\"20\" y2=\"651.4285714285714\"/><line x1=\"137.14285714285714\" x2=\"137.14285714285714\" y1=\"20\" y2=\"651.4285714285714\"/><line x1=\"234.28571428571428\" x2=\"234.28571428571428\" y1=\"20\" y2=\"651.4285714285714\"/><line x1=\"331.42857142857144\" x2=\"331.42857142857144\" y1=\"20\" y2=\"651.4285714285714\"/></g><g aria-label=\"x-axis tick\" aria-hidden=\"true\" fill=\"none\" stroke=\"currentColor\"><path transform=\"translate(40,651.4285714285714)\" d=\"M0,0L0,6\"/><path transform=\"translate(137.14285714285714,651.4285714285714)\" d=\"M0,0L0,6\"/><path transform=\"translate(234.28571428571428,651.4285714285714)\" d=\"M0,0L0,6\"/><path transform=\"translate(331.42857142857144,651.4285714285714)\" d=\"M0,0L0,6\"/></g><g aria-label=\"x-axis tick label\" font-variant=\"tabular-nums\" transform=\"translate(0,9)\"><text y=\"0.71em\" transform=\"translate(40,651.4285714285714)\">−200</text><text y=\"0.71em\" transform=\"translate(137.14285714285714,651.4285714285714)\">−100</text><text y=\"0.71em\" transform=\"translate(234.28571428571428,651.4285714285714)\">0</text><text y=\"0.71em\" transform=\"translate(331.42857142857144,651.4285714285714)\">100</text></g><g aria-label=\"x-axis label\" text-anchor=\"end\" transform=\"translate(17,27)\"><text transform=\"translate(380,651.4285714285714)\">x →</text></g><g aria-label=\"link\" fill=\"none\" stroke-miterlimit=\"1\"><marker viewBox=\"-5 -5 10 10\" markerWidth=\"6.67\" markerHeight=\"6.67\" orient=\"auto\" fill=\"none\" stroke=\"#4269d0\" stroke-width=\"1.5\" stroke-linecap=\"round\" stroke-linejoin=\"round\" id=\"plot-marker-7\"><path d=\"M-1.5,-3l3,3l-3,3\"/></marker><path d=\"M252.743,153.086L58.457,55.943\" stroke=\"#4269d0\" marker-end=\"url(#plot-marker-7)\"/><path d=\"M251.771,147.257L154.629,244.4\" stroke=\"#4269d0\" marker-end=\"url(#plot-marker-7)\"/><path d=\"M253.714,141.429L59.429,335.714\" stroke=\"#4269d0\" marker-end=\"url(#plot-marker-7)\"/><path d=\"M245.943,135.6L148.8,329.886\" stroke=\"#4269d0\" marker-end=\"url(#plot-marker-7)\"/><path d=\"M253.714,147.257L350.857,632.971\" stroke=\"#4269d0\" marker-end=\"url(#plot-marker-7)\"/></g><g aria-label=\"rect\" fill=\"none\" stroke=\"currentColor\"><rect x=\"241.0857142857143\" y=\"139.48571428571427\" width=\"19.428571428571445\" height=\"19.428571428571416\"/></g><g aria-label=\"text\" stroke=\"black\" stroke-width=\"3\" stroke-linejoin=\"round\" paint-order=\"stroke\" font-variant=\"tabular-nums\" transform=\"translate(0,-12)\"><text y=\"0.32em\" transform=\"translate(58.457142857142856,55.94285714285718)\">100</text><text y=\"0.32em\" transform=\"translate(154.6285714285714,244.40000000000003)\">100</text><text y=\"0.32em\" transform=\"translate(59.42857142857143,335.7142857142857)\">100</text><text y=\"0.32em\" transform=\"translate(148.8,329.88571428571424)\">100</text><text y=\"0.32em\" transform=\"translate(350.8571428571429,632.9714285714285)\">100</text></g></svg>"
      ],
      "text/plain": [
       "<IPython.core.display.SVG object>"
      ]
     },
     "metadata": {},
     "output_type": "display_data"
    }
   ],
   "source": [
    "show_links(\n",
    "    pd.concat([compute_vectors(example_hailstones, time_in_ns=t) for t in [100]]),\n",
    "    strokeWidth=1,\n",
    ")"
   ]
  },
  {
   "cell_type": "markdown",
   "metadata": {},
   "source": [
    "We can see that some hailstones' trajectories seem to never cross.\n"
   ]
  },
  {
   "cell_type": "markdown",
   "metadata": {},
   "source": [
    "### With Actual Input\n"
   ]
  },
  {
   "cell_type": "code",
   "execution_count": 464,
   "metadata": {},
   "outputs": [
    {
     "data": {
      "image/svg+xml": [
       "<svg xmlns=\"http://www.w3.org/2000/svg\" xmlns:xlink=\"http://www.w3.org/1999/xlink\" class=\"plot-d6a7b5\" fill=\"currentColor\" font-family=\"system-ui, sans-serif\" font-size=\"10\" text-anchor=\"middle\" width=\"400\" height=\"526\" viewBox=\"0 0 400 526\" style=\"color: white; background-color: black;\"><style>:where(.plot-d6a7b5) {\n",
       "  --plot-background: white;\n",
       "  display: block;\n",
       "  height: auto;\n",
       "  height: intrinsic;\n",
       "  max-width: 100%;\n",
       "}\n",
       ":where(.plot-d6a7b5 text),\n",
       ":where(.plot-d6a7b5 tspan) {\n",
       "  white-space: pre;\n",
       "}</style><g aria-label=\"y-grid\" aria-hidden=\"true\" stroke=\"currentColor\" stroke-opacity=\"0.1\"><line x1=\"40\" x2=\"380\" y1=\"496\" y2=\"496\"/><line x1=\"40\" x2=\"380\" y1=\"462.00000000000006\" y2=\"462.00000000000006\"/><line x1=\"40\" x2=\"380\" y1=\"428\" y2=\"428\"/><line x1=\"40\" x2=\"380\" y1=\"394\" y2=\"394\"/><line x1=\"40\" x2=\"380\" y1=\"360\" y2=\"360\"/><line x1=\"40\" x2=\"380\" y1=\"326\" y2=\"326\"/><line x1=\"40\" x2=\"380\" y1=\"291.99999999999994\" y2=\"291.99999999999994\"/><line x1=\"40\" x2=\"380\" y1=\"258\" y2=\"258\"/><line x1=\"40\" x2=\"380\" y1=\"224\" y2=\"224\"/><line x1=\"40\" x2=\"380\" y1=\"189.99999999999997\" y2=\"189.99999999999997\"/><line x1=\"40\" x2=\"380\" y1=\"155.99999999999997\" y2=\"155.99999999999997\"/><line x1=\"40\" x2=\"380\" y1=\"122\" y2=\"122\"/><line x1=\"40\" x2=\"380\" y1=\"88.00000000000001\" y2=\"88.00000000000001\"/><line x1=\"40\" x2=\"380\" y1=\"53.999999999999986\" y2=\"53.999999999999986\"/><line x1=\"40\" x2=\"380\" y1=\"20\" y2=\"20\"/></g><g aria-label=\"y-axis tick\" aria-hidden=\"true\" fill=\"none\" stroke=\"currentColor\"><path transform=\"translate(40,496)\" d=\"M0,0L-6,0\"/><path transform=\"translate(40,462.00000000000006)\" d=\"M0,0L-6,0\"/><path transform=\"translate(40,428)\" d=\"M0,0L-6,0\"/><path transform=\"translate(40,394)\" d=\"M0,0L-6,0\"/><path transform=\"translate(40,360)\" d=\"M0,0L-6,0\"/><path transform=\"translate(40,326)\" d=\"M0,0L-6,0\"/><path transform=\"translate(40,291.99999999999994)\" d=\"M0,0L-6,0\"/><path transform=\"translate(40,258)\" d=\"M0,0L-6,0\"/><path transform=\"translate(40,224)\" d=\"M0,0L-6,0\"/><path transform=\"translate(40,189.99999999999997)\" d=\"M0,0L-6,0\"/><path transform=\"translate(40,155.99999999999997)\" d=\"M0,0L-6,0\"/><path transform=\"translate(40,122)\" d=\"M0,0L-6,0\"/><path transform=\"translate(40,88.00000000000001)\" d=\"M0,0L-6,0\"/><path transform=\"translate(40,53.999999999999986)\" d=\"M0,0L-6,0\"/><path transform=\"translate(40,20)\" d=\"M0,0L-6,0\"/></g><g aria-label=\"y-axis tick label\" text-anchor=\"end\" font-variant=\"tabular-nums\" transform=\"translate(-9,0)\"><text y=\"0.32em\" transform=\"translate(40,496)\">−100T</text><text y=\"0.32em\" transform=\"translate(40,462.00000000000006)\">−50T</text><text y=\"0.32em\" transform=\"translate(40,428)\">0T</text><text y=\"0.32em\" transform=\"translate(40,394)\">50T</text><text y=\"0.32em\" transform=\"translate(40,360)\">100T</text><text y=\"0.32em\" transform=\"translate(40,326)\">150T</text><text y=\"0.32em\" transform=\"translate(40,291.99999999999994)\">200T</text><text y=\"0.32em\" transform=\"translate(40,258)\">250T</text><text y=\"0.32em\" transform=\"translate(40,224)\">300T</text><text y=\"0.32em\" transform=\"translate(40,189.99999999999997)\">350T</text><text y=\"0.32em\" transform=\"translate(40,155.99999999999997)\">400T</text><text y=\"0.32em\" transform=\"translate(40,122)\">450T</text><text y=\"0.32em\" transform=\"translate(40,88.00000000000001)\">500T</text><text y=\"0.32em\" transform=\"translate(40,53.999999999999986)\">550T</text><text y=\"0.32em\" transform=\"translate(40,20)\">600T</text></g><g aria-label=\"y-axis label\" text-anchor=\"start\" transform=\"translate(-37,-17)\"><text y=\"0.71em\" transform=\"translate(40,20)\">↑ y</text></g><g aria-label=\"x-grid\" aria-hidden=\"true\" stroke=\"currentColor\" stroke-opacity=\"0.1\"><line x1=\"74\" x2=\"74\" y1=\"20\" y2=\"496\"/><line x1=\"142\" x2=\"142\" y1=\"20\" y2=\"496\"/><line x1=\"210\" x2=\"210\" y1=\"20\" y2=\"496\"/><line x1=\"278\" x2=\"278\" y1=\"20\" y2=\"496\"/><line x1=\"346\" x2=\"346\" y1=\"20\" y2=\"496\"/></g><g aria-label=\"x-axis tick\" aria-hidden=\"true\" fill=\"none\" stroke=\"currentColor\"><path transform=\"translate(74,496)\" d=\"M0,0L0,6\"/><path transform=\"translate(142,496)\" d=\"M0,0L0,6\"/><path transform=\"translate(210,496)\" d=\"M0,0L0,6\"/><path transform=\"translate(278,496)\" d=\"M0,0L0,6\"/><path transform=\"translate(346,496)\" d=\"M0,0L0,6\"/></g><g aria-label=\"x-axis tick label\" font-variant=\"tabular-nums\" transform=\"translate(0,9)\"><text y=\"0.71em\" transform=\"translate(74,496)\">100T</text><text y=\"0.71em\" transform=\"translate(142,496)\">200T</text><text y=\"0.71em\" transform=\"translate(210,496)\">300T</text><text y=\"0.71em\" transform=\"translate(278,496)\">400T</text><text y=\"0.71em\" transform=\"translate(346,496)\">500T</text></g><g aria-label=\"x-axis label\" text-anchor=\"end\" transform=\"translate(17,27)\"><text transform=\"translate(380,496)\">x →</text></g><g aria-label=\"link\" fill=\"none\" stroke-miterlimit=\"1\"><marker viewBox=\"-5 -5 10 10\" markerWidth=\"6.67\" markerHeight=\"6.67\" orient=\"auto\" fill=\"none\" stroke=\"#efb118\" stroke-width=\"1.5\" stroke-linecap=\"round\" stroke-linejoin=\"round\" id=\"plot-marker-8\"><path d=\"M-1.5,-3l3,3l-3,3\"/></marker><path d=\"M134.85,155.26L173.61,169.948\" stroke=\"#efb118\" marker-end=\"url(#plot-marker-8)\"/><path d=\"M125.487,317.096L190.767,242.84\" stroke=\"#efb118\" marker-end=\"url(#plot-marker-8)\"/><path d=\"M198.714,180.73L196.266,165.634\" stroke=\"#efb118\" marker-end=\"url(#plot-marker-8)\"/><path d=\"M149.227,411.445L207.571,156.853\" stroke=\"#efb118\" marker-end=\"url(#plot-marker-8)\"/><path d=\"M225.934,238.715L185.95,229.739\" stroke=\"#efb118\" marker-end=\"url(#plot-marker-8)\"/><path d=\"M130.965,295.964L169.725,209.876\" stroke=\"#efb118\" marker-end=\"url(#plot-marker-8)\"/><path d=\"M148.537,317.89L177.913,221.602\" stroke=\"#efb118\" marker-end=\"url(#plot-marker-8)\"/><path d=\"M249.8,193.789L182.48,236.629\" stroke=\"#efb118\" marker-end=\"url(#plot-marker-8)\"/><path d=\"M166.246,300.401L181.342,370.577\" stroke=\"#efb118\" marker-end=\"url(#plot-marker-8)\"/><path d=\"M225.592,92.249L208.048,125.297\" stroke=\"#efb118\" marker-end=\"url(#plot-marker-8)\"/><path d=\"M192.897,169.279L188.409,199.879\" stroke=\"#efb118\" marker-end=\"url(#plot-marker-8)\"/><path d=\"M172.316,146.855L183.332,234.983\" stroke=\"#efb118\" marker-end=\"url(#plot-marker-8)\"/><path d=\"M165.731,262.065L182.867,364.473\" stroke=\"#efb118\" marker-end=\"url(#plot-marker-8)\"/><path d=\"M176.547,205.418L171.243,401.666\" stroke=\"#efb118\" marker-end=\"url(#plot-marker-8)\"/><path d=\"M288.785,196.94L210.041,199.796\" stroke=\"#efb118\" marker-end=\"url(#plot-marker-8)\"/><path d=\"M249.042,280.656L197.634,221.496\" stroke=\"#efb118\" marker-end=\"url(#plot-marker-8)\"/><path d=\"M160.836,188.771L183.276,232.835\" stroke=\"#efb118\" marker-end=\"url(#plot-marker-8)\"/><path d=\"M169.563,337.345L165.075,331.225\" stroke=\"#efb118\" marker-end=\"url(#plot-marker-8)\"/><path d=\"M359.876,90.203L208.916,199.547\" stroke=\"#efb118\" marker-end=\"url(#plot-marker-8)\"/><path d=\"M187.455,258.112L170.727,292.792\" stroke=\"#efb118\" marker-end=\"url(#plot-marker-8)\"/><path d=\"M160.571,268.019L181.379,197.843\" stroke=\"#efb118\" marker-end=\"url(#plot-marker-8)\"/><path d=\"M147.679,209.146L182.359,226.69\" stroke=\"#efb118\" marker-end=\"url(#plot-marker-8)\"/><path d=\"M177.065,247.706L181.145,255.866\" stroke=\"#efb118\" marker-end=\"url(#plot-marker-8)\"/><path d=\"M274.075,77.32L208.387,169.936\" stroke=\"#efb118\" marker-end=\"url(#plot-marker-8)\"/><path d=\"M155.899,160.7L183.235,232.916\" stroke=\"#efb118\" marker-end=\"url(#plot-marker-8)\"/><path d=\"M97.319,311.62L219.311,260.212\" stroke=\"#efb118\" marker-end=\"url(#plot-marker-8)\"/><path d=\"M244.412,288.955L206.06,214.699\" stroke=\"#efb118\" marker-end=\"url(#plot-marker-8)\"/><path d=\"M178.194,246.637L187.986,194.005\" stroke=\"#efb118\" marker-end=\"url(#plot-marker-8)\"/><path d=\"M256.334,122.385L218.39,143.601\" stroke=\"#efb118\" marker-end=\"url(#plot-marker-8)\"/><path d=\"M165.671,254.537L183.215,277.385\" stroke=\"#efb118\" marker-end=\"url(#plot-marker-8)\"/><path d=\"M44.934,324.285L173.454,232.077\" stroke=\"#efb118\" marker-end=\"url(#plot-marker-8)\"/><path d=\"M164.519,97.807L183.695,345.055\" stroke=\"#efb118\" marker-end=\"url(#plot-marker-8)\"/><path d=\"M169.089,338.668L150.321,419.452\" stroke=\"#efb118\" marker-end=\"url(#plot-marker-8)\"/><path d=\"M115.754,337.419L162.266,225.627\" stroke=\"#efb118\" marker-end=\"url(#plot-marker-8)\"/><path d=\"M159.937,425.683L196.249,77.659\" stroke=\"#efb118\" marker-end=\"url(#plot-marker-8)\"/><path d=\"M178.344,310.818L157.536,331.626\" stroke=\"#efb118\" marker-end=\"url(#plot-marker-8)\"/><path d=\"M136.823,317.96L175.583,223.712\" stroke=\"#efb118\" marker-end=\"url(#plot-marker-8)\"/><path d=\"M158.544,377.681L226.68,119.009\" stroke=\"#efb118\" marker-end=\"url(#plot-marker-8)\"/><path d=\"M239.457,131.522L214.569,138.866\" stroke=\"#efb118\" marker-end=\"url(#plot-marker-8)\"/><path d=\"M212.449,398.279L202.249,250.583\" stroke=\"#efb118\" marker-end=\"url(#plot-marker-8)\"/><path d=\"M172.285,89.215L184.117,204.271\" stroke=\"#efb118\" marker-end=\"url(#plot-marker-8)\"/><path d=\"M216.983,222.162L178.631,247.458\" stroke=\"#efb118\" marker-end=\"url(#plot-marker-8)\"/><path d=\"M164.691,231.245L183.051,182.693\" stroke=\"#efb118\" marker-end=\"url(#plot-marker-8)\"/><path d=\"M163.266,327.405L187.338,295.581\" stroke=\"#efb118\" marker-end=\"url(#plot-marker-8)\"/><path d=\"M140.263,251.078L216.967,380.006\" stroke=\"#efb118\" marker-end=\"url(#plot-marker-8)\"/><path d=\"M215.369,332.228L177.017,238.388\" stroke=\"#efb118\" marker-end=\"url(#plot-marker-8)\"/><path d=\"M256.182,306.467L192.942,229.355\" stroke=\"#efb118\" marker-end=\"url(#plot-marker-8)\"/><path d=\"M99.98,276.043L201.164,257.683\" stroke=\"#efb118\" marker-end=\"url(#plot-marker-8)\"/><path d=\"M276.393,201.461L215.193,189.629\" stroke=\"#efb118\" marker-end=\"url(#plot-marker-8)\"/><path d=\"M109.438,245.707L165.334,198.379\" stroke=\"#efb118\" marker-end=\"url(#plot-marker-8)\"/><path d=\"M134.275,185.207L178.747,209.279\" stroke=\"#efb118\" marker-end=\"url(#plot-marker-8)\"/><path d=\"M194.649,247.382L179.553,249.422\" stroke=\"#efb118\" marker-end=\"url(#plot-marker-8)\"/><path d=\"M145.642,384.598L209.29,201.814\" stroke=\"#efb118\" marker-end=\"url(#plot-marker-8)\"/><path d=\"M169.768,195.402L184.456,192.954\" stroke=\"#efb118\" marker-end=\"url(#plot-marker-8)\"/><path d=\"M179.315,222.579L188.291,186.267\" stroke=\"#efb118\" marker-end=\"url(#plot-marker-8)\"/><path d=\"M207.046,187.005L192.358,197.613\" stroke=\"#efb118\" marker-end=\"url(#plot-marker-8)\"/><path d=\"M168.886,207.205L181.942,295.333\" stroke=\"#efb118\" marker-end=\"url(#plot-marker-8)\"/><path d=\"M230.56,353.728L210.976,232.552\" stroke=\"#efb118\" marker-end=\"url(#plot-marker-8)\"/><path d=\"M156.662,182.31L181.142,190.47\" stroke=\"#efb118\" marker-end=\"url(#plot-marker-8)\"/><path d=\"M159.15,366.405L199.95,216.261\" stroke=\"#efb118\" marker-end=\"url(#plot-marker-8)\"/><path d=\"M158.696,217.905L188.888,352.545\" stroke=\"#efb118\" marker-end=\"url(#plot-marker-8)\"/><path d=\"M184.342,116.401L169.246,415.465\" stroke=\"#efb118\" marker-end=\"url(#plot-marker-8)\"/><path d=\"M180.87,257.897L183.318,235.049\" stroke=\"#efb118\" marker-end=\"url(#plot-marker-8)\"/><path d=\"M188.244,387.398L169.884,218.486\" stroke=\"#efb118\" marker-end=\"url(#plot-marker-8)\"/><path d=\"M133.631,275.235L177.287,218.931\" stroke=\"#efb118\" marker-end=\"url(#plot-marker-8)\"/><path d=\"M270.454,160.01L220.678,164.09\" stroke=\"#efb118\" marker-end=\"url(#plot-marker-8)\"/><path d=\"M190.393,175.434L183.049,237.042\" stroke=\"#efb118\" marker-end=\"url(#plot-marker-8)\"/><path d=\"M175.661,285.321L177.701,275.529\" stroke=\"#efb118\" marker-end=\"url(#plot-marker-8)\"/><path d=\"M187.814,209.152L174.758,292.384\" stroke=\"#efb118\" marker-end=\"url(#plot-marker-8)\"/><path d=\"M105.482,296.845L187.898,239.725\" stroke=\"#efb118\" marker-end=\"url(#plot-marker-8)\"/><path d=\"M183.218,293.812L146.906,368.884\" stroke=\"#efb118\" marker-end=\"url(#plot-marker-8)\"/><path d=\"M186.569,159.128L191.873,154.232\" stroke=\"#efb118\" marker-end=\"url(#plot-marker-8)\"/><path d=\"M215.77,93.252L204.754,121.812\" stroke=\"#efb118\" marker-end=\"url(#plot-marker-8)\"/><path d=\"M271.93,273.469L188.698,230.629\" stroke=\"#efb118\" marker-end=\"url(#plot-marker-8)\"/><path d=\"M215.08,265.183L139.192,318.631\" stroke=\"#efb118\" marker-end=\"url(#plot-marker-8)\"/><path d=\"M142.818,209.852L178.314,201.692\" stroke=\"#efb118\" marker-end=\"url(#plot-marker-8)\"/><path d=\"M223.299,125.368L191.067,203.704\" stroke=\"#efb118\" marker-end=\"url(#plot-marker-8)\"/><path d=\"M129.382,409.457L199.558,212.393\" stroke=\"#efb118\" marker-end=\"url(#plot-marker-8)\"/><path d=\"M153.952,275.919L209.44,425.655\" stroke=\"#efb118\" marker-end=\"url(#plot-marker-8)\"/><path d=\"M172.576,212.863L186.04,179.815\" stroke=\"#efb118\" marker-end=\"url(#plot-marker-8)\"/><path d=\"M216.28,88.558L201.184,139.966\" stroke=\"#efb118\" marker-end=\"url(#plot-marker-8)\"/><path d=\"M77.108,282.326L175.436,228.062\" stroke=\"#efb118\" marker-end=\"url(#plot-marker-8)\"/><path d=\"M191.897,276.231L155.993,320.703\" stroke=\"#efb118\" marker-end=\"url(#plot-marker-8)\"/><path d=\"M269.035,205.527L195.187,217.359\" stroke=\"#efb118\" marker-end=\"url(#plot-marker-8)\"/><path d=\"M201.201,175.177L193.449,182.929\" stroke=\"#efb118\" marker-end=\"url(#plot-marker-8)\"/><path d=\"M125.478,339.822L208.302,247.206\" stroke=\"#efb118\" marker-end=\"url(#plot-marker-8)\"/><path d=\"M200.19,310.627L139.806,295.939\" stroke=\"#efb118\" marker-end=\"url(#plot-marker-8)\"/><path d=\"M222.005,176.016L195.485,195.6\" stroke=\"#efb118\" marker-end=\"url(#plot-marker-8)\"/><path d=\"M161.294,220.803L184.142,262.419\" stroke=\"#efb118\" marker-end=\"url(#plot-marker-8)\"/><path d=\"M182.773,303.687L174.613,262.887\" stroke=\"#efb118\" marker-end=\"url(#plot-marker-8)\"/><path d=\"M115.852,214.196L199.492,282.332\" stroke=\"#efb118\" marker-end=\"url(#plot-marker-8)\"/><path d=\"M199.816,178.001L188.8,206.153\" stroke=\"#efb118\" marker-end=\"url(#plot-marker-8)\"/><path d=\"M154.18,328.463L240.676,393.335\" stroke=\"#efb118\" marker-end=\"url(#plot-marker-8)\"/><path d=\"M144.257,302.124L241.361,392.292\" stroke=\"#efb118\" marker-end=\"url(#plot-marker-8)\"/><path d=\"M269.969,71.447L223.457,124.487\" stroke=\"#efb118\" marker-end=\"url(#plot-marker-8)\"/><path d=\"M243.436,56.314L216.1,107.722\" stroke=\"#efb118\" marker-end=\"url(#plot-marker-8)\"/><path d=\"M224.94,129.47L207.804,140.486\" stroke=\"#efb118\" marker-end=\"url(#plot-marker-8)\"/><path d=\"M155.964,309.114L195.54,300.138\" stroke=\"#efb118\" marker-end=\"url(#plot-marker-8)\"/><path d=\"M167.228,391.298L179.06,161.186\" stroke=\"#efb118\" marker-end=\"url(#plot-marker-8)\"/><path d=\"M166.405,295.381L182.725,272.941\" stroke=\"#efb118\" marker-end=\"url(#plot-marker-8)\"/><path d=\"M162.447,154.668L182.439,172.62\" stroke=\"#efb118\" marker-end=\"url(#plot-marker-8)\"/><path d=\"M146.71,329.583L189.958,245.535\" stroke=\"#efb118\" marker-end=\"url(#plot-marker-8)\"/><path d=\"M149.393,198.521L180.401,205.457\" stroke=\"#efb118\" marker-end=\"url(#plot-marker-8)\"/><path d=\"M203.61,227.605L190.554,210.061\" stroke=\"#efb118\" marker-end=\"url(#plot-marker-8)\"/><path d=\"M211.846,312.046L186.958,231.262\" stroke=\"#efb118\" marker-end=\"url(#plot-marker-8)\"/><path d=\"M172.117,207.26L185.173,193.388\" stroke=\"#efb118\" marker-end=\"url(#plot-marker-8)\"/><path d=\"M256.462,98.03L218.11,135.158\" stroke=\"#efb118\" marker-end=\"url(#plot-marker-8)\"/><path d=\"M279.511,220.853L221.167,189.029\" stroke=\"#efb118\" marker-end=\"url(#plot-marker-8)\"/><path d=\"M136.958,209.568L183.47,235.68\" stroke=\"#efb118\" marker-end=\"url(#plot-marker-8)\"/><path d=\"M164.471,386.678L187.319,115.358\" stroke=\"#efb118\" marker-end=\"url(#plot-marker-8)\"/><path d=\"M177.958,413.043L175.918,203.331\" stroke=\"#efb118\" marker-end=\"url(#plot-marker-8)\"/><path d=\"M142.015,235.053L206.887,360.309\" stroke=\"#efb118\" marker-end=\"url(#plot-marker-8)\"/><path d=\"M197.547,170.757L191.427,187.485\" stroke=\"#efb118\" marker-end=\"url(#plot-marker-8)\"/><path d=\"M171.037,335.743L157.573,342.679\" stroke=\"#efb118\" marker-end=\"url(#plot-marker-8)\"/><path d=\"M149.471,221.997L180.887,213.837\" stroke=\"#efb118\" marker-end=\"url(#plot-marker-8)\"/><path d=\"M172.432,190.788L185.896,173.652\" stroke=\"#efb118\" marker-end=\"url(#plot-marker-8)\"/><path d=\"M130.302,296.385L170.286,211.521\" stroke=\"#efb118\" marker-end=\"url(#plot-marker-8)\"/><path d=\"M166.346,243.088L183.482,216.976\" stroke=\"#efb118\" marker-end=\"url(#plot-marker-8)\"/><path d=\"M295.318,200.03L196.174,219.206\" stroke=\"#efb118\" marker-end=\"url(#plot-marker-8)\"/><path d=\"M186.749,246.857L180.221,251.345\" stroke=\"#efb118\" marker-end=\"url(#plot-marker-8)\"/><path d=\"M180.649,278.812L183.913,231.892\" stroke=\"#efb118\" marker-end=\"url(#plot-marker-8)\"/><path d=\"M176.768,267.587L181.664,248.411\" stroke=\"#efb118\" marker-end=\"url(#plot-marker-8)\"/><path d=\"M259.072,226.041L154.624,275.817\" stroke=\"#efb118\" marker-end=\"url(#plot-marker-8)\"/><path d=\"M154.243,322.149L246.859,447.405\" stroke=\"#efb118\" marker-end=\"url(#plot-marker-8)\"/><path d=\"M224.23,130.379L208.318,137.723\" stroke=\"#efb118\" marker-end=\"url(#plot-marker-8)\"/><path d=\"M191.907,344.092L188.643,231.892\" stroke=\"#efb118\" marker-end=\"url(#plot-marker-8)\"/><path d=\"M214.131,171.173L170.475,284.597\" stroke=\"#efb118\" marker-end=\"url(#plot-marker-8)\"/><path d=\"M140.533,423.25L231.517,111.13\" stroke=\"#efb118\" marker-end=\"url(#plot-marker-8)\"/><path d=\"M166.483,293.794L183.619,217.906\" stroke=\"#efb118\" marker-end=\"url(#plot-marker-8)\"/><path d=\"M195.429,107.676L188.493,191.724\" stroke=\"#efb118\" marker-end=\"url(#plot-marker-8)\"/><path d=\"M278.476,331.829L231.148,223.301\" stroke=\"#efb118\" marker-end=\"url(#plot-marker-8)\"/><path d=\"M195.951,286.829L133.119,354.149\" stroke=\"#efb118\" marker-end=\"url(#plot-marker-8)\"/><path d=\"M103.994,182.659L159.074,165.115\" stroke=\"#efb118\" marker-end=\"url(#plot-marker-8)\"/><path d=\"M168.578,347.362L155.522,339.61\" stroke=\"#efb118\" marker-end=\"url(#plot-marker-8)\"/><path d=\"M163.792,223.041L184.192,308.721\" stroke=\"#efb118\" marker-end=\"url(#plot-marker-8)\"/><path d=\"M195.205,288.736L125.845,371.152\" stroke=\"#efb118\" marker-end=\"url(#plot-marker-8)\"/><path d=\"M184.854,302.466L128.142,396.306\" stroke=\"#efb118\" marker-end=\"url(#plot-marker-8)\"/><path d=\"M159.88,134.429L181.912,176.861\" stroke=\"#efb118\" marker-end=\"url(#plot-marker-8)\"/><path d=\"M200.741,287.439L160.349,281.727\" stroke=\"#efb118\" marker-end=\"url(#plot-marker-8)\"/><path d=\"M213.338,208.673L182.738,236.825\" stroke=\"#efb118\" marker-end=\"url(#plot-marker-8)\"/><path d=\"M196.828,240.023L194.788,191.471\" stroke=\"#efb118\" marker-end=\"url(#plot-marker-8)\"/><path d=\"M207.157,143.987L198.997,154.187\" stroke=\"#efb118\" marker-end=\"url(#plot-marker-8)\"/><path d=\"M103.363,191.362L181.699,230.53\" stroke=\"#efb118\" marker-end=\"url(#plot-marker-8)\"/><path d=\"M263.538,228.519L179.898,239.535\" stroke=\"#efb118\" marker-end=\"url(#plot-marker-8)\"/><path d=\"M152.472,345.103L254.064,313.279\" stroke=\"#efb118\" marker-end=\"url(#plot-marker-8)\"/><path d=\"M152.126,155.246L199.454,483.278\" stroke=\"#efb118\" marker-end=\"url(#plot-marker-8)\"/><path d=\"M183.988,301.396L163.588,296.5\" stroke=\"#efb118\" marker-end=\"url(#plot-marker-8)\"/><path d=\"M202.367,281.114L178.295,245.618\" stroke=\"#efb118\" marker-end=\"url(#plot-marker-8)\"/><path d=\"M292.099,115.624L165.619,269.032\" stroke=\"#efb118\" marker-end=\"url(#plot-marker-8)\"/><path d=\"M183.351,96.22L188.655,157.012\" stroke=\"#efb118\" marker-end=\"url(#plot-marker-8)\"/><path d=\"M189.907,349.816L181.747,235.576\" stroke=\"#efb118\" marker-end=\"url(#plot-marker-8)\"/><path d=\"M178.163,150.62L187.547,166.124\" stroke=\"#efb118\" marker-end=\"url(#plot-marker-8)\"/><path d=\"M159.233,337.55L203.705,307.358\" stroke=\"#efb118\" marker-end=\"url(#plot-marker-8)\"/><path d=\"M216.601,91.24L199.873,148.36\" stroke=\"#efb118\" marker-end=\"url(#plot-marker-8)\"/><path d=\"M195.625,52.086L190.729,159.798\" stroke=\"#efb118\" marker-end=\"url(#plot-marker-8)\"/><path d=\"M152.697,223.263L182.889,230.199\" stroke=\"#efb118\" marker-end=\"url(#plot-marker-8)\"/><path d=\"M171.81,411.141L181.194,217.749\" stroke=\"#efb118\" marker-end=\"url(#plot-marker-8)\"/><path d=\"M233.76,56.083L178.68,255.595\" stroke=\"#efb118\" marker-end=\"url(#plot-marker-8)\"/><path d=\"M184.642,302.398L142.618,355.438\" stroke=\"#efb118\" marker-end=\"url(#plot-marker-8)\"/><path d=\"M173.671,261.216L176.119,320.376\" stroke=\"#efb118\" marker-end=\"url(#plot-marker-8)\"/><path d=\"M190.579,282.098L178.339,250.274\" stroke=\"#efb118\" marker-end=\"url(#plot-marker-8)\"/><path d=\"M281.367,199.003L227.919,173.299\" stroke=\"#efb118\" marker-end=\"url(#plot-marker-8)\"/><path d=\"M198.813,173.131L193.917,175.987\" stroke=\"#efb118\" marker-end=\"url(#plot-marker-8)\"/><path d=\"M229.52,256.53L182.6,236.13\" stroke=\"#efb118\" marker-end=\"url(#plot-marker-8)\"/><path d=\"M156.684,265.694L187.284,277.526\" stroke=\"#efb118\" marker-end=\"url(#plot-marker-8)\"/><path d=\"M128.466,267.377L202.722,283.289\" stroke=\"#efb118\" marker-end=\"url(#plot-marker-8)\"/><path d=\"M199.367,251.367L183.047,235.863\" stroke=\"#efb118\" marker-end=\"url(#plot-marker-8)\"/><path d=\"M180.163,417.39L187.507,251.334\" stroke=\"#efb118\" marker-end=\"url(#plot-marker-8)\"/><path d=\"M216.796,314.03L179.26,238.55\" stroke=\"#efb118\" marker-end=\"url(#plot-marker-8)\"/><path d=\"M226.38,268.692L197.412,214.02\" stroke=\"#efb118\" marker-end=\"url(#plot-marker-8)\"/><path d=\"M167.148,292.234L182.244,276.322\" stroke=\"#efb118\" marker-end=\"url(#plot-marker-8)\"/><path d=\"M184.804,158.877L188.884,177.645\" stroke=\"#efb118\" marker-end=\"url(#plot-marker-8)\"/><path d=\"M189.601,250.886L176.953,263.534\" stroke=\"#efb118\" marker-end=\"url(#plot-marker-8)\"/><path d=\"M153.458,108.403L179.162,147.163\" stroke=\"#efb118\" marker-end=\"url(#plot-marker-8)\"/><path d=\"M182.8,246.842L190.144,190.946\" stroke=\"#efb118\" marker-end=\"url(#plot-marker-8)\"/><path d=\"M88.624,242.187L166.96,209.955\" stroke=\"#efb118\" marker-end=\"url(#plot-marker-8)\"/><path d=\"M188.408,363.626L166.376,231.842\" stroke=\"#efb118\" marker-end=\"url(#plot-marker-8)\"/><path d=\"M168.314,369.958L184.226,238.174\" stroke=\"#efb118\" marker-end=\"url(#plot-marker-8)\"/><path d=\"M65.313,306.511L162.009,223.687\" stroke=\"#efb118\" marker-end=\"url(#plot-marker-8)\"/><path d=\"M234.004,236.887L191.164,220.975\" stroke=\"#efb118\" marker-end=\"url(#plot-marker-8)\"/><path d=\"M167.74,347.337L163.66,335.505\" stroke=\"#efb118\" marker-end=\"url(#plot-marker-8)\"/><path d=\"M168.115,348.02L163.219,318.644\" stroke=\"#efb118\" marker-end=\"url(#plot-marker-8)\"/><path d=\"M216.1,237.8L202.228,189.656\" stroke=\"#efb118\" marker-end=\"url(#plot-marker-8)\"/><path d=\"M193.905,232.93L165.753,312.898\" stroke=\"#efb118\" marker-end=\"url(#plot-marker-8)\"/><path d=\"M243.369,284.145L214.809,204.585\" stroke=\"#efb118\" marker-end=\"url(#plot-marker-8)\"/><path d=\"M82.762,273.977L148.858,199.313\" stroke=\"#efb118\" marker-end=\"url(#plot-marker-8)\"/><path d=\"M156.412,329.399L209.86,323.687\" stroke=\"#efb118\" marker-end=\"url(#plot-marker-8)\"/><path d=\"M157.967,319.653L190.607,273.957\" stroke=\"#efb118\" marker-end=\"url(#plot-marker-8)\"/><path d=\"M221.993,65.609L201.185,142.313\" stroke=\"#efb118\" marker-end=\"url(#plot-marker-8)\"/><path d=\"M214.088,201.935L184.712,230.495\" stroke=\"#efb118\" marker-end=\"url(#plot-marker-8)\"/><path d=\"M157.82,257.692L192.908,363.772\" stroke=\"#efb118\" marker-end=\"url(#plot-marker-8)\"/><path d=\"M201.278,263.854L166.19,280.582\" stroke=\"#efb118\" marker-end=\"url(#plot-marker-8)\"/><path d=\"M115.325,278.646L176.525,223.974\" stroke=\"#efb118\" marker-end=\"url(#plot-marker-8)\"/><path d=\"M194.897,256.958L185.105,228.806\" stroke=\"#efb118\" marker-end=\"url(#plot-marker-8)\"/><path d=\"M201.892,52.471L193.732,147.535\" stroke=\"#efb118\" marker-end=\"url(#plot-marker-8)\"/><path d=\"M196.683,224.636L190.563,203.828\" stroke=\"#efb118\" marker-end=\"url(#plot-marker-8)\"/><path d=\"M178.033,310.815L162.937,313.263\" stroke=\"#efb118\" marker-end=\"url(#plot-marker-8)\"/><path d=\"M56.455,239.638L148.255,196.39\" stroke=\"#efb118\" marker-end=\"url(#plot-marker-8)\"/><path d=\"M156.38,371.352L201.668,210.6\" stroke=\"#efb118\" marker-end=\"url(#plot-marker-8)\"/><path d=\"M252.342,200.933L215.214,176.861\" stroke=\"#efb118\" marker-end=\"url(#plot-marker-8)\"/><path d=\"M209.504,154.186L201.752,149.29\" stroke=\"#efb118\" marker-end=\"url(#plot-marker-8)\"/><path d=\"M280.963,246.549L229.963,189.429\" stroke=\"#efb118\" marker-end=\"url(#plot-marker-8)\"/><path d=\"M192.017,146.301L189.977,181.797\" stroke=\"#efb118\" marker-end=\"url(#plot-marker-8)\"/><path d=\"M181.447,186.531L165.535,426.435\" stroke=\"#efb118\" marker-end=\"url(#plot-marker-8)\"/><path d=\"M167.951,347.377L158.159,352.681\" stroke=\"#efb118\" marker-end=\"url(#plot-marker-8)\"/><path d=\"M181.698,190.098L186.594,201.114\" stroke=\"#efb118\" marker-end=\"url(#plot-marker-8)\"/><path d=\"M254.318,249.413L218.822,191.069\" stroke=\"#efb118\" marker-end=\"url(#plot-marker-8)\"/><path d=\"M217.065,213.332L178.713,248.012\" stroke=\"#efb118\" marker-end=\"url(#plot-marker-8)\"/><path d=\"M183.118,261.331L172.51,294.787\" stroke=\"#efb118\" marker-end=\"url(#plot-marker-8)\"/><path d=\"M261.763,54.302L223.003,109.382\" stroke=\"#efb118\" marker-end=\"url(#plot-marker-8)\"/><path d=\"M220.793,207.557L186.929,225.101\" stroke=\"#efb118\" marker-end=\"url(#plot-marker-8)\"/><path d=\"M190.727,261.155L156.047,340.715\" stroke=\"#efb118\" marker-end=\"url(#plot-marker-8)\"/><path d=\"M125.235,294.718L172.563,217.606\" stroke=\"#efb118\" marker-end=\"url(#plot-marker-8)\"/><path d=\"M261.786,162.902L215.682,169.022\" stroke=\"#efb118\" marker-end=\"url(#plot-marker-8)\"/><path d=\"M164.374,425.285L183.142,247.397\" stroke=\"#efb118\" marker-end=\"url(#plot-marker-8)\"/><path d=\"M145.726,163.119L193.87,340.191\" stroke=\"#efb118\" marker-end=\"url(#plot-marker-8)\"/><path d=\"M195.685,247.429L174.877,266.197\" stroke=\"#efb118\" marker-end=\"url(#plot-marker-8)\"/><path d=\"M167.063,342.948L170.327,362.124\" stroke=\"#efb118\" marker-end=\"url(#plot-marker-8)\"/><path d=\"M209.8,142.685L200.824,149.621\" stroke=\"#efb118\" marker-end=\"url(#plot-marker-8)\"/><path d=\"M176.824,121.257L186.208,175.113\" stroke=\"#efb118\" marker-end=\"url(#plot-marker-8)\"/><path d=\"M250.456,211.664L208.024,192.08\" stroke=\"#efb118\" marker-end=\"url(#plot-marker-8)\"/><path d=\"M210.286,182.235L198.454,175.299\" stroke=\"#efb118\" marker-end=\"url(#plot-marker-8)\"/><path d=\"M123.932,376.404L260.204,203.412\" stroke=\"#efb118\" marker-end=\"url(#plot-marker-8)\"/><path d=\"M182.799,242.765L172.599,306.821\" stroke=\"#efb118\" marker-end=\"url(#plot-marker-8)\"/><path d=\"M162.284,269.603L183.5,239.819\" stroke=\"#efb118\" marker-end=\"url(#plot-marker-8)\"/><path d=\"M191.018,236.335L184.49,229.399\" stroke=\"#efb118\" marker-end=\"url(#plot-marker-8)\"/><path d=\"M163.446,328.869L190.782,352.533\" stroke=\"#efb118\" marker-end=\"url(#plot-marker-8)\"/><path d=\"M295.953,205.894L230.265,179.782\" stroke=\"#efb118\" marker-end=\"url(#plot-marker-8)\"/><path d=\"M175.644,198.596L186.252,189.212\" stroke=\"#efb118\" marker-end=\"url(#plot-marker-8)\"/><path d=\"M171.487,179.87L183.319,235.358\" stroke=\"#efb118\" marker-end=\"url(#plot-marker-8)\"/><path d=\"M172.829,101.333L183.845,217.205\" stroke=\"#efb118\" marker-end=\"url(#plot-marker-8)\"/><path d=\"M138.176,189.496L177.752,200.104\" stroke=\"#efb118\" marker-end=\"url(#plot-marker-8)\"/><path d=\"M157.335,203.845L181.407,197.725\" stroke=\"#efb118\" marker-end=\"url(#plot-marker-8)\"/><path d=\"M173.633,240.624L182.201,251.232\" stroke=\"#efb118\" marker-end=\"url(#plot-marker-8)\"/><path d=\"M223.451,180.426L191.627,209.394\" stroke=\"#efb118\" marker-end=\"url(#plot-marker-8)\"/><path d=\"M179.514,209.985L186.042,206.313\" stroke=\"#efb118\" marker-end=\"url(#plot-marker-8)\"/><path d=\"M161.018,313.892L196.922,376.724\" stroke=\"#efb118\" marker-end=\"url(#plot-marker-8)\"/><path d=\"M153.11,327.153L209.414,303.489\" stroke=\"#efb118\" marker-end=\"url(#plot-marker-8)\"/><path d=\"M198.504,150.89L177.696,270.434\" stroke=\"#efb118\" marker-end=\"url(#plot-marker-8)\"/><path d=\"M155.023,406.004L203.167,145.7\" stroke=\"#efb118\" marker-end=\"url(#plot-marker-8)\"/><path d=\"M266.489,195.678L178.361,243.006\" stroke=\"#efb118\" marker-end=\"url(#plot-marker-8)\"/><path d=\"M168.583,344.666L172.255,285.914\" stroke=\"#efb118\" marker-end=\"url(#plot-marker-8)\"/><path d=\"M198.72,337.251L160.776,249.939\" stroke=\"#efb118\" marker-end=\"url(#plot-marker-8)\"/><path d=\"M251.521,275.013L209.497,209.325\" stroke=\"#efb118\" marker-end=\"url(#plot-marker-8)\"/><path d=\"M171.152,353.153L169.112,250.337\" stroke=\"#efb118\" marker-end=\"url(#plot-marker-8)\"/><path d=\"M283.384,86.209L211.984,168.625\" stroke=\"#efb118\" marker-end=\"url(#plot-marker-8)\"/><path d=\"M181.911,271.786L187.623,212.218\" stroke=\"#efb118\" marker-end=\"url(#plot-marker-8)\"/><path d=\"M205.47,167.355L198.126,164.091\" stroke=\"#efb118\" marker-end=\"url(#plot-marker-8)\"/><path d=\"M281.909,274.489L218.669,209.209\" stroke=\"#efb118\" marker-end=\"url(#plot-marker-8)\"/><path d=\"M170.029,181.425L185.125,166.329\" stroke=\"#efb118\" marker-end=\"url(#plot-marker-8)\"/><path d=\"M273.617,282.491L214.049,213.131\" stroke=\"#efb118\" marker-end=\"url(#plot-marker-8)\"/><path d=\"M142.73,268.795L190.874,265.123\" stroke=\"#efb118\" marker-end=\"url(#plot-marker-8)\"/><path d=\"M208.058,192.882L201.122,165.546\" stroke=\"#efb118\" marker-end=\"url(#plot-marker-8)\"/><path d=\"M227.545,290.625L161.041,259.617\" stroke=\"#efb118\" marker-end=\"url(#plot-marker-8)\"/><path d=\"M194.219,180.094L174.635,289.03\" stroke=\"#efb118\" marker-end=\"url(#plot-marker-8)\"/><path d=\"M149.895,342.901L242.919,298.429\" stroke=\"#efb118\" marker-end=\"url(#plot-marker-8)\"/><path d=\"M176.972,349.351L182.684,235.519\" stroke=\"#efb118\" marker-end=\"url(#plot-marker-8)\"/><path d=\"M214.322,102.273L175.97,273.633\" stroke=\"#efb118\" marker-end=\"url(#plot-marker-8)\"/><path d=\"M108.828,195.766L176.556,215.35\" stroke=\"#efb118\" marker-end=\"url(#plot-marker-8)\"/><path d=\"M160.594,186.389L181.402,165.173\" stroke=\"#efb118\" marker-end=\"url(#plot-marker-8)\"/><path d=\"M341.192,98.689L240.008,150.913\" stroke=\"#efb118\" marker-end=\"url(#plot-marker-8)\"/><path d=\"M72.22,254.691L185.644,237.555\" stroke=\"#efb118\" marker-end=\"url(#plot-marker-8)\"/><path d=\"M175.872,313.673L166.488,308.369\" stroke=\"#efb118\" marker-end=\"url(#plot-marker-8)\"/><path d=\"M168.103,107.067L183.607,209.475\" stroke=\"#efb118\" marker-end=\"url(#plot-marker-8)\"/><path d=\"M148.635,272.456L196.371,302.648\" stroke=\"#efb118\" marker-end=\"url(#plot-marker-8)\"/><path d=\"M169.376,335.422L175.904,279.526\" stroke=\"#efb118\" marker-end=\"url(#plot-marker-8)\"/><path d=\"M150.458,308.378L216.146,347.138\" stroke=\"#efb118\" marker-end=\"url(#plot-marker-8)\"/><path d=\"M171.478,267.935L181.678,259.775\" stroke=\"#efb118\" marker-end=\"url(#plot-marker-8)\"/><path d=\"M173.656,285.89L184.672,223.058\" stroke=\"#efb118\" marker-end=\"url(#plot-marker-8)\"/><path d=\"M158.327,332.284L207.695,328.612\" stroke=\"#efb118\" marker-end=\"url(#plot-marker-8)\"/><path d=\"M283.744,216.577L202.96,211.273\" stroke=\"#efb118\" marker-end=\"url(#plot-marker-8)\"/><path d=\"M137.029,264.89L219.853,356.69\" stroke=\"#efb118\" marker-end=\"url(#plot-marker-8)\"/><path d=\"M176.151,392.158L184.311,237.934\" stroke=\"#efb118\" marker-end=\"url(#plot-marker-8)\"/><path d=\"M259.404,239.7L162.3,261.732\" stroke=\"#efb118\" marker-end=\"url(#plot-marker-8)\"/><path d=\"M196.674,284.359L176.682,250.903\" stroke=\"#efb118\" marker-end=\"url(#plot-marker-8)\"/><path d=\"M120.305,187.291L165.185,165.667\" stroke=\"#efb118\" marker-end=\"url(#plot-marker-8)\"/><path d=\"M161.304,141.981L184.152,278.661\" stroke=\"#efb118\" marker-end=\"url(#plot-marker-8)\"/><path d=\"M185.5,317.859L165.508,271.755\" stroke=\"#efb118\" marker-end=\"url(#plot-marker-8)\"/><path d=\"M194.03,202.21L181.79,243.418\" stroke=\"#efb118\" marker-end=\"url(#plot-marker-8)\"/><path d=\"M206.094,150.576L198.75,155.88\" stroke=\"#efb118\" marker-end=\"url(#plot-marker-8)\"/><path d=\"M236.507,142.783L209.579,155.023\" stroke=\"#efb118\" marker-end=\"url(#plot-marker-8)\"/><path d=\"M215.873,232.432L177.521,249.568\" stroke=\"#efb118\" marker-end=\"url(#plot-marker-8)\"/><path d=\"M212.281,179.612L191.065,205.316\" stroke=\"#efb118\" marker-end=\"url(#plot-marker-8)\"/><path d=\"M153.726,129.339L181.062,190.131\" stroke=\"#efb118\" marker-end=\"url(#plot-marker-8)\"/><path d=\"M58.696,254.712L141.928,194.328\" stroke=\"#efb118\" marker-end=\"url(#plot-marker-8)\"/><path d=\"M113.826,313.94L169.722,222.956\" stroke=\"#efb118\" marker-end=\"url(#plot-marker-8)\"/><path d=\"M165.585,293.777L183.129,299.897\" stroke=\"#efb118\" marker-end=\"url(#plot-marker-8)\"/><path d=\"M121.525,308.036L261.061,325.988\" stroke=\"#efb118\" marker-end=\"url(#plot-marker-8)\"/><path d=\"M162.011,345.054L208.523,342.198\" stroke=\"#efb118\" marker-end=\"url(#plot-marker-8)\"/><path d=\"M277.903,262.106L202.423,218.45\" stroke=\"#efb118\" marker-end=\"url(#plot-marker-8)\"/><path d=\"M171.604,211.813L183.844,222.829\" stroke=\"#efb118\" marker-end=\"url(#plot-marker-8)\"/><path d=\"M270.582,209.042L196.326,216.386\" stroke=\"#efb118\" marker-end=\"url(#plot-marker-8)\"/><path d=\"M175.898,373.084L164.066,209.884\" stroke=\"#efb118\" marker-end=\"url(#plot-marker-8)\"/><path d=\"M200.309,142.26L193.781,170.004\" stroke=\"#efb118\" marker-end=\"url(#plot-marker-8)\"/><path d=\"M203.375,268.869L174.407,256.221\" stroke=\"#efb118\" marker-end=\"url(#plot-marker-8)\"/><path d=\"M114.198,349.281L235.374,245.241\" stroke=\"#efb118\" marker-end=\"url(#plot-marker-8)\"/><path d=\"M177.745,361.113L166.321,232.593\" stroke=\"#efb118\" marker-end=\"url(#plot-marker-8)\"/><path d=\"M166.422,248.997L183.15,254.301\" stroke=\"#efb118\" marker-end=\"url(#plot-marker-8)\"/><path d=\"M180.597,152.316L189.165,155.58\" stroke=\"#efb118\" marker-end=\"url(#plot-marker-8)\"/><path d=\"M169.22,250.18L179.828,334.636\" stroke=\"#efb118\" marker-end=\"url(#plot-marker-8)\"/><marker viewBox=\"-5 -5 10 10\" markerWidth=\"6.67\" markerHeight=\"6.67\" orient=\"auto\" fill=\"none\" stroke=\"#4269d0\" stroke-width=\"1.5\" stroke-linecap=\"round\" stroke-linejoin=\"round\" id=\"plot-marker-9\"><path d=\"M-1.5,-3l3,3l-3,3\"/></marker><path d=\"M134.85,155.26L136.142,155.75\" stroke=\"#4269d0\" marker-end=\"url(#plot-marker-9)\"/><path d=\"M125.487,317.096L127.663,314.621\" stroke=\"#4269d0\" marker-end=\"url(#plot-marker-9)\"/><path d=\"M198.714,180.73L198.632,180.226\" stroke=\"#4269d0\" marker-end=\"url(#plot-marker-9)\"/><path d=\"M149.227,411.445L151.172,402.959\" stroke=\"#4269d0\" marker-end=\"url(#plot-marker-9)\"/><path d=\"M225.934,238.715L224.601,238.416\" stroke=\"#4269d0\" marker-end=\"url(#plot-marker-9)\"/><path d=\"M130.965,295.964L132.257,293.094\" stroke=\"#4269d0\" marker-end=\"url(#plot-marker-9)\"/><path d=\"M148.537,317.89L149.517,314.681\" stroke=\"#4269d0\" marker-end=\"url(#plot-marker-9)\"/><path d=\"M249.8,193.789L247.556,195.217\" stroke=\"#4269d0\" marker-end=\"url(#plot-marker-9)\"/><path d=\"M166.246,300.401L166.749,302.74\" stroke=\"#4269d0\" marker-end=\"url(#plot-marker-9)\"/><path d=\"M225.592,92.249L225.007,93.351\" stroke=\"#4269d0\" marker-end=\"url(#plot-marker-9)\"/><path d=\"M192.897,169.279L192.748,170.299\" stroke=\"#4269d0\" marker-end=\"url(#plot-marker-9)\"/><path d=\"M172.316,146.855L172.683,149.792\" stroke=\"#4269d0\" marker-end=\"url(#plot-marker-9)\"/><path d=\"M165.731,262.065L166.302,265.479\" stroke=\"#4269d0\" marker-end=\"url(#plot-marker-9)\"/><path d=\"M176.547,205.418L176.37,211.959\" stroke=\"#4269d0\" marker-end=\"url(#plot-marker-9)\"/><path d=\"M288.785,196.94L286.16,197.035\" stroke=\"#4269d0\" marker-end=\"url(#plot-marker-9)\"/><path d=\"M249.042,280.656L247.329,278.684\" stroke=\"#4269d0\" marker-end=\"url(#plot-marker-9)\"/><path d=\"M160.836,188.771L161.584,190.24\" stroke=\"#4269d0\" marker-end=\"url(#plot-marker-9)\"/><path d=\"M169.563,337.345L169.413,337.141\" stroke=\"#4269d0\" marker-end=\"url(#plot-marker-9)\"/><path d=\"M359.876,90.203L354.844,93.848\" stroke=\"#4269d0\" marker-end=\"url(#plot-marker-9)\"/><path d=\"M187.455,258.112L186.897,259.268\" stroke=\"#4269d0\" marker-end=\"url(#plot-marker-9)\"/><path d=\"M160.571,268.019L161.265,265.68\" stroke=\"#4269d0\" marker-end=\"url(#plot-marker-9)\"/><path d=\"M147.679,209.146L148.835,209.731\" stroke=\"#4269d0\" marker-end=\"url(#plot-marker-9)\"/><path d=\"M177.065,247.706L177.201,247.978\" stroke=\"#4269d0\" marker-end=\"url(#plot-marker-9)\"/><path d=\"M274.075,77.32L271.886,80.407\" stroke=\"#4269d0\" marker-end=\"url(#plot-marker-9)\"/><path d=\"M155.899,160.7L156.81,163.107\" stroke=\"#4269d0\" marker-end=\"url(#plot-marker-9)\"/><path d=\"M97.319,311.62L101.385,309.906\" stroke=\"#4269d0\" marker-end=\"url(#plot-marker-9)\"/><path d=\"M244.412,288.955L243.134,286.48\" stroke=\"#4269d0\" marker-end=\"url(#plot-marker-9)\"/><path d=\"M178.194,246.637L178.52,244.882\" stroke=\"#4269d0\" marker-end=\"url(#plot-marker-9)\"/><path d=\"M256.334,122.385L255.07,123.092\" stroke=\"#4269d0\" marker-end=\"url(#plot-marker-9)\"/><path d=\"M165.671,254.537L166.256,255.299\" stroke=\"#4269d0\" marker-end=\"url(#plot-marker-9)\"/><path d=\"M44.934,324.285L49.218,321.211\" stroke=\"#4269d0\" marker-end=\"url(#plot-marker-9)\"/><path d=\"M164.519,97.807L165.158,106.049\" stroke=\"#4269d0\" marker-end=\"url(#plot-marker-9)\"/><path d=\"M169.089,338.668L168.464,341.361\" stroke=\"#4269d0\" marker-end=\"url(#plot-marker-9)\"/><path d=\"M115.754,337.419L117.304,333.692\" stroke=\"#4269d0\" marker-end=\"url(#plot-marker-9)\"/><path d=\"M159.937,425.683L161.148,414.083\" stroke=\"#4269d0\" marker-end=\"url(#plot-marker-9)\"/><path d=\"M178.344,310.818L177.65,311.512\" stroke=\"#4269d0\" marker-end=\"url(#plot-marker-9)\"/><path d=\"M136.823,317.96L138.115,314.819\" stroke=\"#4269d0\" marker-end=\"url(#plot-marker-9)\"/><path d=\"M158.544,377.681L160.816,369.059\" stroke=\"#4269d0\" marker-end=\"url(#plot-marker-9)\"/><path d=\"M239.457,131.522L238.628,131.767\" stroke=\"#4269d0\" marker-end=\"url(#plot-marker-9)\"/><path d=\"M212.449,398.279L212.109,393.356\" stroke=\"#4269d0\" marker-end=\"url(#plot-marker-9)\"/><path d=\"M172.285,89.215L172.679,93.05\" stroke=\"#4269d0\" marker-end=\"url(#plot-marker-9)\"/><path d=\"M216.983,222.162L215.705,223.006\" stroke=\"#4269d0\" marker-end=\"url(#plot-marker-9)\"/><path d=\"M164.691,231.245L165.303,229.627\" stroke=\"#4269d0\" marker-end=\"url(#plot-marker-9)\"/><path d=\"M163.266,327.405L164.069,326.345\" stroke=\"#4269d0\" marker-end=\"url(#plot-marker-9)\"/><path d=\"M140.263,251.078L142.82,255.376\" stroke=\"#4269d0\" marker-end=\"url(#plot-marker-9)\"/><path d=\"M215.369,332.228L214.091,329.1\" stroke=\"#4269d0\" marker-end=\"url(#plot-marker-9)\"/><path d=\"M256.182,306.467L254.074,303.896\" stroke=\"#4269d0\" marker-end=\"url(#plot-marker-9)\"/><path d=\"M99.98,276.043L103.353,275.431\" stroke=\"#4269d0\" marker-end=\"url(#plot-marker-9)\"/><path d=\"M276.393,201.461L274.353,201.067\" stroke=\"#4269d0\" marker-end=\"url(#plot-marker-9)\"/><path d=\"M109.438,245.707L111.301,244.13\" stroke=\"#4269d0\" marker-end=\"url(#plot-marker-9)\"/><path d=\"M134.275,185.207L135.758,186.01\" stroke=\"#4269d0\" marker-end=\"url(#plot-marker-9)\"/><path d=\"M194.649,247.382L194.145,247.45\" stroke=\"#4269d0\" marker-end=\"url(#plot-marker-9)\"/><path d=\"M145.642,384.598L147.764,378.505\" stroke=\"#4269d0\" marker-end=\"url(#plot-marker-9)\"/><path d=\"M169.768,195.402L170.258,195.321\" stroke=\"#4269d0\" marker-end=\"url(#plot-marker-9)\"/><path d=\"M179.315,222.579L179.615,221.369\" stroke=\"#4269d0\" marker-end=\"url(#plot-marker-9)\"/><path d=\"M207.046,187.005L206.556,187.359\" stroke=\"#4269d0\" marker-end=\"url(#plot-marker-9)\"/><path d=\"M168.886,207.205L169.321,210.143\" stroke=\"#4269d0\" marker-end=\"url(#plot-marker-9)\"/><path d=\"M230.56,353.728L229.907,349.689\" stroke=\"#4269d0\" marker-end=\"url(#plot-marker-9)\"/><path d=\"M156.662,182.31L157.478,182.582\" stroke=\"#4269d0\" marker-end=\"url(#plot-marker-9)\"/><path d=\"M159.15,366.405L160.51,361.401\" stroke=\"#4269d0\" marker-end=\"url(#plot-marker-9)\"/><path d=\"M158.696,217.905L159.702,222.393\" stroke=\"#4269d0\" marker-end=\"url(#plot-marker-9)\"/><path d=\"M184.342,116.401L183.839,126.37\" stroke=\"#4269d0\" marker-end=\"url(#plot-marker-9)\"/><path d=\"M180.87,257.897L180.952,257.135\" stroke=\"#4269d0\" marker-end=\"url(#plot-marker-9)\"/><path d=\"M188.244,387.398L187.632,381.767\" stroke=\"#4269d0\" marker-end=\"url(#plot-marker-9)\"/><path d=\"M133.631,275.235L135.086,273.358\" stroke=\"#4269d0\" marker-end=\"url(#plot-marker-9)\"/><path d=\"M270.454,160.01L268.795,160.146\" stroke=\"#4269d0\" marker-end=\"url(#plot-marker-9)\"/><path d=\"M190.393,175.434L190.148,177.488\" stroke=\"#4269d0\" marker-end=\"url(#plot-marker-9)\"/><path d=\"M175.661,285.321L175.729,284.995\" stroke=\"#4269d0\" marker-end=\"url(#plot-marker-9)\"/><path d=\"M187.814,209.152L187.379,211.926\" stroke=\"#4269d0\" marker-end=\"url(#plot-marker-9)\"/><path d=\"M105.482,296.845L108.23,294.941\" stroke=\"#4269d0\" marker-end=\"url(#plot-marker-9)\"/><path d=\"M183.218,293.812L182.008,296.314\" stroke=\"#4269d0\" marker-end=\"url(#plot-marker-9)\"/><path d=\"M186.569,159.128L186.746,158.965\" stroke=\"#4269d0\" marker-end=\"url(#plot-marker-9)\"/><path d=\"M215.77,93.252L215.403,94.204\" stroke=\"#4269d0\" marker-end=\"url(#plot-marker-9)\"/><path d=\"M271.93,273.469L269.156,272.041\" stroke=\"#4269d0\" marker-end=\"url(#plot-marker-9)\"/><path d=\"M215.08,265.183L212.55,266.965\" stroke=\"#4269d0\" marker-end=\"url(#plot-marker-9)\"/><path d=\"M142.818,209.852L144.001,209.58\" stroke=\"#4269d0\" marker-end=\"url(#plot-marker-9)\"/><path d=\"M223.299,125.368L222.224,127.979\" stroke=\"#4269d0\" marker-end=\"url(#plot-marker-9)\"/><path d=\"M129.382,409.457L131.721,402.888\" stroke=\"#4269d0\" marker-end=\"url(#plot-marker-9)\"/><path d=\"M153.952,275.919L155.802,280.911\" stroke=\"#4269d0\" marker-end=\"url(#plot-marker-9)\"/><path d=\"M172.576,212.863L173.025,211.762\" stroke=\"#4269d0\" marker-end=\"url(#plot-marker-9)\"/><path d=\"M216.28,88.558L215.777,90.272\" stroke=\"#4269d0\" marker-end=\"url(#plot-marker-9)\"/><path d=\"M77.108,282.326L80.386,280.518\" stroke=\"#4269d0\" marker-end=\"url(#plot-marker-9)\"/><path d=\"M191.897,276.231L190.7,277.714\" stroke=\"#4269d0\" marker-end=\"url(#plot-marker-9)\"/><path d=\"M269.035,205.527L266.573,205.921\" stroke=\"#4269d0\" marker-end=\"url(#plot-marker-9)\"/><path d=\"M201.201,175.177L200.942,175.436\" stroke=\"#4269d0\" marker-end=\"url(#plot-marker-9)\"/><path d=\"M125.478,339.822L128.239,336.734\" stroke=\"#4269d0\" marker-end=\"url(#plot-marker-9)\"/><path d=\"M200.19,310.627L198.177,310.138\" stroke=\"#4269d0\" marker-end=\"url(#plot-marker-9)\"/><path d=\"M222.005,176.016L221.121,176.669\" stroke=\"#4269d0\" marker-end=\"url(#plot-marker-9)\"/><path d=\"M161.294,220.803L162.056,222.191\" stroke=\"#4269d0\" marker-end=\"url(#plot-marker-9)\"/><path d=\"M182.773,303.687L182.501,302.327\" stroke=\"#4269d0\" marker-end=\"url(#plot-marker-9)\"/><path d=\"M115.852,214.196L118.64,216.467\" stroke=\"#4269d0\" marker-end=\"url(#plot-marker-9)\"/><path d=\"M199.816,178.001L199.449,178.939\" stroke=\"#4269d0\" marker-end=\"url(#plot-marker-9)\"/><path d=\"M154.18,328.463L157.064,330.625\" stroke=\"#4269d0\" marker-end=\"url(#plot-marker-9)\"/><path d=\"M144.257,302.124L147.494,305.13\" stroke=\"#4269d0\" marker-end=\"url(#plot-marker-9)\"/><path d=\"M269.969,71.447L268.418,73.215\" stroke=\"#4269d0\" marker-end=\"url(#plot-marker-9)\"/><path d=\"M243.436,56.314L242.525,58.028\" stroke=\"#4269d0\" marker-end=\"url(#plot-marker-9)\"/><path d=\"M224.94,129.47L224.368,129.837\" stroke=\"#4269d0\" marker-end=\"url(#plot-marker-9)\"/><path d=\"M155.964,309.114L157.283,308.815\" stroke=\"#4269d0\" marker-end=\"url(#plot-marker-9)\"/><path d=\"M167.228,391.298L167.622,383.628\" stroke=\"#4269d0\" marker-end=\"url(#plot-marker-9)\"/><path d=\"M166.405,295.381L166.949,294.633\" stroke=\"#4269d0\" marker-end=\"url(#plot-marker-9)\"/><path d=\"M162.447,154.668L163.114,155.267\" stroke=\"#4269d0\" marker-end=\"url(#plot-marker-9)\"/><path d=\"M146.71,329.583L148.151,326.782\" stroke=\"#4269d0\" marker-end=\"url(#plot-marker-9)\"/><path d=\"M149.393,198.521L150.426,198.752\" stroke=\"#4269d0\" marker-end=\"url(#plot-marker-9)\"/><path d=\"M203.61,227.605L203.175,227.02\" stroke=\"#4269d0\" marker-end=\"url(#plot-marker-9)\"/><path d=\"M211.846,312.046L211.016,309.353\" stroke=\"#4269d0\" marker-end=\"url(#plot-marker-9)\"/><path d=\"M172.117,207.26L172.552,206.798\" stroke=\"#4269d0\" marker-end=\"url(#plot-marker-9)\"/><path d=\"M256.462,98.03L255.184,99.268\" stroke=\"#4269d0\" marker-end=\"url(#plot-marker-9)\"/><path d=\"M279.511,220.853L277.566,219.792\" stroke=\"#4269d0\" marker-end=\"url(#plot-marker-9)\"/><path d=\"M136.958,209.568L138.508,210.438\" stroke=\"#4269d0\" marker-end=\"url(#plot-marker-9)\"/><path d=\"M164.471,386.678L165.233,377.634\" stroke=\"#4269d0\" marker-end=\"url(#plot-marker-9)\"/><path d=\"M177.958,413.043L177.89,406.052\" stroke=\"#4269d0\" marker-end=\"url(#plot-marker-9)\"/><path d=\"M142.015,235.053L144.178,239.228\" stroke=\"#4269d0\" marker-end=\"url(#plot-marker-9)\"/><path d=\"M197.547,170.757L197.343,171.315\" stroke=\"#4269d0\" marker-end=\"url(#plot-marker-9)\"/><path d=\"M171.037,335.743L170.588,335.974\" stroke=\"#4269d0\" marker-end=\"url(#plot-marker-9)\"/><path d=\"M149.471,221.997L150.518,221.725\" stroke=\"#4269d0\" marker-end=\"url(#plot-marker-9)\"/><path d=\"M172.432,190.788L172.881,190.217\" stroke=\"#4269d0\" marker-end=\"url(#plot-marker-9)\"/><path d=\"M130.302,296.385L131.635,293.556\" stroke=\"#4269d0\" marker-end=\"url(#plot-marker-9)\"/><path d=\"M166.346,243.088L166.917,242.218\" stroke=\"#4269d0\" marker-end=\"url(#plot-marker-9)\"/><path d=\"M295.318,200.03L292.014,200.669\" stroke=\"#4269d0\" marker-end=\"url(#plot-marker-9)\"/><path d=\"M186.749,246.857L186.531,247.007\" stroke=\"#4269d0\" marker-end=\"url(#plot-marker-9)\"/><path d=\"M180.649,278.812L180.758,277.248\" stroke=\"#4269d0\" marker-end=\"url(#plot-marker-9)\"/><path d=\"M176.768,267.587L176.931,266.947\" stroke=\"#4269d0\" marker-end=\"url(#plot-marker-9)\"/><path d=\"M259.072,226.041L255.591,227.701\" stroke=\"#4269d0\" marker-end=\"url(#plot-marker-9)\"/><path d=\"M154.243,322.149L157.33,326.324\" stroke=\"#4269d0\" marker-end=\"url(#plot-marker-9)\"/><path d=\"M224.23,130.379L223.7,130.623\" stroke=\"#4269d0\" marker-end=\"url(#plot-marker-9)\"/><path d=\"M191.907,344.092L191.798,340.352\" stroke=\"#4269d0\" marker-end=\"url(#plot-marker-9)\"/><path d=\"M214.131,171.173L212.676,174.954\" stroke=\"#4269d0\" marker-end=\"url(#plot-marker-9)\"/><path d=\"M140.533,423.25L143.566,412.846\" stroke=\"#4269d0\" marker-end=\"url(#plot-marker-9)\"/><path d=\"M166.483,293.794L167.054,291.264\" stroke=\"#4269d0\" marker-end=\"url(#plot-marker-9)\"/><path d=\"M195.429,107.676L195.198,110.478\" stroke=\"#4269d0\" marker-end=\"url(#plot-marker-9)\"/><path d=\"M278.476,331.829L276.898,328.212\" stroke=\"#4269d0\" marker-end=\"url(#plot-marker-9)\"/><path d=\"M195.951,286.829L193.857,289.073\" stroke=\"#4269d0\" marker-end=\"url(#plot-marker-9)\"/><path d=\"M103.994,182.659L105.83,182.074\" stroke=\"#4269d0\" marker-end=\"url(#plot-marker-9)\"/><path d=\"M168.578,347.362L168.143,347.103\" stroke=\"#4269d0\" marker-end=\"url(#plot-marker-9)\"/><path d=\"M163.792,223.041L164.472,225.897\" stroke=\"#4269d0\" marker-end=\"url(#plot-marker-9)\"/><path d=\"M195.205,288.736L192.893,291.483\" stroke=\"#4269d0\" marker-end=\"url(#plot-marker-9)\"/><path d=\"M184.854,302.466L182.963,305.594\" stroke=\"#4269d0\" marker-end=\"url(#plot-marker-9)\"/><path d=\"M159.88,134.429L160.614,135.844\" stroke=\"#4269d0\" marker-end=\"url(#plot-marker-9)\"/><path d=\"M200.741,287.439L199.395,287.248\" stroke=\"#4269d0\" marker-end=\"url(#plot-marker-9)\"/><path d=\"M213.338,208.673L212.318,209.611\" stroke=\"#4269d0\" marker-end=\"url(#plot-marker-9)\"/><path d=\"M196.828,240.023L196.76,238.405\" stroke=\"#4269d0\" marker-end=\"url(#plot-marker-9)\"/><path d=\"M207.157,143.987L206.885,144.327\" stroke=\"#4269d0\" marker-end=\"url(#plot-marker-9)\"/><path d=\"M103.363,191.362L105.974,192.668\" stroke=\"#4269d0\" marker-end=\"url(#plot-marker-9)\"/><path d=\"M263.538,228.519L260.75,228.887\" stroke=\"#4269d0\" marker-end=\"url(#plot-marker-9)\"/><path d=\"M152.472,345.103L155.859,344.042\" stroke=\"#4269d0\" marker-end=\"url(#plot-marker-9)\"/><path d=\"M152.126,155.246L153.704,166.18\" stroke=\"#4269d0\" marker-end=\"url(#plot-marker-9)\"/><path d=\"M183.988,301.396L183.308,301.232\" stroke=\"#4269d0\" marker-end=\"url(#plot-marker-9)\"/><path d=\"M202.367,281.114L201.564,279.931\" stroke=\"#4269d0\" marker-end=\"url(#plot-marker-9)\"/><path d=\"M292.099,115.624L287.883,120.737\" stroke=\"#4269d0\" marker-end=\"url(#plot-marker-9)\"/><path d=\"M183.351,96.22L183.527,98.246\" stroke=\"#4269d0\" marker-end=\"url(#plot-marker-9)\"/><path d=\"M189.907,349.816L189.635,346.008\" stroke=\"#4269d0\" marker-end=\"url(#plot-marker-9)\"/><path d=\"M178.163,150.62L178.475,151.137\" stroke=\"#4269d0\" marker-end=\"url(#plot-marker-9)\"/><path d=\"M159.233,337.55L160.716,336.544\" stroke=\"#4269d0\" marker-end=\"url(#plot-marker-9)\"/><path d=\"M216.601,91.24L216.044,93.144\" stroke=\"#4269d0\" marker-end=\"url(#plot-marker-9)\"/><path d=\"M195.625,52.086L195.462,55.677\" stroke=\"#4269d0\" marker-end=\"url(#plot-marker-9)\"/><path d=\"M152.697,223.263L153.704,223.494\" stroke=\"#4269d0\" marker-end=\"url(#plot-marker-9)\"/><path d=\"M171.81,411.141L172.123,404.695\" stroke=\"#4269d0\" marker-end=\"url(#plot-marker-9)\"/><path d=\"M233.76,56.083L231.924,62.734\" stroke=\"#4269d0\" marker-end=\"url(#plot-marker-9)\"/><path d=\"M184.642,302.398L183.241,304.166\" stroke=\"#4269d0\" marker-end=\"url(#plot-marker-9)\"/><path d=\"M173.671,261.216L173.753,263.188\" stroke=\"#4269d0\" marker-end=\"url(#plot-marker-9)\"/><path d=\"M190.579,282.098L190.171,281.037\" stroke=\"#4269d0\" marker-end=\"url(#plot-marker-9)\"/><path d=\"M281.367,199.003L279.586,198.146\" stroke=\"#4269d0\" marker-end=\"url(#plot-marker-9)\"/><path d=\"M198.813,173.131L198.65,173.226\" stroke=\"#4269d0\" marker-end=\"url(#plot-marker-9)\"/><path d=\"M229.52,256.53L227.956,255.85\" stroke=\"#4269d0\" marker-end=\"url(#plot-marker-9)\"/><path d=\"M156.684,265.694L157.704,266.089\" stroke=\"#4269d0\" marker-end=\"url(#plot-marker-9)\"/><path d=\"M128.466,267.377L130.941,267.907\" stroke=\"#4269d0\" marker-end=\"url(#plot-marker-9)\"/><path d=\"M199.367,251.367L198.823,250.85\" stroke=\"#4269d0\" marker-end=\"url(#plot-marker-9)\"/><path d=\"M180.163,417.39L180.408,411.854\" stroke=\"#4269d0\" marker-end=\"url(#plot-marker-9)\"/><path d=\"M216.796,314.03L215.545,311.514\" stroke=\"#4269d0\" marker-end=\"url(#plot-marker-9)\"/><path d=\"M226.38,268.692L225.415,266.87\" stroke=\"#4269d0\" marker-end=\"url(#plot-marker-9)\"/><path d=\"M167.148,292.234L167.651,291.704\" stroke=\"#4269d0\" marker-end=\"url(#plot-marker-9)\"/><path d=\"M184.804,158.877L184.94,159.503\" stroke=\"#4269d0\" marker-end=\"url(#plot-marker-9)\"/><path d=\"M189.601,250.886L189.18,251.307\" stroke=\"#4269d0\" marker-end=\"url(#plot-marker-9)\"/><path d=\"M153.458,108.403L154.315,109.695\" stroke=\"#4269d0\" marker-end=\"url(#plot-marker-9)\"/><path d=\"M182.8,246.842L183.044,244.978\" stroke=\"#4269d0\" marker-end=\"url(#plot-marker-9)\"/><path d=\"M88.624,242.187L91.235,241.113\" stroke=\"#4269d0\" marker-end=\"url(#plot-marker-9)\"/><path d=\"M188.408,363.626L187.674,359.233\" stroke=\"#4269d0\" marker-end=\"url(#plot-marker-9)\"/><path d=\"M168.314,369.958L168.845,365.566\" stroke=\"#4269d0\" marker-end=\"url(#plot-marker-9)\"/><path d=\"M65.313,306.511L68.536,303.75\" stroke=\"#4269d0\" marker-end=\"url(#plot-marker-9)\"/><path d=\"M234.004,236.887L232.576,236.356\" stroke=\"#4269d0\" marker-end=\"url(#plot-marker-9)\"/><path d=\"M167.74,347.337L167.604,346.943\" stroke=\"#4269d0\" marker-end=\"url(#plot-marker-9)\"/><path d=\"M168.115,348.02L167.951,347.041\" stroke=\"#4269d0\" marker-end=\"url(#plot-marker-9)\"/><path d=\"M216.1,237.8L215.637,236.195\" stroke=\"#4269d0\" marker-end=\"url(#plot-marker-9)\"/><path d=\"M193.905,232.93L192.966,235.596\" stroke=\"#4269d0\" marker-end=\"url(#plot-marker-9)\"/><path d=\"M243.369,284.145L242.417,281.493\" stroke=\"#4269d0\" marker-end=\"url(#plot-marker-9)\"/><path d=\"M82.762,273.977L84.965,271.488\" stroke=\"#4269d0\" marker-end=\"url(#plot-marker-9)\"/><path d=\"M156.412,329.399L158.194,329.209\" stroke=\"#4269d0\" marker-end=\"url(#plot-marker-9)\"/><path d=\"M157.967,319.653L159.055,318.13\" stroke=\"#4269d0\" marker-end=\"url(#plot-marker-9)\"/><path d=\"M221.993,65.609L221.299,68.166\" stroke=\"#4269d0\" marker-end=\"url(#plot-marker-9)\"/><path d=\"M214.088,201.935L213.109,202.887\" stroke=\"#4269d0\" marker-end=\"url(#plot-marker-9)\"/><path d=\"M157.82,257.692L158.99,261.228\" stroke=\"#4269d0\" marker-end=\"url(#plot-marker-9)\"/><path d=\"M201.278,263.854L200.108,264.411\" stroke=\"#4269d0\" marker-end=\"url(#plot-marker-9)\"/><path d=\"M115.325,278.646L117.365,276.824\" stroke=\"#4269d0\" marker-end=\"url(#plot-marker-9)\"/><path d=\"M194.897,256.958L194.57,256.019\" stroke=\"#4269d0\" marker-end=\"url(#plot-marker-9)\"/><path d=\"M201.892,52.471L201.62,55.64\" stroke=\"#4269d0\" marker-end=\"url(#plot-marker-9)\"/><path d=\"M196.683,224.636L196.479,223.943\" stroke=\"#4269d0\" marker-end=\"url(#plot-marker-9)\"/><path d=\"M178.033,310.815L177.53,310.896\" stroke=\"#4269d0\" marker-end=\"url(#plot-marker-9)\"/><path d=\"M56.455,239.638L59.515,238.196\" stroke=\"#4269d0\" marker-end=\"url(#plot-marker-9)\"/><path d=\"M156.38,371.352L157.89,365.993\" stroke=\"#4269d0\" marker-end=\"url(#plot-marker-9)\"/><path d=\"M252.342,200.933L251.104,200.131\" stroke=\"#4269d0\" marker-end=\"url(#plot-marker-9)\"/><path d=\"M209.504,154.186L209.246,154.023\" stroke=\"#4269d0\" marker-end=\"url(#plot-marker-9)\"/><path d=\"M280.963,246.549L279.263,244.645\" stroke=\"#4269d0\" marker-end=\"url(#plot-marker-9)\"/><path d=\"M192.017,146.301L191.949,147.485\" stroke=\"#4269d0\" marker-end=\"url(#plot-marker-9)\"/><path d=\"M181.447,186.531L180.917,194.527\" stroke=\"#4269d0\" marker-end=\"url(#plot-marker-9)\"/><path d=\"M167.951,347.377L167.624,347.554\" stroke=\"#4269d0\" marker-end=\"url(#plot-marker-9)\"/><path d=\"M181.698,190.098L181.861,190.466\" stroke=\"#4269d0\" marker-end=\"url(#plot-marker-9)\"/><path d=\"M254.318,249.413L253.135,247.468\" stroke=\"#4269d0\" marker-end=\"url(#plot-marker-9)\"/><path d=\"M217.065,213.332L215.786,214.488\" stroke=\"#4269d0\" marker-end=\"url(#plot-marker-9)\"/><path d=\"M183.118,261.331L182.765,262.446\" stroke=\"#4269d0\" marker-end=\"url(#plot-marker-9)\"/><path d=\"M261.763,54.302L260.471,56.138\" stroke=\"#4269d0\" marker-end=\"url(#plot-marker-9)\"/><path d=\"M220.793,207.557L219.664,208.142\" stroke=\"#4269d0\" marker-end=\"url(#plot-marker-9)\"/><path d=\"M190.727,261.155L189.571,263.807\" stroke=\"#4269d0\" marker-end=\"url(#plot-marker-9)\"/><path d=\"M125.235,294.718L126.813,292.147\" stroke=\"#4269d0\" marker-end=\"url(#plot-marker-9)\"/><path d=\"M261.786,162.902L260.249,163.106\" stroke=\"#4269d0\" marker-end=\"url(#plot-marker-9)\"/><path d=\"M164.374,425.285L165,419.356\" stroke=\"#4269d0\" marker-end=\"url(#plot-marker-9)\"/><path d=\"M145.726,163.119L147.331,169.021\" stroke=\"#4269d0\" marker-end=\"url(#plot-marker-9)\"/><path d=\"M195.685,247.429L194.991,248.055\" stroke=\"#4269d0\" marker-end=\"url(#plot-marker-9)\"/><path d=\"M167.063,342.948L167.171,343.587\" stroke=\"#4269d0\" marker-end=\"url(#plot-marker-9)\"/><path d=\"M209.8,142.685L209.5,142.916\" stroke=\"#4269d0\" marker-end=\"url(#plot-marker-9)\"/><path d=\"M176.824,121.257L177.137,123.052\" stroke=\"#4269d0\" marker-end=\"url(#plot-marker-9)\"/><path d=\"M250.456,211.664L249.041,211.011\" stroke=\"#4269d0\" marker-end=\"url(#plot-marker-9)\"/><path d=\"M210.286,182.235L209.891,182.004\" stroke=\"#4269d0\" marker-end=\"url(#plot-marker-9)\"/><path d=\"M123.932,376.404L128.474,370.638\" stroke=\"#4269d0\" marker-end=\"url(#plot-marker-9)\"/><path d=\"M182.799,242.765L182.459,244.9\" stroke=\"#4269d0\" marker-end=\"url(#plot-marker-9)\"/><path d=\"M162.284,269.603L162.991,268.61\" stroke=\"#4269d0\" marker-end=\"url(#plot-marker-9)\"/><path d=\"M191.018,236.335L190.8,236.104\" stroke=\"#4269d0\" marker-end=\"url(#plot-marker-9)\"/><path d=\"M163.446,328.869L164.357,329.658\" stroke=\"#4269d0\" marker-end=\"url(#plot-marker-9)\"/><path d=\"M295.953,205.894L293.763,205.024\" stroke=\"#4269d0\" marker-end=\"url(#plot-marker-9)\"/><path d=\"M175.644,198.596L175.998,198.283\" stroke=\"#4269d0\" marker-end=\"url(#plot-marker-9)\"/><path d=\"M171.487,179.87L171.881,181.72\" stroke=\"#4269d0\" marker-end=\"url(#plot-marker-9)\"/><path d=\"M172.829,101.333L173.196,105.196\" stroke=\"#4269d0\" marker-end=\"url(#plot-marker-9)\"/><path d=\"M138.176,189.496L139.495,189.85\" stroke=\"#4269d0\" marker-end=\"url(#plot-marker-9)\"/><path d=\"M157.335,203.845L158.137,203.641\" stroke=\"#4269d0\" marker-end=\"url(#plot-marker-9)\"/><path d=\"M173.633,240.624L173.919,240.978\" stroke=\"#4269d0\" marker-end=\"url(#plot-marker-9)\"/><path d=\"M223.451,180.426L222.39,181.392\" stroke=\"#4269d0\" marker-end=\"url(#plot-marker-9)\"/><path d=\"M179.514,209.985L179.731,209.863\" stroke=\"#4269d0\" marker-end=\"url(#plot-marker-9)\"/><path d=\"M161.018,313.892L162.215,315.986\" stroke=\"#4269d0\" marker-end=\"url(#plot-marker-9)\"/><path d=\"M153.11,327.153L154.986,326.364\" stroke=\"#4269d0\" marker-end=\"url(#plot-marker-9)\"/><path d=\"M198.504,150.89L197.811,154.875\" stroke=\"#4269d0\" marker-end=\"url(#plot-marker-9)\"/><path d=\"M155.023,406.004L156.628,397.327\" stroke=\"#4269d0\" marker-end=\"url(#plot-marker-9)\"/><path d=\"M266.489,195.678L263.551,197.256\" stroke=\"#4269d0\" marker-end=\"url(#plot-marker-9)\"/><path d=\"M168.583,344.666L168.705,342.707\" stroke=\"#4269d0\" marker-end=\"url(#plot-marker-9)\"/><path d=\"M198.72,337.251L197.455,334.341\" stroke=\"#4269d0\" marker-end=\"url(#plot-marker-9)\"/><path d=\"M251.521,275.013L250.121,272.824\" stroke=\"#4269d0\" marker-end=\"url(#plot-marker-9)\"/><path d=\"M171.152,353.153L171.084,349.726\" stroke=\"#4269d0\" marker-end=\"url(#plot-marker-9)\"/><path d=\"M283.384,86.209L281.004,88.956\" stroke=\"#4269d0\" marker-end=\"url(#plot-marker-9)\"/><path d=\"M181.911,271.786L182.101,269.8\" stroke=\"#4269d0\" marker-end=\"url(#plot-marker-9)\"/><path d=\"M205.47,167.355L205.225,167.246\" stroke=\"#4269d0\" marker-end=\"url(#plot-marker-9)\"/><path d=\"M281.909,274.489L279.801,272.313\" stroke=\"#4269d0\" marker-end=\"url(#plot-marker-9)\"/><path d=\"M170.029,181.425L170.532,180.921\" stroke=\"#4269d0\" marker-end=\"url(#plot-marker-9)\"/><path d=\"M273.617,282.491L271.631,280.179\" stroke=\"#4269d0\" marker-end=\"url(#plot-marker-9)\"/><path d=\"M142.73,268.795L144.335,268.672\" stroke=\"#4269d0\" marker-end=\"url(#plot-marker-9)\"/><path d=\"M208.058,192.882L207.827,191.971\" stroke=\"#4269d0\" marker-end=\"url(#plot-marker-9)\"/><path d=\"M227.545,290.625L225.328,289.591\" stroke=\"#4269d0\" marker-end=\"url(#plot-marker-9)\"/><path d=\"M194.219,180.094L193.566,183.725\" stroke=\"#4269d0\" marker-end=\"url(#plot-marker-9)\"/><path d=\"M149.895,342.901L152.996,341.419\" stroke=\"#4269d0\" marker-end=\"url(#plot-marker-9)\"/><path d=\"M176.972,349.351L177.162,345.556\" stroke=\"#4269d0\" marker-end=\"url(#plot-marker-9)\"/><path d=\"M214.322,102.273L213.044,107.985\" stroke=\"#4269d0\" marker-end=\"url(#plot-marker-9)\"/><path d=\"M108.828,195.766L111.086,196.419\" stroke=\"#4269d0\" marker-end=\"url(#plot-marker-9)\"/><path d=\"M160.594,186.389L161.287,185.681\" stroke=\"#4269d0\" marker-end=\"url(#plot-marker-9)\"/><path d=\"M341.192,98.689L337.82,100.43\" stroke=\"#4269d0\" marker-end=\"url(#plot-marker-9)\"/><path d=\"M72.22,254.691L76.001,254.119\" stroke=\"#4269d0\" marker-end=\"url(#plot-marker-9)\"/><path d=\"M175.872,313.673L175.559,313.497\" stroke=\"#4269d0\" marker-end=\"url(#plot-marker-9)\"/><path d=\"M168.103,107.067L168.62,110.481\" stroke=\"#4269d0\" marker-end=\"url(#plot-marker-9)\"/><path d=\"M148.635,272.456L150.226,273.463\" stroke=\"#4269d0\" marker-end=\"url(#plot-marker-9)\"/><path d=\"M169.376,335.422L169.594,333.559\" stroke=\"#4269d0\" marker-end=\"url(#plot-marker-9)\"/><path d=\"M150.458,308.378L152.647,309.67\" stroke=\"#4269d0\" marker-end=\"url(#plot-marker-9)\"/><path d=\"M171.478,267.935L171.818,267.663\" stroke=\"#4269d0\" marker-end=\"url(#plot-marker-9)\"/><path d=\"M173.656,285.89L174.023,283.795\" stroke=\"#4269d0\" marker-end=\"url(#plot-marker-9)\"/><path d=\"M158.327,332.284L159.973,332.161\" stroke=\"#4269d0\" marker-end=\"url(#plot-marker-9)\"/><path d=\"M283.744,216.577L281.052,216.4\" stroke=\"#4269d0\" marker-end=\"url(#plot-marker-9)\"/><path d=\"M137.029,264.89L139.789,267.95\" stroke=\"#4269d0\" marker-end=\"url(#plot-marker-9)\"/><path d=\"M176.151,392.158L176.423,387.017\" stroke=\"#4269d0\" marker-end=\"url(#plot-marker-9)\"/><path d=\"M259.404,239.7L256.167,240.434\" stroke=\"#4269d0\" marker-end=\"url(#plot-marker-9)\"/><path d=\"M196.674,284.359L196.007,283.244\" stroke=\"#4269d0\" marker-end=\"url(#plot-marker-9)\"/><path d=\"M120.305,187.291L121.801,186.57\" stroke=\"#4269d0\" marker-end=\"url(#plot-marker-9)\"/><path d=\"M161.304,141.981L162.065,146.537\" stroke=\"#4269d0\" marker-end=\"url(#plot-marker-9)\"/><path d=\"M185.5,317.859L184.834,316.322\" stroke=\"#4269d0\" marker-end=\"url(#plot-marker-9)\"/><path d=\"M194.03,202.21L193.622,203.583\" stroke=\"#4269d0\" marker-end=\"url(#plot-marker-9)\"/><path d=\"M206.094,150.576L205.849,150.753\" stroke=\"#4269d0\" marker-end=\"url(#plot-marker-9)\"/><path d=\"M236.507,142.783L235.61,143.191\" stroke=\"#4269d0\" marker-end=\"url(#plot-marker-9)\"/><path d=\"M215.873,232.432L214.595,233.003\" stroke=\"#4269d0\" marker-end=\"url(#plot-marker-9)\"/><path d=\"M212.281,179.612L211.573,180.469\" stroke=\"#4269d0\" marker-end=\"url(#plot-marker-9)\"/><path d=\"M153.726,129.339L154.637,131.365\" stroke=\"#4269d0\" marker-end=\"url(#plot-marker-9)\"/><path d=\"M58.696,254.712L61.471,252.7\" stroke=\"#4269d0\" marker-end=\"url(#plot-marker-9)\"/><path d=\"M113.826,313.94L115.689,310.907\" stroke=\"#4269d0\" marker-end=\"url(#plot-marker-9)\"/><path d=\"M165.585,293.777L166.17,293.981\" stroke=\"#4269d0\" marker-end=\"url(#plot-marker-9)\"/><path d=\"M121.525,308.036L126.177,308.634\" stroke=\"#4269d0\" marker-end=\"url(#plot-marker-9)\"/><path d=\"M162.011,345.054L163.562,344.959\" stroke=\"#4269d0\" marker-end=\"url(#plot-marker-9)\"/><path d=\"M277.903,262.106L275.387,260.651\" stroke=\"#4269d0\" marker-end=\"url(#plot-marker-9)\"/><path d=\"M171.604,211.813L172.012,212.18\" stroke=\"#4269d0\" marker-end=\"url(#plot-marker-9)\"/><path d=\"M270.582,209.042L268.107,209.287\" stroke=\"#4269d0\" marker-end=\"url(#plot-marker-9)\"/><path d=\"M175.898,373.084L175.504,367.644\" stroke=\"#4269d0\" marker-end=\"url(#plot-marker-9)\"/><path d=\"M200.309,142.26L200.091,143.185\" stroke=\"#4269d0\" marker-end=\"url(#plot-marker-9)\"/><path d=\"M203.375,268.869L202.41,268.448\" stroke=\"#4269d0\" marker-end=\"url(#plot-marker-9)\"/><path d=\"M114.198,349.281L118.237,345.813\" stroke=\"#4269d0\" marker-end=\"url(#plot-marker-9)\"/><path d=\"M177.745,361.113L177.364,356.829\" stroke=\"#4269d0\" marker-end=\"url(#plot-marker-9)\"/><path d=\"M166.422,248.997L166.98,249.174\" stroke=\"#4269d0\" marker-end=\"url(#plot-marker-9)\"/><path d=\"M180.597,152.316L180.883,152.425\" stroke=\"#4269d0\" marker-end=\"url(#plot-marker-9)\"/><path d=\"M169.22,250.18L169.574,252.996\" stroke=\"#4269d0\" marker-end=\"url(#plot-marker-9)\"/></g><g aria-label=\"rect\" fill=\"none\" stroke=\"currentColor\"><rect x=\"142\" y=\"155.99999999999997\" width=\"136\" height=\"135.99999999999997\"/></g></svg>"
      ],
      "text/plain": [
       "<IPython.core.display.SVG object>"
      ]
     },
     "metadata": {},
     "output_type": "display_data"
    }
   ],
   "source": [
    "actual_hailstones = problem.parse_input_text_file()\n",
    "domain = [200000000000000, 400000000000000]\n",
    "show_links(\n",
    "    pd.concat(\n",
    "        [\n",
    "            compute_vectors(actual_hailstones, time_in_ns=t)\n",
    "            for t in [600000000000, 20000000000]\n",
    "        ],\n",
    "    ),\n",
    "    strokeWidth=1,\n",
    "    x_domain_test_area=domain,\n",
    "    y_domain_test_area=domain,\n",
    "    do_highlight_text=True,  # Only keep some text to avoid clutter\n",
    ")"
   ]
  },
  {
   "cell_type": "markdown",
   "metadata": {},
   "source": [
    "## Part 2\n"
   ]
  },
  {
   "cell_type": "markdown",
   "metadata": {},
   "source": [
    "### With Example Input\n"
   ]
  },
  {
   "cell_type": "markdown",
   "metadata": {},
   "source": [
    "The problem description gives the initial position and velocity of a rock that would intersect with every hailstones.\n"
   ]
  },
  {
   "cell_type": "code",
   "execution_count": 465,
   "metadata": {},
   "outputs": [
    {
     "data": {
      "text/html": [
       "<div>\n",
       "<style scoped>\n",
       "    .dataframe tbody tr th:only-of-type {\n",
       "        vertical-align: middle;\n",
       "    }\n",
       "\n",
       "    .dataframe tbody tr th {\n",
       "        vertical-align: top;\n",
       "    }\n",
       "\n",
       "    .dataframe thead th {\n",
       "        text-align: right;\n",
       "    }\n",
       "</style>\n",
       "<table border=\"1\" class=\"dataframe\">\n",
       "  <thead>\n",
       "    <tr style=\"text-align: right;\">\n",
       "      <th></th>\n",
       "      <th>x1</th>\n",
       "      <th>y1</th>\n",
       "      <th>x2</th>\n",
       "      <th>y2</th>\n",
       "      <th>time_in_ns</th>\n",
       "    </tr>\n",
       "  </thead>\n",
       "  <tbody>\n",
       "    <tr>\n",
       "      <th>0</th>\n",
       "      <td>24</td>\n",
       "      <td>13</td>\n",
       "      <td>21</td>\n",
       "      <td>14</td>\n",
       "      <td>1</td>\n",
       "    </tr>\n",
       "  </tbody>\n",
       "</table>\n",
       "</div>"
      ],
      "text/plain": [
       "   x1  y1  x2  y2  time_in_ns\n",
       "0  24  13  21  14           1"
      ]
     },
     "execution_count": 465,
     "metadata": {},
     "output_type": "execute_result"
    }
   ],
   "source": [
    "import numpy as np\n",
    "\n",
    "rock = Hailstone(position=np.array([24, 13, 10]), velocity=np.array([-3, 1, 2]))\n",
    "\n",
    "rock_df = compute_vectors(\n",
    "    [rock],\n",
    "    time_in_ns=1\n",
    ")\n",
    "rock_df"
   ]
  },
  {
   "cell_type": "code",
   "execution_count": 466,
   "metadata": {},
   "outputs": [
    {
     "data": {
      "image/svg+xml": [
       "<svg xmlns=\"http://www.w3.org/2000/svg\" xmlns:xlink=\"http://www.w3.org/1999/xlink\" class=\"plot-d6a7b5\" fill=\"currentColor\" font-family=\"system-ui, sans-serif\" font-size=\"10\" text-anchor=\"middle\" width=\"400\" height=\"645\" viewBox=\"0 0 400 645\" style=\"color: white; background-color: black;\"><style>:where(.plot-d6a7b5) {\n",
       "  --plot-background: white;\n",
       "  display: block;\n",
       "  height: auto;\n",
       "  height: intrinsic;\n",
       "  max-width: 100%;\n",
       "}\n",
       ":where(.plot-d6a7b5 text),\n",
       ":where(.plot-d6a7b5 tspan) {\n",
       "  white-space: pre;\n",
       "}</style><g aria-label=\"y-grid\" aria-hidden=\"true\" stroke=\"currentColor\" stroke-opacity=\"0.1\"><line x1=\"40\" x2=\"380\" y1=\"615\" y2=\"615\"/><line x1=\"40\" x2=\"380\" y1=\"572.5\" y2=\"572.5\"/><line x1=\"40\" x2=\"380\" y1=\"530.0000000000001\" y2=\"530.0000000000001\"/><line x1=\"40\" x2=\"380\" y1=\"487.5\" y2=\"487.5\"/><line x1=\"40\" x2=\"380\" y1=\"445\" y2=\"445\"/><line x1=\"40\" x2=\"380\" y1=\"402.5\" y2=\"402.5\"/><line x1=\"40\" x2=\"380\" y1=\"359.99999999999994\" y2=\"359.99999999999994\"/><line x1=\"40\" x2=\"380\" y1=\"317.5\" y2=\"317.5\"/><line x1=\"40\" x2=\"380\" y1=\"275.00000000000006\" y2=\"275.00000000000006\"/><line x1=\"40\" x2=\"380\" y1=\"232.49999999999997\" y2=\"232.49999999999997\"/><line x1=\"40\" x2=\"380\" y1=\"189.99999999999997\" y2=\"189.99999999999997\"/><line x1=\"40\" x2=\"380\" y1=\"147.50000000000003\" y2=\"147.50000000000003\"/><line x1=\"40\" x2=\"380\" y1=\"105.00000000000003\" y2=\"105.00000000000003\"/><line x1=\"40\" x2=\"380\" y1=\"62.499999999999986\" y2=\"62.499999999999986\"/><line x1=\"40\" x2=\"380\" y1=\"20\" y2=\"20\"/></g><g aria-label=\"y-axis tick\" aria-hidden=\"true\" fill=\"none\" stroke=\"currentColor\"><path transform=\"translate(40,615)\" d=\"M0,0L-6,0\"/><path transform=\"translate(40,572.5)\" d=\"M0,0L-6,0\"/><path transform=\"translate(40,530.0000000000001)\" d=\"M0,0L-6,0\"/><path transform=\"translate(40,487.5)\" d=\"M0,0L-6,0\"/><path transform=\"translate(40,445)\" d=\"M0,0L-6,0\"/><path transform=\"translate(40,402.5)\" d=\"M0,0L-6,0\"/><path transform=\"translate(40,359.99999999999994)\" d=\"M0,0L-6,0\"/><path transform=\"translate(40,317.5)\" d=\"M0,0L-6,0\"/><path transform=\"translate(40,275.00000000000006)\" d=\"M0,0L-6,0\"/><path transform=\"translate(40,232.49999999999997)\" d=\"M0,0L-6,0\"/><path transform=\"translate(40,189.99999999999997)\" d=\"M0,0L-6,0\"/><path transform=\"translate(40,147.50000000000003)\" d=\"M0,0L-6,0\"/><path transform=\"translate(40,105.00000000000003)\" d=\"M0,0L-6,0\"/><path transform=\"translate(40,62.499999999999986)\" d=\"M0,0L-6,0\"/><path transform=\"translate(40,20)\" d=\"M0,0L-6,0\"/></g><g aria-label=\"y-axis tick label\" text-anchor=\"end\" font-variant=\"tabular-nums\" transform=\"translate(-9,0)\"><text y=\"0.32em\" transform=\"translate(40,615)\">−35</text><text y=\"0.32em\" transform=\"translate(40,572.5)\">−30</text><text y=\"0.32em\" transform=\"translate(40,530.0000000000001)\">−25</text><text y=\"0.32em\" transform=\"translate(40,487.5)\">−20</text><text y=\"0.32em\" transform=\"translate(40,445)\">−15</text><text y=\"0.32em\" transform=\"translate(40,402.5)\">−10</text><text y=\"0.32em\" transform=\"translate(40,359.99999999999994)\">−5</text><text y=\"0.32em\" transform=\"translate(40,317.5)\">0</text><text y=\"0.32em\" transform=\"translate(40,275.00000000000006)\">5</text><text y=\"0.32em\" transform=\"translate(40,232.49999999999997)\">10</text><text y=\"0.32em\" transform=\"translate(40,189.99999999999997)\">15</text><text y=\"0.32em\" transform=\"translate(40,147.50000000000003)\">20</text><text y=\"0.32em\" transform=\"translate(40,105.00000000000003)\">25</text><text y=\"0.32em\" transform=\"translate(40,62.499999999999986)\">30</text><text y=\"0.32em\" transform=\"translate(40,20)\">35</text></g><g aria-label=\"y-axis label\" text-anchor=\"start\" transform=\"translate(-37,-17)\"><text y=\"0.71em\" transform=\"translate(40,20)\">↑ y</text></g><g aria-label=\"x-grid\" aria-hidden=\"true\" stroke=\"currentColor\" stroke-opacity=\"0.1\"><line x1=\"40\" x2=\"40\" y1=\"20\" y2=\"615\"/><line x1=\"125\" x2=\"125\" y1=\"20\" y2=\"615\"/><line x1=\"210\" x2=\"210\" y1=\"20\" y2=\"615\"/><line x1=\"295\" x2=\"295\" y1=\"20\" y2=\"615\"/><line x1=\"380\" x2=\"380\" y1=\"20\" y2=\"615\"/></g><g aria-label=\"x-axis tick\" aria-hidden=\"true\" fill=\"none\" stroke=\"currentColor\"><path transform=\"translate(40,615)\" d=\"M0,0L0,6\"/><path transform=\"translate(125,615)\" d=\"M0,0L0,6\"/><path transform=\"translate(210,615)\" d=\"M0,0L0,6\"/><path transform=\"translate(295,615)\" d=\"M0,0L0,6\"/><path transform=\"translate(380,615)\" d=\"M0,0L0,6\"/></g><g aria-label=\"x-axis tick label\" font-variant=\"tabular-nums\" transform=\"translate(0,9)\"><text y=\"0.71em\" transform=\"translate(40,615)\">−10</text><text y=\"0.71em\" transform=\"translate(125,615)\">0</text><text y=\"0.71em\" transform=\"translate(210,615)\">10</text><text y=\"0.71em\" transform=\"translate(295,615)\">20</text><text y=\"0.71em\" transform=\"translate(380,615)\">30</text></g><g aria-label=\"x-axis label\" text-anchor=\"end\" transform=\"translate(17,27)\"><text transform=\"translate(380,615)\">x →</text></g><g aria-label=\"link\" fill=\"none\" stroke-miterlimit=\"1\"><marker viewBox=\"-5 -5 10 10\" markerWidth=\"6.67\" markerHeight=\"6.67\" orient=\"auto\" fill=\"none\" stroke=\"#efb118\" stroke-width=\"1.5\" stroke-linecap=\"round\" stroke-linejoin=\"round\" id=\"plot-marker-10\"><path d=\"M-1.5,-3l3,3l-3,3\"/></marker><path d=\"M286.5,207L116.5,122\" stroke=\"#efb118\" marker-end=\"url(#plot-marker-10)\"/><path d=\"M278,156L193,241\" stroke=\"#efb118\" marker-end=\"url(#plot-marker-10)\"/><path d=\"M295,105L125,275\" stroke=\"#efb118\" marker-end=\"url(#plot-marker-10)\"/><path d=\"M227,54L142,224\" stroke=\"#efb118\" marker-end=\"url(#plot-marker-10)\"/><path d=\"M295,156L380,581\" stroke=\"#efb118\" marker-end=\"url(#plot-marker-10)\"/><marker viewBox=\"-5 -5 10 10\" markerWidth=\"6.67\" markerHeight=\"6.67\" orient=\"auto\" fill=\"none\" stroke=\"#4269d0\" stroke-width=\"1.5\" stroke-linecap=\"round\" stroke-linejoin=\"round\" id=\"plot-marker-11\"><path d=\"M-1.5,-3l3,3l-3,3\"/></marker><path d=\"M286.5,207L269.5,198.5\" stroke=\"#4269d0\" marker-end=\"url(#plot-marker-11)\"/><path d=\"M278,156L269.5,164.5\" stroke=\"#4269d0\" marker-end=\"url(#plot-marker-11)\"/><path d=\"M295,105L278,122\" stroke=\"#4269d0\" marker-end=\"url(#plot-marker-11)\"/><path d=\"M227,54L218.5,71\" stroke=\"#4269d0\" marker-end=\"url(#plot-marker-11)\"/><path d=\"M295,156L303.5,198.5\" stroke=\"#4269d0\" marker-end=\"url(#plot-marker-11)\"/></g><g aria-label=\"rect\" fill=\"none\" stroke=\"currentColor\"><rect x=\"184.5\" y=\"88.00000000000003\" width=\"170\" height=\"169.99999999999997\"/></g><g aria-label=\"text\" stroke=\"black\" stroke-width=\"3\" stroke-linejoin=\"round\" paint-order=\"stroke\" font-variant=\"tabular-nums\" transform=\"translate(0,-12)\"><text y=\"0.32em\" transform=\"translate(116.5,121.99999999999997)\">10</text><text y=\"0.32em\" transform=\"translate(193,241.00000000000003)\">10</text><text y=\"0.32em\" transform=\"translate(125,275.00000000000006)\">10</text><text y=\"0.32em\" transform=\"translate(142,224)\">10</text><text y=\"0.32em\" transform=\"translate(380,581)\">10</text><text y=\"0.32em\" transform=\"translate(269.5,198.50000000000003)\">1</text><text y=\"0.32em\" transform=\"translate(269.5,164.5)\">1</text><text y=\"0.32em\" transform=\"translate(278,121.99999999999997)\">1</text><text y=\"0.32em\" transform=\"translate(218.5,71.00000000000001)\">1</text><text y=\"0.32em\" transform=\"translate(303.5,198.50000000000003)\">1</text></g><g aria-label=\"link\" fill=\"none\" stroke=\"red\" stroke-width=\"2\" stroke-miterlimit=\"1\" stroke-dasharray=\"3\"><marker viewBox=\"-5 -5 10 10\" markerWidth=\"6.67\" markerHeight=\"6.67\" orient=\"auto\" fill=\"none\" stroke=\"red\" stroke-width=\"1.5\" stroke-linecap=\"round\" stroke-linejoin=\"round\" id=\"plot-marker-12\"><path d=\"M-1.5,-3l3,3l-3,3\"/></marker><path d=\"M329,207L74,122\" marker-end=\"url(#plot-marker-12)\"/><path d=\"M329,207L303.5,198.5\" marker-end=\"url(#plot-marker-12)\"/></g></svg>"
      ],
      "text/plain": [
       "<IPython.core.display.SVG object>"
      ]
     },
     "metadata": {},
     "output_type": "display_data"
    }
   ],
   "source": [
    "times = [10, 1]\n",
    "show_links(\n",
    "    pd.concat([compute_vectors(example_hailstones, time_in_ns=t) for t in times]),\n",
    "    rock_df=pd.concat([compute_vectors([rock], time_in_ns=t) for t in times]),\n",
    "    strokeWidth=1,\n",
    ")"
   ]
  },
  {
   "cell_type": "code",
   "execution_count": 472,
   "metadata": {},
   "outputs": [
    {
     "data": {
      "image/svg+xml": [
       "<svg xmlns=\"http://www.w3.org/2000/svg\" xmlns:xlink=\"http://www.w3.org/1999/xlink\" class=\"plot-d6a7b5\" fill=\"currentColor\" font-family=\"system-ui, sans-serif\" font-size=\"10\" text-anchor=\"middle\" width=\"400\" height=\"451.8181818181818\" viewBox=\"0 0 400 451.8181818181818\" style=\"color: white; background-color: black;\"><style>:where(.plot-d6a7b5) {\n",
       "  --plot-background: white;\n",
       "  display: block;\n",
       "  height: auto;\n",
       "  height: intrinsic;\n",
       "  max-width: 100%;\n",
       "}\n",
       ":where(.plot-d6a7b5 text),\n",
       ":where(.plot-d6a7b5 tspan) {\n",
       "  white-space: pre;\n",
       "}</style><g aria-label=\"y-grid\" aria-hidden=\"true\" stroke=\"currentColor\" stroke-opacity=\"0.1\"><line x1=\"40\" x2=\"380\" y1=\"421.8181818181818\" y2=\"421.8181818181818\"/><line x1=\"40\" x2=\"380\" y1=\"390.90909090909093\" y2=\"390.90909090909093\"/><line x1=\"40\" x2=\"380\" y1=\"360\" y2=\"360\"/><line x1=\"40\" x2=\"380\" y1=\"329.09090909090907\" y2=\"329.09090909090907\"/><line x1=\"40\" x2=\"380\" y1=\"298.18181818181813\" y2=\"298.18181818181813\"/><line x1=\"40\" x2=\"380\" y1=\"267.27272727272725\" y2=\"267.27272727272725\"/><line x1=\"40\" x2=\"380\" y1=\"236.36363636363635\" y2=\"236.36363636363635\"/><line x1=\"40\" x2=\"380\" y1=\"205.45454545454547\" y2=\"205.45454545454547\"/><line x1=\"40\" x2=\"380\" y1=\"174.54545454545453\" y2=\"174.54545454545453\"/><line x1=\"40\" x2=\"380\" y1=\"143.63636363636363\" y2=\"143.63636363636363\"/><line x1=\"40\" x2=\"380\" y1=\"112.7272727272727\" y2=\"112.7272727272727\"/><line x1=\"40\" x2=\"380\" y1=\"81.81818181818181\" y2=\"81.81818181818181\"/><line x1=\"40\" x2=\"380\" y1=\"50.90909090909089\" y2=\"50.90909090909089\"/><line x1=\"40\" x2=\"380\" y1=\"20\" y2=\"20\"/></g><g aria-label=\"y-axis tick\" aria-hidden=\"true\" fill=\"none\" stroke=\"currentColor\"><path transform=\"translate(40,421.8181818181818)\" d=\"M0,0L-6,0\"/><path transform=\"translate(40,390.90909090909093)\" d=\"M0,0L-6,0\"/><path transform=\"translate(40,360)\" d=\"M0,0L-6,0\"/><path transform=\"translate(40,329.09090909090907)\" d=\"M0,0L-6,0\"/><path transform=\"translate(40,298.18181818181813)\" d=\"M0,0L-6,0\"/><path transform=\"translate(40,267.27272727272725)\" d=\"M0,0L-6,0\"/><path transform=\"translate(40,236.36363636363635)\" d=\"M0,0L-6,0\"/><path transform=\"translate(40,205.45454545454547)\" d=\"M0,0L-6,0\"/><path transform=\"translate(40,174.54545454545453)\" d=\"M0,0L-6,0\"/><path transform=\"translate(40,143.63636363636363)\" d=\"M0,0L-6,0\"/><path transform=\"translate(40,112.7272727272727)\" d=\"M0,0L-6,0\"/><path transform=\"translate(40,81.81818181818181)\" d=\"M0,0L-6,0\"/><path transform=\"translate(40,50.90909090909089)\" d=\"M0,0L-6,0\"/><path transform=\"translate(40,20)\" d=\"M0,0L-6,0\"/></g><g aria-label=\"y-axis tick label\" text-anchor=\"end\" font-variant=\"tabular-nums\" transform=\"translate(-9,0)\"><text y=\"0.32em\" transform=\"translate(40,421.8181818181818)\">6</text><text y=\"0.32em\" transform=\"translate(40,390.90909090909093)\">8</text><text y=\"0.32em\" transform=\"translate(40,360)\">10</text><text y=\"0.32em\" transform=\"translate(40,329.09090909090907)\">12</text><text y=\"0.32em\" transform=\"translate(40,298.18181818181813)\">14</text><text y=\"0.32em\" transform=\"translate(40,267.27272727272725)\">16</text><text y=\"0.32em\" transform=\"translate(40,236.36363636363635)\">18</text><text y=\"0.32em\" transform=\"translate(40,205.45454545454547)\">20</text><text y=\"0.32em\" transform=\"translate(40,174.54545454545453)\">22</text><text y=\"0.32em\" transform=\"translate(40,143.63636363636363)\">24</text><text y=\"0.32em\" transform=\"translate(40,112.7272727272727)\">26</text><text y=\"0.32em\" transform=\"translate(40,81.81818181818181)\">28</text><text y=\"0.32em\" transform=\"translate(40,50.90909090909089)\">30</text><text y=\"0.32em\" transform=\"translate(40,20)\">32</text></g><g aria-label=\"y-axis label\" text-anchor=\"start\" transform=\"translate(-37,-17)\"><text y=\"0.71em\" transform=\"translate(40,20)\">↑ y</text></g><g aria-label=\"x-grid\" aria-hidden=\"true\" stroke=\"currentColor\" stroke-opacity=\"0.1\"><line x1=\"101.81818181818181\" x2=\"101.81818181818181\" y1=\"20\" y2=\"421.8181818181818\"/><line x1=\"179.0909090909091\" x2=\"179.0909090909091\" y1=\"20\" y2=\"421.8181818181818\"/><line x1=\"256.3636363636364\" x2=\"256.3636363636364\" y1=\"20\" y2=\"421.8181818181818\"/><line x1=\"333.6363636363636\" x2=\"333.6363636363636\" y1=\"20\" y2=\"421.8181818181818\"/></g><g aria-label=\"x-axis tick\" aria-hidden=\"true\" fill=\"none\" stroke=\"currentColor\"><path transform=\"translate(101.81818181818181,421.8181818181818)\" d=\"M0,0L0,6\"/><path transform=\"translate(179.0909090909091,421.8181818181818)\" d=\"M0,0L0,6\"/><path transform=\"translate(256.3636363636364,421.8181818181818)\" d=\"M0,0L0,6\"/><path transform=\"translate(333.6363636363636,421.8181818181818)\" d=\"M0,0L0,6\"/></g><g aria-label=\"x-axis tick label\" font-variant=\"tabular-nums\" transform=\"translate(0,9)\"><text y=\"0.71em\" transform=\"translate(101.81818181818181,421.8181818181818)\">10</text><text y=\"0.71em\" transform=\"translate(179.0909090909091,421.8181818181818)\">15</text><text y=\"0.71em\" transform=\"translate(256.3636363636364,421.8181818181818)\">20</text><text y=\"0.71em\" transform=\"translate(333.6363636363636,421.8181818181818)\">25</text></g><g aria-label=\"x-axis label\" text-anchor=\"end\" transform=\"translate(17,27)\"><text transform=\"translate(380,421.8181818181818)\">x →</text></g><g aria-label=\"link\" fill=\"none\" stroke-miterlimit=\"1\"><marker viewBox=\"-5 -5 10 10\" markerWidth=\"6.67\" markerHeight=\"6.67\" orient=\"auto\" fill=\"none\" stroke=\"#4269d0\" stroke-width=\"1.5\" stroke-linecap=\"round\" stroke-linejoin=\"round\" id=\"plot-marker-67\"><path d=\"M-1.5,-3l3,3l-3,3\"/></marker><path d=\"M240.909,313.636L210,298.182\" stroke=\"#4269d0\" marker-end=\"url(#plot-marker-67)\"/><path d=\"M225.455,220.909L210,236.364\" stroke=\"#4269d0\" marker-end=\"url(#plot-marker-67)\"/><path d=\"M256.364,128.182L225.455,159.091\" stroke=\"#4269d0\" marker-end=\"url(#plot-marker-67)\"/><path d=\"M132.727,35.455L117.273,66.364\" stroke=\"#4269d0\" marker-end=\"url(#plot-marker-67)\"/><path d=\"M256.364,220.909L271.818,298.182\" stroke=\"#4269d0\" marker-end=\"url(#plot-marker-67)\"/></g><g aria-label=\"rect\" fill=\"none\" stroke=\"currentColor\"><rect x=\"55.45454545454546\" y=\"97.27272727272725\" width=\"309.0909090909091\" height=\"309.0909090909091\"/></g><g aria-label=\"text\" stroke=\"black\" stroke-width=\"3\" stroke-linejoin=\"round\" paint-order=\"stroke\" font-variant=\"tabular-nums\" transform=\"translate(0,-12)\"><text y=\"0.32em\" transform=\"translate(210,298.18181818181813)\">1</text><text y=\"0.32em\" transform=\"translate(210,236.36363636363635)\">1</text><text y=\"0.32em\" transform=\"translate(225.45454545454544,159.09090909090907)\">1</text><text y=\"0.32em\" transform=\"translate(117.27272727272727,66.36363636363637)\">1</text><text y=\"0.32em\" transform=\"translate(271.8181818181818,298.18181818181813)\">1</text></g><g aria-label=\"link\" fill=\"none\" stroke=\"red\" stroke-width=\"2\" stroke-miterlimit=\"1\" stroke-dasharray=\"3\"><marker viewBox=\"-5 -5 10 10\" markerWidth=\"6.67\" markerHeight=\"6.67\" orient=\"auto\" fill=\"none\" stroke=\"red\" stroke-width=\"1.5\" stroke-linecap=\"round\" stroke-linejoin=\"round\" id=\"plot-marker-68\"><path d=\"M-1.5,-3l3,3l-3,3\"/></marker><path d=\"M318.182,313.636L271.818,298.182\" marker-end=\"url(#plot-marker-68)\"/></g></svg>"
      ],
      "text/plain": [
       "<IPython.core.display.SVG object>"
      ]
     },
     "metadata": {},
     "output_type": "display_data"
    },
    {
     "data": {
      "image/svg+xml": [
       "<svg xmlns=\"http://www.w3.org/2000/svg\" xmlns:xlink=\"http://www.w3.org/1999/xlink\" class=\"plot-d6a7b5\" fill=\"currentColor\" font-family=\"system-ui, sans-serif\" font-size=\"10\" text-anchor=\"middle\" width=\"400\" height=\"451.8181818181818\" viewBox=\"0 0 400 451.8181818181818\" style=\"color: white; background-color: black;\"><style>:where(.plot-d6a7b5) {\n",
       "  --plot-background: white;\n",
       "  display: block;\n",
       "  height: auto;\n",
       "  height: intrinsic;\n",
       "  max-width: 100%;\n",
       "}\n",
       ":where(.plot-d6a7b5 text),\n",
       ":where(.plot-d6a7b5 tspan) {\n",
       "  white-space: pre;\n",
       "}</style><g aria-label=\"y-grid\" aria-hidden=\"true\" stroke=\"currentColor\" stroke-opacity=\"0.1\"><line x1=\"40\" x2=\"380\" y1=\"421.8181818181818\" y2=\"421.8181818181818\"/><line x1=\"40\" x2=\"380\" y1=\"390.90909090909093\" y2=\"390.90909090909093\"/><line x1=\"40\" x2=\"380\" y1=\"360\" y2=\"360\"/><line x1=\"40\" x2=\"380\" y1=\"329.09090909090907\" y2=\"329.09090909090907\"/><line x1=\"40\" x2=\"380\" y1=\"298.18181818181813\" y2=\"298.18181818181813\"/><line x1=\"40\" x2=\"380\" y1=\"267.27272727272725\" y2=\"267.27272727272725\"/><line x1=\"40\" x2=\"380\" y1=\"236.36363636363635\" y2=\"236.36363636363635\"/><line x1=\"40\" x2=\"380\" y1=\"205.45454545454547\" y2=\"205.45454545454547\"/><line x1=\"40\" x2=\"380\" y1=\"174.54545454545453\" y2=\"174.54545454545453\"/><line x1=\"40\" x2=\"380\" y1=\"143.63636363636363\" y2=\"143.63636363636363\"/><line x1=\"40\" x2=\"380\" y1=\"112.7272727272727\" y2=\"112.7272727272727\"/><line x1=\"40\" x2=\"380\" y1=\"81.81818181818181\" y2=\"81.81818181818181\"/><line x1=\"40\" x2=\"380\" y1=\"50.90909090909089\" y2=\"50.90909090909089\"/><line x1=\"40\" x2=\"380\" y1=\"20\" y2=\"20\"/></g><g aria-label=\"y-axis tick\" aria-hidden=\"true\" fill=\"none\" stroke=\"currentColor\"><path transform=\"translate(40,421.8181818181818)\" d=\"M0,0L-6,0\"/><path transform=\"translate(40,390.90909090909093)\" d=\"M0,0L-6,0\"/><path transform=\"translate(40,360)\" d=\"M0,0L-6,0\"/><path transform=\"translate(40,329.09090909090907)\" d=\"M0,0L-6,0\"/><path transform=\"translate(40,298.18181818181813)\" d=\"M0,0L-6,0\"/><path transform=\"translate(40,267.27272727272725)\" d=\"M0,0L-6,0\"/><path transform=\"translate(40,236.36363636363635)\" d=\"M0,0L-6,0\"/><path transform=\"translate(40,205.45454545454547)\" d=\"M0,0L-6,0\"/><path transform=\"translate(40,174.54545454545453)\" d=\"M0,0L-6,0\"/><path transform=\"translate(40,143.63636363636363)\" d=\"M0,0L-6,0\"/><path transform=\"translate(40,112.7272727272727)\" d=\"M0,0L-6,0\"/><path transform=\"translate(40,81.81818181818181)\" d=\"M0,0L-6,0\"/><path transform=\"translate(40,50.90909090909089)\" d=\"M0,0L-6,0\"/><path transform=\"translate(40,20)\" d=\"M0,0L-6,0\"/></g><g aria-label=\"y-axis tick label\" text-anchor=\"end\" font-variant=\"tabular-nums\" transform=\"translate(-9,0)\"><text y=\"0.32em\" transform=\"translate(40,421.8181818181818)\">6</text><text y=\"0.32em\" transform=\"translate(40,390.90909090909093)\">8</text><text y=\"0.32em\" transform=\"translate(40,360)\">10</text><text y=\"0.32em\" transform=\"translate(40,329.09090909090907)\">12</text><text y=\"0.32em\" transform=\"translate(40,298.18181818181813)\">14</text><text y=\"0.32em\" transform=\"translate(40,267.27272727272725)\">16</text><text y=\"0.32em\" transform=\"translate(40,236.36363636363635)\">18</text><text y=\"0.32em\" transform=\"translate(40,205.45454545454547)\">20</text><text y=\"0.32em\" transform=\"translate(40,174.54545454545453)\">22</text><text y=\"0.32em\" transform=\"translate(40,143.63636363636363)\">24</text><text y=\"0.32em\" transform=\"translate(40,112.7272727272727)\">26</text><text y=\"0.32em\" transform=\"translate(40,81.81818181818181)\">28</text><text y=\"0.32em\" transform=\"translate(40,50.90909090909089)\">30</text><text y=\"0.32em\" transform=\"translate(40,20)\">32</text></g><g aria-label=\"y-axis label\" text-anchor=\"start\" transform=\"translate(-37,-17)\"><text y=\"0.71em\" transform=\"translate(40,20)\">↑ y</text></g><g aria-label=\"x-grid\" aria-hidden=\"true\" stroke=\"currentColor\" stroke-opacity=\"0.1\"><line x1=\"101.81818181818181\" x2=\"101.81818181818181\" y1=\"20\" y2=\"421.8181818181818\"/><line x1=\"179.0909090909091\" x2=\"179.0909090909091\" y1=\"20\" y2=\"421.8181818181818\"/><line x1=\"256.3636363636364\" x2=\"256.3636363636364\" y1=\"20\" y2=\"421.8181818181818\"/><line x1=\"333.6363636363636\" x2=\"333.6363636363636\" y1=\"20\" y2=\"421.8181818181818\"/></g><g aria-label=\"x-axis tick\" aria-hidden=\"true\" fill=\"none\" stroke=\"currentColor\"><path transform=\"translate(101.81818181818181,421.8181818181818)\" d=\"M0,0L0,6\"/><path transform=\"translate(179.0909090909091,421.8181818181818)\" d=\"M0,0L0,6\"/><path transform=\"translate(256.3636363636364,421.8181818181818)\" d=\"M0,0L0,6\"/><path transform=\"translate(333.6363636363636,421.8181818181818)\" d=\"M0,0L0,6\"/></g><g aria-label=\"x-axis tick label\" font-variant=\"tabular-nums\" transform=\"translate(0,9)\"><text y=\"0.71em\" transform=\"translate(101.81818181818181,421.8181818181818)\">10</text><text y=\"0.71em\" transform=\"translate(179.0909090909091,421.8181818181818)\">15</text><text y=\"0.71em\" transform=\"translate(256.3636363636364,421.8181818181818)\">20</text><text y=\"0.71em\" transform=\"translate(333.6363636363636,421.8181818181818)\">25</text></g><g aria-label=\"x-axis label\" text-anchor=\"end\" transform=\"translate(17,27)\"><text transform=\"translate(380,421.8181818181818)\">x →</text></g><g aria-label=\"link\" fill=\"none\" stroke-miterlimit=\"1\"><marker viewBox=\"-5 -5 10 10\" markerWidth=\"6.67\" markerHeight=\"6.67\" orient=\"auto\" fill=\"none\" stroke=\"#efb118\" stroke-width=\"1.5\" stroke-linecap=\"round\" stroke-linejoin=\"round\" id=\"plot-marker-69\"><path d=\"M-1.5,-3l3,3l-3,3\"/></marker><path d=\"M240.909,313.636L179.091,282.727\" stroke=\"#efb118\" marker-end=\"url(#plot-marker-69)\"/><path d=\"M225.455,220.909L194.545,251.818\" stroke=\"#efb118\" marker-end=\"url(#plot-marker-69)\"/><path d=\"M256.364,128.182L194.545,190\" stroke=\"#efb118\" marker-end=\"url(#plot-marker-69)\"/><path d=\"M132.727,35.455L101.818,97.273\" stroke=\"#efb118\" marker-end=\"url(#plot-marker-69)\"/><path d=\"M256.364,220.909L287.273,375.455\" stroke=\"#efb118\" marker-end=\"url(#plot-marker-69)\"/><marker viewBox=\"-5 -5 10 10\" markerWidth=\"6.67\" markerHeight=\"6.67\" orient=\"auto\" fill=\"none\" stroke=\"#4269d0\" stroke-width=\"1.5\" stroke-linecap=\"round\" stroke-linejoin=\"round\" id=\"plot-marker-70\"><path d=\"M-1.5,-3l3,3l-3,3\"/></marker><path d=\"M240.909,313.636L210,298.182\" stroke=\"#4269d0\" marker-end=\"url(#plot-marker-70)\"/><path d=\"M225.455,220.909L210,236.364\" stroke=\"#4269d0\" marker-end=\"url(#plot-marker-70)\"/><path d=\"M256.364,128.182L225.455,159.091\" stroke=\"#4269d0\" marker-end=\"url(#plot-marker-70)\"/><path d=\"M132.727,35.455L117.273,66.364\" stroke=\"#4269d0\" marker-end=\"url(#plot-marker-70)\"/><path d=\"M256.364,220.909L271.818,298.182\" stroke=\"#4269d0\" marker-end=\"url(#plot-marker-70)\"/></g><g aria-label=\"rect\" fill=\"none\" stroke=\"currentColor\"><rect x=\"55.45454545454546\" y=\"97.27272727272725\" width=\"309.0909090909091\" height=\"309.0909090909091\"/></g><g aria-label=\"text\" stroke=\"black\" stroke-width=\"3\" stroke-linejoin=\"round\" paint-order=\"stroke\" font-variant=\"tabular-nums\" transform=\"translate(0,-12)\"><text y=\"0.32em\" transform=\"translate(179.0909090909091,282.7272727272727)\">2</text><text y=\"0.32em\" transform=\"translate(194.54545454545453,251.81818181818178)\">2</text><text y=\"0.32em\" transform=\"translate(194.54545454545453,190.00000000000003)\">2</text><text y=\"0.32em\" transform=\"translate(101.81818181818181,97.27272727272725)\">2</text><text y=\"0.32em\" transform=\"translate(287.2727272727273,375.45454545454544)\">2</text><text y=\"0.32em\" transform=\"translate(210,298.18181818181813)\">1</text><text y=\"0.32em\" transform=\"translate(210,236.36363636363635)\">1</text><text y=\"0.32em\" transform=\"translate(225.45454545454544,159.09090909090907)\">1</text><text y=\"0.32em\" transform=\"translate(117.27272727272727,66.36363636363637)\">1</text><text y=\"0.32em\" transform=\"translate(271.8181818181818,298.18181818181813)\">1</text></g><g aria-label=\"link\" fill=\"none\" stroke=\"red\" stroke-width=\"2\" stroke-miterlimit=\"1\" stroke-dasharray=\"3\"><marker viewBox=\"-5 -5 10 10\" markerWidth=\"6.67\" markerHeight=\"6.67\" orient=\"auto\" fill=\"none\" stroke=\"red\" stroke-width=\"1.5\" stroke-linecap=\"round\" stroke-linejoin=\"round\" id=\"plot-marker-71\"><path d=\"M-1.5,-3l3,3l-3,3\"/></marker><path d=\"M318.182,313.636L225.455,282.727\" marker-end=\"url(#plot-marker-71)\"/><path d=\"M318.182,313.636L271.818,298.182\" marker-end=\"url(#plot-marker-71)\"/></g></svg>"
      ],
      "text/plain": [
       "<IPython.core.display.SVG object>"
      ]
     },
     "metadata": {},
     "output_type": "display_data"
    },
    {
     "data": {
      "image/svg+xml": [
       "<svg xmlns=\"http://www.w3.org/2000/svg\" xmlns:xlink=\"http://www.w3.org/1999/xlink\" class=\"plot-d6a7b5\" fill=\"currentColor\" font-family=\"system-ui, sans-serif\" font-size=\"10\" text-anchor=\"middle\" width=\"400\" height=\"482.72727272727275\" viewBox=\"0 0 400 482.72727272727275\" style=\"color: white; background-color: black;\"><style>:where(.plot-d6a7b5) {\n",
       "  --plot-background: white;\n",
       "  display: block;\n",
       "  height: auto;\n",
       "  height: intrinsic;\n",
       "  max-width: 100%;\n",
       "}\n",
       ":where(.plot-d6a7b5 text),\n",
       ":where(.plot-d6a7b5 tspan) {\n",
       "  white-space: pre;\n",
       "}</style><g aria-label=\"y-grid\" aria-hidden=\"true\" stroke=\"currentColor\" stroke-opacity=\"0.1\"><line x1=\"40\" x2=\"380\" y1=\"452.72727272727275\" y2=\"452.72727272727275\"/><line x1=\"40\" x2=\"380\" y1=\"421.81818181818187\" y2=\"421.81818181818187\"/><line x1=\"40\" x2=\"380\" y1=\"390.90909090909093\" y2=\"390.90909090909093\"/><line x1=\"40\" x2=\"380\" y1=\"360\" y2=\"360\"/><line x1=\"40\" x2=\"380\" y1=\"329.0909090909091\" y2=\"329.0909090909091\"/><line x1=\"40\" x2=\"380\" y1=\"298.1818181818182\" y2=\"298.1818181818182\"/><line x1=\"40\" x2=\"380\" y1=\"267.27272727272725\" y2=\"267.27272727272725\"/><line x1=\"40\" x2=\"380\" y1=\"236.36363636363637\" y2=\"236.36363636363637\"/><line x1=\"40\" x2=\"380\" y1=\"205.45454545454547\" y2=\"205.45454545454547\"/><line x1=\"40\" x2=\"380\" y1=\"174.54545454545453\" y2=\"174.54545454545453\"/><line x1=\"40\" x2=\"380\" y1=\"143.63636363636363\" y2=\"143.63636363636363\"/><line x1=\"40\" x2=\"380\" y1=\"112.72727272727273\" y2=\"112.72727272727273\"/><line x1=\"40\" x2=\"380\" y1=\"81.81818181818184\" y2=\"81.81818181818184\"/><line x1=\"40\" x2=\"380\" y1=\"50.90909090909089\" y2=\"50.90909090909089\"/><line x1=\"40\" x2=\"380\" y1=\"20\" y2=\"20\"/></g><g aria-label=\"y-axis tick\" aria-hidden=\"true\" fill=\"none\" stroke=\"currentColor\"><path transform=\"translate(40,452.72727272727275)\" d=\"M0,0L-6,0\"/><path transform=\"translate(40,421.81818181818187)\" d=\"M0,0L-6,0\"/><path transform=\"translate(40,390.90909090909093)\" d=\"M0,0L-6,0\"/><path transform=\"translate(40,360)\" d=\"M0,0L-6,0\"/><path transform=\"translate(40,329.0909090909091)\" d=\"M0,0L-6,0\"/><path transform=\"translate(40,298.1818181818182)\" d=\"M0,0L-6,0\"/><path transform=\"translate(40,267.27272727272725)\" d=\"M0,0L-6,0\"/><path transform=\"translate(40,236.36363636363637)\" d=\"M0,0L-6,0\"/><path transform=\"translate(40,205.45454545454547)\" d=\"M0,0L-6,0\"/><path transform=\"translate(40,174.54545454545453)\" d=\"M0,0L-6,0\"/><path transform=\"translate(40,143.63636363636363)\" d=\"M0,0L-6,0\"/><path transform=\"translate(40,112.72727272727273)\" d=\"M0,0L-6,0\"/><path transform=\"translate(40,81.81818181818184)\" d=\"M0,0L-6,0\"/><path transform=\"translate(40,50.90909090909089)\" d=\"M0,0L-6,0\"/><path transform=\"translate(40,20)\" d=\"M0,0L-6,0\"/></g><g aria-label=\"y-axis tick label\" text-anchor=\"end\" font-variant=\"tabular-nums\" transform=\"translate(-9,0)\"><text y=\"0.32em\" transform=\"translate(40,452.72727272727275)\">4</text><text y=\"0.32em\" transform=\"translate(40,421.81818181818187)\">6</text><text y=\"0.32em\" transform=\"translate(40,390.90909090909093)\">8</text><text y=\"0.32em\" transform=\"translate(40,360)\">10</text><text y=\"0.32em\" transform=\"translate(40,329.0909090909091)\">12</text><text y=\"0.32em\" transform=\"translate(40,298.1818181818182)\">14</text><text y=\"0.32em\" transform=\"translate(40,267.27272727272725)\">16</text><text y=\"0.32em\" transform=\"translate(40,236.36363636363637)\">18</text><text y=\"0.32em\" transform=\"translate(40,205.45454545454547)\">20</text><text y=\"0.32em\" transform=\"translate(40,174.54545454545453)\">22</text><text y=\"0.32em\" transform=\"translate(40,143.63636363636363)\">24</text><text y=\"0.32em\" transform=\"translate(40,112.72727272727273)\">26</text><text y=\"0.32em\" transform=\"translate(40,81.81818181818184)\">28</text><text y=\"0.32em\" transform=\"translate(40,50.90909090909089)\">30</text><text y=\"0.32em\" transform=\"translate(40,20)\">32</text></g><g aria-label=\"y-axis label\" text-anchor=\"start\" transform=\"translate(-37,-17)\"><text y=\"0.71em\" transform=\"translate(40,20)\">↑ y</text></g><g aria-label=\"x-grid\" aria-hidden=\"true\" stroke=\"currentColor\" stroke-opacity=\"0.1\"><line x1=\"101.81818181818181\" x2=\"101.81818181818181\" y1=\"20\" y2=\"452.72727272727275\"/><line x1=\"179.0909090909091\" x2=\"179.0909090909091\" y1=\"20\" y2=\"452.72727272727275\"/><line x1=\"256.3636363636364\" x2=\"256.3636363636364\" y1=\"20\" y2=\"452.72727272727275\"/><line x1=\"333.6363636363636\" x2=\"333.6363636363636\" y1=\"20\" y2=\"452.72727272727275\"/></g><g aria-label=\"x-axis tick\" aria-hidden=\"true\" fill=\"none\" stroke=\"currentColor\"><path transform=\"translate(101.81818181818181,452.72727272727275)\" d=\"M0,0L0,6\"/><path transform=\"translate(179.0909090909091,452.72727272727275)\" d=\"M0,0L0,6\"/><path transform=\"translate(256.3636363636364,452.72727272727275)\" d=\"M0,0L0,6\"/><path transform=\"translate(333.6363636363636,452.72727272727275)\" d=\"M0,0L0,6\"/></g><g aria-label=\"x-axis tick label\" font-variant=\"tabular-nums\" transform=\"translate(0,9)\"><text y=\"0.71em\" transform=\"translate(101.81818181818181,452.72727272727275)\">10</text><text y=\"0.71em\" transform=\"translate(179.0909090909091,452.72727272727275)\">15</text><text y=\"0.71em\" transform=\"translate(256.3636363636364,452.72727272727275)\">20</text><text y=\"0.71em\" transform=\"translate(333.6363636363636,452.72727272727275)\">25</text></g><g aria-label=\"x-axis label\" text-anchor=\"end\" transform=\"translate(17,27)\"><text transform=\"translate(380,452.72727272727275)\">x →</text></g><g aria-label=\"link\" fill=\"none\" stroke-miterlimit=\"1\"><marker viewBox=\"-5 -5 10 10\" markerWidth=\"6.67\" markerHeight=\"6.67\" orient=\"auto\" fill=\"none\" stroke=\"#ff725c\" stroke-width=\"1.5\" stroke-linecap=\"round\" stroke-linejoin=\"round\" id=\"plot-marker-72\"><path d=\"M-1.5,-3l3,3l-3,3\"/></marker><path d=\"M240.909,313.636L148.182,267.273\" stroke=\"#ff725c\" marker-end=\"url(#plot-marker-72)\"/><path d=\"M225.455,220.909L179.091,267.273\" stroke=\"#ff725c\" marker-end=\"url(#plot-marker-72)\"/><path d=\"M256.364,128.182L163.636,220.909\" stroke=\"#ff725c\" marker-end=\"url(#plot-marker-72)\"/><path d=\"M132.727,35.455L86.364,128.182\" stroke=\"#ff725c\" marker-end=\"url(#plot-marker-72)\"/><path d=\"M256.364,220.909L302.727,452.727\" stroke=\"#ff725c\" marker-end=\"url(#plot-marker-72)\"/><marker viewBox=\"-5 -5 10 10\" markerWidth=\"6.67\" markerHeight=\"6.67\" orient=\"auto\" fill=\"none\" stroke=\"#efb118\" stroke-width=\"1.5\" stroke-linecap=\"round\" stroke-linejoin=\"round\" id=\"plot-marker-73\"><path d=\"M-1.5,-3l3,3l-3,3\"/></marker><path d=\"M240.909,313.636L179.091,282.727\" stroke=\"#efb118\" marker-end=\"url(#plot-marker-73)\"/><path d=\"M225.455,220.909L194.545,251.818\" stroke=\"#efb118\" marker-end=\"url(#plot-marker-73)\"/><path d=\"M256.364,128.182L194.545,190\" stroke=\"#efb118\" marker-end=\"url(#plot-marker-73)\"/><path d=\"M132.727,35.455L101.818,97.273\" stroke=\"#efb118\" marker-end=\"url(#plot-marker-73)\"/><path d=\"M256.364,220.909L287.273,375.455\" stroke=\"#efb118\" marker-end=\"url(#plot-marker-73)\"/><marker viewBox=\"-5 -5 10 10\" markerWidth=\"6.67\" markerHeight=\"6.67\" orient=\"auto\" fill=\"none\" stroke=\"#4269d0\" stroke-width=\"1.5\" stroke-linecap=\"round\" stroke-linejoin=\"round\" id=\"plot-marker-74\"><path d=\"M-1.5,-3l3,3l-3,3\"/></marker><path d=\"M240.909,313.636L210,298.182\" stroke=\"#4269d0\" marker-end=\"url(#plot-marker-74)\"/><path d=\"M225.455,220.909L210,236.364\" stroke=\"#4269d0\" marker-end=\"url(#plot-marker-74)\"/><path d=\"M256.364,128.182L225.455,159.091\" stroke=\"#4269d0\" marker-end=\"url(#plot-marker-74)\"/><path d=\"M132.727,35.455L117.273,66.364\" stroke=\"#4269d0\" marker-end=\"url(#plot-marker-74)\"/><path d=\"M256.364,220.909L271.818,298.182\" stroke=\"#4269d0\" marker-end=\"url(#plot-marker-74)\"/></g><g aria-label=\"rect\" fill=\"none\" stroke=\"currentColor\"><rect x=\"55.45454545454546\" y=\"97.2727272727273\" width=\"309.0909090909091\" height=\"309.0909090909091\"/></g><g aria-label=\"text\" stroke=\"black\" stroke-width=\"3\" stroke-linejoin=\"round\" paint-order=\"stroke\" font-variant=\"tabular-nums\" transform=\"translate(0,-12)\"><text y=\"0.32em\" transform=\"translate(148.1818181818182,267.27272727272725)\">3</text><text y=\"0.32em\" transform=\"translate(179.0909090909091,267.27272727272725)\">3</text><text y=\"0.32em\" transform=\"translate(163.63636363636363,220.90909090909093)\">3</text><text y=\"0.32em\" transform=\"translate(86.36363636363636,128.1818181818182)\">3</text><text y=\"0.32em\" transform=\"translate(302.7272727272727,452.72727272727275)\">3</text><text y=\"0.32em\" transform=\"translate(179.0909090909091,282.72727272727275)\">2</text><text y=\"0.32em\" transform=\"translate(194.54545454545453,251.8181818181818)\">2</text><text y=\"0.32em\" transform=\"translate(194.54545454545453,190.00000000000003)\">2</text><text y=\"0.32em\" transform=\"translate(101.81818181818181,97.2727272727273)\">2</text><text y=\"0.32em\" transform=\"translate(287.2727272727273,375.45454545454544)\">2</text><text y=\"0.32em\" transform=\"translate(210,298.1818181818182)\">1</text><text y=\"0.32em\" transform=\"translate(210,236.36363636363637)\">1</text><text y=\"0.32em\" transform=\"translate(225.45454545454544,159.0909090909091)\">1</text><text y=\"0.32em\" transform=\"translate(117.27272727272727,66.36363636363635)\">1</text><text y=\"0.32em\" transform=\"translate(271.8181818181818,298.1818181818182)\">1</text></g><g aria-label=\"link\" fill=\"none\" stroke=\"red\" stroke-width=\"2\" stroke-miterlimit=\"1\" stroke-dasharray=\"3\"><marker viewBox=\"-5 -5 10 10\" markerWidth=\"6.67\" markerHeight=\"6.67\" orient=\"auto\" fill=\"none\" stroke=\"red\" stroke-width=\"1.5\" stroke-linecap=\"round\" stroke-linejoin=\"round\" id=\"plot-marker-75\"><path d=\"M-1.5,-3l3,3l-3,3\"/></marker><path d=\"M318.182,313.636L179.091,267.273\" marker-end=\"url(#plot-marker-75)\"/><path d=\"M318.182,313.636L225.455,282.727\" marker-end=\"url(#plot-marker-75)\"/><path d=\"M318.182,313.636L271.818,298.182\" marker-end=\"url(#plot-marker-75)\"/></g></svg>"
      ],
      "text/plain": [
       "<IPython.core.display.SVG object>"
      ]
     },
     "metadata": {},
     "output_type": "display_data"
    },
    {
     "data": {
      "image/svg+xml": [
       "<svg xmlns=\"http://www.w3.org/2000/svg\" xmlns:xlink=\"http://www.w3.org/1999/xlink\" class=\"plot-d6a7b5\" fill=\"currentColor\" font-family=\"system-ui, sans-serif\" font-size=\"10\" text-anchor=\"middle\" width=\"400\" height=\"668.1818181818181\" viewBox=\"0 0 400 668.1818181818181\" style=\"color: white; background-color: black;\"><style>:where(.plot-d6a7b5) {\n",
       "  --plot-background: white;\n",
       "  display: block;\n",
       "  height: auto;\n",
       "  height: intrinsic;\n",
       "  max-width: 100%;\n",
       "}\n",
       ":where(.plot-d6a7b5 text),\n",
       ":where(.plot-d6a7b5 tspan) {\n",
       "  white-space: pre;\n",
       "}</style><g aria-label=\"y-grid\" aria-hidden=\"true\" stroke=\"currentColor\" stroke-opacity=\"0.1\"><line x1=\"40\" x2=\"380\" y1=\"622.7272727272726\" y2=\"622.7272727272726\"/><line x1=\"40\" x2=\"380\" y1=\"591.8181818181818\" y2=\"591.8181818181818\"/><line x1=\"40\" x2=\"380\" y1=\"560.9090909090909\" y2=\"560.9090909090909\"/><line x1=\"40\" x2=\"380\" y1=\"529.9999999999999\" y2=\"529.9999999999999\"/><line x1=\"40\" x2=\"380\" y1=\"499.09090909090907\" y2=\"499.09090909090907\"/><line x1=\"40\" x2=\"380\" y1=\"468.18181818181813\" y2=\"468.18181818181813\"/><line x1=\"40\" x2=\"380\" y1=\"437.27272727272725\" y2=\"437.27272727272725\"/><line x1=\"40\" x2=\"380\" y1=\"406.3636363636363\" y2=\"406.3636363636363\"/><line x1=\"40\" x2=\"380\" y1=\"375.4545454545454\" y2=\"375.4545454545454\"/><line x1=\"40\" x2=\"380\" y1=\"344.5454545454545\" y2=\"344.5454545454545\"/><line x1=\"40\" x2=\"380\" y1=\"313.6363636363636\" y2=\"313.6363636363636\"/><line x1=\"40\" x2=\"380\" y1=\"282.72727272727275\" y2=\"282.72727272727275\"/><line x1=\"40\" x2=\"380\" y1=\"251.8181818181818\" y2=\"251.8181818181818\"/><line x1=\"40\" x2=\"380\" y1=\"220.90909090909088\" y2=\"220.90909090909088\"/><line x1=\"40\" x2=\"380\" y1=\"190\" y2=\"190\"/><line x1=\"40\" x2=\"380\" y1=\"159.09090909090907\" y2=\"159.09090909090907\"/><line x1=\"40\" x2=\"380\" y1=\"128.1818181818182\" y2=\"128.1818181818182\"/><line x1=\"40\" x2=\"380\" y1=\"97.27272727272727\" y2=\"97.27272727272727\"/><line x1=\"40\" x2=\"380\" y1=\"66.36363636363633\" y2=\"66.36363636363633\"/><line x1=\"40\" x2=\"380\" y1=\"35.45454545454547\" y2=\"35.45454545454547\"/></g><g aria-label=\"y-axis tick\" aria-hidden=\"true\" fill=\"none\" stroke=\"currentColor\"><path transform=\"translate(40,622.7272727272726)\" d=\"M0,0L-6,0\"/><path transform=\"translate(40,591.8181818181818)\" d=\"M0,0L-6,0\"/><path transform=\"translate(40,560.9090909090909)\" d=\"M0,0L-6,0\"/><path transform=\"translate(40,529.9999999999999)\" d=\"M0,0L-6,0\"/><path transform=\"translate(40,499.09090909090907)\" d=\"M0,0L-6,0\"/><path transform=\"translate(40,468.18181818181813)\" d=\"M0,0L-6,0\"/><path transform=\"translate(40,437.27272727272725)\" d=\"M0,0L-6,0\"/><path transform=\"translate(40,406.3636363636363)\" d=\"M0,0L-6,0\"/><path transform=\"translate(40,375.4545454545454)\" d=\"M0,0L-6,0\"/><path transform=\"translate(40,344.5454545454545)\" d=\"M0,0L-6,0\"/><path transform=\"translate(40,313.6363636363636)\" d=\"M0,0L-6,0\"/><path transform=\"translate(40,282.72727272727275)\" d=\"M0,0L-6,0\"/><path transform=\"translate(40,251.8181818181818)\" d=\"M0,0L-6,0\"/><path transform=\"translate(40,220.90909090909088)\" d=\"M0,0L-6,0\"/><path transform=\"translate(40,190)\" d=\"M0,0L-6,0\"/><path transform=\"translate(40,159.09090909090907)\" d=\"M0,0L-6,0\"/><path transform=\"translate(40,128.1818181818182)\" d=\"M0,0L-6,0\"/><path transform=\"translate(40,97.27272727272727)\" d=\"M0,0L-6,0\"/><path transform=\"translate(40,66.36363636363633)\" d=\"M0,0L-6,0\"/><path transform=\"translate(40,35.45454545454547)\" d=\"M0,0L-6,0\"/></g><g aria-label=\"y-axis tick label\" text-anchor=\"end\" font-variant=\"tabular-nums\" transform=\"translate(-9,0)\"><text y=\"0.32em\" transform=\"translate(40,622.7272727272726)\">−4</text><text y=\"0.32em\" transform=\"translate(40,591.8181818181818)\">−2</text><text y=\"0.32em\" transform=\"translate(40,560.9090909090909)\">0</text><text y=\"0.32em\" transform=\"translate(40,529.9999999999999)\">2</text><text y=\"0.32em\" transform=\"translate(40,499.09090909090907)\">4</text><text y=\"0.32em\" transform=\"translate(40,468.18181818181813)\">6</text><text y=\"0.32em\" transform=\"translate(40,437.27272727272725)\">8</text><text y=\"0.32em\" transform=\"translate(40,406.3636363636363)\">10</text><text y=\"0.32em\" transform=\"translate(40,375.4545454545454)\">12</text><text y=\"0.32em\" transform=\"translate(40,344.5454545454545)\">14</text><text y=\"0.32em\" transform=\"translate(40,313.6363636363636)\">16</text><text y=\"0.32em\" transform=\"translate(40,282.72727272727275)\">18</text><text y=\"0.32em\" transform=\"translate(40,251.8181818181818)\">20</text><text y=\"0.32em\" transform=\"translate(40,220.90909090909088)\">22</text><text y=\"0.32em\" transform=\"translate(40,190)\">24</text><text y=\"0.32em\" transform=\"translate(40,159.09090909090907)\">26</text><text y=\"0.32em\" transform=\"translate(40,128.1818181818182)\">28</text><text y=\"0.32em\" transform=\"translate(40,97.27272727272727)\">30</text><text y=\"0.32em\" transform=\"translate(40,66.36363636363633)\">32</text><text y=\"0.32em\" transform=\"translate(40,35.45454545454547)\">34</text></g><g aria-label=\"y-axis label\" text-anchor=\"start\" transform=\"translate(-37,-17)\"><text y=\"0.71em\" transform=\"translate(40,20)\">↑ y</text></g><g aria-label=\"x-grid\" aria-hidden=\"true\" stroke=\"currentColor\" stroke-opacity=\"0.1\"><line x1=\"101.81818181818181\" x2=\"101.81818181818181\" y1=\"20\" y2=\"638.1818181818181\"/><line x1=\"179.0909090909091\" x2=\"179.0909090909091\" y1=\"20\" y2=\"638.1818181818181\"/><line x1=\"256.3636363636364\" x2=\"256.3636363636364\" y1=\"20\" y2=\"638.1818181818181\"/><line x1=\"333.6363636363636\" x2=\"333.6363636363636\" y1=\"20\" y2=\"638.1818181818181\"/></g><g aria-label=\"x-axis tick\" aria-hidden=\"true\" fill=\"none\" stroke=\"currentColor\"><path transform=\"translate(101.81818181818181,638.1818181818181)\" d=\"M0,0L0,6\"/><path transform=\"translate(179.0909090909091,638.1818181818181)\" d=\"M0,0L0,6\"/><path transform=\"translate(256.3636363636364,638.1818181818181)\" d=\"M0,0L0,6\"/><path transform=\"translate(333.6363636363636,638.1818181818181)\" d=\"M0,0L0,6\"/></g><g aria-label=\"x-axis tick label\" font-variant=\"tabular-nums\" transform=\"translate(0,9)\"><text y=\"0.71em\" transform=\"translate(101.81818181818181,638.1818181818181)\">10</text><text y=\"0.71em\" transform=\"translate(179.0909090909091,638.1818181818181)\">15</text><text y=\"0.71em\" transform=\"translate(256.3636363636364,638.1818181818181)\">20</text><text y=\"0.71em\" transform=\"translate(333.6363636363636,638.1818181818181)\">25</text></g><g aria-label=\"x-axis label\" text-anchor=\"end\" transform=\"translate(17,27)\"><text transform=\"translate(380,638.1818181818181)\">x →</text></g><g aria-label=\"link\" fill=\"none\" stroke-miterlimit=\"1\"><marker viewBox=\"-5 -5 10 10\" markerWidth=\"6.67\" markerHeight=\"6.67\" orient=\"auto\" fill=\"none\" stroke=\"#6cc5b0\" stroke-width=\"1.5\" stroke-linecap=\"round\" stroke-linejoin=\"round\" id=\"plot-marker-76\"><path d=\"M-1.5,-3l3,3l-3,3\"/></marker><path d=\"M240.909,360L117.273,298.182\" stroke=\"#6cc5b0\" marker-end=\"url(#plot-marker-76)\"/><path d=\"M225.455,267.273L163.636,329.091\" stroke=\"#6cc5b0\" marker-end=\"url(#plot-marker-76)\"/><path d=\"M256.364,174.545L132.727,298.182\" stroke=\"#6cc5b0\" marker-end=\"url(#plot-marker-76)\"/><path d=\"M132.727,81.818L70.909,205.455\" stroke=\"#6cc5b0\" marker-end=\"url(#plot-marker-76)\"/><path d=\"M256.364,267.273L318.182,576.364\" stroke=\"#6cc5b0\" marker-end=\"url(#plot-marker-76)\"/><marker viewBox=\"-5 -5 10 10\" markerWidth=\"6.67\" markerHeight=\"6.67\" orient=\"auto\" fill=\"none\" stroke=\"#ff725c\" stroke-width=\"1.5\" stroke-linecap=\"round\" stroke-linejoin=\"round\" id=\"plot-marker-77\"><path d=\"M-1.5,-3l3,3l-3,3\"/></marker><path d=\"M240.909,360L148.182,313.636\" stroke=\"#ff725c\" marker-end=\"url(#plot-marker-77)\"/><path d=\"M225.455,267.273L179.091,313.636\" stroke=\"#ff725c\" marker-end=\"url(#plot-marker-77)\"/><path d=\"M256.364,174.545L163.636,267.273\" stroke=\"#ff725c\" marker-end=\"url(#plot-marker-77)\"/><path d=\"M132.727,81.818L86.364,174.545\" stroke=\"#ff725c\" marker-end=\"url(#plot-marker-77)\"/><path d=\"M256.364,267.273L302.727,499.091\" stroke=\"#ff725c\" marker-end=\"url(#plot-marker-77)\"/><marker viewBox=\"-5 -5 10 10\" markerWidth=\"6.67\" markerHeight=\"6.67\" orient=\"auto\" fill=\"none\" stroke=\"#efb118\" stroke-width=\"1.5\" stroke-linecap=\"round\" stroke-linejoin=\"round\" id=\"plot-marker-78\"><path d=\"M-1.5,-3l3,3l-3,3\"/></marker><path d=\"M240.909,360L179.091,329.091\" stroke=\"#efb118\" marker-end=\"url(#plot-marker-78)\"/><path d=\"M225.455,267.273L194.545,298.182\" stroke=\"#efb118\" marker-end=\"url(#plot-marker-78)\"/><path d=\"M256.364,174.545L194.545,236.364\" stroke=\"#efb118\" marker-end=\"url(#plot-marker-78)\"/><path d=\"M132.727,81.818L101.818,143.636\" stroke=\"#efb118\" marker-end=\"url(#plot-marker-78)\"/><path d=\"M256.364,267.273L287.273,421.818\" stroke=\"#efb118\" marker-end=\"url(#plot-marker-78)\"/><marker viewBox=\"-5 -5 10 10\" markerWidth=\"6.67\" markerHeight=\"6.67\" orient=\"auto\" fill=\"none\" stroke=\"#4269d0\" stroke-width=\"1.5\" stroke-linecap=\"round\" stroke-linejoin=\"round\" id=\"plot-marker-79\"><path d=\"M-1.5,-3l3,3l-3,3\"/></marker><path d=\"M240.909,360L210,344.545\" stroke=\"#4269d0\" marker-end=\"url(#plot-marker-79)\"/><path d=\"M225.455,267.273L210,282.727\" stroke=\"#4269d0\" marker-end=\"url(#plot-marker-79)\"/><path d=\"M256.364,174.545L225.455,205.455\" stroke=\"#4269d0\" marker-end=\"url(#plot-marker-79)\"/><path d=\"M132.727,81.818L117.273,112.727\" stroke=\"#4269d0\" marker-end=\"url(#plot-marker-79)\"/><path d=\"M256.364,267.273L271.818,344.545\" stroke=\"#4269d0\" marker-end=\"url(#plot-marker-79)\"/></g><g aria-label=\"rect\" fill=\"none\" stroke=\"currentColor\"><rect x=\"55.45454545454546\" y=\"143.6363636363636\" width=\"309.0909090909091\" height=\"309.0909090909091\"/></g><g aria-label=\"text\" stroke=\"black\" stroke-width=\"3\" stroke-linejoin=\"round\" paint-order=\"stroke\" font-variant=\"tabular-nums\" transform=\"translate(0,-12)\"><text y=\"0.32em\" transform=\"translate(117.27272727272727,298.18181818181813)\">4</text><text y=\"0.32em\" transform=\"translate(163.63636363636363,329.09090909090907)\">4</text><text y=\"0.32em\" transform=\"translate(132.72727272727272,298.18181818181813)\">4</text><text y=\"0.32em\" transform=\"translate(70.9090909090909,205.45454545454547)\">4</text><text y=\"0.32em\" transform=\"translate(318.1818181818182,576.3636363636364)\">4</text><text y=\"0.32em\" transform=\"translate(148.1818181818182,313.6363636363636)\">3</text><text y=\"0.32em\" transform=\"translate(179.0909090909091,313.6363636363636)\">3</text><text y=\"0.32em\" transform=\"translate(163.63636363636363,267.27272727272725)\">3</text><text y=\"0.32em\" transform=\"translate(86.36363636363636,174.54545454545453)\">3</text><text y=\"0.32em\" transform=\"translate(302.7272727272727,499.09090909090907)\">3</text><text y=\"0.32em\" transform=\"translate(179.0909090909091,329.09090909090907)\">2</text><text y=\"0.32em\" transform=\"translate(194.54545454545453,298.18181818181813)\">2</text><text y=\"0.32em\" transform=\"translate(194.54545454545453,236.36363636363635)\">2</text><text y=\"0.32em\" transform=\"translate(101.81818181818181,143.6363636363636)\">2</text><text y=\"0.32em\" transform=\"translate(287.2727272727273,421.8181818181818)\">2</text><text y=\"0.32em\" transform=\"translate(210,344.5454545454545)\">1</text><text y=\"0.32em\" transform=\"translate(210,282.72727272727275)\">1</text><text y=\"0.32em\" transform=\"translate(225.45454545454544,205.45454545454547)\">1</text><text y=\"0.32em\" transform=\"translate(117.27272727272727,112.72727272727273)\">1</text><text y=\"0.32em\" transform=\"translate(271.8181818181818,344.5454545454545)\">1</text></g><g aria-label=\"link\" fill=\"none\" stroke=\"red\" stroke-width=\"2\" stroke-miterlimit=\"1\" stroke-dasharray=\"3\"><marker viewBox=\"-5 -5 10 10\" markerWidth=\"6.67\" markerHeight=\"6.67\" orient=\"auto\" fill=\"none\" stroke=\"red\" stroke-width=\"1.5\" stroke-linecap=\"round\" stroke-linejoin=\"round\" id=\"plot-marker-80\"><path d=\"M-1.5,-3l3,3l-3,3\"/></marker><path d=\"M318.182,360L132.727,298.182\" marker-end=\"url(#plot-marker-80)\"/><path d=\"M318.182,360L179.091,313.636\" marker-end=\"url(#plot-marker-80)\"/><path d=\"M318.182,360L225.455,329.091\" marker-end=\"url(#plot-marker-80)\"/><path d=\"M318.182,360L271.818,344.545\" marker-end=\"url(#plot-marker-80)\"/></g></svg>"
      ],
      "text/plain": [
       "<IPython.core.display.SVG object>"
      ]
     },
     "metadata": {},
     "output_type": "display_data"
    },
    {
     "data": {
      "image/svg+xml": [
       "<svg xmlns=\"http://www.w3.org/2000/svg\" xmlns:xlink=\"http://www.w3.org/1999/xlink\" class=\"plot-d6a7b5\" fill=\"currentColor\" font-family=\"system-ui, sans-serif\" font-size=\"10\" text-anchor=\"middle\" width=\"400\" height=\"745.4545454545455\" viewBox=\"0 0 400 745.4545454545455\" style=\"color: white; background-color: black;\"><style>:where(.plot-d6a7b5) {\n",
       "  --plot-background: white;\n",
       "  display: block;\n",
       "  height: auto;\n",
       "  height: intrinsic;\n",
       "  max-width: 100%;\n",
       "}\n",
       ":where(.plot-d6a7b5 text),\n",
       ":where(.plot-d6a7b5 tspan) {\n",
       "  white-space: pre;\n",
       "}</style><g aria-label=\"y-grid\" aria-hidden=\"true\" stroke=\"currentColor\" stroke-opacity=\"0.1\"><line x1=\"40\" x2=\"380\" y1=\"715.4545454545455\" y2=\"715.4545454545455\"/><line x1=\"40\" x2=\"380\" y1=\"684.5454545454546\" y2=\"684.5454545454546\"/><line x1=\"40\" x2=\"380\" y1=\"653.6363636363637\" y2=\"653.6363636363637\"/><line x1=\"40\" x2=\"380\" y1=\"622.7272727272727\" y2=\"622.7272727272727\"/><line x1=\"40\" x2=\"380\" y1=\"591.8181818181819\" y2=\"591.8181818181819\"/><line x1=\"40\" x2=\"380\" y1=\"560.909090909091\" y2=\"560.909090909091\"/><line x1=\"40\" x2=\"380\" y1=\"530.0000000000001\" y2=\"530.0000000000001\"/><line x1=\"40\" x2=\"380\" y1=\"499.0909090909091\" y2=\"499.0909090909091\"/><line x1=\"40\" x2=\"380\" y1=\"468.18181818181813\" y2=\"468.18181818181813\"/><line x1=\"40\" x2=\"380\" y1=\"437.2727272727273\" y2=\"437.2727272727273\"/><line x1=\"40\" x2=\"380\" y1=\"406.36363636363643\" y2=\"406.36363636363643\"/><line x1=\"40\" x2=\"380\" y1=\"375.45454545454544\" y2=\"375.45454545454544\"/><line x1=\"40\" x2=\"380\" y1=\"344.54545454545456\" y2=\"344.54545454545456\"/><line x1=\"40\" x2=\"380\" y1=\"313.6363636363637\" y2=\"313.6363636363637\"/><line x1=\"40\" x2=\"380\" y1=\"282.72727272727275\" y2=\"282.72727272727275\"/><line x1=\"40\" x2=\"380\" y1=\"251.81818181818187\" y2=\"251.81818181818187\"/><line x1=\"40\" x2=\"380\" y1=\"220.9090909090909\" y2=\"220.9090909090909\"/><line x1=\"40\" x2=\"380\" y1=\"190.00000000000003\" y2=\"190.00000000000003\"/><line x1=\"40\" x2=\"380\" y1=\"159.09090909090907\" y2=\"159.09090909090907\"/><line x1=\"40\" x2=\"380\" y1=\"128.1818181818182\" y2=\"128.1818181818182\"/><line x1=\"40\" x2=\"380\" y1=\"97.27272727272731\" y2=\"97.27272727272731\"/><line x1=\"40\" x2=\"380\" y1=\"66.36363636363636\" y2=\"66.36363636363636\"/><line x1=\"40\" x2=\"380\" y1=\"35.454545454545475\" y2=\"35.454545454545475\"/></g><g aria-label=\"y-axis tick\" aria-hidden=\"true\" fill=\"none\" stroke=\"currentColor\"><path transform=\"translate(40,715.4545454545455)\" d=\"M0,0L-6,0\"/><path transform=\"translate(40,684.5454545454546)\" d=\"M0,0L-6,0\"/><path transform=\"translate(40,653.6363636363637)\" d=\"M0,0L-6,0\"/><path transform=\"translate(40,622.7272727272727)\" d=\"M0,0L-6,0\"/><path transform=\"translate(40,591.8181818181819)\" d=\"M0,0L-6,0\"/><path transform=\"translate(40,560.909090909091)\" d=\"M0,0L-6,0\"/><path transform=\"translate(40,530.0000000000001)\" d=\"M0,0L-6,0\"/><path transform=\"translate(40,499.0909090909091)\" d=\"M0,0L-6,0\"/><path transform=\"translate(40,468.18181818181813)\" d=\"M0,0L-6,0\"/><path transform=\"translate(40,437.2727272727273)\" d=\"M0,0L-6,0\"/><path transform=\"translate(40,406.36363636363643)\" d=\"M0,0L-6,0\"/><path transform=\"translate(40,375.45454545454544)\" d=\"M0,0L-6,0\"/><path transform=\"translate(40,344.54545454545456)\" d=\"M0,0L-6,0\"/><path transform=\"translate(40,313.6363636363637)\" d=\"M0,0L-6,0\"/><path transform=\"translate(40,282.72727272727275)\" d=\"M0,0L-6,0\"/><path transform=\"translate(40,251.81818181818187)\" d=\"M0,0L-6,0\"/><path transform=\"translate(40,220.9090909090909)\" d=\"M0,0L-6,0\"/><path transform=\"translate(40,190.00000000000003)\" d=\"M0,0L-6,0\"/><path transform=\"translate(40,159.09090909090907)\" d=\"M0,0L-6,0\"/><path transform=\"translate(40,128.1818181818182)\" d=\"M0,0L-6,0\"/><path transform=\"translate(40,97.27272727272731)\" d=\"M0,0L-6,0\"/><path transform=\"translate(40,66.36363636363636)\" d=\"M0,0L-6,0\"/><path transform=\"translate(40,35.454545454545475)\" d=\"M0,0L-6,0\"/></g><g aria-label=\"y-axis tick label\" text-anchor=\"end\" font-variant=\"tabular-nums\" transform=\"translate(-9,0)\"><text y=\"0.32em\" transform=\"translate(40,715.4545454545455)\">−10</text><text y=\"0.32em\" transform=\"translate(40,684.5454545454546)\">−8</text><text y=\"0.32em\" transform=\"translate(40,653.6363636363637)\">−6</text><text y=\"0.32em\" transform=\"translate(40,622.7272727272727)\">−4</text><text y=\"0.32em\" transform=\"translate(40,591.8181818181819)\">−2</text><text y=\"0.32em\" transform=\"translate(40,560.909090909091)\">0</text><text y=\"0.32em\" transform=\"translate(40,530.0000000000001)\">2</text><text y=\"0.32em\" transform=\"translate(40,499.0909090909091)\">4</text><text y=\"0.32em\" transform=\"translate(40,468.18181818181813)\">6</text><text y=\"0.32em\" transform=\"translate(40,437.2727272727273)\">8</text><text y=\"0.32em\" transform=\"translate(40,406.36363636363643)\">10</text><text y=\"0.32em\" transform=\"translate(40,375.45454545454544)\">12</text><text y=\"0.32em\" transform=\"translate(40,344.54545454545456)\">14</text><text y=\"0.32em\" transform=\"translate(40,313.6363636363637)\">16</text><text y=\"0.32em\" transform=\"translate(40,282.72727272727275)\">18</text><text y=\"0.32em\" transform=\"translate(40,251.81818181818187)\">20</text><text y=\"0.32em\" transform=\"translate(40,220.9090909090909)\">22</text><text y=\"0.32em\" transform=\"translate(40,190.00000000000003)\">24</text><text y=\"0.32em\" transform=\"translate(40,159.09090909090907)\">26</text><text y=\"0.32em\" transform=\"translate(40,128.1818181818182)\">28</text><text y=\"0.32em\" transform=\"translate(40,97.27272727272731)\">30</text><text y=\"0.32em\" transform=\"translate(40,66.36363636363636)\">32</text><text y=\"0.32em\" transform=\"translate(40,35.454545454545475)\">34</text></g><g aria-label=\"y-axis label\" text-anchor=\"start\" transform=\"translate(-37,-17)\"><text y=\"0.71em\" transform=\"translate(40,20)\">↑ y</text></g><g aria-label=\"x-grid\" aria-hidden=\"true\" stroke=\"currentColor\" stroke-opacity=\"0.1\"><line x1=\"101.81818181818181\" x2=\"101.81818181818181\" y1=\"20\" y2=\"715.4545454545455\"/><line x1=\"179.0909090909091\" x2=\"179.0909090909091\" y1=\"20\" y2=\"715.4545454545455\"/><line x1=\"256.3636363636364\" x2=\"256.3636363636364\" y1=\"20\" y2=\"715.4545454545455\"/><line x1=\"333.6363636363636\" x2=\"333.6363636363636\" y1=\"20\" y2=\"715.4545454545455\"/></g><g aria-label=\"x-axis tick\" aria-hidden=\"true\" fill=\"none\" stroke=\"currentColor\"><path transform=\"translate(101.81818181818181,715.4545454545455)\" d=\"M0,0L0,6\"/><path transform=\"translate(179.0909090909091,715.4545454545455)\" d=\"M0,0L0,6\"/><path transform=\"translate(256.3636363636364,715.4545454545455)\" d=\"M0,0L0,6\"/><path transform=\"translate(333.6363636363636,715.4545454545455)\" d=\"M0,0L0,6\"/></g><g aria-label=\"x-axis tick label\" font-variant=\"tabular-nums\" transform=\"translate(0,9)\"><text y=\"0.71em\" transform=\"translate(101.81818181818181,715.4545454545455)\">10</text><text y=\"0.71em\" transform=\"translate(179.0909090909091,715.4545454545455)\">15</text><text y=\"0.71em\" transform=\"translate(256.3636363636364,715.4545454545455)\">20</text><text y=\"0.71em\" transform=\"translate(333.6363636363636,715.4545454545455)\">25</text></g><g aria-label=\"x-axis label\" text-anchor=\"end\" transform=\"translate(17,27)\"><text transform=\"translate(380,715.4545454545455)\">x →</text></g><g aria-label=\"link\" fill=\"none\" stroke-miterlimit=\"1\"><marker viewBox=\"-5 -5 10 10\" markerWidth=\"6.67\" markerHeight=\"6.67\" orient=\"auto\" fill=\"none\" stroke=\"#3ca951\" stroke-width=\"1.5\" stroke-linecap=\"round\" stroke-linejoin=\"round\" id=\"plot-marker-81\"><path d=\"M-1.5,-3l3,3l-3,3\"/></marker><path d=\"M240.909,360L86.364,282.727\" stroke=\"#3ca951\" marker-end=\"url(#plot-marker-81)\"/><path d=\"M225.455,267.273L148.182,344.545\" stroke=\"#3ca951\" marker-end=\"url(#plot-marker-81)\"/><path d=\"M256.364,174.545L101.818,329.091\" stroke=\"#3ca951\" marker-end=\"url(#plot-marker-81)\"/><path d=\"M132.727,81.818L55.455,236.364\" stroke=\"#3ca951\" marker-end=\"url(#plot-marker-81)\"/><path d=\"M256.364,267.273L333.636,653.636\" stroke=\"#3ca951\" marker-end=\"url(#plot-marker-81)\"/><marker viewBox=\"-5 -5 10 10\" markerWidth=\"6.67\" markerHeight=\"6.67\" orient=\"auto\" fill=\"none\" stroke=\"#6cc5b0\" stroke-width=\"1.5\" stroke-linecap=\"round\" stroke-linejoin=\"round\" id=\"plot-marker-82\"><path d=\"M-1.5,-3l3,3l-3,3\"/></marker><path d=\"M240.909,360L117.273,298.182\" stroke=\"#6cc5b0\" marker-end=\"url(#plot-marker-82)\"/><path d=\"M225.455,267.273L163.636,329.091\" stroke=\"#6cc5b0\" marker-end=\"url(#plot-marker-82)\"/><path d=\"M256.364,174.545L132.727,298.182\" stroke=\"#6cc5b0\" marker-end=\"url(#plot-marker-82)\"/><path d=\"M132.727,81.818L70.909,205.455\" stroke=\"#6cc5b0\" marker-end=\"url(#plot-marker-82)\"/><path d=\"M256.364,267.273L318.182,576.364\" stroke=\"#6cc5b0\" marker-end=\"url(#plot-marker-82)\"/><marker viewBox=\"-5 -5 10 10\" markerWidth=\"6.67\" markerHeight=\"6.67\" orient=\"auto\" fill=\"none\" stroke=\"#ff725c\" stroke-width=\"1.5\" stroke-linecap=\"round\" stroke-linejoin=\"round\" id=\"plot-marker-83\"><path d=\"M-1.5,-3l3,3l-3,3\"/></marker><path d=\"M240.909,360L148.182,313.636\" stroke=\"#ff725c\" marker-end=\"url(#plot-marker-83)\"/><path d=\"M225.455,267.273L179.091,313.636\" stroke=\"#ff725c\" marker-end=\"url(#plot-marker-83)\"/><path d=\"M256.364,174.545L163.636,267.273\" stroke=\"#ff725c\" marker-end=\"url(#plot-marker-83)\"/><path d=\"M132.727,81.818L86.364,174.545\" stroke=\"#ff725c\" marker-end=\"url(#plot-marker-83)\"/><path d=\"M256.364,267.273L302.727,499.091\" stroke=\"#ff725c\" marker-end=\"url(#plot-marker-83)\"/><marker viewBox=\"-5 -5 10 10\" markerWidth=\"6.67\" markerHeight=\"6.67\" orient=\"auto\" fill=\"none\" stroke=\"#efb118\" stroke-width=\"1.5\" stroke-linecap=\"round\" stroke-linejoin=\"round\" id=\"plot-marker-84\"><path d=\"M-1.5,-3l3,3l-3,3\"/></marker><path d=\"M240.909,360L179.091,329.091\" stroke=\"#efb118\" marker-end=\"url(#plot-marker-84)\"/><path d=\"M225.455,267.273L194.545,298.182\" stroke=\"#efb118\" marker-end=\"url(#plot-marker-84)\"/><path d=\"M256.364,174.545L194.545,236.364\" stroke=\"#efb118\" marker-end=\"url(#plot-marker-84)\"/><path d=\"M132.727,81.818L101.818,143.636\" stroke=\"#efb118\" marker-end=\"url(#plot-marker-84)\"/><path d=\"M256.364,267.273L287.273,421.818\" stroke=\"#efb118\" marker-end=\"url(#plot-marker-84)\"/><marker viewBox=\"-5 -5 10 10\" markerWidth=\"6.67\" markerHeight=\"6.67\" orient=\"auto\" fill=\"none\" stroke=\"#4269d0\" stroke-width=\"1.5\" stroke-linecap=\"round\" stroke-linejoin=\"round\" id=\"plot-marker-85\"><path d=\"M-1.5,-3l3,3l-3,3\"/></marker><path d=\"M240.909,360L210,344.545\" stroke=\"#4269d0\" marker-end=\"url(#plot-marker-85)\"/><path d=\"M225.455,267.273L210,282.727\" stroke=\"#4269d0\" marker-end=\"url(#plot-marker-85)\"/><path d=\"M256.364,174.545L225.455,205.455\" stroke=\"#4269d0\" marker-end=\"url(#plot-marker-85)\"/><path d=\"M132.727,81.818L117.273,112.727\" stroke=\"#4269d0\" marker-end=\"url(#plot-marker-85)\"/><path d=\"M256.364,267.273L271.818,344.545\" stroke=\"#4269d0\" marker-end=\"url(#plot-marker-85)\"/></g><g aria-label=\"rect\" fill=\"none\" stroke=\"currentColor\"><rect x=\"55.45454545454546\" y=\"143.63636363636368\" width=\"309.0909090909091\" height=\"309.09090909090907\"/></g><g aria-label=\"text\" stroke=\"black\" stroke-width=\"3\" stroke-linejoin=\"round\" paint-order=\"stroke\" font-variant=\"tabular-nums\" transform=\"translate(0,-12)\"><text y=\"0.32em\" transform=\"translate(86.36363636363636,282.72727272727275)\">5</text><text y=\"0.32em\" transform=\"translate(148.1818181818182,344.54545454545456)\">5</text><text y=\"0.32em\" transform=\"translate(101.81818181818181,329.09090909090907)\">5</text><text y=\"0.32em\" transform=\"translate(55.45454545454546,236.36363636363637)\">5</text><text y=\"0.32em\" transform=\"translate(333.6363636363636,653.6363636363637)\">5</text><text y=\"0.32em\" transform=\"translate(117.27272727272727,298.1818181818182)\">4</text><text y=\"0.32em\" transform=\"translate(163.63636363636363,329.09090909090907)\">4</text><text y=\"0.32em\" transform=\"translate(132.72727272727272,298.1818181818182)\">4</text><text y=\"0.32em\" transform=\"translate(70.9090909090909,205.4545454545455)\">4</text><text y=\"0.32em\" transform=\"translate(318.1818181818182,576.3636363636364)\">4</text><text y=\"0.32em\" transform=\"translate(148.1818181818182,313.6363636363637)\">3</text><text y=\"0.32em\" transform=\"translate(179.0909090909091,313.6363636363637)\">3</text><text y=\"0.32em\" transform=\"translate(163.63636363636363,267.27272727272725)\">3</text><text y=\"0.32em\" transform=\"translate(86.36363636363636,174.54545454545453)\">3</text><text y=\"0.32em\" transform=\"translate(302.7272727272727,499.0909090909091)\">3</text><text y=\"0.32em\" transform=\"translate(179.0909090909091,329.09090909090907)\">2</text><text y=\"0.32em\" transform=\"translate(194.54545454545453,298.1818181818182)\">2</text><text y=\"0.32em\" transform=\"translate(194.54545454545453,236.36363636363637)\">2</text><text y=\"0.32em\" transform=\"translate(101.81818181818181,143.63636363636368)\">2</text><text y=\"0.32em\" transform=\"translate(287.2727272727273,421.8181818181818)\">2</text><text y=\"0.32em\" transform=\"translate(210,344.54545454545456)\">1</text><text y=\"0.32em\" transform=\"translate(210,282.72727272727275)\">1</text><text y=\"0.32em\" transform=\"translate(225.45454545454544,205.4545454545455)\">1</text><text y=\"0.32em\" transform=\"translate(117.27272727272727,112.72727272727272)\">1</text><text y=\"0.32em\" transform=\"translate(271.8181818181818,344.54545454545456)\">1</text></g><g aria-label=\"link\" fill=\"none\" stroke=\"red\" stroke-width=\"2\" stroke-miterlimit=\"1\" stroke-dasharray=\"3\"><marker viewBox=\"-5 -5 10 10\" markerWidth=\"6.67\" markerHeight=\"6.67\" orient=\"auto\" fill=\"none\" stroke=\"red\" stroke-width=\"1.5\" stroke-linecap=\"round\" stroke-linejoin=\"round\" id=\"plot-marker-86\"><path d=\"M-1.5,-3l3,3l-3,3\"/></marker><path d=\"M318.182,360L86.364,282.727\" marker-end=\"url(#plot-marker-86)\"/><path d=\"M318.182,360L132.727,298.182\" marker-end=\"url(#plot-marker-86)\"/><path d=\"M318.182,360L179.091,313.636\" marker-end=\"url(#plot-marker-86)\"/><path d=\"M318.182,360L225.455,329.091\" marker-end=\"url(#plot-marker-86)\"/><path d=\"M318.182,360L271.818,344.545\" marker-end=\"url(#plot-marker-86)\"/></g></svg>"
      ],
      "text/plain": [
       "<IPython.core.display.SVG object>"
      ]
     },
     "metadata": {},
     "output_type": "display_data"
    },
    {
     "data": {
      "image/svg+xml": [
       "<svg xmlns=\"http://www.w3.org/2000/svg\" xmlns:xlink=\"http://www.w3.org/1999/xlink\" class=\"plot-d6a7b5\" fill=\"currentColor\" font-family=\"system-ui, sans-serif\" font-size=\"10\" text-anchor=\"middle\" width=\"400\" height=\"822.7272727272727\" viewBox=\"0 0 400 822.7272727272727\" style=\"color: white; background-color: black;\"><style>:where(.plot-d6a7b5) {\n",
       "  --plot-background: white;\n",
       "  display: block;\n",
       "  height: auto;\n",
       "  height: intrinsic;\n",
       "  max-width: 100%;\n",
       "}\n",
       ":where(.plot-d6a7b5 text),\n",
       ":where(.plot-d6a7b5 tspan) {\n",
       "  white-space: pre;\n",
       "}</style><g aria-label=\"y-grid\" aria-hidden=\"true\" stroke=\"currentColor\" stroke-opacity=\"0.1\"><line x1=\"40\" x2=\"380\" y1=\"777.2727272727273\" y2=\"777.2727272727273\"/><line x1=\"40\" x2=\"380\" y1=\"746.3636363636364\" y2=\"746.3636363636364\"/><line x1=\"40\" x2=\"380\" y1=\"715.4545454545455\" y2=\"715.4545454545455\"/><line x1=\"40\" x2=\"380\" y1=\"684.5454545454545\" y2=\"684.5454545454545\"/><line x1=\"40\" x2=\"380\" y1=\"653.6363636363637\" y2=\"653.6363636363637\"/><line x1=\"40\" x2=\"380\" y1=\"622.7272727272727\" y2=\"622.7272727272727\"/><line x1=\"40\" x2=\"380\" y1=\"591.8181818181819\" y2=\"591.8181818181819\"/><line x1=\"40\" x2=\"380\" y1=\"560.9090909090909\" y2=\"560.9090909090909\"/><line x1=\"40\" x2=\"380\" y1=\"529.9999999999999\" y2=\"529.9999999999999\"/><line x1=\"40\" x2=\"380\" y1=\"499.0909090909091\" y2=\"499.0909090909091\"/><line x1=\"40\" x2=\"380\" y1=\"468.18181818181824\" y2=\"468.18181818181824\"/><line x1=\"40\" x2=\"380\" y1=\"437.2727272727273\" y2=\"437.2727272727273\"/><line x1=\"40\" x2=\"380\" y1=\"406.3636363636364\" y2=\"406.3636363636364\"/><line x1=\"40\" x2=\"380\" y1=\"375.45454545454544\" y2=\"375.45454545454544\"/><line x1=\"40\" x2=\"380\" y1=\"344.5454545454546\" y2=\"344.5454545454546\"/><line x1=\"40\" x2=\"380\" y1=\"313.6363636363636\" y2=\"313.6363636363636\"/><line x1=\"40\" x2=\"380\" y1=\"282.7272727272727\" y2=\"282.7272727272727\"/><line x1=\"40\" x2=\"380\" y1=\"251.81818181818187\" y2=\"251.81818181818187\"/><line x1=\"40\" x2=\"380\" y1=\"220.90909090909093\" y2=\"220.90909090909093\"/><line x1=\"40\" x2=\"380\" y1=\"189.99999999999997\" y2=\"189.99999999999997\"/><line x1=\"40\" x2=\"380\" y1=\"159.09090909090915\" y2=\"159.09090909090915\"/><line x1=\"40\" x2=\"380\" y1=\"128.1818181818182\" y2=\"128.1818181818182\"/><line x1=\"40\" x2=\"380\" y1=\"97.27272727272725\" y2=\"97.27272727272725\"/><line x1=\"40\" x2=\"380\" y1=\"66.3636363636364\" y2=\"66.3636363636364\"/><line x1=\"40\" x2=\"380\" y1=\"35.45454545454547\" y2=\"35.45454545454547\"/></g><g aria-label=\"y-axis tick\" aria-hidden=\"true\" fill=\"none\" stroke=\"currentColor\"><path transform=\"translate(40,777.2727272727273)\" d=\"M0,0L-6,0\"/><path transform=\"translate(40,746.3636363636364)\" d=\"M0,0L-6,0\"/><path transform=\"translate(40,715.4545454545455)\" d=\"M0,0L-6,0\"/><path transform=\"translate(40,684.5454545454545)\" d=\"M0,0L-6,0\"/><path transform=\"translate(40,653.6363636363637)\" d=\"M0,0L-6,0\"/><path transform=\"translate(40,622.7272727272727)\" d=\"M0,0L-6,0\"/><path transform=\"translate(40,591.8181818181819)\" d=\"M0,0L-6,0\"/><path transform=\"translate(40,560.9090909090909)\" d=\"M0,0L-6,0\"/><path transform=\"translate(40,529.9999999999999)\" d=\"M0,0L-6,0\"/><path transform=\"translate(40,499.0909090909091)\" d=\"M0,0L-6,0\"/><path transform=\"translate(40,468.18181818181824)\" d=\"M0,0L-6,0\"/><path transform=\"translate(40,437.2727272727273)\" d=\"M0,0L-6,0\"/><path transform=\"translate(40,406.3636363636364)\" d=\"M0,0L-6,0\"/><path transform=\"translate(40,375.45454545454544)\" d=\"M0,0L-6,0\"/><path transform=\"translate(40,344.5454545454546)\" d=\"M0,0L-6,0\"/><path transform=\"translate(40,313.6363636363636)\" d=\"M0,0L-6,0\"/><path transform=\"translate(40,282.7272727272727)\" d=\"M0,0L-6,0\"/><path transform=\"translate(40,251.81818181818187)\" d=\"M0,0L-6,0\"/><path transform=\"translate(40,220.90909090909093)\" d=\"M0,0L-6,0\"/><path transform=\"translate(40,189.99999999999997)\" d=\"M0,0L-6,0\"/><path transform=\"translate(40,159.09090909090915)\" d=\"M0,0L-6,0\"/><path transform=\"translate(40,128.1818181818182)\" d=\"M0,0L-6,0\"/><path transform=\"translate(40,97.27272727272725)\" d=\"M0,0L-6,0\"/><path transform=\"translate(40,66.3636363636364)\" d=\"M0,0L-6,0\"/><path transform=\"translate(40,35.45454545454547)\" d=\"M0,0L-6,0\"/></g><g aria-label=\"y-axis tick label\" text-anchor=\"end\" font-variant=\"tabular-nums\" transform=\"translate(-9,0)\"><text y=\"0.32em\" transform=\"translate(40,777.2727272727273)\">−14</text><text y=\"0.32em\" transform=\"translate(40,746.3636363636364)\">−12</text><text y=\"0.32em\" transform=\"translate(40,715.4545454545455)\">−10</text><text y=\"0.32em\" transform=\"translate(40,684.5454545454545)\">−8</text><text y=\"0.32em\" transform=\"translate(40,653.6363636363637)\">−6</text><text y=\"0.32em\" transform=\"translate(40,622.7272727272727)\">−4</text><text y=\"0.32em\" transform=\"translate(40,591.8181818181819)\">−2</text><text y=\"0.32em\" transform=\"translate(40,560.9090909090909)\">0</text><text y=\"0.32em\" transform=\"translate(40,529.9999999999999)\">2</text><text y=\"0.32em\" transform=\"translate(40,499.0909090909091)\">4</text><text y=\"0.32em\" transform=\"translate(40,468.18181818181824)\">6</text><text y=\"0.32em\" transform=\"translate(40,437.2727272727273)\">8</text><text y=\"0.32em\" transform=\"translate(40,406.3636363636364)\">10</text><text y=\"0.32em\" transform=\"translate(40,375.45454545454544)\">12</text><text y=\"0.32em\" transform=\"translate(40,344.5454545454546)\">14</text><text y=\"0.32em\" transform=\"translate(40,313.6363636363636)\">16</text><text y=\"0.32em\" transform=\"translate(40,282.7272727272727)\">18</text><text y=\"0.32em\" transform=\"translate(40,251.81818181818187)\">20</text><text y=\"0.32em\" transform=\"translate(40,220.90909090909093)\">22</text><text y=\"0.32em\" transform=\"translate(40,189.99999999999997)\">24</text><text y=\"0.32em\" transform=\"translate(40,159.09090909090915)\">26</text><text y=\"0.32em\" transform=\"translate(40,128.1818181818182)\">28</text><text y=\"0.32em\" transform=\"translate(40,97.27272727272725)\">30</text><text y=\"0.32em\" transform=\"translate(40,66.3636363636364)\">32</text><text y=\"0.32em\" transform=\"translate(40,35.45454545454547)\">34</text></g><g aria-label=\"y-axis label\" text-anchor=\"start\" transform=\"translate(-37,-17)\"><text y=\"0.71em\" transform=\"translate(40,20)\">↑ y</text></g><g aria-label=\"x-grid\" aria-hidden=\"true\" stroke=\"currentColor\" stroke-opacity=\"0.1\"><line x1=\"101.81818181818181\" x2=\"101.81818181818181\" y1=\"20\" y2=\"792.7272727272727\"/><line x1=\"179.0909090909091\" x2=\"179.0909090909091\" y1=\"20\" y2=\"792.7272727272727\"/><line x1=\"256.3636363636364\" x2=\"256.3636363636364\" y1=\"20\" y2=\"792.7272727272727\"/><line x1=\"333.6363636363636\" x2=\"333.6363636363636\" y1=\"20\" y2=\"792.7272727272727\"/></g><g aria-label=\"x-axis tick\" aria-hidden=\"true\" fill=\"none\" stroke=\"currentColor\"><path transform=\"translate(101.81818181818181,792.7272727272727)\" d=\"M0,0L0,6\"/><path transform=\"translate(179.0909090909091,792.7272727272727)\" d=\"M0,0L0,6\"/><path transform=\"translate(256.3636363636364,792.7272727272727)\" d=\"M0,0L0,6\"/><path transform=\"translate(333.6363636363636,792.7272727272727)\" d=\"M0,0L0,6\"/></g><g aria-label=\"x-axis tick label\" font-variant=\"tabular-nums\" transform=\"translate(0,9)\"><text y=\"0.71em\" transform=\"translate(101.81818181818181,792.7272727272727)\">10</text><text y=\"0.71em\" transform=\"translate(179.0909090909091,792.7272727272727)\">15</text><text y=\"0.71em\" transform=\"translate(256.3636363636364,792.7272727272727)\">20</text><text y=\"0.71em\" transform=\"translate(333.6363636363636,792.7272727272727)\">25</text></g><g aria-label=\"x-axis label\" text-anchor=\"end\" transform=\"translate(17,27)\"><text transform=\"translate(380,792.7272727272727)\">x →</text></g><g aria-label=\"link\" fill=\"none\" stroke-miterlimit=\"1\"><marker viewBox=\"-5 -5 10 10\" markerWidth=\"6.67\" markerHeight=\"6.67\" orient=\"auto\" fill=\"none\" stroke=\"#ff8ab7\" stroke-width=\"1.5\" stroke-linecap=\"round\" stroke-linejoin=\"round\" id=\"plot-marker-87\"><path d=\"M-1.5,-3l3,3l-3,3\"/></marker><path d=\"M240.909,360L55.455,267.273\" stroke=\"#ff8ab7\" marker-end=\"url(#plot-marker-87)\"/><path d=\"M225.455,267.273L132.727,360\" stroke=\"#ff8ab7\" marker-end=\"url(#plot-marker-87)\"/><path d=\"M256.364,174.545L70.909,360\" stroke=\"#ff8ab7\" marker-end=\"url(#plot-marker-87)\"/><path d=\"M132.727,81.818L40,267.273\" stroke=\"#ff8ab7\" marker-end=\"url(#plot-marker-87)\"/><path d=\"M256.364,267.273L349.091,730.909\" stroke=\"#ff8ab7\" marker-end=\"url(#plot-marker-87)\"/><marker viewBox=\"-5 -5 10 10\" markerWidth=\"6.67\" markerHeight=\"6.67\" orient=\"auto\" fill=\"none\" stroke=\"#3ca951\" stroke-width=\"1.5\" stroke-linecap=\"round\" stroke-linejoin=\"round\" id=\"plot-marker-88\"><path d=\"M-1.5,-3l3,3l-3,3\"/></marker><path d=\"M240.909,360L86.364,282.727\" stroke=\"#3ca951\" marker-end=\"url(#plot-marker-88)\"/><path d=\"M225.455,267.273L148.182,344.545\" stroke=\"#3ca951\" marker-end=\"url(#plot-marker-88)\"/><path d=\"M256.364,174.545L101.818,329.091\" stroke=\"#3ca951\" marker-end=\"url(#plot-marker-88)\"/><path d=\"M132.727,81.818L55.455,236.364\" stroke=\"#3ca951\" marker-end=\"url(#plot-marker-88)\"/><path d=\"M256.364,267.273L333.636,653.636\" stroke=\"#3ca951\" marker-end=\"url(#plot-marker-88)\"/><marker viewBox=\"-5 -5 10 10\" markerWidth=\"6.67\" markerHeight=\"6.67\" orient=\"auto\" fill=\"none\" stroke=\"#6cc5b0\" stroke-width=\"1.5\" stroke-linecap=\"round\" stroke-linejoin=\"round\" id=\"plot-marker-89\"><path d=\"M-1.5,-3l3,3l-3,3\"/></marker><path d=\"M240.909,360L117.273,298.182\" stroke=\"#6cc5b0\" marker-end=\"url(#plot-marker-89)\"/><path d=\"M225.455,267.273L163.636,329.091\" stroke=\"#6cc5b0\" marker-end=\"url(#plot-marker-89)\"/><path d=\"M256.364,174.545L132.727,298.182\" stroke=\"#6cc5b0\" marker-end=\"url(#plot-marker-89)\"/><path d=\"M132.727,81.818L70.909,205.455\" stroke=\"#6cc5b0\" marker-end=\"url(#plot-marker-89)\"/><path d=\"M256.364,267.273L318.182,576.364\" stroke=\"#6cc5b0\" marker-end=\"url(#plot-marker-89)\"/><marker viewBox=\"-5 -5 10 10\" markerWidth=\"6.67\" markerHeight=\"6.67\" orient=\"auto\" fill=\"none\" stroke=\"#ff725c\" stroke-width=\"1.5\" stroke-linecap=\"round\" stroke-linejoin=\"round\" id=\"plot-marker-90\"><path d=\"M-1.5,-3l3,3l-3,3\"/></marker><path d=\"M240.909,360L148.182,313.636\" stroke=\"#ff725c\" marker-end=\"url(#plot-marker-90)\"/><path d=\"M225.455,267.273L179.091,313.636\" stroke=\"#ff725c\" marker-end=\"url(#plot-marker-90)\"/><path d=\"M256.364,174.545L163.636,267.273\" stroke=\"#ff725c\" marker-end=\"url(#plot-marker-90)\"/><path d=\"M132.727,81.818L86.364,174.545\" stroke=\"#ff725c\" marker-end=\"url(#plot-marker-90)\"/><path d=\"M256.364,267.273L302.727,499.091\" stroke=\"#ff725c\" marker-end=\"url(#plot-marker-90)\"/><marker viewBox=\"-5 -5 10 10\" markerWidth=\"6.67\" markerHeight=\"6.67\" orient=\"auto\" fill=\"none\" stroke=\"#efb118\" stroke-width=\"1.5\" stroke-linecap=\"round\" stroke-linejoin=\"round\" id=\"plot-marker-91\"><path d=\"M-1.5,-3l3,3l-3,3\"/></marker><path d=\"M240.909,360L179.091,329.091\" stroke=\"#efb118\" marker-end=\"url(#plot-marker-91)\"/><path d=\"M225.455,267.273L194.545,298.182\" stroke=\"#efb118\" marker-end=\"url(#plot-marker-91)\"/><path d=\"M256.364,174.545L194.545,236.364\" stroke=\"#efb118\" marker-end=\"url(#plot-marker-91)\"/><path d=\"M132.727,81.818L101.818,143.636\" stroke=\"#efb118\" marker-end=\"url(#plot-marker-91)\"/><path d=\"M256.364,267.273L287.273,421.818\" stroke=\"#efb118\" marker-end=\"url(#plot-marker-91)\"/><marker viewBox=\"-5 -5 10 10\" markerWidth=\"6.67\" markerHeight=\"6.67\" orient=\"auto\" fill=\"none\" stroke=\"#4269d0\" stroke-width=\"1.5\" stroke-linecap=\"round\" stroke-linejoin=\"round\" id=\"plot-marker-92\"><path d=\"M-1.5,-3l3,3l-3,3\"/></marker><path d=\"M240.909,360L210,344.545\" stroke=\"#4269d0\" marker-end=\"url(#plot-marker-92)\"/><path d=\"M225.455,267.273L210,282.727\" stroke=\"#4269d0\" marker-end=\"url(#plot-marker-92)\"/><path d=\"M256.364,174.545L225.455,205.455\" stroke=\"#4269d0\" marker-end=\"url(#plot-marker-92)\"/><path d=\"M132.727,81.818L117.273,112.727\" stroke=\"#4269d0\" marker-end=\"url(#plot-marker-92)\"/><path d=\"M256.364,267.273L271.818,344.545\" stroke=\"#4269d0\" marker-end=\"url(#plot-marker-92)\"/></g><g aria-label=\"rect\" fill=\"none\" stroke=\"currentColor\"><rect x=\"55.45454545454546\" y=\"143.63636363636365\" width=\"309.0909090909091\" height=\"309.0909090909091\"/></g><g aria-label=\"text\" stroke=\"black\" stroke-width=\"3\" stroke-linejoin=\"round\" paint-order=\"stroke\" font-variant=\"tabular-nums\" transform=\"translate(0,-12)\"><text y=\"0.32em\" transform=\"translate(55.45454545454546,267.27272727272725)\">6</text><text y=\"0.32em\" transform=\"translate(132.72727272727272,359.99999999999994)\">6</text><text y=\"0.32em\" transform=\"translate(70.9090909090909,359.99999999999994)\">6</text><text y=\"0.32em\" transform=\"translate(40,267.27272727272725)\">6</text><text y=\"0.32em\" transform=\"translate(349.09090909090907,730.909090909091)\">6</text><text y=\"0.32em\" transform=\"translate(86.36363636363636,282.7272727272727)\">5</text><text y=\"0.32em\" transform=\"translate(148.1818181818182,344.5454545454546)\">5</text><text y=\"0.32em\" transform=\"translate(101.81818181818181,329.0909090909091)\">5</text><text y=\"0.32em\" transform=\"translate(55.45454545454546,236.3636363636364)\">5</text><text y=\"0.32em\" transform=\"translate(333.6363636363636,653.6363636363637)\">5</text><text y=\"0.32em\" transform=\"translate(117.27272727272727,298.1818181818182)\">4</text><text y=\"0.32em\" transform=\"translate(163.63636363636363,329.0909090909091)\">4</text><text y=\"0.32em\" transform=\"translate(132.72727272727272,298.1818181818182)\">4</text><text y=\"0.32em\" transform=\"translate(70.9090909090909,205.45454545454544)\">4</text><text y=\"0.32em\" transform=\"translate(318.1818181818182,576.3636363636364)\">4</text><text y=\"0.32em\" transform=\"translate(148.1818181818182,313.6363636363636)\">3</text><text y=\"0.32em\" transform=\"translate(179.0909090909091,313.6363636363636)\">3</text><text y=\"0.32em\" transform=\"translate(163.63636363636363,267.27272727272725)\">3</text><text y=\"0.32em\" transform=\"translate(86.36363636363636,174.5454545454545)\">3</text><text y=\"0.32em\" transform=\"translate(302.7272727272727,499.0909090909091)\">3</text><text y=\"0.32em\" transform=\"translate(179.0909090909091,329.0909090909091)\">2</text><text y=\"0.32em\" transform=\"translate(194.54545454545453,298.1818181818182)\">2</text><text y=\"0.32em\" transform=\"translate(194.54545454545453,236.3636363636364)\">2</text><text y=\"0.32em\" transform=\"translate(101.81818181818181,143.63636363636365)\">2</text><text y=\"0.32em\" transform=\"translate(287.2727272727273,421.81818181818187)\">2</text><text y=\"0.32em\" transform=\"translate(210,344.5454545454546)\">1</text><text y=\"0.32em\" transform=\"translate(210,282.7272727272727)\">1</text><text y=\"0.32em\" transform=\"translate(225.45454545454544,205.45454545454544)\">1</text><text y=\"0.32em\" transform=\"translate(117.27272727272727,112.72727272727272)\">1</text><text y=\"0.32em\" transform=\"translate(271.8181818181818,344.5454545454546)\">1</text></g><g aria-label=\"link\" fill=\"none\" stroke=\"red\" stroke-width=\"2\" stroke-miterlimit=\"1\" stroke-dasharray=\"3\"><marker viewBox=\"-5 -5 10 10\" markerWidth=\"6.67\" markerHeight=\"6.67\" orient=\"auto\" fill=\"none\" stroke=\"red\" stroke-width=\"1.5\" stroke-linecap=\"round\" stroke-linejoin=\"round\" id=\"plot-marker-93\"><path d=\"M-1.5,-3l3,3l-3,3\"/></marker><path d=\"M318.182,360L40,267.273\" marker-end=\"url(#plot-marker-93)\"/><path d=\"M318.182,360L86.364,282.727\" marker-end=\"url(#plot-marker-93)\"/><path d=\"M318.182,360L132.727,298.182\" marker-end=\"url(#plot-marker-93)\"/><path d=\"M318.182,360L179.091,313.636\" marker-end=\"url(#plot-marker-93)\"/><path d=\"M318.182,360L225.455,329.091\" marker-end=\"url(#plot-marker-93)\"/><path d=\"M318.182,360L271.818,344.545\" marker-end=\"url(#plot-marker-93)\"/></g></svg>"
      ],
      "text/plain": [
       "<IPython.core.display.SVG object>"
      ]
     },
     "metadata": {},
     "output_type": "display_data"
    }
   ],
   "source": [
    "\n",
    "for i in range(1 + 1, 6 + 1 + 1):\n",
    "    times = list(reversed(range(1, i)))\n",
    "    show_links(\n",
    "        pd.concat([compute_vectors(example_hailstones, time_in_ns=t) for t in times]),\n",
    "        rock_df=pd.concat([compute_vectors([rock], time_in_ns=t) for t in times]),\n",
    "        strokeWidth=1,\n",
    "    )"
   ]
  },
  {
   "cell_type": "markdown",
   "metadata": {},
   "source": [
    "We can see that the thrown rock intersects the 5 hailstones on integer times, at $t=1,3,4,5,6$.\n",
    "\n",
    "$p_i$ and $v_i$ are 3D vectors, where $i$ is the hailstone identifier.\n",
    "\n",
    "$p_i = p_i(t) = p(t_0) + t . v_i$"
   ]
  },
  {
   "cell_type": "markdown",
   "metadata": {},
   "source": [
    "\n",
    "\n",
    "$$\n",
    "\\begin{aligned}\n",
    "(p_2(t_2) - p_0(t_0)) &= \\lambda_2 (p_k(t_1) - p_0(t_0))\n",
    "\\newline\n",
    "(p_3(t_3) - p_0(t_0)) &= \\lambda_3 (p_1(t_1) - p_0(t_0))\n",
    "\\end{aligned}\n",
    "$$\n",
    "\n",
    "For any $k \\in \\{1,2,3\\}$, the position of the rock is a function of the time and can be found, because we have two positions and their respective times the rock must be at:\n",
    "\n",
    "$$\n",
    "\\begin{aligned}\n",
    "\\newline\n",
    "r(t) &= p_0(t_0) + (t - t_0) \\frac{p_k(t_k) + p_0(t_0)}{t_k-t_0}\n",
    "\\newline\n",
    "r(0) &= p_0(t_0) - t_0 \\frac{p_k(t_k) + p_0(t_0)}{t_k-t_0}\n",
    "\\newline\n",
    "r(0) &=   \\frac{(t_k - t_0) p_0(t_0) - t_0 p_k(t_k) + t_0 p_0(t_0)}{t_k-t_0}\n",
    "\\newline\n",
    "r(0) &=   \\frac{t_k p_0(t_0) - t_0 p_0(t_0)  - t_0 p_k(t_k) + t_0 p_0(t_0)}{t_k-t_0}\n",
    "\\newline\n",
    "r(0) &=   \\frac{t_k p_0(t_0)   - t_0 p_k(t_k) }{t_k-t_0}\n",
    "\n",
    "\\end{aligned}\n",
    "\n",
    "$$"
   ]
  },
  {
   "cell_type": "markdown",
   "metadata": {},
   "source": [
    "TODO: an animation with manim showing the vectors \"collapse\" with time passing, becoming collinear at a singular time?"
   ]
  },
  {
   "cell_type": "markdown",
   "metadata": {},
   "source": [
    "### With Actual Input\n"
   ]
  }
 ],
 "metadata": {
  "kernelspec": {
   "display_name": "advent-of-code-CEbbwEIT-py3.10",
   "language": "python",
   "name": "python3"
  },
  "language_info": {
   "codemirror_mode": {
    "name": "ipython",
    "version": 3
   },
   "file_extension": ".py",
   "mimetype": "text/x-python",
   "name": "python",
   "nbconvert_exporter": "python",
   "pygments_lexer": "ipython3",
   "version": "3.12.1"
  },
  "widgets": {
   "application/vnd.jupyter.widget-state+json": {
    "state": {
     "pythree_example_model_001": {
      "model_module": "jupyter-threejs",
      "model_module_version": "^2.4.1",
      "model_name": "BoxGeometryModel",
      "state": {
       "_model_module": "jupyter-threejs",
       "_model_module_version": "^2.4.1",
       "_model_name": "BoxGeometryModel",
       "_view_count": null,
       "_view_module": null,
       "_view_module_version": "",
       "_view_name": null,
       "depth": 15,
       "depthSegments": 15,
       "height": 10,
       "heightSegments": 10,
       "name": "",
       "type": "BoxGeometry",
       "width": 5,
       "widthSegments": 5
      }
     },
     "pythree_example_model_002": {
      "model_module": "jupyter-threejs",
      "model_module_version": "^2.4.1",
      "model_name": "PreviewModel",
      "state": {
       "_alpha": false,
       "_antialias": false,
       "_dom_classes": [],
       "_flat": false,
       "_height": 200,
       "_model_module": "jupyter-threejs",
       "_model_module_version": "^2.4.1",
       "_model_name": "PreviewModel",
       "_view_count": null,
       "_view_module": "jupyter-threejs",
       "_view_module_version": "^2.4.1",
       "_view_name": "PreviewView",
       "_webgl_version": 2,
       "_width": 200,
       "_wire": false,
       "autoClear": true,
       "autoClearColor": true,
       "autoClearDepth": true,
       "autoClearStencil": true,
       "child": "IPY_MODEL_pythree_example_model_001",
       "clearColor": "#000000",
       "clearOpacity": 1,
       "clippingPlanes": [],
       "gammaFactor": 2,
       "gammaInput": false,
       "gammaOutput": false,
       "layout": "IPY_MODEL_pythree_example_model_003",
       "localClippingEnabled": false,
       "maxMorphNormals": 4,
       "maxMorphTargets": 8,
       "physicallyCorrectLights": false,
       "shadowMap": "IPY_MODEL_pythree_example_model_004",
       "sortObject": true,
       "tabbable": null,
       "toneMapping": "LinearToneMapping",
       "toneMappingExposure": 1,
       "toneMappingWhitePoint": 1,
       "tooltip": null
      }
     },
     "pythree_example_model_003": {
      "model_module": "@jupyter-widgets/base",
      "model_module_version": "2.0.0",
      "model_name": "LayoutModel",
      "state": {
       "_model_module": "@jupyter-widgets/base",
       "_model_module_version": "2.0.0",
       "_model_name": "LayoutModel",
       "_view_count": null,
       "_view_module": "@jupyter-widgets/base",
       "_view_module_version": "2.0.0",
       "_view_name": "LayoutView",
       "align_content": null,
       "align_items": null,
       "align_self": null,
       "border_bottom": null,
       "border_left": null,
       "border_right": null,
       "border_top": null,
       "bottom": null,
       "display": null,
       "flex": null,
       "flex_flow": null,
       "grid_area": null,
       "grid_auto_columns": null,
       "grid_auto_flow": null,
       "grid_auto_rows": null,
       "grid_column": null,
       "grid_gap": null,
       "grid_row": null,
       "grid_template_areas": null,
       "grid_template_columns": null,
       "grid_template_rows": null,
       "height": null,
       "justify_content": null,
       "justify_items": null,
       "left": null,
       "margin": null,
       "max_height": null,
       "max_width": null,
       "min_height": null,
       "min_width": null,
       "object_fit": null,
       "object_position": null,
       "order": null,
       "overflow": null,
       "padding": null,
       "right": null,
       "top": null,
       "visibility": null,
       "width": null
      }
     },
     "pythree_example_model_004": {
      "model_module": "jupyter-threejs",
      "model_module_version": "^2.4.1",
      "model_name": "WebGLShadowMapModel",
      "state": {
       "_model_module": "jupyter-threejs",
       "_model_module_version": "^2.4.1",
       "_model_name": "WebGLShadowMapModel",
       "_view_count": null,
       "_view_module": null,
       "_view_module_version": "",
       "_view_name": null,
       "enabled": false,
       "type": "PCFShadowMap"
      }
     }
    },
    "version_major": 2,
    "version_minor": 0
   }
  }
 },
 "nbformat": 4,
 "nbformat_minor": 2
}
