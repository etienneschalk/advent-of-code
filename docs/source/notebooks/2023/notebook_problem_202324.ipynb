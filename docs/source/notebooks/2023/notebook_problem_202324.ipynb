{
 "cells": [
  {
   "cell_type": "markdown",
   "metadata": {},
   "source": [
    "# Year 2023 Day 24\n"
   ]
  },
  {
   "cell_type": "markdown",
   "metadata": {},
   "source": [
    "TODO Use Link Mark to materialize vectors https://observablehq.com/plot/marks/link\n",
    "Reuse notebook 202311\n",
    "Use 2d simplification for vector explanation then pythreejs\n",
    "for interactive 3d visu, maybe evn anim?\n",
    "\n",
    "Note: might also be perfect for visualizing the inputs from 202322 (falling bricks)\n",
    "\n",
    "See https://pythreejs.readthedocs.io/en/stable/examples/Geometries.html fo threejs examples\n",
    "\n",
    "See https://pythreejs.readthedocs.io/en/stable/examples/Geometries.html\n",
    "and https://github.com/jupyter-widgets/pythreejs/blob/ebf601e805547e3ae6f656d3fe4ff89aa5ab2dac/examples/Geometries.ipynb\n",
    "for example of successful notebook pre-rendering with pythreejs widgets\n",
    "\n",
    "Note: This works when the notebook is left empty and then computed during the sphinx build\n",
    "It does not work if it is pre-ran manually\n",
    "So, the integration of notebook generation in the build process (GitHub action) is unavoidable,\n",
    "at least for some that does not require heavy dependencies (unlike graphviz for instance)\n",
    "Hopefully, JS-leaning notebooks using pythreejs and pyobservable plot should be easier to build."
   ]
  },
  {
   "cell_type": "code",
   "execution_count": 1,
   "metadata": {
    "execution": {
     "iopub.execute_input": "2024-05-04T15:20:24.136929Z",
     "iopub.status.busy": "2024-05-04T15:20:24.136153Z",
     "iopub.status.idle": "2024-05-04T15:20:24.585122Z",
     "shell.execute_reply": "2024-05-04T15:20:24.584113Z"
    }
   },
   "outputs": [],
   "source": [
    "from pythreejs import *\n",
    "from IPython.display import display\n",
    "from math import pi\n",
    "\n",
    "from pythreejs._example_helper import use_example_model_ids\n",
    "\n",
    "use_example_model_ids()"
   ]
  },
  {
   "cell_type": "code",
   "execution_count": 2,
   "metadata": {
    "execution": {
     "iopub.execute_input": "2024-05-04T15:20:24.589330Z",
     "iopub.status.busy": "2024-05-04T15:20:24.589001Z",
     "iopub.status.idle": "2024-05-04T15:20:24.599794Z",
     "shell.execute_reply": "2024-05-04T15:20:24.599081Z"
    }
   },
   "outputs": [
    {
     "data": {
      "application/vnd.jupyter.widget-view+json": {
       "model_id": "pythree_example_model_002",
       "version_major": 2,
       "version_minor": 0
      },
      "text/plain": [
       "BoxGeometry(depth=15.0, depthSegments=15, height=10.0, heightSegments=10, width=5.0, widthSegments=5)"
      ]
     },
     "execution_count": 2,
     "metadata": {},
     "output_type": "execute_result"
    }
   ],
   "source": [
    "BoxGeometry(\n",
    "    width=5, height=10, depth=15, widthSegments=5, heightSegments=10, depthSegments=15\n",
    ")\n",
    "\n",
    "# Not working in the browser html version :'("
   ]
  }
 ],
 "metadata": {
  "kernelspec": {
   "display_name": "advent-of-code-CEbbwEIT-py3.10",
   "language": "python",
   "name": "python3"
  },
  "language_info": {
   "codemirror_mode": {
    "name": "ipython",
    "version": 3
   },
   "file_extension": ".py",
   "mimetype": "text/x-python",
   "name": "python",
   "nbconvert_exporter": "python",
   "pygments_lexer": "ipython3",
   "version": "3.12.1"
  },
  "widgets": {
   "application/vnd.jupyter.widget-state+json": {
    "state": {
     "pythree_example_model_001": {
      "model_module": "jupyter-threejs",
      "model_module_version": "^2.4.1",
      "model_name": "BoxGeometryModel",
      "state": {
       "_model_module": "jupyter-threejs",
       "_model_module_version": "^2.4.1",
       "_model_name": "BoxGeometryModel",
       "_view_count": null,
       "_view_module": null,
       "_view_module_version": "",
       "_view_name": null,
       "depth": 15.0,
       "depthSegments": 15,
       "height": 10.0,
       "heightSegments": 10,
       "name": "",
       "type": "BoxGeometry",
       "width": 5.0,
       "widthSegments": 5
      }
     },
     "pythree_example_model_002": {
      "model_module": "jupyter-threejs",
      "model_module_version": "^2.4.1",
      "model_name": "PreviewModel",
      "state": {
       "_alpha": false,
       "_antialias": false,
       "_dom_classes": [],
       "_flat": false,
       "_height": 200,
       "_model_module": "jupyter-threejs",
       "_model_module_version": "^2.4.1",
       "_model_name": "PreviewModel",
       "_view_count": null,
       "_view_module": "jupyter-threejs",
       "_view_module_version": "^2.4.1",
       "_view_name": "PreviewView",
       "_webgl_version": 2,
       "_width": 200,
       "_wire": false,
       "autoClear": true,
       "autoClearColor": true,
       "autoClearDepth": true,
       "autoClearStencil": true,
       "child": "IPY_MODEL_pythree_example_model_001",
       "clearColor": "#000000",
       "clearOpacity": 1.0,
       "clippingPlanes": [],
       "gammaFactor": 2.0,
       "gammaInput": false,
       "gammaOutput": false,
       "layout": "IPY_MODEL_pythree_example_model_003",
       "localClippingEnabled": false,
       "maxMorphNormals": 4,
       "maxMorphTargets": 8,
       "physicallyCorrectLights": false,
       "shadowMap": "IPY_MODEL_pythree_example_model_004",
       "sortObject": true,
       "tabbable": null,
       "toneMapping": "LinearToneMapping",
       "toneMappingExposure": 1.0,
       "toneMappingWhitePoint": 1.0,
       "tooltip": null
      }
     },
     "pythree_example_model_003": {
      "model_module": "@jupyter-widgets/base",
      "model_module_version": "2.0.0",
      "model_name": "LayoutModel",
      "state": {
       "_model_module": "@jupyter-widgets/base",
       "_model_module_version": "2.0.0",
       "_model_name": "LayoutModel",
       "_view_count": null,
       "_view_module": "@jupyter-widgets/base",
       "_view_module_version": "2.0.0",
       "_view_name": "LayoutView",
       "align_content": null,
       "align_items": null,
       "align_self": null,
       "border_bottom": null,
       "border_left": null,
       "border_right": null,
       "border_top": null,
       "bottom": null,
       "display": null,
       "flex": null,
       "flex_flow": null,
       "grid_area": null,
       "grid_auto_columns": null,
       "grid_auto_flow": null,
       "grid_auto_rows": null,
       "grid_column": null,
       "grid_gap": null,
       "grid_row": null,
       "grid_template_areas": null,
       "grid_template_columns": null,
       "grid_template_rows": null,
       "height": null,
       "justify_content": null,
       "justify_items": null,
       "left": null,
       "margin": null,
       "max_height": null,
       "max_width": null,
       "min_height": null,
       "min_width": null,
       "object_fit": null,
       "object_position": null,
       "order": null,
       "overflow": null,
       "padding": null,
       "right": null,
       "top": null,
       "visibility": null,
       "width": null
      }
     },
     "pythree_example_model_004": {
      "model_module": "jupyter-threejs",
      "model_module_version": "^2.4.1",
      "model_name": "WebGLShadowMapModel",
      "state": {
       "_model_module": "jupyter-threejs",
       "_model_module_version": "^2.4.1",
       "_model_name": "WebGLShadowMapModel",
       "_view_count": null,
       "_view_module": null,
       "_view_module_version": "",
       "_view_name": null,
       "enabled": false,
       "type": "PCFShadowMap"
      }
     }
    },
    "version_major": 2,
    "version_minor": 0
   }
  }
 },
 "nbformat": 4,
 "nbformat_minor": 2
}
