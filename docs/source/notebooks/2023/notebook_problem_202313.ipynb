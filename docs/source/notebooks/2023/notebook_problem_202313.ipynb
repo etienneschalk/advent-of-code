{
    "cells": [
        {
            "cell_type": "markdown",
            "metadata": {},
            "source": [
                "# Year 2023 Day 13\n"
            ]
        },
        {
            "cell_type": "code",
            "execution_count": null,
            "metadata": {},
            "outputs": [],
            "source": [
                "from advent_of_code.y_2023.problem_202313 import (\n",
                "    AdventOfCodeProblem202313,\n",
                ")\n",
                "import xarray as xr"
            ]
        },
        {
            "cell_type": "markdown",
            "metadata": {},
            "source": [
                "### Input Visualization\n"
            ]
        },
        {
            "cell_type": "code",
            "execution_count": null,
            "metadata": {
                "metadata": {}
            },
            "outputs": [],
            "source": [
                "problem = AdventOfCodeProblem202313()\n",
                "problem"
            ]
        },
        {
            "cell_type": "code",
            "execution_count": null,
            "metadata": {
                "metadata": {}
            },
            "outputs": [],
            "source": [
                "puzzle_input = problem.parse_input_text_file()\n",
                "puzzle_input"
            ]
        },
        {
            "cell_type": "code",
            "execution_count": null,
            "metadata": {
                "metadata": {}
            },
            "outputs": [],
            "source": [
                "for xda in puzzle_input:\n",
                "    display(xda.plot())\n",
                "    break"
            ]
        },
        {
            "cell_type": "code",
            "execution_count": null,
            "metadata": {},
            "outputs": [],
            "source": [
                "xda = xr.concat(puzzle_input, dim=\"idx\", fill_value=0)"
            ]
        },
        {
            "cell_type": "code",
            "execution_count": null,
            "metadata": {},
            "outputs": [],
            "source": [
                "# xda.plot(col=\"idx\", col_wrap=10)"
            ]
        },
        {
            "cell_type": "code",
            "execution_count": null,
            "metadata": {
                "metadata": {}
            },
            "outputs": [],
            "source": [
                "from advent_of_code.y_2023.problem_202313 import compute_symmetry_amounts\n",
                "\n",
                "\n",
                "patterns = puzzle_input\n",
                "arr = []\n",
                "for smudge_mode in (False, True):\n",
                "    columns, rows = compute_symmetry_amounts(patterns, smudge_mode=smudge_mode)\n",
                "    arr.append([list(columns), list(rows)])\n",
                "    \n",
                "symmetry_axes_xda = xr.DataArray(\n",
                "    data=arr,\n",
                "    dims=(\"smudge\", \"axis\", \"idx\"),\n",
                "    coords=dict(smudge=[False, True], axis=[\"col\", \"row\"]),\n",
                ")\n",
                "display(symmetry_axes_xda)\n",
                "symmetry_axes_xda.sel(smudge=False).T.to_pandas()"
            ]
        },
        {
            "cell_type": "markdown",
            "metadata": {},
            "source": [
                "Solid stroke = no smudge (part 1)\n",
                "Dashed stroke = with smudge (part 2)"
            ]
        },
        {
            "cell_type": "code",
            "execution_count": null,
            "metadata": {
                "metadata": {}
            },
            "outputs": [],
            "source": [
                "from typing import Any\n",
                "from advent_of_code.visualization.observable_plot import (\n",
                "    build_base_xarray_plot,\n",
                ")\n",
                "from pyobsplot import Plot\n",
                "\n",
                "\n",
                "def visualize_puzzle_input_202313(\n",
                "    xda: xr.DataArray,\n",
                "    *,\n",
                "    with_rules: bool = False,\n",
                "    symmetry_axes_xda: xr.DataArray | None = None,\n",
                "    **kwargs: Any,\n",
                "):\n",
                "    def callback(marks: list[Any]) -> None:\n",
                "        if with_rules:\n",
                "            if symmetry_axes_xda is None:\n",
                "                raise ValueError(\n",
                "                    \"symmetry_axes_xda was not given, it is needed to visualize the graph\"\n",
                "                )\n",
                "\n",
                "            for smudge in (False, True):\n",
                "                strokeDasharray = \"9\" if smudge else None\n",
                "                marks.append(\n",
                "                    Plot.ruleY(\n",
                "                        [symmetry_axes_xda.sel(axis=\"row\", smudge=smudge).item()],\n",
                "                        {\"strokeDasharray\": strokeDasharray, \"strokeWidth\": 3, \"stroke\": \"#0cc\"},\n",
                "                    ),\n",
                "                )\n",
                "                marks.append(\n",
                "                    Plot.ruleX(\n",
                "                        [symmetry_axes_xda.sel(axis=\"col\", smudge=smudge).item()],\n",
                "                        {\"strokeDasharray\": strokeDasharray, \"strokeWidth\": 3, \"stroke\": \"#c0c\"},\n",
                "                    ),\n",
                "                )\n",
                "\n",
                "    return build_base_xarray_plot(xda, callback, **kwargs)\n",
                "\n",
                "for idx in symmetry_axes_xda.idx[:10].values:\n",
                "    display(idx, puzzle_input[idx].shape)\n",
                "    # display(symmetry_axes_xda.sel(idx=idx))\n",
                "\n",
                "    visu = visualize_puzzle_input_202313(\n",
                "        puzzle_input[idx],\n",
                "        scale=0.4,\n",
                "        with_rules=True,\n",
                "        symmetry_axes_xda=symmetry_axes_xda.sel(idx=idx),\n",
                "    )\n",
                "    display(visu)"
            ]
        }
    ],
    "metadata": {
        "kernelspec": {
            "display_name": "advent-of-code-CEbbwEIT-py3.10",
            "language": "python",
            "name": "python3"
        },
        "language_info": {
            "codemirror_mode": {
                "name": "ipython",
                "version": 3
            },
            "file_extension": ".py",
            "mimetype": "text/x-python",
            "name": "python",
            "nbconvert_exporter": "python",
            "pygments_lexer": "ipython3",
            "version": "3.12.1"
        }
    },
    "nbformat": 4,
    "nbformat_minor": 2
}
