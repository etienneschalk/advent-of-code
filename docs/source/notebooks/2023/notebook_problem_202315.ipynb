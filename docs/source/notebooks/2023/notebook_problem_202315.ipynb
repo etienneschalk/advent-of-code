{
 "cells": [
  {
   "cell_type": "markdown",
   "metadata": {},
   "source": [
    "# Year 2023 Day 015\n",
    "\n",
    "[--- Day 15: Lens Library ---](https://adventofcode.com/2023/day/15)\n"
   ]
  },
  {
   "cell_type": "code",
   "execution_count": null,
   "metadata": {
    "execution": {
     "iopub.execute_input": "2024-05-27T08:54:16.513015Z",
     "iopub.status.busy": "2024-05-27T08:54:16.512531Z",
     "iopub.status.idle": "2024-05-27T08:54:16.597832Z",
     "shell.execute_reply": "2024-05-27T08:54:16.597146Z"
    }
   },
   "outputs": [],
   "source": [
    "from advent_of_code.common.common import get_example_inputs_file_contents\n",
    "from advent_of_code.y_2023.problem_202315 import AdventOfCodeProblem202315\n",
    "\n",
    "\n",
    "problem = AdventOfCodeProblem202315()\n",
    "problem"
   ]
  },
  {
   "cell_type": "code",
   "execution_count": null,
   "metadata": {},
   "outputs": [],
   "source": [
    "from advent_of_code.visualization.observable_plot import (\n",
    "    ObservablePlotBuilder,\n",
    "    create_obsplot_instance,\n",
    ")\n",
    "from pyobsplot import Plot, js\n",
    "\n",
    "op_instance = create_obsplot_instance(renderer=\"jsdom\", theme=\"dark\")"
   ]
  },
  {
   "cell_type": "markdown",
   "metadata": {},
   "source": [
    "## Visualization of the boxes\n"
   ]
  },
  {
   "cell_type": "code",
   "execution_count": null,
   "metadata": {
    "execution": {
     "iopub.execute_input": "2024-05-27T08:54:16.613781Z",
     "iopub.status.busy": "2024-05-27T08:54:16.613523Z",
     "iopub.status.idle": "2024-05-27T08:54:16.617303Z",
     "shell.execute_reply": "2024-05-27T08:54:16.616458Z"
    }
   },
   "outputs": [],
   "source": [
    "from typing import Literal\n",
    "from advent_of_code.y_2023.problem_202315 import hashmap_process\n",
    "import pandas as pd\n",
    "from IPython.display import Markdown\n",
    "\n",
    "\n",
    "def plot_boxes(mode: Literal[\"example\", \"actual\"], display_details: bool = False):\n",
    "    if mode == \"example\":\n",
    "        example_input = get_example_inputs_file_contents(2023)[\"test_problem_202315\"][\n",
    "            \"EXAMPLE_INPUT\"\n",
    "        ]\n",
    "        initialization_sequence = AdventOfCodeProblem202315.parse_text_input(\n",
    "            example_input\n",
    "        )\n",
    "        width = 300\n",
    "        height = 100\n",
    "        inset = 1\n",
    "        display(Markdown(\"### Example input\"))\n",
    "    elif mode == \"actual\":\n",
    "        initialization_sequence = problem.parse_input_text_file()\n",
    "        width = 400\n",
    "        height = 2600\n",
    "        inset = 0\n",
    "        display(Markdown(\"### Actual input\"))\n",
    "    else:\n",
    "        raise NotImplementedError\n",
    "\n",
    "    if display_details:\n",
    "        display(initialization_sequence)\n",
    "    boxes = hashmap_process(initialization_sequence)\n",
    "    if display_details:\n",
    "        display(boxes)\n",
    "\n",
    "    acc = []\n",
    "    for box, lenses in boxes.items():\n",
    "        for slot, (label, focal_length) in enumerate(lenses.items(), 1):\n",
    "            acc.append((box, label, focal_length, int(slot)))\n",
    "    df = pd.DataFrame(acc, columns=(\"box\", \"label\", \"focal_length\", \"slot\"))\n",
    "    display(df)\n",
    "\n",
    "    initial_kwargs = {\n",
    "        \"marginLeft\": 45,\n",
    "        \"title\": \"Final boxes configuration\",\n",
    "        \"width\": width,\n",
    "        \"height\": height,\n",
    "        \"color\": {\n",
    "            # \"type\": \"categorical\", # No label for categorical!\n",
    "            \"type\": \"linear\",\n",
    "            \"scheme\": \"Blues\",\n",
    "            \"reverse\": True,\n",
    "            \"legend\": True,\n",
    "            \"label\": \" Focal length\",\n",
    "            \"ticks\": 7,\n",
    "            \"nice\": True,\n",
    "        },\n",
    "        \"y\": {\"axis\": \"both\"},\n",
    "        \"x\": {\"axis\": \"both\"},\n",
    "    }\n",
    "    plotter = ObservablePlotBuilder(\n",
    "        initial_kwargs=initial_kwargs,\n",
    "        _op=op_instance,\n",
    "    )\n",
    "\n",
    "    x = \"box\"\n",
    "    y = \"slot\"\n",
    "    x = \"slot\"\n",
    "    y = \"box\"\n",
    "    plotter_ = plotter.copy().stack(\n",
    "        lambda: [\n",
    "            Plot.cell(\n",
    "                df,\n",
    "                {\n",
    "                    \"x\": x,\n",
    "                    \"y\": y,\n",
    "                    \"fill\": \"focal_length\",\n",
    "                    \"title\": js(\"(d) => `Focal length: ${d.focal_length}`\"),\n",
    "                    \"inset\": inset,\n",
    "                },\n",
    "            ),\n",
    "            Plot.text(\n",
    "                df,\n",
    "                {\n",
    "                    \"x\": x,\n",
    "                    \"y\": y,\n",
    "                    \"text\": \"label\",\n",
    "                    \"title\": js(\"(d) => `Focal length: ${d.focal_length}`\"),\n",
    "                    \"fill\": \"white\",\n",
    "                    \"stroke\": \"black\",\n",
    "                    \"strokeWidth\": 3,\n",
    "                    \"fontWeight\": 900,\n",
    "                },\n",
    "            ),\n",
    "        ]\n",
    "    )\n",
    "    plotter_.plot(verbose=True)\n",
    "\n",
    "\n",
    "plot_boxes(\"example\")\n",
    "plot_boxes(\"actual\")"
   ]
  }
 ],
 "metadata": {
  "kernelspec": {
   "display_name": "advent-of-code-CEbbwEIT-py3.10",
   "language": "python",
   "name": "python3"
  },
  "language_info": {
   "codemirror_mode": {
    "name": "ipython",
    "version": 3
   },
   "file_extension": ".py",
   "mimetype": "text/x-python",
   "name": "python",
   "nbconvert_exporter": "python",
   "pygments_lexer": "ipython3",
   "version": "3.12.1"
  }
 },
 "nbformat": 4,
 "nbformat_minor": 2
}
