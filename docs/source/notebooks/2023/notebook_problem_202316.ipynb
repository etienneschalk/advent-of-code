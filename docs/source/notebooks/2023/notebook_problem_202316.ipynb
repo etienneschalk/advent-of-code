{
 "cells": [
  {
   "cell_type": "markdown",
   "metadata": {},
   "source": [
    "# Year 2023 Day 16\n",
    "\n",
    "[--- Day 16: The Floor Will Be Lava ---](https://adventofcode.com/2023/day/16)\n"
   ]
  },
  {
   "cell_type": "markdown",
   "metadata": {},
   "source": [
    "## Motive\n",
    "\n",
    "A video was produced before this notebook, available here: [video problem 202316](/videos/2023/video_problem_202316.html)\n",
    "\n",
    "This notebook takes a step back and try to visualize with simpler tools, while reusing some code from the video generation (notably the history generation).\n",
    "\n",
    "## Related puzzles\n",
    "\n",
    "- [--- Day 14: Parabolic Reflector Dish ---](https://adventofcode.com/2023/day/14)\n"
   ]
  },
  {
   "cell_type": "code",
   "execution_count": null,
   "metadata": {
    "execution": {
     "iopub.execute_input": "2024-05-15T21:13:33.481587Z",
     "iopub.status.busy": "2024-05-15T21:13:33.481235Z",
     "iopub.status.idle": "2024-05-15T21:13:34.131950Z",
     "shell.execute_reply": "2024-05-15T21:13:34.131038Z"
    },
    "metadata": {}
   },
   "outputs": [],
   "source": [
    "from typing import Any, Callable\n",
    "\n",
    "import numpy as np\n",
    "import pandas as pd\n",
    "import xarray as xr\n",
    "from pyobsplot import Plot"
   ]
  },
  {
   "cell_type": "code",
   "execution_count": null,
   "metadata": {
    "execution": {
     "iopub.execute_input": "2024-05-15T21:13:34.135435Z",
     "iopub.status.busy": "2024-05-15T21:13:34.134902Z",
     "iopub.status.idle": "2024-05-15T21:13:34.152399Z",
     "shell.execute_reply": "2024-05-15T21:13:34.151671Z"
    }
   },
   "outputs": [],
   "source": [
    "from advent_of_code.y_2023.problem_202316 import AdventOfCodeProblem202316\n",
    "\n",
    "problem = AdventOfCodeProblem202316()\n",
    "problem"
   ]
  },
  {
   "cell_type": "code",
   "execution_count": null,
   "metadata": {},
   "outputs": [],
   "source": [
    "board = xr.DataArray(\n",
    "    data=problem.parse_input_text_file(),\n",
    "    dims=(\"row\", \"col\"),\n",
    ")\n",
    "board"
   ]
  },
  {
   "cell_type": "code",
   "execution_count": null,
   "metadata": {},
   "outputs": [],
   "source": [
    "from advent_of_code.visualization.observable_plot import ObservablePlotXarrayBuilder"
   ]
  },
  {
   "cell_type": "markdown",
   "metadata": {},
   "source": [
    "## With Example Input\n"
   ]
  },
  {
   "cell_type": "code",
   "execution_count": null,
   "metadata": {
    "execution": {
     "iopub.execute_input": "2024-05-15T21:13:36.850003Z",
     "iopub.status.busy": "2024-05-15T21:13:36.849626Z",
     "iopub.status.idle": "2024-05-15T21:13:36.860601Z",
     "shell.execute_reply": "2024-05-15T21:13:36.859704Z"
    }
   },
   "outputs": [],
   "source": [
    "from advent_of_code.common.common import get_example_inputs_file_contents\n",
    "\n",
    "example_input = get_example_inputs_file_contents(2023)[\"test_problem_202316\"][\n",
    "    \"EXAMPLE_INPUT\"\n",
    "]\n",
    "parsed_example_input = xr.DataArray(\n",
    "    problem.parse_text_input(example_input), dims=(\"row\", \"col\")\n",
    ")"
   ]
  },
  {
   "cell_type": "code",
   "execution_count": null,
   "metadata": {
    "execution": {
     "iopub.execute_input": "2024-05-15T21:13:36.863925Z",
     "iopub.status.busy": "2024-05-15T21:13:36.863591Z",
     "iopub.status.idle": "2024-05-15T21:13:36.879864Z",
     "shell.execute_reply": "2024-05-15T21:13:36.878882Z"
    }
   },
   "outputs": [],
   "source": [
    "from advent_of_code.visualization.observable_plot import ascii_2d_numpy_array_plotter\n",
    "\n",
    "\n",
    "example_input_plotter = ascii_2d_numpy_array_plotter(\n",
    "    parsed_example_input,\n",
    "    obfuscate=False,\n",
    "    text=True,\n",
    "    width=300,\n",
    "    height=300,\n",
    ")"
   ]
  },
  {
   "cell_type": "code",
   "execution_count": null,
   "metadata": {
    "execution": {
     "iopub.execute_input": "2024-05-15T21:13:36.883135Z",
     "iopub.status.busy": "2024-05-15T21:13:36.882809Z",
     "iopub.status.idle": "2024-05-15T21:13:36.955912Z",
     "shell.execute_reply": "2024-05-15T21:13:36.955150Z"
    }
   },
   "outputs": [],
   "source": [
    "example_input_plotter.plot()"
   ]
  },
  {
   "cell_type": "markdown",
   "metadata": {},
   "source": [
    "We can see the 4 types of mirrors: `-`, `|`, `/` and `\\`. Note that a new symbol, `O`, has been introduced. It represented walls. It is a help to manage incoming rays that are outside of the board, and avoid out of bounds coordinates.\n",
    "\n",
    "Let's get fancy and replace the ASCII characters by Unicode characters, representing more faithfully the mirrors.\n",
    "\n",
    "See\n",
    "\n",
    "- [`\\` on Wikipédia](https://en.wiktionary.org/wiki/%5C) and [U+FF3C: FULLWIDTH REVERSE SOLIDUS](https://charbase.com/ff3c-unicode-fullwidth-reverse-solidus) (`＼`)\n",
    "- [`/` on Wikipédia](https://en.wiktionary.org/wiki//) and [U+FF0F: FULLWIDTH SOLIDUS](https://charbase.com/ff0f) (`／`)\n",
    "- [Box-drawing characters](https://en.wikipedia.org/wiki/Box-drawing_characters) (`─` and `│`)\n"
   ]
  },
  {
   "cell_type": "code",
   "execution_count": null,
   "metadata": {},
   "outputs": [],
   "source": [
    "parsed_example_input"
   ]
  },
  {
   "cell_type": "code",
   "execution_count": null,
   "metadata": {},
   "outputs": [],
   "source": [
    "from IPython.display import display, Markdown\n",
    "\n",
    "\n",
    "def to_unicode_board(puzzle_xda: xr.DataArray):\n",
    "    mapping = {\n",
    "        \"/\": \"\\uff3c\",\n",
    "        \"\\\\\": \"\\uff0f\",\n",
    "        # \"-\": \"\\u2500\",\n",
    "        \"-\": \"―\",  # best rendered in plot https://www.compart.com/en/unicode/U+2015\n",
    "        \"|\": \"\\u2502\",\n",
    "        # \"|\": \"—\",\n",
    "        \".\": \"·\",\n",
    "        # \"O\": \"⯀\",\n",
    "        \"O\": \"□\",\n",
    "    }\n",
    "    unicode_board = puzzle_xda.copy(data=puzzle_xda.values.view(\"S1\").astype(\"str\"))\n",
    "\n",
    "    # unicode_board[:, 0] = \"┃\"\n",
    "    # unicode_board[:, -1] = \"┃\"\n",
    "    # unicode_board[0, :] = \"━\"\n",
    "    # unicode_board[-1, :] = \"━\"\n",
    "    # unicode_board[0, -1] = \"┓\"\n",
    "    # unicode_board[-1, 0] = \"┗\"\n",
    "    # unicode_board[-1, -1] = \"┛\"\n",
    "    # unicode_board[0, 0] = \"┏\"\n",
    "\n",
    "    for old, new in mapping.items():\n",
    "        unicode_board = unicode_board.where(unicode_board != old, new)\n",
    "    return unicode_board\n",
    "\n",
    "\n",
    "unicode_board = to_unicode_board(parsed_example_input)\n",
    "rendered = \"\\n\".join(\"\".join(row) for row in unicode_board.values.tolist())\n",
    "display(Markdown(f\"```\\n{rendered}\\n```\"))"
   ]
  },
  {
   "cell_type": "code",
   "execution_count": null,
   "metadata": {},
   "outputs": [],
   "source": [
    "unicode_board.dtype"
   ]
  },
  {
   "cell_type": "markdown",
   "metadata": {},
   "source": [
    "In the following, the walls are removed for cleaner visualization."
   ]
  },
  {
   "cell_type": "code",
   "execution_count": null,
   "metadata": {},
   "outputs": [],
   "source": [
    "unicode_plotter = ascii_2d_numpy_array_plotter(\n",
    "    unicode_board[1:-1, 1:-1],\n",
    "    obfuscate=False,\n",
    "    text=True,\n",
    "    width=300,\n",
    "    height=300,\n",
    "    scheme=\"Category10\",\n",
    ")\n",
    "unicode_plotter.plot()"
   ]
  },
  {
   "cell_type": "code",
   "execution_count": null,
   "metadata": {},
   "outputs": [],
   "source": [
    "(unicode_plotter.copy(label=False)\n",
    " .unstack(0)\n",
    " ).plot()"
   ]
  },
  {
   "cell_type": "markdown",
   "metadata": {},
   "source": [
    "#### Compute the history"
   ]
  },
  {
   "cell_type": "code",
   "execution_count": null,
   "metadata": {},
   "outputs": [],
   "source": [
    "history_raw = problem.compute_history(parsed_example_input, 250, verbose=False)\n",
    "history_raw"
   ]
  },
  {
   "cell_type": "code",
   "execution_count": null,
   "metadata": {},
   "outputs": [],
   "source": [
    "len(history_raw)"
   ]
  },
  {
   "cell_type": "code",
   "execution_count": null,
   "metadata": {},
   "outputs": [],
   "source": [
    "history = [\n",
    "    (depth, tuple(position), tuple(speed)) for (depth, position, speed) in history_raw\n",
    "]\n",
    "history"
   ]
  },
  {
   "cell_type": "markdown",
   "metadata": {},
   "source": [
    "TODO: Use characters to draw the rays? (beware of the 15k actual input...)"
   ]
  },
  {
   "cell_type": "code",
   "execution_count": null,
   "metadata": {},
   "outputs": [],
   "source": [
    "def create_ray_plot_df(history: list[tuple[int, list[int], list[int]]]) -> pd.DataFrame:\n",
    "    future_df = []\n",
    "    for depth, pos, speed in history:\n",
    "        if speed[0] == 0:\n",
    "            char = \"―\"\n",
    "        else:\n",
    "            char = \"\\u2502\"\n",
    "        new_entry = (pos[0], pos[1], depth, char)\n",
    "        future_df.append(new_entry)\n",
    "\n",
    "    ray_df = pd.DataFrame(future_df, columns=[\"x\", \"y\", \"depth\", \"char\"])\n",
    "    return ray_df\n",
    "\n",
    "\n",
    "ray_df = create_ray_plot_df(history)\n",
    "ray_df"
   ]
  },
  {
   "cell_type": "code",
   "execution_count": null,
   "metadata": {},
   "outputs": [],
   "source": [
    "def plot_rays(board: xr.DataArray, ray_df: pd.DataFrame, *, width: int = 300, \n",
    "              dx: int = 12, dy: int = 12):\n",
    "    plotter = ascii_2d_numpy_array_plotter(\n",
    "        # board[1:-1, 1:-1],\n",
    "        board,\n",
    "        obfuscate=False,\n",
    "        text=True,\n",
    "        width=width,\n",
    "        height=width,\n",
    "        label=False,\n",
    "    ).unstack(0)\n",
    "\n",
    "    x_target = \"y\"\n",
    "    y_target = \"x\"\n",
    "    plotter.append(\n",
    "        lambda: [\n",
    "            Plot.text(  # type:ignore\n",
    "                ray_df,\n",
    "                {\n",
    "                    x_target: \"x\",\n",
    "                    y_target: \"y\",\n",
    "                    \"text\": \"char\",\n",
    "                    \"stroke\": \"depth\",\n",
    "                    \"fill\": \"currentColor\",\n",
    "                    \"dy\": dx,\n",
    "                    \"dx\": dy,\n",
    "                    \"fontSize\": 40 * width / 600 * 13 / board[\"col\"].size,\n",
    "                },\n",
    "            )\n",
    "        ]\n",
    "    )\n",
    "    scheme = \"turbo\"\n",
    "    scheme = \"plasma\"\n",
    "    scheme = \"turbo\"\n",
    "    plotter.plot(\n",
    "        color={\"legend\": True, \"scheme\": scheme, \"label\": \"Ray's depth\"},\n",
    "    )\n",
    "\n",
    "\n",
    "plot_rays(unicode_board, ray_df, width=300)"
   ]
  },
  {
   "cell_type": "markdown",
   "metadata": {},
   "source": [
    "## With Actual Input\n"
   ]
  },
  {
   "cell_type": "code",
   "execution_count": null,
   "metadata": {},
   "outputs": [],
   "source": [
    "actual_unicode_board = to_unicode_board(\n",
    "    xr.DataArray(problem.parse_input_text_file(), dims=(\"row\", \"col\"))\n",
    ")\n",
    "actual_unicode_board"
   ]
  },
  {
   "cell_type": "code",
   "execution_count": null,
   "metadata": {},
   "outputs": [],
   "source": [
    "plot_input = False"
   ]
  },
  {
   "cell_type": "code",
   "execution_count": null,
   "metadata": {},
   "outputs": [],
   "source": [
    "if plot_input:\n",
    "    unicode_plotter = (\n",
    "        ascii_2d_numpy_array_plotter(\n",
    "            actual_unicode_board[1:-1, 1:-1],\n",
    "            obfuscate=False,\n",
    "            text=True,\n",
    "            width=840,\n",
    "            height=840,\n",
    "            scheme=\"Category10\",\n",
    "        )\n",
    "    )\n",
    "    unicode_plotter.plot()\n",
    "    \n",
    "    unicode_plotter.copy(\n",
    "        label=False,\n",
    "        width=840,\n",
    "        height=840,\n",
    "    ).unstack(0).plot()\n"
   ]
  },
  {
   "cell_type": "markdown",
   "metadata": {},
   "source": [
    "Load History\n"
   ]
  },
  {
   "cell_type": "code",
   "execution_count": null,
   "metadata": {},
   "outputs": [],
   "source": [
    "import json\n",
    "from pathlib import Path\n",
    "\n",
    "\n",
    "actual_history_raw = json.loads(\n",
    "    (\n",
    "        Path().resolve()\n",
    "        / \"../../../..\"\n",
    "        / problem.get_visualizations_instructions_for_part_1_file_path()\n",
    "    )\n",
    "    .resolve()\n",
    "    .read_text()\n",
    ")"
   ]
  },
  {
   "cell_type": "code",
   "execution_count": null,
   "metadata": {},
   "outputs": [],
   "source": [
    "len(actual_history_raw)"
   ]
  },
  {
   "cell_type": "markdown",
   "metadata": {},
   "source": [
    "Because the history is so long, we must transform it from \"raster\" to \"vector\". More precisely, the rays explored the board cell by cell, but not this exploration is done, we can regroup a sequence of consecutive moves in the same direction into a single line, that can be plotted with Observable Plot."
   ]
  },
  {
   "cell_type": "code",
   "execution_count": null,
   "metadata": {},
   "outputs": [],
   "source": [
    "actual_history = [\n",
    "    (depth, tuple(position), tuple(speed)) for (depth, position, speed) in actual_history_raw\n",
    "]\n",
    "actual_history[:5]"
   ]
  },
  {
   "cell_type": "code",
   "execution_count": null,
   "metadata": {},
   "outputs": [],
   "source": [
    "actual_ray_df = create_ray_plot_df(actual_history)"
   ]
  },
  {
   "cell_type": "code",
   "execution_count": null,
   "metadata": {},
   "outputs": [],
   "source": [
    "plot_rays(actual_unicode_board, actual_ray_df, width=900, dx=5, dy=5)"
   ]
  },
  {
   "cell_type": "markdown",
   "metadata": {},
   "source": [
    "## Improvements Ideas\n",
    "\n",
    "The ray do not chain together perfectly well. It is because only their position is considered, and not their direction. Using the direction would help offsetting the unicode characters in a better way, so that the rays really \"reflects\" on the mirror, with an exact junction. However, this might require more coding, as currently, only the position is taken into account, and this ray's history is flat. Using the full exploration tree might help ; even better, instrumenting the problem's code to produce visualization input material at the same time. Same discussions as described in the notebook 202317 apply here (_during execution_ versus _after execution_ visualization code production). "
   ]
  }
 ],
 "metadata": {
  "kernelspec": {
   "display_name": "advent-of-code-CEbbwEIT-py3.10",
   "language": "python",
   "name": "python3"
  },
  "language_info": {
   "codemirror_mode": {
    "name": "ipython",
    "version": 3
   },
   "file_extension": ".py",
   "mimetype": "text/x-python",
   "name": "python",
   "nbconvert_exporter": "python",
   "pygments_lexer": "ipython3",
   "version": "3.12.1"
  }
 },
 "nbformat": 4,
 "nbformat_minor": 2
}
