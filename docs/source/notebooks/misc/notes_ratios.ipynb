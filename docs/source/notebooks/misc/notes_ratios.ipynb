{
 "cells": [
  {
   "cell_type": "markdown",
   "metadata": {},
   "source": [
    "# Notes Ratios"
   ]
  },
  {
   "cell_type": "code",
   "execution_count": null,
   "metadata": {},
   "outputs": [],
   "source": [
    "import numpy as np\n",
    "import xarray as xr\n",
    "\n",
    "np.set_printoptions(formatter={\"float\": lambda x: \"{0:0.2f}\".format(x)})"
   ]
  },
  {
   "cell_type": "code",
   "execution_count": null,
   "metadata": {},
   "outputs": [],
   "source": [
    "# semi-tones\n",
    "ionian_interval_sequence = \"WWHWWWH\"\n",
    "ionian = np.array(\n",
    "    list(2 if interval == \"W\" else 1 for interval in ionian_interval_sequence)\n",
    ")\n",
    "ionian"
   ]
  },
  {
   "cell_type": "code",
   "execution_count": null,
   "metadata": {},
   "outputs": [],
   "source": [
    "xda = xr.DataArray(\n",
    "    data=list(np.roll(ionian, -i) for i in range(7)),\n",
    "    coords={\n",
    "        \"mode\": [\n",
    "            \"ionian\",\n",
    "            \"dorian\",\n",
    "            \"phyrgian\",\n",
    "            \"lydian\",\n",
    "            \"mixolydian\",\n",
    "            \"aeolian\",\n",
    "            \"locrian\",\n",
    "        ],\n",
    "        \"note\": list(range(1, 8)),\n",
    "    },\n",
    ")\n",
    "xda"
   ]
  },
  {
   "cell_type": "code",
   "execution_count": null,
   "metadata": {},
   "outputs": [],
   "source": [
    "for mode_sequence in xda:\n",
    "    print(mode_sequence)\n",
    "    mode_absolute_sequence = np.pad(\n",
    "        np.add.accumulate(mode_sequence.values),\n",
    "        pad_width=(1, 0),\n",
    "        constant_values=0,\n",
    "    )\n",
    "    print(mode_absolute_sequence)\n",
    "    powers_of_two = 2 ** (mode_absolute_sequence / 12)\n",
    "    print(powers_of_two)"
   ]
  },
  {
   "cell_type": "code",
   "execution_count": null,
   "metadata": {},
   "outputs": [],
   "source": [
    "np.array([(n + 1) / n for n in range(1, 13)])"
   ]
  },
  {
   "cell_type": "code",
   "execution_count": null,
   "metadata": {},
   "outputs": [],
   "source": [
    "np.array([(n + 2) / n for n in range(1, 13)])"
   ]
  },
  {
   "cell_type": "markdown",
   "metadata": {},
   "source": [
    "for\n"
   ]
  }
 ],
 "metadata": {
  "kernelspec": {
   "display_name": "advent-of-code-CEbbwEIT-py3.10",
   "language": "python",
   "name": "python3"
  },
  "language_info": {
   "codemirror_mode": {
    "name": "ipython",
    "version": 3
   },
   "file_extension": ".py",
   "mimetype": "text/x-python",
   "name": "python",
   "nbconvert_exporter": "python",
   "pygments_lexer": "ipython3",
   "version": "3.10.12"
  }
 },
 "nbformat": 4,
 "nbformat_minor": 2
}
