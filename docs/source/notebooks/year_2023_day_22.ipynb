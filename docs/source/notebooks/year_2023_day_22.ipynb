{
 "cells": [
  {
   "cell_type": "markdown",
   "metadata": {},
   "source": [
    "# Year 2023 Day 22\n"
   ]
  },
  {
   "cell_type": "code",
   "execution_count": null,
   "metadata": {},
   "outputs": [],
   "source": [
    "from advent_of_code.common.common import get_input_file_path\n",
    "from advent_of_code.year_2023.problem_202322 import (\n",
    "    compute_supported_bricks_from_initial_bricks,\n",
    "    parse_text_input,\n",
    ")\n",
    "\n",
    "from advent_of_code.common.store import ExampleInputsStore\n",
    "from advent_of_code.common.graph_visualization import construct_dot_graph_from_dict"
   ]
  },
  {
   "cell_type": "markdown",
   "metadata": {},
   "source": [
    "## Test Input\n"
   ]
  },
  {
   "cell_type": "code",
   "execution_count": null,
   "metadata": {},
   "outputs": [],
   "source": [
    "EXAMPLE_INPUT = ExampleInputsStore.from_private_resources_repository().retrieve(\"test_problem_202322\")"
   ]
  },
  {
   "cell_type": "code",
   "execution_count": null,
   "metadata": {},
   "outputs": [],
   "source": [
    "text = EXAMPLE_INPUT\n",
    "unsorted_bricks = parse_text_input(text)\n",
    "supported_bricks = compute_supported_bricks_from_initial_bricks(unsorted_bricks)\n",
    "supported_bricks"
   ]
  },
  {
   "cell_type": "code",
   "execution_count": null,
   "metadata": {},
   "outputs": [],
   "source": [
    "dot = construct_dot_graph_from_dict(supported_bricks)\n",
    "dot"
   ]
  },
  {
   "cell_type": "code",
   "execution_count": null,
   "metadata": {},
   "outputs": [],
   "source": [
    "from advent_of_code.year_2023.problem_202322 import compute_support_counts\n",
    "\n",
    "\n",
    "support_counts = compute_support_counts(supported_bricks)\n",
    "a = dict(support_counts)\n",
    "b = dict(support_counts)\n",
    "a.clear()\n",
    "b.clear()\n",
    "a, b, support_counts"
   ]
  },
  {
   "cell_type": "code",
   "execution_count": null,
   "metadata": {},
   "outputs": [],
   "source": [
    "updated_support_counts_when_node_removed = {}\n",
    "for b_id, children in supported_bricks.items():\n",
    "    sc = dict(support_counts)  # copy support counts, it will be mutated\n",
    "\n",
    "    q = []\n",
    "    # q.extend([b_id])\n",
    "    q.extend(list(children))\n",
    "\n",
    "    max_iter_security = 1000\n",
    "    iter_count = 0\n",
    "    while q and iter_count < max_iter_security:\n",
    "        node = q.pop(0)\n",
    "        sc[node] = max(0, sc[node] - 1)\n",
    "        q.extend(list(supported_bricks[node]))\n",
    "\n",
    "    updated_support_counts_when_node_removed[b_id] = sc\n",
    "updated_support_counts_when_node_removed"
   ]
  },
  {
   "cell_type": "code",
   "execution_count": null,
   "metadata": {},
   "outputs": [],
   "source": [
    "chain_reaction_other_fallen_bricks_count = {\n",
    "    node: sum(v == 0 for v in value.values())\n",
    "    for node, value in updated_support_counts_when_node_removed.items()\n",
    "}\n",
    "chain_reaction_other_fallen_bricks_count"
   ]
  },
  {
   "cell_type": "code",
   "execution_count": null,
   "metadata": {},
   "outputs": [],
   "source": [
    "sum(support_counts.values())"
   ]
  },
  {
   "cell_type": "code",
   "execution_count": null,
   "metadata": {},
   "outputs": [],
   "source": [
    "from advent_of_code.year_2023.problem_202322 import (\n",
    "    compute_chain_reaction_other_fallen_bricks_count,\n",
    "    compute_disintegrable_bricks,\n",
    "    compute_updated_support_counts_when_node_removed,\n",
    "    solve_part_2,\n",
    ")\n",
    "\n",
    "can_be_disintegrated = compute_disintegrable_bricks(supported_bricks, support_counts)\n",
    "\n",
    "updated_support_counts_when_node_removed = (\n",
    "    compute_updated_support_counts_when_node_removed(supported_bricks, support_counts)\n",
    ")\n",
    "\n",
    "chain_reaction_other_fallen_bricks_count = (\n",
    "    compute_chain_reaction_other_fallen_bricks_count(\n",
    "        updated_support_counts_when_node_removed\n",
    "    )\n",
    ")"
   ]
  },
  {
   "cell_type": "code",
   "execution_count": null,
   "metadata": {},
   "outputs": [],
   "source": [
    "can_be_disintegrated"
   ]
  },
  {
   "cell_type": "code",
   "execution_count": null,
   "metadata": {},
   "outputs": [],
   "source": [
    "updated_support_counts_when_node_removed"
   ]
  },
  {
   "cell_type": "code",
   "execution_count": null,
   "metadata": {},
   "outputs": [],
   "source": [
    "dangerous_bricks = {\n",
    "    k: v\n",
    "    for k, v in updated_support_counts_when_node_removed.items()\n",
    "    if not can_be_disintegrated[k]\n",
    "}\n",
    "dangerous_consequences = compute_chain_reaction_other_fallen_bricks_count(\n",
    "    dangerous_bricks\n",
    ")\n",
    "assert sum(dangerous_consequences.values()) == 7"
   ]
  },
  {
   "cell_type": "code",
   "execution_count": null,
   "metadata": {},
   "outputs": [],
   "source": [
    "solve_part_2(supported_bricks, support_counts, False)"
   ]
  },
  {
   "cell_type": "code",
   "execution_count": null,
   "metadata": {},
   "outputs": [],
   "source": [
    "solve_part_2(supported_bricks, support_counts, True)"
   ]
  },
  {
   "cell_type": "markdown",
   "metadata": {},
   "source": [
    "## Validation Input\n"
   ]
  },
  {
   "cell_type": "code",
   "execution_count": null,
   "metadata": {},
   "outputs": [],
   "source": [
    "text = (get_input_file_path(2023, 22)).read_text()\n",
    "unsorted_bricks = parse_text_input(text)"
   ]
  },
  {
   "cell_type": "code",
   "execution_count": null,
   "metadata": {},
   "outputs": [],
   "source": [
    "supported_bricks = compute_supported_bricks_from_initial_bricks(unsorted_bricks)\n",
    "sample = dict(list(supported_bricks.items())[:5])\n",
    "sample"
   ]
  },
  {
   "cell_type": "code",
   "execution_count": null,
   "metadata": {},
   "outputs": [],
   "source": [
    "dot = construct_dot_graph_from_dict(supported_bricks)\n",
    "dot"
   ]
  }
 ],
 "metadata": {
  "kernelspec": {
   "display_name": "advent-of-code-CEbbwEIT-py3.10",
   "language": "python",
   "name": "python3"
  },
  "language_info": {
   "codemirror_mode": {
    "name": "ipython",
    "version": 3
   },
   "file_extension": ".py",
   "mimetype": "text/x-python",
   "name": "python",
   "nbconvert_exporter": "python",
   "pygments_lexer": "ipython3",
   "version": "3.12.1"
  }
 },
 "nbformat": 4,
 "nbformat_minor": 2
}
