{
    "cells": [
        {
            "cell_type": "markdown",
            "metadata": {},
            "source": [
                "# Year 2023 Day 23\n"
            ]
        },
        {
            "cell_type": "code",
            "execution_count": null,
            "metadata": {},
            "outputs": [],
            "source": [
                "from advent_of_code.common.common import get_input_file_path\n",
                "from advent_of_code.y_2023.problem_202323 import AdventOfCodeProblem202323\n",
                "from advent_of_code.y_2023.problem_202323 import (\n",
                "    bruteforce_paths_in_exploration_tree,\n",
                "    create_flatset,\n",
                ")\n",
                "from advent_of_code.common.store import ExampleInputsStore\n",
                "\n",
                "from advent_of_code.common.graph_visualization import construct_dot_graph_from_dict\n",
                "from advent_of_code.y_2023.problem_202323 import create_flat_simplified"
            ]
        },
        {
            "cell_type": "markdown",
            "metadata": {},
            "source": [
                "## Test data\n"
            ]
        },
        {
            "cell_type": "markdown",
            "metadata": {},
            "source": [
                "### Part 1\n"
            ]
        },
        {
            "cell_type": "code",
            "execution_count": null,
            "metadata": {},
            "outputs": [],
            "source": [
                "EXAMPLE_INPUT = ExampleInputsStore.from_private_resources_repository(2023).retrieve(\n",
                "    \"test_problem_202323\"\n",
                ")"
            ]
        },
        {
            "cell_type": "code",
            "execution_count": null,
            "metadata": {},
            "outputs": [],
            "source": [
                "text = EXAMPLE_INPUT\n",
                "parsed = AdventOfCodeProblem202323.parse_text_input(text)"
            ]
        },
        {
            "cell_type": "code",
            "execution_count": null,
            "metadata": {},
            "outputs": [],
            "source": [
                "from advent_of_code.y_2023.problem_202323 import (\n",
                "    compute_exploration_tree,\n",
                "    flatten_exploration_tree,\n",
                ")\n",
                "\n",
                "\n",
                "hiking_trail = hk = parsed\n",
                "starting_position = (1, 2)\n",
                "\n",
                "tree = compute_exploration_tree(hk, starting_position)\n",
                "flat = flatten_exploration_tree(tree)"
            ]
        },
        {
            "cell_type": "code",
            "execution_count": null,
            "metadata": {},
            "outputs": [],
            "source": [
                "flat_simplified = create_flat_simplified(flat)\n",
                "dot = construct_dot_graph_from_dict(flat_simplified)\n",
                "dot"
            ]
        },
        {
            "cell_type": "code",
            "execution_count": null,
            "metadata": {},
            "outputs": [],
            "source": [
                "bf = bruteforce_paths_in_exploration_tree(tree, 0)"
            ]
        },
        {
            "cell_type": "code",
            "execution_count": null,
            "metadata": {},
            "outputs": [],
            "source": [
                "bf"
            ]
        },
        {
            "cell_type": "code",
            "execution_count": null,
            "metadata": {},
            "outputs": [],
            "source": [
                "import re\n",
                "\n",
                "# It works ^^\n",
                "flattened = [int(c) for c in re.findall(r\"\\d+\", str(bf))]\n",
                "flattened"
            ]
        },
        {
            "cell_type": "code",
            "execution_count": null,
            "metadata": {},
            "outputs": [],
            "source": [
                "import numpy as np\n",
                "\n",
                "np.array(list(reversed(sorted(flattened)))) - 1"
            ]
        },
        {
            "cell_type": "markdown",
            "metadata": {},
            "source": [
                "### Part 2\n",
                "\n",
                "Assumption: In Part 1, we already explored all paths. The explored graph\n",
                "should be reusable and transformed into an undirected graph. No need to backtrack.\n",
                "Note: if bugs arise, verify more formally this assumption.\n"
            ]
        },
        {
            "cell_type": "code",
            "execution_count": null,
            "metadata": {},
            "outputs": [],
            "source": [
                "from advent_of_code.y_2023.problem_202323 import (\n",
                "    create_flat_simplified_tuple,\n",
                "    make_undirected_graph,\n",
                ")\n",
                "\n",
                "\n",
                "flat = create_flat_simplified_tuple(flat)\n",
                "couples = make_undirected_graph(flat, bidirectional=True)\n",
                "couples_for_visu = make_undirected_graph(flat, bidirectional=False)\n",
                "couples_mapping = {t[0]: t[1] for t in couples}\n",
                "couples_mapping"
            ]
        },
        {
            "cell_type": "code",
            "execution_count": null,
            "metadata": {},
            "outputs": [],
            "source": [
                "flat"
            ]
        },
        {
            "cell_type": "code",
            "execution_count": null,
            "metadata": {},
            "outputs": [],
            "source": [
                "create_flatset(flat)"
            ]
        },
        {
            "cell_type": "code",
            "execution_count": null,
            "metadata": {},
            "outputs": [],
            "source": [
                "len(flat)"
            ]
        },
        {
            "cell_type": "code",
            "execution_count": null,
            "metadata": {},
            "outputs": [],
            "source": [
                "from advent_of_code.common.graph_visualization import construct_dot_graph_from_couples\n",
                "\n",
                "\n",
                "visu = construct_dot_graph_from_couples(couples_for_visu)\n",
                "visu"
            ]
        },
        {
            "cell_type": "markdown",
            "metadata": {},
            "source": [
                "## Actual data\n"
            ]
        },
        {
            "cell_type": "markdown",
            "metadata": {},
            "source": [
                "### Part 1\n"
            ]
        },
        {
            "cell_type": "code",
            "execution_count": null,
            "metadata": {},
            "outputs": [],
            "source": [
                "text = (get_input_file_path(2023, 23)).read_text()\n",
                "parsed = AdventOfCodeProblem202323.parse_text_input(text)"
            ]
        },
        {
            "cell_type": "code",
            "execution_count": null,
            "metadata": {},
            "outputs": [],
            "source": [
                "hiking_trail = hk = parsed\n",
                "starting_position = (1, 2)\n",
                "\n",
                "tree = compute_exploration_tree(hk, starting_position)\n",
                "flat = flatten_exploration_tree(tree)\n",
                "flat_simplified = create_flat_simplified(flat)\n",
                "dot = construct_dot_graph_from_dict(flat_simplified)\n",
                "dot"
            ]
        },
        {
            "cell_type": "markdown",
            "metadata": {},
            "source": [
                "### Part 2\n"
            ]
        },
        {
            "cell_type": "code",
            "execution_count": null,
            "metadata": {},
            "outputs": [],
            "source": [
                "flat = create_flat_simplified_tuple(flat)\n",
                "couples = make_undirected_graph(flat, bidirectional=True)\n",
                "couples_for_visu = make_undirected_graph(flat, bidirectional=False)\n",
                "\n",
                "\n",
                "visu = construct_dot_graph_from_couples(couples_for_visu)\n",
                "visu"
            ]
        }
    ],
    "metadata": {
        "kernelspec": {
            "display_name": "advent-of-code-CEbbwEIT-py3.10",
            "language": "python",
            "name": "python3"
        },
        "language_info": {
            "codemirror_mode": {
                "name": "ipython",
                "version": 3
            },
            "file_extension": ".py",
            "mimetype": "text/x-python",
            "name": "python",
            "nbconvert_exporter": "python",
            "pygments_lexer": "ipython3",
            "version": "3.12.1"
        }
    },
    "nbformat": 4,
    "nbformat_minor": 2
}
