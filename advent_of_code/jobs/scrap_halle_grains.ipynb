{
 "cells": [
  {
   "cell_type": "code",
   "execution_count": null,
   "metadata": {},
   "outputs": [
    {
     "name": "stdout",
     "output_type": "stream",
     "text": [
      "EventItemData(taxonomy='Grand concert symphonique', title='Dima Slobodeniouk / Mikhaïl Pletnev', href='https://onct.toulouse.fr/agenda/dima-slobodeniouk-mikhail-pletnev/', datetimes=[Timestamp('2024-11-08 20:00:00+0100', tz='UTC+01:00'), Timestamp('2024-11-07 20:00:00+0100', tz='UTC+01:00')])\n",
      "EventItemData(taxonomy='Concert en famille', title='Élodie Fondacci raconte… Le Violon magique', href='https://onct.toulouse.fr/agenda/elodie-fondacci-le-violon-magique-2/', datetimes=[Timestamp('2024-11-17 16:00:00+0100', tz='UTC+01:00'), Timestamp('2024-11-17 11:00:00+0100', tz='UTC+01:00')])\n",
      "EventItemData(taxonomy='Grand concert symphonique', title='Tarmo Peltokoski', href='https://onct.toulouse.fr/agenda/tarmo-peltokoski-241123/', datetimes=[Timestamp('2024-11-23 20:00:00+0100', tz='UTC+01:00')])\n",
      "EventItemData(taxonomy='Ciné-concert', title='Le Dictateur', href='https://onct.toulouse.fr/agenda/le-dictateur-6464578-2/', datetimes=[Timestamp('2024-12-01 16:00:00+0100', tz='UTC+01:00'), Timestamp('2024-11-30 20:00:00+0100', tz='UTC+01:00')])\n",
      "EventItemData(taxonomy='Grand concert symphonique', title='Elim Chan / Jean-Yves Thibaudet', href='https://onct.toulouse.fr/agenda/elim-chan-jean-yves-thibaudet/', datetimes=[Timestamp('2024-12-06 20:00:00+0100', tz='UTC+01:00')])\n",
      "EventItemData(taxonomy='Grand concert symphonique', title='Omer Meir Wellber / Emmanuel Pahud', href='https://onct.toulouse.fr/agenda/omer-meir-wellber-emmanuel-pahud/', datetimes=[Timestamp('2024-12-12 20:00:00+0100', tz='UTC+01:00')])\n",
      "EventItemData(taxonomy='Ciné-concert', title='Le Grand Méchant Renard', href='https://onct.toulouse.fr/agenda/le-grand-mechant-renard-2557916-2/', datetimes=[Timestamp('2024-12-15 16:00:00+0100', tz='UTC+01:00'), Timestamp('2024-12-15 11:00:00+0100', tz='UTC+01:00'), Timestamp('2024-12-14 18:00:00+0100', tz='UTC+01:00')])\n",
      "EventItemData(taxonomy='Grand concert symphonique', title='Tugan Sokhiev', href='https://onct.toulouse.fr/agenda/tugan-sokhiev/', datetimes=[Timestamp('2024-12-19 20:00:00+0100', tz='UTC+01:00')])\n",
      "EventItemData(taxonomy='Concert événement', title='Concert du Nouvel An', href='https://onct.toulouse.fr/agenda/concert-du-nouvel-an-6411314-2/', datetimes=[Timestamp('2025-01-02 20:00:00+0100', tz='UTC+01:00'), Timestamp('2025-01-01 17:00:00+0100', tz='UTC+01:00'), Timestamp('2024-12-31 20:00:00+0100', tz='UTC+01:00')])\n",
      "EventItemData(taxonomy='Grand concert symphonique', title='Tarmo Peltokoski', href='https://onct.toulouse.fr/agenda/tarmo-peltokoski-2431440/', datetimes=[Timestamp('2025-01-11 20:00:00+0100', tz='UTC+01:00')])\n",
      "EventItemData(taxonomy='Concert fantaisie', title='Le Berlioz Trip Orchestra', href='https://onct.toulouse.fr/agenda/le-berlioz-trip-orchestra-2/', datetimes=[Timestamp('2025-01-18 18:00:00+0100', tz='UTC+01:00')])\n",
      "EventItemData(taxonomy='Concert événement', title='Souvenir de Florence', href='https://onct.toulouse.fr/agenda/souvenir-de-florence-5288764/', datetimes=[Timestamp('2025-01-21 20:00:00+0100', tz='UTC+01:00')])\n"
     ]
    }
   ],
   "source": [
    "from dataclasses import dataclass\n",
    "import pandas as pd\n",
    "import re\n",
    "\n",
    "import requests\n",
    "from bs4 import BeautifulSoup\n",
    "\n",
    "\n",
    "@dataclass(frozen=True, kw_only=True)\n",
    "class EventItemData:\n",
    "    taxonomy: str\n",
    "    title: str\n",
    "    href: str\n",
    "    datetimes: list[pd.Timestamp]\n",
    "\n",
    "\n",
    "@dataclass(frozen=True, kw_only=True)\n",
    "class EventDetailsData:\n",
    "    duration: pd.Timedelta\n",
    "    location: str\n",
    "\n",
    "\n",
    "def get_soup(url):\n",
    "    response = requests.get(url)\n",
    "    assert response.status_code == 200\n",
    "    soup = BeautifulSoup(response.content, \"html.parser\")\n",
    "    return soup\n",
    "\n",
    "\n",
    "def parse_event_items(soup: BeautifulSoup) -> list[EventItemData]:\n",
    "    event_items = soup.find_all(\"div\", class_=\"event__item\")\n",
    "    event_item_data_list = []\n",
    "    for event_item in event_items:\n",
    "        times = event_item.find_all(\"time\")\n",
    "        datetimes = [pd.Timestamp(t.attrs[\"datetime\"]) for t in times]\n",
    "        href = event_item.find(\"a\", class_=\"event__item__absolutelink\").attrs[\"href\"]\n",
    "        data = EventItemData(\n",
    "            taxonomy=list(\n",
    "                event_item.find(\"ul\", class_=\"event__taxonomy\").findChildren(\"li\")\n",
    "            )[0].get_text(strip=True),\n",
    "            datetimes=datetimes,\n",
    "            href=href,\n",
    "            title=event_item.find(\"h3\", class_=\"event__item__title\").get_text(\n",
    "                strip=True\n",
    "            ),\n",
    "        )\n",
    "        event_item_data_list.append(data)\n",
    "    return event_item_data_list\n",
    "\n",
    "\n",
    "def parse_event_page(soup: BeautifulSoup) -> EventDetailsData:\n",
    "    numbers = list(\n",
    "        map(\n",
    "            int,\n",
    "            re.findall(\n",
    "                r\"\\d+\",\n",
    "                soup.find(\n",
    "                    \"span\", class_=\"practical-info__item__data\", itemprop=\"duration\"\n",
    "                ).get_text(strip=True),\n",
    "            ),\n",
    "        )\n",
    "    )\n",
    "    duration = (\n",
    "        pd.Timedelta(hours=numbers[0], minutes=numbers[1])\n",
    "        if len(numbers) == 2\n",
    "        else pd.Timedelta(hours=numbers[0])\n",
    "    )\n",
    "    data = {\n",
    "        \"duration\": duration,\n",
    "        \"location\": soup.find(\n",
    "            \"span\", class_=\"practical-info__item__data\", itemprop=\"location\"\n",
    "        ).get_text(strip=True),\n",
    "    }\n",
    "    return EventDetailsData(**data)\n",
    "\n",
    "\n",
    "def get_events_details(event_items: list[EventItemData]) -> list[EventDetailsData]:\n",
    "    event_details_data_list = []\n",
    "    for event_item_data in event_items:\n",
    "        soup = get_soup(event_item_data.href)\n",
    "        event_details_data_list.append(parse_event_page(soup))\n",
    "    return event_details_data_list\n",
    "\n",
    "\n",
    "# URL de la page des événements\n",
    "url = \"https://onct.toulouse.fr/agenda/\"\n",
    "\n",
    "soup = get_soup(url)\n",
    "event_items = parse_event_items(soup)\n",
    "events_details = get_events_details(event_items)"
   ]
  },
  {
   "cell_type": "code",
   "execution_count": 5,
   "metadata": {},
   "outputs": [
    {
     "name": "stdout",
     "output_type": "stream",
     "text": [
      "EventItemData(taxonomy='Grand concert symphonique', title='Dima Slobodeniouk / Mikhaïl Pletnev', href='https://onct.toulouse.fr/agenda/dima-slobodeniouk-mikhail-pletnev/', datetimes=[Timestamp('2024-11-08 20:00:00+0100', tz='UTC+01:00'), Timestamp('2024-11-07 20:00:00+0100', tz='UTC+01:00')])\n",
      "EventItemData(taxonomy='Concert en famille', title='Élodie Fondacci raconte… Le Violon magique', href='https://onct.toulouse.fr/agenda/elodie-fondacci-le-violon-magique-2/', datetimes=[Timestamp('2024-11-17 16:00:00+0100', tz='UTC+01:00'), Timestamp('2024-11-17 11:00:00+0100', tz='UTC+01:00')])\n",
      "EventItemData(taxonomy='Grand concert symphonique', title='Tarmo Peltokoski', href='https://onct.toulouse.fr/agenda/tarmo-peltokoski-241123/', datetimes=[Timestamp('2024-11-23 20:00:00+0100', tz='UTC+01:00')])\n",
      "EventItemData(taxonomy='Ciné-concert', title='Le Dictateur', href='https://onct.toulouse.fr/agenda/le-dictateur-6464578-2/', datetimes=[Timestamp('2024-12-01 16:00:00+0100', tz='UTC+01:00'), Timestamp('2024-11-30 20:00:00+0100', tz='UTC+01:00')])\n",
      "EventItemData(taxonomy='Grand concert symphonique', title='Elim Chan / Jean-Yves Thibaudet', href='https://onct.toulouse.fr/agenda/elim-chan-jean-yves-thibaudet/', datetimes=[Timestamp('2024-12-06 20:00:00+0100', tz='UTC+01:00')])\n",
      "EventItemData(taxonomy='Grand concert symphonique', title='Omer Meir Wellber / Emmanuel Pahud', href='https://onct.toulouse.fr/agenda/omer-meir-wellber-emmanuel-pahud/', datetimes=[Timestamp('2024-12-12 20:00:00+0100', tz='UTC+01:00')])\n",
      "EventItemData(taxonomy='Ciné-concert', title='Le Grand Méchant Renard', href='https://onct.toulouse.fr/agenda/le-grand-mechant-renard-2557916-2/', datetimes=[Timestamp('2024-12-15 16:00:00+0100', tz='UTC+01:00'), Timestamp('2024-12-15 11:00:00+0100', tz='UTC+01:00'), Timestamp('2024-12-14 18:00:00+0100', tz='UTC+01:00')])\n",
      "EventItemData(taxonomy='Grand concert symphonique', title='Tugan Sokhiev', href='https://onct.toulouse.fr/agenda/tugan-sokhiev/', datetimes=[Timestamp('2024-12-19 20:00:00+0100', tz='UTC+01:00')])\n",
      "EventItemData(taxonomy='Concert événement', title='Concert du Nouvel An', href='https://onct.toulouse.fr/agenda/concert-du-nouvel-an-6411314-2/', datetimes=[Timestamp('2025-01-02 20:00:00+0100', tz='UTC+01:00'), Timestamp('2025-01-01 17:00:00+0100', tz='UTC+01:00'), Timestamp('2024-12-31 20:00:00+0100', tz='UTC+01:00')])\n",
      "EventItemData(taxonomy='Grand concert symphonique', title='Tarmo Peltokoski', href='https://onct.toulouse.fr/agenda/tarmo-peltokoski-2431440/', datetimes=[Timestamp('2025-01-11 20:00:00+0100', tz='UTC+01:00')])\n",
      "EventItemData(taxonomy='Concert fantaisie', title='Le Berlioz Trip Orchestra', href='https://onct.toulouse.fr/agenda/le-berlioz-trip-orchestra-2/', datetimes=[Timestamp('2025-01-18 18:00:00+0100', tz='UTC+01:00')])\n",
      "EventItemData(taxonomy='Concert événement', title='Souvenir de Florence', href='https://onct.toulouse.fr/agenda/souvenir-de-florence-5288764/', datetimes=[Timestamp('2025-01-21 20:00:00+0100', tz='UTC+01:00')])\n"
     ]
    },
    {
     "data": {
      "text/plain": [
       "[None, None, None, None, None, None, None, None, None, None, None, None]"
      ]
     },
     "execution_count": 5,
     "metadata": {},
     "output_type": "execute_result"
    }
   ],
   "source": [
    "[print(i) for i in event_items]"
   ]
  },
  {
   "cell_type": "code",
   "execution_count": 6,
   "metadata": {},
   "outputs": [
    {
     "name": "stdout",
     "output_type": "stream",
     "text": [
      "EventDetailsData(duration=Timedelta('0 days 01:30:00'), location='Halle aux Grains')\n",
      "EventDetailsData(duration=Timedelta('0 days 01:15:00'), location='Halle aux Grains')\n",
      "EventDetailsData(duration=Timedelta('0 days 01:45:00'), location='Halle aux Grains')\n",
      "EventDetailsData(duration=Timedelta('0 days 02:05:00'), location='Halle aux Grains')\n",
      "EventDetailsData(duration=Timedelta('0 days 01:45:00'), location='Halle aux Grains')\n",
      "EventDetailsData(duration=Timedelta('0 days 02:00:00'), location='Halle aux Grains')\n",
      "EventDetailsData(duration=Timedelta('0 days 01:30:00'), location='Halle aux Grains')\n",
      "EventDetailsData(duration=Timedelta('0 days 01:40:00'), location='Halle aux Grains')\n",
      "EventDetailsData(duration=Timedelta('0 days 01:10:00'), location='Halle aux Grains')\n",
      "EventDetailsData(duration=Timedelta('0 days 01:10:00'), location='Halle aux Grains')\n",
      "EventDetailsData(duration=Timedelta('0 days 01:00:00'), location='Halle aux Grains')\n",
      "EventDetailsData(duration=Timedelta('0 days 01:30:00'), location=\"Diagora - Centre de Congrès et d'Exposition\")\n"
     ]
    },
    {
     "data": {
      "text/plain": [
       "[None, None, None, None, None, None, None, None, None, None, None, None]"
      ]
     },
     "execution_count": 6,
     "metadata": {},
     "output_type": "execute_result"
    }
   ],
   "source": [
    "[print(i) for i in events_details]"
   ]
  }
 ],
 "metadata": {
  "kernelspec": {
   "display_name": "advent-of-code-CEbbwEIT-py3.13",
   "language": "python",
   "name": "python3"
  },
  "language_info": {
   "codemirror_mode": {
    "name": "ipython",
    "version": 3
   },
   "file_extension": ".py",
   "mimetype": "text/x-python",
   "name": "python",
   "nbconvert_exporter": "python",
   "pygments_lexer": "ipython3",
   "version": "3.13.0"
  }
 },
 "nbformat": 4,
 "nbformat_minor": 2
}
